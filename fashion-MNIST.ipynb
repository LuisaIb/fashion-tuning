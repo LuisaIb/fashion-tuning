{
 "cells": [
  {
   "cell_type": "markdown",
   "metadata": {},
   "source": [
    "# Fashion MNIST - CNN Tuning"
   ]
  },
  {
   "cell_type": "markdown",
   "metadata": {},
   "source": [
    "### Imports"
   ]
  },
  {
   "cell_type": "code",
   "execution_count": 15,
   "metadata": {},
   "outputs": [],
   "source": [
    "import numpy as np\n",
    "import pandas as pd\n",
    "import matplotlib.pyplot as plt\n",
    "\n",
    "import torch\n",
    "import torch.nn as nn\n",
    "from torch.autograd import Variable\n",
    "\n",
    "import torchvision\n",
    "import torchvision.transforms as transforms\n",
    "from torch.utils.data import Dataset, DataLoader, random_split"
   ]
  },
  {
   "cell_type": "markdown",
   "metadata": {},
   "source": [
    "## Business Understanding"
   ]
  },
  {
   "cell_type": "markdown",
   "metadata": {},
   "source": [
    "### Load Data"
   ]
  },
  {
   "cell_type": "code",
   "execution_count": 2,
   "metadata": {},
   "outputs": [
    {
     "name": "stdout",
     "output_type": "stream",
     "text": [
      "Downloading http://fashion-mnist.s3-website.eu-central-1.amazonaws.com/train-images-idx3-ubyte.gz\n",
      "Downloading http://fashion-mnist.s3-website.eu-central-1.amazonaws.com/train-images-idx3-ubyte.gz to ./data\\FashionMNIST\\raw\\train-images-idx3-ubyte.gz\n"
     ]
    },
    {
     "name": "stderr",
     "output_type": "stream",
     "text": [
      "100.0%\n"
     ]
    },
    {
     "name": "stdout",
     "output_type": "stream",
     "text": [
      "Extracting ./data\\FashionMNIST\\raw\\train-images-idx3-ubyte.gz to ./data\\FashionMNIST\\raw\n",
      "\n",
      "Downloading http://fashion-mnist.s3-website.eu-central-1.amazonaws.com/train-labels-idx1-ubyte.gz\n",
      "Downloading http://fashion-mnist.s3-website.eu-central-1.amazonaws.com/train-labels-idx1-ubyte.gz to ./data\\FashionMNIST\\raw\\train-labels-idx1-ubyte.gz\n"
     ]
    },
    {
     "name": "stderr",
     "output_type": "stream",
     "text": [
      "100.0%\n",
      "0.7%"
     ]
    },
    {
     "name": "stdout",
     "output_type": "stream",
     "text": [
      "Extracting ./data\\FashionMNIST\\raw\\train-labels-idx1-ubyte.gz to ./data\\FashionMNIST\\raw\n",
      "\n",
      "Downloading http://fashion-mnist.s3-website.eu-central-1.amazonaws.com/t10k-images-idx3-ubyte.gz\n",
      "Downloading http://fashion-mnist.s3-website.eu-central-1.amazonaws.com/t10k-images-idx3-ubyte.gz to ./data\\FashionMNIST\\raw\\t10k-images-idx3-ubyte.gz\n"
     ]
    },
    {
     "name": "stderr",
     "output_type": "stream",
     "text": [
      "100.0%\n"
     ]
    },
    {
     "name": "stdout",
     "output_type": "stream",
     "text": [
      "Extracting ./data\\FashionMNIST\\raw\\t10k-images-idx3-ubyte.gz to ./data\\FashionMNIST\\raw\n",
      "\n",
      "Downloading http://fashion-mnist.s3-website.eu-central-1.amazonaws.com/t10k-labels-idx1-ubyte.gz\n",
      "Downloading http://fashion-mnist.s3-website.eu-central-1.amazonaws.com/t10k-labels-idx1-ubyte.gz to ./data\\FashionMNIST\\raw\\t10k-labels-idx1-ubyte.gz\n"
     ]
    },
    {
     "name": "stderr",
     "output_type": "stream",
     "text": [
      "100.0%"
     ]
    },
    {
     "name": "stdout",
     "output_type": "stream",
     "text": [
      "Extracting ./data\\FashionMNIST\\raw\\t10k-labels-idx1-ubyte.gz to ./data\\FashionMNIST\\raw\n",
      "\n"
     ]
    },
    {
     "name": "stderr",
     "output_type": "stream",
     "text": [
      "\n"
     ]
    }
   ],
   "source": [
    "train_set = torchvision.datasets.FashionMNIST(\"./data\", download=True, transform=\n",
    "                                                transforms.Compose([transforms.ToTensor()]))\n",
    "test_set = torchvision.datasets.FashionMNIST(\"./data\", download=True, train=False, transform=\n",
    "                                               transforms.Compose([transforms.ToTensor()]))  "
   ]
  },
  {
   "cell_type": "code",
   "execution_count": 3,
   "metadata": {},
   "outputs": [
    {
     "data": {
      "text/plain": [
       "Dataset FashionMNIST\n",
       "    Number of datapoints: 60000\n",
       "    Root location: ./data\n",
       "    Split: Train\n",
       "    StandardTransform\n",
       "Transform: Compose(\n",
       "               ToTensor()\n",
       "           )"
      ]
     },
     "execution_count": 3,
     "metadata": {},
     "output_type": "execute_result"
    }
   ],
   "source": [
    "train_set"
   ]
  },
  {
   "cell_type": "code",
   "execution_count": 4,
   "metadata": {},
   "outputs": [
    {
     "data": {
      "text/plain": [
       "Dataset FashionMNIST\n",
       "    Number of datapoints: 10000\n",
       "    Root location: ./data\n",
       "    Split: Test\n",
       "    StandardTransform\n",
       "Transform: Compose(\n",
       "               ToTensor()\n",
       "           )"
      ]
     },
     "execution_count": 4,
     "metadata": {},
     "output_type": "execute_result"
    }
   ],
   "source": [
    "test_set"
   ]
  },
  {
   "cell_type": "code",
   "execution_count": 5,
   "metadata": {},
   "outputs": [],
   "source": [
    "def output_label(label):\n",
    "    output_mapping = {\n",
    "                 0: \"T-shirt/Top\",\n",
    "                 1: \"Trouser\",\n",
    "                 2: \"Pullover\",\n",
    "                 3: \"Dress\",\n",
    "                 4: \"Coat\", \n",
    "                 5: \"Sandal\", \n",
    "                 6: \"Shirt\",\n",
    "                 7: \"Sneaker\",\n",
    "                 8: \"Bag\",\n",
    "                 9: \"Ankle Boot\"\n",
    "                 }\n",
    "    input = (label.item() if type(label) == torch.Tensor else label)\n",
    "    return output_mapping[input]"
   ]
  },
  {
   "cell_type": "code",
   "execution_count": 6,
   "metadata": {},
   "outputs": [
    {
     "name": "stdout",
     "output_type": "stream",
     "text": [
      "9\n"
     ]
    },
    {
     "data": {
      "image/png": "[encoded data removed]",
      "text/plain": [
       "<Figure size 640x480 with 1 Axes>"
      ]
     },
     "metadata": {},
     "output_type": "display_data"
    }
   ],
   "source": [
    "image, label = next(iter(train_set))\n",
    "plt.imshow(image.squeeze(), cmap=\"gray\")\n",
    "print(label)"
   ]
  },
  {
   "cell_type": "code",
   "execution_count": 7,
   "metadata": {},
   "outputs": [
    {
     "name": "stdout",
     "output_type": "stream",
     "text": [
      "<class 'torch.Tensor'> <class 'torch.Tensor'>\n",
      "torch.Size([10, 1, 28, 28]) torch.Size([10])\n",
      "labels:  Ankle Boot, T-shirt/Top, T-shirt/Top, Dress, T-shirt/Top, Pullover, Sneaker, Pullover, Sandal, Sandal, "
     ]
    },
    {
     "data": {
      "image/png": "[encoded data removed]",
      "text/plain": [
       "<Figure size 1500x2000 with 1 Axes>"
      ]
     },
     "metadata": {},
     "output_type": "display_data"
    }
   ],
   "source": [
    "demo_loader = torch.utils.data.DataLoader(train_set, batch_size=10)\n",
    "\n",
    "batch = next(iter(demo_loader))\n",
    "images, labels = batch\n",
    "print(type(images), type(labels))\n",
    "print(images.shape, labels.shape)\n",
    "\n",
    "grid = torchvision.utils.make_grid(images, nrow=10)\n",
    "\n",
    "plt.figure(figsize=(15, 20))\n",
    "plt.imshow(np.transpose(grid, (1, 2, 0)))\n",
    "print(\"labels: \", end=\" \")\n",
    "for i, label in enumerate(labels):\n",
    "    print(output_label(label), end=\", \")"
   ]
  },
  {
   "cell_type": "code",
   "execution_count": 8,
   "metadata": {},
   "outputs": [
    {
     "data": {
      "text/plain": [
       "Dataset FashionMNIST\n",
       "    Number of datapoints: 60000\n",
       "    Root location: ./data\n",
       "    Split: Train\n",
       "    StandardTransform\n",
       "Transform: Compose(\n",
       "               ToTensor()\n",
       "           )"
      ]
     },
     "execution_count": 8,
     "metadata": {},
     "output_type": "execute_result"
    }
   ],
   "source": [
    "train_set"
   ]
  },
  {
   "cell_type": "markdown",
   "metadata": {},
   "source": [
    "## Data Understanding"
   ]
  },
  {
   "cell_type": "code",
   "execution_count": 9,
   "metadata": {},
   "outputs": [],
   "source": [
    "# Zugriff auf die Labels der Trainings- und Testdatensätze\n",
    "train_labels = train_set.targets\n",
    "test_labels = test_set.targets"
   ]
  },
  {
   "cell_type": "code",
   "execution_count": 10,
   "metadata": {},
   "outputs": [
    {
     "data": {
      "image/png": "[encoded data removed]",
      "text/plain": [
       "<Figure size 1000x600 with 1 Axes>"
      ]
     },
     "metadata": {},
     "output_type": "display_data"
    }
   ],
   "source": [
    "# Erstellen eines Pandas DataFrame, um die Klassenzuordnung und die Anzahl der Samples zu speichern\n",
    "class_distribution = pd.DataFrame({'Class': np.arange(10), 'Count': np.bincount(train_labels)})\n",
    "\n",
    "# Darstellen der Verteilung mit einem Balkendiagramm\n",
    "plt.figure(figsize=(10, 6))\n",
    "plt.bar(class_distribution['Class'], class_distribution['Count'], color='pink')\n",
    "plt.xticks(class_distribution['Class'])\n",
    "plt.xlabel('Klasse')\n",
    "plt.ylabel('Anzahl der Samples')\n",
    "plt.title('Verteilung der Klassen')\n",
    "plt.show()"
   ]
  },
  {
   "cell_type": "code",
   "execution_count": 11,
   "metadata": {},
   "outputs": [
    {
     "data": {
      "image/png": "[encoded data removed]",
      "text/plain": [
       "<Figure size 1200x600 with 5 Axes>"
      ]
     },
     "metadata": {},
     "output_type": "display_data"
    },
    {
     "data": {
      "image/png": "[encoded data removed]",
      "text/plain": [
       "<Figure size 1200x600 with 5 Axes>"
      ]
     },
     "metadata": {},
     "output_type": "display_data"
    }
   ],
   "source": [
    "# Function to display random images with labels\n",
    "def display_random_images(dataset, labels, num_images=5):\n",
    "    # Generate random indices\n",
    "    random_indices = np.random.randint(0, len(dataset), num_images)\n",
    "\n",
    "    # Create a grid of subplots\n",
    "    fig, axs = plt.subplots(1, num_images, figsize=(12, 6))\n",
    "\n",
    "    # Display the random images with labels\n",
    "    for i, idx in enumerate(random_indices):\n",
    "        image, label = dataset[idx]\n",
    "        axs[i].imshow(image.squeeze(), cmap='gray')  # Squeeze the image tensor to remove the channel dimension\n",
    "        axs[i].set_title(f'Label: {label}')\n",
    "        axs[i].axis('off')\n",
    "\n",
    "    plt.show()\n",
    "\n",
    "# Call the function to display 5 random images from the training set\n",
    "display_random_images(train_set, train_labels, num_images=5)\n",
    "\n",
    "# Call the function to display 5 random images from the test set\n",
    "display_random_images(test_set, test_labels, num_images=5)"
   ]
  },
  {
   "cell_type": "code",
   "execution_count": 12,
   "metadata": {},
   "outputs": [
    {
     "name": "stdout",
     "output_type": "stream",
     "text": [
      "   Pixel_0  Pixel_1  Pixel_2  Pixel_3  Pixel_4  Pixel_5  Pixel_6  Pixel_7  \\\n",
      "0        0        0        0        0        0        0        0        0   \n",
      "1        0        0        0        0        0        1        0        0   \n",
      "2        0        0        0        0        0        0        0        0   \n",
      "3        0        0        0        0        0        0        0        0   \n",
      "4        0        0        0        0        0        0        0        0   \n",
      "\n",
      "   Pixel_8  Pixel_9  ...  Pixel_775  Pixel_776  Pixel_777  Pixel_778  \\\n",
      "0        0        0  ...          0          0          0          0   \n",
      "1        0        0  ...        114        130         76          0   \n",
      "2        0       22  ...          0          1          0          0   \n",
      "3       33       96  ...          0          0          0          0   \n",
      "4        0        0  ...          0          0          0          0   \n",
      "\n",
      "   Pixel_779  Pixel_780  Pixel_781  Pixel_782  Pixel_783  Label  \n",
      "0          0          0          0          0          0      9  \n",
      "1          0          0          0          0          0      0  \n",
      "2          0          0          0          0          0      0  \n",
      "3          0          0          0          0          0      3  \n",
      "4          0          0          0          0          0      0  \n",
      "\n",
      "[5 rows x 785 columns]\n",
      "   Pixel_0  Pixel_1  Pixel_2  Pixel_3  Pixel_4  Pixel_5  Pixel_6  Pixel_7  \\\n",
      "0        0        0        0        0        0        0        0        0   \n",
      "1        0        0        0        0        0        0        0        0   \n",
      "2        0        0        0        0        0        0        0        0   \n",
      "3        0        0        0        0        0        0        0        0   \n",
      "4        0        0        0        2        0        1        1        0   \n",
      "\n",
      "   Pixel_8  Pixel_9  ...  Pixel_775  Pixel_776  Pixel_777  Pixel_778  \\\n",
      "0        0        0  ...          0          0          0          0   \n",
      "1        0        0  ...          3          0          3        174   \n",
      "2        1        0  ...         58          0          0          0   \n",
      "3        0       21  ...          0          0          0          0   \n",
      "4        0        0  ...         12          0          0          0   \n",
      "\n",
      "   Pixel_779  Pixel_780  Pixel_781  Pixel_782  Pixel_783  Label  \n",
      "0          0          0          0          0          0      9  \n",
      "1        189         67          0          0          0      2  \n",
      "2          0          0          0          0          0      1  \n",
      "3          0          0          0          0          0      1  \n",
      "4          0          0          0          0          0      6  \n",
      "\n",
      "[5 rows x 785 columns]\n"
     ]
    }
   ],
   "source": [
    "# Flatten the 2-dimensional images to 1-dimensional arrays\n",
    "train_data = train_set.data.numpy().reshape(-1, 28 * 28)\n",
    "test_data = test_set.data.numpy().reshape(-1, 28 * 28)\n",
    "\n",
    "# Convert the datasets to DataFrames\n",
    "train_df = pd.DataFrame(train_data, columns=[f\"Pixel_{i}\" for i in range(28 * 28)])\n",
    "train_df[\"Label\"] = pd.Series(train_set.targets.numpy())\n",
    "\n",
    "test_df = pd.DataFrame(test_data, columns=[f\"Pixel_{i}\" for i in range(28 * 28)])\n",
    "test_df[\"Label\"] = pd.Series(test_set.targets.numpy())\n",
    "\n",
    "# Display the head of the DataFrames (first few rows)\n",
    "print(train_df.head())\n",
    "print(test_df.head())"
   ]
  },
  {
   "cell_type": "code",
   "execution_count": 13,
   "metadata": {},
   "outputs": [
    {
     "name": "stdout",
     "output_type": "stream",
     "text": [
      "Average black pixels in train images: 393.6083\n",
      "Average black pixels in test images: 391.9183\n"
     ]
    }
   ],
   "source": [
    "# Count the number of black pixels in each image\n",
    "train_black_pixel_counts = np.sum(train_data == 0, axis=1)\n",
    "test_black_pixel_counts = np.sum(test_data == 0, axis=1)\n",
    "\n",
    "# Calculate the average number of black pixels across all images\n",
    "train_avg_black_pixels = np.mean(train_black_pixel_counts)\n",
    "test_avg_black_pixels = np.mean(test_black_pixel_counts)\n",
    "\n",
    "print(\"Average black pixels in train images:\", train_avg_black_pixels)\n",
    "print(\"Average black pixels in test images:\", test_avg_black_pixels)\n"
   ]
  },
  {
   "cell_type": "code",
   "execution_count": 14,
   "metadata": {},
   "outputs": [
    {
     "name": "stdout",
     "output_type": "stream",
     "text": [
      "Average black pixels per class in train dataset:\n",
      "Label\n",
      "0    0.406633\n",
      "1    0.650493\n",
      "2    0.350834\n",
      "3    0.571363\n",
      "4    0.397762\n",
      "5    0.677994\n",
      "6    0.370404\n",
      "7    0.661229\n",
      "8    0.413857\n",
      "9    0.514823\n",
      "dtype: float64\n",
      "\n",
      "Average black pixels per class in test dataset:\n",
      "Label\n",
      "0    0.405772\n",
      "1    0.646549\n",
      "2    0.347526\n",
      "3    0.566224\n",
      "4    0.390775\n",
      "5    0.677112\n",
      "6    0.372101\n",
      "7    0.661318\n",
      "8    0.410748\n",
      "9    0.515739\n",
      "dtype: float64\n"
     ]
    }
   ],
   "source": [
    "import numpy as np\n",
    "import pandas as pd\n",
    "\n",
    "\n",
    "train_labels = train_set.targets.numpy()\n",
    "test_labels = test_set.targets.numpy()\n",
    "\n",
    "train_df = pd.DataFrame(train_data, columns=[f\"Pixel_{i}\" for i in range(28 * 28)])\n",
    "train_df[\"Label\"] = pd.Series(train_labels)\n",
    "\n",
    "test_df = pd.DataFrame(test_data, columns=[f\"Pixel_{i}\" for i in range(28 * 28)])\n",
    "test_df[\"Label\"] = pd.Series(test_labels)\n",
    "\n",
    "# Calculate the average number of black pixels per class\n",
    "train_avg_black_pixels_per_class = train_df.groupby('Label').apply(lambda x: (x == 0).mean().mean())\n",
    "test_avg_black_pixels_per_class = test_df.groupby('Label').apply(lambda x: (x == 0).mean().mean())\n",
    "\n",
    "print(\"Average black pixels per class in train dataset:\")\n",
    "print(train_avg_black_pixels_per_class)\n",
    "\n",
    "print(\"\\nAverage black pixels per class in test dataset:\")\n",
    "print(test_avg_black_pixels_per_class)\n"
   ]
  },
  {
   "cell_type": "markdown",
   "metadata": {},
   "source": [
    "## Data Preprocessing"
   ]
  },
  {
   "cell_type": "code",
   "execution_count": 16,
   "metadata": {},
   "outputs": [],
   "source": [
    "# Define the size of your validation set (e.g., 20% of the training set)\n",
    "validation_ratio = 0.2\n",
    "dataset_size = len(train_set)\n",
    "val_size = int(validation_ratio * dataset_size)\n",
    "train_size = dataset_size - val_size\n",
    "\n",
    "# Split the training dataset into training set and validation set\n",
    "train_dataset, val_dataset = random_split(train_set, [train_size, val_size])\n",
    "\n",
    "# Create data loaders for each dataset (training, validation, and test)\n",
    "batch_size = 64\n",
    "train_loader = DataLoader(train_dataset, batch_size=batch_size, shuffle=True)\n",
    "val_loader = DataLoader(val_dataset, batch_size=batch_size, shuffle=False)\n",
    "test_loader = DataLoader(test_set, batch_size=batch_size, shuffle=False)"
   ]
  },
  {
   "cell_type": "code",
   "execution_count": 17,
   "metadata": {},
   "outputs": [
    {
     "data": {
      "text/plain": [
       "<torch.utils.data.dataloader.DataLoader at 0x1d07f5c5a60>"
      ]
     },
     "execution_count": 17,
     "metadata": {},
     "output_type": "execute_result"
    }
   ],
   "source": [
    "train_loader"
   ]
  },
  {
   "cell_type": "markdown",
   "metadata": {},
   "source": [
    "## Modelling"
   ]
  },
  {
   "cell_type": "markdown",
   "metadata": {},
   "source": []
  },
  {
   "cell_type": "markdown",
   "metadata": {},
   "source": [
    "## Evaluation"
   ]
  },
  {
   "cell_type": "code",
   "execution_count": null,
   "metadata": {},
   "outputs": [],
   "source": []
  }
 ],
 "metadata": {
  "kernelspec": {
   "display_name": "tuning",
   "language": "python",
   "name": "python3"
  },
  "language_info": {
   "codemirror_mode": {
    "name": "ipython",
    "version": 3
   },
   "file_extension": ".py",
   "mimetype": "text/x-python",
   "name": "python",
   "nbconvert_exporter": "python",
   "pygments_lexer": "ipython3",
   "version": "3.8.17"
  },
  "orig_nbformat": 4
 },
 "nbformat": 4,
 "nbformat_minor": 2
}
