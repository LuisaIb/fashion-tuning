{
 "cells": [
  {
   "cell_type": "code",
   "execution_count": 2,
   "metadata": {
    "slideshow": {
     "slide_type": "skip"
    }
   },
   "outputs": [
    {
     "name": "stdout",
     "output_type": "stream",
     "text": [
      "The autoreload extension is already loaded. To reload it, use:\n",
      "  %reload_ext autoreload\n"
     ]
    }
   ],
   "source": [
    "%load_ext autoreload\n",
    "%autoreload 2\n",
    "\n",
    "import pandas as pd\n",
    "from matplotlib import pyplot as plt\n",
    "\n",
    "import plotly\n",
    "import plotly.express as px\n",
    "import plotly.graph_objects as go\n",
    "from plotly.subplots import make_subplots\n",
    "import plotly.io as pio\n",
    "import numpy as np\n",
    "\n",
    "import json\n",
    "import glob\n",
    "import random\n",
    "import pickle\n",
    "from tqdm import tqdm\n",
    "\n",
    "import torch\n",
    "import torchvision\n",
    "import torchvision.transforms as transforms\n",
    "\n",
    "import torch.nn as nn\n",
    "import torch.nn.functional as F\n",
    "import torch.optim as optim\n",
    "\n",
    "from torch import nn\n",
    "import torch.nn.functional as F\n",
    "import spotPython.torch.netcore as netcore\n",
    "from numpy import meshgrid, array, ravel\n",
    "\n",
    "from src.eda import EDA\n",
    "eda = EDA()"
   ]
  },
  {
   "cell_type": "code",
   "execution_count": null,
   "metadata": {},
   "outputs": [],
   "source": [
    "torch.manual_seed(40)\n",
    "random.seed(40)\n",
    "np.random.seed(40)"
   ]
  },
  {
   "cell_type": "code",
   "execution_count": 4,
   "metadata": {},
   "outputs": [
    {
     "data": {
      "text/html": [
       "        <script type=\"text/javascript\">\n",
       "        window.PlotlyConfig = {MathJaxConfig: 'local'};\n",
       "        if (window.MathJax && window.MathJax.Hub && window.MathJax.Hub.Config) {window.MathJax.Hub.Config({SVG: {font: \"STIX-Web\"}});}\n",
       "        if (typeof require !== 'undefined') {\n",
       "        require.undef(\"plotly\");\n",
       "        requirejs.config({\n",
       "            paths: {\n",
       "                'plotly': ['https://cdn.plot.ly/plotly-2.25.2.min']\n",
       "            }\n",
       "        });\n",
       "        require(['plotly'], function(Plotly) {\n",
       "            window._Plotly = Plotly;\n",
       "        });\n",
       "        }\n",
       "        </script>\n",
       "        "
      ]
     },
     "metadata": {},
     "output_type": "display_data"
    }
   ],
   "source": [
    "pio.templates.default = \"plotly_white\"\n",
    "plotly.offline.init_notebook_mode(connected=True)"
   ]
  },
  {
   "cell_type": "code",
   "execution_count": 6,
   "metadata": {
    "slideshow": {
     "slide_type": "skip"
    }
   },
   "outputs": [],
   "source": [
    "colors = ['#46039f','#9c179e','#d8576b','#fb9f3a']\n",
    "\n",
    "class FashionCNN(nn.Module):\n",
    "    def __init__(self, l1=64):\n",
    "        super(FashionCNN, self).__init__()\n",
    "        self.conv1 = nn.Conv2d(1, 32, 3, padding=1)\n",
    "        self.conv2 = nn.Conv2d(32, 64, 3, padding=1)\n",
    "        self.pool = nn.MaxPool2d(2, 2)\n",
    "        self.fc1 = nn.Linear(64 * 7 * 7, l1)\n",
    "        self.fc2 = nn.Linear(l1, 10)\n",
    "\n",
    "    def forward(self, x):\n",
    "        x = self.pool(nn.functional.relu(self.conv1(x)))\n",
    "        x = self.pool(nn.functional.relu(self.conv2(x)))\n",
    "        x = x.view(-1, 64 * 7 * 7)\n",
    "        x = nn.functional.relu(self.fc1(x))\n",
    "        x = self.fc2(x)\n",
    "        return x\n",
    "    \n",
    "class Net_FashionMNIST(netcore.Net_Core):\n",
    "    def __init__(self, l1, lr_mult, batch_size, epochs, k_folds, patience,\n",
    "    optimizer, sgd_momentum):\n",
    "        super(Net_FashionMNIST, self).__init__(\n",
    "            lr_mult=lr_mult,\n",
    "            batch_size=batch_size,\n",
    "            epochs=epochs,\n",
    "            k_folds=k_folds,\n",
    "            patience=patience,\n",
    "            optimizer=optimizer,\n",
    "            sgd_momentum=sgd_momentum,\n",
    "        )\n",
    "\n",
    "        self.conv1 = nn.Conv2d(1, 32, 3, padding=1)\n",
    "        self.conv2 = nn.Conv2d(32, 64, 3, padding=1)\n",
    "        self.pool = nn.MaxPool2d(2, 2)\n",
    "        self.fc1 = nn.Linear(64 * 7 * 7, l1)\n",
    "        self.fc2 = nn.Linear(l1, 10)\n",
    "\n",
    "    def forward(self, x):\n",
    "        x = self.pool(F.relu(self.conv1(x)))\n",
    "        x = self.pool(F.relu(self.conv2(x)))\n",
    "        x = x.view(-1, 64 * 7 * 7)\n",
    "        x = F.relu(self.fc1(x))\n",
    "        x = self.fc2(x)\n",
    "        return x\n",
    "\n",
    "class_names = ['T-shirt/top', 'Trouser', 'Pullover', 'Dress', 'Coat', 'Sandal', 'Shirt', 'Sneaker', 'Bag', 'Ankle boot']\n",
    "\n",
    "def load_data(data_dir=\"./data\"):\n",
    "    transform = transforms.Compose(\n",
    "        [transforms.ToTensor(),\n",
    "        transforms.Normalize((0.5,), (0.5,))])\n",
    "\n",
    "    trainset = torchvision.datasets.FashionMNIST(data_dir,\n",
    "        download=True,\n",
    "        train=True,\n",
    "        transform=transform)\n",
    "    testset = torchvision.datasets.FashionMNIST(data_dir,\n",
    "        download=True,\n",
    "        train=False,\n",
    "        transform=transform)\n",
    "\n",
    "    return trainset, testset\n",
    "\n",
    "def train_fashion_mnist(config):\n",
    "    net = FashionCNN(config[\"config.l1\"]) \n",
    "\n",
    "    device = \"cpu\"\n",
    "    if torch.cuda.is_available():\n",
    "        device = \"cuda:0\"\n",
    "        if torch.cuda.device_count() > 1:\n",
    "            net = nn.DataParallel(net)\n",
    "    net.to(device)\n",
    "\n",
    "    # # loading data\n",
    "    trainset, testset = load_data()\n",
    "    \n",
    "    trainloader = torch.utils.data.DataLoader(\n",
    "        trainset, batch_size=config[\"config.batch_size\"], shuffle=True, num_workers=2\n",
    "    )\n",
    "\n",
    "    # defining the loss function and optimizer\n",
    "    criterion = nn.CrossEntropyLoss()\n",
    "    optimizer = optim.SGD(net.parameters(), lr=config[\"config.learning_rate\"])\n",
    "\n",
    "    for epoch in range(config[\"config.epochs\"]):\n",
    "        running_loss = 0.0\n",
    "        epoch_steps = 0\n",
    "        with tqdm(enumerate(trainloader, 0), total=len(trainloader), unit=\"batch\") as epoch_iterator:\n",
    "            for i, data in epoch_iterator:\n",
    "                inputs, labels = data\n",
    "                inputs, labels = inputs.to(device), labels.to(device)\n",
    "\n",
    "                optimizer.zero_grad()\n",
    "\n",
    "                outputs = net(inputs)\n",
    "                loss = criterion(outputs, labels)\n",
    "                loss.backward()\n",
    "                optimizer.step()\n",
    "\n",
    "                running_loss += loss.item()\n",
    "                epoch_steps += 1\n",
    "\n",
    "                if i % 1000 == 999:\n",
    "                    average_loss = running_loss / epoch_steps\n",
    "                    epoch_iterator.set_description(f\"Epoch {epoch+1}, Loss: {average_loss:.3f}\")\n",
    "                    running_loss = 0.0\n",
    "            \n",
    "\n",
    "    print(\"Training finished.\")\n",
    "    return net\n",
    "\n",
    "def test_accuracy(net):\n",
    "    device = \"cpu\"\n",
    "    if torch.cuda.is_available():\n",
    "        device = \"cuda:0\"\n",
    "        if torch.cuda.device_count() > 1:\n",
    "            net = nn.DataParallel(net)\n",
    "    net.to(device)\n",
    "\n",
    "    trainset, testset = load_data()\n",
    "\n",
    "    testloader = torch.utils.data.DataLoader(\n",
    "        testset, batch_size=4, shuffle=False, num_workers=2\n",
    "    )\n",
    "\n",
    "    correct = 0\n",
    "    total = 0\n",
    "    with torch.no_grad():\n",
    "        for data in testloader:\n",
    "            images, labels = data\n",
    "            images, labels = images.to(device), labels.to(device)\n",
    "            outputs = net(images)\n",
    "            _, predicted = torch.max(outputs.data, 1)\n",
    "            total += labels.size(0)\n",
    "            correct += (predicted == labels).sum().item()\n",
    "\n",
    "    return correct / total\n",
    "\n",
    "def test_class_accuracy(net):\n",
    "    device = \"cpu\"\n",
    "    if torch.cuda.is_available():\n",
    "        device = \"cuda:0\"\n",
    "        if torch.cuda.device_count() > 1:\n",
    "            net = nn.DataParallel(net)\n",
    "    net.to(device)\n",
    "\n",
    "    trainset, testset = load_data()\n",
    "\n",
    "    testloader = torch.utils.data.DataLoader(\n",
    "        testset, batch_size=4, shuffle=False, num_workers=2\n",
    "    )\n",
    "\n",
    "    correct_per_class = [0] * len(class_names)\n",
    "    total_per_class = [0] * len(class_names)\n",
    "    correct = 0\n",
    "    total = 0\n",
    "\n",
    "    with torch.no_grad():\n",
    "        for data in testloader:\n",
    "            images, labels = data\n",
    "            images, labels = images.to(device), labels.to(device)\n",
    "            outputs = net(images)\n",
    "            _, predicted = torch.max(outputs.data, 1)\n",
    "            \n",
    "            for i in range(len(labels)):\n",
    "                label = labels[i]\n",
    "                prediction = predicted[i]\n",
    "                if label == prediction:\n",
    "                    correct_per_class[label] += 1\n",
    "                total_per_class[label] += 1\n",
    "            total += labels.size(0)\n",
    "            correct += (predicted == labels).sum().item()\n",
    "\n",
    "    accuracy_per_class = [correct / total * 100 if total > 0 else 0 for correct, total in zip(correct_per_class, total_per_class)]\n",
    "\n",
    "    for i, accuracy in enumerate(accuracy_per_class):\n",
    "        print('Accuracy of {}: {:.2f}%'.format(class_names[i], accuracy))\n",
    "        \n",
    "    accuracy = correct / total\n",
    "    print('Overall Accuracy: {:.2f}%'.format(accuracy * 100))\n",
    "    return accuracy_per_class, accuracy\n",
    "\n",
    "eval_data_path = './evaluation_data/'\n",
    "\n",
    "def experimentPathToDataframe(experiment_path):\n",
    "    df_results = pd.DataFrame()\n",
    "    for file in glob.iglob(experiment_path + '/**/result.json', recursive=True):\n",
    "        print(f\"Loading results from {experiment_path}...\")\n",
    "\n",
    "        df = pd.read_json(file,lines=True)\n",
    "        data = json.loads(df.to_json(orient='records'))\n",
    "        df = pd.json_normalize(data, max_level=1)\n",
    "        df_results = pd.concat([df_results, df], ignore_index=True)\n",
    "\n",
    "    print(f\"----------------------------\\nFound {len(df_results.trial_id.unique())} trials.\")\n",
    "    return df_results\n",
    "\n",
    "def experimentPathToSpotTuner(experiment_path):\n",
    "    with open(experiment_path, 'rb') as f:\n",
    "        spot_tuner =  pickle.load(f)\n",
    "    return spot_tuner\n",
    "\n",
    "def spotTunerToDataFrame(spotTuner):\n",
    "    df = pd.DataFrame(np.concatenate((spotTuner.X, spotTuner.y.reshape(-1, 1)), axis=1), columns=spotTuner.var_name + [\"y\"])\n",
    "    df['l1'] = df['l1'].apply(lambda x: int(2**x))\n",
    "    df['lr_mult'] = df['lr_mult'].apply(lambda x: x*1e-3)\n",
    "    df['batch_size'] = df['batch_size'].apply(lambda x: int(2**x))\n",
    "    df['epochs'] = df['epochs'].apply(lambda x: [5, 10, 15, 20][int(x)])\n",
    "    df = df.rename(columns={'l1': 'config.l1', \n",
    "                            'lr_mult': 'config.learning_rate',\n",
    "                            'batch_size': 'config.batch_size',\n",
    "                            'epochs': 'config.epochs',\n",
    "                            'y': 'mean_val_loss'})\n",
    "    print(f\"----------------------------\\nFound {len(df)} trials.\")\n",
    "    return df\n",
    "\n",
    "def bestConfig(df):\n",
    "    df_tmp = df.groupby('trial_id').max('training_iteration').reset_index()\n",
    "    df_tmp = df_tmp[df_tmp['mean_val_loss'] == df_tmp['mean_val_loss'].min()]\n",
    "    best_config = df_tmp[['mean_val_loss', 'mean_accuracy', 'config.l1', 'config.batch_size', 'config.epochs', 'config.learning_rate']].to_dict(orient='records')[0]\n",
    "    # for key, value in best_config.items():\n",
    "    #     print(f'{key}: {value}') \n",
    "    return best_config\n",
    "\n",
    "def bestConfigSpot(spotTuner):\n",
    "    results = spotTuner.print_results(print_screen=False)\n",
    "    best_config = {\n",
    "        'mean_val_loss': None,\n",
    "        'mean_accuracy': None,\n",
    "        'config.l1': None,\n",
    "        'config.batch_size': None,\n",
    "        'config.epochs': None,\n",
    "        'config.learning_rate': None,\n",
    "    }\n",
    "    for conf in results:\n",
    "        if conf[0] == 'l1':\n",
    "            best_config['config.l1'] = int(2**conf[1])\n",
    "        elif conf[0] == 'batch_size':\n",
    "            best_config['config.batch_size'] = int(2**conf[1])\n",
    "        elif conf[0] == 'epochs':\n",
    "            best_config['config.epochs'] = [5, 10, 15, 20][int(conf[1])]\n",
    "        elif conf[0] == 'lr_mult':\n",
    "            best_config['config.learning_rate'] = conf[1] * 1e-3\n",
    "    return best_config\n",
    "\n",
    "def repeatedTraining(config, iter, file_name):\n",
    "    res = []\n",
    "    for i in range(iter):\n",
    "        torch.manual_seed(i)\n",
    "        random.seed(i)\n",
    "        np.random.seed(i)\n",
    "        score = {'name': file_name}\n",
    "        net = train_fashion_mnist(config)\n",
    "        class_acc, acc = test_class_accuracy(net)\n",
    "        for val, name in zip(class_acc,class_names):\n",
    "            score[name] = val\n",
    "        score['overall'] = acc\n",
    "        res.append(score)\n",
    "        df = pd.DataFrame(res)\n",
    "        df.to_csv(f'./results/evaluation_data/{file_name}.csv')\n",
    "    return df"
   ]
  },
  {
   "cell_type": "code",
   "execution_count": 26,
   "metadata": {
    "slideshow": {
     "slide_type": "skip"
    }
   },
   "outputs": [
    {
     "ename": "FileNotFoundError",
     "evalue": "[Errno 2] No such file or directory: 'experiment_data/e8_spotPython/spot_runs_30-08-2023.pkl'",
     "output_type": "error",
     "traceback": [
      "\u001b[1;31m---------------------------------------------------------------------------\u001b[0m",
      "\u001b[1;31mFileNotFoundError\u001b[0m                         Traceback (most recent call last)",
      "Cell \u001b[1;32mIn[26], line 47\u001b[0m\n\u001b[0;32m     44\u001b[0m e7_reps \u001b[39m=\u001b[39m pd\u001b[39m.\u001b[39mread_csv(\u001b[39mf\u001b[39m\u001b[39m'\u001b[39m\u001b[39m{\u001b[39;00meval_data_path\u001b[39m}\u001b[39;00m\u001b[39m/reps/e7-1_reps.csv\u001b[39m\u001b[39m'\u001b[39m, index_col\u001b[39m=\u001b[39m\u001b[39m0\u001b[39m)\n\u001b[0;32m     45\u001b[0m e8_reps \u001b[39m=\u001b[39m pd\u001b[39m.\u001b[39mread_csv(\u001b[39mf\u001b[39m\u001b[39m'\u001b[39m\u001b[39m{\u001b[39;00meval_data_path\u001b[39m}\u001b[39;00m\u001b[39m/reps/e8-1_reps.csv\u001b[39m\u001b[39m'\u001b[39m, index_col\u001b[39m=\u001b[39m\u001b[39m0\u001b[39m)\n\u001b[1;32m---> 47\u001b[0m spotTuner_e8 \u001b[39m=\u001b[39m experimentPathToSpotTuner(\u001b[39m\"\u001b[39;49m\u001b[39mexperiment_data/e8_spotPython/spot_runs_30-08-2023.pkl\u001b[39;49m\u001b[39m\"\u001b[39;49m)\n\u001b[0;32m     48\u001b[0m df_flat_e8 \u001b[39m=\u001b[39m pd\u001b[39m.\u001b[39mread_csv(\u001b[39mf\u001b[39m\u001b[39m'\u001b[39m\u001b[39m{\u001b[39;00meval_data_path\u001b[39m}\u001b[39;00m\u001b[39m/tuning_logs/e8.csv\u001b[39m\u001b[39m'\u001b[39m, index_col\u001b[39m=\u001b[39m\u001b[39m0\u001b[39m)\n",
      "Cell \u001b[1;32mIn[6], line 200\u001b[0m, in \u001b[0;36mexperimentPathToSpotTuner\u001b[1;34m(experiment_path)\u001b[0m\n\u001b[0;32m    199\u001b[0m \u001b[39mdef\u001b[39;00m \u001b[39mexperimentPathToSpotTuner\u001b[39m(experiment_path):\n\u001b[1;32m--> 200\u001b[0m     \u001b[39mwith\u001b[39;00m \u001b[39mopen\u001b[39;49m(experiment_path, \u001b[39m'\u001b[39;49m\u001b[39mrb\u001b[39;49m\u001b[39m'\u001b[39;49m) \u001b[39mas\u001b[39;00m f:\n\u001b[0;32m    201\u001b[0m         spot_tuner \u001b[39m=\u001b[39m  pickle\u001b[39m.\u001b[39mload(f)\n\u001b[0;32m    202\u001b[0m     \u001b[39mreturn\u001b[39;00m spot_tuner\n",
      "File \u001b[1;32mc:\\Users\\ibele\\anaconda3\\envs\\fashionTuning\\lib\\site-packages\\IPython\\core\\interactiveshell.py:286\u001b[0m, in \u001b[0;36m_modified_open\u001b[1;34m(file, *args, **kwargs)\u001b[0m\n\u001b[0;32m    279\u001b[0m \u001b[39mif\u001b[39;00m file \u001b[39min\u001b[39;00m {\u001b[39m0\u001b[39m, \u001b[39m1\u001b[39m, \u001b[39m2\u001b[39m}:\n\u001b[0;32m    280\u001b[0m     \u001b[39mraise\u001b[39;00m \u001b[39mValueError\u001b[39;00m(\n\u001b[0;32m    281\u001b[0m         \u001b[39mf\u001b[39m\u001b[39m\"\u001b[39m\u001b[39mIPython won\u001b[39m\u001b[39m'\u001b[39m\u001b[39mt let you open fd=\u001b[39m\u001b[39m{\u001b[39;00mfile\u001b[39m}\u001b[39;00m\u001b[39m by default \u001b[39m\u001b[39m\"\u001b[39m\n\u001b[0;32m    282\u001b[0m         \u001b[39m\"\u001b[39m\u001b[39mas it is likely to crash IPython. If you know what you are doing, \u001b[39m\u001b[39m\"\u001b[39m\n\u001b[0;32m    283\u001b[0m         \u001b[39m\"\u001b[39m\u001b[39myou can use builtins\u001b[39m\u001b[39m'\u001b[39m\u001b[39m open.\u001b[39m\u001b[39m\"\u001b[39m\n\u001b[0;32m    284\u001b[0m     )\n\u001b[1;32m--> 286\u001b[0m \u001b[39mreturn\u001b[39;00m io_open(file, \u001b[39m*\u001b[39margs, \u001b[39m*\u001b[39m\u001b[39m*\u001b[39mkwargs)\n",
      "\u001b[1;31mFileNotFoundError\u001b[0m: [Errno 2] No such file or directory: 'experiment_data/e8_spotPython/spot_runs_30-08-2023.pkl'"
     ]
    }
   ],
   "source": [
    "## Load Data\n",
    "df_e2 = pd.read_csv(f'{eval_data_path}/tuning_logs/e2.csv', index_col=0)\n",
    "df_e2[['config.learning_rate']] = df_e2[['config.learning_rate']].astype(float)\n",
    "idx = df_e2.groupby('trial_id')['training_iteration'].idxmax()\n",
    "df_flat_e2 = df_e2.loc[idx,]\n",
    "\n",
    "df_e3 = pd.read_csv(f'{eval_data_path}/tuning_logs/e3.csv', index_col=0)\n",
    "df_e3[['config.learning_rate']] = df_e3[['config.learning_rate']].astype(float)\n",
    "idx = df_e3.groupby('trial_id')['training_iteration'].idxmax()\n",
    "df_flat_e3 = df_e3.loc[idx,]\n",
    "\n",
    "df_e4 = pd.read_csv(f'{eval_data_path}/tuning_logs/e4-1.csv', index_col=0)\n",
    "df_e4[['config.learning_rate']] = df_e4[['config.learning_rate']].astype(float)\n",
    "idx = df_e4.groupby('trial_id')['training_iteration'].idxmax()\n",
    "df_flat_e4 = df_e4.loc[idx,]\n",
    "\n",
    "df_e5 = pd.read_csv(f'{eval_data_path}/tuning_logs/e5-1.csv', index_col=0)\n",
    "df_e5[['config.learning_rate']] = df_e5[['config.learning_rate']].astype(float)\n",
    "idx = df_e5.groupby('trial_id')['training_iteration'].idxmax()\n",
    "df_flat_e5 = df_e5.loc[idx,]\n",
    "\n",
    "df_e6 = pd.read_csv(f'{eval_data_path}/tuning_logs/e6-1.csv', index_col=0)\n",
    "df_e6[['config.learning_rate']] = df_e6[['config.learning_rate']].astype(float)\n",
    "idx = df_e6.groupby('trial_id')['training_iteration'].idxmax()\n",
    "df_flat_e6 = df_e6.loc[idx,]\n",
    "\n",
    "df_e6_log = pd.read_csv(f'{eval_data_path}/tuning_logs/e6.csv', index_col=0)\n",
    "df_e6_log[['config.learning_rate']] = df_e6_log[['config.learning_rate']].astype(float)\n",
    "idx = df_e6_log.groupby('trial_id')['training_iteration'].idxmax()\n",
    "df_flat_e6_log = df_e6_log.loc[idx,]\n",
    "\n",
    "df_e7 = pd.read_csv(f'{eval_data_path}/tuning_logs/e7-1.csv', index_col=0)\n",
    "df_e7[['config.learning_rate']] = df_e7[['config.learning_rate']].astype(float)\n",
    "idx = df_e7.groupby('trial_id')['training_iteration'].idxmax()\n",
    "df_flat_e7 = df_e7.loc[idx,]\n",
    "\n",
    "df_e7_log = pd.read_csv(f'{eval_data_path}/tuning_logs/e7.csv', index_col=0)\n",
    "df_e7_log[['config.learning_rate']] = df_e7_log[['config.learning_rate']].astype(float)\n",
    "idx = df_e7_log.groupby('trial_id')['training_iteration'].idxmax()\n",
    "df_flat_e7_log = df_e7_log.loc[idx,]\n",
    "\n",
    "default_reps = pd.read_csv(f'{eval_data_path}/reps/default_reps.csv', index_col=0)\n",
    "e6_reps = pd.read_csv(f'{eval_data_path}/reps/e6-1_reps.csv', index_col=0)\n",
    "e7_reps = pd.read_csv(f'{eval_data_path}/reps/e7-1_reps.csv', index_col=0)\n",
    "e8_reps = pd.read_csv(f'{eval_data_path}/reps/e8-1_reps.csv', index_col=0)\n",
    "\n",
    "spotTuner_e8 = experimentPathToSpotTuner(\"experiment_data/e8_spotPython/spot_runs_30-08-2023.pkl\")\n",
    "df_flat_e8 = pd.read_csv(f'{eval_data_path}/tuning_logs/e8.csv', index_col=0)"
   ]
  },
  {
   "cell_type": "code",
   "execution_count": 27,
   "metadata": {
    "slideshow": {
     "slide_type": "skip"
    }
   },
   "outputs": [
    {
     "ename": "NameError",
     "evalue": "name 'spotTuner_e8' is not defined",
     "output_type": "error",
     "traceback": [
      "\u001b[1;31m---------------------------------------------------------------------------\u001b[0m",
      "\u001b[1;31mNameError\u001b[0m                                 Traceback (most recent call last)",
      "Cell \u001b[1;32mIn[27], line 13\u001b[0m\n\u001b[0;32m      1\u001b[0m default_config \u001b[39m=\u001b[39m {\n\u001b[0;32m      2\u001b[0m     \u001b[39m'\u001b[39m\u001b[39mmean_val_loss\u001b[39m\u001b[39m'\u001b[39m: \u001b[39mNone\u001b[39;00m,\n\u001b[0;32m      3\u001b[0m     \u001b[39m'\u001b[39m\u001b[39mmean_accuracy\u001b[39m\u001b[39m'\u001b[39m: \u001b[39mNone\u001b[39;00m,\n\u001b[1;32m   (...)\u001b[0m\n\u001b[0;32m      7\u001b[0m     \u001b[39m'\u001b[39m\u001b[39mconfig.learning_rate\u001b[39m\u001b[39m'\u001b[39m: \u001b[39m0.001\u001b[39m,\n\u001b[0;32m      8\u001b[0m }\n\u001b[0;32m     10\u001b[0m configs \u001b[39m=\u001b[39m [default_config,\n\u001b[0;32m     11\u001b[0m            bestConfig(df_e6),\n\u001b[0;32m     12\u001b[0m            bestConfig(df_e7),\n\u001b[1;32m---> 13\u001b[0m            bestConfigSpot(spotTuner_e8)]\n\u001b[0;32m     15\u001b[0m df \u001b[39m=\u001b[39m pd\u001b[39m.\u001b[39mDataFrame(configs)[[\u001b[39m'\u001b[39m\u001b[39mconfig.l1\u001b[39m\u001b[39m'\u001b[39m, \u001b[39m'\u001b[39m\u001b[39mconfig.batch_size\u001b[39m\u001b[39m'\u001b[39m, \u001b[39m'\u001b[39m\u001b[39mconfig.epochs\u001b[39m\u001b[39m'\u001b[39m, \u001b[39m'\u001b[39m\u001b[39mconfig.learning_rate\u001b[39m\u001b[39m'\u001b[39m]]\n\u001b[0;32m     16\u001b[0m df\u001b[39m.\u001b[39mindex \u001b[39m=\u001b[39m [\u001b[39m'\u001b[39m\u001b[39mDefault\u001b[39m\u001b[39m'\u001b[39m, \u001b[39m'\u001b[39m\u001b[39mHyperband\u001b[39m\u001b[39m'\u001b[39m, \u001b[39m'\u001b[39m\u001b[39mRandom Search\u001b[39m\u001b[39m'\u001b[39m, \u001b[39m'\u001b[39m\u001b[39mSMBO\u001b[39m\u001b[39m'\u001b[39m]\n",
      "\u001b[1;31mNameError\u001b[0m: name 'spotTuner_e8' is not defined"
     ]
    }
   ],
   "source": [
    "default_config = {\n",
    "    'mean_val_loss': None,\n",
    "    'mean_accuracy': None,\n",
    "    'config.l1': 64,\n",
    "    'config.batch_size': 64,\n",
    "    'config.epochs': 15,\n",
    "    'config.learning_rate': 0.001,\n",
    "}\n",
    "\n",
    "configs = [default_config,\n",
    "           bestConfig(df_e6),\n",
    "           bestConfig(df_e7),\n",
    "           bestConfigSpot(spotTuner_e8)]\n",
    "\n",
    "df = pd.DataFrame(configs)[['config.l1', 'config.batch_size', 'config.epochs', 'config.learning_rate']]\n",
    "df.index = ['Default', 'Hyperband', 'Random Search', 'SMBO']\n",
    "df['trials'] = ['-', f'{len(df_flat_e6)} (~6h)', f'{len(df_flat_e7)} (~6h)', f'{len(df_flat_e8)} (~6h)']\n",
    "df = df.sort_values(by=['config.l1','config.learning_rate'])\n",
    "df.columns = ['L1 Units', 'Batch Size', 'Epochs', 'Learning Rate', '# Trials']\n",
    "#df.to_csv(f'{eval_data_path}/best_config.csv', index=True)"
   ]
  },
  {
   "cell_type": "markdown",
   "metadata": {
    "slideshow": {
     "slide_type": "slide",
     "theme": "serif"
    }
   },
   "source": [
    "<span style=\"color: #ff6900; font-size: 45px; font-weight: bold;\">Achieving Fashionable Accuracy: Hyperparameter Tuning in Fashion MNIST</span>\n",
    "<br>\n",
    "\n",
    "<p style=\"font-size: 20px; margin-bottom: 5%;\">Lena Hammerer, Luisa Ibele, Isabel Janez, Judith Romer, Hanna Steinwender</p>\n",
    "<br>\n",
    "<br>\n",
    "<table style=\"border-collapse: collapse; border: none; width: 100%; margin-left: 0; padding-left: 0;\">\n",
    "  <tr style=\"border: none;\">\n",
    "    <td style=\"border: none; width: 8%; font-size: 18px;\"><b>Lecture</b></td>\n",
    "    <td style=\"border: none; font-size: 18px;\">Aktuelle Data Science Entwicklungen</td>\n",
    "  </tr>\n",
    "  <tr style=\"border: none;  background-color: white;\">\n",
    "    <td style=\"border: none; font-size: 18px;\"><b>Lecturer</b></td>\n",
    "    <td style=\"border: none; font-size: 18px;\">Prof. Dr. Martin Zaefferer</td>\n",
    "  </tr>\n",
    "  <tr>\n",
    "    <td style=\"border: none;\"></td>\n",
    "    <td style=\"border: none; text-align: right; font-size: 18px;\">06.09.2023</td>\n",
    "</table>"
   ]
  },
  {
   "cell_type": "markdown",
   "metadata": {
    "slideshow": {
     "slide_type": "slide"
    }
   },
   "source": [
    "<div style=\"display: flex; justify-content: space-between; align-items: center; width: 100%;\">\n",
    "    <span style=\"color: #ff6900; font-size: 40px; font-weight: bold;\">Procedure</span>\n",
    "    <span style=\"text-align: right; font-size: 12px;\">Isabel Janez | Judith Romer</span>\n",
    "</div>\n",
    "<br>\n",
    "<img src=\"images/crisp-dm.png\" width=\"650px\" style=\"margin-left: auto; margin-right: auto; display: block;\">\n",
    "<footer style=\"font-size: 10px;\">\n",
    "<p>[1] https://www.kobold.ai/crisp-dm/ </p>"
   ]
  },
  {
   "cell_type": "markdown",
   "metadata": {
    "slideshow": {
     "slide_type": "slide"
    }
   },
   "source": [
    "<div style=\"display: flex; justify-content: space-between; align-items: center; width: 100%;\">\n",
    "    <span style=\"color: #ff6900; font-size: 40px; font-weight: bold;\">Business Understanding</span>\n",
    "    <span style=\"text-align: right; font-size: 12px;\">Isabel Janez | Judith Romer</span>\n",
    "</div>\n",
    "<p style=\"font-size: 18px;\"><i>Discussing and Understanding the Use Case</i></p>"
   ]
  },
  {
   "cell_type": "markdown",
   "metadata": {
    "slideshow": {
     "slide_type": "subslide"
    }
   },
   "source": [
    "<div style=\"display: flex; justify-content: space-between; align-items: center; width: 100%;\">\n",
    "    <span style=\"color: #ff6900; font-size: 35px; font-weight: bold;\">Goal of the Hyperparameter Tuning Project</span>\n",
    "    <span style=\"text-align: right; font-size: 12px;\">Isabel Janez | Judith Romer</span>\n",
    "</div>\n",
    "\n",
    "- Chosen problem from the field of Machine Learning (dataset, model, parameters)\n",
    "- Solve the problem, with empirical investigation, using the approaches from the lecture "
   ]
  },
  {
   "cell_type": "markdown",
   "metadata": {
    "slideshow": {
     "slide_type": "subslide"
    }
   },
   "source": [
    "<div style=\"display: flex; justify-content: space-between; align-items: center; width: 100%;\">\n",
    "    <span style=\"color: #ff6900; font-size: 35px; font-weight: bold;\">Dataset: Fashion-MNIST</span>\n",
    "    <span style=\"text-align: right; font-size: 12px;\">Isabel Janez | Judith Romer</span>\n",
    "</div>\n",
    "<ul>\n",
    "  <li>Image dataset for benchmarking Machine Learning algorithms</li>\n",
    "  <li>Drop-in replacement of MNIST dataset</li>\n",
    "  <li>Dataset based on Zalando's product diversity for men, women, children and neutral</li>\n",
    "  <li>Contains article images with labels of 10 classes</li>\n",
    "  <li>Training set of 60.000 examples and test set of 10.000 examples</li>\n",
    "  <li>Image formats:</li>\n",
    "  <ul>\n",
    "    <li>28x28 grayscale images</li>\n",
    "    <li>No white products due to low contrast to background</li>\n",
    "    <li>Images in different resolutions for frontend components</li>\n",
    "  </ul>\n",
    "</ul>\n",
    "\n",
    "<br>\n",
    "<footer style=\"font-size: 10px;\">\n",
    "<p>[1] Fashion-MNIST: a Novel Image Dataset for Benchmarking Machine Learning Algorithms. Han Xiao, Kashif Rasul, Roland Vollgraf. arXiv: cs.LG/1708.07747 </p>"
   ]
  },
  {
   "cell_type": "markdown",
   "metadata": {
    "slideshow": {
     "slide_type": "subslide"
    }
   },
   "source": [
    "<div style=\"display: flex; justify-content: space-between; align-items: center; width: 100%;\">\n",
    "    <p style=\"color: #ff6900; font-weight: bold; font-size: 25px;\">Why was the Fashion-MNIST dataset created?</p>\n",
    "    <span style=\"text-align: right; font-size: 12px;\">Isabel Janez | Judith Romer</span>\n",
    "</div>\n",
    "\n",
    "- Original MNIST dataset: handwritten digits\n",
    "- MNIST is often used as benchmark to validate algorithms \n",
    "- MNIST is too easy, overused and can not represent modern Computer Vision tasks\n",
    "- Fashion-MNIST intended to serve as a direct drop-in replacement, sharing same images size and the structure of training and testing splits\n",
    "\n",
    "<br>\n",
    "<p style=\"color: #ff6900; font-weight: bold; font-size: 25px;\">The aim of Fashion-MNIST dataset</p>\n",
    "\n",
    "- Good benchmark dataset\n",
    "- Accessibility of MNIST: small size, straightforward encoding and permissive license\n",
    "- A more challenging classification task\n",
    "\n",
    "<br>\n",
    "\n",
    "<footer style=\"font-size: 10px;\">\n",
    "<p>[1] Fashion-MNIST: a Novel Image Dataset for Benchmarking Machine Learning Algorithms. Han Xiao, Kashif Rasul, Roland Vollgraf. arXiv: cs.LG/1708.07747 </p>"
   ]
  },
  {
   "cell_type": "markdown",
   "metadata": {
    "slideshow": {
     "slide_type": "subslide"
    }
   },
   "source": [
    "<div style=\"display: flex; justify-content: space-between; align-items: center; width: 100%;\">\n",
    "    <span style=\"color: #ff6900; font-size: 25px; font-weight: bold;\">Overview of the Dataset</span>\n",
    "    <span style=\"text-align: right; font-size: 12px;\">Isabel Janez | Judith Romer</span>\n",
    "</div>"
   ]
  },
  {
   "cell_type": "code",
   "execution_count": null,
   "metadata": {
    "slideshow": {
     "slide_type": "fragment"
    }
   },
   "outputs": [
    {
     "data": {
      "image/png": "[encoded data removed]",
      "text/plain": [
       "<Figure size 1200x600 with 10 Axes>"
      ]
     },
     "metadata": {},
     "output_type": "display_data"
    }
   ],
   "source": [
    "eda.display_random_images()"
   ]
  },
  {
   "cell_type": "markdown",
   "metadata": {
    "slideshow": {
     "slide_type": "skip"
    }
   },
   "source": [
    "zu erwähnen:\n",
    "- Größe Datensatz\n",
    "- beispielhafte Bilder\n",
    "- wie Aufbau von Datensatz\n",
    "- Balance der Klassen\n",
    "- Pixel Angaben nennen"
   ]
  },
  {
   "cell_type": "markdown",
   "metadata": {
    "slideshow": {
     "slide_type": "slide"
    }
   },
   "source": [
    "<div style=\"display: flex; justify-content: space-between; align-items: center; width: 100%;\">\n",
    "    <span style=\"color: #ff6900; font-size: 40px; font-weight: bold;\">Data Understanding</span>\n",
    "    <span style=\"text-align: right; font-size: 12px;\">Isabel Janez | Judith Romer</span>\n",
    "</div>\n",
    "<p style=\"font-size: 18px;\"><i>Identification and Exploratory Analysis of Appropriate Data</i></p>"
   ]
  },
  {
   "cell_type": "code",
   "execution_count": null,
   "metadata": {
    "slideshow": {
     "slide_type": "skip"
    }
   },
   "outputs": [],
   "source": [
    "trainset, testset = eda.load_data()"
   ]
  },
  {
   "cell_type": "markdown",
   "metadata": {
    "slideshow": {
     "slide_type": "subslide"
    }
   },
   "source": [
    "<div style=\"display: flex; justify-content: space-between; align-items: center; width: 100%;\">\n",
    "    <span style=\"color: #ff6900; font-size: 35px; font-weight: bold;\">Class Distribution</span>\n",
    "    <span style=\"text-align: right; font-size: 12px;\">Isabel Janez | Judith Romer</span>\n",
    "</div>"
   ]
  },
  {
   "cell_type": "code",
   "execution_count": null,
   "metadata": {
    "slideshow": {
     "slide_type": "fragment"
    }
   },
   "outputs": [
    {
     "data": {
      "application/vnd.plotly.v1+json": {
       "config": {
        "plotlyServerURL": "https://plot.ly"
       },
       "data": [
        {
         "marker": {
          "color": "#ff6900"
         },
         "name": "Train Set",
         "textfont": {
          "color": "#000000"
         },
         "type": "bar",
         "x": [
          "T-shirt/top",
          "Trouser",
          "Pullover",
          "Dress",
          "Coat",
          "Sandal",
          "Shirt",
          "Sneaker",
          "Bag",
          "Ankle boot"
         ],
         "xaxis": "x",
         "y": [
          6000,
          6000,
          6000,
          6000,
          6000,
          6000,
          6000,
          6000,
          6000,
          6000
         ],
         "yaxis": "y"
        },
        {
         "marker": {
          "color": "#ff6900"
         },
         "name": "Test Set",
         "textfont": {
          "color": "#000000"
         },
         "type": "bar",
         "x": [
          "T-shirt/top",
          "Trouser",
          "Pullover",
          "Dress",
          "Coat",
          "Sandal",
          "Shirt",
          "Sneaker",
          "Bag",
          "Ankle boot"
         ],
         "xaxis": "x2",
         "y": [
          1000,
          1000,
          1000,
          1000,
          1000,
          1000,
          1000,
          1000,
          1000,
          1000
         ],
         "yaxis": "y2"
        }
       ],
       "layout": {
        "annotations": [
         {
          "font": {
           "size": 16
          },
          "showarrow": false,
          "text": "Train Set",
          "x": 0.5,
          "xanchor": "center",
          "xref": "paper",
          "y": 1,
          "yanchor": "bottom",
          "yref": "paper"
         },
         {
          "font": {
           "size": 16
          },
          "showarrow": false,
          "text": "Test Set",
          "x": 0.5,
          "xanchor": "center",
          "xref": "paper",
          "y": 0.375,
          "yanchor": "bottom",
          "yref": "paper"
         }
        ],
        "barmode": "group",
        "height": 600,
        "margin": {
         "b": 80,
         "l": 30,
         "r": 20,
         "t": 80
        },
        "showlegend": false,
        "template": {
         "data": {
          "bar": [
           {
            "error_x": {
             "color": "#2a3f5f"
            },
            "error_y": {
             "color": "#2a3f5f"
            },
            "marker": {
             "line": {
              "color": "white",
              "width": 0.5
             },
             "pattern": {
              "fillmode": "overlay",
              "size": 10,
              "solidity": 0.2
             }
            },
            "type": "bar"
           }
          ],
          "barpolar": [
           {
            "marker": {
             "line": {
              "color": "white",
              "width": 0.5
             },
             "pattern": {
              "fillmode": "overlay",
              "size": 10,
              "solidity": 0.2
             }
            },
            "type": "barpolar"
           }
          ],
          "carpet": [
           {
            "aaxis": {
             "endlinecolor": "#2a3f5f",
             "gridcolor": "#C8D4E3",
             "linecolor": "#C8D4E3",
             "minorgridcolor": "#C8D4E3",
             "startlinecolor": "#2a3f5f"
            },
            "baxis": {
             "endlinecolor": "#2a3f5f",
             "gridcolor": "#C8D4E3",
             "linecolor": "#C8D4E3",
             "minorgridcolor": "#C8D4E3",
             "startlinecolor": "#2a3f5f"
            },
            "type": "carpet"
           }
          ],
          "choropleth": [
           {
            "colorbar": {
             "outlinewidth": 0,
             "ticks": ""
            },
            "type": "choropleth"
           }
          ],
          "contour": [
           {
            "colorbar": {
             "outlinewidth": 0,
             "ticks": ""
            },
            "colorscale": [
             [
              0,
              "#0d0887"
             ],
             [
              0.1111111111111111,
              "#46039f"
             ],
             [
              0.2222222222222222,
              "#7201a8"
             ],
             [
              0.3333333333333333,
              "#9c179e"
             ],
             [
              0.4444444444444444,
              "#bd3786"
             ],
             [
              0.5555555555555556,
              "#d8576b"
             ],
             [
              0.6666666666666666,
              "#ed7953"
             ],
             [
              0.7777777777777778,
              "#fb9f3a"
             ],
             [
              0.8888888888888888,
              "#fdca26"
             ],
             [
              1,
              "#f0f921"
             ]
            ],
            "type": "contour"
           }
          ],
          "contourcarpet": [
           {
            "colorbar": {
             "outlinewidth": 0,
             "ticks": ""
            },
            "type": "contourcarpet"
           }
          ],
          "heatmap": [
           {
            "colorbar": {
             "outlinewidth": 0,
             "ticks": ""
            },
            "colorscale": [
             [
              0,
              "#0d0887"
             ],
             [
              0.1111111111111111,
              "#46039f"
             ],
             [
              0.2222222222222222,
              "#7201a8"
             ],
             [
              0.3333333333333333,
              "#9c179e"
             ],
             [
              0.4444444444444444,
              "#bd3786"
             ],
             [
              0.5555555555555556,
              "#d8576b"
             ],
             [
              0.6666666666666666,
              "#ed7953"
             ],
             [
              0.7777777777777778,
              "#fb9f3a"
             ],
             [
              0.8888888888888888,
              "#fdca26"
             ],
             [
              1,
              "#f0f921"
             ]
            ],
            "type": "heatmap"
           }
          ],
          "heatmapgl": [
           {
            "colorbar": {
             "outlinewidth": 0,
             "ticks": ""
            },
            "colorscale": [
             [
              0,
              "#0d0887"
             ],
             [
              0.1111111111111111,
              "#46039f"
             ],
             [
              0.2222222222222222,
              "#7201a8"
             ],
             [
              0.3333333333333333,
              "#9c179e"
             ],
             [
              0.4444444444444444,
              "#bd3786"
             ],
             [
              0.5555555555555556,
              "#d8576b"
             ],
             [
              0.6666666666666666,
              "#ed7953"
             ],
             [
              0.7777777777777778,
              "#fb9f3a"
             ],
             [
              0.8888888888888888,
              "#fdca26"
             ],
             [
              1,
              "#f0f921"
             ]
            ],
            "type": "heatmapgl"
           }
          ],
          "histogram": [
           {
            "marker": {
             "pattern": {
              "fillmode": "overlay",
              "size": 10,
              "solidity": 0.2
             }
            },
            "type": "histogram"
           }
          ],
          "histogram2d": [
           {
            "colorbar": {
             "outlinewidth": 0,
             "ticks": ""
            },
            "colorscale": [
             [
              0,
              "#0d0887"
             ],
             [
              0.1111111111111111,
              "#46039f"
             ],
             [
              0.2222222222222222,
              "#7201a8"
             ],
             [
              0.3333333333333333,
              "#9c179e"
             ],
             [
              0.4444444444444444,
              "#bd3786"
             ],
             [
              0.5555555555555556,
              "#d8576b"
             ],
             [
              0.6666666666666666,
              "#ed7953"
             ],
             [
              0.7777777777777778,
              "#fb9f3a"
             ],
             [
              0.8888888888888888,
              "#fdca26"
             ],
             [
              1,
              "#f0f921"
             ]
            ],
            "type": "histogram2d"
           }
          ],
          "histogram2dcontour": [
           {
            "colorbar": {
             "outlinewidth": 0,
             "ticks": ""
            },
            "colorscale": [
             [
              0,
              "#0d0887"
             ],
             [
              0.1111111111111111,
              "#46039f"
             ],
             [
              0.2222222222222222,
              "#7201a8"
             ],
             [
              0.3333333333333333,
              "#9c179e"
             ],
             [
              0.4444444444444444,
              "#bd3786"
             ],
             [
              0.5555555555555556,
              "#d8576b"
             ],
             [
              0.6666666666666666,
              "#ed7953"
             ],
             [
              0.7777777777777778,
              "#fb9f3a"
             ],
             [
              0.8888888888888888,
              "#fdca26"
             ],
             [
              1,
              "#f0f921"
             ]
            ],
            "type": "histogram2dcontour"
           }
          ],
          "mesh3d": [
           {
            "colorbar": {
             "outlinewidth": 0,
             "ticks": ""
            },
            "type": "mesh3d"
           }
          ],
          "parcoords": [
           {
            "line": {
             "colorbar": {
              "outlinewidth": 0,
              "ticks": ""
             }
            },
            "type": "parcoords"
           }
          ],
          "pie": [
           {
            "automargin": true,
            "type": "pie"
           }
          ],
          "scatter": [
           {
            "fillpattern": {
             "fillmode": "overlay",
             "size": 10,
             "solidity": 0.2
            },
            "type": "scatter"
           }
          ],
          "scatter3d": [
           {
            "line": {
             "colorbar": {
              "outlinewidth": 0,
              "ticks": ""
             }
            },
            "marker": {
             "colorbar": {
              "outlinewidth": 0,
              "ticks": ""
             }
            },
            "type": "scatter3d"
           }
          ],
          "scattercarpet": [
           {
            "marker": {
             "colorbar": {
              "outlinewidth": 0,
              "ticks": ""
             }
            },
            "type": "scattercarpet"
           }
          ],
          "scattergeo": [
           {
            "marker": {
             "colorbar": {
              "outlinewidth": 0,
              "ticks": ""
             }
            },
            "type": "scattergeo"
           }
          ],
          "scattergl": [
           {
            "marker": {
             "colorbar": {
              "outlinewidth": 0,
              "ticks": ""
             }
            },
            "type": "scattergl"
           }
          ],
          "scattermapbox": [
           {
            "marker": {
             "colorbar": {
              "outlinewidth": 0,
              "ticks": ""
             }
            },
            "type": "scattermapbox"
           }
          ],
          "scatterpolar": [
           {
            "marker": {
             "colorbar": {
              "outlinewidth": 0,
              "ticks": ""
             }
            },
            "type": "scatterpolar"
           }
          ],
          "scatterpolargl": [
           {
            "marker": {
             "colorbar": {
              "outlinewidth": 0,
              "ticks": ""
             }
            },
            "type": "scatterpolargl"
           }
          ],
          "scatterternary": [
           {
            "marker": {
             "colorbar": {
              "outlinewidth": 0,
              "ticks": ""
             }
            },
            "type": "scatterternary"
           }
          ],
          "surface": [
           {
            "colorbar": {
             "outlinewidth": 0,
             "ticks": ""
            },
            "colorscale": [
             [
              0,
              "#0d0887"
             ],
             [
              0.1111111111111111,
              "#46039f"
             ],
             [
              0.2222222222222222,
              "#7201a8"
             ],
             [
              0.3333333333333333,
              "#9c179e"
             ],
             [
              0.4444444444444444,
              "#bd3786"
             ],
             [
              0.5555555555555556,
              "#d8576b"
             ],
             [
              0.6666666666666666,
              "#ed7953"
             ],
             [
              0.7777777777777778,
              "#fb9f3a"
             ],
             [
              0.8888888888888888,
              "#fdca26"
             ],
             [
              1,
              "#f0f921"
             ]
            ],
            "type": "surface"
           }
          ],
          "table": [
           {
            "cells": {
             "fill": {
              "color": "#EBF0F8"
             },
             "line": {
              "color": "white"
             }
            },
            "header": {
             "fill": {
              "color": "#C8D4E3"
             },
             "line": {
              "color": "white"
             }
            },
            "type": "table"
           }
          ]
         },
         "layout": {
          "annotationdefaults": {
           "arrowcolor": "#2a3f5f",
           "arrowhead": 0,
           "arrowwidth": 1
          },
          "autotypenumbers": "strict",
          "coloraxis": {
           "colorbar": {
            "outlinewidth": 0,
            "ticks": ""
           }
          },
          "colorscale": {
           "diverging": [
            [
             0,
             "#8e0152"
            ],
            [
             0.1,
             "#c51b7d"
            ],
            [
             0.2,
             "#de77ae"
            ],
            [
             0.3,
             "#f1b6da"
            ],
            [
             0.4,
             "#fde0ef"
            ],
            [
             0.5,
             "#f7f7f7"
            ],
            [
             0.6,
             "#e6f5d0"
            ],
            [
             0.7,
             "#b8e186"
            ],
            [
             0.8,
             "#7fbc41"
            ],
            [
             0.9,
             "#4d9221"
            ],
            [
             1,
             "#276419"
            ]
           ],
           "sequential": [
            [
             0,
             "#0d0887"
            ],
            [
             0.1111111111111111,
             "#46039f"
            ],
            [
             0.2222222222222222,
             "#7201a8"
            ],
            [
             0.3333333333333333,
             "#9c179e"
            ],
            [
             0.4444444444444444,
             "#bd3786"
            ],
            [
             0.5555555555555556,
             "#d8576b"
            ],
            [
             0.6666666666666666,
             "#ed7953"
            ],
            [
             0.7777777777777778,
             "#fb9f3a"
            ],
            [
             0.8888888888888888,
             "#fdca26"
            ],
            [
             1,
             "#f0f921"
            ]
           ],
           "sequentialminus": [
            [
             0,
             "#0d0887"
            ],
            [
             0.1111111111111111,
             "#46039f"
            ],
            [
             0.2222222222222222,
             "#7201a8"
            ],
            [
             0.3333333333333333,
             "#9c179e"
            ],
            [
             0.4444444444444444,
             "#bd3786"
            ],
            [
             0.5555555555555556,
             "#d8576b"
            ],
            [
             0.6666666666666666,
             "#ed7953"
            ],
            [
             0.7777777777777778,
             "#fb9f3a"
            ],
            [
             0.8888888888888888,
             "#fdca26"
            ],
            [
             1,
             "#f0f921"
            ]
           ]
          },
          "colorway": [
           "#636efa",
           "#EF553B",
           "#00cc96",
           "#ab63fa",
           "#FFA15A",
           "#19d3f3",
           "#FF6692",
           "#B6E880",
           "#FF97FF",
           "#FECB52"
          ],
          "font": {
           "color": "#2a3f5f"
          },
          "geo": {
           "bgcolor": "white",
           "lakecolor": "white",
           "landcolor": "white",
           "showlakes": true,
           "showland": true,
           "subunitcolor": "#C8D4E3"
          },
          "hoverlabel": {
           "align": "left"
          },
          "hovermode": "closest",
          "mapbox": {
           "style": "light"
          },
          "paper_bgcolor": "white",
          "plot_bgcolor": "white",
          "polar": {
           "angularaxis": {
            "gridcolor": "#EBF0F8",
            "linecolor": "#EBF0F8",
            "ticks": ""
           },
           "bgcolor": "white",
           "radialaxis": {
            "gridcolor": "#EBF0F8",
            "linecolor": "#EBF0F8",
            "ticks": ""
           }
          },
          "scene": {
           "xaxis": {
            "backgroundcolor": "white",
            "gridcolor": "#DFE8F3",
            "gridwidth": 2,
            "linecolor": "#EBF0F8",
            "showbackground": true,
            "ticks": "",
            "zerolinecolor": "#EBF0F8"
           },
           "yaxis": {
            "backgroundcolor": "white",
            "gridcolor": "#DFE8F3",
            "gridwidth": 2,
            "linecolor": "#EBF0F8",
            "showbackground": true,
            "ticks": "",
            "zerolinecolor": "#EBF0F8"
           },
           "zaxis": {
            "backgroundcolor": "white",
            "gridcolor": "#DFE8F3",
            "gridwidth": 2,
            "linecolor": "#EBF0F8",
            "showbackground": true,
            "ticks": "",
            "zerolinecolor": "#EBF0F8"
           }
          },
          "shapedefaults": {
           "line": {
            "color": "#2a3f5f"
           }
          },
          "ternary": {
           "aaxis": {
            "gridcolor": "#DFE8F3",
            "linecolor": "#A2B1C6",
            "ticks": ""
           },
           "baxis": {
            "gridcolor": "#DFE8F3",
            "linecolor": "#A2B1C6",
            "ticks": ""
           },
           "bgcolor": "white",
           "caxis": {
            "gridcolor": "#DFE8F3",
            "linecolor": "#A2B1C6",
            "ticks": ""
           }
          },
          "title": {
           "x": 0.05
          },
          "xaxis": {
           "automargin": true,
           "gridcolor": "#EBF0F8",
           "linecolor": "#EBF0F8",
           "ticks": "",
           "title": {
            "standoff": 15
           },
           "zerolinecolor": "#EBF0F8",
           "zerolinewidth": 2
          },
          "yaxis": {
           "automargin": true,
           "gridcolor": "#EBF0F8",
           "linecolor": "#EBF0F8",
           "ticks": "",
           "title": {
            "standoff": 15
           },
           "zerolinecolor": "#EBF0F8",
           "zerolinewidth": 2
          }
         }
        },
        "title": {
         "font": {
          "color": "#000000",
          "size": 16
         },
         "text": "Class Distributions for Train and Test Sets"
        },
        "xaxis": {
         "anchor": "y",
         "domain": [
          0,
          1
         ],
         "tickangle": 45,
         "tickfont": {
          "color": "#000000"
         }
        },
        "xaxis2": {
         "anchor": "y2",
         "domain": [
          0,
          1
         ],
         "tickangle": 45,
         "tickfont": {
          "color": "#000000"
         }
        },
        "yaxis": {
         "anchor": "x",
         "domain": [
          0.625,
          1
         ],
         "tickfont": {
          "color": "#000000"
         }
        },
        "yaxis2": {
         "anchor": "x2",
         "domain": [
          0,
          0.375
         ],
         "tickfont": {
          "color": "#000000"
         }
        }
       }
      },
      "text/html": [
       "<div>                            <div id=\"a473bf4c-0c46-4136-903f-60371ea622a2\" class=\"plotly-graph-div\" style=\"height:600px; width:100%;\"></div>            <script type=\"text/javascript\">                require([\"plotly\"], function(Plotly) {                    window.PLOTLYENV=window.PLOTLYENV || {};                                    if (document.getElementById(\"a473bf4c-0c46-4136-903f-60371ea622a2\")) {                    Plotly.newPlot(                        \"a473bf4c-0c46-4136-903f-60371ea622a2\",                        [{\"marker\":{\"color\":\"#ff6900\"},\"name\":\"Train Set\",\"x\":[\"T-shirt\\u002ftop\",\"Trouser\",\"Pullover\",\"Dress\",\"Coat\",\"Sandal\",\"Shirt\",\"Sneaker\",\"Bag\",\"Ankle boot\"],\"y\":[6000,6000,6000,6000,6000,6000,6000,6000,6000,6000],\"type\":\"bar\",\"xaxis\":\"x\",\"yaxis\":\"y\",\"textfont\":{\"color\":\"#000000\"}},{\"marker\":{\"color\":\"#ff6900\"},\"name\":\"Test Set\",\"x\":[\"T-shirt\\u002ftop\",\"Trouser\",\"Pullover\",\"Dress\",\"Coat\",\"Sandal\",\"Shirt\",\"Sneaker\",\"Bag\",\"Ankle boot\"],\"y\":[1000,1000,1000,1000,1000,1000,1000,1000,1000,1000],\"type\":\"bar\",\"xaxis\":\"x2\",\"yaxis\":\"y2\",\"textfont\":{\"color\":\"#000000\"}}],                        {\"template\":{\"data\":{\"histogram2dcontour\":[{\"type\":\"histogram2dcontour\",\"colorbar\":{\"outlinewidth\":0,\"ticks\":\"\"},\"colorscale\":[[0.0,\"#0d0887\"],[0.1111111111111111,\"#46039f\"],[0.2222222222222222,\"#7201a8\"],[0.3333333333333333,\"#9c179e\"],[0.4444444444444444,\"#bd3786\"],[0.5555555555555556,\"#d8576b\"],[0.6666666666666666,\"#ed7953\"],[0.7777777777777778,\"#fb9f3a\"],[0.8888888888888888,\"#fdca26\"],[1.0,\"#f0f921\"]]}],\"choropleth\":[{\"type\":\"choropleth\",\"colorbar\":{\"outlinewidth\":0,\"ticks\":\"\"}}],\"histogram2d\":[{\"type\":\"histogram2d\",\"colorbar\":{\"outlinewidth\":0,\"ticks\":\"\"},\"colorscale\":[[0.0,\"#0d0887\"],[0.1111111111111111,\"#46039f\"],[0.2222222222222222,\"#7201a8\"],[0.3333333333333333,\"#9c179e\"],[0.4444444444444444,\"#bd3786\"],[0.5555555555555556,\"#d8576b\"],[0.6666666666666666,\"#ed7953\"],[0.7777777777777778,\"#fb9f3a\"],[0.8888888888888888,\"#fdca26\"],[1.0,\"#f0f921\"]]}],\"heatmap\":[{\"type\":\"heatmap\",\"colorbar\":{\"outlinewidth\":0,\"ticks\":\"\"},\"colorscale\":[[0.0,\"#0d0887\"],[0.1111111111111111,\"#46039f\"],[0.2222222222222222,\"#7201a8\"],[0.3333333333333333,\"#9c179e\"],[0.4444444444444444,\"#bd3786\"],[0.5555555555555556,\"#d8576b\"],[0.6666666666666666,\"#ed7953\"],[0.7777777777777778,\"#fb9f3a\"],[0.8888888888888888,\"#fdca26\"],[1.0,\"#f0f921\"]]}],\"heatmapgl\":[{\"type\":\"heatmapgl\",\"colorbar\":{\"outlinewidth\":0,\"ticks\":\"\"},\"colorscale\":[[0.0,\"#0d0887\"],[0.1111111111111111,\"#46039f\"],[0.2222222222222222,\"#7201a8\"],[0.3333333333333333,\"#9c179e\"],[0.4444444444444444,\"#bd3786\"],[0.5555555555555556,\"#d8576b\"],[0.6666666666666666,\"#ed7953\"],[0.7777777777777778,\"#fb9f3a\"],[0.8888888888888888,\"#fdca26\"],[1.0,\"#f0f921\"]]}],\"contourcarpet\":[{\"type\":\"contourcarpet\",\"colorbar\":{\"outlinewidth\":0,\"ticks\":\"\"}}],\"contour\":[{\"type\":\"contour\",\"colorbar\":{\"outlinewidth\":0,\"ticks\":\"\"},\"colorscale\":[[0.0,\"#0d0887\"],[0.1111111111111111,\"#46039f\"],[0.2222222222222222,\"#7201a8\"],[0.3333333333333333,\"#9c179e\"],[0.4444444444444444,\"#bd3786\"],[0.5555555555555556,\"#d8576b\"],[0.6666666666666666,\"#ed7953\"],[0.7777777777777778,\"#fb9f3a\"],[0.8888888888888888,\"#fdca26\"],[1.0,\"#f0f921\"]]}],\"surface\":[{\"type\":\"surface\",\"colorbar\":{\"outlinewidth\":0,\"ticks\":\"\"},\"colorscale\":[[0.0,\"#0d0887\"],[0.1111111111111111,\"#46039f\"],[0.2222222222222222,\"#7201a8\"],[0.3333333333333333,\"#9c179e\"],[0.4444444444444444,\"#bd3786\"],[0.5555555555555556,\"#d8576b\"],[0.6666666666666666,\"#ed7953\"],[0.7777777777777778,\"#fb9f3a\"],[0.8888888888888888,\"#fdca26\"],[1.0,\"#f0f921\"]]}],\"mesh3d\":[{\"type\":\"mesh3d\",\"colorbar\":{\"outlinewidth\":0,\"ticks\":\"\"}}],\"scatter\":[{\"fillpattern\":{\"fillmode\":\"overlay\",\"size\":10,\"solidity\":0.2},\"type\":\"scatter\"}],\"parcoords\":[{\"type\":\"parcoords\",\"line\":{\"colorbar\":{\"outlinewidth\":0,\"ticks\":\"\"}}}],\"scatterpolargl\":[{\"type\":\"scatterpolargl\",\"marker\":{\"colorbar\":{\"outlinewidth\":0,\"ticks\":\"\"}}}],\"bar\":[{\"error_x\":{\"color\":\"#2a3f5f\"},\"error_y\":{\"color\":\"#2a3f5f\"},\"marker\":{\"line\":{\"color\":\"white\",\"width\":0.5},\"pattern\":{\"fillmode\":\"overlay\",\"size\":10,\"solidity\":0.2}},\"type\":\"bar\"}],\"scattergeo\":[{\"type\":\"scattergeo\",\"marker\":{\"colorbar\":{\"outlinewidth\":0,\"ticks\":\"\"}}}],\"scatterpolar\":[{\"type\":\"scatterpolar\",\"marker\":{\"colorbar\":{\"outlinewidth\":0,\"ticks\":\"\"}}}],\"histogram\":[{\"marker\":{\"pattern\":{\"fillmode\":\"overlay\",\"size\":10,\"solidity\":0.2}},\"type\":\"histogram\"}],\"scattergl\":[{\"type\":\"scattergl\",\"marker\":{\"colorbar\":{\"outlinewidth\":0,\"ticks\":\"\"}}}],\"scatter3d\":[{\"type\":\"scatter3d\",\"line\":{\"colorbar\":{\"outlinewidth\":0,\"ticks\":\"\"}},\"marker\":{\"colorbar\":{\"outlinewidth\":0,\"ticks\":\"\"}}}],\"scattermapbox\":[{\"type\":\"scattermapbox\",\"marker\":{\"colorbar\":{\"outlinewidth\":0,\"ticks\":\"\"}}}],\"scatterternary\":[{\"type\":\"scatterternary\",\"marker\":{\"colorbar\":{\"outlinewidth\":0,\"ticks\":\"\"}}}],\"scattercarpet\":[{\"type\":\"scattercarpet\",\"marker\":{\"colorbar\":{\"outlinewidth\":0,\"ticks\":\"\"}}}],\"carpet\":[{\"aaxis\":{\"endlinecolor\":\"#2a3f5f\",\"gridcolor\":\"#C8D4E3\",\"linecolor\":\"#C8D4E3\",\"minorgridcolor\":\"#C8D4E3\",\"startlinecolor\":\"#2a3f5f\"},\"baxis\":{\"endlinecolor\":\"#2a3f5f\",\"gridcolor\":\"#C8D4E3\",\"linecolor\":\"#C8D4E3\",\"minorgridcolor\":\"#C8D4E3\",\"startlinecolor\":\"#2a3f5f\"},\"type\":\"carpet\"}],\"table\":[{\"cells\":{\"fill\":{\"color\":\"#EBF0F8\"},\"line\":{\"color\":\"white\"}},\"header\":{\"fill\":{\"color\":\"#C8D4E3\"},\"line\":{\"color\":\"white\"}},\"type\":\"table\"}],\"barpolar\":[{\"marker\":{\"line\":{\"color\":\"white\",\"width\":0.5},\"pattern\":{\"fillmode\":\"overlay\",\"size\":10,\"solidity\":0.2}},\"type\":\"barpolar\"}],\"pie\":[{\"automargin\":true,\"type\":\"pie\"}]},\"layout\":{\"autotypenumbers\":\"strict\",\"colorway\":[\"#636efa\",\"#EF553B\",\"#00cc96\",\"#ab63fa\",\"#FFA15A\",\"#19d3f3\",\"#FF6692\",\"#B6E880\",\"#FF97FF\",\"#FECB52\"],\"font\":{\"color\":\"#2a3f5f\"},\"hovermode\":\"closest\",\"hoverlabel\":{\"align\":\"left\"},\"paper_bgcolor\":\"white\",\"plot_bgcolor\":\"white\",\"polar\":{\"bgcolor\":\"white\",\"angularaxis\":{\"gridcolor\":\"#EBF0F8\",\"linecolor\":\"#EBF0F8\",\"ticks\":\"\"},\"radialaxis\":{\"gridcolor\":\"#EBF0F8\",\"linecolor\":\"#EBF0F8\",\"ticks\":\"\"}},\"ternary\":{\"bgcolor\":\"white\",\"aaxis\":{\"gridcolor\":\"#DFE8F3\",\"linecolor\":\"#A2B1C6\",\"ticks\":\"\"},\"baxis\":{\"gridcolor\":\"#DFE8F3\",\"linecolor\":\"#A2B1C6\",\"ticks\":\"\"},\"caxis\":{\"gridcolor\":\"#DFE8F3\",\"linecolor\":\"#A2B1C6\",\"ticks\":\"\"}},\"coloraxis\":{\"colorbar\":{\"outlinewidth\":0,\"ticks\":\"\"}},\"colorscale\":{\"sequential\":[[0.0,\"#0d0887\"],[0.1111111111111111,\"#46039f\"],[0.2222222222222222,\"#7201a8\"],[0.3333333333333333,\"#9c179e\"],[0.4444444444444444,\"#bd3786\"],[0.5555555555555556,\"#d8576b\"],[0.6666666666666666,\"#ed7953\"],[0.7777777777777778,\"#fb9f3a\"],[0.8888888888888888,\"#fdca26\"],[1.0,\"#f0f921\"]],\"sequentialminus\":[[0.0,\"#0d0887\"],[0.1111111111111111,\"#46039f\"],[0.2222222222222222,\"#7201a8\"],[0.3333333333333333,\"#9c179e\"],[0.4444444444444444,\"#bd3786\"],[0.5555555555555556,\"#d8576b\"],[0.6666666666666666,\"#ed7953\"],[0.7777777777777778,\"#fb9f3a\"],[0.8888888888888888,\"#fdca26\"],[1.0,\"#f0f921\"]],\"diverging\":[[0,\"#8e0152\"],[0.1,\"#c51b7d\"],[0.2,\"#de77ae\"],[0.3,\"#f1b6da\"],[0.4,\"#fde0ef\"],[0.5,\"#f7f7f7\"],[0.6,\"#e6f5d0\"],[0.7,\"#b8e186\"],[0.8,\"#7fbc41\"],[0.9,\"#4d9221\"],[1,\"#276419\"]]},\"xaxis\":{\"gridcolor\":\"#EBF0F8\",\"linecolor\":\"#EBF0F8\",\"ticks\":\"\",\"title\":{\"standoff\":15},\"zerolinecolor\":\"#EBF0F8\",\"automargin\":true,\"zerolinewidth\":2},\"yaxis\":{\"gridcolor\":\"#EBF0F8\",\"linecolor\":\"#EBF0F8\",\"ticks\":\"\",\"title\":{\"standoff\":15},\"zerolinecolor\":\"#EBF0F8\",\"automargin\":true,\"zerolinewidth\":2},\"scene\":{\"xaxis\":{\"backgroundcolor\":\"white\",\"gridcolor\":\"#DFE8F3\",\"linecolor\":\"#EBF0F8\",\"showbackground\":true,\"ticks\":\"\",\"zerolinecolor\":\"#EBF0F8\",\"gridwidth\":2},\"yaxis\":{\"backgroundcolor\":\"white\",\"gridcolor\":\"#DFE8F3\",\"linecolor\":\"#EBF0F8\",\"showbackground\":true,\"ticks\":\"\",\"zerolinecolor\":\"#EBF0F8\",\"gridwidth\":2},\"zaxis\":{\"backgroundcolor\":\"white\",\"gridcolor\":\"#DFE8F3\",\"linecolor\":\"#EBF0F8\",\"showbackground\":true,\"ticks\":\"\",\"zerolinecolor\":\"#EBF0F8\",\"gridwidth\":2}},\"shapedefaults\":{\"line\":{\"color\":\"#2a3f5f\"}},\"annotationdefaults\":{\"arrowcolor\":\"#2a3f5f\",\"arrowhead\":0,\"arrowwidth\":1},\"geo\":{\"bgcolor\":\"white\",\"landcolor\":\"white\",\"subunitcolor\":\"#C8D4E3\",\"showland\":true,\"showlakes\":true,\"lakecolor\":\"white\"},\"title\":{\"x\":0.05},\"mapbox\":{\"style\":\"light\"}}},\"xaxis\":{\"anchor\":\"y\",\"domain\":[0.0,1.0],\"tickangle\":45,\"tickfont\":{\"color\":\"#000000\"}},\"yaxis\":{\"anchor\":\"x\",\"domain\":[0.625,1.0],\"tickfont\":{\"color\":\"#000000\"}},\"xaxis2\":{\"anchor\":\"y2\",\"domain\":[0.0,1.0],\"tickangle\":45,\"tickfont\":{\"color\":\"#000000\"}},\"yaxis2\":{\"anchor\":\"x2\",\"domain\":[0.0,0.375],\"tickfont\":{\"color\":\"#000000\"}},\"annotations\":[{\"font\":{\"size\":16},\"showarrow\":false,\"text\":\"Train Set\",\"x\":0.5,\"xanchor\":\"center\",\"xref\":\"paper\",\"y\":1.0,\"yanchor\":\"bottom\",\"yref\":\"paper\"},{\"font\":{\"size\":16},\"showarrow\":false,\"text\":\"Test Set\",\"x\":0.5,\"xanchor\":\"center\",\"xref\":\"paper\",\"y\":0.375,\"yanchor\":\"bottom\",\"yref\":\"paper\"}],\"margin\":{\"t\":80,\"b\":80,\"l\":30,\"r\":20},\"title\":{\"text\":\"Class Distributions for Train and Test Sets\",\"font\":{\"size\":16,\"color\":\"#000000\"}},\"showlegend\":false,\"barmode\":\"group\",\"height\":600},                        {\"responsive\": true}                    ).then(function(){\n",
       "                            \n",
       "var gd = document.getElementById('a473bf4c-0c46-4136-903f-60371ea622a2');\n",
       "var x = new MutationObserver(function (mutations, observer) {{\n",
       "        var display = window.getComputedStyle(gd).display;\n",
       "        if (!display || display === 'none') {{\n",
       "            console.log([gd, 'removed!']);\n",
       "            Plotly.purge(gd);\n",
       "            observer.disconnect();\n",
       "        }}\n",
       "}});\n",
       "\n",
       "// Listen for the removal of the full notebook cells\n",
       "var notebookContainer = gd.closest('#notebook-container');\n",
       "if (notebookContainer) {{\n",
       "    x.observe(notebookContainer, {childList: true});\n",
       "}}\n",
       "\n",
       "// Listen for the clearing of the current output cell\n",
       "var outputEl = gd.closest('.output');\n",
       "if (outputEl) {{\n",
       "    x.observe(outputEl, {childList: true});\n",
       "}}\n",
       "\n",
       "                        })                };                });            </script>        </div>"
      ]
     },
     "metadata": {},
     "output_type": "display_data"
    }
   ],
   "source": [
    "eda.plot_class_distribution(trainset, testset)"
   ]
  },
  {
   "cell_type": "markdown",
   "metadata": {
    "slideshow": {
     "slide_type": "subslide"
    }
   },
   "source": [
    "<div style=\"display: flex; justify-content: space-between; align-items: center; width: 100%;\">\n",
    "    <span style=\"color: #ff6900; font-size: 35px; font-weight: bold;\">Average Black Pixels</span>\n",
    "    <span style=\"text-align: right; font-size: 12px;\">Isabel Janez | Judith Romer</span>\n",
    "</div>"
   ]
  },
  {
   "cell_type": "code",
   "execution_count": null,
   "metadata": {
    "slideshow": {
     "slide_type": "fragment"
    }
   },
   "outputs": [
    {
     "data": {
      "application/vnd.plotly.v1+json": {
       "config": {
        "plotlyServerURL": "https://plot.ly"
       },
       "data": [
        {
         "marker": {
          "color": "#ff6900"
         },
         "text": [
          "318.21",
          "510.64",
          "275.40",
          "448.52",
          "312.24",
          "532.23",
          "290.77",
          "519.06",
          "324.88",
          "404.14"
         ],
         "textfont": {
          "color": "#000000"
         },
         "textposition": "inside",
         "texttemplate": "%{text:.2s}",
         "type": "bar",
         "x": [
          "T-shirt/top",
          "Trouser",
          "Pullover",
          "Dress",
          "Coat",
          "Sandal",
          "Shirt",
          "Sneaker",
          "Bag",
          "Ankle boot"
         ],
         "xaxis": "x",
         "y": [
          318.2066650390625,
          510.6373291015625,
          275.4045104980469,
          448.5199890136719,
          312.2428283691406,
          532.2251586914062,
          290.767333984375,
          519.0648193359375,
          324.87799072265625,
          404.1363220214844
         ],
         "yaxis": "y"
        },
        {
         "marker": {
          "color": "#ff6900"
         },
         "text": [
          "317.53",
          "507.54",
          "272.81",
          "444.49",
          "306.76",
          "531.53",
          "292.10",
          "519.14",
          "322.44",
          "404.86"
         ],
         "textfont": {
          "color": "#000000"
         },
         "textposition": "inside",
         "texttemplate": "%{text:.2s}",
         "type": "bar",
         "x": [
          "T-shirt/top",
          "Trouser",
          "Pullover",
          "Dress",
          "Coat",
          "Sandal",
          "Shirt",
          "Sneaker",
          "Bag",
          "Ankle boot"
         ],
         "xaxis": "x2",
         "y": [
          317.531005859375,
          507.5409851074219,
          272.8080139160156,
          444.4859924316406,
          306.75799560546875,
          531.5330200195312,
          292.0989990234375,
          519.135009765625,
          322.43701171875,
          404.8550109863281
         ],
         "yaxis": "y2"
        }
       ],
       "layout": {
        "annotations": [
         {
          "font": {
           "size": 16
          },
          "showarrow": false,
          "text": "Train Set",
          "x": 0.5,
          "xanchor": "center",
          "xref": "paper",
          "y": 1,
          "yanchor": "bottom",
          "yref": "paper"
         },
         {
          "font": {
           "size": 16
          },
          "showarrow": false,
          "text": "Test Set",
          "x": 0.5,
          "xanchor": "center",
          "xref": "paper",
          "y": 0.375,
          "yanchor": "bottom",
          "yref": "paper"
         }
        ],
        "height": 600,
        "margin": {
         "b": 80,
         "l": 40,
         "r": 20,
         "t": 80
        },
        "showlegend": false,
        "template": {
         "data": {
          "bar": [
           {
            "error_x": {
             "color": "#2a3f5f"
            },
            "error_y": {
             "color": "#2a3f5f"
            },
            "marker": {
             "line": {
              "color": "white",
              "width": 0.5
             },
             "pattern": {
              "fillmode": "overlay",
              "size": 10,
              "solidity": 0.2
             }
            },
            "type": "bar"
           }
          ],
          "barpolar": [
           {
            "marker": {
             "line": {
              "color": "white",
              "width": 0.5
             },
             "pattern": {
              "fillmode": "overlay",
              "size": 10,
              "solidity": 0.2
             }
            },
            "type": "barpolar"
           }
          ],
          "carpet": [
           {
            "aaxis": {
             "endlinecolor": "#2a3f5f",
             "gridcolor": "#C8D4E3",
             "linecolor": "#C8D4E3",
             "minorgridcolor": "#C8D4E3",
             "startlinecolor": "#2a3f5f"
            },
            "baxis": {
             "endlinecolor": "#2a3f5f",
             "gridcolor": "#C8D4E3",
             "linecolor": "#C8D4E3",
             "minorgridcolor": "#C8D4E3",
             "startlinecolor": "#2a3f5f"
            },
            "type": "carpet"
           }
          ],
          "choropleth": [
           {
            "colorbar": {
             "outlinewidth": 0,
             "ticks": ""
            },
            "type": "choropleth"
           }
          ],
          "contour": [
           {
            "colorbar": {
             "outlinewidth": 0,
             "ticks": ""
            },
            "colorscale": [
             [
              0,
              "#0d0887"
             ],
             [
              0.1111111111111111,
              "#46039f"
             ],
             [
              0.2222222222222222,
              "#7201a8"
             ],
             [
              0.3333333333333333,
              "#9c179e"
             ],
             [
              0.4444444444444444,
              "#bd3786"
             ],
             [
              0.5555555555555556,
              "#d8576b"
             ],
             [
              0.6666666666666666,
              "#ed7953"
             ],
             [
              0.7777777777777778,
              "#fb9f3a"
             ],
             [
              0.8888888888888888,
              "#fdca26"
             ],
             [
              1,
              "#f0f921"
             ]
            ],
            "type": "contour"
           }
          ],
          "contourcarpet": [
           {
            "colorbar": {
             "outlinewidth": 0,
             "ticks": ""
            },
            "type": "contourcarpet"
           }
          ],
          "heatmap": [
           {
            "colorbar": {
             "outlinewidth": 0,
             "ticks": ""
            },
            "colorscale": [
             [
              0,
              "#0d0887"
             ],
             [
              0.1111111111111111,
              "#46039f"
             ],
             [
              0.2222222222222222,
              "#7201a8"
             ],
             [
              0.3333333333333333,
              "#9c179e"
             ],
             [
              0.4444444444444444,
              "#bd3786"
             ],
             [
              0.5555555555555556,
              "#d8576b"
             ],
             [
              0.6666666666666666,
              "#ed7953"
             ],
             [
              0.7777777777777778,
              "#fb9f3a"
             ],
             [
              0.8888888888888888,
              "#fdca26"
             ],
             [
              1,
              "#f0f921"
             ]
            ],
            "type": "heatmap"
           }
          ],
          "heatmapgl": [
           {
            "colorbar": {
             "outlinewidth": 0,
             "ticks": ""
            },
            "colorscale": [
             [
              0,
              "#0d0887"
             ],
             [
              0.1111111111111111,
              "#46039f"
             ],
             [
              0.2222222222222222,
              "#7201a8"
             ],
             [
              0.3333333333333333,
              "#9c179e"
             ],
             [
              0.4444444444444444,
              "#bd3786"
             ],
             [
              0.5555555555555556,
              "#d8576b"
             ],
             [
              0.6666666666666666,
              "#ed7953"
             ],
             [
              0.7777777777777778,
              "#fb9f3a"
             ],
             [
              0.8888888888888888,
              "#fdca26"
             ],
             [
              1,
              "#f0f921"
             ]
            ],
            "type": "heatmapgl"
           }
          ],
          "histogram": [
           {
            "marker": {
             "pattern": {
              "fillmode": "overlay",
              "size": 10,
              "solidity": 0.2
             }
            },
            "type": "histogram"
           }
          ],
          "histogram2d": [
           {
            "colorbar": {
             "outlinewidth": 0,
             "ticks": ""
            },
            "colorscale": [
             [
              0,
              "#0d0887"
             ],
             [
              0.1111111111111111,
              "#46039f"
             ],
             [
              0.2222222222222222,
              "#7201a8"
             ],
             [
              0.3333333333333333,
              "#9c179e"
             ],
             [
              0.4444444444444444,
              "#bd3786"
             ],
             [
              0.5555555555555556,
              "#d8576b"
             ],
             [
              0.6666666666666666,
              "#ed7953"
             ],
             [
              0.7777777777777778,
              "#fb9f3a"
             ],
             [
              0.8888888888888888,
              "#fdca26"
             ],
             [
              1,
              "#f0f921"
             ]
            ],
            "type": "histogram2d"
           }
          ],
          "histogram2dcontour": [
           {
            "colorbar": {
             "outlinewidth": 0,
             "ticks": ""
            },
            "colorscale": [
             [
              0,
              "#0d0887"
             ],
             [
              0.1111111111111111,
              "#46039f"
             ],
             [
              0.2222222222222222,
              "#7201a8"
             ],
             [
              0.3333333333333333,
              "#9c179e"
             ],
             [
              0.4444444444444444,
              "#bd3786"
             ],
             [
              0.5555555555555556,
              "#d8576b"
             ],
             [
              0.6666666666666666,
              "#ed7953"
             ],
             [
              0.7777777777777778,
              "#fb9f3a"
             ],
             [
              0.8888888888888888,
              "#fdca26"
             ],
             [
              1,
              "#f0f921"
             ]
            ],
            "type": "histogram2dcontour"
           }
          ],
          "mesh3d": [
           {
            "colorbar": {
             "outlinewidth": 0,
             "ticks": ""
            },
            "type": "mesh3d"
           }
          ],
          "parcoords": [
           {
            "line": {
             "colorbar": {
              "outlinewidth": 0,
              "ticks": ""
             }
            },
            "type": "parcoords"
           }
          ],
          "pie": [
           {
            "automargin": true,
            "type": "pie"
           }
          ],
          "scatter": [
           {
            "fillpattern": {
             "fillmode": "overlay",
             "size": 10,
             "solidity": 0.2
            },
            "type": "scatter"
           }
          ],
          "scatter3d": [
           {
            "line": {
             "colorbar": {
              "outlinewidth": 0,
              "ticks": ""
             }
            },
            "marker": {
             "colorbar": {
              "outlinewidth": 0,
              "ticks": ""
             }
            },
            "type": "scatter3d"
           }
          ],
          "scattercarpet": [
           {
            "marker": {
             "colorbar": {
              "outlinewidth": 0,
              "ticks": ""
             }
            },
            "type": "scattercarpet"
           }
          ],
          "scattergeo": [
           {
            "marker": {
             "colorbar": {
              "outlinewidth": 0,
              "ticks": ""
             }
            },
            "type": "scattergeo"
           }
          ],
          "scattergl": [
           {
            "marker": {
             "colorbar": {
              "outlinewidth": 0,
              "ticks": ""
             }
            },
            "type": "scattergl"
           }
          ],
          "scattermapbox": [
           {
            "marker": {
             "colorbar": {
              "outlinewidth": 0,
              "ticks": ""
             }
            },
            "type": "scattermapbox"
           }
          ],
          "scatterpolar": [
           {
            "marker": {
             "colorbar": {
              "outlinewidth": 0,
              "ticks": ""
             }
            },
            "type": "scatterpolar"
           }
          ],
          "scatterpolargl": [
           {
            "marker": {
             "colorbar": {
              "outlinewidth": 0,
              "ticks": ""
             }
            },
            "type": "scatterpolargl"
           }
          ],
          "scatterternary": [
           {
            "marker": {
             "colorbar": {
              "outlinewidth": 0,
              "ticks": ""
             }
            },
            "type": "scatterternary"
           }
          ],
          "surface": [
           {
            "colorbar": {
             "outlinewidth": 0,
             "ticks": ""
            },
            "colorscale": [
             [
              0,
              "#0d0887"
             ],
             [
              0.1111111111111111,
              "#46039f"
             ],
             [
              0.2222222222222222,
              "#7201a8"
             ],
             [
              0.3333333333333333,
              "#9c179e"
             ],
             [
              0.4444444444444444,
              "#bd3786"
             ],
             [
              0.5555555555555556,
              "#d8576b"
             ],
             [
              0.6666666666666666,
              "#ed7953"
             ],
             [
              0.7777777777777778,
              "#fb9f3a"
             ],
             [
              0.8888888888888888,
              "#fdca26"
             ],
             [
              1,
              "#f0f921"
             ]
            ],
            "type": "surface"
           }
          ],
          "table": [
           {
            "cells": {
             "fill": {
              "color": "#EBF0F8"
             },
             "line": {
              "color": "white"
             }
            },
            "header": {
             "fill": {
              "color": "#C8D4E3"
             },
             "line": {
              "color": "white"
             }
            },
            "type": "table"
           }
          ]
         },
         "layout": {
          "annotationdefaults": {
           "arrowcolor": "#2a3f5f",
           "arrowhead": 0,
           "arrowwidth": 1
          },
          "autotypenumbers": "strict",
          "coloraxis": {
           "colorbar": {
            "outlinewidth": 0,
            "ticks": ""
           }
          },
          "colorscale": {
           "diverging": [
            [
             0,
             "#8e0152"
            ],
            [
             0.1,
             "#c51b7d"
            ],
            [
             0.2,
             "#de77ae"
            ],
            [
             0.3,
             "#f1b6da"
            ],
            [
             0.4,
             "#fde0ef"
            ],
            [
             0.5,
             "#f7f7f7"
            ],
            [
             0.6,
             "#e6f5d0"
            ],
            [
             0.7,
             "#b8e186"
            ],
            [
             0.8,
             "#7fbc41"
            ],
            [
             0.9,
             "#4d9221"
            ],
            [
             1,
             "#276419"
            ]
           ],
           "sequential": [
            [
             0,
             "#0d0887"
            ],
            [
             0.1111111111111111,
             "#46039f"
            ],
            [
             0.2222222222222222,
             "#7201a8"
            ],
            [
             0.3333333333333333,
             "#9c179e"
            ],
            [
             0.4444444444444444,
             "#bd3786"
            ],
            [
             0.5555555555555556,
             "#d8576b"
            ],
            [
             0.6666666666666666,
             "#ed7953"
            ],
            [
             0.7777777777777778,
             "#fb9f3a"
            ],
            [
             0.8888888888888888,
             "#fdca26"
            ],
            [
             1,
             "#f0f921"
            ]
           ],
           "sequentialminus": [
            [
             0,
             "#0d0887"
            ],
            [
             0.1111111111111111,
             "#46039f"
            ],
            [
             0.2222222222222222,
             "#7201a8"
            ],
            [
             0.3333333333333333,
             "#9c179e"
            ],
            [
             0.4444444444444444,
             "#bd3786"
            ],
            [
             0.5555555555555556,
             "#d8576b"
            ],
            [
             0.6666666666666666,
             "#ed7953"
            ],
            [
             0.7777777777777778,
             "#fb9f3a"
            ],
            [
             0.8888888888888888,
             "#fdca26"
            ],
            [
             1,
             "#f0f921"
            ]
           ]
          },
          "colorway": [
           "#636efa",
           "#EF553B",
           "#00cc96",
           "#ab63fa",
           "#FFA15A",
           "#19d3f3",
           "#FF6692",
           "#B6E880",
           "#FF97FF",
           "#FECB52"
          ],
          "font": {
           "color": "#2a3f5f"
          },
          "geo": {
           "bgcolor": "white",
           "lakecolor": "white",
           "landcolor": "white",
           "showlakes": true,
           "showland": true,
           "subunitcolor": "#C8D4E3"
          },
          "hoverlabel": {
           "align": "left"
          },
          "hovermode": "closest",
          "mapbox": {
           "style": "light"
          },
          "paper_bgcolor": "white",
          "plot_bgcolor": "white",
          "polar": {
           "angularaxis": {
            "gridcolor": "#EBF0F8",
            "linecolor": "#EBF0F8",
            "ticks": ""
           },
           "bgcolor": "white",
           "radialaxis": {
            "gridcolor": "#EBF0F8",
            "linecolor": "#EBF0F8",
            "ticks": ""
           }
          },
          "scene": {
           "xaxis": {
            "backgroundcolor": "white",
            "gridcolor": "#DFE8F3",
            "gridwidth": 2,
            "linecolor": "#EBF0F8",
            "showbackground": true,
            "ticks": "",
            "zerolinecolor": "#EBF0F8"
           },
           "yaxis": {
            "backgroundcolor": "white",
            "gridcolor": "#DFE8F3",
            "gridwidth": 2,
            "linecolor": "#EBF0F8",
            "showbackground": true,
            "ticks": "",
            "zerolinecolor": "#EBF0F8"
           },
           "zaxis": {
            "backgroundcolor": "white",
            "gridcolor": "#DFE8F3",
            "gridwidth": 2,
            "linecolor": "#EBF0F8",
            "showbackground": true,
            "ticks": "",
            "zerolinecolor": "#EBF0F8"
           }
          },
          "shapedefaults": {
           "line": {
            "color": "#2a3f5f"
           }
          },
          "ternary": {
           "aaxis": {
            "gridcolor": "#DFE8F3",
            "linecolor": "#A2B1C6",
            "ticks": ""
           },
           "baxis": {
            "gridcolor": "#DFE8F3",
            "linecolor": "#A2B1C6",
            "ticks": ""
           },
           "bgcolor": "white",
           "caxis": {
            "gridcolor": "#DFE8F3",
            "linecolor": "#A2B1C6",
            "ticks": ""
           }
          },
          "title": {
           "x": 0.05
          },
          "xaxis": {
           "automargin": true,
           "gridcolor": "#EBF0F8",
           "linecolor": "#EBF0F8",
           "ticks": "",
           "title": {
            "standoff": 15
           },
           "zerolinecolor": "#EBF0F8",
           "zerolinewidth": 2
          },
          "yaxis": {
           "automargin": true,
           "gridcolor": "#EBF0F8",
           "linecolor": "#EBF0F8",
           "ticks": "",
           "title": {
            "standoff": 15
           },
           "zerolinecolor": "#EBF0F8",
           "zerolinewidth": 2
          }
         }
        },
        "title": {
         "font": {
          "color": "#000000",
          "size": 16
         },
         "text": "Average Number of Black Pixels per Class"
        },
        "xaxis": {
         "anchor": "y",
         "domain": [
          0,
          1
         ],
         "tickangle": 45,
         "tickfont": {
          "color": "#000000"
         }
        },
        "xaxis2": {
         "anchor": "y2",
         "domain": [
          0,
          1
         ],
         "tickangle": 45,
         "tickfont": {
          "color": "#000000"
         }
        },
        "yaxis": {
         "anchor": "x",
         "domain": [
          0.625,
          1
         ],
         "tickfont": {
          "color": "#000000"
         }
        },
        "yaxis2": {
         "anchor": "x2",
         "domain": [
          0,
          0.375
         ],
         "tickfont": {
          "color": "#000000"
         }
        }
       }
      },
      "text/html": [
       "<div>                            <div id=\"7fe4eda8-0fad-466d-bb9b-8906a59a64dc\" class=\"plotly-graph-div\" style=\"height:600px; width:100%;\"></div>            <script type=\"text/javascript\">                require([\"plotly\"], function(Plotly) {                    window.PLOTLYENV=window.PLOTLYENV || {};                                    if (document.getElementById(\"7fe4eda8-0fad-466d-bb9b-8906a59a64dc\")) {                    Plotly.newPlot(                        \"7fe4eda8-0fad-466d-bb9b-8906a59a64dc\",                        [{\"marker\":{\"color\":\"#ff6900\"},\"text\":[\"318.21\",\"510.64\",\"275.40\",\"448.52\",\"312.24\",\"532.23\",\"290.77\",\"519.06\",\"324.88\",\"404.14\"],\"textposition\":\"inside\",\"texttemplate\":\"%{text:.2s}\",\"x\":[\"T-shirt\\u002ftop\",\"Trouser\",\"Pullover\",\"Dress\",\"Coat\",\"Sandal\",\"Shirt\",\"Sneaker\",\"Bag\",\"Ankle boot\"],\"y\":[318.2066650390625,510.6373291015625,275.4045104980469,448.5199890136719,312.2428283691406,532.2251586914062,290.767333984375,519.0648193359375,324.87799072265625,404.1363220214844],\"type\":\"bar\",\"xaxis\":\"x\",\"yaxis\":\"y\",\"textfont\":{\"color\":\"#000000\"}},{\"marker\":{\"color\":\"#ff6900\"},\"text\":[\"317.53\",\"507.54\",\"272.81\",\"444.49\",\"306.76\",\"531.53\",\"292.10\",\"519.14\",\"322.44\",\"404.86\"],\"textposition\":\"inside\",\"texttemplate\":\"%{text:.2s}\",\"x\":[\"T-shirt\\u002ftop\",\"Trouser\",\"Pullover\",\"Dress\",\"Coat\",\"Sandal\",\"Shirt\",\"Sneaker\",\"Bag\",\"Ankle boot\"],\"y\":[317.531005859375,507.5409851074219,272.8080139160156,444.4859924316406,306.75799560546875,531.5330200195312,292.0989990234375,519.135009765625,322.43701171875,404.8550109863281],\"type\":\"bar\",\"xaxis\":\"x2\",\"yaxis\":\"y2\",\"textfont\":{\"color\":\"#000000\"}}],                        {\"template\":{\"data\":{\"histogram2dcontour\":[{\"type\":\"histogram2dcontour\",\"colorbar\":{\"outlinewidth\":0,\"ticks\":\"\"},\"colorscale\":[[0.0,\"#0d0887\"],[0.1111111111111111,\"#46039f\"],[0.2222222222222222,\"#7201a8\"],[0.3333333333333333,\"#9c179e\"],[0.4444444444444444,\"#bd3786\"],[0.5555555555555556,\"#d8576b\"],[0.6666666666666666,\"#ed7953\"],[0.7777777777777778,\"#fb9f3a\"],[0.8888888888888888,\"#fdca26\"],[1.0,\"#f0f921\"]]}],\"choropleth\":[{\"type\":\"choropleth\",\"colorbar\":{\"outlinewidth\":0,\"ticks\":\"\"}}],\"histogram2d\":[{\"type\":\"histogram2d\",\"colorbar\":{\"outlinewidth\":0,\"ticks\":\"\"},\"colorscale\":[[0.0,\"#0d0887\"],[0.1111111111111111,\"#46039f\"],[0.2222222222222222,\"#7201a8\"],[0.3333333333333333,\"#9c179e\"],[0.4444444444444444,\"#bd3786\"],[0.5555555555555556,\"#d8576b\"],[0.6666666666666666,\"#ed7953\"],[0.7777777777777778,\"#fb9f3a\"],[0.8888888888888888,\"#fdca26\"],[1.0,\"#f0f921\"]]}],\"heatmap\":[{\"type\":\"heatmap\",\"colorbar\":{\"outlinewidth\":0,\"ticks\":\"\"},\"colorscale\":[[0.0,\"#0d0887\"],[0.1111111111111111,\"#46039f\"],[0.2222222222222222,\"#7201a8\"],[0.3333333333333333,\"#9c179e\"],[0.4444444444444444,\"#bd3786\"],[0.5555555555555556,\"#d8576b\"],[0.6666666666666666,\"#ed7953\"],[0.7777777777777778,\"#fb9f3a\"],[0.8888888888888888,\"#fdca26\"],[1.0,\"#f0f921\"]]}],\"heatmapgl\":[{\"type\":\"heatmapgl\",\"colorbar\":{\"outlinewidth\":0,\"ticks\":\"\"},\"colorscale\":[[0.0,\"#0d0887\"],[0.1111111111111111,\"#46039f\"],[0.2222222222222222,\"#7201a8\"],[0.3333333333333333,\"#9c179e\"],[0.4444444444444444,\"#bd3786\"],[0.5555555555555556,\"#d8576b\"],[0.6666666666666666,\"#ed7953\"],[0.7777777777777778,\"#fb9f3a\"],[0.8888888888888888,\"#fdca26\"],[1.0,\"#f0f921\"]]}],\"contourcarpet\":[{\"type\":\"contourcarpet\",\"colorbar\":{\"outlinewidth\":0,\"ticks\":\"\"}}],\"contour\":[{\"type\":\"contour\",\"colorbar\":{\"outlinewidth\":0,\"ticks\":\"\"},\"colorscale\":[[0.0,\"#0d0887\"],[0.1111111111111111,\"#46039f\"],[0.2222222222222222,\"#7201a8\"],[0.3333333333333333,\"#9c179e\"],[0.4444444444444444,\"#bd3786\"],[0.5555555555555556,\"#d8576b\"],[0.6666666666666666,\"#ed7953\"],[0.7777777777777778,\"#fb9f3a\"],[0.8888888888888888,\"#fdca26\"],[1.0,\"#f0f921\"]]}],\"surface\":[{\"type\":\"surface\",\"colorbar\":{\"outlinewidth\":0,\"ticks\":\"\"},\"colorscale\":[[0.0,\"#0d0887\"],[0.1111111111111111,\"#46039f\"],[0.2222222222222222,\"#7201a8\"],[0.3333333333333333,\"#9c179e\"],[0.4444444444444444,\"#bd3786\"],[0.5555555555555556,\"#d8576b\"],[0.6666666666666666,\"#ed7953\"],[0.7777777777777778,\"#fb9f3a\"],[0.8888888888888888,\"#fdca26\"],[1.0,\"#f0f921\"]]}],\"mesh3d\":[{\"type\":\"mesh3d\",\"colorbar\":{\"outlinewidth\":0,\"ticks\":\"\"}}],\"scatter\":[{\"fillpattern\":{\"fillmode\":\"overlay\",\"size\":10,\"solidity\":0.2},\"type\":\"scatter\"}],\"parcoords\":[{\"type\":\"parcoords\",\"line\":{\"colorbar\":{\"outlinewidth\":0,\"ticks\":\"\"}}}],\"scatterpolargl\":[{\"type\":\"scatterpolargl\",\"marker\":{\"colorbar\":{\"outlinewidth\":0,\"ticks\":\"\"}}}],\"bar\":[{\"error_x\":{\"color\":\"#2a3f5f\"},\"error_y\":{\"color\":\"#2a3f5f\"},\"marker\":{\"line\":{\"color\":\"white\",\"width\":0.5},\"pattern\":{\"fillmode\":\"overlay\",\"size\":10,\"solidity\":0.2}},\"type\":\"bar\"}],\"scattergeo\":[{\"type\":\"scattergeo\",\"marker\":{\"colorbar\":{\"outlinewidth\":0,\"ticks\":\"\"}}}],\"scatterpolar\":[{\"type\":\"scatterpolar\",\"marker\":{\"colorbar\":{\"outlinewidth\":0,\"ticks\":\"\"}}}],\"histogram\":[{\"marker\":{\"pattern\":{\"fillmode\":\"overlay\",\"size\":10,\"solidity\":0.2}},\"type\":\"histogram\"}],\"scattergl\":[{\"type\":\"scattergl\",\"marker\":{\"colorbar\":{\"outlinewidth\":0,\"ticks\":\"\"}}}],\"scatter3d\":[{\"type\":\"scatter3d\",\"line\":{\"colorbar\":{\"outlinewidth\":0,\"ticks\":\"\"}},\"marker\":{\"colorbar\":{\"outlinewidth\":0,\"ticks\":\"\"}}}],\"scattermapbox\":[{\"type\":\"scattermapbox\",\"marker\":{\"colorbar\":{\"outlinewidth\":0,\"ticks\":\"\"}}}],\"scatterternary\":[{\"type\":\"scatterternary\",\"marker\":{\"colorbar\":{\"outlinewidth\":0,\"ticks\":\"\"}}}],\"scattercarpet\":[{\"type\":\"scattercarpet\",\"marker\":{\"colorbar\":{\"outlinewidth\":0,\"ticks\":\"\"}}}],\"carpet\":[{\"aaxis\":{\"endlinecolor\":\"#2a3f5f\",\"gridcolor\":\"#C8D4E3\",\"linecolor\":\"#C8D4E3\",\"minorgridcolor\":\"#C8D4E3\",\"startlinecolor\":\"#2a3f5f\"},\"baxis\":{\"endlinecolor\":\"#2a3f5f\",\"gridcolor\":\"#C8D4E3\",\"linecolor\":\"#C8D4E3\",\"minorgridcolor\":\"#C8D4E3\",\"startlinecolor\":\"#2a3f5f\"},\"type\":\"carpet\"}],\"table\":[{\"cells\":{\"fill\":{\"color\":\"#EBF0F8\"},\"line\":{\"color\":\"white\"}},\"header\":{\"fill\":{\"color\":\"#C8D4E3\"},\"line\":{\"color\":\"white\"}},\"type\":\"table\"}],\"barpolar\":[{\"marker\":{\"line\":{\"color\":\"white\",\"width\":0.5},\"pattern\":{\"fillmode\":\"overlay\",\"size\":10,\"solidity\":0.2}},\"type\":\"barpolar\"}],\"pie\":[{\"automargin\":true,\"type\":\"pie\"}]},\"layout\":{\"autotypenumbers\":\"strict\",\"colorway\":[\"#636efa\",\"#EF553B\",\"#00cc96\",\"#ab63fa\",\"#FFA15A\",\"#19d3f3\",\"#FF6692\",\"#B6E880\",\"#FF97FF\",\"#FECB52\"],\"font\":{\"color\":\"#2a3f5f\"},\"hovermode\":\"closest\",\"hoverlabel\":{\"align\":\"left\"},\"paper_bgcolor\":\"white\",\"plot_bgcolor\":\"white\",\"polar\":{\"bgcolor\":\"white\",\"angularaxis\":{\"gridcolor\":\"#EBF0F8\",\"linecolor\":\"#EBF0F8\",\"ticks\":\"\"},\"radialaxis\":{\"gridcolor\":\"#EBF0F8\",\"linecolor\":\"#EBF0F8\",\"ticks\":\"\"}},\"ternary\":{\"bgcolor\":\"white\",\"aaxis\":{\"gridcolor\":\"#DFE8F3\",\"linecolor\":\"#A2B1C6\",\"ticks\":\"\"},\"baxis\":{\"gridcolor\":\"#DFE8F3\",\"linecolor\":\"#A2B1C6\",\"ticks\":\"\"},\"caxis\":{\"gridcolor\":\"#DFE8F3\",\"linecolor\":\"#A2B1C6\",\"ticks\":\"\"}},\"coloraxis\":{\"colorbar\":{\"outlinewidth\":0,\"ticks\":\"\"}},\"colorscale\":{\"sequential\":[[0.0,\"#0d0887\"],[0.1111111111111111,\"#46039f\"],[0.2222222222222222,\"#7201a8\"],[0.3333333333333333,\"#9c179e\"],[0.4444444444444444,\"#bd3786\"],[0.5555555555555556,\"#d8576b\"],[0.6666666666666666,\"#ed7953\"],[0.7777777777777778,\"#fb9f3a\"],[0.8888888888888888,\"#fdca26\"],[1.0,\"#f0f921\"]],\"sequentialminus\":[[0.0,\"#0d0887\"],[0.1111111111111111,\"#46039f\"],[0.2222222222222222,\"#7201a8\"],[0.3333333333333333,\"#9c179e\"],[0.4444444444444444,\"#bd3786\"],[0.5555555555555556,\"#d8576b\"],[0.6666666666666666,\"#ed7953\"],[0.7777777777777778,\"#fb9f3a\"],[0.8888888888888888,\"#fdca26\"],[1.0,\"#f0f921\"]],\"diverging\":[[0,\"#8e0152\"],[0.1,\"#c51b7d\"],[0.2,\"#de77ae\"],[0.3,\"#f1b6da\"],[0.4,\"#fde0ef\"],[0.5,\"#f7f7f7\"],[0.6,\"#e6f5d0\"],[0.7,\"#b8e186\"],[0.8,\"#7fbc41\"],[0.9,\"#4d9221\"],[1,\"#276419\"]]},\"xaxis\":{\"gridcolor\":\"#EBF0F8\",\"linecolor\":\"#EBF0F8\",\"ticks\":\"\",\"title\":{\"standoff\":15},\"zerolinecolor\":\"#EBF0F8\",\"automargin\":true,\"zerolinewidth\":2},\"yaxis\":{\"gridcolor\":\"#EBF0F8\",\"linecolor\":\"#EBF0F8\",\"ticks\":\"\",\"title\":{\"standoff\":15},\"zerolinecolor\":\"#EBF0F8\",\"automargin\":true,\"zerolinewidth\":2},\"scene\":{\"xaxis\":{\"backgroundcolor\":\"white\",\"gridcolor\":\"#DFE8F3\",\"linecolor\":\"#EBF0F8\",\"showbackground\":true,\"ticks\":\"\",\"zerolinecolor\":\"#EBF0F8\",\"gridwidth\":2},\"yaxis\":{\"backgroundcolor\":\"white\",\"gridcolor\":\"#DFE8F3\",\"linecolor\":\"#EBF0F8\",\"showbackground\":true,\"ticks\":\"\",\"zerolinecolor\":\"#EBF0F8\",\"gridwidth\":2},\"zaxis\":{\"backgroundcolor\":\"white\",\"gridcolor\":\"#DFE8F3\",\"linecolor\":\"#EBF0F8\",\"showbackground\":true,\"ticks\":\"\",\"zerolinecolor\":\"#EBF0F8\",\"gridwidth\":2}},\"shapedefaults\":{\"line\":{\"color\":\"#2a3f5f\"}},\"annotationdefaults\":{\"arrowcolor\":\"#2a3f5f\",\"arrowhead\":0,\"arrowwidth\":1},\"geo\":{\"bgcolor\":\"white\",\"landcolor\":\"white\",\"subunitcolor\":\"#C8D4E3\",\"showland\":true,\"showlakes\":true,\"lakecolor\":\"white\"},\"title\":{\"x\":0.05},\"mapbox\":{\"style\":\"light\"}}},\"xaxis\":{\"anchor\":\"y\",\"domain\":[0.0,1.0],\"tickangle\":45,\"tickfont\":{\"color\":\"#000000\"}},\"yaxis\":{\"anchor\":\"x\",\"domain\":[0.625,1.0],\"tickfont\":{\"color\":\"#000000\"}},\"xaxis2\":{\"anchor\":\"y2\",\"domain\":[0.0,1.0],\"tickangle\":45,\"tickfont\":{\"color\":\"#000000\"}},\"yaxis2\":{\"anchor\":\"x2\",\"domain\":[0.0,0.375],\"tickfont\":{\"color\":\"#000000\"}},\"annotations\":[{\"font\":{\"size\":16},\"showarrow\":false,\"text\":\"Train Set\",\"x\":0.5,\"xanchor\":\"center\",\"xref\":\"paper\",\"y\":1.0,\"yanchor\":\"bottom\",\"yref\":\"paper\"},{\"font\":{\"size\":16},\"showarrow\":false,\"text\":\"Test Set\",\"x\":0.5,\"xanchor\":\"center\",\"xref\":\"paper\",\"y\":0.375,\"yanchor\":\"bottom\",\"yref\":\"paper\"}],\"margin\":{\"t\":80,\"b\":80,\"l\":40,\"r\":20},\"title\":{\"text\":\"Average Number of Black Pixels per Class\",\"font\":{\"size\":16,\"color\":\"#000000\"}},\"showlegend\":false,\"height\":600},                        {\"responsive\": true}                    ).then(function(){\n",
       "                            \n",
       "var gd = document.getElementById('7fe4eda8-0fad-466d-bb9b-8906a59a64dc');\n",
       "var x = new MutationObserver(function (mutations, observer) {{\n",
       "        var display = window.getComputedStyle(gd).display;\n",
       "        if (!display || display === 'none') {{\n",
       "            console.log([gd, 'removed!']);\n",
       "            Plotly.purge(gd);\n",
       "            observer.disconnect();\n",
       "        }}\n",
       "}});\n",
       "\n",
       "// Listen for the removal of the full notebook cells\n",
       "var notebookContainer = gd.closest('#notebook-container');\n",
       "if (notebookContainer) {{\n",
       "    x.observe(notebookContainer, {childList: true});\n",
       "}}\n",
       "\n",
       "// Listen for the clearing of the current output cell\n",
       "var outputEl = gd.closest('.output');\n",
       "if (outputEl) {{\n",
       "    x.observe(outputEl, {childList: true});\n",
       "}}\n",
       "\n",
       "                        })                };                });            </script>        </div>"
      ]
     },
     "metadata": {},
     "output_type": "display_data"
    }
   ],
   "source": [
    "eda.display_average_black_pixels(trainset, testset)"
   ]
  },
  {
   "cell_type": "markdown",
   "metadata": {
    "slideshow": {
     "slide_type": "slide"
    }
   },
   "source": [
    "<div style=\"display: flex; justify-content: space-between; align-items: center; width: 100%;\">\n",
    "    <span style=\"color: #ff6900; font-size: 40px; font-weight: bold;\">Data Preparation</span>\n",
    "    <span style=\"text-align: right; font-size: 12px;\">Isabel Janez | Judith Romer</span>\n",
    "</div>\n",
    "<p style=\"font-size: 18px;\"><i>Consolidation and Cleaning of Data, Feature Engineering</i></p><br>"
   ]
  },
  {
   "cell_type": "markdown",
   "metadata": {
    "slideshow": {
     "slide_type": "subslide"
    }
   },
   "source": [
    "<div style=\"display: flex; justify-content: space-between; align-items: center; width: 100%;\">\n",
    "    <span style=\"color: #ff6900; font-weight: bold; font-size: 25px;\">Image Preparation</span>\n",
    "    <span style=\"text-align: right; font-size: 12px;\">Isabel Janez | Judith Romer</span>\n",
    "</div>\n",
    "<ul>\n",
    "    <li>Balanced Dataset</li>\n",
    "    <li>Limited Resources</li>\n",
    "    <li>Clean Dataset</li>\n",
    "    <li>Prioritizing Simplicity and Speed</li>\n",
    "</ul>\n",
    "<p style=\"margin-left: 1%;\">&#8680; No explicit need for Data Preparation in this case</p>"
   ]
  },
  {
   "cell_type": "markdown",
   "metadata": {
    "slideshow": {
     "slide_type": "subslide"
    }
   },
   "source": [
    "<div style=\"display: flex; justify-content: space-between; align-items: center; width: 100%;\">\n",
    "    <span style=\"color: #ff6900; font-weight: bold; font-size: 25px;\">Training, Validation and Test Split</span>\n",
    "    <span style=\"text-align: right; font-size: 12px;\">Isabel Janez | Judith Romer</span>\n",
    "</div>\n",
    "<ul>\n",
    "    <li>Dataset already divided into a training set and a test set</li>\n",
    "    <li>Splitting the training set into 80% training and 20% validation subsets</li> \n",
    "    <li>Using random splitting to ensure unbiased representation</li>\n",
    "</ul>"
   ]
  },
  {
   "cell_type": "code",
   "execution_count": null,
   "metadata": {
    "slideshow": {
     "slide_type": "skip"
    }
   },
   "outputs": [],
   "source": [
    "# Split the training set into subsets\n",
    "test_abs = int(len(trainset) * 0.8)\n",
    "train_subset, val_subset = random_split(trainset, [test_abs, len(trainset) - test_abs])\n",
    "\n",
    "# Create data loaders for subsets\n",
    "trainloader = torch.utils.data.DataLoader(\n",
    "    train_subset, batch_size=64, shuffle=True, num_workers=2\n",
    ")\n",
    "valloader = torch.utils.data.DataLoader(\n",
    "    val_subset, batch_size=64, shuffle=True, num_workers=2\n",
    ")"
   ]
  },
  {
   "cell_type": "markdown",
   "metadata": {
    "slideshow": {
     "slide_type": "slide"
    }
   },
   "source": [
    "<div style=\"display: flex; justify-content: space-between; align-items: center; width: 100%;\">\n",
    "    <span style=\"color: #ff6900; font-size: 40px; font-weight: bold;\">Modeling</span>\n",
    "    <span style=\"text-align: right; font-size: 12px;\">Isabel Janez | Judith Romer</span>\n",
    "</div>\n",
    "<p style=\"font-size: 18px;\"><i>Use of Machine Learning or other Data Mining Algorithms</i></p><br>"
   ]
  },
  {
   "cell_type": "markdown",
   "metadata": {
    "slideshow": {
     "slide_type": "subslide"
    }
   },
   "source": [
    "<div style=\"display: flex; justify-content: space-between; align-items: center; width: 100%;\">\n",
    "    <span style=\"color: #ff6900; font-size: 35px; font-weight: bold;\">Metrics</span>\n",
    "    <span style=\"text-align: right; font-size: 12px;\">Isabel Janez | Judith Romer</span>\n",
    "</div>\n",
    "<p style=\"color: #ff6900; font-weight: bold; font-size: 25px;\">Accuracy</p>\n",
    "\n",
    "- Measures the proportion of correctly classified data\n",
    "\n",
    "- Accuracy = $(\\frac{\\text{Number of correct predictions}}{\\text{Total number of predictions}}) * 100$\n",
    "- Simple interpretation - especially for balanced class distribution\n",
    "- Balanced Accuracy not required as data classes are balanced\n",
    "\n",
    "<p style=\"color: #ff6900; font-weight: bold; font-size: 25px;\">Cross Entropy</p>\n",
    "\n",
    "- Measure of the differences between probability distributions\n",
    "\n",
    "- Minimization leads to approximation of model predictions to true class distributions\n",
    "- Promotes high probabilities for true classes and low probabilities for false classes\n",
    "- $\\text{Loss} = − \\sum\\limits_{i=0}^{n} (y⋅log(p)+(1−y)⋅log(1−p))$ \n",
    "\n",
    "<br>\n",
    "<footer style=\"font-size: 10px;\">\n",
    "<p>[1] Grandini, M., Bagli, E. and Visani, G., 2020. Metrics for multi-class classification: an overview. arXiv preprint arXiv:2008.05756.<br>\n",
    "[2] Bartz, E., Bartz-Beielstein, T., Zaefferer, M. and Mersmann, O., 2023. Hyperparameter Tuning for Machine and Deep Learning with R: A Practical Guide (p. 323). Springer Nature.<br>\n",
    "[3] Zhang, Z. and Sabuncu, M., 2018. Generalized cross entropy loss for training deep neural networks with noisy labels. Advances in neural information processing systems, 31.</p>"
   ]
  },
  {
   "cell_type": "markdown",
   "metadata": {
    "slideshow": {
     "slide_type": "subslide"
    }
   },
   "source": [
    "<div style=\"display: flex; justify-content: space-between; align-items: center; width: 100%;\">\n",
    "    <span style=\"color: #ff6900; font-size: 35px; font-weight: bold;\">Architecture</span>\n",
    "    <span style=\"text-align: right; font-size: 12px;\">Isabel Janez | Judith Romer | Lena Hammerer | Luisa Ibele | Hanna Steinwender</span>\n",
    "</div>\n",
    "\n",
    "<p style=\"color: #ff6900; font-weight: bold; font-size: 25px\">Convolutional Neural Network (CNN)</p><br>\n",
    "<img src=\"images/architecture.png\" width=\"100%\" style=\"margin-left: auto; margin-right: auto; display: block;\">\n",
    "<br>\n",
    "<br>\n",
    "<span style=\"font-weight: bold; font-size: 20px;\">Initial Setup</span>\n",
    "<ul>\n",
    "    <li>Optimizer: Stochastic Gradient Descent (momentum: 0)</li>\n",
    "    <li>learning_rate: 1e<sup>-3</sup> (0.001)</li>\n",
    "    <li>batch_size: 64</li>\n",
    "    <li>epochs: 15</li>\n",
    "</ul>"
   ]
  },
  {
   "cell_type": "markdown",
   "metadata": {
    "slideshow": {
     "slide_type": "subslide"
    }
   },
   "source": [
    "<div style=\"display: flex; justify-content: space-between; align-items: center; width: 100%;\">\n",
    "    <span style=\"font-weight: bold; font-size: 20px;\">Why use a CNN to train ML models on the Fashion-MNIST dataset?</span>\n",
    "    <span style=\"text-align: right; font-size: 12px;\">Isabel Janez | Judith Romer | Lena Hammerer | Luisa Ibele | Hanna Steinwender</span>\n",
    "</div>\n",
    "\n",
    "- Trained to identify the edges of objects in any image\n",
    "- Can process large amounts of data and produce highly accurate predictions\n",
    "- Can learn the features of an object through multiple iterations, eliminating the need for manual feature engineering tasks like feature extraction\n",
    "- Very effective in reducing the number of parameters without losing on the quality of models, which makes it suitable for handling images because of their high dimensionality\n",
    "- Plays an important role in classification of images and image segmentation due to its great performance in different problems\n",
    "\n",
    "<br>\n",
    "<footer style=\"font-size: 10px;\">\n",
    "<p>[1] Meshkini, K., Platos, J. and Ghassemain, H., 2020. An analysis of convolutional neural network for fashion images classification (fashion-mnist). In Proceedings of the Fourth International Scientific Conference “Intelligent Information Technologies for Industry”(IITI’19) 4 (pp. 85-95). Springer International Publishing.<br>\n",
    "[2] M. Kayed, A. Anter and H. Mohamed, \"Classification of Garments from Fashion MNIST Dataset Using CNN LeNet-5 Architecture,\" 2020 International Conference on Innovative Trends in Communication and Computer Engineering (ITCE), Aswan, Egypt, 2020, pp. 238-243, doi: 10.1109/ITCE48509.2020.9047776.<br>\n",
    "[3] Mishra, Prafful (2019): Why are Convolutional Neural Networks good for image classification? In: DataDrivenInvestor (27.05.2019) - URL https://medium.datadriveninvestor.com/why-are-convolutional-neural-networks-good-for-image-classification-146ec6e865e8, Accessed: 31.08.2023.</p>"
   ]
  },
  {
   "cell_type": "markdown",
   "metadata": {
    "slideshow": {
     "slide_type": "skip"
    }
   },
   "source": [
    "- CNN: fully connected feed forward neural network"
   ]
  },
  {
   "cell_type": "markdown",
   "metadata": {
    "slideshow": {
     "slide_type": "subslide"
    }
   },
   "source": [
    "<div style=\"display: flex; justify-content: space-between; align-items: center; width: 100%;\">\n",
    "    <span style=\"color: #ff6900; font-size: 35px; font-weight: bold;\">Hyperparameters</span>\n",
    "    <span style=\"text-align: right; font-size: 12px;\">Lena Hammerer | Luisa Ibele | Hanna Steinwender</span>\n",
    "</div>\n",
    "<p style=\"color: #ff6900; font-weight: bold; font-size: 25px\">Learing Rate</p>\n",
    "\n",
    "- Affects weight updates after each training step\n",
    "- Controls loss gradient backtracking during weight updates\n",
    "- <b>Range:</b> learning_rate &#8712; (0, &infin;); lower bound: 1e-6; upper bound: 1e-2\n",
    "- <b>Too low learning rate:</b> slow convergence\n",
    "- <b>Too high learning rate:</b> divergence\n",
    "- <b>Optimal learning rate:</b> fast convergence with few iterations\n",
    "- Adaptive methods adjust learning rate based on accuracy or gradient\n",
    "- Non-adaptive methods use constant or stepwise learning rate schedules\n",
    "- <b>Cyclic learning rate:</b> varies cyclically between predefined thresholds\n",
    "- <b>Goal:</b> Better balance between accuracy and loss\n",
    "\n",
    "<br>\n",
    "<footer style=\"font-size: 10px;\">\n",
    "<p>[1] Johny, A. and Madhusoodanan, K.N., 2021. Dynamic learning rate in deep CNN model for metastasis detection and classification of histopathology images. Computational and Mathematical Methods in Medicine, 2021, pp.1-13.<br>\n",
    "[2] Bartz, E., Bartz-Beielstein, T., Zaefferer, M. and Mersmann, O., 2023. Hyperparameter Tuning for Machine and Deep Learning with R: A Practical Guide (p. 323). Springer Nature.</p>\n"
   ]
  },
  {
   "cell_type": "markdown",
   "metadata": {
    "slideshow": {
     "slide_type": "subslide"
    }
   },
   "source": [
    "<div style=\"display: flex; justify-content: space-between; align-items: center; width: 100%;\">\n",
    "    <span style=\"color: #ff6900; font-weight: bold; font-size: 25px\">Epochs</span>\n",
    "    <span style=\"text-align: right; font-size: 12px;\">Lena Hammerer | Luisa Ibele | Hanna Steinwender</span>\n",
    "</div>\n",
    "\n",
    "- Determines the number of iterations of the learning algorithm over the entire training dataset\n",
    "- Each example in the dataset is given an opportunity to update the model parameters\n",
    "- Includes one or more batches\n",
    "- One run over the whole dataset is organised in epochs\n",
    "- <b>Small number of epochs:</b> network is sensitive to changes\n",
    "- <b>Large number of epochs:</b> convergence and minimisation of model error, better for models quality, but not good for runtime\n",
    "- <b>Range:</b> epochs &#8712; [1, &infin;)\n",
    "\n",
    "<br>\n",
    "<footer style=\"font-size: 10px;\">\n",
    "<p>[1] Brownlee, J., 2018. What is the Difference Between a Batch and an Epoch in a Neural Network. Machine Learning Mastery, 20.<br>\n",
    "[2] Bartz, E., Bartz-Beielstein, T., Zaefferer, M. and Mersmann, O., 2023. Hyperparameter Tuning for Machine and Deep Learning with R: A Practical Guide (p. 323). Springer Nature.</p>"
   ]
  },
  {
   "cell_type": "markdown",
   "metadata": {
    "slideshow": {
     "slide_type": "subslide"
    }
   },
   "source": [
    "<div style=\"display: flex; justify-content: space-between; align-items: center; width: 100%;\">\n",
    "    <span style=\"color: #ff6900; font-weight: bold; font-size: 25px\">Batch Size</span>\n",
    "    <span style=\"text-align: right; font-size: 12px;\">Lena Hammerer | Luisa Ibele | Hanna Steinwender</span>\n",
    "</div>\n",
    "\n",
    "- Size of the subset of the training dataset that is used simultaneously when determining the gradient of the network weights\n",
    "- Enables parallel weight updates in training\n",
    "- Affects the runtime of the training and quality of the model\n",
    "- <b>Smaller batch_size:</b> increased noise in training, might hinder the learning process\n",
    "- <b>Larger batch_size:</b> more memory and processing power required\n",
    "- Selection of the optimal batch size requires trade-off between noise and resources\n",
    "- <b>Range:</b> batch_size &#8712; (1, <i>n</i> ]\n",
    "\n",
    "<br>\n",
    "<footer style=\"font-size: 10px;\">\n",
    "<p>[1] Brownlee, J., 2018. What is the Difference Between a Batch and an Epoch in a Neural Network. Machine Learning Mastery, 20.<br>\n",
    "[2] Bartz, E., Bartz-Beielstein, T., Zaefferer, M. and Mersmann, O., 2023. Hyperparameter Tuning for Machine and Deep Learning with R: A Practical Guide (p. 323). Springer Nature.</p>"
   ]
  },
  {
   "cell_type": "markdown",
   "metadata": {
    "slideshow": {
     "slide_type": "subslide"
    }
   },
   "source": [
    "<div style=\"display: flex; justify-content: space-between; align-items: center; width: 100%;\">\n",
    "    <span style=\"color: #ff6900; font-weight: bold; font-size: 25px\">L1 Architecture Parameter (Linear Layer Units)</span>\n",
    "    <span style=\"text-align: right; font-size: 12px;\">Lena Hammerer | Luisa Ibele | Hanna Steinwender</span>\n",
    "</div>\n",
    "\n",
    "<ul>\n",
    "    <li>Tuning the linear, fully connected layers of the CNN</li>\n",
    "    <li>Determines the size of the corresponding network layer</li>\n",
    "    <li>Significant impact on the network's performance</li>\n",
    "    <li>Linear layers are typically responsible for making final predictions or decisions</li>\n",
    "    <li><b>High value for l1:</b> complex model, more model coefficients, higher runtime, but possibly higher model quality and higher risk of overfitting\n",
    "    <li><b>Range:</b> units &#8712; [1, &infin;)\n",
    "</ul>\n",
    "<br>\n",
    "<footer style=\"font-size: 10px;\">\n",
    "<p>[1] Bartz, E., Bartz-Beielstein, T., Zaefferer, M. and Mersmann, O., 2023. Hyperparameter Tuning for Machine and Deep Learning with R: A Practical Guide (p. 323). Springer Nature.</p>"
   ]
  },
  {
   "cell_type": "markdown",
   "metadata": {
    "slideshow": {
     "slide_type": "subslide"
    }
   },
   "source": [
    "<div style=\"display: flex; justify-content: space-between; align-items: center; width: 100%;\">\n",
    "    <span style=\"color: #ff6900; font-weight: bold; font-size: 25px; width: 80%;\">What is Neural Architecture Search vs. Classic Hyperparameter Tuning</span><br>\n",
    "    <span style=\"text-align: right; font-size: 12px; width: 20%;\">Lena Hammerer | Luisa Ibele | Hanna Steinwender</span>\n",
    "</div>\n",
    "\n",
    "<span style=\"font-weight: bold; font-size: 20px;\">Neural Architecture Search:</span>\n",
    "\n",
    "- automated process of discovering the optimal neural network architecture for a specific machine learning task\n",
    "- usage of search algorithms to explore a predefined search space of possible architectures and find the one that performs best on a given dataset and task\n",
    "\n",
    "<br>\n",
    "<span style=\"font-weight: bold; font-size: 20px;\">Classic Hyperparameter Tuning:</span>\n",
    "\n",
    "- the process of systematically searching for the best hyperparameters for a machine learning model, typically after a fixed model architecture has been chosen\n",
    "- settings that control aspects of the model's training and behavior but are not learned from the data\n",
    "- more the focus of this project, tuning on parameters: learning rate, epochs, batch size\n",
    "\n",
    "<br>\n",
    "<footer style=\"font-size: 10px;\">\n",
    "<p>[1] White, C., Safari, M., Sukthanker, R., Ru, B., Elsken, T., Zela, A., Dey, D. and Hutter, F., 2023. Neural architecture search: Insights from 1000 papers. arXiv preprint arXiv:2301.08727.<br>\n",
    "[2] Tuba, E., Bačanin, N., Strumberger, I. and Tuba, M., 2021. Convolutional neural networks hyperparameters tuning. In Artificial intelligence: theory and applications (pp. 65-84). Cham: Springer International Publishing.<br>\n",
    "[3] Bartz, E., Bartz-Beielstein, T., Zaefferer, M. and Mersmann, O., 2023. Hyperparameter Tuning for Machine and Deep Learning with R: A Practical Guide (p. 323). Springer Nature.</p>"
   ]
  },
  {
   "cell_type": "markdown",
   "metadata": {
    "slideshow": {
     "slide_type": "subslide"
    }
   },
   "source": [
    "<div style=\"display: flex; justify-content: space-between; align-items: center; width: 100%;\">\n",
    "    <span style=\"color: #ff6900; font-weight: bold; font-size: 25px\">Further Parameters</span>\n",
    "    <span style=\"text-align: right; font-size: 12px;\">Lena Hammerer | Luisa Ibele | Hanna Steinwender</span>\n",
    "</div>\n",
    "\n",
    "- Optimizer\n",
    "- Dropout\n",
    "- Activation function\n",
    "- Architecture\n",
    "\n",
    "<br>\n",
    "<footer style=\"font-size: 10px;\">\n",
    "<p>[1] Bartz, E., Bartz-Beielstein, T., Zaefferer, M. and Mersmann, O., 2023. Hyperparameter Tuning for Machine and Deep Learning with R: A Practical Guide (p. 323). Springer Nature.</p>"
   ]
  },
  {
   "cell_type": "markdown",
   "metadata": {
    "slideshow": {
     "slide_type": "skip"
    }
   },
   "source": [
    "zu erwähnen:\n",
    "- warum die Parameter nicht in Erwägung gezogen wurden"
   ]
  },
  {
   "cell_type": "markdown",
   "metadata": {
    "slideshow": {
     "slide_type": "subslide"
    }
   },
   "source": [
    "<div style=\"display: flex; justify-content: space-between; align-items: center; width: 100%;\">\n",
    "    <span style=\"color: #ff6900; font-size: 35px; font-weight: bold;\">Tuning Approaches</span>\n",
    "    <span style=\"text-align: right; font-size: 12px;\">Lena Hammerer | Luisa Ibele | Hanna Steinwender</span>\n",
    "</div>\n",
    "\n",
    "What different behaviors can be observed in the approaches?\n",
    "\n",
    "<p style=\"color: #ff6900; font-weight: bold; font-size: 25px\">Random Search</p>\n",
    "\n",
    "randomly and repeatedly choosing hyperparameters to evaluate <sup>[1][2]</sup>\n",
    "- model-free undirected search approach\n",
    "- baseline to compare with other approaches in experiment setup\n",
    "- preferable to Grid Search for high-dimensional spaces and heterogenous parameter importance\n",
    "\n",
    "<img style=\"margin-left: auto; margin-right: auto; display: block;\" src=\"images/randomSearch_gridSearch.png\" width=\"50%\">"
   ]
  },
  {
   "cell_type": "markdown",
   "metadata": {
    "slideshow": {
     "slide_type": "subslide"
    }
   },
   "source": [
    "<p style=\"color: #ff6900; font-weight: bold; font-size: 25px\">Hyperband Algorithm</p>\n",
    "\n",
    "multi-armed bandit strategy that dynamically allocates resources to a set of random configurations and uses successive halving to stop poorly performing configurations <sup>[3][4]</sup>\n",
    "- model-free undirected search approach\n",
    "- employs early stopping criteria (e.g., validation loss improvement) during training \n",
    "- allocates more resources (e.g., training epochs) to promising configurations and terminates poorly performing ones early\n",
    "- efficiently identify the best-performing configurations within a given budget, avoiding wasteful computation\n",
    "\n",
    "<img style=\"margin-left: auto; margin-right: auto; display: block;\" src=\"images/hyperband.png\" width=\"60%\">"
   ]
  },
  {
   "cell_type": "markdown",
   "metadata": {
    "slideshow": {
     "slide_type": "subslide"
    }
   },
   "source": [
    "<p style=\"color: #ff6900; font-weight: bold; font-size: 25px\">Surrogate Model Based Optimization (SMBO)</p>\n",
    "\n",
    "using the Sequential Parameter Optimization Toolkit (SPOT) <sup>[1][5]</sup>\n",
    "- model-based directed search\n",
    "- information gathered during search to learn relationship between hyperparameters/performance\n",
    "- constructs a surrogate and looks for its minimum\n",
    "- computational effort can be shifted from real evaluations to evaluations of the surrogate\n",
    "- understanding hyperparameter importance and interactions between several hyperparameters\n",
    "\n",
    "<img style=\"margin-left: auto; margin-right: auto; display: block;\" src=\"images/smbo.png\" width=\"60%\">\n",
    "\n",
    "<br>\n",
    "<footer style=\"font-size: 10px;\">\n",
    "<p>[1] Bartz, E., Bartz-Beielstein, T., Zaefferer, M. and Mersmann, O., 2023. Hyperparameter Tuning for Machine and Deep Learning with R: A Practical Guide (p. 71-78). Springer Nature. <br>\n",
    "[2] Bergstra, James, and Y. Bengio. “Random Search for Hyper-Parameter Optimization.” The Journal of Machine Learning Research 13 (March 2012): 281–305.<br>\n",
    "[3] Li, Lisha, Kevin Jamieson, Giulia DeSalvo, Afshin Rostamizadeh, and Ameet Talwalkar. “Hyperband: A Novel Bandit-Based Approach to Hyperparameter Optimization.” June 18, 2018.<br>\n",
    "[4] Li, Lisha, Kevin Jamieson, Afshin Rostamizadeh, Katya Gonina, Moritz Hardt, Benjamin Recht, and Ameet Talwalkar. “Massively Parallel Hyperparameter Tuning,” February 15, 2018.<br>\n",
    "[5] Bartz-Beielstein, Thomas. “PyTorch Hyperparameter Tuning - A Tutorial for SpotPython.” June 7, 2023.</p>"
   ]
  },
  {
   "cell_type": "markdown",
   "metadata": {
    "slideshow": {
     "slide_type": "subslide"
    }
   },
   "source": [
    "<div style=\"display: flex; justify-content: space-between; align-items: center; width: 100%;\">\n",
    "    <span style=\"color: #ff6900; font-size: 35px; font-weight: bold;\">Experiment Setup</span>\n",
    "    <span style=\"text-align: right; font-size: 12px;\">Lena Hammerer | Luisa Ibele | Hanna Steinwender</span>\n",
    "</div>\n",
    "<p style=\"color: #ff6900; font-weight: bold; font-size: 25px\">Computational Resources and Utilized Technologies</p>\n",
    "\n",
    "<table style=\"border: none; font-size:16px\">\n",
    "  <tr style=\"border: none;\">\n",
    "    <td style=\"border: none\"><b>Hardware (Bizon \"Deep Learning Server\"):</b></td>\n",
    "    <td style=\"border: none\"><b>Software:</b></td>\n",
    "  </tr>\n",
    "  <tr style=\"border: none; background-color: white;\">\n",
    "    <td style=\"border: none\">\n",
    "    <ul>\n",
    "      <li>CPU: 4 x Intel(R) Xeon(R) Silver 4210 CPU @ 2.20GHz (10 cores, 2.2 GHz)</li>\n",
    "      <li>GPU: NVIDIA GeForce RTX 2080 Ti (11 GB VRAM)</li>\n",
    "      <li>Memory: 125 GB DDR4 RAM</li>\n",
    "      <li>Storage: 0.5 TB NVMe SSD</li>\n",
    "    </ul>\n",
    "    </td>\n",
    "    <td style=\"border: none\">\n",
    "      <ul>\n",
    "        <li>Operating System: Ubuntu 20.04 LTS</li>\n",
    "        <li>Programming Language: Python 3.10</li>\n",
    "        <li>ML Libraries: PyTorch 2.0.1, raytune 2.6.3, spotPython 0.6.16</li>\n",
    "        <li>Additional Software: Jupyter Notebook, Tensorboard</li>\n",
    "      </ul>\n",
    "    </td>\n",
    "  </tr>\n",
    "</table>\n",
    "\n",
    "<img style=\"margin-left: auto; margin-right: auto;\" src=\"images/logos.png\" width=\"60%\">"
   ]
  },
  {
   "cell_type": "markdown",
   "metadata": {
    "slideshow": {
     "slide_type": "subslide"
    }
   },
   "source": [
    "<div style=\"display: flex; justify-content: space-between; align-items: center; width: 100%;\">\n",
    "    <span style=\"color: #ff6900; font-weight: bold; font-size: 25px\">Hyperparameter Search Spaces</span>\n",
    "    <span style=\"text-align: right; font-size: 12px;\">Lena Hammerer | Luisa Ibele | Hanna Steinwender</span>\n",
    "</div>\n",
    "<p style=\"font-weight: bold; font-size: 20px;\">Configuration for Tuning Experiments</p>\n",
    "\n",
    "| Hyperparameter | Lower Bound | Upper Bound |\n",
    "| -------------- | ----------- | ----------- |\n",
    "| L1 Units       | 32          | 256         |\n",
    "| Batch Size     | 16          | 128         |\n",
    "| Epochs         | 5           | 20          |\n",
    "| Learning Rate  | 1e<sup>-4</sup>| 1e<sup>-1</sup>       |\n",
    "\n",
    "<br>\n",
    "\n",
    "- **Tuning Approaches**: Random Search, Hyperband (RayTune), SMBO (spotPython)\n",
    "- **Duration**: Each Tuning Approach run for 6 hours\n",
    "- **Reproducibility**: Seed for random generators\n",
    "\n",
    "<br>\n",
    "<footer style=\"font-size: 14px;\">\n",
    "<p>Code available at: https://github.com/LuisaIb/fashion-tuning/</p>"
   ]
  },
  {
   "cell_type": "markdown",
   "metadata": {
    "slideshow": {
     "slide_type": "slide"
    }
   },
   "source": [
    "<div style=\"display: flex; justify-content: space-between; align-items: center; width: 100%;\">\n",
    "    <span style=\"color: #ff6900; font-size: 40px; font-weight: bold;\">Evaluation</span>\n",
    "    <span style=\"text-align: right; font-size: 12px;\">Lena Hammerer | Luisa Ibele | Hanna Steinwender</span>\n",
    "</div>\n",
    "<p style=\"font-size: 18px;\"><i>Verification of Predictive Accuracy and Coverage of the Use Case</i></p>"
   ]
  },
  {
   "cell_type": "markdown",
   "metadata": {
    "slideshow": {
     "slide_type": "subslide"
    }
   },
   "source": [
    "<div style=\"display: flex; justify-content: space-between; align-items: center; width: 100%;\">\n",
    "    <span style=\"color: #ff6900; font-size: 35px; font-weight: bold;\">Tuning Results</span>\n",
    "    <span style=\"text-align: right; font-size: 12px;\">Lena Hammerer | Luisa Ibele | Hanna Steinwender</span>\n",
    "</div>\n",
    "<p style=\"color: #ff6900; font-weight: bold; font-size: 25px;\">Best Configurations</p>\n",
    "\n",
    "- more _Units_,\n",
    "- smaller _Batch Size_,\n",
    "- not a lot of _Epochs_ needed since ...\n",
    "- ... fairly high _Learning Rate_!"
   ]
  },
  {
   "cell_type": "code",
   "execution_count": 16,
   "metadata": {
    "slideshow": {
     "slide_type": "fragment"
    }
   },
   "outputs": [
    {
     "data": {
      "text/html": [
       "<div>\n",
       "<style scoped>\n",
       "    .dataframe tbody tr th:only-of-type {\n",
       "        vertical-align: middle;\n",
       "    }\n",
       "\n",
       "    .dataframe tbody tr th {\n",
       "        vertical-align: top;\n",
       "    }\n",
       "\n",
       "    .dataframe thead th {\n",
       "        text-align: right;\n",
       "    }\n",
       "</style>\n",
       "<table border=\"1\" class=\"dataframe\">\n",
       "  <thead>\n",
       "    <tr style=\"text-align: right;\">\n",
       "      <th></th>\n",
       "      <th>L1 Units</th>\n",
       "      <th>Batch Size</th>\n",
       "      <th>Epochs</th>\n",
       "      <th>Learning Rate</th>\n",
       "      <th># Trials</th>\n",
       "    </tr>\n",
       "  </thead>\n",
       "  <tbody>\n",
       "    <tr>\n",
       "      <th>Default</th>\n",
       "      <td>64</td>\n",
       "      <td>64</td>\n",
       "      <td>15</td>\n",
       "      <td>0.001000</td>\n",
       "      <td>-</td>\n",
       "    </tr>\n",
       "    <tr>\n",
       "      <th>Random Search</th>\n",
       "      <td>128</td>\n",
       "      <td>16</td>\n",
       "      <td>10</td>\n",
       "      <td>0.054035</td>\n",
       "      <td>87 (~6h)</td>\n",
       "    </tr>\n",
       "    <tr>\n",
       "      <th>Hyperband</th>\n",
       "      <td>128</td>\n",
       "      <td>16</td>\n",
       "      <td>15</td>\n",
       "      <td>0.098538</td>\n",
       "      <td>340 (~6h)</td>\n",
       "    </tr>\n",
       "    <tr>\n",
       "      <th>SMBO</th>\n",
       "      <td>256</td>\n",
       "      <td>32</td>\n",
       "      <td>10</td>\n",
       "      <td>0.091179</td>\n",
       "      <td>68 (~6h)</td>\n",
       "    </tr>\n",
       "  </tbody>\n",
       "</table>\n",
       "</div>"
      ],
      "text/plain": [
       "               L1 Units  Batch Size  Epochs  Learning Rate   # Trials\n",
       "Default              64          64      15       0.001000          -\n",
       "Random Search       128          16      10       0.054035   87 (~6h)\n",
       "Hyperband           128          16      15       0.098538  340 (~6h)\n",
       "SMBO                256          32      10       0.091179   68 (~6h)"
      ]
     },
     "execution_count": 16,
     "metadata": {},
     "output_type": "execute_result"
    }
   ],
   "source": [
    "pd.read_csv(f'{eval_data_path}/best_config.csv', index_col=0)"
   ]
  },
  {
   "cell_type": "markdown",
   "metadata": {
    "slideshow": {
     "slide_type": "subslide"
    }
   },
   "source": [
    "<div style=\"display: flex; justify-content: space-between; align-items: center; width: 100%;\">\n",
    "    <span style=\"font-weight: bold; font-size: 20px;\">#️ of Trials - Why does it differ so much?</span>\n",
    "    <span style=\"text-align: right; font-size: 12px;\">Lena Hammerer | Luisa Ibele | Hanna Steinwender</span>\n",
    "</div>\n",
    "\n",
    "- Hyperband algorithm focuses resources on promising configurations by combining random sampling and early elimination of poor configurations. More combinations can be tested with the same amount of resources (time)."
   ]
  },
  {
   "cell_type": "code",
   "execution_count": 17,
   "metadata": {
    "slideshow": {
     "slide_type": "fragment"
    }
   },
   "outputs": [
    {
     "data": {
      "application/vnd.plotly.v1+json": {
       "config": {
        "plotlyServerURL": "https://plot.ly"
       },
       "data": [
        {
         "mode": "lines",
         "type": "scatter",
         "x": [
          1,
          2,
          3,
          4,
          5,
          6,
          7,
          8,
          9,
          10,
          11,
          12,
          13,
          14,
          15,
          16,
          17,
          18,
          19,
          20
         ],
         "xaxis": "x",
         "y": [
          1.9979039266,
          1.0366093516,
          0.7360471842,
          0.6452989623,
          0.5923545527,
          0.5654049638,
          0.5429277166,
          0.5143497518,
          0.505309203,
          0.4849206501,
          0.4700089478,
          0.4641882497,
          0.448500238,
          0.4378474912,
          0.4283597,
          0.4219799752,
          0.415602261,
          0.4054566425,
          0.4007532861,
          0.3991427207
         ],
         "yaxis": "y"
        },
        {
         "mode": "lines",
         "type": "scatter",
         "x": [
          1,
          2,
          3,
          4,
          5,
          6,
          7,
          8,
          9,
          10,
          11,
          12,
          13,
          14,
          15,
          16,
          17,
          18,
          19,
          20
         ],
         "xaxis": "x",
         "y": [
          0.3550318291,
          0.3304352799,
          0.2836186944,
          0.2700989382,
          0.2509259927,
          0.2363184473,
          0.2267519316,
          0.2227707995,
          0.2224123558,
          0.2293897204,
          0.2105191899,
          0.2114499799,
          0.250908287,
          0.2118271744,
          0.2213783219,
          0.2216783537,
          0.239277179,
          0.2355630566,
          0.2604692929,
          0.2455811508
         ],
         "yaxis": "y"
        },
        {
         "mode": "lines",
         "type": "scatter",
         "x": [
          1,
          2,
          3,
          4,
          5,
          6,
          7,
          8,
          9,
          10,
          11,
          12,
          13,
          14,
          15,
          16,
          17,
          18,
          19,
          20
         ],
         "xaxis": "x",
         "y": [
          0.3198633499,
          0.2689331637,
          0.2796291503,
          0.2539445315,
          0.247512761,
          0.2540217313,
          0.2637807525,
          0.2627080959,
          0.3152436863,
          0.3314287889,
          0.3718457064,
          0.3276203931,
          0.3711800552,
          0.3686501307,
          0.4130556419,
          0.4040900405,
          0.4162117711,
          0.5001489264,
          0.4701026349,
          0.4885663756
         ],
         "yaxis": "y"
        },
        {
         "mode": "lines",
         "type": "scatter",
         "x": [
          1,
          2,
          3,
          4,
          5,
          6,
          7,
          8,
          9,
          10,
          11,
          12,
          13,
          14,
          15,
          16,
          17,
          18,
          19,
          20
         ],
         "xaxis": "x",
         "y": [
          0.4389458635,
          0.3732218997,
          0.3362558427,
          0.3069369698,
          0.2895105763,
          0.2910393747,
          0.2772757753,
          0.2822146896,
          0.2750518112,
          0.2669425472,
          0.2573670935,
          0.2570595504,
          0.2458868829,
          0.2525247853,
          0.2404534111,
          0.2462880337,
          0.2558737844,
          0.2378787804,
          0.2526862356,
          0.2465574028
         ],
         "yaxis": "y"
        },
        {
         "mode": "lines",
         "type": "scatter",
         "x": [
          1,
          2,
          3,
          4,
          5,
          6,
          7,
          8,
          9,
          10,
          11,
          12,
          13,
          14,
          15,
          16,
          17,
          18,
          19,
          20
         ],
         "xaxis": "x",
         "y": [
          0.4022451337,
          0.2850638378,
          0.2559962733,
          0.2265708846,
          0.2364401095,
          0.2422566136,
          0.2328167166,
          0.2233146633,
          0.2394302811,
          0.2444914395,
          0.2637438861,
          0.2635231858,
          0.2810055975,
          0.3215117588,
          0.3069775891,
          0.3331044818,
          0.3662219921,
          0.3775050465,
          0.4048061166,
          0.3958461923
         ],
         "yaxis": "y"
        },
        {
         "mode": "lines",
         "type": "scatter",
         "x": [
          1,
          2,
          3,
          4,
          5,
          6,
          7,
          8,
          9,
          10,
          11,
          12,
          13,
          14,
          15,
          16,
          17,
          18,
          19,
          20
         ],
         "xaxis": "x",
         "y": [
          0.3574068223,
          0.3238387051,
          0.3150534453,
          0.2514687429,
          0.2355476561,
          0.2399737871,
          0.2468574851,
          0.2529845494,
          0.2333386557,
          0.248770767,
          0.2605686526,
          0.2524408368,
          0.2565581605,
          0.2966319637,
          0.2923385961,
          0.2936915092,
          0.2860391298,
          0.3270527622,
          0.3319919993,
          0.3586679301
         ],
         "yaxis": "y"
        },
        {
         "mode": "lines",
         "type": "scatter",
         "x": [
          1,
          2,
          3,
          4,
          5,
          6,
          7,
          8,
          9,
          10,
          11,
          12,
          13,
          14,
          15,
          16,
          17,
          18,
          19,
          20
         ],
         "xaxis": "x",
         "y": [
          0.4028762654,
          0.3433330961,
          0.3104708459,
          0.3422080884,
          0.2734637084,
          0.2717352761,
          0.248704106,
          0.2568083683,
          0.252265347,
          0.247002071,
          0.2293082065,
          0.2199899423,
          0.2362678008,
          0.2194104825,
          0.2177034869,
          0.2239157635,
          0.23587434,
          0.2278939874,
          0.2319154355,
          0.226527695
         ],
         "yaxis": "y"
        },
        {
         "mode": "lines",
         "type": "scatter",
         "x": [
          1,
          2,
          3,
          4,
          5,
          6,
          7,
          8,
          9,
          10,
          11,
          12,
          13,
          14,
          15,
          16,
          17,
          18,
          19,
          20
         ],
         "xaxis": "x",
         "y": [
          0.49658695,
          0.4020830275,
          0.3791575483,
          0.3480185873,
          0.3319971817,
          0.3171070287,
          0.3023841227,
          0.292699404,
          0.2772982382,
          0.2731205439,
          0.2681514893,
          0.283198112,
          0.2607418489,
          0.2689332898,
          0.2513324607,
          0.2444666568,
          0.2455903516,
          0.2483187921,
          0.23912123,
          0.2419646544
         ],
         "yaxis": "y"
        },
        {
         "mode": "lines",
         "type": "scatter",
         "x": [
          1,
          2,
          3,
          4,
          5,
          6,
          7,
          8,
          9,
          10,
          11,
          12,
          13,
          14,
          15,
          16,
          17,
          18,
          19,
          20
         ],
         "xaxis": "x",
         "y": [
          0.7021867588,
          0.5679334345,
          0.4945848445,
          0.479543607,
          0.420343867,
          0.3821596351,
          0.3740944568,
          0.3653683601,
          0.3440645125,
          0.3401263957,
          0.3296388969,
          0.3247137816,
          0.3198332855,
          0.3015230647,
          0.2994940332,
          0.3068998913,
          0.2846898058,
          0.2878318757,
          0.2825699964,
          0.2856846309
         ],
         "yaxis": "y"
        },
        {
         "mode": "lines",
         "type": "scatter",
         "x": [
          1,
          2,
          3,
          4,
          5,
          6,
          7,
          8,
          9,
          10,
          11,
          12,
          13,
          14,
          15,
          16,
          17,
          18,
          19,
          20
         ],
         "xaxis": "x",
         "y": [
          0.3586196867,
          0.3082086422,
          0.273529284,
          0.2602749469,
          0.2557956467,
          0.2676514328,
          0.2453806486,
          0.2512313955,
          0.2394210813,
          0.2676522789,
          0.2690530309,
          0.2765002484,
          0.3025717252,
          0.3372495422,
          0.3545502482,
          0.3558018423,
          0.3803232761,
          0.3767705166,
          0.4016750973,
          0.4110255312
         ],
         "yaxis": "y"
        },
        {
         "mode": "lines",
         "type": "scatter",
         "x": [
          1,
          2,
          3,
          4,
          5,
          6,
          7,
          8,
          9,
          10,
          11,
          12,
          13,
          14,
          15,
          16,
          17,
          18,
          19,
          20
         ],
         "xaxis": "x",
         "y": [
          0.4134671715,
          0.3527093373,
          0.3091693799,
          0.2924491802,
          0.3194499456,
          0.2602650369,
          0.2578734123,
          0.2382220363,
          0.2377724366,
          0.2597876595,
          0.2289879004,
          0.2428251575,
          0.23493286,
          0.232042303,
          0.2261287636,
          0.2321526571,
          0.2112984878,
          0.2211734726,
          0.2298156853,
          0.2336389252
         ],
         "yaxis": "y"
        },
        {
         "mode": "lines",
         "type": "scatter",
         "x": [
          1,
          2,
          3,
          4,
          5,
          6,
          7,
          8,
          9,
          10,
          11,
          12,
          13,
          14,
          15,
          16,
          17,
          18,
          19,
          20
         ],
         "xaxis": "x",
         "y": [
          0.414720791,
          0.3779554808,
          0.3187180056,
          0.2878210548,
          0.2650653917,
          0.2532148348,
          0.2481263467,
          0.2570830137,
          0.226644425,
          0.2346918542,
          0.2431248952,
          0.2451132447,
          0.2173084043,
          0.2149958256,
          0.220778492,
          0.2184691616,
          0.2271634256,
          0.2226905039,
          0.2194709048,
          0.227512134
         ],
         "yaxis": "y"
        },
        {
         "mode": "lines",
         "type": "scatter",
         "x": [
          1,
          2,
          3,
          4,
          5,
          6,
          7,
          8,
          9,
          10,
          11,
          12,
          13,
          14,
          15,
          16,
          17,
          18,
          19,
          20
         ],
         "xaxis": "x",
         "y": [
          0.5425158482,
          0.4376058631,
          0.4349495055,
          0.3491658288,
          0.3587401351,
          0.3216217581,
          0.3021841766,
          0.3073742336,
          0.2978212713,
          0.2814503004,
          0.2746278248,
          0.2661568986,
          0.2744440022,
          0.2611863789,
          0.2917170013,
          0.2738731868,
          0.2434414745,
          0.2450538331,
          0.2472945959,
          0.2425356355
         ],
         "yaxis": "y"
        },
        {
         "mode": "lines",
         "type": "scatter",
         "x": [
          1,
          2,
          3,
          4,
          5,
          6,
          7,
          8,
          9,
          10,
          11,
          12,
          13,
          14,
          15,
          16,
          17,
          18,
          19,
          20
         ],
         "xaxis": "x",
         "y": [
          0.401626793,
          0.323449649,
          0.2916687886,
          0.2738133204,
          0.2469356909,
          0.2419021121,
          0.2717930074,
          0.2412539137,
          0.2309685414,
          0.2417010262,
          0.2563214428,
          0.2361674787,
          0.2244875835,
          0.2303051004,
          0.2347688881,
          0.2406580583,
          0.2492530472,
          0.2606192218,
          0.2716003255,
          0.2665122904
         ],
         "yaxis": "y"
        },
        {
         "mode": "lines",
         "type": "scatter",
         "x": [
          1,
          2,
          3,
          4,
          5,
          6,
          7,
          8,
          9,
          10,
          11,
          12,
          13,
          14,
          15,
          16,
          17,
          18,
          19,
          20
         ],
         "xaxis": "x",
         "y": [
          0.766304493,
          0.607065125,
          0.4781271885,
          0.4315760697,
          0.3897950296,
          0.3669830886,
          0.3606797733,
          0.340422916,
          0.3370315873,
          0.3255828226,
          0.3119561704,
          0.3135862752,
          0.3043978313,
          0.2939015611,
          0.2883694441,
          0.2849205794,
          0.3462611329,
          0.2776161026,
          0.2768289827,
          0.2724394064
         ],
         "yaxis": "y"
        },
        {
         "mode": "lines",
         "type": "scatter",
         "x": [
          1,
          2,
          3,
          4,
          5,
          6,
          7,
          8,
          9,
          10,
          11,
          12,
          13,
          14,
          15,
          16,
          17,
          18,
          19
         ],
         "xaxis": "x",
         "y": [
          0.6644632071,
          0.5484708751,
          0.4674085632,
          0.449345913,
          0.3977405302,
          0.3868741017,
          0.3862375506,
          0.3541156775,
          0.3421333968,
          0.3514263861,
          0.3274314774,
          0.3126464229,
          0.3052254487,
          0.3083416915,
          0.303140957,
          0.301290445,
          0.2908285303,
          0.294127714,
          0.2819558355
         ],
         "yaxis": "y"
        },
        {
         "mode": "lines",
         "type": "scatter",
         "x": [
          1,
          2,
          3,
          4,
          5,
          6,
          7,
          8,
          9
         ],
         "xaxis": "x",
         "y": [
          0.5434461741,
          0.4684863403,
          0.4057795017,
          0.3884184808,
          0.3931736933,
          0.3406060515,
          0.3332231157,
          0.3202171041,
          0.3055115026
         ],
         "yaxis": "y"
        },
        {
         "mode": "lines",
         "type": "scatter",
         "x": [
          1,
          2,
          3,
          4,
          5
         ],
         "xaxis": "x",
         "y": [
          0.3361577802,
          0.2829977581,
          0.2483966941,
          0.2412634442,
          0.2348843061
         ],
         "yaxis": "y"
        },
        {
         "mode": "lines",
         "type": "scatter",
         "x": [
          1,
          2,
          3,
          4,
          5,
          6,
          7,
          8,
          9,
          10,
          11,
          12,
          13,
          14,
          15,
          16,
          17,
          18,
          19,
          20
         ],
         "xaxis": "x",
         "y": [
          0.366240002,
          0.297327315,
          0.2677521812,
          0.2564229589,
          0.2549679206,
          0.2397158873,
          0.2727451324,
          0.276374907,
          0.2648777565,
          0.2828855816,
          0.3062121465,
          0.29099368,
          0.3046049698,
          0.3548810873,
          0.3441406022,
          0.3827110051,
          0.3965552668,
          0.4244478709,
          0.4189825508,
          0.4890880503
         ],
         "yaxis": "y"
        },
        {
         "mode": "lines",
         "type": "scatter",
         "x": [
          1,
          2,
          3,
          4,
          5,
          6,
          7,
          8,
          9,
          10,
          11,
          12,
          13,
          14,
          15,
          16,
          17,
          18,
          19,
          20
         ],
         "xaxis": "x",
         "y": [
          0.3776196611,
          0.3047591801,
          0.2800400301,
          0.2656868733,
          0.2502872008,
          0.2590877614,
          0.2333842313,
          0.2462658345,
          0.2582560552,
          0.2479074212,
          0.252467342,
          0.2680604563,
          0.2649453513,
          0.3106845629,
          0.3027163054,
          0.3250163642,
          0.3223970122,
          0.3130097279,
          0.353769155,
          0.3817148453
         ],
         "yaxis": "y"
        },
        {
         "mode": "lines",
         "type": "scatter",
         "x": [
          1,
          2,
          3,
          4,
          5,
          6,
          7,
          8,
          9,
          10,
          11,
          12,
          13,
          14,
          15,
          16,
          17,
          18,
          19,
          20
         ],
         "xaxis": "x",
         "y": [
          0.3837588406,
          0.3332601868,
          0.3220407465,
          0.2676642867,
          0.2728847125,
          0.3104003043,
          0.2525376331,
          0.2381320024,
          0.2285481451,
          0.2245744844,
          0.2515765776,
          0.2342760802,
          0.246044753,
          0.229203101,
          0.2595959192,
          0.2688932103,
          0.2452519738,
          0.2628664728,
          0.2790187125,
          0.3060270447
         ],
         "yaxis": "y"
        },
        {
         "mode": "lines",
         "type": "scatter",
         "x": [
          1,
          2,
          3,
          4,
          5,
          6,
          7,
          8,
          9,
          10,
          11,
          12,
          13,
          14,
          15,
          16,
          17,
          18,
          19,
          20
         ],
         "xaxis": "x",
         "y": [
          0.5237265674,
          0.4115668837,
          0.3904967825,
          0.3471875133,
          0.3334004629,
          0.3295244977,
          0.3140605325,
          0.2923173938,
          0.2964401124,
          0.2793777245,
          0.2762172269,
          0.27657545,
          0.2552179619,
          0.2575557853,
          0.2457172928,
          0.2571737281,
          0.2398864633,
          0.2412254754,
          0.2358050242,
          0.2451195181
         ],
         "yaxis": "y"
        },
        {
         "mode": "lines",
         "type": "scatter",
         "x": [
          1,
          2,
          3,
          4,
          5,
          6,
          7,
          8,
          9,
          10,
          11,
          12,
          13,
          14,
          15,
          16,
          17,
          18,
          19,
          20
         ],
         "xaxis": "x",
         "y": [
          0.4472353057,
          0.3455327325,
          0.3130179242,
          0.3070695584,
          0.2795662089,
          0.2808719914,
          0.2709991476,
          0.2625915458,
          0.250878249,
          0.2384061178,
          0.2567871887,
          0.2443057298,
          0.2418392742,
          0.2398875894,
          0.2397340689,
          0.2429194286,
          0.2303940086,
          0.2455746138,
          0.2341781766,
          0.2421068221
         ],
         "yaxis": "y"
        },
        {
         "mode": "lines",
         "type": "scatter",
         "x": [
          1,
          2,
          3,
          4,
          5,
          6,
          7,
          8,
          9,
          10,
          11,
          12,
          13,
          14,
          15,
          16,
          17,
          18,
          19,
          20
         ],
         "xaxis": "x",
         "y": [
          0.4813270366,
          0.3839089978,
          0.3583065941,
          0.3261584731,
          0.317226581,
          0.2939136719,
          0.2883870127,
          0.2734542623,
          0.2762055867,
          0.2675651833,
          0.2566989732,
          0.2486639693,
          0.2367061864,
          0.2314560198,
          0.2302354326,
          0.2226841321,
          0.2284784266,
          0.2363387358,
          0.2300621518,
          0.2246138516
         ],
         "yaxis": "y"
        },
        {
         "mode": "lines",
         "type": "scatter",
         "x": [
          1,
          2,
          3,
          4,
          5,
          6,
          7,
          8,
          9,
          10,
          11,
          12,
          13,
          14,
          15,
          16,
          17,
          18,
          19,
          20
         ],
         "xaxis": "x",
         "y": [
          0.388158115,
          0.2898094365,
          0.2542338668,
          0.25880849,
          0.2563254064,
          0.2700103103,
          0.254041255,
          0.2786086835,
          0.2902043307,
          0.2972164052,
          0.316584053,
          0.3162506746,
          0.3506417301,
          0.3473531646,
          0.4244749837,
          0.4103632419,
          0.4424157498,
          0.4359482096,
          0.454157533,
          0.4740976276
         ],
         "yaxis": "y"
        },
        {
         "mode": "lines",
         "type": "scatter",
         "x": [
          1,
          2,
          3,
          4,
          5,
          6,
          7,
          8,
          9,
          10,
          11,
          12,
          13,
          14,
          15,
          16,
          17,
          18,
          19,
          20
         ],
         "xaxis": "x",
         "y": [
          0.3405124091,
          0.2826540071,
          0.2694886336,
          0.2544602656,
          0.2532018046,
          0.2370437021,
          0.2253737976,
          0.257541363,
          0.2532639208,
          0.2528823186,
          0.2632655072,
          0.2831791704,
          0.2625888748,
          0.2935812256,
          0.3362076813,
          0.3949844363,
          0.3351265507,
          0.3727289896,
          0.3951836159,
          0.394354029
         ],
         "yaxis": "y"
        },
        {
         "mode": "lines",
         "type": "scatter",
         "x": [
          1,
          2,
          3,
          4,
          5,
          6,
          7,
          8,
          9,
          10,
          11,
          12,
          13,
          14,
          15,
          16,
          17,
          18,
          19,
          20
         ],
         "xaxis": "x",
         "y": [
          0.563569659,
          0.5057681601,
          0.4199288432,
          0.3862885991,
          0.3740612148,
          0.3673577302,
          0.3569905776,
          0.3283187338,
          0.3153558012,
          0.3265880637,
          0.2977612932,
          0.28765931,
          0.2796801728,
          0.2782048699,
          0.2766752403,
          0.276918919,
          0.2697631991,
          0.2721265561,
          0.268134767,
          0.2607122025
         ],
         "yaxis": "y"
        },
        {
         "mode": "lines",
         "type": "scatter",
         "x": [
          1,
          2,
          3,
          4,
          5,
          6,
          7,
          8,
          9,
          10,
          11,
          12,
          13,
          14,
          15,
          16,
          17,
          18,
          19,
          20
         ],
         "xaxis": "x",
         "y": [
          0.5675396,
          0.41169134,
          0.3773035551,
          0.3399791407,
          0.3101763603,
          0.3077324299,
          0.2902204229,
          0.297860358,
          0.2677808323,
          0.2824771117,
          0.2879667937,
          0.2616678697,
          0.2556956398,
          0.2533491462,
          0.2416438404,
          0.2532063876,
          0.2370364928,
          0.2374963171,
          0.2375927743,
          0.2416789834
         ],
         "yaxis": "y"
        },
        {
         "mode": "lines",
         "type": "scatter",
         "x": [
          1,
          2,
          3,
          4,
          5,
          6,
          7,
          8,
          9,
          10,
          11,
          12,
          13,
          14,
          15,
          16,
          17,
          18,
          19,
          20
         ],
         "xaxis": "x",
         "y": [
          0.3500331872,
          0.266957815,
          0.2473379366,
          0.254130335,
          0.233038153,
          0.2333097579,
          0.2412792846,
          0.2626496461,
          0.2661802232,
          0.3372049338,
          0.2849315193,
          0.304333371,
          0.3278403392,
          0.335187275,
          0.396626079,
          0.3746717155,
          0.4080585631,
          0.4153780946,
          0.446453706,
          0.4677130834
         ],
         "yaxis": "y"
        },
        {
         "mode": "lines",
         "type": "scatter",
         "x": [
          1,
          2,
          3,
          4,
          5,
          6,
          7,
          8,
          9,
          10,
          11,
          12,
          13,
          14,
          15,
          16,
          17,
          18,
          19,
          20
         ],
         "xaxis": "x",
         "y": [
          0.3601795164,
          0.3112214262,
          0.2935914492,
          0.2553667124,
          0.2550599703,
          0.2640887534,
          0.2516490715,
          0.2317512317,
          0.251104636,
          0.2407077673,
          0.2435442263,
          0.2543136938,
          0.2992574718,
          0.2683678086,
          0.292584643,
          0.3019945477,
          0.3290416335,
          0.3246342603,
          0.3517056375,
          0.3917784642
         ],
         "yaxis": "y"
        },
        {
         "mode": "lines",
         "type": "scatter",
         "x": [
          1,
          2,
          3,
          4,
          5,
          6,
          7,
          8,
          9,
          10,
          11,
          12,
          13,
          14,
          15,
          16,
          17,
          18,
          19,
          20
         ],
         "xaxis": "x",
         "y": [
          0.4288119011,
          0.3303086395,
          0.3033371537,
          0.27820012,
          0.2709693684,
          0.2564627253,
          0.24157228,
          0.248983768,
          0.232160969,
          0.2352522877,
          0.2302848212,
          0.2291720593,
          0.235410135,
          0.2237579978,
          0.2614131391,
          0.2403942717,
          0.295977333,
          0.2487615997,
          0.2734936633,
          0.2555521592
         ],
         "yaxis": "y"
        },
        {
         "mode": "lines",
         "type": "scatter",
         "x": [
          1,
          2,
          3,
          4,
          5,
          6,
          7,
          8,
          9,
          10,
          11,
          12,
          13,
          14,
          15,
          16
         ],
         "xaxis": "x2",
         "y": [
          0.3336021979,
          0.2770404779,
          0.2378123129,
          0.2579335237,
          0.2387574012,
          0.2290143994,
          0.2264829543,
          0.2269173216,
          0.2312023821,
          0.2535682498,
          0.2425252468,
          0.2616346399,
          0.2924339954,
          0.3010581652,
          0.3296564789,
          0.3581483989
         ],
         "yaxis": "y2"
        },
        {
         "mode": "lines",
         "type": "scatter",
         "x": [
          1
         ],
         "xaxis": "x2",
         "y": [
          0.6607890215
         ],
         "yaxis": "y2"
        },
        {
         "mode": "lines",
         "type": "scatter",
         "x": [
          1,
          2
         ],
         "xaxis": "x2",
         "y": [
          0.3903985503,
          0.3270757602
         ],
         "yaxis": "y2"
        },
        {
         "mode": "lines",
         "type": "scatter",
         "x": [
          1
         ],
         "xaxis": "x2",
         "y": [
          0.8505935143
         ],
         "yaxis": "y2"
        },
        {
         "mode": "lines",
         "type": "scatter",
         "x": [
          1,
          2
         ],
         "xaxis": "x2",
         "y": [
          0.4236320701,
          0.3341165724
         ],
         "yaxis": "y2"
        },
        {
         "mode": "lines",
         "type": "scatter",
         "x": [
          1
         ],
         "xaxis": "x2",
         "y": [
          0.507448801
         ],
         "yaxis": "y2"
        },
        {
         "mode": "lines",
         "type": "scatter",
         "x": [
          1
         ],
         "xaxis": "x2",
         "y": [
          0.4438175055
         ],
         "yaxis": "y2"
        },
        {
         "mode": "lines",
         "type": "scatter",
         "x": [
          1,
          2,
          3,
          4,
          5,
          6,
          7,
          8,
          9,
          10,
          11,
          12,
          13,
          14,
          15,
          16,
          17,
          18,
          19,
          20
         ],
         "xaxis": "x2",
         "y": [
          0.3823135968,
          0.3074238859,
          0.306863384,
          0.2640407448,
          0.258646796,
          0.2578213558,
          0.2352264012,
          0.2378485741,
          0.2240427831,
          0.2381148128,
          0.2237017476,
          0.2407647603,
          0.2337284325,
          0.2245252628,
          0.2746278301,
          0.2203303295,
          0.2464836199,
          0.2457790015,
          0.2497394121,
          0.2501408349
         ],
         "yaxis": "y2"
        },
        {
         "mode": "lines",
         "type": "scatter",
         "x": [
          1,
          2,
          3,
          4,
          5,
          6,
          7,
          8,
          9,
          10,
          11
         ],
         "xaxis": "x2",
         "y": [
          0.3506305707,
          0.2852501571,
          0.2613717695,
          0.2424438925,
          0.2278603707,
          0.224968943,
          0.2295031135,
          0.2362469246,
          0.2411343222,
          0.2478352217,
          0.2610499871
         ],
         "yaxis": "y2"
        },
        {
         "mode": "lines",
         "type": "scatter",
         "x": [
          1
         ],
         "xaxis": "x2",
         "y": [
          2.0429932868
         ],
         "yaxis": "y2"
        },
        {
         "mode": "lines",
         "type": "scatter",
         "x": [
          1,
          2
         ],
         "xaxis": "x2",
         "y": [
          0.3896363353,
          0.3352020451
         ],
         "yaxis": "y2"
        },
        {
         "mode": "lines",
         "type": "scatter",
         "x": [
          1,
          2,
          3,
          4
         ],
         "xaxis": "x2",
         "y": [
          0.3934196742,
          0.2935973983,
          0.2788946734,
          0.2691256002
         ],
         "yaxis": "y2"
        },
        {
         "mode": "lines",
         "type": "scatter",
         "x": [
          1
         ],
         "xaxis": "x2",
         "y": [
          0.5520592592
         ],
         "yaxis": "y2"
        },
        {
         "mode": "lines",
         "type": "scatter",
         "x": [
          1,
          2,
          3,
          4
         ],
         "xaxis": "x2",
         "y": [
          0.3097681391,
          0.2948691493,
          0.2448476469,
          0.2550846124
         ],
         "yaxis": "y2"
        },
        {
         "mode": "lines",
         "type": "scatter",
         "x": [
          1
         ],
         "xaxis": "x2",
         "y": [
          0.4173216022
         ],
         "yaxis": "y2"
        },
        {
         "mode": "lines",
         "type": "scatter",
         "x": [
          1,
          2,
          3,
          4,
          5,
          6,
          7,
          8,
          9,
          10,
          11,
          12,
          13,
          14,
          15,
          16
         ],
         "xaxis": "x2",
         "y": [
          0.3257773841,
          0.2743896729,
          0.2393293888,
          0.2431444459,
          0.2313553628,
          0.2339301095,
          0.2459832529,
          0.2443985152,
          0.2876829252,
          0.2640635548,
          0.2793705963,
          0.3170523174,
          0.3441872911,
          0.3328266682,
          0.3745250236,
          0.4122324081
         ],
         "yaxis": "y2"
        },
        {
         "mode": "lines",
         "type": "scatter",
         "x": [
          1
         ],
         "xaxis": "x2",
         "y": [
          0.5860550447
         ],
         "yaxis": "y2"
        },
        {
         "mode": "lines",
         "type": "scatter",
         "x": [
          1,
          2,
          3,
          4
         ],
         "xaxis": "x2",
         "y": [
          0.3200745327,
          0.2844855993,
          0.279370993,
          0.2757947868
         ],
         "yaxis": "y2"
        },
        {
         "mode": "lines",
         "type": "scatter",
         "x": [
          1,
          2,
          3,
          4
         ],
         "xaxis": "x2",
         "y": [
          0.3650635429,
          0.2953147091,
          0.28600131,
          0.2500332832
         ],
         "yaxis": "y2"
        },
        {
         "mode": "lines",
         "type": "scatter",
         "x": [
          1
         ],
         "xaxis": "x2",
         "y": [
          0.5629406353
         ],
         "yaxis": "y2"
        },
        {
         "mode": "lines",
         "type": "scatter",
         "x": [
          1
         ],
         "xaxis": "x2",
         "y": [
          0.6291669724
         ],
         "yaxis": "y2"
        },
        {
         "mode": "lines",
         "type": "scatter",
         "x": [
          1,
          2
         ],
         "xaxis": "x2",
         "y": [
          0.3791150406,
          0.3230813208
         ],
         "yaxis": "y2"
        },
        {
         "mode": "lines",
         "type": "scatter",
         "x": [
          1,
          2
         ],
         "xaxis": "x2",
         "y": [
          0.4167995335,
          0.3108917644
         ],
         "yaxis": "y2"
        },
        {
         "mode": "lines",
         "type": "scatter",
         "x": [
          1,
          2,
          3,
          4,
          5,
          6,
          7,
          8
         ],
         "xaxis": "x2",
         "y": [
          0.3398012978,
          0.2874252463,
          0.2615361019,
          0.2569067211,
          0.2432147828,
          0.2414918573,
          0.2466529496,
          0.2577569724
         ],
         "yaxis": "y2"
        },
        {
         "mode": "lines",
         "type": "scatter",
         "x": [
          1,
          2,
          3,
          4,
          5,
          6,
          7,
          8
         ],
         "xaxis": "x2",
         "y": [
          0.3368149596,
          0.2870015836,
          0.249944014,
          0.2782449104,
          0.2527738861,
          0.2712608201,
          0.2608751388,
          0.3108393714
         ],
         "yaxis": "y2"
        },
        {
         "mode": "lines",
         "type": "scatter",
         "x": [
          1,
          2,
          3,
          4,
          5,
          6,
          7,
          8,
          9,
          10,
          11,
          12,
          13,
          14,
          15,
          16
         ],
         "xaxis": "x2",
         "y": [
          0.3327266216,
          0.2584545508,
          0.2497159421,
          0.2404831319,
          0.2736721118,
          0.231708698,
          0.2397758301,
          0.2413127283,
          0.2816862979,
          0.2863348064,
          0.3203895977,
          0.3391017699,
          0.3567333632,
          0.4014383692,
          0.3935006818,
          0.3915117157
         ],
         "yaxis": "y2"
        },
        {
         "mode": "lines",
         "type": "scatter",
         "x": [
          1,
          2
         ],
         "xaxis": "x2",
         "y": [
          0.4281061971,
          0.3916878893
         ],
         "yaxis": "y2"
        },
        {
         "mode": "lines",
         "type": "scatter",
         "x": [
          1,
          2
         ],
         "xaxis": "x2",
         "y": [
          0.4194982019,
          0.3960009348
         ],
         "yaxis": "y2"
        },
        {
         "mode": "lines",
         "type": "scatter",
         "x": [
          1
         ],
         "xaxis": "x2",
         "y": [
          0.4296531226
         ],
         "yaxis": "y2"
        },
        {
         "mode": "lines",
         "type": "scatter",
         "x": [
          1
         ],
         "xaxis": "x2",
         "y": [
          0.6155214023
         ],
         "yaxis": "y2"
        },
        {
         "mode": "lines",
         "type": "scatter",
         "x": [
          1,
          2,
          3,
          4,
          5,
          6,
          7,
          8,
          9,
          10,
          11,
          12,
          13,
          14,
          15,
          16
         ],
         "xaxis": "x2",
         "y": [
          0.3410026224,
          0.2755413413,
          0.2633991225,
          0.2507422198,
          0.2479720471,
          0.2366584078,
          0.2358458657,
          0.2329669316,
          0.2530878444,
          0.2693425549,
          0.243732263,
          0.2894779374,
          0.2833793063,
          0.321119127,
          0.3415808141,
          0.3325134385
         ],
         "yaxis": "y2"
        },
        {
         "mode": "lines",
         "type": "scatter",
         "x": [
          1
         ],
         "xaxis": "x2",
         "y": [
          0.6846204419
         ],
         "yaxis": "y2"
        },
        {
         "mode": "lines",
         "type": "scatter",
         "x": [
          1,
          2
         ],
         "xaxis": "x2",
         "y": [
          0.3099954011,
          0.3158085502
         ],
         "yaxis": "y2"
        },
        {
         "mode": "lines",
         "type": "scatter",
         "x": [
          1
         ],
         "xaxis": "x2",
         "y": [
          0.7276186632
         ],
         "yaxis": "y2"
        },
        {
         "mode": "lines",
         "type": "scatter",
         "x": [
          1,
          2
         ],
         "xaxis": "x2",
         "y": [
          0.4160984398,
          0.3340673595
         ],
         "yaxis": "y2"
        },
        {
         "mode": "lines",
         "type": "scatter",
         "x": [
          1
         ],
         "xaxis": "x2",
         "y": [
          0.4494249957
         ],
         "yaxis": "y2"
        },
        {
         "mode": "lines",
         "type": "scatter",
         "x": [
          1,
          2,
          3,
          4,
          5,
          6,
          7,
          8,
          9,
          10,
          11,
          12,
          13,
          14,
          15,
          16,
          17,
          18,
          19,
          20
         ],
         "xaxis": "x2",
         "y": [
          0.4047890011,
          0.2981177013,
          0.2644248176,
          0.2468892826,
          0.329287911,
          0.2229483823,
          0.2375500279,
          0.2226932131,
          0.2268377862,
          0.2373024455,
          0.2429716727,
          0.2265206125,
          0.2519168591,
          0.2593828082,
          0.2719932965,
          0.2754646746,
          0.2927799095,
          0.3092922836,
          0.3355018155,
          0.319234373
         ],
         "yaxis": "y2"
        },
        {
         "mode": "lines",
         "type": "scatter",
         "x": [
          1,
          2
         ],
         "xaxis": "x2",
         "y": [
          0.3662682049,
          0.3151445485
         ],
         "yaxis": "y2"
        },
        {
         "mode": "lines",
         "type": "scatter",
         "x": [
          1,
          2
         ],
         "xaxis": "x2",
         "y": [
          0.3680369104,
          0.3255842794
         ],
         "yaxis": "y2"
        },
        {
         "mode": "lines",
         "type": "scatter",
         "x": [
          1
         ],
         "xaxis": "x2",
         "y": [
          0.6552709664
         ],
         "yaxis": "y2"
        },
        {
         "mode": "lines",
         "type": "scatter",
         "x": [
          1
         ],
         "xaxis": "x2",
         "y": [
          0.70699566
         ],
         "yaxis": "y2"
        },
        {
         "mode": "lines",
         "type": "scatter",
         "x": [
          1,
          2,
          3,
          4,
          5,
          6,
          7,
          8
         ],
         "xaxis": "x2",
         "y": [
          0.3246657064,
          0.2808264588,
          0.2863244871,
          0.2314647507,
          0.2434196361,
          0.2353273486,
          0.2388960304,
          0.2606001031
         ],
         "yaxis": "y2"
        },
        {
         "mode": "lines",
         "type": "scatter",
         "x": [
          1
         ],
         "xaxis": "x2",
         "y": [
          0.7079785783
         ],
         "yaxis": "y2"
        },
        {
         "mode": "lines",
         "type": "scatter",
         "x": [
          1
         ],
         "xaxis": "x2",
         "y": [
          0.5111870705
         ],
         "yaxis": "y2"
        },
        {
         "mode": "lines",
         "type": "scatter",
         "x": [
          1,
          2
         ],
         "xaxis": "x2",
         "y": [
          0.4799146158,
          0.3747630358
         ],
         "yaxis": "y2"
        },
        {
         "mode": "lines",
         "type": "scatter",
         "x": [
          1,
          2
         ],
         "xaxis": "x2",
         "y": [
          0.363444396,
          0.3344922605
         ],
         "yaxis": "y2"
        },
        {
         "mode": "lines",
         "type": "scatter",
         "x": [
          1
         ],
         "xaxis": "x2",
         "y": [
          0.762082339
         ],
         "yaxis": "y2"
        },
        {
         "mode": "lines",
         "type": "scatter",
         "x": [
          1,
          2
         ],
         "xaxis": "x2",
         "y": [
          0.3670512676,
          0.317019417
         ],
         "yaxis": "y2"
        },
        {
         "mode": "lines",
         "type": "scatter",
         "x": [
          1,
          2
         ],
         "xaxis": "x2",
         "y": [
          0.4097438421,
          0.3348477645
         ],
         "yaxis": "y2"
        },
        {
         "mode": "lines",
         "type": "scatter",
         "x": [
          1,
          2
         ],
         "xaxis": "x2",
         "y": [
          0.4165303236,
          0.3402291913
         ],
         "yaxis": "y2"
        },
        {
         "mode": "lines",
         "type": "scatter",
         "x": [
          1
         ],
         "xaxis": "x2",
         "y": [
          0.4327318328
         ],
         "yaxis": "y2"
        },
        {
         "mode": "lines",
         "type": "scatter",
         "x": [
          1
         ],
         "xaxis": "x2",
         "y": [
          0.5345477263
         ],
         "yaxis": "y2"
        },
        {
         "mode": "lines",
         "type": "scatter",
         "x": [
          1,
          2,
          3,
          4
         ],
         "xaxis": "x2",
         "y": [
          0.4058469665,
          0.2857848758,
          0.3065976613,
          0.257600151
         ],
         "yaxis": "y2"
        },
        {
         "mode": "lines",
         "type": "scatter",
         "x": [
          1
         ],
         "xaxis": "x2",
         "y": [
          0.4599858706
         ],
         "yaxis": "y2"
        },
        {
         "mode": "lines",
         "type": "scatter",
         "x": [
          1,
          2,
          3,
          4,
          5,
          6,
          7,
          8,
          9,
          10,
          11,
          12,
          13,
          14,
          15,
          16
         ],
         "xaxis": "x2",
         "y": [
          0.3398810438,
          0.2822557421,
          0.2985726299,
          0.2442927639,
          0.2379881081,
          0.237086033,
          0.2349918104,
          0.2364742248,
          0.232720269,
          0.2739743751,
          0.2540829384,
          0.2785535507,
          0.308681978,
          0.3406969621,
          0.3323042403,
          0.3333239577
         ],
         "yaxis": "y2"
        },
        {
         "mode": "lines",
         "type": "scatter",
         "x": [
          1
         ],
         "xaxis": "x2",
         "y": [
          0.6438075237
         ],
         "yaxis": "y2"
        },
        {
         "mode": "lines",
         "type": "scatter",
         "x": [
          1
         ],
         "xaxis": "x2",
         "y": [
          0.7396836439
         ],
         "yaxis": "y2"
        },
        {
         "mode": "lines",
         "type": "scatter",
         "x": [
          1,
          2
         ],
         "xaxis": "x2",
         "y": [
          0.4308497143,
          0.365208136
         ],
         "yaxis": "y2"
        },
        {
         "mode": "lines",
         "type": "scatter",
         "x": [
          1
         ],
         "xaxis": "x2",
         "y": [
          2.2283713926
         ],
         "yaxis": "y2"
        },
        {
         "mode": "lines",
         "type": "scatter",
         "x": [
          1
         ],
         "xaxis": "x2",
         "y": [
          0.4990625686
         ],
         "yaxis": "y2"
        },
        {
         "mode": "lines",
         "type": "scatter",
         "x": [
          1,
          2
         ],
         "xaxis": "x2",
         "y": [
          0.3495245487,
          0.3202361987
         ],
         "yaxis": "y2"
        },
        {
         "mode": "lines",
         "type": "scatter",
         "x": [
          1,
          2
         ],
         "xaxis": "x2",
         "y": [
          0.3956066701,
          0.3234209471
         ],
         "yaxis": "y2"
        },
        {
         "mode": "lines",
         "type": "scatter",
         "x": [
          1,
          2,
          3,
          4
         ],
         "xaxis": "x2",
         "y": [
          0.3283128468,
          0.2882934733,
          0.2669604088,
          0.2607588692
         ],
         "yaxis": "y2"
        },
        {
         "mode": "lines",
         "type": "scatter",
         "x": [
          1,
          2,
          3,
          4,
          5,
          6,
          7,
          8,
          9,
          10,
          11,
          12,
          13,
          14,
          15,
          16,
          17,
          18,
          19,
          20
         ],
         "xaxis": "x2",
         "y": [
          0.3366855931,
          0.3025765058,
          0.2748504917,
          0.250593437,
          0.2427688536,
          0.2485500303,
          0.2312258156,
          0.2482344005,
          0.2317481348,
          0.2520245222,
          0.2520298085,
          0.2865581571,
          0.2694829443,
          0.2857191128,
          0.3083276606,
          0.3099555001,
          0.3356962196,
          0.3560018282,
          0.385873649,
          0.3794523617
         ],
         "yaxis": "y2"
        },
        {
         "mode": "lines",
         "type": "scatter",
         "x": [
          1
         ],
         "xaxis": "x2",
         "y": [
          0.6089501089
         ],
         "yaxis": "y2"
        },
        {
         "mode": "lines",
         "type": "scatter",
         "x": [
          1
         ],
         "xaxis": "x2",
         "y": [
          1.4531184194
         ],
         "yaxis": "y2"
        },
        {
         "mode": "lines",
         "type": "scatter",
         "x": [
          1,
          2,
          3,
          4,
          5,
          6,
          7,
          8,
          9,
          10,
          11,
          12,
          13,
          14,
          15,
          16
         ],
         "xaxis": "x2",
         "y": [
          0.3513643158,
          0.3034653245,
          0.2617334225,
          0.2457839082,
          0.2456464805,
          0.2658085582,
          0.2321173896,
          0.2450111097,
          0.2797316354,
          0.2395161942,
          0.2546036936,
          0.2723817533,
          0.2613344472,
          0.2863362114,
          0.2958167656,
          0.3146362772
         ],
         "yaxis": "y2"
        },
        {
         "mode": "lines",
         "type": "scatter",
         "x": [
          1
         ],
         "xaxis": "x2",
         "y": [
          0.6116902999
         ],
         "yaxis": "y2"
        },
        {
         "mode": "lines",
         "type": "scatter",
         "x": [
          1
         ],
         "xaxis": "x2",
         "y": [
          0.5196089267
         ],
         "yaxis": "y2"
        },
        {
         "mode": "lines",
         "type": "scatter",
         "x": [
          1
         ],
         "xaxis": "x2",
         "y": [
          0.6404730852
         ],
         "yaxis": "y2"
        },
        {
         "mode": "lines",
         "type": "scatter",
         "x": [
          1
         ],
         "xaxis": "x2",
         "y": [
          0.554696021
         ],
         "yaxis": "y2"
        },
        {
         "mode": "lines",
         "type": "scatter",
         "x": [
          1
         ],
         "xaxis": "x2",
         "y": [
          0.4461624751
         ],
         "yaxis": "y2"
        },
        {
         "mode": "lines",
         "type": "scatter",
         "x": [
          1
         ],
         "xaxis": "x2",
         "y": [
          0.5061861386
         ],
         "yaxis": "y2"
        },
        {
         "mode": "lines",
         "type": "scatter",
         "x": [
          1
         ],
         "xaxis": "x2",
         "y": [
          0.5449745915
         ],
         "yaxis": "y2"
        },
        {
         "mode": "lines",
         "type": "scatter",
         "x": [
          1,
          2,
          3,
          4,
          5,
          6,
          7,
          8,
          9,
          10,
          11,
          12,
          13,
          14,
          15,
          16
         ],
         "xaxis": "x2",
         "y": [
          0.3301054025,
          0.2867805614,
          0.2515204221,
          0.2483076514,
          0.2254805399,
          0.2456047011,
          0.2851998248,
          0.2243943406,
          0.2453555067,
          0.2345448395,
          0.2566758609,
          0.2617933712,
          0.293750396,
          0.2905143568,
          0.3481512522,
          0.3238384784
         ],
         "yaxis": "y2"
        },
        {
         "mode": "lines",
         "type": "scatter",
         "x": [
          1
         ],
         "xaxis": "x2",
         "y": [
          0.6395724543
         ],
         "yaxis": "y2"
        },
        {
         "mode": "lines",
         "type": "scatter",
         "x": [
          1,
          2,
          3,
          4,
          5,
          6,
          7,
          8
         ],
         "xaxis": "x2",
         "y": [
          0.3521749007,
          0.2664607831,
          0.2551740971,
          0.2435463497,
          0.2740370692,
          0.2574474311,
          0.2482697579,
          0.2886539426
         ],
         "yaxis": "y2"
        },
        {
         "mode": "lines",
         "type": "scatter",
         "x": [
          1
         ],
         "xaxis": "x2",
         "y": [
          0.4697744732
         ],
         "yaxis": "y2"
        },
        {
         "mode": "lines",
         "type": "scatter",
         "x": [
          1
         ],
         "xaxis": "x2",
         "y": [
          0.5270011217
         ],
         "yaxis": "y2"
        },
        {
         "mode": "lines",
         "type": "scatter",
         "x": [
          1,
          2
         ],
         "xaxis": "x2",
         "y": [
          0.4035931968,
          0.3594707157
         ],
         "yaxis": "y2"
        },
        {
         "mode": "lines",
         "type": "scatter",
         "x": [
          1,
          2,
          3,
          4
         ],
         "xaxis": "x2",
         "y": [
          0.3404423814,
          0.2818147618,
          0.2577044852,
          0.2578586989
         ],
         "yaxis": "y2"
        },
        {
         "mode": "lines",
         "type": "scatter",
         "x": [
          1
         ],
         "xaxis": "x2",
         "y": [
          0.5029062495
         ],
         "yaxis": "y2"
        },
        {
         "mode": "lines",
         "type": "scatter",
         "x": [
          1,
          2,
          3,
          4
         ],
         "xaxis": "x2",
         "y": [
          0.3807455064,
          0.3116531085,
          0.275184771,
          0.2559368209
         ],
         "yaxis": "y2"
        },
        {
         "mode": "lines",
         "type": "scatter",
         "x": [
          1
         ],
         "xaxis": "x2",
         "y": [
          0.5226763548
         ],
         "yaxis": "y2"
        },
        {
         "mode": "lines",
         "type": "scatter",
         "x": [
          1,
          2
         ],
         "xaxis": "x2",
         "y": [
          0.4122780759,
          0.3218554575
         ],
         "yaxis": "y2"
        },
        {
         "mode": "lines",
         "type": "scatter",
         "x": [
          1
         ],
         "xaxis": "x2",
         "y": [
          0.510888553
         ],
         "yaxis": "y2"
        },
        {
         "mode": "lines",
         "type": "scatter",
         "x": [
          1
         ],
         "xaxis": "x2",
         "y": [
          0.6754892858
         ],
         "yaxis": "y2"
        },
        {
         "mode": "lines",
         "type": "scatter",
         "x": [
          1
         ],
         "xaxis": "x2",
         "y": [
          0.4406978604
         ],
         "yaxis": "y2"
        },
        {
         "mode": "lines",
         "type": "scatter",
         "x": [
          1,
          2,
          3,
          4
         ],
         "xaxis": "x2",
         "y": [
          0.3408781839,
          0.297568497,
          0.2615255118,
          0.2618917699
         ],
         "yaxis": "y2"
        }
       ],
       "layout": {
        "annotations": [
         {
          "font": {
           "size": 16
          },
          "showarrow": false,
          "text": "Random Search",
          "x": 0.225,
          "xanchor": "center",
          "xref": "paper",
          "y": 1,
          "yanchor": "bottom",
          "yref": "paper"
         },
         {
          "font": {
           "size": 16
          },
          "showarrow": false,
          "text": "Hyperband",
          "x": 0.775,
          "xanchor": "center",
          "xref": "paper",
          "y": 1,
          "yanchor": "bottom",
          "yref": "paper"
         }
        ],
        "height": 400,
        "showlegend": false,
        "template": {
         "data": {
          "bar": [
           {
            "error_x": {
             "color": "#2a3f5f"
            },
            "error_y": {
             "color": "#2a3f5f"
            },
            "marker": {
             "line": {
              "color": "white",
              "width": 0.5
             },
             "pattern": {
              "fillmode": "overlay",
              "size": 10,
              "solidity": 0.2
             }
            },
            "type": "bar"
           }
          ],
          "barpolar": [
           {
            "marker": {
             "line": {
              "color": "white",
              "width": 0.5
             },
             "pattern": {
              "fillmode": "overlay",
              "size": 10,
              "solidity": 0.2
             }
            },
            "type": "barpolar"
           }
          ],
          "carpet": [
           {
            "aaxis": {
             "endlinecolor": "#2a3f5f",
             "gridcolor": "#C8D4E3",
             "linecolor": "#C8D4E3",
             "minorgridcolor": "#C8D4E3",
             "startlinecolor": "#2a3f5f"
            },
            "baxis": {
             "endlinecolor": "#2a3f5f",
             "gridcolor": "#C8D4E3",
             "linecolor": "#C8D4E3",
             "minorgridcolor": "#C8D4E3",
             "startlinecolor": "#2a3f5f"
            },
            "type": "carpet"
           }
          ],
          "choropleth": [
           {
            "colorbar": {
             "outlinewidth": 0,
             "ticks": ""
            },
            "type": "choropleth"
           }
          ],
          "contour": [
           {
            "colorbar": {
             "outlinewidth": 0,
             "ticks": ""
            },
            "colorscale": [
             [
              0,
              "#0d0887"
             ],
             [
              0.1111111111111111,
              "#46039f"
             ],
             [
              0.2222222222222222,
              "#7201a8"
             ],
             [
              0.3333333333333333,
              "#9c179e"
             ],
             [
              0.4444444444444444,
              "#bd3786"
             ],
             [
              0.5555555555555556,
              "#d8576b"
             ],
             [
              0.6666666666666666,
              "#ed7953"
             ],
             [
              0.7777777777777778,
              "#fb9f3a"
             ],
             [
              0.8888888888888888,
              "#fdca26"
             ],
             [
              1,
              "#f0f921"
             ]
            ],
            "type": "contour"
           }
          ],
          "contourcarpet": [
           {
            "colorbar": {
             "outlinewidth": 0,
             "ticks": ""
            },
            "type": "contourcarpet"
           }
          ],
          "heatmap": [
           {
            "colorbar": {
             "outlinewidth": 0,
             "ticks": ""
            },
            "colorscale": [
             [
              0,
              "#0d0887"
             ],
             [
              0.1111111111111111,
              "#46039f"
             ],
             [
              0.2222222222222222,
              "#7201a8"
             ],
             [
              0.3333333333333333,
              "#9c179e"
             ],
             [
              0.4444444444444444,
              "#bd3786"
             ],
             [
              0.5555555555555556,
              "#d8576b"
             ],
             [
              0.6666666666666666,
              "#ed7953"
             ],
             [
              0.7777777777777778,
              "#fb9f3a"
             ],
             [
              0.8888888888888888,
              "#fdca26"
             ],
             [
              1,
              "#f0f921"
             ]
            ],
            "type": "heatmap"
           }
          ],
          "heatmapgl": [
           {
            "colorbar": {
             "outlinewidth": 0,
             "ticks": ""
            },
            "colorscale": [
             [
              0,
              "#0d0887"
             ],
             [
              0.1111111111111111,
              "#46039f"
             ],
             [
              0.2222222222222222,
              "#7201a8"
             ],
             [
              0.3333333333333333,
              "#9c179e"
             ],
             [
              0.4444444444444444,
              "#bd3786"
             ],
             [
              0.5555555555555556,
              "#d8576b"
             ],
             [
              0.6666666666666666,
              "#ed7953"
             ],
             [
              0.7777777777777778,
              "#fb9f3a"
             ],
             [
              0.8888888888888888,
              "#fdca26"
             ],
             [
              1,
              "#f0f921"
             ]
            ],
            "type": "heatmapgl"
           }
          ],
          "histogram": [
           {
            "marker": {
             "pattern": {
              "fillmode": "overlay",
              "size": 10,
              "solidity": 0.2
             }
            },
            "type": "histogram"
           }
          ],
          "histogram2d": [
           {
            "colorbar": {
             "outlinewidth": 0,
             "ticks": ""
            },
            "colorscale": [
             [
              0,
              "#0d0887"
             ],
             [
              0.1111111111111111,
              "#46039f"
             ],
             [
              0.2222222222222222,
              "#7201a8"
             ],
             [
              0.3333333333333333,
              "#9c179e"
             ],
             [
              0.4444444444444444,
              "#bd3786"
             ],
             [
              0.5555555555555556,
              "#d8576b"
             ],
             [
              0.6666666666666666,
              "#ed7953"
             ],
             [
              0.7777777777777778,
              "#fb9f3a"
             ],
             [
              0.8888888888888888,
              "#fdca26"
             ],
             [
              1,
              "#f0f921"
             ]
            ],
            "type": "histogram2d"
           }
          ],
          "histogram2dcontour": [
           {
            "colorbar": {
             "outlinewidth": 0,
             "ticks": ""
            },
            "colorscale": [
             [
              0,
              "#0d0887"
             ],
             [
              0.1111111111111111,
              "#46039f"
             ],
             [
              0.2222222222222222,
              "#7201a8"
             ],
             [
              0.3333333333333333,
              "#9c179e"
             ],
             [
              0.4444444444444444,
              "#bd3786"
             ],
             [
              0.5555555555555556,
              "#d8576b"
             ],
             [
              0.6666666666666666,
              "#ed7953"
             ],
             [
              0.7777777777777778,
              "#fb9f3a"
             ],
             [
              0.8888888888888888,
              "#fdca26"
             ],
             [
              1,
              "#f0f921"
             ]
            ],
            "type": "histogram2dcontour"
           }
          ],
          "mesh3d": [
           {
            "colorbar": {
             "outlinewidth": 0,
             "ticks": ""
            },
            "type": "mesh3d"
           }
          ],
          "parcoords": [
           {
            "line": {
             "colorbar": {
              "outlinewidth": 0,
              "ticks": ""
             }
            },
            "type": "parcoords"
           }
          ],
          "pie": [
           {
            "automargin": true,
            "type": "pie"
           }
          ],
          "scatter": [
           {
            "fillpattern": {
             "fillmode": "overlay",
             "size": 10,
             "solidity": 0.2
            },
            "type": "scatter"
           }
          ],
          "scatter3d": [
           {
            "line": {
             "colorbar": {
              "outlinewidth": 0,
              "ticks": ""
             }
            },
            "marker": {
             "colorbar": {
              "outlinewidth": 0,
              "ticks": ""
             }
            },
            "type": "scatter3d"
           }
          ],
          "scattercarpet": [
           {
            "marker": {
             "colorbar": {
              "outlinewidth": 0,
              "ticks": ""
             }
            },
            "type": "scattercarpet"
           }
          ],
          "scattergeo": [
           {
            "marker": {
             "colorbar": {
              "outlinewidth": 0,
              "ticks": ""
             }
            },
            "type": "scattergeo"
           }
          ],
          "scattergl": [
           {
            "marker": {
             "colorbar": {
              "outlinewidth": 0,
              "ticks": ""
             }
            },
            "type": "scattergl"
           }
          ],
          "scattermapbox": [
           {
            "marker": {
             "colorbar": {
              "outlinewidth": 0,
              "ticks": ""
             }
            },
            "type": "scattermapbox"
           }
          ],
          "scatterpolar": [
           {
            "marker": {
             "colorbar": {
              "outlinewidth": 0,
              "ticks": ""
             }
            },
            "type": "scatterpolar"
           }
          ],
          "scatterpolargl": [
           {
            "marker": {
             "colorbar": {
              "outlinewidth": 0,
              "ticks": ""
             }
            },
            "type": "scatterpolargl"
           }
          ],
          "scatterternary": [
           {
            "marker": {
             "colorbar": {
              "outlinewidth": 0,
              "ticks": ""
             }
            },
            "type": "scatterternary"
           }
          ],
          "surface": [
           {
            "colorbar": {
             "outlinewidth": 0,
             "ticks": ""
            },
            "colorscale": [
             [
              0,
              "#0d0887"
             ],
             [
              0.1111111111111111,
              "#46039f"
             ],
             [
              0.2222222222222222,
              "#7201a8"
             ],
             [
              0.3333333333333333,
              "#9c179e"
             ],
             [
              0.4444444444444444,
              "#bd3786"
             ],
             [
              0.5555555555555556,
              "#d8576b"
             ],
             [
              0.6666666666666666,
              "#ed7953"
             ],
             [
              0.7777777777777778,
              "#fb9f3a"
             ],
             [
              0.8888888888888888,
              "#fdca26"
             ],
             [
              1,
              "#f0f921"
             ]
            ],
            "type": "surface"
           }
          ],
          "table": [
           {
            "cells": {
             "fill": {
              "color": "#EBF0F8"
             },
             "line": {
              "color": "white"
             }
            },
            "header": {
             "fill": {
              "color": "#C8D4E3"
             },
             "line": {
              "color": "white"
             }
            },
            "type": "table"
           }
          ]
         },
         "layout": {
          "annotationdefaults": {
           "arrowcolor": "#2a3f5f",
           "arrowhead": 0,
           "arrowwidth": 1
          },
          "autotypenumbers": "strict",
          "coloraxis": {
           "colorbar": {
            "outlinewidth": 0,
            "ticks": ""
           }
          },
          "colorscale": {
           "diverging": [
            [
             0,
             "#8e0152"
            ],
            [
             0.1,
             "#c51b7d"
            ],
            [
             0.2,
             "#de77ae"
            ],
            [
             0.3,
             "#f1b6da"
            ],
            [
             0.4,
             "#fde0ef"
            ],
            [
             0.5,
             "#f7f7f7"
            ],
            [
             0.6,
             "#e6f5d0"
            ],
            [
             0.7,
             "#b8e186"
            ],
            [
             0.8,
             "#7fbc41"
            ],
            [
             0.9,
             "#4d9221"
            ],
            [
             1,
             "#276419"
            ]
           ],
           "sequential": [
            [
             0,
             "#0d0887"
            ],
            [
             0.1111111111111111,
             "#46039f"
            ],
            [
             0.2222222222222222,
             "#7201a8"
            ],
            [
             0.3333333333333333,
             "#9c179e"
            ],
            [
             0.4444444444444444,
             "#bd3786"
            ],
            [
             0.5555555555555556,
             "#d8576b"
            ],
            [
             0.6666666666666666,
             "#ed7953"
            ],
            [
             0.7777777777777778,
             "#fb9f3a"
            ],
            [
             0.8888888888888888,
             "#fdca26"
            ],
            [
             1,
             "#f0f921"
            ]
           ],
           "sequentialminus": [
            [
             0,
             "#0d0887"
            ],
            [
             0.1111111111111111,
             "#46039f"
            ],
            [
             0.2222222222222222,
             "#7201a8"
            ],
            [
             0.3333333333333333,
             "#9c179e"
            ],
            [
             0.4444444444444444,
             "#bd3786"
            ],
            [
             0.5555555555555556,
             "#d8576b"
            ],
            [
             0.6666666666666666,
             "#ed7953"
            ],
            [
             0.7777777777777778,
             "#fb9f3a"
            ],
            [
             0.8888888888888888,
             "#fdca26"
            ],
            [
             1,
             "#f0f921"
            ]
           ]
          },
          "colorway": [
           "#636efa",
           "#EF553B",
           "#00cc96",
           "#ab63fa",
           "#FFA15A",
           "#19d3f3",
           "#FF6692",
           "#B6E880",
           "#FF97FF",
           "#FECB52"
          ],
          "font": {
           "color": "#2a3f5f"
          },
          "geo": {
           "bgcolor": "white",
           "lakecolor": "white",
           "landcolor": "white",
           "showlakes": true,
           "showland": true,
           "subunitcolor": "#C8D4E3"
          },
          "hoverlabel": {
           "align": "left"
          },
          "hovermode": "closest",
          "mapbox": {
           "style": "light"
          },
          "paper_bgcolor": "white",
          "plot_bgcolor": "white",
          "polar": {
           "angularaxis": {
            "gridcolor": "#EBF0F8",
            "linecolor": "#EBF0F8",
            "ticks": ""
           },
           "bgcolor": "white",
           "radialaxis": {
            "gridcolor": "#EBF0F8",
            "linecolor": "#EBF0F8",
            "ticks": ""
           }
          },
          "scene": {
           "xaxis": {
            "backgroundcolor": "white",
            "gridcolor": "#DFE8F3",
            "gridwidth": 2,
            "linecolor": "#EBF0F8",
            "showbackground": true,
            "ticks": "",
            "zerolinecolor": "#EBF0F8"
           },
           "yaxis": {
            "backgroundcolor": "white",
            "gridcolor": "#DFE8F3",
            "gridwidth": 2,
            "linecolor": "#EBF0F8",
            "showbackground": true,
            "ticks": "",
            "zerolinecolor": "#EBF0F8"
           },
           "zaxis": {
            "backgroundcolor": "white",
            "gridcolor": "#DFE8F3",
            "gridwidth": 2,
            "linecolor": "#EBF0F8",
            "showbackground": true,
            "ticks": "",
            "zerolinecolor": "#EBF0F8"
           }
          },
          "shapedefaults": {
           "line": {
            "color": "#2a3f5f"
           }
          },
          "ternary": {
           "aaxis": {
            "gridcolor": "#DFE8F3",
            "linecolor": "#A2B1C6",
            "ticks": ""
           },
           "baxis": {
            "gridcolor": "#DFE8F3",
            "linecolor": "#A2B1C6",
            "ticks": ""
           },
           "bgcolor": "white",
           "caxis": {
            "gridcolor": "#DFE8F3",
            "linecolor": "#A2B1C6",
            "ticks": ""
           }
          },
          "title": {
           "x": 0.05
          },
          "xaxis": {
           "automargin": true,
           "gridcolor": "#EBF0F8",
           "linecolor": "#EBF0F8",
           "ticks": "",
           "title": {
            "standoff": 15
           },
           "zerolinecolor": "#EBF0F8",
           "zerolinewidth": 2
          },
          "yaxis": {
           "automargin": true,
           "gridcolor": "#EBF0F8",
           "linecolor": "#EBF0F8",
           "ticks": "",
           "title": {
            "standoff": 15
           },
           "zerolinecolor": "#EBF0F8",
           "zerolinewidth": 2
          }
         }
        },
        "title": {
         "text": "Training Loss Comparison"
        },
        "width": 900,
        "xaxis": {
         "anchor": "y",
         "domain": [
          0,
          0.45
         ],
         "title": {
          "text": "Epoch"
         }
        },
        "xaxis2": {
         "anchor": "y2",
         "domain": [
          0.55,
          1
         ],
         "title": {
          "text": "Epoch"
         }
        },
        "yaxis": {
         "anchor": "x",
         "domain": [
          0,
          1
         ],
         "title": {
          "text": "Loss"
         }
        },
        "yaxis2": {
         "anchor": "x2",
         "domain": [
          0,
          1
         ],
         "title": {
          "text": "Loss"
         }
        }
       }
      },
      "text/html": [
       "<div>                            <div id=\"7adaf9b4-afbe-4114-ad1d-0da96b30037e\" class=\"plotly-graph-div\" style=\"height:400px; width:900px;\"></div>            <script type=\"text/javascript\">                require([\"plotly\"], function(Plotly) {                    window.PLOTLYENV=window.PLOTLYENV || {};                                    if (document.getElementById(\"7adaf9b4-afbe-4114-ad1d-0da96b30037e\")) {                    Plotly.newPlot(                        \"7adaf9b4-afbe-4114-ad1d-0da96b30037e\",                        [{\"mode\":\"lines\",\"x\":[1,2,3,4,5,6,7,8,9,10,11,12,13,14,15,16,17,18,19,20],\"y\":[1.9979039266,1.0366093516,0.7360471842,0.6452989623,0.5923545527,0.5654049638,0.5429277166,0.5143497518,0.505309203,0.4849206501,0.4700089478,0.4641882497,0.448500238,0.4378474912,0.4283597,0.4219799752,0.415602261,0.4054566425,0.4007532861,0.3991427207],\"type\":\"scatter\",\"xaxis\":\"x\",\"yaxis\":\"y\"},{\"mode\":\"lines\",\"x\":[1,2,3,4,5,6,7,8,9,10,11,12,13,14,15,16,17,18,19,20],\"y\":[0.3550318291,0.3304352799,0.2836186944,0.2700989382,0.2509259927,0.2363184473,0.2267519316,0.2227707995,0.2224123558,0.2293897204,0.2105191899,0.2114499799,0.250908287,0.2118271744,0.2213783219,0.2216783537,0.239277179,0.2355630566,0.2604692929,0.2455811508],\"type\":\"scatter\",\"xaxis\":\"x\",\"yaxis\":\"y\"},{\"mode\":\"lines\",\"x\":[1,2,3,4,5,6,7,8,9,10,11,12,13,14,15,16,17,18,19,20],\"y\":[0.3198633499,0.2689331637,0.2796291503,0.2539445315,0.247512761,0.2540217313,0.2637807525,0.2627080959,0.3152436863,0.3314287889,0.3718457064,0.3276203931,0.3711800552,0.3686501307,0.4130556419,0.4040900405,0.4162117711,0.5001489264,0.4701026349,0.4885663756],\"type\":\"scatter\",\"xaxis\":\"x\",\"yaxis\":\"y\"},{\"mode\":\"lines\",\"x\":[1,2,3,4,5,6,7,8,9,10,11,12,13,14,15,16,17,18,19,20],\"y\":[0.4389458635,0.3732218997,0.3362558427,0.3069369698,0.2895105763,0.2910393747,0.2772757753,0.2822146896,0.2750518112,0.2669425472,0.2573670935,0.2570595504,0.2458868829,0.2525247853,0.2404534111,0.2462880337,0.2558737844,0.2378787804,0.2526862356,0.2465574028],\"type\":\"scatter\",\"xaxis\":\"x\",\"yaxis\":\"y\"},{\"mode\":\"lines\",\"x\":[1,2,3,4,5,6,7,8,9,10,11,12,13,14,15,16,17,18,19,20],\"y\":[0.4022451337,0.2850638378,0.2559962733,0.2265708846,0.2364401095,0.2422566136,0.2328167166,0.2233146633,0.2394302811,0.2444914395,0.2637438861,0.2635231858,0.2810055975,0.3215117588,0.3069775891,0.3331044818,0.3662219921,0.3775050465,0.4048061166,0.3958461923],\"type\":\"scatter\",\"xaxis\":\"x\",\"yaxis\":\"y\"},{\"mode\":\"lines\",\"x\":[1,2,3,4,5,6,7,8,9,10,11,12,13,14,15,16,17,18,19,20],\"y\":[0.3574068223,0.3238387051,0.3150534453,0.2514687429,0.2355476561,0.2399737871,0.2468574851,0.2529845494,0.2333386557,0.248770767,0.2605686526,0.2524408368,0.2565581605,0.2966319637,0.2923385961,0.2936915092,0.2860391298,0.3270527622,0.3319919993,0.3586679301],\"type\":\"scatter\",\"xaxis\":\"x\",\"yaxis\":\"y\"},{\"mode\":\"lines\",\"x\":[1,2,3,4,5,6,7,8,9,10,11,12,13,14,15,16,17,18,19,20],\"y\":[0.4028762654,0.3433330961,0.3104708459,0.3422080884,0.2734637084,0.2717352761,0.248704106,0.2568083683,0.252265347,0.247002071,0.2293082065,0.2199899423,0.2362678008,0.2194104825,0.2177034869,0.2239157635,0.23587434,0.2278939874,0.2319154355,0.226527695],\"type\":\"scatter\",\"xaxis\":\"x\",\"yaxis\":\"y\"},{\"mode\":\"lines\",\"x\":[1,2,3,4,5,6,7,8,9,10,11,12,13,14,15,16,17,18,19,20],\"y\":[0.49658695,0.4020830275,0.3791575483,0.3480185873,0.3319971817,0.3171070287,0.3023841227,0.292699404,0.2772982382,0.2731205439,0.2681514893,0.283198112,0.2607418489,0.2689332898,0.2513324607,0.2444666568,0.2455903516,0.2483187921,0.23912123,0.2419646544],\"type\":\"scatter\",\"xaxis\":\"x\",\"yaxis\":\"y\"},{\"mode\":\"lines\",\"x\":[1,2,3,4,5,6,7,8,9,10,11,12,13,14,15,16,17,18,19,20],\"y\":[0.7021867588,0.5679334345,0.4945848445,0.479543607,0.420343867,0.3821596351,0.3740944568,0.3653683601,0.3440645125,0.3401263957,0.3296388969,0.3247137816,0.3198332855,0.3015230647,0.2994940332,0.3068998913,0.2846898058,0.2878318757,0.2825699964,0.2856846309],\"type\":\"scatter\",\"xaxis\":\"x\",\"yaxis\":\"y\"},{\"mode\":\"lines\",\"x\":[1,2,3,4,5,6,7,8,9,10,11,12,13,14,15,16,17,18,19,20],\"y\":[0.3586196867,0.3082086422,0.273529284,0.2602749469,0.2557956467,0.2676514328,0.2453806486,0.2512313955,0.2394210813,0.2676522789,0.2690530309,0.2765002484,0.3025717252,0.3372495422,0.3545502482,0.3558018423,0.3803232761,0.3767705166,0.4016750973,0.4110255312],\"type\":\"scatter\",\"xaxis\":\"x\",\"yaxis\":\"y\"},{\"mode\":\"lines\",\"x\":[1,2,3,4,5,6,7,8,9,10,11,12,13,14,15,16,17,18,19,20],\"y\":[0.4134671715,0.3527093373,0.3091693799,0.2924491802,0.3194499456,0.2602650369,0.2578734123,0.2382220363,0.2377724366,0.2597876595,0.2289879004,0.2428251575,0.23493286,0.232042303,0.2261287636,0.2321526571,0.2112984878,0.2211734726,0.2298156853,0.2336389252],\"type\":\"scatter\",\"xaxis\":\"x\",\"yaxis\":\"y\"},{\"mode\":\"lines\",\"x\":[1,2,3,4,5,6,7,8,9,10,11,12,13,14,15,16,17,18,19,20],\"y\":[0.414720791,0.3779554808,0.3187180056,0.2878210548,0.2650653917,0.2532148348,0.2481263467,0.2570830137,0.226644425,0.2346918542,0.2431248952,0.2451132447,0.2173084043,0.2149958256,0.220778492,0.2184691616,0.2271634256,0.2226905039,0.2194709048,0.227512134],\"type\":\"scatter\",\"xaxis\":\"x\",\"yaxis\":\"y\"},{\"mode\":\"lines\",\"x\":[1,2,3,4,5,6,7,8,9,10,11,12,13,14,15,16,17,18,19,20],\"y\":[0.5425158482,0.4376058631,0.4349495055,0.3491658288,0.3587401351,0.3216217581,0.3021841766,0.3073742336,0.2978212713,0.2814503004,0.2746278248,0.2661568986,0.2744440022,0.2611863789,0.2917170013,0.2738731868,0.2434414745,0.2450538331,0.2472945959,0.2425356355],\"type\":\"scatter\",\"xaxis\":\"x\",\"yaxis\":\"y\"},{\"mode\":\"lines\",\"x\":[1,2,3,4,5,6,7,8,9,10,11,12,13,14,15,16,17,18,19,20],\"y\":[0.401626793,0.323449649,0.2916687886,0.2738133204,0.2469356909,0.2419021121,0.2717930074,0.2412539137,0.2309685414,0.2417010262,0.2563214428,0.2361674787,0.2244875835,0.2303051004,0.2347688881,0.2406580583,0.2492530472,0.2606192218,0.2716003255,0.2665122904],\"type\":\"scatter\",\"xaxis\":\"x\",\"yaxis\":\"y\"},{\"mode\":\"lines\",\"x\":[1,2,3,4,5,6,7,8,9,10,11,12,13,14,15,16,17,18,19,20],\"y\":[0.766304493,0.607065125,0.4781271885,0.4315760697,0.3897950296,0.3669830886,0.3606797733,0.340422916,0.3370315873,0.3255828226,0.3119561704,0.3135862752,0.3043978313,0.2939015611,0.2883694441,0.2849205794,0.3462611329,0.2776161026,0.2768289827,0.2724394064],\"type\":\"scatter\",\"xaxis\":\"x\",\"yaxis\":\"y\"},{\"mode\":\"lines\",\"x\":[1,2,3,4,5,6,7,8,9,10,11,12,13,14,15,16,17,18,19],\"y\":[0.6644632071,0.5484708751,0.4674085632,0.449345913,0.3977405302,0.3868741017,0.3862375506,0.3541156775,0.3421333968,0.3514263861,0.3274314774,0.3126464229,0.3052254487,0.3083416915,0.303140957,0.301290445,0.2908285303,0.294127714,0.2819558355],\"type\":\"scatter\",\"xaxis\":\"x\",\"yaxis\":\"y\"},{\"mode\":\"lines\",\"x\":[1,2,3,4,5,6,7,8,9],\"y\":[0.5434461741,0.4684863403,0.4057795017,0.3884184808,0.3931736933,0.3406060515,0.3332231157,0.3202171041,0.3055115026],\"type\":\"scatter\",\"xaxis\":\"x\",\"yaxis\":\"y\"},{\"mode\":\"lines\",\"x\":[1,2,3,4,5],\"y\":[0.3361577802,0.2829977581,0.2483966941,0.2412634442,0.2348843061],\"type\":\"scatter\",\"xaxis\":\"x\",\"yaxis\":\"y\"},{\"mode\":\"lines\",\"x\":[1,2,3,4,5,6,7,8,9,10,11,12,13,14,15,16,17,18,19,20],\"y\":[0.366240002,0.297327315,0.2677521812,0.2564229589,0.2549679206,0.2397158873,0.2727451324,0.276374907,0.2648777565,0.2828855816,0.3062121465,0.29099368,0.3046049698,0.3548810873,0.3441406022,0.3827110051,0.3965552668,0.4244478709,0.4189825508,0.4890880503],\"type\":\"scatter\",\"xaxis\":\"x\",\"yaxis\":\"y\"},{\"mode\":\"lines\",\"x\":[1,2,3,4,5,6,7,8,9,10,11,12,13,14,15,16,17,18,19,20],\"y\":[0.3776196611,0.3047591801,0.2800400301,0.2656868733,0.2502872008,0.2590877614,0.2333842313,0.2462658345,0.2582560552,0.2479074212,0.252467342,0.2680604563,0.2649453513,0.3106845629,0.3027163054,0.3250163642,0.3223970122,0.3130097279,0.353769155,0.3817148453],\"type\":\"scatter\",\"xaxis\":\"x\",\"yaxis\":\"y\"},{\"mode\":\"lines\",\"x\":[1,2,3,4,5,6,7,8,9,10,11,12,13,14,15,16,17,18,19,20],\"y\":[0.3837588406,0.3332601868,0.3220407465,0.2676642867,0.2728847125,0.3104003043,0.2525376331,0.2381320024,0.2285481451,0.2245744844,0.2515765776,0.2342760802,0.246044753,0.229203101,0.2595959192,0.2688932103,0.2452519738,0.2628664728,0.2790187125,0.3060270447],\"type\":\"scatter\",\"xaxis\":\"x\",\"yaxis\":\"y\"},{\"mode\":\"lines\",\"x\":[1,2,3,4,5,6,7,8,9,10,11,12,13,14,15,16,17,18,19,20],\"y\":[0.5237265674,0.4115668837,0.3904967825,0.3471875133,0.3334004629,0.3295244977,0.3140605325,0.2923173938,0.2964401124,0.2793777245,0.2762172269,0.27657545,0.2552179619,0.2575557853,0.2457172928,0.2571737281,0.2398864633,0.2412254754,0.2358050242,0.2451195181],\"type\":\"scatter\",\"xaxis\":\"x\",\"yaxis\":\"y\"},{\"mode\":\"lines\",\"x\":[1,2,3,4,5,6,7,8,9,10,11,12,13,14,15,16,17,18,19,20],\"y\":[0.4472353057,0.3455327325,0.3130179242,0.3070695584,0.2795662089,0.2808719914,0.2709991476,0.2625915458,0.250878249,0.2384061178,0.2567871887,0.2443057298,0.2418392742,0.2398875894,0.2397340689,0.2429194286,0.2303940086,0.2455746138,0.2341781766,0.2421068221],\"type\":\"scatter\",\"xaxis\":\"x\",\"yaxis\":\"y\"},{\"mode\":\"lines\",\"x\":[1,2,3,4,5,6,7,8,9,10,11,12,13,14,15,16,17,18,19,20],\"y\":[0.4813270366,0.3839089978,0.3583065941,0.3261584731,0.317226581,0.2939136719,0.2883870127,0.2734542623,0.2762055867,0.2675651833,0.2566989732,0.2486639693,0.2367061864,0.2314560198,0.2302354326,0.2226841321,0.2284784266,0.2363387358,0.2300621518,0.2246138516],\"type\":\"scatter\",\"xaxis\":\"x\",\"yaxis\":\"y\"},{\"mode\":\"lines\",\"x\":[1,2,3,4,5,6,7,8,9,10,11,12,13,14,15,16,17,18,19,20],\"y\":[0.388158115,0.2898094365,0.2542338668,0.25880849,0.2563254064,0.2700103103,0.254041255,0.2786086835,0.2902043307,0.2972164052,0.316584053,0.3162506746,0.3506417301,0.3473531646,0.4244749837,0.4103632419,0.4424157498,0.4359482096,0.454157533,0.4740976276],\"type\":\"scatter\",\"xaxis\":\"x\",\"yaxis\":\"y\"},{\"mode\":\"lines\",\"x\":[1,2,3,4,5,6,7,8,9,10,11,12,13,14,15,16,17,18,19,20],\"y\":[0.3405124091,0.2826540071,0.2694886336,0.2544602656,0.2532018046,0.2370437021,0.2253737976,0.257541363,0.2532639208,0.2528823186,0.2632655072,0.2831791704,0.2625888748,0.2935812256,0.3362076813,0.3949844363,0.3351265507,0.3727289896,0.3951836159,0.394354029],\"type\":\"scatter\",\"xaxis\":\"x\",\"yaxis\":\"y\"},{\"mode\":\"lines\",\"x\":[1,2,3,4,5,6,7,8,9,10,11,12,13,14,15,16,17,18,19,20],\"y\":[0.563569659,0.5057681601,0.4199288432,0.3862885991,0.3740612148,0.3673577302,0.3569905776,0.3283187338,0.3153558012,0.3265880637,0.2977612932,0.28765931,0.2796801728,0.2782048699,0.2766752403,0.276918919,0.2697631991,0.2721265561,0.268134767,0.2607122025],\"type\":\"scatter\",\"xaxis\":\"x\",\"yaxis\":\"y\"},{\"mode\":\"lines\",\"x\":[1,2,3,4,5,6,7,8,9,10,11,12,13,14,15,16,17,18,19,20],\"y\":[0.5675396,0.41169134,0.3773035551,0.3399791407,0.3101763603,0.3077324299,0.2902204229,0.297860358,0.2677808323,0.2824771117,0.2879667937,0.2616678697,0.2556956398,0.2533491462,0.2416438404,0.2532063876,0.2370364928,0.2374963171,0.2375927743,0.2416789834],\"type\":\"scatter\",\"xaxis\":\"x\",\"yaxis\":\"y\"},{\"mode\":\"lines\",\"x\":[1,2,3,4,5,6,7,8,9,10,11,12,13,14,15,16,17,18,19,20],\"y\":[0.3500331872,0.266957815,0.2473379366,0.254130335,0.233038153,0.2333097579,0.2412792846,0.2626496461,0.2661802232,0.3372049338,0.2849315193,0.304333371,0.3278403392,0.335187275,0.396626079,0.3746717155,0.4080585631,0.4153780946,0.446453706,0.4677130834],\"type\":\"scatter\",\"xaxis\":\"x\",\"yaxis\":\"y\"},{\"mode\":\"lines\",\"x\":[1,2,3,4,5,6,7,8,9,10,11,12,13,14,15,16,17,18,19,20],\"y\":[0.3601795164,0.3112214262,0.2935914492,0.2553667124,0.2550599703,0.2640887534,0.2516490715,0.2317512317,0.251104636,0.2407077673,0.2435442263,0.2543136938,0.2992574718,0.2683678086,0.292584643,0.3019945477,0.3290416335,0.3246342603,0.3517056375,0.3917784642],\"type\":\"scatter\",\"xaxis\":\"x\",\"yaxis\":\"y\"},{\"mode\":\"lines\",\"x\":[1,2,3,4,5,6,7,8,9,10,11,12,13,14,15,16,17,18,19,20],\"y\":[0.4288119011,0.3303086395,0.3033371537,0.27820012,0.2709693684,0.2564627253,0.24157228,0.248983768,0.232160969,0.2352522877,0.2302848212,0.2291720593,0.235410135,0.2237579978,0.2614131391,0.2403942717,0.295977333,0.2487615997,0.2734936633,0.2555521592],\"type\":\"scatter\",\"xaxis\":\"x\",\"yaxis\":\"y\"},{\"mode\":\"lines\",\"x\":[1,2,3,4,5,6,7,8,9,10,11,12,13,14,15,16],\"y\":[0.3336021979,0.2770404779,0.2378123129,0.2579335237,0.2387574012,0.2290143994,0.2264829543,0.2269173216,0.2312023821,0.2535682498,0.2425252468,0.2616346399,0.2924339954,0.3010581652,0.3296564789,0.3581483989],\"type\":\"scatter\",\"xaxis\":\"x2\",\"yaxis\":\"y2\"},{\"mode\":\"lines\",\"x\":[1],\"y\":[0.6607890215],\"type\":\"scatter\",\"xaxis\":\"x2\",\"yaxis\":\"y2\"},{\"mode\":\"lines\",\"x\":[1,2],\"y\":[0.3903985503,0.3270757602],\"type\":\"scatter\",\"xaxis\":\"x2\",\"yaxis\":\"y2\"},{\"mode\":\"lines\",\"x\":[1],\"y\":[0.8505935143],\"type\":\"scatter\",\"xaxis\":\"x2\",\"yaxis\":\"y2\"},{\"mode\":\"lines\",\"x\":[1,2],\"y\":[0.4236320701,0.3341165724],\"type\":\"scatter\",\"xaxis\":\"x2\",\"yaxis\":\"y2\"},{\"mode\":\"lines\",\"x\":[1],\"y\":[0.507448801],\"type\":\"scatter\",\"xaxis\":\"x2\",\"yaxis\":\"y2\"},{\"mode\":\"lines\",\"x\":[1],\"y\":[0.4438175055],\"type\":\"scatter\",\"xaxis\":\"x2\",\"yaxis\":\"y2\"},{\"mode\":\"lines\",\"x\":[1,2,3,4,5,6,7,8,9,10,11,12,13,14,15,16,17,18,19,20],\"y\":[0.3823135968,0.3074238859,0.306863384,0.2640407448,0.258646796,0.2578213558,0.2352264012,0.2378485741,0.2240427831,0.2381148128,0.2237017476,0.2407647603,0.2337284325,0.2245252628,0.2746278301,0.2203303295,0.2464836199,0.2457790015,0.2497394121,0.2501408349],\"type\":\"scatter\",\"xaxis\":\"x2\",\"yaxis\":\"y2\"},{\"mode\":\"lines\",\"x\":[1,2,3,4,5,6,7,8,9,10,11],\"y\":[0.3506305707,0.2852501571,0.2613717695,0.2424438925,0.2278603707,0.224968943,0.2295031135,0.2362469246,0.2411343222,0.2478352217,0.2610499871],\"type\":\"scatter\",\"xaxis\":\"x2\",\"yaxis\":\"y2\"},{\"mode\":\"lines\",\"x\":[1],\"y\":[2.0429932868],\"type\":\"scatter\",\"xaxis\":\"x2\",\"yaxis\":\"y2\"},{\"mode\":\"lines\",\"x\":[1,2],\"y\":[0.3896363353,0.3352020451],\"type\":\"scatter\",\"xaxis\":\"x2\",\"yaxis\":\"y2\"},{\"mode\":\"lines\",\"x\":[1,2,3,4],\"y\":[0.3934196742,0.2935973983,0.2788946734,0.2691256002],\"type\":\"scatter\",\"xaxis\":\"x2\",\"yaxis\":\"y2\"},{\"mode\":\"lines\",\"x\":[1],\"y\":[0.5520592592],\"type\":\"scatter\",\"xaxis\":\"x2\",\"yaxis\":\"y2\"},{\"mode\":\"lines\",\"x\":[1,2,3,4],\"y\":[0.3097681391,0.2948691493,0.2448476469,0.2550846124],\"type\":\"scatter\",\"xaxis\":\"x2\",\"yaxis\":\"y2\"},{\"mode\":\"lines\",\"x\":[1],\"y\":[0.4173216022],\"type\":\"scatter\",\"xaxis\":\"x2\",\"yaxis\":\"y2\"},{\"mode\":\"lines\",\"x\":[1,2,3,4,5,6,7,8,9,10,11,12,13,14,15,16],\"y\":[0.3257773841,0.2743896729,0.2393293888,0.2431444459,0.2313553628,0.2339301095,0.2459832529,0.2443985152,0.2876829252,0.2640635548,0.2793705963,0.3170523174,0.3441872911,0.3328266682,0.3745250236,0.4122324081],\"type\":\"scatter\",\"xaxis\":\"x2\",\"yaxis\":\"y2\"},{\"mode\":\"lines\",\"x\":[1],\"y\":[0.5860550447],\"type\":\"scatter\",\"xaxis\":\"x2\",\"yaxis\":\"y2\"},{\"mode\":\"lines\",\"x\":[1,2,3,4],\"y\":[0.3200745327,0.2844855993,0.279370993,0.2757947868],\"type\":\"scatter\",\"xaxis\":\"x2\",\"yaxis\":\"y2\"},{\"mode\":\"lines\",\"x\":[1,2,3,4],\"y\":[0.3650635429,0.2953147091,0.28600131,0.2500332832],\"type\":\"scatter\",\"xaxis\":\"x2\",\"yaxis\":\"y2\"},{\"mode\":\"lines\",\"x\":[1],\"y\":[0.5629406353],\"type\":\"scatter\",\"xaxis\":\"x2\",\"yaxis\":\"y2\"},{\"mode\":\"lines\",\"x\":[1],\"y\":[0.6291669724],\"type\":\"scatter\",\"xaxis\":\"x2\",\"yaxis\":\"y2\"},{\"mode\":\"lines\",\"x\":[1,2],\"y\":[0.3791150406,0.3230813208],\"type\":\"scatter\",\"xaxis\":\"x2\",\"yaxis\":\"y2\"},{\"mode\":\"lines\",\"x\":[1,2],\"y\":[0.4167995335,0.3108917644],\"type\":\"scatter\",\"xaxis\":\"x2\",\"yaxis\":\"y2\"},{\"mode\":\"lines\",\"x\":[1,2,3,4,5,6,7,8],\"y\":[0.3398012978,0.2874252463,0.2615361019,0.2569067211,0.2432147828,0.2414918573,0.2466529496,0.2577569724],\"type\":\"scatter\",\"xaxis\":\"x2\",\"yaxis\":\"y2\"},{\"mode\":\"lines\",\"x\":[1,2,3,4,5,6,7,8],\"y\":[0.3368149596,0.2870015836,0.249944014,0.2782449104,0.2527738861,0.2712608201,0.2608751388,0.3108393714],\"type\":\"scatter\",\"xaxis\":\"x2\",\"yaxis\":\"y2\"},{\"mode\":\"lines\",\"x\":[1,2,3,4,5,6,7,8,9,10,11,12,13,14,15,16],\"y\":[0.3327266216,0.2584545508,0.2497159421,0.2404831319,0.2736721118,0.231708698,0.2397758301,0.2413127283,0.2816862979,0.2863348064,0.3203895977,0.3391017699,0.3567333632,0.4014383692,0.3935006818,0.3915117157],\"type\":\"scatter\",\"xaxis\":\"x2\",\"yaxis\":\"y2\"},{\"mode\":\"lines\",\"x\":[1,2],\"y\":[0.4281061971,0.3916878893],\"type\":\"scatter\",\"xaxis\":\"x2\",\"yaxis\":\"y2\"},{\"mode\":\"lines\",\"x\":[1,2],\"y\":[0.4194982019,0.3960009348],\"type\":\"scatter\",\"xaxis\":\"x2\",\"yaxis\":\"y2\"},{\"mode\":\"lines\",\"x\":[1],\"y\":[0.4296531226],\"type\":\"scatter\",\"xaxis\":\"x2\",\"yaxis\":\"y2\"},{\"mode\":\"lines\",\"x\":[1],\"y\":[0.6155214023],\"type\":\"scatter\",\"xaxis\":\"x2\",\"yaxis\":\"y2\"},{\"mode\":\"lines\",\"x\":[1,2,3,4,5,6,7,8,9,10,11,12,13,14,15,16],\"y\":[0.3410026224,0.2755413413,0.2633991225,0.2507422198,0.2479720471,0.2366584078,0.2358458657,0.2329669316,0.2530878444,0.2693425549,0.243732263,0.2894779374,0.2833793063,0.321119127,0.3415808141,0.3325134385],\"type\":\"scatter\",\"xaxis\":\"x2\",\"yaxis\":\"y2\"},{\"mode\":\"lines\",\"x\":[1],\"y\":[0.6846204419],\"type\":\"scatter\",\"xaxis\":\"x2\",\"yaxis\":\"y2\"},{\"mode\":\"lines\",\"x\":[1,2],\"y\":[0.3099954011,0.3158085502],\"type\":\"scatter\",\"xaxis\":\"x2\",\"yaxis\":\"y2\"},{\"mode\":\"lines\",\"x\":[1],\"y\":[0.7276186632],\"type\":\"scatter\",\"xaxis\":\"x2\",\"yaxis\":\"y2\"},{\"mode\":\"lines\",\"x\":[1,2],\"y\":[0.4160984398,0.3340673595],\"type\":\"scatter\",\"xaxis\":\"x2\",\"yaxis\":\"y2\"},{\"mode\":\"lines\",\"x\":[1],\"y\":[0.4494249957],\"type\":\"scatter\",\"xaxis\":\"x2\",\"yaxis\":\"y2\"},{\"mode\":\"lines\",\"x\":[1,2,3,4,5,6,7,8,9,10,11,12,13,14,15,16,17,18,19,20],\"y\":[0.4047890011,0.2981177013,0.2644248176,0.2468892826,0.329287911,0.2229483823,0.2375500279,0.2226932131,0.2268377862,0.2373024455,0.2429716727,0.2265206125,0.2519168591,0.2593828082,0.2719932965,0.2754646746,0.2927799095,0.3092922836,0.3355018155,0.319234373],\"type\":\"scatter\",\"xaxis\":\"x2\",\"yaxis\":\"y2\"},{\"mode\":\"lines\",\"x\":[1,2],\"y\":[0.3662682049,0.3151445485],\"type\":\"scatter\",\"xaxis\":\"x2\",\"yaxis\":\"y2\"},{\"mode\":\"lines\",\"x\":[1,2],\"y\":[0.3680369104,0.3255842794],\"type\":\"scatter\",\"xaxis\":\"x2\",\"yaxis\":\"y2\"},{\"mode\":\"lines\",\"x\":[1],\"y\":[0.6552709664],\"type\":\"scatter\",\"xaxis\":\"x2\",\"yaxis\":\"y2\"},{\"mode\":\"lines\",\"x\":[1],\"y\":[0.70699566],\"type\":\"scatter\",\"xaxis\":\"x2\",\"yaxis\":\"y2\"},{\"mode\":\"lines\",\"x\":[1,2,3,4,5,6,7,8],\"y\":[0.3246657064,0.2808264588,0.2863244871,0.2314647507,0.2434196361,0.2353273486,0.2388960304,0.2606001031],\"type\":\"scatter\",\"xaxis\":\"x2\",\"yaxis\":\"y2\"},{\"mode\":\"lines\",\"x\":[1],\"y\":[0.7079785783],\"type\":\"scatter\",\"xaxis\":\"x2\",\"yaxis\":\"y2\"},{\"mode\":\"lines\",\"x\":[1],\"y\":[0.5111870705],\"type\":\"scatter\",\"xaxis\":\"x2\",\"yaxis\":\"y2\"},{\"mode\":\"lines\",\"x\":[1,2],\"y\":[0.4799146158,0.3747630358],\"type\":\"scatter\",\"xaxis\":\"x2\",\"yaxis\":\"y2\"},{\"mode\":\"lines\",\"x\":[1,2],\"y\":[0.363444396,0.3344922605],\"type\":\"scatter\",\"xaxis\":\"x2\",\"yaxis\":\"y2\"},{\"mode\":\"lines\",\"x\":[1],\"y\":[0.762082339],\"type\":\"scatter\",\"xaxis\":\"x2\",\"yaxis\":\"y2\"},{\"mode\":\"lines\",\"x\":[1,2],\"y\":[0.3670512676,0.317019417],\"type\":\"scatter\",\"xaxis\":\"x2\",\"yaxis\":\"y2\"},{\"mode\":\"lines\",\"x\":[1,2],\"y\":[0.4097438421,0.3348477645],\"type\":\"scatter\",\"xaxis\":\"x2\",\"yaxis\":\"y2\"},{\"mode\":\"lines\",\"x\":[1,2],\"y\":[0.4165303236,0.3402291913],\"type\":\"scatter\",\"xaxis\":\"x2\",\"yaxis\":\"y2\"},{\"mode\":\"lines\",\"x\":[1],\"y\":[0.4327318328],\"type\":\"scatter\",\"xaxis\":\"x2\",\"yaxis\":\"y2\"},{\"mode\":\"lines\",\"x\":[1],\"y\":[0.5345477263],\"type\":\"scatter\",\"xaxis\":\"x2\",\"yaxis\":\"y2\"},{\"mode\":\"lines\",\"x\":[1,2,3,4],\"y\":[0.4058469665,0.2857848758,0.3065976613,0.257600151],\"type\":\"scatter\",\"xaxis\":\"x2\",\"yaxis\":\"y2\"},{\"mode\":\"lines\",\"x\":[1],\"y\":[0.4599858706],\"type\":\"scatter\",\"xaxis\":\"x2\",\"yaxis\":\"y2\"},{\"mode\":\"lines\",\"x\":[1,2,3,4,5,6,7,8,9,10,11,12,13,14,15,16],\"y\":[0.3398810438,0.2822557421,0.2985726299,0.2442927639,0.2379881081,0.237086033,0.2349918104,0.2364742248,0.232720269,0.2739743751,0.2540829384,0.2785535507,0.308681978,0.3406969621,0.3323042403,0.3333239577],\"type\":\"scatter\",\"xaxis\":\"x2\",\"yaxis\":\"y2\"},{\"mode\":\"lines\",\"x\":[1],\"y\":[0.6438075237],\"type\":\"scatter\",\"xaxis\":\"x2\",\"yaxis\":\"y2\"},{\"mode\":\"lines\",\"x\":[1],\"y\":[0.7396836439],\"type\":\"scatter\",\"xaxis\":\"x2\",\"yaxis\":\"y2\"},{\"mode\":\"lines\",\"x\":[1,2],\"y\":[0.4308497143,0.365208136],\"type\":\"scatter\",\"xaxis\":\"x2\",\"yaxis\":\"y2\"},{\"mode\":\"lines\",\"x\":[1],\"y\":[2.2283713926],\"type\":\"scatter\",\"xaxis\":\"x2\",\"yaxis\":\"y2\"},{\"mode\":\"lines\",\"x\":[1],\"y\":[0.4990625686],\"type\":\"scatter\",\"xaxis\":\"x2\",\"yaxis\":\"y2\"},{\"mode\":\"lines\",\"x\":[1,2],\"y\":[0.3495245487,0.3202361987],\"type\":\"scatter\",\"xaxis\":\"x2\",\"yaxis\":\"y2\"},{\"mode\":\"lines\",\"x\":[1,2],\"y\":[0.3956066701,0.3234209471],\"type\":\"scatter\",\"xaxis\":\"x2\",\"yaxis\":\"y2\"},{\"mode\":\"lines\",\"x\":[1,2,3,4],\"y\":[0.3283128468,0.2882934733,0.2669604088,0.2607588692],\"type\":\"scatter\",\"xaxis\":\"x2\",\"yaxis\":\"y2\"},{\"mode\":\"lines\",\"x\":[1,2,3,4,5,6,7,8,9,10,11,12,13,14,15,16,17,18,19,20],\"y\":[0.3366855931,0.3025765058,0.2748504917,0.250593437,0.2427688536,0.2485500303,0.2312258156,0.2482344005,0.2317481348,0.2520245222,0.2520298085,0.2865581571,0.2694829443,0.2857191128,0.3083276606,0.3099555001,0.3356962196,0.3560018282,0.385873649,0.3794523617],\"type\":\"scatter\",\"xaxis\":\"x2\",\"yaxis\":\"y2\"},{\"mode\":\"lines\",\"x\":[1],\"y\":[0.6089501089],\"type\":\"scatter\",\"xaxis\":\"x2\",\"yaxis\":\"y2\"},{\"mode\":\"lines\",\"x\":[1],\"y\":[1.4531184194],\"type\":\"scatter\",\"xaxis\":\"x2\",\"yaxis\":\"y2\"},{\"mode\":\"lines\",\"x\":[1,2,3,4,5,6,7,8,9,10,11,12,13,14,15,16],\"y\":[0.3513643158,0.3034653245,0.2617334225,0.2457839082,0.2456464805,0.2658085582,0.2321173896,0.2450111097,0.2797316354,0.2395161942,0.2546036936,0.2723817533,0.2613344472,0.2863362114,0.2958167656,0.3146362772],\"type\":\"scatter\",\"xaxis\":\"x2\",\"yaxis\":\"y2\"},{\"mode\":\"lines\",\"x\":[1],\"y\":[0.6116902999],\"type\":\"scatter\",\"xaxis\":\"x2\",\"yaxis\":\"y2\"},{\"mode\":\"lines\",\"x\":[1],\"y\":[0.5196089267],\"type\":\"scatter\",\"xaxis\":\"x2\",\"yaxis\":\"y2\"},{\"mode\":\"lines\",\"x\":[1],\"y\":[0.6404730852],\"type\":\"scatter\",\"xaxis\":\"x2\",\"yaxis\":\"y2\"},{\"mode\":\"lines\",\"x\":[1],\"y\":[0.554696021],\"type\":\"scatter\",\"xaxis\":\"x2\",\"yaxis\":\"y2\"},{\"mode\":\"lines\",\"x\":[1],\"y\":[0.4461624751],\"type\":\"scatter\",\"xaxis\":\"x2\",\"yaxis\":\"y2\"},{\"mode\":\"lines\",\"x\":[1],\"y\":[0.5061861386],\"type\":\"scatter\",\"xaxis\":\"x2\",\"yaxis\":\"y2\"},{\"mode\":\"lines\",\"x\":[1],\"y\":[0.5449745915],\"type\":\"scatter\",\"xaxis\":\"x2\",\"yaxis\":\"y2\"},{\"mode\":\"lines\",\"x\":[1,2,3,4,5,6,7,8,9,10,11,12,13,14,15,16],\"y\":[0.3301054025,0.2867805614,0.2515204221,0.2483076514,0.2254805399,0.2456047011,0.2851998248,0.2243943406,0.2453555067,0.2345448395,0.2566758609,0.2617933712,0.293750396,0.2905143568,0.3481512522,0.3238384784],\"type\":\"scatter\",\"xaxis\":\"x2\",\"yaxis\":\"y2\"},{\"mode\":\"lines\",\"x\":[1],\"y\":[0.6395724543],\"type\":\"scatter\",\"xaxis\":\"x2\",\"yaxis\":\"y2\"},{\"mode\":\"lines\",\"x\":[1,2,3,4,5,6,7,8],\"y\":[0.3521749007,0.2664607831,0.2551740971,0.2435463497,0.2740370692,0.2574474311,0.2482697579,0.2886539426],\"type\":\"scatter\",\"xaxis\":\"x2\",\"yaxis\":\"y2\"},{\"mode\":\"lines\",\"x\":[1],\"y\":[0.4697744732],\"type\":\"scatter\",\"xaxis\":\"x2\",\"yaxis\":\"y2\"},{\"mode\":\"lines\",\"x\":[1],\"y\":[0.5270011217],\"type\":\"scatter\",\"xaxis\":\"x2\",\"yaxis\":\"y2\"},{\"mode\":\"lines\",\"x\":[1,2],\"y\":[0.4035931968,0.3594707157],\"type\":\"scatter\",\"xaxis\":\"x2\",\"yaxis\":\"y2\"},{\"mode\":\"lines\",\"x\":[1,2,3,4],\"y\":[0.3404423814,0.2818147618,0.2577044852,0.2578586989],\"type\":\"scatter\",\"xaxis\":\"x2\",\"yaxis\":\"y2\"},{\"mode\":\"lines\",\"x\":[1],\"y\":[0.5029062495],\"type\":\"scatter\",\"xaxis\":\"x2\",\"yaxis\":\"y2\"},{\"mode\":\"lines\",\"x\":[1,2,3,4],\"y\":[0.3807455064,0.3116531085,0.275184771,0.2559368209],\"type\":\"scatter\",\"xaxis\":\"x2\",\"yaxis\":\"y2\"},{\"mode\":\"lines\",\"x\":[1],\"y\":[0.5226763548],\"type\":\"scatter\",\"xaxis\":\"x2\",\"yaxis\":\"y2\"},{\"mode\":\"lines\",\"x\":[1,2],\"y\":[0.4122780759,0.3218554575],\"type\":\"scatter\",\"xaxis\":\"x2\",\"yaxis\":\"y2\"},{\"mode\":\"lines\",\"x\":[1],\"y\":[0.510888553],\"type\":\"scatter\",\"xaxis\":\"x2\",\"yaxis\":\"y2\"},{\"mode\":\"lines\",\"x\":[1],\"y\":[0.6754892858],\"type\":\"scatter\",\"xaxis\":\"x2\",\"yaxis\":\"y2\"},{\"mode\":\"lines\",\"x\":[1],\"y\":[0.4406978604],\"type\":\"scatter\",\"xaxis\":\"x2\",\"yaxis\":\"y2\"},{\"mode\":\"lines\",\"x\":[1,2,3,4],\"y\":[0.3408781839,0.297568497,0.2615255118,0.2618917699],\"type\":\"scatter\",\"xaxis\":\"x2\",\"yaxis\":\"y2\"}],                        {\"template\":{\"data\":{\"histogram2dcontour\":[{\"type\":\"histogram2dcontour\",\"colorbar\":{\"outlinewidth\":0,\"ticks\":\"\"},\"colorscale\":[[0.0,\"#0d0887\"],[0.1111111111111111,\"#46039f\"],[0.2222222222222222,\"#7201a8\"],[0.3333333333333333,\"#9c179e\"],[0.4444444444444444,\"#bd3786\"],[0.5555555555555556,\"#d8576b\"],[0.6666666666666666,\"#ed7953\"],[0.7777777777777778,\"#fb9f3a\"],[0.8888888888888888,\"#fdca26\"],[1.0,\"#f0f921\"]]}],\"choropleth\":[{\"type\":\"choropleth\",\"colorbar\":{\"outlinewidth\":0,\"ticks\":\"\"}}],\"histogram2d\":[{\"type\":\"histogram2d\",\"colorbar\":{\"outlinewidth\":0,\"ticks\":\"\"},\"colorscale\":[[0.0,\"#0d0887\"],[0.1111111111111111,\"#46039f\"],[0.2222222222222222,\"#7201a8\"],[0.3333333333333333,\"#9c179e\"],[0.4444444444444444,\"#bd3786\"],[0.5555555555555556,\"#d8576b\"],[0.6666666666666666,\"#ed7953\"],[0.7777777777777778,\"#fb9f3a\"],[0.8888888888888888,\"#fdca26\"],[1.0,\"#f0f921\"]]}],\"heatmap\":[{\"type\":\"heatmap\",\"colorbar\":{\"outlinewidth\":0,\"ticks\":\"\"},\"colorscale\":[[0.0,\"#0d0887\"],[0.1111111111111111,\"#46039f\"],[0.2222222222222222,\"#7201a8\"],[0.3333333333333333,\"#9c179e\"],[0.4444444444444444,\"#bd3786\"],[0.5555555555555556,\"#d8576b\"],[0.6666666666666666,\"#ed7953\"],[0.7777777777777778,\"#fb9f3a\"],[0.8888888888888888,\"#fdca26\"],[1.0,\"#f0f921\"]]}],\"heatmapgl\":[{\"type\":\"heatmapgl\",\"colorbar\":{\"outlinewidth\":0,\"ticks\":\"\"},\"colorscale\":[[0.0,\"#0d0887\"],[0.1111111111111111,\"#46039f\"],[0.2222222222222222,\"#7201a8\"],[0.3333333333333333,\"#9c179e\"],[0.4444444444444444,\"#bd3786\"],[0.5555555555555556,\"#d8576b\"],[0.6666666666666666,\"#ed7953\"],[0.7777777777777778,\"#fb9f3a\"],[0.8888888888888888,\"#fdca26\"],[1.0,\"#f0f921\"]]}],\"contourcarpet\":[{\"type\":\"contourcarpet\",\"colorbar\":{\"outlinewidth\":0,\"ticks\":\"\"}}],\"contour\":[{\"type\":\"contour\",\"colorbar\":{\"outlinewidth\":0,\"ticks\":\"\"},\"colorscale\":[[0.0,\"#0d0887\"],[0.1111111111111111,\"#46039f\"],[0.2222222222222222,\"#7201a8\"],[0.3333333333333333,\"#9c179e\"],[0.4444444444444444,\"#bd3786\"],[0.5555555555555556,\"#d8576b\"],[0.6666666666666666,\"#ed7953\"],[0.7777777777777778,\"#fb9f3a\"],[0.8888888888888888,\"#fdca26\"],[1.0,\"#f0f921\"]]}],\"surface\":[{\"type\":\"surface\",\"colorbar\":{\"outlinewidth\":0,\"ticks\":\"\"},\"colorscale\":[[0.0,\"#0d0887\"],[0.1111111111111111,\"#46039f\"],[0.2222222222222222,\"#7201a8\"],[0.3333333333333333,\"#9c179e\"],[0.4444444444444444,\"#bd3786\"],[0.5555555555555556,\"#d8576b\"],[0.6666666666666666,\"#ed7953\"],[0.7777777777777778,\"#fb9f3a\"],[0.8888888888888888,\"#fdca26\"],[1.0,\"#f0f921\"]]}],\"mesh3d\":[{\"type\":\"mesh3d\",\"colorbar\":{\"outlinewidth\":0,\"ticks\":\"\"}}],\"scatter\":[{\"fillpattern\":{\"fillmode\":\"overlay\",\"size\":10,\"solidity\":0.2},\"type\":\"scatter\"}],\"parcoords\":[{\"type\":\"parcoords\",\"line\":{\"colorbar\":{\"outlinewidth\":0,\"ticks\":\"\"}}}],\"scatterpolargl\":[{\"type\":\"scatterpolargl\",\"marker\":{\"colorbar\":{\"outlinewidth\":0,\"ticks\":\"\"}}}],\"bar\":[{\"error_x\":{\"color\":\"#2a3f5f\"},\"error_y\":{\"color\":\"#2a3f5f\"},\"marker\":{\"line\":{\"color\":\"white\",\"width\":0.5},\"pattern\":{\"fillmode\":\"overlay\",\"size\":10,\"solidity\":0.2}},\"type\":\"bar\"}],\"scattergeo\":[{\"type\":\"scattergeo\",\"marker\":{\"colorbar\":{\"outlinewidth\":0,\"ticks\":\"\"}}}],\"scatterpolar\":[{\"type\":\"scatterpolar\",\"marker\":{\"colorbar\":{\"outlinewidth\":0,\"ticks\":\"\"}}}],\"histogram\":[{\"marker\":{\"pattern\":{\"fillmode\":\"overlay\",\"size\":10,\"solidity\":0.2}},\"type\":\"histogram\"}],\"scattergl\":[{\"type\":\"scattergl\",\"marker\":{\"colorbar\":{\"outlinewidth\":0,\"ticks\":\"\"}}}],\"scatter3d\":[{\"type\":\"scatter3d\",\"line\":{\"colorbar\":{\"outlinewidth\":0,\"ticks\":\"\"}},\"marker\":{\"colorbar\":{\"outlinewidth\":0,\"ticks\":\"\"}}}],\"scattermapbox\":[{\"type\":\"scattermapbox\",\"marker\":{\"colorbar\":{\"outlinewidth\":0,\"ticks\":\"\"}}}],\"scatterternary\":[{\"type\":\"scatterternary\",\"marker\":{\"colorbar\":{\"outlinewidth\":0,\"ticks\":\"\"}}}],\"scattercarpet\":[{\"type\":\"scattercarpet\",\"marker\":{\"colorbar\":{\"outlinewidth\":0,\"ticks\":\"\"}}}],\"carpet\":[{\"aaxis\":{\"endlinecolor\":\"#2a3f5f\",\"gridcolor\":\"#C8D4E3\",\"linecolor\":\"#C8D4E3\",\"minorgridcolor\":\"#C8D4E3\",\"startlinecolor\":\"#2a3f5f\"},\"baxis\":{\"endlinecolor\":\"#2a3f5f\",\"gridcolor\":\"#C8D4E3\",\"linecolor\":\"#C8D4E3\",\"minorgridcolor\":\"#C8D4E3\",\"startlinecolor\":\"#2a3f5f\"},\"type\":\"carpet\"}],\"table\":[{\"cells\":{\"fill\":{\"color\":\"#EBF0F8\"},\"line\":{\"color\":\"white\"}},\"header\":{\"fill\":{\"color\":\"#C8D4E3\"},\"line\":{\"color\":\"white\"}},\"type\":\"table\"}],\"barpolar\":[{\"marker\":{\"line\":{\"color\":\"white\",\"width\":0.5},\"pattern\":{\"fillmode\":\"overlay\",\"size\":10,\"solidity\":0.2}},\"type\":\"barpolar\"}],\"pie\":[{\"automargin\":true,\"type\":\"pie\"}]},\"layout\":{\"autotypenumbers\":\"strict\",\"colorway\":[\"#636efa\",\"#EF553B\",\"#00cc96\",\"#ab63fa\",\"#FFA15A\",\"#19d3f3\",\"#FF6692\",\"#B6E880\",\"#FF97FF\",\"#FECB52\"],\"font\":{\"color\":\"#2a3f5f\"},\"hovermode\":\"closest\",\"hoverlabel\":{\"align\":\"left\"},\"paper_bgcolor\":\"white\",\"plot_bgcolor\":\"white\",\"polar\":{\"bgcolor\":\"white\",\"angularaxis\":{\"gridcolor\":\"#EBF0F8\",\"linecolor\":\"#EBF0F8\",\"ticks\":\"\"},\"radialaxis\":{\"gridcolor\":\"#EBF0F8\",\"linecolor\":\"#EBF0F8\",\"ticks\":\"\"}},\"ternary\":{\"bgcolor\":\"white\",\"aaxis\":{\"gridcolor\":\"#DFE8F3\",\"linecolor\":\"#A2B1C6\",\"ticks\":\"\"},\"baxis\":{\"gridcolor\":\"#DFE8F3\",\"linecolor\":\"#A2B1C6\",\"ticks\":\"\"},\"caxis\":{\"gridcolor\":\"#DFE8F3\",\"linecolor\":\"#A2B1C6\",\"ticks\":\"\"}},\"coloraxis\":{\"colorbar\":{\"outlinewidth\":0,\"ticks\":\"\"}},\"colorscale\":{\"sequential\":[[0.0,\"#0d0887\"],[0.1111111111111111,\"#46039f\"],[0.2222222222222222,\"#7201a8\"],[0.3333333333333333,\"#9c179e\"],[0.4444444444444444,\"#bd3786\"],[0.5555555555555556,\"#d8576b\"],[0.6666666666666666,\"#ed7953\"],[0.7777777777777778,\"#fb9f3a\"],[0.8888888888888888,\"#fdca26\"],[1.0,\"#f0f921\"]],\"sequentialminus\":[[0.0,\"#0d0887\"],[0.1111111111111111,\"#46039f\"],[0.2222222222222222,\"#7201a8\"],[0.3333333333333333,\"#9c179e\"],[0.4444444444444444,\"#bd3786\"],[0.5555555555555556,\"#d8576b\"],[0.6666666666666666,\"#ed7953\"],[0.7777777777777778,\"#fb9f3a\"],[0.8888888888888888,\"#fdca26\"],[1.0,\"#f0f921\"]],\"diverging\":[[0,\"#8e0152\"],[0.1,\"#c51b7d\"],[0.2,\"#de77ae\"],[0.3,\"#f1b6da\"],[0.4,\"#fde0ef\"],[0.5,\"#f7f7f7\"],[0.6,\"#e6f5d0\"],[0.7,\"#b8e186\"],[0.8,\"#7fbc41\"],[0.9,\"#4d9221\"],[1,\"#276419\"]]},\"xaxis\":{\"gridcolor\":\"#EBF0F8\",\"linecolor\":\"#EBF0F8\",\"ticks\":\"\",\"title\":{\"standoff\":15},\"zerolinecolor\":\"#EBF0F8\",\"automargin\":true,\"zerolinewidth\":2},\"yaxis\":{\"gridcolor\":\"#EBF0F8\",\"linecolor\":\"#EBF0F8\",\"ticks\":\"\",\"title\":{\"standoff\":15},\"zerolinecolor\":\"#EBF0F8\",\"automargin\":true,\"zerolinewidth\":2},\"scene\":{\"xaxis\":{\"backgroundcolor\":\"white\",\"gridcolor\":\"#DFE8F3\",\"linecolor\":\"#EBF0F8\",\"showbackground\":true,\"ticks\":\"\",\"zerolinecolor\":\"#EBF0F8\",\"gridwidth\":2},\"yaxis\":{\"backgroundcolor\":\"white\",\"gridcolor\":\"#DFE8F3\",\"linecolor\":\"#EBF0F8\",\"showbackground\":true,\"ticks\":\"\",\"zerolinecolor\":\"#EBF0F8\",\"gridwidth\":2},\"zaxis\":{\"backgroundcolor\":\"white\",\"gridcolor\":\"#DFE8F3\",\"linecolor\":\"#EBF0F8\",\"showbackground\":true,\"ticks\":\"\",\"zerolinecolor\":\"#EBF0F8\",\"gridwidth\":2}},\"shapedefaults\":{\"line\":{\"color\":\"#2a3f5f\"}},\"annotationdefaults\":{\"arrowcolor\":\"#2a3f5f\",\"arrowhead\":0,\"arrowwidth\":1},\"geo\":{\"bgcolor\":\"white\",\"landcolor\":\"white\",\"subunitcolor\":\"#C8D4E3\",\"showland\":true,\"showlakes\":true,\"lakecolor\":\"white\"},\"title\":{\"x\":0.05},\"mapbox\":{\"style\":\"light\"}}},\"xaxis\":{\"anchor\":\"y\",\"domain\":[0.0,0.45],\"title\":{\"text\":\"Epoch\"}},\"yaxis\":{\"anchor\":\"x\",\"domain\":[0.0,1.0],\"title\":{\"text\":\"Loss\"}},\"xaxis2\":{\"anchor\":\"y2\",\"domain\":[0.55,1.0],\"title\":{\"text\":\"Epoch\"}},\"yaxis2\":{\"anchor\":\"x2\",\"domain\":[0.0,1.0],\"title\":{\"text\":\"Loss\"}},\"annotations\":[{\"font\":{\"size\":16},\"showarrow\":false,\"text\":\"Random Search\",\"x\":0.225,\"xanchor\":\"center\",\"xref\":\"paper\",\"y\":1.0,\"yanchor\":\"bottom\",\"yref\":\"paper\"},{\"font\":{\"size\":16},\"showarrow\":false,\"text\":\"Hyperband\",\"x\":0.775,\"xanchor\":\"center\",\"xref\":\"paper\",\"y\":1.0,\"yanchor\":\"bottom\",\"yref\":\"paper\"}],\"title\":{\"text\":\"Training Loss Comparison\"},\"showlegend\":false,\"width\":900,\"height\":400},                        {\"responsive\": true}                    ).then(function(){\n",
       "                            \n",
       "var gd = document.getElementById('7adaf9b4-afbe-4114-ad1d-0da96b30037e');\n",
       "var x = new MutationObserver(function (mutations, observer) {{\n",
       "        var display = window.getComputedStyle(gd).display;\n",
       "        if (!display || display === 'none') {{\n",
       "            console.log([gd, 'removed!']);\n",
       "            Plotly.purge(gd);\n",
       "            observer.disconnect();\n",
       "        }}\n",
       "}});\n",
       "\n",
       "// Listen for the removal of the full notebook cells\n",
       "var notebookContainer = gd.closest('#notebook-container');\n",
       "if (notebookContainer) {{\n",
       "    x.observe(notebookContainer, {childList: true});\n",
       "}}\n",
       "\n",
       "// Listen for the clearing of the current output cell\n",
       "var outputEl = gd.closest('.output');\n",
       "if (outputEl) {{\n",
       "    x.observe(outputEl, {childList: true});\n",
       "}}\n",
       "\n",
       "                        })                };                });            </script>        </div>"
      ]
     },
     "metadata": {},
     "output_type": "display_data"
    }
   ],
   "source": [
    "e7_grouped = df_e7.groupby('config.epochs')\n",
    "df7 = e7_grouped.get_group(20)\n",
    "\n",
    "e6_grouped = df_e6.groupby('config.epochs')\n",
    "df6 = e6_grouped.get_group(20)\n",
    "\n",
    "fig = make_subplots(rows=1, cols=2, subplot_titles=[\"Random Search\", \"Hyperband\"])\n",
    "\n",
    "for trial in df7['trial_id'].unique().tolist():\n",
    "    df = df7[df7['trial_id'] == trial]\n",
    "    fig.add_trace(go.Scatter(x=df['training_iteration'], y=df['mean_val_loss'], mode='lines'), row=1, col=1)\n",
    "fig.update_xaxes(title_text=\"Epoch\", row=1, col=1)\n",
    "fig.update_yaxes(title_text=\"Loss\", row=1, col=1)\n",
    "\n",
    "for trial in df6['trial_id'].unique().tolist():\n",
    "    df = df6[df6['trial_id'] == trial]\n",
    "    fig.add_trace(go.Scatter(x=df['training_iteration'], y=df['mean_val_loss'], mode='lines'), row=1, col=2)\n",
    "fig.update_xaxes(title_text=\"Epoch\", row=1, col=2)\n",
    "fig.update_yaxes(title_text=\"Loss\", row=1, col=2)\n",
    "\n",
    "fig.update_layout(title_text=\"Training Loss Comparison\", showlegend=False, width=900, height=400)\n",
    "\n",
    "fig.show()"
   ]
  },
  {
   "cell_type": "markdown",
   "metadata": {
    "slideshow": {
     "slide_type": "subslide"
    }
   },
   "source": [
    "<div style=\"display: flex; justify-content: space-between; align-items: center; width: 100%;\">\n",
    "    <span style=\"color: #ff6900; font-size: 35px; font-weight: bold;\">Hyperparameter Interdependencies</span>\n",
    "    <span style=\"text-align: right; font-size: 12px;\">Lena Hammerer | Luisa Ibele | Hanna Steinwender</span>\n",
    "</div>\n",
    "<p style=\"color: #ff6900; font-weight: bold; font-size: 25px;\">Overview Tested Configurations</p>\n",
    "\n",
    "- **Hyperband** is biased due to early termination of unpromising trials. Trials starting out with high loss cannot reach their full potential as they are not trained for all the epochs."
   ]
  },
  {
   "cell_type": "code",
   "execution_count": 10,
   "metadata": {
    "slideshow": {
     "slide_type": "fragment"
    }
   },
   "outputs": [
    {
     "data": {
      "application/vnd.plotly.v1+json": {
       "config": {
        "plotlyServerURL": "https://plot.ly"
       },
       "data": [
        {
         "dimensions": [
          {
           "label": "config.l1",
           "values": [
            64,
            128,
            32,
            128,
            64,
            32,
            32,
            32,
            64,
            64,
            128,
            64,
            256,
            32,
            64,
            32,
            256,
            64,
            32,
            32,
            128,
            32,
            64,
            256,
            256,
            128,
            256,
            256,
            64,
            32,
            128,
            64,
            128,
            32,
            128,
            256,
            128,
            64,
            64,
            64,
            32,
            256,
            256,
            256,
            128,
            64,
            32,
            64,
            64,
            256,
            32,
            128,
            32,
            256,
            256,
            256,
            128,
            256,
            256,
            64,
            256,
            32,
            32,
            256,
            128,
            64,
            256,
            64,
            64,
            256,
            128,
            128,
            64,
            256,
            256,
            256,
            128,
            128,
            64,
            64,
            128,
            128,
            64,
            64,
            256,
            32,
            256,
            64,
            128,
            128,
            128,
            256,
            128,
            32,
            64,
            64,
            256,
            128,
            256,
            128,
            256,
            128,
            256,
            32,
            32,
            256,
            256,
            256,
            128,
            64,
            256,
            256,
            32,
            256,
            64,
            64,
            128,
            32,
            64,
            32,
            32,
            128,
            32,
            32,
            32,
            64,
            32,
            256,
            256,
            64,
            256,
            128,
            256,
            128,
            32,
            128,
            64,
            32,
            128,
            256,
            256,
            128,
            256,
            256,
            64,
            64,
            64,
            128,
            64,
            32,
            64,
            32,
            256,
            64,
            32,
            64,
            128,
            64,
            128,
            128,
            32,
            32,
            32,
            64,
            64,
            64,
            256,
            64,
            32,
            32,
            256,
            128,
            128,
            128,
            32,
            256,
            128,
            256,
            128,
            256,
            128,
            64,
            32,
            64,
            32,
            128,
            64,
            128,
            32,
            64,
            32,
            64,
            32,
            256,
            256,
            64,
            32,
            64,
            256,
            64,
            64,
            128,
            32,
            64,
            32,
            32,
            256,
            128,
            256,
            256,
            256,
            64,
            32,
            256,
            128,
            128,
            32,
            64,
            32,
            256,
            256,
            256,
            128,
            64,
            32,
            64,
            128,
            256,
            64,
            32,
            32,
            64,
            64,
            64,
            64,
            256,
            64,
            32,
            32,
            256,
            64,
            256,
            64,
            128,
            256,
            128,
            64,
            64,
            128,
            32,
            128,
            128,
            32,
            256,
            128,
            64,
            256,
            32,
            64,
            128,
            128,
            256,
            256,
            64,
            64,
            32,
            128,
            32,
            128,
            128,
            128,
            128,
            64,
            32,
            32,
            256,
            256,
            128,
            32,
            256,
            256,
            32,
            256,
            32,
            32,
            256,
            256,
            256,
            128,
            128,
            128,
            64,
            64,
            256,
            32,
            32,
            128,
            256,
            256,
            256,
            64,
            128,
            64,
            256,
            32,
            256,
            128,
            128,
            32,
            64,
            32
           ]
          },
          {
           "label": "config.batch_size",
           "values": [
            64,
            32,
            128,
            128,
            16,
            64,
            32,
            16,
            16,
            128,
            32,
            32,
            32,
            128,
            32,
            16,
            64,
            32,
            32,
            32,
            16,
            32,
            128,
            64,
            64,
            32,
            128,
            32,
            64,
            16,
            128,
            32,
            32,
            32,
            16,
            64,
            16,
            32,
            32,
            16,
            64,
            128,
            32,
            32,
            32,
            32,
            32,
            128,
            128,
            64,
            16,
            64,
            128,
            64,
            32,
            128,
            32,
            128,
            16,
            128,
            64,
            32,
            32,
            128,
            128,
            128,
            16,
            16,
            128,
            32,
            128,
            16,
            32,
            16,
            64,
            16,
            64,
            16,
            128,
            32,
            64,
            64,
            128,
            128,
            32,
            32,
            32,
            128,
            16,
            32,
            16,
            16,
            32,
            128,
            32,
            32,
            128,
            64,
            32,
            16,
            64,
            64,
            64,
            32,
            32,
            16,
            64,
            64,
            32,
            16,
            64,
            128,
            128,
            32,
            64,
            64,
            32,
            16,
            64,
            64,
            64,
            128,
            16,
            64,
            128,
            16,
            32,
            16,
            16,
            128,
            32,
            32,
            16,
            32,
            32,
            64,
            128,
            128,
            64,
            64,
            64,
            32,
            128,
            32,
            32,
            64,
            64,
            64,
            32,
            64,
            32,
            128,
            32,
            16,
            16,
            16,
            16,
            128,
            16,
            16,
            64,
            32,
            32,
            32,
            64,
            32,
            128,
            128,
            16,
            16,
            16,
            16,
            128,
            16,
            32,
            64,
            32,
            64,
            128,
            32,
            32,
            32,
            128,
            64,
            128,
            128,
            128,
            32,
            128,
            32,
            64,
            128,
            64,
            128,
            32,
            64,
            128,
            16,
            32,
            64,
            128,
            32,
            128,
            16,
            128,
            64,
            64,
            16,
            128,
            128,
            16,
            32,
            32,
            128,
            128,
            16,
            64,
            64,
            64,
            32,
            64,
            16,
            16,
            32,
            128,
            32,
            16,
            128,
            64,
            16,
            128,
            64,
            64,
            32,
            32,
            64,
            64,
            128,
            16,
            32,
            32,
            128,
            128,
            64,
            32,
            128,
            16,
            32,
            32,
            32,
            16,
            32,
            128,
            16,
            16,
            32,
            32,
            128,
            128,
            16,
            128,
            64,
            64,
            64,
            128,
            64,
            16,
            32,
            128,
            32,
            32,
            128,
            16,
            64,
            128,
            128,
            16,
            16,
            64,
            64,
            64,
            64,
            16,
            64,
            128,
            16,
            16,
            32,
            16,
            128,
            16,
            16,
            128,
            32,
            64,
            128,
            32,
            128,
            128,
            32,
            128,
            64,
            128,
            64,
            16,
            16,
            32,
            16,
            64,
            128,
            32
           ]
          },
          {
           "label": "config.learning_rate",
           "values": [
            0.012029425,
            0.0001509928,
            0.0026733113,
            0.0063921715,
            0.0002117799,
            0.0001339634,
            0.0004301466,
            0.0246447249,
            0.0012886338,
            0.0042373574,
            0.0012077727,
            0.0072791116,
            0.0034498598,
            0.0010063242,
            0.0004806511,
            0.0130056913,
            0.0031308279,
            0.0009605981,
            0.0002169243,
            0.0068498791,
            0.0027600615,
            0.0002537456,
            0.0252305352,
            0.0018919461,
            0.0062023169,
            0.0049881673,
            0.0124608798,
            0.0001801662,
            0.0008772311,
            0.0002337745,
            0.0289070673,
            0.0006200741,
            0.0673012686,
            0.0221708674,
            0.0122694749,
            0.0001986152,
            0.0001931117,
            0.0004893427,
            0.0021347291,
            0.0317247778,
            0.015439489,
            0.0002299171,
            0.0530352383,
            0.009710145,
            0.0005453533,
            0.0385172315,
            0.0004474245,
            0.0010815951,
            0.0010174582,
            0.0035727236,
            0.0005218359,
            0.008704413,
            0.0003238619,
            0.0006963815,
            0.0002002315,
            0.068742392,
            0.0459216012,
            0.0004193583,
            0.0001594974,
            0.0008368741,
            0.005439095,
            0.0653554527,
            0.0001942294,
            0.0034668496,
            0.0147527342,
            0.0109793678,
            0.0135608121,
            0.000421705,
            0.0028599567,
            0.0097781823,
            0.0011257492,
            0.0008498571,
            0.0890612122,
            0.0755823485,
            0.00021472,
            0.0132609228,
            0.0093372851,
            0.0041654081,
            0.005317439,
            0.0001938702,
            0.0161945247,
            0.0001107098,
            0.0003160663,
            0.0003163941,
            0.0325026737,
            0.0001855804,
            0.0245539028,
            0.0213580317,
            0.0015584631,
            0.0003344922,
            0.0001108379,
            0.0004568374,
            0.0001598526,
            0.000324881,
            0.0194689583,
            0.0005118467,
            0.0028996033,
            0.0810217245,
            0.005929586,
            0.0001747785,
            0.0002658807,
            0.0062441451,
            0.0719303517,
            0.0010181993,
            0.0001029109,
            0.0002059397,
            0.0732586172,
            0.0001559963,
            0.0008680019,
            0.0362749765,
            0.0013597421,
            0.0002099482,
            0.0001233164,
            0.0860221986,
            0.009515493,
            0.0011645635,
            0.0307801279,
            0.0023682839,
            0.0001022756,
            0.0094693763,
            0.0228311948,
            0.000240413,
            0.0119290802,
            0.0084330652,
            0.0347016493,
            0.0192762278,
            0.0002751406,
            0.0004451082,
            0.0048881958,
            0.0040014579,
            0.018545544,
            0.004487716,
            0.0002177898,
            0.0163215975,
            0.0040625925,
            0.0002297042,
            0.0110702718,
            0.0878756993,
            0.0118439001,
            0.0137148744,
            0.0020191511,
            0.0010873102,
            0.0001618627,
            0.082712405,
            0.0003294399,
            0.0411764132,
            0.0490071373,
            0.0459240251,
            0.0027583986,
            0.0344061441,
            0.0002438518,
            0.0006128892,
            0.0005742257,
            0.0002649574,
            0.0083722592,
            0.0293714868,
            0.0232516857,
            0.0605628872,
            0.0003809637,
            0.00025104,
            0.0001013211,
            0.0019482208,
            0.0042252694,
            0.0002854195,
            0.0016279626,
            0.0004883595,
            0.000363225,
            0.0016826329,
            0.0006292949,
            0.0075375874,
            0.0002066275,
            0.038770322,
            0.0025919523,
            0.0159864014,
            0.0070016516,
            0.0018739528,
            0.0344855949,
            0.0001916302,
            0.0566466375,
            0.0887501186,
            0.0006507332,
            0.0524629242,
            0.0003480798,
            0.0008420539,
            0.0009996707,
            0.0126852907,
            0.0188711087,
            0.0362172151,
            0.0346911898,
            0.0006785407,
            0.0083996677,
            0.0005209779,
            0.0497935241,
            0.0002575768,
            0.0339472344,
            0.0047062034,
            0.0003194379,
            0.0156347941,
            0.000486338,
            0.0061733694,
            0.0012577999,
            0.0001013297,
            0.0073678957,
            0.0081418183,
            0.0005024196,
            0.0001221542,
            0.0001263944,
            0.0037398211,
            0.0001691845,
            0.0019321874,
            0.0082076597,
            0.0010694816,
            0.0222884826,
            0.0138643763,
            0.0002111936,
            0.0002329453,
            0.0069281514,
            0.0002016476,
            0.0273899068,
            0.0002442433,
            0.0010710733,
            0.0239494053,
            0.0017295301,
            0.0014510577,
            0.025689072,
            0.0001751902,
            0.0903844611,
            0.0001828952,
            0.009215697,
            0.036138026,
            0.000229014,
            0.0307506992,
            0.0015262638,
            0.0034285857,
            0.0097003505,
            0.002567618,
            0.035607525,
            0.0003867988,
            0.0030129077,
            0.0001114819,
            0.0001038796,
            0.0001336143,
            0.0005341693,
            0.0007136049,
            0.0225118557,
            0.012337862,
            0.0265680742,
            0.0243665809,
            0.0032872388,
            0.0006708413,
            0.0022619766,
            0.000400311,
            0.0002228989,
            0.0001349273,
            0.0224000257,
            0.0623230498,
            0.0083494636,
            0.0001108247,
            0.0046542344,
            0.0114208668,
            0.065675689,
            0.0010227343,
            0.0761447499,
            0.0940687973,
            0.0006067841,
            0.004930617,
            0.0012537609,
            0.0002548299,
            0.0088352726,
            0.0237243917,
            0.0822346445,
            0.0042941655,
            0.0134913089,
            0.0548708631,
            0.0145753026,
            0.0001633442,
            0.0001864172,
            0.0488509313,
            0.000168432,
            0.0010279263,
            0.0005898364,
            0.0005479468,
            0.0436513126,
            0.0218528929,
            0.0016150885,
            0.0025873136,
            0.000560551,
            0.061166444,
            0.0013893179,
            0.0013963699,
            0.0062423127,
            0.0111407395,
            0.0004191838,
            0.0174343111,
            0.0274792204,
            0.0056029567,
            0.0186963293,
            0.0002949556,
            0.0151837427,
            0.0125161406,
            0.0039844259,
            0.0182456719,
            0.000226755,
            0.0302232621,
            0.0048966749,
            0.0001540352,
            0.0002783252,
            0.0004393921,
            0.0009337241,
            0.0007998543,
            0.0010418436
           ]
          },
          {
           "label": "config.epochs",
           "values": [
            15,
            20,
            5,
            10,
            20,
            15,
            20,
            20,
            20,
            15,
            20,
            10,
            15,
            10,
            5,
            10,
            20,
            5,
            20,
            15,
            10,
            10,
            10,
            15,
            15,
            10,
            10,
            20,
            15,
            20,
            10,
            20,
            20,
            20,
            20,
            10,
            15,
            15,
            20,
            15,
            20,
            10,
            20,
            10,
            5,
            20,
            15,
            5,
            10,
            15,
            15,
            5,
            10,
            20,
            5,
            15,
            5,
            20,
            15,
            5,
            5,
            15,
            15,
            10,
            15,
            15,
            20,
            5,
            10,
            20,
            10,
            20,
            5,
            15,
            5,
            15,
            5,
            10,
            20,
            20,
            20,
            20,
            20,
            20,
            10,
            20,
            20,
            15,
            10,
            10,
            5,
            15,
            15,
            5,
            10,
            15,
            15,
            15,
            15,
            10,
            5,
            20,
            10,
            15,
            10,
            5,
            20,
            20,
            20,
            15,
            10,
            15,
            15,
            10,
            5,
            5,
            5,
            5,
            15,
            15,
            10,
            15,
            20,
            15,
            15,
            10,
            15,
            20,
            15,
            15,
            20,
            5,
            20,
            5,
            5,
            10,
            10,
            5,
            15,
            5,
            10,
            5,
            5,
            10,
            5,
            5,
            20,
            15,
            20,
            5,
            10,
            5,
            5,
            5,
            10,
            15,
            10,
            5,
            20,
            5,
            10,
            15,
            10,
            10,
            10,
            10,
            20,
            10,
            20,
            15,
            10,
            10,
            15,
            20,
            10,
            5,
            10,
            10,
            15,
            10,
            5,
            10,
            5,
            15,
            20,
            5,
            20,
            10,
            10,
            20,
            15,
            5,
            10,
            20,
            20,
            5,
            5,
            15,
            20,
            5,
            15,
            20,
            5,
            15,
            5,
            10,
            20,
            15,
            5,
            20,
            15,
            5,
            5,
            15,
            20,
            10,
            15,
            5,
            15,
            15,
            5,
            10,
            5,
            15,
            5,
            5,
            15,
            20,
            5,
            20,
            20,
            10,
            5,
            15,
            10,
            5,
            10,
            20,
            5,
            5,
            20,
            10,
            5,
            20,
            20,
            5,
            20,
            20,
            20,
            5,
            10,
            15,
            10,
            15,
            15,
            20,
            10,
            15,
            10,
            5,
            15,
            20,
            20,
            5,
            20,
            10,
            10,
            10,
            20,
            10,
            10,
            5,
            10,
            10,
            15,
            20,
            15,
            5,
            15,
            5,
            15,
            15,
            5,
            10,
            10,
            15,
            20,
            10,
            5,
            5,
            20,
            5,
            15,
            20,
            15,
            10,
            5,
            20,
            20,
            20,
            20,
            5,
            20,
            15,
            10,
            15,
            10,
            10,
            20,
            5,
            20
           ]
          }
         ],
         "domain": {
          "x": [
           0,
           1
          ],
          "y": [
           0,
           1
          ]
         },
         "line": {
          "color": [
           0.288596961,
           2.2485182565,
           0.6224805586,
           0.4328610856,
           2.062033037,
           2.2777459355,
           2.1562323627,
           0.2965371006,
           0.3853651706,
           0.7393571132,
           0.6449106876,
           0.2934072882,
           0.4625464728,
           2.2211537082,
           2.004916997,
           0.2565702757,
           0.6239965591,
           1.1669889906,
           2.2536101233,
           0.285140515,
           0.4433594301,
           2.1975052198,
           0.3018162289,
           1.5087533238,
           0.4751516401,
           0.356344918,
           0.5940770079,
           2.2641840897,
           2.1786141446,
           2.1194866988,
           0.3032415644,
           1.9208018723,
           0.337409926,
           0.265308622,
           0.2456202165,
           2.2827799967,
           2.1455382694,
           1.9553861729,
           0.6168947512,
           0.2745130759,
           0.2484861322,
           2.2885128463,
           0.2982456968,
           0.2837121352,
           2.0649175301,
           0.2810770186,
           2.0908554026,
           2.1304944272,
           2.2566685321,
           0.6136943316,
           1.4270570534,
           0.3929629467,
           2.2521679807,
           2.1233244678,
           2.2663465087,
           0.2255833184,
           0.2354291065,
           2.2695455754,
           2.223779061,
           2.2571102457,
           0.5494568432,
           0.2619415232,
           2.2562151375,
           1.4215945551,
           0.567724239,
           0.5742967284,
           0.2598457484,
           1.622820158,
           2.075082089,
           0.2390668501,
           2.2143995001,
           0.6216232212,
           0.2519900197,
           0.4790861065,
           2.2694438785,
           0.2269888286,
           0.5066091073,
           0.3630643705,
           1.1615930884,
           2.2447527415,
           0.3783096923,
           2.2811518286,
           2.2582368369,
           2.2741148218,
           0.2390415102,
           2.2777655506,
           0.2786550259,
           0.5254910544,
           0.5285190574,
           2.2092619019,
           2.2416806927,
           1.4237716333,
           2.2489846668,
           2.2871841268,
           0.2839939847,
           2.1481344833,
           1.5316605086,
           0.2279278206,
           0.3828797989,
           2.2275040468,
           2.2570448366,
           0.5651932877,
           0.2237674442,
           1.7093419488,
           2.287568367,
           2.1089522683,
           0.2511372292,
           2.285032195,
           1.3062161967,
           0.2957483427,
           2.0151005571,
           2.285292841,
           2.3024959995,
           0.2927112505,
           0.5857032273,
           1.8392619002,
           0.2878581994,
           0.4945400517,
           2.2867773492,
           0.5083063939,
           0.3651050548,
           2.2858938207,
           0.249336664,
           0.5434444233,
           0.3778813507,
           0.2259273178,
           2.2189766719,
           1.4375689942,
           0.3536886469,
           1.3133227216,
           0.2552766925,
           0.5409785167,
           1.9896363387,
           0.3289229421,
           0.5278120592,
           2.2651071409,
           0.5848789986,
           0.3333537674,
           0.4857155373,
           0.4733706276,
           1.1995000611,
           1.2448144867,
           2.281561121,
           0.2631676737,
           2.200047568,
           0.2988758825,
           0.2411426081,
           0.3534671782,
           0.5698008146,
           0.2945565517,
           2.2265169748,
           2.2550401079,
           2.0551911163,
           1.9462270139,
           0.3268668492,
           0.2827550446,
           0.2157506283,
           0.4603601364,
           1.9283493989,
           2.1873917157,
           2.2982917644,
           0.5965758146,
           0.5669956568,
           2.1925953344,
           1.5504869166,
           2.1069568373,
           2.2825295088,
           2.1200963563,
           1.3480888891,
           0.2796343955,
           2.0266651131,
           0.23320931,
           1.9132352852,
           0.2626078508,
           0.475222147,
           1.3914972829,
           0.2403238569,
           2.279473651,
           0.3287650922,
           0.2485251363,
           1.463705857,
           0.2354520121,
           2.2838735986,
           2.1993356715,
           2.235684722,
           0.6068083317,
           0.4965138664,
           0.2296337451,
           0.4110646387,
           1.3966040154,
           0.5237200026,
           2.2677549098,
           0.259369769,
           2.2845436664,
           0.2467145361,
           0.5872061819,
           2.2724982728,
           0.2646419547,
           2.2003263772,
           0.5578755408,
           2.2041312558,
           2.2722294477,
           0.6302586141,
           0.2702808198,
           2.2656120366,
           2.2973108228,
           2.2822251472,
           0.4698043426,
           2.2801459165,
           2.1424913812,
           0.2344849803,
           1.1844924545,
           0.2806278597,
           0.5767947226,
           2.2847208216,
           2.0669414353,
           0.5238494225,
           2.2771234145,
           0.3395873479,
           2.1419788113,
           2.0216846999,
           0.2284817394,
           0.5513156004,
           0.6690887318,
           0.502727454,
           2.2442224808,
           0.2849791643,
           2.2907945171,
           0.5442727207,
           0.2970943307,
           2.2892680701,
           0.3284667489,
           1.3411331373,
           0.4953861368,
           0.3747376202,
           0.9207664681,
           0.3152519124,
           2.2718071735,
           0.506870701,
           2.2657172133,
           2.2700060679,
           2.285064956,
           2.254655072,
           2.2214378981,
           0.2805457253,
           0.6435343626,
           0.2909017647,
           0.2301015591,
           0.5561416016,
           2.0167352111,
           0.538829036,
           2.0868772977,
           2.2847285347,
           2.2067774693,
           0.2344979079,
           0.2836793622,
           0.3548278099,
           2.2971687976,
           1.1114345345,
           0.2873458804,
           0.3357861348,
           2.0648364881,
           0.2607874001,
           0.2738587983,
           2.2710720884,
           0.5852982221,
           0.5656851101,
           2.1986455078,
           0.6031566754,
           0.3216930959,
           0.2340431897,
           1.12768668,
           0.2371573722,
           0.2363836646,
           0.5423789662,
           2.294809869,
           2.1489619738,
           0.2392956576,
           2.2861133383,
           1.8342069933,
           2.2267397071,
           2.2563697797,
           0.2373763647,
           0.4424557611,
           2.1261761239,
           0.5118071917,
           1.1457696432,
           0.2394271587,
           0.5741244687,
           2.1946482557,
           0.468037202,
           0.2893485359,
           2.2809187326,
           0.3074287636,
           0.337914799,
           1.0855685847,
           0.3090189078,
           2.2717032661,
           0.5919078785,
           0.3270182757,
           1.696637094,
           0.4727671399,
           2.2938729271,
           0.3084474948,
           0.4721642297,
           2.2007126115,
           2.2409148375,
           1.4242152863,
           2.1426891799,
           2.2201775997,
           1.3770751804
          ],
          "coloraxis": "coloraxis"
         },
         "name": "",
         "type": "parcoords"
        }
       ],
       "layout": {
        "coloraxis": {
         "colorbar": {
          "title": {
           "text": "mean_val_loss"
          }
         },
         "colorscale": [
          [
           0,
           "#0d0887"
          ],
          [
           0.1111111111111111,
           "#46039f"
          ],
          [
           0.2222222222222222,
           "#7201a8"
          ],
          [
           0.3333333333333333,
           "#9c179e"
          ],
          [
           0.4444444444444444,
           "#bd3786"
          ],
          [
           0.5555555555555556,
           "#d8576b"
          ],
          [
           0.6666666666666666,
           "#ed7953"
          ],
          [
           0.7777777777777778,
           "#fb9f3a"
          ],
          [
           0.8888888888888888,
           "#fdca26"
          ],
          [
           1,
           "#f0f921"
          ]
         ]
        },
        "height": 400,
        "legend": {
         "tracegroupgap": 0
        },
        "template": {
         "data": {
          "bar": [
           {
            "error_x": {
             "color": "#2a3f5f"
            },
            "error_y": {
             "color": "#2a3f5f"
            },
            "marker": {
             "line": {
              "color": "white",
              "width": 0.5
             },
             "pattern": {
              "fillmode": "overlay",
              "size": 10,
              "solidity": 0.2
             }
            },
            "type": "bar"
           }
          ],
          "barpolar": [
           {
            "marker": {
             "line": {
              "color": "white",
              "width": 0.5
             },
             "pattern": {
              "fillmode": "overlay",
              "size": 10,
              "solidity": 0.2
             }
            },
            "type": "barpolar"
           }
          ],
          "carpet": [
           {
            "aaxis": {
             "endlinecolor": "#2a3f5f",
             "gridcolor": "#C8D4E3",
             "linecolor": "#C8D4E3",
             "minorgridcolor": "#C8D4E3",
             "startlinecolor": "#2a3f5f"
            },
            "baxis": {
             "endlinecolor": "#2a3f5f",
             "gridcolor": "#C8D4E3",
             "linecolor": "#C8D4E3",
             "minorgridcolor": "#C8D4E3",
             "startlinecolor": "#2a3f5f"
            },
            "type": "carpet"
           }
          ],
          "choropleth": [
           {
            "colorbar": {
             "outlinewidth": 0,
             "ticks": ""
            },
            "type": "choropleth"
           }
          ],
          "contour": [
           {
            "colorbar": {
             "outlinewidth": 0,
             "ticks": ""
            },
            "colorscale": [
             [
              0,
              "#0d0887"
             ],
             [
              0.1111111111111111,
              "#46039f"
             ],
             [
              0.2222222222222222,
              "#7201a8"
             ],
             [
              0.3333333333333333,
              "#9c179e"
             ],
             [
              0.4444444444444444,
              "#bd3786"
             ],
             [
              0.5555555555555556,
              "#d8576b"
             ],
             [
              0.6666666666666666,
              "#ed7953"
             ],
             [
              0.7777777777777778,
              "#fb9f3a"
             ],
             [
              0.8888888888888888,
              "#fdca26"
             ],
             [
              1,
              "#f0f921"
             ]
            ],
            "type": "contour"
           }
          ],
          "contourcarpet": [
           {
            "colorbar": {
             "outlinewidth": 0,
             "ticks": ""
            },
            "type": "contourcarpet"
           }
          ],
          "heatmap": [
           {
            "colorbar": {
             "outlinewidth": 0,
             "ticks": ""
            },
            "colorscale": [
             [
              0,
              "#0d0887"
             ],
             [
              0.1111111111111111,
              "#46039f"
             ],
             [
              0.2222222222222222,
              "#7201a8"
             ],
             [
              0.3333333333333333,
              "#9c179e"
             ],
             [
              0.4444444444444444,
              "#bd3786"
             ],
             [
              0.5555555555555556,
              "#d8576b"
             ],
             [
              0.6666666666666666,
              "#ed7953"
             ],
             [
              0.7777777777777778,
              "#fb9f3a"
             ],
             [
              0.8888888888888888,
              "#fdca26"
             ],
             [
              1,
              "#f0f921"
             ]
            ],
            "type": "heatmap"
           }
          ],
          "heatmapgl": [
           {
            "colorbar": {
             "outlinewidth": 0,
             "ticks": ""
            },
            "colorscale": [
             [
              0,
              "#0d0887"
             ],
             [
              0.1111111111111111,
              "#46039f"
             ],
             [
              0.2222222222222222,
              "#7201a8"
             ],
             [
              0.3333333333333333,
              "#9c179e"
             ],
             [
              0.4444444444444444,
              "#bd3786"
             ],
             [
              0.5555555555555556,
              "#d8576b"
             ],
             [
              0.6666666666666666,
              "#ed7953"
             ],
             [
              0.7777777777777778,
              "#fb9f3a"
             ],
             [
              0.8888888888888888,
              "#fdca26"
             ],
             [
              1,
              "#f0f921"
             ]
            ],
            "type": "heatmapgl"
           }
          ],
          "histogram": [
           {
            "marker": {
             "pattern": {
              "fillmode": "overlay",
              "size": 10,
              "solidity": 0.2
             }
            },
            "type": "histogram"
           }
          ],
          "histogram2d": [
           {
            "colorbar": {
             "outlinewidth": 0,
             "ticks": ""
            },
            "colorscale": [
             [
              0,
              "#0d0887"
             ],
             [
              0.1111111111111111,
              "#46039f"
             ],
             [
              0.2222222222222222,
              "#7201a8"
             ],
             [
              0.3333333333333333,
              "#9c179e"
             ],
             [
              0.4444444444444444,
              "#bd3786"
             ],
             [
              0.5555555555555556,
              "#d8576b"
             ],
             [
              0.6666666666666666,
              "#ed7953"
             ],
             [
              0.7777777777777778,
              "#fb9f3a"
             ],
             [
              0.8888888888888888,
              "#fdca26"
             ],
             [
              1,
              "#f0f921"
             ]
            ],
            "type": "histogram2d"
           }
          ],
          "histogram2dcontour": [
           {
            "colorbar": {
             "outlinewidth": 0,
             "ticks": ""
            },
            "colorscale": [
             [
              0,
              "#0d0887"
             ],
             [
              0.1111111111111111,
              "#46039f"
             ],
             [
              0.2222222222222222,
              "#7201a8"
             ],
             [
              0.3333333333333333,
              "#9c179e"
             ],
             [
              0.4444444444444444,
              "#bd3786"
             ],
             [
              0.5555555555555556,
              "#d8576b"
             ],
             [
              0.6666666666666666,
              "#ed7953"
             ],
             [
              0.7777777777777778,
              "#fb9f3a"
             ],
             [
              0.8888888888888888,
              "#fdca26"
             ],
             [
              1,
              "#f0f921"
             ]
            ],
            "type": "histogram2dcontour"
           }
          ],
          "mesh3d": [
           {
            "colorbar": {
             "outlinewidth": 0,
             "ticks": ""
            },
            "type": "mesh3d"
           }
          ],
          "parcoords": [
           {
            "line": {
             "colorbar": {
              "outlinewidth": 0,
              "ticks": ""
             }
            },
            "type": "parcoords"
           }
          ],
          "pie": [
           {
            "automargin": true,
            "type": "pie"
           }
          ],
          "scatter": [
           {
            "fillpattern": {
             "fillmode": "overlay",
             "size": 10,
             "solidity": 0.2
            },
            "type": "scatter"
           }
          ],
          "scatter3d": [
           {
            "line": {
             "colorbar": {
              "outlinewidth": 0,
              "ticks": ""
             }
            },
            "marker": {
             "colorbar": {
              "outlinewidth": 0,
              "ticks": ""
             }
            },
            "type": "scatter3d"
           }
          ],
          "scattercarpet": [
           {
            "marker": {
             "colorbar": {
              "outlinewidth": 0,
              "ticks": ""
             }
            },
            "type": "scattercarpet"
           }
          ],
          "scattergeo": [
           {
            "marker": {
             "colorbar": {
              "outlinewidth": 0,
              "ticks": ""
             }
            },
            "type": "scattergeo"
           }
          ],
          "scattergl": [
           {
            "marker": {
             "colorbar": {
              "outlinewidth": 0,
              "ticks": ""
             }
            },
            "type": "scattergl"
           }
          ],
          "scattermapbox": [
           {
            "marker": {
             "colorbar": {
              "outlinewidth": 0,
              "ticks": ""
             }
            },
            "type": "scattermapbox"
           }
          ],
          "scatterpolar": [
           {
            "marker": {
             "colorbar": {
              "outlinewidth": 0,
              "ticks": ""
             }
            },
            "type": "scatterpolar"
           }
          ],
          "scatterpolargl": [
           {
            "marker": {
             "colorbar": {
              "outlinewidth": 0,
              "ticks": ""
             }
            },
            "type": "scatterpolargl"
           }
          ],
          "scatterternary": [
           {
            "marker": {
             "colorbar": {
              "outlinewidth": 0,
              "ticks": ""
             }
            },
            "type": "scatterternary"
           }
          ],
          "surface": [
           {
            "colorbar": {
             "outlinewidth": 0,
             "ticks": ""
            },
            "colorscale": [
             [
              0,
              "#0d0887"
             ],
             [
              0.1111111111111111,
              "#46039f"
             ],
             [
              0.2222222222222222,
              "#7201a8"
             ],
             [
              0.3333333333333333,
              "#9c179e"
             ],
             [
              0.4444444444444444,
              "#bd3786"
             ],
             [
              0.5555555555555556,
              "#d8576b"
             ],
             [
              0.6666666666666666,
              "#ed7953"
             ],
             [
              0.7777777777777778,
              "#fb9f3a"
             ],
             [
              0.8888888888888888,
              "#fdca26"
             ],
             [
              1,
              "#f0f921"
             ]
            ],
            "type": "surface"
           }
          ],
          "table": [
           {
            "cells": {
             "fill": {
              "color": "#EBF0F8"
             },
             "line": {
              "color": "white"
             }
            },
            "header": {
             "fill": {
              "color": "#C8D4E3"
             },
             "line": {
              "color": "white"
             }
            },
            "type": "table"
           }
          ]
         },
         "layout": {
          "annotationdefaults": {
           "arrowcolor": "#2a3f5f",
           "arrowhead": 0,
           "arrowwidth": 1
          },
          "autotypenumbers": "strict",
          "coloraxis": {
           "colorbar": {
            "outlinewidth": 0,
            "ticks": ""
           }
          },
          "colorscale": {
           "diverging": [
            [
             0,
             "#8e0152"
            ],
            [
             0.1,
             "#c51b7d"
            ],
            [
             0.2,
             "#de77ae"
            ],
            [
             0.3,
             "#f1b6da"
            ],
            [
             0.4,
             "#fde0ef"
            ],
            [
             0.5,
             "#f7f7f7"
            ],
            [
             0.6,
             "#e6f5d0"
            ],
            [
             0.7,
             "#b8e186"
            ],
            [
             0.8,
             "#7fbc41"
            ],
            [
             0.9,
             "#4d9221"
            ],
            [
             1,
             "#276419"
            ]
           ],
           "sequential": [
            [
             0,
             "#0d0887"
            ],
            [
             0.1111111111111111,
             "#46039f"
            ],
            [
             0.2222222222222222,
             "#7201a8"
            ],
            [
             0.3333333333333333,
             "#9c179e"
            ],
            [
             0.4444444444444444,
             "#bd3786"
            ],
            [
             0.5555555555555556,
             "#d8576b"
            ],
            [
             0.6666666666666666,
             "#ed7953"
            ],
            [
             0.7777777777777778,
             "#fb9f3a"
            ],
            [
             0.8888888888888888,
             "#fdca26"
            ],
            [
             1,
             "#f0f921"
            ]
           ],
           "sequentialminus": [
            [
             0,
             "#0d0887"
            ],
            [
             0.1111111111111111,
             "#46039f"
            ],
            [
             0.2222222222222222,
             "#7201a8"
            ],
            [
             0.3333333333333333,
             "#9c179e"
            ],
            [
             0.4444444444444444,
             "#bd3786"
            ],
            [
             0.5555555555555556,
             "#d8576b"
            ],
            [
             0.6666666666666666,
             "#ed7953"
            ],
            [
             0.7777777777777778,
             "#fb9f3a"
            ],
            [
             0.8888888888888888,
             "#fdca26"
            ],
            [
             1,
             "#f0f921"
            ]
           ]
          },
          "colorway": [
           "#636efa",
           "#EF553B",
           "#00cc96",
           "#ab63fa",
           "#FFA15A",
           "#19d3f3",
           "#FF6692",
           "#B6E880",
           "#FF97FF",
           "#FECB52"
          ],
          "font": {
           "color": "#2a3f5f"
          },
          "geo": {
           "bgcolor": "white",
           "lakecolor": "white",
           "landcolor": "white",
           "showlakes": true,
           "showland": true,
           "subunitcolor": "#C8D4E3"
          },
          "hoverlabel": {
           "align": "left"
          },
          "hovermode": "closest",
          "mapbox": {
           "style": "light"
          },
          "paper_bgcolor": "white",
          "plot_bgcolor": "white",
          "polar": {
           "angularaxis": {
            "gridcolor": "#EBF0F8",
            "linecolor": "#EBF0F8",
            "ticks": ""
           },
           "bgcolor": "white",
           "radialaxis": {
            "gridcolor": "#EBF0F8",
            "linecolor": "#EBF0F8",
            "ticks": ""
           }
          },
          "scene": {
           "xaxis": {
            "backgroundcolor": "white",
            "gridcolor": "#DFE8F3",
            "gridwidth": 2,
            "linecolor": "#EBF0F8",
            "showbackground": true,
            "ticks": "",
            "zerolinecolor": "#EBF0F8"
           },
           "yaxis": {
            "backgroundcolor": "white",
            "gridcolor": "#DFE8F3",
            "gridwidth": 2,
            "linecolor": "#EBF0F8",
            "showbackground": true,
            "ticks": "",
            "zerolinecolor": "#EBF0F8"
           },
           "zaxis": {
            "backgroundcolor": "white",
            "gridcolor": "#DFE8F3",
            "gridwidth": 2,
            "linecolor": "#EBF0F8",
            "showbackground": true,
            "ticks": "",
            "zerolinecolor": "#EBF0F8"
           }
          },
          "shapedefaults": {
           "line": {
            "color": "#2a3f5f"
           }
          },
          "ternary": {
           "aaxis": {
            "gridcolor": "#DFE8F3",
            "linecolor": "#A2B1C6",
            "ticks": ""
           },
           "baxis": {
            "gridcolor": "#DFE8F3",
            "linecolor": "#A2B1C6",
            "ticks": ""
           },
           "bgcolor": "white",
           "caxis": {
            "gridcolor": "#DFE8F3",
            "linecolor": "#A2B1C6",
            "ticks": ""
           }
          },
          "title": {
           "x": 0.05
          },
          "xaxis": {
           "automargin": true,
           "gridcolor": "#EBF0F8",
           "linecolor": "#EBF0F8",
           "ticks": "",
           "title": {
            "standoff": 15
           },
           "zerolinecolor": "#EBF0F8",
           "zerolinewidth": 2
          },
          "yaxis": {
           "automargin": true,
           "gridcolor": "#EBF0F8",
           "linecolor": "#EBF0F8",
           "ticks": "",
           "title": {
            "standoff": 15
           },
           "zerolinecolor": "#EBF0F8",
           "zerolinewidth": 2
          }
         }
        },
        "title": {
         "text": "Hyperband Trial Configurations"
        },
        "width": 900
       }
      },
      "text/html": [
       "<div>                            <div id=\"7461af4d-bbc4-4cbf-86ce-9094af2a0150\" class=\"plotly-graph-div\" style=\"height:400px; width:900px;\"></div>            <script type=\"text/javascript\">                require([\"plotly\"], function(Plotly) {                    window.PLOTLYENV=window.PLOTLYENV || {};                                    if (document.getElementById(\"7461af4d-bbc4-4cbf-86ce-9094af2a0150\")) {                    Plotly.newPlot(                        \"7461af4d-bbc4-4cbf-86ce-9094af2a0150\",                        [{\"dimensions\":[{\"label\":\"config.l1\",\"values\":[64,128,32,128,64,32,32,32,64,64,128,64,256,32,64,32,256,64,32,32,128,32,64,256,256,128,256,256,64,32,128,64,128,32,128,256,128,64,64,64,32,256,256,256,128,64,32,64,64,256,32,128,32,256,256,256,128,256,256,64,256,32,32,256,128,64,256,64,64,256,128,128,64,256,256,256,128,128,64,64,128,128,64,64,256,32,256,64,128,128,128,256,128,32,64,64,256,128,256,128,256,128,256,32,32,256,256,256,128,64,256,256,32,256,64,64,128,32,64,32,32,128,32,32,32,64,32,256,256,64,256,128,256,128,32,128,64,32,128,256,256,128,256,256,64,64,64,128,64,32,64,32,256,64,32,64,128,64,128,128,32,32,32,64,64,64,256,64,32,32,256,128,128,128,32,256,128,256,128,256,128,64,32,64,32,128,64,128,32,64,32,64,32,256,256,64,32,64,256,64,64,128,32,64,32,32,256,128,256,256,256,64,32,256,128,128,32,64,32,256,256,256,128,64,32,64,128,256,64,32,32,64,64,64,64,256,64,32,32,256,64,256,64,128,256,128,64,64,128,32,128,128,32,256,128,64,256,32,64,128,128,256,256,64,64,32,128,32,128,128,128,128,64,32,32,256,256,128,32,256,256,32,256,32,32,256,256,256,128,128,128,64,64,256,32,32,128,256,256,256,64,128,64,256,32,256,128,128,32,64,32]},{\"label\":\"config.batch_size\",\"values\":[64,32,128,128,16,64,32,16,16,128,32,32,32,128,32,16,64,32,32,32,16,32,128,64,64,32,128,32,64,16,128,32,32,32,16,64,16,32,32,16,64,128,32,32,32,32,32,128,128,64,16,64,128,64,32,128,32,128,16,128,64,32,32,128,128,128,16,16,128,32,128,16,32,16,64,16,64,16,128,32,64,64,128,128,32,32,32,128,16,32,16,16,32,128,32,32,128,64,32,16,64,64,64,32,32,16,64,64,32,16,64,128,128,32,64,64,32,16,64,64,64,128,16,64,128,16,32,16,16,128,32,32,16,32,32,64,128,128,64,64,64,32,128,32,32,64,64,64,32,64,32,128,32,16,16,16,16,128,16,16,64,32,32,32,64,32,128,128,16,16,16,16,128,16,32,64,32,64,128,32,32,32,128,64,128,128,128,32,128,32,64,128,64,128,32,64,128,16,32,64,128,32,128,16,128,64,64,16,128,128,16,32,32,128,128,16,64,64,64,32,64,16,16,32,128,32,16,128,64,16,128,64,64,32,32,64,64,128,16,32,32,128,128,64,32,128,16,32,32,32,16,32,128,16,16,32,32,128,128,16,128,64,64,64,128,64,16,32,128,32,32,128,16,64,128,128,16,16,64,64,64,64,16,64,128,16,16,32,16,128,16,16,128,32,64,128,32,128,128,32,128,64,128,64,16,16,32,16,64,128,32]},{\"label\":\"config.learning_rate\",\"values\":[0.012029425,0.0001509928,0.0026733113,0.0063921715,0.0002117799,0.0001339634,0.0004301466,0.0246447249,0.0012886338,0.0042373574,0.0012077727,0.0072791116,0.0034498598,0.0010063242,0.0004806511,0.0130056913,0.0031308279,0.0009605981,0.0002169243,0.0068498791,0.0027600615,0.0002537456,0.0252305352,0.0018919461,0.0062023169,0.0049881673,0.0124608798,0.0001801662,0.0008772311,0.0002337745,0.0289070673,0.0006200741,0.0673012686,0.0221708674,0.0122694749,0.0001986152,0.0001931117,0.0004893427,0.0021347291,0.0317247778,0.015439489,0.0002299171,0.0530352383,0.009710145,0.0005453533,0.0385172315,0.0004474245,0.0010815951,0.0010174582,0.0035727236,0.0005218359,0.008704413,0.0003238619,0.0006963815,0.0002002315,0.068742392,0.0459216012,0.0004193583,0.0001594974,0.0008368741,0.005439095,0.0653554527,0.0001942294,0.0034668496,0.0147527342,0.0109793678,0.0135608121,0.000421705,0.0028599567,0.0097781823,0.0011257492,0.0008498571,0.0890612122,0.0755823485,0.00021472,0.0132609228,0.0093372851,0.0041654081,0.005317439,0.0001938702,0.0161945247,0.0001107098,0.0003160663,0.0003163941,0.0325026737,0.0001855804,0.0245539028,0.0213580317,0.0015584631,0.0003344922,0.0001108379,0.0004568374,0.0001598526,0.000324881,0.0194689583,0.0005118467,0.0028996033,0.0810217245,0.005929586,0.0001747785,0.0002658807,0.0062441451,0.0719303517,0.0010181993,0.0001029109,0.0002059397,0.0732586172,0.0001559963,0.0008680019,0.0362749765,0.0013597421,0.0002099482,0.0001233164,0.0860221986,0.009515493,0.0011645635,0.0307801279,0.0023682839,0.0001022756,0.0094693763,0.0228311948,0.000240413,0.0119290802,0.0084330652,0.0347016493,0.0192762278,0.0002751406,0.0004451082,0.0048881958,0.0040014579,0.018545544,0.004487716,0.0002177898,0.0163215975,0.0040625925,0.0002297042,0.0110702718,0.0878756993,0.0118439001,0.0137148744,0.0020191511,0.0010873102,0.0001618627,0.082712405,0.0003294399,0.0411764132,0.0490071373,0.0459240251,0.0027583986,0.0344061441,0.0002438518,0.0006128892,0.0005742257,0.0002649574,0.0083722592,0.0293714868,0.0232516857,0.0605628872,0.0003809637,0.00025104,0.0001013211,0.0019482208,0.0042252694,0.0002854195,0.0016279626,0.0004883595,0.000363225,0.0016826329,0.0006292949,0.0075375874,0.0002066275,0.038770322,0.0025919523,0.0159864014,0.0070016516,0.0018739528,0.0344855949,0.0001916302,0.0566466375,0.0887501186,0.0006507332,0.0524629242,0.0003480798,0.0008420539,0.0009996707,0.0126852907,0.0188711087,0.0362172151,0.0346911898,0.0006785407,0.0083996677,0.0005209779,0.0497935241,0.0002575768,0.0339472344,0.0047062034,0.0003194379,0.0156347941,0.000486338,0.0061733694,0.0012577999,0.0001013297,0.0073678957,0.0081418183,0.0005024196,0.0001221542,0.0001263944,0.0037398211,0.0001691845,0.0019321874,0.0082076597,0.0010694816,0.0222884826,0.0138643763,0.0002111936,0.0002329453,0.0069281514,0.0002016476,0.0273899068,0.0002442433,0.0010710733,0.0239494053,0.0017295301,0.0014510577,0.025689072,0.0001751902,0.0903844611,0.0001828952,0.009215697,0.036138026,0.000229014,0.0307506992,0.0015262638,0.0034285857,0.0097003505,0.002567618,0.035607525,0.0003867988,0.0030129077,0.0001114819,0.0001038796,0.0001336143,0.0005341693,0.0007136049,0.0225118557,0.012337862,0.0265680742,0.0243665809,0.0032872388,0.0006708413,0.0022619766,0.000400311,0.0002228989,0.0001349273,0.0224000257,0.0623230498,0.0083494636,0.0001108247,0.0046542344,0.0114208668,0.065675689,0.0010227343,0.0761447499,0.0940687973,0.0006067841,0.004930617,0.0012537609,0.0002548299,0.0088352726,0.0237243917,0.0822346445,0.0042941655,0.0134913089,0.0548708631,0.0145753026,0.0001633442,0.0001864172,0.0488509313,0.000168432,0.0010279263,0.0005898364,0.0005479468,0.0436513126,0.0218528929,0.0016150885,0.0025873136,0.000560551,0.061166444,0.0013893179,0.0013963699,0.0062423127,0.0111407395,0.0004191838,0.0174343111,0.0274792204,0.0056029567,0.0186963293,0.0002949556,0.0151837427,0.0125161406,0.0039844259,0.0182456719,0.000226755,0.0302232621,0.0048966749,0.0001540352,0.0002783252,0.0004393921,0.0009337241,0.0007998543,0.0010418436]},{\"label\":\"config.epochs\",\"values\":[15,20,5,10,20,15,20,20,20,15,20,10,15,10,5,10,20,5,20,15,10,10,10,15,15,10,10,20,15,20,10,20,20,20,20,10,15,15,20,15,20,10,20,10,5,20,15,5,10,15,15,5,10,20,5,15,5,20,15,5,5,15,15,10,15,15,20,5,10,20,10,20,5,15,5,15,5,10,20,20,20,20,20,20,10,20,20,15,10,10,5,15,15,5,10,15,15,15,15,10,5,20,10,15,10,5,20,20,20,15,10,15,15,10,5,5,5,5,15,15,10,15,20,15,15,10,15,20,15,15,20,5,20,5,5,10,10,5,15,5,10,5,5,10,5,5,20,15,20,5,10,5,5,5,10,15,10,5,20,5,10,15,10,10,10,10,20,10,20,15,10,10,15,20,10,5,10,10,15,10,5,10,5,15,20,5,20,10,10,20,15,5,10,20,20,5,5,15,20,5,15,20,5,15,5,10,20,15,5,20,15,5,5,15,20,10,15,5,15,15,5,10,5,15,5,5,15,20,5,20,20,10,5,15,10,5,10,20,5,5,20,10,5,20,20,5,20,20,20,5,10,15,10,15,15,20,10,15,10,5,15,20,20,5,20,10,10,10,20,10,10,5,10,10,15,20,15,5,15,5,15,15,5,10,10,15,20,10,5,5,20,5,15,20,15,10,5,20,20,20,20,5,20,15,10,15,10,10,20,5,20]}],\"domain\":{\"x\":[0.0,1.0],\"y\":[0.0,1.0]},\"line\":{\"color\":[0.288596961,2.2485182565,0.6224805586,0.4328610856,2.062033037,2.2777459355,2.1562323627,0.2965371006,0.3853651706,0.7393571132,0.6449106876,0.2934072882,0.4625464728,2.2211537082,2.004916997,0.2565702757,0.6239965591,1.1669889906,2.2536101233,0.285140515,0.4433594301,2.1975052198,0.3018162289,1.5087533238,0.4751516401,0.356344918,0.5940770079,2.2641840897,2.1786141446,2.1194866988,0.3032415644,1.9208018723,0.337409926,0.265308622,0.2456202165,2.2827799967,2.1455382694,1.9553861729,0.6168947512,0.2745130759,0.2484861322,2.2885128463,0.2982456968,0.2837121352,2.0649175301,0.2810770186,2.0908554026,2.1304944272,2.2566685321,0.6136943316,1.4270570534,0.3929629467,2.2521679807,2.1233244678,2.2663465087,0.2255833184,0.2354291065,2.2695455754,2.223779061,2.2571102457,0.5494568432,0.2619415232,2.2562151375,1.4215945551,0.567724239,0.5742967284,0.2598457484,1.622820158,2.075082089,0.2390668501,2.2143995001,0.6216232212,0.2519900197,0.4790861065,2.2694438785,0.2269888286,0.5066091073,0.3630643705,1.1615930884,2.2447527415,0.3783096923,2.2811518286,2.2582368369,2.2741148218,0.2390415102,2.2777655506,0.2786550259,0.5254910544,0.5285190574,2.2092619019,2.2416806927,1.4237716333,2.2489846668,2.2871841268,0.2839939847,2.1481344833,1.5316605086,0.2279278206,0.3828797989,2.2275040468,2.2570448366,0.5651932877,0.2237674442,1.7093419488,2.287568367,2.1089522683,0.2511372292,2.285032195,1.3062161967,0.2957483427,2.0151005571,2.285292841,2.3024959995,0.2927112505,0.5857032273,1.8392619002,0.2878581994,0.4945400517,2.2867773492,0.5083063939,0.3651050548,2.2858938207,0.249336664,0.5434444233,0.3778813507,0.2259273178,2.2189766719,1.4375689942,0.3536886469,1.3133227216,0.2552766925,0.5409785167,1.9896363387,0.3289229421,0.5278120592,2.2651071409,0.5848789986,0.3333537674,0.4857155373,0.4733706276,1.1995000611,1.2448144867,2.281561121,0.2631676737,2.200047568,0.2988758825,0.2411426081,0.3534671782,0.5698008146,0.2945565517,2.2265169748,2.2550401079,2.0551911163,1.9462270139,0.3268668492,0.2827550446,0.2157506283,0.4603601364,1.9283493989,2.1873917157,2.2982917644,0.5965758146,0.5669956568,2.1925953344,1.5504869166,2.1069568373,2.2825295088,2.1200963563,1.3480888891,0.2796343955,2.0266651131,0.23320931,1.9132352852,0.2626078508,0.475222147,1.3914972829,0.2403238569,2.279473651,0.3287650922,0.2485251363,1.463705857,0.2354520121,2.2838735986,2.1993356715,2.235684722,0.6068083317,0.4965138664,0.2296337451,0.4110646387,1.3966040154,0.5237200026,2.2677549098,0.259369769,2.2845436664,0.2467145361,0.5872061819,2.2724982728,0.2646419547,2.2003263772,0.5578755408,2.2041312558,2.2722294477,0.6302586141,0.2702808198,2.2656120366,2.2973108228,2.2822251472,0.4698043426,2.2801459165,2.1424913812,0.2344849803,1.1844924545,0.2806278597,0.5767947226,2.2847208216,2.0669414353,0.5238494225,2.2771234145,0.3395873479,2.1419788113,2.0216846999,0.2284817394,0.5513156004,0.6690887318,0.502727454,2.2442224808,0.2849791643,2.2907945171,0.5442727207,0.2970943307,2.2892680701,0.3284667489,1.3411331373,0.4953861368,0.3747376202,0.9207664681,0.3152519124,2.2718071735,0.506870701,2.2657172133,2.2700060679,2.285064956,2.254655072,2.2214378981,0.2805457253,0.6435343626,0.2909017647,0.2301015591,0.5561416016,2.0167352111,0.538829036,2.0868772977,2.2847285347,2.2067774693,0.2344979079,0.2836793622,0.3548278099,2.2971687976,1.1114345345,0.2873458804,0.3357861348,2.0648364881,0.2607874001,0.2738587983,2.2710720884,0.5852982221,0.5656851101,2.1986455078,0.6031566754,0.3216930959,0.2340431897,1.12768668,0.2371573722,0.2363836646,0.5423789662,2.294809869,2.1489619738,0.2392956576,2.2861133383,1.8342069933,2.2267397071,2.2563697797,0.2373763647,0.4424557611,2.1261761239,0.5118071917,1.1457696432,0.2394271587,0.5741244687,2.1946482557,0.468037202,0.2893485359,2.2809187326,0.3074287636,0.337914799,1.0855685847,0.3090189078,2.2717032661,0.5919078785,0.3270182757,1.696637094,0.4727671399,2.2938729271,0.3084474948,0.4721642297,2.2007126115,2.2409148375,1.4242152863,2.1426891799,2.2201775997,1.3770751804],\"coloraxis\":\"coloraxis\"},\"name\":\"\",\"type\":\"parcoords\"}],                        {\"template\":{\"data\":{\"histogram2dcontour\":[{\"type\":\"histogram2dcontour\",\"colorbar\":{\"outlinewidth\":0,\"ticks\":\"\"},\"colorscale\":[[0.0,\"#0d0887\"],[0.1111111111111111,\"#46039f\"],[0.2222222222222222,\"#7201a8\"],[0.3333333333333333,\"#9c179e\"],[0.4444444444444444,\"#bd3786\"],[0.5555555555555556,\"#d8576b\"],[0.6666666666666666,\"#ed7953\"],[0.7777777777777778,\"#fb9f3a\"],[0.8888888888888888,\"#fdca26\"],[1.0,\"#f0f921\"]]}],\"choropleth\":[{\"type\":\"choropleth\",\"colorbar\":{\"outlinewidth\":0,\"ticks\":\"\"}}],\"histogram2d\":[{\"type\":\"histogram2d\",\"colorbar\":{\"outlinewidth\":0,\"ticks\":\"\"},\"colorscale\":[[0.0,\"#0d0887\"],[0.1111111111111111,\"#46039f\"],[0.2222222222222222,\"#7201a8\"],[0.3333333333333333,\"#9c179e\"],[0.4444444444444444,\"#bd3786\"],[0.5555555555555556,\"#d8576b\"],[0.6666666666666666,\"#ed7953\"],[0.7777777777777778,\"#fb9f3a\"],[0.8888888888888888,\"#fdca26\"],[1.0,\"#f0f921\"]]}],\"heatmap\":[{\"type\":\"heatmap\",\"colorbar\":{\"outlinewidth\":0,\"ticks\":\"\"},\"colorscale\":[[0.0,\"#0d0887\"],[0.1111111111111111,\"#46039f\"],[0.2222222222222222,\"#7201a8\"],[0.3333333333333333,\"#9c179e\"],[0.4444444444444444,\"#bd3786\"],[0.5555555555555556,\"#d8576b\"],[0.6666666666666666,\"#ed7953\"],[0.7777777777777778,\"#fb9f3a\"],[0.8888888888888888,\"#fdca26\"],[1.0,\"#f0f921\"]]}],\"heatmapgl\":[{\"type\":\"heatmapgl\",\"colorbar\":{\"outlinewidth\":0,\"ticks\":\"\"},\"colorscale\":[[0.0,\"#0d0887\"],[0.1111111111111111,\"#46039f\"],[0.2222222222222222,\"#7201a8\"],[0.3333333333333333,\"#9c179e\"],[0.4444444444444444,\"#bd3786\"],[0.5555555555555556,\"#d8576b\"],[0.6666666666666666,\"#ed7953\"],[0.7777777777777778,\"#fb9f3a\"],[0.8888888888888888,\"#fdca26\"],[1.0,\"#f0f921\"]]}],\"contourcarpet\":[{\"type\":\"contourcarpet\",\"colorbar\":{\"outlinewidth\":0,\"ticks\":\"\"}}],\"contour\":[{\"type\":\"contour\",\"colorbar\":{\"outlinewidth\":0,\"ticks\":\"\"},\"colorscale\":[[0.0,\"#0d0887\"],[0.1111111111111111,\"#46039f\"],[0.2222222222222222,\"#7201a8\"],[0.3333333333333333,\"#9c179e\"],[0.4444444444444444,\"#bd3786\"],[0.5555555555555556,\"#d8576b\"],[0.6666666666666666,\"#ed7953\"],[0.7777777777777778,\"#fb9f3a\"],[0.8888888888888888,\"#fdca26\"],[1.0,\"#f0f921\"]]}],\"surface\":[{\"type\":\"surface\",\"colorbar\":{\"outlinewidth\":0,\"ticks\":\"\"},\"colorscale\":[[0.0,\"#0d0887\"],[0.1111111111111111,\"#46039f\"],[0.2222222222222222,\"#7201a8\"],[0.3333333333333333,\"#9c179e\"],[0.4444444444444444,\"#bd3786\"],[0.5555555555555556,\"#d8576b\"],[0.6666666666666666,\"#ed7953\"],[0.7777777777777778,\"#fb9f3a\"],[0.8888888888888888,\"#fdca26\"],[1.0,\"#f0f921\"]]}],\"mesh3d\":[{\"type\":\"mesh3d\",\"colorbar\":{\"outlinewidth\":0,\"ticks\":\"\"}}],\"scatter\":[{\"fillpattern\":{\"fillmode\":\"overlay\",\"size\":10,\"solidity\":0.2},\"type\":\"scatter\"}],\"parcoords\":[{\"type\":\"parcoords\",\"line\":{\"colorbar\":{\"outlinewidth\":0,\"ticks\":\"\"}}}],\"scatterpolargl\":[{\"type\":\"scatterpolargl\",\"marker\":{\"colorbar\":{\"outlinewidth\":0,\"ticks\":\"\"}}}],\"bar\":[{\"error_x\":{\"color\":\"#2a3f5f\"},\"error_y\":{\"color\":\"#2a3f5f\"},\"marker\":{\"line\":{\"color\":\"white\",\"width\":0.5},\"pattern\":{\"fillmode\":\"overlay\",\"size\":10,\"solidity\":0.2}},\"type\":\"bar\"}],\"scattergeo\":[{\"type\":\"scattergeo\",\"marker\":{\"colorbar\":{\"outlinewidth\":0,\"ticks\":\"\"}}}],\"scatterpolar\":[{\"type\":\"scatterpolar\",\"marker\":{\"colorbar\":{\"outlinewidth\":0,\"ticks\":\"\"}}}],\"histogram\":[{\"marker\":{\"pattern\":{\"fillmode\":\"overlay\",\"size\":10,\"solidity\":0.2}},\"type\":\"histogram\"}],\"scattergl\":[{\"type\":\"scattergl\",\"marker\":{\"colorbar\":{\"outlinewidth\":0,\"ticks\":\"\"}}}],\"scatter3d\":[{\"type\":\"scatter3d\",\"line\":{\"colorbar\":{\"outlinewidth\":0,\"ticks\":\"\"}},\"marker\":{\"colorbar\":{\"outlinewidth\":0,\"ticks\":\"\"}}}],\"scattermapbox\":[{\"type\":\"scattermapbox\",\"marker\":{\"colorbar\":{\"outlinewidth\":0,\"ticks\":\"\"}}}],\"scatterternary\":[{\"type\":\"scatterternary\",\"marker\":{\"colorbar\":{\"outlinewidth\":0,\"ticks\":\"\"}}}],\"scattercarpet\":[{\"type\":\"scattercarpet\",\"marker\":{\"colorbar\":{\"outlinewidth\":0,\"ticks\":\"\"}}}],\"carpet\":[{\"aaxis\":{\"endlinecolor\":\"#2a3f5f\",\"gridcolor\":\"#C8D4E3\",\"linecolor\":\"#C8D4E3\",\"minorgridcolor\":\"#C8D4E3\",\"startlinecolor\":\"#2a3f5f\"},\"baxis\":{\"endlinecolor\":\"#2a3f5f\",\"gridcolor\":\"#C8D4E3\",\"linecolor\":\"#C8D4E3\",\"minorgridcolor\":\"#C8D4E3\",\"startlinecolor\":\"#2a3f5f\"},\"type\":\"carpet\"}],\"table\":[{\"cells\":{\"fill\":{\"color\":\"#EBF0F8\"},\"line\":{\"color\":\"white\"}},\"header\":{\"fill\":{\"color\":\"#C8D4E3\"},\"line\":{\"color\":\"white\"}},\"type\":\"table\"}],\"barpolar\":[{\"marker\":{\"line\":{\"color\":\"white\",\"width\":0.5},\"pattern\":{\"fillmode\":\"overlay\",\"size\":10,\"solidity\":0.2}},\"type\":\"barpolar\"}],\"pie\":[{\"automargin\":true,\"type\":\"pie\"}]},\"layout\":{\"autotypenumbers\":\"strict\",\"colorway\":[\"#636efa\",\"#EF553B\",\"#00cc96\",\"#ab63fa\",\"#FFA15A\",\"#19d3f3\",\"#FF6692\",\"#B6E880\",\"#FF97FF\",\"#FECB52\"],\"font\":{\"color\":\"#2a3f5f\"},\"hovermode\":\"closest\",\"hoverlabel\":{\"align\":\"left\"},\"paper_bgcolor\":\"white\",\"plot_bgcolor\":\"white\",\"polar\":{\"bgcolor\":\"white\",\"angularaxis\":{\"gridcolor\":\"#EBF0F8\",\"linecolor\":\"#EBF0F8\",\"ticks\":\"\"},\"radialaxis\":{\"gridcolor\":\"#EBF0F8\",\"linecolor\":\"#EBF0F8\",\"ticks\":\"\"}},\"ternary\":{\"bgcolor\":\"white\",\"aaxis\":{\"gridcolor\":\"#DFE8F3\",\"linecolor\":\"#A2B1C6\",\"ticks\":\"\"},\"baxis\":{\"gridcolor\":\"#DFE8F3\",\"linecolor\":\"#A2B1C6\",\"ticks\":\"\"},\"caxis\":{\"gridcolor\":\"#DFE8F3\",\"linecolor\":\"#A2B1C6\",\"ticks\":\"\"}},\"coloraxis\":{\"colorbar\":{\"outlinewidth\":0,\"ticks\":\"\"}},\"colorscale\":{\"sequential\":[[0.0,\"#0d0887\"],[0.1111111111111111,\"#46039f\"],[0.2222222222222222,\"#7201a8\"],[0.3333333333333333,\"#9c179e\"],[0.4444444444444444,\"#bd3786\"],[0.5555555555555556,\"#d8576b\"],[0.6666666666666666,\"#ed7953\"],[0.7777777777777778,\"#fb9f3a\"],[0.8888888888888888,\"#fdca26\"],[1.0,\"#f0f921\"]],\"sequentialminus\":[[0.0,\"#0d0887\"],[0.1111111111111111,\"#46039f\"],[0.2222222222222222,\"#7201a8\"],[0.3333333333333333,\"#9c179e\"],[0.4444444444444444,\"#bd3786\"],[0.5555555555555556,\"#d8576b\"],[0.6666666666666666,\"#ed7953\"],[0.7777777777777778,\"#fb9f3a\"],[0.8888888888888888,\"#fdca26\"],[1.0,\"#f0f921\"]],\"diverging\":[[0,\"#8e0152\"],[0.1,\"#c51b7d\"],[0.2,\"#de77ae\"],[0.3,\"#f1b6da\"],[0.4,\"#fde0ef\"],[0.5,\"#f7f7f7\"],[0.6,\"#e6f5d0\"],[0.7,\"#b8e186\"],[0.8,\"#7fbc41\"],[0.9,\"#4d9221\"],[1,\"#276419\"]]},\"xaxis\":{\"gridcolor\":\"#EBF0F8\",\"linecolor\":\"#EBF0F8\",\"ticks\":\"\",\"title\":{\"standoff\":15},\"zerolinecolor\":\"#EBF0F8\",\"automargin\":true,\"zerolinewidth\":2},\"yaxis\":{\"gridcolor\":\"#EBF0F8\",\"linecolor\":\"#EBF0F8\",\"ticks\":\"\",\"title\":{\"standoff\":15},\"zerolinecolor\":\"#EBF0F8\",\"automargin\":true,\"zerolinewidth\":2},\"scene\":{\"xaxis\":{\"backgroundcolor\":\"white\",\"gridcolor\":\"#DFE8F3\",\"linecolor\":\"#EBF0F8\",\"showbackground\":true,\"ticks\":\"\",\"zerolinecolor\":\"#EBF0F8\",\"gridwidth\":2},\"yaxis\":{\"backgroundcolor\":\"white\",\"gridcolor\":\"#DFE8F3\",\"linecolor\":\"#EBF0F8\",\"showbackground\":true,\"ticks\":\"\",\"zerolinecolor\":\"#EBF0F8\",\"gridwidth\":2},\"zaxis\":{\"backgroundcolor\":\"white\",\"gridcolor\":\"#DFE8F3\",\"linecolor\":\"#EBF0F8\",\"showbackground\":true,\"ticks\":\"\",\"zerolinecolor\":\"#EBF0F8\",\"gridwidth\":2}},\"shapedefaults\":{\"line\":{\"color\":\"#2a3f5f\"}},\"annotationdefaults\":{\"arrowcolor\":\"#2a3f5f\",\"arrowhead\":0,\"arrowwidth\":1},\"geo\":{\"bgcolor\":\"white\",\"landcolor\":\"white\",\"subunitcolor\":\"#C8D4E3\",\"showland\":true,\"showlakes\":true,\"lakecolor\":\"white\"},\"title\":{\"x\":0.05},\"mapbox\":{\"style\":\"light\"}}},\"coloraxis\":{\"colorbar\":{\"title\":{\"text\":\"mean_val_loss\"}},\"colorscale\":[[0.0,\"#0d0887\"],[0.1111111111111111,\"#46039f\"],[0.2222222222222222,\"#7201a8\"],[0.3333333333333333,\"#9c179e\"],[0.4444444444444444,\"#bd3786\"],[0.5555555555555556,\"#d8576b\"],[0.6666666666666666,\"#ed7953\"],[0.7777777777777778,\"#fb9f3a\"],[0.8888888888888888,\"#fdca26\"],[1.0,\"#f0f921\"]]},\"legend\":{\"tracegroupgap\":0},\"title\":{\"text\":\"Hyperband Trial Configurations\"},\"height\":400,\"width\":900},                        {\"responsive\": true}                    ).then(function(){\n",
       "                            \n",
       "var gd = document.getElementById('7461af4d-bbc4-4cbf-86ce-9094af2a0150');\n",
       "var x = new MutationObserver(function (mutations, observer) {{\n",
       "        var display = window.getComputedStyle(gd).display;\n",
       "        if (!display || display === 'none') {{\n",
       "            console.log([gd, 'removed!']);\n",
       "            Plotly.purge(gd);\n",
       "            observer.disconnect();\n",
       "        }}\n",
       "}});\n",
       "\n",
       "// Listen for the removal of the full notebook cells\n",
       "var notebookContainer = gd.closest('#notebook-container');\n",
       "if (notebookContainer) {{\n",
       "    x.observe(notebookContainer, {childList: true});\n",
       "}}\n",
       "\n",
       "// Listen for the clearing of the current output cell\n",
       "var outputEl = gd.closest('.output');\n",
       "if (outputEl) {{\n",
       "    x.observe(outputEl, {childList: true});\n",
       "}}\n",
       "\n",
       "                        })                };                });            </script>        </div>"
      ]
     },
     "metadata": {},
     "output_type": "display_data"
    }
   ],
   "source": [
    "fig = px.parallel_coordinates(df_flat_e6_log, color=\"mean_val_loss\",\n",
    "                              title='Hyperband Trial Configurations',\n",
    "                              dimensions=['config.l1', 'config.batch_size', 'config.learning_rate',\n",
    "                                          'config.epochs'], width=900, height=400)\n",
    "fig.show()"
   ]
  },
  {
   "cell_type": "markdown",
   "metadata": {
    "slideshow": {
     "slide_type": "subslide"
    }
   },
   "source": [
    "<div style=\"display: flex; justify-content: space-between; align-items: center; width: 100%;\">\n",
    "    <span style=\"color: #ff6900; font-size: 25px; font-weight: bold;\">Overview Tested Configurations</span>\n",
    "    <span style=\"text-align: right; font-size: 12px;\">Lena Hammerer | Luisa Ibele | Hanna Steinwender</span>\n",
    "</div>\n",
    "\n",
    "- **SMBO** makes interdependencies less visible here due to focus on finding improved configurations."
   ]
  },
  {
   "cell_type": "code",
   "execution_count": 9,
   "metadata": {
    "slideshow": {
     "slide_type": "fragment"
    }
   },
   "outputs": [
    {
     "ename": "NameError",
     "evalue": "name 'df_flat_e8' is not defined",
     "output_type": "error",
     "traceback": [
      "\u001b[1;31m---------------------------------------------------------------------------\u001b[0m",
      "\u001b[1;31mNameError\u001b[0m                                 Traceback (most recent call last)",
      "Cell \u001b[1;32mIn[9], line 1\u001b[0m\n\u001b[1;32m----> 1\u001b[0m fig \u001b[39m=\u001b[39m px\u001b[39m.\u001b[39mparallel_coordinates(df_flat_e8, color\u001b[39m=\u001b[39m\u001b[39m\"\u001b[39m\u001b[39mmean_val_loss\u001b[39m\u001b[39m\"\u001b[39m,\n\u001b[0;32m      2\u001b[0m                               title\u001b[39m=\u001b[39m\u001b[39m'\u001b[39m\u001b[39mSMBO Trial Configurations\u001b[39m\u001b[39m'\u001b[39m,\n\u001b[0;32m      3\u001b[0m                               dimensions\u001b[39m=\u001b[39m[\u001b[39m'\u001b[39m\u001b[39mconfig.l1\u001b[39m\u001b[39m'\u001b[39m, \u001b[39m'\u001b[39m\u001b[39mconfig.batch_size\u001b[39m\u001b[39m'\u001b[39m, \u001b[39m'\u001b[39m\u001b[39mconfig.learning_rate\u001b[39m\u001b[39m'\u001b[39m,\n\u001b[0;32m      4\u001b[0m                                           \u001b[39m'\u001b[39m\u001b[39mconfig.epochs\u001b[39m\u001b[39m'\u001b[39m], width\u001b[39m=\u001b[39m\u001b[39m900\u001b[39m, height\u001b[39m=\u001b[39m\u001b[39m400\u001b[39m)\n\u001b[0;32m      5\u001b[0m fig\u001b[39m.\u001b[39mshow()\n",
      "\u001b[1;31mNameError\u001b[0m: name 'df_flat_e8' is not defined"
     ]
    }
   ],
   "source": [
    "fig = px.parallel_coordinates(df_flat_e8, color=\"mean_val_loss\",\n",
    "                              title='SMBO Trial Configurations',\n",
    "                              dimensions=['config.l1', 'config.batch_size', 'config.learning_rate',\n",
    "                                          'config.epochs'], width=900, height=400)\n",
    "fig.show()"
   ]
  },
  {
   "cell_type": "markdown",
   "metadata": {
    "slideshow": {
     "slide_type": "subslide"
    }
   },
   "source": [
    "<div style=\"display: flex; justify-content: space-between; align-items: center; width: 100%;\">\n",
    "    <span style=\"color: #ff6900; font-size: 25px; font-weight: bold;\">Overview Tested Configurations</span>\n",
    "    <span style=\"text-align: right; font-size: 12px;\">Lena Hammerer | Luisa Ibele | Hanna Steinwender</span>\n",
    "</div>\n",
    "\n",
    "- **Random Search** provides a big picture perspective across the whole search space."
   ]
  },
  {
   "cell_type": "code",
   "execution_count": 8,
   "metadata": {
    "slideshow": {
     "slide_type": "fragment"
    }
   },
   "outputs": [
    {
     "data": {
      "application/vnd.plotly.v1+json": {
       "config": {
        "plotlyServerURL": "https://plot.ly"
       },
       "data": [
        {
         "dimensions": [
          {
           "label": "config.l1",
           "values": [
            64,
            128,
            32,
            128,
            64,
            32,
            32,
            32,
            64,
            64,
            128,
            64,
            256,
            32,
            64,
            32,
            256,
            64,
            32,
            32,
            128,
            32,
            64,
            256,
            256,
            128,
            256,
            256,
            64,
            32,
            128,
            64,
            128,
            32,
            128,
            256,
            128,
            64,
            64,
            64,
            32,
            256,
            256,
            256,
            128,
            64,
            32,
            64,
            64,
            256,
            32,
            128,
            32,
            256,
            256,
            256,
            128,
            256,
            256,
            64,
            256,
            32,
            32,
            256,
            128,
            64,
            256,
            64,
            64,
            256,
            128,
            128,
            64,
            256,
            256,
            256,
            128,
            128,
            64,
            64,
            128,
            128,
            64,
            64,
            256,
            32,
            256,
            64,
            128,
            128,
            128,
            256,
            128,
            32,
            64,
            64,
            256,
            128,
            256,
            128,
            256,
            128,
            256,
            32,
            32,
            256,
            256,
            256,
            128,
            64,
            256,
            256,
            32,
            256,
            64,
            64,
            128,
            32,
            64,
            32
           ]
          },
          {
           "label": "config.batch_size",
           "values": [
            64,
            32,
            128,
            128,
            16,
            64,
            32,
            16,
            16,
            128,
            32,
            32,
            32,
            128,
            32,
            16,
            64,
            32,
            32,
            32,
            16,
            32,
            128,
            64,
            64,
            32,
            128,
            32,
            64,
            16,
            128,
            32,
            32,
            32,
            16,
            64,
            16,
            32,
            32,
            16,
            64,
            128,
            32,
            32,
            32,
            32,
            32,
            128,
            128,
            64,
            16,
            64,
            128,
            64,
            32,
            128,
            32,
            128,
            16,
            128,
            64,
            32,
            32,
            128,
            128,
            128,
            16,
            16,
            128,
            32,
            128,
            16,
            32,
            16,
            64,
            16,
            64,
            16,
            128,
            32,
            64,
            64,
            128,
            128,
            32,
            32,
            32,
            128,
            16,
            32,
            16,
            16,
            32,
            128,
            32,
            32,
            128,
            64,
            32,
            16,
            64,
            64,
            64,
            32,
            32,
            16,
            64,
            64,
            32,
            16,
            64,
            128,
            128,
            32,
            64,
            64,
            32,
            16,
            64,
            64
           ]
          },
          {
           "label": "config.learning_rate",
           "values": [
            0.012029425,
            0.0001509928,
            0.0026733113,
            0.0063921715,
            0.0002117799,
            0.0001339634,
            0.0004301466,
            0.0246447249,
            0.0012886338,
            0.0042373574,
            0.0012077727,
            0.0072791116,
            0.0034498598,
            0.0010063242,
            0.0004806511,
            0.0130056913,
            0.0031308279,
            0.0009605981,
            0.0002169243,
            0.0068498791,
            0.0027600615,
            0.0002537456,
            0.0252305352,
            0.0018919461,
            0.0062023169,
            0.0049881673,
            0.0124608798,
            0.0001801662,
            0.0008772311,
            0.0002337745,
            0.0289070673,
            0.0006200741,
            0.0673012686,
            0.0221708674,
            0.0122694749,
            0.0001986152,
            0.0001931117,
            0.0004893427,
            0.0021347291,
            0.0317247778,
            0.015439489,
            0.0002299171,
            0.0530352383,
            0.009710145,
            0.0005453533,
            0.0385172315,
            0.0004474245,
            0.0010815951,
            0.0010174582,
            0.0035727236,
            0.0005218359,
            0.008704413,
            0.0003238619,
            0.0006963815,
            0.0002002315,
            0.068742392,
            0.0459216012,
            0.0004193583,
            0.0001594974,
            0.0008368741,
            0.005439095,
            0.0653554527,
            0.0001942294,
            0.0034668496,
            0.0147527342,
            0.0109793678,
            0.0135608121,
            0.000421705,
            0.0028599567,
            0.0097781823,
            0.0011257492,
            0.0008498571,
            0.0890612122,
            0.0755823485,
            0.00021472,
            0.0132609228,
            0.0093372851,
            0.0041654081,
            0.005317439,
            0.0001938702,
            0.0161945247,
            0.0001107098,
            0.0003160663,
            0.0003163941,
            0.0325026737,
            0.0001855804,
            0.0245539028,
            0.0213580317,
            0.0015584631,
            0.0003344922,
            0.0001108379,
            0.0004568374,
            0.0001598526,
            0.000324881,
            0.0194689583,
            0.0005118467,
            0.0028996033,
            0.0810217245,
            0.005929586,
            0.0001747785,
            0.0002658807,
            0.0062441451,
            0.0719303517,
            0.0010181993,
            0.0001029109,
            0.0002059397,
            0.0732586172,
            0.0001559963,
            0.0008680019,
            0.0362749765,
            0.0013597421,
            0.0002099482,
            0.0001233164,
            0.0860221986,
            0.009515493,
            0.0011645635,
            0.0307801279,
            0.0023682839,
            0.0001022756,
            0.0094693763
           ]
          },
          {
           "label": "config.epochs",
           "values": [
            15,
            20,
            5,
            10,
            20,
            15,
            20,
            20,
            20,
            15,
            20,
            10,
            15,
            10,
            5,
            10,
            20,
            5,
            20,
            15,
            10,
            10,
            10,
            15,
            15,
            10,
            10,
            20,
            15,
            20,
            10,
            20,
            20,
            20,
            20,
            10,
            15,
            15,
            20,
            15,
            20,
            10,
            20,
            10,
            5,
            20,
            15,
            5,
            10,
            15,
            15,
            5,
            10,
            20,
            5,
            15,
            5,
            20,
            15,
            5,
            5,
            15,
            15,
            10,
            15,
            15,
            20,
            5,
            10,
            20,
            10,
            20,
            5,
            15,
            5,
            15,
            5,
            10,
            20,
            20,
            20,
            20,
            20,
            20,
            10,
            20,
            20,
            15,
            10,
            10,
            5,
            15,
            15,
            5,
            10,
            15,
            15,
            15,
            15,
            10,
            5,
            20,
            10,
            15,
            10,
            5,
            20,
            20,
            20,
            15,
            10,
            15,
            15,
            10,
            5,
            5,
            5,
            5,
            15,
            15
           ]
          }
         ],
         "domain": {
          "x": [
           0,
           1
          ],
          "y": [
           0,
           1
          ]
         },
         "line": {
          "color": [
           0.2865793067,
           0.6176269482,
           0.6307143838,
           0.4082562381,
           0.5011176622,
           0.9613519882,
           0.4695414562,
           0.3006130631,
           0.3216324878,
           0.4212333912,
           0.3917333037,
           0.2992533182,
           0.3104371534,
           0.6804965836,
           0.6570187619,
           0.2553499437,
           0.3351897239,
           0.5803725206,
           0.5770196014,
           0.2732864955,
           0.3150617024,
           0.6568487429,
           0.3285101124,
           0.429241879,
           0.327930681,
           0.3096485276,
           0.3585380695,
           0.5869237257,
           0.5374477379,
           0.4675670938,
           0.3198876383,
           0.431536994,
           0.3811126202,
           0.2390565928,
           0.2523505783,
           1.0110636629,
           0.5365596423,
           0.5258721427,
           0.3362450886,
           0.2626181694,
           0.2649743134,
           2.0347138466,
           0.3350800805,
           0.2731134945,
           0.6946325185,
           0.2823381712,
           0.5073133642,
           1.0401662518,
           0.7183230583,
           0.3536274971,
           0.42287742,
           0.3943161369,
           1.7162677494,
           0.5021755849,
           1.0088208264,
           0.2318781703,
           0.2552632769,
           0.7134454231,
           0.5311081785,
           1.7054811818,
           0.4355315961,
           0.2876948324,
           0.6402731426,
           0.4897064354,
           0.3328697005,
           0.3395116676,
           0.2591999254,
           0.605658234,
           0.5167533822,
           0.2317762164,
           0.6294913993,
           0.3454357112,
           0.2449457916,
           0.3975492737,
           1.7607387349,
           0.2285744596,
           0.3854973169,
           0.2868903545,
           0.371067576,
           0.5886779117,
           0.2778955309,
           1.1230605105,
           0.848977373,
           0.9603173175,
           0.2435529508,
           0.6069817296,
           0.2532269282,
           0.2903978883,
           0.359354878,
           0.6431633294,
           1.5411956808,
           0.4289955772,
           0.6820780001,
           2.1532130875,
           0.2401117879,
           0.4964080602,
           0.4514567002,
           0.2481335212,
           0.3003292416,
           0.6126476991,
           2.0870003548,
           0.310774194,
           0.2301312829,
           0.4120763039,
           0.9998593507,
           0.7725307516,
           0.2776326655,
           0.8580366747,
           0.3976801661,
           0.2806753649,
           0.4887313493,
           1.7866174629,
           2.1643249152,
           0.2386840169,
           0.3919392549,
           0.643717542,
           0.2994038763,
           0.3892964485,
           2.0890437339,
           0.3192331038
          ],
          "coloraxis": "coloraxis"
         },
         "name": "",
         "type": "parcoords"
        }
       ],
       "layout": {
        "coloraxis": {
         "colorbar": {
          "title": {
           "text": "mean_val_loss"
          }
         },
         "colorscale": [
          [
           0,
           "#0d0887"
          ],
          [
           0.1111111111111111,
           "#46039f"
          ],
          [
           0.2222222222222222,
           "#7201a8"
          ],
          [
           0.3333333333333333,
           "#9c179e"
          ],
          [
           0.4444444444444444,
           "#bd3786"
          ],
          [
           0.5555555555555556,
           "#d8576b"
          ],
          [
           0.6666666666666666,
           "#ed7953"
          ],
          [
           0.7777777777777778,
           "#fb9f3a"
          ],
          [
           0.8888888888888888,
           "#fdca26"
          ],
          [
           1,
           "#f0f921"
          ]
         ]
        },
        "height": 400,
        "legend": {
         "tracegroupgap": 0
        },
        "template": {
         "data": {
          "bar": [
           {
            "error_x": {
             "color": "#2a3f5f"
            },
            "error_y": {
             "color": "#2a3f5f"
            },
            "marker": {
             "line": {
              "color": "white",
              "width": 0.5
             },
             "pattern": {
              "fillmode": "overlay",
              "size": 10,
              "solidity": 0.2
             }
            },
            "type": "bar"
           }
          ],
          "barpolar": [
           {
            "marker": {
             "line": {
              "color": "white",
              "width": 0.5
             },
             "pattern": {
              "fillmode": "overlay",
              "size": 10,
              "solidity": 0.2
             }
            },
            "type": "barpolar"
           }
          ],
          "carpet": [
           {
            "aaxis": {
             "endlinecolor": "#2a3f5f",
             "gridcolor": "#C8D4E3",
             "linecolor": "#C8D4E3",
             "minorgridcolor": "#C8D4E3",
             "startlinecolor": "#2a3f5f"
            },
            "baxis": {
             "endlinecolor": "#2a3f5f",
             "gridcolor": "#C8D4E3",
             "linecolor": "#C8D4E3",
             "minorgridcolor": "#C8D4E3",
             "startlinecolor": "#2a3f5f"
            },
            "type": "carpet"
           }
          ],
          "choropleth": [
           {
            "colorbar": {
             "outlinewidth": 0,
             "ticks": ""
            },
            "type": "choropleth"
           }
          ],
          "contour": [
           {
            "colorbar": {
             "outlinewidth": 0,
             "ticks": ""
            },
            "colorscale": [
             [
              0,
              "#0d0887"
             ],
             [
              0.1111111111111111,
              "#46039f"
             ],
             [
              0.2222222222222222,
              "#7201a8"
             ],
             [
              0.3333333333333333,
              "#9c179e"
             ],
             [
              0.4444444444444444,
              "#bd3786"
             ],
             [
              0.5555555555555556,
              "#d8576b"
             ],
             [
              0.6666666666666666,
              "#ed7953"
             ],
             [
              0.7777777777777778,
              "#fb9f3a"
             ],
             [
              0.8888888888888888,
              "#fdca26"
             ],
             [
              1,
              "#f0f921"
             ]
            ],
            "type": "contour"
           }
          ],
          "contourcarpet": [
           {
            "colorbar": {
             "outlinewidth": 0,
             "ticks": ""
            },
            "type": "contourcarpet"
           }
          ],
          "heatmap": [
           {
            "colorbar": {
             "outlinewidth": 0,
             "ticks": ""
            },
            "colorscale": [
             [
              0,
              "#0d0887"
             ],
             [
              0.1111111111111111,
              "#46039f"
             ],
             [
              0.2222222222222222,
              "#7201a8"
             ],
             [
              0.3333333333333333,
              "#9c179e"
             ],
             [
              0.4444444444444444,
              "#bd3786"
             ],
             [
              0.5555555555555556,
              "#d8576b"
             ],
             [
              0.6666666666666666,
              "#ed7953"
             ],
             [
              0.7777777777777778,
              "#fb9f3a"
             ],
             [
              0.8888888888888888,
              "#fdca26"
             ],
             [
              1,
              "#f0f921"
             ]
            ],
            "type": "heatmap"
           }
          ],
          "heatmapgl": [
           {
            "colorbar": {
             "outlinewidth": 0,
             "ticks": ""
            },
            "colorscale": [
             [
              0,
              "#0d0887"
             ],
             [
              0.1111111111111111,
              "#46039f"
             ],
             [
              0.2222222222222222,
              "#7201a8"
             ],
             [
              0.3333333333333333,
              "#9c179e"
             ],
             [
              0.4444444444444444,
              "#bd3786"
             ],
             [
              0.5555555555555556,
              "#d8576b"
             ],
             [
              0.6666666666666666,
              "#ed7953"
             ],
             [
              0.7777777777777778,
              "#fb9f3a"
             ],
             [
              0.8888888888888888,
              "#fdca26"
             ],
             [
              1,
              "#f0f921"
             ]
            ],
            "type": "heatmapgl"
           }
          ],
          "histogram": [
           {
            "marker": {
             "pattern": {
              "fillmode": "overlay",
              "size": 10,
              "solidity": 0.2
             }
            },
            "type": "histogram"
           }
          ],
          "histogram2d": [
           {
            "colorbar": {
             "outlinewidth": 0,
             "ticks": ""
            },
            "colorscale": [
             [
              0,
              "#0d0887"
             ],
             [
              0.1111111111111111,
              "#46039f"
             ],
             [
              0.2222222222222222,
              "#7201a8"
             ],
             [
              0.3333333333333333,
              "#9c179e"
             ],
             [
              0.4444444444444444,
              "#bd3786"
             ],
             [
              0.5555555555555556,
              "#d8576b"
             ],
             [
              0.6666666666666666,
              "#ed7953"
             ],
             [
              0.7777777777777778,
              "#fb9f3a"
             ],
             [
              0.8888888888888888,
              "#fdca26"
             ],
             [
              1,
              "#f0f921"
             ]
            ],
            "type": "histogram2d"
           }
          ],
          "histogram2dcontour": [
           {
            "colorbar": {
             "outlinewidth": 0,
             "ticks": ""
            },
            "colorscale": [
             [
              0,
              "#0d0887"
             ],
             [
              0.1111111111111111,
              "#46039f"
             ],
             [
              0.2222222222222222,
              "#7201a8"
             ],
             [
              0.3333333333333333,
              "#9c179e"
             ],
             [
              0.4444444444444444,
              "#bd3786"
             ],
             [
              0.5555555555555556,
              "#d8576b"
             ],
             [
              0.6666666666666666,
              "#ed7953"
             ],
             [
              0.7777777777777778,
              "#fb9f3a"
             ],
             [
              0.8888888888888888,
              "#fdca26"
             ],
             [
              1,
              "#f0f921"
             ]
            ],
            "type": "histogram2dcontour"
           }
          ],
          "mesh3d": [
           {
            "colorbar": {
             "outlinewidth": 0,
             "ticks": ""
            },
            "type": "mesh3d"
           }
          ],
          "parcoords": [
           {
            "line": {
             "colorbar": {
              "outlinewidth": 0,
              "ticks": ""
             }
            },
            "type": "parcoords"
           }
          ],
          "pie": [
           {
            "automargin": true,
            "type": "pie"
           }
          ],
          "scatter": [
           {
            "fillpattern": {
             "fillmode": "overlay",
             "size": 10,
             "solidity": 0.2
            },
            "type": "scatter"
           }
          ],
          "scatter3d": [
           {
            "line": {
             "colorbar": {
              "outlinewidth": 0,
              "ticks": ""
             }
            },
            "marker": {
             "colorbar": {
              "outlinewidth": 0,
              "ticks": ""
             }
            },
            "type": "scatter3d"
           }
          ],
          "scattercarpet": [
           {
            "marker": {
             "colorbar": {
              "outlinewidth": 0,
              "ticks": ""
             }
            },
            "type": "scattercarpet"
           }
          ],
          "scattergeo": [
           {
            "marker": {
             "colorbar": {
              "outlinewidth": 0,
              "ticks": ""
             }
            },
            "type": "scattergeo"
           }
          ],
          "scattergl": [
           {
            "marker": {
             "colorbar": {
              "outlinewidth": 0,
              "ticks": ""
             }
            },
            "type": "scattergl"
           }
          ],
          "scattermapbox": [
           {
            "marker": {
             "colorbar": {
              "outlinewidth": 0,
              "ticks": ""
             }
            },
            "type": "scattermapbox"
           }
          ],
          "scatterpolar": [
           {
            "marker": {
             "colorbar": {
              "outlinewidth": 0,
              "ticks": ""
             }
            },
            "type": "scatterpolar"
           }
          ],
          "scatterpolargl": [
           {
            "marker": {
             "colorbar": {
              "outlinewidth": 0,
              "ticks": ""
             }
            },
            "type": "scatterpolargl"
           }
          ],
          "scatterternary": [
           {
            "marker": {
             "colorbar": {
              "outlinewidth": 0,
              "ticks": ""
             }
            },
            "type": "scatterternary"
           }
          ],
          "surface": [
           {
            "colorbar": {
             "outlinewidth": 0,
             "ticks": ""
            },
            "colorscale": [
             [
              0,
              "#0d0887"
             ],
             [
              0.1111111111111111,
              "#46039f"
             ],
             [
              0.2222222222222222,
              "#7201a8"
             ],
             [
              0.3333333333333333,
              "#9c179e"
             ],
             [
              0.4444444444444444,
              "#bd3786"
             ],
             [
              0.5555555555555556,
              "#d8576b"
             ],
             [
              0.6666666666666666,
              "#ed7953"
             ],
             [
              0.7777777777777778,
              "#fb9f3a"
             ],
             [
              0.8888888888888888,
              "#fdca26"
             ],
             [
              1,
              "#f0f921"
             ]
            ],
            "type": "surface"
           }
          ],
          "table": [
           {
            "cells": {
             "fill": {
              "color": "#EBF0F8"
             },
             "line": {
              "color": "white"
             }
            },
            "header": {
             "fill": {
              "color": "#C8D4E3"
             },
             "line": {
              "color": "white"
             }
            },
            "type": "table"
           }
          ]
         },
         "layout": {
          "annotationdefaults": {
           "arrowcolor": "#2a3f5f",
           "arrowhead": 0,
           "arrowwidth": 1
          },
          "autotypenumbers": "strict",
          "coloraxis": {
           "colorbar": {
            "outlinewidth": 0,
            "ticks": ""
           }
          },
          "colorscale": {
           "diverging": [
            [
             0,
             "#8e0152"
            ],
            [
             0.1,
             "#c51b7d"
            ],
            [
             0.2,
             "#de77ae"
            ],
            [
             0.3,
             "#f1b6da"
            ],
            [
             0.4,
             "#fde0ef"
            ],
            [
             0.5,
             "#f7f7f7"
            ],
            [
             0.6,
             "#e6f5d0"
            ],
            [
             0.7,
             "#b8e186"
            ],
            [
             0.8,
             "#7fbc41"
            ],
            [
             0.9,
             "#4d9221"
            ],
            [
             1,
             "#276419"
            ]
           ],
           "sequential": [
            [
             0,
             "#0d0887"
            ],
            [
             0.1111111111111111,
             "#46039f"
            ],
            [
             0.2222222222222222,
             "#7201a8"
            ],
            [
             0.3333333333333333,
             "#9c179e"
            ],
            [
             0.4444444444444444,
             "#bd3786"
            ],
            [
             0.5555555555555556,
             "#d8576b"
            ],
            [
             0.6666666666666666,
             "#ed7953"
            ],
            [
             0.7777777777777778,
             "#fb9f3a"
            ],
            [
             0.8888888888888888,
             "#fdca26"
            ],
            [
             1,
             "#f0f921"
            ]
           ],
           "sequentialminus": [
            [
             0,
             "#0d0887"
            ],
            [
             0.1111111111111111,
             "#46039f"
            ],
            [
             0.2222222222222222,
             "#7201a8"
            ],
            [
             0.3333333333333333,
             "#9c179e"
            ],
            [
             0.4444444444444444,
             "#bd3786"
            ],
            [
             0.5555555555555556,
             "#d8576b"
            ],
            [
             0.6666666666666666,
             "#ed7953"
            ],
            [
             0.7777777777777778,
             "#fb9f3a"
            ],
            [
             0.8888888888888888,
             "#fdca26"
            ],
            [
             1,
             "#f0f921"
            ]
           ]
          },
          "colorway": [
           "#636efa",
           "#EF553B",
           "#00cc96",
           "#ab63fa",
           "#FFA15A",
           "#19d3f3",
           "#FF6692",
           "#B6E880",
           "#FF97FF",
           "#FECB52"
          ],
          "font": {
           "color": "#2a3f5f"
          },
          "geo": {
           "bgcolor": "white",
           "lakecolor": "white",
           "landcolor": "white",
           "showlakes": true,
           "showland": true,
           "subunitcolor": "#C8D4E3"
          },
          "hoverlabel": {
           "align": "left"
          },
          "hovermode": "closest",
          "mapbox": {
           "style": "light"
          },
          "paper_bgcolor": "white",
          "plot_bgcolor": "white",
          "polar": {
           "angularaxis": {
            "gridcolor": "#EBF0F8",
            "linecolor": "#EBF0F8",
            "ticks": ""
           },
           "bgcolor": "white",
           "radialaxis": {
            "gridcolor": "#EBF0F8",
            "linecolor": "#EBF0F8",
            "ticks": ""
           }
          },
          "scene": {
           "xaxis": {
            "backgroundcolor": "white",
            "gridcolor": "#DFE8F3",
            "gridwidth": 2,
            "linecolor": "#EBF0F8",
            "showbackground": true,
            "ticks": "",
            "zerolinecolor": "#EBF0F8"
           },
           "yaxis": {
            "backgroundcolor": "white",
            "gridcolor": "#DFE8F3",
            "gridwidth": 2,
            "linecolor": "#EBF0F8",
            "showbackground": true,
            "ticks": "",
            "zerolinecolor": "#EBF0F8"
           },
           "zaxis": {
            "backgroundcolor": "white",
            "gridcolor": "#DFE8F3",
            "gridwidth": 2,
            "linecolor": "#EBF0F8",
            "showbackground": true,
            "ticks": "",
            "zerolinecolor": "#EBF0F8"
           }
          },
          "shapedefaults": {
           "line": {
            "color": "#2a3f5f"
           }
          },
          "ternary": {
           "aaxis": {
            "gridcolor": "#DFE8F3",
            "linecolor": "#A2B1C6",
            "ticks": ""
           },
           "baxis": {
            "gridcolor": "#DFE8F3",
            "linecolor": "#A2B1C6",
            "ticks": ""
           },
           "bgcolor": "white",
           "caxis": {
            "gridcolor": "#DFE8F3",
            "linecolor": "#A2B1C6",
            "ticks": ""
           }
          },
          "title": {
           "x": 0.05
          },
          "xaxis": {
           "automargin": true,
           "gridcolor": "#EBF0F8",
           "linecolor": "#EBF0F8",
           "ticks": "",
           "title": {
            "standoff": 15
           },
           "zerolinecolor": "#EBF0F8",
           "zerolinewidth": 2
          },
          "yaxis": {
           "automargin": true,
           "gridcolor": "#EBF0F8",
           "linecolor": "#EBF0F8",
           "ticks": "",
           "title": {
            "standoff": 15
           },
           "zerolinecolor": "#EBF0F8",
           "zerolinewidth": 2
          }
         }
        },
        "title": {
         "text": "Random Search Trial Configurations"
        },
        "width": 900
       }
      },
      "text/html": [
       "<div>                            <div id=\"9ba8cc00-3257-4517-9380-f748a681cd70\" class=\"plotly-graph-div\" style=\"height:400px; width:900px;\"></div>            <script type=\"text/javascript\">                require([\"plotly\"], function(Plotly) {                    window.PLOTLYENV=window.PLOTLYENV || {};                                    if (document.getElementById(\"9ba8cc00-3257-4517-9380-f748a681cd70\")) {                    Plotly.newPlot(                        \"9ba8cc00-3257-4517-9380-f748a681cd70\",                        [{\"dimensions\":[{\"label\":\"config.l1\",\"values\":[64,128,32,128,64,32,32,32,64,64,128,64,256,32,64,32,256,64,32,32,128,32,64,256,256,128,256,256,64,32,128,64,128,32,128,256,128,64,64,64,32,256,256,256,128,64,32,64,64,256,32,128,32,256,256,256,128,256,256,64,256,32,32,256,128,64,256,64,64,256,128,128,64,256,256,256,128,128,64,64,128,128,64,64,256,32,256,64,128,128,128,256,128,32,64,64,256,128,256,128,256,128,256,32,32,256,256,256,128,64,256,256,32,256,64,64,128,32,64,32]},{\"label\":\"config.batch_size\",\"values\":[64,32,128,128,16,64,32,16,16,128,32,32,32,128,32,16,64,32,32,32,16,32,128,64,64,32,128,32,64,16,128,32,32,32,16,64,16,32,32,16,64,128,32,32,32,32,32,128,128,64,16,64,128,64,32,128,32,128,16,128,64,32,32,128,128,128,16,16,128,32,128,16,32,16,64,16,64,16,128,32,64,64,128,128,32,32,32,128,16,32,16,16,32,128,32,32,128,64,32,16,64,64,64,32,32,16,64,64,32,16,64,128,128,32,64,64,32,16,64,64]},{\"label\":\"config.learning_rate\",\"values\":[0.012029425,0.0001509928,0.0026733113,0.0063921715,0.0002117799,0.0001339634,0.0004301466,0.0246447249,0.0012886338,0.0042373574,0.0012077727,0.0072791116,0.0034498598,0.0010063242,0.0004806511,0.0130056913,0.0031308279,0.0009605981,0.0002169243,0.0068498791,0.0027600615,0.0002537456,0.0252305352,0.0018919461,0.0062023169,0.0049881673,0.0124608798,0.0001801662,0.0008772311,0.0002337745,0.0289070673,0.0006200741,0.0673012686,0.0221708674,0.0122694749,0.0001986152,0.0001931117,0.0004893427,0.0021347291,0.0317247778,0.015439489,0.0002299171,0.0530352383,0.009710145,0.0005453533,0.0385172315,0.0004474245,0.0010815951,0.0010174582,0.0035727236,0.0005218359,0.008704413,0.0003238619,0.0006963815,0.0002002315,0.068742392,0.0459216012,0.0004193583,0.0001594974,0.0008368741,0.005439095,0.0653554527,0.0001942294,0.0034668496,0.0147527342,0.0109793678,0.0135608121,0.000421705,0.0028599567,0.0097781823,0.0011257492,0.0008498571,0.0890612122,0.0755823485,0.00021472,0.0132609228,0.0093372851,0.0041654081,0.005317439,0.0001938702,0.0161945247,0.0001107098,0.0003160663,0.0003163941,0.0325026737,0.0001855804,0.0245539028,0.0213580317,0.0015584631,0.0003344922,0.0001108379,0.0004568374,0.0001598526,0.000324881,0.0194689583,0.0005118467,0.0028996033,0.0810217245,0.005929586,0.0001747785,0.0002658807,0.0062441451,0.0719303517,0.0010181993,0.0001029109,0.0002059397,0.0732586172,0.0001559963,0.0008680019,0.0362749765,0.0013597421,0.0002099482,0.0001233164,0.0860221986,0.009515493,0.0011645635,0.0307801279,0.0023682839,0.0001022756,0.0094693763]},{\"label\":\"config.epochs\",\"values\":[15,20,5,10,20,15,20,20,20,15,20,10,15,10,5,10,20,5,20,15,10,10,10,15,15,10,10,20,15,20,10,20,20,20,20,10,15,15,20,15,20,10,20,10,5,20,15,5,10,15,15,5,10,20,5,15,5,20,15,5,5,15,15,10,15,15,20,5,10,20,10,20,5,15,5,15,5,10,20,20,20,20,20,20,10,20,20,15,10,10,5,15,15,5,10,15,15,15,15,10,5,20,10,15,10,5,20,20,20,15,10,15,15,10,5,5,5,5,15,15]}],\"domain\":{\"x\":[0.0,1.0],\"y\":[0.0,1.0]},\"line\":{\"color\":[0.2865793067,0.6176269482,0.6307143838,0.4082562381,0.5011176622,0.9613519882,0.4695414562,0.3006130631,0.3216324878,0.4212333912,0.3917333037,0.2992533182,0.3104371534,0.6804965836,0.6570187619,0.2553499437,0.3351897239,0.5803725206,0.5770196014,0.2732864955,0.3150617024,0.6568487429,0.3285101124,0.429241879,0.327930681,0.3096485276,0.3585380695,0.5869237257,0.5374477379,0.4675670938,0.3198876383,0.431536994,0.3811126202,0.2390565928,0.2523505783,1.0110636629,0.5365596423,0.5258721427,0.3362450886,0.2626181694,0.2649743134,2.0347138466,0.3350800805,0.2731134945,0.6946325185,0.2823381712,0.5073133642,1.0401662518,0.7183230583,0.3536274971,0.42287742,0.3943161369,1.7162677494,0.5021755849,1.0088208264,0.2318781703,0.2552632769,0.7134454231,0.5311081785,1.7054811818,0.4355315961,0.2876948324,0.6402731426,0.4897064354,0.3328697005,0.3395116676,0.2591999254,0.605658234,0.5167533822,0.2317762164,0.6294913993,0.3454357112,0.2449457916,0.3975492737,1.7607387349,0.2285744596,0.3854973169,0.2868903545,0.371067576,0.5886779117,0.2778955309,1.1230605105,0.848977373,0.9603173175,0.2435529508,0.6069817296,0.2532269282,0.2903978883,0.359354878,0.6431633294,1.5411956808,0.4289955772,0.6820780001,2.1532130875,0.2401117879,0.4964080602,0.4514567002,0.2481335212,0.3003292416,0.6126476991,2.0870003548,0.310774194,0.2301312829,0.4120763039,0.9998593507,0.7725307516,0.2776326655,0.8580366747,0.3976801661,0.2806753649,0.4887313493,1.7866174629,2.1643249152,0.2386840169,0.3919392549,0.643717542,0.2994038763,0.3892964485,2.0890437339,0.3192331038],\"coloraxis\":\"coloraxis\"},\"name\":\"\",\"type\":\"parcoords\"}],                        {\"template\":{\"data\":{\"histogram2dcontour\":[{\"type\":\"histogram2dcontour\",\"colorbar\":{\"outlinewidth\":0,\"ticks\":\"\"},\"colorscale\":[[0.0,\"#0d0887\"],[0.1111111111111111,\"#46039f\"],[0.2222222222222222,\"#7201a8\"],[0.3333333333333333,\"#9c179e\"],[0.4444444444444444,\"#bd3786\"],[0.5555555555555556,\"#d8576b\"],[0.6666666666666666,\"#ed7953\"],[0.7777777777777778,\"#fb9f3a\"],[0.8888888888888888,\"#fdca26\"],[1.0,\"#f0f921\"]]}],\"choropleth\":[{\"type\":\"choropleth\",\"colorbar\":{\"outlinewidth\":0,\"ticks\":\"\"}}],\"histogram2d\":[{\"type\":\"histogram2d\",\"colorbar\":{\"outlinewidth\":0,\"ticks\":\"\"},\"colorscale\":[[0.0,\"#0d0887\"],[0.1111111111111111,\"#46039f\"],[0.2222222222222222,\"#7201a8\"],[0.3333333333333333,\"#9c179e\"],[0.4444444444444444,\"#bd3786\"],[0.5555555555555556,\"#d8576b\"],[0.6666666666666666,\"#ed7953\"],[0.7777777777777778,\"#fb9f3a\"],[0.8888888888888888,\"#fdca26\"],[1.0,\"#f0f921\"]]}],\"heatmap\":[{\"type\":\"heatmap\",\"colorbar\":{\"outlinewidth\":0,\"ticks\":\"\"},\"colorscale\":[[0.0,\"#0d0887\"],[0.1111111111111111,\"#46039f\"],[0.2222222222222222,\"#7201a8\"],[0.3333333333333333,\"#9c179e\"],[0.4444444444444444,\"#bd3786\"],[0.5555555555555556,\"#d8576b\"],[0.6666666666666666,\"#ed7953\"],[0.7777777777777778,\"#fb9f3a\"],[0.8888888888888888,\"#fdca26\"],[1.0,\"#f0f921\"]]}],\"heatmapgl\":[{\"type\":\"heatmapgl\",\"colorbar\":{\"outlinewidth\":0,\"ticks\":\"\"},\"colorscale\":[[0.0,\"#0d0887\"],[0.1111111111111111,\"#46039f\"],[0.2222222222222222,\"#7201a8\"],[0.3333333333333333,\"#9c179e\"],[0.4444444444444444,\"#bd3786\"],[0.5555555555555556,\"#d8576b\"],[0.6666666666666666,\"#ed7953\"],[0.7777777777777778,\"#fb9f3a\"],[0.8888888888888888,\"#fdca26\"],[1.0,\"#f0f921\"]]}],\"contourcarpet\":[{\"type\":\"contourcarpet\",\"colorbar\":{\"outlinewidth\":0,\"ticks\":\"\"}}],\"contour\":[{\"type\":\"contour\",\"colorbar\":{\"outlinewidth\":0,\"ticks\":\"\"},\"colorscale\":[[0.0,\"#0d0887\"],[0.1111111111111111,\"#46039f\"],[0.2222222222222222,\"#7201a8\"],[0.3333333333333333,\"#9c179e\"],[0.4444444444444444,\"#bd3786\"],[0.5555555555555556,\"#d8576b\"],[0.6666666666666666,\"#ed7953\"],[0.7777777777777778,\"#fb9f3a\"],[0.8888888888888888,\"#fdca26\"],[1.0,\"#f0f921\"]]}],\"surface\":[{\"type\":\"surface\",\"colorbar\":{\"outlinewidth\":0,\"ticks\":\"\"},\"colorscale\":[[0.0,\"#0d0887\"],[0.1111111111111111,\"#46039f\"],[0.2222222222222222,\"#7201a8\"],[0.3333333333333333,\"#9c179e\"],[0.4444444444444444,\"#bd3786\"],[0.5555555555555556,\"#d8576b\"],[0.6666666666666666,\"#ed7953\"],[0.7777777777777778,\"#fb9f3a\"],[0.8888888888888888,\"#fdca26\"],[1.0,\"#f0f921\"]]}],\"mesh3d\":[{\"type\":\"mesh3d\",\"colorbar\":{\"outlinewidth\":0,\"ticks\":\"\"}}],\"scatter\":[{\"fillpattern\":{\"fillmode\":\"overlay\",\"size\":10,\"solidity\":0.2},\"type\":\"scatter\"}],\"parcoords\":[{\"type\":\"parcoords\",\"line\":{\"colorbar\":{\"outlinewidth\":0,\"ticks\":\"\"}}}],\"scatterpolargl\":[{\"type\":\"scatterpolargl\",\"marker\":{\"colorbar\":{\"outlinewidth\":0,\"ticks\":\"\"}}}],\"bar\":[{\"error_x\":{\"color\":\"#2a3f5f\"},\"error_y\":{\"color\":\"#2a3f5f\"},\"marker\":{\"line\":{\"color\":\"white\",\"width\":0.5},\"pattern\":{\"fillmode\":\"overlay\",\"size\":10,\"solidity\":0.2}},\"type\":\"bar\"}],\"scattergeo\":[{\"type\":\"scattergeo\",\"marker\":{\"colorbar\":{\"outlinewidth\":0,\"ticks\":\"\"}}}],\"scatterpolar\":[{\"type\":\"scatterpolar\",\"marker\":{\"colorbar\":{\"outlinewidth\":0,\"ticks\":\"\"}}}],\"histogram\":[{\"marker\":{\"pattern\":{\"fillmode\":\"overlay\",\"size\":10,\"solidity\":0.2}},\"type\":\"histogram\"}],\"scattergl\":[{\"type\":\"scattergl\",\"marker\":{\"colorbar\":{\"outlinewidth\":0,\"ticks\":\"\"}}}],\"scatter3d\":[{\"type\":\"scatter3d\",\"line\":{\"colorbar\":{\"outlinewidth\":0,\"ticks\":\"\"}},\"marker\":{\"colorbar\":{\"outlinewidth\":0,\"ticks\":\"\"}}}],\"scattermapbox\":[{\"type\":\"scattermapbox\",\"marker\":{\"colorbar\":{\"outlinewidth\":0,\"ticks\":\"\"}}}],\"scatterternary\":[{\"type\":\"scatterternary\",\"marker\":{\"colorbar\":{\"outlinewidth\":0,\"ticks\":\"\"}}}],\"scattercarpet\":[{\"type\":\"scattercarpet\",\"marker\":{\"colorbar\":{\"outlinewidth\":0,\"ticks\":\"\"}}}],\"carpet\":[{\"aaxis\":{\"endlinecolor\":\"#2a3f5f\",\"gridcolor\":\"#C8D4E3\",\"linecolor\":\"#C8D4E3\",\"minorgridcolor\":\"#C8D4E3\",\"startlinecolor\":\"#2a3f5f\"},\"baxis\":{\"endlinecolor\":\"#2a3f5f\",\"gridcolor\":\"#C8D4E3\",\"linecolor\":\"#C8D4E3\",\"minorgridcolor\":\"#C8D4E3\",\"startlinecolor\":\"#2a3f5f\"},\"type\":\"carpet\"}],\"table\":[{\"cells\":{\"fill\":{\"color\":\"#EBF0F8\"},\"line\":{\"color\":\"white\"}},\"header\":{\"fill\":{\"color\":\"#C8D4E3\"},\"line\":{\"color\":\"white\"}},\"type\":\"table\"}],\"barpolar\":[{\"marker\":{\"line\":{\"color\":\"white\",\"width\":0.5},\"pattern\":{\"fillmode\":\"overlay\",\"size\":10,\"solidity\":0.2}},\"type\":\"barpolar\"}],\"pie\":[{\"automargin\":true,\"type\":\"pie\"}]},\"layout\":{\"autotypenumbers\":\"strict\",\"colorway\":[\"#636efa\",\"#EF553B\",\"#00cc96\",\"#ab63fa\",\"#FFA15A\",\"#19d3f3\",\"#FF6692\",\"#B6E880\",\"#FF97FF\",\"#FECB52\"],\"font\":{\"color\":\"#2a3f5f\"},\"hovermode\":\"closest\",\"hoverlabel\":{\"align\":\"left\"},\"paper_bgcolor\":\"white\",\"plot_bgcolor\":\"white\",\"polar\":{\"bgcolor\":\"white\",\"angularaxis\":{\"gridcolor\":\"#EBF0F8\",\"linecolor\":\"#EBF0F8\",\"ticks\":\"\"},\"radialaxis\":{\"gridcolor\":\"#EBF0F8\",\"linecolor\":\"#EBF0F8\",\"ticks\":\"\"}},\"ternary\":{\"bgcolor\":\"white\",\"aaxis\":{\"gridcolor\":\"#DFE8F3\",\"linecolor\":\"#A2B1C6\",\"ticks\":\"\"},\"baxis\":{\"gridcolor\":\"#DFE8F3\",\"linecolor\":\"#A2B1C6\",\"ticks\":\"\"},\"caxis\":{\"gridcolor\":\"#DFE8F3\",\"linecolor\":\"#A2B1C6\",\"ticks\":\"\"}},\"coloraxis\":{\"colorbar\":{\"outlinewidth\":0,\"ticks\":\"\"}},\"colorscale\":{\"sequential\":[[0.0,\"#0d0887\"],[0.1111111111111111,\"#46039f\"],[0.2222222222222222,\"#7201a8\"],[0.3333333333333333,\"#9c179e\"],[0.4444444444444444,\"#bd3786\"],[0.5555555555555556,\"#d8576b\"],[0.6666666666666666,\"#ed7953\"],[0.7777777777777778,\"#fb9f3a\"],[0.8888888888888888,\"#fdca26\"],[1.0,\"#f0f921\"]],\"sequentialminus\":[[0.0,\"#0d0887\"],[0.1111111111111111,\"#46039f\"],[0.2222222222222222,\"#7201a8\"],[0.3333333333333333,\"#9c179e\"],[0.4444444444444444,\"#bd3786\"],[0.5555555555555556,\"#d8576b\"],[0.6666666666666666,\"#ed7953\"],[0.7777777777777778,\"#fb9f3a\"],[0.8888888888888888,\"#fdca26\"],[1.0,\"#f0f921\"]],\"diverging\":[[0,\"#8e0152\"],[0.1,\"#c51b7d\"],[0.2,\"#de77ae\"],[0.3,\"#f1b6da\"],[0.4,\"#fde0ef\"],[0.5,\"#f7f7f7\"],[0.6,\"#e6f5d0\"],[0.7,\"#b8e186\"],[0.8,\"#7fbc41\"],[0.9,\"#4d9221\"],[1,\"#276419\"]]},\"xaxis\":{\"gridcolor\":\"#EBF0F8\",\"linecolor\":\"#EBF0F8\",\"ticks\":\"\",\"title\":{\"standoff\":15},\"zerolinecolor\":\"#EBF0F8\",\"automargin\":true,\"zerolinewidth\":2},\"yaxis\":{\"gridcolor\":\"#EBF0F8\",\"linecolor\":\"#EBF0F8\",\"ticks\":\"\",\"title\":{\"standoff\":15},\"zerolinecolor\":\"#EBF0F8\",\"automargin\":true,\"zerolinewidth\":2},\"scene\":{\"xaxis\":{\"backgroundcolor\":\"white\",\"gridcolor\":\"#DFE8F3\",\"linecolor\":\"#EBF0F8\",\"showbackground\":true,\"ticks\":\"\",\"zerolinecolor\":\"#EBF0F8\",\"gridwidth\":2},\"yaxis\":{\"backgroundcolor\":\"white\",\"gridcolor\":\"#DFE8F3\",\"linecolor\":\"#EBF0F8\",\"showbackground\":true,\"ticks\":\"\",\"zerolinecolor\":\"#EBF0F8\",\"gridwidth\":2},\"zaxis\":{\"backgroundcolor\":\"white\",\"gridcolor\":\"#DFE8F3\",\"linecolor\":\"#EBF0F8\",\"showbackground\":true,\"ticks\":\"\",\"zerolinecolor\":\"#EBF0F8\",\"gridwidth\":2}},\"shapedefaults\":{\"line\":{\"color\":\"#2a3f5f\"}},\"annotationdefaults\":{\"arrowcolor\":\"#2a3f5f\",\"arrowhead\":0,\"arrowwidth\":1},\"geo\":{\"bgcolor\":\"white\",\"landcolor\":\"white\",\"subunitcolor\":\"#C8D4E3\",\"showland\":true,\"showlakes\":true,\"lakecolor\":\"white\"},\"title\":{\"x\":0.05},\"mapbox\":{\"style\":\"light\"}}},\"coloraxis\":{\"colorbar\":{\"title\":{\"text\":\"mean_val_loss\"}},\"colorscale\":[[0.0,\"#0d0887\"],[0.1111111111111111,\"#46039f\"],[0.2222222222222222,\"#7201a8\"],[0.3333333333333333,\"#9c179e\"],[0.4444444444444444,\"#bd3786\"],[0.5555555555555556,\"#d8576b\"],[0.6666666666666666,\"#ed7953\"],[0.7777777777777778,\"#fb9f3a\"],[0.8888888888888888,\"#fdca26\"],[1.0,\"#f0f921\"]]},\"legend\":{\"tracegroupgap\":0},\"title\":{\"text\":\"Random Search Trial Configurations\"},\"height\":400,\"width\":900},                        {\"responsive\": true}                    ).then(function(){\n",
       "                            \n",
       "var gd = document.getElementById('9ba8cc00-3257-4517-9380-f748a681cd70');\n",
       "var x = new MutationObserver(function (mutations, observer) {{\n",
       "        var display = window.getComputedStyle(gd).display;\n",
       "        if (!display || display === 'none') {{\n",
       "            console.log([gd, 'removed!']);\n",
       "            Plotly.purge(gd);\n",
       "            observer.disconnect();\n",
       "        }}\n",
       "}});\n",
       "\n",
       "// Listen for the removal of the full notebook cells\n",
       "var notebookContainer = gd.closest('#notebook-container');\n",
       "if (notebookContainer) {{\n",
       "    x.observe(notebookContainer, {childList: true});\n",
       "}}\n",
       "\n",
       "// Listen for the clearing of the current output cell\n",
       "var outputEl = gd.closest('.output');\n",
       "if (outputEl) {{\n",
       "    x.observe(outputEl, {childList: true});\n",
       "}}\n",
       "\n",
       "                        })                };                });            </script>        </div>"
      ]
     },
     "metadata": {},
     "output_type": "display_data"
    }
   ],
   "source": [
    "fig = px.parallel_coordinates(df_flat_e7_log, color=\"mean_val_loss\",\n",
    "                              title='Random Search Trial Configurations',\n",
    "                              dimensions=['config.l1', 'config.batch_size', 'config.learning_rate',\n",
    "                                          'config.epochs'], width=900, height=400)\n",
    "fig.show()"
   ]
  },
  {
   "cell_type": "markdown",
   "metadata": {
    "slideshow": {
     "slide_type": "subslide"
    }
   },
   "source": [
    "<div style=\"display: flex; justify-content: space-between; align-items: center; width: 100%;\">\n",
    "    <span style=\"color: #ff6900; font-size: 25px; font-weight: bold;\">Units in Layer 1 vs. Batch Size</span>\n",
    "    <span style=\"text-align: right; font-size: 12px;\">Lena Hammerer | Luisa Ibele | Hanna Steinwender</span>\n",
    "</div>\n",
    "\n",
    "- \\# of _Units in Layer 1_ does have very little influence on results\n",
    "- bigger _Batch Size_ with no other configuration changes requires more resources but does not help performance"
   ]
  },
  {
   "cell_type": "code",
   "execution_count": 11,
   "metadata": {
    "slideshow": {
     "slide_type": "fragment"
    }
   },
   "outputs": [
    {
     "ename": "NameError",
     "evalue": "name 'spotTuner_e8' is not defined",
     "output_type": "error",
     "traceback": [
      "\u001b[1;31m---------------------------------------------------------------------------\u001b[0m",
      "\u001b[1;31mNameError\u001b[0m                                 Traceback (most recent call last)",
      "Cell \u001b[1;32mIn[11], line 24\u001b[0m\n\u001b[0;32m     21\u001b[0m     \u001b[39mreturn\u001b[39;00m [x[\u001b[39m0\u001b[39m] \u001b[39mfor\u001b[39;00m x \u001b[39min\u001b[39;00m \u001b[39mmap\u001b[39m \u001b[39mif\u001b[39;00m x[\u001b[39m1\u001b[39m] \u001b[39m==\u001b[39m name][\u001b[39m0\u001b[39m]\n\u001b[0;32m     23\u001b[0m \u001b[39m# lower and upper\u001b[39;00m\n\u001b[1;32m---> 24\u001b[0m i \u001b[39m=\u001b[39m getHPIndex(\u001b[39m'\u001b[39;49m\u001b[39ml1\u001b[39;49m\u001b[39m'\u001b[39;49m)\n\u001b[0;32m     25\u001b[0m j \u001b[39m=\u001b[39m getHPIndex(\u001b[39m'\u001b[39m\u001b[39mbatch_size\u001b[39m\u001b[39m'\u001b[39m)\n\u001b[0;32m     26\u001b[0m x \u001b[39m=\u001b[39m np\u001b[39m.\u001b[39mlinspace(spotTuner_e8\u001b[39m.\u001b[39mlower[i], spotTuner_e8\u001b[39m.\u001b[39mupper[i], num\u001b[39m=\u001b[39m\u001b[39m50\u001b[39m)\n",
      "Cell \u001b[1;32mIn[11], line 20\u001b[0m, in \u001b[0;36mgetHPIndex\u001b[1;34m(name)\u001b[0m\n\u001b[0;32m     19\u001b[0m \u001b[39mdef\u001b[39;00m \u001b[39mgetHPIndex\u001b[39m(name):\n\u001b[1;32m---> 20\u001b[0m     \u001b[39mmap\u001b[39m \u001b[39m=\u001b[39m [(i, x[\u001b[39m0\u001b[39m]) \u001b[39mfor\u001b[39;00m i, x \u001b[39min\u001b[39;00m \u001b[39menumerate\u001b[39m(spotTuner_e8\u001b[39m.\u001b[39mprint_importance(print_screen\u001b[39m=\u001b[39m\u001b[39mFalse\u001b[39;00m))]\n\u001b[0;32m     21\u001b[0m     \u001b[39mreturn\u001b[39;00m [x[\u001b[39m0\u001b[39m] \u001b[39mfor\u001b[39;00m x \u001b[39min\u001b[39;00m \u001b[39mmap\u001b[39m \u001b[39mif\u001b[39;00m x[\u001b[39m1\u001b[39m] \u001b[39m==\u001b[39m name][\u001b[39m0\u001b[39m]\n",
      "\u001b[1;31mNameError\u001b[0m: name 'spotTuner_e8' is not defined"
     ]
    }
   ],
   "source": [
    "fig = make_subplots(rows=1, cols=3, subplot_titles=[\"Random Search\", \"Random Search\", \"SMBO\"], horizontal_spacing=0.085)\n",
    "\n",
    "plot = go.Scatter(\n",
    "    x=df_flat_e2['config.l1'], \n",
    "    y=df_flat_e2['config.batch_size'], \n",
    "    marker_color=df_flat_e2['mean_val_loss'], \n",
    "    mode='markers')\n",
    "fig.add_trace(plot, row=1, col=1)\n",
    "\n",
    "plot = go.Heatmap(\n",
    "    z=[df_flat_e2[df_flat_e2['config.batch_size']==x]['mean_val_loss'].tolist() for x in df_flat_e2['config.batch_size'].unique()],\n",
    "    x=df_flat_e2['config.l1'].unique(),\n",
    "    y=df_flat_e2['config.batch_size'].unique(),\n",
    "    #zsmooth='best',\n",
    "    coloraxis='coloraxis'\n",
    ")\n",
    "fig.add_trace(plot, row=1, col=2)\n",
    "\n",
    "def getHPIndex(name):\n",
    "    map = [(i, x[0]) for i, x in enumerate(spotTuner_e8.print_importance(print_screen=False))]\n",
    "    return [x[0] for x in map if x[1] == name][0]\n",
    "\n",
    "# lower and upper\n",
    "i = getHPIndex('l1')\n",
    "j = getHPIndex('batch_size')\n",
    "x = np.linspace(spotTuner_e8.lower[i], spotTuner_e8.upper[i], num=50)\n",
    "y = np.linspace(spotTuner_e8.lower[j], spotTuner_e8.upper[j], num=50)\n",
    "X, Y = meshgrid(x, y)\n",
    "# Predict based on the optimized results\n",
    "z0 = np.mean(np.array([spotTuner_e8.lower, spotTuner_e8.upper]), axis=0)\n",
    "zz = array([spotTuner_e8.surrogate.predict(array([spotTuner_e8.chg(x, y, z0, i, j)])) for x, y in zip(ravel(X), ravel(Y))])\n",
    "zs = zz[:, 0]\n",
    "Z = zs.reshape(X.shape)\n",
    "min_z = np.min(Z)\n",
    "max_z = np.max(Z)\n",
    "plot = go.Heatmap(\n",
    "    z=Z,\n",
    "    x=[2**val for val in x],\n",
    "    y=[2**val for val in y],\n",
    "    #zsmooth='best',\n",
    "    coloraxis='coloraxis2'\n",
    ")\n",
    "fig.add_trace(plot, row=1, col=3)\n",
    "\n",
    "fig.update_xaxes(\n",
    "    title = 'L1 Units',\n",
    "    tickmode = 'array',\n",
    "    tickvals = df_flat_e2['config.l1'].unique(),\n",
    "    row=1, col=1\n",
    ")\n",
    "fig.update_yaxes(\n",
    "    title = 'Batch Size',\n",
    "    tickmode = 'array',\n",
    "    tickvals = df_flat_e2['config.batch_size'].unique(),\n",
    "    row=1, col=1\n",
    ")\n",
    "fig.update_xaxes(\n",
    "    tickmode = 'array',\n",
    "    tickvals = df_flat_e2['config.l1'].unique(),\n",
    "    row=1, col=2\n",
    ")\n",
    "fig.update_yaxes(\n",
    "    tickmode = 'array',\n",
    "    tickvals = df_flat_e2['config.batch_size'].unique(),\n",
    "    row=1, col=2\n",
    ")\n",
    "\n",
    "fig.update_xaxes(\n",
    "    tickmode = 'array',\n",
    "    tickvals = df_flat_e2['config.l1'].unique(),\n",
    "    row=1, col=3\n",
    ")\n",
    "fig.update_yaxes(\n",
    "    tickmode = 'array',\n",
    "    tickvals = df_flat_e2['config.batch_size'].unique(),\n",
    "    row=1, col=3\n",
    ")\n",
    "\n",
    "fig.update_layout(coloraxis=dict(colorbar_x=0.64, colorbar_thickness=15),\n",
    "                  coloraxis2=dict(colorbar_x=1, colorbar_thickness=15))\n",
    "\n",
    "fig.update_layout(title='Mean Validation Loss: L1 vs. Batch Size', showlegend=False, width=900, height=400)\n",
    "fig.show()"
   ]
  },
  {
   "cell_type": "markdown",
   "metadata": {
    "slideshow": {
     "slide_type": "subslide"
    }
   },
   "source": [
    "<div style=\"display: flex; justify-content: space-between; align-items: center; width: 100%;\">\n",
    "    <span style=\"color: #ff6900; font-size: 25px; font-weight: bold;\">Tested Configurations Overview</span>\n",
    "    <span style=\"text-align: right; font-size: 12px;\">Lena Hammerer | Luisa Ibele | Hanna Steinwender</span>\n",
    "</div>\n",
    "\n",
    "- **Random Search** provides a big picture perspective across the whole search space."
   ]
  },
  {
   "cell_type": "code",
   "execution_count": 18,
   "metadata": {
    "slideshow": {
     "slide_type": "fragment"
    }
   },
   "outputs": [
    {
     "data": {
      "application/vnd.plotly.v1+json": {
       "config": {
        "plotlyServerURL": "https://plot.ly"
       },
       "data": [
        {
         "dimensions": [
          {
           "label": "config.l1",
           "values": [
            64,
            128,
            32,
            128,
            64,
            32,
            32,
            32,
            64,
            64,
            128,
            64,
            256,
            32,
            64,
            32,
            256,
            64,
            32,
            32,
            128,
            32,
            64,
            256,
            256,
            128,
            256,
            256,
            64,
            32,
            128,
            64,
            128,
            32,
            128,
            256,
            128,
            64,
            64,
            64,
            32,
            256,
            256,
            256,
            128,
            64,
            32,
            64,
            64,
            256,
            32,
            128,
            32,
            256,
            256,
            256,
            128,
            256,
            256,
            64,
            256,
            32,
            32,
            256,
            128,
            64,
            256,
            64,
            64,
            256,
            128,
            128,
            64,
            256,
            256,
            256,
            128,
            128,
            64,
            64,
            128,
            128,
            64,
            64,
            256,
            32,
            256,
            64,
            128,
            128,
            128,
            256,
            128,
            32,
            64,
            64,
            256,
            128,
            256,
            128,
            256,
            128,
            256,
            32,
            32,
            256,
            256,
            256,
            128,
            64,
            256,
            256,
            32,
            256,
            64,
            64,
            128,
            32,
            64,
            32
           ]
          },
          {
           "label": "config.batch_size",
           "values": [
            64,
            32,
            128,
            128,
            16,
            64,
            32,
            16,
            16,
            128,
            32,
            32,
            32,
            128,
            32,
            16,
            64,
            32,
            32,
            32,
            16,
            32,
            128,
            64,
            64,
            32,
            128,
            32,
            64,
            16,
            128,
            32,
            32,
            32,
            16,
            64,
            16,
            32,
            32,
            16,
            64,
            128,
            32,
            32,
            32,
            32,
            32,
            128,
            128,
            64,
            16,
            64,
            128,
            64,
            32,
            128,
            32,
            128,
            16,
            128,
            64,
            32,
            32,
            128,
            128,
            128,
            16,
            16,
            128,
            32,
            128,
            16,
            32,
            16,
            64,
            16,
            64,
            16,
            128,
            32,
            64,
            64,
            128,
            128,
            32,
            32,
            32,
            128,
            16,
            32,
            16,
            16,
            32,
            128,
            32,
            32,
            128,
            64,
            32,
            16,
            64,
            64,
            64,
            32,
            32,
            16,
            64,
            64,
            32,
            16,
            64,
            128,
            128,
            32,
            64,
            64,
            32,
            16,
            64,
            64
           ]
          },
          {
           "label": "config.learning_rate",
           "values": [
            0.012029425,
            0.0001509928,
            0.0026733113,
            0.0063921715,
            0.0002117799,
            0.0001339634,
            0.0004301466,
            0.0246447249,
            0.0012886338,
            0.0042373574,
            0.0012077727,
            0.0072791116,
            0.0034498598,
            0.0010063242,
            0.0004806511,
            0.0130056913,
            0.0031308279,
            0.0009605981,
            0.0002169243,
            0.0068498791,
            0.0027600615,
            0.0002537456,
            0.0252305352,
            0.0018919461,
            0.0062023169,
            0.0049881673,
            0.0124608798,
            0.0001801662,
            0.0008772311,
            0.0002337745,
            0.0289070673,
            0.0006200741,
            0.0673012686,
            0.0221708674,
            0.0122694749,
            0.0001986152,
            0.0001931117,
            0.0004893427,
            0.0021347291,
            0.0317247778,
            0.015439489,
            0.0002299171,
            0.0530352383,
            0.009710145,
            0.0005453533,
            0.0385172315,
            0.0004474245,
            0.0010815951,
            0.0010174582,
            0.0035727236,
            0.0005218359,
            0.008704413,
            0.0003238619,
            0.0006963815,
            0.0002002315,
            0.068742392,
            0.0459216012,
            0.0004193583,
            0.0001594974,
            0.0008368741,
            0.005439095,
            0.0653554527,
            0.0001942294,
            0.0034668496,
            0.0147527342,
            0.0109793678,
            0.0135608121,
            0.000421705,
            0.0028599567,
            0.0097781823,
            0.0011257492,
            0.0008498571,
            0.0890612122,
            0.0755823485,
            0.00021472,
            0.0132609228,
            0.0093372851,
            0.0041654081,
            0.005317439,
            0.0001938702,
            0.0161945247,
            0.0001107098,
            0.0003160663,
            0.0003163941,
            0.0325026737,
            0.0001855804,
            0.0245539028,
            0.0213580317,
            0.0015584631,
            0.0003344922,
            0.0001108379,
            0.0004568374,
            0.0001598526,
            0.000324881,
            0.0194689583,
            0.0005118467,
            0.0028996033,
            0.0810217245,
            0.005929586,
            0.0001747785,
            0.0002658807,
            0.0062441451,
            0.0719303517,
            0.0010181993,
            0.0001029109,
            0.0002059397,
            0.0732586172,
            0.0001559963,
            0.0008680019,
            0.0362749765,
            0.0013597421,
            0.0002099482,
            0.0001233164,
            0.0860221986,
            0.009515493,
            0.0011645635,
            0.0307801279,
            0.0023682839,
            0.0001022756,
            0.0094693763
           ]
          },
          {
           "label": "config.epochs",
           "values": [
            15,
            20,
            5,
            10,
            20,
            15,
            20,
            20,
            20,
            15,
            20,
            10,
            15,
            10,
            5,
            10,
            20,
            5,
            20,
            15,
            10,
            10,
            10,
            15,
            15,
            10,
            10,
            20,
            15,
            20,
            10,
            20,
            20,
            20,
            20,
            10,
            15,
            15,
            20,
            15,
            20,
            10,
            20,
            10,
            5,
            20,
            15,
            5,
            10,
            15,
            15,
            5,
            10,
            20,
            5,
            15,
            5,
            20,
            15,
            5,
            5,
            15,
            15,
            10,
            15,
            15,
            20,
            5,
            10,
            20,
            10,
            20,
            5,
            15,
            5,
            15,
            5,
            10,
            20,
            20,
            20,
            20,
            20,
            20,
            10,
            20,
            20,
            15,
            10,
            10,
            5,
            15,
            15,
            5,
            10,
            15,
            15,
            15,
            15,
            10,
            5,
            20,
            10,
            15,
            10,
            5,
            20,
            20,
            20,
            15,
            10,
            15,
            15,
            10,
            5,
            5,
            5,
            5,
            15,
            15
           ]
          }
         ],
         "domain": {
          "x": [
           0,
           1
          ],
          "y": [
           0,
           1
          ]
         },
         "line": {
          "color": [
           0.2865793067,
           0.6176269482,
           0.6307143838,
           0.4082562381,
           0.5011176622,
           0.9613519882,
           0.4695414562,
           0.3006130631,
           0.3216324878,
           0.4212333912,
           0.3917333037,
           0.2992533182,
           0.3104371534,
           0.6804965836,
           0.6570187619,
           0.2553499437,
           0.3351897239,
           0.5803725206,
           0.5770196014,
           0.2732864955,
           0.3150617024,
           0.6568487429,
           0.3285101124,
           0.429241879,
           0.327930681,
           0.3096485276,
           0.3585380695,
           0.5869237257,
           0.5374477379,
           0.4675670938,
           0.3198876383,
           0.431536994,
           0.3811126202,
           0.2390565928,
           0.2523505783,
           1.0110636629,
           0.5365596423,
           0.5258721427,
           0.3362450886,
           0.2626181694,
           0.2649743134,
           2.0347138466,
           0.3350800805,
           0.2731134945,
           0.6946325185,
           0.2823381712,
           0.5073133642,
           1.0401662518,
           0.7183230583,
           0.3536274971,
           0.42287742,
           0.3943161369,
           1.7162677494,
           0.5021755849,
           1.0088208264,
           0.2318781703,
           0.2552632769,
           0.7134454231,
           0.5311081785,
           1.7054811818,
           0.4355315961,
           0.2876948324,
           0.6402731426,
           0.4897064354,
           0.3328697005,
           0.3395116676,
           0.2591999254,
           0.605658234,
           0.5167533822,
           0.2317762164,
           0.6294913993,
           0.3454357112,
           0.2449457916,
           0.3975492737,
           1.7607387349,
           0.2285744596,
           0.3854973169,
           0.2868903545,
           0.371067576,
           0.5886779117,
           0.2778955309,
           1.1230605105,
           0.848977373,
           0.9603173175,
           0.2435529508,
           0.6069817296,
           0.2532269282,
           0.2903978883,
           0.359354878,
           0.6431633294,
           1.5411956808,
           0.4289955772,
           0.6820780001,
           2.1532130875,
           0.2401117879,
           0.4964080602,
           0.4514567002,
           0.2481335212,
           0.3003292416,
           0.6126476991,
           2.0870003548,
           0.310774194,
           0.2301312829,
           0.4120763039,
           0.9998593507,
           0.7725307516,
           0.2776326655,
           0.8580366747,
           0.3976801661,
           0.2806753649,
           0.4887313493,
           1.7866174629,
           2.1643249152,
           0.2386840169,
           0.3919392549,
           0.643717542,
           0.2994038763,
           0.3892964485,
           2.0890437339,
           0.3192331038
          ],
          "coloraxis": "coloraxis"
         },
         "name": "",
         "type": "parcoords"
        }
       ],
       "layout": {
        "coloraxis": {
         "colorbar": {
          "title": {
           "text": "mean_val_loss"
          }
         },
         "colorscale": [
          [
           0,
           "#0d0887"
          ],
          [
           0.1111111111111111,
           "#46039f"
          ],
          [
           0.2222222222222222,
           "#7201a8"
          ],
          [
           0.3333333333333333,
           "#9c179e"
          ],
          [
           0.4444444444444444,
           "#bd3786"
          ],
          [
           0.5555555555555556,
           "#d8576b"
          ],
          [
           0.6666666666666666,
           "#ed7953"
          ],
          [
           0.7777777777777778,
           "#fb9f3a"
          ],
          [
           0.8888888888888888,
           "#fdca26"
          ],
          [
           1,
           "#f0f921"
          ]
         ]
        },
        "legend": {
         "tracegroupgap": 0
        },
        "template": {
         "data": {
          "bar": [
           {
            "error_x": {
             "color": "#2a3f5f"
            },
            "error_y": {
             "color": "#2a3f5f"
            },
            "marker": {
             "line": {
              "color": "white",
              "width": 0.5
             },
             "pattern": {
              "fillmode": "overlay",
              "size": 10,
              "solidity": 0.2
             }
            },
            "type": "bar"
           }
          ],
          "barpolar": [
           {
            "marker": {
             "line": {
              "color": "white",
              "width": 0.5
             },
             "pattern": {
              "fillmode": "overlay",
              "size": 10,
              "solidity": 0.2
             }
            },
            "type": "barpolar"
           }
          ],
          "carpet": [
           {
            "aaxis": {
             "endlinecolor": "#2a3f5f",
             "gridcolor": "#C8D4E3",
             "linecolor": "#C8D4E3",
             "minorgridcolor": "#C8D4E3",
             "startlinecolor": "#2a3f5f"
            },
            "baxis": {
             "endlinecolor": "#2a3f5f",
             "gridcolor": "#C8D4E3",
             "linecolor": "#C8D4E3",
             "minorgridcolor": "#C8D4E3",
             "startlinecolor": "#2a3f5f"
            },
            "type": "carpet"
           }
          ],
          "choropleth": [
           {
            "colorbar": {
             "outlinewidth": 0,
             "ticks": ""
            },
            "type": "choropleth"
           }
          ],
          "contour": [
           {
            "colorbar": {
             "outlinewidth": 0,
             "ticks": ""
            },
            "colorscale": [
             [
              0,
              "#0d0887"
             ],
             [
              0.1111111111111111,
              "#46039f"
             ],
             [
              0.2222222222222222,
              "#7201a8"
             ],
             [
              0.3333333333333333,
              "#9c179e"
             ],
             [
              0.4444444444444444,
              "#bd3786"
             ],
             [
              0.5555555555555556,
              "#d8576b"
             ],
             [
              0.6666666666666666,
              "#ed7953"
             ],
             [
              0.7777777777777778,
              "#fb9f3a"
             ],
             [
              0.8888888888888888,
              "#fdca26"
             ],
             [
              1,
              "#f0f921"
             ]
            ],
            "type": "contour"
           }
          ],
          "contourcarpet": [
           {
            "colorbar": {
             "outlinewidth": 0,
             "ticks": ""
            },
            "type": "contourcarpet"
           }
          ],
          "heatmap": [
           {
            "colorbar": {
             "outlinewidth": 0,
             "ticks": ""
            },
            "colorscale": [
             [
              0,
              "#0d0887"
             ],
             [
              0.1111111111111111,
              "#46039f"
             ],
             [
              0.2222222222222222,
              "#7201a8"
             ],
             [
              0.3333333333333333,
              "#9c179e"
             ],
             [
              0.4444444444444444,
              "#bd3786"
             ],
             [
              0.5555555555555556,
              "#d8576b"
             ],
             [
              0.6666666666666666,
              "#ed7953"
             ],
             [
              0.7777777777777778,
              "#fb9f3a"
             ],
             [
              0.8888888888888888,
              "#fdca26"
             ],
             [
              1,
              "#f0f921"
             ]
            ],
            "type": "heatmap"
           }
          ],
          "heatmapgl": [
           {
            "colorbar": {
             "outlinewidth": 0,
             "ticks": ""
            },
            "colorscale": [
             [
              0,
              "#0d0887"
             ],
             [
              0.1111111111111111,
              "#46039f"
             ],
             [
              0.2222222222222222,
              "#7201a8"
             ],
             [
              0.3333333333333333,
              "#9c179e"
             ],
             [
              0.4444444444444444,
              "#bd3786"
             ],
             [
              0.5555555555555556,
              "#d8576b"
             ],
             [
              0.6666666666666666,
              "#ed7953"
             ],
             [
              0.7777777777777778,
              "#fb9f3a"
             ],
             [
              0.8888888888888888,
              "#fdca26"
             ],
             [
              1,
              "#f0f921"
             ]
            ],
            "type": "heatmapgl"
           }
          ],
          "histogram": [
           {
            "marker": {
             "pattern": {
              "fillmode": "overlay",
              "size": 10,
              "solidity": 0.2
             }
            },
            "type": "histogram"
           }
          ],
          "histogram2d": [
           {
            "colorbar": {
             "outlinewidth": 0,
             "ticks": ""
            },
            "colorscale": [
             [
              0,
              "#0d0887"
             ],
             [
              0.1111111111111111,
              "#46039f"
             ],
             [
              0.2222222222222222,
              "#7201a8"
             ],
             [
              0.3333333333333333,
              "#9c179e"
             ],
             [
              0.4444444444444444,
              "#bd3786"
             ],
             [
              0.5555555555555556,
              "#d8576b"
             ],
             [
              0.6666666666666666,
              "#ed7953"
             ],
             [
              0.7777777777777778,
              "#fb9f3a"
             ],
             [
              0.8888888888888888,
              "#fdca26"
             ],
             [
              1,
              "#f0f921"
             ]
            ],
            "type": "histogram2d"
           }
          ],
          "histogram2dcontour": [
           {
            "colorbar": {
             "outlinewidth": 0,
             "ticks": ""
            },
            "colorscale": [
             [
              0,
              "#0d0887"
             ],
             [
              0.1111111111111111,
              "#46039f"
             ],
             [
              0.2222222222222222,
              "#7201a8"
             ],
             [
              0.3333333333333333,
              "#9c179e"
             ],
             [
              0.4444444444444444,
              "#bd3786"
             ],
             [
              0.5555555555555556,
              "#d8576b"
             ],
             [
              0.6666666666666666,
              "#ed7953"
             ],
             [
              0.7777777777777778,
              "#fb9f3a"
             ],
             [
              0.8888888888888888,
              "#fdca26"
             ],
             [
              1,
              "#f0f921"
             ]
            ],
            "type": "histogram2dcontour"
           }
          ],
          "mesh3d": [
           {
            "colorbar": {
             "outlinewidth": 0,
             "ticks": ""
            },
            "type": "mesh3d"
           }
          ],
          "parcoords": [
           {
            "line": {
             "colorbar": {
              "outlinewidth": 0,
              "ticks": ""
             }
            },
            "type": "parcoords"
           }
          ],
          "pie": [
           {
            "automargin": true,
            "type": "pie"
           }
          ],
          "scatter": [
           {
            "fillpattern": {
             "fillmode": "overlay",
             "size": 10,
             "solidity": 0.2
            },
            "type": "scatter"
           }
          ],
          "scatter3d": [
           {
            "line": {
             "colorbar": {
              "outlinewidth": 0,
              "ticks": ""
             }
            },
            "marker": {
             "colorbar": {
              "outlinewidth": 0,
              "ticks": ""
             }
            },
            "type": "scatter3d"
           }
          ],
          "scattercarpet": [
           {
            "marker": {
             "colorbar": {
              "outlinewidth": 0,
              "ticks": ""
             }
            },
            "type": "scattercarpet"
           }
          ],
          "scattergeo": [
           {
            "marker": {
             "colorbar": {
              "outlinewidth": 0,
              "ticks": ""
             }
            },
            "type": "scattergeo"
           }
          ],
          "scattergl": [
           {
            "marker": {
             "colorbar": {
              "outlinewidth": 0,
              "ticks": ""
             }
            },
            "type": "scattergl"
           }
          ],
          "scattermapbox": [
           {
            "marker": {
             "colorbar": {
              "outlinewidth": 0,
              "ticks": ""
             }
            },
            "type": "scattermapbox"
           }
          ],
          "scatterpolar": [
           {
            "marker": {
             "colorbar": {
              "outlinewidth": 0,
              "ticks": ""
             }
            },
            "type": "scatterpolar"
           }
          ],
          "scatterpolargl": [
           {
            "marker": {
             "colorbar": {
              "outlinewidth": 0,
              "ticks": ""
             }
            },
            "type": "scatterpolargl"
           }
          ],
          "scatterternary": [
           {
            "marker": {
             "colorbar": {
              "outlinewidth": 0,
              "ticks": ""
             }
            },
            "type": "scatterternary"
           }
          ],
          "surface": [
           {
            "colorbar": {
             "outlinewidth": 0,
             "ticks": ""
            },
            "colorscale": [
             [
              0,
              "#0d0887"
             ],
             [
              0.1111111111111111,
              "#46039f"
             ],
             [
              0.2222222222222222,
              "#7201a8"
             ],
             [
              0.3333333333333333,
              "#9c179e"
             ],
             [
              0.4444444444444444,
              "#bd3786"
             ],
             [
              0.5555555555555556,
              "#d8576b"
             ],
             [
              0.6666666666666666,
              "#ed7953"
             ],
             [
              0.7777777777777778,
              "#fb9f3a"
             ],
             [
              0.8888888888888888,
              "#fdca26"
             ],
             [
              1,
              "#f0f921"
             ]
            ],
            "type": "surface"
           }
          ],
          "table": [
           {
            "cells": {
             "fill": {
              "color": "#EBF0F8"
             },
             "line": {
              "color": "white"
             }
            },
            "header": {
             "fill": {
              "color": "#C8D4E3"
             },
             "line": {
              "color": "white"
             }
            },
            "type": "table"
           }
          ]
         },
         "layout": {
          "annotationdefaults": {
           "arrowcolor": "#2a3f5f",
           "arrowhead": 0,
           "arrowwidth": 1
          },
          "autotypenumbers": "strict",
          "coloraxis": {
           "colorbar": {
            "outlinewidth": 0,
            "ticks": ""
           }
          },
          "colorscale": {
           "diverging": [
            [
             0,
             "#8e0152"
            ],
            [
             0.1,
             "#c51b7d"
            ],
            [
             0.2,
             "#de77ae"
            ],
            [
             0.3,
             "#f1b6da"
            ],
            [
             0.4,
             "#fde0ef"
            ],
            [
             0.5,
             "#f7f7f7"
            ],
            [
             0.6,
             "#e6f5d0"
            ],
            [
             0.7,
             "#b8e186"
            ],
            [
             0.8,
             "#7fbc41"
            ],
            [
             0.9,
             "#4d9221"
            ],
            [
             1,
             "#276419"
            ]
           ],
           "sequential": [
            [
             0,
             "#0d0887"
            ],
            [
             0.1111111111111111,
             "#46039f"
            ],
            [
             0.2222222222222222,
             "#7201a8"
            ],
            [
             0.3333333333333333,
             "#9c179e"
            ],
            [
             0.4444444444444444,
             "#bd3786"
            ],
            [
             0.5555555555555556,
             "#d8576b"
            ],
            [
             0.6666666666666666,
             "#ed7953"
            ],
            [
             0.7777777777777778,
             "#fb9f3a"
            ],
            [
             0.8888888888888888,
             "#fdca26"
            ],
            [
             1,
             "#f0f921"
            ]
           ],
           "sequentialminus": [
            [
             0,
             "#0d0887"
            ],
            [
             0.1111111111111111,
             "#46039f"
            ],
            [
             0.2222222222222222,
             "#7201a8"
            ],
            [
             0.3333333333333333,
             "#9c179e"
            ],
            [
             0.4444444444444444,
             "#bd3786"
            ],
            [
             0.5555555555555556,
             "#d8576b"
            ],
            [
             0.6666666666666666,
             "#ed7953"
            ],
            [
             0.7777777777777778,
             "#fb9f3a"
            ],
            [
             0.8888888888888888,
             "#fdca26"
            ],
            [
             1,
             "#f0f921"
            ]
           ]
          },
          "colorway": [
           "#636efa",
           "#EF553B",
           "#00cc96",
           "#ab63fa",
           "#FFA15A",
           "#19d3f3",
           "#FF6692",
           "#B6E880",
           "#FF97FF",
           "#FECB52"
          ],
          "font": {
           "color": "#2a3f5f"
          },
          "geo": {
           "bgcolor": "white",
           "lakecolor": "white",
           "landcolor": "white",
           "showlakes": true,
           "showland": true,
           "subunitcolor": "#C8D4E3"
          },
          "hoverlabel": {
           "align": "left"
          },
          "hovermode": "closest",
          "mapbox": {
           "style": "light"
          },
          "paper_bgcolor": "white",
          "plot_bgcolor": "white",
          "polar": {
           "angularaxis": {
            "gridcolor": "#EBF0F8",
            "linecolor": "#EBF0F8",
            "ticks": ""
           },
           "bgcolor": "white",
           "radialaxis": {
            "gridcolor": "#EBF0F8",
            "linecolor": "#EBF0F8",
            "ticks": ""
           }
          },
          "scene": {
           "xaxis": {
            "backgroundcolor": "white",
            "gridcolor": "#DFE8F3",
            "gridwidth": 2,
            "linecolor": "#EBF0F8",
            "showbackground": true,
            "ticks": "",
            "zerolinecolor": "#EBF0F8"
           },
           "yaxis": {
            "backgroundcolor": "white",
            "gridcolor": "#DFE8F3",
            "gridwidth": 2,
            "linecolor": "#EBF0F8",
            "showbackground": true,
            "ticks": "",
            "zerolinecolor": "#EBF0F8"
           },
           "zaxis": {
            "backgroundcolor": "white",
            "gridcolor": "#DFE8F3",
            "gridwidth": 2,
            "linecolor": "#EBF0F8",
            "showbackground": true,
            "ticks": "",
            "zerolinecolor": "#EBF0F8"
           }
          },
          "shapedefaults": {
           "line": {
            "color": "#2a3f5f"
           }
          },
          "ternary": {
           "aaxis": {
            "gridcolor": "#DFE8F3",
            "linecolor": "#A2B1C6",
            "ticks": ""
           },
           "baxis": {
            "gridcolor": "#DFE8F3",
            "linecolor": "#A2B1C6",
            "ticks": ""
           },
           "bgcolor": "white",
           "caxis": {
            "gridcolor": "#DFE8F3",
            "linecolor": "#A2B1C6",
            "ticks": ""
           }
          },
          "title": {
           "x": 0.05
          },
          "xaxis": {
           "automargin": true,
           "gridcolor": "#EBF0F8",
           "linecolor": "#EBF0F8",
           "ticks": "",
           "title": {
            "standoff": 15
           },
           "zerolinecolor": "#EBF0F8",
           "zerolinewidth": 2
          },
          "yaxis": {
           "automargin": true,
           "gridcolor": "#EBF0F8",
           "linecolor": "#EBF0F8",
           "ticks": "",
           "title": {
            "standoff": 15
           },
           "zerolinecolor": "#EBF0F8",
           "zerolinewidth": 2
          }
         }
        },
        "title": {
         "text": "Random Search Trial Configurations"
        },
        "width": 900
       }
      },
      "text/html": [
       "<div>                            <div id=\"29bbc3c0-d581-4fc8-a758-b58b808b1f25\" class=\"plotly-graph-div\" style=\"height:525px; width:900px;\"></div>            <script type=\"text/javascript\">                require([\"plotly\"], function(Plotly) {                    window.PLOTLYENV=window.PLOTLYENV || {};                                    if (document.getElementById(\"29bbc3c0-d581-4fc8-a758-b58b808b1f25\")) {                    Plotly.newPlot(                        \"29bbc3c0-d581-4fc8-a758-b58b808b1f25\",                        [{\"dimensions\":[{\"label\":\"config.l1\",\"values\":[64,128,32,128,64,32,32,32,64,64,128,64,256,32,64,32,256,64,32,32,128,32,64,256,256,128,256,256,64,32,128,64,128,32,128,256,128,64,64,64,32,256,256,256,128,64,32,64,64,256,32,128,32,256,256,256,128,256,256,64,256,32,32,256,128,64,256,64,64,256,128,128,64,256,256,256,128,128,64,64,128,128,64,64,256,32,256,64,128,128,128,256,128,32,64,64,256,128,256,128,256,128,256,32,32,256,256,256,128,64,256,256,32,256,64,64,128,32,64,32]},{\"label\":\"config.batch_size\",\"values\":[64,32,128,128,16,64,32,16,16,128,32,32,32,128,32,16,64,32,32,32,16,32,128,64,64,32,128,32,64,16,128,32,32,32,16,64,16,32,32,16,64,128,32,32,32,32,32,128,128,64,16,64,128,64,32,128,32,128,16,128,64,32,32,128,128,128,16,16,128,32,128,16,32,16,64,16,64,16,128,32,64,64,128,128,32,32,32,128,16,32,16,16,32,128,32,32,128,64,32,16,64,64,64,32,32,16,64,64,32,16,64,128,128,32,64,64,32,16,64,64]},{\"label\":\"config.learning_rate\",\"values\":[0.012029425,0.0001509928,0.0026733113,0.0063921715,0.0002117799,0.0001339634,0.0004301466,0.0246447249,0.0012886338,0.0042373574,0.0012077727,0.0072791116,0.0034498598,0.0010063242,0.0004806511,0.0130056913,0.0031308279,0.0009605981,0.0002169243,0.0068498791,0.0027600615,0.0002537456,0.0252305352,0.0018919461,0.0062023169,0.0049881673,0.0124608798,0.0001801662,0.0008772311,0.0002337745,0.0289070673,0.0006200741,0.0673012686,0.0221708674,0.0122694749,0.0001986152,0.0001931117,0.0004893427,0.0021347291,0.0317247778,0.015439489,0.0002299171,0.0530352383,0.009710145,0.0005453533,0.0385172315,0.0004474245,0.0010815951,0.0010174582,0.0035727236,0.0005218359,0.008704413,0.0003238619,0.0006963815,0.0002002315,0.068742392,0.0459216012,0.0004193583,0.0001594974,0.0008368741,0.005439095,0.0653554527,0.0001942294,0.0034668496,0.0147527342,0.0109793678,0.0135608121,0.000421705,0.0028599567,0.0097781823,0.0011257492,0.0008498571,0.0890612122,0.0755823485,0.00021472,0.0132609228,0.0093372851,0.0041654081,0.005317439,0.0001938702,0.0161945247,0.0001107098,0.0003160663,0.0003163941,0.0325026737,0.0001855804,0.0245539028,0.0213580317,0.0015584631,0.0003344922,0.0001108379,0.0004568374,0.0001598526,0.000324881,0.0194689583,0.0005118467,0.0028996033,0.0810217245,0.005929586,0.0001747785,0.0002658807,0.0062441451,0.0719303517,0.0010181993,0.0001029109,0.0002059397,0.0732586172,0.0001559963,0.0008680019,0.0362749765,0.0013597421,0.0002099482,0.0001233164,0.0860221986,0.009515493,0.0011645635,0.0307801279,0.0023682839,0.0001022756,0.0094693763]},{\"label\":\"config.epochs\",\"values\":[15,20,5,10,20,15,20,20,20,15,20,10,15,10,5,10,20,5,20,15,10,10,10,15,15,10,10,20,15,20,10,20,20,20,20,10,15,15,20,15,20,10,20,10,5,20,15,5,10,15,15,5,10,20,5,15,5,20,15,5,5,15,15,10,15,15,20,5,10,20,10,20,5,15,5,15,5,10,20,20,20,20,20,20,10,20,20,15,10,10,5,15,15,5,10,15,15,15,15,10,5,20,10,15,10,5,20,20,20,15,10,15,15,10,5,5,5,5,15,15]}],\"domain\":{\"x\":[0.0,1.0],\"y\":[0.0,1.0]},\"line\":{\"color\":[0.2865793067,0.6176269482,0.6307143838,0.4082562381,0.5011176622,0.9613519882,0.4695414562,0.3006130631,0.3216324878,0.4212333912,0.3917333037,0.2992533182,0.3104371534,0.6804965836,0.6570187619,0.2553499437,0.3351897239,0.5803725206,0.5770196014,0.2732864955,0.3150617024,0.6568487429,0.3285101124,0.429241879,0.327930681,0.3096485276,0.3585380695,0.5869237257,0.5374477379,0.4675670938,0.3198876383,0.431536994,0.3811126202,0.2390565928,0.2523505783,1.0110636629,0.5365596423,0.5258721427,0.3362450886,0.2626181694,0.2649743134,2.0347138466,0.3350800805,0.2731134945,0.6946325185,0.2823381712,0.5073133642,1.0401662518,0.7183230583,0.3536274971,0.42287742,0.3943161369,1.7162677494,0.5021755849,1.0088208264,0.2318781703,0.2552632769,0.7134454231,0.5311081785,1.7054811818,0.4355315961,0.2876948324,0.6402731426,0.4897064354,0.3328697005,0.3395116676,0.2591999254,0.605658234,0.5167533822,0.2317762164,0.6294913993,0.3454357112,0.2449457916,0.3975492737,1.7607387349,0.2285744596,0.3854973169,0.2868903545,0.371067576,0.5886779117,0.2778955309,1.1230605105,0.848977373,0.9603173175,0.2435529508,0.6069817296,0.2532269282,0.2903978883,0.359354878,0.6431633294,1.5411956808,0.4289955772,0.6820780001,2.1532130875,0.2401117879,0.4964080602,0.4514567002,0.2481335212,0.3003292416,0.6126476991,2.0870003548,0.310774194,0.2301312829,0.4120763039,0.9998593507,0.7725307516,0.2776326655,0.8580366747,0.3976801661,0.2806753649,0.4887313493,1.7866174629,2.1643249152,0.2386840169,0.3919392549,0.643717542,0.2994038763,0.3892964485,2.0890437339,0.3192331038],\"coloraxis\":\"coloraxis\"},\"name\":\"\",\"type\":\"parcoords\"}],                        {\"template\":{\"data\":{\"histogram2dcontour\":[{\"type\":\"histogram2dcontour\",\"colorbar\":{\"outlinewidth\":0,\"ticks\":\"\"},\"colorscale\":[[0.0,\"#0d0887\"],[0.1111111111111111,\"#46039f\"],[0.2222222222222222,\"#7201a8\"],[0.3333333333333333,\"#9c179e\"],[0.4444444444444444,\"#bd3786\"],[0.5555555555555556,\"#d8576b\"],[0.6666666666666666,\"#ed7953\"],[0.7777777777777778,\"#fb9f3a\"],[0.8888888888888888,\"#fdca26\"],[1.0,\"#f0f921\"]]}],\"choropleth\":[{\"type\":\"choropleth\",\"colorbar\":{\"outlinewidth\":0,\"ticks\":\"\"}}],\"histogram2d\":[{\"type\":\"histogram2d\",\"colorbar\":{\"outlinewidth\":0,\"ticks\":\"\"},\"colorscale\":[[0.0,\"#0d0887\"],[0.1111111111111111,\"#46039f\"],[0.2222222222222222,\"#7201a8\"],[0.3333333333333333,\"#9c179e\"],[0.4444444444444444,\"#bd3786\"],[0.5555555555555556,\"#d8576b\"],[0.6666666666666666,\"#ed7953\"],[0.7777777777777778,\"#fb9f3a\"],[0.8888888888888888,\"#fdca26\"],[1.0,\"#f0f921\"]]}],\"heatmap\":[{\"type\":\"heatmap\",\"colorbar\":{\"outlinewidth\":0,\"ticks\":\"\"},\"colorscale\":[[0.0,\"#0d0887\"],[0.1111111111111111,\"#46039f\"],[0.2222222222222222,\"#7201a8\"],[0.3333333333333333,\"#9c179e\"],[0.4444444444444444,\"#bd3786\"],[0.5555555555555556,\"#d8576b\"],[0.6666666666666666,\"#ed7953\"],[0.7777777777777778,\"#fb9f3a\"],[0.8888888888888888,\"#fdca26\"],[1.0,\"#f0f921\"]]}],\"heatmapgl\":[{\"type\":\"heatmapgl\",\"colorbar\":{\"outlinewidth\":0,\"ticks\":\"\"},\"colorscale\":[[0.0,\"#0d0887\"],[0.1111111111111111,\"#46039f\"],[0.2222222222222222,\"#7201a8\"],[0.3333333333333333,\"#9c179e\"],[0.4444444444444444,\"#bd3786\"],[0.5555555555555556,\"#d8576b\"],[0.6666666666666666,\"#ed7953\"],[0.7777777777777778,\"#fb9f3a\"],[0.8888888888888888,\"#fdca26\"],[1.0,\"#f0f921\"]]}],\"contourcarpet\":[{\"type\":\"contourcarpet\",\"colorbar\":{\"outlinewidth\":0,\"ticks\":\"\"}}],\"contour\":[{\"type\":\"contour\",\"colorbar\":{\"outlinewidth\":0,\"ticks\":\"\"},\"colorscale\":[[0.0,\"#0d0887\"],[0.1111111111111111,\"#46039f\"],[0.2222222222222222,\"#7201a8\"],[0.3333333333333333,\"#9c179e\"],[0.4444444444444444,\"#bd3786\"],[0.5555555555555556,\"#d8576b\"],[0.6666666666666666,\"#ed7953\"],[0.7777777777777778,\"#fb9f3a\"],[0.8888888888888888,\"#fdca26\"],[1.0,\"#f0f921\"]]}],\"surface\":[{\"type\":\"surface\",\"colorbar\":{\"outlinewidth\":0,\"ticks\":\"\"},\"colorscale\":[[0.0,\"#0d0887\"],[0.1111111111111111,\"#46039f\"],[0.2222222222222222,\"#7201a8\"],[0.3333333333333333,\"#9c179e\"],[0.4444444444444444,\"#bd3786\"],[0.5555555555555556,\"#d8576b\"],[0.6666666666666666,\"#ed7953\"],[0.7777777777777778,\"#fb9f3a\"],[0.8888888888888888,\"#fdca26\"],[1.0,\"#f0f921\"]]}],\"mesh3d\":[{\"type\":\"mesh3d\",\"colorbar\":{\"outlinewidth\":0,\"ticks\":\"\"}}],\"scatter\":[{\"fillpattern\":{\"fillmode\":\"overlay\",\"size\":10,\"solidity\":0.2},\"type\":\"scatter\"}],\"parcoords\":[{\"type\":\"parcoords\",\"line\":{\"colorbar\":{\"outlinewidth\":0,\"ticks\":\"\"}}}],\"scatterpolargl\":[{\"type\":\"scatterpolargl\",\"marker\":{\"colorbar\":{\"outlinewidth\":0,\"ticks\":\"\"}}}],\"bar\":[{\"error_x\":{\"color\":\"#2a3f5f\"},\"error_y\":{\"color\":\"#2a3f5f\"},\"marker\":{\"line\":{\"color\":\"white\",\"width\":0.5},\"pattern\":{\"fillmode\":\"overlay\",\"size\":10,\"solidity\":0.2}},\"type\":\"bar\"}],\"scattergeo\":[{\"type\":\"scattergeo\",\"marker\":{\"colorbar\":{\"outlinewidth\":0,\"ticks\":\"\"}}}],\"scatterpolar\":[{\"type\":\"scatterpolar\",\"marker\":{\"colorbar\":{\"outlinewidth\":0,\"ticks\":\"\"}}}],\"histogram\":[{\"marker\":{\"pattern\":{\"fillmode\":\"overlay\",\"size\":10,\"solidity\":0.2}},\"type\":\"histogram\"}],\"scattergl\":[{\"type\":\"scattergl\",\"marker\":{\"colorbar\":{\"outlinewidth\":0,\"ticks\":\"\"}}}],\"scatter3d\":[{\"type\":\"scatter3d\",\"line\":{\"colorbar\":{\"outlinewidth\":0,\"ticks\":\"\"}},\"marker\":{\"colorbar\":{\"outlinewidth\":0,\"ticks\":\"\"}}}],\"scattermapbox\":[{\"type\":\"scattermapbox\",\"marker\":{\"colorbar\":{\"outlinewidth\":0,\"ticks\":\"\"}}}],\"scatterternary\":[{\"type\":\"scatterternary\",\"marker\":{\"colorbar\":{\"outlinewidth\":0,\"ticks\":\"\"}}}],\"scattercarpet\":[{\"type\":\"scattercarpet\",\"marker\":{\"colorbar\":{\"outlinewidth\":0,\"ticks\":\"\"}}}],\"carpet\":[{\"aaxis\":{\"endlinecolor\":\"#2a3f5f\",\"gridcolor\":\"#C8D4E3\",\"linecolor\":\"#C8D4E3\",\"minorgridcolor\":\"#C8D4E3\",\"startlinecolor\":\"#2a3f5f\"},\"baxis\":{\"endlinecolor\":\"#2a3f5f\",\"gridcolor\":\"#C8D4E3\",\"linecolor\":\"#C8D4E3\",\"minorgridcolor\":\"#C8D4E3\",\"startlinecolor\":\"#2a3f5f\"},\"type\":\"carpet\"}],\"table\":[{\"cells\":{\"fill\":{\"color\":\"#EBF0F8\"},\"line\":{\"color\":\"white\"}},\"header\":{\"fill\":{\"color\":\"#C8D4E3\"},\"line\":{\"color\":\"white\"}},\"type\":\"table\"}],\"barpolar\":[{\"marker\":{\"line\":{\"color\":\"white\",\"width\":0.5},\"pattern\":{\"fillmode\":\"overlay\",\"size\":10,\"solidity\":0.2}},\"type\":\"barpolar\"}],\"pie\":[{\"automargin\":true,\"type\":\"pie\"}]},\"layout\":{\"autotypenumbers\":\"strict\",\"colorway\":[\"#636efa\",\"#EF553B\",\"#00cc96\",\"#ab63fa\",\"#FFA15A\",\"#19d3f3\",\"#FF6692\",\"#B6E880\",\"#FF97FF\",\"#FECB52\"],\"font\":{\"color\":\"#2a3f5f\"},\"hovermode\":\"closest\",\"hoverlabel\":{\"align\":\"left\"},\"paper_bgcolor\":\"white\",\"plot_bgcolor\":\"white\",\"polar\":{\"bgcolor\":\"white\",\"angularaxis\":{\"gridcolor\":\"#EBF0F8\",\"linecolor\":\"#EBF0F8\",\"ticks\":\"\"},\"radialaxis\":{\"gridcolor\":\"#EBF0F8\",\"linecolor\":\"#EBF0F8\",\"ticks\":\"\"}},\"ternary\":{\"bgcolor\":\"white\",\"aaxis\":{\"gridcolor\":\"#DFE8F3\",\"linecolor\":\"#A2B1C6\",\"ticks\":\"\"},\"baxis\":{\"gridcolor\":\"#DFE8F3\",\"linecolor\":\"#A2B1C6\",\"ticks\":\"\"},\"caxis\":{\"gridcolor\":\"#DFE8F3\",\"linecolor\":\"#A2B1C6\",\"ticks\":\"\"}},\"coloraxis\":{\"colorbar\":{\"outlinewidth\":0,\"ticks\":\"\"}},\"colorscale\":{\"sequential\":[[0.0,\"#0d0887\"],[0.1111111111111111,\"#46039f\"],[0.2222222222222222,\"#7201a8\"],[0.3333333333333333,\"#9c179e\"],[0.4444444444444444,\"#bd3786\"],[0.5555555555555556,\"#d8576b\"],[0.6666666666666666,\"#ed7953\"],[0.7777777777777778,\"#fb9f3a\"],[0.8888888888888888,\"#fdca26\"],[1.0,\"#f0f921\"]],\"sequentialminus\":[[0.0,\"#0d0887\"],[0.1111111111111111,\"#46039f\"],[0.2222222222222222,\"#7201a8\"],[0.3333333333333333,\"#9c179e\"],[0.4444444444444444,\"#bd3786\"],[0.5555555555555556,\"#d8576b\"],[0.6666666666666666,\"#ed7953\"],[0.7777777777777778,\"#fb9f3a\"],[0.8888888888888888,\"#fdca26\"],[1.0,\"#f0f921\"]],\"diverging\":[[0,\"#8e0152\"],[0.1,\"#c51b7d\"],[0.2,\"#de77ae\"],[0.3,\"#f1b6da\"],[0.4,\"#fde0ef\"],[0.5,\"#f7f7f7\"],[0.6,\"#e6f5d0\"],[0.7,\"#b8e186\"],[0.8,\"#7fbc41\"],[0.9,\"#4d9221\"],[1,\"#276419\"]]},\"xaxis\":{\"gridcolor\":\"#EBF0F8\",\"linecolor\":\"#EBF0F8\",\"ticks\":\"\",\"title\":{\"standoff\":15},\"zerolinecolor\":\"#EBF0F8\",\"automargin\":true,\"zerolinewidth\":2},\"yaxis\":{\"gridcolor\":\"#EBF0F8\",\"linecolor\":\"#EBF0F8\",\"ticks\":\"\",\"title\":{\"standoff\":15},\"zerolinecolor\":\"#EBF0F8\",\"automargin\":true,\"zerolinewidth\":2},\"scene\":{\"xaxis\":{\"backgroundcolor\":\"white\",\"gridcolor\":\"#DFE8F3\",\"linecolor\":\"#EBF0F8\",\"showbackground\":true,\"ticks\":\"\",\"zerolinecolor\":\"#EBF0F8\",\"gridwidth\":2},\"yaxis\":{\"backgroundcolor\":\"white\",\"gridcolor\":\"#DFE8F3\",\"linecolor\":\"#EBF0F8\",\"showbackground\":true,\"ticks\":\"\",\"zerolinecolor\":\"#EBF0F8\",\"gridwidth\":2},\"zaxis\":{\"backgroundcolor\":\"white\",\"gridcolor\":\"#DFE8F3\",\"linecolor\":\"#EBF0F8\",\"showbackground\":true,\"ticks\":\"\",\"zerolinecolor\":\"#EBF0F8\",\"gridwidth\":2}},\"shapedefaults\":{\"line\":{\"color\":\"#2a3f5f\"}},\"annotationdefaults\":{\"arrowcolor\":\"#2a3f5f\",\"arrowhead\":0,\"arrowwidth\":1},\"geo\":{\"bgcolor\":\"white\",\"landcolor\":\"white\",\"subunitcolor\":\"#C8D4E3\",\"showland\":true,\"showlakes\":true,\"lakecolor\":\"white\"},\"title\":{\"x\":0.05},\"mapbox\":{\"style\":\"light\"}}},\"coloraxis\":{\"colorbar\":{\"title\":{\"text\":\"mean_val_loss\"}},\"colorscale\":[[0.0,\"#0d0887\"],[0.1111111111111111,\"#46039f\"],[0.2222222222222222,\"#7201a8\"],[0.3333333333333333,\"#9c179e\"],[0.4444444444444444,\"#bd3786\"],[0.5555555555555556,\"#d8576b\"],[0.6666666666666666,\"#ed7953\"],[0.7777777777777778,\"#fb9f3a\"],[0.8888888888888888,\"#fdca26\"],[1.0,\"#f0f921\"]]},\"legend\":{\"tracegroupgap\":0},\"title\":{\"text\":\"Random Search Trial Configurations\"},\"width\":900},                        {\"responsive\": true}                    ).then(function(){\n",
       "                            \n",
       "var gd = document.getElementById('29bbc3c0-d581-4fc8-a758-b58b808b1f25');\n",
       "var x = new MutationObserver(function (mutations, observer) {{\n",
       "        var display = window.getComputedStyle(gd).display;\n",
       "        if (!display || display === 'none') {{\n",
       "            console.log([gd, 'removed!']);\n",
       "            Plotly.purge(gd);\n",
       "            observer.disconnect();\n",
       "        }}\n",
       "}});\n",
       "\n",
       "// Listen for the removal of the full notebook cells\n",
       "var notebookContainer = gd.closest('#notebook-container');\n",
       "if (notebookContainer) {{\n",
       "    x.observe(notebookContainer, {childList: true});\n",
       "}}\n",
       "\n",
       "// Listen for the clearing of the current output cell\n",
       "var outputEl = gd.closest('.output');\n",
       "if (outputEl) {{\n",
       "    x.observe(outputEl, {childList: true});\n",
       "}}\n",
       "\n",
       "                        })                };                });            </script>        </div>"
      ]
     },
     "metadata": {},
     "output_type": "display_data"
    }
   ],
   "source": [
    "fig = px.parallel_coordinates(df_flat_e7_log, color=\"mean_val_loss\",\n",
    "                              title='Random Search Trial Configurations',\n",
    "                              dimensions=['config.l1', 'config.batch_size', 'config.learning_rate',\n",
    "                                          'config.epochs'], width=900)\n",
    "fig.show()"
   ]
  },
  {
   "cell_type": "markdown",
   "metadata": {
    "slideshow": {
     "slide_type": "subslide"
    }
   },
   "source": [
    "<div style=\"display: flex; justify-content: space-between; align-items: center; width: 100%;\">\n",
    "    <span style=\"color: #ff6900; font-size: 25px; font-weight: bold;\">Batch Size vs. Epochs</span>\n",
    "    <span style=\"text-align: right; font-size: 12px;\">Lena Hammerer | Luisa Ibele | Hanna Steinwender</span>\n",
    "</div>\n",
    "\n",
    "- together determine number of training steps and therefore influence runtime\n",
    "- large _Batch Size_ and few _Epochs_ does not work\n",
    "- Choosing a smaller _Batch Size_ and training longer leads to better model performance"
   ]
  },
  {
   "cell_type": "code",
   "execution_count": 19,
   "metadata": {
    "slideshow": {
     "slide_type": "fragment"
    }
   },
   "outputs": [
    {
     "ename": "NameError",
     "evalue": "name 'spotTuner_e8' is not defined",
     "output_type": "error",
     "traceback": [
      "\u001b[1;31m---------------------------------------------------------------------------\u001b[0m",
      "\u001b[1;31mNameError\u001b[0m                                 Traceback (most recent call last)",
      "Cell \u001b[1;32mIn[19], line 24\u001b[0m\n\u001b[0;32m     21\u001b[0m     \u001b[39mreturn\u001b[39;00m [x[\u001b[39m0\u001b[39m] \u001b[39mfor\u001b[39;00m x \u001b[39min\u001b[39;00m \u001b[39mmap\u001b[39m \u001b[39mif\u001b[39;00m x[\u001b[39m1\u001b[39m] \u001b[39m==\u001b[39m name][\u001b[39m0\u001b[39m]\n\u001b[0;32m     23\u001b[0m \u001b[39m# lower and upper\u001b[39;00m\n\u001b[1;32m---> 24\u001b[0m i \u001b[39m=\u001b[39m getHPIndex(\u001b[39m'\u001b[39;49m\u001b[39mbatch_size\u001b[39;49m\u001b[39m'\u001b[39;49m)\n\u001b[0;32m     25\u001b[0m j \u001b[39m=\u001b[39m getHPIndex(\u001b[39m'\u001b[39m\u001b[39mepochs\u001b[39m\u001b[39m'\u001b[39m)\n\u001b[0;32m     26\u001b[0m x \u001b[39m=\u001b[39m np\u001b[39m.\u001b[39mlinspace(spotTuner_e8\u001b[39m.\u001b[39mlower[i], spotTuner_e8\u001b[39m.\u001b[39mupper[i], num\u001b[39m=\u001b[39m\u001b[39m50\u001b[39m)\n",
      "Cell \u001b[1;32mIn[19], line 20\u001b[0m, in \u001b[0;36mgetHPIndex\u001b[1;34m(name)\u001b[0m\n\u001b[0;32m     19\u001b[0m \u001b[39mdef\u001b[39;00m \u001b[39mgetHPIndex\u001b[39m(name):\n\u001b[1;32m---> 20\u001b[0m     \u001b[39mmap\u001b[39m \u001b[39m=\u001b[39m [(i, x[\u001b[39m0\u001b[39m]) \u001b[39mfor\u001b[39;00m i, x \u001b[39min\u001b[39;00m \u001b[39menumerate\u001b[39m(spotTuner_e8\u001b[39m.\u001b[39mprint_importance(print_screen\u001b[39m=\u001b[39m\u001b[39mFalse\u001b[39;00m))]\n\u001b[0;32m     21\u001b[0m     \u001b[39mreturn\u001b[39;00m [x[\u001b[39m0\u001b[39m] \u001b[39mfor\u001b[39;00m x \u001b[39min\u001b[39;00m \u001b[39mmap\u001b[39m \u001b[39mif\u001b[39;00m x[\u001b[39m1\u001b[39m] \u001b[39m==\u001b[39m name][\u001b[39m0\u001b[39m]\n",
      "\u001b[1;31mNameError\u001b[0m: name 'spotTuner_e8' is not defined"
     ]
    }
   ],
   "source": [
    "fig = make_subplots(rows=1, cols=3, subplot_titles=[\"Random Search\", \"Random Search\", \"SMBO\"], horizontal_spacing=0.085)\n",
    "\n",
    "plot = go.Scatter(\n",
    "    x=df_flat_e3['config.batch_size'], \n",
    "    y=df_flat_e3['config.epochs'], \n",
    "    marker_color=df_flat_e3['mean_val_loss'], \n",
    "    mode='markers')\n",
    "fig.add_trace(plot, row=1, col=1)\n",
    "\n",
    "plot = go.Heatmap(\n",
    "    z=[df_flat_e3[df_flat_e3['config.epochs']==x]['mean_val_loss'].tolist() for x in df_flat_e3['config.epochs'].unique()],\n",
    "    x=df_flat_e3['config.batch_size'].unique(),\n",
    "    y=df_flat_e3['config.epochs'].unique(),\n",
    "    #zsmooth='best',\n",
    "    coloraxis='coloraxis'\n",
    ")\n",
    "fig.add_trace(plot, row=1, col=2)\n",
    "\n",
    "def getHPIndex(name):\n",
    "    map = [(i, x[0]) for i, x in enumerate(spotTuner_e8.print_importance(print_screen=False))]\n",
    "    return [x[0] for x in map if x[1] == name][0]\n",
    "\n",
    "# lower and upper\n",
    "i = getHPIndex('batch_size')\n",
    "j = getHPIndex('epochs')\n",
    "x = np.linspace(spotTuner_e8.lower[i], spotTuner_e8.upper[i], num=50)\n",
    "y = np.linspace(spotTuner_e8.lower[j], spotTuner_e8.upper[j], num=50)\n",
    "X, Y = meshgrid(x, y)\n",
    "# Predict based on the optimized results\n",
    "z0 = np.mean(np.array([spotTuner_e8.lower, spotTuner_e8.upper]), axis=0)\n",
    "zz = array([spotTuner_e8.surrogate.predict(array([spotTuner_e8.chg(x, y, z0, i, j)])) for x, y in zip(ravel(X), ravel(Y))])\n",
    "zs = zz[:, 0]\n",
    "Z = zs.reshape(X.shape)\n",
    "min_z = np.min(Z)\n",
    "max_z = np.max(Z)\n",
    "plot = go.Heatmap(\n",
    "    z=Z,\n",
    "    x=[2**val for val in x],\n",
    "    y=[(val+1)*5 for val in y],\n",
    "    #zsmooth='best',\n",
    "    coloraxis='coloraxis2'\n",
    ")\n",
    "fig.add_trace(plot, row=1, col=3)\n",
    "\n",
    "fig.update_xaxes(\n",
    "    title = 'Batch Size',\n",
    "    tickmode = 'array',\n",
    "    tickvals = df_flat_e3['config.batch_size'].unique(),\n",
    "    row=1, col=1\n",
    ")\n",
    "fig.update_yaxes(\n",
    "    title = 'Epochs',\n",
    "    tickmode = 'array',\n",
    "    tickvals = df_flat_e3['config.epochs'].unique(),\n",
    "    row=1, col=1\n",
    ")\n",
    "fig.update_xaxes(\n",
    "    tickmode = 'array',\n",
    "    tickvals = df_flat_e3['config.batch_size'].unique(),\n",
    "    row=1, col=2\n",
    ")\n",
    "fig.update_yaxes(\n",
    "    tickmode = 'array',\n",
    "    tickvals = df_flat_e3['config.epochs'].unique(),\n",
    "    row=1, col=2\n",
    ")\n",
    "\n",
    "fig.update_xaxes(\n",
    "    tickmode = 'array',\n",
    "    tickvals = df_flat_e3['config.batch_size'].unique(),\n",
    "    row=1, col=3\n",
    ")\n",
    "fig.update_yaxes(\n",
    "    tickmode = 'array',\n",
    "    tickvals = df_flat_e3['config.epochs'].unique(),\n",
    "    row=1, col=3\n",
    ")\n",
    "\n",
    "fig.update_layout(coloraxis=dict(colorbar_x=0.64, colorbar_thickness=15),\n",
    "                  coloraxis2=dict(colorbar_x=1, colorbar_thickness=15))\n",
    "\n",
    "fig.update_layout(title='Mean Validation Loss: Batch Size vs. Epochs', showlegend=False, width=900, height=400)\n",
    "fig.show()"
   ]
  },
  {
   "cell_type": "markdown",
   "metadata": {
    "slideshow": {
     "slide_type": "subslide"
    }
   },
   "source": [
    "<div style=\"display: flex; justify-content: space-between; align-items: center; width: 100%;\">\n",
    "    <span style=\"color: #ff6900; font-size: 25px; font-weight: bold;\">Tested Configurations Overview</span>\n",
    "    <span style=\"text-align: right; font-size: 12px;\">Lena Hammerer | Luisa Ibele | Hanna Steinwender</span>\n",
    "</div>\n",
    "\n",
    "\n",
    "- **Random Search** provides a big picture perspective across the whole search space.\n",
    "- <span style=\"color: #ff6900;\">... why are there so many small _Learning Rate_ configurations tested?</span>"
   ]
  },
  {
   "cell_type": "code",
   "execution_count": 12,
   "metadata": {
    "slideshow": {
     "slide_type": "fragment"
    }
   },
   "outputs": [
    {
     "data": {
      "application/vnd.plotly.v1+json": {
       "config": {
        "plotlyServerURL": "https://plot.ly"
       },
       "data": [
        {
         "dimensions": [
          {
           "label": "config.l1",
           "values": [
            64,
            128,
            32,
            128,
            64,
            32,
            32,
            32,
            64,
            64,
            128,
            64,
            256,
            32,
            64,
            32,
            256,
            64,
            32,
            32,
            128,
            32,
            64,
            256,
            256,
            128,
            256,
            256,
            64,
            32,
            128,
            64,
            128,
            32,
            128,
            256,
            128,
            64,
            64,
            64,
            32,
            256,
            256,
            256,
            128,
            64,
            32,
            64,
            64,
            256,
            32,
            128,
            32,
            256,
            256,
            256,
            128,
            256,
            256,
            64,
            256,
            32,
            32,
            256,
            128,
            64,
            256,
            64,
            64,
            256,
            128,
            128,
            64,
            256,
            256,
            256,
            128,
            128,
            64,
            64,
            128,
            128,
            64,
            64,
            256,
            32,
            256,
            64,
            128,
            128,
            128,
            256,
            128,
            32,
            64,
            64,
            256,
            128,
            256,
            128,
            256,
            128,
            256,
            32,
            32,
            256,
            256,
            256,
            128,
            64,
            256,
            256,
            32,
            256,
            64,
            64,
            128,
            32,
            64,
            32
           ]
          },
          {
           "label": "config.batch_size",
           "values": [
            64,
            32,
            128,
            128,
            16,
            64,
            32,
            16,
            16,
            128,
            32,
            32,
            32,
            128,
            32,
            16,
            64,
            32,
            32,
            32,
            16,
            32,
            128,
            64,
            64,
            32,
            128,
            32,
            64,
            16,
            128,
            32,
            32,
            32,
            16,
            64,
            16,
            32,
            32,
            16,
            64,
            128,
            32,
            32,
            32,
            32,
            32,
            128,
            128,
            64,
            16,
            64,
            128,
            64,
            32,
            128,
            32,
            128,
            16,
            128,
            64,
            32,
            32,
            128,
            128,
            128,
            16,
            16,
            128,
            32,
            128,
            16,
            32,
            16,
            64,
            16,
            64,
            16,
            128,
            32,
            64,
            64,
            128,
            128,
            32,
            32,
            32,
            128,
            16,
            32,
            16,
            16,
            32,
            128,
            32,
            32,
            128,
            64,
            32,
            16,
            64,
            64,
            64,
            32,
            32,
            16,
            64,
            64,
            32,
            16,
            64,
            128,
            128,
            32,
            64,
            64,
            32,
            16,
            64,
            64
           ]
          },
          {
           "label": "config.learning_rate",
           "values": [
            0.012029425,
            0.0001509928,
            0.0026733113,
            0.0063921715,
            0.0002117799,
            0.0001339634,
            0.0004301466,
            0.0246447249,
            0.0012886338,
            0.0042373574,
            0.0012077727,
            0.0072791116,
            0.0034498598,
            0.0010063242,
            0.0004806511,
            0.0130056913,
            0.0031308279,
            0.0009605981,
            0.0002169243,
            0.0068498791,
            0.0027600615,
            0.0002537456,
            0.0252305352,
            0.0018919461,
            0.0062023169,
            0.0049881673,
            0.0124608798,
            0.0001801662,
            0.0008772311,
            0.0002337745,
            0.0289070673,
            0.0006200741,
            0.0673012686,
            0.0221708674,
            0.0122694749,
            0.0001986152,
            0.0001931117,
            0.0004893427,
            0.0021347291,
            0.0317247778,
            0.015439489,
            0.0002299171,
            0.0530352383,
            0.009710145,
            0.0005453533,
            0.0385172315,
            0.0004474245,
            0.0010815951,
            0.0010174582,
            0.0035727236,
            0.0005218359,
            0.008704413,
            0.0003238619,
            0.0006963815,
            0.0002002315,
            0.068742392,
            0.0459216012,
            0.0004193583,
            0.0001594974,
            0.0008368741,
            0.005439095,
            0.0653554527,
            0.0001942294,
            0.0034668496,
            0.0147527342,
            0.0109793678,
            0.0135608121,
            0.000421705,
            0.0028599567,
            0.0097781823,
            0.0011257492,
            0.0008498571,
            0.0890612122,
            0.0755823485,
            0.00021472,
            0.0132609228,
            0.0093372851,
            0.0041654081,
            0.005317439,
            0.0001938702,
            0.0161945247,
            0.0001107098,
            0.0003160663,
            0.0003163941,
            0.0325026737,
            0.0001855804,
            0.0245539028,
            0.0213580317,
            0.0015584631,
            0.0003344922,
            0.0001108379,
            0.0004568374,
            0.0001598526,
            0.000324881,
            0.0194689583,
            0.0005118467,
            0.0028996033,
            0.0810217245,
            0.005929586,
            0.0001747785,
            0.0002658807,
            0.0062441451,
            0.0719303517,
            0.0010181993,
            0.0001029109,
            0.0002059397,
            0.0732586172,
            0.0001559963,
            0.0008680019,
            0.0362749765,
            0.0013597421,
            0.0002099482,
            0.0001233164,
            0.0860221986,
            0.009515493,
            0.0011645635,
            0.0307801279,
            0.0023682839,
            0.0001022756,
            0.0094693763
           ]
          },
          {
           "label": "config.epochs",
           "values": [
            15,
            20,
            5,
            10,
            20,
            15,
            20,
            20,
            20,
            15,
            20,
            10,
            15,
            10,
            5,
            10,
            20,
            5,
            20,
            15,
            10,
            10,
            10,
            15,
            15,
            10,
            10,
            20,
            15,
            20,
            10,
            20,
            20,
            20,
            20,
            10,
            15,
            15,
            20,
            15,
            20,
            10,
            20,
            10,
            5,
            20,
            15,
            5,
            10,
            15,
            15,
            5,
            10,
            20,
            5,
            15,
            5,
            20,
            15,
            5,
            5,
            15,
            15,
            10,
            15,
            15,
            20,
            5,
            10,
            20,
            10,
            20,
            5,
            15,
            5,
            15,
            5,
            10,
            20,
            20,
            20,
            20,
            20,
            20,
            10,
            20,
            20,
            15,
            10,
            10,
            5,
            15,
            15,
            5,
            10,
            15,
            15,
            15,
            15,
            10,
            5,
            20,
            10,
            15,
            10,
            5,
            20,
            20,
            20,
            15,
            10,
            15,
            15,
            10,
            5,
            5,
            5,
            5,
            15,
            15
           ]
          }
         ],
         "domain": {
          "x": [
           0,
           1
          ],
          "y": [
           0,
           1
          ]
         },
         "line": {
          "color": [
           0.2865793067,
           0.6176269482,
           0.6307143838,
           0.4082562381,
           0.5011176622,
           0.9613519882,
           0.4695414562,
           0.3006130631,
           0.3216324878,
           0.4212333912,
           0.3917333037,
           0.2992533182,
           0.3104371534,
           0.6804965836,
           0.6570187619,
           0.2553499437,
           0.3351897239,
           0.5803725206,
           0.5770196014,
           0.2732864955,
           0.3150617024,
           0.6568487429,
           0.3285101124,
           0.429241879,
           0.327930681,
           0.3096485276,
           0.3585380695,
           0.5869237257,
           0.5374477379,
           0.4675670938,
           0.3198876383,
           0.431536994,
           0.3811126202,
           0.2390565928,
           0.2523505783,
           1.0110636629,
           0.5365596423,
           0.5258721427,
           0.3362450886,
           0.2626181694,
           0.2649743134,
           2.0347138466,
           0.3350800805,
           0.2731134945,
           0.6946325185,
           0.2823381712,
           0.5073133642,
           1.0401662518,
           0.7183230583,
           0.3536274971,
           0.42287742,
           0.3943161369,
           1.7162677494,
           0.5021755849,
           1.0088208264,
           0.2318781703,
           0.2552632769,
           0.7134454231,
           0.5311081785,
           1.7054811818,
           0.4355315961,
           0.2876948324,
           0.6402731426,
           0.4897064354,
           0.3328697005,
           0.3395116676,
           0.2591999254,
           0.605658234,
           0.5167533822,
           0.2317762164,
           0.6294913993,
           0.3454357112,
           0.2449457916,
           0.3975492737,
           1.7607387349,
           0.2285744596,
           0.3854973169,
           0.2868903545,
           0.371067576,
           0.5886779117,
           0.2778955309,
           1.1230605105,
           0.848977373,
           0.9603173175,
           0.2435529508,
           0.6069817296,
           0.2532269282,
           0.2903978883,
           0.359354878,
           0.6431633294,
           1.5411956808,
           0.4289955772,
           0.6820780001,
           2.1532130875,
           0.2401117879,
           0.4964080602,
           0.4514567002,
           0.2481335212,
           0.3003292416,
           0.6126476991,
           2.0870003548,
           0.310774194,
           0.2301312829,
           0.4120763039,
           0.9998593507,
           0.7725307516,
           0.2776326655,
           0.8580366747,
           0.3976801661,
           0.2806753649,
           0.4887313493,
           1.7866174629,
           2.1643249152,
           0.2386840169,
           0.3919392549,
           0.643717542,
           0.2994038763,
           0.3892964485,
           2.0890437339,
           0.3192331038
          ],
          "coloraxis": "coloraxis"
         },
         "name": "",
         "type": "parcoords"
        }
       ],
       "layout": {
        "coloraxis": {
         "colorbar": {
          "title": {
           "text": "mean_val_loss"
          }
         },
         "colorscale": [
          [
           0,
           "#0d0887"
          ],
          [
           0.1111111111111111,
           "#46039f"
          ],
          [
           0.2222222222222222,
           "#7201a8"
          ],
          [
           0.3333333333333333,
           "#9c179e"
          ],
          [
           0.4444444444444444,
           "#bd3786"
          ],
          [
           0.5555555555555556,
           "#d8576b"
          ],
          [
           0.6666666666666666,
           "#ed7953"
          ],
          [
           0.7777777777777778,
           "#fb9f3a"
          ],
          [
           0.8888888888888888,
           "#fdca26"
          ],
          [
           1,
           "#f0f921"
          ]
         ]
        },
        "legend": {
         "tracegroupgap": 0
        },
        "template": {
         "data": {
          "bar": [
           {
            "error_x": {
             "color": "#2a3f5f"
            },
            "error_y": {
             "color": "#2a3f5f"
            },
            "marker": {
             "line": {
              "color": "white",
              "width": 0.5
             },
             "pattern": {
              "fillmode": "overlay",
              "size": 10,
              "solidity": 0.2
             }
            },
            "type": "bar"
           }
          ],
          "barpolar": [
           {
            "marker": {
             "line": {
              "color": "white",
              "width": 0.5
             },
             "pattern": {
              "fillmode": "overlay",
              "size": 10,
              "solidity": 0.2
             }
            },
            "type": "barpolar"
           }
          ],
          "carpet": [
           {
            "aaxis": {
             "endlinecolor": "#2a3f5f",
             "gridcolor": "#C8D4E3",
             "linecolor": "#C8D4E3",
             "minorgridcolor": "#C8D4E3",
             "startlinecolor": "#2a3f5f"
            },
            "baxis": {
             "endlinecolor": "#2a3f5f",
             "gridcolor": "#C8D4E3",
             "linecolor": "#C8D4E3",
             "minorgridcolor": "#C8D4E3",
             "startlinecolor": "#2a3f5f"
            },
            "type": "carpet"
           }
          ],
          "choropleth": [
           {
            "colorbar": {
             "outlinewidth": 0,
             "ticks": ""
            },
            "type": "choropleth"
           }
          ],
          "contour": [
           {
            "colorbar": {
             "outlinewidth": 0,
             "ticks": ""
            },
            "colorscale": [
             [
              0,
              "#0d0887"
             ],
             [
              0.1111111111111111,
              "#46039f"
             ],
             [
              0.2222222222222222,
              "#7201a8"
             ],
             [
              0.3333333333333333,
              "#9c179e"
             ],
             [
              0.4444444444444444,
              "#bd3786"
             ],
             [
              0.5555555555555556,
              "#d8576b"
             ],
             [
              0.6666666666666666,
              "#ed7953"
             ],
             [
              0.7777777777777778,
              "#fb9f3a"
             ],
             [
              0.8888888888888888,
              "#fdca26"
             ],
             [
              1,
              "#f0f921"
             ]
            ],
            "type": "contour"
           }
          ],
          "contourcarpet": [
           {
            "colorbar": {
             "outlinewidth": 0,
             "ticks": ""
            },
            "type": "contourcarpet"
           }
          ],
          "heatmap": [
           {
            "colorbar": {
             "outlinewidth": 0,
             "ticks": ""
            },
            "colorscale": [
             [
              0,
              "#0d0887"
             ],
             [
              0.1111111111111111,
              "#46039f"
             ],
             [
              0.2222222222222222,
              "#7201a8"
             ],
             [
              0.3333333333333333,
              "#9c179e"
             ],
             [
              0.4444444444444444,
              "#bd3786"
             ],
             [
              0.5555555555555556,
              "#d8576b"
             ],
             [
              0.6666666666666666,
              "#ed7953"
             ],
             [
              0.7777777777777778,
              "#fb9f3a"
             ],
             [
              0.8888888888888888,
              "#fdca26"
             ],
             [
              1,
              "#f0f921"
             ]
            ],
            "type": "heatmap"
           }
          ],
          "heatmapgl": [
           {
            "colorbar": {
             "outlinewidth": 0,
             "ticks": ""
            },
            "colorscale": [
             [
              0,
              "#0d0887"
             ],
             [
              0.1111111111111111,
              "#46039f"
             ],
             [
              0.2222222222222222,
              "#7201a8"
             ],
             [
              0.3333333333333333,
              "#9c179e"
             ],
             [
              0.4444444444444444,
              "#bd3786"
             ],
             [
              0.5555555555555556,
              "#d8576b"
             ],
             [
              0.6666666666666666,
              "#ed7953"
             ],
             [
              0.7777777777777778,
              "#fb9f3a"
             ],
             [
              0.8888888888888888,
              "#fdca26"
             ],
             [
              1,
              "#f0f921"
             ]
            ],
            "type": "heatmapgl"
           }
          ],
          "histogram": [
           {
            "marker": {
             "pattern": {
              "fillmode": "overlay",
              "size": 10,
              "solidity": 0.2
             }
            },
            "type": "histogram"
           }
          ],
          "histogram2d": [
           {
            "colorbar": {
             "outlinewidth": 0,
             "ticks": ""
            },
            "colorscale": [
             [
              0,
              "#0d0887"
             ],
             [
              0.1111111111111111,
              "#46039f"
             ],
             [
              0.2222222222222222,
              "#7201a8"
             ],
             [
              0.3333333333333333,
              "#9c179e"
             ],
             [
              0.4444444444444444,
              "#bd3786"
             ],
             [
              0.5555555555555556,
              "#d8576b"
             ],
             [
              0.6666666666666666,
              "#ed7953"
             ],
             [
              0.7777777777777778,
              "#fb9f3a"
             ],
             [
              0.8888888888888888,
              "#fdca26"
             ],
             [
              1,
              "#f0f921"
             ]
            ],
            "type": "histogram2d"
           }
          ],
          "histogram2dcontour": [
           {
            "colorbar": {
             "outlinewidth": 0,
             "ticks": ""
            },
            "colorscale": [
             [
              0,
              "#0d0887"
             ],
             [
              0.1111111111111111,
              "#46039f"
             ],
             [
              0.2222222222222222,
              "#7201a8"
             ],
             [
              0.3333333333333333,
              "#9c179e"
             ],
             [
              0.4444444444444444,
              "#bd3786"
             ],
             [
              0.5555555555555556,
              "#d8576b"
             ],
             [
              0.6666666666666666,
              "#ed7953"
             ],
             [
              0.7777777777777778,
              "#fb9f3a"
             ],
             [
              0.8888888888888888,
              "#fdca26"
             ],
             [
              1,
              "#f0f921"
             ]
            ],
            "type": "histogram2dcontour"
           }
          ],
          "mesh3d": [
           {
            "colorbar": {
             "outlinewidth": 0,
             "ticks": ""
            },
            "type": "mesh3d"
           }
          ],
          "parcoords": [
           {
            "line": {
             "colorbar": {
              "outlinewidth": 0,
              "ticks": ""
             }
            },
            "type": "parcoords"
           }
          ],
          "pie": [
           {
            "automargin": true,
            "type": "pie"
           }
          ],
          "scatter": [
           {
            "fillpattern": {
             "fillmode": "overlay",
             "size": 10,
             "solidity": 0.2
            },
            "type": "scatter"
           }
          ],
          "scatter3d": [
           {
            "line": {
             "colorbar": {
              "outlinewidth": 0,
              "ticks": ""
             }
            },
            "marker": {
             "colorbar": {
              "outlinewidth": 0,
              "ticks": ""
             }
            },
            "type": "scatter3d"
           }
          ],
          "scattercarpet": [
           {
            "marker": {
             "colorbar": {
              "outlinewidth": 0,
              "ticks": ""
             }
            },
            "type": "scattercarpet"
           }
          ],
          "scattergeo": [
           {
            "marker": {
             "colorbar": {
              "outlinewidth": 0,
              "ticks": ""
             }
            },
            "type": "scattergeo"
           }
          ],
          "scattergl": [
           {
            "marker": {
             "colorbar": {
              "outlinewidth": 0,
              "ticks": ""
             }
            },
            "type": "scattergl"
           }
          ],
          "scattermapbox": [
           {
            "marker": {
             "colorbar": {
              "outlinewidth": 0,
              "ticks": ""
             }
            },
            "type": "scattermapbox"
           }
          ],
          "scatterpolar": [
           {
            "marker": {
             "colorbar": {
              "outlinewidth": 0,
              "ticks": ""
             }
            },
            "type": "scatterpolar"
           }
          ],
          "scatterpolargl": [
           {
            "marker": {
             "colorbar": {
              "outlinewidth": 0,
              "ticks": ""
             }
            },
            "type": "scatterpolargl"
           }
          ],
          "scatterternary": [
           {
            "marker": {
             "colorbar": {
              "outlinewidth": 0,
              "ticks": ""
             }
            },
            "type": "scatterternary"
           }
          ],
          "surface": [
           {
            "colorbar": {
             "outlinewidth": 0,
             "ticks": ""
            },
            "colorscale": [
             [
              0,
              "#0d0887"
             ],
             [
              0.1111111111111111,
              "#46039f"
             ],
             [
              0.2222222222222222,
              "#7201a8"
             ],
             [
              0.3333333333333333,
              "#9c179e"
             ],
             [
              0.4444444444444444,
              "#bd3786"
             ],
             [
              0.5555555555555556,
              "#d8576b"
             ],
             [
              0.6666666666666666,
              "#ed7953"
             ],
             [
              0.7777777777777778,
              "#fb9f3a"
             ],
             [
              0.8888888888888888,
              "#fdca26"
             ],
             [
              1,
              "#f0f921"
             ]
            ],
            "type": "surface"
           }
          ],
          "table": [
           {
            "cells": {
             "fill": {
              "color": "#EBF0F8"
             },
             "line": {
              "color": "white"
             }
            },
            "header": {
             "fill": {
              "color": "#C8D4E3"
             },
             "line": {
              "color": "white"
             }
            },
            "type": "table"
           }
          ]
         },
         "layout": {
          "annotationdefaults": {
           "arrowcolor": "#2a3f5f",
           "arrowhead": 0,
           "arrowwidth": 1
          },
          "autotypenumbers": "strict",
          "coloraxis": {
           "colorbar": {
            "outlinewidth": 0,
            "ticks": ""
           }
          },
          "colorscale": {
           "diverging": [
            [
             0,
             "#8e0152"
            ],
            [
             0.1,
             "#c51b7d"
            ],
            [
             0.2,
             "#de77ae"
            ],
            [
             0.3,
             "#f1b6da"
            ],
            [
             0.4,
             "#fde0ef"
            ],
            [
             0.5,
             "#f7f7f7"
            ],
            [
             0.6,
             "#e6f5d0"
            ],
            [
             0.7,
             "#b8e186"
            ],
            [
             0.8,
             "#7fbc41"
            ],
            [
             0.9,
             "#4d9221"
            ],
            [
             1,
             "#276419"
            ]
           ],
           "sequential": [
            [
             0,
             "#0d0887"
            ],
            [
             0.1111111111111111,
             "#46039f"
            ],
            [
             0.2222222222222222,
             "#7201a8"
            ],
            [
             0.3333333333333333,
             "#9c179e"
            ],
            [
             0.4444444444444444,
             "#bd3786"
            ],
            [
             0.5555555555555556,
             "#d8576b"
            ],
            [
             0.6666666666666666,
             "#ed7953"
            ],
            [
             0.7777777777777778,
             "#fb9f3a"
            ],
            [
             0.8888888888888888,
             "#fdca26"
            ],
            [
             1,
             "#f0f921"
            ]
           ],
           "sequentialminus": [
            [
             0,
             "#0d0887"
            ],
            [
             0.1111111111111111,
             "#46039f"
            ],
            [
             0.2222222222222222,
             "#7201a8"
            ],
            [
             0.3333333333333333,
             "#9c179e"
            ],
            [
             0.4444444444444444,
             "#bd3786"
            ],
            [
             0.5555555555555556,
             "#d8576b"
            ],
            [
             0.6666666666666666,
             "#ed7953"
            ],
            [
             0.7777777777777778,
             "#fb9f3a"
            ],
            [
             0.8888888888888888,
             "#fdca26"
            ],
            [
             1,
             "#f0f921"
            ]
           ]
          },
          "colorway": [
           "#636efa",
           "#EF553B",
           "#00cc96",
           "#ab63fa",
           "#FFA15A",
           "#19d3f3",
           "#FF6692",
           "#B6E880",
           "#FF97FF",
           "#FECB52"
          ],
          "font": {
           "color": "#2a3f5f"
          },
          "geo": {
           "bgcolor": "white",
           "lakecolor": "white",
           "landcolor": "white",
           "showlakes": true,
           "showland": true,
           "subunitcolor": "#C8D4E3"
          },
          "hoverlabel": {
           "align": "left"
          },
          "hovermode": "closest",
          "mapbox": {
           "style": "light"
          },
          "paper_bgcolor": "white",
          "plot_bgcolor": "white",
          "polar": {
           "angularaxis": {
            "gridcolor": "#EBF0F8",
            "linecolor": "#EBF0F8",
            "ticks": ""
           },
           "bgcolor": "white",
           "radialaxis": {
            "gridcolor": "#EBF0F8",
            "linecolor": "#EBF0F8",
            "ticks": ""
           }
          },
          "scene": {
           "xaxis": {
            "backgroundcolor": "white",
            "gridcolor": "#DFE8F3",
            "gridwidth": 2,
            "linecolor": "#EBF0F8",
            "showbackground": true,
            "ticks": "",
            "zerolinecolor": "#EBF0F8"
           },
           "yaxis": {
            "backgroundcolor": "white",
            "gridcolor": "#DFE8F3",
            "gridwidth": 2,
            "linecolor": "#EBF0F8",
            "showbackground": true,
            "ticks": "",
            "zerolinecolor": "#EBF0F8"
           },
           "zaxis": {
            "backgroundcolor": "white",
            "gridcolor": "#DFE8F3",
            "gridwidth": 2,
            "linecolor": "#EBF0F8",
            "showbackground": true,
            "ticks": "",
            "zerolinecolor": "#EBF0F8"
           }
          },
          "shapedefaults": {
           "line": {
            "color": "#2a3f5f"
           }
          },
          "ternary": {
           "aaxis": {
            "gridcolor": "#DFE8F3",
            "linecolor": "#A2B1C6",
            "ticks": ""
           },
           "baxis": {
            "gridcolor": "#DFE8F3",
            "linecolor": "#A2B1C6",
            "ticks": ""
           },
           "bgcolor": "white",
           "caxis": {
            "gridcolor": "#DFE8F3",
            "linecolor": "#A2B1C6",
            "ticks": ""
           }
          },
          "title": {
           "x": 0.05
          },
          "xaxis": {
           "automargin": true,
           "gridcolor": "#EBF0F8",
           "linecolor": "#EBF0F8",
           "ticks": "",
           "title": {
            "standoff": 15
           },
           "zerolinecolor": "#EBF0F8",
           "zerolinewidth": 2
          },
          "yaxis": {
           "automargin": true,
           "gridcolor": "#EBF0F8",
           "linecolor": "#EBF0F8",
           "ticks": "",
           "title": {
            "standoff": 15
           },
           "zerolinecolor": "#EBF0F8",
           "zerolinewidth": 2
          }
         }
        },
        "title": {
         "text": "Random Search Trial Configurations - Loguniform"
        },
        "width": 900
       }
      },
      "text/html": [
       "<div>                            <div id=\"386d7069-5345-4daa-9146-2da78af5dc0e\" class=\"plotly-graph-div\" style=\"height:525px; width:900px;\"></div>            <script type=\"text/javascript\">                require([\"plotly\"], function(Plotly) {                    window.PLOTLYENV=window.PLOTLYENV || {};                                    if (document.getElementById(\"386d7069-5345-4daa-9146-2da78af5dc0e\")) {                    Plotly.newPlot(                        \"386d7069-5345-4daa-9146-2da78af5dc0e\",                        [{\"dimensions\":[{\"label\":\"config.l1\",\"values\":[64,128,32,128,64,32,32,32,64,64,128,64,256,32,64,32,256,64,32,32,128,32,64,256,256,128,256,256,64,32,128,64,128,32,128,256,128,64,64,64,32,256,256,256,128,64,32,64,64,256,32,128,32,256,256,256,128,256,256,64,256,32,32,256,128,64,256,64,64,256,128,128,64,256,256,256,128,128,64,64,128,128,64,64,256,32,256,64,128,128,128,256,128,32,64,64,256,128,256,128,256,128,256,32,32,256,256,256,128,64,256,256,32,256,64,64,128,32,64,32]},{\"label\":\"config.batch_size\",\"values\":[64,32,128,128,16,64,32,16,16,128,32,32,32,128,32,16,64,32,32,32,16,32,128,64,64,32,128,32,64,16,128,32,32,32,16,64,16,32,32,16,64,128,32,32,32,32,32,128,128,64,16,64,128,64,32,128,32,128,16,128,64,32,32,128,128,128,16,16,128,32,128,16,32,16,64,16,64,16,128,32,64,64,128,128,32,32,32,128,16,32,16,16,32,128,32,32,128,64,32,16,64,64,64,32,32,16,64,64,32,16,64,128,128,32,64,64,32,16,64,64]},{\"label\":\"config.learning_rate\",\"values\":[0.012029425,0.0001509928,0.0026733113,0.0063921715,0.0002117799,0.0001339634,0.0004301466,0.0246447249,0.0012886338,0.0042373574,0.0012077727,0.0072791116,0.0034498598,0.0010063242,0.0004806511,0.0130056913,0.0031308279,0.0009605981,0.0002169243,0.0068498791,0.0027600615,0.0002537456,0.0252305352,0.0018919461,0.0062023169,0.0049881673,0.0124608798,0.0001801662,0.0008772311,0.0002337745,0.0289070673,0.0006200741,0.0673012686,0.0221708674,0.0122694749,0.0001986152,0.0001931117,0.0004893427,0.0021347291,0.0317247778,0.015439489,0.0002299171,0.0530352383,0.009710145,0.0005453533,0.0385172315,0.0004474245,0.0010815951,0.0010174582,0.0035727236,0.0005218359,0.008704413,0.0003238619,0.0006963815,0.0002002315,0.068742392,0.0459216012,0.0004193583,0.0001594974,0.0008368741,0.005439095,0.0653554527,0.0001942294,0.0034668496,0.0147527342,0.0109793678,0.0135608121,0.000421705,0.0028599567,0.0097781823,0.0011257492,0.0008498571,0.0890612122,0.0755823485,0.00021472,0.0132609228,0.0093372851,0.0041654081,0.005317439,0.0001938702,0.0161945247,0.0001107098,0.0003160663,0.0003163941,0.0325026737,0.0001855804,0.0245539028,0.0213580317,0.0015584631,0.0003344922,0.0001108379,0.0004568374,0.0001598526,0.000324881,0.0194689583,0.0005118467,0.0028996033,0.0810217245,0.005929586,0.0001747785,0.0002658807,0.0062441451,0.0719303517,0.0010181993,0.0001029109,0.0002059397,0.0732586172,0.0001559963,0.0008680019,0.0362749765,0.0013597421,0.0002099482,0.0001233164,0.0860221986,0.009515493,0.0011645635,0.0307801279,0.0023682839,0.0001022756,0.0094693763]},{\"label\":\"config.epochs\",\"values\":[15,20,5,10,20,15,20,20,20,15,20,10,15,10,5,10,20,5,20,15,10,10,10,15,15,10,10,20,15,20,10,20,20,20,20,10,15,15,20,15,20,10,20,10,5,20,15,5,10,15,15,5,10,20,5,15,5,20,15,5,5,15,15,10,15,15,20,5,10,20,10,20,5,15,5,15,5,10,20,20,20,20,20,20,10,20,20,15,10,10,5,15,15,5,10,15,15,15,15,10,5,20,10,15,10,5,20,20,20,15,10,15,15,10,5,5,5,5,15,15]}],\"domain\":{\"x\":[0.0,1.0],\"y\":[0.0,1.0]},\"line\":{\"color\":[0.2865793067,0.6176269482,0.6307143838,0.4082562381,0.5011176622,0.9613519882,0.4695414562,0.3006130631,0.3216324878,0.4212333912,0.3917333037,0.2992533182,0.3104371534,0.6804965836,0.6570187619,0.2553499437,0.3351897239,0.5803725206,0.5770196014,0.2732864955,0.3150617024,0.6568487429,0.3285101124,0.429241879,0.327930681,0.3096485276,0.3585380695,0.5869237257,0.5374477379,0.4675670938,0.3198876383,0.431536994,0.3811126202,0.2390565928,0.2523505783,1.0110636629,0.5365596423,0.5258721427,0.3362450886,0.2626181694,0.2649743134,2.0347138466,0.3350800805,0.2731134945,0.6946325185,0.2823381712,0.5073133642,1.0401662518,0.7183230583,0.3536274971,0.42287742,0.3943161369,1.7162677494,0.5021755849,1.0088208264,0.2318781703,0.2552632769,0.7134454231,0.5311081785,1.7054811818,0.4355315961,0.2876948324,0.6402731426,0.4897064354,0.3328697005,0.3395116676,0.2591999254,0.605658234,0.5167533822,0.2317762164,0.6294913993,0.3454357112,0.2449457916,0.3975492737,1.7607387349,0.2285744596,0.3854973169,0.2868903545,0.371067576,0.5886779117,0.2778955309,1.1230605105,0.848977373,0.9603173175,0.2435529508,0.6069817296,0.2532269282,0.2903978883,0.359354878,0.6431633294,1.5411956808,0.4289955772,0.6820780001,2.1532130875,0.2401117879,0.4964080602,0.4514567002,0.2481335212,0.3003292416,0.6126476991,2.0870003548,0.310774194,0.2301312829,0.4120763039,0.9998593507,0.7725307516,0.2776326655,0.8580366747,0.3976801661,0.2806753649,0.4887313493,1.7866174629,2.1643249152,0.2386840169,0.3919392549,0.643717542,0.2994038763,0.3892964485,2.0890437339,0.3192331038],\"coloraxis\":\"coloraxis\"},\"name\":\"\",\"type\":\"parcoords\"}],                        {\"template\":{\"data\":{\"histogram2dcontour\":[{\"type\":\"histogram2dcontour\",\"colorbar\":{\"outlinewidth\":0,\"ticks\":\"\"},\"colorscale\":[[0.0,\"#0d0887\"],[0.1111111111111111,\"#46039f\"],[0.2222222222222222,\"#7201a8\"],[0.3333333333333333,\"#9c179e\"],[0.4444444444444444,\"#bd3786\"],[0.5555555555555556,\"#d8576b\"],[0.6666666666666666,\"#ed7953\"],[0.7777777777777778,\"#fb9f3a\"],[0.8888888888888888,\"#fdca26\"],[1.0,\"#f0f921\"]]}],\"choropleth\":[{\"type\":\"choropleth\",\"colorbar\":{\"outlinewidth\":0,\"ticks\":\"\"}}],\"histogram2d\":[{\"type\":\"histogram2d\",\"colorbar\":{\"outlinewidth\":0,\"ticks\":\"\"},\"colorscale\":[[0.0,\"#0d0887\"],[0.1111111111111111,\"#46039f\"],[0.2222222222222222,\"#7201a8\"],[0.3333333333333333,\"#9c179e\"],[0.4444444444444444,\"#bd3786\"],[0.5555555555555556,\"#d8576b\"],[0.6666666666666666,\"#ed7953\"],[0.7777777777777778,\"#fb9f3a\"],[0.8888888888888888,\"#fdca26\"],[1.0,\"#f0f921\"]]}],\"heatmap\":[{\"type\":\"heatmap\",\"colorbar\":{\"outlinewidth\":0,\"ticks\":\"\"},\"colorscale\":[[0.0,\"#0d0887\"],[0.1111111111111111,\"#46039f\"],[0.2222222222222222,\"#7201a8\"],[0.3333333333333333,\"#9c179e\"],[0.4444444444444444,\"#bd3786\"],[0.5555555555555556,\"#d8576b\"],[0.6666666666666666,\"#ed7953\"],[0.7777777777777778,\"#fb9f3a\"],[0.8888888888888888,\"#fdca26\"],[1.0,\"#f0f921\"]]}],\"heatmapgl\":[{\"type\":\"heatmapgl\",\"colorbar\":{\"outlinewidth\":0,\"ticks\":\"\"},\"colorscale\":[[0.0,\"#0d0887\"],[0.1111111111111111,\"#46039f\"],[0.2222222222222222,\"#7201a8\"],[0.3333333333333333,\"#9c179e\"],[0.4444444444444444,\"#bd3786\"],[0.5555555555555556,\"#d8576b\"],[0.6666666666666666,\"#ed7953\"],[0.7777777777777778,\"#fb9f3a\"],[0.8888888888888888,\"#fdca26\"],[1.0,\"#f0f921\"]]}],\"contourcarpet\":[{\"type\":\"contourcarpet\",\"colorbar\":{\"outlinewidth\":0,\"ticks\":\"\"}}],\"contour\":[{\"type\":\"contour\",\"colorbar\":{\"outlinewidth\":0,\"ticks\":\"\"},\"colorscale\":[[0.0,\"#0d0887\"],[0.1111111111111111,\"#46039f\"],[0.2222222222222222,\"#7201a8\"],[0.3333333333333333,\"#9c179e\"],[0.4444444444444444,\"#bd3786\"],[0.5555555555555556,\"#d8576b\"],[0.6666666666666666,\"#ed7953\"],[0.7777777777777778,\"#fb9f3a\"],[0.8888888888888888,\"#fdca26\"],[1.0,\"#f0f921\"]]}],\"surface\":[{\"type\":\"surface\",\"colorbar\":{\"outlinewidth\":0,\"ticks\":\"\"},\"colorscale\":[[0.0,\"#0d0887\"],[0.1111111111111111,\"#46039f\"],[0.2222222222222222,\"#7201a8\"],[0.3333333333333333,\"#9c179e\"],[0.4444444444444444,\"#bd3786\"],[0.5555555555555556,\"#d8576b\"],[0.6666666666666666,\"#ed7953\"],[0.7777777777777778,\"#fb9f3a\"],[0.8888888888888888,\"#fdca26\"],[1.0,\"#f0f921\"]]}],\"mesh3d\":[{\"type\":\"mesh3d\",\"colorbar\":{\"outlinewidth\":0,\"ticks\":\"\"}}],\"scatter\":[{\"fillpattern\":{\"fillmode\":\"overlay\",\"size\":10,\"solidity\":0.2},\"type\":\"scatter\"}],\"parcoords\":[{\"type\":\"parcoords\",\"line\":{\"colorbar\":{\"outlinewidth\":0,\"ticks\":\"\"}}}],\"scatterpolargl\":[{\"type\":\"scatterpolargl\",\"marker\":{\"colorbar\":{\"outlinewidth\":0,\"ticks\":\"\"}}}],\"bar\":[{\"error_x\":{\"color\":\"#2a3f5f\"},\"error_y\":{\"color\":\"#2a3f5f\"},\"marker\":{\"line\":{\"color\":\"white\",\"width\":0.5},\"pattern\":{\"fillmode\":\"overlay\",\"size\":10,\"solidity\":0.2}},\"type\":\"bar\"}],\"scattergeo\":[{\"type\":\"scattergeo\",\"marker\":{\"colorbar\":{\"outlinewidth\":0,\"ticks\":\"\"}}}],\"scatterpolar\":[{\"type\":\"scatterpolar\",\"marker\":{\"colorbar\":{\"outlinewidth\":0,\"ticks\":\"\"}}}],\"histogram\":[{\"marker\":{\"pattern\":{\"fillmode\":\"overlay\",\"size\":10,\"solidity\":0.2}},\"type\":\"histogram\"}],\"scattergl\":[{\"type\":\"scattergl\",\"marker\":{\"colorbar\":{\"outlinewidth\":0,\"ticks\":\"\"}}}],\"scatter3d\":[{\"type\":\"scatter3d\",\"line\":{\"colorbar\":{\"outlinewidth\":0,\"ticks\":\"\"}},\"marker\":{\"colorbar\":{\"outlinewidth\":0,\"ticks\":\"\"}}}],\"scattermapbox\":[{\"type\":\"scattermapbox\",\"marker\":{\"colorbar\":{\"outlinewidth\":0,\"ticks\":\"\"}}}],\"scatterternary\":[{\"type\":\"scatterternary\",\"marker\":{\"colorbar\":{\"outlinewidth\":0,\"ticks\":\"\"}}}],\"scattercarpet\":[{\"type\":\"scattercarpet\",\"marker\":{\"colorbar\":{\"outlinewidth\":0,\"ticks\":\"\"}}}],\"carpet\":[{\"aaxis\":{\"endlinecolor\":\"#2a3f5f\",\"gridcolor\":\"#C8D4E3\",\"linecolor\":\"#C8D4E3\",\"minorgridcolor\":\"#C8D4E3\",\"startlinecolor\":\"#2a3f5f\"},\"baxis\":{\"endlinecolor\":\"#2a3f5f\",\"gridcolor\":\"#C8D4E3\",\"linecolor\":\"#C8D4E3\",\"minorgridcolor\":\"#C8D4E3\",\"startlinecolor\":\"#2a3f5f\"},\"type\":\"carpet\"}],\"table\":[{\"cells\":{\"fill\":{\"color\":\"#EBF0F8\"},\"line\":{\"color\":\"white\"}},\"header\":{\"fill\":{\"color\":\"#C8D4E3\"},\"line\":{\"color\":\"white\"}},\"type\":\"table\"}],\"barpolar\":[{\"marker\":{\"line\":{\"color\":\"white\",\"width\":0.5},\"pattern\":{\"fillmode\":\"overlay\",\"size\":10,\"solidity\":0.2}},\"type\":\"barpolar\"}],\"pie\":[{\"automargin\":true,\"type\":\"pie\"}]},\"layout\":{\"autotypenumbers\":\"strict\",\"colorway\":[\"#636efa\",\"#EF553B\",\"#00cc96\",\"#ab63fa\",\"#FFA15A\",\"#19d3f3\",\"#FF6692\",\"#B6E880\",\"#FF97FF\",\"#FECB52\"],\"font\":{\"color\":\"#2a3f5f\"},\"hovermode\":\"closest\",\"hoverlabel\":{\"align\":\"left\"},\"paper_bgcolor\":\"white\",\"plot_bgcolor\":\"white\",\"polar\":{\"bgcolor\":\"white\",\"angularaxis\":{\"gridcolor\":\"#EBF0F8\",\"linecolor\":\"#EBF0F8\",\"ticks\":\"\"},\"radialaxis\":{\"gridcolor\":\"#EBF0F8\",\"linecolor\":\"#EBF0F8\",\"ticks\":\"\"}},\"ternary\":{\"bgcolor\":\"white\",\"aaxis\":{\"gridcolor\":\"#DFE8F3\",\"linecolor\":\"#A2B1C6\",\"ticks\":\"\"},\"baxis\":{\"gridcolor\":\"#DFE8F3\",\"linecolor\":\"#A2B1C6\",\"ticks\":\"\"},\"caxis\":{\"gridcolor\":\"#DFE8F3\",\"linecolor\":\"#A2B1C6\",\"ticks\":\"\"}},\"coloraxis\":{\"colorbar\":{\"outlinewidth\":0,\"ticks\":\"\"}},\"colorscale\":{\"sequential\":[[0.0,\"#0d0887\"],[0.1111111111111111,\"#46039f\"],[0.2222222222222222,\"#7201a8\"],[0.3333333333333333,\"#9c179e\"],[0.4444444444444444,\"#bd3786\"],[0.5555555555555556,\"#d8576b\"],[0.6666666666666666,\"#ed7953\"],[0.7777777777777778,\"#fb9f3a\"],[0.8888888888888888,\"#fdca26\"],[1.0,\"#f0f921\"]],\"sequentialminus\":[[0.0,\"#0d0887\"],[0.1111111111111111,\"#46039f\"],[0.2222222222222222,\"#7201a8\"],[0.3333333333333333,\"#9c179e\"],[0.4444444444444444,\"#bd3786\"],[0.5555555555555556,\"#d8576b\"],[0.6666666666666666,\"#ed7953\"],[0.7777777777777778,\"#fb9f3a\"],[0.8888888888888888,\"#fdca26\"],[1.0,\"#f0f921\"]],\"diverging\":[[0,\"#8e0152\"],[0.1,\"#c51b7d\"],[0.2,\"#de77ae\"],[0.3,\"#f1b6da\"],[0.4,\"#fde0ef\"],[0.5,\"#f7f7f7\"],[0.6,\"#e6f5d0\"],[0.7,\"#b8e186\"],[0.8,\"#7fbc41\"],[0.9,\"#4d9221\"],[1,\"#276419\"]]},\"xaxis\":{\"gridcolor\":\"#EBF0F8\",\"linecolor\":\"#EBF0F8\",\"ticks\":\"\",\"title\":{\"standoff\":15},\"zerolinecolor\":\"#EBF0F8\",\"automargin\":true,\"zerolinewidth\":2},\"yaxis\":{\"gridcolor\":\"#EBF0F8\",\"linecolor\":\"#EBF0F8\",\"ticks\":\"\",\"title\":{\"standoff\":15},\"zerolinecolor\":\"#EBF0F8\",\"automargin\":true,\"zerolinewidth\":2},\"scene\":{\"xaxis\":{\"backgroundcolor\":\"white\",\"gridcolor\":\"#DFE8F3\",\"linecolor\":\"#EBF0F8\",\"showbackground\":true,\"ticks\":\"\",\"zerolinecolor\":\"#EBF0F8\",\"gridwidth\":2},\"yaxis\":{\"backgroundcolor\":\"white\",\"gridcolor\":\"#DFE8F3\",\"linecolor\":\"#EBF0F8\",\"showbackground\":true,\"ticks\":\"\",\"zerolinecolor\":\"#EBF0F8\",\"gridwidth\":2},\"zaxis\":{\"backgroundcolor\":\"white\",\"gridcolor\":\"#DFE8F3\",\"linecolor\":\"#EBF0F8\",\"showbackground\":true,\"ticks\":\"\",\"zerolinecolor\":\"#EBF0F8\",\"gridwidth\":2}},\"shapedefaults\":{\"line\":{\"color\":\"#2a3f5f\"}},\"annotationdefaults\":{\"arrowcolor\":\"#2a3f5f\",\"arrowhead\":0,\"arrowwidth\":1},\"geo\":{\"bgcolor\":\"white\",\"landcolor\":\"white\",\"subunitcolor\":\"#C8D4E3\",\"showland\":true,\"showlakes\":true,\"lakecolor\":\"white\"},\"title\":{\"x\":0.05},\"mapbox\":{\"style\":\"light\"}}},\"coloraxis\":{\"colorbar\":{\"title\":{\"text\":\"mean_val_loss\"}},\"colorscale\":[[0.0,\"#0d0887\"],[0.1111111111111111,\"#46039f\"],[0.2222222222222222,\"#7201a8\"],[0.3333333333333333,\"#9c179e\"],[0.4444444444444444,\"#bd3786\"],[0.5555555555555556,\"#d8576b\"],[0.6666666666666666,\"#ed7953\"],[0.7777777777777778,\"#fb9f3a\"],[0.8888888888888888,\"#fdca26\"],[1.0,\"#f0f921\"]]},\"legend\":{\"tracegroupgap\":0},\"title\":{\"text\":\"Random Search Trial Configurations - Loguniform\"},\"width\":900},                        {\"responsive\": true}                    ).then(function(){\n",
       "                            \n",
       "var gd = document.getElementById('386d7069-5345-4daa-9146-2da78af5dc0e');\n",
       "var x = new MutationObserver(function (mutations, observer) {{\n",
       "        var display = window.getComputedStyle(gd).display;\n",
       "        if (!display || display === 'none') {{\n",
       "            console.log([gd, 'removed!']);\n",
       "            Plotly.purge(gd);\n",
       "            observer.disconnect();\n",
       "        }}\n",
       "}});\n",
       "\n",
       "// Listen for the removal of the full notebook cells\n",
       "var notebookContainer = gd.closest('#notebook-container');\n",
       "if (notebookContainer) {{\n",
       "    x.observe(notebookContainer, {childList: true});\n",
       "}}\n",
       "\n",
       "// Listen for the clearing of the current output cell\n",
       "var outputEl = gd.closest('.output');\n",
       "if (outputEl) {{\n",
       "    x.observe(outputEl, {childList: true});\n",
       "}}\n",
       "\n",
       "                        })                };                });            </script>        </div>"
      ]
     },
     "metadata": {},
     "output_type": "display_data"
    }
   ],
   "source": [
    "fig = px.parallel_coordinates(df_flat_e7_log, color=\"mean_val_loss\",\n",
    "                              title='Random Search Trial Configurations - Loguniform',\n",
    "                              dimensions=['config.l1', 'config.batch_size', 'config.learning_rate',\n",
    "                                          'config.epochs'], width=900)\n",
    "fig.show()"
   ]
  },
  {
   "cell_type": "markdown",
   "metadata": {
    "slideshow": {
     "slide_type": "subslide"
    }
   },
   "source": [
    "<div style=\"display: flex; justify-content: space-between; align-items: center; width: 100%;\">\n",
    "    <span style=\"color: #ff6900; font-size: 25px; font-weight: bold;\">Tested Configurations Overview</span>\n",
    "    <span style=\"text-align: right; font-size: 12px;\">Lena Hammerer | Luisa Ibele | Hanna Steinwender</span>\n",
    "</div>\n",
    "\n",
    "- **Random Search** provides a big picture perspective across the whole search space.\n",
    "- <span style=\"color: #ff6900;\">... why are there so many small _Learning Rate_ configurations tested?</span>"
   ]
  },
  {
   "cell_type": "code",
   "execution_count": 13,
   "metadata": {
    "slideshow": {
     "slide_type": "fragment"
    }
   },
   "outputs": [
    {
     "data": {
      "application/vnd.plotly.v1+json": {
       "config": {
        "plotlyServerURL": "https://plot.ly"
       },
       "data": [
        {
         "dimensions": [
          {
           "label": "config.l1",
           "values": [
            64,
            128,
            32,
            128,
            64,
            32,
            32,
            32,
            64,
            64,
            128,
            64,
            256,
            32,
            64,
            32,
            256,
            64,
            32,
            32,
            128,
            32,
            64,
            256,
            256,
            128,
            256,
            256,
            64,
            32,
            128,
            64,
            128,
            32,
            128,
            256,
            128,
            64,
            64,
            64,
            32,
            256,
            256,
            256,
            128,
            64,
            32,
            64,
            64,
            256,
            32,
            128,
            32,
            256,
            256,
            256,
            128,
            256,
            256,
            64,
            256,
            32,
            32,
            256,
            128,
            64,
            256,
            64,
            64,
            256,
            128,
            128,
            64,
            256,
            256,
            256,
            128,
            128,
            64,
            64,
            128,
            128,
            64,
            64,
            256,
            32,
            256
           ]
          },
          {
           "label": "config.batch_size",
           "values": [
            64,
            32,
            128,
            128,
            16,
            64,
            32,
            16,
            16,
            128,
            32,
            32,
            32,
            128,
            32,
            16,
            64,
            32,
            32,
            32,
            16,
            32,
            128,
            64,
            64,
            32,
            128,
            32,
            64,
            16,
            128,
            32,
            32,
            32,
            16,
            64,
            16,
            32,
            32,
            16,
            64,
            128,
            32,
            32,
            32,
            32,
            32,
            128,
            128,
            64,
            16,
            64,
            128,
            64,
            32,
            128,
            32,
            128,
            16,
            128,
            64,
            32,
            32,
            128,
            128,
            128,
            16,
            16,
            128,
            32,
            128,
            16,
            32,
            16,
            64,
            16,
            64,
            16,
            128,
            32,
            64,
            64,
            128,
            128,
            32,
            32,
            32
           ]
          },
          {
           "label": "config.learning_rate",
           "values": [
            0.0693721542,
            0.0060592408,
            0.0476207494,
            0.0602280922,
            0.0109519651,
            0.0043286393,
            0.0211994306,
            0.0797444083,
            0.0370673125,
            0.0542822667,
            0.0361301079,
            0.06210721,
            0.0513087884,
            0.0334911728,
            0.022804938,
            0.0705006436,
            0.0499054511,
            0.0328186399,
            0.0112990664,
            0.0612282409,
            0.0480825946,
            0.0135664708,
            0.0800841512,
            0.0426210618,
            0.0597920465,
            0.0566414358,
            0.0698817719,
            0.0086139206,
            0.0315056973,
            0.0123809432,
            0.0820514343,
            0.0264883721,
            0.0942731742,
            0.0782145634,
            0.069657905,
            0.0100238121,
            0.0096174231,
            0.0230641179,
            0.0443671141,
            0.083396573,
            0.0729814763,
            0.0121403233,
            0.0908279987,
            0.0662746163,
            0.0246313747,
            0.0862023136,
            0.0217689672,
            0.0345343548,
            0.0336503019,
            0.0518148807,
            0.0239938806,
            0.0646933251,
            0.0170949813,
            0.0281668134,
            0.0101410277,
            0.0945795805,
            0.0887451669,
            0.0208320886,
            0.0068516947,
            0.0308245818,
            0.0578930373,
            0.0938488849,
            0.0097008906,
            0.0513798357,
            0.0723234548,
            0.0680512252,
            0.0711051137,
            0.0209127911,
            0.0485967697,
            0.0663755957,
            0.0351130071,
            0.0310472183,
            0.0983246304,
            0.0959513987,
            0.0111513549,
            0.0707817057,
            0.0657083466,
            0.0540345965,
            0.0575658938,
            0.0096741148,
            0.0736719613,
            0.0015714021,
            0.0167426123,
            0.0167576071,
            0.0837469056,
            0.0090421207,
            0.0796910137
           ]
          },
          {
           "label": "config.epochs",
           "values": [
            15,
            20,
            5,
            10,
            20,
            15,
            20,
            20,
            20,
            15,
            20,
            10,
            15,
            10,
            5,
            10,
            20,
            5,
            20,
            15,
            10,
            10,
            10,
            15,
            15,
            10,
            10,
            20,
            15,
            20,
            10,
            20,
            20,
            20,
            20,
            10,
            15,
            15,
            20,
            15,
            20,
            10,
            20,
            10,
            5,
            20,
            15,
            5,
            10,
            15,
            15,
            5,
            10,
            20,
            5,
            15,
            5,
            20,
            15,
            5,
            5,
            15,
            15,
            10,
            15,
            15,
            20,
            5,
            10,
            20,
            10,
            20,
            5,
            15,
            5,
            15,
            5,
            10,
            20,
            20,
            20,
            20,
            20,
            20,
            10,
            20,
            20
           ]
          }
         ],
         "domain": {
          "x": [
           0,
           1
          ],
          "y": [
           0,
           1
          ]
         },
         "line": {
          "color": [
           0.2403744779,
           0.2607122025,
           0.3245915553,
           0.2654715226,
           0.2421068221,
           0.3923928683,
           0.2465574028,
           0.4740976276,
           0.3917784642,
           0.2641277618,
           0.3060270447,
           0.265395887,
           0.2544579878,
           0.3103154769,
           0.2786972329,
           0.2713678539,
           0.226527695,
           0.2745608744,
           0.2419646544,
           0.267498869,
           0.25823417,
           0.2686685099,
           0.2709628226,
           0.2372384451,
           0.2358037447,
           0.2455275163,
           0.2492551225,
           0.2425356355,
           0.2696644673,
           0.227512134,
           0.309731907,
           0.2336389252,
           0.3958461923,
           0.3586679301,
           0.4677130834,
           0.3128421003,
           0.2485843985,
           0.2578522872,
           0.2455811508,
           0.37492458,
           0.2555521592,
           0.3451706041,
           0.4890880503,
           0.2307003641,
           0.2729083297,
           0.394354029,
           0.2442986843,
           0.3507471937,
           0.3053924395,
           0.2410493982,
           0.2488839829,
           0.2781051293,
           0.3491774778,
           0.2246138516,
           0.3285512181,
           0.2397478843,
           0.2287137,
           0.2724394064,
           0.2338046337,
           0.3736548048,
           0.2607533613,
           0.3134006482,
           0.2497125177,
           0.2591184011,
           0.2839751816,
           0.2521625465,
           0.4885663756,
           0.2675006828,
           0.2790501032,
           0.4110255312,
           0.2948504561,
           0.3817148453,
           0.2515178651,
           0.5067463026,
           0.3923281174,
           0.4554125676,
           0.2577539437,
           0.2691995306,
           0.2416789834,
           0.2451195181,
           0.2665122904,
           0.3991427207,
           0.2856846309,
           0.2819558355,
           0.2420077132,
           0.3055115026,
           0.2348843061
          ],
          "coloraxis": "coloraxis"
         },
         "name": "",
         "type": "parcoords"
        }
       ],
       "layout": {
        "coloraxis": {
         "colorbar": {
          "title": {
           "text": "mean_val_loss"
          }
         },
         "colorscale": [
          [
           0,
           "#0d0887"
          ],
          [
           0.1111111111111111,
           "#46039f"
          ],
          [
           0.2222222222222222,
           "#7201a8"
          ],
          [
           0.3333333333333333,
           "#9c179e"
          ],
          [
           0.4444444444444444,
           "#bd3786"
          ],
          [
           0.5555555555555556,
           "#d8576b"
          ],
          [
           0.6666666666666666,
           "#ed7953"
          ],
          [
           0.7777777777777778,
           "#fb9f3a"
          ],
          [
           0.8888888888888888,
           "#fdca26"
          ],
          [
           1,
           "#f0f921"
          ]
         ]
        },
        "legend": {
         "tracegroupgap": 0
        },
        "template": {
         "data": {
          "bar": [
           {
            "error_x": {
             "color": "#2a3f5f"
            },
            "error_y": {
             "color": "#2a3f5f"
            },
            "marker": {
             "line": {
              "color": "white",
              "width": 0.5
             },
             "pattern": {
              "fillmode": "overlay",
              "size": 10,
              "solidity": 0.2
             }
            },
            "type": "bar"
           }
          ],
          "barpolar": [
           {
            "marker": {
             "line": {
              "color": "white",
              "width": 0.5
             },
             "pattern": {
              "fillmode": "overlay",
              "size": 10,
              "solidity": 0.2
             }
            },
            "type": "barpolar"
           }
          ],
          "carpet": [
           {
            "aaxis": {
             "endlinecolor": "#2a3f5f",
             "gridcolor": "#C8D4E3",
             "linecolor": "#C8D4E3",
             "minorgridcolor": "#C8D4E3",
             "startlinecolor": "#2a3f5f"
            },
            "baxis": {
             "endlinecolor": "#2a3f5f",
             "gridcolor": "#C8D4E3",
             "linecolor": "#C8D4E3",
             "minorgridcolor": "#C8D4E3",
             "startlinecolor": "#2a3f5f"
            },
            "type": "carpet"
           }
          ],
          "choropleth": [
           {
            "colorbar": {
             "outlinewidth": 0,
             "ticks": ""
            },
            "type": "choropleth"
           }
          ],
          "contour": [
           {
            "colorbar": {
             "outlinewidth": 0,
             "ticks": ""
            },
            "colorscale": [
             [
              0,
              "#0d0887"
             ],
             [
              0.1111111111111111,
              "#46039f"
             ],
             [
              0.2222222222222222,
              "#7201a8"
             ],
             [
              0.3333333333333333,
              "#9c179e"
             ],
             [
              0.4444444444444444,
              "#bd3786"
             ],
             [
              0.5555555555555556,
              "#d8576b"
             ],
             [
              0.6666666666666666,
              "#ed7953"
             ],
             [
              0.7777777777777778,
              "#fb9f3a"
             ],
             [
              0.8888888888888888,
              "#fdca26"
             ],
             [
              1,
              "#f0f921"
             ]
            ],
            "type": "contour"
           }
          ],
          "contourcarpet": [
           {
            "colorbar": {
             "outlinewidth": 0,
             "ticks": ""
            },
            "type": "contourcarpet"
           }
          ],
          "heatmap": [
           {
            "colorbar": {
             "outlinewidth": 0,
             "ticks": ""
            },
            "colorscale": [
             [
              0,
              "#0d0887"
             ],
             [
              0.1111111111111111,
              "#46039f"
             ],
             [
              0.2222222222222222,
              "#7201a8"
             ],
             [
              0.3333333333333333,
              "#9c179e"
             ],
             [
              0.4444444444444444,
              "#bd3786"
             ],
             [
              0.5555555555555556,
              "#d8576b"
             ],
             [
              0.6666666666666666,
              "#ed7953"
             ],
             [
              0.7777777777777778,
              "#fb9f3a"
             ],
             [
              0.8888888888888888,
              "#fdca26"
             ],
             [
              1,
              "#f0f921"
             ]
            ],
            "type": "heatmap"
           }
          ],
          "heatmapgl": [
           {
            "colorbar": {
             "outlinewidth": 0,
             "ticks": ""
            },
            "colorscale": [
             [
              0,
              "#0d0887"
             ],
             [
              0.1111111111111111,
              "#46039f"
             ],
             [
              0.2222222222222222,
              "#7201a8"
             ],
             [
              0.3333333333333333,
              "#9c179e"
             ],
             [
              0.4444444444444444,
              "#bd3786"
             ],
             [
              0.5555555555555556,
              "#d8576b"
             ],
             [
              0.6666666666666666,
              "#ed7953"
             ],
             [
              0.7777777777777778,
              "#fb9f3a"
             ],
             [
              0.8888888888888888,
              "#fdca26"
             ],
             [
              1,
              "#f0f921"
             ]
            ],
            "type": "heatmapgl"
           }
          ],
          "histogram": [
           {
            "marker": {
             "pattern": {
              "fillmode": "overlay",
              "size": 10,
              "solidity": 0.2
             }
            },
            "type": "histogram"
           }
          ],
          "histogram2d": [
           {
            "colorbar": {
             "outlinewidth": 0,
             "ticks": ""
            },
            "colorscale": [
             [
              0,
              "#0d0887"
             ],
             [
              0.1111111111111111,
              "#46039f"
             ],
             [
              0.2222222222222222,
              "#7201a8"
             ],
             [
              0.3333333333333333,
              "#9c179e"
             ],
             [
              0.4444444444444444,
              "#bd3786"
             ],
             [
              0.5555555555555556,
              "#d8576b"
             ],
             [
              0.6666666666666666,
              "#ed7953"
             ],
             [
              0.7777777777777778,
              "#fb9f3a"
             ],
             [
              0.8888888888888888,
              "#fdca26"
             ],
             [
              1,
              "#f0f921"
             ]
            ],
            "type": "histogram2d"
           }
          ],
          "histogram2dcontour": [
           {
            "colorbar": {
             "outlinewidth": 0,
             "ticks": ""
            },
            "colorscale": [
             [
              0,
              "#0d0887"
             ],
             [
              0.1111111111111111,
              "#46039f"
             ],
             [
              0.2222222222222222,
              "#7201a8"
             ],
             [
              0.3333333333333333,
              "#9c179e"
             ],
             [
              0.4444444444444444,
              "#bd3786"
             ],
             [
              0.5555555555555556,
              "#d8576b"
             ],
             [
              0.6666666666666666,
              "#ed7953"
             ],
             [
              0.7777777777777778,
              "#fb9f3a"
             ],
             [
              0.8888888888888888,
              "#fdca26"
             ],
             [
              1,
              "#f0f921"
             ]
            ],
            "type": "histogram2dcontour"
           }
          ],
          "mesh3d": [
           {
            "colorbar": {
             "outlinewidth": 0,
             "ticks": ""
            },
            "type": "mesh3d"
           }
          ],
          "parcoords": [
           {
            "line": {
             "colorbar": {
              "outlinewidth": 0,
              "ticks": ""
             }
            },
            "type": "parcoords"
           }
          ],
          "pie": [
           {
            "automargin": true,
            "type": "pie"
           }
          ],
          "scatter": [
           {
            "fillpattern": {
             "fillmode": "overlay",
             "size": 10,
             "solidity": 0.2
            },
            "type": "scatter"
           }
          ],
          "scatter3d": [
           {
            "line": {
             "colorbar": {
              "outlinewidth": 0,
              "ticks": ""
             }
            },
            "marker": {
             "colorbar": {
              "outlinewidth": 0,
              "ticks": ""
             }
            },
            "type": "scatter3d"
           }
          ],
          "scattercarpet": [
           {
            "marker": {
             "colorbar": {
              "outlinewidth": 0,
              "ticks": ""
             }
            },
            "type": "scattercarpet"
           }
          ],
          "scattergeo": [
           {
            "marker": {
             "colorbar": {
              "outlinewidth": 0,
              "ticks": ""
             }
            },
            "type": "scattergeo"
           }
          ],
          "scattergl": [
           {
            "marker": {
             "colorbar": {
              "outlinewidth": 0,
              "ticks": ""
             }
            },
            "type": "scattergl"
           }
          ],
          "scattermapbox": [
           {
            "marker": {
             "colorbar": {
              "outlinewidth": 0,
              "ticks": ""
             }
            },
            "type": "scattermapbox"
           }
          ],
          "scatterpolar": [
           {
            "marker": {
             "colorbar": {
              "outlinewidth": 0,
              "ticks": ""
             }
            },
            "type": "scatterpolar"
           }
          ],
          "scatterpolargl": [
           {
            "marker": {
             "colorbar": {
              "outlinewidth": 0,
              "ticks": ""
             }
            },
            "type": "scatterpolargl"
           }
          ],
          "scatterternary": [
           {
            "marker": {
             "colorbar": {
              "outlinewidth": 0,
              "ticks": ""
             }
            },
            "type": "scatterternary"
           }
          ],
          "surface": [
           {
            "colorbar": {
             "outlinewidth": 0,
             "ticks": ""
            },
            "colorscale": [
             [
              0,
              "#0d0887"
             ],
             [
              0.1111111111111111,
              "#46039f"
             ],
             [
              0.2222222222222222,
              "#7201a8"
             ],
             [
              0.3333333333333333,
              "#9c179e"
             ],
             [
              0.4444444444444444,
              "#bd3786"
             ],
             [
              0.5555555555555556,
              "#d8576b"
             ],
             [
              0.6666666666666666,
              "#ed7953"
             ],
             [
              0.7777777777777778,
              "#fb9f3a"
             ],
             [
              0.8888888888888888,
              "#fdca26"
             ],
             [
              1,
              "#f0f921"
             ]
            ],
            "type": "surface"
           }
          ],
          "table": [
           {
            "cells": {
             "fill": {
              "color": "#EBF0F8"
             },
             "line": {
              "color": "white"
             }
            },
            "header": {
             "fill": {
              "color": "#C8D4E3"
             },
             "line": {
              "color": "white"
             }
            },
            "type": "table"
           }
          ]
         },
         "layout": {
          "annotationdefaults": {
           "arrowcolor": "#2a3f5f",
           "arrowhead": 0,
           "arrowwidth": 1
          },
          "autotypenumbers": "strict",
          "coloraxis": {
           "colorbar": {
            "outlinewidth": 0,
            "ticks": ""
           }
          },
          "colorscale": {
           "diverging": [
            [
             0,
             "#8e0152"
            ],
            [
             0.1,
             "#c51b7d"
            ],
            [
             0.2,
             "#de77ae"
            ],
            [
             0.3,
             "#f1b6da"
            ],
            [
             0.4,
             "#fde0ef"
            ],
            [
             0.5,
             "#f7f7f7"
            ],
            [
             0.6,
             "#e6f5d0"
            ],
            [
             0.7,
             "#b8e186"
            ],
            [
             0.8,
             "#7fbc41"
            ],
            [
             0.9,
             "#4d9221"
            ],
            [
             1,
             "#276419"
            ]
           ],
           "sequential": [
            [
             0,
             "#0d0887"
            ],
            [
             0.1111111111111111,
             "#46039f"
            ],
            [
             0.2222222222222222,
             "#7201a8"
            ],
            [
             0.3333333333333333,
             "#9c179e"
            ],
            [
             0.4444444444444444,
             "#bd3786"
            ],
            [
             0.5555555555555556,
             "#d8576b"
            ],
            [
             0.6666666666666666,
             "#ed7953"
            ],
            [
             0.7777777777777778,
             "#fb9f3a"
            ],
            [
             0.8888888888888888,
             "#fdca26"
            ],
            [
             1,
             "#f0f921"
            ]
           ],
           "sequentialminus": [
            [
             0,
             "#0d0887"
            ],
            [
             0.1111111111111111,
             "#46039f"
            ],
            [
             0.2222222222222222,
             "#7201a8"
            ],
            [
             0.3333333333333333,
             "#9c179e"
            ],
            [
             0.4444444444444444,
             "#bd3786"
            ],
            [
             0.5555555555555556,
             "#d8576b"
            ],
            [
             0.6666666666666666,
             "#ed7953"
            ],
            [
             0.7777777777777778,
             "#fb9f3a"
            ],
            [
             0.8888888888888888,
             "#fdca26"
            ],
            [
             1,
             "#f0f921"
            ]
           ]
          },
          "colorway": [
           "#636efa",
           "#EF553B",
           "#00cc96",
           "#ab63fa",
           "#FFA15A",
           "#19d3f3",
           "#FF6692",
           "#B6E880",
           "#FF97FF",
           "#FECB52"
          ],
          "font": {
           "color": "#2a3f5f"
          },
          "geo": {
           "bgcolor": "white",
           "lakecolor": "white",
           "landcolor": "white",
           "showlakes": true,
           "showland": true,
           "subunitcolor": "#C8D4E3"
          },
          "hoverlabel": {
           "align": "left"
          },
          "hovermode": "closest",
          "mapbox": {
           "style": "light"
          },
          "paper_bgcolor": "white",
          "plot_bgcolor": "white",
          "polar": {
           "angularaxis": {
            "gridcolor": "#EBF0F8",
            "linecolor": "#EBF0F8",
            "ticks": ""
           },
           "bgcolor": "white",
           "radialaxis": {
            "gridcolor": "#EBF0F8",
            "linecolor": "#EBF0F8",
            "ticks": ""
           }
          },
          "scene": {
           "xaxis": {
            "backgroundcolor": "white",
            "gridcolor": "#DFE8F3",
            "gridwidth": 2,
            "linecolor": "#EBF0F8",
            "showbackground": true,
            "ticks": "",
            "zerolinecolor": "#EBF0F8"
           },
           "yaxis": {
            "backgroundcolor": "white",
            "gridcolor": "#DFE8F3",
            "gridwidth": 2,
            "linecolor": "#EBF0F8",
            "showbackground": true,
            "ticks": "",
            "zerolinecolor": "#EBF0F8"
           },
           "zaxis": {
            "backgroundcolor": "white",
            "gridcolor": "#DFE8F3",
            "gridwidth": 2,
            "linecolor": "#EBF0F8",
            "showbackground": true,
            "ticks": "",
            "zerolinecolor": "#EBF0F8"
           }
          },
          "shapedefaults": {
           "line": {
            "color": "#2a3f5f"
           }
          },
          "ternary": {
           "aaxis": {
            "gridcolor": "#DFE8F3",
            "linecolor": "#A2B1C6",
            "ticks": ""
           },
           "baxis": {
            "gridcolor": "#DFE8F3",
            "linecolor": "#A2B1C6",
            "ticks": ""
           },
           "bgcolor": "white",
           "caxis": {
            "gridcolor": "#DFE8F3",
            "linecolor": "#A2B1C6",
            "ticks": ""
           }
          },
          "title": {
           "x": 0.05
          },
          "xaxis": {
           "automargin": true,
           "gridcolor": "#EBF0F8",
           "linecolor": "#EBF0F8",
           "ticks": "",
           "title": {
            "standoff": 15
           },
           "zerolinecolor": "#EBF0F8",
           "zerolinewidth": 2
          },
          "yaxis": {
           "automargin": true,
           "gridcolor": "#EBF0F8",
           "linecolor": "#EBF0F8",
           "ticks": "",
           "title": {
            "standoff": 15
           },
           "zerolinecolor": "#EBF0F8",
           "zerolinewidth": 2
          }
         }
        },
        "title": {
         "text": "Random Search Trial Configurations - Uniform"
        },
        "width": 900
       }
      },
      "text/html": [
       "<div>                            <div id=\"693b3a4e-dc77-48a4-82e3-bb39012e6f46\" class=\"plotly-graph-div\" style=\"height:525px; width:900px;\"></div>            <script type=\"text/javascript\">                require([\"plotly\"], function(Plotly) {                    window.PLOTLYENV=window.PLOTLYENV || {};                                    if (document.getElementById(\"693b3a4e-dc77-48a4-82e3-bb39012e6f46\")) {                    Plotly.newPlot(                        \"693b3a4e-dc77-48a4-82e3-bb39012e6f46\",                        [{\"dimensions\":[{\"label\":\"config.l1\",\"values\":[64,128,32,128,64,32,32,32,64,64,128,64,256,32,64,32,256,64,32,32,128,32,64,256,256,128,256,256,64,32,128,64,128,32,128,256,128,64,64,64,32,256,256,256,128,64,32,64,64,256,32,128,32,256,256,256,128,256,256,64,256,32,32,256,128,64,256,64,64,256,128,128,64,256,256,256,128,128,64,64,128,128,64,64,256,32,256]},{\"label\":\"config.batch_size\",\"values\":[64,32,128,128,16,64,32,16,16,128,32,32,32,128,32,16,64,32,32,32,16,32,128,64,64,32,128,32,64,16,128,32,32,32,16,64,16,32,32,16,64,128,32,32,32,32,32,128,128,64,16,64,128,64,32,128,32,128,16,128,64,32,32,128,128,128,16,16,128,32,128,16,32,16,64,16,64,16,128,32,64,64,128,128,32,32,32]},{\"label\":\"config.learning_rate\",\"values\":[0.0693721542,0.0060592408,0.0476207494,0.0602280922,0.0109519651,0.0043286393,0.0211994306,0.0797444083,0.0370673125,0.0542822667,0.0361301079,0.06210721,0.0513087884,0.0334911728,0.022804938,0.0705006436,0.0499054511,0.0328186399,0.0112990664,0.0612282409,0.0480825946,0.0135664708,0.0800841512,0.0426210618,0.0597920465,0.0566414358,0.0698817719,0.0086139206,0.0315056973,0.0123809432,0.0820514343,0.0264883721,0.0942731742,0.0782145634,0.069657905,0.0100238121,0.0096174231,0.0230641179,0.0443671141,0.083396573,0.0729814763,0.0121403233,0.0908279987,0.0662746163,0.0246313747,0.0862023136,0.0217689672,0.0345343548,0.0336503019,0.0518148807,0.0239938806,0.0646933251,0.0170949813,0.0281668134,0.0101410277,0.0945795805,0.0887451669,0.0208320886,0.0068516947,0.0308245818,0.0578930373,0.0938488849,0.0097008906,0.0513798357,0.0723234548,0.0680512252,0.0711051137,0.0209127911,0.0485967697,0.0663755957,0.0351130071,0.0310472183,0.0983246304,0.0959513987,0.0111513549,0.0707817057,0.0657083466,0.0540345965,0.0575658938,0.0096741148,0.0736719613,0.0015714021,0.0167426123,0.0167576071,0.0837469056,0.0090421207,0.0796910137]},{\"label\":\"config.epochs\",\"values\":[15,20,5,10,20,15,20,20,20,15,20,10,15,10,5,10,20,5,20,15,10,10,10,15,15,10,10,20,15,20,10,20,20,20,20,10,15,15,20,15,20,10,20,10,5,20,15,5,10,15,15,5,10,20,5,15,5,20,15,5,5,15,15,10,15,15,20,5,10,20,10,20,5,15,5,15,5,10,20,20,20,20,20,20,10,20,20]}],\"domain\":{\"x\":[0.0,1.0],\"y\":[0.0,1.0]},\"line\":{\"color\":[0.2403744779,0.2607122025,0.3245915553,0.2654715226,0.2421068221,0.3923928683,0.2465574028,0.4740976276,0.3917784642,0.2641277618,0.3060270447,0.265395887,0.2544579878,0.3103154769,0.2786972329,0.2713678539,0.226527695,0.2745608744,0.2419646544,0.267498869,0.25823417,0.2686685099,0.2709628226,0.2372384451,0.2358037447,0.2455275163,0.2492551225,0.2425356355,0.2696644673,0.227512134,0.309731907,0.2336389252,0.3958461923,0.3586679301,0.4677130834,0.3128421003,0.2485843985,0.2578522872,0.2455811508,0.37492458,0.2555521592,0.3451706041,0.4890880503,0.2307003641,0.2729083297,0.394354029,0.2442986843,0.3507471937,0.3053924395,0.2410493982,0.2488839829,0.2781051293,0.3491774778,0.2246138516,0.3285512181,0.2397478843,0.2287137,0.2724394064,0.2338046337,0.3736548048,0.2607533613,0.3134006482,0.2497125177,0.2591184011,0.2839751816,0.2521625465,0.4885663756,0.2675006828,0.2790501032,0.4110255312,0.2948504561,0.3817148453,0.2515178651,0.5067463026,0.3923281174,0.4554125676,0.2577539437,0.2691995306,0.2416789834,0.2451195181,0.2665122904,0.3991427207,0.2856846309,0.2819558355,0.2420077132,0.3055115026,0.2348843061],\"coloraxis\":\"coloraxis\"},\"name\":\"\",\"type\":\"parcoords\"}],                        {\"template\":{\"data\":{\"histogram2dcontour\":[{\"type\":\"histogram2dcontour\",\"colorbar\":{\"outlinewidth\":0,\"ticks\":\"\"},\"colorscale\":[[0.0,\"#0d0887\"],[0.1111111111111111,\"#46039f\"],[0.2222222222222222,\"#7201a8\"],[0.3333333333333333,\"#9c179e\"],[0.4444444444444444,\"#bd3786\"],[0.5555555555555556,\"#d8576b\"],[0.6666666666666666,\"#ed7953\"],[0.7777777777777778,\"#fb9f3a\"],[0.8888888888888888,\"#fdca26\"],[1.0,\"#f0f921\"]]}],\"choropleth\":[{\"type\":\"choropleth\",\"colorbar\":{\"outlinewidth\":0,\"ticks\":\"\"}}],\"histogram2d\":[{\"type\":\"histogram2d\",\"colorbar\":{\"outlinewidth\":0,\"ticks\":\"\"},\"colorscale\":[[0.0,\"#0d0887\"],[0.1111111111111111,\"#46039f\"],[0.2222222222222222,\"#7201a8\"],[0.3333333333333333,\"#9c179e\"],[0.4444444444444444,\"#bd3786\"],[0.5555555555555556,\"#d8576b\"],[0.6666666666666666,\"#ed7953\"],[0.7777777777777778,\"#fb9f3a\"],[0.8888888888888888,\"#fdca26\"],[1.0,\"#f0f921\"]]}],\"heatmap\":[{\"type\":\"heatmap\",\"colorbar\":{\"outlinewidth\":0,\"ticks\":\"\"},\"colorscale\":[[0.0,\"#0d0887\"],[0.1111111111111111,\"#46039f\"],[0.2222222222222222,\"#7201a8\"],[0.3333333333333333,\"#9c179e\"],[0.4444444444444444,\"#bd3786\"],[0.5555555555555556,\"#d8576b\"],[0.6666666666666666,\"#ed7953\"],[0.7777777777777778,\"#fb9f3a\"],[0.8888888888888888,\"#fdca26\"],[1.0,\"#f0f921\"]]}],\"heatmapgl\":[{\"type\":\"heatmapgl\",\"colorbar\":{\"outlinewidth\":0,\"ticks\":\"\"},\"colorscale\":[[0.0,\"#0d0887\"],[0.1111111111111111,\"#46039f\"],[0.2222222222222222,\"#7201a8\"],[0.3333333333333333,\"#9c179e\"],[0.4444444444444444,\"#bd3786\"],[0.5555555555555556,\"#d8576b\"],[0.6666666666666666,\"#ed7953\"],[0.7777777777777778,\"#fb9f3a\"],[0.8888888888888888,\"#fdca26\"],[1.0,\"#f0f921\"]]}],\"contourcarpet\":[{\"type\":\"contourcarpet\",\"colorbar\":{\"outlinewidth\":0,\"ticks\":\"\"}}],\"contour\":[{\"type\":\"contour\",\"colorbar\":{\"outlinewidth\":0,\"ticks\":\"\"},\"colorscale\":[[0.0,\"#0d0887\"],[0.1111111111111111,\"#46039f\"],[0.2222222222222222,\"#7201a8\"],[0.3333333333333333,\"#9c179e\"],[0.4444444444444444,\"#bd3786\"],[0.5555555555555556,\"#d8576b\"],[0.6666666666666666,\"#ed7953\"],[0.7777777777777778,\"#fb9f3a\"],[0.8888888888888888,\"#fdca26\"],[1.0,\"#f0f921\"]]}],\"surface\":[{\"type\":\"surface\",\"colorbar\":{\"outlinewidth\":0,\"ticks\":\"\"},\"colorscale\":[[0.0,\"#0d0887\"],[0.1111111111111111,\"#46039f\"],[0.2222222222222222,\"#7201a8\"],[0.3333333333333333,\"#9c179e\"],[0.4444444444444444,\"#bd3786\"],[0.5555555555555556,\"#d8576b\"],[0.6666666666666666,\"#ed7953\"],[0.7777777777777778,\"#fb9f3a\"],[0.8888888888888888,\"#fdca26\"],[1.0,\"#f0f921\"]]}],\"mesh3d\":[{\"type\":\"mesh3d\",\"colorbar\":{\"outlinewidth\":0,\"ticks\":\"\"}}],\"scatter\":[{\"fillpattern\":{\"fillmode\":\"overlay\",\"size\":10,\"solidity\":0.2},\"type\":\"scatter\"}],\"parcoords\":[{\"type\":\"parcoords\",\"line\":{\"colorbar\":{\"outlinewidth\":0,\"ticks\":\"\"}}}],\"scatterpolargl\":[{\"type\":\"scatterpolargl\",\"marker\":{\"colorbar\":{\"outlinewidth\":0,\"ticks\":\"\"}}}],\"bar\":[{\"error_x\":{\"color\":\"#2a3f5f\"},\"error_y\":{\"color\":\"#2a3f5f\"},\"marker\":{\"line\":{\"color\":\"white\",\"width\":0.5},\"pattern\":{\"fillmode\":\"overlay\",\"size\":10,\"solidity\":0.2}},\"type\":\"bar\"}],\"scattergeo\":[{\"type\":\"scattergeo\",\"marker\":{\"colorbar\":{\"outlinewidth\":0,\"ticks\":\"\"}}}],\"scatterpolar\":[{\"type\":\"scatterpolar\",\"marker\":{\"colorbar\":{\"outlinewidth\":0,\"ticks\":\"\"}}}],\"histogram\":[{\"marker\":{\"pattern\":{\"fillmode\":\"overlay\",\"size\":10,\"solidity\":0.2}},\"type\":\"histogram\"}],\"scattergl\":[{\"type\":\"scattergl\",\"marker\":{\"colorbar\":{\"outlinewidth\":0,\"ticks\":\"\"}}}],\"scatter3d\":[{\"type\":\"scatter3d\",\"line\":{\"colorbar\":{\"outlinewidth\":0,\"ticks\":\"\"}},\"marker\":{\"colorbar\":{\"outlinewidth\":0,\"ticks\":\"\"}}}],\"scattermapbox\":[{\"type\":\"scattermapbox\",\"marker\":{\"colorbar\":{\"outlinewidth\":0,\"ticks\":\"\"}}}],\"scatterternary\":[{\"type\":\"scatterternary\",\"marker\":{\"colorbar\":{\"outlinewidth\":0,\"ticks\":\"\"}}}],\"scattercarpet\":[{\"type\":\"scattercarpet\",\"marker\":{\"colorbar\":{\"outlinewidth\":0,\"ticks\":\"\"}}}],\"carpet\":[{\"aaxis\":{\"endlinecolor\":\"#2a3f5f\",\"gridcolor\":\"#C8D4E3\",\"linecolor\":\"#C8D4E3\",\"minorgridcolor\":\"#C8D4E3\",\"startlinecolor\":\"#2a3f5f\"},\"baxis\":{\"endlinecolor\":\"#2a3f5f\",\"gridcolor\":\"#C8D4E3\",\"linecolor\":\"#C8D4E3\",\"minorgridcolor\":\"#C8D4E3\",\"startlinecolor\":\"#2a3f5f\"},\"type\":\"carpet\"}],\"table\":[{\"cells\":{\"fill\":{\"color\":\"#EBF0F8\"},\"line\":{\"color\":\"white\"}},\"header\":{\"fill\":{\"color\":\"#C8D4E3\"},\"line\":{\"color\":\"white\"}},\"type\":\"table\"}],\"barpolar\":[{\"marker\":{\"line\":{\"color\":\"white\",\"width\":0.5},\"pattern\":{\"fillmode\":\"overlay\",\"size\":10,\"solidity\":0.2}},\"type\":\"barpolar\"}],\"pie\":[{\"automargin\":true,\"type\":\"pie\"}]},\"layout\":{\"autotypenumbers\":\"strict\",\"colorway\":[\"#636efa\",\"#EF553B\",\"#00cc96\",\"#ab63fa\",\"#FFA15A\",\"#19d3f3\",\"#FF6692\",\"#B6E880\",\"#FF97FF\",\"#FECB52\"],\"font\":{\"color\":\"#2a3f5f\"},\"hovermode\":\"closest\",\"hoverlabel\":{\"align\":\"left\"},\"paper_bgcolor\":\"white\",\"plot_bgcolor\":\"white\",\"polar\":{\"bgcolor\":\"white\",\"angularaxis\":{\"gridcolor\":\"#EBF0F8\",\"linecolor\":\"#EBF0F8\",\"ticks\":\"\"},\"radialaxis\":{\"gridcolor\":\"#EBF0F8\",\"linecolor\":\"#EBF0F8\",\"ticks\":\"\"}},\"ternary\":{\"bgcolor\":\"white\",\"aaxis\":{\"gridcolor\":\"#DFE8F3\",\"linecolor\":\"#A2B1C6\",\"ticks\":\"\"},\"baxis\":{\"gridcolor\":\"#DFE8F3\",\"linecolor\":\"#A2B1C6\",\"ticks\":\"\"},\"caxis\":{\"gridcolor\":\"#DFE8F3\",\"linecolor\":\"#A2B1C6\",\"ticks\":\"\"}},\"coloraxis\":{\"colorbar\":{\"outlinewidth\":0,\"ticks\":\"\"}},\"colorscale\":{\"sequential\":[[0.0,\"#0d0887\"],[0.1111111111111111,\"#46039f\"],[0.2222222222222222,\"#7201a8\"],[0.3333333333333333,\"#9c179e\"],[0.4444444444444444,\"#bd3786\"],[0.5555555555555556,\"#d8576b\"],[0.6666666666666666,\"#ed7953\"],[0.7777777777777778,\"#fb9f3a\"],[0.8888888888888888,\"#fdca26\"],[1.0,\"#f0f921\"]],\"sequentialminus\":[[0.0,\"#0d0887\"],[0.1111111111111111,\"#46039f\"],[0.2222222222222222,\"#7201a8\"],[0.3333333333333333,\"#9c179e\"],[0.4444444444444444,\"#bd3786\"],[0.5555555555555556,\"#d8576b\"],[0.6666666666666666,\"#ed7953\"],[0.7777777777777778,\"#fb9f3a\"],[0.8888888888888888,\"#fdca26\"],[1.0,\"#f0f921\"]],\"diverging\":[[0,\"#8e0152\"],[0.1,\"#c51b7d\"],[0.2,\"#de77ae\"],[0.3,\"#f1b6da\"],[0.4,\"#fde0ef\"],[0.5,\"#f7f7f7\"],[0.6,\"#e6f5d0\"],[0.7,\"#b8e186\"],[0.8,\"#7fbc41\"],[0.9,\"#4d9221\"],[1,\"#276419\"]]},\"xaxis\":{\"gridcolor\":\"#EBF0F8\",\"linecolor\":\"#EBF0F8\",\"ticks\":\"\",\"title\":{\"standoff\":15},\"zerolinecolor\":\"#EBF0F8\",\"automargin\":true,\"zerolinewidth\":2},\"yaxis\":{\"gridcolor\":\"#EBF0F8\",\"linecolor\":\"#EBF0F8\",\"ticks\":\"\",\"title\":{\"standoff\":15},\"zerolinecolor\":\"#EBF0F8\",\"automargin\":true,\"zerolinewidth\":2},\"scene\":{\"xaxis\":{\"backgroundcolor\":\"white\",\"gridcolor\":\"#DFE8F3\",\"linecolor\":\"#EBF0F8\",\"showbackground\":true,\"ticks\":\"\",\"zerolinecolor\":\"#EBF0F8\",\"gridwidth\":2},\"yaxis\":{\"backgroundcolor\":\"white\",\"gridcolor\":\"#DFE8F3\",\"linecolor\":\"#EBF0F8\",\"showbackground\":true,\"ticks\":\"\",\"zerolinecolor\":\"#EBF0F8\",\"gridwidth\":2},\"zaxis\":{\"backgroundcolor\":\"white\",\"gridcolor\":\"#DFE8F3\",\"linecolor\":\"#EBF0F8\",\"showbackground\":true,\"ticks\":\"\",\"zerolinecolor\":\"#EBF0F8\",\"gridwidth\":2}},\"shapedefaults\":{\"line\":{\"color\":\"#2a3f5f\"}},\"annotationdefaults\":{\"arrowcolor\":\"#2a3f5f\",\"arrowhead\":0,\"arrowwidth\":1},\"geo\":{\"bgcolor\":\"white\",\"landcolor\":\"white\",\"subunitcolor\":\"#C8D4E3\",\"showland\":true,\"showlakes\":true,\"lakecolor\":\"white\"},\"title\":{\"x\":0.05},\"mapbox\":{\"style\":\"light\"}}},\"coloraxis\":{\"colorbar\":{\"title\":{\"text\":\"mean_val_loss\"}},\"colorscale\":[[0.0,\"#0d0887\"],[0.1111111111111111,\"#46039f\"],[0.2222222222222222,\"#7201a8\"],[0.3333333333333333,\"#9c179e\"],[0.4444444444444444,\"#bd3786\"],[0.5555555555555556,\"#d8576b\"],[0.6666666666666666,\"#ed7953\"],[0.7777777777777778,\"#fb9f3a\"],[0.8888888888888888,\"#fdca26\"],[1.0,\"#f0f921\"]]},\"legend\":{\"tracegroupgap\":0},\"title\":{\"text\":\"Random Search Trial Configurations - Uniform\"},\"width\":900},                        {\"responsive\": true}                    ).then(function(){\n",
       "                            \n",
       "var gd = document.getElementById('693b3a4e-dc77-48a4-82e3-bb39012e6f46');\n",
       "var x = new MutationObserver(function (mutations, observer) {{\n",
       "        var display = window.getComputedStyle(gd).display;\n",
       "        if (!display || display === 'none') {{\n",
       "            console.log([gd, 'removed!']);\n",
       "            Plotly.purge(gd);\n",
       "            observer.disconnect();\n",
       "        }}\n",
       "}});\n",
       "\n",
       "// Listen for the removal of the full notebook cells\n",
       "var notebookContainer = gd.closest('#notebook-container');\n",
       "if (notebookContainer) {{\n",
       "    x.observe(notebookContainer, {childList: true});\n",
       "}}\n",
       "\n",
       "// Listen for the clearing of the current output cell\n",
       "var outputEl = gd.closest('.output');\n",
       "if (outputEl) {{\n",
       "    x.observe(outputEl, {childList: true});\n",
       "}}\n",
       "\n",
       "                        })                };                });            </script>        </div>"
      ]
     },
     "metadata": {},
     "output_type": "display_data"
    }
   ],
   "source": [
    "fig = px.parallel_coordinates(df_flat_e7, color=\"mean_val_loss\",\n",
    "                              title='Random Search Trial Configurations - Uniform',\n",
    "                              dimensions=['config.l1', 'config.batch_size', 'config.learning_rate',\n",
    "                                          'config.epochs'], width=900)\n",
    "fig.show()"
   ]
  },
  {
   "cell_type": "markdown",
   "metadata": {
    "slideshow": {
     "slide_type": "subslide"
    }
   },
   "source": [
    "<div style=\"display: flex; justify-content: space-between; align-items: center; width: 100%;\">\n",
    "    <span style=\"font-weight: bold; font-size: 20px;\">Learning Rate Sampling Approaches</span>\n",
    "    <span style=\"text-align: right; font-size: 12px;\">Lena Hammerer | Luisa Ibele | Hanna Steinwender</span>\n",
    "</div>\n",
    "\n",
    "- Uniform distribution sampling explores a broad range of values while Loguniform focuses on a range of learning rates that span multiple orders of magnitude <br/>-> beneficial as it's common in DL that values on a logarithmic scale work well\n",
    "- Uniform sampling helps to assess the sensitivity to specific learning rates, but is more resource-intensive compared to tuning with Loguniform"
   ]
  },
  {
   "cell_type": "code",
   "execution_count": 14,
   "metadata": {
    "slideshow": {
     "slide_type": "fragment"
    }
   },
   "outputs": [
    {
     "data": {
      "application/vnd.plotly.v1+json": {
       "config": {
        "plotlyServerURL": "https://plot.ly"
       },
       "data": [
        {
         "alignmentgroup": "True",
         "bingroup": "x",
         "hovertemplate": "Distribution=Uniform<br>Random Samples=%{x}<br>count=%{y}<extra></extra>",
         "legendgroup": "Uniform",
         "marker": {
          "color": "#9c179e",
          "line": {
           "color": "black",
           "width": 1
          },
          "opacity": 0.8,
          "pattern": {
           "shape": ""
          }
         },
         "name": "Uniform",
         "nbinsx": 50,
         "offsetgroup": "Uniform",
         "orientation": "v",
         "showlegend": true,
         "type": "histogram",
         "x": [
          0.07993756521788267,
          0.06939951781162462,
          0.01641390814050355,
          0.0794068770765534,
          0.07147778144691008,
          0.07978274978628716,
          0.0764944323814593,
          0.07877259391303179,
          0.09393265878493604,
          0.06146948629106696,
          0.015637089430875828,
          0.09496408751995654,
          0.009181763469017118,
          0.0777081151997469,
          0.04158013127456476,
          0.07804855485345873,
          0.08270148047846836,
          0.07645171023917333,
          0.005659383452311577,
          0.0643859456581009,
          0.07435854710176557,
          0.06483011489681366,
          0.0651997674746073,
          0.09002846895349846,
          0.035536607058184524,
          0.09453234227485141,
          0.07538931418024394,
          0.01313056075206285,
          0.006561407341709751,
          0.05051749033258736,
          0.07943729151288793,
          0.029666179709718344,
          0.06645110313662042,
          0.021640887943507787,
          0.05519782962081777,
          0.08587490977402219,
          0.00881346397079848,
          0.04931141549301336,
          0.0974246777461222,
          0.02697923089558737,
          0.03473987197038223,
          0.05166562484724487,
          0.0975409803633108,
          0.049990266879867254,
          0.06400726314248283,
          0.05323208232399942,
          0.019970006550156703,
          0.06482415055018417,
          0.0005027716359645888,
          0.012231747527505277,
          0.05285433758070958,
          0.08144795046333027,
          0.08605304865914257,
          0.026923640319399617,
          0.05208472756306894,
          0.020452570738966377,
          0.009068395991068028,
          0.0030530711630508208,
          0.005458032614960706,
          0.06851468594158239,
          0.0625003034585223,
          0.07999163663498553,
          0.0006265833893401379,
          0.04513213001344777,
          0.08926192368599972,
          0.09064431121942529,
          0.09337253879278126,
          0.09433045472418591,
          0.08225411487495891,
          0.08705199082438818,
          0.07214339158471787,
          0.04270690139657865,
          0.07232517596258889,
          0.012792912499908968,
          0.051815256272938585,
          0.05028809225463865,
          0.06348875016074945,
          0.09287870682693326,
          0.09308729008833397,
          0.02594833355359874,
          0.0778053335997551,
          0.04987819293707271,
          0.035999547949664465,
          0.030151289861046617,
          0.008611585811001111,
          0.09214712557465327,
          0.04152165785161438,
          0.03489150154927366,
          0.008159018119729886,
          0.006891912736972448,
          0.006051666609856097,
          0.034067650667003256,
          0.0028759880277186966,
          0.008626366009584918,
          0.04567860850303172,
          0.05687348827020452,
          0.07044936506323468,
          0.031518306519111625,
          0.04670094435011389,
          0.009459460002726959,
          0.05902387043110875,
          0.04479492096862886,
          0.027904591409351042,
          0.047896874360684294,
          0.07426906554072224,
          0.05825341974545436,
          0.020564501047199188,
          0.06326287958912995,
          0.06613822312672638,
          0.05884457644160662,
          0.07557638592705966,
          0.005314190285364759,
          0.025594519670286957,
          0.07497067515039973,
          0.03130733006925399,
          0.09459128617736924,
          0.006239535424159458,
          0.09792469055162403,
          0.07650163021447834,
          0.04034959013195912,
          0.012527672079479035,
          0.04922125165360774,
          0.05624824453310957,
          0.055041705042190824,
          0.08986821743558951,
          0.0883791157593958,
          0.03944311407651293,
          0.05062008191180786,
          0.012625420125686735,
          0.09155155975582661,
          0.0682159072636933,
          0.08721230577295336,
          0.08393142311004596,
          0.05008676855642058,
          0.044019696712957114,
          0.08148855930100667,
          0.07780552748647614,
          0.027531901870708773,
          0.013831279358150522,
          0.05713329968678231,
          0.006799120902115057,
          0.018078182490193054,
          0.09087472828283713,
          0.02989383301195572,
          0.027083947946734452,
          0.09989675421597702,
          0.04654810276388845,
          0.021806953382317317,
          0.08769007593078453,
          0.04180356564418298,
          0.0460982652848303,
          0.05880581412560355,
          0.08779484302561387,
          0.01142382615928768,
          0.07171963974191328,
          0.05141703903508733,
          0.02764126875439297,
          0.03508755642013646,
          0.03721754788192004,
          0.09331888271930511,
          0.0338404288034172,
          0.06652533427452197,
          0.01281632423411,
          0.07712573252393178,
          0.047899910034926545,
          0.08379665037882822,
          0.046780871609797096,
          0.021379214825825305,
          0.007380154407583264,
          0.04371372686605942,
          0.09127018376275403,
          0.06109146517004558,
          0.07816440144841906,
          0.06738489947024848,
          0.09114613714021545,
          0.04797110255368906,
          0.033515000801461046,
          0.04994900431646778,
          0.07366351320502736,
          0.013526823224983232,
          0.010817403932018292,
          0.002036716977819371,
          0.0641873132843405,
          0.0008136277010976513,
          0.04507511936285608,
          0.05878912541662531,
          0.06563017514257694,
          0.08148787252437731,
          0.0251856047103007,
          0.08577166194502953,
          0.046822319698964276,
          0.051020054974756084,
          0.026015454942974303,
          0.020430874023138142,
          0.04051758439034173,
          0.027355877228492673,
          0.0036163032731137187,
          0.018829168026637682,
          0.06900421868800798,
          0.03736584689389413,
          0.0003291431728583905,
          0.051477007292078165,
          0.018958769144964874,
          0.07720837696092167,
          0.011503609707198615,
          0.019823562654357318,
          0.0542709189530026,
          0.010609532999627354,
          0.02241045582402483,
          0.03150437284300988,
          0.0020040322279612026,
          0.03381788498606418,
          0.030420687776339654,
          0.05311751019471238,
          0.0616489785124941,
          0.019348065967563256,
          0.028922309271082507,
          0.09591480696343178,
          0.0722071072209108,
          0.07521866003767608,
          0.007876113281830759,
          0.02132710558531584,
          0.017512828653028792,
          0.05408827302003911,
          0.06426920648784147,
          0.07087753655232469,
          0.07228228590440963,
          0.08698275753194214,
          0.06115632883265959,
          0.0974322944087329,
          0.028627471519896232,
          0.09839578611194477,
          0.08949792419174298,
          0.022615393305140397,
          0.08604742117414763,
          0.006360804402723752,
          0.09145555798338068,
          0.044456663923253786,
          0.06864476446879558,
          0.07007096857715804,
          0.033921051365495176,
          0.09525759138483547,
          0.08206258631363882,
          0.053957713160897716,
          0.06853973333144309,
          0.032799698481213876,
          0.028943394964823448,
          0.06989273397893231,
          0.08280496497072878,
          0.03264813396042548,
          0.027712820813341043,
          0.06931191170606708,
          0.05679955837217106,
          0.08681676424967884,
          0.08116546541562178,
          0.03427401632020023,
          0.013132478267928849,
          0.07733802132826,
          0.07807180529857612,
          0.047418774812316246,
          0.001345163202404303,
          0.023369874650903982,
          0.01802562613066467,
          0.02063131450862035,
          0.05857067181880601,
          0.008918996078327263,
          0.018714603757602415,
          0.05182433840889299,
          0.08624574481505635,
          0.005543112145644463,
          0.08618023404637098,
          0.09574425994401706,
          0.035161554639133744,
          0.012812839439059113,
          0.04964175410927911,
          0.04948627822829476,
          0.0023090991146119794,
          0.017558162349395192,
          0.0499474254166158,
          0.03750380147208522,
          0.06989103331837837,
          0.005185888847579787,
          0.0800215795716,
          0.09152800625725156,
          0.08785297036178258,
          0.04437635636177454,
          0.07112300765605362,
          0.06260225039104418,
          0.07869944528090725,
          0.09580358954183582,
          0.06605043669921239,
          0.002046691086765416,
          0.09038265597874642,
          0.08051877194405967,
          0.05735554971182986,
          0.08295913297387641,
          0.0021696686229589163,
          0.010634689163232458,
          0.09669299438763942,
          0.045996447874237685,
          0.07015263962413257,
          0.03452205354109986,
          0.07779632537059995,
          0.09524823095333358,
          0.044671272218555734,
          0.013019133303057378,
          0.09762417748559048,
          0.025699961006422654,
          0.04746950729133284,
          0.06195609579991148,
          0.08100230500591293,
          0.026039556974312192,
          0.028110385472017232,
          0.05474382319037533,
          0.04735095121641161,
          0.026291835347813697,
          0.05165820185602153,
          0.0033745422992244776,
          0.07333132867480789,
          0.04162931971145206,
          0.05707868014249505,
          0.09230739808181648,
          0.0013497511000059483,
          0.036988452125216176,
          0.0007235463530508334,
          0.037846536610215996,
          0.0030296372477658247,
          0.020598469653182974,
          0.03792797506383618,
          0.08741887887275378,
          0.07656741877284565,
          0.09313385762845991,
          0.07567758200238496,
          0.09049936100577491,
          0.03768644455173347,
          0.015953460207436657,
          0.03332981148669007,
          0.03242278715833367,
          0.045358048349803656,
          0.05906933694452369,
          0.08142467360274461,
          0.0034798632476369116,
          0.061786159500462415,
          0.0691729996235351,
          0.04662997791475687,
          0.08784022053872487,
          0.004886702757686506,
          0.07178720418255431,
          0.002960454785275164,
          0.06824773888898086,
          0.02429684252846674,
          0.07015179778730898,
          0.012715534509767762,
          0.040386370312677014,
          0.09048738246405579,
          0.08214754674914028,
          0.023439341655155148,
          0.037690191972647794,
          0.023166752452734397,
          0.01735201928698695,
          0.06826550816795653,
          0.08016566936724712,
          0.07703972877917992,
          0.07486200279024967,
          0.06759022537195675,
          0.06412840621612882,
          0.06349607988320165,
          0.0727533711748496,
          0.08940443858915009,
          0.006586985899706669,
          0.07738714272268349,
          0.09848182424421699,
          0.005536984728550392,
          0.09353397751096972,
          0.004420019028213242,
          0.05724335282610199,
          0.059512725386998706,
          0.05930900585307158,
          0.08336752990368562,
          0.03472337867205163,
          0.07705063733556586,
          0.004930100494972385,
          0.06405097968395042,
          0.046543210207128746,
          0.0293407506031252,
          0.09883598724743173,
          0.005830814304773723,
          0.08715454200962526,
          0.09404142311909648,
          0.03990675377066947,
          0.06504836048184368,
          0.016156125440758215,
          0.007237472033250736,
          0.06866448341930534,
          0.02712430889488608,
          0.061213734781232376,
          0.031702490560344285,
          0.09176327436500298,
          0.0591061456491773,
          0.011021626017009631,
          0.03536267964646877,
          0.07988303787062394,
          0.08215742689108627,
          0.045237515617096366,
          0.030228210734072777,
          0.005480319748384215,
          0.04586799323457325,
          0.09228798675008901,
          0.08374869609923927,
          0.07872526119838559,
          0.004457915004446893,
          0.004311597610857375,
          0.0004903508131912531,
          0.002589900654934595,
          0.0697817950970162,
          0.09950275170537454,
          0.004977826052817268,
          0.09539297395169764,
          0.06805930844384028,
          0.029357463726969818,
          0.042551755779649564,
          0.02077194641391084,
          0.0009509643737442395,
          0.0682872670404586,
          0.010405203474867555,
          0.06825414276354481,
          0.03862918650907914,
          0.0484555758843259,
          0.09947604322516516,
          0.04826730800863481,
          0.03190731541916505,
          0.011887836306712262,
          0.03480749131848569,
          0.062219199004598644,
          0.09915321701417179,
          0.058953536119337895,
          0.039885736442787624,
          0.0904119736238221,
          0.08111067715819657,
          0.030694298764424203,
          0.0825748693276931,
          0.0766873514740866,
          0.03794504382252271,
          0.016317326224578398,
          0.05467353502682953,
          0.02024085418240711,
          0.06422479585640818,
          0.07048732354735528,
          0.04812298297702278,
          0.04272643081279201,
          0.06241062463936391,
          0.07328571531771073,
          0.006129610280472549,
          0.057645592488433255,
          0.052281187630028376,
          0.04293575703316955,
          0.01262998683361974,
          0.06899821791355408,
          0.05435097603928326,
          0.02308930446167599,
          0.03812742077926551,
          0.08912231015954127,
          0.021941225597848835,
          0.07088510421972141,
          0.08307332208424513,
          0.07761522420101574,
          0.04732757580410711,
          0.09945087311148558,
          0.07501054964028502,
          0.013434943001843811,
          0.09149828566052279,
          0.0741546295992683,
          0.025244598188276426,
          0.048481936536788436,
          0.02387793742203021,
          0.07960996588392165,
          0.07308678667870011,
          0.01925203115379023,
          0.057611929912809196,
          0.06372810706303757,
          0.0371273333223368,
          0.08218588509760975,
          0.012410018304171827,
          0.03437155432802059,
          0.0326072839655325,
          0.012017761859941878,
          0.02718352433307842,
          0.011640723398860327,
          0.058095352541058694,
          0.07796629478106742,
          0.047281889864310984,
          0.013085335626167822,
          0.0017048347452908593,
          0.03759364312042021,
          0.0636826149806978,
          0.005975225774194151,
          0.09237346597184273,
          0.04371433857540586,
          0.046480767020254936,
          0.09201486357693496,
          0.09853517668559568,
          0.028721588999489487,
          0.0800356954819319,
          0.020798737850181333,
          0.08416207619497304,
          0.05450397549730332,
          0.03704552495763003,
          0.08167697391271395,
          0.03891336567056869,
          0.01678616501276573,
          0.0575410588906746,
          0.028992577091489672,
          0.03424198457603232,
          0.09176862712338041,
          0.06578865450430212,
          0.07417623569964868,
          0.008226417923689758,
          0.06877660765047923,
          0.039830227746278785,
          0.005910794376761178,
          0.05565976369218677,
          0.09887649783286752,
          0.04997063630643871,
          0.04578792938980505,
          0.026353370626518536,
          0.026162550058625906,
          0.004058278148348622,
          0.07232858258410654,
          0.02183588775537359,
          0.011081173706444578,
          0.045036578840323256,
          0.045866639679030104,
          0.03969643860704573,
          0.08445319950895074,
          0.007013163122591393,
          0.06149843082507459,
          0.08447221855506463,
          0.09930365247666724,
          0.03863829466705769,
          0.057373612476005434,
          0.0922817471538648,
          0.016165070964670503,
          0.04249820007755762,
          0.08360095629743201,
          0.07282260871474228,
          0.0168243284755764,
          0.03664923920440768,
          0.09893690748463482,
          0.04475685307531727,
          0.015568528239006448,
          0.07400617481501526,
          0.04569896407717756,
          0.030671946264966502,
          0.06989562505698002,
          0.008308305422799638,
          0.07098119200744732,
          0.0062310261279440796,
          0.0812672719285195,
          0.06987366238012604,
          0.07964287630328597,
          0.0066707354790629956,
          0.07662295748206364,
          0.001179329061575116,
          0.021488750074434303,
          0.034614698159320556,
          0.014976581653193235,
          0.024249945765376174,
          0.001407636610073697,
          0.08296740271478627,
          0.005694896946604132,
          0.09757784284616657,
          0.050743531596425286,
          0.020105173886599912,
          0.04580435380376759,
          0.016300043058169095,
          0.06628739687822174,
          0.034790034706322394,
          0.008047140943172805,
          0.035845272291725704,
          0.0325681234058067,
          0.0870436773618443,
          0.06153483177153748,
          0.0175422566354873,
          0.03792771774195163,
          0.021009048088951477,
          0.06886769938683869,
          0.06268960431802083,
          0.06355638714728118,
          0.06060190762006947,
          0.0043411747690591355,
          0.022280292684912602,
          0.0006715335027209583,
          0.060251158225516376,
          0.017579007694361753,
          0.058917543368386616,
          0.034217308738276844,
          0.027551486494201305,
          0.028038664091286535,
          0.0973779076439344,
          0.031517555083700174,
          0.019309497861358518,
          0.040890950959126586,
          0.05755581095025602,
          0.005075411832924439,
          0.08549412750153342,
          0.0022627770876526994,
          0.0778756842206363,
          0.031043421470873394,
          0.07371813782889838,
          0.04625529301828842,
          0.024309242158828844,
          0.08914828237668904,
          0.03092666321633072,
          0.035729667393100926,
          0.0981050105861586,
          0.08070919239678084,
          0.07901171754588512,
          0.011535945487394467,
          0.06697225904207064,
          0.029054126174923745,
          0.0884960874844387,
          0.054380989911999265,
          0.08680440965311291,
          0.09028224299932813,
          0.03618911111493488,
          0.058071391370864124,
          0.02566255163281659,
          0.05056854912525763,
          0.00020611745004338143,
          0.05825107257089995,
          0.03865681336899209,
          0.0691072658350174,
          0.030656072471467496,
          0.0188776123846011,
          0.03984063520281059,
          0.0033311634305302896,
          0.09319898356671795,
          0.0933440872967547,
          0.09938706219455791,
          0.03205717084184322,
          0.06386355565041754,
          0.08768989322747858,
          0.039268805806969516,
          0.08770225778433284,
          0.0398233675934765,
          0.08356856440978794,
          0.054299209253411494,
          0.08135879363768227,
          0.08844356381974375,
          0.008850646014507408,
          0.05376635917740823,
          0.03295907461644539,
          0.02201249460798787,
          0.07834256166587765,
          0.06336191363604464,
          0.017123537443330387,
          0.03749624959146879,
          0.03337974345769899,
          0.027337422076712567,
          0.0666705825826103,
          0.03696624234293195,
          0.03723650233306335,
          0.03857802322520406,
          0.09638254381663938,
          0.03860178618948213,
          0.01805504545419043,
          0.022332889277081103,
          0.04548868622270159,
          0.005207655129381713,
          0.09350640874714805,
          0.005706313477699711,
          0.020108112902659403,
          0.041239427278588016,
          0.037788031398437984,
          0.028690244122263557,
          0.08485061582481102,
          0.027580266305210446,
          0.07793060996273134,
          0.03948679547468586,
          0.0639261552358724,
          0.08426869736510954,
          0.08852443408423803,
          0.08782694716508772,
          0.023908314529626832,
          0.01657771429790419,
          0.02565985389599572,
          0.0039862218174279524,
          0.03411012937609783,
          0.013884021903682374,
          0.06961790248124117,
          0.03335676242662264,
          0.0028735173544206486,
          0.07772741728297602,
          0.04378213992793883,
          0.09201948525123775,
          0.021207097463948086,
          0.01399694845467003,
          0.014313895460416351,
          0.07478926039394189,
          0.01060434821076069,
          0.09884632337152002,
          0.012798979470527909,
          0.047315354005082653,
          0.07206576382771748,
          0.0579686004908276,
          0.07556700479838609,
          0.017806088265009234,
          0.09356801637796086,
          0.005018361678633899,
          0.0028972708914512674,
          0.05686876048560189,
          0.09753721616407947,
          0.031940720278243226,
          0.01018736633922256,
          0.08995202025652758,
          0.016168014186917316,
          0.03545732837416689,
          0.005262765574185441,
          0.03830113611039641,
          0.01435708039828106,
          0.09127218567128094,
          0.0540102930677256,
          0.04544624929532087,
          0.028165847590541946,
          0.09867022594912461,
          0.004393423413511103,
          0.049543579263297596,
          0.05775688329104951,
          0.03651915058662253,
          0.08572331677381592,
          0.01605235908389002,
          0.002569296024912787,
          0.05085516546805448,
          0.008343169631053828,
          0.08782026136089378,
          0.05494985124665683,
          0.04430810996135174,
          0.09497253783315811,
          0.06908870156323837,
          0.03320521239976421,
          0.06556482815763107,
          0.08366119980879769,
          0.040142600433473556,
          0.03808328082059713,
          0.0730863396919604,
          0.03953370524528212,
          0.07700119711670718,
          0.03574886952116304,
          0.013490233231848133,
          0.004662097924536288,
          0.004792325726832144,
          0.08441424817728871,
          0.05671167661286639,
          0.03386205071899375,
          0.05075581731013043,
          0.05333629187530158,
          0.0965833776356472,
          0.05071906629988607,
          0.05215827438738392,
          0.09292865067359843,
          0.08020268041615705,
          0.0001602403398002618,
          0.025369714584998284,
          0.035165516121772815,
          0.0987393908595281,
          0.015776105391316148,
          0.019270451455630323,
          0.004283783207517962,
          0.04213961793709489,
          0.0947328325692986,
          0.040956882602438016,
          0.0033290508377099392,
          0.020574663645110302,
          0.03352882078033174,
          0.060063752968564955,
          0.09575528699831601,
          0.06416287076993275,
          0.0900568011894229,
          0.029029590772595575,
          0.008497838437188574,
          0.01614865485800233,
          0.08680911364417551,
          0.008438257591017202,
          0.0897143833928339,
          0.013266213511099446,
          0.026961401804738314,
          0.07891878430070924,
          0.010680072931955713,
          0.060797108590015254,
          0.08291567021848661,
          0.07835165733016566,
          0.02892713476540213,
          0.08761940497373148,
          0.005745243013695047,
          0.008431368685852534,
          0.08414257450182165,
          0.07707149384290934,
          0.01726237531382737,
          0.02682802848904966,
          0.08922240980877018,
          0.009800810791474825,
          0.019239075579485065,
          0.0767569576224244,
          0.030988812709396917,
          0.0182005940233368,
          0.07784586402836918,
          0.049579061140166296,
          0.05965482778004439,
          0.06901862934077783,
          0.005580221937025709,
          0.0852119638501699,
          0.09568517416005078,
          0.06262370725112196,
          0.05872927038196733,
          0.05686839063736175,
          0.0019001711329764835,
          0.08963462922310078,
          0.008281012151659363,
          0.004886417593117248,
          0.07987279110695615,
          0.05649155890860473,
          0.06401969950733125,
          0.040295601975038654,
          0.03159359378279244,
          0.08478127150103557,
          0.02897291354906695,
          0.02907174890603639,
          0.08523768560304973,
          0.013677406118484966,
          0.09451321992153679,
          0.08690774149829013,
          0.05637131636033504,
          0.01797872709952111,
          0.06475587807850225,
          0.038823019602245254,
          0.0827733868479867,
          0.053343348017635475,
          0.04747110686224379,
          0.05142269294550541,
          0.055782881848597705,
          0.06367473305663955,
          0.025828255694878087,
          0.08957254936709545,
          0.005651128592301398,
          0.0980961835372522,
          0.0012119415631189384,
          0.042564430051561734,
          0.0990952238135564,
          0.09580489344221206,
          0.08976248216401199,
          0.04428119822779975,
          0.06607670971117102,
          0.08513237130889253,
          0.044017974619331934,
          0.04934746735965444,
          0.09171274366467337,
          0.04702749002489952,
          0.08560573028729233,
          0.05666241822871199,
          0.06744603060171894,
          0.024524766213080234,
          0.05422564446643759,
          0.008604571239815091,
          0.09817799876418415,
          0.08518697532547977,
          0.03709858955031763,
          0.03270836444891938,
          0.08321232959639703,
          0.011519871541211545,
          0.042936047007511316,
          0.09621677158766251,
          0.09590892423325262,
          0.032349609248777285,
          0.05145597369020433,
          0.07360212526636749,
          0.08652308785694715,
          0.0832909803124291,
          0.03179636820144126,
          0.026291392111089176,
          0.03111160393055532,
          0.0521324206500918,
          0.04597927343425676,
          0.030745271168745952,
          0.053647209223664394,
          0.02004361023642185,
          0.02037954063446027,
          0.07426530883998242,
          0.060378271937431546,
          0.06085287601965787,
          0.08673177978095294,
          0.05625881133107507,
          0.0989204032570549,
          0.011927382280394772,
          0.028164857411507004,
          0.03233798324570779,
          0.05083143330135904,
          0.039017263638932986,
          0.08508020777668866,
          0.0923549920816951,
          0.021700576744220497,
          0.047733056603057204,
          0.04341277317852638,
          0.028748538418101783,
          0.05870884095056107,
          0.011049888419975553,
          0.03081527584466099,
          0.0541492135768107,
          0.010030644888772996,
          0.0029430052973673827,
          0.023434690486080424,
          0.03195586904780232,
          0.03653614561206859,
          0.04546726104695789,
          0.07697522755672863,
          0.029990163996055298,
          0.024134376142980717,
          0.03275768506126246,
          0.008813591870228801,
          0.019841654719428947,
          0.0818635524106178,
          0.034729246761359446,
          0.025174731415349896,
          0.08995307588706741,
          0.008991048113495449,
          0.08549029897177704,
          0.009519589143432277,
          0.09306545557114242,
          0.07147016498325902,
          0.05110539694039841,
          0.02299885193918094,
          0.008524237505065445,
          0.012714863996692983,
          0.08279307125049158,
          0.07625757841571534,
          0.09579425257777421,
          0.07051290898008224,
          0.0983338516720423,
          0.047073755065150436,
          0.015993201122385944,
          0.049291437716164115,
          0.08535569719094455,
          0.05479258579702367,
          0.06527639618288146,
          0.04492855581798088,
          0.09046754120544183,
          0.03319482159953855,
          0.06051843301270749,
          0.02293445915170906,
          0.08116595897734559,
          0.058041981684750145,
          0.0007645532760824365,
          0.06814798995293633,
          0.07205484920415063,
          0.09360962027911383,
          0.02660934668600597,
          0.054325642450559646,
          0.09660183991766466,
          0.0682933899667788,
          0.038304310173233456,
          0.024804154287609778,
          0.0784499025972392,
          0.03702872329910319,
          0.0401853653407492,
          0.0667298791786858,
          0.0967279575192245,
          0.08128740973619539,
          0.016476867104812543,
          0.03069159277906041,
          0.016881209050180847,
          0.03049719758677073,
          0.02153583563793608,
          0.0048386419372444065,
          0.024158814494468554,
          0.07768276145580044,
          0.03383693137982684,
          0.08197480297832617,
          0.04279247619000131,
          0.0444531264174027,
          0.01626527237767488,
          0.01705710296313798,
          0.07652372432681265,
          0.06586863863175453,
          0.0009963932776739062,
          0.03573780185214181,
          0.06851253708654768,
          0.04479788569438937,
          0.0032697187916119804,
          0.05738423046985072,
          0.051060449266291184,
          0.0021338008804441264,
          0.06855534715749882,
          0.09439088956789526,
          0.08576232872280955,
          0.021777415372662878,
          0.057701608838408885,
          0.05890146836483355,
          0.01447591675589536,
          0.08947965840104123,
          0.026626257141428262,
          0.00818417636324726
         ],
         "xaxis": "x",
         "yaxis": "y"
        },
        {
         "alignmentgroup": "True",
         "boxpoints": "all",
         "fillcolor": "rgba(255,255,255,0)",
         "hoveron": "points",
         "hovertemplate": "Distribution=Uniform<br>Random Samples=%{x}<extra></extra>",
         "jitter": 0,
         "legendgroup": "Uniform",
         "line": {
          "color": "rgba(255,255,255,0)"
         },
         "marker": {
          "color": "#9c179e",
          "line": {
           "color": "black",
           "width": 1
          },
          "symbol": "line-ns-open"
         },
         "name": "Uniform",
         "offsetgroup": "Uniform",
         "showlegend": false,
         "type": "box",
         "x": [
          0.07993756521788267,
          0.06939951781162462,
          0.01641390814050355,
          0.0794068770765534,
          0.07147778144691008,
          0.07978274978628716,
          0.0764944323814593,
          0.07877259391303179,
          0.09393265878493604,
          0.06146948629106696,
          0.015637089430875828,
          0.09496408751995654,
          0.009181763469017118,
          0.0777081151997469,
          0.04158013127456476,
          0.07804855485345873,
          0.08270148047846836,
          0.07645171023917333,
          0.005659383452311577,
          0.0643859456581009,
          0.07435854710176557,
          0.06483011489681366,
          0.0651997674746073,
          0.09002846895349846,
          0.035536607058184524,
          0.09453234227485141,
          0.07538931418024394,
          0.01313056075206285,
          0.006561407341709751,
          0.05051749033258736,
          0.07943729151288793,
          0.029666179709718344,
          0.06645110313662042,
          0.021640887943507787,
          0.05519782962081777,
          0.08587490977402219,
          0.00881346397079848,
          0.04931141549301336,
          0.0974246777461222,
          0.02697923089558737,
          0.03473987197038223,
          0.05166562484724487,
          0.0975409803633108,
          0.049990266879867254,
          0.06400726314248283,
          0.05323208232399942,
          0.019970006550156703,
          0.06482415055018417,
          0.0005027716359645888,
          0.012231747527505277,
          0.05285433758070958,
          0.08144795046333027,
          0.08605304865914257,
          0.026923640319399617,
          0.05208472756306894,
          0.020452570738966377,
          0.009068395991068028,
          0.0030530711630508208,
          0.005458032614960706,
          0.06851468594158239,
          0.0625003034585223,
          0.07999163663498553,
          0.0006265833893401379,
          0.04513213001344777,
          0.08926192368599972,
          0.09064431121942529,
          0.09337253879278126,
          0.09433045472418591,
          0.08225411487495891,
          0.08705199082438818,
          0.07214339158471787,
          0.04270690139657865,
          0.07232517596258889,
          0.012792912499908968,
          0.051815256272938585,
          0.05028809225463865,
          0.06348875016074945,
          0.09287870682693326,
          0.09308729008833397,
          0.02594833355359874,
          0.0778053335997551,
          0.04987819293707271,
          0.035999547949664465,
          0.030151289861046617,
          0.008611585811001111,
          0.09214712557465327,
          0.04152165785161438,
          0.03489150154927366,
          0.008159018119729886,
          0.006891912736972448,
          0.006051666609856097,
          0.034067650667003256,
          0.0028759880277186966,
          0.008626366009584918,
          0.04567860850303172,
          0.05687348827020452,
          0.07044936506323468,
          0.031518306519111625,
          0.04670094435011389,
          0.009459460002726959,
          0.05902387043110875,
          0.04479492096862886,
          0.027904591409351042,
          0.047896874360684294,
          0.07426906554072224,
          0.05825341974545436,
          0.020564501047199188,
          0.06326287958912995,
          0.06613822312672638,
          0.05884457644160662,
          0.07557638592705966,
          0.005314190285364759,
          0.025594519670286957,
          0.07497067515039973,
          0.03130733006925399,
          0.09459128617736924,
          0.006239535424159458,
          0.09792469055162403,
          0.07650163021447834,
          0.04034959013195912,
          0.012527672079479035,
          0.04922125165360774,
          0.05624824453310957,
          0.055041705042190824,
          0.08986821743558951,
          0.0883791157593958,
          0.03944311407651293,
          0.05062008191180786,
          0.012625420125686735,
          0.09155155975582661,
          0.0682159072636933,
          0.08721230577295336,
          0.08393142311004596,
          0.05008676855642058,
          0.044019696712957114,
          0.08148855930100667,
          0.07780552748647614,
          0.027531901870708773,
          0.013831279358150522,
          0.05713329968678231,
          0.006799120902115057,
          0.018078182490193054,
          0.09087472828283713,
          0.02989383301195572,
          0.027083947946734452,
          0.09989675421597702,
          0.04654810276388845,
          0.021806953382317317,
          0.08769007593078453,
          0.04180356564418298,
          0.0460982652848303,
          0.05880581412560355,
          0.08779484302561387,
          0.01142382615928768,
          0.07171963974191328,
          0.05141703903508733,
          0.02764126875439297,
          0.03508755642013646,
          0.03721754788192004,
          0.09331888271930511,
          0.0338404288034172,
          0.06652533427452197,
          0.01281632423411,
          0.07712573252393178,
          0.047899910034926545,
          0.08379665037882822,
          0.046780871609797096,
          0.021379214825825305,
          0.007380154407583264,
          0.04371372686605942,
          0.09127018376275403,
          0.06109146517004558,
          0.07816440144841906,
          0.06738489947024848,
          0.09114613714021545,
          0.04797110255368906,
          0.033515000801461046,
          0.04994900431646778,
          0.07366351320502736,
          0.013526823224983232,
          0.010817403932018292,
          0.002036716977819371,
          0.0641873132843405,
          0.0008136277010976513,
          0.04507511936285608,
          0.05878912541662531,
          0.06563017514257694,
          0.08148787252437731,
          0.0251856047103007,
          0.08577166194502953,
          0.046822319698964276,
          0.051020054974756084,
          0.026015454942974303,
          0.020430874023138142,
          0.04051758439034173,
          0.027355877228492673,
          0.0036163032731137187,
          0.018829168026637682,
          0.06900421868800798,
          0.03736584689389413,
          0.0003291431728583905,
          0.051477007292078165,
          0.018958769144964874,
          0.07720837696092167,
          0.011503609707198615,
          0.019823562654357318,
          0.0542709189530026,
          0.010609532999627354,
          0.02241045582402483,
          0.03150437284300988,
          0.0020040322279612026,
          0.03381788498606418,
          0.030420687776339654,
          0.05311751019471238,
          0.0616489785124941,
          0.019348065967563256,
          0.028922309271082507,
          0.09591480696343178,
          0.0722071072209108,
          0.07521866003767608,
          0.007876113281830759,
          0.02132710558531584,
          0.017512828653028792,
          0.05408827302003911,
          0.06426920648784147,
          0.07087753655232469,
          0.07228228590440963,
          0.08698275753194214,
          0.06115632883265959,
          0.0974322944087329,
          0.028627471519896232,
          0.09839578611194477,
          0.08949792419174298,
          0.022615393305140397,
          0.08604742117414763,
          0.006360804402723752,
          0.09145555798338068,
          0.044456663923253786,
          0.06864476446879558,
          0.07007096857715804,
          0.033921051365495176,
          0.09525759138483547,
          0.08206258631363882,
          0.053957713160897716,
          0.06853973333144309,
          0.032799698481213876,
          0.028943394964823448,
          0.06989273397893231,
          0.08280496497072878,
          0.03264813396042548,
          0.027712820813341043,
          0.06931191170606708,
          0.05679955837217106,
          0.08681676424967884,
          0.08116546541562178,
          0.03427401632020023,
          0.013132478267928849,
          0.07733802132826,
          0.07807180529857612,
          0.047418774812316246,
          0.001345163202404303,
          0.023369874650903982,
          0.01802562613066467,
          0.02063131450862035,
          0.05857067181880601,
          0.008918996078327263,
          0.018714603757602415,
          0.05182433840889299,
          0.08624574481505635,
          0.005543112145644463,
          0.08618023404637098,
          0.09574425994401706,
          0.035161554639133744,
          0.012812839439059113,
          0.04964175410927911,
          0.04948627822829476,
          0.0023090991146119794,
          0.017558162349395192,
          0.0499474254166158,
          0.03750380147208522,
          0.06989103331837837,
          0.005185888847579787,
          0.0800215795716,
          0.09152800625725156,
          0.08785297036178258,
          0.04437635636177454,
          0.07112300765605362,
          0.06260225039104418,
          0.07869944528090725,
          0.09580358954183582,
          0.06605043669921239,
          0.002046691086765416,
          0.09038265597874642,
          0.08051877194405967,
          0.05735554971182986,
          0.08295913297387641,
          0.0021696686229589163,
          0.010634689163232458,
          0.09669299438763942,
          0.045996447874237685,
          0.07015263962413257,
          0.03452205354109986,
          0.07779632537059995,
          0.09524823095333358,
          0.044671272218555734,
          0.013019133303057378,
          0.09762417748559048,
          0.025699961006422654,
          0.04746950729133284,
          0.06195609579991148,
          0.08100230500591293,
          0.026039556974312192,
          0.028110385472017232,
          0.05474382319037533,
          0.04735095121641161,
          0.026291835347813697,
          0.05165820185602153,
          0.0033745422992244776,
          0.07333132867480789,
          0.04162931971145206,
          0.05707868014249505,
          0.09230739808181648,
          0.0013497511000059483,
          0.036988452125216176,
          0.0007235463530508334,
          0.037846536610215996,
          0.0030296372477658247,
          0.020598469653182974,
          0.03792797506383618,
          0.08741887887275378,
          0.07656741877284565,
          0.09313385762845991,
          0.07567758200238496,
          0.09049936100577491,
          0.03768644455173347,
          0.015953460207436657,
          0.03332981148669007,
          0.03242278715833367,
          0.045358048349803656,
          0.05906933694452369,
          0.08142467360274461,
          0.0034798632476369116,
          0.061786159500462415,
          0.0691729996235351,
          0.04662997791475687,
          0.08784022053872487,
          0.004886702757686506,
          0.07178720418255431,
          0.002960454785275164,
          0.06824773888898086,
          0.02429684252846674,
          0.07015179778730898,
          0.012715534509767762,
          0.040386370312677014,
          0.09048738246405579,
          0.08214754674914028,
          0.023439341655155148,
          0.037690191972647794,
          0.023166752452734397,
          0.01735201928698695,
          0.06826550816795653,
          0.08016566936724712,
          0.07703972877917992,
          0.07486200279024967,
          0.06759022537195675,
          0.06412840621612882,
          0.06349607988320165,
          0.0727533711748496,
          0.08940443858915009,
          0.006586985899706669,
          0.07738714272268349,
          0.09848182424421699,
          0.005536984728550392,
          0.09353397751096972,
          0.004420019028213242,
          0.05724335282610199,
          0.059512725386998706,
          0.05930900585307158,
          0.08336752990368562,
          0.03472337867205163,
          0.07705063733556586,
          0.004930100494972385,
          0.06405097968395042,
          0.046543210207128746,
          0.0293407506031252,
          0.09883598724743173,
          0.005830814304773723,
          0.08715454200962526,
          0.09404142311909648,
          0.03990675377066947,
          0.06504836048184368,
          0.016156125440758215,
          0.007237472033250736,
          0.06866448341930534,
          0.02712430889488608,
          0.061213734781232376,
          0.031702490560344285,
          0.09176327436500298,
          0.0591061456491773,
          0.011021626017009631,
          0.03536267964646877,
          0.07988303787062394,
          0.08215742689108627,
          0.045237515617096366,
          0.030228210734072777,
          0.005480319748384215,
          0.04586799323457325,
          0.09228798675008901,
          0.08374869609923927,
          0.07872526119838559,
          0.004457915004446893,
          0.004311597610857375,
          0.0004903508131912531,
          0.002589900654934595,
          0.0697817950970162,
          0.09950275170537454,
          0.004977826052817268,
          0.09539297395169764,
          0.06805930844384028,
          0.029357463726969818,
          0.042551755779649564,
          0.02077194641391084,
          0.0009509643737442395,
          0.0682872670404586,
          0.010405203474867555,
          0.06825414276354481,
          0.03862918650907914,
          0.0484555758843259,
          0.09947604322516516,
          0.04826730800863481,
          0.03190731541916505,
          0.011887836306712262,
          0.03480749131848569,
          0.062219199004598644,
          0.09915321701417179,
          0.058953536119337895,
          0.039885736442787624,
          0.0904119736238221,
          0.08111067715819657,
          0.030694298764424203,
          0.0825748693276931,
          0.0766873514740866,
          0.03794504382252271,
          0.016317326224578398,
          0.05467353502682953,
          0.02024085418240711,
          0.06422479585640818,
          0.07048732354735528,
          0.04812298297702278,
          0.04272643081279201,
          0.06241062463936391,
          0.07328571531771073,
          0.006129610280472549,
          0.057645592488433255,
          0.052281187630028376,
          0.04293575703316955,
          0.01262998683361974,
          0.06899821791355408,
          0.05435097603928326,
          0.02308930446167599,
          0.03812742077926551,
          0.08912231015954127,
          0.021941225597848835,
          0.07088510421972141,
          0.08307332208424513,
          0.07761522420101574,
          0.04732757580410711,
          0.09945087311148558,
          0.07501054964028502,
          0.013434943001843811,
          0.09149828566052279,
          0.0741546295992683,
          0.025244598188276426,
          0.048481936536788436,
          0.02387793742203021,
          0.07960996588392165,
          0.07308678667870011,
          0.01925203115379023,
          0.057611929912809196,
          0.06372810706303757,
          0.0371273333223368,
          0.08218588509760975,
          0.012410018304171827,
          0.03437155432802059,
          0.0326072839655325,
          0.012017761859941878,
          0.02718352433307842,
          0.011640723398860327,
          0.058095352541058694,
          0.07796629478106742,
          0.047281889864310984,
          0.013085335626167822,
          0.0017048347452908593,
          0.03759364312042021,
          0.0636826149806978,
          0.005975225774194151,
          0.09237346597184273,
          0.04371433857540586,
          0.046480767020254936,
          0.09201486357693496,
          0.09853517668559568,
          0.028721588999489487,
          0.0800356954819319,
          0.020798737850181333,
          0.08416207619497304,
          0.05450397549730332,
          0.03704552495763003,
          0.08167697391271395,
          0.03891336567056869,
          0.01678616501276573,
          0.0575410588906746,
          0.028992577091489672,
          0.03424198457603232,
          0.09176862712338041,
          0.06578865450430212,
          0.07417623569964868,
          0.008226417923689758,
          0.06877660765047923,
          0.039830227746278785,
          0.005910794376761178,
          0.05565976369218677,
          0.09887649783286752,
          0.04997063630643871,
          0.04578792938980505,
          0.026353370626518536,
          0.026162550058625906,
          0.004058278148348622,
          0.07232858258410654,
          0.02183588775537359,
          0.011081173706444578,
          0.045036578840323256,
          0.045866639679030104,
          0.03969643860704573,
          0.08445319950895074,
          0.007013163122591393,
          0.06149843082507459,
          0.08447221855506463,
          0.09930365247666724,
          0.03863829466705769,
          0.057373612476005434,
          0.0922817471538648,
          0.016165070964670503,
          0.04249820007755762,
          0.08360095629743201,
          0.07282260871474228,
          0.0168243284755764,
          0.03664923920440768,
          0.09893690748463482,
          0.04475685307531727,
          0.015568528239006448,
          0.07400617481501526,
          0.04569896407717756,
          0.030671946264966502,
          0.06989562505698002,
          0.008308305422799638,
          0.07098119200744732,
          0.0062310261279440796,
          0.0812672719285195,
          0.06987366238012604,
          0.07964287630328597,
          0.0066707354790629956,
          0.07662295748206364,
          0.001179329061575116,
          0.021488750074434303,
          0.034614698159320556,
          0.014976581653193235,
          0.024249945765376174,
          0.001407636610073697,
          0.08296740271478627,
          0.005694896946604132,
          0.09757784284616657,
          0.050743531596425286,
          0.020105173886599912,
          0.04580435380376759,
          0.016300043058169095,
          0.06628739687822174,
          0.034790034706322394,
          0.008047140943172805,
          0.035845272291725704,
          0.0325681234058067,
          0.0870436773618443,
          0.06153483177153748,
          0.0175422566354873,
          0.03792771774195163,
          0.021009048088951477,
          0.06886769938683869,
          0.06268960431802083,
          0.06355638714728118,
          0.06060190762006947,
          0.0043411747690591355,
          0.022280292684912602,
          0.0006715335027209583,
          0.060251158225516376,
          0.017579007694361753,
          0.058917543368386616,
          0.034217308738276844,
          0.027551486494201305,
          0.028038664091286535,
          0.0973779076439344,
          0.031517555083700174,
          0.019309497861358518,
          0.040890950959126586,
          0.05755581095025602,
          0.005075411832924439,
          0.08549412750153342,
          0.0022627770876526994,
          0.0778756842206363,
          0.031043421470873394,
          0.07371813782889838,
          0.04625529301828842,
          0.024309242158828844,
          0.08914828237668904,
          0.03092666321633072,
          0.035729667393100926,
          0.0981050105861586,
          0.08070919239678084,
          0.07901171754588512,
          0.011535945487394467,
          0.06697225904207064,
          0.029054126174923745,
          0.0884960874844387,
          0.054380989911999265,
          0.08680440965311291,
          0.09028224299932813,
          0.03618911111493488,
          0.058071391370864124,
          0.02566255163281659,
          0.05056854912525763,
          0.00020611745004338143,
          0.05825107257089995,
          0.03865681336899209,
          0.0691072658350174,
          0.030656072471467496,
          0.0188776123846011,
          0.03984063520281059,
          0.0033311634305302896,
          0.09319898356671795,
          0.0933440872967547,
          0.09938706219455791,
          0.03205717084184322,
          0.06386355565041754,
          0.08768989322747858,
          0.039268805806969516,
          0.08770225778433284,
          0.0398233675934765,
          0.08356856440978794,
          0.054299209253411494,
          0.08135879363768227,
          0.08844356381974375,
          0.008850646014507408,
          0.05376635917740823,
          0.03295907461644539,
          0.02201249460798787,
          0.07834256166587765,
          0.06336191363604464,
          0.017123537443330387,
          0.03749624959146879,
          0.03337974345769899,
          0.027337422076712567,
          0.0666705825826103,
          0.03696624234293195,
          0.03723650233306335,
          0.03857802322520406,
          0.09638254381663938,
          0.03860178618948213,
          0.01805504545419043,
          0.022332889277081103,
          0.04548868622270159,
          0.005207655129381713,
          0.09350640874714805,
          0.005706313477699711,
          0.020108112902659403,
          0.041239427278588016,
          0.037788031398437984,
          0.028690244122263557,
          0.08485061582481102,
          0.027580266305210446,
          0.07793060996273134,
          0.03948679547468586,
          0.0639261552358724,
          0.08426869736510954,
          0.08852443408423803,
          0.08782694716508772,
          0.023908314529626832,
          0.01657771429790419,
          0.02565985389599572,
          0.0039862218174279524,
          0.03411012937609783,
          0.013884021903682374,
          0.06961790248124117,
          0.03335676242662264,
          0.0028735173544206486,
          0.07772741728297602,
          0.04378213992793883,
          0.09201948525123775,
          0.021207097463948086,
          0.01399694845467003,
          0.014313895460416351,
          0.07478926039394189,
          0.01060434821076069,
          0.09884632337152002,
          0.012798979470527909,
          0.047315354005082653,
          0.07206576382771748,
          0.0579686004908276,
          0.07556700479838609,
          0.017806088265009234,
          0.09356801637796086,
          0.005018361678633899,
          0.0028972708914512674,
          0.05686876048560189,
          0.09753721616407947,
          0.031940720278243226,
          0.01018736633922256,
          0.08995202025652758,
          0.016168014186917316,
          0.03545732837416689,
          0.005262765574185441,
          0.03830113611039641,
          0.01435708039828106,
          0.09127218567128094,
          0.0540102930677256,
          0.04544624929532087,
          0.028165847590541946,
          0.09867022594912461,
          0.004393423413511103,
          0.049543579263297596,
          0.05775688329104951,
          0.03651915058662253,
          0.08572331677381592,
          0.01605235908389002,
          0.002569296024912787,
          0.05085516546805448,
          0.008343169631053828,
          0.08782026136089378,
          0.05494985124665683,
          0.04430810996135174,
          0.09497253783315811,
          0.06908870156323837,
          0.03320521239976421,
          0.06556482815763107,
          0.08366119980879769,
          0.040142600433473556,
          0.03808328082059713,
          0.0730863396919604,
          0.03953370524528212,
          0.07700119711670718,
          0.03574886952116304,
          0.013490233231848133,
          0.004662097924536288,
          0.004792325726832144,
          0.08441424817728871,
          0.05671167661286639,
          0.03386205071899375,
          0.05075581731013043,
          0.05333629187530158,
          0.0965833776356472,
          0.05071906629988607,
          0.05215827438738392,
          0.09292865067359843,
          0.08020268041615705,
          0.0001602403398002618,
          0.025369714584998284,
          0.035165516121772815,
          0.0987393908595281,
          0.015776105391316148,
          0.019270451455630323,
          0.004283783207517962,
          0.04213961793709489,
          0.0947328325692986,
          0.040956882602438016,
          0.0033290508377099392,
          0.020574663645110302,
          0.03352882078033174,
          0.060063752968564955,
          0.09575528699831601,
          0.06416287076993275,
          0.0900568011894229,
          0.029029590772595575,
          0.008497838437188574,
          0.01614865485800233,
          0.08680911364417551,
          0.008438257591017202,
          0.0897143833928339,
          0.013266213511099446,
          0.026961401804738314,
          0.07891878430070924,
          0.010680072931955713,
          0.060797108590015254,
          0.08291567021848661,
          0.07835165733016566,
          0.02892713476540213,
          0.08761940497373148,
          0.005745243013695047,
          0.008431368685852534,
          0.08414257450182165,
          0.07707149384290934,
          0.01726237531382737,
          0.02682802848904966,
          0.08922240980877018,
          0.009800810791474825,
          0.019239075579485065,
          0.0767569576224244,
          0.030988812709396917,
          0.0182005940233368,
          0.07784586402836918,
          0.049579061140166296,
          0.05965482778004439,
          0.06901862934077783,
          0.005580221937025709,
          0.0852119638501699,
          0.09568517416005078,
          0.06262370725112196,
          0.05872927038196733,
          0.05686839063736175,
          0.0019001711329764835,
          0.08963462922310078,
          0.008281012151659363,
          0.004886417593117248,
          0.07987279110695615,
          0.05649155890860473,
          0.06401969950733125,
          0.040295601975038654,
          0.03159359378279244,
          0.08478127150103557,
          0.02897291354906695,
          0.02907174890603639,
          0.08523768560304973,
          0.013677406118484966,
          0.09451321992153679,
          0.08690774149829013,
          0.05637131636033504,
          0.01797872709952111,
          0.06475587807850225,
          0.038823019602245254,
          0.0827733868479867,
          0.053343348017635475,
          0.04747110686224379,
          0.05142269294550541,
          0.055782881848597705,
          0.06367473305663955,
          0.025828255694878087,
          0.08957254936709545,
          0.005651128592301398,
          0.0980961835372522,
          0.0012119415631189384,
          0.042564430051561734,
          0.0990952238135564,
          0.09580489344221206,
          0.08976248216401199,
          0.04428119822779975,
          0.06607670971117102,
          0.08513237130889253,
          0.044017974619331934,
          0.04934746735965444,
          0.09171274366467337,
          0.04702749002489952,
          0.08560573028729233,
          0.05666241822871199,
          0.06744603060171894,
          0.024524766213080234,
          0.05422564446643759,
          0.008604571239815091,
          0.09817799876418415,
          0.08518697532547977,
          0.03709858955031763,
          0.03270836444891938,
          0.08321232959639703,
          0.011519871541211545,
          0.042936047007511316,
          0.09621677158766251,
          0.09590892423325262,
          0.032349609248777285,
          0.05145597369020433,
          0.07360212526636749,
          0.08652308785694715,
          0.0832909803124291,
          0.03179636820144126,
          0.026291392111089176,
          0.03111160393055532,
          0.0521324206500918,
          0.04597927343425676,
          0.030745271168745952,
          0.053647209223664394,
          0.02004361023642185,
          0.02037954063446027,
          0.07426530883998242,
          0.060378271937431546,
          0.06085287601965787,
          0.08673177978095294,
          0.05625881133107507,
          0.0989204032570549,
          0.011927382280394772,
          0.028164857411507004,
          0.03233798324570779,
          0.05083143330135904,
          0.039017263638932986,
          0.08508020777668866,
          0.0923549920816951,
          0.021700576744220497,
          0.047733056603057204,
          0.04341277317852638,
          0.028748538418101783,
          0.05870884095056107,
          0.011049888419975553,
          0.03081527584466099,
          0.0541492135768107,
          0.010030644888772996,
          0.0029430052973673827,
          0.023434690486080424,
          0.03195586904780232,
          0.03653614561206859,
          0.04546726104695789,
          0.07697522755672863,
          0.029990163996055298,
          0.024134376142980717,
          0.03275768506126246,
          0.008813591870228801,
          0.019841654719428947,
          0.0818635524106178,
          0.034729246761359446,
          0.025174731415349896,
          0.08995307588706741,
          0.008991048113495449,
          0.08549029897177704,
          0.009519589143432277,
          0.09306545557114242,
          0.07147016498325902,
          0.05110539694039841,
          0.02299885193918094,
          0.008524237505065445,
          0.012714863996692983,
          0.08279307125049158,
          0.07625757841571534,
          0.09579425257777421,
          0.07051290898008224,
          0.0983338516720423,
          0.047073755065150436,
          0.015993201122385944,
          0.049291437716164115,
          0.08535569719094455,
          0.05479258579702367,
          0.06527639618288146,
          0.04492855581798088,
          0.09046754120544183,
          0.03319482159953855,
          0.06051843301270749,
          0.02293445915170906,
          0.08116595897734559,
          0.058041981684750145,
          0.0007645532760824365,
          0.06814798995293633,
          0.07205484920415063,
          0.09360962027911383,
          0.02660934668600597,
          0.054325642450559646,
          0.09660183991766466,
          0.0682933899667788,
          0.038304310173233456,
          0.024804154287609778,
          0.0784499025972392,
          0.03702872329910319,
          0.0401853653407492,
          0.0667298791786858,
          0.0967279575192245,
          0.08128740973619539,
          0.016476867104812543,
          0.03069159277906041,
          0.016881209050180847,
          0.03049719758677073,
          0.02153583563793608,
          0.0048386419372444065,
          0.024158814494468554,
          0.07768276145580044,
          0.03383693137982684,
          0.08197480297832617,
          0.04279247619000131,
          0.0444531264174027,
          0.01626527237767488,
          0.01705710296313798,
          0.07652372432681265,
          0.06586863863175453,
          0.0009963932776739062,
          0.03573780185214181,
          0.06851253708654768,
          0.04479788569438937,
          0.0032697187916119804,
          0.05738423046985072,
          0.051060449266291184,
          0.0021338008804441264,
          0.06855534715749882,
          0.09439088956789526,
          0.08576232872280955,
          0.021777415372662878,
          0.057701608838408885,
          0.05890146836483355,
          0.01447591675589536,
          0.08947965840104123,
          0.026626257141428262,
          0.00818417636324726
         ],
         "xaxis": "x2",
         "yaxis": "y2"
        },
        {
         "alignmentgroup": "True",
         "bingroup": "x",
         "hovertemplate": "Distribution=Loguniform<br>Random Samples=%{x}<br>count=%{y}<extra></extra>",
         "legendgroup": "Loguniform",
         "marker": {
          "color": "#fb9f3a",
          "line": {
           "color": "black",
           "width": 1
          },
          "opacity": 0.8,
          "pattern": {
           "shape": ""
          }
         },
         "name": "Loguniform",
         "nbinsx": 50,
         "offsetgroup": "Loguniform",
         "orientation": "v",
         "showlegend": true,
         "type": "histogram",
         "x": [
          0.0002120595138963838,
          0.0008379213698133616,
          0.0024968574613269063,
          0.0001572877384502258,
          0.02635033684737497,
          0.0032319526575590976,
          0.0170485970025144,
          0.04475302919611063,
          0.06099252813084049,
          0.00012585170036400647,
          0.002457375063537496,
          0.06747151863993178,
          0.004816880490340916,
          0.00017561082321343113,
          0.0004953275906198759,
          0.001583147053436116,
          0.0009847293821613954,
          0.00016189013920074678,
          0.0003655840914707605,
          0.0020030102374330814,
          0.01756500508578954,
          0.0005534174230121271,
          0.049499410985039176,
          0.05036639884241257,
          0.0012406530800803575,
          0.007380972297485176,
          0.01927357138749398,
          0.001492392769881649,
          0.015745459115533045,
          0.006731057338429078,
          0.0043120694852243615,
          0.003829111005938947,
          0.0967095333888965,
          0.0004530339340440974,
          0.00020688483125665816,
          0.02551937898297278,
          0.007186106747945586,
          0.055250739591232056,
          0.0008811481664071498,
          0.008749907438501155,
          0.0008990964030227983,
          0.00018685343384913382,
          0.011296356182794667,
          0.0003019905764963115,
          0.002797991581352948,
          0.032148632103419374,
          0.00021695000587676299,
          0.003550858757012463,
          0.04463013675768519,
          0.00027861656430684656,
          0.0002431575233229777,
          0.008226811119557016,
          0.026669313172440028,
          0.00043117403455232394,
          0.00047219252709599513,
          0.008217968459258826,
          0.031089730339703414,
          0.016863309949266367,
          0.00031067706654777373,
          0.010801691587034987,
          0.07303130086163565,
          0.027937647509629737,
          0.030095061423614643,
          0.0008110658920641295,
          0.00015207786354049971,
          0.000879355367195744,
          0.00013279259511086357,
          0.042355638267553244,
          0.05322530051462338,
          0.055304532053587735,
          0.003766871618983374,
          0.005513975996921287,
          0.061683687330094834,
          0.0006288580093235595,
          0.00031748602351212233,
          0.00731055256525286,
          0.00011413158963344005,
          0.0030070443467820796,
          0.015769624521448783,
          0.005158822117333775,
          0.000361807837546457,
          0.0002273916897058535,
          0.004829007315954391,
          0.004121052743170577,
          0.07581257338681713,
          0.0012168279770631556,
          0.0022087697754323093,
          0.09304021389719999,
          0.006398283127897212,
          0.00016519545987753607,
          0.0004676177306546864,
          0.010886863028560767,
          0.05941508954097103,
          0.00286780425028924,
          0.027106549919406708,
          0.0036677855357422602,
          0.07412885106787956,
          0.00031719695454758453,
          0.00041102861093563696,
          0.00011437474179766896,
          0.0254113051438843,
          0.09248427842578018,
          0.06196248454469477,
          0.003976647557145067,
          0.06328935602747222,
          0.0002730577293915581,
          0.0009628727059478881,
          0.0005158318275521459,
          0.0027853920561600395,
          0.01842469354085968,
          0.008334682011276878,
          0.002381223642971055,
          0.0010003387791894043,
          0.0022143881694870688,
          0.021552210019953343,
          0.0038561237125966357,
          0.0014803487213586502,
          0.00010277018146999575,
          0.00019143100780364742,
          0.0036808377303180788,
          0.01365929629216943,
          0.02352214919979055,
          0.00010444328802723131,
          0.00011180325126944752,
          0.0010631014330850783,
          0.05125326315541926,
          0.00010213567516040218,
          0.0007436463804128036,
          0.07118869634179936,
          0.08022803102279735,
          0.019802249058119222,
          0.0007407712334240333,
          0.07401510275555133,
          0.002060429523565021,
          0.00014006102291400617,
          0.010316573347006365,
          0.011347888701366654,
          0.06329742758389251,
          0.00010941829225902204,
          0.004675773782992503,
          0.04557145650822202,
          0.005310488834714265,
          0.018644079464678328,
          0.0011446043527589076,
          0.0010846713801228064,
          0.0066163964385730625,
          0.012176440282740656,
          0.006616942586757278,
          0.0010150925021508456,
          0.0001137228504359745,
          0.0017533786928218068,
          0.004543706183025369,
          0.01324603575464988,
          0.04489681727257071,
          0.03814658263020181,
          0.0003364969609772077,
          0.0001140078523655979,
          0.004401410503058052,
          0.004773979561663319,
          0.0157965075865306,
          0.025377852688459972,
          0.03938162483679345,
          0.0474667948102724,
          0.0002655670941970516,
          0.01743776935152833,
          0.00011477685280513434,
          0.00021536803934356003,
          0.000727435430827026,
          0.008450145215136633,
          0.05499883611170931,
          0.00010085437194291007,
          0.06310564846518965,
          0.00027461309822429214,
          0.03985691892313429,
          0.0023301549261151313,
          0.08293146899339485,
          0.004851509986647807,
          0.019716306068302245,
          0.006219409503531201,
          0.0064669508267562745,
          0.009010190184136594,
          0.0001402285411070856,
          0.0002580992694670273,
          0.0002083871323422544,
          0.0028555005021771596,
          0.0014826020814102437,
          0.08916244711145524,
          0.07762056101219807,
          0.0006546853807358034,
          0.005004023675896756,
          0.00013805654016840573,
          0.007181922657585495,
          0.0002169754487714516,
          0.001637849909438018,
          0.00128558009385098,
          0.0002292507658674761,
          0.02628020388288336,
          0.00024193677131095008,
          0.00020550096814806726,
          0.004242990386356278,
          0.000276367475498892,
          0.052714993486988826,
          0.0025699955931863146,
          0.003924090252657482,
          0.07077049591130509,
          0.0027139285101387915,
          0.009757671001296537,
          0.0036713138384450597,
          0.009514206045927452,
          0.025292834343169257,
          0.0004345477027997706,
          0.007382866127925871,
          0.0007109215540664493,
          0.00026645395198032014,
          0.0010777905633192568,
          0.06757811117507179,
          0.00030079771460566094,
          0.001161921515827911,
          0.08881329820427093,
          0.0012392096532606494,
          0.024792690864170658,
          0.0007286577629004541,
          0.0844754039728693,
          0.0003895678784467357,
          0.0011617425671190485,
          0.0018070231202810066,
          0.00414344287484527,
          0.0003769412797823366,
          0.0023899466773244014,
          0.002217949759530378,
          0.0002010082629158451,
          0.0005499240431041571,
          0.011361267685219476,
          0.013141885467249897,
          0.03795247402948149,
          0.015188206724253568,
          0.012509870295246658,
          0.0032777593450917988,
          0.0035597985872797377,
          0.0008601107569582966,
          0.010548089203623783,
          0.004835039343106654,
          0.0003957530667908664,
          0.03384615020291699,
          0.06352207028458653,
          0.0001486458161623416,
          0.004345468267429191,
          0.003093450367196729,
          0.0007575176470802045,
          0.0008492446913320904,
          0.007010999025969231,
          0.010212325168948903,
          0.0029484987062011895,
          0.03155569373453706,
          0.032832812337959656,
          0.01853756688037752,
          0.012183032436386519,
          0.0006874268785863521,
          0.0004920335312524012,
          0.0026315292625153927,
          0.0007380629217584168,
          0.004146792500153654,
          0.04385678068540477,
          0.00768038721986254,
          0.0001905569383971762,
          0.001225905706203331,
          0.0043089808074952265,
          0.0002024772848288989,
          0.004910194069032304,
          0.000202704963336278,
          0.016443263551053605,
          0.0035299809773571,
          0.0009135551781100164,
          0.014412977996692604,
          0.0037354301288407624,
          0.00015227479779673922,
          0.0028032849571230528,
          0.0001904255068134985,
          0.00013554290376042012,
          0.01043757131720084,
          0.00037777985700543744,
          0.03056874133507715,
          0.06015863587512346,
          0.09943636753651754,
          0.0007059234980819887,
          0.0014710558206467719,
          0.004267283634032922,
          0.05153028274252368,
          0.0003331783700545326,
          0.00024389775225984136,
          0.0048578663160921106,
          0.06452890597113257,
          0.007896196022792328,
          0.03956985061828849,
          0.00010609002248704457,
          0.0006002246885943459,
          0.00039660255281594463,
          0.0002987604813509136,
          0.00022698194973203373,
          0.0029032973843990456,
          0.03548591213676705,
          0.03592208780940455,
          0.05447063392964134,
          0.011121838275479154,
          0.005338685533485862,
          0.0012796156791652347,
          0.0009905484860378937,
          0.00013942377868739482,
          0.0003755567565934591,
          0.0003434560683959205,
          0.001871681993182064,
          0.001991222860627934,
          0.0001777799000855129,
          0.0012860469464315019,
          0.0009061291708605234,
          0.001332063477344755,
          0.016334092890605896,
          0.0009560575388446637,
          0.0008686863570043947,
          0.002862518519438045,
          0.013998523221629523,
          0.002239018417459097,
          0.000469165268497053,
          0.03215466727651864,
          0.0015129653057583488,
          0.0014987528663541483,
          0.00042390998316249704,
          0.03020516466915353,
          0.05594801528758753,
          0.008499718754307162,
          0.00434436755394136,
          0.0015507167329197316,
          0.00011541443941778564,
          0.00034449283681670936,
          0.00012874604593407206,
          0.0012859706485980106,
          0.030175830068780964,
          0.00048003007655710283,
          0.0002949982799602406,
          0.00022188775081698572,
          0.00028691881594337975,
          0.0033282401244116083,
          0.0012495498753004608,
          0.0311749550960349,
          0.013441402804825623,
          0.03737934478739511,
          0.0021486157045619196,
          0.0004616781082454738,
          0.07694507132970475,
          0.000459111379565414,
          0.04606691023257262,
          0.010770732602505401,
          0.00035115639163421907,
          0.007884365665942817,
          0.03203110057464645,
          0.04378565216396191,
          0.00019664618530561216,
          0.00011879993147626691,
          0.002061725737683335,
          0.0013047013959170321,
          0.004835555219868228,
          0.09449049556658176,
          0.0001265350302649517,
          0.0003853546404924913,
          0.0016539219574587965,
          0.020038244485344494,
          0.002129359971929919,
          0.07548863719469615,
          0.007463623306129002,
          0.004292185461413302,
          0.008000531210880674,
          0.008123837581561542,
          0.00021550044424516236,
          0.0033120296293247826,
          0.016167628903182622,
          0.00010359588304707212,
          0.0012036439916750022,
          0.05138724046334853,
          0.002437927650591731,
          0.000521958570310136,
          0.004915260790518685,
          0.03918704923283503,
          0.0800208541139051,
          0.0012953476134321506,
          0.0008434050307690373,
          0.0010968403314568134,
          0.08998116058938437,
          0.0003600873517586092,
          0.001819451892994911,
          0.004825449429309485,
          0.008539421838189325,
          0.009486692416485955,
          0.0179812072682854,
          0.02922117955702645,
          0.0003371300019274829,
          0.0024267887955345094,
          0.061866794435291625,
          0.00020586257320598259,
          0.00024919579976596457,
          0.031682548954707936,
          0.0007163631363527816,
          0.00016044166815561186,
          0.0013530273619769182,
          0.012602602785345463,
          0.000427588610555384,
          0.007292637350159754,
          0.011001064919162588,
          0.030089627778780586,
          0.0024044580666197505,
          0.006772746478634956,
          0.028546952084890626,
          0.02200216491874628,
          0.00674777544671853,
          0.02542540114609159,
          0.03917443955435657,
          0.004106434565839012,
          0.009490407239637169,
          0.025146200668138226,
          0.00012156748315633621,
          0.0017511272977378655,
          0.015961961655374654,
          0.00018580477141139773,
          0.0007706071257240724,
          0.00030626931325586956,
          0.006304909740738021,
          0.003045518856617641,
          0.0001350949339010947,
          0.0004766844521973189,
          0.010585783704483343,
          0.05226554696720091,
          0.007877682775524067,
          0.00010327491263914063,
          0.0008223240922883316,
          0.0005211592624686928,
          0.0017655900825301683,
          0.0007622323915336444,
          0.00010098848357917329,
          0.0011283273092844216,
          0.01687081054157292,
          0.0037511467600982104,
          0.001123355936841722,
          0.00010992181970446504,
          0.07033439231866424,
          0.02583724252996987,
          0.05750423301349083,
          0.018318094680267172,
          0.0008552433486474912,
          0.011038521826778192,
          0.0033404850332582276,
          0.00017576669983438909,
          0.012705244269658123,
          0.003227075411612984,
          0.0001160106645792399,
          0.0006647309813184326,
          0.0004197749261061959,
          0.013353418338380506,
          0.0024806526531740355,
          0.039873607450159484,
          0.07258029658328632,
          0.00019039187315755213,
          0.015030315201043636,
          0.0009093018717696548,
          0.023936898675061533,
          0.0036573857336042394,
          0.0007502146528822427,
          0.025518704321798688,
          0.005409924259902955,
          0.004279766309640085,
          0.00114409655177247,
          0.05633891380246655,
          0.002305996692711148,
          0.08821353167046245,
          0.015914409678023753,
          0.0007981127542404505,
          0.0004397623843864698,
          0.01473166068394197,
          0.050116770424669665,
          0.024004105519652433,
          0.000737186927328319,
          0.0031853820556416875,
          0.08678192459067936,
          0.00025411711242123784,
          0.0011154277582535285,
          0.05444154566434146,
          0.007155360848827712,
          0.04873185095051763,
          0.05005396333732325,
          0.09629929630380099,
          0.000655991615909413,
          0.001535045206728939,
          0.029841728901414993,
          0.018986203565182724,
          0.0004123727852162002,
          0.000517716330492607,
          0.00012372652793024892,
          0.07263024242982585,
          0.00037587496043676885,
          0.0004688602454025185,
          0.09415565717524671,
          0.045413080444854946,
          0.0005746289289430945,
          0.00011808358895103695,
          0.012736000649126797,
          0.0005121139967068751,
          0.04186146199172951,
          0.038805945008729824,
          0.036748794976093686,
          0.004246153133939033,
          0.0855023656674024,
          0.01859181954108191,
          0.007403568820320579,
          0.006732220412180243,
          0.00045011355561162786,
          0.06900778628584882,
          0.0005607661273324371,
          0.0045774295782232376,
          0.0022134122134761206,
          0.023788077736654988,
          0.005682911068040894,
          0.001024377337519395,
          0.047075139097775255,
          0.00020135677862853735,
          0.010624526950927757,
          0.0004692022761545271,
          0.002096214025460141,
          0.0003159144742191404,
          0.0009752795511800731,
          0.00010151049735777322,
          0.005875272656740812,
          0.00039117535986257524,
          0.0002846392720768614,
          0.004735860380206078,
          0.02419571481823244,
          0.001197625202502262,
          0.0009175197482320827,
          0.0005831078142115367,
          0.00012244437198049635,
          0.0329840707483383,
          0.01026736363667411,
          0.0002117934084732869,
          0.00021577366883856602,
          0.000663283723857714,
          0.0007580874834669972,
          0.000806236874276028,
          0.014818450896249885,
          0.0633173080659489,
          0.0001504195225649287,
          0.006162082495254292,
          0.000619454296572596,
          0.002011847111629502,
          0.002835153127419375,
          0.00031438764073850187,
          0.0006251245280532666,
          0.0002816518501861437,
          0.00895781337017471,
          0.005786099232920114,
          0.08414090715252187,
          0.0004088283450841079,
          0.013823260812517182,
          0.0038109963168988315,
          0.0830693848863344,
          0.0022841254234145974,
          0.005658234413785363,
          0.0012061865047460307,
          0.0024617747456674834,
          0.005878288045700723,
          0.00014918715384281596,
          0.00011089426086731774,
          0.011299967821315924,
          0.005449096051744285,
          0.0033933092761324244,
          0.00016645579092910916,
          0.0001724493269534774,
          0.04658120091282267,
          0.00964084929027081,
          0.0018820043509633693,
          0.0007702278775341799,
          0.00018181170784173692,
          0.011527106991088644,
          0.04778992439188554,
          0.0006933034799108655,
          0.0010748360695492485,
          0.04839967378152268,
          0.05092690578355639,
          0.0014133162578764107,
          0.058314348143833725,
          0.0012110311242398712,
          0.0007699765231056264,
          0.004646817071224545,
          0.011333398734240574,
          0.022102278479339203,
          0.012447241627477129,
          0.001492769918070715,
          0.001586132844096962,
          0.00018205282754179698,
          0.0014696197548622917,
          0.014598934063587449,
          0.004439680965554725,
          0.006854689081738243,
          0.00025436225539126825,
          0.0007927813782085698,
          0.003601892841192165,
          0.011409616682839427,
          0.00010781092587191767,
          0.0470367757317983,
          0.00038897314039911354,
          0.006054737839220543,
          0.04437361717638977,
          0.0034899588944318724,
          0.020064185844112924,
          0.0011382312336067463,
          0.013972328341387874,
          0.00012366965178549965,
          0.00017317202544345531,
          0.00581337045879666,
          0.0260353981607446,
          0.0008259107689289673,
          0.07703222709808732,
          0.01199328722183263,
          0.006649014651948893,
          0.000310029656167271,
          0.002763762380274419,
          0.03698968812780045,
          0.027197184137566693,
          0.05810986406628404,
          0.010851560597657028,
          0.05422997765587776,
          0.07333322074587757,
          0.0025555606735033305,
          0.006582121580005201,
          0.0010927051676516324,
          0.03322687768584927,
          0.025930132891042342,
          0.00012389020732984376,
          0.0006961685617423786,
          0.0012775140377510733,
          0.06422271572191202,
          0.0001680963717704901,
          0.07107022631555805,
          0.053519658930017824,
          0.0002530060172252974,
          0.005672467394408057,
          0.00026992582552380813,
          0.0006607908476239132,
          0.020127105675554376,
          0.06902020122294257,
          0.00018224573943635027,
          0.003998800010098462,
          0.002413487166421692,
          0.024174861177424328,
          0.012175639479707517,
          0.027471418732835953,
          0.0038329176466121344,
          0.00011427910928201416,
          0.0539573422951826,
          0.046256658105769156,
          0.018916403538699545,
          0.0002157855497620367,
          0.002143055856088833,
          0.09459542974354171,
          0.0019829377968815422,
          0.0003023372647238715,
          0.0006845231708034517,
          0.0138862303569297,
          0.0011738282449133737,
          0.005504814251547071,
          0.0002021537276795093,
          0.00033336259699103714,
          0.00011639982331807352,
          0.0015358792663457575,
          0.014299807438352803,
          0.0003734230292458705,
          0.032666995328213724,
          0.026439008982132244,
          0.034221071645387104,
          0.013007306092490052,
          0.0022187590932700235,
          0.014782678398251741,
          0.003994330245572191,
          0.0007092652583005817,
          0.00028105309437788124,
          0.002163780237958914,
          0.007544773786806134,
          0.006487484406244157,
          0.04355618725203328,
          0.00037978094647808376,
          0.030086222205881166,
          0.08798240641081058,
          0.049980817688916844,
          0.0002088866670879556,
          0.0695984252226679,
          0.01283402454527649,
          0.010888233016434105,
          0.029535830941708592,
          0.005750933039196045,
          0.002299721064872492,
          0.018985158226501774,
          0.0004687093878721705,
          0.00020912114981467197,
          0.0005400427091556758,
          0.002739725698963352,
          0.00029397048703489294,
          0.0006198396995778317,
          0.00014653005364110235,
          0.024488910641129433,
          0.00010064053261215155,
          0.006160185955174893,
          0.027552249582366455,
          0.03518297692196433,
          0.0074670010599786835,
          0.00010126863592840117,
          0.003131062944361629,
          0.0016491185789670529,
          0.00023712313180351664,
          0.003925043757475521,
          0.0004681138999826532,
          0.028845220881142684,
          0.001353686110164285,
          0.0002063455744176437,
          0.00014650081404315708,
          0.00011079659284931847,
          0.014352510090155708,
          0.09216637416720452,
          0.08335824994015689,
          0.0076851288424270815,
          0.0005201952875249496,
          0.00025327288456931225,
          0.07348448298526812,
          0.0012865808250178197,
          0.06495454615755482,
          0.00036805068784442034,
          0.015335375481404581,
          0.005035423795740503,
          0.00022011383016754828,
          0.00097910685960055,
          0.000550687146318043,
          0.002849261388611529,
          0.001401780034420879,
          0.0003151817676087578,
          0.010773871735806583,
          0.011228749968631727,
          0.00023557442630076832,
          0.0007665496627952102,
          0.00014214963215802802,
          0.001096673006003556,
          0.018058877825861283,
          0.04267871464171422,
          0.0008100965975564018,
          0.0013310744396095844,
          0.00017962559431879152,
          0.059532493582895446,
          0.013428015209246582,
          0.033679900758976596,
          0.020713075781955092,
          0.004110101003220065,
          0.0028359425556330918,
          0.000505280500467797,
          0.09241179973045313,
          0.09776695358284852,
          0.005007113973187467,
          0.0013099801145844523,
          0.00533798607459142,
          0.00047090241303345595,
          0.02847064114242575,
          0.00012742888564249666,
          0.002907549062256389,
          0.0006519902736130416,
          0.0020425188091583685,
          0.00033252103457523835,
          0.0014547832389898146,
          0.01840494198569082,
          0.012109910374857303,
          0.014048935180436936,
          0.002643756215559137,
          0.0047553241281880175,
          0.00023159991427079005,
          0.00022883332242162036,
          0.08736574109328,
          0.0024138555467534363,
          0.0002821164854437767,
          0.004685515709866448,
          0.012209952712030242,
          0.00036981591517529645,
          0.0156844411868004,
          0.09895378161407166,
          0.05897549026726354,
          0.01448355588000798,
          0.09533634416869412,
          0.004510917912603493,
          0.00025312762571376283,
          0.00047102017182631305,
          0.002649201607036131,
          0.08756276011055404,
          0.030861783285153332,
          0.01068290700445576,
          0.00016809571877456214,
          0.0017381507178060062,
          0.010285317339578999,
          0.005892123647651511,
          0.002121810084878751,
          0.004408899736884138,
          0.0009631922479214283,
          0.02856869025685923,
          0.0031281503125997227,
          0.005233325698237564,
          0.0054115691826946795,
          0.002516500593472364,
          0.00041210159633509806,
          0.026615751340016765,
          0.0011453088891026544,
          0.01628893930413289,
          0.005767298678766807,
          0.015609131282655201,
          0.010873561608970342,
          0.0004276341546603055,
          0.02339988462009381,
          0.0003718979051668318,
          0.016932569747623305,
          0.015411312106431586,
          0.03406135405402152,
          0.0033780186428128134,
          0.00012059469458830856,
          0.0001672829383620067,
          0.004587300724470796,
          0.04449759676911518,
          0.0005064957104214776,
          0.0042696551884581655,
          0.00010334292625627197,
          0.00016925397117830148,
          0.010938750605783643,
          0.001426670577979628,
          0.0030068661907224235,
          0.000347677976588485,
          0.0014848446654459665,
          0.0003072525372050093,
          0.0006231277358060968,
          0.0006329174739809065,
          0.0002242226304242239,
          0.018156017702006196,
          0.0001995939536251603,
          0.01369732403223644,
          0.005910883688052071,
          0.0337065929828118,
          0.0007281974696476868,
          0.024201348645751228,
          0.00028406290705434544,
          0.00012963270682104312,
          0.007434494461231413,
          0.008997573080259893,
          0.00877713382471117,
          0.02237777674533645,
          0.0024912183676022996,
          0.002603218827565963,
          0.0007634014219663722,
          0.05599156973116139,
          0.0153350023855937,
          0.0008873611848444527,
          0.018769858527299146,
          0.005813908075982422,
          0.030560169500468703,
          0.00012185644492704244,
          0.0002523038516605157,
          0.0005574728955489829,
          0.00946676317031746,
          0.007968144772468135,
          0.00017827336917302888,
          0.0002404565075756034,
          0.008834546261723674,
          0.00032091338303395187,
          0.0004891063167994713,
          0.014555670504250967,
          0.0016151981876348475,
          0.00040874135174954915,
          0.004746743968234039,
          0.0002319207174425803,
          0.0026155778216653885,
          0.001303242538808264,
          0.00953395476612517,
          0.0001356611865585812,
          0.07887596311460143,
          0.008785435084112135,
          0.07051861678994216,
          0.0794812333927531,
          0.00988468632054023,
          0.0002684670142333644,
          0.009034817331800823,
          0.0008442352870236456,
          0.022202864364441098,
          0.0021954789673269233,
          0.022943595589588677,
          0.04066516825191114,
          0.010580499352956808,
          0.005010100677373377,
          0.016362303167739962,
          0.05669773741282825,
          0.015278272796666112,
          0.007653484380191623,
          0.0009751942686665328,
          0.0018333071037900134,
          0.020187916662004916,
          0.0012082178075425404,
          0.0004425049849725795,
          0.013711143860190626,
          0.0017039496333442561,
          0.007593449285756652,
          0.00024632395106530334,
          0.0016571261864562566,
          0.0020226381037064586,
          0.00018552228192004572,
          0.0008611851717301644,
          0.00017705798350706504,
          0.008740952692990031,
          0.01594828883330743,
          0.06386354990268572,
          0.0009585032606138846,
          0.0006627255083931607,
          0.0002666369077553807,
          0.009635271512772948,
          0.0032856579789353924,
          0.0005587505608732056,
          0.04272754067874568,
          0.009782110824947987,
          0.008391579435704843,
          0.0006424581939705298,
          0.05817164308877837,
          0.003048545106706817,
          0.00039511798123906776,
          0.004303450843575561,
          0.0003183844659221061,
          0.00201404594524798,
          0.004386233831017343,
          0.01588186876270556,
          0.00048469845954684436,
          0.013568012813291298,
          0.0004211307828208351,
          0.04690970308646436,
          0.006351615243820151,
          0.058108444796531565,
          0.06819435616013472,
          0.053897705206492064,
          0.00014178585335960733,
          0.00017495556840103684,
          0.024678283230795305,
          0.0017373468324736042,
          0.030981937360859343,
          0.001646710887802149,
          0.07012528883618949,
          0.0010594844544603227,
          0.00018370778936180833,
          0.0008497936968387066,
          0.0011592315337788448,
          0.03660145110875716,
          0.00017660708639045378,
          0.02080789680762282,
          0.007652469591689768,
          0.008986092246804397,
          0.0317329899181003,
          0.0038352509062702816,
          0.010809713394280883,
          0.00655482771184035,
          0.0005445985408571006,
          0.012093991852276356,
          0.00011415842364152007,
          0.0002817863347020836,
          0.000298569820021176,
          0.00020043268217851543,
          0.020752339170387834,
          0.0004832973062255418,
          0.01135863768295966,
          0.00023183040850711557,
          0.0010265296746685283,
          0.010787530224804005,
          0.004325387693452804,
          0.03431752625750915,
          0.011344116037115305,
          0.02574156092412648,
          0.002805839684427527,
          0.00011234783651496751,
          0.0007505678536085981,
          0.00013915127280313458,
          0.005043063244747297,
          0.022044296108542007,
          0.008115115903048885,
          0.00012147509289875851,
          0.030883245804758062,
          0.0002270934216215248,
          0.00745273404757368,
          0.0001826692289348442,
          0.0019970517057084245,
          0.042948411340518085,
          0.011309466300935189,
          0.00031473506282046776,
          0.0037136351277293864,
          0.001769321976388122,
          0.0012332756843329322,
          0.04374031377615781,
          0.0004463370163672112,
          0.0006171913716478153,
          0.07696381620063716,
          0.00012563649950048827
         ],
         "xaxis": "x",
         "yaxis": "y"
        },
        {
         "alignmentgroup": "True",
         "boxpoints": "all",
         "fillcolor": "rgba(255,255,255,0)",
         "hoveron": "points",
         "hovertemplate": "Distribution=Loguniform<br>Random Samples=%{x}<extra></extra>",
         "jitter": 0,
         "legendgroup": "Loguniform",
         "line": {
          "color": "rgba(255,255,255,0)"
         },
         "marker": {
          "color": "#fb9f3a",
          "line": {
           "color": "black",
           "width": 1
          },
          "symbol": "line-ns-open"
         },
         "name": "Loguniform",
         "offsetgroup": "Loguniform",
         "showlegend": false,
         "type": "box",
         "x": [
          0.0002120595138963838,
          0.0008379213698133616,
          0.0024968574613269063,
          0.0001572877384502258,
          0.02635033684737497,
          0.0032319526575590976,
          0.0170485970025144,
          0.04475302919611063,
          0.06099252813084049,
          0.00012585170036400647,
          0.002457375063537496,
          0.06747151863993178,
          0.004816880490340916,
          0.00017561082321343113,
          0.0004953275906198759,
          0.001583147053436116,
          0.0009847293821613954,
          0.00016189013920074678,
          0.0003655840914707605,
          0.0020030102374330814,
          0.01756500508578954,
          0.0005534174230121271,
          0.049499410985039176,
          0.05036639884241257,
          0.0012406530800803575,
          0.007380972297485176,
          0.01927357138749398,
          0.001492392769881649,
          0.015745459115533045,
          0.006731057338429078,
          0.0043120694852243615,
          0.003829111005938947,
          0.0967095333888965,
          0.0004530339340440974,
          0.00020688483125665816,
          0.02551937898297278,
          0.007186106747945586,
          0.055250739591232056,
          0.0008811481664071498,
          0.008749907438501155,
          0.0008990964030227983,
          0.00018685343384913382,
          0.011296356182794667,
          0.0003019905764963115,
          0.002797991581352948,
          0.032148632103419374,
          0.00021695000587676299,
          0.003550858757012463,
          0.04463013675768519,
          0.00027861656430684656,
          0.0002431575233229777,
          0.008226811119557016,
          0.026669313172440028,
          0.00043117403455232394,
          0.00047219252709599513,
          0.008217968459258826,
          0.031089730339703414,
          0.016863309949266367,
          0.00031067706654777373,
          0.010801691587034987,
          0.07303130086163565,
          0.027937647509629737,
          0.030095061423614643,
          0.0008110658920641295,
          0.00015207786354049971,
          0.000879355367195744,
          0.00013279259511086357,
          0.042355638267553244,
          0.05322530051462338,
          0.055304532053587735,
          0.003766871618983374,
          0.005513975996921287,
          0.061683687330094834,
          0.0006288580093235595,
          0.00031748602351212233,
          0.00731055256525286,
          0.00011413158963344005,
          0.0030070443467820796,
          0.015769624521448783,
          0.005158822117333775,
          0.000361807837546457,
          0.0002273916897058535,
          0.004829007315954391,
          0.004121052743170577,
          0.07581257338681713,
          0.0012168279770631556,
          0.0022087697754323093,
          0.09304021389719999,
          0.006398283127897212,
          0.00016519545987753607,
          0.0004676177306546864,
          0.010886863028560767,
          0.05941508954097103,
          0.00286780425028924,
          0.027106549919406708,
          0.0036677855357422602,
          0.07412885106787956,
          0.00031719695454758453,
          0.00041102861093563696,
          0.00011437474179766896,
          0.0254113051438843,
          0.09248427842578018,
          0.06196248454469477,
          0.003976647557145067,
          0.06328935602747222,
          0.0002730577293915581,
          0.0009628727059478881,
          0.0005158318275521459,
          0.0027853920561600395,
          0.01842469354085968,
          0.008334682011276878,
          0.002381223642971055,
          0.0010003387791894043,
          0.0022143881694870688,
          0.021552210019953343,
          0.0038561237125966357,
          0.0014803487213586502,
          0.00010277018146999575,
          0.00019143100780364742,
          0.0036808377303180788,
          0.01365929629216943,
          0.02352214919979055,
          0.00010444328802723131,
          0.00011180325126944752,
          0.0010631014330850783,
          0.05125326315541926,
          0.00010213567516040218,
          0.0007436463804128036,
          0.07118869634179936,
          0.08022803102279735,
          0.019802249058119222,
          0.0007407712334240333,
          0.07401510275555133,
          0.002060429523565021,
          0.00014006102291400617,
          0.010316573347006365,
          0.011347888701366654,
          0.06329742758389251,
          0.00010941829225902204,
          0.004675773782992503,
          0.04557145650822202,
          0.005310488834714265,
          0.018644079464678328,
          0.0011446043527589076,
          0.0010846713801228064,
          0.0066163964385730625,
          0.012176440282740656,
          0.006616942586757278,
          0.0010150925021508456,
          0.0001137228504359745,
          0.0017533786928218068,
          0.004543706183025369,
          0.01324603575464988,
          0.04489681727257071,
          0.03814658263020181,
          0.0003364969609772077,
          0.0001140078523655979,
          0.004401410503058052,
          0.004773979561663319,
          0.0157965075865306,
          0.025377852688459972,
          0.03938162483679345,
          0.0474667948102724,
          0.0002655670941970516,
          0.01743776935152833,
          0.00011477685280513434,
          0.00021536803934356003,
          0.000727435430827026,
          0.008450145215136633,
          0.05499883611170931,
          0.00010085437194291007,
          0.06310564846518965,
          0.00027461309822429214,
          0.03985691892313429,
          0.0023301549261151313,
          0.08293146899339485,
          0.004851509986647807,
          0.019716306068302245,
          0.006219409503531201,
          0.0064669508267562745,
          0.009010190184136594,
          0.0001402285411070856,
          0.0002580992694670273,
          0.0002083871323422544,
          0.0028555005021771596,
          0.0014826020814102437,
          0.08916244711145524,
          0.07762056101219807,
          0.0006546853807358034,
          0.005004023675896756,
          0.00013805654016840573,
          0.007181922657585495,
          0.0002169754487714516,
          0.001637849909438018,
          0.00128558009385098,
          0.0002292507658674761,
          0.02628020388288336,
          0.00024193677131095008,
          0.00020550096814806726,
          0.004242990386356278,
          0.000276367475498892,
          0.052714993486988826,
          0.0025699955931863146,
          0.003924090252657482,
          0.07077049591130509,
          0.0027139285101387915,
          0.009757671001296537,
          0.0036713138384450597,
          0.009514206045927452,
          0.025292834343169257,
          0.0004345477027997706,
          0.007382866127925871,
          0.0007109215540664493,
          0.00026645395198032014,
          0.0010777905633192568,
          0.06757811117507179,
          0.00030079771460566094,
          0.001161921515827911,
          0.08881329820427093,
          0.0012392096532606494,
          0.024792690864170658,
          0.0007286577629004541,
          0.0844754039728693,
          0.0003895678784467357,
          0.0011617425671190485,
          0.0018070231202810066,
          0.00414344287484527,
          0.0003769412797823366,
          0.0023899466773244014,
          0.002217949759530378,
          0.0002010082629158451,
          0.0005499240431041571,
          0.011361267685219476,
          0.013141885467249897,
          0.03795247402948149,
          0.015188206724253568,
          0.012509870295246658,
          0.0032777593450917988,
          0.0035597985872797377,
          0.0008601107569582966,
          0.010548089203623783,
          0.004835039343106654,
          0.0003957530667908664,
          0.03384615020291699,
          0.06352207028458653,
          0.0001486458161623416,
          0.004345468267429191,
          0.003093450367196729,
          0.0007575176470802045,
          0.0008492446913320904,
          0.007010999025969231,
          0.010212325168948903,
          0.0029484987062011895,
          0.03155569373453706,
          0.032832812337959656,
          0.01853756688037752,
          0.012183032436386519,
          0.0006874268785863521,
          0.0004920335312524012,
          0.0026315292625153927,
          0.0007380629217584168,
          0.004146792500153654,
          0.04385678068540477,
          0.00768038721986254,
          0.0001905569383971762,
          0.001225905706203331,
          0.0043089808074952265,
          0.0002024772848288989,
          0.004910194069032304,
          0.000202704963336278,
          0.016443263551053605,
          0.0035299809773571,
          0.0009135551781100164,
          0.014412977996692604,
          0.0037354301288407624,
          0.00015227479779673922,
          0.0028032849571230528,
          0.0001904255068134985,
          0.00013554290376042012,
          0.01043757131720084,
          0.00037777985700543744,
          0.03056874133507715,
          0.06015863587512346,
          0.09943636753651754,
          0.0007059234980819887,
          0.0014710558206467719,
          0.004267283634032922,
          0.05153028274252368,
          0.0003331783700545326,
          0.00024389775225984136,
          0.0048578663160921106,
          0.06452890597113257,
          0.007896196022792328,
          0.03956985061828849,
          0.00010609002248704457,
          0.0006002246885943459,
          0.00039660255281594463,
          0.0002987604813509136,
          0.00022698194973203373,
          0.0029032973843990456,
          0.03548591213676705,
          0.03592208780940455,
          0.05447063392964134,
          0.011121838275479154,
          0.005338685533485862,
          0.0012796156791652347,
          0.0009905484860378937,
          0.00013942377868739482,
          0.0003755567565934591,
          0.0003434560683959205,
          0.001871681993182064,
          0.001991222860627934,
          0.0001777799000855129,
          0.0012860469464315019,
          0.0009061291708605234,
          0.001332063477344755,
          0.016334092890605896,
          0.0009560575388446637,
          0.0008686863570043947,
          0.002862518519438045,
          0.013998523221629523,
          0.002239018417459097,
          0.000469165268497053,
          0.03215466727651864,
          0.0015129653057583488,
          0.0014987528663541483,
          0.00042390998316249704,
          0.03020516466915353,
          0.05594801528758753,
          0.008499718754307162,
          0.00434436755394136,
          0.0015507167329197316,
          0.00011541443941778564,
          0.00034449283681670936,
          0.00012874604593407206,
          0.0012859706485980106,
          0.030175830068780964,
          0.00048003007655710283,
          0.0002949982799602406,
          0.00022188775081698572,
          0.00028691881594337975,
          0.0033282401244116083,
          0.0012495498753004608,
          0.0311749550960349,
          0.013441402804825623,
          0.03737934478739511,
          0.0021486157045619196,
          0.0004616781082454738,
          0.07694507132970475,
          0.000459111379565414,
          0.04606691023257262,
          0.010770732602505401,
          0.00035115639163421907,
          0.007884365665942817,
          0.03203110057464645,
          0.04378565216396191,
          0.00019664618530561216,
          0.00011879993147626691,
          0.002061725737683335,
          0.0013047013959170321,
          0.004835555219868228,
          0.09449049556658176,
          0.0001265350302649517,
          0.0003853546404924913,
          0.0016539219574587965,
          0.020038244485344494,
          0.002129359971929919,
          0.07548863719469615,
          0.007463623306129002,
          0.004292185461413302,
          0.008000531210880674,
          0.008123837581561542,
          0.00021550044424516236,
          0.0033120296293247826,
          0.016167628903182622,
          0.00010359588304707212,
          0.0012036439916750022,
          0.05138724046334853,
          0.002437927650591731,
          0.000521958570310136,
          0.004915260790518685,
          0.03918704923283503,
          0.0800208541139051,
          0.0012953476134321506,
          0.0008434050307690373,
          0.0010968403314568134,
          0.08998116058938437,
          0.0003600873517586092,
          0.001819451892994911,
          0.004825449429309485,
          0.008539421838189325,
          0.009486692416485955,
          0.0179812072682854,
          0.02922117955702645,
          0.0003371300019274829,
          0.0024267887955345094,
          0.061866794435291625,
          0.00020586257320598259,
          0.00024919579976596457,
          0.031682548954707936,
          0.0007163631363527816,
          0.00016044166815561186,
          0.0013530273619769182,
          0.012602602785345463,
          0.000427588610555384,
          0.007292637350159754,
          0.011001064919162588,
          0.030089627778780586,
          0.0024044580666197505,
          0.006772746478634956,
          0.028546952084890626,
          0.02200216491874628,
          0.00674777544671853,
          0.02542540114609159,
          0.03917443955435657,
          0.004106434565839012,
          0.009490407239637169,
          0.025146200668138226,
          0.00012156748315633621,
          0.0017511272977378655,
          0.015961961655374654,
          0.00018580477141139773,
          0.0007706071257240724,
          0.00030626931325586956,
          0.006304909740738021,
          0.003045518856617641,
          0.0001350949339010947,
          0.0004766844521973189,
          0.010585783704483343,
          0.05226554696720091,
          0.007877682775524067,
          0.00010327491263914063,
          0.0008223240922883316,
          0.0005211592624686928,
          0.0017655900825301683,
          0.0007622323915336444,
          0.00010098848357917329,
          0.0011283273092844216,
          0.01687081054157292,
          0.0037511467600982104,
          0.001123355936841722,
          0.00010992181970446504,
          0.07033439231866424,
          0.02583724252996987,
          0.05750423301349083,
          0.018318094680267172,
          0.0008552433486474912,
          0.011038521826778192,
          0.0033404850332582276,
          0.00017576669983438909,
          0.012705244269658123,
          0.003227075411612984,
          0.0001160106645792399,
          0.0006647309813184326,
          0.0004197749261061959,
          0.013353418338380506,
          0.0024806526531740355,
          0.039873607450159484,
          0.07258029658328632,
          0.00019039187315755213,
          0.015030315201043636,
          0.0009093018717696548,
          0.023936898675061533,
          0.0036573857336042394,
          0.0007502146528822427,
          0.025518704321798688,
          0.005409924259902955,
          0.004279766309640085,
          0.00114409655177247,
          0.05633891380246655,
          0.002305996692711148,
          0.08821353167046245,
          0.015914409678023753,
          0.0007981127542404505,
          0.0004397623843864698,
          0.01473166068394197,
          0.050116770424669665,
          0.024004105519652433,
          0.000737186927328319,
          0.0031853820556416875,
          0.08678192459067936,
          0.00025411711242123784,
          0.0011154277582535285,
          0.05444154566434146,
          0.007155360848827712,
          0.04873185095051763,
          0.05005396333732325,
          0.09629929630380099,
          0.000655991615909413,
          0.001535045206728939,
          0.029841728901414993,
          0.018986203565182724,
          0.0004123727852162002,
          0.000517716330492607,
          0.00012372652793024892,
          0.07263024242982585,
          0.00037587496043676885,
          0.0004688602454025185,
          0.09415565717524671,
          0.045413080444854946,
          0.0005746289289430945,
          0.00011808358895103695,
          0.012736000649126797,
          0.0005121139967068751,
          0.04186146199172951,
          0.038805945008729824,
          0.036748794976093686,
          0.004246153133939033,
          0.0855023656674024,
          0.01859181954108191,
          0.007403568820320579,
          0.006732220412180243,
          0.00045011355561162786,
          0.06900778628584882,
          0.0005607661273324371,
          0.0045774295782232376,
          0.0022134122134761206,
          0.023788077736654988,
          0.005682911068040894,
          0.001024377337519395,
          0.047075139097775255,
          0.00020135677862853735,
          0.010624526950927757,
          0.0004692022761545271,
          0.002096214025460141,
          0.0003159144742191404,
          0.0009752795511800731,
          0.00010151049735777322,
          0.005875272656740812,
          0.00039117535986257524,
          0.0002846392720768614,
          0.004735860380206078,
          0.02419571481823244,
          0.001197625202502262,
          0.0009175197482320827,
          0.0005831078142115367,
          0.00012244437198049635,
          0.0329840707483383,
          0.01026736363667411,
          0.0002117934084732869,
          0.00021577366883856602,
          0.000663283723857714,
          0.0007580874834669972,
          0.000806236874276028,
          0.014818450896249885,
          0.0633173080659489,
          0.0001504195225649287,
          0.006162082495254292,
          0.000619454296572596,
          0.002011847111629502,
          0.002835153127419375,
          0.00031438764073850187,
          0.0006251245280532666,
          0.0002816518501861437,
          0.00895781337017471,
          0.005786099232920114,
          0.08414090715252187,
          0.0004088283450841079,
          0.013823260812517182,
          0.0038109963168988315,
          0.0830693848863344,
          0.0022841254234145974,
          0.005658234413785363,
          0.0012061865047460307,
          0.0024617747456674834,
          0.005878288045700723,
          0.00014918715384281596,
          0.00011089426086731774,
          0.011299967821315924,
          0.005449096051744285,
          0.0033933092761324244,
          0.00016645579092910916,
          0.0001724493269534774,
          0.04658120091282267,
          0.00964084929027081,
          0.0018820043509633693,
          0.0007702278775341799,
          0.00018181170784173692,
          0.011527106991088644,
          0.04778992439188554,
          0.0006933034799108655,
          0.0010748360695492485,
          0.04839967378152268,
          0.05092690578355639,
          0.0014133162578764107,
          0.058314348143833725,
          0.0012110311242398712,
          0.0007699765231056264,
          0.004646817071224545,
          0.011333398734240574,
          0.022102278479339203,
          0.012447241627477129,
          0.001492769918070715,
          0.001586132844096962,
          0.00018205282754179698,
          0.0014696197548622917,
          0.014598934063587449,
          0.004439680965554725,
          0.006854689081738243,
          0.00025436225539126825,
          0.0007927813782085698,
          0.003601892841192165,
          0.011409616682839427,
          0.00010781092587191767,
          0.0470367757317983,
          0.00038897314039911354,
          0.006054737839220543,
          0.04437361717638977,
          0.0034899588944318724,
          0.020064185844112924,
          0.0011382312336067463,
          0.013972328341387874,
          0.00012366965178549965,
          0.00017317202544345531,
          0.00581337045879666,
          0.0260353981607446,
          0.0008259107689289673,
          0.07703222709808732,
          0.01199328722183263,
          0.006649014651948893,
          0.000310029656167271,
          0.002763762380274419,
          0.03698968812780045,
          0.027197184137566693,
          0.05810986406628404,
          0.010851560597657028,
          0.05422997765587776,
          0.07333322074587757,
          0.0025555606735033305,
          0.006582121580005201,
          0.0010927051676516324,
          0.03322687768584927,
          0.025930132891042342,
          0.00012389020732984376,
          0.0006961685617423786,
          0.0012775140377510733,
          0.06422271572191202,
          0.0001680963717704901,
          0.07107022631555805,
          0.053519658930017824,
          0.0002530060172252974,
          0.005672467394408057,
          0.00026992582552380813,
          0.0006607908476239132,
          0.020127105675554376,
          0.06902020122294257,
          0.00018224573943635027,
          0.003998800010098462,
          0.002413487166421692,
          0.024174861177424328,
          0.012175639479707517,
          0.027471418732835953,
          0.0038329176466121344,
          0.00011427910928201416,
          0.0539573422951826,
          0.046256658105769156,
          0.018916403538699545,
          0.0002157855497620367,
          0.002143055856088833,
          0.09459542974354171,
          0.0019829377968815422,
          0.0003023372647238715,
          0.0006845231708034517,
          0.0138862303569297,
          0.0011738282449133737,
          0.005504814251547071,
          0.0002021537276795093,
          0.00033336259699103714,
          0.00011639982331807352,
          0.0015358792663457575,
          0.014299807438352803,
          0.0003734230292458705,
          0.032666995328213724,
          0.026439008982132244,
          0.034221071645387104,
          0.013007306092490052,
          0.0022187590932700235,
          0.014782678398251741,
          0.003994330245572191,
          0.0007092652583005817,
          0.00028105309437788124,
          0.002163780237958914,
          0.007544773786806134,
          0.006487484406244157,
          0.04355618725203328,
          0.00037978094647808376,
          0.030086222205881166,
          0.08798240641081058,
          0.049980817688916844,
          0.0002088866670879556,
          0.0695984252226679,
          0.01283402454527649,
          0.010888233016434105,
          0.029535830941708592,
          0.005750933039196045,
          0.002299721064872492,
          0.018985158226501774,
          0.0004687093878721705,
          0.00020912114981467197,
          0.0005400427091556758,
          0.002739725698963352,
          0.00029397048703489294,
          0.0006198396995778317,
          0.00014653005364110235,
          0.024488910641129433,
          0.00010064053261215155,
          0.006160185955174893,
          0.027552249582366455,
          0.03518297692196433,
          0.0074670010599786835,
          0.00010126863592840117,
          0.003131062944361629,
          0.0016491185789670529,
          0.00023712313180351664,
          0.003925043757475521,
          0.0004681138999826532,
          0.028845220881142684,
          0.001353686110164285,
          0.0002063455744176437,
          0.00014650081404315708,
          0.00011079659284931847,
          0.014352510090155708,
          0.09216637416720452,
          0.08335824994015689,
          0.0076851288424270815,
          0.0005201952875249496,
          0.00025327288456931225,
          0.07348448298526812,
          0.0012865808250178197,
          0.06495454615755482,
          0.00036805068784442034,
          0.015335375481404581,
          0.005035423795740503,
          0.00022011383016754828,
          0.00097910685960055,
          0.000550687146318043,
          0.002849261388611529,
          0.001401780034420879,
          0.0003151817676087578,
          0.010773871735806583,
          0.011228749968631727,
          0.00023557442630076832,
          0.0007665496627952102,
          0.00014214963215802802,
          0.001096673006003556,
          0.018058877825861283,
          0.04267871464171422,
          0.0008100965975564018,
          0.0013310744396095844,
          0.00017962559431879152,
          0.059532493582895446,
          0.013428015209246582,
          0.033679900758976596,
          0.020713075781955092,
          0.004110101003220065,
          0.0028359425556330918,
          0.000505280500467797,
          0.09241179973045313,
          0.09776695358284852,
          0.005007113973187467,
          0.0013099801145844523,
          0.00533798607459142,
          0.00047090241303345595,
          0.02847064114242575,
          0.00012742888564249666,
          0.002907549062256389,
          0.0006519902736130416,
          0.0020425188091583685,
          0.00033252103457523835,
          0.0014547832389898146,
          0.01840494198569082,
          0.012109910374857303,
          0.014048935180436936,
          0.002643756215559137,
          0.0047553241281880175,
          0.00023159991427079005,
          0.00022883332242162036,
          0.08736574109328,
          0.0024138555467534363,
          0.0002821164854437767,
          0.004685515709866448,
          0.012209952712030242,
          0.00036981591517529645,
          0.0156844411868004,
          0.09895378161407166,
          0.05897549026726354,
          0.01448355588000798,
          0.09533634416869412,
          0.004510917912603493,
          0.00025312762571376283,
          0.00047102017182631305,
          0.002649201607036131,
          0.08756276011055404,
          0.030861783285153332,
          0.01068290700445576,
          0.00016809571877456214,
          0.0017381507178060062,
          0.010285317339578999,
          0.005892123647651511,
          0.002121810084878751,
          0.004408899736884138,
          0.0009631922479214283,
          0.02856869025685923,
          0.0031281503125997227,
          0.005233325698237564,
          0.0054115691826946795,
          0.002516500593472364,
          0.00041210159633509806,
          0.026615751340016765,
          0.0011453088891026544,
          0.01628893930413289,
          0.005767298678766807,
          0.015609131282655201,
          0.010873561608970342,
          0.0004276341546603055,
          0.02339988462009381,
          0.0003718979051668318,
          0.016932569747623305,
          0.015411312106431586,
          0.03406135405402152,
          0.0033780186428128134,
          0.00012059469458830856,
          0.0001672829383620067,
          0.004587300724470796,
          0.04449759676911518,
          0.0005064957104214776,
          0.0042696551884581655,
          0.00010334292625627197,
          0.00016925397117830148,
          0.010938750605783643,
          0.001426670577979628,
          0.0030068661907224235,
          0.000347677976588485,
          0.0014848446654459665,
          0.0003072525372050093,
          0.0006231277358060968,
          0.0006329174739809065,
          0.0002242226304242239,
          0.018156017702006196,
          0.0001995939536251603,
          0.01369732403223644,
          0.005910883688052071,
          0.0337065929828118,
          0.0007281974696476868,
          0.024201348645751228,
          0.00028406290705434544,
          0.00012963270682104312,
          0.007434494461231413,
          0.008997573080259893,
          0.00877713382471117,
          0.02237777674533645,
          0.0024912183676022996,
          0.002603218827565963,
          0.0007634014219663722,
          0.05599156973116139,
          0.0153350023855937,
          0.0008873611848444527,
          0.018769858527299146,
          0.005813908075982422,
          0.030560169500468703,
          0.00012185644492704244,
          0.0002523038516605157,
          0.0005574728955489829,
          0.00946676317031746,
          0.007968144772468135,
          0.00017827336917302888,
          0.0002404565075756034,
          0.008834546261723674,
          0.00032091338303395187,
          0.0004891063167994713,
          0.014555670504250967,
          0.0016151981876348475,
          0.00040874135174954915,
          0.004746743968234039,
          0.0002319207174425803,
          0.0026155778216653885,
          0.001303242538808264,
          0.00953395476612517,
          0.0001356611865585812,
          0.07887596311460143,
          0.008785435084112135,
          0.07051861678994216,
          0.0794812333927531,
          0.00988468632054023,
          0.0002684670142333644,
          0.009034817331800823,
          0.0008442352870236456,
          0.022202864364441098,
          0.0021954789673269233,
          0.022943595589588677,
          0.04066516825191114,
          0.010580499352956808,
          0.005010100677373377,
          0.016362303167739962,
          0.05669773741282825,
          0.015278272796666112,
          0.007653484380191623,
          0.0009751942686665328,
          0.0018333071037900134,
          0.020187916662004916,
          0.0012082178075425404,
          0.0004425049849725795,
          0.013711143860190626,
          0.0017039496333442561,
          0.007593449285756652,
          0.00024632395106530334,
          0.0016571261864562566,
          0.0020226381037064586,
          0.00018552228192004572,
          0.0008611851717301644,
          0.00017705798350706504,
          0.008740952692990031,
          0.01594828883330743,
          0.06386354990268572,
          0.0009585032606138846,
          0.0006627255083931607,
          0.0002666369077553807,
          0.009635271512772948,
          0.0032856579789353924,
          0.0005587505608732056,
          0.04272754067874568,
          0.009782110824947987,
          0.008391579435704843,
          0.0006424581939705298,
          0.05817164308877837,
          0.003048545106706817,
          0.00039511798123906776,
          0.004303450843575561,
          0.0003183844659221061,
          0.00201404594524798,
          0.004386233831017343,
          0.01588186876270556,
          0.00048469845954684436,
          0.013568012813291298,
          0.0004211307828208351,
          0.04690970308646436,
          0.006351615243820151,
          0.058108444796531565,
          0.06819435616013472,
          0.053897705206492064,
          0.00014178585335960733,
          0.00017495556840103684,
          0.024678283230795305,
          0.0017373468324736042,
          0.030981937360859343,
          0.001646710887802149,
          0.07012528883618949,
          0.0010594844544603227,
          0.00018370778936180833,
          0.0008497936968387066,
          0.0011592315337788448,
          0.03660145110875716,
          0.00017660708639045378,
          0.02080789680762282,
          0.007652469591689768,
          0.008986092246804397,
          0.0317329899181003,
          0.0038352509062702816,
          0.010809713394280883,
          0.00655482771184035,
          0.0005445985408571006,
          0.012093991852276356,
          0.00011415842364152007,
          0.0002817863347020836,
          0.000298569820021176,
          0.00020043268217851543,
          0.020752339170387834,
          0.0004832973062255418,
          0.01135863768295966,
          0.00023183040850711557,
          0.0010265296746685283,
          0.010787530224804005,
          0.004325387693452804,
          0.03431752625750915,
          0.011344116037115305,
          0.02574156092412648,
          0.002805839684427527,
          0.00011234783651496751,
          0.0007505678536085981,
          0.00013915127280313458,
          0.005043063244747297,
          0.022044296108542007,
          0.008115115903048885,
          0.00012147509289875851,
          0.030883245804758062,
          0.0002270934216215248,
          0.00745273404757368,
          0.0001826692289348442,
          0.0019970517057084245,
          0.042948411340518085,
          0.011309466300935189,
          0.00031473506282046776,
          0.0037136351277293864,
          0.001769321976388122,
          0.0012332756843329322,
          0.04374031377615781,
          0.0004463370163672112,
          0.0006171913716478153,
          0.07696381620063716,
          0.00012563649950048827
         ],
         "xaxis": "x2",
         "yaxis": "y2"
        }
       ],
       "layout": {
        "barmode": "relative",
        "height": 400,
        "legend": {
         "title": {
          "text": "Distribution"
         },
         "tracegroupgap": 0
        },
        "margin": {
         "t": 60
        },
        "template": {
         "data": {
          "bar": [
           {
            "error_x": {
             "color": "#2a3f5f"
            },
            "error_y": {
             "color": "#2a3f5f"
            },
            "marker": {
             "line": {
              "color": "white",
              "width": 0.5
             },
             "pattern": {
              "fillmode": "overlay",
              "size": 10,
              "solidity": 0.2
             }
            },
            "type": "bar"
           }
          ],
          "barpolar": [
           {
            "marker": {
             "line": {
              "color": "white",
              "width": 0.5
             },
             "pattern": {
              "fillmode": "overlay",
              "size": 10,
              "solidity": 0.2
             }
            },
            "type": "barpolar"
           }
          ],
          "carpet": [
           {
            "aaxis": {
             "endlinecolor": "#2a3f5f",
             "gridcolor": "#C8D4E3",
             "linecolor": "#C8D4E3",
             "minorgridcolor": "#C8D4E3",
             "startlinecolor": "#2a3f5f"
            },
            "baxis": {
             "endlinecolor": "#2a3f5f",
             "gridcolor": "#C8D4E3",
             "linecolor": "#C8D4E3",
             "minorgridcolor": "#C8D4E3",
             "startlinecolor": "#2a3f5f"
            },
            "type": "carpet"
           }
          ],
          "choropleth": [
           {
            "colorbar": {
             "outlinewidth": 0,
             "ticks": ""
            },
            "type": "choropleth"
           }
          ],
          "contour": [
           {
            "colorbar": {
             "outlinewidth": 0,
             "ticks": ""
            },
            "colorscale": [
             [
              0,
              "#0d0887"
             ],
             [
              0.1111111111111111,
              "#46039f"
             ],
             [
              0.2222222222222222,
              "#7201a8"
             ],
             [
              0.3333333333333333,
              "#9c179e"
             ],
             [
              0.4444444444444444,
              "#bd3786"
             ],
             [
              0.5555555555555556,
              "#d8576b"
             ],
             [
              0.6666666666666666,
              "#ed7953"
             ],
             [
              0.7777777777777778,
              "#fb9f3a"
             ],
             [
              0.8888888888888888,
              "#fdca26"
             ],
             [
              1,
              "#f0f921"
             ]
            ],
            "type": "contour"
           }
          ],
          "contourcarpet": [
           {
            "colorbar": {
             "outlinewidth": 0,
             "ticks": ""
            },
            "type": "contourcarpet"
           }
          ],
          "heatmap": [
           {
            "colorbar": {
             "outlinewidth": 0,
             "ticks": ""
            },
            "colorscale": [
             [
              0,
              "#0d0887"
             ],
             [
              0.1111111111111111,
              "#46039f"
             ],
             [
              0.2222222222222222,
              "#7201a8"
             ],
             [
              0.3333333333333333,
              "#9c179e"
             ],
             [
              0.4444444444444444,
              "#bd3786"
             ],
             [
              0.5555555555555556,
              "#d8576b"
             ],
             [
              0.6666666666666666,
              "#ed7953"
             ],
             [
              0.7777777777777778,
              "#fb9f3a"
             ],
             [
              0.8888888888888888,
              "#fdca26"
             ],
             [
              1,
              "#f0f921"
             ]
            ],
            "type": "heatmap"
           }
          ],
          "heatmapgl": [
           {
            "colorbar": {
             "outlinewidth": 0,
             "ticks": ""
            },
            "colorscale": [
             [
              0,
              "#0d0887"
             ],
             [
              0.1111111111111111,
              "#46039f"
             ],
             [
              0.2222222222222222,
              "#7201a8"
             ],
             [
              0.3333333333333333,
              "#9c179e"
             ],
             [
              0.4444444444444444,
              "#bd3786"
             ],
             [
              0.5555555555555556,
              "#d8576b"
             ],
             [
              0.6666666666666666,
              "#ed7953"
             ],
             [
              0.7777777777777778,
              "#fb9f3a"
             ],
             [
              0.8888888888888888,
              "#fdca26"
             ],
             [
              1,
              "#f0f921"
             ]
            ],
            "type": "heatmapgl"
           }
          ],
          "histogram": [
           {
            "marker": {
             "pattern": {
              "fillmode": "overlay",
              "size": 10,
              "solidity": 0.2
             }
            },
            "type": "histogram"
           }
          ],
          "histogram2d": [
           {
            "colorbar": {
             "outlinewidth": 0,
             "ticks": ""
            },
            "colorscale": [
             [
              0,
              "#0d0887"
             ],
             [
              0.1111111111111111,
              "#46039f"
             ],
             [
              0.2222222222222222,
              "#7201a8"
             ],
             [
              0.3333333333333333,
              "#9c179e"
             ],
             [
              0.4444444444444444,
              "#bd3786"
             ],
             [
              0.5555555555555556,
              "#d8576b"
             ],
             [
              0.6666666666666666,
              "#ed7953"
             ],
             [
              0.7777777777777778,
              "#fb9f3a"
             ],
             [
              0.8888888888888888,
              "#fdca26"
             ],
             [
              1,
              "#f0f921"
             ]
            ],
            "type": "histogram2d"
           }
          ],
          "histogram2dcontour": [
           {
            "colorbar": {
             "outlinewidth": 0,
             "ticks": ""
            },
            "colorscale": [
             [
              0,
              "#0d0887"
             ],
             [
              0.1111111111111111,
              "#46039f"
             ],
             [
              0.2222222222222222,
              "#7201a8"
             ],
             [
              0.3333333333333333,
              "#9c179e"
             ],
             [
              0.4444444444444444,
              "#bd3786"
             ],
             [
              0.5555555555555556,
              "#d8576b"
             ],
             [
              0.6666666666666666,
              "#ed7953"
             ],
             [
              0.7777777777777778,
              "#fb9f3a"
             ],
             [
              0.8888888888888888,
              "#fdca26"
             ],
             [
              1,
              "#f0f921"
             ]
            ],
            "type": "histogram2dcontour"
           }
          ],
          "mesh3d": [
           {
            "colorbar": {
             "outlinewidth": 0,
             "ticks": ""
            },
            "type": "mesh3d"
           }
          ],
          "parcoords": [
           {
            "line": {
             "colorbar": {
              "outlinewidth": 0,
              "ticks": ""
             }
            },
            "type": "parcoords"
           }
          ],
          "pie": [
           {
            "automargin": true,
            "type": "pie"
           }
          ],
          "scatter": [
           {
            "fillpattern": {
             "fillmode": "overlay",
             "size": 10,
             "solidity": 0.2
            },
            "type": "scatter"
           }
          ],
          "scatter3d": [
           {
            "line": {
             "colorbar": {
              "outlinewidth": 0,
              "ticks": ""
             }
            },
            "marker": {
             "colorbar": {
              "outlinewidth": 0,
              "ticks": ""
             }
            },
            "type": "scatter3d"
           }
          ],
          "scattercarpet": [
           {
            "marker": {
             "colorbar": {
              "outlinewidth": 0,
              "ticks": ""
             }
            },
            "type": "scattercarpet"
           }
          ],
          "scattergeo": [
           {
            "marker": {
             "colorbar": {
              "outlinewidth": 0,
              "ticks": ""
             }
            },
            "type": "scattergeo"
           }
          ],
          "scattergl": [
           {
            "marker": {
             "colorbar": {
              "outlinewidth": 0,
              "ticks": ""
             }
            },
            "type": "scattergl"
           }
          ],
          "scattermapbox": [
           {
            "marker": {
             "colorbar": {
              "outlinewidth": 0,
              "ticks": ""
             }
            },
            "type": "scattermapbox"
           }
          ],
          "scatterpolar": [
           {
            "marker": {
             "colorbar": {
              "outlinewidth": 0,
              "ticks": ""
             }
            },
            "type": "scatterpolar"
           }
          ],
          "scatterpolargl": [
           {
            "marker": {
             "colorbar": {
              "outlinewidth": 0,
              "ticks": ""
             }
            },
            "type": "scatterpolargl"
           }
          ],
          "scatterternary": [
           {
            "marker": {
             "colorbar": {
              "outlinewidth": 0,
              "ticks": ""
             }
            },
            "type": "scatterternary"
           }
          ],
          "surface": [
           {
            "colorbar": {
             "outlinewidth": 0,
             "ticks": ""
            },
            "colorscale": [
             [
              0,
              "#0d0887"
             ],
             [
              0.1111111111111111,
              "#46039f"
             ],
             [
              0.2222222222222222,
              "#7201a8"
             ],
             [
              0.3333333333333333,
              "#9c179e"
             ],
             [
              0.4444444444444444,
              "#bd3786"
             ],
             [
              0.5555555555555556,
              "#d8576b"
             ],
             [
              0.6666666666666666,
              "#ed7953"
             ],
             [
              0.7777777777777778,
              "#fb9f3a"
             ],
             [
              0.8888888888888888,
              "#fdca26"
             ],
             [
              1,
              "#f0f921"
             ]
            ],
            "type": "surface"
           }
          ],
          "table": [
           {
            "cells": {
             "fill": {
              "color": "#EBF0F8"
             },
             "line": {
              "color": "white"
             }
            },
            "header": {
             "fill": {
              "color": "#C8D4E3"
             },
             "line": {
              "color": "white"
             }
            },
            "type": "table"
           }
          ]
         },
         "layout": {
          "annotationdefaults": {
           "arrowcolor": "#2a3f5f",
           "arrowhead": 0,
           "arrowwidth": 1
          },
          "autotypenumbers": "strict",
          "coloraxis": {
           "colorbar": {
            "outlinewidth": 0,
            "ticks": ""
           }
          },
          "colorscale": {
           "diverging": [
            [
             0,
             "#8e0152"
            ],
            [
             0.1,
             "#c51b7d"
            ],
            [
             0.2,
             "#de77ae"
            ],
            [
             0.3,
             "#f1b6da"
            ],
            [
             0.4,
             "#fde0ef"
            ],
            [
             0.5,
             "#f7f7f7"
            ],
            [
             0.6,
             "#e6f5d0"
            ],
            [
             0.7,
             "#b8e186"
            ],
            [
             0.8,
             "#7fbc41"
            ],
            [
             0.9,
             "#4d9221"
            ],
            [
             1,
             "#276419"
            ]
           ],
           "sequential": [
            [
             0,
             "#0d0887"
            ],
            [
             0.1111111111111111,
             "#46039f"
            ],
            [
             0.2222222222222222,
             "#7201a8"
            ],
            [
             0.3333333333333333,
             "#9c179e"
            ],
            [
             0.4444444444444444,
             "#bd3786"
            ],
            [
             0.5555555555555556,
             "#d8576b"
            ],
            [
             0.6666666666666666,
             "#ed7953"
            ],
            [
             0.7777777777777778,
             "#fb9f3a"
            ],
            [
             0.8888888888888888,
             "#fdca26"
            ],
            [
             1,
             "#f0f921"
            ]
           ],
           "sequentialminus": [
            [
             0,
             "#0d0887"
            ],
            [
             0.1111111111111111,
             "#46039f"
            ],
            [
             0.2222222222222222,
             "#7201a8"
            ],
            [
             0.3333333333333333,
             "#9c179e"
            ],
            [
             0.4444444444444444,
             "#bd3786"
            ],
            [
             0.5555555555555556,
             "#d8576b"
            ],
            [
             0.6666666666666666,
             "#ed7953"
            ],
            [
             0.7777777777777778,
             "#fb9f3a"
            ],
            [
             0.8888888888888888,
             "#fdca26"
            ],
            [
             1,
             "#f0f921"
            ]
           ]
          },
          "colorway": [
           "#636efa",
           "#EF553B",
           "#00cc96",
           "#ab63fa",
           "#FFA15A",
           "#19d3f3",
           "#FF6692",
           "#B6E880",
           "#FF97FF",
           "#FECB52"
          ],
          "font": {
           "color": "#2a3f5f"
          },
          "geo": {
           "bgcolor": "white",
           "lakecolor": "white",
           "landcolor": "white",
           "showlakes": true,
           "showland": true,
           "subunitcolor": "#C8D4E3"
          },
          "hoverlabel": {
           "align": "left"
          },
          "hovermode": "closest",
          "mapbox": {
           "style": "light"
          },
          "paper_bgcolor": "white",
          "plot_bgcolor": "white",
          "polar": {
           "angularaxis": {
            "gridcolor": "#EBF0F8",
            "linecolor": "#EBF0F8",
            "ticks": ""
           },
           "bgcolor": "white",
           "radialaxis": {
            "gridcolor": "#EBF0F8",
            "linecolor": "#EBF0F8",
            "ticks": ""
           }
          },
          "scene": {
           "xaxis": {
            "backgroundcolor": "white",
            "gridcolor": "#DFE8F3",
            "gridwidth": 2,
            "linecolor": "#EBF0F8",
            "showbackground": true,
            "ticks": "",
            "zerolinecolor": "#EBF0F8"
           },
           "yaxis": {
            "backgroundcolor": "white",
            "gridcolor": "#DFE8F3",
            "gridwidth": 2,
            "linecolor": "#EBF0F8",
            "showbackground": true,
            "ticks": "",
            "zerolinecolor": "#EBF0F8"
           },
           "zaxis": {
            "backgroundcolor": "white",
            "gridcolor": "#DFE8F3",
            "gridwidth": 2,
            "linecolor": "#EBF0F8",
            "showbackground": true,
            "ticks": "",
            "zerolinecolor": "#EBF0F8"
           }
          },
          "shapedefaults": {
           "line": {
            "color": "#2a3f5f"
           }
          },
          "ternary": {
           "aaxis": {
            "gridcolor": "#DFE8F3",
            "linecolor": "#A2B1C6",
            "ticks": ""
           },
           "baxis": {
            "gridcolor": "#DFE8F3",
            "linecolor": "#A2B1C6",
            "ticks": ""
           },
           "bgcolor": "white",
           "caxis": {
            "gridcolor": "#DFE8F3",
            "linecolor": "#A2B1C6",
            "ticks": ""
           }
          },
          "title": {
           "x": 0.05
          },
          "xaxis": {
           "automargin": true,
           "gridcolor": "#EBF0F8",
           "linecolor": "#EBF0F8",
           "ticks": "",
           "title": {
            "standoff": 15
           },
           "zerolinecolor": "#EBF0F8",
           "zerolinewidth": 2
          },
          "yaxis": {
           "automargin": true,
           "gridcolor": "#EBF0F8",
           "linecolor": "#EBF0F8",
           "ticks": "",
           "title": {
            "standoff": 15
           },
           "zerolinecolor": "#EBF0F8",
           "zerolinewidth": 2
          }
         }
        },
        "title": {
         "text": "Uniform vs. Loguniform Distribution"
        },
        "width": 900,
        "xaxis": {
         "anchor": "y",
         "domain": [
          0,
          1
         ],
         "title": {
          "text": "Random Values"
         }
        },
        "xaxis2": {
         "anchor": "y2",
         "domain": [
          0,
          1
         ],
         "matches": "x",
         "showgrid": true,
         "showticklabels": false
        },
        "yaxis": {
         "anchor": "x",
         "domain": [
          0,
          0.7326
         ],
         "title": {
          "text": "Frequency"
         }
        },
        "yaxis2": {
         "anchor": "x2",
         "domain": [
          0.7426,
          1
         ],
         "matches": "y2",
         "showgrid": false,
         "showline": false,
         "showticklabels": false,
         "ticks": ""
        }
       }
      },
      "text/html": [
       "<div>                            <div id=\"7d296024-cb44-4c47-86cb-3dac12c70d99\" class=\"plotly-graph-div\" style=\"height:400px; width:900px;\"></div>            <script type=\"text/javascript\">                require([\"plotly\"], function(Plotly) {                    window.PLOTLYENV=window.PLOTLYENV || {};                                    if (document.getElementById(\"7d296024-cb44-4c47-86cb-3dac12c70d99\")) {                    Plotly.newPlot(                        \"7d296024-cb44-4c47-86cb-3dac12c70d99\",                        [{\"alignmentgroup\":\"True\",\"bingroup\":\"x\",\"hovertemplate\":\"Distribution=Uniform\\u003cbr\\u003eRandom Samples=%{x}\\u003cbr\\u003ecount=%{y}\\u003cextra\\u003e\\u003c\\u002fextra\\u003e\",\"legendgroup\":\"Uniform\",\"marker\":{\"color\":\"#9c179e\",\"opacity\":0.8,\"pattern\":{\"shape\":\"\"},\"line\":{\"color\":\"black\",\"width\":1}},\"name\":\"Uniform\",\"nbinsx\":50,\"offsetgroup\":\"Uniform\",\"orientation\":\"v\",\"showlegend\":true,\"x\":[0.07993756521788267,0.06939951781162462,0.01641390814050355,0.0794068770765534,0.07147778144691008,0.07978274978628716,0.0764944323814593,0.07877259391303179,0.09393265878493604,0.06146948629106696,0.015637089430875828,0.09496408751995654,0.009181763469017118,0.0777081151997469,0.04158013127456476,0.07804855485345873,0.08270148047846836,0.07645171023917333,0.005659383452311577,0.0643859456581009,0.07435854710176557,0.06483011489681366,0.0651997674746073,0.09002846895349846,0.035536607058184524,0.09453234227485141,0.07538931418024394,0.01313056075206285,0.006561407341709751,0.05051749033258736,0.07943729151288793,0.029666179709718344,0.06645110313662042,0.021640887943507787,0.05519782962081777,0.08587490977402219,0.00881346397079848,0.04931141549301336,0.0974246777461222,0.02697923089558737,0.03473987197038223,0.05166562484724487,0.0975409803633108,0.049990266879867254,0.06400726314248283,0.05323208232399942,0.019970006550156703,0.06482415055018417,0.0005027716359645888,0.012231747527505277,0.05285433758070958,0.08144795046333027,0.08605304865914257,0.026923640319399617,0.05208472756306894,0.020452570738966377,0.009068395991068028,0.0030530711630508208,0.005458032614960706,0.06851468594158239,0.0625003034585223,0.07999163663498553,0.0006265833893401379,0.04513213001344777,0.08926192368599972,0.09064431121942529,0.09337253879278126,0.09433045472418591,0.08225411487495891,0.08705199082438818,0.07214339158471787,0.04270690139657865,0.07232517596258889,0.012792912499908968,0.051815256272938585,0.05028809225463865,0.06348875016074945,0.09287870682693326,0.09308729008833397,0.02594833355359874,0.0778053335997551,0.04987819293707271,0.035999547949664465,0.030151289861046617,0.008611585811001111,0.09214712557465327,0.04152165785161438,0.03489150154927366,0.008159018119729886,0.006891912736972448,0.006051666609856097,0.034067650667003256,0.0028759880277186966,0.008626366009584918,0.04567860850303172,0.05687348827020452,0.07044936506323468,0.031518306519111625,0.04670094435011389,0.009459460002726959,0.05902387043110875,0.04479492096862886,0.027904591409351042,0.047896874360684294,0.07426906554072224,0.05825341974545436,0.020564501047199188,0.06326287958912995,0.06613822312672638,0.05884457644160662,0.07557638592705966,0.005314190285364759,0.025594519670286957,0.07497067515039973,0.03130733006925399,0.09459128617736924,0.006239535424159458,0.09792469055162403,0.07650163021447834,0.04034959013195912,0.012527672079479035,0.04922125165360774,0.05624824453310957,0.055041705042190824,0.08986821743558951,0.0883791157593958,0.03944311407651293,0.05062008191180786,0.012625420125686735,0.09155155975582661,0.0682159072636933,0.08721230577295336,0.08393142311004596,0.05008676855642058,0.044019696712957114,0.08148855930100667,0.07780552748647614,0.027531901870708773,0.013831279358150522,0.05713329968678231,0.006799120902115057,0.018078182490193054,0.09087472828283713,0.02989383301195572,0.027083947946734452,0.09989675421597702,0.04654810276388845,0.021806953382317317,0.08769007593078453,0.04180356564418298,0.0460982652848303,0.05880581412560355,0.08779484302561387,0.01142382615928768,0.07171963974191328,0.05141703903508733,0.02764126875439297,0.03508755642013646,0.03721754788192004,0.09331888271930511,0.0338404288034172,0.06652533427452197,0.01281632423411,0.07712573252393178,0.047899910034926545,0.08379665037882822,0.046780871609797096,0.021379214825825305,0.007380154407583264,0.04371372686605942,0.09127018376275403,0.06109146517004558,0.07816440144841906,0.06738489947024848,0.09114613714021545,0.04797110255368906,0.033515000801461046,0.04994900431646778,0.07366351320502736,0.013526823224983232,0.010817403932018292,0.002036716977819371,0.0641873132843405,0.0008136277010976513,0.04507511936285608,0.05878912541662531,0.06563017514257694,0.08148787252437731,0.0251856047103007,0.08577166194502953,0.046822319698964276,0.051020054974756084,0.026015454942974303,0.020430874023138142,0.04051758439034173,0.027355877228492673,0.0036163032731137187,0.018829168026637682,0.06900421868800798,0.03736584689389413,0.0003291431728583905,0.051477007292078165,0.018958769144964874,0.07720837696092167,0.011503609707198615,0.019823562654357318,0.0542709189530026,0.010609532999627354,0.02241045582402483,0.03150437284300988,0.0020040322279612026,0.03381788498606418,0.030420687776339654,0.05311751019471238,0.0616489785124941,0.019348065967563256,0.028922309271082507,0.09591480696343178,0.0722071072209108,0.07521866003767608,0.007876113281830759,0.02132710558531584,0.017512828653028792,0.05408827302003911,0.06426920648784147,0.07087753655232469,0.07228228590440963,0.08698275753194214,0.06115632883265959,0.0974322944087329,0.028627471519896232,0.09839578611194477,0.08949792419174298,0.022615393305140397,0.08604742117414763,0.006360804402723752,0.09145555798338068,0.044456663923253786,0.06864476446879558,0.07007096857715804,0.033921051365495176,0.09525759138483547,0.08206258631363882,0.053957713160897716,0.06853973333144309,0.032799698481213876,0.028943394964823448,0.06989273397893231,0.08280496497072878,0.03264813396042548,0.027712820813341043,0.06931191170606708,0.05679955837217106,0.08681676424967884,0.08116546541562178,0.03427401632020023,0.013132478267928849,0.07733802132826,0.07807180529857612,0.047418774812316246,0.001345163202404303,0.023369874650903982,0.01802562613066467,0.02063131450862035,0.05857067181880601,0.008918996078327263,0.018714603757602415,0.05182433840889299,0.08624574481505635,0.005543112145644463,0.08618023404637098,0.09574425994401706,0.035161554639133744,0.012812839439059113,0.04964175410927911,0.04948627822829476,0.0023090991146119794,0.017558162349395192,0.0499474254166158,0.03750380147208522,0.06989103331837837,0.005185888847579787,0.0800215795716,0.09152800625725156,0.08785297036178258,0.04437635636177454,0.07112300765605362,0.06260225039104418,0.07869944528090725,0.09580358954183582,0.06605043669921239,0.002046691086765416,0.09038265597874642,0.08051877194405967,0.05735554971182986,0.08295913297387641,0.0021696686229589163,0.010634689163232458,0.09669299438763942,0.045996447874237685,0.07015263962413257,0.03452205354109986,0.07779632537059995,0.09524823095333358,0.044671272218555734,0.013019133303057378,0.09762417748559048,0.025699961006422654,0.04746950729133284,0.06195609579991148,0.08100230500591293,0.026039556974312192,0.028110385472017232,0.05474382319037533,0.04735095121641161,0.026291835347813697,0.05165820185602153,0.0033745422992244776,0.07333132867480789,0.04162931971145206,0.05707868014249505,0.09230739808181648,0.0013497511000059483,0.036988452125216176,0.0007235463530508334,0.037846536610215996,0.0030296372477658247,0.020598469653182974,0.03792797506383618,0.08741887887275378,0.07656741877284565,0.09313385762845991,0.07567758200238496,0.09049936100577491,0.03768644455173347,0.015953460207436657,0.03332981148669007,0.03242278715833367,0.045358048349803656,0.05906933694452369,0.08142467360274461,0.0034798632476369116,0.061786159500462415,0.0691729996235351,0.04662997791475687,0.08784022053872487,0.004886702757686506,0.07178720418255431,0.002960454785275164,0.06824773888898086,0.02429684252846674,0.07015179778730898,0.012715534509767762,0.040386370312677014,0.09048738246405579,0.08214754674914028,0.023439341655155148,0.037690191972647794,0.023166752452734397,0.01735201928698695,0.06826550816795653,0.08016566936724712,0.07703972877917992,0.07486200279024967,0.06759022537195675,0.06412840621612882,0.06349607988320165,0.0727533711748496,0.08940443858915009,0.006586985899706669,0.07738714272268349,0.09848182424421699,0.005536984728550392,0.09353397751096972,0.004420019028213242,0.05724335282610199,0.059512725386998706,0.05930900585307158,0.08336752990368562,0.03472337867205163,0.07705063733556586,0.004930100494972385,0.06405097968395042,0.046543210207128746,0.0293407506031252,0.09883598724743173,0.005830814304773723,0.08715454200962526,0.09404142311909648,0.03990675377066947,0.06504836048184368,0.016156125440758215,0.007237472033250736,0.06866448341930534,0.02712430889488608,0.061213734781232376,0.031702490560344285,0.09176327436500298,0.0591061456491773,0.011021626017009631,0.03536267964646877,0.07988303787062394,0.08215742689108627,0.045237515617096366,0.030228210734072777,0.005480319748384215,0.04586799323457325,0.09228798675008901,0.08374869609923927,0.07872526119838559,0.004457915004446893,0.004311597610857375,0.0004903508131912531,0.002589900654934595,0.0697817950970162,0.09950275170537454,0.004977826052817268,0.09539297395169764,0.06805930844384028,0.029357463726969818,0.042551755779649564,0.02077194641391084,0.0009509643737442395,0.0682872670404586,0.010405203474867555,0.06825414276354481,0.03862918650907914,0.0484555758843259,0.09947604322516516,0.04826730800863481,0.03190731541916505,0.011887836306712262,0.03480749131848569,0.062219199004598644,0.09915321701417179,0.058953536119337895,0.039885736442787624,0.0904119736238221,0.08111067715819657,0.030694298764424203,0.0825748693276931,0.0766873514740866,0.03794504382252271,0.016317326224578398,0.05467353502682953,0.02024085418240711,0.06422479585640818,0.07048732354735528,0.04812298297702278,0.04272643081279201,0.06241062463936391,0.07328571531771073,0.006129610280472549,0.057645592488433255,0.052281187630028376,0.04293575703316955,0.01262998683361974,0.06899821791355408,0.05435097603928326,0.02308930446167599,0.03812742077926551,0.08912231015954127,0.021941225597848835,0.07088510421972141,0.08307332208424513,0.07761522420101574,0.04732757580410711,0.09945087311148558,0.07501054964028502,0.013434943001843811,0.09149828566052279,0.0741546295992683,0.025244598188276426,0.048481936536788436,0.02387793742203021,0.07960996588392165,0.07308678667870011,0.01925203115379023,0.057611929912809196,0.06372810706303757,0.0371273333223368,0.08218588509760975,0.012410018304171827,0.03437155432802059,0.0326072839655325,0.012017761859941878,0.02718352433307842,0.011640723398860327,0.058095352541058694,0.07796629478106742,0.047281889864310984,0.013085335626167822,0.0017048347452908593,0.03759364312042021,0.0636826149806978,0.005975225774194151,0.09237346597184273,0.04371433857540586,0.046480767020254936,0.09201486357693496,0.09853517668559568,0.028721588999489487,0.0800356954819319,0.020798737850181333,0.08416207619497304,0.05450397549730332,0.03704552495763003,0.08167697391271395,0.03891336567056869,0.01678616501276573,0.0575410588906746,0.028992577091489672,0.03424198457603232,0.09176862712338041,0.06578865450430212,0.07417623569964868,0.008226417923689758,0.06877660765047923,0.039830227746278785,0.005910794376761178,0.05565976369218677,0.09887649783286752,0.04997063630643871,0.04578792938980505,0.026353370626518536,0.026162550058625906,0.004058278148348622,0.07232858258410654,0.02183588775537359,0.011081173706444578,0.045036578840323256,0.045866639679030104,0.03969643860704573,0.08445319950895074,0.007013163122591393,0.06149843082507459,0.08447221855506463,0.09930365247666724,0.03863829466705769,0.057373612476005434,0.0922817471538648,0.016165070964670503,0.04249820007755762,0.08360095629743201,0.07282260871474228,0.0168243284755764,0.03664923920440768,0.09893690748463482,0.04475685307531727,0.015568528239006448,0.07400617481501526,0.04569896407717756,0.030671946264966502,0.06989562505698002,0.008308305422799638,0.07098119200744732,0.0062310261279440796,0.0812672719285195,0.06987366238012604,0.07964287630328597,0.0066707354790629956,0.07662295748206364,0.001179329061575116,0.021488750074434303,0.034614698159320556,0.014976581653193235,0.024249945765376174,0.001407636610073697,0.08296740271478627,0.005694896946604132,0.09757784284616657,0.050743531596425286,0.020105173886599912,0.04580435380376759,0.016300043058169095,0.06628739687822174,0.034790034706322394,0.008047140943172805,0.035845272291725704,0.0325681234058067,0.0870436773618443,0.06153483177153748,0.0175422566354873,0.03792771774195163,0.021009048088951477,0.06886769938683869,0.06268960431802083,0.06355638714728118,0.06060190762006947,0.0043411747690591355,0.022280292684912602,0.0006715335027209583,0.060251158225516376,0.017579007694361753,0.058917543368386616,0.034217308738276844,0.027551486494201305,0.028038664091286535,0.0973779076439344,0.031517555083700174,0.019309497861358518,0.040890950959126586,0.05755581095025602,0.005075411832924439,0.08549412750153342,0.0022627770876526994,0.0778756842206363,0.031043421470873394,0.07371813782889838,0.04625529301828842,0.024309242158828844,0.08914828237668904,0.03092666321633072,0.035729667393100926,0.0981050105861586,0.08070919239678084,0.07901171754588512,0.011535945487394467,0.06697225904207064,0.029054126174923745,0.0884960874844387,0.054380989911999265,0.08680440965311291,0.09028224299932813,0.03618911111493488,0.058071391370864124,0.02566255163281659,0.05056854912525763,0.00020611745004338143,0.05825107257089995,0.03865681336899209,0.0691072658350174,0.030656072471467496,0.0188776123846011,0.03984063520281059,0.0033311634305302896,0.09319898356671795,0.0933440872967547,0.09938706219455791,0.03205717084184322,0.06386355565041754,0.08768989322747858,0.039268805806969516,0.08770225778433284,0.0398233675934765,0.08356856440978794,0.054299209253411494,0.08135879363768227,0.08844356381974375,0.008850646014507408,0.05376635917740823,0.03295907461644539,0.02201249460798787,0.07834256166587765,0.06336191363604464,0.017123537443330387,0.03749624959146879,0.03337974345769899,0.027337422076712567,0.0666705825826103,0.03696624234293195,0.03723650233306335,0.03857802322520406,0.09638254381663938,0.03860178618948213,0.01805504545419043,0.022332889277081103,0.04548868622270159,0.005207655129381713,0.09350640874714805,0.005706313477699711,0.020108112902659403,0.041239427278588016,0.037788031398437984,0.028690244122263557,0.08485061582481102,0.027580266305210446,0.07793060996273134,0.03948679547468586,0.0639261552358724,0.08426869736510954,0.08852443408423803,0.08782694716508772,0.023908314529626832,0.01657771429790419,0.02565985389599572,0.0039862218174279524,0.03411012937609783,0.013884021903682374,0.06961790248124117,0.03335676242662264,0.0028735173544206486,0.07772741728297602,0.04378213992793883,0.09201948525123775,0.021207097463948086,0.01399694845467003,0.014313895460416351,0.07478926039394189,0.01060434821076069,0.09884632337152002,0.012798979470527909,0.047315354005082653,0.07206576382771748,0.0579686004908276,0.07556700479838609,0.017806088265009234,0.09356801637796086,0.005018361678633899,0.0028972708914512674,0.05686876048560189,0.09753721616407947,0.031940720278243226,0.01018736633922256,0.08995202025652758,0.016168014186917316,0.03545732837416689,0.005262765574185441,0.03830113611039641,0.01435708039828106,0.09127218567128094,0.0540102930677256,0.04544624929532087,0.028165847590541946,0.09867022594912461,0.004393423413511103,0.049543579263297596,0.05775688329104951,0.03651915058662253,0.08572331677381592,0.01605235908389002,0.002569296024912787,0.05085516546805448,0.008343169631053828,0.08782026136089378,0.05494985124665683,0.04430810996135174,0.09497253783315811,0.06908870156323837,0.03320521239976421,0.06556482815763107,0.08366119980879769,0.040142600433473556,0.03808328082059713,0.0730863396919604,0.03953370524528212,0.07700119711670718,0.03574886952116304,0.013490233231848133,0.004662097924536288,0.004792325726832144,0.08441424817728871,0.05671167661286639,0.03386205071899375,0.05075581731013043,0.05333629187530158,0.0965833776356472,0.05071906629988607,0.05215827438738392,0.09292865067359843,0.08020268041615705,0.0001602403398002618,0.025369714584998284,0.035165516121772815,0.0987393908595281,0.015776105391316148,0.019270451455630323,0.004283783207517962,0.04213961793709489,0.0947328325692986,0.040956882602438016,0.0033290508377099392,0.020574663645110302,0.03352882078033174,0.060063752968564955,0.09575528699831601,0.06416287076993275,0.0900568011894229,0.029029590772595575,0.008497838437188574,0.01614865485800233,0.08680911364417551,0.008438257591017202,0.0897143833928339,0.013266213511099446,0.026961401804738314,0.07891878430070924,0.010680072931955713,0.060797108590015254,0.08291567021848661,0.07835165733016566,0.02892713476540213,0.08761940497373148,0.005745243013695047,0.008431368685852534,0.08414257450182165,0.07707149384290934,0.01726237531382737,0.02682802848904966,0.08922240980877018,0.009800810791474825,0.019239075579485065,0.0767569576224244,0.030988812709396917,0.0182005940233368,0.07784586402836918,0.049579061140166296,0.05965482778004439,0.06901862934077783,0.005580221937025709,0.0852119638501699,0.09568517416005078,0.06262370725112196,0.05872927038196733,0.05686839063736175,0.0019001711329764835,0.08963462922310078,0.008281012151659363,0.004886417593117248,0.07987279110695615,0.05649155890860473,0.06401969950733125,0.040295601975038654,0.03159359378279244,0.08478127150103557,0.02897291354906695,0.02907174890603639,0.08523768560304973,0.013677406118484966,0.09451321992153679,0.08690774149829013,0.05637131636033504,0.01797872709952111,0.06475587807850225,0.038823019602245254,0.0827733868479867,0.053343348017635475,0.04747110686224379,0.05142269294550541,0.055782881848597705,0.06367473305663955,0.025828255694878087,0.08957254936709545,0.005651128592301398,0.0980961835372522,0.0012119415631189384,0.042564430051561734,0.0990952238135564,0.09580489344221206,0.08976248216401199,0.04428119822779975,0.06607670971117102,0.08513237130889253,0.044017974619331934,0.04934746735965444,0.09171274366467337,0.04702749002489952,0.08560573028729233,0.05666241822871199,0.06744603060171894,0.024524766213080234,0.05422564446643759,0.008604571239815091,0.09817799876418415,0.08518697532547977,0.03709858955031763,0.03270836444891938,0.08321232959639703,0.011519871541211545,0.042936047007511316,0.09621677158766251,0.09590892423325262,0.032349609248777285,0.05145597369020433,0.07360212526636749,0.08652308785694715,0.0832909803124291,0.03179636820144126,0.026291392111089176,0.03111160393055532,0.0521324206500918,0.04597927343425676,0.030745271168745952,0.053647209223664394,0.02004361023642185,0.02037954063446027,0.07426530883998242,0.060378271937431546,0.06085287601965787,0.08673177978095294,0.05625881133107507,0.0989204032570549,0.011927382280394772,0.028164857411507004,0.03233798324570779,0.05083143330135904,0.039017263638932986,0.08508020777668866,0.0923549920816951,0.021700576744220497,0.047733056603057204,0.04341277317852638,0.028748538418101783,0.05870884095056107,0.011049888419975553,0.03081527584466099,0.0541492135768107,0.010030644888772996,0.0029430052973673827,0.023434690486080424,0.03195586904780232,0.03653614561206859,0.04546726104695789,0.07697522755672863,0.029990163996055298,0.024134376142980717,0.03275768506126246,0.008813591870228801,0.019841654719428947,0.0818635524106178,0.034729246761359446,0.025174731415349896,0.08995307588706741,0.008991048113495449,0.08549029897177704,0.009519589143432277,0.09306545557114242,0.07147016498325902,0.05110539694039841,0.02299885193918094,0.008524237505065445,0.012714863996692983,0.08279307125049158,0.07625757841571534,0.09579425257777421,0.07051290898008224,0.0983338516720423,0.047073755065150436,0.015993201122385944,0.049291437716164115,0.08535569719094455,0.05479258579702367,0.06527639618288146,0.04492855581798088,0.09046754120544183,0.03319482159953855,0.06051843301270749,0.02293445915170906,0.08116595897734559,0.058041981684750145,0.0007645532760824365,0.06814798995293633,0.07205484920415063,0.09360962027911383,0.02660934668600597,0.054325642450559646,0.09660183991766466,0.0682933899667788,0.038304310173233456,0.024804154287609778,0.0784499025972392,0.03702872329910319,0.0401853653407492,0.0667298791786858,0.0967279575192245,0.08128740973619539,0.016476867104812543,0.03069159277906041,0.016881209050180847,0.03049719758677073,0.02153583563793608,0.0048386419372444065,0.024158814494468554,0.07768276145580044,0.03383693137982684,0.08197480297832617,0.04279247619000131,0.0444531264174027,0.01626527237767488,0.01705710296313798,0.07652372432681265,0.06586863863175453,0.0009963932776739062,0.03573780185214181,0.06851253708654768,0.04479788569438937,0.0032697187916119804,0.05738423046985072,0.051060449266291184,0.0021338008804441264,0.06855534715749882,0.09439088956789526,0.08576232872280955,0.021777415372662878,0.057701608838408885,0.05890146836483355,0.01447591675589536,0.08947965840104123,0.026626257141428262,0.00818417636324726],\"xaxis\":\"x\",\"yaxis\":\"y\",\"type\":\"histogram\"},{\"alignmentgroup\":\"True\",\"boxpoints\":\"all\",\"fillcolor\":\"rgba(255,255,255,0)\",\"hoveron\":\"points\",\"hovertemplate\":\"Distribution=Uniform\\u003cbr\\u003eRandom Samples=%{x}\\u003cextra\\u003e\\u003c\\u002fextra\\u003e\",\"jitter\":0,\"legendgroup\":\"Uniform\",\"line\":{\"color\":\"rgba(255,255,255,0)\"},\"marker\":{\"color\":\"#9c179e\",\"symbol\":\"line-ns-open\",\"line\":{\"color\":\"black\",\"width\":1}},\"name\":\"Uniform\",\"offsetgroup\":\"Uniform\",\"showlegend\":false,\"x\":[0.07993756521788267,0.06939951781162462,0.01641390814050355,0.0794068770765534,0.07147778144691008,0.07978274978628716,0.0764944323814593,0.07877259391303179,0.09393265878493604,0.06146948629106696,0.015637089430875828,0.09496408751995654,0.009181763469017118,0.0777081151997469,0.04158013127456476,0.07804855485345873,0.08270148047846836,0.07645171023917333,0.005659383452311577,0.0643859456581009,0.07435854710176557,0.06483011489681366,0.0651997674746073,0.09002846895349846,0.035536607058184524,0.09453234227485141,0.07538931418024394,0.01313056075206285,0.006561407341709751,0.05051749033258736,0.07943729151288793,0.029666179709718344,0.06645110313662042,0.021640887943507787,0.05519782962081777,0.08587490977402219,0.00881346397079848,0.04931141549301336,0.0974246777461222,0.02697923089558737,0.03473987197038223,0.05166562484724487,0.0975409803633108,0.049990266879867254,0.06400726314248283,0.05323208232399942,0.019970006550156703,0.06482415055018417,0.0005027716359645888,0.012231747527505277,0.05285433758070958,0.08144795046333027,0.08605304865914257,0.026923640319399617,0.05208472756306894,0.020452570738966377,0.009068395991068028,0.0030530711630508208,0.005458032614960706,0.06851468594158239,0.0625003034585223,0.07999163663498553,0.0006265833893401379,0.04513213001344777,0.08926192368599972,0.09064431121942529,0.09337253879278126,0.09433045472418591,0.08225411487495891,0.08705199082438818,0.07214339158471787,0.04270690139657865,0.07232517596258889,0.012792912499908968,0.051815256272938585,0.05028809225463865,0.06348875016074945,0.09287870682693326,0.09308729008833397,0.02594833355359874,0.0778053335997551,0.04987819293707271,0.035999547949664465,0.030151289861046617,0.008611585811001111,0.09214712557465327,0.04152165785161438,0.03489150154927366,0.008159018119729886,0.006891912736972448,0.006051666609856097,0.034067650667003256,0.0028759880277186966,0.008626366009584918,0.04567860850303172,0.05687348827020452,0.07044936506323468,0.031518306519111625,0.04670094435011389,0.009459460002726959,0.05902387043110875,0.04479492096862886,0.027904591409351042,0.047896874360684294,0.07426906554072224,0.05825341974545436,0.020564501047199188,0.06326287958912995,0.06613822312672638,0.05884457644160662,0.07557638592705966,0.005314190285364759,0.025594519670286957,0.07497067515039973,0.03130733006925399,0.09459128617736924,0.006239535424159458,0.09792469055162403,0.07650163021447834,0.04034959013195912,0.012527672079479035,0.04922125165360774,0.05624824453310957,0.055041705042190824,0.08986821743558951,0.0883791157593958,0.03944311407651293,0.05062008191180786,0.012625420125686735,0.09155155975582661,0.0682159072636933,0.08721230577295336,0.08393142311004596,0.05008676855642058,0.044019696712957114,0.08148855930100667,0.07780552748647614,0.027531901870708773,0.013831279358150522,0.05713329968678231,0.006799120902115057,0.018078182490193054,0.09087472828283713,0.02989383301195572,0.027083947946734452,0.09989675421597702,0.04654810276388845,0.021806953382317317,0.08769007593078453,0.04180356564418298,0.0460982652848303,0.05880581412560355,0.08779484302561387,0.01142382615928768,0.07171963974191328,0.05141703903508733,0.02764126875439297,0.03508755642013646,0.03721754788192004,0.09331888271930511,0.0338404288034172,0.06652533427452197,0.01281632423411,0.07712573252393178,0.047899910034926545,0.08379665037882822,0.046780871609797096,0.021379214825825305,0.007380154407583264,0.04371372686605942,0.09127018376275403,0.06109146517004558,0.07816440144841906,0.06738489947024848,0.09114613714021545,0.04797110255368906,0.033515000801461046,0.04994900431646778,0.07366351320502736,0.013526823224983232,0.010817403932018292,0.002036716977819371,0.0641873132843405,0.0008136277010976513,0.04507511936285608,0.05878912541662531,0.06563017514257694,0.08148787252437731,0.0251856047103007,0.08577166194502953,0.046822319698964276,0.051020054974756084,0.026015454942974303,0.020430874023138142,0.04051758439034173,0.027355877228492673,0.0036163032731137187,0.018829168026637682,0.06900421868800798,0.03736584689389413,0.0003291431728583905,0.051477007292078165,0.018958769144964874,0.07720837696092167,0.011503609707198615,0.019823562654357318,0.0542709189530026,0.010609532999627354,0.02241045582402483,0.03150437284300988,0.0020040322279612026,0.03381788498606418,0.030420687776339654,0.05311751019471238,0.0616489785124941,0.019348065967563256,0.028922309271082507,0.09591480696343178,0.0722071072209108,0.07521866003767608,0.007876113281830759,0.02132710558531584,0.017512828653028792,0.05408827302003911,0.06426920648784147,0.07087753655232469,0.07228228590440963,0.08698275753194214,0.06115632883265959,0.0974322944087329,0.028627471519896232,0.09839578611194477,0.08949792419174298,0.022615393305140397,0.08604742117414763,0.006360804402723752,0.09145555798338068,0.044456663923253786,0.06864476446879558,0.07007096857715804,0.033921051365495176,0.09525759138483547,0.08206258631363882,0.053957713160897716,0.06853973333144309,0.032799698481213876,0.028943394964823448,0.06989273397893231,0.08280496497072878,0.03264813396042548,0.027712820813341043,0.06931191170606708,0.05679955837217106,0.08681676424967884,0.08116546541562178,0.03427401632020023,0.013132478267928849,0.07733802132826,0.07807180529857612,0.047418774812316246,0.001345163202404303,0.023369874650903982,0.01802562613066467,0.02063131450862035,0.05857067181880601,0.008918996078327263,0.018714603757602415,0.05182433840889299,0.08624574481505635,0.005543112145644463,0.08618023404637098,0.09574425994401706,0.035161554639133744,0.012812839439059113,0.04964175410927911,0.04948627822829476,0.0023090991146119794,0.017558162349395192,0.0499474254166158,0.03750380147208522,0.06989103331837837,0.005185888847579787,0.0800215795716,0.09152800625725156,0.08785297036178258,0.04437635636177454,0.07112300765605362,0.06260225039104418,0.07869944528090725,0.09580358954183582,0.06605043669921239,0.002046691086765416,0.09038265597874642,0.08051877194405967,0.05735554971182986,0.08295913297387641,0.0021696686229589163,0.010634689163232458,0.09669299438763942,0.045996447874237685,0.07015263962413257,0.03452205354109986,0.07779632537059995,0.09524823095333358,0.044671272218555734,0.013019133303057378,0.09762417748559048,0.025699961006422654,0.04746950729133284,0.06195609579991148,0.08100230500591293,0.026039556974312192,0.028110385472017232,0.05474382319037533,0.04735095121641161,0.026291835347813697,0.05165820185602153,0.0033745422992244776,0.07333132867480789,0.04162931971145206,0.05707868014249505,0.09230739808181648,0.0013497511000059483,0.036988452125216176,0.0007235463530508334,0.037846536610215996,0.0030296372477658247,0.020598469653182974,0.03792797506383618,0.08741887887275378,0.07656741877284565,0.09313385762845991,0.07567758200238496,0.09049936100577491,0.03768644455173347,0.015953460207436657,0.03332981148669007,0.03242278715833367,0.045358048349803656,0.05906933694452369,0.08142467360274461,0.0034798632476369116,0.061786159500462415,0.0691729996235351,0.04662997791475687,0.08784022053872487,0.004886702757686506,0.07178720418255431,0.002960454785275164,0.06824773888898086,0.02429684252846674,0.07015179778730898,0.012715534509767762,0.040386370312677014,0.09048738246405579,0.08214754674914028,0.023439341655155148,0.037690191972647794,0.023166752452734397,0.01735201928698695,0.06826550816795653,0.08016566936724712,0.07703972877917992,0.07486200279024967,0.06759022537195675,0.06412840621612882,0.06349607988320165,0.0727533711748496,0.08940443858915009,0.006586985899706669,0.07738714272268349,0.09848182424421699,0.005536984728550392,0.09353397751096972,0.004420019028213242,0.05724335282610199,0.059512725386998706,0.05930900585307158,0.08336752990368562,0.03472337867205163,0.07705063733556586,0.004930100494972385,0.06405097968395042,0.046543210207128746,0.0293407506031252,0.09883598724743173,0.005830814304773723,0.08715454200962526,0.09404142311909648,0.03990675377066947,0.06504836048184368,0.016156125440758215,0.007237472033250736,0.06866448341930534,0.02712430889488608,0.061213734781232376,0.031702490560344285,0.09176327436500298,0.0591061456491773,0.011021626017009631,0.03536267964646877,0.07988303787062394,0.08215742689108627,0.045237515617096366,0.030228210734072777,0.005480319748384215,0.04586799323457325,0.09228798675008901,0.08374869609923927,0.07872526119838559,0.004457915004446893,0.004311597610857375,0.0004903508131912531,0.002589900654934595,0.0697817950970162,0.09950275170537454,0.004977826052817268,0.09539297395169764,0.06805930844384028,0.029357463726969818,0.042551755779649564,0.02077194641391084,0.0009509643737442395,0.0682872670404586,0.010405203474867555,0.06825414276354481,0.03862918650907914,0.0484555758843259,0.09947604322516516,0.04826730800863481,0.03190731541916505,0.011887836306712262,0.03480749131848569,0.062219199004598644,0.09915321701417179,0.058953536119337895,0.039885736442787624,0.0904119736238221,0.08111067715819657,0.030694298764424203,0.0825748693276931,0.0766873514740866,0.03794504382252271,0.016317326224578398,0.05467353502682953,0.02024085418240711,0.06422479585640818,0.07048732354735528,0.04812298297702278,0.04272643081279201,0.06241062463936391,0.07328571531771073,0.006129610280472549,0.057645592488433255,0.052281187630028376,0.04293575703316955,0.01262998683361974,0.06899821791355408,0.05435097603928326,0.02308930446167599,0.03812742077926551,0.08912231015954127,0.021941225597848835,0.07088510421972141,0.08307332208424513,0.07761522420101574,0.04732757580410711,0.09945087311148558,0.07501054964028502,0.013434943001843811,0.09149828566052279,0.0741546295992683,0.025244598188276426,0.048481936536788436,0.02387793742203021,0.07960996588392165,0.07308678667870011,0.01925203115379023,0.057611929912809196,0.06372810706303757,0.0371273333223368,0.08218588509760975,0.012410018304171827,0.03437155432802059,0.0326072839655325,0.012017761859941878,0.02718352433307842,0.011640723398860327,0.058095352541058694,0.07796629478106742,0.047281889864310984,0.013085335626167822,0.0017048347452908593,0.03759364312042021,0.0636826149806978,0.005975225774194151,0.09237346597184273,0.04371433857540586,0.046480767020254936,0.09201486357693496,0.09853517668559568,0.028721588999489487,0.0800356954819319,0.020798737850181333,0.08416207619497304,0.05450397549730332,0.03704552495763003,0.08167697391271395,0.03891336567056869,0.01678616501276573,0.0575410588906746,0.028992577091489672,0.03424198457603232,0.09176862712338041,0.06578865450430212,0.07417623569964868,0.008226417923689758,0.06877660765047923,0.039830227746278785,0.005910794376761178,0.05565976369218677,0.09887649783286752,0.04997063630643871,0.04578792938980505,0.026353370626518536,0.026162550058625906,0.004058278148348622,0.07232858258410654,0.02183588775537359,0.011081173706444578,0.045036578840323256,0.045866639679030104,0.03969643860704573,0.08445319950895074,0.007013163122591393,0.06149843082507459,0.08447221855506463,0.09930365247666724,0.03863829466705769,0.057373612476005434,0.0922817471538648,0.016165070964670503,0.04249820007755762,0.08360095629743201,0.07282260871474228,0.0168243284755764,0.03664923920440768,0.09893690748463482,0.04475685307531727,0.015568528239006448,0.07400617481501526,0.04569896407717756,0.030671946264966502,0.06989562505698002,0.008308305422799638,0.07098119200744732,0.0062310261279440796,0.0812672719285195,0.06987366238012604,0.07964287630328597,0.0066707354790629956,0.07662295748206364,0.001179329061575116,0.021488750074434303,0.034614698159320556,0.014976581653193235,0.024249945765376174,0.001407636610073697,0.08296740271478627,0.005694896946604132,0.09757784284616657,0.050743531596425286,0.020105173886599912,0.04580435380376759,0.016300043058169095,0.06628739687822174,0.034790034706322394,0.008047140943172805,0.035845272291725704,0.0325681234058067,0.0870436773618443,0.06153483177153748,0.0175422566354873,0.03792771774195163,0.021009048088951477,0.06886769938683869,0.06268960431802083,0.06355638714728118,0.06060190762006947,0.0043411747690591355,0.022280292684912602,0.0006715335027209583,0.060251158225516376,0.017579007694361753,0.058917543368386616,0.034217308738276844,0.027551486494201305,0.028038664091286535,0.0973779076439344,0.031517555083700174,0.019309497861358518,0.040890950959126586,0.05755581095025602,0.005075411832924439,0.08549412750153342,0.0022627770876526994,0.0778756842206363,0.031043421470873394,0.07371813782889838,0.04625529301828842,0.024309242158828844,0.08914828237668904,0.03092666321633072,0.035729667393100926,0.0981050105861586,0.08070919239678084,0.07901171754588512,0.011535945487394467,0.06697225904207064,0.029054126174923745,0.0884960874844387,0.054380989911999265,0.08680440965311291,0.09028224299932813,0.03618911111493488,0.058071391370864124,0.02566255163281659,0.05056854912525763,0.00020611745004338143,0.05825107257089995,0.03865681336899209,0.0691072658350174,0.030656072471467496,0.0188776123846011,0.03984063520281059,0.0033311634305302896,0.09319898356671795,0.0933440872967547,0.09938706219455791,0.03205717084184322,0.06386355565041754,0.08768989322747858,0.039268805806969516,0.08770225778433284,0.0398233675934765,0.08356856440978794,0.054299209253411494,0.08135879363768227,0.08844356381974375,0.008850646014507408,0.05376635917740823,0.03295907461644539,0.02201249460798787,0.07834256166587765,0.06336191363604464,0.017123537443330387,0.03749624959146879,0.03337974345769899,0.027337422076712567,0.0666705825826103,0.03696624234293195,0.03723650233306335,0.03857802322520406,0.09638254381663938,0.03860178618948213,0.01805504545419043,0.022332889277081103,0.04548868622270159,0.005207655129381713,0.09350640874714805,0.005706313477699711,0.020108112902659403,0.041239427278588016,0.037788031398437984,0.028690244122263557,0.08485061582481102,0.027580266305210446,0.07793060996273134,0.03948679547468586,0.0639261552358724,0.08426869736510954,0.08852443408423803,0.08782694716508772,0.023908314529626832,0.01657771429790419,0.02565985389599572,0.0039862218174279524,0.03411012937609783,0.013884021903682374,0.06961790248124117,0.03335676242662264,0.0028735173544206486,0.07772741728297602,0.04378213992793883,0.09201948525123775,0.021207097463948086,0.01399694845467003,0.014313895460416351,0.07478926039394189,0.01060434821076069,0.09884632337152002,0.012798979470527909,0.047315354005082653,0.07206576382771748,0.0579686004908276,0.07556700479838609,0.017806088265009234,0.09356801637796086,0.005018361678633899,0.0028972708914512674,0.05686876048560189,0.09753721616407947,0.031940720278243226,0.01018736633922256,0.08995202025652758,0.016168014186917316,0.03545732837416689,0.005262765574185441,0.03830113611039641,0.01435708039828106,0.09127218567128094,0.0540102930677256,0.04544624929532087,0.028165847590541946,0.09867022594912461,0.004393423413511103,0.049543579263297596,0.05775688329104951,0.03651915058662253,0.08572331677381592,0.01605235908389002,0.002569296024912787,0.05085516546805448,0.008343169631053828,0.08782026136089378,0.05494985124665683,0.04430810996135174,0.09497253783315811,0.06908870156323837,0.03320521239976421,0.06556482815763107,0.08366119980879769,0.040142600433473556,0.03808328082059713,0.0730863396919604,0.03953370524528212,0.07700119711670718,0.03574886952116304,0.013490233231848133,0.004662097924536288,0.004792325726832144,0.08441424817728871,0.05671167661286639,0.03386205071899375,0.05075581731013043,0.05333629187530158,0.0965833776356472,0.05071906629988607,0.05215827438738392,0.09292865067359843,0.08020268041615705,0.0001602403398002618,0.025369714584998284,0.035165516121772815,0.0987393908595281,0.015776105391316148,0.019270451455630323,0.004283783207517962,0.04213961793709489,0.0947328325692986,0.040956882602438016,0.0033290508377099392,0.020574663645110302,0.03352882078033174,0.060063752968564955,0.09575528699831601,0.06416287076993275,0.0900568011894229,0.029029590772595575,0.008497838437188574,0.01614865485800233,0.08680911364417551,0.008438257591017202,0.0897143833928339,0.013266213511099446,0.026961401804738314,0.07891878430070924,0.010680072931955713,0.060797108590015254,0.08291567021848661,0.07835165733016566,0.02892713476540213,0.08761940497373148,0.005745243013695047,0.008431368685852534,0.08414257450182165,0.07707149384290934,0.01726237531382737,0.02682802848904966,0.08922240980877018,0.009800810791474825,0.019239075579485065,0.0767569576224244,0.030988812709396917,0.0182005940233368,0.07784586402836918,0.049579061140166296,0.05965482778004439,0.06901862934077783,0.005580221937025709,0.0852119638501699,0.09568517416005078,0.06262370725112196,0.05872927038196733,0.05686839063736175,0.0019001711329764835,0.08963462922310078,0.008281012151659363,0.004886417593117248,0.07987279110695615,0.05649155890860473,0.06401969950733125,0.040295601975038654,0.03159359378279244,0.08478127150103557,0.02897291354906695,0.02907174890603639,0.08523768560304973,0.013677406118484966,0.09451321992153679,0.08690774149829013,0.05637131636033504,0.01797872709952111,0.06475587807850225,0.038823019602245254,0.0827733868479867,0.053343348017635475,0.04747110686224379,0.05142269294550541,0.055782881848597705,0.06367473305663955,0.025828255694878087,0.08957254936709545,0.005651128592301398,0.0980961835372522,0.0012119415631189384,0.042564430051561734,0.0990952238135564,0.09580489344221206,0.08976248216401199,0.04428119822779975,0.06607670971117102,0.08513237130889253,0.044017974619331934,0.04934746735965444,0.09171274366467337,0.04702749002489952,0.08560573028729233,0.05666241822871199,0.06744603060171894,0.024524766213080234,0.05422564446643759,0.008604571239815091,0.09817799876418415,0.08518697532547977,0.03709858955031763,0.03270836444891938,0.08321232959639703,0.011519871541211545,0.042936047007511316,0.09621677158766251,0.09590892423325262,0.032349609248777285,0.05145597369020433,0.07360212526636749,0.08652308785694715,0.0832909803124291,0.03179636820144126,0.026291392111089176,0.03111160393055532,0.0521324206500918,0.04597927343425676,0.030745271168745952,0.053647209223664394,0.02004361023642185,0.02037954063446027,0.07426530883998242,0.060378271937431546,0.06085287601965787,0.08673177978095294,0.05625881133107507,0.0989204032570549,0.011927382280394772,0.028164857411507004,0.03233798324570779,0.05083143330135904,0.039017263638932986,0.08508020777668866,0.0923549920816951,0.021700576744220497,0.047733056603057204,0.04341277317852638,0.028748538418101783,0.05870884095056107,0.011049888419975553,0.03081527584466099,0.0541492135768107,0.010030644888772996,0.0029430052973673827,0.023434690486080424,0.03195586904780232,0.03653614561206859,0.04546726104695789,0.07697522755672863,0.029990163996055298,0.024134376142980717,0.03275768506126246,0.008813591870228801,0.019841654719428947,0.0818635524106178,0.034729246761359446,0.025174731415349896,0.08995307588706741,0.008991048113495449,0.08549029897177704,0.009519589143432277,0.09306545557114242,0.07147016498325902,0.05110539694039841,0.02299885193918094,0.008524237505065445,0.012714863996692983,0.08279307125049158,0.07625757841571534,0.09579425257777421,0.07051290898008224,0.0983338516720423,0.047073755065150436,0.015993201122385944,0.049291437716164115,0.08535569719094455,0.05479258579702367,0.06527639618288146,0.04492855581798088,0.09046754120544183,0.03319482159953855,0.06051843301270749,0.02293445915170906,0.08116595897734559,0.058041981684750145,0.0007645532760824365,0.06814798995293633,0.07205484920415063,0.09360962027911383,0.02660934668600597,0.054325642450559646,0.09660183991766466,0.0682933899667788,0.038304310173233456,0.024804154287609778,0.0784499025972392,0.03702872329910319,0.0401853653407492,0.0667298791786858,0.0967279575192245,0.08128740973619539,0.016476867104812543,0.03069159277906041,0.016881209050180847,0.03049719758677073,0.02153583563793608,0.0048386419372444065,0.024158814494468554,0.07768276145580044,0.03383693137982684,0.08197480297832617,0.04279247619000131,0.0444531264174027,0.01626527237767488,0.01705710296313798,0.07652372432681265,0.06586863863175453,0.0009963932776739062,0.03573780185214181,0.06851253708654768,0.04479788569438937,0.0032697187916119804,0.05738423046985072,0.051060449266291184,0.0021338008804441264,0.06855534715749882,0.09439088956789526,0.08576232872280955,0.021777415372662878,0.057701608838408885,0.05890146836483355,0.01447591675589536,0.08947965840104123,0.026626257141428262,0.00818417636324726],\"xaxis\":\"x2\",\"yaxis\":\"y2\",\"type\":\"box\"},{\"alignmentgroup\":\"True\",\"bingroup\":\"x\",\"hovertemplate\":\"Distribution=Loguniform\\u003cbr\\u003eRandom Samples=%{x}\\u003cbr\\u003ecount=%{y}\\u003cextra\\u003e\\u003c\\u002fextra\\u003e\",\"legendgroup\":\"Loguniform\",\"marker\":{\"color\":\"#fb9f3a\",\"opacity\":0.8,\"pattern\":{\"shape\":\"\"},\"line\":{\"color\":\"black\",\"width\":1}},\"name\":\"Loguniform\",\"nbinsx\":50,\"offsetgroup\":\"Loguniform\",\"orientation\":\"v\",\"showlegend\":true,\"x\":[0.0002120595138963838,0.0008379213698133616,0.0024968574613269063,0.0001572877384502258,0.02635033684737497,0.0032319526575590976,0.0170485970025144,0.04475302919611063,0.06099252813084049,0.00012585170036400647,0.002457375063537496,0.06747151863993178,0.004816880490340916,0.00017561082321343113,0.0004953275906198759,0.001583147053436116,0.0009847293821613954,0.00016189013920074678,0.0003655840914707605,0.0020030102374330814,0.01756500508578954,0.0005534174230121271,0.049499410985039176,0.05036639884241257,0.0012406530800803575,0.007380972297485176,0.01927357138749398,0.001492392769881649,0.015745459115533045,0.006731057338429078,0.0043120694852243615,0.003829111005938947,0.0967095333888965,0.0004530339340440974,0.00020688483125665816,0.02551937898297278,0.007186106747945586,0.055250739591232056,0.0008811481664071498,0.008749907438501155,0.0008990964030227983,0.00018685343384913382,0.011296356182794667,0.0003019905764963115,0.002797991581352948,0.032148632103419374,0.00021695000587676299,0.003550858757012463,0.04463013675768519,0.00027861656430684656,0.0002431575233229777,0.008226811119557016,0.026669313172440028,0.00043117403455232394,0.00047219252709599513,0.008217968459258826,0.031089730339703414,0.016863309949266367,0.00031067706654777373,0.010801691587034987,0.07303130086163565,0.027937647509629737,0.030095061423614643,0.0008110658920641295,0.00015207786354049971,0.000879355367195744,0.00013279259511086357,0.042355638267553244,0.05322530051462338,0.055304532053587735,0.003766871618983374,0.005513975996921287,0.061683687330094834,0.0006288580093235595,0.00031748602351212233,0.00731055256525286,0.00011413158963344005,0.0030070443467820796,0.015769624521448783,0.005158822117333775,0.000361807837546457,0.0002273916897058535,0.004829007315954391,0.004121052743170577,0.07581257338681713,0.0012168279770631556,0.0022087697754323093,0.09304021389719999,0.006398283127897212,0.00016519545987753607,0.0004676177306546864,0.010886863028560767,0.05941508954097103,0.00286780425028924,0.027106549919406708,0.0036677855357422602,0.07412885106787956,0.00031719695454758453,0.00041102861093563696,0.00011437474179766896,0.0254113051438843,0.09248427842578018,0.06196248454469477,0.003976647557145067,0.06328935602747222,0.0002730577293915581,0.0009628727059478881,0.0005158318275521459,0.0027853920561600395,0.01842469354085968,0.008334682011276878,0.002381223642971055,0.0010003387791894043,0.0022143881694870688,0.021552210019953343,0.0038561237125966357,0.0014803487213586502,0.00010277018146999575,0.00019143100780364742,0.0036808377303180788,0.01365929629216943,0.02352214919979055,0.00010444328802723131,0.00011180325126944752,0.0010631014330850783,0.05125326315541926,0.00010213567516040218,0.0007436463804128036,0.07118869634179936,0.08022803102279735,0.019802249058119222,0.0007407712334240333,0.07401510275555133,0.002060429523565021,0.00014006102291400617,0.010316573347006365,0.011347888701366654,0.06329742758389251,0.00010941829225902204,0.004675773782992503,0.04557145650822202,0.005310488834714265,0.018644079464678328,0.0011446043527589076,0.0010846713801228064,0.0066163964385730625,0.012176440282740656,0.006616942586757278,0.0010150925021508456,0.0001137228504359745,0.0017533786928218068,0.004543706183025369,0.01324603575464988,0.04489681727257071,0.03814658263020181,0.0003364969609772077,0.0001140078523655979,0.004401410503058052,0.004773979561663319,0.0157965075865306,0.025377852688459972,0.03938162483679345,0.0474667948102724,0.0002655670941970516,0.01743776935152833,0.00011477685280513434,0.00021536803934356003,0.000727435430827026,0.008450145215136633,0.05499883611170931,0.00010085437194291007,0.06310564846518965,0.00027461309822429214,0.03985691892313429,0.0023301549261151313,0.08293146899339485,0.004851509986647807,0.019716306068302245,0.006219409503531201,0.0064669508267562745,0.009010190184136594,0.0001402285411070856,0.0002580992694670273,0.0002083871323422544,0.0028555005021771596,0.0014826020814102437,0.08916244711145524,0.07762056101219807,0.0006546853807358034,0.005004023675896756,0.00013805654016840573,0.007181922657585495,0.0002169754487714516,0.001637849909438018,0.00128558009385098,0.0002292507658674761,0.02628020388288336,0.00024193677131095008,0.00020550096814806726,0.004242990386356278,0.000276367475498892,0.052714993486988826,0.0025699955931863146,0.003924090252657482,0.07077049591130509,0.0027139285101387915,0.009757671001296537,0.0036713138384450597,0.009514206045927452,0.025292834343169257,0.0004345477027997706,0.007382866127925871,0.0007109215540664493,0.00026645395198032014,0.0010777905633192568,0.06757811117507179,0.00030079771460566094,0.001161921515827911,0.08881329820427093,0.0012392096532606494,0.024792690864170658,0.0007286577629004541,0.0844754039728693,0.0003895678784467357,0.0011617425671190485,0.0018070231202810066,0.00414344287484527,0.0003769412797823366,0.0023899466773244014,0.002217949759530378,0.0002010082629158451,0.0005499240431041571,0.011361267685219476,0.013141885467249897,0.03795247402948149,0.015188206724253568,0.012509870295246658,0.0032777593450917988,0.0035597985872797377,0.0008601107569582966,0.010548089203623783,0.004835039343106654,0.0003957530667908664,0.03384615020291699,0.06352207028458653,0.0001486458161623416,0.004345468267429191,0.003093450367196729,0.0007575176470802045,0.0008492446913320904,0.007010999025969231,0.010212325168948903,0.0029484987062011895,0.03155569373453706,0.032832812337959656,0.01853756688037752,0.012183032436386519,0.0006874268785863521,0.0004920335312524012,0.0026315292625153927,0.0007380629217584168,0.004146792500153654,0.04385678068540477,0.00768038721986254,0.0001905569383971762,0.001225905706203331,0.0043089808074952265,0.0002024772848288989,0.004910194069032304,0.000202704963336278,0.016443263551053605,0.0035299809773571,0.0009135551781100164,0.014412977996692604,0.0037354301288407624,0.00015227479779673922,0.0028032849571230528,0.0001904255068134985,0.00013554290376042012,0.01043757131720084,0.00037777985700543744,0.03056874133507715,0.06015863587512346,0.09943636753651754,0.0007059234980819887,0.0014710558206467719,0.004267283634032922,0.05153028274252368,0.0003331783700545326,0.00024389775225984136,0.0048578663160921106,0.06452890597113257,0.007896196022792328,0.03956985061828849,0.00010609002248704457,0.0006002246885943459,0.00039660255281594463,0.0002987604813509136,0.00022698194973203373,0.0029032973843990456,0.03548591213676705,0.03592208780940455,0.05447063392964134,0.011121838275479154,0.005338685533485862,0.0012796156791652347,0.0009905484860378937,0.00013942377868739482,0.0003755567565934591,0.0003434560683959205,0.001871681993182064,0.001991222860627934,0.0001777799000855129,0.0012860469464315019,0.0009061291708605234,0.001332063477344755,0.016334092890605896,0.0009560575388446637,0.0008686863570043947,0.002862518519438045,0.013998523221629523,0.002239018417459097,0.000469165268497053,0.03215466727651864,0.0015129653057583488,0.0014987528663541483,0.00042390998316249704,0.03020516466915353,0.05594801528758753,0.008499718754307162,0.00434436755394136,0.0015507167329197316,0.00011541443941778564,0.00034449283681670936,0.00012874604593407206,0.0012859706485980106,0.030175830068780964,0.00048003007655710283,0.0002949982799602406,0.00022188775081698572,0.00028691881594337975,0.0033282401244116083,0.0012495498753004608,0.0311749550960349,0.013441402804825623,0.03737934478739511,0.0021486157045619196,0.0004616781082454738,0.07694507132970475,0.000459111379565414,0.04606691023257262,0.010770732602505401,0.00035115639163421907,0.007884365665942817,0.03203110057464645,0.04378565216396191,0.00019664618530561216,0.00011879993147626691,0.002061725737683335,0.0013047013959170321,0.004835555219868228,0.09449049556658176,0.0001265350302649517,0.0003853546404924913,0.0016539219574587965,0.020038244485344494,0.002129359971929919,0.07548863719469615,0.007463623306129002,0.004292185461413302,0.008000531210880674,0.008123837581561542,0.00021550044424516236,0.0033120296293247826,0.016167628903182622,0.00010359588304707212,0.0012036439916750022,0.05138724046334853,0.002437927650591731,0.000521958570310136,0.004915260790518685,0.03918704923283503,0.0800208541139051,0.0012953476134321506,0.0008434050307690373,0.0010968403314568134,0.08998116058938437,0.0003600873517586092,0.001819451892994911,0.004825449429309485,0.008539421838189325,0.009486692416485955,0.0179812072682854,0.02922117955702645,0.0003371300019274829,0.0024267887955345094,0.061866794435291625,0.00020586257320598259,0.00024919579976596457,0.031682548954707936,0.0007163631363527816,0.00016044166815561186,0.0013530273619769182,0.012602602785345463,0.000427588610555384,0.007292637350159754,0.011001064919162588,0.030089627778780586,0.0024044580666197505,0.006772746478634956,0.028546952084890626,0.02200216491874628,0.00674777544671853,0.02542540114609159,0.03917443955435657,0.004106434565839012,0.009490407239637169,0.025146200668138226,0.00012156748315633621,0.0017511272977378655,0.015961961655374654,0.00018580477141139773,0.0007706071257240724,0.00030626931325586956,0.006304909740738021,0.003045518856617641,0.0001350949339010947,0.0004766844521973189,0.010585783704483343,0.05226554696720091,0.007877682775524067,0.00010327491263914063,0.0008223240922883316,0.0005211592624686928,0.0017655900825301683,0.0007622323915336444,0.00010098848357917329,0.0011283273092844216,0.01687081054157292,0.0037511467600982104,0.001123355936841722,0.00010992181970446504,0.07033439231866424,0.02583724252996987,0.05750423301349083,0.018318094680267172,0.0008552433486474912,0.011038521826778192,0.0033404850332582276,0.00017576669983438909,0.012705244269658123,0.003227075411612984,0.0001160106645792399,0.0006647309813184326,0.0004197749261061959,0.013353418338380506,0.0024806526531740355,0.039873607450159484,0.07258029658328632,0.00019039187315755213,0.015030315201043636,0.0009093018717696548,0.023936898675061533,0.0036573857336042394,0.0007502146528822427,0.025518704321798688,0.005409924259902955,0.004279766309640085,0.00114409655177247,0.05633891380246655,0.002305996692711148,0.08821353167046245,0.015914409678023753,0.0007981127542404505,0.0004397623843864698,0.01473166068394197,0.050116770424669665,0.024004105519652433,0.000737186927328319,0.0031853820556416875,0.08678192459067936,0.00025411711242123784,0.0011154277582535285,0.05444154566434146,0.007155360848827712,0.04873185095051763,0.05005396333732325,0.09629929630380099,0.000655991615909413,0.001535045206728939,0.029841728901414993,0.018986203565182724,0.0004123727852162002,0.000517716330492607,0.00012372652793024892,0.07263024242982585,0.00037587496043676885,0.0004688602454025185,0.09415565717524671,0.045413080444854946,0.0005746289289430945,0.00011808358895103695,0.012736000649126797,0.0005121139967068751,0.04186146199172951,0.038805945008729824,0.036748794976093686,0.004246153133939033,0.0855023656674024,0.01859181954108191,0.007403568820320579,0.006732220412180243,0.00045011355561162786,0.06900778628584882,0.0005607661273324371,0.0045774295782232376,0.0022134122134761206,0.023788077736654988,0.005682911068040894,0.001024377337519395,0.047075139097775255,0.00020135677862853735,0.010624526950927757,0.0004692022761545271,0.002096214025460141,0.0003159144742191404,0.0009752795511800731,0.00010151049735777322,0.005875272656740812,0.00039117535986257524,0.0002846392720768614,0.004735860380206078,0.02419571481823244,0.001197625202502262,0.0009175197482320827,0.0005831078142115367,0.00012244437198049635,0.0329840707483383,0.01026736363667411,0.0002117934084732869,0.00021577366883856602,0.000663283723857714,0.0007580874834669972,0.000806236874276028,0.014818450896249885,0.0633173080659489,0.0001504195225649287,0.006162082495254292,0.000619454296572596,0.002011847111629502,0.002835153127419375,0.00031438764073850187,0.0006251245280532666,0.0002816518501861437,0.00895781337017471,0.005786099232920114,0.08414090715252187,0.0004088283450841079,0.013823260812517182,0.0038109963168988315,0.0830693848863344,0.0022841254234145974,0.005658234413785363,0.0012061865047460307,0.0024617747456674834,0.005878288045700723,0.00014918715384281596,0.00011089426086731774,0.011299967821315924,0.005449096051744285,0.0033933092761324244,0.00016645579092910916,0.0001724493269534774,0.04658120091282267,0.00964084929027081,0.0018820043509633693,0.0007702278775341799,0.00018181170784173692,0.011527106991088644,0.04778992439188554,0.0006933034799108655,0.0010748360695492485,0.04839967378152268,0.05092690578355639,0.0014133162578764107,0.058314348143833725,0.0012110311242398712,0.0007699765231056264,0.004646817071224545,0.011333398734240574,0.022102278479339203,0.012447241627477129,0.001492769918070715,0.001586132844096962,0.00018205282754179698,0.0014696197548622917,0.014598934063587449,0.004439680965554725,0.006854689081738243,0.00025436225539126825,0.0007927813782085698,0.003601892841192165,0.011409616682839427,0.00010781092587191767,0.0470367757317983,0.00038897314039911354,0.006054737839220543,0.04437361717638977,0.0034899588944318724,0.020064185844112924,0.0011382312336067463,0.013972328341387874,0.00012366965178549965,0.00017317202544345531,0.00581337045879666,0.0260353981607446,0.0008259107689289673,0.07703222709808732,0.01199328722183263,0.006649014651948893,0.000310029656167271,0.002763762380274419,0.03698968812780045,0.027197184137566693,0.05810986406628404,0.010851560597657028,0.05422997765587776,0.07333322074587757,0.0025555606735033305,0.006582121580005201,0.0010927051676516324,0.03322687768584927,0.025930132891042342,0.00012389020732984376,0.0006961685617423786,0.0012775140377510733,0.06422271572191202,0.0001680963717704901,0.07107022631555805,0.053519658930017824,0.0002530060172252974,0.005672467394408057,0.00026992582552380813,0.0006607908476239132,0.020127105675554376,0.06902020122294257,0.00018224573943635027,0.003998800010098462,0.002413487166421692,0.024174861177424328,0.012175639479707517,0.027471418732835953,0.0038329176466121344,0.00011427910928201416,0.0539573422951826,0.046256658105769156,0.018916403538699545,0.0002157855497620367,0.002143055856088833,0.09459542974354171,0.0019829377968815422,0.0003023372647238715,0.0006845231708034517,0.0138862303569297,0.0011738282449133737,0.005504814251547071,0.0002021537276795093,0.00033336259699103714,0.00011639982331807352,0.0015358792663457575,0.014299807438352803,0.0003734230292458705,0.032666995328213724,0.026439008982132244,0.034221071645387104,0.013007306092490052,0.0022187590932700235,0.014782678398251741,0.003994330245572191,0.0007092652583005817,0.00028105309437788124,0.002163780237958914,0.007544773786806134,0.006487484406244157,0.04355618725203328,0.00037978094647808376,0.030086222205881166,0.08798240641081058,0.049980817688916844,0.0002088866670879556,0.0695984252226679,0.01283402454527649,0.010888233016434105,0.029535830941708592,0.005750933039196045,0.002299721064872492,0.018985158226501774,0.0004687093878721705,0.00020912114981467197,0.0005400427091556758,0.002739725698963352,0.00029397048703489294,0.0006198396995778317,0.00014653005364110235,0.024488910641129433,0.00010064053261215155,0.006160185955174893,0.027552249582366455,0.03518297692196433,0.0074670010599786835,0.00010126863592840117,0.003131062944361629,0.0016491185789670529,0.00023712313180351664,0.003925043757475521,0.0004681138999826532,0.028845220881142684,0.001353686110164285,0.0002063455744176437,0.00014650081404315708,0.00011079659284931847,0.014352510090155708,0.09216637416720452,0.08335824994015689,0.0076851288424270815,0.0005201952875249496,0.00025327288456931225,0.07348448298526812,0.0012865808250178197,0.06495454615755482,0.00036805068784442034,0.015335375481404581,0.005035423795740503,0.00022011383016754828,0.00097910685960055,0.000550687146318043,0.002849261388611529,0.001401780034420879,0.0003151817676087578,0.010773871735806583,0.011228749968631727,0.00023557442630076832,0.0007665496627952102,0.00014214963215802802,0.001096673006003556,0.018058877825861283,0.04267871464171422,0.0008100965975564018,0.0013310744396095844,0.00017962559431879152,0.059532493582895446,0.013428015209246582,0.033679900758976596,0.020713075781955092,0.004110101003220065,0.0028359425556330918,0.000505280500467797,0.09241179973045313,0.09776695358284852,0.005007113973187467,0.0013099801145844523,0.00533798607459142,0.00047090241303345595,0.02847064114242575,0.00012742888564249666,0.002907549062256389,0.0006519902736130416,0.0020425188091583685,0.00033252103457523835,0.0014547832389898146,0.01840494198569082,0.012109910374857303,0.014048935180436936,0.002643756215559137,0.0047553241281880175,0.00023159991427079005,0.00022883332242162036,0.08736574109328,0.0024138555467534363,0.0002821164854437767,0.004685515709866448,0.012209952712030242,0.00036981591517529645,0.0156844411868004,0.09895378161407166,0.05897549026726354,0.01448355588000798,0.09533634416869412,0.004510917912603493,0.00025312762571376283,0.00047102017182631305,0.002649201607036131,0.08756276011055404,0.030861783285153332,0.01068290700445576,0.00016809571877456214,0.0017381507178060062,0.010285317339578999,0.005892123647651511,0.002121810084878751,0.004408899736884138,0.0009631922479214283,0.02856869025685923,0.0031281503125997227,0.005233325698237564,0.0054115691826946795,0.002516500593472364,0.00041210159633509806,0.026615751340016765,0.0011453088891026544,0.01628893930413289,0.005767298678766807,0.015609131282655201,0.010873561608970342,0.0004276341546603055,0.02339988462009381,0.0003718979051668318,0.016932569747623305,0.015411312106431586,0.03406135405402152,0.0033780186428128134,0.00012059469458830856,0.0001672829383620067,0.004587300724470796,0.04449759676911518,0.0005064957104214776,0.0042696551884581655,0.00010334292625627197,0.00016925397117830148,0.010938750605783643,0.001426670577979628,0.0030068661907224235,0.000347677976588485,0.0014848446654459665,0.0003072525372050093,0.0006231277358060968,0.0006329174739809065,0.0002242226304242239,0.018156017702006196,0.0001995939536251603,0.01369732403223644,0.005910883688052071,0.0337065929828118,0.0007281974696476868,0.024201348645751228,0.00028406290705434544,0.00012963270682104312,0.007434494461231413,0.008997573080259893,0.00877713382471117,0.02237777674533645,0.0024912183676022996,0.002603218827565963,0.0007634014219663722,0.05599156973116139,0.0153350023855937,0.0008873611848444527,0.018769858527299146,0.005813908075982422,0.030560169500468703,0.00012185644492704244,0.0002523038516605157,0.0005574728955489829,0.00946676317031746,0.007968144772468135,0.00017827336917302888,0.0002404565075756034,0.008834546261723674,0.00032091338303395187,0.0004891063167994713,0.014555670504250967,0.0016151981876348475,0.00040874135174954915,0.004746743968234039,0.0002319207174425803,0.0026155778216653885,0.001303242538808264,0.00953395476612517,0.0001356611865585812,0.07887596311460143,0.008785435084112135,0.07051861678994216,0.0794812333927531,0.00988468632054023,0.0002684670142333644,0.009034817331800823,0.0008442352870236456,0.022202864364441098,0.0021954789673269233,0.022943595589588677,0.04066516825191114,0.010580499352956808,0.005010100677373377,0.016362303167739962,0.05669773741282825,0.015278272796666112,0.007653484380191623,0.0009751942686665328,0.0018333071037900134,0.020187916662004916,0.0012082178075425404,0.0004425049849725795,0.013711143860190626,0.0017039496333442561,0.007593449285756652,0.00024632395106530334,0.0016571261864562566,0.0020226381037064586,0.00018552228192004572,0.0008611851717301644,0.00017705798350706504,0.008740952692990031,0.01594828883330743,0.06386354990268572,0.0009585032606138846,0.0006627255083931607,0.0002666369077553807,0.009635271512772948,0.0032856579789353924,0.0005587505608732056,0.04272754067874568,0.009782110824947987,0.008391579435704843,0.0006424581939705298,0.05817164308877837,0.003048545106706817,0.00039511798123906776,0.004303450843575561,0.0003183844659221061,0.00201404594524798,0.004386233831017343,0.01588186876270556,0.00048469845954684436,0.013568012813291298,0.0004211307828208351,0.04690970308646436,0.006351615243820151,0.058108444796531565,0.06819435616013472,0.053897705206492064,0.00014178585335960733,0.00017495556840103684,0.024678283230795305,0.0017373468324736042,0.030981937360859343,0.001646710887802149,0.07012528883618949,0.0010594844544603227,0.00018370778936180833,0.0008497936968387066,0.0011592315337788448,0.03660145110875716,0.00017660708639045378,0.02080789680762282,0.007652469591689768,0.008986092246804397,0.0317329899181003,0.0038352509062702816,0.010809713394280883,0.00655482771184035,0.0005445985408571006,0.012093991852276356,0.00011415842364152007,0.0002817863347020836,0.000298569820021176,0.00020043268217851543,0.020752339170387834,0.0004832973062255418,0.01135863768295966,0.00023183040850711557,0.0010265296746685283,0.010787530224804005,0.004325387693452804,0.03431752625750915,0.011344116037115305,0.02574156092412648,0.002805839684427527,0.00011234783651496751,0.0007505678536085981,0.00013915127280313458,0.005043063244747297,0.022044296108542007,0.008115115903048885,0.00012147509289875851,0.030883245804758062,0.0002270934216215248,0.00745273404757368,0.0001826692289348442,0.0019970517057084245,0.042948411340518085,0.011309466300935189,0.00031473506282046776,0.0037136351277293864,0.001769321976388122,0.0012332756843329322,0.04374031377615781,0.0004463370163672112,0.0006171913716478153,0.07696381620063716,0.00012563649950048827],\"xaxis\":\"x\",\"yaxis\":\"y\",\"type\":\"histogram\"},{\"alignmentgroup\":\"True\",\"boxpoints\":\"all\",\"fillcolor\":\"rgba(255,255,255,0)\",\"hoveron\":\"points\",\"hovertemplate\":\"Distribution=Loguniform\\u003cbr\\u003eRandom Samples=%{x}\\u003cextra\\u003e\\u003c\\u002fextra\\u003e\",\"jitter\":0,\"legendgroup\":\"Loguniform\",\"line\":{\"color\":\"rgba(255,255,255,0)\"},\"marker\":{\"color\":\"#fb9f3a\",\"symbol\":\"line-ns-open\",\"line\":{\"color\":\"black\",\"width\":1}},\"name\":\"Loguniform\",\"offsetgroup\":\"Loguniform\",\"showlegend\":false,\"x\":[0.0002120595138963838,0.0008379213698133616,0.0024968574613269063,0.0001572877384502258,0.02635033684737497,0.0032319526575590976,0.0170485970025144,0.04475302919611063,0.06099252813084049,0.00012585170036400647,0.002457375063537496,0.06747151863993178,0.004816880490340916,0.00017561082321343113,0.0004953275906198759,0.001583147053436116,0.0009847293821613954,0.00016189013920074678,0.0003655840914707605,0.0020030102374330814,0.01756500508578954,0.0005534174230121271,0.049499410985039176,0.05036639884241257,0.0012406530800803575,0.007380972297485176,0.01927357138749398,0.001492392769881649,0.015745459115533045,0.006731057338429078,0.0043120694852243615,0.003829111005938947,0.0967095333888965,0.0004530339340440974,0.00020688483125665816,0.02551937898297278,0.007186106747945586,0.055250739591232056,0.0008811481664071498,0.008749907438501155,0.0008990964030227983,0.00018685343384913382,0.011296356182794667,0.0003019905764963115,0.002797991581352948,0.032148632103419374,0.00021695000587676299,0.003550858757012463,0.04463013675768519,0.00027861656430684656,0.0002431575233229777,0.008226811119557016,0.026669313172440028,0.00043117403455232394,0.00047219252709599513,0.008217968459258826,0.031089730339703414,0.016863309949266367,0.00031067706654777373,0.010801691587034987,0.07303130086163565,0.027937647509629737,0.030095061423614643,0.0008110658920641295,0.00015207786354049971,0.000879355367195744,0.00013279259511086357,0.042355638267553244,0.05322530051462338,0.055304532053587735,0.003766871618983374,0.005513975996921287,0.061683687330094834,0.0006288580093235595,0.00031748602351212233,0.00731055256525286,0.00011413158963344005,0.0030070443467820796,0.015769624521448783,0.005158822117333775,0.000361807837546457,0.0002273916897058535,0.004829007315954391,0.004121052743170577,0.07581257338681713,0.0012168279770631556,0.0022087697754323093,0.09304021389719999,0.006398283127897212,0.00016519545987753607,0.0004676177306546864,0.010886863028560767,0.05941508954097103,0.00286780425028924,0.027106549919406708,0.0036677855357422602,0.07412885106787956,0.00031719695454758453,0.00041102861093563696,0.00011437474179766896,0.0254113051438843,0.09248427842578018,0.06196248454469477,0.003976647557145067,0.06328935602747222,0.0002730577293915581,0.0009628727059478881,0.0005158318275521459,0.0027853920561600395,0.01842469354085968,0.008334682011276878,0.002381223642971055,0.0010003387791894043,0.0022143881694870688,0.021552210019953343,0.0038561237125966357,0.0014803487213586502,0.00010277018146999575,0.00019143100780364742,0.0036808377303180788,0.01365929629216943,0.02352214919979055,0.00010444328802723131,0.00011180325126944752,0.0010631014330850783,0.05125326315541926,0.00010213567516040218,0.0007436463804128036,0.07118869634179936,0.08022803102279735,0.019802249058119222,0.0007407712334240333,0.07401510275555133,0.002060429523565021,0.00014006102291400617,0.010316573347006365,0.011347888701366654,0.06329742758389251,0.00010941829225902204,0.004675773782992503,0.04557145650822202,0.005310488834714265,0.018644079464678328,0.0011446043527589076,0.0010846713801228064,0.0066163964385730625,0.012176440282740656,0.006616942586757278,0.0010150925021508456,0.0001137228504359745,0.0017533786928218068,0.004543706183025369,0.01324603575464988,0.04489681727257071,0.03814658263020181,0.0003364969609772077,0.0001140078523655979,0.004401410503058052,0.004773979561663319,0.0157965075865306,0.025377852688459972,0.03938162483679345,0.0474667948102724,0.0002655670941970516,0.01743776935152833,0.00011477685280513434,0.00021536803934356003,0.000727435430827026,0.008450145215136633,0.05499883611170931,0.00010085437194291007,0.06310564846518965,0.00027461309822429214,0.03985691892313429,0.0023301549261151313,0.08293146899339485,0.004851509986647807,0.019716306068302245,0.006219409503531201,0.0064669508267562745,0.009010190184136594,0.0001402285411070856,0.0002580992694670273,0.0002083871323422544,0.0028555005021771596,0.0014826020814102437,0.08916244711145524,0.07762056101219807,0.0006546853807358034,0.005004023675896756,0.00013805654016840573,0.007181922657585495,0.0002169754487714516,0.001637849909438018,0.00128558009385098,0.0002292507658674761,0.02628020388288336,0.00024193677131095008,0.00020550096814806726,0.004242990386356278,0.000276367475498892,0.052714993486988826,0.0025699955931863146,0.003924090252657482,0.07077049591130509,0.0027139285101387915,0.009757671001296537,0.0036713138384450597,0.009514206045927452,0.025292834343169257,0.0004345477027997706,0.007382866127925871,0.0007109215540664493,0.00026645395198032014,0.0010777905633192568,0.06757811117507179,0.00030079771460566094,0.001161921515827911,0.08881329820427093,0.0012392096532606494,0.024792690864170658,0.0007286577629004541,0.0844754039728693,0.0003895678784467357,0.0011617425671190485,0.0018070231202810066,0.00414344287484527,0.0003769412797823366,0.0023899466773244014,0.002217949759530378,0.0002010082629158451,0.0005499240431041571,0.011361267685219476,0.013141885467249897,0.03795247402948149,0.015188206724253568,0.012509870295246658,0.0032777593450917988,0.0035597985872797377,0.0008601107569582966,0.010548089203623783,0.004835039343106654,0.0003957530667908664,0.03384615020291699,0.06352207028458653,0.0001486458161623416,0.004345468267429191,0.003093450367196729,0.0007575176470802045,0.0008492446913320904,0.007010999025969231,0.010212325168948903,0.0029484987062011895,0.03155569373453706,0.032832812337959656,0.01853756688037752,0.012183032436386519,0.0006874268785863521,0.0004920335312524012,0.0026315292625153927,0.0007380629217584168,0.004146792500153654,0.04385678068540477,0.00768038721986254,0.0001905569383971762,0.001225905706203331,0.0043089808074952265,0.0002024772848288989,0.004910194069032304,0.000202704963336278,0.016443263551053605,0.0035299809773571,0.0009135551781100164,0.014412977996692604,0.0037354301288407624,0.00015227479779673922,0.0028032849571230528,0.0001904255068134985,0.00013554290376042012,0.01043757131720084,0.00037777985700543744,0.03056874133507715,0.06015863587512346,0.09943636753651754,0.0007059234980819887,0.0014710558206467719,0.004267283634032922,0.05153028274252368,0.0003331783700545326,0.00024389775225984136,0.0048578663160921106,0.06452890597113257,0.007896196022792328,0.03956985061828849,0.00010609002248704457,0.0006002246885943459,0.00039660255281594463,0.0002987604813509136,0.00022698194973203373,0.0029032973843990456,0.03548591213676705,0.03592208780940455,0.05447063392964134,0.011121838275479154,0.005338685533485862,0.0012796156791652347,0.0009905484860378937,0.00013942377868739482,0.0003755567565934591,0.0003434560683959205,0.001871681993182064,0.001991222860627934,0.0001777799000855129,0.0012860469464315019,0.0009061291708605234,0.001332063477344755,0.016334092890605896,0.0009560575388446637,0.0008686863570043947,0.002862518519438045,0.013998523221629523,0.002239018417459097,0.000469165268497053,0.03215466727651864,0.0015129653057583488,0.0014987528663541483,0.00042390998316249704,0.03020516466915353,0.05594801528758753,0.008499718754307162,0.00434436755394136,0.0015507167329197316,0.00011541443941778564,0.00034449283681670936,0.00012874604593407206,0.0012859706485980106,0.030175830068780964,0.00048003007655710283,0.0002949982799602406,0.00022188775081698572,0.00028691881594337975,0.0033282401244116083,0.0012495498753004608,0.0311749550960349,0.013441402804825623,0.03737934478739511,0.0021486157045619196,0.0004616781082454738,0.07694507132970475,0.000459111379565414,0.04606691023257262,0.010770732602505401,0.00035115639163421907,0.007884365665942817,0.03203110057464645,0.04378565216396191,0.00019664618530561216,0.00011879993147626691,0.002061725737683335,0.0013047013959170321,0.004835555219868228,0.09449049556658176,0.0001265350302649517,0.0003853546404924913,0.0016539219574587965,0.020038244485344494,0.002129359971929919,0.07548863719469615,0.007463623306129002,0.004292185461413302,0.008000531210880674,0.008123837581561542,0.00021550044424516236,0.0033120296293247826,0.016167628903182622,0.00010359588304707212,0.0012036439916750022,0.05138724046334853,0.002437927650591731,0.000521958570310136,0.004915260790518685,0.03918704923283503,0.0800208541139051,0.0012953476134321506,0.0008434050307690373,0.0010968403314568134,0.08998116058938437,0.0003600873517586092,0.001819451892994911,0.004825449429309485,0.008539421838189325,0.009486692416485955,0.0179812072682854,0.02922117955702645,0.0003371300019274829,0.0024267887955345094,0.061866794435291625,0.00020586257320598259,0.00024919579976596457,0.031682548954707936,0.0007163631363527816,0.00016044166815561186,0.0013530273619769182,0.012602602785345463,0.000427588610555384,0.007292637350159754,0.011001064919162588,0.030089627778780586,0.0024044580666197505,0.006772746478634956,0.028546952084890626,0.02200216491874628,0.00674777544671853,0.02542540114609159,0.03917443955435657,0.004106434565839012,0.009490407239637169,0.025146200668138226,0.00012156748315633621,0.0017511272977378655,0.015961961655374654,0.00018580477141139773,0.0007706071257240724,0.00030626931325586956,0.006304909740738021,0.003045518856617641,0.0001350949339010947,0.0004766844521973189,0.010585783704483343,0.05226554696720091,0.007877682775524067,0.00010327491263914063,0.0008223240922883316,0.0005211592624686928,0.0017655900825301683,0.0007622323915336444,0.00010098848357917329,0.0011283273092844216,0.01687081054157292,0.0037511467600982104,0.001123355936841722,0.00010992181970446504,0.07033439231866424,0.02583724252996987,0.05750423301349083,0.018318094680267172,0.0008552433486474912,0.011038521826778192,0.0033404850332582276,0.00017576669983438909,0.012705244269658123,0.003227075411612984,0.0001160106645792399,0.0006647309813184326,0.0004197749261061959,0.013353418338380506,0.0024806526531740355,0.039873607450159484,0.07258029658328632,0.00019039187315755213,0.015030315201043636,0.0009093018717696548,0.023936898675061533,0.0036573857336042394,0.0007502146528822427,0.025518704321798688,0.005409924259902955,0.004279766309640085,0.00114409655177247,0.05633891380246655,0.002305996692711148,0.08821353167046245,0.015914409678023753,0.0007981127542404505,0.0004397623843864698,0.01473166068394197,0.050116770424669665,0.024004105519652433,0.000737186927328319,0.0031853820556416875,0.08678192459067936,0.00025411711242123784,0.0011154277582535285,0.05444154566434146,0.007155360848827712,0.04873185095051763,0.05005396333732325,0.09629929630380099,0.000655991615909413,0.001535045206728939,0.029841728901414993,0.018986203565182724,0.0004123727852162002,0.000517716330492607,0.00012372652793024892,0.07263024242982585,0.00037587496043676885,0.0004688602454025185,0.09415565717524671,0.045413080444854946,0.0005746289289430945,0.00011808358895103695,0.012736000649126797,0.0005121139967068751,0.04186146199172951,0.038805945008729824,0.036748794976093686,0.004246153133939033,0.0855023656674024,0.01859181954108191,0.007403568820320579,0.006732220412180243,0.00045011355561162786,0.06900778628584882,0.0005607661273324371,0.0045774295782232376,0.0022134122134761206,0.023788077736654988,0.005682911068040894,0.001024377337519395,0.047075139097775255,0.00020135677862853735,0.010624526950927757,0.0004692022761545271,0.002096214025460141,0.0003159144742191404,0.0009752795511800731,0.00010151049735777322,0.005875272656740812,0.00039117535986257524,0.0002846392720768614,0.004735860380206078,0.02419571481823244,0.001197625202502262,0.0009175197482320827,0.0005831078142115367,0.00012244437198049635,0.0329840707483383,0.01026736363667411,0.0002117934084732869,0.00021577366883856602,0.000663283723857714,0.0007580874834669972,0.000806236874276028,0.014818450896249885,0.0633173080659489,0.0001504195225649287,0.006162082495254292,0.000619454296572596,0.002011847111629502,0.002835153127419375,0.00031438764073850187,0.0006251245280532666,0.0002816518501861437,0.00895781337017471,0.005786099232920114,0.08414090715252187,0.0004088283450841079,0.013823260812517182,0.0038109963168988315,0.0830693848863344,0.0022841254234145974,0.005658234413785363,0.0012061865047460307,0.0024617747456674834,0.005878288045700723,0.00014918715384281596,0.00011089426086731774,0.011299967821315924,0.005449096051744285,0.0033933092761324244,0.00016645579092910916,0.0001724493269534774,0.04658120091282267,0.00964084929027081,0.0018820043509633693,0.0007702278775341799,0.00018181170784173692,0.011527106991088644,0.04778992439188554,0.0006933034799108655,0.0010748360695492485,0.04839967378152268,0.05092690578355639,0.0014133162578764107,0.058314348143833725,0.0012110311242398712,0.0007699765231056264,0.004646817071224545,0.011333398734240574,0.022102278479339203,0.012447241627477129,0.001492769918070715,0.001586132844096962,0.00018205282754179698,0.0014696197548622917,0.014598934063587449,0.004439680965554725,0.006854689081738243,0.00025436225539126825,0.0007927813782085698,0.003601892841192165,0.011409616682839427,0.00010781092587191767,0.0470367757317983,0.00038897314039911354,0.006054737839220543,0.04437361717638977,0.0034899588944318724,0.020064185844112924,0.0011382312336067463,0.013972328341387874,0.00012366965178549965,0.00017317202544345531,0.00581337045879666,0.0260353981607446,0.0008259107689289673,0.07703222709808732,0.01199328722183263,0.006649014651948893,0.000310029656167271,0.002763762380274419,0.03698968812780045,0.027197184137566693,0.05810986406628404,0.010851560597657028,0.05422997765587776,0.07333322074587757,0.0025555606735033305,0.006582121580005201,0.0010927051676516324,0.03322687768584927,0.025930132891042342,0.00012389020732984376,0.0006961685617423786,0.0012775140377510733,0.06422271572191202,0.0001680963717704901,0.07107022631555805,0.053519658930017824,0.0002530060172252974,0.005672467394408057,0.00026992582552380813,0.0006607908476239132,0.020127105675554376,0.06902020122294257,0.00018224573943635027,0.003998800010098462,0.002413487166421692,0.024174861177424328,0.012175639479707517,0.027471418732835953,0.0038329176466121344,0.00011427910928201416,0.0539573422951826,0.046256658105769156,0.018916403538699545,0.0002157855497620367,0.002143055856088833,0.09459542974354171,0.0019829377968815422,0.0003023372647238715,0.0006845231708034517,0.0138862303569297,0.0011738282449133737,0.005504814251547071,0.0002021537276795093,0.00033336259699103714,0.00011639982331807352,0.0015358792663457575,0.014299807438352803,0.0003734230292458705,0.032666995328213724,0.026439008982132244,0.034221071645387104,0.013007306092490052,0.0022187590932700235,0.014782678398251741,0.003994330245572191,0.0007092652583005817,0.00028105309437788124,0.002163780237958914,0.007544773786806134,0.006487484406244157,0.04355618725203328,0.00037978094647808376,0.030086222205881166,0.08798240641081058,0.049980817688916844,0.0002088866670879556,0.0695984252226679,0.01283402454527649,0.010888233016434105,0.029535830941708592,0.005750933039196045,0.002299721064872492,0.018985158226501774,0.0004687093878721705,0.00020912114981467197,0.0005400427091556758,0.002739725698963352,0.00029397048703489294,0.0006198396995778317,0.00014653005364110235,0.024488910641129433,0.00010064053261215155,0.006160185955174893,0.027552249582366455,0.03518297692196433,0.0074670010599786835,0.00010126863592840117,0.003131062944361629,0.0016491185789670529,0.00023712313180351664,0.003925043757475521,0.0004681138999826532,0.028845220881142684,0.001353686110164285,0.0002063455744176437,0.00014650081404315708,0.00011079659284931847,0.014352510090155708,0.09216637416720452,0.08335824994015689,0.0076851288424270815,0.0005201952875249496,0.00025327288456931225,0.07348448298526812,0.0012865808250178197,0.06495454615755482,0.00036805068784442034,0.015335375481404581,0.005035423795740503,0.00022011383016754828,0.00097910685960055,0.000550687146318043,0.002849261388611529,0.001401780034420879,0.0003151817676087578,0.010773871735806583,0.011228749968631727,0.00023557442630076832,0.0007665496627952102,0.00014214963215802802,0.001096673006003556,0.018058877825861283,0.04267871464171422,0.0008100965975564018,0.0013310744396095844,0.00017962559431879152,0.059532493582895446,0.013428015209246582,0.033679900758976596,0.020713075781955092,0.004110101003220065,0.0028359425556330918,0.000505280500467797,0.09241179973045313,0.09776695358284852,0.005007113973187467,0.0013099801145844523,0.00533798607459142,0.00047090241303345595,0.02847064114242575,0.00012742888564249666,0.002907549062256389,0.0006519902736130416,0.0020425188091583685,0.00033252103457523835,0.0014547832389898146,0.01840494198569082,0.012109910374857303,0.014048935180436936,0.002643756215559137,0.0047553241281880175,0.00023159991427079005,0.00022883332242162036,0.08736574109328,0.0024138555467534363,0.0002821164854437767,0.004685515709866448,0.012209952712030242,0.00036981591517529645,0.0156844411868004,0.09895378161407166,0.05897549026726354,0.01448355588000798,0.09533634416869412,0.004510917912603493,0.00025312762571376283,0.00047102017182631305,0.002649201607036131,0.08756276011055404,0.030861783285153332,0.01068290700445576,0.00016809571877456214,0.0017381507178060062,0.010285317339578999,0.005892123647651511,0.002121810084878751,0.004408899736884138,0.0009631922479214283,0.02856869025685923,0.0031281503125997227,0.005233325698237564,0.0054115691826946795,0.002516500593472364,0.00041210159633509806,0.026615751340016765,0.0011453088891026544,0.01628893930413289,0.005767298678766807,0.015609131282655201,0.010873561608970342,0.0004276341546603055,0.02339988462009381,0.0003718979051668318,0.016932569747623305,0.015411312106431586,0.03406135405402152,0.0033780186428128134,0.00012059469458830856,0.0001672829383620067,0.004587300724470796,0.04449759676911518,0.0005064957104214776,0.0042696551884581655,0.00010334292625627197,0.00016925397117830148,0.010938750605783643,0.001426670577979628,0.0030068661907224235,0.000347677976588485,0.0014848446654459665,0.0003072525372050093,0.0006231277358060968,0.0006329174739809065,0.0002242226304242239,0.018156017702006196,0.0001995939536251603,0.01369732403223644,0.005910883688052071,0.0337065929828118,0.0007281974696476868,0.024201348645751228,0.00028406290705434544,0.00012963270682104312,0.007434494461231413,0.008997573080259893,0.00877713382471117,0.02237777674533645,0.0024912183676022996,0.002603218827565963,0.0007634014219663722,0.05599156973116139,0.0153350023855937,0.0008873611848444527,0.018769858527299146,0.005813908075982422,0.030560169500468703,0.00012185644492704244,0.0002523038516605157,0.0005574728955489829,0.00946676317031746,0.007968144772468135,0.00017827336917302888,0.0002404565075756034,0.008834546261723674,0.00032091338303395187,0.0004891063167994713,0.014555670504250967,0.0016151981876348475,0.00040874135174954915,0.004746743968234039,0.0002319207174425803,0.0026155778216653885,0.001303242538808264,0.00953395476612517,0.0001356611865585812,0.07887596311460143,0.008785435084112135,0.07051861678994216,0.0794812333927531,0.00988468632054023,0.0002684670142333644,0.009034817331800823,0.0008442352870236456,0.022202864364441098,0.0021954789673269233,0.022943595589588677,0.04066516825191114,0.010580499352956808,0.005010100677373377,0.016362303167739962,0.05669773741282825,0.015278272796666112,0.007653484380191623,0.0009751942686665328,0.0018333071037900134,0.020187916662004916,0.0012082178075425404,0.0004425049849725795,0.013711143860190626,0.0017039496333442561,0.007593449285756652,0.00024632395106530334,0.0016571261864562566,0.0020226381037064586,0.00018552228192004572,0.0008611851717301644,0.00017705798350706504,0.008740952692990031,0.01594828883330743,0.06386354990268572,0.0009585032606138846,0.0006627255083931607,0.0002666369077553807,0.009635271512772948,0.0032856579789353924,0.0005587505608732056,0.04272754067874568,0.009782110824947987,0.008391579435704843,0.0006424581939705298,0.05817164308877837,0.003048545106706817,0.00039511798123906776,0.004303450843575561,0.0003183844659221061,0.00201404594524798,0.004386233831017343,0.01588186876270556,0.00048469845954684436,0.013568012813291298,0.0004211307828208351,0.04690970308646436,0.006351615243820151,0.058108444796531565,0.06819435616013472,0.053897705206492064,0.00014178585335960733,0.00017495556840103684,0.024678283230795305,0.0017373468324736042,0.030981937360859343,0.001646710887802149,0.07012528883618949,0.0010594844544603227,0.00018370778936180833,0.0008497936968387066,0.0011592315337788448,0.03660145110875716,0.00017660708639045378,0.02080789680762282,0.007652469591689768,0.008986092246804397,0.0317329899181003,0.0038352509062702816,0.010809713394280883,0.00655482771184035,0.0005445985408571006,0.012093991852276356,0.00011415842364152007,0.0002817863347020836,0.000298569820021176,0.00020043268217851543,0.020752339170387834,0.0004832973062255418,0.01135863768295966,0.00023183040850711557,0.0010265296746685283,0.010787530224804005,0.004325387693452804,0.03431752625750915,0.011344116037115305,0.02574156092412648,0.002805839684427527,0.00011234783651496751,0.0007505678536085981,0.00013915127280313458,0.005043063244747297,0.022044296108542007,0.008115115903048885,0.00012147509289875851,0.030883245804758062,0.0002270934216215248,0.00745273404757368,0.0001826692289348442,0.0019970517057084245,0.042948411340518085,0.011309466300935189,0.00031473506282046776,0.0037136351277293864,0.001769321976388122,0.0012332756843329322,0.04374031377615781,0.0004463370163672112,0.0006171913716478153,0.07696381620063716,0.00012563649950048827],\"xaxis\":\"x2\",\"yaxis\":\"y2\",\"type\":\"box\"}],                        {\"template\":{\"data\":{\"histogram2dcontour\":[{\"type\":\"histogram2dcontour\",\"colorbar\":{\"outlinewidth\":0,\"ticks\":\"\"},\"colorscale\":[[0.0,\"#0d0887\"],[0.1111111111111111,\"#46039f\"],[0.2222222222222222,\"#7201a8\"],[0.3333333333333333,\"#9c179e\"],[0.4444444444444444,\"#bd3786\"],[0.5555555555555556,\"#d8576b\"],[0.6666666666666666,\"#ed7953\"],[0.7777777777777778,\"#fb9f3a\"],[0.8888888888888888,\"#fdca26\"],[1.0,\"#f0f921\"]]}],\"choropleth\":[{\"type\":\"choropleth\",\"colorbar\":{\"outlinewidth\":0,\"ticks\":\"\"}}],\"histogram2d\":[{\"type\":\"histogram2d\",\"colorbar\":{\"outlinewidth\":0,\"ticks\":\"\"},\"colorscale\":[[0.0,\"#0d0887\"],[0.1111111111111111,\"#46039f\"],[0.2222222222222222,\"#7201a8\"],[0.3333333333333333,\"#9c179e\"],[0.4444444444444444,\"#bd3786\"],[0.5555555555555556,\"#d8576b\"],[0.6666666666666666,\"#ed7953\"],[0.7777777777777778,\"#fb9f3a\"],[0.8888888888888888,\"#fdca26\"],[1.0,\"#f0f921\"]]}],\"heatmap\":[{\"type\":\"heatmap\",\"colorbar\":{\"outlinewidth\":0,\"ticks\":\"\"},\"colorscale\":[[0.0,\"#0d0887\"],[0.1111111111111111,\"#46039f\"],[0.2222222222222222,\"#7201a8\"],[0.3333333333333333,\"#9c179e\"],[0.4444444444444444,\"#bd3786\"],[0.5555555555555556,\"#d8576b\"],[0.6666666666666666,\"#ed7953\"],[0.7777777777777778,\"#fb9f3a\"],[0.8888888888888888,\"#fdca26\"],[1.0,\"#f0f921\"]]}],\"heatmapgl\":[{\"type\":\"heatmapgl\",\"colorbar\":{\"outlinewidth\":0,\"ticks\":\"\"},\"colorscale\":[[0.0,\"#0d0887\"],[0.1111111111111111,\"#46039f\"],[0.2222222222222222,\"#7201a8\"],[0.3333333333333333,\"#9c179e\"],[0.4444444444444444,\"#bd3786\"],[0.5555555555555556,\"#d8576b\"],[0.6666666666666666,\"#ed7953\"],[0.7777777777777778,\"#fb9f3a\"],[0.8888888888888888,\"#fdca26\"],[1.0,\"#f0f921\"]]}],\"contourcarpet\":[{\"type\":\"contourcarpet\",\"colorbar\":{\"outlinewidth\":0,\"ticks\":\"\"}}],\"contour\":[{\"type\":\"contour\",\"colorbar\":{\"outlinewidth\":0,\"ticks\":\"\"},\"colorscale\":[[0.0,\"#0d0887\"],[0.1111111111111111,\"#46039f\"],[0.2222222222222222,\"#7201a8\"],[0.3333333333333333,\"#9c179e\"],[0.4444444444444444,\"#bd3786\"],[0.5555555555555556,\"#d8576b\"],[0.6666666666666666,\"#ed7953\"],[0.7777777777777778,\"#fb9f3a\"],[0.8888888888888888,\"#fdca26\"],[1.0,\"#f0f921\"]]}],\"surface\":[{\"type\":\"surface\",\"colorbar\":{\"outlinewidth\":0,\"ticks\":\"\"},\"colorscale\":[[0.0,\"#0d0887\"],[0.1111111111111111,\"#46039f\"],[0.2222222222222222,\"#7201a8\"],[0.3333333333333333,\"#9c179e\"],[0.4444444444444444,\"#bd3786\"],[0.5555555555555556,\"#d8576b\"],[0.6666666666666666,\"#ed7953\"],[0.7777777777777778,\"#fb9f3a\"],[0.8888888888888888,\"#fdca26\"],[1.0,\"#f0f921\"]]}],\"mesh3d\":[{\"type\":\"mesh3d\",\"colorbar\":{\"outlinewidth\":0,\"ticks\":\"\"}}],\"scatter\":[{\"fillpattern\":{\"fillmode\":\"overlay\",\"size\":10,\"solidity\":0.2},\"type\":\"scatter\"}],\"parcoords\":[{\"type\":\"parcoords\",\"line\":{\"colorbar\":{\"outlinewidth\":0,\"ticks\":\"\"}}}],\"scatterpolargl\":[{\"type\":\"scatterpolargl\",\"marker\":{\"colorbar\":{\"outlinewidth\":0,\"ticks\":\"\"}}}],\"bar\":[{\"error_x\":{\"color\":\"#2a3f5f\"},\"error_y\":{\"color\":\"#2a3f5f\"},\"marker\":{\"line\":{\"color\":\"white\",\"width\":0.5},\"pattern\":{\"fillmode\":\"overlay\",\"size\":10,\"solidity\":0.2}},\"type\":\"bar\"}],\"scattergeo\":[{\"type\":\"scattergeo\",\"marker\":{\"colorbar\":{\"outlinewidth\":0,\"ticks\":\"\"}}}],\"scatterpolar\":[{\"type\":\"scatterpolar\",\"marker\":{\"colorbar\":{\"outlinewidth\":0,\"ticks\":\"\"}}}],\"histogram\":[{\"marker\":{\"pattern\":{\"fillmode\":\"overlay\",\"size\":10,\"solidity\":0.2}},\"type\":\"histogram\"}],\"scattergl\":[{\"type\":\"scattergl\",\"marker\":{\"colorbar\":{\"outlinewidth\":0,\"ticks\":\"\"}}}],\"scatter3d\":[{\"type\":\"scatter3d\",\"line\":{\"colorbar\":{\"outlinewidth\":0,\"ticks\":\"\"}},\"marker\":{\"colorbar\":{\"outlinewidth\":0,\"ticks\":\"\"}}}],\"scattermapbox\":[{\"type\":\"scattermapbox\",\"marker\":{\"colorbar\":{\"outlinewidth\":0,\"ticks\":\"\"}}}],\"scatterternary\":[{\"type\":\"scatterternary\",\"marker\":{\"colorbar\":{\"outlinewidth\":0,\"ticks\":\"\"}}}],\"scattercarpet\":[{\"type\":\"scattercarpet\",\"marker\":{\"colorbar\":{\"outlinewidth\":0,\"ticks\":\"\"}}}],\"carpet\":[{\"aaxis\":{\"endlinecolor\":\"#2a3f5f\",\"gridcolor\":\"#C8D4E3\",\"linecolor\":\"#C8D4E3\",\"minorgridcolor\":\"#C8D4E3\",\"startlinecolor\":\"#2a3f5f\"},\"baxis\":{\"endlinecolor\":\"#2a3f5f\",\"gridcolor\":\"#C8D4E3\",\"linecolor\":\"#C8D4E3\",\"minorgridcolor\":\"#C8D4E3\",\"startlinecolor\":\"#2a3f5f\"},\"type\":\"carpet\"}],\"table\":[{\"cells\":{\"fill\":{\"color\":\"#EBF0F8\"},\"line\":{\"color\":\"white\"}},\"header\":{\"fill\":{\"color\":\"#C8D4E3\"},\"line\":{\"color\":\"white\"}},\"type\":\"table\"}],\"barpolar\":[{\"marker\":{\"line\":{\"color\":\"white\",\"width\":0.5},\"pattern\":{\"fillmode\":\"overlay\",\"size\":10,\"solidity\":0.2}},\"type\":\"barpolar\"}],\"pie\":[{\"automargin\":true,\"type\":\"pie\"}]},\"layout\":{\"autotypenumbers\":\"strict\",\"colorway\":[\"#636efa\",\"#EF553B\",\"#00cc96\",\"#ab63fa\",\"#FFA15A\",\"#19d3f3\",\"#FF6692\",\"#B6E880\",\"#FF97FF\",\"#FECB52\"],\"font\":{\"color\":\"#2a3f5f\"},\"hovermode\":\"closest\",\"hoverlabel\":{\"align\":\"left\"},\"paper_bgcolor\":\"white\",\"plot_bgcolor\":\"white\",\"polar\":{\"bgcolor\":\"white\",\"angularaxis\":{\"gridcolor\":\"#EBF0F8\",\"linecolor\":\"#EBF0F8\",\"ticks\":\"\"},\"radialaxis\":{\"gridcolor\":\"#EBF0F8\",\"linecolor\":\"#EBF0F8\",\"ticks\":\"\"}},\"ternary\":{\"bgcolor\":\"white\",\"aaxis\":{\"gridcolor\":\"#DFE8F3\",\"linecolor\":\"#A2B1C6\",\"ticks\":\"\"},\"baxis\":{\"gridcolor\":\"#DFE8F3\",\"linecolor\":\"#A2B1C6\",\"ticks\":\"\"},\"caxis\":{\"gridcolor\":\"#DFE8F3\",\"linecolor\":\"#A2B1C6\",\"ticks\":\"\"}},\"coloraxis\":{\"colorbar\":{\"outlinewidth\":0,\"ticks\":\"\"}},\"colorscale\":{\"sequential\":[[0.0,\"#0d0887\"],[0.1111111111111111,\"#46039f\"],[0.2222222222222222,\"#7201a8\"],[0.3333333333333333,\"#9c179e\"],[0.4444444444444444,\"#bd3786\"],[0.5555555555555556,\"#d8576b\"],[0.6666666666666666,\"#ed7953\"],[0.7777777777777778,\"#fb9f3a\"],[0.8888888888888888,\"#fdca26\"],[1.0,\"#f0f921\"]],\"sequentialminus\":[[0.0,\"#0d0887\"],[0.1111111111111111,\"#46039f\"],[0.2222222222222222,\"#7201a8\"],[0.3333333333333333,\"#9c179e\"],[0.4444444444444444,\"#bd3786\"],[0.5555555555555556,\"#d8576b\"],[0.6666666666666666,\"#ed7953\"],[0.7777777777777778,\"#fb9f3a\"],[0.8888888888888888,\"#fdca26\"],[1.0,\"#f0f921\"]],\"diverging\":[[0,\"#8e0152\"],[0.1,\"#c51b7d\"],[0.2,\"#de77ae\"],[0.3,\"#f1b6da\"],[0.4,\"#fde0ef\"],[0.5,\"#f7f7f7\"],[0.6,\"#e6f5d0\"],[0.7,\"#b8e186\"],[0.8,\"#7fbc41\"],[0.9,\"#4d9221\"],[1,\"#276419\"]]},\"xaxis\":{\"gridcolor\":\"#EBF0F8\",\"linecolor\":\"#EBF0F8\",\"ticks\":\"\",\"title\":{\"standoff\":15},\"zerolinecolor\":\"#EBF0F8\",\"automargin\":true,\"zerolinewidth\":2},\"yaxis\":{\"gridcolor\":\"#EBF0F8\",\"linecolor\":\"#EBF0F8\",\"ticks\":\"\",\"title\":{\"standoff\":15},\"zerolinecolor\":\"#EBF0F8\",\"automargin\":true,\"zerolinewidth\":2},\"scene\":{\"xaxis\":{\"backgroundcolor\":\"white\",\"gridcolor\":\"#DFE8F3\",\"linecolor\":\"#EBF0F8\",\"showbackground\":true,\"ticks\":\"\",\"zerolinecolor\":\"#EBF0F8\",\"gridwidth\":2},\"yaxis\":{\"backgroundcolor\":\"white\",\"gridcolor\":\"#DFE8F3\",\"linecolor\":\"#EBF0F8\",\"showbackground\":true,\"ticks\":\"\",\"zerolinecolor\":\"#EBF0F8\",\"gridwidth\":2},\"zaxis\":{\"backgroundcolor\":\"white\",\"gridcolor\":\"#DFE8F3\",\"linecolor\":\"#EBF0F8\",\"showbackground\":true,\"ticks\":\"\",\"zerolinecolor\":\"#EBF0F8\",\"gridwidth\":2}},\"shapedefaults\":{\"line\":{\"color\":\"#2a3f5f\"}},\"annotationdefaults\":{\"arrowcolor\":\"#2a3f5f\",\"arrowhead\":0,\"arrowwidth\":1},\"geo\":{\"bgcolor\":\"white\",\"landcolor\":\"white\",\"subunitcolor\":\"#C8D4E3\",\"showland\":true,\"showlakes\":true,\"lakecolor\":\"white\"},\"title\":{\"x\":0.05},\"mapbox\":{\"style\":\"light\"}}},\"xaxis\":{\"anchor\":\"y\",\"domain\":[0.0,1.0],\"title\":{\"text\":\"Random Values\"}},\"yaxis\":{\"anchor\":\"x\",\"domain\":[0.0,0.7326],\"title\":{\"text\":\"Frequency\"}},\"xaxis2\":{\"anchor\":\"y2\",\"domain\":[0.0,1.0],\"matches\":\"x\",\"showticklabels\":false,\"showgrid\":true},\"yaxis2\":{\"anchor\":\"x2\",\"domain\":[0.7426,1.0],\"matches\":\"y2\",\"showticklabels\":false,\"showline\":false,\"ticks\":\"\",\"showgrid\":false},\"legend\":{\"title\":{\"text\":\"Distribution\"},\"tracegroupgap\":0},\"margin\":{\"t\":60},\"barmode\":\"relative\",\"title\":{\"text\":\"Uniform vs. Loguniform Distribution\"},\"width\":900,\"height\":400},                        {\"responsive\": true}                    ).then(function(){\n",
       "                            \n",
       "var gd = document.getElementById('7d296024-cb44-4c47-86cb-3dac12c70d99');\n",
       "var x = new MutationObserver(function (mutations, observer) {{\n",
       "        var display = window.getComputedStyle(gd).display;\n",
       "        if (!display || display === 'none') {{\n",
       "            console.log([gd, 'removed!']);\n",
       "            Plotly.purge(gd);\n",
       "            observer.disconnect();\n",
       "        }}\n",
       "}});\n",
       "\n",
       "// Listen for the removal of the full notebook cells\n",
       "var notebookContainer = gd.closest('#notebook-container');\n",
       "if (notebookContainer) {{\n",
       "    x.observe(notebookContainer, {childList: true});\n",
       "}}\n",
       "\n",
       "// Listen for the clearing of the current output cell\n",
       "var outputEl = gd.closest('.output');\n",
       "if (outputEl) {{\n",
       "    x.observe(outputEl, {childList: true});\n",
       "}}\n",
       "\n",
       "                        })                };                });            </script>        </div>"
      ]
     },
     "metadata": {},
     "output_type": "display_data"
    }
   ],
   "source": [
    "# Generate random samples from a uniform distribution\n",
    "num_samples = 1000\n",
    "uniform_samples = np.random.uniform(1e-4, 1e-1, num_samples)\n",
    "\n",
    "# Generate random samples from a loguniform distribution\n",
    "loguniform_samples = np.exp(np.random.uniform(np.log(1e-4), np.log(1e-1), num_samples))\n",
    "\n",
    "# Create a combined dataset for plotting\n",
    "data = {\n",
    "    \"Random Samples\": np.concatenate([uniform_samples, loguniform_samples]),\n",
    "    \"Distribution\": np.concatenate([[\"Uniform\"] * num_samples, [\"Loguniform\"] * num_samples])\n",
    "}\n",
    "\n",
    "# Create a histogram using Plotly Express\n",
    "fig = px.histogram(\n",
    "    data_frame=data,\n",
    "    x=\"Random Samples\",\n",
    "    color=\"Distribution\",\n",
    "    nbins=50,\n",
    "    opacity=0.8,\n",
    "    marginal=\"rug\",\n",
    "    color_discrete_sequence=[colors[1], colors[3]]\n",
    ")\n",
    "\n",
    "# Customize the layout\n",
    "fig.update_layout(\n",
    "    title=\"Uniform vs. Loguniform Distribution\",\n",
    "    xaxis_title=\"Random Values\",\n",
    "    yaxis_title=\"Frequency\",\n",
    "    width=900,\n",
    "    height=400\n",
    ")\n",
    "fig.update_traces(marker_line_width=1,marker_line_color=\"black\")\n",
    "# Show the plot\n",
    "fig.show()"
   ]
  },
  {
   "cell_type": "markdown",
   "metadata": {
    "slideshow": {
     "slide_type": "subslide"
    }
   },
   "source": [
    "<div style=\"display: flex; justify-content: space-between; align-items: center; width: 100%;\">\n",
    "    <span style=\"color: #ff6900; font-weight: bold; font-size: 25px;\">Learning Rate vs. Batch Size</span>\n",
    "    <span style=\"text-align: right; font-size: 12px;\">Lena Hammerer | Luisa Ibele | Hanna Steinwender</span>\n",
    "</div>\n",
    "\n",
    "- larger _Batch Sizes_ work better with a higher _Learning Rate_\n",
    "- very high _Learning Rates_ are not beneficial"
   ]
  },
  {
   "cell_type": "code",
   "execution_count": 20,
   "metadata": {
    "slideshow": {
     "slide_type": "fragment"
    }
   },
   "outputs": [
    {
     "ename": "NameError",
     "evalue": "name 'spotTuner_e8' is not defined",
     "output_type": "error",
     "traceback": [
      "\u001b[1;31m---------------------------------------------------------------------------\u001b[0m",
      "\u001b[1;31mNameError\u001b[0m                                 Traceback (most recent call last)",
      "Cell \u001b[1;32mIn[20], line 29\u001b[0m\n\u001b[0;32m     26\u001b[0m     \u001b[39mreturn\u001b[39;00m [x[\u001b[39m0\u001b[39m] \u001b[39mfor\u001b[39;00m x \u001b[39min\u001b[39;00m \u001b[39mmap\u001b[39m \u001b[39mif\u001b[39;00m x[\u001b[39m1\u001b[39m] \u001b[39m==\u001b[39m name][\u001b[39m0\u001b[39m]\n\u001b[0;32m     28\u001b[0m \u001b[39m# lower and upper\u001b[39;00m\n\u001b[1;32m---> 29\u001b[0m i \u001b[39m=\u001b[39m getHPIndex(\u001b[39m'\u001b[39;49m\u001b[39mlr_mult\u001b[39;49m\u001b[39m'\u001b[39;49m)\n\u001b[0;32m     30\u001b[0m j \u001b[39m=\u001b[39m getHPIndex(\u001b[39m'\u001b[39m\u001b[39mbatch_size\u001b[39m\u001b[39m'\u001b[39m)\n\u001b[0;32m     31\u001b[0m x \u001b[39m=\u001b[39m np\u001b[39m.\u001b[39mlinspace(spotTuner_e8\u001b[39m.\u001b[39mlower[i], spotTuner_e8\u001b[39m.\u001b[39mupper[i], num\u001b[39m=\u001b[39m\u001b[39m50\u001b[39m)\n",
      "Cell \u001b[1;32mIn[20], line 25\u001b[0m, in \u001b[0;36mgetHPIndex\u001b[1;34m(name)\u001b[0m\n\u001b[0;32m     24\u001b[0m \u001b[39mdef\u001b[39;00m \u001b[39mgetHPIndex\u001b[39m(name):\n\u001b[1;32m---> 25\u001b[0m     \u001b[39mmap\u001b[39m \u001b[39m=\u001b[39m [(i, x[\u001b[39m0\u001b[39m]) \u001b[39mfor\u001b[39;00m i, x \u001b[39min\u001b[39;00m \u001b[39menumerate\u001b[39m(spotTuner_e8\u001b[39m.\u001b[39mprint_importance(print_screen\u001b[39m=\u001b[39m\u001b[39mFalse\u001b[39;00m))]\n\u001b[0;32m     26\u001b[0m     \u001b[39mreturn\u001b[39;00m [x[\u001b[39m0\u001b[39m] \u001b[39mfor\u001b[39;00m x \u001b[39min\u001b[39;00m \u001b[39mmap\u001b[39m \u001b[39mif\u001b[39;00m x[\u001b[39m1\u001b[39m] \u001b[39m==\u001b[39m name][\u001b[39m0\u001b[39m]\n",
      "\u001b[1;31mNameError\u001b[0m: name 'spotTuner_e8' is not defined"
     ]
    }
   ],
   "source": [
    "min = np.array(df_flat_e5['config.learning_rate']).min()\n",
    "max = np.array(df_flat_e5['config.learning_rate']).max()\n",
    "\n",
    "fig = make_subplots(rows=1, cols=3, subplot_titles=[\"Random Search\", \"Random Search\", \"SMBO\"], horizontal_spacing=0.085)\n",
    "\n",
    "plot = go.Scatter(\n",
    "    x=df_flat_e5['config.learning_rate'], \n",
    "    y=df_flat_e5['config.batch_size'], \n",
    "    marker_color=df_flat_e5['mean_val_loss'], \n",
    "    mode='markers')\n",
    "fig.add_trace(plot, row=1, col=1)\n",
    "\n",
    "z = pd.pivot_table(df_flat_e5, values=['mean_val_loss'], index=['config.batch_size'], columns=['config.learning_rate'], fill_value=None, dropna=False).to_numpy()\n",
    "plot = go.Heatmap(\n",
    "    z=z,\n",
    "    x=sorted(df_flat_e5['config.learning_rate'].unique()),\n",
    "    y=sorted(df_flat_e5['config.batch_size'].unique()),\n",
    "    #zsmooth='best',\n",
    "    connectgaps=True,\n",
    "    coloraxis='coloraxis'\n",
    ")\n",
    "fig.add_trace(plot, row=1, col=2)\n",
    "\n",
    "def getHPIndex(name):\n",
    "    map = [(i, x[0]) for i, x in enumerate(spotTuner_e8.print_importance(print_screen=False))]\n",
    "    return [x[0] for x in map if x[1] == name][0]\n",
    "\n",
    "# lower and upper\n",
    "i = getHPIndex('lr_mult')\n",
    "j = getHPIndex('batch_size')\n",
    "x = np.linspace(spotTuner_e8.lower[i], spotTuner_e8.upper[i], num=50)\n",
    "y = np.linspace(spotTuner_e8.lower[j], spotTuner_e8.upper[j], num=50)\n",
    "X, Y = meshgrid(x, y)\n",
    "# Predict based on the optimized results\n",
    "z0 = np.mean(np.array([spotTuner_e8.lower, spotTuner_e8.upper]), axis=0)\n",
    "zz = array([spotTuner_e8.surrogate.predict(array([spotTuner_e8.chg(x, y, z0, i, j)])) for x, y in zip(ravel(X), ravel(Y))])\n",
    "zs = zz[:, 0]\n",
    "Z = zs.reshape(X.shape)\n",
    "min_z = np.min(Z)\n",
    "max_z = np.max(Z)\n",
    "plot = go.Heatmap(\n",
    "    z=Z,\n",
    "    x=[val*1e-3 for val in x],\n",
    "    y=[2**val for val in y],\n",
    "    #zsmooth='best',\n",
    "    coloraxis='coloraxis2'\n",
    ")\n",
    "fig.add_trace(plot, row=1, col=3)\n",
    "\n",
    "fig.update_xaxes(\n",
    "    title = 'Learning Rate',\n",
    "    tickmode = 'array',\n",
    "    tickvals = [round(min, 4), round(max, 4)],\n",
    "    ticktext = [round(min, 4), round(max, 4)],\n",
    "    row=1, col=1\n",
    ")\n",
    "fig.update_yaxes(\n",
    "    title = 'Batch Size',\n",
    "    tickmode = 'array',\n",
    "    tickvals = df_flat_e5['config.batch_size'].unique(),\n",
    "    row=1, col=1\n",
    ")\n",
    "fig.update_xaxes(\n",
    "    tickmode = 'array',\n",
    "    tickvals = [round(min, 5), round(max, 4)],\n",
    "    ticktext = [round(min, 5), round(max, 4)],\n",
    "    row=1, col=2\n",
    ")\n",
    "fig.update_yaxes(\n",
    "    tickmode = 'array',\n",
    "    tickvals = df_flat_e5['config.batch_size'].unique(),\n",
    "    row=1, col=2\n",
    ")\n",
    "\n",
    "fig.update_xaxes(\n",
    "    tickmode = 'array',\n",
    "    tickvals = [1e-4, 1e-1],\n",
    "    ticktext = [1e-4, 1e-1],\n",
    "    row=1, col=3\n",
    ")\n",
    "fig.update_yaxes(\n",
    "    tickmode = 'array',\n",
    "    tickvals = df_flat_e5['config.batch_size'].unique(),\n",
    "    row=1, col=3\n",
    ")\n",
    "\n",
    "fig.update_layout(coloraxis=dict(colorbar_x=0.64, colorbar_thickness=15),\n",
    "                  coloraxis2=dict(colorbar_x=1, colorbar_thickness=15))\n",
    "\n",
    "fig.update_layout(title='Mean Validation Loss: Learning Rate vs. Batch Size', showlegend=False, width=900, height=400)\n",
    "fig.show()"
   ]
  },
  {
   "cell_type": "markdown",
   "metadata": {
    "slideshow": {
     "slide_type": "subslide"
    }
   },
   "source": [
    "<div style=\"display: flex; justify-content: space-between; align-items: center; width: 100%;\">\n",
    "    <span style=\"color: #ff6900; font-weight: bold; font-size: 25px;\">Tested Configurations Overview</span>\n",
    "    <span style=\"text-align: right; font-size: 12px;\">Lena Hammerer | Luisa Ibele | Hanna Steinwender</span>\n",
    "</div>\n",
    "\n",
    "- **Random Search** provides a big picture perspective across the whole search space."
   ]
  },
  {
   "cell_type": "code",
   "execution_count": 21,
   "metadata": {
    "slideshow": {
     "slide_type": "fragment"
    }
   },
   "outputs": [
    {
     "data": {
      "application/vnd.plotly.v1+json": {
       "config": {
        "plotlyServerURL": "https://plot.ly"
       },
       "data": [
        {
         "dimensions": [
          {
           "label": "config.l1",
           "values": [
            64,
            128,
            32,
            128,
            64,
            32,
            32,
            32,
            64,
            64,
            128,
            64,
            256,
            32,
            64,
            32,
            256,
            64,
            32,
            32,
            128,
            32,
            64,
            256,
            256,
            128,
            256,
            256,
            64,
            32,
            128,
            64,
            128,
            32,
            128,
            256,
            128,
            64,
            64,
            64,
            32,
            256,
            256,
            256,
            128,
            64,
            32,
            64,
            64,
            256,
            32,
            128,
            32,
            256,
            256,
            256,
            128,
            256,
            256,
            64,
            256,
            32,
            32,
            256,
            128,
            64,
            256,
            64,
            64,
            256,
            128,
            128,
            64,
            256,
            256,
            256,
            128,
            128,
            64,
            64,
            128,
            128,
            64,
            64,
            256,
            32,
            256
           ]
          },
          {
           "label": "config.batch_size",
           "values": [
            64,
            32,
            128,
            128,
            16,
            64,
            32,
            16,
            16,
            128,
            32,
            32,
            32,
            128,
            32,
            16,
            64,
            32,
            32,
            32,
            16,
            32,
            128,
            64,
            64,
            32,
            128,
            32,
            64,
            16,
            128,
            32,
            32,
            32,
            16,
            64,
            16,
            32,
            32,
            16,
            64,
            128,
            32,
            32,
            32,
            32,
            32,
            128,
            128,
            64,
            16,
            64,
            128,
            64,
            32,
            128,
            32,
            128,
            16,
            128,
            64,
            32,
            32,
            128,
            128,
            128,
            16,
            16,
            128,
            32,
            128,
            16,
            32,
            16,
            64,
            16,
            64,
            16,
            128,
            32,
            64,
            64,
            128,
            128,
            32,
            32,
            32
           ]
          },
          {
           "label": "config.learning_rate",
           "values": [
            0.0693721542,
            0.0060592408,
            0.0476207494,
            0.0602280922,
            0.0109519651,
            0.0043286393,
            0.0211994306,
            0.0797444083,
            0.0370673125,
            0.0542822667,
            0.0361301079,
            0.06210721,
            0.0513087884,
            0.0334911728,
            0.022804938,
            0.0705006436,
            0.0499054511,
            0.0328186399,
            0.0112990664,
            0.0612282409,
            0.0480825946,
            0.0135664708,
            0.0800841512,
            0.0426210618,
            0.0597920465,
            0.0566414358,
            0.0698817719,
            0.0086139206,
            0.0315056973,
            0.0123809432,
            0.0820514343,
            0.0264883721,
            0.0942731742,
            0.0782145634,
            0.069657905,
            0.0100238121,
            0.0096174231,
            0.0230641179,
            0.0443671141,
            0.083396573,
            0.0729814763,
            0.0121403233,
            0.0908279987,
            0.0662746163,
            0.0246313747,
            0.0862023136,
            0.0217689672,
            0.0345343548,
            0.0336503019,
            0.0518148807,
            0.0239938806,
            0.0646933251,
            0.0170949813,
            0.0281668134,
            0.0101410277,
            0.0945795805,
            0.0887451669,
            0.0208320886,
            0.0068516947,
            0.0308245818,
            0.0578930373,
            0.0938488849,
            0.0097008906,
            0.0513798357,
            0.0723234548,
            0.0680512252,
            0.0711051137,
            0.0209127911,
            0.0485967697,
            0.0663755957,
            0.0351130071,
            0.0310472183,
            0.0983246304,
            0.0959513987,
            0.0111513549,
            0.0707817057,
            0.0657083466,
            0.0540345965,
            0.0575658938,
            0.0096741148,
            0.0736719613,
            0.0015714021,
            0.0167426123,
            0.0167576071,
            0.0837469056,
            0.0090421207,
            0.0796910137
           ]
          },
          {
           "label": "config.epochs",
           "values": [
            15,
            20,
            5,
            10,
            20,
            15,
            20,
            20,
            20,
            15,
            20,
            10,
            15,
            10,
            5,
            10,
            20,
            5,
            20,
            15,
            10,
            10,
            10,
            15,
            15,
            10,
            10,
            20,
            15,
            20,
            10,
            20,
            20,
            20,
            20,
            10,
            15,
            15,
            20,
            15,
            20,
            10,
            20,
            10,
            5,
            20,
            15,
            5,
            10,
            15,
            15,
            5,
            10,
            20,
            5,
            15,
            5,
            20,
            15,
            5,
            5,
            15,
            15,
            10,
            15,
            15,
            20,
            5,
            10,
            20,
            10,
            20,
            5,
            15,
            5,
            15,
            5,
            10,
            20,
            20,
            20,
            20,
            20,
            20,
            10,
            20,
            20
           ]
          }
         ],
         "domain": {
          "x": [
           0,
           1
          ],
          "y": [
           0,
           1
          ]
         },
         "line": {
          "color": [
           0.2403744779,
           0.2607122025,
           0.3245915553,
           0.2654715226,
           0.2421068221,
           0.3923928683,
           0.2465574028,
           0.4740976276,
           0.3917784642,
           0.2641277618,
           0.3060270447,
           0.265395887,
           0.2544579878,
           0.3103154769,
           0.2786972329,
           0.2713678539,
           0.226527695,
           0.2745608744,
           0.2419646544,
           0.267498869,
           0.25823417,
           0.2686685099,
           0.2709628226,
           0.2372384451,
           0.2358037447,
           0.2455275163,
           0.2492551225,
           0.2425356355,
           0.2696644673,
           0.227512134,
           0.309731907,
           0.2336389252,
           0.3958461923,
           0.3586679301,
           0.4677130834,
           0.3128421003,
           0.2485843985,
           0.2578522872,
           0.2455811508,
           0.37492458,
           0.2555521592,
           0.3451706041,
           0.4890880503,
           0.2307003641,
           0.2729083297,
           0.394354029,
           0.2442986843,
           0.3507471937,
           0.3053924395,
           0.2410493982,
           0.2488839829,
           0.2781051293,
           0.3491774778,
           0.2246138516,
           0.3285512181,
           0.2397478843,
           0.2287137,
           0.2724394064,
           0.2338046337,
           0.3736548048,
           0.2607533613,
           0.3134006482,
           0.2497125177,
           0.2591184011,
           0.2839751816,
           0.2521625465,
           0.4885663756,
           0.2675006828,
           0.2790501032,
           0.4110255312,
           0.2948504561,
           0.3817148453,
           0.2515178651,
           0.5067463026,
           0.3923281174,
           0.4554125676,
           0.2577539437,
           0.2691995306,
           0.2416789834,
           0.2451195181,
           0.2665122904,
           0.3991427207,
           0.2856846309,
           0.2819558355,
           0.2420077132,
           0.3055115026,
           0.2348843061
          ],
          "coloraxis": "coloraxis"
         },
         "name": "",
         "type": "parcoords"
        }
       ],
       "layout": {
        "coloraxis": {
         "colorbar": {
          "title": {
           "text": "mean_val_loss"
          }
         },
         "colorscale": [
          [
           0,
           "#0d0887"
          ],
          [
           0.1111111111111111,
           "#46039f"
          ],
          [
           0.2222222222222222,
           "#7201a8"
          ],
          [
           0.3333333333333333,
           "#9c179e"
          ],
          [
           0.4444444444444444,
           "#bd3786"
          ],
          [
           0.5555555555555556,
           "#d8576b"
          ],
          [
           0.6666666666666666,
           "#ed7953"
          ],
          [
           0.7777777777777778,
           "#fb9f3a"
          ],
          [
           0.8888888888888888,
           "#fdca26"
          ],
          [
           1,
           "#f0f921"
          ]
         ]
        },
        "legend": {
         "tracegroupgap": 0
        },
        "template": {
         "data": {
          "bar": [
           {
            "error_x": {
             "color": "#2a3f5f"
            },
            "error_y": {
             "color": "#2a3f5f"
            },
            "marker": {
             "line": {
              "color": "white",
              "width": 0.5
             },
             "pattern": {
              "fillmode": "overlay",
              "size": 10,
              "solidity": 0.2
             }
            },
            "type": "bar"
           }
          ],
          "barpolar": [
           {
            "marker": {
             "line": {
              "color": "white",
              "width": 0.5
             },
             "pattern": {
              "fillmode": "overlay",
              "size": 10,
              "solidity": 0.2
             }
            },
            "type": "barpolar"
           }
          ],
          "carpet": [
           {
            "aaxis": {
             "endlinecolor": "#2a3f5f",
             "gridcolor": "#C8D4E3",
             "linecolor": "#C8D4E3",
             "minorgridcolor": "#C8D4E3",
             "startlinecolor": "#2a3f5f"
            },
            "baxis": {
             "endlinecolor": "#2a3f5f",
             "gridcolor": "#C8D4E3",
             "linecolor": "#C8D4E3",
             "minorgridcolor": "#C8D4E3",
             "startlinecolor": "#2a3f5f"
            },
            "type": "carpet"
           }
          ],
          "choropleth": [
           {
            "colorbar": {
             "outlinewidth": 0,
             "ticks": ""
            },
            "type": "choropleth"
           }
          ],
          "contour": [
           {
            "colorbar": {
             "outlinewidth": 0,
             "ticks": ""
            },
            "colorscale": [
             [
              0,
              "#0d0887"
             ],
             [
              0.1111111111111111,
              "#46039f"
             ],
             [
              0.2222222222222222,
              "#7201a8"
             ],
             [
              0.3333333333333333,
              "#9c179e"
             ],
             [
              0.4444444444444444,
              "#bd3786"
             ],
             [
              0.5555555555555556,
              "#d8576b"
             ],
             [
              0.6666666666666666,
              "#ed7953"
             ],
             [
              0.7777777777777778,
              "#fb9f3a"
             ],
             [
              0.8888888888888888,
              "#fdca26"
             ],
             [
              1,
              "#f0f921"
             ]
            ],
            "type": "contour"
           }
          ],
          "contourcarpet": [
           {
            "colorbar": {
             "outlinewidth": 0,
             "ticks": ""
            },
            "type": "contourcarpet"
           }
          ],
          "heatmap": [
           {
            "colorbar": {
             "outlinewidth": 0,
             "ticks": ""
            },
            "colorscale": [
             [
              0,
              "#0d0887"
             ],
             [
              0.1111111111111111,
              "#46039f"
             ],
             [
              0.2222222222222222,
              "#7201a8"
             ],
             [
              0.3333333333333333,
              "#9c179e"
             ],
             [
              0.4444444444444444,
              "#bd3786"
             ],
             [
              0.5555555555555556,
              "#d8576b"
             ],
             [
              0.6666666666666666,
              "#ed7953"
             ],
             [
              0.7777777777777778,
              "#fb9f3a"
             ],
             [
              0.8888888888888888,
              "#fdca26"
             ],
             [
              1,
              "#f0f921"
             ]
            ],
            "type": "heatmap"
           }
          ],
          "heatmapgl": [
           {
            "colorbar": {
             "outlinewidth": 0,
             "ticks": ""
            },
            "colorscale": [
             [
              0,
              "#0d0887"
             ],
             [
              0.1111111111111111,
              "#46039f"
             ],
             [
              0.2222222222222222,
              "#7201a8"
             ],
             [
              0.3333333333333333,
              "#9c179e"
             ],
             [
              0.4444444444444444,
              "#bd3786"
             ],
             [
              0.5555555555555556,
              "#d8576b"
             ],
             [
              0.6666666666666666,
              "#ed7953"
             ],
             [
              0.7777777777777778,
              "#fb9f3a"
             ],
             [
              0.8888888888888888,
              "#fdca26"
             ],
             [
              1,
              "#f0f921"
             ]
            ],
            "type": "heatmapgl"
           }
          ],
          "histogram": [
           {
            "marker": {
             "pattern": {
              "fillmode": "overlay",
              "size": 10,
              "solidity": 0.2
             }
            },
            "type": "histogram"
           }
          ],
          "histogram2d": [
           {
            "colorbar": {
             "outlinewidth": 0,
             "ticks": ""
            },
            "colorscale": [
             [
              0,
              "#0d0887"
             ],
             [
              0.1111111111111111,
              "#46039f"
             ],
             [
              0.2222222222222222,
              "#7201a8"
             ],
             [
              0.3333333333333333,
              "#9c179e"
             ],
             [
              0.4444444444444444,
              "#bd3786"
             ],
             [
              0.5555555555555556,
              "#d8576b"
             ],
             [
              0.6666666666666666,
              "#ed7953"
             ],
             [
              0.7777777777777778,
              "#fb9f3a"
             ],
             [
              0.8888888888888888,
              "#fdca26"
             ],
             [
              1,
              "#f0f921"
             ]
            ],
            "type": "histogram2d"
           }
          ],
          "histogram2dcontour": [
           {
            "colorbar": {
             "outlinewidth": 0,
             "ticks": ""
            },
            "colorscale": [
             [
              0,
              "#0d0887"
             ],
             [
              0.1111111111111111,
              "#46039f"
             ],
             [
              0.2222222222222222,
              "#7201a8"
             ],
             [
              0.3333333333333333,
              "#9c179e"
             ],
             [
              0.4444444444444444,
              "#bd3786"
             ],
             [
              0.5555555555555556,
              "#d8576b"
             ],
             [
              0.6666666666666666,
              "#ed7953"
             ],
             [
              0.7777777777777778,
              "#fb9f3a"
             ],
             [
              0.8888888888888888,
              "#fdca26"
             ],
             [
              1,
              "#f0f921"
             ]
            ],
            "type": "histogram2dcontour"
           }
          ],
          "mesh3d": [
           {
            "colorbar": {
             "outlinewidth": 0,
             "ticks": ""
            },
            "type": "mesh3d"
           }
          ],
          "parcoords": [
           {
            "line": {
             "colorbar": {
              "outlinewidth": 0,
              "ticks": ""
             }
            },
            "type": "parcoords"
           }
          ],
          "pie": [
           {
            "automargin": true,
            "type": "pie"
           }
          ],
          "scatter": [
           {
            "fillpattern": {
             "fillmode": "overlay",
             "size": 10,
             "solidity": 0.2
            },
            "type": "scatter"
           }
          ],
          "scatter3d": [
           {
            "line": {
             "colorbar": {
              "outlinewidth": 0,
              "ticks": ""
             }
            },
            "marker": {
             "colorbar": {
              "outlinewidth": 0,
              "ticks": ""
             }
            },
            "type": "scatter3d"
           }
          ],
          "scattercarpet": [
           {
            "marker": {
             "colorbar": {
              "outlinewidth": 0,
              "ticks": ""
             }
            },
            "type": "scattercarpet"
           }
          ],
          "scattergeo": [
           {
            "marker": {
             "colorbar": {
              "outlinewidth": 0,
              "ticks": ""
             }
            },
            "type": "scattergeo"
           }
          ],
          "scattergl": [
           {
            "marker": {
             "colorbar": {
              "outlinewidth": 0,
              "ticks": ""
             }
            },
            "type": "scattergl"
           }
          ],
          "scattermapbox": [
           {
            "marker": {
             "colorbar": {
              "outlinewidth": 0,
              "ticks": ""
             }
            },
            "type": "scattermapbox"
           }
          ],
          "scatterpolar": [
           {
            "marker": {
             "colorbar": {
              "outlinewidth": 0,
              "ticks": ""
             }
            },
            "type": "scatterpolar"
           }
          ],
          "scatterpolargl": [
           {
            "marker": {
             "colorbar": {
              "outlinewidth": 0,
              "ticks": ""
             }
            },
            "type": "scatterpolargl"
           }
          ],
          "scatterternary": [
           {
            "marker": {
             "colorbar": {
              "outlinewidth": 0,
              "ticks": ""
             }
            },
            "type": "scatterternary"
           }
          ],
          "surface": [
           {
            "colorbar": {
             "outlinewidth": 0,
             "ticks": ""
            },
            "colorscale": [
             [
              0,
              "#0d0887"
             ],
             [
              0.1111111111111111,
              "#46039f"
             ],
             [
              0.2222222222222222,
              "#7201a8"
             ],
             [
              0.3333333333333333,
              "#9c179e"
             ],
             [
              0.4444444444444444,
              "#bd3786"
             ],
             [
              0.5555555555555556,
              "#d8576b"
             ],
             [
              0.6666666666666666,
              "#ed7953"
             ],
             [
              0.7777777777777778,
              "#fb9f3a"
             ],
             [
              0.8888888888888888,
              "#fdca26"
             ],
             [
              1,
              "#f0f921"
             ]
            ],
            "type": "surface"
           }
          ],
          "table": [
           {
            "cells": {
             "fill": {
              "color": "#EBF0F8"
             },
             "line": {
              "color": "white"
             }
            },
            "header": {
             "fill": {
              "color": "#C8D4E3"
             },
             "line": {
              "color": "white"
             }
            },
            "type": "table"
           }
          ]
         },
         "layout": {
          "annotationdefaults": {
           "arrowcolor": "#2a3f5f",
           "arrowhead": 0,
           "arrowwidth": 1
          },
          "autotypenumbers": "strict",
          "coloraxis": {
           "colorbar": {
            "outlinewidth": 0,
            "ticks": ""
           }
          },
          "colorscale": {
           "diverging": [
            [
             0,
             "#8e0152"
            ],
            [
             0.1,
             "#c51b7d"
            ],
            [
             0.2,
             "#de77ae"
            ],
            [
             0.3,
             "#f1b6da"
            ],
            [
             0.4,
             "#fde0ef"
            ],
            [
             0.5,
             "#f7f7f7"
            ],
            [
             0.6,
             "#e6f5d0"
            ],
            [
             0.7,
             "#b8e186"
            ],
            [
             0.8,
             "#7fbc41"
            ],
            [
             0.9,
             "#4d9221"
            ],
            [
             1,
             "#276419"
            ]
           ],
           "sequential": [
            [
             0,
             "#0d0887"
            ],
            [
             0.1111111111111111,
             "#46039f"
            ],
            [
             0.2222222222222222,
             "#7201a8"
            ],
            [
             0.3333333333333333,
             "#9c179e"
            ],
            [
             0.4444444444444444,
             "#bd3786"
            ],
            [
             0.5555555555555556,
             "#d8576b"
            ],
            [
             0.6666666666666666,
             "#ed7953"
            ],
            [
             0.7777777777777778,
             "#fb9f3a"
            ],
            [
             0.8888888888888888,
             "#fdca26"
            ],
            [
             1,
             "#f0f921"
            ]
           ],
           "sequentialminus": [
            [
             0,
             "#0d0887"
            ],
            [
             0.1111111111111111,
             "#46039f"
            ],
            [
             0.2222222222222222,
             "#7201a8"
            ],
            [
             0.3333333333333333,
             "#9c179e"
            ],
            [
             0.4444444444444444,
             "#bd3786"
            ],
            [
             0.5555555555555556,
             "#d8576b"
            ],
            [
             0.6666666666666666,
             "#ed7953"
            ],
            [
             0.7777777777777778,
             "#fb9f3a"
            ],
            [
             0.8888888888888888,
             "#fdca26"
            ],
            [
             1,
             "#f0f921"
            ]
           ]
          },
          "colorway": [
           "#636efa",
           "#EF553B",
           "#00cc96",
           "#ab63fa",
           "#FFA15A",
           "#19d3f3",
           "#FF6692",
           "#B6E880",
           "#FF97FF",
           "#FECB52"
          ],
          "font": {
           "color": "#2a3f5f"
          },
          "geo": {
           "bgcolor": "white",
           "lakecolor": "white",
           "landcolor": "white",
           "showlakes": true,
           "showland": true,
           "subunitcolor": "#C8D4E3"
          },
          "hoverlabel": {
           "align": "left"
          },
          "hovermode": "closest",
          "mapbox": {
           "style": "light"
          },
          "paper_bgcolor": "white",
          "plot_bgcolor": "white",
          "polar": {
           "angularaxis": {
            "gridcolor": "#EBF0F8",
            "linecolor": "#EBF0F8",
            "ticks": ""
           },
           "bgcolor": "white",
           "radialaxis": {
            "gridcolor": "#EBF0F8",
            "linecolor": "#EBF0F8",
            "ticks": ""
           }
          },
          "scene": {
           "xaxis": {
            "backgroundcolor": "white",
            "gridcolor": "#DFE8F3",
            "gridwidth": 2,
            "linecolor": "#EBF0F8",
            "showbackground": true,
            "ticks": "",
            "zerolinecolor": "#EBF0F8"
           },
           "yaxis": {
            "backgroundcolor": "white",
            "gridcolor": "#DFE8F3",
            "gridwidth": 2,
            "linecolor": "#EBF0F8",
            "showbackground": true,
            "ticks": "",
            "zerolinecolor": "#EBF0F8"
           },
           "zaxis": {
            "backgroundcolor": "white",
            "gridcolor": "#DFE8F3",
            "gridwidth": 2,
            "linecolor": "#EBF0F8",
            "showbackground": true,
            "ticks": "",
            "zerolinecolor": "#EBF0F8"
           }
          },
          "shapedefaults": {
           "line": {
            "color": "#2a3f5f"
           }
          },
          "ternary": {
           "aaxis": {
            "gridcolor": "#DFE8F3",
            "linecolor": "#A2B1C6",
            "ticks": ""
           },
           "baxis": {
            "gridcolor": "#DFE8F3",
            "linecolor": "#A2B1C6",
            "ticks": ""
           },
           "bgcolor": "white",
           "caxis": {
            "gridcolor": "#DFE8F3",
            "linecolor": "#A2B1C6",
            "ticks": ""
           }
          },
          "title": {
           "x": 0.05
          },
          "xaxis": {
           "automargin": true,
           "gridcolor": "#EBF0F8",
           "linecolor": "#EBF0F8",
           "ticks": "",
           "title": {
            "standoff": 15
           },
           "zerolinecolor": "#EBF0F8",
           "zerolinewidth": 2
          },
          "yaxis": {
           "automargin": true,
           "gridcolor": "#EBF0F8",
           "linecolor": "#EBF0F8",
           "ticks": "",
           "title": {
            "standoff": 15
           },
           "zerolinecolor": "#EBF0F8",
           "zerolinewidth": 2
          }
         }
        },
        "title": {
         "text": "Random Search Trial Configurations - Uniform"
        },
        "width": 900
       }
      },
      "text/html": [
       "<div>                            <div id=\"ad904806-014c-4a79-bde0-158c0880e979\" class=\"plotly-graph-div\" style=\"height:525px; width:900px;\"></div>            <script type=\"text/javascript\">                require([\"plotly\"], function(Plotly) {                    window.PLOTLYENV=window.PLOTLYENV || {};                                    if (document.getElementById(\"ad904806-014c-4a79-bde0-158c0880e979\")) {                    Plotly.newPlot(                        \"ad904806-014c-4a79-bde0-158c0880e979\",                        [{\"dimensions\":[{\"label\":\"config.l1\",\"values\":[64,128,32,128,64,32,32,32,64,64,128,64,256,32,64,32,256,64,32,32,128,32,64,256,256,128,256,256,64,32,128,64,128,32,128,256,128,64,64,64,32,256,256,256,128,64,32,64,64,256,32,128,32,256,256,256,128,256,256,64,256,32,32,256,128,64,256,64,64,256,128,128,64,256,256,256,128,128,64,64,128,128,64,64,256,32,256]},{\"label\":\"config.batch_size\",\"values\":[64,32,128,128,16,64,32,16,16,128,32,32,32,128,32,16,64,32,32,32,16,32,128,64,64,32,128,32,64,16,128,32,32,32,16,64,16,32,32,16,64,128,32,32,32,32,32,128,128,64,16,64,128,64,32,128,32,128,16,128,64,32,32,128,128,128,16,16,128,32,128,16,32,16,64,16,64,16,128,32,64,64,128,128,32,32,32]},{\"label\":\"config.learning_rate\",\"values\":[0.0693721542,0.0060592408,0.0476207494,0.0602280922,0.0109519651,0.0043286393,0.0211994306,0.0797444083,0.0370673125,0.0542822667,0.0361301079,0.06210721,0.0513087884,0.0334911728,0.022804938,0.0705006436,0.0499054511,0.0328186399,0.0112990664,0.0612282409,0.0480825946,0.0135664708,0.0800841512,0.0426210618,0.0597920465,0.0566414358,0.0698817719,0.0086139206,0.0315056973,0.0123809432,0.0820514343,0.0264883721,0.0942731742,0.0782145634,0.069657905,0.0100238121,0.0096174231,0.0230641179,0.0443671141,0.083396573,0.0729814763,0.0121403233,0.0908279987,0.0662746163,0.0246313747,0.0862023136,0.0217689672,0.0345343548,0.0336503019,0.0518148807,0.0239938806,0.0646933251,0.0170949813,0.0281668134,0.0101410277,0.0945795805,0.0887451669,0.0208320886,0.0068516947,0.0308245818,0.0578930373,0.0938488849,0.0097008906,0.0513798357,0.0723234548,0.0680512252,0.0711051137,0.0209127911,0.0485967697,0.0663755957,0.0351130071,0.0310472183,0.0983246304,0.0959513987,0.0111513549,0.0707817057,0.0657083466,0.0540345965,0.0575658938,0.0096741148,0.0736719613,0.0015714021,0.0167426123,0.0167576071,0.0837469056,0.0090421207,0.0796910137]},{\"label\":\"config.epochs\",\"values\":[15,20,5,10,20,15,20,20,20,15,20,10,15,10,5,10,20,5,20,15,10,10,10,15,15,10,10,20,15,20,10,20,20,20,20,10,15,15,20,15,20,10,20,10,5,20,15,5,10,15,15,5,10,20,5,15,5,20,15,5,5,15,15,10,15,15,20,5,10,20,10,20,5,15,5,15,5,10,20,20,20,20,20,20,10,20,20]}],\"domain\":{\"x\":[0.0,1.0],\"y\":[0.0,1.0]},\"line\":{\"color\":[0.2403744779,0.2607122025,0.3245915553,0.2654715226,0.2421068221,0.3923928683,0.2465574028,0.4740976276,0.3917784642,0.2641277618,0.3060270447,0.265395887,0.2544579878,0.3103154769,0.2786972329,0.2713678539,0.226527695,0.2745608744,0.2419646544,0.267498869,0.25823417,0.2686685099,0.2709628226,0.2372384451,0.2358037447,0.2455275163,0.2492551225,0.2425356355,0.2696644673,0.227512134,0.309731907,0.2336389252,0.3958461923,0.3586679301,0.4677130834,0.3128421003,0.2485843985,0.2578522872,0.2455811508,0.37492458,0.2555521592,0.3451706041,0.4890880503,0.2307003641,0.2729083297,0.394354029,0.2442986843,0.3507471937,0.3053924395,0.2410493982,0.2488839829,0.2781051293,0.3491774778,0.2246138516,0.3285512181,0.2397478843,0.2287137,0.2724394064,0.2338046337,0.3736548048,0.2607533613,0.3134006482,0.2497125177,0.2591184011,0.2839751816,0.2521625465,0.4885663756,0.2675006828,0.2790501032,0.4110255312,0.2948504561,0.3817148453,0.2515178651,0.5067463026,0.3923281174,0.4554125676,0.2577539437,0.2691995306,0.2416789834,0.2451195181,0.2665122904,0.3991427207,0.2856846309,0.2819558355,0.2420077132,0.3055115026,0.2348843061],\"coloraxis\":\"coloraxis\"},\"name\":\"\",\"type\":\"parcoords\"}],                        {\"template\":{\"data\":{\"histogram2dcontour\":[{\"type\":\"histogram2dcontour\",\"colorbar\":{\"outlinewidth\":0,\"ticks\":\"\"},\"colorscale\":[[0.0,\"#0d0887\"],[0.1111111111111111,\"#46039f\"],[0.2222222222222222,\"#7201a8\"],[0.3333333333333333,\"#9c179e\"],[0.4444444444444444,\"#bd3786\"],[0.5555555555555556,\"#d8576b\"],[0.6666666666666666,\"#ed7953\"],[0.7777777777777778,\"#fb9f3a\"],[0.8888888888888888,\"#fdca26\"],[1.0,\"#f0f921\"]]}],\"choropleth\":[{\"type\":\"choropleth\",\"colorbar\":{\"outlinewidth\":0,\"ticks\":\"\"}}],\"histogram2d\":[{\"type\":\"histogram2d\",\"colorbar\":{\"outlinewidth\":0,\"ticks\":\"\"},\"colorscale\":[[0.0,\"#0d0887\"],[0.1111111111111111,\"#46039f\"],[0.2222222222222222,\"#7201a8\"],[0.3333333333333333,\"#9c179e\"],[0.4444444444444444,\"#bd3786\"],[0.5555555555555556,\"#d8576b\"],[0.6666666666666666,\"#ed7953\"],[0.7777777777777778,\"#fb9f3a\"],[0.8888888888888888,\"#fdca26\"],[1.0,\"#f0f921\"]]}],\"heatmap\":[{\"type\":\"heatmap\",\"colorbar\":{\"outlinewidth\":0,\"ticks\":\"\"},\"colorscale\":[[0.0,\"#0d0887\"],[0.1111111111111111,\"#46039f\"],[0.2222222222222222,\"#7201a8\"],[0.3333333333333333,\"#9c179e\"],[0.4444444444444444,\"#bd3786\"],[0.5555555555555556,\"#d8576b\"],[0.6666666666666666,\"#ed7953\"],[0.7777777777777778,\"#fb9f3a\"],[0.8888888888888888,\"#fdca26\"],[1.0,\"#f0f921\"]]}],\"heatmapgl\":[{\"type\":\"heatmapgl\",\"colorbar\":{\"outlinewidth\":0,\"ticks\":\"\"},\"colorscale\":[[0.0,\"#0d0887\"],[0.1111111111111111,\"#46039f\"],[0.2222222222222222,\"#7201a8\"],[0.3333333333333333,\"#9c179e\"],[0.4444444444444444,\"#bd3786\"],[0.5555555555555556,\"#d8576b\"],[0.6666666666666666,\"#ed7953\"],[0.7777777777777778,\"#fb9f3a\"],[0.8888888888888888,\"#fdca26\"],[1.0,\"#f0f921\"]]}],\"contourcarpet\":[{\"type\":\"contourcarpet\",\"colorbar\":{\"outlinewidth\":0,\"ticks\":\"\"}}],\"contour\":[{\"type\":\"contour\",\"colorbar\":{\"outlinewidth\":0,\"ticks\":\"\"},\"colorscale\":[[0.0,\"#0d0887\"],[0.1111111111111111,\"#46039f\"],[0.2222222222222222,\"#7201a8\"],[0.3333333333333333,\"#9c179e\"],[0.4444444444444444,\"#bd3786\"],[0.5555555555555556,\"#d8576b\"],[0.6666666666666666,\"#ed7953\"],[0.7777777777777778,\"#fb9f3a\"],[0.8888888888888888,\"#fdca26\"],[1.0,\"#f0f921\"]]}],\"surface\":[{\"type\":\"surface\",\"colorbar\":{\"outlinewidth\":0,\"ticks\":\"\"},\"colorscale\":[[0.0,\"#0d0887\"],[0.1111111111111111,\"#46039f\"],[0.2222222222222222,\"#7201a8\"],[0.3333333333333333,\"#9c179e\"],[0.4444444444444444,\"#bd3786\"],[0.5555555555555556,\"#d8576b\"],[0.6666666666666666,\"#ed7953\"],[0.7777777777777778,\"#fb9f3a\"],[0.8888888888888888,\"#fdca26\"],[1.0,\"#f0f921\"]]}],\"mesh3d\":[{\"type\":\"mesh3d\",\"colorbar\":{\"outlinewidth\":0,\"ticks\":\"\"}}],\"scatter\":[{\"fillpattern\":{\"fillmode\":\"overlay\",\"size\":10,\"solidity\":0.2},\"type\":\"scatter\"}],\"parcoords\":[{\"type\":\"parcoords\",\"line\":{\"colorbar\":{\"outlinewidth\":0,\"ticks\":\"\"}}}],\"scatterpolargl\":[{\"type\":\"scatterpolargl\",\"marker\":{\"colorbar\":{\"outlinewidth\":0,\"ticks\":\"\"}}}],\"bar\":[{\"error_x\":{\"color\":\"#2a3f5f\"},\"error_y\":{\"color\":\"#2a3f5f\"},\"marker\":{\"line\":{\"color\":\"white\",\"width\":0.5},\"pattern\":{\"fillmode\":\"overlay\",\"size\":10,\"solidity\":0.2}},\"type\":\"bar\"}],\"scattergeo\":[{\"type\":\"scattergeo\",\"marker\":{\"colorbar\":{\"outlinewidth\":0,\"ticks\":\"\"}}}],\"scatterpolar\":[{\"type\":\"scatterpolar\",\"marker\":{\"colorbar\":{\"outlinewidth\":0,\"ticks\":\"\"}}}],\"histogram\":[{\"marker\":{\"pattern\":{\"fillmode\":\"overlay\",\"size\":10,\"solidity\":0.2}},\"type\":\"histogram\"}],\"scattergl\":[{\"type\":\"scattergl\",\"marker\":{\"colorbar\":{\"outlinewidth\":0,\"ticks\":\"\"}}}],\"scatter3d\":[{\"type\":\"scatter3d\",\"line\":{\"colorbar\":{\"outlinewidth\":0,\"ticks\":\"\"}},\"marker\":{\"colorbar\":{\"outlinewidth\":0,\"ticks\":\"\"}}}],\"scattermapbox\":[{\"type\":\"scattermapbox\",\"marker\":{\"colorbar\":{\"outlinewidth\":0,\"ticks\":\"\"}}}],\"scatterternary\":[{\"type\":\"scatterternary\",\"marker\":{\"colorbar\":{\"outlinewidth\":0,\"ticks\":\"\"}}}],\"scattercarpet\":[{\"type\":\"scattercarpet\",\"marker\":{\"colorbar\":{\"outlinewidth\":0,\"ticks\":\"\"}}}],\"carpet\":[{\"aaxis\":{\"endlinecolor\":\"#2a3f5f\",\"gridcolor\":\"#C8D4E3\",\"linecolor\":\"#C8D4E3\",\"minorgridcolor\":\"#C8D4E3\",\"startlinecolor\":\"#2a3f5f\"},\"baxis\":{\"endlinecolor\":\"#2a3f5f\",\"gridcolor\":\"#C8D4E3\",\"linecolor\":\"#C8D4E3\",\"minorgridcolor\":\"#C8D4E3\",\"startlinecolor\":\"#2a3f5f\"},\"type\":\"carpet\"}],\"table\":[{\"cells\":{\"fill\":{\"color\":\"#EBF0F8\"},\"line\":{\"color\":\"white\"}},\"header\":{\"fill\":{\"color\":\"#C8D4E3\"},\"line\":{\"color\":\"white\"}},\"type\":\"table\"}],\"barpolar\":[{\"marker\":{\"line\":{\"color\":\"white\",\"width\":0.5},\"pattern\":{\"fillmode\":\"overlay\",\"size\":10,\"solidity\":0.2}},\"type\":\"barpolar\"}],\"pie\":[{\"automargin\":true,\"type\":\"pie\"}]},\"layout\":{\"autotypenumbers\":\"strict\",\"colorway\":[\"#636efa\",\"#EF553B\",\"#00cc96\",\"#ab63fa\",\"#FFA15A\",\"#19d3f3\",\"#FF6692\",\"#B6E880\",\"#FF97FF\",\"#FECB52\"],\"font\":{\"color\":\"#2a3f5f\"},\"hovermode\":\"closest\",\"hoverlabel\":{\"align\":\"left\"},\"paper_bgcolor\":\"white\",\"plot_bgcolor\":\"white\",\"polar\":{\"bgcolor\":\"white\",\"angularaxis\":{\"gridcolor\":\"#EBF0F8\",\"linecolor\":\"#EBF0F8\",\"ticks\":\"\"},\"radialaxis\":{\"gridcolor\":\"#EBF0F8\",\"linecolor\":\"#EBF0F8\",\"ticks\":\"\"}},\"ternary\":{\"bgcolor\":\"white\",\"aaxis\":{\"gridcolor\":\"#DFE8F3\",\"linecolor\":\"#A2B1C6\",\"ticks\":\"\"},\"baxis\":{\"gridcolor\":\"#DFE8F3\",\"linecolor\":\"#A2B1C6\",\"ticks\":\"\"},\"caxis\":{\"gridcolor\":\"#DFE8F3\",\"linecolor\":\"#A2B1C6\",\"ticks\":\"\"}},\"coloraxis\":{\"colorbar\":{\"outlinewidth\":0,\"ticks\":\"\"}},\"colorscale\":{\"sequential\":[[0.0,\"#0d0887\"],[0.1111111111111111,\"#46039f\"],[0.2222222222222222,\"#7201a8\"],[0.3333333333333333,\"#9c179e\"],[0.4444444444444444,\"#bd3786\"],[0.5555555555555556,\"#d8576b\"],[0.6666666666666666,\"#ed7953\"],[0.7777777777777778,\"#fb9f3a\"],[0.8888888888888888,\"#fdca26\"],[1.0,\"#f0f921\"]],\"sequentialminus\":[[0.0,\"#0d0887\"],[0.1111111111111111,\"#46039f\"],[0.2222222222222222,\"#7201a8\"],[0.3333333333333333,\"#9c179e\"],[0.4444444444444444,\"#bd3786\"],[0.5555555555555556,\"#d8576b\"],[0.6666666666666666,\"#ed7953\"],[0.7777777777777778,\"#fb9f3a\"],[0.8888888888888888,\"#fdca26\"],[1.0,\"#f0f921\"]],\"diverging\":[[0,\"#8e0152\"],[0.1,\"#c51b7d\"],[0.2,\"#de77ae\"],[0.3,\"#f1b6da\"],[0.4,\"#fde0ef\"],[0.5,\"#f7f7f7\"],[0.6,\"#e6f5d0\"],[0.7,\"#b8e186\"],[0.8,\"#7fbc41\"],[0.9,\"#4d9221\"],[1,\"#276419\"]]},\"xaxis\":{\"gridcolor\":\"#EBF0F8\",\"linecolor\":\"#EBF0F8\",\"ticks\":\"\",\"title\":{\"standoff\":15},\"zerolinecolor\":\"#EBF0F8\",\"automargin\":true,\"zerolinewidth\":2},\"yaxis\":{\"gridcolor\":\"#EBF0F8\",\"linecolor\":\"#EBF0F8\",\"ticks\":\"\",\"title\":{\"standoff\":15},\"zerolinecolor\":\"#EBF0F8\",\"automargin\":true,\"zerolinewidth\":2},\"scene\":{\"xaxis\":{\"backgroundcolor\":\"white\",\"gridcolor\":\"#DFE8F3\",\"linecolor\":\"#EBF0F8\",\"showbackground\":true,\"ticks\":\"\",\"zerolinecolor\":\"#EBF0F8\",\"gridwidth\":2},\"yaxis\":{\"backgroundcolor\":\"white\",\"gridcolor\":\"#DFE8F3\",\"linecolor\":\"#EBF0F8\",\"showbackground\":true,\"ticks\":\"\",\"zerolinecolor\":\"#EBF0F8\",\"gridwidth\":2},\"zaxis\":{\"backgroundcolor\":\"white\",\"gridcolor\":\"#DFE8F3\",\"linecolor\":\"#EBF0F8\",\"showbackground\":true,\"ticks\":\"\",\"zerolinecolor\":\"#EBF0F8\",\"gridwidth\":2}},\"shapedefaults\":{\"line\":{\"color\":\"#2a3f5f\"}},\"annotationdefaults\":{\"arrowcolor\":\"#2a3f5f\",\"arrowhead\":0,\"arrowwidth\":1},\"geo\":{\"bgcolor\":\"white\",\"landcolor\":\"white\",\"subunitcolor\":\"#C8D4E3\",\"showland\":true,\"showlakes\":true,\"lakecolor\":\"white\"},\"title\":{\"x\":0.05},\"mapbox\":{\"style\":\"light\"}}},\"coloraxis\":{\"colorbar\":{\"title\":{\"text\":\"mean_val_loss\"}},\"colorscale\":[[0.0,\"#0d0887\"],[0.1111111111111111,\"#46039f\"],[0.2222222222222222,\"#7201a8\"],[0.3333333333333333,\"#9c179e\"],[0.4444444444444444,\"#bd3786\"],[0.5555555555555556,\"#d8576b\"],[0.6666666666666666,\"#ed7953\"],[0.7777777777777778,\"#fb9f3a\"],[0.8888888888888888,\"#fdca26\"],[1.0,\"#f0f921\"]]},\"legend\":{\"tracegroupgap\":0},\"title\":{\"text\":\"Random Search Trial Configurations - Uniform\"},\"width\":900},                        {\"responsive\": true}                    ).then(function(){\n",
       "                            \n",
       "var gd = document.getElementById('ad904806-014c-4a79-bde0-158c0880e979');\n",
       "var x = new MutationObserver(function (mutations, observer) {{\n",
       "        var display = window.getComputedStyle(gd).display;\n",
       "        if (!display || display === 'none') {{\n",
       "            console.log([gd, 'removed!']);\n",
       "            Plotly.purge(gd);\n",
       "            observer.disconnect();\n",
       "        }}\n",
       "}});\n",
       "\n",
       "// Listen for the removal of the full notebook cells\n",
       "var notebookContainer = gd.closest('#notebook-container');\n",
       "if (notebookContainer) {{\n",
       "    x.observe(notebookContainer, {childList: true});\n",
       "}}\n",
       "\n",
       "// Listen for the clearing of the current output cell\n",
       "var outputEl = gd.closest('.output');\n",
       "if (outputEl) {{\n",
       "    x.observe(outputEl, {childList: true});\n",
       "}}\n",
       "\n",
       "                        })                };                });            </script>        </div>"
      ]
     },
     "metadata": {},
     "output_type": "display_data"
    }
   ],
   "source": [
    "fig = px.parallel_coordinates(df_flat_e7, color=\"mean_val_loss\",\n",
    "                              title='Random Search Trial Configurations - Uniform',\n",
    "                              dimensions=['config.l1', 'config.batch_size', 'config.learning_rate',\n",
    "                                          'config.epochs'], width=900)\n",
    "fig.show()"
   ]
  },
  {
   "cell_type": "markdown",
   "metadata": {
    "slideshow": {
     "slide_type": "subslide"
    }
   },
   "source": [
    "<div style=\"display: flex; justify-content: space-between; align-items: center; width: 100%;\">\n",
    "    <span style=\"color: #ff6900; font-weight: bold; font-size: 25px;\">Learning Rate vs. Epochs</span>\n",
    "    <span style=\"text-align: right; font-size: 12px;\">Lena Hammerer | Luisa Ibele | Hanna Steinwender</span>\n",
    "</div>\n",
    "\n",
    "- training with a small _Learning Rate_ over more _Epochs_ leads to better results\n",
    "- when training for less _Epochs_ a larger _Learning Rate_ can be selected\n",
    "- five _Epochs_ seems to be not enough in general"
   ]
  },
  {
   "cell_type": "code",
   "execution_count": 22,
   "metadata": {
    "slideshow": {
     "slide_type": "fragment"
    }
   },
   "outputs": [
    {
     "ename": "NameError",
     "evalue": "name 'spotTuner_e8' is not defined",
     "output_type": "error",
     "traceback": [
      "\u001b[1;31m---------------------------------------------------------------------------\u001b[0m",
      "\u001b[1;31mNameError\u001b[0m                                 Traceback (most recent call last)",
      "Cell \u001b[1;32mIn[22], line 32\u001b[0m\n\u001b[0;32m     29\u001b[0m     \u001b[39mreturn\u001b[39;00m [x[\u001b[39m0\u001b[39m] \u001b[39mfor\u001b[39;00m x \u001b[39min\u001b[39;00m \u001b[39mmap\u001b[39m \u001b[39mif\u001b[39;00m x[\u001b[39m1\u001b[39m] \u001b[39m==\u001b[39m name][\u001b[39m0\u001b[39m]\n\u001b[0;32m     31\u001b[0m \u001b[39m# lower and upper\u001b[39;00m\n\u001b[1;32m---> 32\u001b[0m i \u001b[39m=\u001b[39m getHPIndex(\u001b[39m'\u001b[39;49m\u001b[39mlr_mult\u001b[39;49m\u001b[39m'\u001b[39;49m)\n\u001b[0;32m     33\u001b[0m j \u001b[39m=\u001b[39m getHPIndex(\u001b[39m'\u001b[39m\u001b[39mepochs\u001b[39m\u001b[39m'\u001b[39m)\n\u001b[0;32m     34\u001b[0m x \u001b[39m=\u001b[39m np\u001b[39m.\u001b[39mlinspace(spotTuner_e8\u001b[39m.\u001b[39mlower[i], spotTuner_e8\u001b[39m.\u001b[39mupper[i], num\u001b[39m=\u001b[39m\u001b[39m50\u001b[39m)\n",
      "Cell \u001b[1;32mIn[22], line 28\u001b[0m, in \u001b[0;36mgetHPIndex\u001b[1;34m(name)\u001b[0m\n\u001b[0;32m     27\u001b[0m \u001b[39mdef\u001b[39;00m \u001b[39mgetHPIndex\u001b[39m(name):\n\u001b[1;32m---> 28\u001b[0m     \u001b[39mmap\u001b[39m \u001b[39m=\u001b[39m [(i, x[\u001b[39m0\u001b[39m]) \u001b[39mfor\u001b[39;00m i, x \u001b[39min\u001b[39;00m \u001b[39menumerate\u001b[39m(spotTuner_e8\u001b[39m.\u001b[39mprint_importance(print_screen\u001b[39m=\u001b[39m\u001b[39mFalse\u001b[39;00m))]\n\u001b[0;32m     29\u001b[0m     \u001b[39mreturn\u001b[39;00m [x[\u001b[39m0\u001b[39m] \u001b[39mfor\u001b[39;00m x \u001b[39min\u001b[39;00m \u001b[39mmap\u001b[39m \u001b[39mif\u001b[39;00m x[\u001b[39m1\u001b[39m] \u001b[39m==\u001b[39m name][\u001b[39m0\u001b[39m]\n",
      "\u001b[1;31mNameError\u001b[0m: name 'spotTuner_e8' is not defined"
     ]
    }
   ],
   "source": [
    "min = np.array(df_flat_e4['config.learning_rate']).min()\n",
    "max = np.array(df_flat_e4['config.learning_rate']).max()\n",
    "\n",
    "fig = make_subplots(rows=1, cols=3, subplot_titles=[\"Random Search\", \"Random Search\", \"SMBO\"], horizontal_spacing=0.085)\n",
    "\n",
    "plot = go.Scatter(\n",
    "    x=df_flat_e4['config.learning_rate'], \n",
    "    y=df_flat_e4['config.epochs'], \n",
    "    marker_color=df_flat_e4['mean_val_loss'], \n",
    "    mode='markers')\n",
    "fig.add_trace(plot, row=1, col=1)\n",
    "\n",
    "z = pd.pivot_table(df_flat_e4, \n",
    "        values=['mean_val_loss'], \n",
    "        index=['config.epochs'], \n",
    "        columns=['config.learning_rate'], fill_value=None, dropna=False).to_numpy()\n",
    "plot = go.Heatmap(\n",
    "    z=z,\n",
    "    x=sorted(df_flat_e4['config.learning_rate'].unique()),\n",
    "    y=sorted(df_flat_e4['config.epochs'].unique()),\n",
    "    #zsmooth='best',\n",
    "    connectgaps=True,\n",
    "    coloraxis='coloraxis'\n",
    ")\n",
    "fig.add_trace(plot, row=1, col=2)\n",
    "\n",
    "def getHPIndex(name):\n",
    "    map = [(i, x[0]) for i, x in enumerate(spotTuner_e8.print_importance(print_screen=False))]\n",
    "    return [x[0] for x in map if x[1] == name][0]\n",
    "\n",
    "# lower and upper\n",
    "i = getHPIndex('lr_mult')\n",
    "j = getHPIndex('epochs')\n",
    "x = np.linspace(spotTuner_e8.lower[i], spotTuner_e8.upper[i], num=50)\n",
    "y = np.linspace(spotTuner_e8.lower[j], spotTuner_e8.upper[j], num=50)\n",
    "X, Y = meshgrid(x, y)\n",
    "# Predict based on the optimized results\n",
    "z0 = np.mean(np.array([spotTuner_e8.lower, spotTuner_e8.upper]), axis=0)\n",
    "zz = array([spotTuner_e8.surrogate.predict(array([spotTuner_e8.chg(x, y, z0, i, j)])) for x, y in zip(ravel(X), ravel(Y))])\n",
    "zs = zz[:, 0]\n",
    "Z = zs.reshape(X.shape)\n",
    "min_z = np.min(Z)\n",
    "max_z = np.max(Z)\n",
    "plot = go.Heatmap(\n",
    "    z=Z,\n",
    "    x=[val*1e-3 for val in x],\n",
    "    y=[(val+1)*5 for val in y],\n",
    "    #zsmooth='best',\n",
    "    coloraxis='coloraxis2'\n",
    ")\n",
    "fig.add_trace(plot, row=1, col=3)\n",
    "\n",
    "fig.update_xaxes(\n",
    "    title = 'Learning Rate',\n",
    "    tickmode = 'array',\n",
    "    tickvals = [round(min, 4), round(max, 4)],\n",
    "    ticktext = [round(min, 4), round(max, 4)],\n",
    "    row=1, col=1\n",
    ")\n",
    "fig.update_yaxes(\n",
    "    title = 'Epochs',\n",
    "    tickmode = 'array',\n",
    "    tickvals = df_flat_e4['config.epochs'].unique(),\n",
    "    row=1, col=1\n",
    ")\n",
    "fig.update_xaxes(\n",
    "    tickmode = 'array',\n",
    "    tickvals = [round(min, 5), round(max, 4)],\n",
    "    ticktext = [round(min, 5), round(max, 4)],\n",
    "    row=1, col=2\n",
    ")\n",
    "fig.update_yaxes(\n",
    "    tickmode = 'array',\n",
    "    tickvals = df_flat_e4['config.epochs'].unique(),\n",
    "    row=1, col=2\n",
    ")\n",
    "\n",
    "fig.update_xaxes(\n",
    "    tickmode = 'array',\n",
    "    tickvals = [1e-4, 1e-1],\n",
    "    ticktext = [1e-4, 1e-1],\n",
    "    row=1, col=3\n",
    ")\n",
    "fig.update_yaxes(\n",
    "    tickmode = 'array',\n",
    "    tickvals = df_flat_e4['config.epochs'].unique(),\n",
    "    row=1, col=3\n",
    ")\n",
    "\n",
    "fig.update_layout(coloraxis=dict(colorbar_x=0.64, colorbar_thickness=15),\n",
    "                  coloraxis2=dict(colorbar_x=1, colorbar_thickness=15))\n",
    "\n",
    "fig.update_layout(title='Mean Validation Loss: Learning Rate vs. Epochs', showlegend=False, width=900, height=400)\n",
    "fig.show()"
   ]
  },
  {
   "cell_type": "markdown",
   "metadata": {
    "slideshow": {
     "slide_type": "subslide"
    }
   },
   "source": [
    "<div style=\"display: flex; justify-content: space-between; align-items: center; width: 100%;\">\n",
    "    <span style=\"color: #ff6900; font-weight: bold; font-size: 25px;\">Influence of Hyperparameters</span>\n",
    "    <span style=\"text-align: right; font-size: 12px;\">Lena Hammerer | Luisa Ibele | Hanna Steinwender</span>\n",
    "</div>\n",
    "\n",
    "- SMBO calculated importance supports previous observations\n",
    "- adjusting _Learning Rate_ and _Epochs_ is more significant than changing _Batch Size_ or the # of hidden _Units in the L1 Layer_"
   ]
  },
  {
   "cell_type": "code",
   "execution_count": 23,
   "metadata": {
    "slideshow": {
     "slide_type": "fragment"
    }
   },
   "outputs": [
    {
     "ename": "NameError",
     "evalue": "name 'spotTuner_e8' is not defined",
     "output_type": "error",
     "traceback": [
      "\u001b[1;31m---------------------------------------------------------------------------\u001b[0m",
      "\u001b[1;31mNameError\u001b[0m                                 Traceback (most recent call last)",
      "Cell \u001b[1;32mIn[23], line 1\u001b[0m\n\u001b[1;32m----> 1\u001b[0m theta \u001b[39m=\u001b[39m np\u001b[39m.\u001b[39mpower(\u001b[39m10\u001b[39m, spotTuner_e8\u001b[39m.\u001b[39msurrogate\u001b[39m.\u001b[39mtheta)\n\u001b[0;32m      2\u001b[0m imp \u001b[39m=\u001b[39m \u001b[39m100\u001b[39m \u001b[39m*\u001b[39m theta \u001b[39m/\u001b[39m np\u001b[39m.\u001b[39mmax(theta)\n\u001b[0;32m      3\u001b[0m idx \u001b[39m=\u001b[39m np\u001b[39m.\u001b[39mwhere(imp \u001b[39m>\u001b[39m \u001b[39m0.001\u001b[39m)[\u001b[39m0\u001b[39m]\n",
      "\u001b[1;31mNameError\u001b[0m: name 'spotTuner_e8' is not defined"
     ]
    }
   ],
   "source": [
    "theta = np.power(10, spotTuner_e8.surrogate.theta)\n",
    "imp = 100 * theta / np.max(theta)\n",
    "idx = np.where(imp > 0.001)[0]\n",
    "var_name = [spotTuner_e8.var_name[i] for i in idx]\n",
    "comb = sorted(zip(var_name, imp), key = lambda t: t[1])\n",
    "names = [x[0] for x in comb]\n",
    "impo = [x[1] for x in comb]\n",
    "\n",
    "fig = go.Figure([go.Bar(y=names, \n",
    "                        x=impo,         \n",
    "                        marker_color=colors,\n",
    "                        marker_line_color='black',\n",
    "                        marker_line_width=1,\n",
    "                        opacity=0.8,\n",
    "                        orientation='h')])\n",
    "fig.update_layout(title=\"SMBO Hyperparameter Importance\",\n",
    "                    width=900,\n",
    "                    height=500)\n",
    "fig.show()"
   ]
  },
  {
   "cell_type": "markdown",
   "metadata": {
    "slideshow": {
     "slide_type": "subslide"
    }
   },
   "source": [
    "<div style=\"display: flex; justify-content: space-between; align-items: center; width: 100%;\">\n",
    "    <span style=\"color: #ff6900; font-size: 35px; font-weight: bold;\">Performance Comparison</span>\n",
    "    <span style=\"text-align: right; font-size: 12px;\">Lena Hammerer | Luisa Ibele | Hanna Steinwender</span>\n",
    "</div>\n",
    "<p style=\"color: #ff6900; font-weight: bold; font-size: 25px;\">Overall Accuracy Score Improvement</p>\n",
    "\n",
    "- achieving better overall accuracy than default configuration after hyperparameter tuning\n",
    "- only small performance deviations between different tuning approaches and results <br/>-> expected 'cos also quite similar best configurations\n",
    "\n",
    "Best Configurations"
   ]
  },
  {
   "cell_type": "code",
   "execution_count": 28,
   "metadata": {
    "slideshow": {
     "slide_type": "fragment"
    }
   },
   "outputs": [
    {
     "data": {
      "text/html": [
       "<style type=\"text/css\">\n",
       "</style>\n",
       "<table id=\"T_72830\">\n",
       "  <thead>\n",
       "    <tr>\n",
       "      <th class=\"blank level0\" >&nbsp;</th>\n",
       "      <th id=\"T_72830_level0_col0\" class=\"col_heading level0 col0\" >L1 Units</th>\n",
       "      <th id=\"T_72830_level0_col1\" class=\"col_heading level0 col1\" >Batch Size</th>\n",
       "      <th id=\"T_72830_level0_col2\" class=\"col_heading level0 col2\" >Epochs</th>\n",
       "      <th id=\"T_72830_level0_col3\" class=\"col_heading level0 col3\" >Learning Rate</th>\n",
       "      <th id=\"T_72830_level0_col4\" class=\"col_heading level0 col4\" ># Trials</th>\n",
       "      <th id=\"T_72830_level0_col5\" class=\"col_heading level0 col5\" >Overall Acc.</th>\n",
       "    </tr>\n",
       "  </thead>\n",
       "  <tbody>\n",
       "    <tr>\n",
       "      <th id=\"T_72830_level0_row0\" class=\"row_heading level0 row0\" >Default</th>\n",
       "      <td id=\"T_72830_row0_col0\" class=\"data row0 col0\" >64</td>\n",
       "      <td id=\"T_72830_row0_col1\" class=\"data row0 col1\" >64</td>\n",
       "      <td id=\"T_72830_row0_col2\" class=\"data row0 col2\" >15</td>\n",
       "      <td id=\"T_72830_row0_col3\" class=\"data row0 col3\" >0.001000</td>\n",
       "      <td id=\"T_72830_row0_col4\" class=\"data row0 col4\" >-</td>\n",
       "      <td id=\"T_72830_row0_col5\" class=\"data row0 col5\" >81.99 %</td>\n",
       "    </tr>\n",
       "    <tr>\n",
       "      <th id=\"T_72830_level0_row1\" class=\"row_heading level0 row1\" >Random Search</th>\n",
       "      <td id=\"T_72830_row1_col0\" class=\"data row1 col0\" >128</td>\n",
       "      <td id=\"T_72830_row1_col1\" class=\"data row1 col1\" >16</td>\n",
       "      <td id=\"T_72830_row1_col2\" class=\"data row1 col2\" >10</td>\n",
       "      <td id=\"T_72830_row1_col3\" class=\"data row1 col3\" >0.054035</td>\n",
       "      <td id=\"T_72830_row1_col4\" class=\"data row1 col4\" >87 (~6h)</td>\n",
       "      <td id=\"T_72830_row1_col5\" class=\"data row1 col5\" >91.73 %</td>\n",
       "    </tr>\n",
       "    <tr>\n",
       "      <th id=\"T_72830_level0_row2\" class=\"row_heading level0 row2\" >Hyperband</th>\n",
       "      <td id=\"T_72830_row2_col0\" class=\"data row2 col0\" >128</td>\n",
       "      <td id=\"T_72830_row2_col1\" class=\"data row2 col1\" >16</td>\n",
       "      <td id=\"T_72830_row2_col2\" class=\"data row2 col2\" >15</td>\n",
       "      <td id=\"T_72830_row2_col3\" class=\"data row2 col3\" >0.098538</td>\n",
       "      <td id=\"T_72830_row2_col4\" class=\"data row2 col4\" >340 (~6h)</td>\n",
       "      <td id=\"T_72830_row2_col5\" class=\"data row2 col5\" >90.73 %</td>\n",
       "    </tr>\n",
       "    <tr>\n",
       "      <th id=\"T_72830_level0_row3\" class=\"row_heading level0 row3\" >SMBO</th>\n",
       "      <td id=\"T_72830_row3_col0\" class=\"data row3 col0\" >256</td>\n",
       "      <td id=\"T_72830_row3_col1\" class=\"data row3 col1\" >32</td>\n",
       "      <td id=\"T_72830_row3_col2\" class=\"data row3 col2\" >10</td>\n",
       "      <td id=\"T_72830_row3_col3\" class=\"data row3 col3\" >0.091179</td>\n",
       "      <td id=\"T_72830_row3_col4\" class=\"data row3 col4\" >68 (~6h)</td>\n",
       "      <td id=\"T_72830_row3_col5\" class=\"data row3 col5\" >91.61 %</td>\n",
       "    </tr>\n",
       "  </tbody>\n",
       "</table>\n"
      ],
      "text/plain": [
       "<pandas.io.formats.style.Styler at 0x23c3690c310>"
      ]
     },
     "execution_count": 28,
     "metadata": {},
     "output_type": "execute_result"
    }
   ],
   "source": [
    "means = [default_reps.overall.median() * 100, e7_reps.overall.median() * 100, e6_reps.overall.median() * 100, e8_reps.overall.median() * 100]\n",
    "df = pd.read_csv(f'{eval_data_path}/best_config.csv', index_col=0)\n",
    "df[\"Overall Acc.\"] = means\n",
    "df.style.format({\n",
    "  'Overall Acc.': lambda val: f'{val:,.2f} %',\n",
    "})"
   ]
  },
  {
   "cell_type": "markdown",
   "metadata": {
    "slideshow": {
     "slide_type": "subslide"
    }
   },
   "source": [
    "<div style=\"display: flex; justify-content: space-between; align-items: center; width: 100%;\">\n",
    "    <span style=\"color: #ff6900; font-weight: bold; font-size: 25px;\">Overall Accuracy Score Improvement</span>\n",
    "    <span style=\"text-align: right; font-size: 12px;\">Lena Hammerer | Luisa Ibele | Hanna Steinwender</span>\n",
    "</div>\n",
    "\n",
    "- achieving better overall accuracy than default configuration after hyperparameter tuning\n",
    "- only small performance deviations between different tuning approaches and results <br/>-> expected 'cos also quite similar best configurations"
   ]
  },
  {
   "cell_type": "code",
   "execution_count": 29,
   "metadata": {
    "slideshow": {
     "slide_type": "fragment"
    }
   },
   "outputs": [
    {
     "data": {
      "application/vnd.plotly.v1+json": {
       "config": {
        "plotlyServerURL": "https://plot.ly"
       },
       "data": [
        {
         "boxpoints": "all",
         "fillcolor": "#46039f",
         "jitter": 0.5,
         "line": {
          "width": 1
         },
         "marker": {
          "color": "black",
          "size": 2
         },
         "name": "Default",
         "opacity": 0.8,
         "type": "box",
         "whiskerwidth": 0.2,
         "y": [
          81.43,
          81.65,
          82.52000000000001,
          82.36,
          83.44,
          81.65,
          82.59,
          81.10000000000001,
          80.84,
          81.85,
          81.69,
          83.03,
          81.38,
          82.89999999999999,
          82.71,
          82.92,
          81.69,
          82.31,
          81.64,
          82.14
         ]
        },
        {
         "boxpoints": "all",
         "fillcolor": "#9c179e",
         "jitter": 0.5,
         "line": {
          "width": 1
         },
         "marker": {
          "color": "black",
          "size": 2
         },
         "name": "Random Search",
         "opacity": 0.8,
         "type": "box",
         "whiskerwidth": 0.2,
         "y": [
          91.73,
          91.19,
          92.13,
          92,
          91.23,
          91.03999999999999,
          91.75,
          91.85,
          91.69,
          91.47999999999999,
          90,
          91.94,
          91.88,
          91.35,
          91.94,
          91.81,
          91.10000000000001,
          91.11,
          91.78,
          91.74
         ]
        },
        {
         "boxpoints": "all",
         "fillcolor": "#d8576b",
         "jitter": 0.5,
         "line": {
          "width": 1
         },
         "marker": {
          "color": "black",
          "size": 2
         },
         "name": "Hyperband",
         "opacity": 0.8,
         "type": "box",
         "whiskerwidth": 0.2,
         "y": [
          91.61,
          90.58,
          90.36,
          90.24,
          90.84,
          90.46,
          90.93,
          90.66,
          90.72,
          91.05,
          91.22,
          90.42,
          91.17,
          90.86,
          90.64,
          91.18,
          90.68,
          90.74,
          90.42999999999999,
          91.23
         ]
        },
        {
         "boxpoints": "all",
         "fillcolor": "#fb9f3a",
         "jitter": 0.5,
         "line": {
          "width": 1
         },
         "marker": {
          "color": "black",
          "size": 2
         },
         "name": "SMBO",
         "opacity": 0.8,
         "type": "box",
         "whiskerwidth": 0.2,
         "y": [
          91.13,
          91.14999999999999,
          91.96,
          91.38,
          91.60000000000001,
          91.45,
          92.34,
          91.79,
          91.67999999999999,
          92.04,
          90.5,
          92,
          91.59,
          91.62,
          91.36999999999999,
          92.12,
          91.84,
          91.2,
          91.35,
          92.09
         ]
        }
       ],
       "layout": {
        "height": 450,
        "showlegend": true,
        "template": {
         "data": {
          "bar": [
           {
            "error_x": {
             "color": "#2a3f5f"
            },
            "error_y": {
             "color": "#2a3f5f"
            },
            "marker": {
             "line": {
              "color": "white",
              "width": 0.5
             },
             "pattern": {
              "fillmode": "overlay",
              "size": 10,
              "solidity": 0.2
             }
            },
            "type": "bar"
           }
          ],
          "barpolar": [
           {
            "marker": {
             "line": {
              "color": "white",
              "width": 0.5
             },
             "pattern": {
              "fillmode": "overlay",
              "size": 10,
              "solidity": 0.2
             }
            },
            "type": "barpolar"
           }
          ],
          "carpet": [
           {
            "aaxis": {
             "endlinecolor": "#2a3f5f",
             "gridcolor": "#C8D4E3",
             "linecolor": "#C8D4E3",
             "minorgridcolor": "#C8D4E3",
             "startlinecolor": "#2a3f5f"
            },
            "baxis": {
             "endlinecolor": "#2a3f5f",
             "gridcolor": "#C8D4E3",
             "linecolor": "#C8D4E3",
             "minorgridcolor": "#C8D4E3",
             "startlinecolor": "#2a3f5f"
            },
            "type": "carpet"
           }
          ],
          "choropleth": [
           {
            "colorbar": {
             "outlinewidth": 0,
             "ticks": ""
            },
            "type": "choropleth"
           }
          ],
          "contour": [
           {
            "colorbar": {
             "outlinewidth": 0,
             "ticks": ""
            },
            "colorscale": [
             [
              0,
              "#0d0887"
             ],
             [
              0.1111111111111111,
              "#46039f"
             ],
             [
              0.2222222222222222,
              "#7201a8"
             ],
             [
              0.3333333333333333,
              "#9c179e"
             ],
             [
              0.4444444444444444,
              "#bd3786"
             ],
             [
              0.5555555555555556,
              "#d8576b"
             ],
             [
              0.6666666666666666,
              "#ed7953"
             ],
             [
              0.7777777777777778,
              "#fb9f3a"
             ],
             [
              0.8888888888888888,
              "#fdca26"
             ],
             [
              1,
              "#f0f921"
             ]
            ],
            "type": "contour"
           }
          ],
          "contourcarpet": [
           {
            "colorbar": {
             "outlinewidth": 0,
             "ticks": ""
            },
            "type": "contourcarpet"
           }
          ],
          "heatmap": [
           {
            "colorbar": {
             "outlinewidth": 0,
             "ticks": ""
            },
            "colorscale": [
             [
              0,
              "#0d0887"
             ],
             [
              0.1111111111111111,
              "#46039f"
             ],
             [
              0.2222222222222222,
              "#7201a8"
             ],
             [
              0.3333333333333333,
              "#9c179e"
             ],
             [
              0.4444444444444444,
              "#bd3786"
             ],
             [
              0.5555555555555556,
              "#d8576b"
             ],
             [
              0.6666666666666666,
              "#ed7953"
             ],
             [
              0.7777777777777778,
              "#fb9f3a"
             ],
             [
              0.8888888888888888,
              "#fdca26"
             ],
             [
              1,
              "#f0f921"
             ]
            ],
            "type": "heatmap"
           }
          ],
          "heatmapgl": [
           {
            "colorbar": {
             "outlinewidth": 0,
             "ticks": ""
            },
            "colorscale": [
             [
              0,
              "#0d0887"
             ],
             [
              0.1111111111111111,
              "#46039f"
             ],
             [
              0.2222222222222222,
              "#7201a8"
             ],
             [
              0.3333333333333333,
              "#9c179e"
             ],
             [
              0.4444444444444444,
              "#bd3786"
             ],
             [
              0.5555555555555556,
              "#d8576b"
             ],
             [
              0.6666666666666666,
              "#ed7953"
             ],
             [
              0.7777777777777778,
              "#fb9f3a"
             ],
             [
              0.8888888888888888,
              "#fdca26"
             ],
             [
              1,
              "#f0f921"
             ]
            ],
            "type": "heatmapgl"
           }
          ],
          "histogram": [
           {
            "marker": {
             "pattern": {
              "fillmode": "overlay",
              "size": 10,
              "solidity": 0.2
             }
            },
            "type": "histogram"
           }
          ],
          "histogram2d": [
           {
            "colorbar": {
             "outlinewidth": 0,
             "ticks": ""
            },
            "colorscale": [
             [
              0,
              "#0d0887"
             ],
             [
              0.1111111111111111,
              "#46039f"
             ],
             [
              0.2222222222222222,
              "#7201a8"
             ],
             [
              0.3333333333333333,
              "#9c179e"
             ],
             [
              0.4444444444444444,
              "#bd3786"
             ],
             [
              0.5555555555555556,
              "#d8576b"
             ],
             [
              0.6666666666666666,
              "#ed7953"
             ],
             [
              0.7777777777777778,
              "#fb9f3a"
             ],
             [
              0.8888888888888888,
              "#fdca26"
             ],
             [
              1,
              "#f0f921"
             ]
            ],
            "type": "histogram2d"
           }
          ],
          "histogram2dcontour": [
           {
            "colorbar": {
             "outlinewidth": 0,
             "ticks": ""
            },
            "colorscale": [
             [
              0,
              "#0d0887"
             ],
             [
              0.1111111111111111,
              "#46039f"
             ],
             [
              0.2222222222222222,
              "#7201a8"
             ],
             [
              0.3333333333333333,
              "#9c179e"
             ],
             [
              0.4444444444444444,
              "#bd3786"
             ],
             [
              0.5555555555555556,
              "#d8576b"
             ],
             [
              0.6666666666666666,
              "#ed7953"
             ],
             [
              0.7777777777777778,
              "#fb9f3a"
             ],
             [
              0.8888888888888888,
              "#fdca26"
             ],
             [
              1,
              "#f0f921"
             ]
            ],
            "type": "histogram2dcontour"
           }
          ],
          "mesh3d": [
           {
            "colorbar": {
             "outlinewidth": 0,
             "ticks": ""
            },
            "type": "mesh3d"
           }
          ],
          "parcoords": [
           {
            "line": {
             "colorbar": {
              "outlinewidth": 0,
              "ticks": ""
             }
            },
            "type": "parcoords"
           }
          ],
          "pie": [
           {
            "automargin": true,
            "type": "pie"
           }
          ],
          "scatter": [
           {
            "fillpattern": {
             "fillmode": "overlay",
             "size": 10,
             "solidity": 0.2
            },
            "type": "scatter"
           }
          ],
          "scatter3d": [
           {
            "line": {
             "colorbar": {
              "outlinewidth": 0,
              "ticks": ""
             }
            },
            "marker": {
             "colorbar": {
              "outlinewidth": 0,
              "ticks": ""
             }
            },
            "type": "scatter3d"
           }
          ],
          "scattercarpet": [
           {
            "marker": {
             "colorbar": {
              "outlinewidth": 0,
              "ticks": ""
             }
            },
            "type": "scattercarpet"
           }
          ],
          "scattergeo": [
           {
            "marker": {
             "colorbar": {
              "outlinewidth": 0,
              "ticks": ""
             }
            },
            "type": "scattergeo"
           }
          ],
          "scattergl": [
           {
            "marker": {
             "colorbar": {
              "outlinewidth": 0,
              "ticks": ""
             }
            },
            "type": "scattergl"
           }
          ],
          "scattermapbox": [
           {
            "marker": {
             "colorbar": {
              "outlinewidth": 0,
              "ticks": ""
             }
            },
            "type": "scattermapbox"
           }
          ],
          "scatterpolar": [
           {
            "marker": {
             "colorbar": {
              "outlinewidth": 0,
              "ticks": ""
             }
            },
            "type": "scatterpolar"
           }
          ],
          "scatterpolargl": [
           {
            "marker": {
             "colorbar": {
              "outlinewidth": 0,
              "ticks": ""
             }
            },
            "type": "scatterpolargl"
           }
          ],
          "scatterternary": [
           {
            "marker": {
             "colorbar": {
              "outlinewidth": 0,
              "ticks": ""
             }
            },
            "type": "scatterternary"
           }
          ],
          "surface": [
           {
            "colorbar": {
             "outlinewidth": 0,
             "ticks": ""
            },
            "colorscale": [
             [
              0,
              "#0d0887"
             ],
             [
              0.1111111111111111,
              "#46039f"
             ],
             [
              0.2222222222222222,
              "#7201a8"
             ],
             [
              0.3333333333333333,
              "#9c179e"
             ],
             [
              0.4444444444444444,
              "#bd3786"
             ],
             [
              0.5555555555555556,
              "#d8576b"
             ],
             [
              0.6666666666666666,
              "#ed7953"
             ],
             [
              0.7777777777777778,
              "#fb9f3a"
             ],
             [
              0.8888888888888888,
              "#fdca26"
             ],
             [
              1,
              "#f0f921"
             ]
            ],
            "type": "surface"
           }
          ],
          "table": [
           {
            "cells": {
             "fill": {
              "color": "#EBF0F8"
             },
             "line": {
              "color": "white"
             }
            },
            "header": {
             "fill": {
              "color": "#C8D4E3"
             },
             "line": {
              "color": "white"
             }
            },
            "type": "table"
           }
          ]
         },
         "layout": {
          "annotationdefaults": {
           "arrowcolor": "#2a3f5f",
           "arrowhead": 0,
           "arrowwidth": 1
          },
          "autotypenumbers": "strict",
          "coloraxis": {
           "colorbar": {
            "outlinewidth": 0,
            "ticks": ""
           }
          },
          "colorscale": {
           "diverging": [
            [
             0,
             "#8e0152"
            ],
            [
             0.1,
             "#c51b7d"
            ],
            [
             0.2,
             "#de77ae"
            ],
            [
             0.3,
             "#f1b6da"
            ],
            [
             0.4,
             "#fde0ef"
            ],
            [
             0.5,
             "#f7f7f7"
            ],
            [
             0.6,
             "#e6f5d0"
            ],
            [
             0.7,
             "#b8e186"
            ],
            [
             0.8,
             "#7fbc41"
            ],
            [
             0.9,
             "#4d9221"
            ],
            [
             1,
             "#276419"
            ]
           ],
           "sequential": [
            [
             0,
             "#0d0887"
            ],
            [
             0.1111111111111111,
             "#46039f"
            ],
            [
             0.2222222222222222,
             "#7201a8"
            ],
            [
             0.3333333333333333,
             "#9c179e"
            ],
            [
             0.4444444444444444,
             "#bd3786"
            ],
            [
             0.5555555555555556,
             "#d8576b"
            ],
            [
             0.6666666666666666,
             "#ed7953"
            ],
            [
             0.7777777777777778,
             "#fb9f3a"
            ],
            [
             0.8888888888888888,
             "#fdca26"
            ],
            [
             1,
             "#f0f921"
            ]
           ],
           "sequentialminus": [
            [
             0,
             "#0d0887"
            ],
            [
             0.1111111111111111,
             "#46039f"
            ],
            [
             0.2222222222222222,
             "#7201a8"
            ],
            [
             0.3333333333333333,
             "#9c179e"
            ],
            [
             0.4444444444444444,
             "#bd3786"
            ],
            [
             0.5555555555555556,
             "#d8576b"
            ],
            [
             0.6666666666666666,
             "#ed7953"
            ],
            [
             0.7777777777777778,
             "#fb9f3a"
            ],
            [
             0.8888888888888888,
             "#fdca26"
            ],
            [
             1,
             "#f0f921"
            ]
           ]
          },
          "colorway": [
           "#636efa",
           "#EF553B",
           "#00cc96",
           "#ab63fa",
           "#FFA15A",
           "#19d3f3",
           "#FF6692",
           "#B6E880",
           "#FF97FF",
           "#FECB52"
          ],
          "font": {
           "color": "#2a3f5f"
          },
          "geo": {
           "bgcolor": "white",
           "lakecolor": "white",
           "landcolor": "white",
           "showlakes": true,
           "showland": true,
           "subunitcolor": "#C8D4E3"
          },
          "hoverlabel": {
           "align": "left"
          },
          "hovermode": "closest",
          "mapbox": {
           "style": "light"
          },
          "paper_bgcolor": "white",
          "plot_bgcolor": "white",
          "polar": {
           "angularaxis": {
            "gridcolor": "#EBF0F8",
            "linecolor": "#EBF0F8",
            "ticks": ""
           },
           "bgcolor": "white",
           "radialaxis": {
            "gridcolor": "#EBF0F8",
            "linecolor": "#EBF0F8",
            "ticks": ""
           }
          },
          "scene": {
           "xaxis": {
            "backgroundcolor": "white",
            "gridcolor": "#DFE8F3",
            "gridwidth": 2,
            "linecolor": "#EBF0F8",
            "showbackground": true,
            "ticks": "",
            "zerolinecolor": "#EBF0F8"
           },
           "yaxis": {
            "backgroundcolor": "white",
            "gridcolor": "#DFE8F3",
            "gridwidth": 2,
            "linecolor": "#EBF0F8",
            "showbackground": true,
            "ticks": "",
            "zerolinecolor": "#EBF0F8"
           },
           "zaxis": {
            "backgroundcolor": "white",
            "gridcolor": "#DFE8F3",
            "gridwidth": 2,
            "linecolor": "#EBF0F8",
            "showbackground": true,
            "ticks": "",
            "zerolinecolor": "#EBF0F8"
           }
          },
          "shapedefaults": {
           "line": {
            "color": "#2a3f5f"
           }
          },
          "ternary": {
           "aaxis": {
            "gridcolor": "#DFE8F3",
            "linecolor": "#A2B1C6",
            "ticks": ""
           },
           "baxis": {
            "gridcolor": "#DFE8F3",
            "linecolor": "#A2B1C6",
            "ticks": ""
           },
           "bgcolor": "white",
           "caxis": {
            "gridcolor": "#DFE8F3",
            "linecolor": "#A2B1C6",
            "ticks": ""
           }
          },
          "title": {
           "x": 0.05
          },
          "xaxis": {
           "automargin": true,
           "gridcolor": "#EBF0F8",
           "linecolor": "#EBF0F8",
           "ticks": "",
           "title": {
            "standoff": 15
           },
           "zerolinecolor": "#EBF0F8",
           "zerolinewidth": 2
          },
          "yaxis": {
           "automargin": true,
           "gridcolor": "#EBF0F8",
           "linecolor": "#EBF0F8",
           "ticks": "",
           "title": {
            "standoff": 15
           },
           "zerolinecolor": "#EBF0F8",
           "zerolinewidth": 2
          }
         }
        },
        "title": {
         "text": "Overall Accuracy With Best Model Configuration"
        },
        "width": 900,
        "xaxis": {
         "title": {
          "text": "Tuning Approach"
         }
        },
        "yaxis": {
         "title": {
          "text": "Accuracy (%)"
         }
        }
       }
      },
      "text/html": [
       "<div>                            <div id=\"ee8abae5-6f4e-4f53-a065-2080e3cee61d\" class=\"plotly-graph-div\" style=\"height:450px; width:900px;\"></div>            <script type=\"text/javascript\">                require([\"plotly\"], function(Plotly) {                    window.PLOTLYENV=window.PLOTLYENV || {};                                    if (document.getElementById(\"ee8abae5-6f4e-4f53-a065-2080e3cee61d\")) {                    Plotly.newPlot(                        \"ee8abae5-6f4e-4f53-a065-2080e3cee61d\",                        [{\"boxpoints\":\"all\",\"fillcolor\":\"#46039f\",\"jitter\":0.5,\"line\":{\"width\":1},\"marker\":{\"color\":\"black\",\"size\":2},\"name\":\"Default\",\"opacity\":0.8,\"whiskerwidth\":0.2,\"y\":[81.43,81.65,82.52000000000001,82.36,83.44,81.65,82.59,81.10000000000001,80.84,81.85,81.69,83.03,81.38,82.89999999999999,82.71,82.92,81.69,82.31,81.64,82.14],\"type\":\"box\"},{\"boxpoints\":\"all\",\"fillcolor\":\"#9c179e\",\"jitter\":0.5,\"line\":{\"width\":1},\"marker\":{\"color\":\"black\",\"size\":2},\"name\":\"Random Search\",\"opacity\":0.8,\"whiskerwidth\":0.2,\"y\":[91.73,91.19,92.13,92.0,91.23,91.03999999999999,91.75,91.85,91.69,91.47999999999999,90.0,91.94,91.88,91.35,91.94,91.81,91.10000000000001,91.11,91.78,91.74],\"type\":\"box\"},{\"boxpoints\":\"all\",\"fillcolor\":\"#d8576b\",\"jitter\":0.5,\"line\":{\"width\":1},\"marker\":{\"color\":\"black\",\"size\":2},\"name\":\"Hyperband\",\"opacity\":0.8,\"whiskerwidth\":0.2,\"y\":[91.61,90.58,90.36,90.24,90.84,90.46,90.93,90.66,90.72,91.05,91.22,90.42,91.17,90.86,90.64,91.18,90.68,90.74,90.42999999999999,91.23],\"type\":\"box\"},{\"boxpoints\":\"all\",\"fillcolor\":\"#fb9f3a\",\"jitter\":0.5,\"line\":{\"width\":1},\"marker\":{\"color\":\"black\",\"size\":2},\"name\":\"SMBO\",\"opacity\":0.8,\"whiskerwidth\":0.2,\"y\":[91.13,91.14999999999999,91.96,91.38,91.60000000000001,91.45,92.34,91.79,91.67999999999999,92.04,90.5,92.0,91.59,91.62,91.36999999999999,92.12,91.84,91.2,91.35,92.09],\"type\":\"box\"}],                        {\"template\":{\"data\":{\"histogram2dcontour\":[{\"type\":\"histogram2dcontour\",\"colorbar\":{\"outlinewidth\":0,\"ticks\":\"\"},\"colorscale\":[[0.0,\"#0d0887\"],[0.1111111111111111,\"#46039f\"],[0.2222222222222222,\"#7201a8\"],[0.3333333333333333,\"#9c179e\"],[0.4444444444444444,\"#bd3786\"],[0.5555555555555556,\"#d8576b\"],[0.6666666666666666,\"#ed7953\"],[0.7777777777777778,\"#fb9f3a\"],[0.8888888888888888,\"#fdca26\"],[1.0,\"#f0f921\"]]}],\"choropleth\":[{\"type\":\"choropleth\",\"colorbar\":{\"outlinewidth\":0,\"ticks\":\"\"}}],\"histogram2d\":[{\"type\":\"histogram2d\",\"colorbar\":{\"outlinewidth\":0,\"ticks\":\"\"},\"colorscale\":[[0.0,\"#0d0887\"],[0.1111111111111111,\"#46039f\"],[0.2222222222222222,\"#7201a8\"],[0.3333333333333333,\"#9c179e\"],[0.4444444444444444,\"#bd3786\"],[0.5555555555555556,\"#d8576b\"],[0.6666666666666666,\"#ed7953\"],[0.7777777777777778,\"#fb9f3a\"],[0.8888888888888888,\"#fdca26\"],[1.0,\"#f0f921\"]]}],\"heatmap\":[{\"type\":\"heatmap\",\"colorbar\":{\"outlinewidth\":0,\"ticks\":\"\"},\"colorscale\":[[0.0,\"#0d0887\"],[0.1111111111111111,\"#46039f\"],[0.2222222222222222,\"#7201a8\"],[0.3333333333333333,\"#9c179e\"],[0.4444444444444444,\"#bd3786\"],[0.5555555555555556,\"#d8576b\"],[0.6666666666666666,\"#ed7953\"],[0.7777777777777778,\"#fb9f3a\"],[0.8888888888888888,\"#fdca26\"],[1.0,\"#f0f921\"]]}],\"heatmapgl\":[{\"type\":\"heatmapgl\",\"colorbar\":{\"outlinewidth\":0,\"ticks\":\"\"},\"colorscale\":[[0.0,\"#0d0887\"],[0.1111111111111111,\"#46039f\"],[0.2222222222222222,\"#7201a8\"],[0.3333333333333333,\"#9c179e\"],[0.4444444444444444,\"#bd3786\"],[0.5555555555555556,\"#d8576b\"],[0.6666666666666666,\"#ed7953\"],[0.7777777777777778,\"#fb9f3a\"],[0.8888888888888888,\"#fdca26\"],[1.0,\"#f0f921\"]]}],\"contourcarpet\":[{\"type\":\"contourcarpet\",\"colorbar\":{\"outlinewidth\":0,\"ticks\":\"\"}}],\"contour\":[{\"type\":\"contour\",\"colorbar\":{\"outlinewidth\":0,\"ticks\":\"\"},\"colorscale\":[[0.0,\"#0d0887\"],[0.1111111111111111,\"#46039f\"],[0.2222222222222222,\"#7201a8\"],[0.3333333333333333,\"#9c179e\"],[0.4444444444444444,\"#bd3786\"],[0.5555555555555556,\"#d8576b\"],[0.6666666666666666,\"#ed7953\"],[0.7777777777777778,\"#fb9f3a\"],[0.8888888888888888,\"#fdca26\"],[1.0,\"#f0f921\"]]}],\"surface\":[{\"type\":\"surface\",\"colorbar\":{\"outlinewidth\":0,\"ticks\":\"\"},\"colorscale\":[[0.0,\"#0d0887\"],[0.1111111111111111,\"#46039f\"],[0.2222222222222222,\"#7201a8\"],[0.3333333333333333,\"#9c179e\"],[0.4444444444444444,\"#bd3786\"],[0.5555555555555556,\"#d8576b\"],[0.6666666666666666,\"#ed7953\"],[0.7777777777777778,\"#fb9f3a\"],[0.8888888888888888,\"#fdca26\"],[1.0,\"#f0f921\"]]}],\"mesh3d\":[{\"type\":\"mesh3d\",\"colorbar\":{\"outlinewidth\":0,\"ticks\":\"\"}}],\"scatter\":[{\"fillpattern\":{\"fillmode\":\"overlay\",\"size\":10,\"solidity\":0.2},\"type\":\"scatter\"}],\"parcoords\":[{\"type\":\"parcoords\",\"line\":{\"colorbar\":{\"outlinewidth\":0,\"ticks\":\"\"}}}],\"scatterpolargl\":[{\"type\":\"scatterpolargl\",\"marker\":{\"colorbar\":{\"outlinewidth\":0,\"ticks\":\"\"}}}],\"bar\":[{\"error_x\":{\"color\":\"#2a3f5f\"},\"error_y\":{\"color\":\"#2a3f5f\"},\"marker\":{\"line\":{\"color\":\"white\",\"width\":0.5},\"pattern\":{\"fillmode\":\"overlay\",\"size\":10,\"solidity\":0.2}},\"type\":\"bar\"}],\"scattergeo\":[{\"type\":\"scattergeo\",\"marker\":{\"colorbar\":{\"outlinewidth\":0,\"ticks\":\"\"}}}],\"scatterpolar\":[{\"type\":\"scatterpolar\",\"marker\":{\"colorbar\":{\"outlinewidth\":0,\"ticks\":\"\"}}}],\"histogram\":[{\"marker\":{\"pattern\":{\"fillmode\":\"overlay\",\"size\":10,\"solidity\":0.2}},\"type\":\"histogram\"}],\"scattergl\":[{\"type\":\"scattergl\",\"marker\":{\"colorbar\":{\"outlinewidth\":0,\"ticks\":\"\"}}}],\"scatter3d\":[{\"type\":\"scatter3d\",\"line\":{\"colorbar\":{\"outlinewidth\":0,\"ticks\":\"\"}},\"marker\":{\"colorbar\":{\"outlinewidth\":0,\"ticks\":\"\"}}}],\"scattermapbox\":[{\"type\":\"scattermapbox\",\"marker\":{\"colorbar\":{\"outlinewidth\":0,\"ticks\":\"\"}}}],\"scatterternary\":[{\"type\":\"scatterternary\",\"marker\":{\"colorbar\":{\"outlinewidth\":0,\"ticks\":\"\"}}}],\"scattercarpet\":[{\"type\":\"scattercarpet\",\"marker\":{\"colorbar\":{\"outlinewidth\":0,\"ticks\":\"\"}}}],\"carpet\":[{\"aaxis\":{\"endlinecolor\":\"#2a3f5f\",\"gridcolor\":\"#C8D4E3\",\"linecolor\":\"#C8D4E3\",\"minorgridcolor\":\"#C8D4E3\",\"startlinecolor\":\"#2a3f5f\"},\"baxis\":{\"endlinecolor\":\"#2a3f5f\",\"gridcolor\":\"#C8D4E3\",\"linecolor\":\"#C8D4E3\",\"minorgridcolor\":\"#C8D4E3\",\"startlinecolor\":\"#2a3f5f\"},\"type\":\"carpet\"}],\"table\":[{\"cells\":{\"fill\":{\"color\":\"#EBF0F8\"},\"line\":{\"color\":\"white\"}},\"header\":{\"fill\":{\"color\":\"#C8D4E3\"},\"line\":{\"color\":\"white\"}},\"type\":\"table\"}],\"barpolar\":[{\"marker\":{\"line\":{\"color\":\"white\",\"width\":0.5},\"pattern\":{\"fillmode\":\"overlay\",\"size\":10,\"solidity\":0.2}},\"type\":\"barpolar\"}],\"pie\":[{\"automargin\":true,\"type\":\"pie\"}]},\"layout\":{\"autotypenumbers\":\"strict\",\"colorway\":[\"#636efa\",\"#EF553B\",\"#00cc96\",\"#ab63fa\",\"#FFA15A\",\"#19d3f3\",\"#FF6692\",\"#B6E880\",\"#FF97FF\",\"#FECB52\"],\"font\":{\"color\":\"#2a3f5f\"},\"hovermode\":\"closest\",\"hoverlabel\":{\"align\":\"left\"},\"paper_bgcolor\":\"white\",\"plot_bgcolor\":\"white\",\"polar\":{\"bgcolor\":\"white\",\"angularaxis\":{\"gridcolor\":\"#EBF0F8\",\"linecolor\":\"#EBF0F8\",\"ticks\":\"\"},\"radialaxis\":{\"gridcolor\":\"#EBF0F8\",\"linecolor\":\"#EBF0F8\",\"ticks\":\"\"}},\"ternary\":{\"bgcolor\":\"white\",\"aaxis\":{\"gridcolor\":\"#DFE8F3\",\"linecolor\":\"#A2B1C6\",\"ticks\":\"\"},\"baxis\":{\"gridcolor\":\"#DFE8F3\",\"linecolor\":\"#A2B1C6\",\"ticks\":\"\"},\"caxis\":{\"gridcolor\":\"#DFE8F3\",\"linecolor\":\"#A2B1C6\",\"ticks\":\"\"}},\"coloraxis\":{\"colorbar\":{\"outlinewidth\":0,\"ticks\":\"\"}},\"colorscale\":{\"sequential\":[[0.0,\"#0d0887\"],[0.1111111111111111,\"#46039f\"],[0.2222222222222222,\"#7201a8\"],[0.3333333333333333,\"#9c179e\"],[0.4444444444444444,\"#bd3786\"],[0.5555555555555556,\"#d8576b\"],[0.6666666666666666,\"#ed7953\"],[0.7777777777777778,\"#fb9f3a\"],[0.8888888888888888,\"#fdca26\"],[1.0,\"#f0f921\"]],\"sequentialminus\":[[0.0,\"#0d0887\"],[0.1111111111111111,\"#46039f\"],[0.2222222222222222,\"#7201a8\"],[0.3333333333333333,\"#9c179e\"],[0.4444444444444444,\"#bd3786\"],[0.5555555555555556,\"#d8576b\"],[0.6666666666666666,\"#ed7953\"],[0.7777777777777778,\"#fb9f3a\"],[0.8888888888888888,\"#fdca26\"],[1.0,\"#f0f921\"]],\"diverging\":[[0,\"#8e0152\"],[0.1,\"#c51b7d\"],[0.2,\"#de77ae\"],[0.3,\"#f1b6da\"],[0.4,\"#fde0ef\"],[0.5,\"#f7f7f7\"],[0.6,\"#e6f5d0\"],[0.7,\"#b8e186\"],[0.8,\"#7fbc41\"],[0.9,\"#4d9221\"],[1,\"#276419\"]]},\"xaxis\":{\"gridcolor\":\"#EBF0F8\",\"linecolor\":\"#EBF0F8\",\"ticks\":\"\",\"title\":{\"standoff\":15},\"zerolinecolor\":\"#EBF0F8\",\"automargin\":true,\"zerolinewidth\":2},\"yaxis\":{\"gridcolor\":\"#EBF0F8\",\"linecolor\":\"#EBF0F8\",\"ticks\":\"\",\"title\":{\"standoff\":15},\"zerolinecolor\":\"#EBF0F8\",\"automargin\":true,\"zerolinewidth\":2},\"scene\":{\"xaxis\":{\"backgroundcolor\":\"white\",\"gridcolor\":\"#DFE8F3\",\"linecolor\":\"#EBF0F8\",\"showbackground\":true,\"ticks\":\"\",\"zerolinecolor\":\"#EBF0F8\",\"gridwidth\":2},\"yaxis\":{\"backgroundcolor\":\"white\",\"gridcolor\":\"#DFE8F3\",\"linecolor\":\"#EBF0F8\",\"showbackground\":true,\"ticks\":\"\",\"zerolinecolor\":\"#EBF0F8\",\"gridwidth\":2},\"zaxis\":{\"backgroundcolor\":\"white\",\"gridcolor\":\"#DFE8F3\",\"linecolor\":\"#EBF0F8\",\"showbackground\":true,\"ticks\":\"\",\"zerolinecolor\":\"#EBF0F8\",\"gridwidth\":2}},\"shapedefaults\":{\"line\":{\"color\":\"#2a3f5f\"}},\"annotationdefaults\":{\"arrowcolor\":\"#2a3f5f\",\"arrowhead\":0,\"arrowwidth\":1},\"geo\":{\"bgcolor\":\"white\",\"landcolor\":\"white\",\"subunitcolor\":\"#C8D4E3\",\"showland\":true,\"showlakes\":true,\"lakecolor\":\"white\"},\"title\":{\"x\":0.05},\"mapbox\":{\"style\":\"light\"}}},\"title\":{\"text\":\"Overall Accuracy With Best Model Configuration\"},\"yaxis\":{\"title\":{\"text\":\"Accuracy (%)\"}},\"xaxis\":{\"title\":{\"text\":\"Tuning Approach\"}},\"showlegend\":true,\"width\":900,\"height\":450},                        {\"responsive\": true}                    ).then(function(){\n",
       "                            \n",
       "var gd = document.getElementById('ee8abae5-6f4e-4f53-a065-2080e3cee61d');\n",
       "var x = new MutationObserver(function (mutations, observer) {{\n",
       "        var display = window.getComputedStyle(gd).display;\n",
       "        if (!display || display === 'none') {{\n",
       "            console.log([gd, 'removed!']);\n",
       "            Plotly.purge(gd);\n",
       "            observer.disconnect();\n",
       "        }}\n",
       "}});\n",
       "\n",
       "// Listen for the removal of the full notebook cells\n",
       "var notebookContainer = gd.closest('#notebook-container');\n",
       "if (notebookContainer) {{\n",
       "    x.observe(notebookContainer, {childList: true});\n",
       "}}\n",
       "\n",
       "// Listen for the clearing of the current output cell\n",
       "var outputEl = gd.closest('.output');\n",
       "if (outputEl) {{\n",
       "    x.observe(outputEl, {childList: true});\n",
       "}}\n",
       "\n",
       "                        })                };                });            </script>        </div>"
      ]
     },
     "metadata": {},
     "output_type": "display_data"
    }
   ],
   "source": [
    "x_data = ['Default', 'Random Search', 'Hyperband', 'SMBO']\n",
    "y_data = [default_reps['overall'] * 100, e7_reps['overall'] * 100, e6_reps['overall'] * 100, e8_reps['overall'] * 100]\n",
    "# colors = ['#1b0c41','#781c6d','#cf4446','#fb9b06',]\n",
    "colors = ['#46039f','#9c179e','#d8576b','#fb9f3a']\n",
    "\n",
    "fig = go.Figure()\n",
    "for xd, yd, cls in zip(x_data, y_data, colors):\n",
    "        fig.add_trace(go.Box(\n",
    "            y=yd,\n",
    "            name=xd,\n",
    "            boxpoints='all',\n",
    "            jitter=0.5,\n",
    "            whiskerwidth=0.2,\n",
    "            fillcolor=cls,\n",
    "            opacity=0.8,\n",
    "            marker_size=2,\n",
    "            marker_color='black',\n",
    "            line_width=1)\n",
    "        )\n",
    "fig.update_layout(\n",
    "    title='Overall Accuracy With Best Model Configuration',\n",
    "    yaxis_title='Accuracy (%)',\n",
    "    xaxis_title='Tuning Approach',\n",
    "    showlegend=True,\n",
    "    width=900,\n",
    "    height=450\n",
    ")\n",
    "fig.show()"
   ]
  },
  {
   "cell_type": "markdown",
   "metadata": {
    "slideshow": {
     "slide_type": "subslide"
    }
   },
   "source": [
    "<div style=\"display: flex; justify-content: space-between; align-items: center; width: 100%;\">\n",
    "    <span style=\"color: #ff6900; font-weight: bold; font-size: 25px;\">Per Class Accuracy Score Improvement</span>\n",
    "    <span style=\"text-align: right; font-size: 12px;\">Lena Hammerer | Luisa Ibele | Hanna Steinwender</span>\n",
    "</div>\n",
    "\n",
    "- default configuration struggles with some classes in particular (Pullover, Shirt, etc.)\n",
    "- no single configuration is best in classifying all different types of fashion items"
   ]
  },
  {
   "cell_type": "code",
   "execution_count": 30,
   "metadata": {
    "slideshow": {
     "slide_type": "fragment"
    }
   },
   "outputs": [
    {
     "data": {
      "application/vnd.plotly.v1+json": {
       "config": {
        "plotlyServerURL": "https://plot.ly"
       },
       "data": [
        {
         "marker": {
          "color": "#46039f",
          "line": {
           "color": "black"
          }
         },
         "name": "Default",
         "opacity": 0.8,
         "type": "bar",
         "x": [
          "T-shirt/top",
          "Trouser",
          "Pullover",
          "Dress",
          "Coat",
          "Sandal",
          "Shirt",
          "Sneaker",
          "Bag",
          "Ankle boot"
         ],
         "y": [
          80.29,
          94.55499999999999,
          68.295,
          85.03999999999999,
          73.16499999999999,
          91.485,
          50.040000000000006,
          90.88999999999999,
          93.87,
          93.29
         ]
        },
        {
         "marker": {
          "color": "#9c179e",
          "line": {
           "color": "black"
          }
         },
         "name": "Random Search",
         "opacity": 0.8,
         "type": "bar",
         "x": [
          "T-shirt/top",
          "Trouser",
          "Pullover",
          "Dress",
          "Coat",
          "Sandal",
          "Shirt",
          "Sneaker",
          "Bag",
          "Ankle boot"
         ],
         "y": [
          86.00999999999999,
          98.43499999999999,
          87.1,
          92.29499999999999,
          85.85499999999999,
          98.06,
          75.86,
          97.59,
          98.18999999999998,
          95.975
         ]
        },
        {
         "marker": {
          "color": "#d8576b",
          "line": {
           "color": "black"
          }
         },
         "name": "Hyperband",
         "opacity": 0.8,
         "type": "bar",
         "x": [
          "T-shirt/top",
          "Trouser",
          "Pullover",
          "Dress",
          "Coat",
          "Sandal",
          "Shirt",
          "Sneaker",
          "Bag",
          "Ankle boot"
         ],
         "y": [
          84.60499999999999,
          98.30499999999999,
          86.075,
          90.96,
          84.49000000000001,
          97.78999999999999,
          74.555,
          97.055,
          97.84000000000002,
          96.33500000000001
         ]
        },
        {
         "marker": {
          "color": "#fb9f3a",
          "line": {
           "color": "black"
          }
         },
         "name": "SMBO",
         "opacity": 0.8,
         "type": "bar",
         "x": [
          "T-shirt/top",
          "Trouser",
          "Pullover",
          "Dress",
          "Coat",
          "Sandal",
          "Shirt",
          "Sneaker",
          "Bag",
          "Ankle boot"
         ],
         "y": [
          86.44,
          98.55,
          87.79499999999999,
          91.795,
          88.52,
          98.41,
          72.64000000000001,
          96.985,
          98.45499999999998,
          96.51
         ]
        }
       ],
       "layout": {
        "barmode": "group",
        "height": 450,
        "showlegend": true,
        "template": {
         "data": {
          "bar": [
           {
            "error_x": {
             "color": "#2a3f5f"
            },
            "error_y": {
             "color": "#2a3f5f"
            },
            "marker": {
             "line": {
              "color": "white",
              "width": 0.5
             },
             "pattern": {
              "fillmode": "overlay",
              "size": 10,
              "solidity": 0.2
             }
            },
            "type": "bar"
           }
          ],
          "barpolar": [
           {
            "marker": {
             "line": {
              "color": "white",
              "width": 0.5
             },
             "pattern": {
              "fillmode": "overlay",
              "size": 10,
              "solidity": 0.2
             }
            },
            "type": "barpolar"
           }
          ],
          "carpet": [
           {
            "aaxis": {
             "endlinecolor": "#2a3f5f",
             "gridcolor": "#C8D4E3",
             "linecolor": "#C8D4E3",
             "minorgridcolor": "#C8D4E3",
             "startlinecolor": "#2a3f5f"
            },
            "baxis": {
             "endlinecolor": "#2a3f5f",
             "gridcolor": "#C8D4E3",
             "linecolor": "#C8D4E3",
             "minorgridcolor": "#C8D4E3",
             "startlinecolor": "#2a3f5f"
            },
            "type": "carpet"
           }
          ],
          "choropleth": [
           {
            "colorbar": {
             "outlinewidth": 0,
             "ticks": ""
            },
            "type": "choropleth"
           }
          ],
          "contour": [
           {
            "colorbar": {
             "outlinewidth": 0,
             "ticks": ""
            },
            "colorscale": [
             [
              0,
              "#0d0887"
             ],
             [
              0.1111111111111111,
              "#46039f"
             ],
             [
              0.2222222222222222,
              "#7201a8"
             ],
             [
              0.3333333333333333,
              "#9c179e"
             ],
             [
              0.4444444444444444,
              "#bd3786"
             ],
             [
              0.5555555555555556,
              "#d8576b"
             ],
             [
              0.6666666666666666,
              "#ed7953"
             ],
             [
              0.7777777777777778,
              "#fb9f3a"
             ],
             [
              0.8888888888888888,
              "#fdca26"
             ],
             [
              1,
              "#f0f921"
             ]
            ],
            "type": "contour"
           }
          ],
          "contourcarpet": [
           {
            "colorbar": {
             "outlinewidth": 0,
             "ticks": ""
            },
            "type": "contourcarpet"
           }
          ],
          "heatmap": [
           {
            "colorbar": {
             "outlinewidth": 0,
             "ticks": ""
            },
            "colorscale": [
             [
              0,
              "#0d0887"
             ],
             [
              0.1111111111111111,
              "#46039f"
             ],
             [
              0.2222222222222222,
              "#7201a8"
             ],
             [
              0.3333333333333333,
              "#9c179e"
             ],
             [
              0.4444444444444444,
              "#bd3786"
             ],
             [
              0.5555555555555556,
              "#d8576b"
             ],
             [
              0.6666666666666666,
              "#ed7953"
             ],
             [
              0.7777777777777778,
              "#fb9f3a"
             ],
             [
              0.8888888888888888,
              "#fdca26"
             ],
             [
              1,
              "#f0f921"
             ]
            ],
            "type": "heatmap"
           }
          ],
          "heatmapgl": [
           {
            "colorbar": {
             "outlinewidth": 0,
             "ticks": ""
            },
            "colorscale": [
             [
              0,
              "#0d0887"
             ],
             [
              0.1111111111111111,
              "#46039f"
             ],
             [
              0.2222222222222222,
              "#7201a8"
             ],
             [
              0.3333333333333333,
              "#9c179e"
             ],
             [
              0.4444444444444444,
              "#bd3786"
             ],
             [
              0.5555555555555556,
              "#d8576b"
             ],
             [
              0.6666666666666666,
              "#ed7953"
             ],
             [
              0.7777777777777778,
              "#fb9f3a"
             ],
             [
              0.8888888888888888,
              "#fdca26"
             ],
             [
              1,
              "#f0f921"
             ]
            ],
            "type": "heatmapgl"
           }
          ],
          "histogram": [
           {
            "marker": {
             "pattern": {
              "fillmode": "overlay",
              "size": 10,
              "solidity": 0.2
             }
            },
            "type": "histogram"
           }
          ],
          "histogram2d": [
           {
            "colorbar": {
             "outlinewidth": 0,
             "ticks": ""
            },
            "colorscale": [
             [
              0,
              "#0d0887"
             ],
             [
              0.1111111111111111,
              "#46039f"
             ],
             [
              0.2222222222222222,
              "#7201a8"
             ],
             [
              0.3333333333333333,
              "#9c179e"
             ],
             [
              0.4444444444444444,
              "#bd3786"
             ],
             [
              0.5555555555555556,
              "#d8576b"
             ],
             [
              0.6666666666666666,
              "#ed7953"
             ],
             [
              0.7777777777777778,
              "#fb9f3a"
             ],
             [
              0.8888888888888888,
              "#fdca26"
             ],
             [
              1,
              "#f0f921"
             ]
            ],
            "type": "histogram2d"
           }
          ],
          "histogram2dcontour": [
           {
            "colorbar": {
             "outlinewidth": 0,
             "ticks": ""
            },
            "colorscale": [
             [
              0,
              "#0d0887"
             ],
             [
              0.1111111111111111,
              "#46039f"
             ],
             [
              0.2222222222222222,
              "#7201a8"
             ],
             [
              0.3333333333333333,
              "#9c179e"
             ],
             [
              0.4444444444444444,
              "#bd3786"
             ],
             [
              0.5555555555555556,
              "#d8576b"
             ],
             [
              0.6666666666666666,
              "#ed7953"
             ],
             [
              0.7777777777777778,
              "#fb9f3a"
             ],
             [
              0.8888888888888888,
              "#fdca26"
             ],
             [
              1,
              "#f0f921"
             ]
            ],
            "type": "histogram2dcontour"
           }
          ],
          "mesh3d": [
           {
            "colorbar": {
             "outlinewidth": 0,
             "ticks": ""
            },
            "type": "mesh3d"
           }
          ],
          "parcoords": [
           {
            "line": {
             "colorbar": {
              "outlinewidth": 0,
              "ticks": ""
             }
            },
            "type": "parcoords"
           }
          ],
          "pie": [
           {
            "automargin": true,
            "type": "pie"
           }
          ],
          "scatter": [
           {
            "fillpattern": {
             "fillmode": "overlay",
             "size": 10,
             "solidity": 0.2
            },
            "type": "scatter"
           }
          ],
          "scatter3d": [
           {
            "line": {
             "colorbar": {
              "outlinewidth": 0,
              "ticks": ""
             }
            },
            "marker": {
             "colorbar": {
              "outlinewidth": 0,
              "ticks": ""
             }
            },
            "type": "scatter3d"
           }
          ],
          "scattercarpet": [
           {
            "marker": {
             "colorbar": {
              "outlinewidth": 0,
              "ticks": ""
             }
            },
            "type": "scattercarpet"
           }
          ],
          "scattergeo": [
           {
            "marker": {
             "colorbar": {
              "outlinewidth": 0,
              "ticks": ""
             }
            },
            "type": "scattergeo"
           }
          ],
          "scattergl": [
           {
            "marker": {
             "colorbar": {
              "outlinewidth": 0,
              "ticks": ""
             }
            },
            "type": "scattergl"
           }
          ],
          "scattermapbox": [
           {
            "marker": {
             "colorbar": {
              "outlinewidth": 0,
              "ticks": ""
             }
            },
            "type": "scattermapbox"
           }
          ],
          "scatterpolar": [
           {
            "marker": {
             "colorbar": {
              "outlinewidth": 0,
              "ticks": ""
             }
            },
            "type": "scatterpolar"
           }
          ],
          "scatterpolargl": [
           {
            "marker": {
             "colorbar": {
              "outlinewidth": 0,
              "ticks": ""
             }
            },
            "type": "scatterpolargl"
           }
          ],
          "scatterternary": [
           {
            "marker": {
             "colorbar": {
              "outlinewidth": 0,
              "ticks": ""
             }
            },
            "type": "scatterternary"
           }
          ],
          "surface": [
           {
            "colorbar": {
             "outlinewidth": 0,
             "ticks": ""
            },
            "colorscale": [
             [
              0,
              "#0d0887"
             ],
             [
              0.1111111111111111,
              "#46039f"
             ],
             [
              0.2222222222222222,
              "#7201a8"
             ],
             [
              0.3333333333333333,
              "#9c179e"
             ],
             [
              0.4444444444444444,
              "#bd3786"
             ],
             [
              0.5555555555555556,
              "#d8576b"
             ],
             [
              0.6666666666666666,
              "#ed7953"
             ],
             [
              0.7777777777777778,
              "#fb9f3a"
             ],
             [
              0.8888888888888888,
              "#fdca26"
             ],
             [
              1,
              "#f0f921"
             ]
            ],
            "type": "surface"
           }
          ],
          "table": [
           {
            "cells": {
             "fill": {
              "color": "#EBF0F8"
             },
             "line": {
              "color": "white"
             }
            },
            "header": {
             "fill": {
              "color": "#C8D4E3"
             },
             "line": {
              "color": "white"
             }
            },
            "type": "table"
           }
          ]
         },
         "layout": {
          "annotationdefaults": {
           "arrowcolor": "#2a3f5f",
           "arrowhead": 0,
           "arrowwidth": 1
          },
          "autotypenumbers": "strict",
          "coloraxis": {
           "colorbar": {
            "outlinewidth": 0,
            "ticks": ""
           }
          },
          "colorscale": {
           "diverging": [
            [
             0,
             "#8e0152"
            ],
            [
             0.1,
             "#c51b7d"
            ],
            [
             0.2,
             "#de77ae"
            ],
            [
             0.3,
             "#f1b6da"
            ],
            [
             0.4,
             "#fde0ef"
            ],
            [
             0.5,
             "#f7f7f7"
            ],
            [
             0.6,
             "#e6f5d0"
            ],
            [
             0.7,
             "#b8e186"
            ],
            [
             0.8,
             "#7fbc41"
            ],
            [
             0.9,
             "#4d9221"
            ],
            [
             1,
             "#276419"
            ]
           ],
           "sequential": [
            [
             0,
             "#0d0887"
            ],
            [
             0.1111111111111111,
             "#46039f"
            ],
            [
             0.2222222222222222,
             "#7201a8"
            ],
            [
             0.3333333333333333,
             "#9c179e"
            ],
            [
             0.4444444444444444,
             "#bd3786"
            ],
            [
             0.5555555555555556,
             "#d8576b"
            ],
            [
             0.6666666666666666,
             "#ed7953"
            ],
            [
             0.7777777777777778,
             "#fb9f3a"
            ],
            [
             0.8888888888888888,
             "#fdca26"
            ],
            [
             1,
             "#f0f921"
            ]
           ],
           "sequentialminus": [
            [
             0,
             "#0d0887"
            ],
            [
             0.1111111111111111,
             "#46039f"
            ],
            [
             0.2222222222222222,
             "#7201a8"
            ],
            [
             0.3333333333333333,
             "#9c179e"
            ],
            [
             0.4444444444444444,
             "#bd3786"
            ],
            [
             0.5555555555555556,
             "#d8576b"
            ],
            [
             0.6666666666666666,
             "#ed7953"
            ],
            [
             0.7777777777777778,
             "#fb9f3a"
            ],
            [
             0.8888888888888888,
             "#fdca26"
            ],
            [
             1,
             "#f0f921"
            ]
           ]
          },
          "colorway": [
           "#636efa",
           "#EF553B",
           "#00cc96",
           "#ab63fa",
           "#FFA15A",
           "#19d3f3",
           "#FF6692",
           "#B6E880",
           "#FF97FF",
           "#FECB52"
          ],
          "font": {
           "color": "#2a3f5f"
          },
          "geo": {
           "bgcolor": "white",
           "lakecolor": "white",
           "landcolor": "white",
           "showlakes": true,
           "showland": true,
           "subunitcolor": "#C8D4E3"
          },
          "hoverlabel": {
           "align": "left"
          },
          "hovermode": "closest",
          "mapbox": {
           "style": "light"
          },
          "paper_bgcolor": "white",
          "plot_bgcolor": "white",
          "polar": {
           "angularaxis": {
            "gridcolor": "#EBF0F8",
            "linecolor": "#EBF0F8",
            "ticks": ""
           },
           "bgcolor": "white",
           "radialaxis": {
            "gridcolor": "#EBF0F8",
            "linecolor": "#EBF0F8",
            "ticks": ""
           }
          },
          "scene": {
           "xaxis": {
            "backgroundcolor": "white",
            "gridcolor": "#DFE8F3",
            "gridwidth": 2,
            "linecolor": "#EBF0F8",
            "showbackground": true,
            "ticks": "",
            "zerolinecolor": "#EBF0F8"
           },
           "yaxis": {
            "backgroundcolor": "white",
            "gridcolor": "#DFE8F3",
            "gridwidth": 2,
            "linecolor": "#EBF0F8",
            "showbackground": true,
            "ticks": "",
            "zerolinecolor": "#EBF0F8"
           },
           "zaxis": {
            "backgroundcolor": "white",
            "gridcolor": "#DFE8F3",
            "gridwidth": 2,
            "linecolor": "#EBF0F8",
            "showbackground": true,
            "ticks": "",
            "zerolinecolor": "#EBF0F8"
           }
          },
          "shapedefaults": {
           "line": {
            "color": "#2a3f5f"
           }
          },
          "ternary": {
           "aaxis": {
            "gridcolor": "#DFE8F3",
            "linecolor": "#A2B1C6",
            "ticks": ""
           },
           "baxis": {
            "gridcolor": "#DFE8F3",
            "linecolor": "#A2B1C6",
            "ticks": ""
           },
           "bgcolor": "white",
           "caxis": {
            "gridcolor": "#DFE8F3",
            "linecolor": "#A2B1C6",
            "ticks": ""
           }
          },
          "title": {
           "x": 0.05
          },
          "xaxis": {
           "automargin": true,
           "gridcolor": "#EBF0F8",
           "linecolor": "#EBF0F8",
           "ticks": "",
           "title": {
            "standoff": 15
           },
           "zerolinecolor": "#EBF0F8",
           "zerolinewidth": 2
          },
          "yaxis": {
           "automargin": true,
           "gridcolor": "#EBF0F8",
           "linecolor": "#EBF0F8",
           "ticks": "",
           "title": {
            "standoff": 15
           },
           "zerolinecolor": "#EBF0F8",
           "zerolinewidth": 2
          }
         }
        },
        "title": {
         "text": "Class Accuracy With Best Model Configuration"
        },
        "width": 900,
        "xaxis": {
         "title": {
          "text": "Image Class"
         }
        },
        "yaxis": {
         "title": {
          "text": "Accuracy (%)"
         }
        }
       }
      },
      "text/html": [
       "<div>                            <div id=\"df58c0a6-edc3-469a-81ee-a4c670f6ade0\" class=\"plotly-graph-div\" style=\"height:450px; width:900px;\"></div>            <script type=\"text/javascript\">                require([\"plotly\"], function(Plotly) {                    window.PLOTLYENV=window.PLOTLYENV || {};                                    if (document.getElementById(\"df58c0a6-edc3-469a-81ee-a4c670f6ade0\")) {                    Plotly.newPlot(                        \"df58c0a6-edc3-469a-81ee-a4c670f6ade0\",                        [{\"marker\":{\"color\":\"#46039f\",\"line\":{\"color\":\"black\"}},\"name\":\"Default\",\"opacity\":0.8,\"x\":[\"T-shirt\\u002ftop\",\"Trouser\",\"Pullover\",\"Dress\",\"Coat\",\"Sandal\",\"Shirt\",\"Sneaker\",\"Bag\",\"Ankle boot\"],\"y\":[80.29,94.55499999999999,68.295,85.03999999999999,73.16499999999999,91.485,50.040000000000006,90.88999999999999,93.87,93.29],\"type\":\"bar\"},{\"marker\":{\"color\":\"#9c179e\",\"line\":{\"color\":\"black\"}},\"name\":\"Random Search\",\"opacity\":0.8,\"x\":[\"T-shirt\\u002ftop\",\"Trouser\",\"Pullover\",\"Dress\",\"Coat\",\"Sandal\",\"Shirt\",\"Sneaker\",\"Bag\",\"Ankle boot\"],\"y\":[86.00999999999999,98.43499999999999,87.1,92.29499999999999,85.85499999999999,98.06,75.86,97.59,98.18999999999998,95.975],\"type\":\"bar\"},{\"marker\":{\"color\":\"#d8576b\",\"line\":{\"color\":\"black\"}},\"name\":\"Hyperband\",\"opacity\":0.8,\"x\":[\"T-shirt\\u002ftop\",\"Trouser\",\"Pullover\",\"Dress\",\"Coat\",\"Sandal\",\"Shirt\",\"Sneaker\",\"Bag\",\"Ankle boot\"],\"y\":[84.60499999999999,98.30499999999999,86.075,90.96,84.49000000000001,97.78999999999999,74.555,97.055,97.84000000000002,96.33500000000001],\"type\":\"bar\"},{\"marker\":{\"color\":\"#fb9f3a\",\"line\":{\"color\":\"black\"}},\"name\":\"SMBO\",\"opacity\":0.8,\"x\":[\"T-shirt\\u002ftop\",\"Trouser\",\"Pullover\",\"Dress\",\"Coat\",\"Sandal\",\"Shirt\",\"Sneaker\",\"Bag\",\"Ankle boot\"],\"y\":[86.44,98.55,87.79499999999999,91.795,88.52,98.41,72.64000000000001,96.985,98.45499999999998,96.51],\"type\":\"bar\"}],                        {\"template\":{\"data\":{\"histogram2dcontour\":[{\"type\":\"histogram2dcontour\",\"colorbar\":{\"outlinewidth\":0,\"ticks\":\"\"},\"colorscale\":[[0.0,\"#0d0887\"],[0.1111111111111111,\"#46039f\"],[0.2222222222222222,\"#7201a8\"],[0.3333333333333333,\"#9c179e\"],[0.4444444444444444,\"#bd3786\"],[0.5555555555555556,\"#d8576b\"],[0.6666666666666666,\"#ed7953\"],[0.7777777777777778,\"#fb9f3a\"],[0.8888888888888888,\"#fdca26\"],[1.0,\"#f0f921\"]]}],\"choropleth\":[{\"type\":\"choropleth\",\"colorbar\":{\"outlinewidth\":0,\"ticks\":\"\"}}],\"histogram2d\":[{\"type\":\"histogram2d\",\"colorbar\":{\"outlinewidth\":0,\"ticks\":\"\"},\"colorscale\":[[0.0,\"#0d0887\"],[0.1111111111111111,\"#46039f\"],[0.2222222222222222,\"#7201a8\"],[0.3333333333333333,\"#9c179e\"],[0.4444444444444444,\"#bd3786\"],[0.5555555555555556,\"#d8576b\"],[0.6666666666666666,\"#ed7953\"],[0.7777777777777778,\"#fb9f3a\"],[0.8888888888888888,\"#fdca26\"],[1.0,\"#f0f921\"]]}],\"heatmap\":[{\"type\":\"heatmap\",\"colorbar\":{\"outlinewidth\":0,\"ticks\":\"\"},\"colorscale\":[[0.0,\"#0d0887\"],[0.1111111111111111,\"#46039f\"],[0.2222222222222222,\"#7201a8\"],[0.3333333333333333,\"#9c179e\"],[0.4444444444444444,\"#bd3786\"],[0.5555555555555556,\"#d8576b\"],[0.6666666666666666,\"#ed7953\"],[0.7777777777777778,\"#fb9f3a\"],[0.8888888888888888,\"#fdca26\"],[1.0,\"#f0f921\"]]}],\"heatmapgl\":[{\"type\":\"heatmapgl\",\"colorbar\":{\"outlinewidth\":0,\"ticks\":\"\"},\"colorscale\":[[0.0,\"#0d0887\"],[0.1111111111111111,\"#46039f\"],[0.2222222222222222,\"#7201a8\"],[0.3333333333333333,\"#9c179e\"],[0.4444444444444444,\"#bd3786\"],[0.5555555555555556,\"#d8576b\"],[0.6666666666666666,\"#ed7953\"],[0.7777777777777778,\"#fb9f3a\"],[0.8888888888888888,\"#fdca26\"],[1.0,\"#f0f921\"]]}],\"contourcarpet\":[{\"type\":\"contourcarpet\",\"colorbar\":{\"outlinewidth\":0,\"ticks\":\"\"}}],\"contour\":[{\"type\":\"contour\",\"colorbar\":{\"outlinewidth\":0,\"ticks\":\"\"},\"colorscale\":[[0.0,\"#0d0887\"],[0.1111111111111111,\"#46039f\"],[0.2222222222222222,\"#7201a8\"],[0.3333333333333333,\"#9c179e\"],[0.4444444444444444,\"#bd3786\"],[0.5555555555555556,\"#d8576b\"],[0.6666666666666666,\"#ed7953\"],[0.7777777777777778,\"#fb9f3a\"],[0.8888888888888888,\"#fdca26\"],[1.0,\"#f0f921\"]]}],\"surface\":[{\"type\":\"surface\",\"colorbar\":{\"outlinewidth\":0,\"ticks\":\"\"},\"colorscale\":[[0.0,\"#0d0887\"],[0.1111111111111111,\"#46039f\"],[0.2222222222222222,\"#7201a8\"],[0.3333333333333333,\"#9c179e\"],[0.4444444444444444,\"#bd3786\"],[0.5555555555555556,\"#d8576b\"],[0.6666666666666666,\"#ed7953\"],[0.7777777777777778,\"#fb9f3a\"],[0.8888888888888888,\"#fdca26\"],[1.0,\"#f0f921\"]]}],\"mesh3d\":[{\"type\":\"mesh3d\",\"colorbar\":{\"outlinewidth\":0,\"ticks\":\"\"}}],\"scatter\":[{\"fillpattern\":{\"fillmode\":\"overlay\",\"size\":10,\"solidity\":0.2},\"type\":\"scatter\"}],\"parcoords\":[{\"type\":\"parcoords\",\"line\":{\"colorbar\":{\"outlinewidth\":0,\"ticks\":\"\"}}}],\"scatterpolargl\":[{\"type\":\"scatterpolargl\",\"marker\":{\"colorbar\":{\"outlinewidth\":0,\"ticks\":\"\"}}}],\"bar\":[{\"error_x\":{\"color\":\"#2a3f5f\"},\"error_y\":{\"color\":\"#2a3f5f\"},\"marker\":{\"line\":{\"color\":\"white\",\"width\":0.5},\"pattern\":{\"fillmode\":\"overlay\",\"size\":10,\"solidity\":0.2}},\"type\":\"bar\"}],\"scattergeo\":[{\"type\":\"scattergeo\",\"marker\":{\"colorbar\":{\"outlinewidth\":0,\"ticks\":\"\"}}}],\"scatterpolar\":[{\"type\":\"scatterpolar\",\"marker\":{\"colorbar\":{\"outlinewidth\":0,\"ticks\":\"\"}}}],\"histogram\":[{\"marker\":{\"pattern\":{\"fillmode\":\"overlay\",\"size\":10,\"solidity\":0.2}},\"type\":\"histogram\"}],\"scattergl\":[{\"type\":\"scattergl\",\"marker\":{\"colorbar\":{\"outlinewidth\":0,\"ticks\":\"\"}}}],\"scatter3d\":[{\"type\":\"scatter3d\",\"line\":{\"colorbar\":{\"outlinewidth\":0,\"ticks\":\"\"}},\"marker\":{\"colorbar\":{\"outlinewidth\":0,\"ticks\":\"\"}}}],\"scattermapbox\":[{\"type\":\"scattermapbox\",\"marker\":{\"colorbar\":{\"outlinewidth\":0,\"ticks\":\"\"}}}],\"scatterternary\":[{\"type\":\"scatterternary\",\"marker\":{\"colorbar\":{\"outlinewidth\":0,\"ticks\":\"\"}}}],\"scattercarpet\":[{\"type\":\"scattercarpet\",\"marker\":{\"colorbar\":{\"outlinewidth\":0,\"ticks\":\"\"}}}],\"carpet\":[{\"aaxis\":{\"endlinecolor\":\"#2a3f5f\",\"gridcolor\":\"#C8D4E3\",\"linecolor\":\"#C8D4E3\",\"minorgridcolor\":\"#C8D4E3\",\"startlinecolor\":\"#2a3f5f\"},\"baxis\":{\"endlinecolor\":\"#2a3f5f\",\"gridcolor\":\"#C8D4E3\",\"linecolor\":\"#C8D4E3\",\"minorgridcolor\":\"#C8D4E3\",\"startlinecolor\":\"#2a3f5f\"},\"type\":\"carpet\"}],\"table\":[{\"cells\":{\"fill\":{\"color\":\"#EBF0F8\"},\"line\":{\"color\":\"white\"}},\"header\":{\"fill\":{\"color\":\"#C8D4E3\"},\"line\":{\"color\":\"white\"}},\"type\":\"table\"}],\"barpolar\":[{\"marker\":{\"line\":{\"color\":\"white\",\"width\":0.5},\"pattern\":{\"fillmode\":\"overlay\",\"size\":10,\"solidity\":0.2}},\"type\":\"barpolar\"}],\"pie\":[{\"automargin\":true,\"type\":\"pie\"}]},\"layout\":{\"autotypenumbers\":\"strict\",\"colorway\":[\"#636efa\",\"#EF553B\",\"#00cc96\",\"#ab63fa\",\"#FFA15A\",\"#19d3f3\",\"#FF6692\",\"#B6E880\",\"#FF97FF\",\"#FECB52\"],\"font\":{\"color\":\"#2a3f5f\"},\"hovermode\":\"closest\",\"hoverlabel\":{\"align\":\"left\"},\"paper_bgcolor\":\"white\",\"plot_bgcolor\":\"white\",\"polar\":{\"bgcolor\":\"white\",\"angularaxis\":{\"gridcolor\":\"#EBF0F8\",\"linecolor\":\"#EBF0F8\",\"ticks\":\"\"},\"radialaxis\":{\"gridcolor\":\"#EBF0F8\",\"linecolor\":\"#EBF0F8\",\"ticks\":\"\"}},\"ternary\":{\"bgcolor\":\"white\",\"aaxis\":{\"gridcolor\":\"#DFE8F3\",\"linecolor\":\"#A2B1C6\",\"ticks\":\"\"},\"baxis\":{\"gridcolor\":\"#DFE8F3\",\"linecolor\":\"#A2B1C6\",\"ticks\":\"\"},\"caxis\":{\"gridcolor\":\"#DFE8F3\",\"linecolor\":\"#A2B1C6\",\"ticks\":\"\"}},\"coloraxis\":{\"colorbar\":{\"outlinewidth\":0,\"ticks\":\"\"}},\"colorscale\":{\"sequential\":[[0.0,\"#0d0887\"],[0.1111111111111111,\"#46039f\"],[0.2222222222222222,\"#7201a8\"],[0.3333333333333333,\"#9c179e\"],[0.4444444444444444,\"#bd3786\"],[0.5555555555555556,\"#d8576b\"],[0.6666666666666666,\"#ed7953\"],[0.7777777777777778,\"#fb9f3a\"],[0.8888888888888888,\"#fdca26\"],[1.0,\"#f0f921\"]],\"sequentialminus\":[[0.0,\"#0d0887\"],[0.1111111111111111,\"#46039f\"],[0.2222222222222222,\"#7201a8\"],[0.3333333333333333,\"#9c179e\"],[0.4444444444444444,\"#bd3786\"],[0.5555555555555556,\"#d8576b\"],[0.6666666666666666,\"#ed7953\"],[0.7777777777777778,\"#fb9f3a\"],[0.8888888888888888,\"#fdca26\"],[1.0,\"#f0f921\"]],\"diverging\":[[0,\"#8e0152\"],[0.1,\"#c51b7d\"],[0.2,\"#de77ae\"],[0.3,\"#f1b6da\"],[0.4,\"#fde0ef\"],[0.5,\"#f7f7f7\"],[0.6,\"#e6f5d0\"],[0.7,\"#b8e186\"],[0.8,\"#7fbc41\"],[0.9,\"#4d9221\"],[1,\"#276419\"]]},\"xaxis\":{\"gridcolor\":\"#EBF0F8\",\"linecolor\":\"#EBF0F8\",\"ticks\":\"\",\"title\":{\"standoff\":15},\"zerolinecolor\":\"#EBF0F8\",\"automargin\":true,\"zerolinewidth\":2},\"yaxis\":{\"gridcolor\":\"#EBF0F8\",\"linecolor\":\"#EBF0F8\",\"ticks\":\"\",\"title\":{\"standoff\":15},\"zerolinecolor\":\"#EBF0F8\",\"automargin\":true,\"zerolinewidth\":2},\"scene\":{\"xaxis\":{\"backgroundcolor\":\"white\",\"gridcolor\":\"#DFE8F3\",\"linecolor\":\"#EBF0F8\",\"showbackground\":true,\"ticks\":\"\",\"zerolinecolor\":\"#EBF0F8\",\"gridwidth\":2},\"yaxis\":{\"backgroundcolor\":\"white\",\"gridcolor\":\"#DFE8F3\",\"linecolor\":\"#EBF0F8\",\"showbackground\":true,\"ticks\":\"\",\"zerolinecolor\":\"#EBF0F8\",\"gridwidth\":2},\"zaxis\":{\"backgroundcolor\":\"white\",\"gridcolor\":\"#DFE8F3\",\"linecolor\":\"#EBF0F8\",\"showbackground\":true,\"ticks\":\"\",\"zerolinecolor\":\"#EBF0F8\",\"gridwidth\":2}},\"shapedefaults\":{\"line\":{\"color\":\"#2a3f5f\"}},\"annotationdefaults\":{\"arrowcolor\":\"#2a3f5f\",\"arrowhead\":0,\"arrowwidth\":1},\"geo\":{\"bgcolor\":\"white\",\"landcolor\":\"white\",\"subunitcolor\":\"#C8D4E3\",\"showland\":true,\"showlakes\":true,\"lakecolor\":\"white\"},\"title\":{\"x\":0.05},\"mapbox\":{\"style\":\"light\"}}},\"title\":{\"text\":\"Class Accuracy With Best Model Configuration\"},\"xaxis\":{\"title\":{\"text\":\"Image Class\"}},\"yaxis\":{\"title\":{\"text\":\"Accuracy (%)\"}},\"barmode\":\"group\",\"width\":900,\"height\":450,\"showlegend\":true},                        {\"responsive\": true}                    ).then(function(){\n",
       "                            \n",
       "var gd = document.getElementById('df58c0a6-edc3-469a-81ee-a4c670f6ade0');\n",
       "var x = new MutationObserver(function (mutations, observer) {{\n",
       "        var display = window.getComputedStyle(gd).display;\n",
       "        if (!display || display === 'none') {{\n",
       "            console.log([gd, 'removed!']);\n",
       "            Plotly.purge(gd);\n",
       "            observer.disconnect();\n",
       "        }}\n",
       "}});\n",
       "\n",
       "// Listen for the removal of the full notebook cells\n",
       "var notebookContainer = gd.closest('#notebook-container');\n",
       "if (notebookContainer) {{\n",
       "    x.observe(notebookContainer, {childList: true});\n",
       "}}\n",
       "\n",
       "// Listen for the clearing of the current output cell\n",
       "var outputEl = gd.closest('.output');\n",
       "if (outputEl) {{\n",
       "    x.observe(outputEl, {childList: true});\n",
       "}}\n",
       "\n",
       "                        })                };                });            </script>        </div>"
      ]
     },
     "metadata": {},
     "output_type": "display_data"
    }
   ],
   "source": [
    "fig = go.Figure()\n",
    "names = ['Default', 'Random Search', 'Hyperband', 'SMBO']\n",
    "colors = ['#46039f','#9c179e','#d8576b','#fb9f3a']\n",
    "for i, df in enumerate([default_reps, e7_reps, e6_reps, e8_reps]):\n",
    "    fig.add_trace(go.Bar(\n",
    "        x=class_names,\n",
    "        y=[df.loc[:, name].mean() for name in class_names],\n",
    "        name=names[i],\n",
    "        marker_color=colors[i],\n",
    "        marker_line_color='black',\n",
    "        opacity=0.8\n",
    "    ))\n",
    "\n",
    "fig.update_layout(\n",
    "    title='Class Accuracy With Best Model Configuration',\n",
    "    xaxis_title='Image Class',\n",
    "    yaxis_title='Accuracy (%)',\n",
    "    barmode='group',\n",
    "    width=900,\n",
    "    height=450,\n",
    "    showlegend=True,\n",
    ")\n",
    "\n",
    "fig.show()"
   ]
  },
  {
   "cell_type": "markdown",
   "metadata": {
    "slideshow": {
     "slide_type": "slide"
    }
   },
   "source": [
    "<div style=\"display: flex; justify-content: space-between; align-items: center; width: 100%;\">\n",
    "    <span style=\"color: #ff6900; font-size: 40px; font-weight: bold;\">Conclusion</span>\n",
    "    <span style=\"text-align: right; font-size: 12px;\">Lena Hammerer | Luisa Ibele | Hanna Steinwender</span>\n",
    "</div>\n",
    "<p style=\"font-size: 18px;\"><i>Providing a Summary and Key Takeaways, as well as offering Insights and Recommendations for Future Work</i></p>\n",
    "\n",
    "<span style=\"color: #ff6900; font-size: 25px; font-weight: bold;\">Key Takeaways</span>\n",
    "<ul>\n",
    "    <li>Project shows the importance of fine-tuning for achieving better performance</li>\n",
    "    <li>The utilization of three distinct approaches - Random Search, Hyperband, and SMBO - provided comprehensive insights into the various methodologies of tuning and collectively contributed to a deeper understanding.</li>\n",
    "    <li>Fashion-MNIST is a valuable benchmark dataset for such experiments</li>\n",
    "    <li>learning_rate is a very sensitive hyperparameter</li>\n",
    "    <li>l1 hyperparameter is not so sensitive in this use case </li>\n",
    "    <li>The kind of sampling for the hyperparameter plays a role</li>\n",
    "    <li>Mostly no general accepted default hyperparemters for DNNs</li>\n",
    "    <li>Trade-Off Performance vs. Runtime</li>\n",
    "    <li>Risk of Overfitting</li>\n",
    "    <li>Ease of Implementation (Random Search -> SMBO)</li>\n",
    "</ul>"
   ]
  },
  {
   "cell_type": "markdown",
   "metadata": {
    "slideshow": {
     "slide_type": "subslide"
    }
   },
   "source": [
    "<div style=\"display: flex; justify-content: space-between; align-items: center; width: 100%;\">\n",
    "    <span style=\"color: #ff6900; font-size: 25px; font-weight: bold;\">Outlook</span>\n",
    "    <span style=\"text-align: right; font-size: 12px;\">Lena Hammerer | Luisa Ibele | Hanna Steinwender</span>\n",
    "</div>\n",
    "\n",
    "<ul>\n",
    "    <li>Looking at further parameters like optimizer or dropout</li>\n",
    "    <li>Consider other metrics like precision, recall, F1-score or the confusion matrix in general</li>\n",
    "    <li>Explore other techniques like Neural Architecture Search or Ensemble Methods</li>\n",
    "    <li>Assess the transferability of insights gained from the hyperparameter tuning on Fashion MNIST to other image classification datasets</li>\n",
    "</ul>"
   ]
  },
  {
   "cell_type": "markdown",
   "metadata": {
    "slideshow": {
     "slide_type": "slide"
    }
   },
   "source": [
    "<span style=\"color: #ff6900; font-size: 40px; font-weight: bold;\">References</span>\n",
    "<ul style=\"font-size: 12px;\">\n",
    "    <li>Bartz-Beielstein, Thomas. “PyTorch Hyperparameter Tuning - A Tutorial for SpotPython.” June 7, 2023.</li>\n",
    "    <li>Bartz, E., Bartz-Beielstein, T., Zaefferer, M. and Mersmann, O., 2023. Hyperparameter Tuning for Machine and Deep Learning with R: A Practical Guide (p. 323). Springer Nature.</li>\n",
    "    <li>Bergstra, James, and Y. Bengio. “Random Search for Hyper-Parameter Optimization.” The Journal of Machine Learning Research 13 (March 2012): 281–305.</li>\n",
    "    <li>Brownlee, J., 2018. What is the Difference Between a Batch and an Epoch in a Neural Network. Machine Learning Mastery, 20.</li>\n",
    "    <li>Grandini, M., Bagli, E. and Visani, G., 2020. Metrics for multi-class classification: an overview. arXiv preprint arXiv:2008.05756.</li>\n",
    "    <li>Johny, A. and Madhusoodanan, K.N., 2021. Dynamic learning rate in deep CNN model for metastasis detection and classification of histopathology images. Computational and Mathematical Methods in Medicine, 2021, pp.1-13.</li>\n",
    "    <li>Kayed, M., Anter, A. and Mohamed, H., 2020, February. Classification of garments from fashion MNIST dataset using CNN LeNet-5 architecture. In 2020 international conference on innovative trends in communication and computer engineering (ITCE) (pp. 238-243). IEEE.</li>\n",
    "    <li>Li, Lisha, Kevin Jamieson, Giulia DeSalvo, Afshin Rostamizadeh, and Ameet Talwalkar. “Hyperband: A Novel Bandit-Based Approach to Hyperparameter Optimization.” June 18, 2018.</li>\n",
    "    <li>Li, Lisha, Kevin Jamieson, Afshin Rostamizadeh, Katya Gonina, Moritz Hardt, Benjamin Recht, and Ameet Talwalkar. “Massively Parallel Hyperparameter Tuning,” February 15, 2018.</li>\n",
    "    <li>Meshkini, K., Platos, J. and Ghassemain, H., 2020. An analysis of convolutional neural network for fashion images classification (fashion-mnist). In Proceedings of the Fourth International Scientific Conference “Intelligent Information Technologies for Industry”(IITI’19) 4 (pp. 85-95). Springer International Publishing.</li>\n",
    "    <li>Mishra, Prafful (2019): Why are Convolutional Neural Networks good for image classification? In: DataDrivenInvestor (27.05.2019) - URL https://medium.datadriveninvestor.com/why-are-convolutional-neural-networks-good-for-image-classification-146ec6e865e8, Accessed: 31.08.2023.</li>\n",
    "    <li>Tuba, E., Bačanin, N., Strumberger, I. and Tuba, M., 2021. Convolutional neural networks hyperparameters tuning. In Artificial intelligence: theory and applications (pp. 65-84). Cham: Springer International Publishing.</li>\n",
    "    <li>White, C., Safari, M., Sukthanker, R., Ru, B., Elsken, T., Zela, A., Dey, D. and Hutter, F., 2023. Neural architecture search: Insights from 1000 papers. arXiv preprint arXiv:2301.08727.</li>\n",
    "    <li>Xiao, H., Rasul, K. and Vollgraf, R., 2017. Fashion-MNIST: a Novel Image Dataset for Benchmarking Machine Learning Algorithms. arXiv preprint arXiv:1708.07747.</li>\n",
    "    <li>Zhang, Z. and Sabuncu, M., 2018. Generalized cross entropy loss for training deep neural networks with noisy labels. Advances in neural information processing systems, 31.</li>\n",
    "</ul>"
   ]
  }
 ],
 "metadata": {
  "kernelspec": {
   "display_name": "tuning",
   "language": "python",
   "name": "python3"
  },
  "language_info": {
   "codemirror_mode": {
    "name": "ipython",
    "version": 3
   },
   "file_extension": ".py",
   "mimetype": "text/x-python",
   "name": "python",
   "nbconvert_exporter": "python",
   "pygments_lexer": "ipython3",
   "version": "3.10.10"
  },
  "orig_nbformat": 4
 },
 "nbformat": 4,
 "nbformat_minor": 2
}
