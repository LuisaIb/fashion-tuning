{
 "cells": [
  {
   "cell_type": "markdown",
   "metadata": {},
   "source": [
    "# Experiment SetUp - 50 Trials"
   ]
  },
  {
   "cell_type": "markdown",
   "metadata": {},
   "source": [
    "Parameters:\n",
    "- l1\n",
    "- l1 vs. batch_size\n",
    "- epochs vs. batch_size\n",
    "- epochs vs. lr\n",
    "- lr vs. batch_size"
   ]
  },
  {
   "cell_type": "markdown",
   "metadata": {},
   "source": [
    "### Imports"
   ]
  },
  {
   "cell_type": "code",
   "execution_count": 1,
   "metadata": {},
   "outputs": [],
   "source": [
    "from functools import partial\n",
    "import os\n",
    "import random \n",
    "\n",
    "import matplotlib.pyplot as plt\n",
    "import numpy as np\n",
    "\n",
    "import torch\n",
    "import torchvision\n",
    "import torchvision.transforms as transforms\n",
    "\n",
    "import torch.nn as nn\n",
    "import torch.nn.functional as F\n",
    "import torch.optim as optim\n",
    "\n",
    "from torch.utils.tensorboard import SummaryWriter\n",
    "from torch.utils.data import random_split\n",
    "\n",
    "from ray import tune\n",
    "from ray.air import Checkpoint, session\n",
    "from ray.tune.schedulers import ASHAScheduler\n",
    "from ray.tune.search.basic_variant import BasicVariantGenerator\n",
    "from ray.tune import Callback"
   ]
  },
  {
   "cell_type": "code",
   "execution_count": 2,
   "metadata": {},
   "outputs": [],
   "source": [
    "torch.manual_seed(40)\n",
    "random.seed(40)\n",
    "np.random.seed(40)"
   ]
  },
  {
   "cell_type": "markdown",
   "metadata": {},
   "source": [
    "#### Class to print chosen l1 param"
   ]
  },
  {
   "cell_type": "code",
   "execution_count": 3,
   "metadata": {},
   "outputs": [],
   "source": [
    "class PrintChosenL1Callback(Callback):\n",
    "    def on_trial_complete(self, iteration, trials, trial, **info):\n",
    "        chosen_l1 = trial.config[\"l1\"]\n",
    "        print(f\"Trial {trial.trial_id}: Chosen l1 = {chosen_l1}\")"
   ]
  },
  {
   "cell_type": "code",
   "execution_count": 4,
   "metadata": {},
   "outputs": [],
   "source": [
    "print_l1_callback = PrintChosenL1Callback()"
   ]
  },
  {
   "cell_type": "markdown",
   "metadata": {},
   "source": [
    "### CNN Model SetUp"
   ]
  },
  {
   "cell_type": "code",
   "execution_count": 5,
   "metadata": {},
   "outputs": [],
   "source": [
    "class FashionCNN(nn.Module):\n",
    "    def __init__(self, l1=64):\n",
    "        super(FashionCNN, self).__init__()\n",
    "        self.conv1 = nn.Conv2d(1, 32, 3, padding=1)\n",
    "        self.conv2 = nn.Conv2d(32, 64, 3, padding=1)\n",
    "        self.pool = nn.MaxPool2d(2, 2)\n",
    "        self.fc1 = nn.Linear(64 * 7 * 7, l1)\n",
    "        self.fc2 = nn.Linear(l1, 10)\n",
    "\n",
    "    def forward(self, x):\n",
    "        x = self.pool(nn.functional.relu(self.conv1(x)))\n",
    "        x = self.pool(nn.functional.relu(self.conv2(x)))\n",
    "        x = x.view(-1, 64 * 7 * 7)\n",
    "        x = nn.functional.relu(self.fc1(x))\n",
    "        x = self.fc2(x)\n",
    "        return x"
   ]
  },
  {
   "cell_type": "markdown",
   "metadata": {},
   "source": [
    "### Training"
   ]
  },
  {
   "cell_type": "markdown",
   "metadata": {},
   "source": [
    "#### Data Loading function"
   ]
  },
  {
   "cell_type": "code",
   "execution_count": 6,
   "metadata": {},
   "outputs": [],
   "source": [
    "def load_data(data_dir=\"./data\"):\n",
    "    transform = transforms.Compose(\n",
    "        [transforms.ToTensor(),\n",
    "        transforms.Normalize((0.5,), (0.5,))])\n",
    "\n",
    "    trainset = torchvision.datasets.FashionMNIST(data_dir,\n",
    "        download=True,\n",
    "        train=True,\n",
    "        transform=transform)\n",
    "    testset = torchvision.datasets.FashionMNIST(data_dir,\n",
    "        download=True,\n",
    "        train=False,\n",
    "        transform=transform)\n",
    "\n",
    "    return trainset, testset"
   ]
  },
  {
   "cell_type": "markdown",
   "metadata": {},
   "source": [
    "#### Training function"
   ]
  },
  {
   "cell_type": "code",
   "execution_count": 7,
   "metadata": {},
   "outputs": [],
   "source": [
    "def train_fashion_mnist(config):\n",
    "    net = FashionCNN(config[\"l1\"]) \n",
    "\n",
    "    device = \"cpu\"\n",
    "    if torch.cuda.is_available():\n",
    "        device = \"cuda:0\"\n",
    "        if torch.cuda.device_count() > 1:\n",
    "            net = nn.DataParallel(net)\n",
    "    net.to(device)\n",
    "\n",
    "    # # loading data\n",
    "    trainset, testset = load_data()\n",
    "    \n",
    "    # Split the training set into subsets\n",
    "    test_abs = int(len(trainset) * 0.8)\n",
    "    train_subset, val_subset = random_split(trainset, [test_abs, len(trainset) - test_abs])\n",
    "\n",
    "    # Create data loaders for subsets\n",
    "    trainloader = torch.utils.data.DataLoader(\n",
    "        train_subset, batch_size=config[\"batch_size\"], shuffle=True, num_workers=2\n",
    "    )\n",
    "    valloader = torch.utils.data.DataLoader(\n",
    "        val_subset, batch_size=config[\"batch_size\"], shuffle=True, num_workers=2\n",
    "    )\n",
    "\n",
    "    # defining the loss function and optimizer\n",
    "    criterion = nn.CrossEntropyLoss()\n",
    "    optimizer = optim.SGD(net.parameters(), lr=config[\"learning_rate\"])\n",
    "\n",
    "    for epoch in range(config[\"epochs\"]):\n",
    "        running_loss = 0.0\n",
    "        epoch_steps = 0\n",
    "        for i, data in enumerate(trainloader, 0):\n",
    "            inputs, labels = data\n",
    "            inputs, labels = inputs.to(device), labels.to(device)\n",
    "\n",
    "            optimizer.zero_grad()\n",
    "\n",
    "            outputs = net(inputs)\n",
    "            loss = criterion(outputs, labels)\n",
    "            loss.backward()\n",
    "            optimizer.step()\n",
    "\n",
    "            running_loss += loss.item()\n",
    "            epoch_steps += 1\n",
    "\n",
    "            if i % 2000 == 1999:\n",
    "                print(\"[%d, %5d] loss: %.3f\" % (epoch + 1, i + 1, running_loss / epoch_steps))\n",
    "                running_loss = 0.0\n",
    "\n",
    "        val_loss = 0.0\n",
    "        val_steps = 0\n",
    "        total = 0\n",
    "        correct = 0\n",
    "        with torch.no_grad():\n",
    "            for data in valloader:\n",
    "                inputs, labels = data\n",
    "                inputs, labels = inputs.to(device), labels.to(device)\n",
    "\n",
    "                outputs = net(inputs)\n",
    "                _, predicted = torch.max(outputs.data, 1)\n",
    "                total += labels.size(0)\n",
    "                correct += (predicted == labels).sum().item()\n",
    "\n",
    "                loss = criterion(outputs, labels)\n",
    "                val_loss += loss.item()\n",
    "                val_steps += 1\n",
    "\n",
    "        tune.report(\n",
    "            mean_accuracy=correct / total,\n",
    "            mean_val_loss=val_loss / val_steps\n",
    "        )"
   ]
  },
  {
   "cell_type": "markdown",
   "metadata": {},
   "source": [
    "#### Experiment Parameters"
   ]
  },
  {
   "cell_type": "markdown",
   "metadata": {},
   "source": [
    "#### AHSA scheduler"
   ]
  },
  {
   "cell_type": "code",
   "execution_count": 8,
   "metadata": {},
   "outputs": [],
   "source": [
    "scheduler = ASHAScheduler(\n",
    "    metric=\"mean_val_loss\",\n",
    "    mode=\"min\",\n",
    "    max_t=15,\n",
    "    grace_period=1,\n",
    "    reduction_factor=2,\n",
    ")"
   ]
  },
  {
   "cell_type": "markdown",
   "metadata": {
    "jp-MarkdownHeadingCollapsed": true
   },
   "source": [
    "### 1st Experiment - l1"
   ]
  },
  {
   "cell_type": "code",
   "execution_count": 9,
   "metadata": {},
   "outputs": [],
   "source": [
    "num_samples = 1\n",
    "\n",
    "config = {\n",
    "    \"epochs\": 15,\n",
    "    \"learning_rate\": 1e-3, # 0.001\n",
    "    \"batch_size\": 64,\n",
    "    \"l1\": tune.grid_search([32, 64, 128, 256]) # 32, 64, 128\n",
    "}"
   ]
  },
  {
   "cell_type": "code",
   "execution_count": 10,
   "metadata": {
    "scrolled": true
   },
   "outputs": [
    {
     "name": "stderr",
     "output_type": "stream",
     "text": [
      "2023-08-22 09:46:25,720\tINFO worker.py:1431 -- Connecting to existing Ray cluster at address: 141.68.100.65:6379...\n",
      "2023-08-22 09:46:25,739\tINFO worker.py:1612 -- Connected to Ray cluster. View the dashboard at \u001b[1m\u001b[32m141.68.100.65:8265 \u001b[39m\u001b[22m\n",
      "2023-08-22 09:47:02,108\tINFO tune.py:226 -- Initializing Ray automatically. For cluster usage or custom Ray initialization, call `ray.init(...)` before `tune.run(...)`.\n",
      "2023-08-22 09:47:02,124\tINFO tune.py:657 -- [output] This uses the legacy output and progress reporter, as Jupyter notebooks are not supported by the new engine, yet. For more information, please see https://github.com/ray-project/ray/issues/36949\n"
     ]
    },
    {
     "data": {
      "text/html": [
       "<div class=\"tuneStatus\">\n",
       "  <div style=\"display: flex;flex-direction: row\">\n",
       "    <div style=\"display: flex;flex-direction: column;\">\n",
       "      <h3>Tune Status</h3>\n",
       "      <table>\n",
       "<tbody>\n",
       "<tr><td>Current time:</td><td>2023-08-22 09:58:55</td></tr>\n",
       "<tr><td>Running for: </td><td>00:11:53.60        </td></tr>\n",
       "<tr><td>Memory:      </td><td>10.7/125.5 GiB     </td></tr>\n",
       "</tbody>\n",
       "</table>\n",
       "    </div>\n",
       "    <div class=\"vDivider\"></div>\n",
       "    <div class=\"systemInfo\">\n",
       "      <h3>System Info</h3>\n",
       "      Using FIFO scheduling algorithm.<br>Logical resource usage: 8.0/40 CPUs, 2.0/8 GPUs (0.0/1.0 accelerator_type:G)\n",
       "    </div>\n",
       "    \n",
       "  </div>\n",
       "  <div class=\"hDivider\"></div>\n",
       "  <div class=\"trialStatus\">\n",
       "    <h3>Trial Status</h3>\n",
       "    <table>\n",
       "<thead>\n",
       "<tr><th>Trial name                     </th><th>status    </th><th>loc                  </th><th style=\"text-align: right;\">  l1</th><th style=\"text-align: right;\">     acc</th><th style=\"text-align: right;\">  iter</th><th style=\"text-align: right;\">  total time (s)</th><th style=\"text-align: right;\">  mean_val_loss</th></tr>\n",
       "</thead>\n",
       "<tbody>\n",
       "<tr><td>train_fashion_mnist_c2748_00000</td><td>TERMINATED</td><td>141.68.100.65:1660649</td><td style=\"text-align: right;\">  32</td><td style=\"text-align: right;\">0.811167</td><td style=\"text-align: right;\">    15</td><td style=\"text-align: right;\">         689.675</td><td style=\"text-align: right;\">       0.533731</td></tr>\n",
       "<tr><td>train_fashion_mnist_c2748_00001</td><td>TERMINATED</td><td>141.68.100.65:1660650</td><td style=\"text-align: right;\">  64</td><td style=\"text-align: right;\">0.823333</td><td style=\"text-align: right;\">    15</td><td style=\"text-align: right;\">         693.263</td><td style=\"text-align: right;\">       0.49121 </td></tr>\n",
       "<tr><td>train_fashion_mnist_c2748_00002</td><td>TERMINATED</td><td>141.68.100.65:1660651</td><td style=\"text-align: right;\"> 128</td><td style=\"text-align: right;\">0.821833</td><td style=\"text-align: right;\">    15</td><td style=\"text-align: right;\">         693.807</td><td style=\"text-align: right;\">       0.501295</td></tr>\n",
       "<tr><td>train_fashion_mnist_c2748_00003</td><td>TERMINATED</td><td>141.68.100.65:1660652</td><td style=\"text-align: right;\"> 256</td><td style=\"text-align: right;\">0.82125 </td><td style=\"text-align: right;\">    15</td><td style=\"text-align: right;\">         695.747</td><td style=\"text-align: right;\">       0.504545</td></tr>\n",
       "</tbody>\n",
       "</table>\n",
       "  </div>\n",
       "</div>\n",
       "<style>\n",
       ".tuneStatus {\n",
       "  color: var(--jp-ui-font-color1);\n",
       "}\n",
       ".tuneStatus .systemInfo {\n",
       "  display: flex;\n",
       "  flex-direction: column;\n",
       "}\n",
       ".tuneStatus td {\n",
       "  white-space: nowrap;\n",
       "}\n",
       ".tuneStatus .trialStatus {\n",
       "  display: flex;\n",
       "  flex-direction: column;\n",
       "}\n",
       ".tuneStatus h3 {\n",
       "  font-weight: bold;\n",
       "}\n",
       ".tuneStatus .hDivider {\n",
       "  border-bottom-width: var(--jp-border-width);\n",
       "  border-bottom-color: var(--jp-border-color0);\n",
       "  border-bottom-style: solid;\n",
       "}\n",
       ".tuneStatus .vDivider {\n",
       "  border-left-width: var(--jp-border-width);\n",
       "  border-left-color: var(--jp-border-color0);\n",
       "  border-left-style: solid;\n",
       "  margin: 0.5em 1em 0.5em 1em;\n",
       "}\n",
       "</style>\n"
      ],
      "text/plain": [
       "<IPython.core.display.HTML object>"
      ]
     },
     "metadata": {},
     "output_type": "display_data"
    },
    {
     "name": "stderr",
     "output_type": "stream",
     "text": [
      "\u001b[2m\u001b[33m(raylet)\u001b[0m [2023-08-22 09:47:06,508 E 1659495 1659513] (raylet) file_system_monitor.cc:111: /tmp/ray/session_2023-08-22_09-44-45_245297_1659393 is over 95% full, available space: 13196525568; capacity: 490444898304. Object creation will fail if spilling is required.\n",
      "2023-08-22 09:47:13,203\tWARNING util.py:315 -- The `on_step_begin` operation took 0.789 s, which may be a performance bottleneck.\n",
      "\u001b[2m\u001b[33m(raylet)\u001b[0m [2023-08-22 09:47:16,509 E 1659495 1659513] (raylet) file_system_monitor.cc:111: /tmp/ray/session_2023-08-22_09-44-45_245297_1659393 is over 95% full, available space: 13196357632; capacity: 490444898304. Object creation will fail if spilling is required.\n",
      "\u001b[2m\u001b[33m(raylet)\u001b[0m [2023-08-22 09:47:26,519 E 1659495 1659513] (raylet) file_system_monitor.cc:111: /tmp/ray/session_2023-08-22_09-44-45_245297_1659393 is over 95% full, available space: 13196312576; capacity: 490444898304. Object creation will fail if spilling is required.\n",
      "\u001b[2m\u001b[33m(raylet)\u001b[0m [2023-08-22 09:47:36,611 E 1659495 1659513] (raylet) file_system_monitor.cc:111: /tmp/ray/session_2023-08-22_09-44-45_245297_1659393 is over 95% full, available space: 13196292096; capacity: 490444898304. Object creation will fail if spilling is required.\n",
      "\u001b[2m\u001b[33m(raylet)\u001b[0m [2023-08-22 09:47:46,648 E 1659495 1659513] (raylet) file_system_monitor.cc:111: /tmp/ray/session_2023-08-22_09-44-45_245297_1659393 is over 95% full, available space: 13196292096; capacity: 490444898304. Object creation will fail if spilling is required.\n",
      "\u001b[2m\u001b[33m(raylet)\u001b[0m [2023-08-22 09:47:56,651 E 1659495 1659513] (raylet) file_system_monitor.cc:111: /tmp/ray/session_2023-08-22_09-44-45_245297_1659393 is over 95% full, available space: 13196283904; capacity: 490444898304. Object creation will fail if spilling is required.\n"
     ]
    },
    {
     "data": {
      "text/html": [
       "<div class=\"trialProgress\">\n",
       "  <h3>Trial Progress</h3>\n",
       "  <table>\n",
       "<thead>\n",
       "<tr><th>Trial name                     </th><th style=\"text-align: right;\">  mean_accuracy</th><th style=\"text-align: right;\">  mean_val_loss</th></tr>\n",
       "</thead>\n",
       "<tbody>\n",
       "<tr><td>train_fashion_mnist_c2748_00000</td><td style=\"text-align: right;\">       0.811167</td><td style=\"text-align: right;\">       0.533731</td></tr>\n",
       "<tr><td>train_fashion_mnist_c2748_00001</td><td style=\"text-align: right;\">       0.823333</td><td style=\"text-align: right;\">       0.49121 </td></tr>\n",
       "<tr><td>train_fashion_mnist_c2748_00002</td><td style=\"text-align: right;\">       0.821833</td><td style=\"text-align: right;\">       0.501295</td></tr>\n",
       "<tr><td>train_fashion_mnist_c2748_00003</td><td style=\"text-align: right;\">       0.82125 </td><td style=\"text-align: right;\">       0.504545</td></tr>\n",
       "</tbody>\n",
       "</table>\n",
       "</div>\n",
       "<style>\n",
       ".trialProgress {\n",
       "  display: flex;\n",
       "  flex-direction: column;\n",
       "  color: var(--jp-ui-font-color1);\n",
       "}\n",
       ".trialProgress h3 {\n",
       "  font-weight: bold;\n",
       "}\n",
       ".trialProgress td {\n",
       "  white-space: nowrap;\n",
       "}\n",
       "</style>\n"
      ],
      "text/plain": [
       "<IPython.core.display.HTML object>"
      ]
     },
     "metadata": {},
     "output_type": "display_data"
    },
    {
     "name": "stderr",
     "output_type": "stream",
     "text": [
      "\u001b[2m\u001b[33m(raylet)\u001b[0m [2023-08-22 09:48:06,658 E 1659495 1659513] (raylet) file_system_monitor.cc:111: /tmp/ray/session_2023-08-22_09-44-45_245297_1659393 is over 95% full, available space: 13196181504; capacity: 490444898304. Object creation will fail if spilling is required.\n",
      "\u001b[2m\u001b[33m(raylet)\u001b[0m [2023-08-22 09:48:16,668 E 1659495 1659513] (raylet) file_system_monitor.cc:111: /tmp/ray/session_2023-08-22_09-44-45_245297_1659393 is over 95% full, available space: 13196111872; capacity: 490444898304. Object creation will fail if spilling is required.\n",
      "\u001b[2m\u001b[33m(raylet)\u001b[0m [2023-08-22 09:48:26,740 E 1659495 1659513] (raylet) file_system_monitor.cc:111: /tmp/ray/session_2023-08-22_09-44-45_245297_1659393 is over 95% full, available space: 13196046336; capacity: 490444898304. Object creation will fail if spilling is required.\n",
      "\u001b[2m\u001b[33m(raylet)\u001b[0m [2023-08-22 09:48:36,809 E 1659495 1659513] (raylet) file_system_monitor.cc:111: /tmp/ray/session_2023-08-22_09-44-45_245297_1659393 is over 95% full, available space: 13196046336; capacity: 490444898304. Object creation will fail if spilling is required.\n",
      "\u001b[2m\u001b[33m(raylet)\u001b[0m [2023-08-22 09:48:46,871 E 1659495 1659513] (raylet) file_system_monitor.cc:111: /tmp/ray/session_2023-08-22_09-44-45_245297_1659393 is over 95% full, available space: 13196034048; capacity: 490444898304. Object creation will fail if spilling is required.\n",
      "\u001b[2m\u001b[33m(raylet)\u001b[0m [2023-08-22 09:48:56,959 E 1659495 1659513] (raylet) file_system_monitor.cc:111: /tmp/ray/session_2023-08-22_09-44-45_245297_1659393 is over 95% full, available space: 13195993088; capacity: 490444898304. Object creation will fail if spilling is required.\n",
      "\u001b[2m\u001b[33m(raylet)\u001b[0m [2023-08-22 09:49:07,008 E 1659495 1659513] (raylet) file_system_monitor.cc:111: /tmp/ray/session_2023-08-22_09-44-45_245297_1659393 is over 95% full, available space: 13195927552; capacity: 490444898304. Object creation will fail if spilling is required.\n",
      "\u001b[2m\u001b[33m(raylet)\u001b[0m [2023-08-22 09:49:17,055 E 1659495 1659513] (raylet) file_system_monitor.cc:111: /tmp/ray/session_2023-08-22_09-44-45_245297_1659393 is over 95% full, available space: 13195919360; capacity: 490444898304. Object creation will fail if spilling is required.\n",
      "\u001b[2m\u001b[33m(raylet)\u001b[0m [2023-08-22 09:49:27,118 E 1659495 1659513] (raylet) file_system_monitor.cc:111: /tmp/ray/session_2023-08-22_09-44-45_245297_1659393 is over 95% full, available space: 13195915264; capacity: 490444898304. Object creation will fail if spilling is required.\n",
      "\u001b[2m\u001b[33m(raylet)\u001b[0m [2023-08-22 09:49:37,155 E 1659495 1659513] (raylet) file_system_monitor.cc:111: /tmp/ray/session_2023-08-22_09-44-45_245297_1659393 is over 95% full, available space: 13195878400; capacity: 490444898304. Object creation will fail if spilling is required.\n",
      "\u001b[2m\u001b[33m(raylet)\u001b[0m [2023-08-22 09:49:47,206 E 1659495 1659513] (raylet) file_system_monitor.cc:111: /tmp/ray/session_2023-08-22_09-44-45_245297_1659393 is over 95% full, available space: 13195845632; capacity: 490444898304. Object creation will fail if spilling is required.\n",
      "\u001b[2m\u001b[33m(raylet)\u001b[0m [2023-08-22 09:49:57,262 E 1659495 1659513] (raylet) file_system_monitor.cc:111: /tmp/ray/session_2023-08-22_09-44-45_245297_1659393 is over 95% full, available space: 13195829248; capacity: 490444898304. Object creation will fail if spilling is required.\n",
      "\u001b[2m\u001b[33m(raylet)\u001b[0m [2023-08-22 09:50:07,282 E 1659495 1659513] (raylet) file_system_monitor.cc:111: /tmp/ray/session_2023-08-22_09-44-45_245297_1659393 is over 95% full, available space: 13195767808; capacity: 490444898304. Object creation will fail if spilling is required.\n",
      "\u001b[2m\u001b[33m(raylet)\u001b[0m [2023-08-22 09:50:17,321 E 1659495 1659513] (raylet) file_system_monitor.cc:111: /tmp/ray/session_2023-08-22_09-44-45_245297_1659393 is over 95% full, available space: 13195751424; capacity: 490444898304. Object creation will fail if spilling is required.\n",
      "\u001b[2m\u001b[33m(raylet)\u001b[0m [2023-08-22 09:50:27,369 E 1659495 1659513] (raylet) file_system_monitor.cc:111: /tmp/ray/session_2023-08-22_09-44-45_245297_1659393 is over 95% full, available space: 13195739136; capacity: 490444898304. Object creation will fail if spilling is required.\n",
      "\u001b[2m\u001b[33m(raylet)\u001b[0m [2023-08-22 09:50:37,384 E 1659495 1659513] (raylet) file_system_monitor.cc:111: /tmp/ray/session_2023-08-22_09-44-45_245297_1659393 is over 95% full, available space: 13195685888; capacity: 490444898304. Object creation will fail if spilling is required.\n",
      "\u001b[2m\u001b[33m(raylet)\u001b[0m [2023-08-22 09:50:47,476 E 1659495 1659513] (raylet) file_system_monitor.cc:111: /tmp/ray/session_2023-08-22_09-44-45_245297_1659393 is over 95% full, available space: 13195673600; capacity: 490444898304. Object creation will fail if spilling is required.\n",
      "\u001b[2m\u001b[33m(raylet)\u001b[0m [2023-08-22 09:50:57,552 E 1659495 1659513] (raylet) file_system_monitor.cc:111: /tmp/ray/session_2023-08-22_09-44-45_245297_1659393 is over 95% full, available space: 13195665408; capacity: 490444898304. Object creation will fail if spilling is required.\n",
      "\u001b[2m\u001b[33m(raylet)\u001b[0m [2023-08-22 09:51:07,592 E 1659495 1659513] (raylet) file_system_monitor.cc:111: /tmp/ray/session_2023-08-22_09-44-45_245297_1659393 is over 95% full, available space: 13195624448; capacity: 490444898304. Object creation will fail if spilling is required.\n",
      "\u001b[2m\u001b[33m(raylet)\u001b[0m [2023-08-22 09:51:17,678 E 1659495 1659513] (raylet) file_system_monitor.cc:111: /tmp/ray/session_2023-08-22_09-44-45_245297_1659393 is over 95% full, available space: 13195571200; capacity: 490444898304. Object creation will fail if spilling is required.\n",
      "\u001b[2m\u001b[33m(raylet)\u001b[0m [2023-08-22 09:51:27,741 E 1659495 1659513] (raylet) file_system_monitor.cc:111: /tmp/ray/session_2023-08-22_09-44-45_245297_1659393 is over 95% full, available space: 13195550720; capacity: 490444898304. Object creation will fail if spilling is required.\n",
      "\u001b[2m\u001b[33m(raylet)\u001b[0m [2023-08-22 09:51:37,779 E 1659495 1659513] (raylet) file_system_monitor.cc:111: /tmp/ray/session_2023-08-22_09-44-45_245297_1659393 is over 95% full, available space: 13195538432; capacity: 490444898304. Object creation will fail if spilling is required.\n",
      "\u001b[2m\u001b[33m(raylet)\u001b[0m [2023-08-22 09:51:47,815 E 1659495 1659513] (raylet) file_system_monitor.cc:111: /tmp/ray/session_2023-08-22_09-44-45_245297_1659393 is over 95% full, available space: 13195538432; capacity: 490444898304. Object creation will fail if spilling is required.\n",
      "\u001b[2m\u001b[33m(raylet)\u001b[0m [2023-08-22 09:51:57,873 E 1659495 1659513] (raylet) file_system_monitor.cc:111: /tmp/ray/session_2023-08-22_09-44-45_245297_1659393 is over 95% full, available space: 13195513856; capacity: 490444898304. Object creation will fail if spilling is required.\n",
      "\u001b[2m\u001b[33m(raylet)\u001b[0m [2023-08-22 09:52:07,963 E 1659495 1659513] (raylet) file_system_monitor.cc:111: /tmp/ray/session_2023-08-22_09-44-45_245297_1659393 is over 95% full, available space: 13195436032; capacity: 490444898304. Object creation will fail if spilling is required.\n",
      "\u001b[2m\u001b[33m(raylet)\u001b[0m [2023-08-22 09:52:17,984 E 1659495 1659513] (raylet) file_system_monitor.cc:111: /tmp/ray/session_2023-08-22_09-44-45_245297_1659393 is over 95% full, available space: 13195411456; capacity: 490444898304. Object creation will fail if spilling is required.\n",
      "\u001b[2m\u001b[33m(raylet)\u001b[0m [2023-08-22 09:52:28,055 E 1659495 1659513] (raylet) file_system_monitor.cc:111: /tmp/ray/session_2023-08-22_09-44-45_245297_1659393 is over 95% full, available space: 13195407360; capacity: 490444898304. Object creation will fail if spilling is required.\n",
      "\u001b[2m\u001b[33m(raylet)\u001b[0m [2023-08-22 09:52:38,062 E 1659495 1659513] (raylet) file_system_monitor.cc:111: /tmp/ray/session_2023-08-22_09-44-45_245297_1659393 is over 95% full, available space: 13195395072; capacity: 490444898304. Object creation will fail if spilling is required.\n",
      "\u001b[2m\u001b[33m(raylet)\u001b[0m [2023-08-22 09:52:48,101 E 1659495 1659513] (raylet) file_system_monitor.cc:111: /tmp/ray/session_2023-08-22_09-44-45_245297_1659393 is over 95% full, available space: 13195358208; capacity: 490444898304. Object creation will fail if spilling is required.\n",
      "\u001b[2m\u001b[33m(raylet)\u001b[0m [2023-08-22 09:52:58,190 E 1659495 1659513] (raylet) file_system_monitor.cc:111: /tmp/ray/session_2023-08-22_09-44-45_245297_1659393 is over 95% full, available space: 13195329536; capacity: 490444898304. Object creation will fail if spilling is required.\n",
      "\u001b[2m\u001b[33m(raylet)\u001b[0m [2023-08-22 09:53:08,261 E 1659495 1659513] (raylet) file_system_monitor.cc:111: /tmp/ray/session_2023-08-22_09-44-45_245297_1659393 is over 95% full, available space: 13195264000; capacity: 490444898304. Object creation will fail if spilling is required.\n",
      "\u001b[2m\u001b[33m(raylet)\u001b[0m [2023-08-22 09:53:18,318 E 1659495 1659513] (raylet) file_system_monitor.cc:111: /tmp/ray/session_2023-08-22_09-44-45_245297_1659393 is over 95% full, available space: 13195259904; capacity: 490444898304. Object creation will fail if spilling is required.\n",
      "\u001b[2m\u001b[33m(raylet)\u001b[0m [2023-08-22 09:53:28,407 E 1659495 1659513] (raylet) file_system_monitor.cc:111: /tmp/ray/session_2023-08-22_09-44-45_245297_1659393 is over 95% full, available space: 13195231232; capacity: 490444898304. Object creation will fail if spilling is required.\n",
      "\u001b[2m\u001b[33m(raylet)\u001b[0m [2023-08-22 09:53:38,498 E 1659495 1659513] (raylet) file_system_monitor.cc:111: /tmp/ray/session_2023-08-22_09-44-45_245297_1659393 is over 95% full, available space: 13195194368; capacity: 490444898304. Object creation will fail if spilling is required.\n",
      "\u001b[2m\u001b[33m(raylet)\u001b[0m [2023-08-22 09:53:48,599 E 1659495 1659513] (raylet) file_system_monitor.cc:111: /tmp/ray/session_2023-08-22_09-44-45_245297_1659393 is over 95% full, available space: 13195186176; capacity: 490444898304. Object creation will fail if spilling is required.\n",
      "\u001b[2m\u001b[33m(raylet)\u001b[0m [2023-08-22 09:53:58,600 E 1659495 1659513] (raylet) file_system_monitor.cc:111: /tmp/ray/session_2023-08-22_09-44-45_245297_1659393 is over 95% full, available space: 13195177984; capacity: 490444898304. Object creation will fail if spilling is required.\n",
      "\u001b[2m\u001b[33m(raylet)\u001b[0m [2023-08-22 09:54:08,696 E 1659495 1659513] (raylet) file_system_monitor.cc:111: /tmp/ray/session_2023-08-22_09-44-45_245297_1659393 is over 95% full, available space: 13195137024; capacity: 490444898304. Object creation will fail if spilling is required.\n",
      "\u001b[2m\u001b[33m(raylet)\u001b[0m [2023-08-22 09:54:18,723 E 1659495 1659513] (raylet) file_system_monitor.cc:111: /tmp/ray/session_2023-08-22_09-44-45_245297_1659393 is over 95% full, available space: 13195079680; capacity: 490444898304. Object creation will fail if spilling is required.\n",
      "\u001b[2m\u001b[33m(raylet)\u001b[0m [2023-08-22 09:54:28,787 E 1659495 1659513] (raylet) file_system_monitor.cc:111: /tmp/ray/session_2023-08-22_09-44-45_245297_1659393 is over 95% full, available space: 13195022336; capacity: 490444898304. Object creation will fail if spilling is required.\n",
      "\u001b[2m\u001b[33m(raylet)\u001b[0m [2023-08-22 09:54:38,850 E 1659495 1659513] (raylet) file_system_monitor.cc:111: /tmp/ray/session_2023-08-22_09-44-45_245297_1659393 is over 95% full, available space: 13195022336; capacity: 490444898304. Object creation will fail if spilling is required.\n",
      "\u001b[2m\u001b[33m(raylet)\u001b[0m [2023-08-22 09:54:48,876 E 1659495 1659513] (raylet) file_system_monitor.cc:111: /tmp/ray/session_2023-08-22_09-44-45_245297_1659393 is over 95% full, available space: 13195001856; capacity: 490444898304. Object creation will fail if spilling is required.\n",
      "\u001b[2m\u001b[33m(raylet)\u001b[0m [2023-08-22 09:54:58,876 E 1659495 1659513] (raylet) file_system_monitor.cc:111: /tmp/ray/session_2023-08-22_09-44-45_245297_1659393 is over 95% full, available space: 13194981376; capacity: 490444898304. Object creation will fail if spilling is required.\n",
      "\u001b[2m\u001b[33m(raylet)\u001b[0m [2023-08-22 09:55:08,933 E 1659495 1659513] (raylet) file_system_monitor.cc:111: /tmp/ray/session_2023-08-22_09-44-45_245297_1659393 is over 95% full, available space: 13194862592; capacity: 490444898304. Object creation will fail if spilling is required.\n",
      "\u001b[2m\u001b[33m(raylet)\u001b[0m [2023-08-22 09:55:18,941 E 1659495 1659513] (raylet) file_system_monitor.cc:111: /tmp/ray/session_2023-08-22_09-44-45_245297_1659393 is over 95% full, available space: 13194838016; capacity: 490444898304. Object creation will fail if spilling is required.\n",
      "\u001b[2m\u001b[33m(raylet)\u001b[0m [2023-08-22 09:55:28,961 E 1659495 1659513] (raylet) file_system_monitor.cc:111: /tmp/ray/session_2023-08-22_09-44-45_245297_1659393 is over 95% full, available space: 13194833920; capacity: 490444898304. Object creation will fail if spilling is required.\n",
      "\u001b[2m\u001b[33m(raylet)\u001b[0m [2023-08-22 09:55:39,005 E 1659495 1659513] (raylet) file_system_monitor.cc:111: /tmp/ray/session_2023-08-22_09-44-45_245297_1659393 is over 95% full, available space: 13194825728; capacity: 490444898304. Object creation will fail if spilling is required.\n",
      "\u001b[2m\u001b[33m(raylet)\u001b[0m [2023-08-22 09:55:49,058 E 1659495 1659513] (raylet) file_system_monitor.cc:111: /tmp/ray/session_2023-08-22_09-44-45_245297_1659393 is over 95% full, available space: 13194784768; capacity: 490444898304. Object creation will fail if spilling is required.\n",
      "\u001b[2m\u001b[33m(raylet)\u001b[0m [2023-08-22 09:55:59,094 E 1659495 1659513] (raylet) file_system_monitor.cc:111: /tmp/ray/session_2023-08-22_09-44-45_245297_1659393 is over 95% full, available space: 13194719232; capacity: 490444898304. Object creation will fail if spilling is required.\n",
      "\u001b[2m\u001b[33m(raylet)\u001b[0m [2023-08-22 09:56:09,137 E 1659495 1659513] (raylet) file_system_monitor.cc:111: /tmp/ray/session_2023-08-22_09-44-45_245297_1659393 is over 95% full, available space: 13194702848; capacity: 490444898304. Object creation will fail if spilling is required.\n",
      "\u001b[2m\u001b[33m(raylet)\u001b[0m [2023-08-22 09:56:19,163 E 1659495 1659513] (raylet) file_system_monitor.cc:111: /tmp/ray/session_2023-08-22_09-44-45_245297_1659393 is over 95% full, available space: 13194690560; capacity: 490444898304. Object creation will fail if spilling is required.\n",
      "\u001b[2m\u001b[33m(raylet)\u001b[0m [2023-08-22 09:56:29,219 E 1659495 1659513] (raylet) file_system_monitor.cc:111: /tmp/ray/session_2023-08-22_09-44-45_245297_1659393 is over 95% full, available space: 13194670080; capacity: 490444898304. Object creation will fail if spilling is required.\n",
      "\u001b[2m\u001b[33m(raylet)\u001b[0m [2023-08-22 09:56:39,230 E 1659495 1659513] (raylet) file_system_monitor.cc:111: /tmp/ray/session_2023-08-22_09-44-45_245297_1659393 is over 95% full, available space: 13194633216; capacity: 490444898304. Object creation will fail if spilling is required.\n",
      "\u001b[2m\u001b[33m(raylet)\u001b[0m [2023-08-22 09:56:49,331 E 1659495 1659513] (raylet) file_system_monitor.cc:111: /tmp/ray/session_2023-08-22_09-44-45_245297_1659393 is over 95% full, available space: 13194604544; capacity: 490444898304. Object creation will fail if spilling is required.\n",
      "\u001b[2m\u001b[33m(raylet)\u001b[0m [2023-08-22 09:56:59,366 E 1659495 1659513] (raylet) file_system_monitor.cc:111: /tmp/ray/session_2023-08-22_09-44-45_245297_1659393 is over 95% full, available space: 13194579968; capacity: 490444898304. Object creation will fail if spilling is required.\n",
      "\u001b[2m\u001b[33m(raylet)\u001b[0m [2023-08-22 09:57:09,387 E 1659495 1659513] (raylet) file_system_monitor.cc:111: /tmp/ray/session_2023-08-22_09-44-45_245297_1659393 is over 95% full, available space: 13194534912; capacity: 490444898304. Object creation will fail if spilling is required.\n",
      "\u001b[2m\u001b[33m(raylet)\u001b[0m [2023-08-22 09:57:19,439 E 1659495 1659513] (raylet) file_system_monitor.cc:111: /tmp/ray/session_2023-08-22_09-44-45_245297_1659393 is over 95% full, available space: 13194481664; capacity: 490444898304. Object creation will fail if spilling is required.\n",
      "\u001b[2m\u001b[33m(raylet)\u001b[0m [2023-08-22 09:57:29,538 E 1659495 1659513] (raylet) file_system_monitor.cc:111: /tmp/ray/session_2023-08-22_09-44-45_245297_1659393 is over 95% full, available space: 13194457088; capacity: 490444898304. Object creation will fail if spilling is required.\n",
      "\u001b[2m\u001b[33m(raylet)\u001b[0m [2023-08-22 09:57:39,622 E 1659495 1659513] (raylet) file_system_monitor.cc:111: /tmp/ray/session_2023-08-22_09-44-45_245297_1659393 is over 95% full, available space: 13194436608; capacity: 490444898304. Object creation will fail if spilling is required.\n",
      "\u001b[2m\u001b[33m(raylet)\u001b[0m [2023-08-22 09:57:49,634 E 1659495 1659513] (raylet) file_system_monitor.cc:111: /tmp/ray/session_2023-08-22_09-44-45_245297_1659393 is over 95% full, available space: 13194436608; capacity: 490444898304. Object creation will fail if spilling is required.\n",
      "\u001b[2m\u001b[33m(raylet)\u001b[0m [2023-08-22 09:57:59,703 E 1659495 1659513] (raylet) file_system_monitor.cc:111: /tmp/ray/session_2023-08-22_09-44-45_245297_1659393 is over 95% full, available space: 13194403840; capacity: 490444898304. Object creation will fail if spilling is required.\n",
      "\u001b[2m\u001b[33m(raylet)\u001b[0m [2023-08-22 09:58:09,775 E 1659495 1659513] (raylet) file_system_monitor.cc:111: /tmp/ray/session_2023-08-22_09-44-45_245297_1659393 is over 95% full, available space: 13194350592; capacity: 490444898304. Object creation will fail if spilling is required.\n",
      "\u001b[2m\u001b[33m(raylet)\u001b[0m [2023-08-22 09:58:19,867 E 1659495 1659513] (raylet) file_system_monitor.cc:111: /tmp/ray/session_2023-08-22_09-44-45_245297_1659393 is over 95% full, available space: 13194326016; capacity: 490444898304. Object creation will fail if spilling is required.\n",
      "\u001b[2m\u001b[33m(raylet)\u001b[0m [2023-08-22 09:58:29,941 E 1659495 1659513] (raylet) file_system_monitor.cc:111: /tmp/ray/session_2023-08-22_09-44-45_245297_1659393 is over 95% full, available space: 13194321920; capacity: 490444898304. Object creation will fail if spilling is required.\n",
      "\u001b[2m\u001b[33m(raylet)\u001b[0m [2023-08-22 09:58:40,034 E 1659495 1659513] (raylet) file_system_monitor.cc:111: /tmp/ray/session_2023-08-22_09-44-45_245297_1659393 is over 95% full, available space: 13194317824; capacity: 490444898304. Object creation will fail if spilling is required.\n",
      "\u001b[2m\u001b[33m(raylet)\u001b[0m [2023-08-22 09:58:50,110 E 1659495 1659513] (raylet) file_system_monitor.cc:111: /tmp/ray/session_2023-08-22_09-44-45_245297_1659393 is over 95% full, available space: 13194285056; capacity: 490444898304. Object creation will fail if spilling is required.\n"
     ]
    },
    {
     "name": "stdout",
     "output_type": "stream",
     "text": [
      "Trial c2748_00000: Chosen l1 = 32\n",
      "Trial c2748_00002: Chosen l1 = 128\n",
      "Trial c2748_00001: Chosen l1 = 64\n",
      "Trial c2748_00003: Chosen l1 = 256\n"
     ]
    },
    {
     "name": "stderr",
     "output_type": "stream",
     "text": [
      "2023-08-22 09:58:55,988\tINFO tune.py:1148 -- Total run time: 713.86 seconds (713.59 seconds for the tuning loop).\n"
     ]
    },
    {
     "name": "stdout",
     "output_type": "stream",
     "text": [
      "Chosen l1: 64\n",
      "Best trial config: {'epochs': 15, 'learning_rate': 0.001, 'batch_size': 64, 'l1': 64}\n",
      "Best trial metrics: {'mean_accuracy': {'max': 0.8233333333333334, 'min': 0.44225, 'avg': 0.7548444444444442, 'last': 0.8233333333333334, 'last-5-avg': 0.8172333333333333, 'last-10-avg': 0.8036000000000001}, 'mean_val_loss': {'max': 2.143372167932226, 'min': 0.491209994922293, 'avg': 0.7605234654342873, 'last': 0.491209994922293, 'last-5-avg': 0.5108064036737098, 'last-10-avg': 0.5463347244294401}, 'time_this_iter_s': {'max': 50.83018946647644, 'min': 41.33314752578735, 'avg': 46.21753977139791, 'last': 44.04406690597534, 'last-5-avg': 46.462007665634154, 'last-10-avg': 46.027286529541016}, 'done': {'max': False, 'min': False, 'avg': 0.0, 'last': False, 'last-5-avg': 0.0, 'last-10-avg': 0.0}, 'training_iteration': {'max': 15, 'min': 1, 'avg': 8.0, 'last': 15, 'last-5-avg': 13.0, 'last-10-avg': 10.5}, 'time_total_s': {'max': 693.2630965709686, 'min': 46.41031455993652, 'avg': 371.8540986537934, 'last': 693.2630965709686, 'last-5-avg': 601.9850643634796, 'last-10-avg': 487.5905147790909}, 'time_since_restore': {'max': 693.2630965709686, 'min': 46.41031455993652, 'avg': 371.8540986537934, 'last': 693.2630965709686, 'last-5-avg': 601.9850643634796, 'last-10-avg': 487.5905147790909}, 'iterations_since_restore': {'max': 15, 'min': 1, 'avg': 8.0, 'last': 15, 'last-5-avg': 13.0, 'last-10-avg': 10.5}}\n"
     ]
    },
    {
     "name": "stderr",
     "output_type": "stream",
     "text": [
      "\u001b[2m\u001b[33m(raylet)\u001b[0m [2023-08-22 09:59:00,146 E 1659495 1659513] (raylet) file_system_monitor.cc:111: /tmp/ray/session_2023-08-22_09-44-45_245297_1659393 is over 95% full, available space: 13194276864; capacity: 490444898304. Object creation will fail if spilling is required.\n",
      "\u001b[2m\u001b[33m(raylet)\u001b[0m [2023-08-22 09:59:10,198 E 1659495 1659513] (raylet) file_system_monitor.cc:111: /tmp/ray/session_2023-08-22_09-44-45_245297_1659393 is over 95% full, available space: 13194244096; capacity: 490444898304. Object creation will fail if spilling is required.\n",
      "\u001b[2m\u001b[33m(raylet)\u001b[0m [2023-08-22 09:59:20,261 E 1659495 1659513] (raylet) file_system_monitor.cc:111: /tmp/ray/session_2023-08-22_09-44-45_245297_1659393 is over 95% full, available space: 13194244096; capacity: 490444898304. Object creation will fail if spilling is required.\n",
      "\u001b[2m\u001b[33m(raylet)\u001b[0m [2023-08-22 09:59:30,318 E 1659495 1659513] (raylet) file_system_monitor.cc:111: /tmp/ray/session_2023-08-22_09-44-45_245297_1659393 is over 95% full, available space: 13194240000; capacity: 490444898304. Object creation will fail if spilling is required.\n",
      "\u001b[2m\u001b[33m(raylet)\u001b[0m [2023-08-22 09:59:40,371 E 1659495 1659513] (raylet) file_system_monitor.cc:111: /tmp/ray/session_2023-08-22_09-44-45_245297_1659393 is over 95% full, available space: 13194231808; capacity: 490444898304. Object creation will fail if spilling is required.\n",
      "\u001b[2m\u001b[33m(raylet)\u001b[0m [2023-08-22 09:59:50,438 E 1659495 1659513] (raylet) file_system_monitor.cc:111: /tmp/ray/session_2023-08-22_09-44-45_245297_1659393 is over 95% full, available space: 13194231808; capacity: 490444898304. Object creation will fail if spilling is required.\n",
      "\u001b[2m\u001b[33m(raylet)\u001b[0m [2023-08-22 10:00:00,492 E 1659495 1659513] (raylet) file_system_monitor.cc:111: /tmp/ray/session_2023-08-22_09-44-45_245297_1659393 is over 95% full, available space: 13194203136; capacity: 490444898304. Object creation will fail if spilling is required.\n",
      "\u001b[2m\u001b[33m(raylet)\u001b[0m [2023-08-22 10:00:10,551 E 1659495 1659513] (raylet) file_system_monitor.cc:111: /tmp/ray/session_2023-08-22_09-44-45_245297_1659393 is over 95% full, available space: 13194190848; capacity: 490444898304. Object creation will fail if spilling is required.\n",
      "\u001b[2m\u001b[33m(raylet)\u001b[0m [2023-08-22 10:00:20,615 E 1659495 1659513] (raylet) file_system_monitor.cc:111: /tmp/ray/session_2023-08-22_09-44-45_245297_1659393 is over 95% full, available space: 13194186752; capacity: 490444898304. Object creation will fail if spilling is required.\n",
      "\u001b[2m\u001b[33m(raylet)\u001b[0m [2023-08-22 10:00:30,683 E 1659495 1659513] (raylet) file_system_monitor.cc:111: /tmp/ray/session_2023-08-22_09-44-45_245297_1659393 is over 95% full, available space: 13194186752; capacity: 490444898304. Object creation will fail if spilling is required.\n",
      "\u001b[2m\u001b[33m(raylet)\u001b[0m [2023-08-22 10:00:40,743 E 1659495 1659513] (raylet) file_system_monitor.cc:111: /tmp/ray/session_2023-08-22_09-44-45_245297_1659393 is over 95% full, available space: 13194182656; capacity: 490444898304. Object creation will fail if spilling is required.\n",
      "\u001b[2m\u001b[33m(raylet)\u001b[0m [2023-08-22 10:00:50,808 E 1659495 1659513] (raylet) file_system_monitor.cc:111: /tmp/ray/session_2023-08-22_09-44-45_245297_1659393 is over 95% full, available space: 13194182656; capacity: 490444898304. Object creation will fail if spilling is required.\n",
      "\u001b[2m\u001b[33m(raylet)\u001b[0m [2023-08-22 10:01:00,862 E 1659495 1659513] (raylet) file_system_monitor.cc:111: /tmp/ray/session_2023-08-22_09-44-45_245297_1659393 is over 95% full, available space: 13194149888; capacity: 490444898304. Object creation will fail if spilling is required.\n",
      "\u001b[2m\u001b[33m(raylet)\u001b[0m [2023-08-22 10:01:10,925 E 1659495 1659513] (raylet) file_system_monitor.cc:111: /tmp/ray/session_2023-08-22_09-44-45_245297_1659393 is over 95% full, available space: 13194108928; capacity: 490444898304. Object creation will fail if spilling is required.\n",
      "\u001b[2m\u001b[33m(raylet)\u001b[0m [2023-08-22 10:01:20,981 E 1659495 1659513] (raylet) file_system_monitor.cc:111: /tmp/ray/session_2023-08-22_09-44-45_245297_1659393 is over 95% full, available space: 13194108928; capacity: 490444898304. Object creation will fail if spilling is required.\n",
      "\u001b[2m\u001b[33m(raylet)\u001b[0m [2023-08-22 10:01:31,048 E 1659495 1659513] (raylet) file_system_monitor.cc:111: /tmp/ray/session_2023-08-22_09-44-45_245297_1659393 is over 95% full, available space: 13194100736; capacity: 490444898304. Object creation will fail if spilling is required.\n",
      "\u001b[2m\u001b[33m(raylet)\u001b[0m [2023-08-22 10:01:41,111 E 1659495 1659513] (raylet) file_system_monitor.cc:111: /tmp/ray/session_2023-08-22_09-44-45_245297_1659393 is over 95% full, available space: 13194100736; capacity: 490444898304. Object creation will fail if spilling is required.\n",
      "\u001b[2m\u001b[33m(raylet)\u001b[0m [2023-08-22 10:01:51,175 E 1659495 1659513] (raylet) file_system_monitor.cc:111: /tmp/ray/session_2023-08-22_09-44-45_245297_1659393 is over 95% full, available space: 13194096640; capacity: 490444898304. Object creation will fail if spilling is required.\n",
      "\u001b[2m\u001b[33m(raylet)\u001b[0m [2023-08-22 10:02:01,246 E 1659495 1659513] (raylet) file_system_monitor.cc:111: /tmp/ray/session_2023-08-22_09-44-45_245297_1659393 is over 95% full, available space: 13194067968; capacity: 490444898304. Object creation will fail if spilling is required.\n",
      "\u001b[2m\u001b[33m(raylet)\u001b[0m [2023-08-22 10:02:11,317 E 1659495 1659513] (raylet) file_system_monitor.cc:111: /tmp/ray/session_2023-08-22_09-44-45_245297_1659393 is over 95% full, available space: 13194063872; capacity: 490444898304. Object creation will fail if spilling is required.\n",
      "\u001b[2m\u001b[33m(raylet)\u001b[0m [2023-08-22 10:02:21,381 E 1659495 1659513] (raylet) file_system_monitor.cc:111: /tmp/ray/session_2023-08-22_09-44-45_245297_1659393 is over 95% full, available space: 13194055680; capacity: 490444898304. Object creation will fail if spilling is required.\n",
      "\u001b[2m\u001b[33m(raylet)\u001b[0m [2023-08-22 10:02:31,445 E 1659495 1659513] (raylet) file_system_monitor.cc:111: /tmp/ray/session_2023-08-22_09-44-45_245297_1659393 is over 95% full, available space: 13194055680; capacity: 490444898304. Object creation will fail if spilling is required.\n",
      "\u001b[2m\u001b[33m(raylet)\u001b[0m [2023-08-22 10:02:41,514 E 1659495 1659513] (raylet) file_system_monitor.cc:111: /tmp/ray/session_2023-08-22_09-44-45_245297_1659393 is over 95% full, available space: 13194055680; capacity: 490444898304. Object creation will fail if spilling is required.\n",
      "\u001b[2m\u001b[33m(raylet)\u001b[0m [2023-08-22 10:02:51,575 E 1659495 1659513] (raylet) file_system_monitor.cc:111: /tmp/ray/session_2023-08-22_09-44-45_245297_1659393 is over 95% full, available space: 13194047488; capacity: 490444898304. Object creation will fail if spilling is required.\n",
      "\u001b[2m\u001b[33m(raylet)\u001b[0m [2023-08-22 10:03:01,643 E 1659495 1659513] (raylet) file_system_monitor.cc:111: /tmp/ray/session_2023-08-22_09-44-45_245297_1659393 is over 95% full, available space: 13194006528; capacity: 490444898304. Object creation will fail if spilling is required.\n",
      "\u001b[2m\u001b[33m(raylet)\u001b[0m [2023-08-22 10:03:11,699 E 1659495 1659513] (raylet) file_system_monitor.cc:111: /tmp/ray/session_2023-08-22_09-44-45_245297_1659393 is over 95% full, available space: 13193986048; capacity: 490444898304. Object creation will fail if spilling is required.\n",
      "\u001b[2m\u001b[33m(raylet)\u001b[0m [2023-08-22 10:03:21,756 E 1659495 1659513] (raylet) file_system_monitor.cc:111: /tmp/ray/session_2023-08-22_09-44-45_245297_1659393 is over 95% full, available space: 13193981952; capacity: 490444898304. Object creation will fail if spilling is required.\n",
      "\u001b[2m\u001b[33m(raylet)\u001b[0m [2023-08-22 10:03:31,834 E 1659495 1659513] (raylet) file_system_monitor.cc:111: /tmp/ray/session_2023-08-22_09-44-45_245297_1659393 is over 95% full, available space: 13193973760; capacity: 490444898304. Object creation will fail if spilling is required.\n",
      "\u001b[2m\u001b[33m(raylet)\u001b[0m [2023-08-22 10:03:41,899 E 1659495 1659513] (raylet) file_system_monitor.cc:111: /tmp/ray/session_2023-08-22_09-44-45_245297_1659393 is over 95% full, available space: 13193969664; capacity: 490444898304. Object creation will fail if spilling is required.\n",
      "\u001b[2m\u001b[33m(raylet)\u001b[0m [2023-08-22 10:03:51,975 E 1659495 1659513] (raylet) file_system_monitor.cc:111: /tmp/ray/session_2023-08-22_09-44-45_245297_1659393 is over 95% full, available space: 13193965568; capacity: 490444898304. Object creation will fail if spilling is required.\n",
      "\u001b[2m\u001b[33m(raylet)\u001b[0m [2023-08-22 10:04:02,035 E 1659495 1659513] (raylet) file_system_monitor.cc:111: /tmp/ray/session_2023-08-22_09-44-45_245297_1659393 is over 95% full, available space: 13193940992; capacity: 490444898304. Object creation will fail if spilling is required.\n",
      "\u001b[2m\u001b[33m(raylet)\u001b[0m [2023-08-22 10:04:12,094 E 1659495 1659513] (raylet) file_system_monitor.cc:111: /tmp/ray/session_2023-08-22_09-44-45_245297_1659393 is over 95% full, available space: 13193924608; capacity: 490444898304. Object creation will fail if spilling is required.\n",
      "\u001b[2m\u001b[33m(raylet)\u001b[0m [2023-08-22 10:04:22,158 E 1659495 1659513] (raylet) file_system_monitor.cc:111: /tmp/ray/session_2023-08-22_09-44-45_245297_1659393 is over 95% full, available space: 13193924608; capacity: 490444898304. Object creation will fail if spilling is required.\n",
      "\u001b[2m\u001b[33m(raylet)\u001b[0m [2023-08-22 10:04:32,221 E 1659495 1659513] (raylet) file_system_monitor.cc:111: /tmp/ray/session_2023-08-22_09-44-45_245297_1659393 is over 95% full, available space: 13193924608; capacity: 490444898304. Object creation will fail if spilling is required.\n",
      "\u001b[2m\u001b[33m(raylet)\u001b[0m [2023-08-22 10:04:42,299 E 1659495 1659513] (raylet) file_system_monitor.cc:111: /tmp/ray/session_2023-08-22_09-44-45_245297_1659393 is over 95% full, available space: 13193920512; capacity: 490444898304. Object creation will fail if spilling is required.\n",
      "\u001b[2m\u001b[33m(raylet)\u001b[0m [2023-08-22 10:04:52,358 E 1659495 1659513] (raylet) file_system_monitor.cc:111: /tmp/ray/session_2023-08-22_09-44-45_245297_1659393 is over 95% full, available space: 13193916416; capacity: 490444898304. Object creation will fail if spilling is required.\n",
      "\u001b[2m\u001b[33m(raylet)\u001b[0m [2023-08-22 10:05:02,421 E 1659495 1659513] (raylet) file_system_monitor.cc:111: /tmp/ray/session_2023-08-22_09-44-45_245297_1659393 is over 95% full, available space: 13193842688; capacity: 490444898304. Object creation will fail if spilling is required.\n",
      "\u001b[2m\u001b[33m(raylet)\u001b[0m [2023-08-22 10:05:12,501 E 1659495 1659513] (raylet) file_system_monitor.cc:111: /tmp/ray/session_2023-08-22_09-44-45_245297_1659393 is over 95% full, available space: 13193842688; capacity: 490444898304. Object creation will fail if spilling is required.\n",
      "\u001b[2m\u001b[33m(raylet)\u001b[0m [2023-08-22 10:05:22,577 E 1659495 1659513] (raylet) file_system_monitor.cc:111: /tmp/ray/session_2023-08-22_09-44-45_245297_1659393 is over 95% full, available space: 13193842688; capacity: 490444898304. Object creation will fail if spilling is required.\n",
      "\u001b[2m\u001b[33m(raylet)\u001b[0m [2023-08-22 10:05:32,646 E 1659495 1659513] (raylet) file_system_monitor.cc:111: /tmp/ray/session_2023-08-22_09-44-45_245297_1659393 is over 95% full, available space: 13193834496; capacity: 490444898304. Object creation will fail if spilling is required.\n",
      "\u001b[2m\u001b[33m(raylet)\u001b[0m [2023-08-22 10:05:42,708 E 1659495 1659513] (raylet) file_system_monitor.cc:111: /tmp/ray/session_2023-08-22_09-44-45_245297_1659393 is over 95% full, available space: 13193830400; capacity: 490444898304. Object creation will fail if spilling is required.\n",
      "\u001b[2m\u001b[33m(raylet)\u001b[0m [2023-08-22 10:05:52,766 E 1659495 1659513] (raylet) file_system_monitor.cc:111: /tmp/ray/session_2023-08-22_09-44-45_245297_1659393 is over 95% full, available space: 13193830400; capacity: 490444898304. Object creation will fail if spilling is required.\n",
      "\u001b[2m\u001b[33m(raylet)\u001b[0m [2023-08-22 10:06:02,827 E 1659495 1659513] (raylet) file_system_monitor.cc:111: /tmp/ray/session_2023-08-22_09-44-45_245297_1659393 is over 95% full, available space: 13193797632; capacity: 490444898304. Object creation will fail if spilling is required.\n",
      "\u001b[2m\u001b[33m(raylet)\u001b[0m [2023-08-22 10:06:12,882 E 1659495 1659513] (raylet) file_system_monitor.cc:111: /tmp/ray/session_2023-08-22_09-44-45_245297_1659393 is over 95% full, available space: 13193797632; capacity: 490444898304. Object creation will fail if spilling is required.\n",
      "\u001b[2m\u001b[33m(raylet)\u001b[0m [2023-08-22 10:06:22,938 E 1659495 1659513] (raylet) file_system_monitor.cc:111: /tmp/ray/session_2023-08-22_09-44-45_245297_1659393 is over 95% full, available space: 13193793536; capacity: 490444898304. Object creation will fail if spilling is required.\n",
      "\u001b[2m\u001b[33m(raylet)\u001b[0m [2023-08-22 10:06:33,003 E 1659495 1659513] (raylet) file_system_monitor.cc:111: /tmp/ray/session_2023-08-22_09-44-45_245297_1659393 is over 95% full, available space: 13193785344; capacity: 490444898304. Object creation will fail if spilling is required.\n",
      "\u001b[2m\u001b[33m(raylet)\u001b[0m [2023-08-22 10:06:43,074 E 1659495 1659513] (raylet) file_system_monitor.cc:111: /tmp/ray/session_2023-08-22_09-44-45_245297_1659393 is over 95% full, available space: 13193781248; capacity: 490444898304. Object creation will fail if spilling is required.\n",
      "\u001b[2m\u001b[33m(raylet)\u001b[0m [2023-08-22 10:06:53,160 E 1659495 1659513] (raylet) file_system_monitor.cc:111: /tmp/ray/session_2023-08-22_09-44-45_245297_1659393 is over 95% full, available space: 13193777152; capacity: 490444898304. Object creation will fail if spilling is required.\n",
      "\u001b[2m\u001b[33m(raylet)\u001b[0m [2023-08-22 10:07:03,216 E 1659495 1659513] (raylet) file_system_monitor.cc:111: /tmp/ray/session_2023-08-22_09-44-45_245297_1659393 is over 95% full, available space: 13193715712; capacity: 490444898304. Object creation will fail if spilling is required.\n",
      "\u001b[2m\u001b[33m(raylet)\u001b[0m [2023-08-22 10:07:13,291 E 1659495 1659513] (raylet) file_system_monitor.cc:111: /tmp/ray/session_2023-08-22_09-44-45_245297_1659393 is over 95% full, available space: 13193715712; capacity: 490444898304. Object creation will fail if spilling is required.\n",
      "\u001b[2m\u001b[33m(raylet)\u001b[0m [2023-08-22 10:07:23,366 E 1659495 1659513] (raylet) file_system_monitor.cc:111: /tmp/ray/session_2023-08-22_09-44-45_245297_1659393 is over 95% full, available space: 13193707520; capacity: 490444898304. Object creation will fail if spilling is required.\n",
      "\u001b[2m\u001b[33m(raylet)\u001b[0m [2023-08-22 10:07:33,434 E 1659495 1659513] (raylet) file_system_monitor.cc:111: /tmp/ray/session_2023-08-22_09-44-45_245297_1659393 is over 95% full, available space: 13193703424; capacity: 490444898304. Object creation will fail if spilling is required.\n",
      "\u001b[2m\u001b[33m(raylet)\u001b[0m [2023-08-22 10:07:43,505 E 1659495 1659513] (raylet) file_system_monitor.cc:111: /tmp/ray/session_2023-08-22_09-44-45_245297_1659393 is over 95% full, available space: 13193695232; capacity: 490444898304. Object creation will fail if spilling is required.\n",
      "\u001b[2m\u001b[33m(raylet)\u001b[0m [2023-08-22 10:07:53,569 E 1659495 1659513] (raylet) file_system_monitor.cc:111: /tmp/ray/session_2023-08-22_09-44-45_245297_1659393 is over 95% full, available space: 13193695232; capacity: 490444898304. Object creation will fail if spilling is required.\n",
      "\u001b[2m\u001b[33m(raylet)\u001b[0m [2023-08-22 10:08:03,635 E 1659495 1659513] (raylet) file_system_monitor.cc:111: /tmp/ray/session_2023-08-22_09-44-45_245297_1659393 is over 95% full, available space: 13193666560; capacity: 490444898304. Object creation will fail if spilling is required.\n",
      "\u001b[2m\u001b[33m(raylet)\u001b[0m [2023-08-22 10:08:13,698 E 1659495 1659513] (raylet) file_system_monitor.cc:111: /tmp/ray/session_2023-08-22_09-44-45_245297_1659393 is over 95% full, available space: 13193658368; capacity: 490444898304. Object creation will fail if spilling is required.\n",
      "\u001b[2m\u001b[33m(raylet)\u001b[0m [2023-08-22 10:08:23,762 E 1659495 1659513] (raylet) file_system_monitor.cc:111: /tmp/ray/session_2023-08-22_09-44-45_245297_1659393 is over 95% full, available space: 13193658368; capacity: 490444898304. Object creation will fail if spilling is required.\n",
      "\u001b[2m\u001b[33m(raylet)\u001b[0m [2023-08-22 10:08:33,821 E 1659495 1659513] (raylet) file_system_monitor.cc:111: /tmp/ray/session_2023-08-22_09-44-45_245297_1659393 is over 95% full, available space: 13193658368; capacity: 490444898304. Object creation will fail if spilling is required.\n",
      "\u001b[2m\u001b[33m(raylet)\u001b[0m [2023-08-22 10:08:43,878 E 1659495 1659513] (raylet) file_system_monitor.cc:111: /tmp/ray/session_2023-08-22_09-44-45_245297_1659393 is over 95% full, available space: 13193654272; capacity: 490444898304. Object creation will fail if spilling is required.\n",
      "\u001b[2m\u001b[33m(raylet)\u001b[0m [2023-08-22 10:08:53,945 E 1659495 1659513] (raylet) file_system_monitor.cc:111: /tmp/ray/session_2023-08-22_09-44-45_245297_1659393 is over 95% full, available space: 13193654272; capacity: 490444898304. Object creation will fail if spilling is required.\n",
      "\u001b[2m\u001b[33m(raylet)\u001b[0m [2023-08-22 10:09:03,999 E 1659495 1659513] (raylet) file_system_monitor.cc:111: /tmp/ray/session_2023-08-22_09-44-45_245297_1659393 is over 95% full, available space: 13193584640; capacity: 490444898304. Object creation will fail if spilling is required.\n",
      "\u001b[2m\u001b[33m(raylet)\u001b[0m [2023-08-22 10:09:14,059 E 1659495 1659513] (raylet) file_system_monitor.cc:111: /tmp/ray/session_2023-08-22_09-44-45_245297_1659393 is over 95% full, available space: 13193584640; capacity: 490444898304. Object creation will fail if spilling is required.\n",
      "\u001b[2m\u001b[33m(raylet)\u001b[0m [2023-08-22 10:09:24,125 E 1659495 1659513] (raylet) file_system_monitor.cc:111: /tmp/ray/session_2023-08-22_09-44-45_245297_1659393 is over 95% full, available space: 13193584640; capacity: 490444898304. Object creation will fail if spilling is required.\n",
      "\u001b[2m\u001b[33m(raylet)\u001b[0m [2023-08-22 10:09:34,181 E 1659495 1659513] (raylet) file_system_monitor.cc:111: /tmp/ray/session_2023-08-22_09-44-45_245297_1659393 is over 95% full, available space: 13193572352; capacity: 490444898304. Object creation will fail if spilling is required.\n",
      "\u001b[2m\u001b[33m(raylet)\u001b[0m [2023-08-22 10:09:44,249 E 1659495 1659513] (raylet) file_system_monitor.cc:111: /tmp/ray/session_2023-08-22_09-44-45_245297_1659393 is over 95% full, available space: 13193568256; capacity: 490444898304. Object creation will fail if spilling is required.\n",
      "\u001b[2m\u001b[33m(raylet)\u001b[0m [2023-08-22 10:09:54,311 E 1659495 1659513] (raylet) file_system_monitor.cc:111: /tmp/ray/session_2023-08-22_09-44-45_245297_1659393 is over 95% full, available space: 13193568256; capacity: 490444898304. Object creation will fail if spilling is required.\n",
      "\u001b[2m\u001b[33m(raylet)\u001b[0m [2023-08-22 10:10:04,375 E 1659495 1659513] (raylet) file_system_monitor.cc:111: /tmp/ray/session_2023-08-22_09-44-45_245297_1659393 is over 95% full, available space: 13193535488; capacity: 490444898304. Object creation will fail if spilling is required.\n",
      "\u001b[2m\u001b[33m(raylet)\u001b[0m [2023-08-22 10:10:14,439 E 1659495 1659513] (raylet) file_system_monitor.cc:111: /tmp/ray/session_2023-08-22_09-44-45_245297_1659393 is over 95% full, available space: 13193535488; capacity: 490444898304. Object creation will fail if spilling is required.\n",
      "\u001b[2m\u001b[33m(raylet)\u001b[0m [2023-08-22 10:10:24,502 E 1659495 1659513] (raylet) file_system_monitor.cc:111: /tmp/ray/session_2023-08-22_09-44-45_245297_1659393 is over 95% full, available space: 13193527296; capacity: 490444898304. Object creation will fail if spilling is required.\n",
      "\u001b[2m\u001b[33m(raylet)\u001b[0m [2023-08-22 10:10:34,555 E 1659495 1659513] (raylet) file_system_monitor.cc:111: /tmp/ray/session_2023-08-22_09-44-45_245297_1659393 is over 95% full, available space: 13193527296; capacity: 490444898304. Object creation will fail if spilling is required.\n",
      "\u001b[2m\u001b[33m(raylet)\u001b[0m [2023-08-22 10:10:44,611 E 1659495 1659513] (raylet) file_system_monitor.cc:111: /tmp/ray/session_2023-08-22_09-44-45_245297_1659393 is over 95% full, available space: 13193527296; capacity: 490444898304. Object creation will fail if spilling is required.\n",
      "\u001b[2m\u001b[33m(raylet)\u001b[0m [2023-08-22 10:10:54,666 E 1659495 1659513] (raylet) file_system_monitor.cc:111: /tmp/ray/session_2023-08-22_09-44-45_245297_1659393 is over 95% full, available space: 13193523200; capacity: 490444898304. Object creation will fail if spilling is required.\n",
      "\u001b[2m\u001b[33m(raylet)\u001b[0m [2023-08-22 10:11:04,731 E 1659495 1659513] (raylet) file_system_monitor.cc:111: /tmp/ray/session_2023-08-22_09-44-45_245297_1659393 is over 95% full, available space: 13193457664; capacity: 490444898304. Object creation will fail if spilling is required.\n",
      "\u001b[2m\u001b[33m(raylet)\u001b[0m [2023-08-22 10:11:14,816 E 1659495 1659513] (raylet) file_system_monitor.cc:111: /tmp/ray/session_2023-08-22_09-44-45_245297_1659393 is over 95% full, available space: 13193453568; capacity: 490444898304. Object creation will fail if spilling is required.\n",
      "\u001b[2m\u001b[33m(raylet)\u001b[0m [2023-08-22 10:11:24,876 E 1659495 1659513] (raylet) file_system_monitor.cc:111: /tmp/ray/session_2023-08-22_09-44-45_245297_1659393 is over 95% full, available space: 13193449472; capacity: 490444898304. Object creation will fail if spilling is required.\n",
      "\u001b[2m\u001b[33m(raylet)\u001b[0m [2023-08-22 10:11:34,940 E 1659495 1659513] (raylet) file_system_monitor.cc:111: /tmp/ray/session_2023-08-22_09-44-45_245297_1659393 is over 95% full, available space: 13193445376; capacity: 490444898304. Object creation will fail if spilling is required.\n",
      "\u001b[2m\u001b[33m(raylet)\u001b[0m [2023-08-22 10:11:45,003 E 1659495 1659513] (raylet) file_system_monitor.cc:111: /tmp/ray/session_2023-08-22_09-44-45_245297_1659393 is over 95% full, available space: 13193445376; capacity: 490444898304. Object creation will fail if spilling is required.\n",
      "\u001b[2m\u001b[33m(raylet)\u001b[0m [2023-08-22 10:11:55,073 E 1659495 1659513] (raylet) file_system_monitor.cc:111: /tmp/ray/session_2023-08-22_09-44-45_245297_1659393 is over 95% full, available space: 13193441280; capacity: 490444898304. Object creation will fail if spilling is required.\n",
      "\u001b[2m\u001b[33m(raylet)\u001b[0m [2023-08-22 10:12:05,143 E 1659495 1659513] (raylet) file_system_monitor.cc:111: /tmp/ray/session_2023-08-22_09-44-45_245297_1659393 is over 95% full, available space: 13193404416; capacity: 490444898304. Object creation will fail if spilling is required.\n",
      "\u001b[2m\u001b[33m(raylet)\u001b[0m [2023-08-22 10:12:15,214 E 1659495 1659513] (raylet) file_system_monitor.cc:111: /tmp/ray/session_2023-08-22_09-44-45_245297_1659393 is over 95% full, available space: 13193392128; capacity: 490444898304. Object creation will fail if spilling is required.\n",
      "\u001b[2m\u001b[33m(raylet)\u001b[0m [2023-08-22 10:12:25,285 E 1659495 1659513] (raylet) file_system_monitor.cc:111: /tmp/ray/session_2023-08-22_09-44-45_245297_1659393 is over 95% full, available space: 13193392128; capacity: 490444898304. Object creation will fail if spilling is required.\n",
      "\u001b[2m\u001b[33m(raylet)\u001b[0m [2023-08-22 10:12:35,340 E 1659495 1659513] (raylet) file_system_monitor.cc:111: /tmp/ray/session_2023-08-22_09-44-45_245297_1659393 is over 95% full, available space: 13193392128; capacity: 490444898304. Object creation will fail if spilling is required.\n",
      "\u001b[2m\u001b[33m(raylet)\u001b[0m [2023-08-22 10:12:45,396 E 1659495 1659513] (raylet) file_system_monitor.cc:111: /tmp/ray/session_2023-08-22_09-44-45_245297_1659393 is over 95% full, available space: 13193383936; capacity: 490444898304. Object creation will fail if spilling is required.\n",
      "\u001b[2m\u001b[33m(raylet)\u001b[0m [2023-08-22 10:12:55,461 E 1659495 1659513] (raylet) file_system_monitor.cc:111: /tmp/ray/session_2023-08-22_09-44-45_245297_1659393 is over 95% full, available space: 13193383936; capacity: 490444898304. Object creation will fail if spilling is required.\n",
      "\u001b[2m\u001b[33m(raylet)\u001b[0m [2023-08-22 10:13:05,515 E 1659495 1659513] (raylet) file_system_monitor.cc:111: /tmp/ray/session_2023-08-22_09-44-45_245297_1659393 is over 95% full, available space: 13193318400; capacity: 490444898304. Object creation will fail if spilling is required.\n",
      "\u001b[2m\u001b[33m(raylet)\u001b[0m [2023-08-22 10:13:15,584 E 1659495 1659513] (raylet) file_system_monitor.cc:111: /tmp/ray/session_2023-08-22_09-44-45_245297_1659393 is over 95% full, available space: 13193314304; capacity: 490444898304. Object creation will fail if spilling is required.\n",
      "\u001b[2m\u001b[33m(raylet)\u001b[0m [2023-08-22 10:13:25,656 E 1659495 1659513] (raylet) file_system_monitor.cc:111: /tmp/ray/session_2023-08-22_09-44-45_245297_1659393 is over 95% full, available space: 13193314304; capacity: 490444898304. Object creation will fail if spilling is required.\n",
      "\u001b[2m\u001b[33m(raylet)\u001b[0m [2023-08-22 10:13:35,715 E 1659495 1659513] (raylet) file_system_monitor.cc:111: /tmp/ray/session_2023-08-22_09-44-45_245297_1659393 is over 95% full, available space: 13193306112; capacity: 490444898304. Object creation will fail if spilling is required.\n",
      "\u001b[2m\u001b[33m(raylet)\u001b[0m [2023-08-22 10:13:45,777 E 1659495 1659513] (raylet) file_system_monitor.cc:111: /tmp/ray/session_2023-08-22_09-44-45_245297_1659393 is over 95% full, available space: 13193306112; capacity: 490444898304. Object creation will fail if spilling is required.\n",
      "\u001b[2m\u001b[33m(raylet)\u001b[0m [2023-08-22 10:13:55,834 E 1659495 1659513] (raylet) file_system_monitor.cc:111: /tmp/ray/session_2023-08-22_09-44-45_245297_1659393 is over 95% full, available space: 13193306112; capacity: 490444898304. Object creation will fail if spilling is required.\n",
      "\u001b[2m\u001b[33m(raylet)\u001b[0m [2023-08-22 10:14:05,901 E 1659495 1659513] (raylet) file_system_monitor.cc:111: /tmp/ray/session_2023-08-22_09-44-45_245297_1659393 is over 95% full, available space: 13193265152; capacity: 490444898304. Object creation will fail if spilling is required.\n",
      "\u001b[2m\u001b[33m(raylet)\u001b[0m [2023-08-22 10:14:15,967 E 1659495 1659513] (raylet) file_system_monitor.cc:111: /tmp/ray/session_2023-08-22_09-44-45_245297_1659393 is over 95% full, available space: 13193261056; capacity: 490444898304. Object creation will fail if spilling is required.\n",
      "\u001b[2m\u001b[33m(raylet)\u001b[0m [2023-08-22 10:14:26,020 E 1659495 1659513] (raylet) file_system_monitor.cc:111: /tmp/ray/session_2023-08-22_09-44-45_245297_1659393 is over 95% full, available space: 13193261056; capacity: 490444898304. Object creation will fail if spilling is required.\n",
      "\u001b[2m\u001b[33m(raylet)\u001b[0m [2023-08-22 10:14:36,076 E 1659495 1659513] (raylet) file_system_monitor.cc:111: /tmp/ray/session_2023-08-22_09-44-45_245297_1659393 is over 95% full, available space: 13193256960; capacity: 490444898304. Object creation will fail if spilling is required.\n",
      "\u001b[2m\u001b[33m(raylet)\u001b[0m [2023-08-22 10:14:46,134 E 1659495 1659513] (raylet) file_system_monitor.cc:111: /tmp/ray/session_2023-08-22_09-44-45_245297_1659393 is over 95% full, available space: 13193256960; capacity: 490444898304. Object creation will fail if spilling is required.\n",
      "\u001b[2m\u001b[33m(raylet)\u001b[0m [2023-08-22 10:14:56,192 E 1659495 1659513] (raylet) file_system_monitor.cc:111: /tmp/ray/session_2023-08-22_09-44-45_245297_1659393 is over 95% full, available space: 13193252864; capacity: 490444898304. Object creation will fail if spilling is required.\n",
      "\u001b[2m\u001b[33m(raylet)\u001b[0m [2023-08-22 10:15:06,256 E 1659495 1659513] (raylet) file_system_monitor.cc:111: /tmp/ray/session_2023-08-22_09-44-45_245297_1659393 is over 95% full, available space: 13193191424; capacity: 490444898304. Object creation will fail if spilling is required.\n",
      "\u001b[2m\u001b[33m(raylet)\u001b[0m [2023-08-22 10:15:16,312 E 1659495 1659513] (raylet) file_system_monitor.cc:111: /tmp/ray/session_2023-08-22_09-44-45_245297_1659393 is over 95% full, available space: 13193187328; capacity: 490444898304. Object creation will fail if spilling is required.\n",
      "\u001b[2m\u001b[33m(raylet)\u001b[0m [2023-08-22 10:15:26,373 E 1659495 1659513] (raylet) file_system_monitor.cc:111: /tmp/ray/session_2023-08-22_09-44-45_245297_1659393 is over 95% full, available space: 13193183232; capacity: 490444898304. Object creation will fail if spilling is required.\n",
      "\u001b[2m\u001b[33m(raylet)\u001b[0m [2023-08-22 10:15:36,436 E 1659495 1659513] (raylet) file_system_monitor.cc:111: /tmp/ray/session_2023-08-22_09-44-45_245297_1659393 is over 95% full, available space: 13193183232; capacity: 490444898304. Object creation will fail if spilling is required.\n",
      "\u001b[2m\u001b[33m(raylet)\u001b[0m [2023-08-22 10:15:46,497 E 1659495 1659513] (raylet) file_system_monitor.cc:111: /tmp/ray/session_2023-08-22_09-44-45_245297_1659393 is over 95% full, available space: 13193175040; capacity: 490444898304. Object creation will fail if spilling is required.\n",
      "\u001b[2m\u001b[33m(raylet)\u001b[0m [2023-08-22 10:15:56,562 E 1659495 1659513] (raylet) file_system_monitor.cc:111: /tmp/ray/session_2023-08-22_09-44-45_245297_1659393 is over 95% full, available space: 13193170944; capacity: 490444898304. Object creation will fail if spilling is required.\n",
      "\u001b[2m\u001b[33m(raylet)\u001b[0m [2023-08-22 10:16:06,629 E 1659495 1659513] (raylet) file_system_monitor.cc:111: /tmp/ray/session_2023-08-22_09-44-45_245297_1659393 is over 95% full, available space: 13193138176; capacity: 490444898304. Object creation will fail if spilling is required.\n",
      "\u001b[2m\u001b[33m(raylet)\u001b[0m [2023-08-22 10:16:16,688 E 1659495 1659513] (raylet) file_system_monitor.cc:111: /tmp/ray/session_2023-08-22_09-44-45_245297_1659393 is over 95% full, available space: 13193134080; capacity: 490444898304. Object creation will fail if spilling is required.\n",
      "\u001b[2m\u001b[33m(raylet)\u001b[0m [2023-08-22 10:16:26,733 E 1659495 1659513] (raylet) file_system_monitor.cc:111: /tmp/ray/session_2023-08-22_09-44-45_245297_1659393 is over 95% full, available space: 13193134080; capacity: 490444898304. Object creation will fail if spilling is required.\n",
      "\u001b[2m\u001b[33m(raylet)\u001b[0m [2023-08-22 10:16:36,787 E 1659495 1659513] (raylet) file_system_monitor.cc:111: /tmp/ray/session_2023-08-22_09-44-45_245297_1659393 is over 95% full, available space: 13193134080; capacity: 490444898304. Object creation will fail if spilling is required.\n",
      "\u001b[2m\u001b[33m(raylet)\u001b[0m [2023-08-22 10:16:46,851 E 1659495 1659513] (raylet) file_system_monitor.cc:111: /tmp/ray/session_2023-08-22_09-44-45_245297_1659393 is over 95% full, available space: 13193129984; capacity: 490444898304. Object creation will fail if spilling is required.\n",
      "\u001b[2m\u001b[33m(raylet)\u001b[0m [2023-08-22 10:16:56,914 E 1659495 1659513] (raylet) file_system_monitor.cc:111: /tmp/ray/session_2023-08-22_09-44-45_245297_1659393 is over 95% full, available space: 13193129984; capacity: 490444898304. Object creation will fail if spilling is required.\n",
      "\u001b[2m\u001b[33m(raylet)\u001b[0m [2023-08-22 10:17:06,971 E 1659495 1659513] (raylet) file_system_monitor.cc:111: /tmp/ray/session_2023-08-22_09-44-45_245297_1659393 is over 95% full, available space: 13193084928; capacity: 490444898304. Object creation will fail if spilling is required.\n",
      "\u001b[2m\u001b[33m(raylet)\u001b[0m [2023-08-22 10:17:17,050 E 1659495 1659513] (raylet) file_system_monitor.cc:111: /tmp/ray/session_2023-08-22_09-44-45_245297_1659393 is over 95% full, available space: 13193072640; capacity: 490444898304. Object creation will fail if spilling is required.\n",
      "\u001b[2m\u001b[33m(raylet)\u001b[0m [2023-08-22 10:17:27,125 E 1659495 1659513] (raylet) file_system_monitor.cc:111: /tmp/ray/session_2023-08-22_09-44-45_245297_1659393 is over 95% full, available space: 13193072640; capacity: 490444898304. Object creation will fail if spilling is required.\n",
      "\u001b[2m\u001b[33m(raylet)\u001b[0m [2023-08-22 10:17:37,189 E 1659495 1659513] (raylet) file_system_monitor.cc:111: /tmp/ray/session_2023-08-22_09-44-45_245297_1659393 is over 95% full, available space: 13193064448; capacity: 490444898304. Object creation will fail if spilling is required.\n",
      "\u001b[2m\u001b[33m(raylet)\u001b[0m [2023-08-22 10:17:47,251 E 1659495 1659513] (raylet) file_system_monitor.cc:111: /tmp/ray/session_2023-08-22_09-44-45_245297_1659393 is over 95% full, available space: 13193064448; capacity: 490444898304. Object creation will fail if spilling is required.\n",
      "\u001b[2m\u001b[33m(raylet)\u001b[0m [2023-08-22 10:17:57,312 E 1659495 1659513] (raylet) file_system_monitor.cc:111: /tmp/ray/session_2023-08-22_09-44-45_245297_1659393 is over 95% full, available space: 13193064448; capacity: 490444898304. Object creation will fail if spilling is required.\n",
      "\u001b[2m\u001b[33m(raylet)\u001b[0m [2023-08-22 10:18:07,377 E 1659495 1659513] (raylet) file_system_monitor.cc:111: /tmp/ray/session_2023-08-22_09-44-45_245297_1659393 is over 95% full, available space: 13193011200; capacity: 490444898304. Object creation will fail if spilling is required.\n",
      "\u001b[2m\u001b[33m(raylet)\u001b[0m [2023-08-22 10:18:17,452 E 1659495 1659513] (raylet) file_system_monitor.cc:111: /tmp/ray/session_2023-08-22_09-44-45_245297_1659393 is over 95% full, available space: 13193011200; capacity: 490444898304. Object creation will fail if spilling is required.\n",
      "\u001b[2m\u001b[33m(raylet)\u001b[0m [2023-08-22 10:18:27,541 E 1659495 1659513] (raylet) file_system_monitor.cc:111: /tmp/ray/session_2023-08-22_09-44-45_245297_1659393 is over 95% full, available space: 13193007104; capacity: 490444898304. Object creation will fail if spilling is required.\n",
      "\u001b[2m\u001b[33m(raylet)\u001b[0m [2023-08-22 10:18:37,603 E 1659495 1659513] (raylet) file_system_monitor.cc:111: /tmp/ray/session_2023-08-22_09-44-45_245297_1659393 is over 95% full, available space: 13193003008; capacity: 490444898304. Object creation will fail if spilling is required.\n",
      "\u001b[2m\u001b[33m(raylet)\u001b[0m [2023-08-22 10:18:47,660 E 1659495 1659513] (raylet) file_system_monitor.cc:111: /tmp/ray/session_2023-08-22_09-44-45_245297_1659393 is over 95% full, available space: 13193003008; capacity: 490444898304. Object creation will fail if spilling is required.\n",
      "\u001b[2m\u001b[33m(raylet)\u001b[0m [2023-08-22 10:18:57,721 E 1659495 1659513] (raylet) file_system_monitor.cc:111: /tmp/ray/session_2023-08-22_09-44-45_245297_1659393 is over 95% full, available space: 13192990720; capacity: 490444898304. Object creation will fail if spilling is required.\n",
      "\u001b[2m\u001b[33m(raylet)\u001b[0m [2023-08-22 10:19:07,780 E 1659495 1659513] (raylet) file_system_monitor.cc:111: /tmp/ray/session_2023-08-22_09-44-45_245297_1659393 is over 95% full, available space: 13192962048; capacity: 490444898304. Object creation will fail if spilling is required.\n",
      "\u001b[2m\u001b[33m(raylet)\u001b[0m [2023-08-22 10:19:17,850 E 1659495 1659513] (raylet) file_system_monitor.cc:111: /tmp/ray/session_2023-08-22_09-44-45_245297_1659393 is over 95% full, available space: 13192957952; capacity: 490444898304. Object creation will fail if spilling is required.\n",
      "\u001b[2m\u001b[33m(raylet)\u001b[0m [2023-08-22 10:19:27,906 E 1659495 1659513] (raylet) file_system_monitor.cc:111: /tmp/ray/session_2023-08-22_09-44-45_245297_1659393 is over 95% full, available space: 13192953856; capacity: 490444898304. Object creation will fail if spilling is required.\n",
      "\u001b[2m\u001b[33m(raylet)\u001b[0m [2023-08-22 10:19:37,960 E 1659495 1659513] (raylet) file_system_monitor.cc:111: /tmp/ray/session_2023-08-22_09-44-45_245297_1659393 is over 95% full, available space: 13192945664; capacity: 490444898304. Object creation will fail if spilling is required.\n",
      "\u001b[2m\u001b[33m(raylet)\u001b[0m [2023-08-22 10:19:48,037 E 1659495 1659513] (raylet) file_system_monitor.cc:111: /tmp/ray/session_2023-08-22_09-44-45_245297_1659393 is over 95% full, available space: 13192945664; capacity: 490444898304. Object creation will fail if spilling is required.\n",
      "\u001b[2m\u001b[33m(raylet)\u001b[0m [2023-08-22 10:19:58,099 E 1659495 1659513] (raylet) file_system_monitor.cc:111: /tmp/ray/session_2023-08-22_09-44-45_245297_1659393 is over 95% full, available space: 13192937472; capacity: 490444898304. Object creation will fail if spilling is required.\n",
      "\u001b[2m\u001b[33m(raylet)\u001b[0m [2023-08-22 10:20:08,162 E 1659495 1659513] (raylet) file_system_monitor.cc:111: /tmp/ray/session_2023-08-22_09-44-45_245297_1659393 is over 95% full, available space: 13192876032; capacity: 490444898304. Object creation will fail if spilling is required.\n",
      "\u001b[2m\u001b[33m(raylet)\u001b[0m [2023-08-22 10:20:18,231 E 1659495 1659513] (raylet) file_system_monitor.cc:111: /tmp/ray/session_2023-08-22_09-44-45_245297_1659393 is over 95% full, available space: 13192867840; capacity: 490444898304. Object creation will fail if spilling is required.\n",
      "\u001b[2m\u001b[33m(raylet)\u001b[0m [2023-08-22 10:20:28,293 E 1659495 1659513] (raylet) file_system_monitor.cc:111: /tmp/ray/session_2023-08-22_09-44-45_245297_1659393 is over 95% full, available space: 13192863744; capacity: 490444898304. Object creation will fail if spilling is required.\n",
      "\u001b[2m\u001b[33m(raylet)\u001b[0m [2023-08-22 10:20:38,347 E 1659495 1659513] (raylet) file_system_monitor.cc:111: /tmp/ray/session_2023-08-22_09-44-45_245297_1659393 is over 95% full, available space: 13192863744; capacity: 490444898304. Object creation will fail if spilling is required.\n",
      "\u001b[2m\u001b[33m(raylet)\u001b[0m [2023-08-22 10:20:48,402 E 1659495 1659513] (raylet) file_system_monitor.cc:111: /tmp/ray/session_2023-08-22_09-44-45_245297_1659393 is over 95% full, available space: 13192859648; capacity: 490444898304. Object creation will fail if spilling is required.\n",
      "\u001b[2m\u001b[33m(raylet)\u001b[0m [2023-08-22 10:20:58,466 E 1659495 1659513] (raylet) file_system_monitor.cc:111: /tmp/ray/session_2023-08-22_09-44-45_245297_1659393 is over 95% full, available space: 13192855552; capacity: 490444898304. Object creation will fail if spilling is required.\n",
      "\u001b[2m\u001b[33m(raylet)\u001b[0m [2023-08-22 10:21:08,530 E 1659495 1659513] (raylet) file_system_monitor.cc:111: /tmp/ray/session_2023-08-22_09-44-45_245297_1659393 is over 95% full, available space: 13192822784; capacity: 490444898304. Object creation will fail if spilling is required.\n",
      "\u001b[2m\u001b[33m(raylet)\u001b[0m [2023-08-22 10:21:18,589 E 1659495 1659513] (raylet) file_system_monitor.cc:111: /tmp/ray/session_2023-08-22_09-44-45_245297_1659393 is over 95% full, available space: 13192818688; capacity: 490444898304. Object creation will fail if spilling is required.\n",
      "\u001b[2m\u001b[33m(raylet)\u001b[0m [2023-08-22 10:21:28,653 E 1659495 1659513] (raylet) file_system_monitor.cc:111: /tmp/ray/session_2023-08-22_09-44-45_245297_1659393 is over 95% full, available space: 13192818688; capacity: 490444898304. Object creation will fail if spilling is required.\n",
      "\u001b[2m\u001b[33m(raylet)\u001b[0m [2023-08-22 10:21:38,718 E 1659495 1659513] (raylet) file_system_monitor.cc:111: /tmp/ray/session_2023-08-22_09-44-45_245297_1659393 is over 95% full, available space: 13192814592; capacity: 490444898304. Object creation will fail if spilling is required.\n",
      "\u001b[2m\u001b[33m(raylet)\u001b[0m [2023-08-22 10:21:48,773 E 1659495 1659513] (raylet) file_system_monitor.cc:111: /tmp/ray/session_2023-08-22_09-44-45_245297_1659393 is over 95% full, available space: 13192806400; capacity: 490444898304. Object creation will fail if spilling is required.\n",
      "\u001b[2m\u001b[33m(raylet)\u001b[0m [2023-08-22 10:21:58,839 E 1659495 1659513] (raylet) file_system_monitor.cc:111: /tmp/ray/session_2023-08-22_09-44-45_245297_1659393 is over 95% full, available space: 13192802304; capacity: 490444898304. Object creation will fail if spilling is required.\n",
      "\u001b[2m\u001b[33m(raylet)\u001b[0m [2023-08-22 10:22:08,901 E 1659495 1659513] (raylet) file_system_monitor.cc:111: /tmp/ray/session_2023-08-22_09-44-45_245297_1659393 is over 95% full, available space: 13192736768; capacity: 490444898304. Object creation will fail if spilling is required.\n",
      "\u001b[2m\u001b[33m(raylet)\u001b[0m [2023-08-22 10:22:18,956 E 1659495 1659513] (raylet) file_system_monitor.cc:111: /tmp/ray/session_2023-08-22_09-44-45_245297_1659393 is over 95% full, available space: 13192732672; capacity: 490444898304. Object creation will fail if spilling is required.\n",
      "\u001b[2m\u001b[33m(raylet)\u001b[0m [2023-08-22 10:22:29,034 E 1659495 1659513] (raylet) file_system_monitor.cc:111: /tmp/ray/session_2023-08-22_09-44-45_245297_1659393 is over 95% full, available space: 13192732672; capacity: 490444898304. Object creation will fail if spilling is required.\n",
      "\u001b[2m\u001b[33m(raylet)\u001b[0m [2023-08-22 10:22:39,112 E 1659495 1659513] (raylet) file_system_monitor.cc:111: /tmp/ray/session_2023-08-22_09-44-45_245297_1659393 is over 95% full, available space: 13192728576; capacity: 490444898304. Object creation will fail if spilling is required.\n",
      "\u001b[2m\u001b[33m(raylet)\u001b[0m [2023-08-22 10:22:49,176 E 1659495 1659513] (raylet) file_system_monitor.cc:111: /tmp/ray/session_2023-08-22_09-44-45_245297_1659393 is over 95% full, available space: 13192724480; capacity: 490444898304. Object creation will fail if spilling is required.\n",
      "\u001b[2m\u001b[33m(raylet)\u001b[0m [2023-08-22 10:22:59,230 E 1659495 1659513] (raylet) file_system_monitor.cc:111: /tmp/ray/session_2023-08-22_09-44-45_245297_1659393 is over 95% full, available space: 13192708096; capacity: 490444898304. Object creation will fail if spilling is required.\n",
      "\u001b[2m\u001b[33m(raylet)\u001b[0m [2023-08-22 10:23:09,291 E 1659495 1659513] (raylet) file_system_monitor.cc:111: /tmp/ray/session_2023-08-22_09-44-45_245297_1659393 is over 95% full, available space: 13192691712; capacity: 490444898304. Object creation will fail if spilling is required.\n",
      "\u001b[2m\u001b[33m(raylet)\u001b[0m [2023-08-22 10:23:19,355 E 1659495 1659513] (raylet) file_system_monitor.cc:111: /tmp/ray/session_2023-08-22_09-44-45_245297_1659393 is over 95% full, available space: 13192691712; capacity: 490444898304. Object creation will fail if spilling is required.\n",
      "\u001b[2m\u001b[33m(raylet)\u001b[0m [2023-08-22 10:23:29,415 E 1659495 1659513] (raylet) file_system_monitor.cc:111: /tmp/ray/session_2023-08-22_09-44-45_245297_1659393 is over 95% full, available space: 13192683520; capacity: 490444898304. Object creation will fail if spilling is required.\n",
      "\u001b[2m\u001b[33m(raylet)\u001b[0m [2023-08-22 10:23:39,476 E 1659495 1659513] (raylet) file_system_monitor.cc:111: /tmp/ray/session_2023-08-22_09-44-45_245297_1659393 is over 95% full, available space: 13192675328; capacity: 490444898304. Object creation will fail if spilling is required.\n",
      "\u001b[2m\u001b[33m(raylet)\u001b[0m [2023-08-22 10:23:49,538 E 1659495 1659513] (raylet) file_system_monitor.cc:111: /tmp/ray/session_2023-08-22_09-44-45_245297_1659393 is over 95% full, available space: 13192671232; capacity: 490444898304. Object creation will fail if spilling is required.\n",
      "\u001b[2m\u001b[33m(raylet)\u001b[0m [2023-08-22 10:23:59,595 E 1659495 1659513] (raylet) file_system_monitor.cc:111: /tmp/ray/session_2023-08-22_09-44-45_245297_1659393 is over 95% full, available space: 13192650752; capacity: 490444898304. Object creation will fail if spilling is required.\n",
      "\u001b[2m\u001b[33m(raylet)\u001b[0m [2023-08-22 10:24:09,654 E 1659495 1659513] (raylet) file_system_monitor.cc:111: /tmp/ray/session_2023-08-22_09-44-45_245297_1659393 is over 95% full, available space: 13192605696; capacity: 490444898304. Object creation will fail if spilling is required.\n",
      "\u001b[2m\u001b[33m(raylet)\u001b[0m [2023-08-22 10:24:19,737 E 1659495 1659513] (raylet) file_system_monitor.cc:111: /tmp/ray/session_2023-08-22_09-44-45_245297_1659393 is over 95% full, available space: 13192601600; capacity: 490444898304. Object creation will fail if spilling is required.\n",
      "\u001b[2m\u001b[33m(raylet)\u001b[0m [2023-08-22 10:24:29,807 E 1659495 1659513] (raylet) file_system_monitor.cc:111: /tmp/ray/session_2023-08-22_09-44-45_245297_1659393 is over 95% full, available space: 13192593408; capacity: 490444898304. Object creation will fail if spilling is required.\n",
      "\u001b[2m\u001b[33m(raylet)\u001b[0m [2023-08-22 10:24:39,875 E 1659495 1659513] (raylet) file_system_monitor.cc:111: /tmp/ray/session_2023-08-22_09-44-45_245297_1659393 is over 95% full, available space: 13192593408; capacity: 490444898304. Object creation will fail if spilling is required.\n",
      "\u001b[2m\u001b[33m(raylet)\u001b[0m [2023-08-22 10:24:49,933 E 1659495 1659513] (raylet) file_system_monitor.cc:111: /tmp/ray/session_2023-08-22_09-44-45_245297_1659393 is over 95% full, available space: 13192589312; capacity: 490444898304. Object creation will fail if spilling is required.\n",
      "\u001b[2m\u001b[33m(raylet)\u001b[0m [2023-08-22 10:24:59,988 E 1659495 1659513] (raylet) file_system_monitor.cc:111: /tmp/ray/session_2023-08-22_09-44-45_245297_1659393 is over 95% full, available space: 13192568832; capacity: 490444898304. Object creation will fail if spilling is required.\n",
      "\u001b[2m\u001b[33m(raylet)\u001b[0m [2023-08-22 10:25:10,050 E 1659495 1659513] (raylet) file_system_monitor.cc:111: /tmp/ray/session_2023-08-22_09-44-45_245297_1659393 is over 95% full, available space: 13192552448; capacity: 490444898304. Object creation will fail if spilling is required.\n",
      "\u001b[2m\u001b[33m(raylet)\u001b[0m [2023-08-22 10:25:20,116 E 1659495 1659513] (raylet) file_system_monitor.cc:111: /tmp/ray/session_2023-08-22_09-44-45_245297_1659393 is over 95% full, available space: 13192548352; capacity: 490444898304. Object creation will fail if spilling is required.\n",
      "\u001b[2m\u001b[33m(raylet)\u001b[0m [2023-08-22 10:25:30,177 E 1659495 1659513] (raylet) file_system_monitor.cc:111: /tmp/ray/session_2023-08-22_09-44-45_245297_1659393 is over 95% full, available space: 13192548352; capacity: 490444898304. Object creation will fail if spilling is required.\n",
      "\u001b[2m\u001b[33m(raylet)\u001b[0m [2023-08-22 10:25:40,232 E 1659495 1659513] (raylet) file_system_monitor.cc:111: /tmp/ray/session_2023-08-22_09-44-45_245297_1659393 is over 95% full, available space: 13192544256; capacity: 490444898304. Object creation will fail if spilling is required.\n",
      "\u001b[2m\u001b[33m(raylet)\u001b[0m [2023-08-22 10:25:50,315 E 1659495 1659513] (raylet) file_system_monitor.cc:111: /tmp/ray/session_2023-08-22_09-44-45_245297_1659393 is over 95% full, available space: 13192536064; capacity: 490444898304. Object creation will fail if spilling is required.\n",
      "\u001b[2m\u001b[33m(raylet)\u001b[0m [2023-08-22 10:26:00,384 E 1659495 1659513] (raylet) file_system_monitor.cc:111: /tmp/ray/session_2023-08-22_09-44-45_245297_1659393 is over 95% full, available space: 13192507392; capacity: 490444898304. Object creation will fail if spilling is required.\n",
      "\u001b[2m\u001b[33m(raylet)\u001b[0m [2023-08-22 10:26:10,452 E 1659495 1659513] (raylet) file_system_monitor.cc:111: /tmp/ray/session_2023-08-22_09-44-45_245297_1659393 is over 95% full, available space: 13192470528; capacity: 490444898304. Object creation will fail if spilling is required.\n",
      "\u001b[2m\u001b[33m(raylet)\u001b[0m [2023-08-22 10:26:20,519 E 1659495 1659513] (raylet) file_system_monitor.cc:111: /tmp/ray/session_2023-08-22_09-44-45_245297_1659393 is over 95% full, available space: 13192470528; capacity: 490444898304. Object creation will fail if spilling is required.\n",
      "\u001b[2m\u001b[33m(raylet)\u001b[0m [2023-08-22 10:26:30,589 E 1659495 1659513] (raylet) file_system_monitor.cc:111: /tmp/ray/session_2023-08-22_09-44-45_245297_1659393 is over 95% full, available space: 13192462336; capacity: 490444898304. Object creation will fail if spilling is required.\n",
      "\u001b[2m\u001b[33m(raylet)\u001b[0m [2023-08-22 10:26:40,659 E 1659495 1659513] (raylet) file_system_monitor.cc:111: /tmp/ray/session_2023-08-22_09-44-45_245297_1659393 is over 95% full, available space: 13192458240; capacity: 490444898304. Object creation will fail if spilling is required.\n",
      "\u001b[2m\u001b[33m(raylet)\u001b[0m [2023-08-22 10:26:50,718 E 1659495 1659513] (raylet) file_system_monitor.cc:111: /tmp/ray/session_2023-08-22_09-44-45_245297_1659393 is over 95% full, available space: 13192454144; capacity: 490444898304. Object creation will fail if spilling is required.\n",
      "\u001b[2m\u001b[33m(raylet)\u001b[0m [2023-08-22 10:27:00,783 E 1659495 1659513] (raylet) file_system_monitor.cc:111: /tmp/ray/session_2023-08-22_09-44-45_245297_1659393 is over 95% full, available space: 13192425472; capacity: 490444898304. Object creation will fail if spilling is required.\n",
      "\u001b[2m\u001b[33m(raylet)\u001b[0m [2023-08-22 10:27:10,850 E 1659495 1659513] (raylet) file_system_monitor.cc:111: /tmp/ray/session_2023-08-22_09-44-45_245297_1659393 is over 95% full, available space: 13192413184; capacity: 490444898304. Object creation will fail if spilling is required.\n",
      "\u001b[2m\u001b[33m(raylet)\u001b[0m [2023-08-22 10:27:20,917 E 1659495 1659513] (raylet) file_system_monitor.cc:111: /tmp/ray/session_2023-08-22_09-44-45_245297_1659393 is over 95% full, available space: 13192413184; capacity: 490444898304. Object creation will fail if spilling is required.\n",
      "\u001b[2m\u001b[33m(raylet)\u001b[0m [2023-08-22 10:27:30,972 E 1659495 1659513] (raylet) file_system_monitor.cc:111: /tmp/ray/session_2023-08-22_09-44-45_245297_1659393 is over 95% full, available space: 13192409088; capacity: 490444898304. Object creation will fail if spilling is required.\n",
      "\u001b[2m\u001b[33m(raylet)\u001b[0m [2023-08-22 10:27:41,035 E 1659495 1659513] (raylet) file_system_monitor.cc:111: /tmp/ray/session_2023-08-22_09-44-45_245297_1659393 is over 95% full, available space: 13192404992; capacity: 490444898304. Object creation will fail if spilling is required.\n",
      "\u001b[2m\u001b[33m(raylet)\u001b[0m [2023-08-22 10:27:51,105 E 1659495 1659513] (raylet) file_system_monitor.cc:111: /tmp/ray/session_2023-08-22_09-44-45_245297_1659393 is over 95% full, available space: 13192404992; capacity: 490444898304. Object creation will fail if spilling is required.\n",
      "\u001b[2m\u001b[33m(raylet)\u001b[0m [2023-08-22 10:28:01,166 E 1659495 1659513] (raylet) file_system_monitor.cc:111: /tmp/ray/session_2023-08-22_09-44-45_245297_1659393 is over 95% full, available space: 13192376320; capacity: 490444898304. Object creation will fail if spilling is required.\n",
      "\u001b[2m\u001b[33m(raylet)\u001b[0m [2023-08-22 10:28:11,242 E 1659495 1659513] (raylet) file_system_monitor.cc:111: /tmp/ray/session_2023-08-22_09-44-45_245297_1659393 is over 95% full, available space: 13192339456; capacity: 490444898304. Object creation will fail if spilling is required.\n",
      "\u001b[2m\u001b[33m(raylet)\u001b[0m [2023-08-22 10:28:21,311 E 1659495 1659513] (raylet) file_system_monitor.cc:111: /tmp/ray/session_2023-08-22_09-44-45_245297_1659393 is over 95% full, available space: 13192339456; capacity: 490444898304. Object creation will fail if spilling is required.\n",
      "\u001b[2m\u001b[33m(raylet)\u001b[0m [2023-08-22 10:28:31,377 E 1659495 1659513] (raylet) file_system_monitor.cc:111: /tmp/ray/session_2023-08-22_09-44-45_245297_1659393 is over 95% full, available space: 13192335360; capacity: 490444898304. Object creation will fail if spilling is required.\n",
      "\u001b[2m\u001b[33m(raylet)\u001b[0m [2023-08-22 10:28:41,445 E 1659495 1659513] (raylet) file_system_monitor.cc:111: /tmp/ray/session_2023-08-22_09-44-45_245297_1659393 is over 95% full, available space: 13192335360; capacity: 490444898304. Object creation will fail if spilling is required.\n",
      "\u001b[2m\u001b[33m(raylet)\u001b[0m [2023-08-22 10:28:51,511 E 1659495 1659513] (raylet) file_system_monitor.cc:111: /tmp/ray/session_2023-08-22_09-44-45_245297_1659393 is over 95% full, available space: 13192331264; capacity: 490444898304. Object creation will fail if spilling is required.\n",
      "\u001b[2m\u001b[33m(raylet)\u001b[0m [2023-08-22 10:29:01,572 E 1659495 1659513] (raylet) file_system_monitor.cc:111: /tmp/ray/session_2023-08-22_09-44-45_245297_1659393 is over 95% full, available space: 13192302592; capacity: 490444898304. Object creation will fail if spilling is required.\n",
      "\u001b[2m\u001b[33m(raylet)\u001b[0m [2023-08-22 10:29:11,625 E 1659495 1659513] (raylet) file_system_monitor.cc:111: /tmp/ray/session_2023-08-22_09-44-45_245297_1659393 is over 95% full, available space: 13192290304; capacity: 490444898304. Object creation will fail if spilling is required.\n",
      "\u001b[2m\u001b[33m(raylet)\u001b[0m [2023-08-22 10:29:21,687 E 1659495 1659513] (raylet) file_system_monitor.cc:111: /tmp/ray/session_2023-08-22_09-44-45_245297_1659393 is over 95% full, available space: 13192282112; capacity: 490444898304. Object creation will fail if spilling is required.\n",
      "\u001b[2m\u001b[33m(raylet)\u001b[0m [2023-08-22 10:29:31,753 E 1659495 1659513] (raylet) file_system_monitor.cc:111: /tmp/ray/session_2023-08-22_09-44-45_245297_1659393 is over 95% full, available space: 13192282112; capacity: 490444898304. Object creation will fail if spilling is required.\n",
      "\u001b[2m\u001b[33m(raylet)\u001b[0m [2023-08-22 10:29:41,820 E 1659495 1659513] (raylet) file_system_monitor.cc:111: /tmp/ray/session_2023-08-22_09-44-45_245297_1659393 is over 95% full, available space: 13192273920; capacity: 490444898304. Object creation will fail if spilling is required.\n",
      "\u001b[2m\u001b[33m(raylet)\u001b[0m [2023-08-22 10:29:51,879 E 1659495 1659513] (raylet) file_system_monitor.cc:111: /tmp/ray/session_2023-08-22_09-44-45_245297_1659393 is over 95% full, available space: 13192269824; capacity: 490444898304. Object creation will fail if spilling is required.\n",
      "\u001b[2m\u001b[33m(raylet)\u001b[0m [2023-08-22 10:30:01,941 E 1659495 1659513] (raylet) file_system_monitor.cc:111: /tmp/ray/session_2023-08-22_09-44-45_245297_1659393 is over 95% full, available space: 13192216576; capacity: 490444898304. Object creation will fail if spilling is required.\n",
      "\u001b[2m\u001b[33m(raylet)\u001b[0m [2023-08-22 10:30:12,002 E 1659495 1659513] (raylet) file_system_monitor.cc:111: /tmp/ray/session_2023-08-22_09-44-45_245297_1659393 is over 95% full, available space: 13192204288; capacity: 490444898304. Object creation will fail if spilling is required.\n",
      "\u001b[2m\u001b[33m(raylet)\u001b[0m [2023-08-22 10:30:22,063 E 1659495 1659513] (raylet) file_system_monitor.cc:111: /tmp/ray/session_2023-08-22_09-44-45_245297_1659393 is over 95% full, available space: 13192204288; capacity: 490444898304. Object creation will fail if spilling is required.\n",
      "\u001b[2m\u001b[33m(raylet)\u001b[0m [2023-08-22 10:30:32,123 E 1659495 1659513] (raylet) file_system_monitor.cc:111: /tmp/ray/session_2023-08-22_09-44-45_245297_1659393 is over 95% full, available space: 13192204288; capacity: 490444898304. Object creation will fail if spilling is required.\n",
      "\u001b[2m\u001b[33m(raylet)\u001b[0m [2023-08-22 10:30:42,185 E 1659495 1659513] (raylet) file_system_monitor.cc:111: /tmp/ray/session_2023-08-22_09-44-45_245297_1659393 is over 95% full, available space: 13192200192; capacity: 490444898304. Object creation will fail if spilling is required.\n",
      "\u001b[2m\u001b[33m(raylet)\u001b[0m [2023-08-22 10:30:52,264 E 1659495 1659513] (raylet) file_system_monitor.cc:111: /tmp/ray/session_2023-08-22_09-44-45_245297_1659393 is over 95% full, available space: 13192200192; capacity: 490444898304. Object creation will fail if spilling is required.\n",
      "\u001b[2m\u001b[33m(raylet)\u001b[0m [2023-08-22 10:31:02,332 E 1659495 1659513] (raylet) file_system_monitor.cc:111: /tmp/ray/session_2023-08-22_09-44-45_245297_1659393 is over 95% full, available space: 13192163328; capacity: 490444898304. Object creation will fail if spilling is required.\n",
      "\u001b[2m\u001b[33m(raylet)\u001b[0m [2023-08-22 10:31:12,391 E 1659495 1659513] (raylet) file_system_monitor.cc:111: /tmp/ray/session_2023-08-22_09-44-45_245297_1659393 is over 95% full, available space: 13192155136; capacity: 490444898304. Object creation will fail if spilling is required.\n",
      "\u001b[2m\u001b[33m(raylet)\u001b[0m [2023-08-22 10:31:22,452 E 1659495 1659513] (raylet) file_system_monitor.cc:111: /tmp/ray/session_2023-08-22_09-44-45_245297_1659393 is over 95% full, available space: 13192155136; capacity: 490444898304. Object creation will fail if spilling is required.\n",
      "\u001b[2m\u001b[33m(raylet)\u001b[0m [2023-08-22 10:31:32,511 E 1659495 1659513] (raylet) file_system_monitor.cc:111: /tmp/ray/session_2023-08-22_09-44-45_245297_1659393 is over 95% full, available space: 13192151040; capacity: 490444898304. Object creation will fail if spilling is required.\n",
      "\u001b[2m\u001b[33m(raylet)\u001b[0m [2023-08-22 10:31:42,588 E 1659495 1659513] (raylet) file_system_monitor.cc:111: /tmp/ray/session_2023-08-22_09-44-45_245297_1659393 is over 95% full, available space: 13192146944; capacity: 490444898304. Object creation will fail if spilling is required.\n",
      "\u001b[2m\u001b[33m(raylet)\u001b[0m [2023-08-22 10:31:52,647 E 1659495 1659513] (raylet) file_system_monitor.cc:111: /tmp/ray/session_2023-08-22_09-44-45_245297_1659393 is over 95% full, available space: 13192138752; capacity: 490444898304. Object creation will fail if spilling is required.\n",
      "\u001b[2m\u001b[33m(raylet)\u001b[0m [2023-08-22 10:32:02,707 E 1659495 1659513] (raylet) file_system_monitor.cc:111: /tmp/ray/session_2023-08-22_09-44-45_245297_1659393 is over 95% full, available space: 13192073216; capacity: 490444898304. Object creation will fail if spilling is required.\n",
      "\u001b[2m\u001b[33m(raylet)\u001b[0m [2023-08-22 10:32:12,773 E 1659495 1659513] (raylet) file_system_monitor.cc:111: /tmp/ray/session_2023-08-22_09-44-45_245297_1659393 is over 95% full, available space: 13192073216; capacity: 490444898304. Object creation will fail if spilling is required.\n",
      "\u001b[2m\u001b[33m(raylet)\u001b[0m [2023-08-22 10:32:22,832 E 1659495 1659513] (raylet) file_system_monitor.cc:111: /tmp/ray/session_2023-08-22_09-44-45_245297_1659393 is over 95% full, available space: 13192073216; capacity: 490444898304. Object creation will fail if spilling is required.\n",
      "\u001b[2m\u001b[33m(raylet)\u001b[0m [2023-08-22 10:32:32,892 E 1659495 1659513] (raylet) file_system_monitor.cc:111: /tmp/ray/session_2023-08-22_09-44-45_245297_1659393 is over 95% full, available space: 13192069120; capacity: 490444898304. Object creation will fail if spilling is required.\n",
      "\u001b[2m\u001b[33m(raylet)\u001b[0m [2023-08-22 10:32:42,956 E 1659495 1659513] (raylet) file_system_monitor.cc:111: /tmp/ray/session_2023-08-22_09-44-45_245297_1659393 is over 95% full, available space: 13192065024; capacity: 490444898304. Object creation will fail if spilling is required.\n",
      "\u001b[2m\u001b[33m(raylet)\u001b[0m [2023-08-22 10:32:53,012 E 1659495 1659513] (raylet) file_system_monitor.cc:111: /tmp/ray/session_2023-08-22_09-44-45_245297_1659393 is over 95% full, available space: 13192060928; capacity: 490444898304. Object creation will fail if spilling is required.\n",
      "\u001b[2m\u001b[33m(raylet)\u001b[0m [2023-08-22 10:33:03,079 E 1659495 1659513] (raylet) file_system_monitor.cc:111: /tmp/ray/session_2023-08-22_09-44-45_245297_1659393 is over 95% full, available space: 13192019968; capacity: 490444898304. Object creation will fail if spilling is required.\n",
      "\u001b[2m\u001b[33m(raylet)\u001b[0m [2023-08-22 10:33:13,138 E 1659495 1659513] (raylet) file_system_monitor.cc:111: /tmp/ray/session_2023-08-22_09-44-45_245297_1659393 is over 95% full, available space: 13192019968; capacity: 490444898304. Object creation will fail if spilling is required.\n",
      "\u001b[2m\u001b[33m(raylet)\u001b[0m [2023-08-22 10:33:23,209 E 1659495 1659513] (raylet) file_system_monitor.cc:111: /tmp/ray/session_2023-08-22_09-44-45_245297_1659393 is over 95% full, available space: 13192015872; capacity: 490444898304. Object creation will fail if spilling is required.\n",
      "\u001b[2m\u001b[33m(raylet)\u001b[0m [2023-08-22 10:33:33,274 E 1659495 1659513] (raylet) file_system_monitor.cc:111: /tmp/ray/session_2023-08-22_09-44-45_245297_1659393 is over 95% full, available space: 13192015872; capacity: 490444898304. Object creation will fail if spilling is required.\n",
      "\u001b[2m\u001b[33m(raylet)\u001b[0m [2023-08-22 10:33:43,348 E 1659495 1659513] (raylet) file_system_monitor.cc:111: /tmp/ray/session_2023-08-22_09-44-45_245297_1659393 is over 95% full, available space: 13192015872; capacity: 490444898304. Object creation will fail if spilling is required.\n",
      "\u001b[2m\u001b[33m(raylet)\u001b[0m [2023-08-22 10:33:53,411 E 1659495 1659513] (raylet) file_system_monitor.cc:111: /tmp/ray/session_2023-08-22_09-44-45_245297_1659393 is over 95% full, available space: 13192011776; capacity: 490444898304. Object creation will fail if spilling is required.\n",
      "\u001b[2m\u001b[33m(raylet)\u001b[0m [2023-08-22 10:34:03,473 E 1659495 1659513] (raylet) file_system_monitor.cc:111: /tmp/ray/session_2023-08-22_09-44-45_245297_1659393 is over 95% full, available space: 13191950336; capacity: 490444898304. Object creation will fail if spilling is required.\n",
      "\u001b[2m\u001b[33m(raylet)\u001b[0m [2023-08-22 10:34:13,547 E 1659495 1659513] (raylet) file_system_monitor.cc:111: /tmp/ray/session_2023-08-22_09-44-45_245297_1659393 is over 95% full, available space: 13191946240; capacity: 490444898304. Object creation will fail if spilling is required.\n",
      "\u001b[2m\u001b[33m(raylet)\u001b[0m [2023-08-22 10:34:23,607 E 1659495 1659513] (raylet) file_system_monitor.cc:111: /tmp/ray/session_2023-08-22_09-44-45_245297_1659393 is over 95% full, available space: 13191938048; capacity: 490444898304. Object creation will fail if spilling is required.\n",
      "\u001b[2m\u001b[33m(raylet)\u001b[0m [2023-08-22 10:34:33,672 E 1659495 1659513] (raylet) file_system_monitor.cc:111: /tmp/ray/session_2023-08-22_09-44-45_245297_1659393 is over 95% full, available space: 13191933952; capacity: 490444898304. Object creation will fail if spilling is required.\n",
      "\u001b[2m\u001b[33m(raylet)\u001b[0m [2023-08-22 10:34:43,747 E 1659495 1659513] (raylet) file_system_monitor.cc:111: /tmp/ray/session_2023-08-22_09-44-45_245297_1659393 is over 95% full, available space: 13191929856; capacity: 490444898304. Object creation will fail if spilling is required.\n",
      "\u001b[2m\u001b[33m(raylet)\u001b[0m [2023-08-22 10:34:53,822 E 1659495 1659513] (raylet) file_system_monitor.cc:111: /tmp/ray/session_2023-08-22_09-44-45_245297_1659393 is over 95% full, available space: 13191929856; capacity: 490444898304. Object creation will fail if spilling is required.\n",
      "\u001b[2m\u001b[33m(raylet)\u001b[0m [2023-08-22 10:35:03,886 E 1659495 1659513] (raylet) file_system_monitor.cc:111: /tmp/ray/session_2023-08-22_09-44-45_245297_1659393 is over 95% full, available space: 13191892992; capacity: 490444898304. Object creation will fail if spilling is required.\n",
      "\u001b[2m\u001b[33m(raylet)\u001b[0m [2023-08-22 10:35:13,951 E 1659495 1659513] (raylet) file_system_monitor.cc:111: /tmp/ray/session_2023-08-22_09-44-45_245297_1659393 is over 95% full, available space: 13191888896; capacity: 490444898304. Object creation will fail if spilling is required.\n",
      "\u001b[2m\u001b[33m(raylet)\u001b[0m [2023-08-22 10:35:24,041 E 1659495 1659513] (raylet) file_system_monitor.cc:111: /tmp/ray/session_2023-08-22_09-44-45_245297_1659393 is over 95% full, available space: 13191888896; capacity: 490444898304. Object creation will fail if spilling is required.\n",
      "\u001b[2m\u001b[33m(raylet)\u001b[0m [2023-08-22 10:35:34,107 E 1659495 1659513] (raylet) file_system_monitor.cc:111: /tmp/ray/session_2023-08-22_09-44-45_245297_1659393 is over 95% full, available space: 13191888896; capacity: 490444898304. Object creation will fail if spilling is required.\n",
      "\u001b[2m\u001b[33m(raylet)\u001b[0m [2023-08-22 10:35:44,163 E 1659495 1659513] (raylet) file_system_monitor.cc:111: /tmp/ray/session_2023-08-22_09-44-45_245297_1659393 is over 95% full, available space: 13191884800; capacity: 490444898304. Object creation will fail if spilling is required.\n",
      "\u001b[2m\u001b[33m(raylet)\u001b[0m [2023-08-22 10:35:54,230 E 1659495 1659513] (raylet) file_system_monitor.cc:111: /tmp/ray/session_2023-08-22_09-44-45_245297_1659393 is over 95% full, available space: 13191872512; capacity: 490444898304. Object creation will fail if spilling is required.\n",
      "\u001b[2m\u001b[33m(raylet)\u001b[0m [2023-08-22 10:36:04,296 E 1659495 1659513] (raylet) file_system_monitor.cc:111: /tmp/ray/session_2023-08-22_09-44-45_245297_1659393 is over 95% full, available space: 13191815168; capacity: 490444898304. Object creation will fail if spilling is required.\n",
      "\u001b[2m\u001b[33m(raylet)\u001b[0m [2023-08-22 10:36:14,350 E 1659495 1659513] (raylet) file_system_monitor.cc:111: /tmp/ray/session_2023-08-22_09-44-45_245297_1659393 is over 95% full, available space: 13191815168; capacity: 490444898304. Object creation will fail if spilling is required.\n",
      "\u001b[2m\u001b[33m(raylet)\u001b[0m [2023-08-22 10:36:24,410 E 1659495 1659513] (raylet) file_system_monitor.cc:111: /tmp/ray/session_2023-08-22_09-44-45_245297_1659393 is over 95% full, available space: 13191815168; capacity: 490444898304. Object creation will fail if spilling is required.\n",
      "\u001b[2m\u001b[33m(raylet)\u001b[0m [2023-08-22 10:36:34,475 E 1659495 1659513] (raylet) file_system_monitor.cc:111: /tmp/ray/session_2023-08-22_09-44-45_245297_1659393 is over 95% full, available space: 13191811072; capacity: 490444898304. Object creation will fail if spilling is required.\n",
      "\u001b[2m\u001b[33m(raylet)\u001b[0m [2023-08-22 10:36:44,497 E 1659495 1659513] (raylet) file_system_monitor.cc:111: /tmp/ray/session_2023-08-22_09-44-45_245297_1659393 is over 95% full, available space: 13191811072; capacity: 490444898304. Object creation will fail if spilling is required.\n",
      "\u001b[2m\u001b[33m(raylet)\u001b[0m [2023-08-22 10:36:54,559 E 1659495 1659513] (raylet) file_system_monitor.cc:111: /tmp/ray/session_2023-08-22_09-44-45_245297_1659393 is over 95% full, available space: 13191806976; capacity: 490444898304. Object creation will fail if spilling is required.\n",
      "\u001b[2m\u001b[33m(raylet)\u001b[0m [2023-08-22 10:37:04,611 E 1659495 1659513] (raylet) file_system_monitor.cc:111: /tmp/ray/session_2023-08-22_09-44-45_245297_1659393 is over 95% full, available space: 13191770112; capacity: 490444898304. Object creation will fail if spilling is required.\n",
      "\u001b[2m\u001b[33m(raylet)\u001b[0m [2023-08-22 10:37:14,683 E 1659495 1659513] (raylet) file_system_monitor.cc:111: /tmp/ray/session_2023-08-22_09-44-45_245297_1659393 is over 95% full, available space: 13191766016; capacity: 490444898304. Object creation will fail if spilling is required.\n",
      "\u001b[2m\u001b[33m(raylet)\u001b[0m [2023-08-22 10:37:24,729 E 1659495 1659513] (raylet) file_system_monitor.cc:111: /tmp/ray/session_2023-08-22_09-44-45_245297_1659393 is over 95% full, available space: 13191753728; capacity: 490444898304. Object creation will fail if spilling is required.\n",
      "\u001b[2m\u001b[33m(raylet)\u001b[0m [2023-08-22 10:37:34,807 E 1659495 1659513] (raylet) file_system_monitor.cc:111: /tmp/ray/session_2023-08-22_09-44-45_245297_1659393 is over 95% full, available space: 13191753728; capacity: 490444898304. Object creation will fail if spilling is required.\n",
      "\u001b[2m\u001b[33m(raylet)\u001b[0m [2023-08-22 10:37:44,876 E 1659495 1659513] (raylet) file_system_monitor.cc:111: /tmp/ray/session_2023-08-22_09-44-45_245297_1659393 is over 95% full, available space: 13191753728; capacity: 490444898304. Object creation will fail if spilling is required.\n",
      "\u001b[2m\u001b[33m(raylet)\u001b[0m [2023-08-22 10:37:54,934 E 1659495 1659513] (raylet) file_system_monitor.cc:111: /tmp/ray/session_2023-08-22_09-44-45_245297_1659393 is over 95% full, available space: 13191741440; capacity: 490444898304. Object creation will fail if spilling is required.\n",
      "\u001b[2m\u001b[33m(raylet)\u001b[0m [2023-08-22 10:38:04,998 E 1659495 1659513] (raylet) file_system_monitor.cc:111: /tmp/ray/session_2023-08-22_09-44-45_245297_1659393 is over 95% full, available space: 13191684096; capacity: 490444898304. Object creation will fail if spilling is required.\n",
      "\u001b[2m\u001b[33m(raylet)\u001b[0m [2023-08-22 10:38:15,060 E 1659495 1659513] (raylet) file_system_monitor.cc:111: /tmp/ray/session_2023-08-22_09-44-45_245297_1659393 is over 95% full, available space: 13191684096; capacity: 490444898304. Object creation will fail if spilling is required.\n",
      "\u001b[2m\u001b[33m(raylet)\u001b[0m [2023-08-22 10:38:25,134 E 1659495 1659513] (raylet) file_system_monitor.cc:111: /tmp/ray/session_2023-08-22_09-44-45_245297_1659393 is over 95% full, available space: 13191680000; capacity: 490444898304. Object creation will fail if spilling is required.\n",
      "\u001b[2m\u001b[33m(raylet)\u001b[0m [2023-08-22 10:38:35,192 E 1659495 1659513] (raylet) file_system_monitor.cc:111: /tmp/ray/session_2023-08-22_09-44-45_245297_1659393 is over 95% full, available space: 13191680000; capacity: 490444898304. Object creation will fail if spilling is required.\n",
      "\u001b[2m\u001b[33m(raylet)\u001b[0m [2023-08-22 10:38:45,246 E 1659495 1659513] (raylet) file_system_monitor.cc:111: /tmp/ray/session_2023-08-22_09-44-45_245297_1659393 is over 95% full, available space: 13191675904; capacity: 490444898304. Object creation will fail if spilling is required.\n",
      "\u001b[2m\u001b[33m(raylet)\u001b[0m [2023-08-22 10:38:55,317 E 1659495 1659513] (raylet) file_system_monitor.cc:111: /tmp/ray/session_2023-08-22_09-44-45_245297_1659393 is over 95% full, available space: 13191667712; capacity: 490444898304. Object creation will fail if spilling is required.\n",
      "\u001b[2m\u001b[33m(raylet)\u001b[0m [2023-08-22 10:39:05,377 E 1659495 1659513] (raylet) file_system_monitor.cc:111: /tmp/ray/session_2023-08-22_09-44-45_245297_1659393 is over 95% full, available space: 13191639040; capacity: 490444898304. Object creation will fail if spilling is required.\n",
      "\u001b[2m\u001b[33m(raylet)\u001b[0m [2023-08-22 10:39:15,435 E 1659495 1659513] (raylet) file_system_monitor.cc:111: /tmp/ray/session_2023-08-22_09-44-45_245297_1659393 is over 95% full, available space: 13191634944; capacity: 490444898304. Object creation will fail if spilling is required.\n",
      "\u001b[2m\u001b[33m(raylet)\u001b[0m [2023-08-22 10:39:25,490 E 1659495 1659513] (raylet) file_system_monitor.cc:111: /tmp/ray/session_2023-08-22_09-44-45_245297_1659393 is over 95% full, available space: 13191634944; capacity: 490444898304. Object creation will fail if spilling is required.\n",
      "\u001b[2m\u001b[33m(raylet)\u001b[0m [2023-08-22 10:39:35,556 E 1659495 1659513] (raylet) file_system_monitor.cc:111: /tmp/ray/session_2023-08-22_09-44-45_245297_1659393 is over 95% full, available space: 13191634944; capacity: 490444898304. Object creation will fail if spilling is required.\n",
      "\u001b[2m\u001b[33m(raylet)\u001b[0m [2023-08-22 10:39:45,617 E 1659495 1659513] (raylet) file_system_monitor.cc:111: /tmp/ray/session_2023-08-22_09-44-45_245297_1659393 is over 95% full, available space: 13191626752; capacity: 490444898304. Object creation will fail if spilling is required.\n",
      "\u001b[2m\u001b[33m(raylet)\u001b[0m [2023-08-22 10:39:55,681 E 1659495 1659513] (raylet) file_system_monitor.cc:111: /tmp/ray/session_2023-08-22_09-44-45_245297_1659393 is over 95% full, available space: 13191614464; capacity: 490444898304. Object creation will fail if spilling is required.\n",
      "\u001b[2m\u001b[33m(raylet)\u001b[0m [2023-08-22 10:40:05,741 E 1659495 1659513] (raylet) file_system_monitor.cc:111: /tmp/ray/session_2023-08-22_09-44-45_245297_1659393 is over 95% full, available space: 13191548928; capacity: 490444898304. Object creation will fail if spilling is required.\n",
      "\u001b[2m\u001b[33m(raylet)\u001b[0m [2023-08-22 10:40:15,803 E 1659495 1659513] (raylet) file_system_monitor.cc:111: /tmp/ray/session_2023-08-22_09-44-45_245297_1659393 is over 95% full, available space: 13191548928; capacity: 490444898304. Object creation will fail if spilling is required.\n",
      "\u001b[2m\u001b[33m(raylet)\u001b[0m [2023-08-22 10:40:25,865 E 1659495 1659513] (raylet) file_system_monitor.cc:111: /tmp/ray/session_2023-08-22_09-44-45_245297_1659393 is over 95% full, available space: 13191544832; capacity: 490444898304. Object creation will fail if spilling is required.\n",
      "\u001b[2m\u001b[33m(raylet)\u001b[0m [2023-08-22 10:40:35,921 E 1659495 1659513] (raylet) file_system_monitor.cc:111: /tmp/ray/session_2023-08-22_09-44-45_245297_1659393 is over 95% full, available space: 13191536640; capacity: 490444898304. Object creation will fail if spilling is required.\n",
      "\u001b[2m\u001b[33m(raylet)\u001b[0m [2023-08-22 10:40:45,984 E 1659495 1659513] (raylet) file_system_monitor.cc:111: /tmp/ray/session_2023-08-22_09-44-45_245297_1659393 is over 95% full, available space: 13191536640; capacity: 490444898304. Object creation will fail if spilling is required.\n",
      "\u001b[2m\u001b[33m(raylet)\u001b[0m [2023-08-22 10:40:56,038 E 1659495 1659513] (raylet) file_system_monitor.cc:111: /tmp/ray/session_2023-08-22_09-44-45_245297_1659393 is over 95% full, available space: 13191532544; capacity: 490444898304. Object creation will fail if spilling is required.\n",
      "\u001b[2m\u001b[33m(raylet)\u001b[0m [2023-08-22 10:41:06,110 E 1659495 1659513] (raylet) file_system_monitor.cc:111: /tmp/ray/session_2023-08-22_09-44-45_245297_1659393 is over 95% full, available space: 13191499776; capacity: 490444898304. Object creation will fail if spilling is required.\n",
      "\u001b[2m\u001b[33m(raylet)\u001b[0m [2023-08-22 10:41:16,185 E 1659495 1659513] (raylet) file_system_monitor.cc:111: /tmp/ray/session_2023-08-22_09-44-45_245297_1659393 is over 95% full, available space: 13191499776; capacity: 490444898304. Object creation will fail if spilling is required.\n",
      "\u001b[2m\u001b[33m(raylet)\u001b[0m [2023-08-22 10:41:26,257 E 1659495 1659513] (raylet) file_system_monitor.cc:111: /tmp/ray/session_2023-08-22_09-44-45_245297_1659393 is over 95% full, available space: 13191491584; capacity: 490444898304. Object creation will fail if spilling is required.\n",
      "\u001b[2m\u001b[33m(raylet)\u001b[0m [2023-08-22 10:41:36,314 E 1659495 1659513] (raylet) file_system_monitor.cc:111: /tmp/ray/session_2023-08-22_09-44-45_245297_1659393 is over 95% full, available space: 13191491584; capacity: 490444898304. Object creation will fail if spilling is required.\n",
      "\u001b[2m\u001b[33m(raylet)\u001b[0m [2023-08-22 10:41:46,376 E 1659495 1659513] (raylet) file_system_monitor.cc:111: /tmp/ray/session_2023-08-22_09-44-45_245297_1659393 is over 95% full, available space: 13191491584; capacity: 490444898304. Object creation will fail if spilling is required.\n",
      "\u001b[2m\u001b[33m(raylet)\u001b[0m [2023-08-22 10:41:56,437 E 1659495 1659513] (raylet) file_system_monitor.cc:111: /tmp/ray/session_2023-08-22_09-44-45_245297_1659393 is over 95% full, available space: 13191479296; capacity: 490444898304. Object creation will fail if spilling is required.\n",
      "\u001b[2m\u001b[33m(raylet)\u001b[0m [2023-08-22 10:42:06,517 E 1659495 1659513] (raylet) file_system_monitor.cc:111: /tmp/ray/session_2023-08-22_09-44-45_245297_1659393 is over 95% full, available space: 13191417856; capacity: 490444898304. Object creation will fail if spilling is required.\n",
      "\u001b[2m\u001b[33m(raylet)\u001b[0m [2023-08-22 10:42:16,579 E 1659495 1659513] (raylet) file_system_monitor.cc:111: /tmp/ray/session_2023-08-22_09-44-45_245297_1659393 is over 95% full, available space: 13191413760; capacity: 490444898304. Object creation will fail if spilling is required.\n",
      "\u001b[2m\u001b[33m(raylet)\u001b[0m [2023-08-22 10:42:26,664 E 1659495 1659513] (raylet) file_system_monitor.cc:111: /tmp/ray/session_2023-08-22_09-44-45_245297_1659393 is over 95% full, available space: 13191405568; capacity: 490444898304. Object creation will fail if spilling is required.\n",
      "\u001b[2m\u001b[33m(raylet)\u001b[0m [2023-08-22 10:42:36,728 E 1659495 1659513] (raylet) file_system_monitor.cc:111: /tmp/ray/session_2023-08-22_09-44-45_245297_1659393 is over 95% full, available space: 13191401472; capacity: 490444898304. Object creation will fail if spilling is required.\n",
      "\u001b[2m\u001b[33m(raylet)\u001b[0m [2023-08-22 10:42:46,781 E 1659495 1659513] (raylet) file_system_monitor.cc:111: /tmp/ray/session_2023-08-22_09-44-45_245297_1659393 is over 95% full, available space: 13191401472; capacity: 490444898304. Object creation will fail if spilling is required.\n",
      "\u001b[2m\u001b[33m(raylet)\u001b[0m [2023-08-22 10:42:56,842 E 1659495 1659513] (raylet) file_system_monitor.cc:111: /tmp/ray/session_2023-08-22_09-44-45_245297_1659393 is over 95% full, available space: 13191397376; capacity: 490444898304. Object creation will fail if spilling is required.\n",
      "\u001b[2m\u001b[33m(raylet)\u001b[0m [2023-08-22 10:43:06,897 E 1659495 1659513] (raylet) file_system_monitor.cc:111: /tmp/ray/session_2023-08-22_09-44-45_245297_1659393 is over 95% full, available space: 13191364608; capacity: 490444898304. Object creation will fail if spilling is required.\n",
      "\u001b[2m\u001b[33m(raylet)\u001b[0m [2023-08-22 10:43:16,960 E 1659495 1659513] (raylet) file_system_monitor.cc:111: /tmp/ray/session_2023-08-22_09-44-45_245297_1659393 is over 95% full, available space: 13191360512; capacity: 490444898304. Object creation will fail if spilling is required.\n",
      "\u001b[2m\u001b[33m(raylet)\u001b[0m [2023-08-22 10:43:27,018 E 1659495 1659513] (raylet) file_system_monitor.cc:111: /tmp/ray/session_2023-08-22_09-44-45_245297_1659393 is over 95% full, available space: 13191356416; capacity: 490444898304. Object creation will fail if spilling is required.\n",
      "\u001b[2m\u001b[33m(raylet)\u001b[0m [2023-08-22 10:43:37,082 E 1659495 1659513] (raylet) file_system_monitor.cc:111: /tmp/ray/session_2023-08-22_09-44-45_245297_1659393 is over 95% full, available space: 13191356416; capacity: 490444898304. Object creation will fail if spilling is required.\n",
      "\u001b[2m\u001b[33m(raylet)\u001b[0m [2023-08-22 10:43:47,162 E 1659495 1659513] (raylet) file_system_monitor.cc:111: /tmp/ray/session_2023-08-22_09-44-45_245297_1659393 is over 95% full, available space: 13191352320; capacity: 490444898304. Object creation will fail if spilling is required.\n",
      "\u001b[2m\u001b[33m(raylet)\u001b[0m [2023-08-22 10:43:57,226 E 1659495 1659513] (raylet) file_system_monitor.cc:111: /tmp/ray/session_2023-08-22_09-44-45_245297_1659393 is over 95% full, available space: 13191348224; capacity: 490444898304. Object creation will fail if spilling is required.\n",
      "\u001b[2m\u001b[33m(raylet)\u001b[0m [2023-08-22 10:44:07,295 E 1659495 1659513] (raylet) file_system_monitor.cc:111: /tmp/ray/session_2023-08-22_09-44-45_245297_1659393 is over 95% full, available space: 13191282688; capacity: 490444898304. Object creation will fail if spilling is required.\n",
      "\u001b[2m\u001b[33m(raylet)\u001b[0m [2023-08-22 10:44:17,353 E 1659495 1659513] (raylet) file_system_monitor.cc:111: /tmp/ray/session_2023-08-22_09-44-45_245297_1659393 is over 95% full, available space: 13191278592; capacity: 490444898304. Object creation will fail if spilling is required.\n",
      "\u001b[2m\u001b[33m(raylet)\u001b[0m [2023-08-22 10:44:27,428 E 1659495 1659513] (raylet) file_system_monitor.cc:111: /tmp/ray/session_2023-08-22_09-44-45_245297_1659393 is over 95% full, available space: 13191278592; capacity: 490444898304. Object creation will fail if spilling is required.\n",
      "\u001b[2m\u001b[33m(raylet)\u001b[0m [2023-08-22 10:44:37,485 E 1659495 1659513] (raylet) file_system_monitor.cc:111: /tmp/ray/session_2023-08-22_09-44-45_245297_1659393 is over 95% full, available space: 13191274496; capacity: 490444898304. Object creation will fail if spilling is required.\n",
      "\u001b[2m\u001b[33m(raylet)\u001b[0m [2023-08-22 10:44:47,575 E 1659495 1659513] (raylet) file_system_monitor.cc:111: /tmp/ray/session_2023-08-22_09-44-45_245297_1659393 is over 95% full, available space: 13191274496; capacity: 490444898304. Object creation will fail if spilling is required.\n",
      "\u001b[2m\u001b[33m(raylet)\u001b[0m [2023-08-22 10:44:57,641 E 1659495 1659513] (raylet) file_system_monitor.cc:111: /tmp/ray/session_2023-08-22_09-44-45_245297_1659393 is over 95% full, available space: 13191274496; capacity: 490444898304. Object creation will fail if spilling is required.\n",
      "\u001b[2m\u001b[33m(raylet)\u001b[0m [2023-08-22 10:45:07,730 E 1659495 1659513] (raylet) file_system_monitor.cc:111: /tmp/ray/session_2023-08-22_09-44-45_245297_1659393 is over 95% full, available space: 13191233536; capacity: 490444898304. Object creation will fail if spilling is required.\n",
      "\u001b[2m\u001b[33m(raylet)\u001b[0m [2023-08-22 10:45:17,787 E 1659495 1659513] (raylet) file_system_monitor.cc:111: /tmp/ray/session_2023-08-22_09-44-45_245297_1659393 is over 95% full, available space: 13191229440; capacity: 490444898304. Object creation will fail if spilling is required.\n",
      "\u001b[2m\u001b[33m(raylet)\u001b[0m [2023-08-22 10:45:27,847 E 1659495 1659513] (raylet) file_system_monitor.cc:111: /tmp/ray/session_2023-08-22_09-44-45_245297_1659393 is over 95% full, available space: 13191225344; capacity: 490444898304. Object creation will fail if spilling is required.\n",
      "\u001b[2m\u001b[33m(raylet)\u001b[0m [2023-08-22 10:45:37,940 E 1659495 1659513] (raylet) file_system_monitor.cc:111: /tmp/ray/session_2023-08-22_09-44-45_245297_1659393 is over 95% full, available space: 13191221248; capacity: 490444898304. Object creation will fail if spilling is required.\n",
      "\u001b[2m\u001b[33m(raylet)\u001b[0m [2023-08-22 10:45:48,002 E 1659495 1659513] (raylet) file_system_monitor.cc:111: /tmp/ray/session_2023-08-22_09-44-45_245297_1659393 is over 95% full, available space: 13191221248; capacity: 490444898304. Object creation will fail if spilling is required.\n",
      "\u001b[2m\u001b[33m(raylet)\u001b[0m [2023-08-22 10:45:58,063 E 1659495 1659513] (raylet) file_system_monitor.cc:111: /tmp/ray/session_2023-08-22_09-44-45_245297_1659393 is over 95% full, available space: 13191213056; capacity: 490444898304. Object creation will fail if spilling is required.\n",
      "\u001b[2m\u001b[33m(raylet)\u001b[0m [2023-08-22 10:46:08,120 E 1659495 1659513] (raylet) file_system_monitor.cc:111: /tmp/ray/session_2023-08-22_09-44-45_245297_1659393 is over 95% full, available space: 13191147520; capacity: 490444898304. Object creation will fail if spilling is required.\n",
      "\u001b[2m\u001b[33m(raylet)\u001b[0m [2023-08-22 10:46:18,181 E 1659495 1659513] (raylet) file_system_monitor.cc:111: /tmp/ray/session_2023-08-22_09-44-45_245297_1659393 is over 95% full, available space: 13191147520; capacity: 490444898304. Object creation will fail if spilling is required.\n",
      "\u001b[2m\u001b[33m(raylet)\u001b[0m [2023-08-22 10:46:28,253 E 1659495 1659513] (raylet) file_system_monitor.cc:111: /tmp/ray/session_2023-08-22_09-44-45_245297_1659393 is over 95% full, available space: 13191143424; capacity: 490444898304. Object creation will fail if spilling is required.\n",
      "\u001b[2m\u001b[33m(raylet)\u001b[0m [2023-08-22 10:46:38,327 E 1659495 1659513] (raylet) file_system_monitor.cc:111: /tmp/ray/session_2023-08-22_09-44-45_245297_1659393 is over 95% full, available space: 13191139328; capacity: 490444898304. Object creation will fail if spilling is required.\n",
      "\u001b[2m\u001b[33m(raylet)\u001b[0m [2023-08-22 10:46:48,388 E 1659495 1659513] (raylet) file_system_monitor.cc:111: /tmp/ray/session_2023-08-22_09-44-45_245297_1659393 is over 95% full, available space: 13191139328; capacity: 490444898304. Object creation will fail if spilling is required.\n",
      "\u001b[2m\u001b[33m(raylet)\u001b[0m [2023-08-22 10:46:58,446 E 1659495 1659513] (raylet) file_system_monitor.cc:111: /tmp/ray/session_2023-08-22_09-44-45_245297_1659393 is over 95% full, available space: 13191135232; capacity: 490444898304. Object creation will fail if spilling is required.\n",
      "\u001b[2m\u001b[33m(raylet)\u001b[0m [2023-08-22 10:47:08,512 E 1659495 1659513] (raylet) file_system_monitor.cc:111: /tmp/ray/session_2023-08-22_09-44-45_245297_1659393 is over 95% full, available space: 13191106560; capacity: 490444898304. Object creation will fail if spilling is required.\n",
      "\u001b[2m\u001b[33m(raylet)\u001b[0m [2023-08-22 10:47:18,573 E 1659495 1659513] (raylet) file_system_monitor.cc:111: /tmp/ray/session_2023-08-22_09-44-45_245297_1659393 is over 95% full, available space: 13191102464; capacity: 490444898304. Object creation will fail if spilling is required.\n",
      "\u001b[2m\u001b[33m(raylet)\u001b[0m [2023-08-22 10:47:28,631 E 1659495 1659513] (raylet) file_system_monitor.cc:111: /tmp/ray/session_2023-08-22_09-44-45_245297_1659393 is over 95% full, available space: 13191102464; capacity: 490444898304. Object creation will fail if spilling is required.\n",
      "\u001b[2m\u001b[33m(raylet)\u001b[0m [2023-08-22 10:47:38,694 E 1659495 1659513] (raylet) file_system_monitor.cc:111: /tmp/ray/session_2023-08-22_09-44-45_245297_1659393 is over 95% full, available space: 13191106560; capacity: 490444898304. Object creation will fail if spilling is required.\n",
      "\u001b[2m\u001b[33m(raylet)\u001b[0m [2023-08-22 10:47:48,755 E 1659495 1659513] (raylet) file_system_monitor.cc:111: /tmp/ray/session_2023-08-22_09-44-45_245297_1659393 is over 95% full, available space: 13191098368; capacity: 490444898304. Object creation will fail if spilling is required.\n",
      "\u001b[2m\u001b[33m(raylet)\u001b[0m [2023-08-22 10:47:58,848 E 1659495 1659513] (raylet) file_system_monitor.cc:111: /tmp/ray/session_2023-08-22_09-44-45_245297_1659393 is over 95% full, available space: 13191086080; capacity: 490444898304. Object creation will fail if spilling is required.\n",
      "\u001b[2m\u001b[33m(raylet)\u001b[0m [2023-08-22 10:48:08,923 E 1659495 1659513] (raylet) file_system_monitor.cc:111: /tmp/ray/session_2023-08-22_09-44-45_245297_1659393 is over 95% full, available space: 13191020544; capacity: 490444898304. Object creation will fail if spilling is required.\n",
      "\u001b[2m\u001b[33m(raylet)\u001b[0m [2023-08-22 10:48:18,995 E 1659495 1659513] (raylet) file_system_monitor.cc:111: /tmp/ray/session_2023-08-22_09-44-45_245297_1659393 is over 95% full, available space: 13191016448; capacity: 490444898304. Object creation will fail if spilling is required.\n",
      "\u001b[2m\u001b[33m(raylet)\u001b[0m [2023-08-22 10:48:29,056 E 1659495 1659513] (raylet) file_system_monitor.cc:111: /tmp/ray/session_2023-08-22_09-44-45_245297_1659393 is over 95% full, available space: 13191016448; capacity: 490444898304. Object creation will fail if spilling is required.\n",
      "\u001b[2m\u001b[33m(raylet)\u001b[0m [2023-08-22 10:48:39,140 E 1659495 1659513] (raylet) file_system_monitor.cc:111: /tmp/ray/session_2023-08-22_09-44-45_245297_1659393 is over 95% full, available space: 13191012352; capacity: 490444898304. Object creation will fail if spilling is required.\n",
      "\u001b[2m\u001b[33m(raylet)\u001b[0m [2023-08-22 10:48:49,196 E 1659495 1659513] (raylet) file_system_monitor.cc:111: /tmp/ray/session_2023-08-22_09-44-45_245297_1659393 is over 95% full, available space: 13191012352; capacity: 490444898304. Object creation will fail if spilling is required.\n",
      "\u001b[2m\u001b[33m(raylet)\u001b[0m [2023-08-22 10:48:59,265 E 1659495 1659513] (raylet) file_system_monitor.cc:111: /tmp/ray/session_2023-08-22_09-44-45_245297_1659393 is over 95% full, available space: 13190987776; capacity: 490444898304. Object creation will fail if spilling is required.\n",
      "\u001b[2m\u001b[33m(raylet)\u001b[0m [2023-08-22 10:49:09,341 E 1659495 1659513] (raylet) file_system_monitor.cc:111: /tmp/ray/session_2023-08-22_09-44-45_245297_1659393 is over 95% full, available space: 13190967296; capacity: 490444898304. Object creation will fail if spilling is required.\n",
      "\u001b[2m\u001b[33m(raylet)\u001b[0m [2023-08-22 10:49:19,408 E 1659495 1659513] (raylet) file_system_monitor.cc:111: /tmp/ray/session_2023-08-22_09-44-45_245297_1659393 is over 95% full, available space: 13190967296; capacity: 490444898304. Object creation will fail if spilling is required.\n",
      "\u001b[2m\u001b[33m(raylet)\u001b[0m [2023-08-22 10:49:29,488 E 1659495 1659513] (raylet) file_system_monitor.cc:111: /tmp/ray/session_2023-08-22_09-44-45_245297_1659393 is over 95% full, available space: 13190967296; capacity: 490444898304. Object creation will fail if spilling is required.\n",
      "\u001b[2m\u001b[33m(raylet)\u001b[0m [2023-08-22 10:49:39,551 E 1659495 1659513] (raylet) file_system_monitor.cc:111: /tmp/ray/session_2023-08-22_09-44-45_245297_1659393 is over 95% full, available space: 13190959104; capacity: 490444898304. Object creation will fail if spilling is required.\n",
      "\u001b[2m\u001b[33m(raylet)\u001b[0m [2023-08-22 10:49:49,611 E 1659495 1659513] (raylet) file_system_monitor.cc:111: /tmp/ray/session_2023-08-22_09-44-45_245297_1659393 is over 95% full, available space: 13190959104; capacity: 490444898304. Object creation will fail if spilling is required.\n",
      "\u001b[2m\u001b[33m(raylet)\u001b[0m [2023-08-22 10:49:59,676 E 1659495 1659513] (raylet) file_system_monitor.cc:111: /tmp/ray/session_2023-08-22_09-44-45_245297_1659393 is over 95% full, available space: 13190930432; capacity: 490444898304. Object creation will fail if spilling is required.\n",
      "\u001b[2m\u001b[33m(raylet)\u001b[0m [2023-08-22 10:50:09,737 E 1659495 1659513] (raylet) file_system_monitor.cc:111: /tmp/ray/session_2023-08-22_09-44-45_245297_1659393 is over 95% full, available space: 13190909952; capacity: 490444898304. Object creation will fail if spilling is required.\n",
      "\u001b[2m\u001b[33m(raylet)\u001b[0m [2023-08-22 10:50:19,795 E 1659495 1659513] (raylet) file_system_monitor.cc:111: /tmp/ray/session_2023-08-22_09-44-45_245297_1659393 is over 95% full, available space: 13190909952; capacity: 490444898304. Object creation will fail if spilling is required.\n",
      "\u001b[2m\u001b[33m(raylet)\u001b[0m [2023-08-22 10:50:29,864 E 1659495 1659513] (raylet) file_system_monitor.cc:111: /tmp/ray/session_2023-08-22_09-44-45_245297_1659393 is over 95% full, available space: 13190905856; capacity: 490444898304. Object creation will fail if spilling is required.\n",
      "\u001b[2m\u001b[33m(raylet)\u001b[0m [2023-08-22 10:50:39,921 E 1659495 1659513] (raylet) file_system_monitor.cc:111: /tmp/ray/session_2023-08-22_09-44-45_245297_1659393 is over 95% full, available space: 13190901760; capacity: 490444898304. Object creation will fail if spilling is required.\n",
      "\u001b[2m\u001b[33m(raylet)\u001b[0m [2023-08-22 10:50:49,983 E 1659495 1659513] (raylet) file_system_monitor.cc:111: /tmp/ray/session_2023-08-22_09-44-45_245297_1659393 is over 95% full, available space: 13190901760; capacity: 490444898304. Object creation will fail if spilling is required.\n",
      "\u001b[2m\u001b[33m(raylet)\u001b[0m [2023-08-22 10:51:00,040 E 1659495 1659513] (raylet) file_system_monitor.cc:111: /tmp/ray/session_2023-08-22_09-44-45_245297_1659393 is over 95% full, available space: 13190873088; capacity: 490444898304. Object creation will fail if spilling is required.\n",
      "\u001b[2m\u001b[33m(raylet)\u001b[0m [2023-08-22 10:51:10,112 E 1659495 1659513] (raylet) file_system_monitor.cc:111: /tmp/ray/session_2023-08-22_09-44-45_245297_1659393 is over 95% full, available space: 13190832128; capacity: 490444898304. Object creation will fail if spilling is required.\n",
      "\u001b[2m\u001b[33m(raylet)\u001b[0m [2023-08-22 10:51:20,182 E 1659495 1659513] (raylet) file_system_monitor.cc:111: /tmp/ray/session_2023-08-22_09-44-45_245297_1659393 is over 95% full, available space: 13190828032; capacity: 490444898304. Object creation will fail if spilling is required.\n",
      "\u001b[2m\u001b[33m(raylet)\u001b[0m [2023-08-22 10:51:30,239 E 1659495 1659513] (raylet) file_system_monitor.cc:111: /tmp/ray/session_2023-08-22_09-44-45_245297_1659393 is over 95% full, available space: 13190828032; capacity: 490444898304. Object creation will fail if spilling is required.\n",
      "\u001b[2m\u001b[33m(raylet)\u001b[0m [2023-08-22 10:51:40,311 E 1659495 1659513] (raylet) file_system_monitor.cc:111: /tmp/ray/session_2023-08-22_09-44-45_245297_1659393 is over 95% full, available space: 13190828032; capacity: 490444898304. Object creation will fail if spilling is required.\n",
      "\u001b[2m\u001b[33m(raylet)\u001b[0m [2023-08-22 10:51:50,373 E 1659495 1659513] (raylet) file_system_monitor.cc:111: /tmp/ray/session_2023-08-22_09-44-45_245297_1659393 is over 95% full, available space: 13190823936; capacity: 490444898304. Object creation will fail if spilling is required.\n",
      "\u001b[2m\u001b[33m(raylet)\u001b[0m [2023-08-22 10:52:00,435 E 1659495 1659513] (raylet) file_system_monitor.cc:111: /tmp/ray/session_2023-08-22_09-44-45_245297_1659393 is over 95% full, available space: 13190791168; capacity: 490444898304. Object creation will fail if spilling is required.\n",
      "\u001b[2m\u001b[33m(raylet)\u001b[0m [2023-08-22 10:52:10,502 E 1659495 1659513] (raylet) file_system_monitor.cc:111: /tmp/ray/session_2023-08-22_09-44-45_245297_1659393 is over 95% full, available space: 13190787072; capacity: 490444898304. Object creation will fail if spilling is required.\n",
      "\u001b[2m\u001b[33m(raylet)\u001b[0m [2023-08-22 10:52:20,563 E 1659495 1659513] (raylet) file_system_monitor.cc:111: /tmp/ray/session_2023-08-22_09-44-45_245297_1659393 is over 95% full, available space: 13190782976; capacity: 490444898304. Object creation will fail if spilling is required.\n",
      "\u001b[2m\u001b[33m(raylet)\u001b[0m [2023-08-22 10:52:30,628 E 1659495 1659513] (raylet) file_system_monitor.cc:111: /tmp/ray/session_2023-08-22_09-44-45_245297_1659393 is over 95% full, available space: 13190782976; capacity: 490444898304. Object creation will fail if spilling is required.\n",
      "\u001b[2m\u001b[33m(raylet)\u001b[0m [2023-08-22 10:52:40,697 E 1659495 1659513] (raylet) file_system_monitor.cc:111: /tmp/ray/session_2023-08-22_09-44-45_245297_1659393 is over 95% full, available space: 13190778880; capacity: 490444898304. Object creation will fail if spilling is required.\n",
      "\u001b[2m\u001b[33m(raylet)\u001b[0m [2023-08-22 10:52:50,755 E 1659495 1659513] (raylet) file_system_monitor.cc:111: /tmp/ray/session_2023-08-22_09-44-45_245297_1659393 is over 95% full, available space: 13190774784; capacity: 490444898304. Object creation will fail if spilling is required.\n",
      "\u001b[2m\u001b[33m(raylet)\u001b[0m [2023-08-22 10:53:00,823 E 1659495 1659513] (raylet) file_system_monitor.cc:111: /tmp/ray/session_2023-08-22_09-44-45_245297_1659393 is over 95% full, available space: 13190746112; capacity: 490444898304. Object creation will fail if spilling is required.\n",
      "\u001b[2m\u001b[33m(raylet)\u001b[0m [2023-08-22 10:53:10,882 E 1659495 1659513] (raylet) file_system_monitor.cc:111: /tmp/ray/session_2023-08-22_09-44-45_245297_1659393 is over 95% full, available space: 13190709248; capacity: 490444898304. Object creation will fail if spilling is required.\n",
      "\u001b[2m\u001b[33m(raylet)\u001b[0m [2023-08-22 10:53:20,948 E 1659495 1659513] (raylet) file_system_monitor.cc:111: /tmp/ray/session_2023-08-22_09-44-45_245297_1659393 is over 95% full, available space: 13190701056; capacity: 490444898304. Object creation will fail if spilling is required.\n",
      "\u001b[2m\u001b[33m(raylet)\u001b[0m [2023-08-22 10:53:31,031 E 1659495 1659513] (raylet) file_system_monitor.cc:111: /tmp/ray/session_2023-08-22_09-44-45_245297_1659393 is over 95% full, available space: 13190696960; capacity: 490444898304. Object creation will fail if spilling is required.\n",
      "\u001b[2m\u001b[33m(raylet)\u001b[0m [2023-08-22 10:53:41,096 E 1659495 1659513] (raylet) file_system_monitor.cc:111: /tmp/ray/session_2023-08-22_09-44-45_245297_1659393 is over 95% full, available space: 13190692864; capacity: 490444898304. Object creation will fail if spilling is required.\n",
      "\u001b[2m\u001b[33m(raylet)\u001b[0m [2023-08-22 10:53:51,157 E 1659495 1659513] (raylet) file_system_monitor.cc:111: /tmp/ray/session_2023-08-22_09-44-45_245297_1659393 is over 95% full, available space: 13190688768; capacity: 490444898304. Object creation will fail if spilling is required.\n",
      "\u001b[2m\u001b[33m(raylet)\u001b[0m [2023-08-22 10:54:01,218 E 1659495 1659513] (raylet) file_system_monitor.cc:111: /tmp/ray/session_2023-08-22_09-44-45_245297_1659393 is over 95% full, available space: 13190664192; capacity: 490444898304. Object creation will fail if spilling is required.\n",
      "\u001b[2m\u001b[33m(raylet)\u001b[0m [2023-08-22 10:54:11,304 E 1659495 1659513] (raylet) file_system_monitor.cc:111: /tmp/ray/session_2023-08-22_09-44-45_245297_1659393 is over 95% full, available space: 13190656000; capacity: 490444898304. Object creation will fail if spilling is required.\n",
      "\u001b[2m\u001b[33m(raylet)\u001b[0m [2023-08-22 10:54:21,362 E 1659495 1659513] (raylet) file_system_monitor.cc:111: /tmp/ray/session_2023-08-22_09-44-45_245297_1659393 is over 95% full, available space: 13190651904; capacity: 490444898304. Object creation will fail if spilling is required.\n",
      "\u001b[2m\u001b[33m(raylet)\u001b[0m [2023-08-22 10:54:31,433 E 1659495 1659513] (raylet) file_system_monitor.cc:111: /tmp/ray/session_2023-08-22_09-44-45_245297_1659393 is over 95% full, available space: 13190651904; capacity: 490444898304. Object creation will fail if spilling is required.\n",
      "\u001b[2m\u001b[33m(raylet)\u001b[0m [2023-08-22 10:54:41,499 E 1659495 1659513] (raylet) file_system_monitor.cc:111: /tmp/ray/session_2023-08-22_09-44-45_245297_1659393 is over 95% full, available space: 13190647808; capacity: 490444898304. Object creation will fail if spilling is required.\n",
      "\u001b[2m\u001b[33m(raylet)\u001b[0m [2023-08-22 10:54:51,593 E 1659495 1659513] (raylet) file_system_monitor.cc:111: /tmp/ray/session_2023-08-22_09-44-45_245297_1659393 is over 95% full, available space: 13190643712; capacity: 490444898304. Object creation will fail if spilling is required.\n",
      "\u001b[2m\u001b[33m(raylet)\u001b[0m [2023-08-22 10:55:01,671 E 1659495 1659513] (raylet) file_system_monitor.cc:111: /tmp/ray/session_2023-08-22_09-44-45_245297_1659393 is over 95% full, available space: 13190598656; capacity: 490444898304. Object creation will fail if spilling is required.\n",
      "\u001b[2m\u001b[33m(raylet)\u001b[0m [2023-08-22 10:55:11,679 E 1659495 1659513] (raylet) file_system_monitor.cc:111: /tmp/ray/session_2023-08-22_09-44-45_245297_1659393 is over 95% full, available space: 13190578176; capacity: 490444898304. Object creation will fail if spilling is required.\n",
      "\u001b[2m\u001b[33m(raylet)\u001b[0m [2023-08-22 10:55:21,736 E 1659495 1659513] (raylet) file_system_monitor.cc:111: /tmp/ray/session_2023-08-22_09-44-45_245297_1659393 is over 95% full, available space: 13190578176; capacity: 490444898304. Object creation will fail if spilling is required.\n",
      "\u001b[2m\u001b[33m(raylet)\u001b[0m [2023-08-22 10:55:31,830 E 1659495 1659513] (raylet) file_system_monitor.cc:111: /tmp/ray/session_2023-08-22_09-44-45_245297_1659393 is over 95% full, available space: 13190574080; capacity: 490444898304. Object creation will fail if spilling is required.\n",
      "\u001b[2m\u001b[33m(raylet)\u001b[0m [2023-08-22 10:55:41,899 E 1659495 1659513] (raylet) file_system_monitor.cc:111: /tmp/ray/session_2023-08-22_09-44-45_245297_1659393 is over 95% full, available space: 13190569984; capacity: 490444898304. Object creation will fail if spilling is required.\n",
      "\u001b[2m\u001b[33m(raylet)\u001b[0m [2023-08-22 10:55:51,904 E 1659495 1659513] (raylet) file_system_monitor.cc:111: /tmp/ray/session_2023-08-22_09-44-45_245297_1659393 is over 95% full, available space: 13190565888; capacity: 490444898304. Object creation will fail if spilling is required.\n",
      "\u001b[2m\u001b[33m(raylet)\u001b[0m [2023-08-22 10:56:01,971 E 1659495 1659513] (raylet) file_system_monitor.cc:111: /tmp/ray/session_2023-08-22_09-44-45_245297_1659393 is over 95% full, available space: 13190529024; capacity: 490444898304. Object creation will fail if spilling is required.\n",
      "\u001b[2m\u001b[33m(raylet)\u001b[0m [2023-08-22 10:56:12,033 E 1659495 1659513] (raylet) file_system_monitor.cc:111: /tmp/ray/session_2023-08-22_09-44-45_245297_1659393 is over 95% full, available space: 13190524928; capacity: 490444898304. Object creation will fail if spilling is required.\n",
      "\u001b[2m\u001b[33m(raylet)\u001b[0m [2023-08-22 10:56:22,099 E 1659495 1659513] (raylet) file_system_monitor.cc:111: /tmp/ray/session_2023-08-22_09-44-45_245297_1659393 is over 95% full, available space: 13190520832; capacity: 490444898304. Object creation will fail if spilling is required.\n",
      "\u001b[2m\u001b[33m(raylet)\u001b[0m [2023-08-22 10:56:32,167 E 1659495 1659513] (raylet) file_system_monitor.cc:111: /tmp/ray/session_2023-08-22_09-44-45_245297_1659393 is over 95% full, available space: 13190512640; capacity: 490444898304. Object creation will fail if spilling is required.\n",
      "\u001b[2m\u001b[33m(raylet)\u001b[0m [2023-08-22 10:56:42,230 E 1659495 1659513] (raylet) file_system_monitor.cc:111: /tmp/ray/session_2023-08-22_09-44-45_245297_1659393 is over 95% full, available space: 13190512640; capacity: 490444898304. Object creation will fail if spilling is required.\n",
      "\u001b[2m\u001b[33m(raylet)\u001b[0m [2023-08-22 10:56:52,286 E 1659495 1659513] (raylet) file_system_monitor.cc:111: /tmp/ray/session_2023-08-22_09-44-45_245297_1659393 is over 95% full, available space: 13190508544; capacity: 490444898304. Object creation will fail if spilling is required.\n",
      "\u001b[2m\u001b[33m(raylet)\u001b[0m [2023-08-22 10:57:02,356 E 1659495 1659513] (raylet) file_system_monitor.cc:111: /tmp/ray/session_2023-08-22_09-44-45_245297_1659393 is over 95% full, available space: 13190443008; capacity: 490444898304. Object creation will fail if spilling is required.\n",
      "\u001b[2m\u001b[33m(raylet)\u001b[0m [2023-08-22 10:57:12,423 E 1659495 1659513] (raylet) file_system_monitor.cc:111: /tmp/ray/session_2023-08-22_09-44-45_245297_1659393 is over 95% full, available space: 13190443008; capacity: 490444898304. Object creation will fail if spilling is required.\n",
      "\u001b[2m\u001b[33m(raylet)\u001b[0m [2023-08-22 10:57:22,497 E 1659495 1659513] (raylet) file_system_monitor.cc:111: /tmp/ray/session_2023-08-22_09-44-45_245297_1659393 is over 95% full, available space: 13190430720; capacity: 490444898304. Object creation will fail if spilling is required.\n",
      "\u001b[2m\u001b[33m(raylet)\u001b[0m [2023-08-22 10:57:32,571 E 1659495 1659513] (raylet) file_system_monitor.cc:111: /tmp/ray/session_2023-08-22_09-44-45_245297_1659393 is over 95% full, available space: 13190430720; capacity: 490444898304. Object creation will fail if spilling is required.\n",
      "\u001b[2m\u001b[33m(raylet)\u001b[0m [2023-08-22 10:57:42,628 E 1659495 1659513] (raylet) file_system_monitor.cc:111: /tmp/ray/session_2023-08-22_09-44-45_245297_1659393 is over 95% full, available space: 13190426624; capacity: 490444898304. Object creation will fail if spilling is required.\n",
      "\u001b[2m\u001b[33m(raylet)\u001b[0m [2023-08-22 10:57:52,698 E 1659495 1659513] (raylet) file_system_monitor.cc:111: /tmp/ray/session_2023-08-22_09-44-45_245297_1659393 is over 95% full, available space: 13190426624; capacity: 490444898304. Object creation will fail if spilling is required.\n",
      "\u001b[2m\u001b[33m(raylet)\u001b[0m [2023-08-22 10:58:02,769 E 1659495 1659513] (raylet) file_system_monitor.cc:111: /tmp/ray/session_2023-08-22_09-44-45_245297_1659393 is over 95% full, available space: 13190397952; capacity: 490444898304. Object creation will fail if spilling is required.\n",
      "\u001b[2m\u001b[33m(raylet)\u001b[0m [2023-08-22 10:58:12,849 E 1659495 1659513] (raylet) file_system_monitor.cc:111: /tmp/ray/session_2023-08-22_09-44-45_245297_1659393 is over 95% full, available space: 13190389760; capacity: 490444898304. Object creation will fail if spilling is required.\n",
      "\u001b[2m\u001b[33m(raylet)\u001b[0m [2023-08-22 10:58:22,922 E 1659495 1659513] (raylet) file_system_monitor.cc:111: /tmp/ray/session_2023-08-22_09-44-45_245297_1659393 is over 95% full, available space: 13190389760; capacity: 490444898304. Object creation will fail if spilling is required.\n",
      "\u001b[2m\u001b[33m(raylet)\u001b[0m [2023-08-22 10:58:32,985 E 1659495 1659513] (raylet) file_system_monitor.cc:111: /tmp/ray/session_2023-08-22_09-44-45_245297_1659393 is over 95% full, available space: 13190389760; capacity: 490444898304. Object creation will fail if spilling is required.\n",
      "\u001b[2m\u001b[33m(raylet)\u001b[0m [2023-08-22 10:58:43,044 E 1659495 1659513] (raylet) file_system_monitor.cc:111: /tmp/ray/session_2023-08-22_09-44-45_245297_1659393 is over 95% full, available space: 13190381568; capacity: 490444898304. Object creation will fail if spilling is required.\n",
      "\u001b[2m\u001b[33m(raylet)\u001b[0m [2023-08-22 10:58:53,107 E 1659495 1659513] (raylet) file_system_monitor.cc:111: /tmp/ray/session_2023-08-22_09-44-45_245297_1659393 is over 95% full, available space: 13190377472; capacity: 490444898304. Object creation will fail if spilling is required.\n",
      "\u001b[2m\u001b[33m(raylet)\u001b[0m [2023-08-22 10:59:03,175 E 1659495 1659513] (raylet) file_system_monitor.cc:111: /tmp/ray/session_2023-08-22_09-44-45_245297_1659393 is over 95% full, available space: 13190311936; capacity: 490444898304. Object creation will fail if spilling is required.\n",
      "\u001b[2m\u001b[33m(raylet)\u001b[0m [2023-08-22 10:59:13,231 E 1659495 1659513] (raylet) file_system_monitor.cc:111: /tmp/ray/session_2023-08-22_09-44-45_245297_1659393 is over 95% full, available space: 13190307840; capacity: 490444898304. Object creation will fail if spilling is required.\n",
      "\u001b[2m\u001b[33m(raylet)\u001b[0m [2023-08-22 10:59:23,289 E 1659495 1659513] (raylet) file_system_monitor.cc:111: /tmp/ray/session_2023-08-22_09-44-45_245297_1659393 is over 95% full, available space: 13190307840; capacity: 490444898304. Object creation will fail if spilling is required.\n",
      "\u001b[2m\u001b[33m(raylet)\u001b[0m [2023-08-22 10:59:33,348 E 1659495 1659513] (raylet) file_system_monitor.cc:111: /tmp/ray/session_2023-08-22_09-44-45_245297_1659393 is over 95% full, available space: 13190303744; capacity: 490444898304. Object creation will fail if spilling is required.\n",
      "\u001b[2m\u001b[33m(raylet)\u001b[0m [2023-08-22 10:59:43,443 E 1659495 1659513] (raylet) file_system_monitor.cc:111: /tmp/ray/session_2023-08-22_09-44-45_245297_1659393 is over 95% full, available space: 13190303744; capacity: 490444898304. Object creation will fail if spilling is required.\n",
      "\u001b[2m\u001b[33m(raylet)\u001b[0m [2023-08-22 10:59:53,515 E 1659495 1659513] (raylet) file_system_monitor.cc:111: /tmp/ray/session_2023-08-22_09-44-45_245297_1659393 is over 95% full, available space: 13190303744; capacity: 490444898304. Object creation will fail if spilling is required.\n",
      "\u001b[2m\u001b[33m(raylet)\u001b[0m [2023-08-22 11:00:03,571 E 1659495 1659513] (raylet) file_system_monitor.cc:111: /tmp/ray/session_2023-08-22_09-44-45_245297_1659393 is over 95% full, available space: 13190262784; capacity: 490444898304. Object creation will fail if spilling is required.\n",
      "\u001b[2m\u001b[33m(raylet)\u001b[0m [2023-08-22 11:00:13,637 E 1659495 1659513] (raylet) file_system_monitor.cc:111: /tmp/ray/session_2023-08-22_09-44-45_245297_1659393 is over 95% full, available space: 13190262784; capacity: 490444898304. Object creation will fail if spilling is required.\n",
      "\u001b[2m\u001b[33m(raylet)\u001b[0m [2023-08-22 11:00:23,699 E 1659495 1659513] (raylet) file_system_monitor.cc:111: /tmp/ray/session_2023-08-22_09-44-45_245297_1659393 is over 95% full, available space: 13190262784; capacity: 490444898304. Object creation will fail if spilling is required.\n",
      "\u001b[2m\u001b[33m(raylet)\u001b[0m [2023-08-22 11:00:33,762 E 1659495 1659513] (raylet) file_system_monitor.cc:111: /tmp/ray/session_2023-08-22_09-44-45_245297_1659393 is over 95% full, available space: 13190254592; capacity: 490444898304. Object creation will fail if spilling is required.\n",
      "\u001b[2m\u001b[33m(raylet)\u001b[0m [2023-08-22 11:00:43,832 E 1659495 1659513] (raylet) file_system_monitor.cc:111: /tmp/ray/session_2023-08-22_09-44-45_245297_1659393 is over 95% full, available space: 13190254592; capacity: 490444898304. Object creation will fail if spilling is required.\n",
      "\u001b[2m\u001b[33m(raylet)\u001b[0m [2023-08-22 11:00:53,889 E 1659495 1659513] (raylet) file_system_monitor.cc:111: /tmp/ray/session_2023-08-22_09-44-45_245297_1659393 is over 95% full, available space: 13190250496; capacity: 490444898304. Object creation will fail if spilling is required.\n",
      "\u001b[2m\u001b[33m(raylet)\u001b[0m [2023-08-22 11:01:03,948 E 1659495 1659513] (raylet) file_system_monitor.cc:111: /tmp/ray/session_2023-08-22_09-44-45_245297_1659393 is over 95% full, available space: 13190184960; capacity: 490444898304. Object creation will fail if spilling is required.\n",
      "\u001b[2m\u001b[33m(raylet)\u001b[0m [2023-08-22 11:01:14,012 E 1659495 1659513] (raylet) file_system_monitor.cc:111: /tmp/ray/session_2023-08-22_09-44-45_245297_1659393 is over 95% full, available space: 13190184960; capacity: 490444898304. Object creation will fail if spilling is required.\n",
      "\u001b[2m\u001b[33m(raylet)\u001b[0m [2023-08-22 11:01:24,071 E 1659495 1659513] (raylet) file_system_monitor.cc:111: /tmp/ray/session_2023-08-22_09-44-45_245297_1659393 is over 95% full, available space: 13190176768; capacity: 490444898304. Object creation will fail if spilling is required.\n",
      "\u001b[2m\u001b[33m(raylet)\u001b[0m [2023-08-22 11:01:34,137 E 1659495 1659513] (raylet) file_system_monitor.cc:111: /tmp/ray/session_2023-08-22_09-44-45_245297_1659393 is over 95% full, available space: 13190176768; capacity: 490444898304. Object creation will fail if spilling is required.\n",
      "\u001b[2m\u001b[33m(raylet)\u001b[0m [2023-08-22 11:01:44,199 E 1659495 1659513] (raylet) file_system_monitor.cc:111: /tmp/ray/session_2023-08-22_09-44-45_245297_1659393 is over 95% full, available space: 13190176768; capacity: 490444898304. Object creation will fail if spilling is required.\n",
      "\u001b[2m\u001b[33m(raylet)\u001b[0m [2023-08-22 11:01:54,271 E 1659495 1659513] (raylet) file_system_monitor.cc:111: /tmp/ray/session_2023-08-22_09-44-45_245297_1659393 is over 95% full, available space: 13190172672; capacity: 490444898304. Object creation will fail if spilling is required.\n",
      "\u001b[2m\u001b[33m(raylet)\u001b[0m [2023-08-22 11:02:04,334 E 1659495 1659513] (raylet) file_system_monitor.cc:111: /tmp/ray/session_2023-08-22_09-44-45_245297_1659393 is over 95% full, available space: 13190119424; capacity: 490444898304. Object creation will fail if spilling is required.\n"
     ]
    }
   ],
   "source": [
    "load_data()\n",
    "\n",
    "result_l1 = tune.run(\n",
    "    partial(train_fashion_mnist),\n",
    "    resources_per_trial={\"cpu\": 8, \"gpu\": 2},\n",
    "    config=config,\n",
    "    num_samples=num_samples,\n",
    "    storage_path='./tune_runs/e1',\n",
    "    search_alg=BasicVariantGenerator(random_state=40),\n",
    "    #scheduler=scheduler,\n",
    "    chdir_to_trial_dir=False,\n",
    "    callbacks=[print_l1_callback]\n",
    ")\n",
    "\n",
    "best_trial = result_l1.get_best_trial(\"mean_val_loss\", mode=\"min\")\n",
    "best_config = best_trial.config\n",
    "chosen_l1 = best_config[\"l1\"]\n",
    "\n",
    "print(\"Chosen l1:\", chosen_l1)\n",
    "\n",
    "best_metrics = best_trial.metric_analysis\n",
    "\n",
    "print(\"Best trial config:\", best_config)\n",
    "print(\"Best trial metrics:\", best_metrics)"
   ]
  },
  {
   "cell_type": "markdown",
   "metadata": {
    "jp-MarkdownHeadingCollapsed": true
   },
   "source": [
    "### 2nd Experiment - l1 vs. batch_size"
   ]
  },
  {
   "cell_type": "code",
   "execution_count": 11,
   "metadata": {},
   "outputs": [
    {
     "name": "stderr",
     "output_type": "stream",
     "text": [
      "\u001b[2m\u001b[33m(raylet)\u001b[0m [2023-08-22 11:02:14,401 E 1659495 1659513] (raylet) file_system_monitor.cc:111: /tmp/ray/session_2023-08-22_09-44-45_245297_1659393 is over 95% full, available space: 13190115328; capacity: 490444898304. Object creation will fail if spilling is required.\n",
      "\u001b[2m\u001b[33m(raylet)\u001b[0m [2023-08-22 11:02:24,470 E 1659495 1659513] (raylet) file_system_monitor.cc:111: /tmp/ray/session_2023-08-22_09-44-45_245297_1659393 is over 95% full, available space: 13190115328; capacity: 490444898304. Object creation will fail if spilling is required.\n",
      "\u001b[2m\u001b[33m(raylet)\u001b[0m [2023-08-22 11:02:34,549 E 1659495 1659513] (raylet) file_system_monitor.cc:111: /tmp/ray/session_2023-08-22_09-44-45_245297_1659393 is over 95% full, available space: 13190115328; capacity: 490444898304. Object creation will fail if spilling is required.\n",
      "\u001b[2m\u001b[33m(raylet)\u001b[0m [2023-08-22 11:02:44,619 E 1659495 1659513] (raylet) file_system_monitor.cc:111: /tmp/ray/session_2023-08-22_09-44-45_245297_1659393 is over 95% full, available space: 13190111232; capacity: 490444898304. Object creation will fail if spilling is required.\n"
     ]
    }
   ],
   "source": [
    "num_samples = 1\n",
    "\n",
    "config = {\n",
    "    \"epochs\": 15,\n",
    "    \"learning_rate\": 1e-3, \n",
    "    \"batch_size\": tune.grid_search([16, 32, 64, 128]),\n",
    "    \"l1\": tune.grid_search([32, 64, 128, 256])\n",
    "}"
   ]
  },
  {
   "cell_type": "code",
   "execution_count": 12,
   "metadata": {
    "scrolled": true
   },
   "outputs": [
    {
     "name": "stderr",
     "output_type": "stream",
     "text": [
      "2023-08-22 11:02:54,392\tINFO tune.py:657 -- [output] This uses the legacy output and progress reporter, as Jupyter notebooks are not supported by the new engine, yet. For more information, please see https://github.com/ray-project/ray/issues/36949\n"
     ]
    },
    {
     "data": {
      "text/html": [
       "<div class=\"tuneStatus\">\n",
       "  <div style=\"display: flex;flex-direction: row\">\n",
       "    <div style=\"display: flex;flex-direction: column;\">\n",
       "      <h3>Tune Status</h3>\n",
       "      <table>\n",
       "<tbody>\n",
       "<tr><td>Current time:</td><td>2023-08-22 12:02:13</td></tr>\n",
       "<tr><td>Running for: </td><td>00:59:18.95        </td></tr>\n",
       "<tr><td>Memory:      </td><td>10.8/125.5 GiB     </td></tr>\n",
       "</tbody>\n",
       "</table>\n",
       "    </div>\n",
       "    <div class=\"vDivider\"></div>\n",
       "    <div class=\"systemInfo\">\n",
       "      <h3>System Info</h3>\n",
       "      Using FIFO scheduling algorithm.<br>Logical resource usage: 8.0/40 CPUs, 2.0/8 GPUs (0.0/1.0 accelerator_type:G)\n",
       "    </div>\n",
       "    \n",
       "  </div>\n",
       "  <div class=\"hDivider\"></div>\n",
       "  <div class=\"trialStatus\">\n",
       "    <h3>Trial Status</h3>\n",
       "    <table>\n",
       "<thead>\n",
       "<tr><th>Trial name                     </th><th>status    </th><th>loc                  </th><th style=\"text-align: right;\">  batch_size</th><th style=\"text-align: right;\">  l1</th><th style=\"text-align: right;\">     acc</th><th style=\"text-align: right;\">  iter</th><th style=\"text-align: right;\">  total time (s)</th><th style=\"text-align: right;\">  mean_val_loss</th></tr>\n",
       "</thead>\n",
       "<tbody>\n",
       "<tr><td>train_fashion_mnist_71a80_00000</td><td>TERMINATED</td><td>141.68.100.65:1784699</td><td style=\"text-align: right;\">          16</td><td style=\"text-align: right;\">  32</td><td style=\"text-align: right;\">0.866   </td><td style=\"text-align: right;\">    15</td><td style=\"text-align: right;\">        1801.01 </td><td style=\"text-align: right;\">       0.368883</td></tr>\n",
       "<tr><td>train_fashion_mnist_71a80_00001</td><td>TERMINATED</td><td>141.68.100.65:1784700</td><td style=\"text-align: right;\">          32</td><td style=\"text-align: right;\">  32</td><td style=\"text-align: right;\">0.850917</td><td style=\"text-align: right;\">    15</td><td style=\"text-align: right;\">         893.213</td><td style=\"text-align: right;\">       0.423407</td></tr>\n",
       "<tr><td>train_fashion_mnist_71a80_00002</td><td>TERMINATED</td><td>141.68.100.65:1784701</td><td style=\"text-align: right;\">          64</td><td style=\"text-align: right;\">  32</td><td style=\"text-align: right;\">0.816667</td><td style=\"text-align: right;\">    15</td><td style=\"text-align: right;\">         570.964</td><td style=\"text-align: right;\">       0.509637</td></tr>\n",
       "<tr><td>train_fashion_mnist_71a80_00003</td><td>TERMINATED</td><td>141.68.100.65:1784702</td><td style=\"text-align: right;\">         128</td><td style=\"text-align: right;\">  32</td><td style=\"text-align: right;\">0.77525 </td><td style=\"text-align: right;\">    15</td><td style=\"text-align: right;\">         361.619</td><td style=\"text-align: right;\">       0.617568</td></tr>\n",
       "<tr><td>train_fashion_mnist_71a80_00004</td><td>TERMINATED</td><td>141.68.100.65:1855478</td><td style=\"text-align: right;\">          16</td><td style=\"text-align: right;\">  64</td><td style=\"text-align: right;\">0.867167</td><td style=\"text-align: right;\">    15</td><td style=\"text-align: right;\">        1509.85 </td><td style=\"text-align: right;\">       0.361071</td></tr>\n",
       "<tr><td>train_fashion_mnist_71a80_00005</td><td>TERMINATED</td><td>141.68.100.65:1917835</td><td style=\"text-align: right;\">          32</td><td style=\"text-align: right;\">  64</td><td style=\"text-align: right;\">0.8525  </td><td style=\"text-align: right;\">    15</td><td style=\"text-align: right;\">         629.631</td><td style=\"text-align: right;\">       0.420648</td></tr>\n",
       "<tr><td>train_fashion_mnist_71a80_00006</td><td>TERMINATED</td><td>141.68.100.65:2028477</td><td style=\"text-align: right;\">          64</td><td style=\"text-align: right;\">  64</td><td style=\"text-align: right;\">0.826833</td><td style=\"text-align: right;\">    15</td><td style=\"text-align: right;\">         425.501</td><td style=\"text-align: right;\">       0.490383</td></tr>\n",
       "<tr><td>train_fashion_mnist_71a80_00007</td><td>TERMINATED</td><td>141.68.100.65:2119531</td><td style=\"text-align: right;\">         128</td><td style=\"text-align: right;\">  64</td><td style=\"text-align: right;\">0.783   </td><td style=\"text-align: right;\">    15</td><td style=\"text-align: right;\">         281.779</td><td style=\"text-align: right;\">       0.596836</td></tr>\n",
       "<tr><td>train_fashion_mnist_71a80_00008</td><td>TERMINATED</td><td>141.68.100.65:2144770</td><td style=\"text-align: right;\">          16</td><td style=\"text-align: right;\"> 128</td><td style=\"text-align: right;\">0.867   </td><td style=\"text-align: right;\">    15</td><td style=\"text-align: right;\">        1803.15 </td><td style=\"text-align: right;\">       0.364469</td></tr>\n",
       "<tr><td>train_fashion_mnist_71a80_00009</td><td>TERMINATED</td><td>141.68.100.65:2187287</td><td style=\"text-align: right;\">          32</td><td style=\"text-align: right;\"> 128</td><td style=\"text-align: right;\">0.852917</td><td style=\"text-align: right;\">    15</td><td style=\"text-align: right;\">         752.916</td><td style=\"text-align: right;\">       0.412745</td></tr>\n",
       "<tr><td>train_fashion_mnist_71a80_00010</td><td>TERMINATED</td><td>141.68.100.65:2294724</td><td style=\"text-align: right;\">          64</td><td style=\"text-align: right;\"> 128</td><td style=\"text-align: right;\">0.818417</td><td style=\"text-align: right;\">    15</td><td style=\"text-align: right;\">         518.29 </td><td style=\"text-align: right;\">       0.502392</td></tr>\n",
       "<tr><td>train_fashion_mnist_71a80_00011</td><td>TERMINATED</td><td>141.68.100.65:2316210</td><td style=\"text-align: right;\">         128</td><td style=\"text-align: right;\"> 128</td><td style=\"text-align: right;\">0.78925 </td><td style=\"text-align: right;\">    15</td><td style=\"text-align: right;\">         360.025</td><td style=\"text-align: right;\">       0.611157</td></tr>\n",
       "<tr><td>train_fashion_mnist_71a80_00012</td><td>TERMINATED</td><td>141.68.100.65:2388888</td><td style=\"text-align: right;\">          16</td><td style=\"text-align: right;\"> 256</td><td style=\"text-align: right;\">0.863583</td><td style=\"text-align: right;\">    15</td><td style=\"text-align: right;\">        1258.07 </td><td style=\"text-align: right;\">       0.377109</td></tr>\n",
       "<tr><td>train_fashion_mnist_71a80_00013</td><td>TERMINATED</td><td>141.68.100.65:2393017</td><td style=\"text-align: right;\">          32</td><td style=\"text-align: right;\"> 256</td><td style=\"text-align: right;\">0.854833</td><td style=\"text-align: right;\">    15</td><td style=\"text-align: right;\">         773.722</td><td style=\"text-align: right;\">       0.410255</td></tr>\n",
       "<tr><td>train_fashion_mnist_71a80_00014</td><td>TERMINATED</td><td>141.68.100.65:2408219</td><td style=\"text-align: right;\">          64</td><td style=\"text-align: right;\"> 256</td><td style=\"text-align: right;\">0.82425 </td><td style=\"text-align: right;\">    15</td><td style=\"text-align: right;\">         404.805</td><td style=\"text-align: right;\">       0.508082</td></tr>\n",
       "<tr><td>train_fashion_mnist_71a80_00015</td><td>TERMINATED</td><td>141.68.100.65:2525799</td><td style=\"text-align: right;\">         128</td><td style=\"text-align: right;\"> 256</td><td style=\"text-align: right;\">0.791417</td><td style=\"text-align: right;\">    15</td><td style=\"text-align: right;\">         297.729</td><td style=\"text-align: right;\">       0.595143</td></tr>\n",
       "</tbody>\n",
       "</table>\n",
       "  </div>\n",
       "</div>\n",
       "<style>\n",
       ".tuneStatus {\n",
       "  color: var(--jp-ui-font-color1);\n",
       "}\n",
       ".tuneStatus .systemInfo {\n",
       "  display: flex;\n",
       "  flex-direction: column;\n",
       "}\n",
       ".tuneStatus td {\n",
       "  white-space: nowrap;\n",
       "}\n",
       ".tuneStatus .trialStatus {\n",
       "  display: flex;\n",
       "  flex-direction: column;\n",
       "}\n",
       ".tuneStatus h3 {\n",
       "  font-weight: bold;\n",
       "}\n",
       ".tuneStatus .hDivider {\n",
       "  border-bottom-width: var(--jp-border-width);\n",
       "  border-bottom-color: var(--jp-border-color0);\n",
       "  border-bottom-style: solid;\n",
       "}\n",
       ".tuneStatus .vDivider {\n",
       "  border-left-width: var(--jp-border-width);\n",
       "  border-left-color: var(--jp-border-color0);\n",
       "  border-left-style: solid;\n",
       "  margin: 0.5em 1em 0.5em 1em;\n",
       "}\n",
       "</style>\n"
      ],
      "text/plain": [
       "<IPython.core.display.HTML object>"
      ]
     },
     "metadata": {},
     "output_type": "display_data"
    },
    {
     "name": "stderr",
     "output_type": "stream",
     "text": [
      "\u001b[2m\u001b[33m(raylet)\u001b[0m [2023-08-22 11:02:54,682 E 1659495 1659513] (raylet) file_system_monitor.cc:111: /tmp/ray/session_2023-08-22_09-44-45_245297_1659393 is over 95% full, available space: 13190033408; capacity: 490444898304. Object creation will fail if spilling is required.\n",
      "\u001b[2m\u001b[33m(raylet)\u001b[0m [2023-08-22 11:03:04,773 E 1659495 1659513] (raylet) file_system_monitor.cc:111: /tmp/ray/session_2023-08-22_09-44-45_245297_1659393 is over 95% full, available space: 13189808128; capacity: 490444898304. Object creation will fail if spilling is required.\n",
      "\u001b[2m\u001b[33m(raylet)\u001b[0m [2023-08-22 11:03:14,815 E 1659495 1659513] (raylet) file_system_monitor.cc:111: /tmp/ray/session_2023-08-22_09-44-45_245297_1659393 is over 95% full, available space: 13189701632; capacity: 490444898304. Object creation will fail if spilling is required.\n",
      "\u001b[2m\u001b[33m(raylet)\u001b[0m [2023-08-22 11:03:24,823 E 1659495 1659513] (raylet) file_system_monitor.cc:111: /tmp/ray/session_2023-08-22_09-44-45_245297_1659393 is over 95% full, available space: 13189664768; capacity: 490444898304. Object creation will fail if spilling is required.\n",
      "\u001b[2m\u001b[33m(raylet)\u001b[0m [2023-08-22 11:03:34,941 E 1659495 1659513] (raylet) file_system_monitor.cc:111: /tmp/ray/session_2023-08-22_09-44-45_245297_1659393 is over 95% full, available space: 13189660672; capacity: 490444898304. Object creation will fail if spilling is required.\n"
     ]
    },
    {
     "data": {
      "text/html": [
       "<div class=\"trialProgress\">\n",
       "  <h3>Trial Progress</h3>\n",
       "  <table>\n",
       "<thead>\n",
       "<tr><th>Trial name                     </th><th style=\"text-align: right;\">  mean_accuracy</th><th style=\"text-align: right;\">  mean_val_loss</th></tr>\n",
       "</thead>\n",
       "<tbody>\n",
       "<tr><td>train_fashion_mnist_71a80_00000</td><td style=\"text-align: right;\">       0.866   </td><td style=\"text-align: right;\">       0.368883</td></tr>\n",
       "<tr><td>train_fashion_mnist_71a80_00001</td><td style=\"text-align: right;\">       0.850917</td><td style=\"text-align: right;\">       0.423407</td></tr>\n",
       "<tr><td>train_fashion_mnist_71a80_00002</td><td style=\"text-align: right;\">       0.816667</td><td style=\"text-align: right;\">       0.509637</td></tr>\n",
       "<tr><td>train_fashion_mnist_71a80_00003</td><td style=\"text-align: right;\">       0.77525 </td><td style=\"text-align: right;\">       0.617568</td></tr>\n",
       "<tr><td>train_fashion_mnist_71a80_00004</td><td style=\"text-align: right;\">       0.867167</td><td style=\"text-align: right;\">       0.361071</td></tr>\n",
       "<tr><td>train_fashion_mnist_71a80_00005</td><td style=\"text-align: right;\">       0.8525  </td><td style=\"text-align: right;\">       0.420648</td></tr>\n",
       "<tr><td>train_fashion_mnist_71a80_00006</td><td style=\"text-align: right;\">       0.826833</td><td style=\"text-align: right;\">       0.490383</td></tr>\n",
       "<tr><td>train_fashion_mnist_71a80_00007</td><td style=\"text-align: right;\">       0.783   </td><td style=\"text-align: right;\">       0.596836</td></tr>\n",
       "<tr><td>train_fashion_mnist_71a80_00008</td><td style=\"text-align: right;\">       0.867   </td><td style=\"text-align: right;\">       0.364469</td></tr>\n",
       "<tr><td>train_fashion_mnist_71a80_00009</td><td style=\"text-align: right;\">       0.852917</td><td style=\"text-align: right;\">       0.412745</td></tr>\n",
       "<tr><td>train_fashion_mnist_71a80_00010</td><td style=\"text-align: right;\">       0.818417</td><td style=\"text-align: right;\">       0.502392</td></tr>\n",
       "<tr><td>train_fashion_mnist_71a80_00011</td><td style=\"text-align: right;\">       0.78925 </td><td style=\"text-align: right;\">       0.611157</td></tr>\n",
       "<tr><td>train_fashion_mnist_71a80_00012</td><td style=\"text-align: right;\">       0.863583</td><td style=\"text-align: right;\">       0.377109</td></tr>\n",
       "<tr><td>train_fashion_mnist_71a80_00013</td><td style=\"text-align: right;\">       0.854833</td><td style=\"text-align: right;\">       0.410255</td></tr>\n",
       "<tr><td>train_fashion_mnist_71a80_00014</td><td style=\"text-align: right;\">       0.82425 </td><td style=\"text-align: right;\">       0.508082</td></tr>\n",
       "<tr><td>train_fashion_mnist_71a80_00015</td><td style=\"text-align: right;\">       0.791417</td><td style=\"text-align: right;\">       0.595143</td></tr>\n",
       "</tbody>\n",
       "</table>\n",
       "</div>\n",
       "<style>\n",
       ".trialProgress {\n",
       "  display: flex;\n",
       "  flex-direction: column;\n",
       "  color: var(--jp-ui-font-color1);\n",
       "}\n",
       ".trialProgress h3 {\n",
       "  font-weight: bold;\n",
       "}\n",
       ".trialProgress td {\n",
       "  white-space: nowrap;\n",
       "}\n",
       "</style>\n"
      ],
      "text/plain": [
       "<IPython.core.display.HTML object>"
      ]
     },
     "metadata": {},
     "output_type": "display_data"
    },
    {
     "name": "stderr",
     "output_type": "stream",
     "text": [
      "\u001b[2m\u001b[33m(raylet)\u001b[0m [2023-08-22 11:03:44,987 E 1659495 1659513] (raylet) file_system_monitor.cc:111: /tmp/ray/session_2023-08-22_09-44-45_245297_1659393 is over 95% full, available space: 13189627904; capacity: 490444898304. Object creation will fail if spilling is required.\n",
      "\u001b[2m\u001b[33m(raylet)\u001b[0m [2023-08-22 11:03:55,020 E 1659495 1659513] (raylet) file_system_monitor.cc:111: /tmp/ray/session_2023-08-22_09-44-45_245297_1659393 is over 95% full, available space: 13189615616; capacity: 490444898304. Object creation will fail if spilling is required.\n",
      "\u001b[2m\u001b[33m(raylet)\u001b[0m [2023-08-22 11:04:05,032 E 1659495 1659513] (raylet) file_system_monitor.cc:111: /tmp/ray/session_2023-08-22_09-44-45_245297_1659393 is over 95% full, available space: 13189738496; capacity: 490444898304. Object creation will fail if spilling is required.\n",
      "\u001b[2m\u001b[33m(raylet)\u001b[0m [2023-08-22 11:04:15,045 E 1659495 1659513] (raylet) file_system_monitor.cc:111: /tmp/ray/session_2023-08-22_09-44-45_245297_1659393 is over 95% full, available space: 13189718016; capacity: 490444898304. Object creation will fail if spilling is required.\n",
      "\u001b[2m\u001b[33m(raylet)\u001b[0m [2023-08-22 11:04:25,077 E 1659495 1659513] (raylet) file_system_monitor.cc:111: /tmp/ray/session_2023-08-22_09-44-45_245297_1659393 is over 95% full, available space: 13189697536; capacity: 490444898304. Object creation will fail if spilling is required.\n",
      "\u001b[2m\u001b[33m(raylet)\u001b[0m [2023-08-22 11:04:35,124 E 1659495 1659513] (raylet) file_system_monitor.cc:111: /tmp/ray/session_2023-08-22_09-44-45_245297_1659393 is over 95% full, available space: 13189685248; capacity: 490444898304. Object creation will fail if spilling is required.\n"
     ]
    },
    {
     "name": "stdout",
     "output_type": "stream",
     "text": [
      "\u001b[2m\u001b[36m(func pid=1784699)\u001b[0m [1,  2000] loss: 1.899\n"
     ]
    },
    {
     "name": "stderr",
     "output_type": "stream",
     "text": [
      "\u001b[2m\u001b[33m(raylet)\u001b[0m [2023-08-22 11:04:45,202 E 1659495 1659513] (raylet) file_system_monitor.cc:111: /tmp/ray/session_2023-08-22_09-44-45_245297_1659393 is over 95% full, available space: 13189660672; capacity: 490444898304. Object creation will fail if spilling is required.\n",
      "\u001b[2m\u001b[33m(raylet)\u001b[0m [2023-08-22 11:04:55,242 E 1659495 1659513] (raylet) file_system_monitor.cc:111: /tmp/ray/session_2023-08-22_09-44-45_245297_1659393 is over 95% full, available space: 13189623808; capacity: 490444898304. Object creation will fail if spilling is required.\n",
      "\u001b[2m\u001b[33m(raylet)\u001b[0m [2023-08-22 11:05:05,298 E 1659495 1659513] (raylet) file_system_monitor.cc:111: /tmp/ray/session_2023-08-22_09-44-45_245297_1659393 is over 95% full, available space: 13189554176; capacity: 490444898304. Object creation will fail if spilling is required.\n",
      "\u001b[2m\u001b[33m(raylet)\u001b[0m [2023-08-22 11:05:15,364 E 1659495 1659513] (raylet) file_system_monitor.cc:111: /tmp/ray/session_2023-08-22_09-44-45_245297_1659393 is over 95% full, available space: 13189529600; capacity: 490444898304. Object creation will fail if spilling is required.\n",
      "\u001b[2m\u001b[33m(raylet)\u001b[0m [2023-08-22 11:05:25,408 E 1659495 1659513] (raylet) file_system_monitor.cc:111: /tmp/ray/session_2023-08-22_09-44-45_245297_1659393 is over 95% full, available space: 13189513216; capacity: 490444898304. Object creation will fail if spilling is required.\n",
      "\u001b[2m\u001b[33m(raylet)\u001b[0m [2023-08-22 11:05:35,483 E 1659495 1659513] (raylet) file_system_monitor.cc:111: /tmp/ray/session_2023-08-22_09-44-45_245297_1659393 is over 95% full, available space: 13189582848; capacity: 490444898304. Object creation will fail if spilling is required.\n",
      "\u001b[2m\u001b[33m(raylet)\u001b[0m [2023-08-22 11:05:45,573 E 1659495 1659513] (raylet) file_system_monitor.cc:111: /tmp/ray/session_2023-08-22_09-44-45_245297_1659393 is over 95% full, available space: 13189566464; capacity: 490444898304. Object creation will fail if spilling is required.\n",
      "\u001b[2m\u001b[33m(raylet)\u001b[0m [2023-08-22 11:05:55,653 E 1659495 1659513] (raylet) file_system_monitor.cc:111: /tmp/ray/session_2023-08-22_09-44-45_245297_1659393 is over 95% full, available space: 13189533696; capacity: 490444898304. Object creation will fail if spilling is required.\n",
      "\u001b[2m\u001b[33m(raylet)\u001b[0m [2023-08-22 11:06:05,654 E 1659495 1659513] (raylet) file_system_monitor.cc:111: /tmp/ray/session_2023-08-22_09-44-45_245297_1659393 is over 95% full, available space: 13189464064; capacity: 490444898304. Object creation will fail if spilling is required.\n",
      "\u001b[2m\u001b[33m(raylet)\u001b[0m [2023-08-22 11:06:15,716 E 1659495 1659513] (raylet) file_system_monitor.cc:111: /tmp/ray/session_2023-08-22_09-44-45_245297_1659393 is over 95% full, available space: 13189435392; capacity: 490444898304. Object creation will fail if spilling is required.\n",
      "\u001b[2m\u001b[33m(raylet)\u001b[0m [2023-08-22 11:06:25,776 E 1659495 1659513] (raylet) file_system_monitor.cc:111: /tmp/ray/session_2023-08-22_09-44-45_245297_1659393 is over 95% full, available space: 13189423104; capacity: 490444898304. Object creation will fail if spilling is required.\n",
      "\u001b[2m\u001b[33m(raylet)\u001b[0m [2023-08-22 11:06:35,848 E 1659495 1659513] (raylet) file_system_monitor.cc:111: /tmp/ray/session_2023-08-22_09-44-45_245297_1659393 is over 95% full, available space: 13189410816; capacity: 490444898304. Object creation will fail if spilling is required.\n",
      "\u001b[2m\u001b[33m(raylet)\u001b[0m [2023-08-22 11:06:45,862 E 1659495 1659513] (raylet) file_system_monitor.cc:111: /tmp/ray/session_2023-08-22_09-44-45_245297_1659393 is over 95% full, available space: 13189394432; capacity: 490444898304. Object creation will fail if spilling is required.\n",
      "\u001b[2m\u001b[33m(raylet)\u001b[0m [2023-08-22 11:06:55,911 E 1659495 1659513] (raylet) file_system_monitor.cc:111: /tmp/ray/session_2023-08-22_09-44-45_245297_1659393 is over 95% full, available space: 13189353472; capacity: 490444898304. Object creation will fail if spilling is required.\n",
      "\u001b[2m\u001b[33m(raylet)\u001b[0m [2023-08-22 11:07:05,969 E 1659495 1659513] (raylet) file_system_monitor.cc:111: /tmp/ray/session_2023-08-22_09-44-45_245297_1659393 is over 95% full, available space: 13189279744; capacity: 490444898304. Object creation will fail if spilling is required.\n"
     ]
    },
    {
     "name": "stdout",
     "output_type": "stream",
     "text": [
      "\u001b[2m\u001b[36m(func pid=1784699)\u001b[0m [2,  2000] loss: 0.705\n"
     ]
    },
    {
     "name": "stderr",
     "output_type": "stream",
     "text": [
      "\u001b[2m\u001b[33m(raylet)\u001b[0m [2023-08-22 11:07:16,049 E 1659495 1659513] (raylet) file_system_monitor.cc:111: /tmp/ray/session_2023-08-22_09-44-45_245297_1659393 is over 95% full, available space: 13189279744; capacity: 490444898304. Object creation will fail if spilling is required.\n",
      "\u001b[2m\u001b[33m(raylet)\u001b[0m [2023-08-22 11:07:26,096 E 1659495 1659513] (raylet) file_system_monitor.cc:111: /tmp/ray/session_2023-08-22_09-44-45_245297_1659393 is over 95% full, available space: 13189255168; capacity: 490444898304. Object creation will fail if spilling is required.\n",
      "\u001b[2m\u001b[33m(raylet)\u001b[0m [2023-08-22 11:07:36,192 E 1659495 1659513] (raylet) file_system_monitor.cc:111: /tmp/ray/session_2023-08-22_09-44-45_245297_1659393 is over 95% full, available space: 13189234688; capacity: 490444898304. Object creation will fail if spilling is required.\n",
      "\u001b[2m\u001b[33m(raylet)\u001b[0m [2023-08-22 11:07:46,214 E 1659495 1659513] (raylet) file_system_monitor.cc:111: /tmp/ray/session_2023-08-22_09-44-45_245297_1659393 is over 95% full, available space: 13189210112; capacity: 490444898304. Object creation will fail if spilling is required.\n",
      "\u001b[2m\u001b[33m(raylet)\u001b[0m [2023-08-22 11:07:56,258 E 1659495 1659513] (raylet) file_system_monitor.cc:111: /tmp/ray/session_2023-08-22_09-44-45_245297_1659393 is over 95% full, available space: 13189197824; capacity: 490444898304. Object creation will fail if spilling is required.\n",
      "\u001b[2m\u001b[33m(raylet)\u001b[0m [2023-08-22 11:08:06,358 E 1659495 1659513] (raylet) file_system_monitor.cc:111: /tmp/ray/session_2023-08-22_09-44-45_245297_1659393 is over 95% full, available space: 13189111808; capacity: 490444898304. Object creation will fail if spilling is required.\n",
      "\u001b[2m\u001b[33m(raylet)\u001b[0m [2023-08-22 11:08:16,405 E 1659495 1659513] (raylet) file_system_monitor.cc:111: /tmp/ray/session_2023-08-22_09-44-45_245297_1659393 is over 95% full, available space: 13189087232; capacity: 490444898304. Object creation will fail if spilling is required.\n",
      "\u001b[2m\u001b[33m(raylet)\u001b[0m [2023-08-22 11:08:26,459 E 1659495 1659513] (raylet) file_system_monitor.cc:111: /tmp/ray/session_2023-08-22_09-44-45_245297_1659393 is over 95% full, available space: 13189062656; capacity: 490444898304. Object creation will fail if spilling is required.\n",
      "\u001b[2m\u001b[33m(raylet)\u001b[0m [2023-08-22 11:08:36,531 E 1659495 1659513] (raylet) file_system_monitor.cc:111: /tmp/ray/session_2023-08-22_09-44-45_245297_1659393 is over 95% full, available space: 13189054464; capacity: 490444898304. Object creation will fail if spilling is required.\n",
      "\u001b[2m\u001b[33m(raylet)\u001b[0m [2023-08-22 11:08:46,615 E 1659495 1659513] (raylet) file_system_monitor.cc:111: /tmp/ray/session_2023-08-22_09-44-45_245297_1659393 is over 95% full, available space: 13189042176; capacity: 490444898304. Object creation will fail if spilling is required.\n",
      "\u001b[2m\u001b[33m(raylet)\u001b[0m [2023-08-22 11:08:56,629 E 1659495 1659513] (raylet) file_system_monitor.cc:111: /tmp/ray/session_2023-08-22_09-44-45_245297_1659393 is over 95% full, available space: 13189033984; capacity: 490444898304. Object creation will fail if spilling is required.\n",
      "\u001b[2m\u001b[33m(raylet)\u001b[0m [2023-08-22 11:09:06,680 E 1659495 1659513] (raylet) file_system_monitor.cc:111: /tmp/ray/session_2023-08-22_09-44-45_245297_1659393 is over 95% full, available space: 13188935680; capacity: 490444898304. Object creation will fail if spilling is required.\n"
     ]
    },
    {
     "name": "stdout",
     "output_type": "stream",
     "text": [
      "Trial 71a80_00003: Chosen l1 = 32\n"
     ]
    },
    {
     "name": "stderr",
     "output_type": "stream",
     "text": [
      "\u001b[2m\u001b[33m(raylet)\u001b[0m [2023-08-22 11:09:16,824 E 1659495 1659513] (raylet) file_system_monitor.cc:111: /tmp/ray/session_2023-08-22_09-44-45_245297_1659393 is over 95% full, available space: 13188902912; capacity: 490444898304. Object creation will fail if spilling is required.\n",
      "\u001b[2m\u001b[33m(raylet)\u001b[0m [2023-08-22 11:09:26,873 E 1659495 1659513] (raylet) file_system_monitor.cc:111: /tmp/ray/session_2023-08-22_09-44-45_245297_1659393 is over 95% full, available space: 13188870144; capacity: 490444898304. Object creation will fail if spilling is required.\n"
     ]
    },
    {
     "name": "stdout",
     "output_type": "stream",
     "text": [
      "\u001b[2m\u001b[36m(func pid=1784699)\u001b[0m [3,  2000] loss: 0.593\n"
     ]
    },
    {
     "name": "stderr",
     "output_type": "stream",
     "text": [
      "\u001b[2m\u001b[33m(raylet)\u001b[0m [2023-08-22 11:09:36,946 E 1659495 1659513] (raylet) file_system_monitor.cc:111: /tmp/ray/session_2023-08-22_09-44-45_245297_1659393 is over 95% full, available space: 13188837376; capacity: 490444898304. Object creation will fail if spilling is required.\n",
      "\u001b[2m\u001b[33m(raylet)\u001b[0m [2023-08-22 11:09:46,954 E 1659495 1659513] (raylet) file_system_monitor.cc:111: /tmp/ray/session_2023-08-22_09-44-45_245297_1659393 is over 95% full, available space: 13188816896; capacity: 490444898304. Object creation will fail if spilling is required.\n",
      "\u001b[2m\u001b[33m(raylet)\u001b[0m [2023-08-22 11:09:57,026 E 1659495 1659513] (raylet) file_system_monitor.cc:111: /tmp/ray/session_2023-08-22_09-44-45_245297_1659393 is over 95% full, available space: 13188816896; capacity: 490444898304. Object creation will fail if spilling is required.\n",
      "\u001b[2m\u001b[33m(raylet)\u001b[0m [2023-08-22 11:10:07,097 E 1659495 1659513] (raylet) file_system_monitor.cc:111: /tmp/ray/session_2023-08-22_09-44-45_245297_1659393 is over 95% full, available space: 13188747264; capacity: 490444898304. Object creation will fail if spilling is required.\n",
      "\u001b[2m\u001b[33m(raylet)\u001b[0m [2023-08-22 11:10:17,196 E 1659495 1659513] (raylet) file_system_monitor.cc:111: /tmp/ray/session_2023-08-22_09-44-45_245297_1659393 is over 95% full, available space: 13188714496; capacity: 490444898304. Object creation will fail if spilling is required.\n"
     ]
    },
    {
     "name": "stdout",
     "output_type": "stream",
     "text": [
      "\u001b[2m\u001b[36m(func pid=1855478)\u001b[0m [1,  2000] loss: 1.757\n"
     ]
    },
    {
     "name": "stderr",
     "output_type": "stream",
     "text": [
      "\u001b[2m\u001b[33m(raylet)\u001b[0m [2023-08-22 11:10:27,287 E 1659495 1659513] (raylet) file_system_monitor.cc:111: /tmp/ray/session_2023-08-22_09-44-45_245297_1659393 is over 95% full, available space: 13188710400; capacity: 490444898304. Object creation will fail if spilling is required.\n",
      "\u001b[2m\u001b[33m(raylet)\u001b[0m [2023-08-22 11:10:37,382 E 1659495 1659513] (raylet) file_system_monitor.cc:111: /tmp/ray/session_2023-08-22_09-44-45_245297_1659393 is over 95% full, available space: 13188698112; capacity: 490444898304. Object creation will fail if spilling is required.\n",
      "\u001b[2m\u001b[33m(raylet)\u001b[0m [2023-08-22 11:10:47,487 E 1659495 1659513] (raylet) file_system_monitor.cc:111: /tmp/ray/session_2023-08-22_09-44-45_245297_1659393 is over 95% full, available space: 13188685824; capacity: 490444898304. Object creation will fail if spilling is required.\n",
      "2023-08-22 11:10:50,678\tWARNING util.py:315 -- The `on_step_begin` operation took 0.566 s, which may be a performance bottleneck.\n",
      "\u001b[2m\u001b[33m(raylet)\u001b[0m [2023-08-22 11:10:57,525 E 1659495 1659513] (raylet) file_system_monitor.cc:111: /tmp/ray/session_2023-08-22_09-44-45_245297_1659393 is over 95% full, available space: 13188665344; capacity: 490444898304. Object creation will fail if spilling is required.\n",
      "\u001b[2m\u001b[33m(raylet)\u001b[0m [2023-08-22 11:11:07,615 E 1659495 1659513] (raylet) file_system_monitor.cc:111: /tmp/ray/session_2023-08-22_09-44-45_245297_1659393 is over 95% full, available space: 13188575232; capacity: 490444898304. Object creation will fail if spilling is required.\n"
     ]
    },
    {
     "name": "stdout",
     "output_type": "stream",
     "text": [
      "\u001b[2m\u001b[36m(func pid=1784699)\u001b[0m [4,  2000] loss: 0.532\n"
     ]
    },
    {
     "name": "stderr",
     "output_type": "stream",
     "text": [
      "\u001b[2m\u001b[33m(raylet)\u001b[0m [2023-08-22 11:11:17,651 E 1659495 1659513] (raylet) file_system_monitor.cc:111: /tmp/ray/session_2023-08-22_09-44-45_245297_1659393 is over 95% full, available space: 13188530176; capacity: 490444898304. Object creation will fail if spilling is required.\n",
      "\u001b[2m\u001b[33m(raylet)\u001b[0m [2023-08-22 11:11:27,670 E 1659495 1659513] (raylet) file_system_monitor.cc:111: /tmp/ray/session_2023-08-22_09-44-45_245297_1659393 is over 95% full, available space: 13188521984; capacity: 490444898304. Object creation will fail if spilling is required.\n",
      "\u001b[2m\u001b[33m(raylet)\u001b[0m [2023-08-22 11:11:37,761 E 1659495 1659513] (raylet) file_system_monitor.cc:111: /tmp/ray/session_2023-08-22_09-44-45_245297_1659393 is over 95% full, available space: 13188505600; capacity: 490444898304. Object creation will fail if spilling is required.\n",
      "\u001b[2m\u001b[33m(raylet)\u001b[0m [2023-08-22 11:11:47,769 E 1659495 1659513] (raylet) file_system_monitor.cc:111: /tmp/ray/session_2023-08-22_09-44-45_245297_1659393 is over 95% full, available space: 13188485120; capacity: 490444898304. Object creation will fail if spilling is required.\n",
      "\u001b[2m\u001b[33m(raylet)\u001b[0m [2023-08-22 11:11:57,827 E 1659495 1659513] (raylet) file_system_monitor.cc:111: /tmp/ray/session_2023-08-22_09-44-45_245297_1659393 is over 95% full, available space: 13188468736; capacity: 490444898304. Object creation will fail if spilling is required.\n"
     ]
    },
    {
     "name": "stdout",
     "output_type": "stream",
     "text": [
      "\u001b[2m\u001b[36m(func pid=1855478)\u001b[0m [2,  2000] loss: 0.680\n"
     ]
    },
    {
     "name": "stderr",
     "output_type": "stream",
     "text": [
      "\u001b[2m\u001b[33m(raylet)\u001b[0m [2023-08-22 11:12:07,834 E 1659495 1659513] (raylet) file_system_monitor.cc:111: /tmp/ray/session_2023-08-22_09-44-45_245297_1659393 is over 95% full, available space: 13188415488; capacity: 490444898304. Object creation will fail if spilling is required.\n",
      "\u001b[2m\u001b[33m(raylet)\u001b[0m [2023-08-22 11:12:17,881 E 1659495 1659513] (raylet) file_system_monitor.cc:111: /tmp/ray/session_2023-08-22_09-44-45_245297_1659393 is over 95% full, available space: 13188403200; capacity: 490444898304. Object creation will fail if spilling is required.\n",
      "2023-08-22 11:12:22,010\tWARNING util.py:315 -- The `on_step_begin` operation took 0.583 s, which may be a performance bottleneck.\n",
      "\u001b[2m\u001b[33m(raylet)\u001b[0m [2023-08-22 11:12:27,958 E 1659495 1659513] (raylet) file_system_monitor.cc:111: /tmp/ray/session_2023-08-22_09-44-45_245297_1659393 is over 95% full, available space: 13188390912; capacity: 490444898304. Object creation will fail if spilling is required.\n",
      "\u001b[2m\u001b[33m(raylet)\u001b[0m [2023-08-22 11:12:37,978 E 1659495 1659513] (raylet) file_system_monitor.cc:111: /tmp/ray/session_2023-08-22_09-44-45_245297_1659393 is over 95% full, available space: 13188370432; capacity: 490444898304. Object creation will fail if spilling is required.\n"
     ]
    },
    {
     "name": "stdout",
     "output_type": "stream",
     "text": [
      "Trial 71a80_00002: Chosen l1 = 32\n"
     ]
    },
    {
     "name": "stderr",
     "output_type": "stream",
     "text": [
      "\u001b[2m\u001b[33m(raylet)\u001b[0m [2023-08-22 11:12:48,694 E 1659495 1659513] (raylet) file_system_monitor.cc:111: /tmp/ray/session_2023-08-22_09-44-45_245297_1659393 is over 95% full, available space: 13188345856; capacity: 490444898304. Object creation will fail if spilling is required.\n"
     ]
    },
    {
     "name": "stdout",
     "output_type": "stream",
     "text": [
      "\u001b[2m\u001b[36m(func pid=1784699)\u001b[0m [5,  2000] loss: 0.495\n"
     ]
    },
    {
     "name": "stderr",
     "output_type": "stream",
     "text": [
      "\u001b[2m\u001b[33m(raylet)\u001b[0m [2023-08-22 11:12:58,746 E 1659495 1659513] (raylet) file_system_monitor.cc:111: /tmp/ray/session_2023-08-22_09-44-45_245297_1659393 is over 95% full, available space: 13188304896; capacity: 490444898304. Object creation will fail if spilling is required.\n",
      "\u001b[2m\u001b[33m(raylet)\u001b[0m [2023-08-22 11:13:08,749 E 1659495 1659513] (raylet) file_system_monitor.cc:111: /tmp/ray/session_2023-08-22_09-44-45_245297_1659393 is over 95% full, available space: 13188231168; capacity: 490444898304. Object creation will fail if spilling is required.\n",
      "\u001b[2m\u001b[33m(raylet)\u001b[0m [2023-08-22 11:13:18,815 E 1659495 1659513] (raylet) file_system_monitor.cc:111: /tmp/ray/session_2023-08-22_09-44-45_245297_1659393 is over 95% full, available space: 13188214784; capacity: 490444898304. Object creation will fail if spilling is required.\n"
     ]
    },
    {
     "name": "stdout",
     "output_type": "stream",
     "text": [
      "\u001b[2m\u001b[36m(func pid=1855478)\u001b[0m [3,  2000] loss: 0.579\n"
     ]
    },
    {
     "name": "stderr",
     "output_type": "stream",
     "text": [
      "\u001b[2m\u001b[33m(raylet)\u001b[0m [2023-08-22 11:13:28,910 E 1659495 1659513] (raylet) file_system_monitor.cc:111: /tmp/ray/session_2023-08-22_09-44-45_245297_1659393 is over 95% full, available space: 13188194304; capacity: 490444898304. Object creation will fail if spilling is required.\n",
      "\u001b[2m\u001b[33m(raylet)\u001b[0m [2023-08-22 11:13:39,034 E 1659495 1659513] (raylet) file_system_monitor.cc:111: /tmp/ray/session_2023-08-22_09-44-45_245297_1659393 is over 95% full, available space: 13188177920; capacity: 490444898304. Object creation will fail if spilling is required.\n",
      "\u001b[2m\u001b[33m(raylet)\u001b[0m [2023-08-22 11:13:49,219 E 1659495 1659513] (raylet) file_system_monitor.cc:111: /tmp/ray/session_2023-08-22_09-44-45_245297_1659393 is over 95% full, available space: 13188145152; capacity: 490444898304. Object creation will fail if spilling is required.\n",
      "\u001b[2m\u001b[33m(raylet)\u001b[0m [2023-08-22 11:13:59,234 E 1659495 1659513] (raylet) file_system_monitor.cc:111: /tmp/ray/session_2023-08-22_09-44-45_245297_1659393 is over 95% full, available space: 13188132864; capacity: 490444898304. Object creation will fail if spilling is required.\n",
      "\u001b[2m\u001b[33m(raylet)\u001b[0m [2023-08-22 11:14:09,318 E 1659495 1659513] (raylet) file_system_monitor.cc:111: /tmp/ray/session_2023-08-22_09-44-45_245297_1659393 is over 95% full, available space: 13188063232; capacity: 490444898304. Object creation will fail if spilling is required.\n",
      "\u001b[2m\u001b[33m(raylet)\u001b[0m [2023-08-22 11:14:19,320 E 1659495 1659513] (raylet) file_system_monitor.cc:111: /tmp/ray/session_2023-08-22_09-44-45_245297_1659393 is over 95% full, available space: 13188042752; capacity: 490444898304. Object creation will fail if spilling is required.\n"
     ]
    },
    {
     "name": "stdout",
     "output_type": "stream",
     "text": [
      "\u001b[2m\u001b[36m(func pid=1784699)\u001b[0m [6,  2000] loss: 0.471\n"
     ]
    },
    {
     "name": "stderr",
     "output_type": "stream",
     "text": [
      "\u001b[2m\u001b[33m(raylet)\u001b[0m [2023-08-22 11:14:29,402 E 1659495 1659513] (raylet) file_system_monitor.cc:111: /tmp/ray/session_2023-08-22_09-44-45_245297_1659393 is over 95% full, available space: 13188030464; capacity: 490444898304. Object creation will fail if spilling is required.\n",
      "\u001b[2m\u001b[33m(raylet)\u001b[0m [2023-08-22 11:14:39,414 E 1659495 1659513] (raylet) file_system_monitor.cc:111: /tmp/ray/session_2023-08-22_09-44-45_245297_1659393 is over 95% full, available space: 13188026368; capacity: 490444898304. Object creation will fail if spilling is required.\n",
      "\u001b[2m\u001b[33m(raylet)\u001b[0m [2023-08-22 11:14:49,439 E 1659495 1659513] (raylet) file_system_monitor.cc:111: /tmp/ray/session_2023-08-22_09-44-45_245297_1659393 is over 95% full, available space: 13188009984; capacity: 490444898304. Object creation will fail if spilling is required.\n"
     ]
    },
    {
     "name": "stdout",
     "output_type": "stream",
     "text": [
      "\u001b[2m\u001b[36m(func pid=1855478)\u001b[0m [4,  2000] loss: 0.540\n"
     ]
    },
    {
     "name": "stderr",
     "output_type": "stream",
     "text": [
      "\u001b[2m\u001b[33m(raylet)\u001b[0m [2023-08-22 11:14:59,447 E 1659495 1659513] (raylet) file_system_monitor.cc:111: /tmp/ray/session_2023-08-22_09-44-45_245297_1659393 is over 95% full, available space: 13187985408; capacity: 490444898304. Object creation will fail if spilling is required.\n",
      "\u001b[2m\u001b[33m(raylet)\u001b[0m [2023-08-22 11:15:09,524 E 1659495 1659513] (raylet) file_system_monitor.cc:111: /tmp/ray/session_2023-08-22_09-44-45_245297_1659393 is over 95% full, available space: 13187907584; capacity: 490444898304. Object creation will fail if spilling is required.\n",
      "\u001b[2m\u001b[33m(raylet)\u001b[0m [2023-08-22 11:15:19,583 E 1659495 1659513] (raylet) file_system_monitor.cc:111: /tmp/ray/session_2023-08-22_09-44-45_245297_1659393 is over 95% full, available space: 13187883008; capacity: 490444898304. Object creation will fail if spilling is required.\n",
      "\u001b[2m\u001b[33m(raylet)\u001b[0m [2023-08-22 11:15:29,620 E 1659495 1659513] (raylet) file_system_monitor.cc:111: /tmp/ray/session_2023-08-22_09-44-45_245297_1659393 is over 95% full, available space: 13187870720; capacity: 490444898304. Object creation will fail if spilling is required.\n",
      "\u001b[2m\u001b[33m(raylet)\u001b[0m [2023-08-22 11:15:39,620 E 1659495 1659513] (raylet) file_system_monitor.cc:111: /tmp/ray/session_2023-08-22_09-44-45_245297_1659393 is over 95% full, available space: 13187846144; capacity: 490444898304. Object creation will fail if spilling is required.\n",
      "\u001b[2m\u001b[33m(raylet)\u001b[0m [2023-08-22 11:15:49,633 E 1659495 1659513] (raylet) file_system_monitor.cc:111: /tmp/ray/session_2023-08-22_09-44-45_245297_1659393 is over 95% full, available space: 13187829760; capacity: 490444898304. Object creation will fail if spilling is required.\n",
      "\u001b[2m\u001b[33m(raylet)\u001b[0m [2023-08-22 11:15:59,706 E 1659495 1659513] (raylet) file_system_monitor.cc:111: /tmp/ray/session_2023-08-22_09-44-45_245297_1659393 is over 95% full, available space: 13187837952; capacity: 490444898304. Object creation will fail if spilling is required.\n"
     ]
    },
    {
     "name": "stdout",
     "output_type": "stream",
     "text": [
      "\u001b[2m\u001b[36m(func pid=1784699)\u001b[0m [7,  2000] loss: 0.442\n"
     ]
    },
    {
     "name": "stderr",
     "output_type": "stream",
     "text": [
      "\u001b[2m\u001b[33m(raylet)\u001b[0m [2023-08-22 11:16:09,730 E 1659495 1659513] (raylet) file_system_monitor.cc:111: /tmp/ray/session_2023-08-22_09-44-45_245297_1659393 is over 95% full, available space: 13187760128; capacity: 490444898304. Object creation will fail if spilling is required.\n"
     ]
    },
    {
     "name": "stdout",
     "output_type": "stream",
     "text": [
      "\u001b[2m\u001b[36m(func pid=1855478)\u001b[0m [5,  2000] loss: 0.501\n"
     ]
    },
    {
     "name": "stderr",
     "output_type": "stream",
     "text": [
      "\u001b[2m\u001b[33m(raylet)\u001b[0m [2023-08-22 11:16:19,776 E 1659495 1659513] (raylet) file_system_monitor.cc:111: /tmp/ray/session_2023-08-22_09-44-45_245297_1659393 is over 95% full, available space: 13187751936; capacity: 490444898304. Object creation will fail if spilling is required.\n",
      "\u001b[2m\u001b[33m(raylet)\u001b[0m [2023-08-22 11:16:29,800 E 1659495 1659513] (raylet) file_system_monitor.cc:111: /tmp/ray/session_2023-08-22_09-44-45_245297_1659393 is over 95% full, available space: 13187731456; capacity: 490444898304. Object creation will fail if spilling is required.\n",
      "\u001b[2m\u001b[33m(raylet)\u001b[0m [2023-08-22 11:16:39,853 E 1659495 1659513] (raylet) file_system_monitor.cc:111: /tmp/ray/session_2023-08-22_09-44-45_245297_1659393 is over 95% full, available space: 13187715072; capacity: 490444898304. Object creation will fail if spilling is required.\n",
      "\u001b[2m\u001b[33m(raylet)\u001b[0m [2023-08-22 11:16:49,928 E 1659495 1659513] (raylet) file_system_monitor.cc:111: /tmp/ray/session_2023-08-22_09-44-45_245297_1659393 is over 95% full, available space: 13187698688; capacity: 490444898304. Object creation will fail if spilling is required.\n",
      "\u001b[2m\u001b[33m(raylet)\u001b[0m [2023-08-22 11:16:59,986 E 1659495 1659513] (raylet) file_system_monitor.cc:111: /tmp/ray/session_2023-08-22_09-44-45_245297_1659393 is over 95% full, available space: 13187661824; capacity: 490444898304. Object creation will fail if spilling is required.\n",
      "\u001b[2m\u001b[33m(raylet)\u001b[0m [2023-08-22 11:17:10,089 E 1659495 1659513] (raylet) file_system_monitor.cc:111: /tmp/ray/session_2023-08-22_09-44-45_245297_1659393 is over 95% full, available space: 13187608576; capacity: 490444898304. Object creation will fail if spilling is required.\n",
      "\u001b[2m\u001b[33m(raylet)\u001b[0m [2023-08-22 11:17:20,160 E 1659495 1659513] (raylet) file_system_monitor.cc:111: /tmp/ray/session_2023-08-22_09-44-45_245297_1659393 is over 95% full, available space: 13187584000; capacity: 490444898304. Object creation will fail if spilling is required.\n",
      "\u001b[2m\u001b[33m(raylet)\u001b[0m [2023-08-22 11:17:30,177 E 1659495 1659513] (raylet) file_system_monitor.cc:111: /tmp/ray/session_2023-08-22_09-44-45_245297_1659393 is over 95% full, available space: 13187563520; capacity: 490444898304. Object creation will fail if spilling is required.\n"
     ]
    },
    {
     "name": "stdout",
     "output_type": "stream",
     "text": [
      "\u001b[2m\u001b[36m(func pid=1855478)\u001b[0m [6,  2000] loss: 0.468\n"
     ]
    },
    {
     "name": "stderr",
     "output_type": "stream",
     "text": [
      "\u001b[2m\u001b[33m(raylet)\u001b[0m [2023-08-22 11:17:40,241 E 1659495 1659513] (raylet) file_system_monitor.cc:111: /tmp/ray/session_2023-08-22_09-44-45_245297_1659393 is over 95% full, available space: 13187559424; capacity: 490444898304. Object creation will fail if spilling is required.\n",
      "\u001b[2m\u001b[33m(raylet)\u001b[0m [2023-08-22 11:17:50,286 E 1659495 1659513] (raylet) file_system_monitor.cc:111: /tmp/ray/session_2023-08-22_09-44-45_245297_1659393 is over 95% full, available space: 13187563520; capacity: 490444898304. Object creation will fail if spilling is required.\n",
      "\u001b[2m\u001b[33m(raylet)\u001b[0m [2023-08-22 11:18:01,114 E 1659495 1659513] (raylet) file_system_monitor.cc:111: /tmp/ray/session_2023-08-22_09-44-45_245297_1659393 is over 95% full, available space: 13187497984; capacity: 490444898304. Object creation will fail if spilling is required.\n"
     ]
    },
    {
     "name": "stdout",
     "output_type": "stream",
     "text": [
      "Trial 71a80_00001: Chosen l1 = 32\n"
     ]
    },
    {
     "name": "stderr",
     "output_type": "stream",
     "text": [
      "\u001b[2m\u001b[33m(raylet)\u001b[0m [2023-08-22 11:18:11,154 E 1659495 1659513] (raylet) file_system_monitor.cc:111: /tmp/ray/session_2023-08-22_09-44-45_245297_1659393 is over 95% full, available space: 13187469312; capacity: 490444898304. Object creation will fail if spilling is required.\n",
      "\u001b[2m\u001b[33m(raylet)\u001b[0m [2023-08-22 11:18:21,251 E 1659495 1659513] (raylet) file_system_monitor.cc:111: /tmp/ray/session_2023-08-22_09-44-45_245297_1659393 is over 95% full, available space: 13187432448; capacity: 490444898304. Object creation will fail if spilling is required.\n",
      "\u001b[2m\u001b[33m(raylet)\u001b[0m [2023-08-22 11:18:31,271 E 1659495 1659513] (raylet) file_system_monitor.cc:111: /tmp/ray/session_2023-08-22_09-44-45_245297_1659393 is over 95% full, available space: 13187407872; capacity: 490444898304. Object creation will fail if spilling is required.\n",
      "\u001b[2m\u001b[33m(raylet)\u001b[0m [2023-08-22 11:18:41,297 E 1659495 1659513] (raylet) file_system_monitor.cc:111: /tmp/ray/session_2023-08-22_09-44-45_245297_1659393 is over 95% full, available space: 13187371008; capacity: 490444898304. Object creation will fail if spilling is required.\n",
      "\u001b[2m\u001b[33m(raylet)\u001b[0m [2023-08-22 11:18:51,362 E 1659495 1659513] (raylet) file_system_monitor.cc:111: /tmp/ray/session_2023-08-22_09-44-45_245297_1659393 is over 95% full, available space: 13187358720; capacity: 490444898304. Object creation will fail if spilling is required.\n",
      "\u001b[2m\u001b[33m(raylet)\u001b[0m [2023-08-22 11:19:01,459 E 1659495 1659513] (raylet) file_system_monitor.cc:111: /tmp/ray/session_2023-08-22_09-44-45_245297_1659393 is over 95% full, available space: 13187297280; capacity: 490444898304. Object creation will fail if spilling is required.\n",
      "\u001b[2m\u001b[33m(raylet)\u001b[0m [2023-08-22 11:19:11,479 E 1659495 1659513] (raylet) file_system_monitor.cc:111: /tmp/ray/session_2023-08-22_09-44-45_245297_1659393 is over 95% full, available space: 13187256320; capacity: 490444898304. Object creation will fail if spilling is required.\n"
     ]
    },
    {
     "name": "stdout",
     "output_type": "stream",
     "text": [
      "\u001b[2m\u001b[36m(func pid=1855478)\u001b[0m [7,  2000] loss: 0.452\u001b[32m [repeated 2x across cluster] (Ray deduplicates logs by default. Set RAY_DEDUP_LOGS=0 to disable log deduplication, or see https://docs.ray.io/en/master/ray-observability/ray-logging.html#log-deduplication for more options.)\u001b[0m\n"
     ]
    },
    {
     "name": "stderr",
     "output_type": "stream",
     "text": [
      "\u001b[2m\u001b[33m(raylet)\u001b[0m [2023-08-22 11:19:21,547 E 1659495 1659513] (raylet) file_system_monitor.cc:111: /tmp/ray/session_2023-08-22_09-44-45_245297_1659393 is over 95% full, available space: 13187215360; capacity: 490444898304. Object creation will fail if spilling is required.\n",
      "\u001b[2m\u001b[33m(raylet)\u001b[0m [2023-08-22 11:19:31,579 E 1659495 1659513] (raylet) file_system_monitor.cc:111: /tmp/ray/session_2023-08-22_09-44-45_245297_1659393 is over 95% full, available space: 13187207168; capacity: 490444898304. Object creation will fail if spilling is required.\n"
     ]
    },
    {
     "name": "stdout",
     "output_type": "stream",
     "text": [
      "\u001b[2m\u001b[36m(func pid=1784699)\u001b[0m [9,  2000] loss: 0.409\n"
     ]
    },
    {
     "name": "stderr",
     "output_type": "stream",
     "text": [
      "\u001b[2m\u001b[33m(raylet)\u001b[0m [2023-08-22 11:19:41,605 E 1659495 1659513] (raylet) file_system_monitor.cc:111: /tmp/ray/session_2023-08-22_09-44-45_245297_1659393 is over 95% full, available space: 13187198976; capacity: 490444898304. Object creation will fail if spilling is required.\n",
      "\u001b[2m\u001b[33m(raylet)\u001b[0m [2023-08-22 11:19:51,614 E 1659495 1659513] (raylet) file_system_monitor.cc:111: /tmp/ray/session_2023-08-22_09-44-45_245297_1659393 is over 95% full, available space: 13187194880; capacity: 490444898304. Object creation will fail if spilling is required.\n",
      "\u001b[2m\u001b[33m(raylet)\u001b[0m [2023-08-22 11:20:01,713 E 1659495 1659513] (raylet) file_system_monitor.cc:111: /tmp/ray/session_2023-08-22_09-44-45_245297_1659393 is over 95% full, available space: 13187145728; capacity: 490444898304. Object creation will fail if spilling is required.\n",
      "\u001b[2m\u001b[33m(raylet)\u001b[0m [2023-08-22 11:20:11,957 E 1659495 1659513] (raylet) file_system_monitor.cc:111: /tmp/ray/session_2023-08-22_09-44-45_245297_1659393 is over 95% full, available space: 13187096576; capacity: 490444898304. Object creation will fail if spilling is required.\n",
      "\u001b[2m\u001b[33m(raylet)\u001b[0m [2023-08-22 11:20:22,015 E 1659495 1659513] (raylet) file_system_monitor.cc:111: /tmp/ray/session_2023-08-22_09-44-45_245297_1659393 is over 95% full, available space: 13187067904; capacity: 490444898304. Object creation will fail if spilling is required.\n",
      "\u001b[2m\u001b[33m(raylet)\u001b[0m [2023-08-22 11:20:32,084 E 1659495 1659513] (raylet) file_system_monitor.cc:111: /tmp/ray/session_2023-08-22_09-44-45_245297_1659393 is over 95% full, available space: 13187055616; capacity: 490444898304. Object creation will fail if spilling is required.\n",
      "\u001b[2m\u001b[33m(raylet)\u001b[0m [2023-08-22 11:20:42,100 E 1659495 1659513] (raylet) file_system_monitor.cc:111: /tmp/ray/session_2023-08-22_09-44-45_245297_1659393 is over 95% full, available space: 13187026944; capacity: 490444898304. Object creation will fail if spilling is required.\n",
      "\u001b[2m\u001b[33m(raylet)\u001b[0m [2023-08-22 11:20:52,129 E 1659495 1659513] (raylet) file_system_monitor.cc:111: /tmp/ray/session_2023-08-22_09-44-45_245297_1659393 is over 95% full, available space: 13187014656; capacity: 490444898304. Object creation will fail if spilling is required.\n",
      "\u001b[2m\u001b[33m(raylet)\u001b[0m [2023-08-22 11:21:02,135 E 1659495 1659513] (raylet) file_system_monitor.cc:111: /tmp/ray/session_2023-08-22_09-44-45_245297_1659393 is over 95% full, available space: 13186928640; capacity: 490444898304. Object creation will fail if spilling is required.\n",
      "\u001b[2m\u001b[33m(raylet)\u001b[0m [2023-08-22 11:21:12,230 E 1659495 1659513] (raylet) file_system_monitor.cc:111: /tmp/ray/session_2023-08-22_09-44-45_245297_1659393 is over 95% full, available space: 13186895872; capacity: 490444898304. Object creation will fail if spilling is required.\n"
     ]
    },
    {
     "name": "stdout",
     "output_type": "stream",
     "text": [
      "\u001b[2m\u001b[36m(func pid=1855478)\u001b[0m [8,  2000] loss: 0.435\n"
     ]
    },
    {
     "name": "stderr",
     "output_type": "stream",
     "text": [
      "\u001b[2m\u001b[33m(raylet)\u001b[0m [2023-08-22 11:21:22,312 E 1659495 1659513] (raylet) file_system_monitor.cc:111: /tmp/ray/session_2023-08-22_09-44-45_245297_1659393 is over 95% full, available space: 13186879488; capacity: 490444898304. Object creation will fail if spilling is required.\n",
      "\u001b[2m\u001b[33m(raylet)\u001b[0m [2023-08-22 11:21:32,342 E 1659495 1659513] (raylet) file_system_monitor.cc:111: /tmp/ray/session_2023-08-22_09-44-45_245297_1659393 is over 95% full, available space: 13186863104; capacity: 490444898304. Object creation will fail if spilling is required.\n",
      "\u001b[2m\u001b[33m(raylet)\u001b[0m [2023-08-22 11:21:42,346 E 1659495 1659513] (raylet) file_system_monitor.cc:111: /tmp/ray/session_2023-08-22_09-44-45_245297_1659393 is over 95% full, available space: 13186850816; capacity: 490444898304. Object creation will fail if spilling is required.\n"
     ]
    },
    {
     "name": "stdout",
     "output_type": "stream",
     "text": [
      "\u001b[2m\u001b[36m(func pid=1784699)\u001b[0m [10,  2000] loss: 0.398\n"
     ]
    },
    {
     "name": "stderr",
     "output_type": "stream",
     "text": [
      "\u001b[2m\u001b[33m(raylet)\u001b[0m [2023-08-22 11:21:52,444 E 1659495 1659513] (raylet) file_system_monitor.cc:111: /tmp/ray/session_2023-08-22_09-44-45_245297_1659393 is over 95% full, available space: 13186842624; capacity: 490444898304. Object creation will fail if spilling is required.\n",
      "\u001b[2m\u001b[33m(raylet)\u001b[0m [2023-08-22 11:22:02,454 E 1659495 1659513] (raylet) file_system_monitor.cc:111: /tmp/ray/session_2023-08-22_09-44-45_245297_1659393 is over 95% full, available space: 13186768896; capacity: 490444898304. Object creation will fail if spilling is required.\n",
      "\u001b[2m\u001b[33m(raylet)\u001b[0m [2023-08-22 11:22:12,540 E 1659495 1659513] (raylet) file_system_monitor.cc:111: /tmp/ray/session_2023-08-22_09-44-45_245297_1659393 is over 95% full, available space: 13186748416; capacity: 490444898304. Object creation will fail if spilling is required.\n",
      "\u001b[2m\u001b[33m(raylet)\u001b[0m [2023-08-22 11:22:22,622 E 1659495 1659513] (raylet) file_system_monitor.cc:111: /tmp/ray/session_2023-08-22_09-44-45_245297_1659393 is over 95% full, available space: 13186740224; capacity: 490444898304. Object creation will fail if spilling is required.\n",
      "\u001b[2m\u001b[33m(raylet)\u001b[0m [2023-08-22 11:22:32,623 E 1659495 1659513] (raylet) file_system_monitor.cc:111: /tmp/ray/session_2023-08-22_09-44-45_245297_1659393 is over 95% full, available space: 13186703360; capacity: 490444898304. Object creation will fail if spilling is required.\n",
      "\u001b[2m\u001b[33m(raylet)\u001b[0m [2023-08-22 11:22:42,709 E 1659495 1659513] (raylet) file_system_monitor.cc:111: /tmp/ray/session_2023-08-22_09-44-45_245297_1659393 is over 95% full, available space: 13186695168; capacity: 490444898304. Object creation will fail if spilling is required.\n",
      "\u001b[2m\u001b[33m(raylet)\u001b[0m [2023-08-22 11:22:52,784 E 1659495 1659513] (raylet) file_system_monitor.cc:111: /tmp/ray/session_2023-08-22_09-44-45_245297_1659393 is over 95% full, available space: 13186654208; capacity: 490444898304. Object creation will fail if spilling is required.\n",
      "\u001b[2m\u001b[33m(raylet)\u001b[0m [2023-08-22 11:23:02,813 E 1659495 1659513] (raylet) file_system_monitor.cc:111: /tmp/ray/session_2023-08-22_09-44-45_245297_1659393 is over 95% full, available space: 13186617344; capacity: 490444898304. Object creation will fail if spilling is required.\n"
     ]
    },
    {
     "name": "stdout",
     "output_type": "stream",
     "text": [
      "\u001b[2m\u001b[36m(func pid=1855478)\u001b[0m [9,  2000] loss: 0.418\n"
     ]
    },
    {
     "name": "stderr",
     "output_type": "stream",
     "text": [
      "\u001b[2m\u001b[33m(raylet)\u001b[0m [2023-08-22 11:23:12,902 E 1659495 1659513] (raylet) file_system_monitor.cc:111: /tmp/ray/session_2023-08-22_09-44-45_245297_1659393 is over 95% full, available space: 13186596864; capacity: 490444898304. Object creation will fail if spilling is required.\n",
      "\u001b[2m\u001b[33m(raylet)\u001b[0m [2023-08-22 11:23:22,905 E 1659495 1659513] (raylet) file_system_monitor.cc:111: /tmp/ray/session_2023-08-22_09-44-45_245297_1659393 is over 95% full, available space: 13186564096; capacity: 490444898304. Object creation will fail if spilling is required.\n"
     ]
    },
    {
     "name": "stdout",
     "output_type": "stream",
     "text": [
      "Trial 71a80_00005: Chosen l1 = 64\n"
     ]
    },
    {
     "name": "stderr",
     "output_type": "stream",
     "text": [
      "2023-08-22 11:23:31,552\tWARNING util.py:315 -- The `on_step_begin` operation took 1.137 s, which may be a performance bottleneck.\n",
      "\u001b[2m\u001b[33m(raylet)\u001b[0m [2023-08-22 11:23:32,979 E 1659495 1659513] (raylet) file_system_monitor.cc:111: /tmp/ray/session_2023-08-22_09-44-45_245297_1659393 is over 95% full, available space: 13186568192; capacity: 490444898304. Object creation will fail if spilling is required.\n",
      "\u001b[2m\u001b[33m(raylet)\u001b[0m [2023-08-22 11:23:43,045 E 1659495 1659513] (raylet) file_system_monitor.cc:111: /tmp/ray/session_2023-08-22_09-44-45_245297_1659393 is over 95% full, available space: 13186527232; capacity: 490444898304. Object creation will fail if spilling is required.\n",
      "\u001b[2m\u001b[33m(raylet)\u001b[0m [2023-08-22 11:23:53,118 E 1659495 1659513] (raylet) file_system_monitor.cc:111: /tmp/ray/session_2023-08-22_09-44-45_245297_1659393 is over 95% full, available space: 13186494464; capacity: 490444898304. Object creation will fail if spilling is required.\n",
      "\u001b[2m\u001b[33m(raylet)\u001b[0m [2023-08-22 11:24:03,141 E 1659495 1659513] (raylet) file_system_monitor.cc:111: /tmp/ray/session_2023-08-22_09-44-45_245297_1659393 is over 95% full, available space: 13186412544; capacity: 490444898304. Object creation will fail if spilling is required.\n"
     ]
    },
    {
     "name": "stdout",
     "output_type": "stream",
     "text": [
      "\u001b[2m\u001b[36m(func pid=1784699)\u001b[0m [11,  2000] loss: 0.385\n"
     ]
    },
    {
     "name": "stderr",
     "output_type": "stream",
     "text": [
      "\u001b[2m\u001b[33m(raylet)\u001b[0m [2023-08-22 11:24:13,158 E 1659495 1659513] (raylet) file_system_monitor.cc:111: /tmp/ray/session_2023-08-22_09-44-45_245297_1659393 is over 95% full, available space: 13186371584; capacity: 490444898304. Object creation will fail if spilling is required.\n",
      "\u001b[2m\u001b[33m(raylet)\u001b[0m [2023-08-22 11:24:23,227 E 1659495 1659513] (raylet) file_system_monitor.cc:111: /tmp/ray/session_2023-08-22_09-44-45_245297_1659393 is over 95% full, available space: 13186355200; capacity: 490444898304. Object creation will fail if spilling is required.\n",
      "\u001b[2m\u001b[33m(raylet)\u001b[0m [2023-08-22 11:24:33,238 E 1659495 1659513] (raylet) file_system_monitor.cc:111: /tmp/ray/session_2023-08-22_09-44-45_245297_1659393 is over 95% full, available space: 13186334720; capacity: 490444898304. Object creation will fail if spilling is required.\n",
      "\u001b[2m\u001b[33m(raylet)\u001b[0m [2023-08-22 11:24:43,335 E 1659495 1659513] (raylet) file_system_monitor.cc:111: /tmp/ray/session_2023-08-22_09-44-45_245297_1659393 is over 95% full, available space: 13186322432; capacity: 490444898304. Object creation will fail if spilling is required.\n",
      "\u001b[2m\u001b[33m(raylet)\u001b[0m [2023-08-22 11:24:53,391 E 1659495 1659513] (raylet) file_system_monitor.cc:111: /tmp/ray/session_2023-08-22_09-44-45_245297_1659393 is over 95% full, available space: 13186306048; capacity: 490444898304. Object creation will fail if spilling is required.\n",
      "\u001b[2m\u001b[33m(raylet)\u001b[0m [2023-08-22 11:25:03,406 E 1659495 1659513] (raylet) file_system_monitor.cc:111: /tmp/ray/session_2023-08-22_09-44-45_245297_1659393 is over 95% full, available space: 13186232320; capacity: 490444898304. Object creation will fail if spilling is required.\n",
      "\u001b[2m\u001b[33m(raylet)\u001b[0m [2023-08-22 11:25:13,473 E 1659495 1659513] (raylet) file_system_monitor.cc:111: /tmp/ray/session_2023-08-22_09-44-45_245297_1659393 is over 95% full, available space: 13186228224; capacity: 490444898304. Object creation will fail if spilling is required.\n",
      "\u001b[2m\u001b[33m(raylet)\u001b[0m [2023-08-22 11:25:23,517 E 1659495 1659513] (raylet) file_system_monitor.cc:111: /tmp/ray/session_2023-08-22_09-44-45_245297_1659393 is over 95% full, available space: 13186183168; capacity: 490444898304. Object creation will fail if spilling is required.\n"
     ]
    },
    {
     "name": "stdout",
     "output_type": "stream",
     "text": [
      "\u001b[2m\u001b[36m(func pid=1855478)\u001b[0m [10,  2000] loss: 0.401\n",
      "Trial 71a80_00006: Chosen l1 = 64\n"
     ]
    },
    {
     "name": "stderr",
     "output_type": "stream",
     "text": [
      "\u001b[2m\u001b[33m(raylet)\u001b[0m [2023-08-22 11:25:33,562 E 1659495 1659513] (raylet) file_system_monitor.cc:111: /tmp/ray/session_2023-08-22_09-44-45_245297_1659393 is over 95% full, available space: 13186183168; capacity: 490444898304. Object creation will fail if spilling is required.\n",
      "2023-08-22 11:25:34,259\tWARNING util.py:315 -- The `on_step_begin` operation took 1.054 s, which may be a performance bottleneck.\n",
      "\u001b[2m\u001b[33m(raylet)\u001b[0m [2023-08-22 11:25:43,563 E 1659495 1659513] (raylet) file_system_monitor.cc:111: /tmp/ray/session_2023-08-22_09-44-45_245297_1659393 is over 95% full, available space: 13186150400; capacity: 490444898304. Object creation will fail if spilling is required.\n",
      "2023-08-22 11:25:44,853\tWARNING util.py:315 -- The `on_step_begin` operation took 0.565 s, which may be a performance bottleneck.\n",
      "\u001b[2m\u001b[33m(raylet)\u001b[0m [2023-08-22 11:25:53,631 E 1659495 1659513] (raylet) file_system_monitor.cc:111: /tmp/ray/session_2023-08-22_09-44-45_245297_1659393 is over 95% full, available space: 13186101248; capacity: 490444898304. Object creation will fail if spilling is required.\n",
      "\u001b[2m\u001b[33m(raylet)\u001b[0m [2023-08-22 11:26:03,688 E 1659495 1659513] (raylet) file_system_monitor.cc:111: /tmp/ray/session_2023-08-22_09-44-45_245297_1659393 is over 95% full, available space: 13186019328; capacity: 490444898304. Object creation will fail if spilling is required.\n",
      "\u001b[2m\u001b[33m(raylet)\u001b[0m [2023-08-22 11:26:13,776 E 1659495 1659513] (raylet) file_system_monitor.cc:111: /tmp/ray/session_2023-08-22_09-44-45_245297_1659393 is over 95% full, available space: 13186007040; capacity: 490444898304. Object creation will fail if spilling is required.\n",
      "\u001b[2m\u001b[33m(raylet)\u001b[0m [2023-08-22 11:26:23,795 E 1659495 1659513] (raylet) file_system_monitor.cc:111: /tmp/ray/session_2023-08-22_09-44-45_245297_1659393 is over 95% full, available space: 13185990656; capacity: 490444898304. Object creation will fail if spilling is required.\n",
      "\u001b[2m\u001b[33m(raylet)\u001b[0m [2023-08-22 11:26:33,818 E 1659495 1659513] (raylet) file_system_monitor.cc:111: /tmp/ray/session_2023-08-22_09-44-45_245297_1659393 is over 95% full, available space: 13185974272; capacity: 490444898304. Object creation will fail if spilling is required.\n"
     ]
    },
    {
     "name": "stdout",
     "output_type": "stream",
     "text": [
      "\u001b[2m\u001b[36m(func pid=1784699)\u001b[0m [12,  2000] loss: 0.378\n"
     ]
    },
    {
     "name": "stderr",
     "output_type": "stream",
     "text": [
      "\u001b[2m\u001b[33m(raylet)\u001b[0m [2023-08-22 11:26:43,903 E 1659495 1659513] (raylet) file_system_monitor.cc:111: /tmp/ray/session_2023-08-22_09-44-45_245297_1659393 is over 95% full, available space: 13185937408; capacity: 490444898304. Object creation will fail if spilling is required.\n",
      "\u001b[2m\u001b[33m(raylet)\u001b[0m [2023-08-22 11:26:53,909 E 1659495 1659513] (raylet) file_system_monitor.cc:111: /tmp/ray/session_2023-08-22_09-44-45_245297_1659393 is over 95% full, available space: 13185941504; capacity: 490444898304. Object creation will fail if spilling is required.\n"
     ]
    },
    {
     "name": "stdout",
     "output_type": "stream",
     "text": [
      "\u001b[2m\u001b[36m(func pid=2144770)\u001b[0m [1,  2000] loss: 1.866\n"
     ]
    },
    {
     "name": "stderr",
     "output_type": "stream",
     "text": [
      "\u001b[2m\u001b[33m(raylet)\u001b[0m [2023-08-22 11:27:04,011 E 1659495 1659513] (raylet) file_system_monitor.cc:111: /tmp/ray/session_2023-08-22_09-44-45_245297_1659393 is over 95% full, available space: 13185867776; capacity: 490444898304. Object creation will fail if spilling is required.\n",
      "\u001b[2m\u001b[33m(raylet)\u001b[0m [2023-08-22 11:27:14,073 E 1659495 1659513] (raylet) file_system_monitor.cc:111: /tmp/ray/session_2023-08-22_09-44-45_245297_1659393 is over 95% full, available space: 13185863680; capacity: 490444898304. Object creation will fail if spilling is required.\n",
      "\u001b[2m\u001b[33m(raylet)\u001b[0m [2023-08-22 11:27:24,077 E 1659495 1659513] (raylet) file_system_monitor.cc:111: /tmp/ray/session_2023-08-22_09-44-45_245297_1659393 is over 95% full, available space: 13185830912; capacity: 490444898304. Object creation will fail if spilling is required.\n"
     ]
    },
    {
     "name": "stdout",
     "output_type": "stream",
     "text": [
      "\u001b[2m\u001b[36m(func pid=1855478)\u001b[0m [11,  2000] loss: 0.393\n"
     ]
    },
    {
     "name": "stderr",
     "output_type": "stream",
     "text": [
      "\u001b[2m\u001b[33m(raylet)\u001b[0m [2023-08-22 11:27:34,131 E 1659495 1659513] (raylet) file_system_monitor.cc:111: /tmp/ray/session_2023-08-22_09-44-45_245297_1659393 is over 95% full, available space: 13185798144; capacity: 490444898304. Object creation will fail if spilling is required.\n",
      "\u001b[2m\u001b[33m(raylet)\u001b[0m [2023-08-22 11:27:44,179 E 1659495 1659513] (raylet) file_system_monitor.cc:111: /tmp/ray/session_2023-08-22_09-44-45_245297_1659393 is over 95% full, available space: 13185798144; capacity: 490444898304. Object creation will fail if spilling is required.\n",
      "\u001b[2m\u001b[33m(raylet)\u001b[0m [2023-08-22 11:27:54,274 E 1659495 1659513] (raylet) file_system_monitor.cc:111: /tmp/ray/session_2023-08-22_09-44-45_245297_1659393 is over 95% full, available space: 13185748992; capacity: 490444898304. Object creation will fail if spilling is required.\n",
      "\u001b[2m\u001b[33m(raylet)\u001b[0m [2023-08-22 11:28:04,278 E 1659495 1659513] (raylet) file_system_monitor.cc:111: /tmp/ray/session_2023-08-22_09-44-45_245297_1659393 is over 95% full, available space: 13185671168; capacity: 490444898304. Object creation will fail if spilling is required.\n",
      "\u001b[2m\u001b[33m(raylet)\u001b[0m [2023-08-22 11:28:14,338 E 1659495 1659513] (raylet) file_system_monitor.cc:111: /tmp/ray/session_2023-08-22_09-44-45_245297_1659393 is over 95% full, available space: 13185642496; capacity: 490444898304. Object creation will fail if spilling is required.\n",
      "\u001b[2m\u001b[33m(raylet)\u001b[0m [2023-08-22 11:28:24,362 E 1659495 1659513] (raylet) file_system_monitor.cc:111: /tmp/ray/session_2023-08-22_09-44-45_245297_1659393 is over 95% full, available space: 13185626112; capacity: 490444898304. Object creation will fail if spilling is required.\n"
     ]
    },
    {
     "name": "stdout",
     "output_type": "stream",
     "text": [
      "Trial 71a80_00007: Chosen l1 = 64\n"
     ]
    },
    {
     "name": "stderr",
     "output_type": "stream",
     "text": [
      "\u001b[2m\u001b[33m(raylet)\u001b[0m [2023-08-22 11:28:34,434 E 1659495 1659513] (raylet) file_system_monitor.cc:111: /tmp/ray/session_2023-08-22_09-44-45_245297_1659393 is over 95% full, available space: 13185613824; capacity: 490444898304. Object creation will fail if spilling is required.\n",
      "2023-08-22 11:28:38,222\tWARNING util.py:315 -- The `on_step_begin` operation took 0.647 s, which may be a performance bottleneck.\n"
     ]
    },
    {
     "name": "stdout",
     "output_type": "stream",
     "text": [
      "\u001b[2m\u001b[36m(func pid=2144770)\u001b[0m [2,  2000] loss: 0.664\n"
     ]
    },
    {
     "name": "stderr",
     "output_type": "stream",
     "text": [
      "\u001b[2m\u001b[33m(raylet)\u001b[0m [2023-08-22 11:28:44,512 E 1659495 1659513] (raylet) file_system_monitor.cc:111: /tmp/ray/session_2023-08-22_09-44-45_245297_1659393 is over 95% full, available space: 13185589248; capacity: 490444898304. Object creation will fail if spilling is required.\n"
     ]
    },
    {
     "name": "stdout",
     "output_type": "stream",
     "text": [
      "\u001b[2m\u001b[36m(func pid=1784699)\u001b[0m [13,  2000] loss: 0.370\n"
     ]
    },
    {
     "name": "stderr",
     "output_type": "stream",
     "text": [
      "\u001b[2m\u001b[33m(raylet)\u001b[0m [2023-08-22 11:28:54,578 E 1659495 1659513] (raylet) file_system_monitor.cc:111: /tmp/ray/session_2023-08-22_09-44-45_245297_1659393 is over 95% full, available space: 13185568768; capacity: 490444898304. Object creation will fail if spilling is required.\n",
      "\u001b[2m\u001b[33m(raylet)\u001b[0m [2023-08-22 11:29:04,594 E 1659495 1659513] (raylet) file_system_monitor.cc:111: /tmp/ray/session_2023-08-22_09-44-45_245297_1659393 is over 95% full, available space: 13185519616; capacity: 490444898304. Object creation will fail if spilling is required.\n"
     ]
    },
    {
     "name": "stdout",
     "output_type": "stream",
     "text": [
      "\u001b[2m\u001b[36m(func pid=1855478)\u001b[0m [12,  2000] loss: 0.378\n"
     ]
    },
    {
     "name": "stderr",
     "output_type": "stream",
     "text": [
      "\u001b[2m\u001b[33m(raylet)\u001b[0m [2023-08-22 11:29:14,656 E 1659495 1659513] (raylet) file_system_monitor.cc:111: /tmp/ray/session_2023-08-22_09-44-45_245297_1659393 is over 95% full, available space: 13185523712; capacity: 490444898304. Object creation will fail if spilling is required.\n",
      "\u001b[2m\u001b[33m(raylet)\u001b[0m [2023-08-22 11:29:24,674 E 1659495 1659513] (raylet) file_system_monitor.cc:111: /tmp/ray/session_2023-08-22_09-44-45_245297_1659393 is over 95% full, available space: 13185478656; capacity: 490444898304. Object creation will fail if spilling is required.\n",
      "\u001b[2m\u001b[33m(raylet)\u001b[0m [2023-08-22 11:29:34,772 E 1659495 1659513] (raylet) file_system_monitor.cc:111: /tmp/ray/session_2023-08-22_09-44-45_245297_1659393 is over 95% full, available space: 13185458176; capacity: 490444898304. Object creation will fail if spilling is required.\n",
      "\u001b[2m\u001b[33m(raylet)\u001b[0m [2023-08-22 11:29:44,785 E 1659495 1659513] (raylet) file_system_monitor.cc:111: /tmp/ray/session_2023-08-22_09-44-45_245297_1659393 is over 95% full, available space: 13185433600; capacity: 490444898304. Object creation will fail if spilling is required.\n",
      "\u001b[2m\u001b[33m(raylet)\u001b[0m [2023-08-22 11:29:54,840 E 1659495 1659513] (raylet) file_system_monitor.cc:111: /tmp/ray/session_2023-08-22_09-44-45_245297_1659393 is over 95% full, available space: 13185409024; capacity: 490444898304. Object creation will fail if spilling is required.\n"
     ]
    },
    {
     "name": "stdout",
     "output_type": "stream",
     "text": [
      "\u001b[2m\u001b[36m(func pid=2144770)\u001b[0m [3,  2000] loss: 0.565\n"
     ]
    },
    {
     "name": "stderr",
     "output_type": "stream",
     "text": [
      "\u001b[2m\u001b[33m(raylet)\u001b[0m [2023-08-22 11:30:04,857 E 1659495 1659513] (raylet) file_system_monitor.cc:111: /tmp/ray/session_2023-08-22_09-44-45_245297_1659393 is over 95% full, available space: 13185331200; capacity: 490444898304. Object creation will fail if spilling is required.\n",
      "\u001b[2m\u001b[33m(raylet)\u001b[0m [2023-08-22 11:30:14,890 E 1659495 1659513] (raylet) file_system_monitor.cc:111: /tmp/ray/session_2023-08-22_09-44-45_245297_1659393 is over 95% full, available space: 13185323008; capacity: 490444898304. Object creation will fail if spilling is required.\n",
      "\u001b[2m\u001b[33m(raylet)\u001b[0m [2023-08-22 11:30:24,943 E 1659495 1659513] (raylet) file_system_monitor.cc:111: /tmp/ray/session_2023-08-22_09-44-45_245297_1659393 is over 95% full, available space: 13185298432; capacity: 490444898304. Object creation will fail if spilling is required.\n",
      "\u001b[2m\u001b[33m(raylet)\u001b[0m [2023-08-22 11:30:34,955 E 1659495 1659513] (raylet) file_system_monitor.cc:111: /tmp/ray/session_2023-08-22_09-44-45_245297_1659393 is over 95% full, available space: 13185282048; capacity: 490444898304. Object creation will fail if spilling is required.\n"
     ]
    },
    {
     "name": "stdout",
     "output_type": "stream",
     "text": [
      "\u001b[2m\u001b[36m(func pid=1855478)\u001b[0m [13,  2000] loss: 0.369\n"
     ]
    },
    {
     "name": "stderr",
     "output_type": "stream",
     "text": [
      "\u001b[2m\u001b[33m(raylet)\u001b[0m [2023-08-22 11:30:44,973 E 1659495 1659513] (raylet) file_system_monitor.cc:111: /tmp/ray/session_2023-08-22_09-44-45_245297_1659393 is over 95% full, available space: 13185273856; capacity: 490444898304. Object creation will fail if spilling is required.\n",
      "\u001b[2m\u001b[33m(raylet)\u001b[0m [2023-08-22 11:30:55,021 E 1659495 1659513] (raylet) file_system_monitor.cc:111: /tmp/ray/session_2023-08-22_09-44-45_245297_1659393 is over 95% full, available space: 13185269760; capacity: 490444898304. Object creation will fail if spilling is required.\n",
      "2023-08-22 11:31:01,617\tWARNING util.py:315 -- The `on_step_begin` operation took 0.643 s, which may be a performance bottleneck.\n",
      "\u001b[2m\u001b[33m(raylet)\u001b[0m [2023-08-22 11:31:05,119 E 1659495 1659513] (raylet) file_system_monitor.cc:111: /tmp/ray/session_2023-08-22_09-44-45_245297_1659393 is over 95% full, available space: 13185204224; capacity: 490444898304. Object creation will fail if spilling is required.\n",
      "2023-08-22 11:31:12,573\tWARNING util.py:315 -- The `on_step_begin` operation took 0.921 s, which may be a performance bottleneck.\n",
      "\u001b[2m\u001b[33m(raylet)\u001b[0m [2023-08-22 11:31:15,144 E 1659495 1659513] (raylet) file_system_monitor.cc:111: /tmp/ray/session_2023-08-22_09-44-45_245297_1659393 is over 95% full, available space: 13185187840; capacity: 490444898304. Object creation will fail if spilling is required.\n"
     ]
    },
    {
     "name": "stdout",
     "output_type": "stream",
     "text": [
      "\u001b[2m\u001b[36m(func pid=2144770)\u001b[0m [4,  2000] loss: 0.514\u001b[32m [repeated 2x across cluster]\u001b[0m\n"
     ]
    },
    {
     "name": "stderr",
     "output_type": "stream",
     "text": [
      "\u001b[2m\u001b[33m(raylet)\u001b[0m [2023-08-22 11:31:25,146 E 1659495 1659513] (raylet) file_system_monitor.cc:111: /tmp/ray/session_2023-08-22_09-44-45_245297_1659393 is over 95% full, available space: 13185179648; capacity: 490444898304. Object creation will fail if spilling is required.\n",
      "2023-08-22 11:31:33,716\tWARNING util.py:315 -- The `on_step_begin` operation took 0.627 s, which may be a performance bottleneck.\n",
      "\u001b[2m\u001b[33m(raylet)\u001b[0m [2023-08-22 11:31:35,227 E 1659495 1659513] (raylet) file_system_monitor.cc:111: /tmp/ray/session_2023-08-22_09-44-45_245297_1659393 is over 95% full, available space: 13185159168; capacity: 490444898304. Object creation will fail if spilling is required.\n",
      "\u001b[2m\u001b[33m(raylet)\u001b[0m [2023-08-22 11:31:45,289 E 1659495 1659513] (raylet) file_system_monitor.cc:111: /tmp/ray/session_2023-08-22_09-44-45_245297_1659393 is over 95% full, available space: 13185138688; capacity: 490444898304. Object creation will fail if spilling is required.\n",
      "2023-08-22 11:31:54,699\tWARNING util.py:315 -- The `on_step_begin` operation took 0.823 s, which may be a performance bottleneck.\n",
      "\u001b[2m\u001b[33m(raylet)\u001b[0m [2023-08-22 11:31:55,345 E 1659495 1659513] (raylet) file_system_monitor.cc:111: /tmp/ray/session_2023-08-22_09-44-45_245297_1659393 is over 95% full, available space: 13185126400; capacity: 490444898304. Object creation will fail if spilling is required.\n",
      "\u001b[2m\u001b[33m(raylet)\u001b[0m [2023-08-22 11:32:05,371 E 1659495 1659513] (raylet) file_system_monitor.cc:111: /tmp/ray/session_2023-08-22_09-44-45_245297_1659393 is over 95% full, available space: 13185056768; capacity: 490444898304. Object creation will fail if spilling is required.\n",
      "2023-08-22 11:32:05,665\tWARNING util.py:315 -- The `on_step_begin` operation took 0.918 s, which may be a performance bottleneck.\n"
     ]
    },
    {
     "name": "stdout",
     "output_type": "stream",
     "text": [
      "\u001b[2m\u001b[36m(func pid=1855478)\u001b[0m [14,  2000] loss: 0.362\n"
     ]
    },
    {
     "name": "stderr",
     "output_type": "stream",
     "text": [
      "\u001b[2m\u001b[33m(raylet)\u001b[0m [2023-08-22 11:32:15,389 E 1659495 1659513] (raylet) file_system_monitor.cc:111: /tmp/ray/session_2023-08-22_09-44-45_245297_1659393 is over 95% full, available space: 13185036288; capacity: 490444898304. Object creation will fail if spilling is required.\n",
      "\u001b[2m\u001b[33m(raylet)\u001b[0m [2023-08-22 11:32:25,393 E 1659495 1659513] (raylet) file_system_monitor.cc:111: /tmp/ray/session_2023-08-22_09-44-45_245297_1659393 is over 95% full, available space: 13185024000; capacity: 490444898304. Object creation will fail if spilling is required.\n",
      "2023-08-22 11:32:26,817\tWARNING util.py:315 -- The `on_step_begin` operation took 0.681 s, which may be a performance bottleneck.\n"
     ]
    },
    {
     "name": "stdout",
     "output_type": "stream",
     "text": [
      "\u001b[2m\u001b[36m(func pid=1784699)\u001b[0m [15,  2000] loss: 0.355\n"
     ]
    },
    {
     "name": "stderr",
     "output_type": "stream",
     "text": [
      "\u001b[2m\u001b[33m(raylet)\u001b[0m [2023-08-22 11:32:35,417 E 1659495 1659513] (raylet) file_system_monitor.cc:111: /tmp/ray/session_2023-08-22_09-44-45_245297_1659393 is over 95% full, available space: 13185015808; capacity: 490444898304. Object creation will fail if spilling is required.\n",
      "2023-08-22 11:32:37,472\tWARNING util.py:315 -- The `on_step_begin` operation took 0.592 s, which may be a performance bottleneck.\n",
      "\u001b[2m\u001b[33m(raylet)\u001b[0m [2023-08-22 11:32:45,457 E 1659495 1659513] (raylet) file_system_monitor.cc:111: /tmp/ray/session_2023-08-22_09-44-45_245297_1659393 is over 95% full, available space: 13184999424; capacity: 490444898304. Object creation will fail if spilling is required.\n",
      "\u001b[2m\u001b[33m(raylet)\u001b[0m [2023-08-22 11:32:55,522 E 1659495 1659513] (raylet) file_system_monitor.cc:111: /tmp/ray/session_2023-08-22_09-44-45_245297_1659393 is over 95% full, available space: 13184966656; capacity: 490444898304. Object creation will fail if spilling is required.\n",
      "\u001b[2m\u001b[33m(raylet)\u001b[0m [2023-08-22 11:33:05,547 E 1659495 1659513] (raylet) file_system_monitor.cc:111: /tmp/ray/session_2023-08-22_09-44-45_245297_1659393 is over 95% full, available space: 13184913408; capacity: 490444898304. Object creation will fail if spilling is required.\n",
      "\u001b[2m\u001b[33m(raylet)\u001b[0m [2023-08-22 11:33:15,626 E 1659495 1659513] (raylet) file_system_monitor.cc:111: /tmp/ray/session_2023-08-22_09-44-45_245297_1659393 is over 95% full, available space: 13184888832; capacity: 490444898304. Object creation will fail if spilling is required.\n"
     ]
    },
    {
     "name": "stdout",
     "output_type": "stream",
     "text": [
      "Trial 71a80_00000: Chosen l1 = 32\n"
     ]
    },
    {
     "name": "stderr",
     "output_type": "stream",
     "text": [
      "\u001b[2m\u001b[33m(raylet)\u001b[0m [2023-08-22 11:33:25,712 E 1659495 1659513] (raylet) file_system_monitor.cc:111: /tmp/ray/session_2023-08-22_09-44-45_245297_1659393 is over 95% full, available space: 13184884736; capacity: 490444898304. Object creation will fail if spilling is required.\n",
      "\u001b[2m\u001b[33m(raylet)\u001b[0m [2023-08-22 11:33:35,777 E 1659495 1659513] (raylet) file_system_monitor.cc:111: /tmp/ray/session_2023-08-22_09-44-45_245297_1659393 is over 95% full, available space: 13184860160; capacity: 490444898304. Object creation will fail if spilling is required.\n"
     ]
    },
    {
     "name": "stdout",
     "output_type": "stream",
     "text": [
      "\u001b[2m\u001b[36m(func pid=1855478)\u001b[0m [15,  2000] loss: 0.359\u001b[32m [repeated 2x across cluster]\u001b[0m\n"
     ]
    },
    {
     "name": "stderr",
     "output_type": "stream",
     "text": [
      "\u001b[2m\u001b[33m(raylet)\u001b[0m [2023-08-22 11:33:45,836 E 1659495 1659513] (raylet) file_system_monitor.cc:111: /tmp/ray/session_2023-08-22_09-44-45_245297_1659393 is over 95% full, available space: 13184831488; capacity: 490444898304. Object creation will fail if spilling is required.\n",
      "\u001b[2m\u001b[33m(raylet)\u001b[0m [2023-08-22 11:33:55,934 E 1659495 1659513] (raylet) file_system_monitor.cc:111: /tmp/ray/session_2023-08-22_09-44-45_245297_1659393 is over 95% full, available space: 13184819200; capacity: 490444898304. Object creation will fail if spilling is required.\n"
     ]
    },
    {
     "name": "stdout",
     "output_type": "stream",
     "text": [
      "\u001b[2m\u001b[36m(func pid=2144770)\u001b[0m [6,  2000] loss: 0.455\n"
     ]
    },
    {
     "name": "stderr",
     "output_type": "stream",
     "text": [
      "\u001b[2m\u001b[33m(raylet)\u001b[0m [2023-08-22 11:34:05,964 E 1659495 1659513] (raylet) file_system_monitor.cc:111: /tmp/ray/session_2023-08-22_09-44-45_245297_1659393 is over 95% full, available space: 13184724992; capacity: 490444898304. Object creation will fail if spilling is required.\n",
      "\u001b[2m\u001b[33m(raylet)\u001b[0m [2023-08-22 11:34:16,040 E 1659495 1659513] (raylet) file_system_monitor.cc:111: /tmp/ray/session_2023-08-22_09-44-45_245297_1659393 is over 95% full, available space: 13184688128; capacity: 490444898304. Object creation will fail if spilling is required.\n",
      "\u001b[2m\u001b[33m(raylet)\u001b[0m [2023-08-22 11:34:26,129 E 1659495 1659513] (raylet) file_system_monitor.cc:111: /tmp/ray/session_2023-08-22_09-44-45_245297_1659393 is over 95% full, available space: 13184675840; capacity: 490444898304. Object creation will fail if spilling is required.\n",
      "\u001b[2m\u001b[33m(raylet)\u001b[0m [2023-08-22 11:34:36,183 E 1659495 1659513] (raylet) file_system_monitor.cc:111: /tmp/ray/session_2023-08-22_09-44-45_245297_1659393 is over 95% full, available space: 13184647168; capacity: 490444898304. Object creation will fail if spilling is required.\n"
     ]
    },
    {
     "name": "stdout",
     "output_type": "stream",
     "text": [
      "Trial 71a80_00004: Chosen l1 = 64\n"
     ]
    },
    {
     "name": "stderr",
     "output_type": "stream",
     "text": [
      "\u001b[2m\u001b[33m(raylet)\u001b[0m [2023-08-22 11:34:46,582 E 1659495 1659513] (raylet) file_system_monitor.cc:111: /tmp/ray/session_2023-08-22_09-44-45_245297_1659393 is over 95% full, available space: 13184638976; capacity: 490444898304. Object creation will fail if spilling is required.\n",
      "2023-08-22 11:34:52,058\tWARNING util.py:315 -- The `on_step_begin` operation took 1.449 s, which may be a performance bottleneck.\n",
      "\u001b[2m\u001b[33m(raylet)\u001b[0m [2023-08-22 11:34:56,639 E 1659495 1659513] (raylet) file_system_monitor.cc:111: /tmp/ray/session_2023-08-22_09-44-45_245297_1659393 is over 95% full, available space: 13184610304; capacity: 490444898304. Object creation will fail if spilling is required.\n",
      "\u001b[2m\u001b[33m(raylet)\u001b[0m [2023-08-22 11:35:06,674 E 1659495 1659513] (raylet) file_system_monitor.cc:111: /tmp/ray/session_2023-08-22_09-44-45_245297_1659393 is over 95% full, available space: 13184520192; capacity: 490444898304. Object creation will fail if spilling is required.\n",
      "\u001b[2m\u001b[33m(raylet)\u001b[0m [2023-08-22 11:35:16,736 E 1659495 1659513] (raylet) file_system_monitor.cc:111: /tmp/ray/session_2023-08-22_09-44-45_245297_1659393 is over 95% full, available space: 13184516096; capacity: 490444898304. Object creation will fail if spilling is required.\n",
      "\u001b[2m\u001b[33m(raylet)\u001b[0m [2023-08-22 11:35:26,806 E 1659495 1659513] (raylet) file_system_monitor.cc:111: /tmp/ray/session_2023-08-22_09-44-45_245297_1659393 is over 95% full, available space: 13184487424; capacity: 490444898304. Object creation will fail if spilling is required.\n",
      "\u001b[2m\u001b[33m(raylet)\u001b[0m [2023-08-22 11:35:36,827 E 1659495 1659513] (raylet) file_system_monitor.cc:111: /tmp/ray/session_2023-08-22_09-44-45_245297_1659393 is over 95% full, available space: 13184471040; capacity: 490444898304. Object creation will fail if spilling is required.\n",
      "\u001b[2m\u001b[33m(raylet)\u001b[0m [2023-08-22 11:35:46,907 E 1659495 1659513] (raylet) file_system_monitor.cc:111: /tmp/ray/session_2023-08-22_09-44-45_245297_1659393 is over 95% full, available space: 13184442368; capacity: 490444898304. Object creation will fail if spilling is required.\n",
      "\u001b[2m\u001b[33m(raylet)\u001b[0m [2023-08-22 11:35:56,994 E 1659495 1659513] (raylet) file_system_monitor.cc:111: /tmp/ray/session_2023-08-22_09-44-45_245297_1659393 is over 95% full, available space: 13184421888; capacity: 490444898304. Object creation will fail if spilling is required.\n",
      "\u001b[2m\u001b[33m(raylet)\u001b[0m [2023-08-22 11:36:07,054 E 1659495 1659513] (raylet) file_system_monitor.cc:111: /tmp/ray/session_2023-08-22_09-44-45_245297_1659393 is over 95% full, available space: 13184331776; capacity: 490444898304. Object creation will fail if spilling is required.\n",
      "\u001b[2m\u001b[33m(raylet)\u001b[0m [2023-08-22 11:36:17,086 E 1659495 1659513] (raylet) file_system_monitor.cc:111: /tmp/ray/session_2023-08-22_09-44-45_245297_1659393 is over 95% full, available space: 13184303104; capacity: 490444898304. Object creation will fail if spilling is required.\n",
      "\u001b[2m\u001b[33m(raylet)\u001b[0m [2023-08-22 11:36:27,159 E 1659495 1659513] (raylet) file_system_monitor.cc:111: /tmp/ray/session_2023-08-22_09-44-45_245297_1659393 is over 95% full, available space: 13184290816; capacity: 490444898304. Object creation will fail if spilling is required.\n"
     ]
    },
    {
     "name": "stdout",
     "output_type": "stream",
     "text": [
      "\u001b[2m\u001b[36m(func pid=2144770)\u001b[0m [7,  2000] loss: 0.434\n"
     ]
    },
    {
     "name": "stderr",
     "output_type": "stream",
     "text": [
      "\u001b[2m\u001b[33m(raylet)\u001b[0m [2023-08-22 11:36:37,173 E 1659495 1659513] (raylet) file_system_monitor.cc:111: /tmp/ray/session_2023-08-22_09-44-45_245297_1659393 is over 95% full, available space: 13184266240; capacity: 490444898304. Object creation will fail if spilling is required.\n",
      "\u001b[2m\u001b[33m(raylet)\u001b[0m [2023-08-22 11:36:47,229 E 1659495 1659513] (raylet) file_system_monitor.cc:111: /tmp/ray/session_2023-08-22_09-44-45_245297_1659393 is over 95% full, available space: 13184266240; capacity: 490444898304. Object creation will fail if spilling is required.\n",
      "\u001b[2m\u001b[33m(raylet)\u001b[0m [2023-08-22 11:36:57,327 E 1659495 1659513] (raylet) file_system_monitor.cc:111: /tmp/ray/session_2023-08-22_09-44-45_245297_1659393 is over 95% full, available space: 13184229376; capacity: 490444898304. Object creation will fail if spilling is required.\n",
      "\u001b[2m\u001b[33m(raylet)\u001b[0m [2023-08-22 11:37:07,412 E 1659495 1659513] (raylet) file_system_monitor.cc:111: /tmp/ray/session_2023-08-22_09-44-45_245297_1659393 is over 95% full, available space: 13184184320; capacity: 490444898304. Object creation will fail if spilling is required.\n",
      "\u001b[2m\u001b[33m(raylet)\u001b[0m [2023-08-22 11:37:17,559 E 1659495 1659513] (raylet) file_system_monitor.cc:111: /tmp/ray/session_2023-08-22_09-44-45_245297_1659393 is over 95% full, available space: 13184172032; capacity: 490444898304. Object creation will fail if spilling is required.\n",
      "\u001b[2m\u001b[33m(raylet)\u001b[0m [2023-08-22 11:37:27,634 E 1659495 1659513] (raylet) file_system_monitor.cc:111: /tmp/ray/session_2023-08-22_09-44-45_245297_1659393 is over 95% full, available space: 13184147456; capacity: 490444898304. Object creation will fail if spilling is required.\n",
      "\u001b[2m\u001b[33m(raylet)\u001b[0m [2023-08-22 11:37:37,705 E 1659495 1659513] (raylet) file_system_monitor.cc:111: /tmp/ray/session_2023-08-22_09-44-45_245297_1659393 is over 95% full, available space: 13184102400; capacity: 490444898304. Object creation will fail if spilling is required.\n",
      "\u001b[2m\u001b[33m(raylet)\u001b[0m [2023-08-22 11:37:47,716 E 1659495 1659513] (raylet) file_system_monitor.cc:111: /tmp/ray/session_2023-08-22_09-44-45_245297_1659393 is over 95% full, available space: 13184090112; capacity: 490444898304. Object creation will fail if spilling is required.\n",
      "\u001b[2m\u001b[33m(raylet)\u001b[0m [2023-08-22 11:37:57,776 E 1659495 1659513] (raylet) file_system_monitor.cc:111: /tmp/ray/session_2023-08-22_09-44-45_245297_1659393 is over 95% full, available space: 13184065536; capacity: 490444898304. Object creation will fail if spilling is required.\n",
      "\u001b[2m\u001b[33m(raylet)\u001b[0m [2023-08-22 11:38:07,808 E 1659495 1659513] (raylet) file_system_monitor.cc:111: /tmp/ray/session_2023-08-22_09-44-45_245297_1659393 is over 95% full, available space: 13183979520; capacity: 490444898304. Object creation will fail if spilling is required.\n",
      "\u001b[2m\u001b[33m(raylet)\u001b[0m [2023-08-22 11:38:17,857 E 1659495 1659513] (raylet) file_system_monitor.cc:111: /tmp/ray/session_2023-08-22_09-44-45_245297_1659393 is over 95% full, available space: 13183963136; capacity: 490444898304. Object creation will fail if spilling is required.\n",
      "\u001b[2m\u001b[33m(raylet)\u001b[0m [2023-08-22 11:38:27,910 E 1659495 1659513] (raylet) file_system_monitor.cc:111: /tmp/ray/session_2023-08-22_09-44-45_245297_1659393 is over 95% full, available space: 13183959040; capacity: 490444898304. Object creation will fail if spilling is required.\n",
      "\u001b[2m\u001b[33m(raylet)\u001b[0m [2023-08-22 11:38:37,996 E 1659495 1659513] (raylet) file_system_monitor.cc:111: /tmp/ray/session_2023-08-22_09-44-45_245297_1659393 is over 95% full, available space: 13183930368; capacity: 490444898304. Object creation will fail if spilling is required.\n",
      "\u001b[2m\u001b[33m(raylet)\u001b[0m [2023-08-22 11:38:48,089 E 1659495 1659513] (raylet) file_system_monitor.cc:111: /tmp/ray/session_2023-08-22_09-44-45_245297_1659393 is over 95% full, available space: 13183909888; capacity: 490444898304. Object creation will fail if spilling is required.\n",
      "\u001b[2m\u001b[33m(raylet)\u001b[0m [2023-08-22 11:38:58,128 E 1659495 1659513] (raylet) file_system_monitor.cc:111: /tmp/ray/session_2023-08-22_09-44-45_245297_1659393 is over 95% full, available space: 13183873024; capacity: 490444898304. Object creation will fail if spilling is required.\n",
      "\u001b[2m\u001b[33m(raylet)\u001b[0m [2023-08-22 11:39:08,224 E 1659495 1659513] (raylet) file_system_monitor.cc:111: /tmp/ray/session_2023-08-22_09-44-45_245297_1659393 is over 95% full, available space: 13183819776; capacity: 490444898304. Object creation will fail if spilling is required.\n",
      "\u001b[2m\u001b[33m(raylet)\u001b[0m [2023-08-22 11:39:18,314 E 1659495 1659513] (raylet) file_system_monitor.cc:111: /tmp/ray/session_2023-08-22_09-44-45_245297_1659393 is over 95% full, available space: 13183807488; capacity: 490444898304. Object creation will fail if spilling is required.\n",
      "\u001b[2m\u001b[33m(raylet)\u001b[0m [2023-08-22 11:39:28,355 E 1659495 1659513] (raylet) file_system_monitor.cc:111: /tmp/ray/session_2023-08-22_09-44-45_245297_1659393 is over 95% full, available space: 13183787008; capacity: 490444898304. Object creation will fail if spilling is required.\n"
     ]
    },
    {
     "name": "stdout",
     "output_type": "stream",
     "text": [
      "\u001b[2m\u001b[36m(func pid=2144770)\u001b[0m [8,  2000] loss: 0.414\n"
     ]
    },
    {
     "name": "stderr",
     "output_type": "stream",
     "text": [
      "\u001b[2m\u001b[33m(raylet)\u001b[0m [2023-08-22 11:39:38,364 E 1659495 1659513] (raylet) file_system_monitor.cc:111: /tmp/ray/session_2023-08-22_09-44-45_245297_1659393 is over 95% full, available space: 13183762432; capacity: 490444898304. Object creation will fail if spilling is required.\n",
      "\u001b[2m\u001b[33m(raylet)\u001b[0m [2023-08-22 11:39:48,375 E 1659495 1659513] (raylet) file_system_monitor.cc:111: /tmp/ray/session_2023-08-22_09-44-45_245297_1659393 is over 95% full, available space: 13183741952; capacity: 490444898304. Object creation will fail if spilling is required.\n",
      "\u001b[2m\u001b[33m(raylet)\u001b[0m [2023-08-22 11:39:58,381 E 1659495 1659513] (raylet) file_system_monitor.cc:111: /tmp/ray/session_2023-08-22_09-44-45_245297_1659393 is over 95% full, available space: 13183729664; capacity: 490444898304. Object creation will fail if spilling is required.\n",
      "\u001b[2m\u001b[33m(raylet)\u001b[0m [2023-08-22 11:40:08,428 E 1659495 1659513] (raylet) file_system_monitor.cc:111: /tmp/ray/session_2023-08-22_09-44-45_245297_1659393 is over 95% full, available space: 13183647744; capacity: 490444898304. Object creation will fail if spilling is required.\n",
      "\u001b[2m\u001b[33m(raylet)\u001b[0m [2023-08-22 11:40:18,465 E 1659495 1659513] (raylet) file_system_monitor.cc:111: /tmp/ray/session_2023-08-22_09-44-45_245297_1659393 is over 95% full, available space: 13183619072; capacity: 490444898304. Object creation will fail if spilling is required.\n",
      "2023-08-22 11:40:26,577\tWARNING util.py:315 -- The `on_step_begin` operation took 0.756 s, which may be a performance bottleneck.\n",
      "\u001b[2m\u001b[33m(raylet)\u001b[0m [2023-08-22 11:40:28,479 E 1659495 1659513] (raylet) file_system_monitor.cc:111: /tmp/ray/session_2023-08-22_09-44-45_245297_1659393 is over 95% full, available space: 13183610880; capacity: 490444898304. Object creation will fail if spilling is required.\n",
      "\u001b[2m\u001b[33m(raylet)\u001b[0m [2023-08-22 11:40:38,505 E 1659495 1659513] (raylet) file_system_monitor.cc:111: /tmp/ray/session_2023-08-22_09-44-45_245297_1659393 is over 95% full, available space: 13183578112; capacity: 490444898304. Object creation will fail if spilling is required.\n",
      "\u001b[2m\u001b[33m(raylet)\u001b[0m [2023-08-22 11:40:48,600 E 1659495 1659513] (raylet) file_system_monitor.cc:111: /tmp/ray/session_2023-08-22_09-44-45_245297_1659393 is over 95% full, available space: 13183578112; capacity: 490444898304. Object creation will fail if spilling is required.\n"
     ]
    },
    {
     "name": "stdout",
     "output_type": "stream",
     "text": [
      "Trial 71a80_00011: Chosen l1 = 128\n"
     ]
    },
    {
     "name": "stderr",
     "output_type": "stream",
     "text": [
      "\u001b[2m\u001b[33m(raylet)\u001b[0m [2023-08-22 11:40:58,677 E 1659495 1659513] (raylet) file_system_monitor.cc:111: /tmp/ray/session_2023-08-22_09-44-45_245297_1659393 is over 95% full, available space: 13183537152; capacity: 490444898304. Object creation will fail if spilling is required.\n",
      "\u001b[2m\u001b[33m(raylet)\u001b[0m [2023-08-22 11:41:08,752 E 1659495 1659513] (raylet) file_system_monitor.cc:111: /tmp/ray/session_2023-08-22_09-44-45_245297_1659393 is over 95% full, available space: 13183467520; capacity: 490444898304. Object creation will fail if spilling is required.\n"
     ]
    },
    {
     "name": "stdout",
     "output_type": "stream",
     "text": [
      "Trial 71a80_00009: Chosen l1 = 128\n"
     ]
    },
    {
     "name": "stderr",
     "output_type": "stream",
     "text": [
      "\u001b[2m\u001b[33m(raylet)\u001b[0m [2023-08-22 11:41:18,829 E 1659495 1659513] (raylet) file_system_monitor.cc:111: /tmp/ray/session_2023-08-22_09-44-45_245297_1659393 is over 95% full, available space: 13183430656; capacity: 490444898304. Object creation will fail if spilling is required.\n",
      "\u001b[2m\u001b[33m(raylet)\u001b[0m [2023-08-22 11:41:28,865 E 1659495 1659513] (raylet) file_system_monitor.cc:111: /tmp/ray/session_2023-08-22_09-44-45_245297_1659393 is over 95% full, available space: 13183393792; capacity: 490444898304. Object creation will fail if spilling is required.\n",
      "\u001b[2m\u001b[33m(raylet)\u001b[0m [2023-08-22 11:41:38,896 E 1659495 1659513] (raylet) file_system_monitor.cc:111: /tmp/ray/session_2023-08-22_09-44-45_245297_1659393 is over 95% full, available space: 13183356928; capacity: 490444898304. Object creation will fail if spilling is required.\n",
      "\u001b[2m\u001b[33m(raylet)\u001b[0m [2023-08-22 11:41:48,988 E 1659495 1659513] (raylet) file_system_monitor.cc:111: /tmp/ray/session_2023-08-22_09-44-45_245297_1659393 is over 95% full, available space: 13183336448; capacity: 490444898304. Object creation will fail if spilling is required.\n",
      "\u001b[2m\u001b[33m(raylet)\u001b[0m [2023-08-22 11:41:59,035 E 1659495 1659513] (raylet) file_system_monitor.cc:111: /tmp/ray/session_2023-08-22_09-44-45_245297_1659393 is over 95% full, available space: 13183328256; capacity: 490444898304. Object creation will fail if spilling is required.\n"
     ]
    },
    {
     "name": "stdout",
     "output_type": "stream",
     "text": [
      "\u001b[2m\u001b[36m(func pid=2144770)\u001b[0m [9,  2000] loss: 0.400\n"
     ]
    },
    {
     "name": "stderr",
     "output_type": "stream",
     "text": [
      "\u001b[2m\u001b[33m(raylet)\u001b[0m [2023-08-22 11:42:09,049 E 1659495 1659513] (raylet) file_system_monitor.cc:111: /tmp/ray/session_2023-08-22_09-44-45_245297_1659393 is over 95% full, available space: 13183254528; capacity: 490444898304. Object creation will fail if spilling is required.\n"
     ]
    },
    {
     "name": "stdout",
     "output_type": "stream",
     "text": [
      "\u001b[2m\u001b[36m(func pid=2388888)\u001b[0m [1,  2000] loss: 1.772\n",
      "Trial 71a80_00010: Chosen l1 = 128\n"
     ]
    },
    {
     "name": "stderr",
     "output_type": "stream",
     "text": [
      "\u001b[2m\u001b[33m(raylet)\u001b[0m [2023-08-22 11:42:19,149 E 1659495 1659513] (raylet) file_system_monitor.cc:111: /tmp/ray/session_2023-08-22_09-44-45_245297_1659393 is over 95% full, available space: 13183246336; capacity: 490444898304. Object creation will fail if spilling is required.\n",
      "2023-08-22 11:42:21,205\tWARNING util.py:315 -- The `on_step_begin` operation took 2.939 s, which may be a performance bottleneck.\n",
      "\u001b[2m\u001b[33m(raylet)\u001b[0m [2023-08-22 11:42:29,240 E 1659495 1659513] (raylet) file_system_monitor.cc:111: /tmp/ray/session_2023-08-22_09-44-45_245297_1659393 is over 95% full, available space: 13183205376; capacity: 490444898304. Object creation will fail if spilling is required.\n",
      "\u001b[2m\u001b[33m(raylet)\u001b[0m [2023-08-22 11:42:39,340 E 1659495 1659513] (raylet) file_system_monitor.cc:111: /tmp/ray/session_2023-08-22_09-44-45_245297_1659393 is over 95% full, available space: 13183180800; capacity: 490444898304. Object creation will fail if spilling is required.\n",
      "\u001b[2m\u001b[33m(raylet)\u001b[0m [2023-08-22 11:42:49,365 E 1659495 1659513] (raylet) file_system_monitor.cc:111: /tmp/ray/session_2023-08-22_09-44-45_245297_1659393 is over 95% full, available space: 13183156224; capacity: 490444898304. Object creation will fail if spilling is required.\n",
      "\u001b[2m\u001b[33m(raylet)\u001b[0m [2023-08-22 11:42:59,426 E 1659495 1659513] (raylet) file_system_monitor.cc:111: /tmp/ray/session_2023-08-22_09-44-45_245297_1659393 is over 95% full, available space: 13183115264; capacity: 490444898304. Object creation will fail if spilling is required.\n",
      "\u001b[2m\u001b[33m(raylet)\u001b[0m [2023-08-22 11:43:09,507 E 1659495 1659513] (raylet) file_system_monitor.cc:111: /tmp/ray/session_2023-08-22_09-44-45_245297_1659393 is over 95% full, available space: 13183033344; capacity: 490444898304. Object creation will fail if spilling is required.\n",
      "\u001b[2m\u001b[33m(raylet)\u001b[0m [2023-08-22 11:43:19,599 E 1659495 1659513] (raylet) file_system_monitor.cc:111: /tmp/ray/session_2023-08-22_09-44-45_245297_1659393 is over 95% full, available space: 13183008768; capacity: 490444898304. Object creation will fail if spilling is required.\n",
      "\u001b[2m\u001b[33m(raylet)\u001b[0m [2023-08-22 11:43:29,698 E 1659495 1659513] (raylet) file_system_monitor.cc:111: /tmp/ray/session_2023-08-22_09-44-45_245297_1659393 is over 95% full, available space: 13183004672; capacity: 490444898304. Object creation will fail if spilling is required.\n",
      "\u001b[2m\u001b[33m(raylet)\u001b[0m [2023-08-22 11:43:39,730 E 1659495 1659513] (raylet) file_system_monitor.cc:111: /tmp/ray/session_2023-08-22_09-44-45_245297_1659393 is over 95% full, available space: 13182971904; capacity: 490444898304. Object creation will fail if spilling is required.\n",
      "\u001b[2m\u001b[33m(raylet)\u001b[0m [2023-08-22 11:43:49,830 E 1659495 1659513] (raylet) file_system_monitor.cc:111: /tmp/ray/session_2023-08-22_09-44-45_245297_1659393 is over 95% full, available space: 13182951424; capacity: 490444898304. Object creation will fail if spilling is required.\n",
      "\u001b[2m\u001b[33m(raylet)\u001b[0m [2023-08-22 11:43:59,833 E 1659495 1659513] (raylet) file_system_monitor.cc:111: /tmp/ray/session_2023-08-22_09-44-45_245297_1659393 is over 95% full, available space: 13182935040; capacity: 490444898304. Object creation will fail if spilling is required.\n"
     ]
    },
    {
     "name": "stdout",
     "output_type": "stream",
     "text": [
      "\u001b[2m\u001b[36m(func pid=2388888)\u001b[0m [2,  2000] loss: 0.680\n"
     ]
    },
    {
     "name": "stderr",
     "output_type": "stream",
     "text": [
      "\u001b[2m\u001b[33m(raylet)\u001b[0m [2023-08-22 11:44:09,929 E 1659495 1659513] (raylet) file_system_monitor.cc:111: /tmp/ray/session_2023-08-22_09-44-45_245297_1659393 is over 95% full, available space: 13182857216; capacity: 490444898304. Object creation will fail if spilling is required.\n",
      "\u001b[2m\u001b[33m(raylet)\u001b[0m [2023-08-22 11:44:19,929 E 1659495 1659513] (raylet) file_system_monitor.cc:111: /tmp/ray/session_2023-08-22_09-44-45_245297_1659393 is over 95% full, available space: 13182857216; capacity: 490444898304. Object creation will fail if spilling is required.\n"
     ]
    },
    {
     "name": "stdout",
     "output_type": "stream",
     "text": [
      "\u001b[2m\u001b[36m(func pid=2144770)\u001b[0m [10,  2000] loss: 0.387\n"
     ]
    },
    {
     "name": "stderr",
     "output_type": "stream",
     "text": [
      "\u001b[2m\u001b[33m(raylet)\u001b[0m [2023-08-22 11:44:30,009 E 1659495 1659513] (raylet) file_system_monitor.cc:111: /tmp/ray/session_2023-08-22_09-44-45_245297_1659393 is over 95% full, available space: 13182828544; capacity: 490444898304. Object creation will fail if spilling is required.\n",
      "\u001b[2m\u001b[33m(raylet)\u001b[0m [2023-08-22 11:44:40,042 E 1659495 1659513] (raylet) file_system_monitor.cc:111: /tmp/ray/session_2023-08-22_09-44-45_245297_1659393 is over 95% full, available space: 13182808064; capacity: 490444898304. Object creation will fail if spilling is required.\n",
      "\u001b[2m\u001b[33m(raylet)\u001b[0m [2023-08-22 11:44:50,144 E 1659495 1659513] (raylet) file_system_monitor.cc:111: /tmp/ray/session_2023-08-22_09-44-45_245297_1659393 is over 95% full, available space: 13182791680; capacity: 490444898304. Object creation will fail if spilling is required.\n",
      "\u001b[2m\u001b[33m(raylet)\u001b[0m [2023-08-22 11:45:00,153 E 1659495 1659513] (raylet) file_system_monitor.cc:111: /tmp/ray/session_2023-08-22_09-44-45_245297_1659393 is over 95% full, available space: 13182787584; capacity: 490444898304. Object creation will fail if spilling is required.\n",
      "\u001b[2m\u001b[33m(raylet)\u001b[0m [2023-08-22 11:45:10,185 E 1659495 1659513] (raylet) file_system_monitor.cc:111: /tmp/ray/session_2023-08-22_09-44-45_245297_1659393 is over 95% full, available space: 13182713856; capacity: 490444898304. Object creation will fail if spilling is required.\n",
      "\u001b[2m\u001b[33m(raylet)\u001b[0m [2023-08-22 11:45:20,210 E 1659495 1659513] (raylet) file_system_monitor.cc:111: /tmp/ray/session_2023-08-22_09-44-45_245297_1659393 is over 95% full, available space: 13182697472; capacity: 490444898304. Object creation will fail if spilling is required.\n",
      "\u001b[2m\u001b[33m(raylet)\u001b[0m [2023-08-22 11:45:30,296 E 1659495 1659513] (raylet) file_system_monitor.cc:111: /tmp/ray/session_2023-08-22_09-44-45_245297_1659393 is over 95% full, available space: 13182672896; capacity: 490444898304. Object creation will fail if spilling is required.\n",
      "\u001b[2m\u001b[33m(raylet)\u001b[0m [2023-08-22 11:45:40,330 E 1659495 1659513] (raylet) file_system_monitor.cc:111: /tmp/ray/session_2023-08-22_09-44-45_245297_1659393 is over 95% full, available space: 13182660608; capacity: 490444898304. Object creation will fail if spilling is required.\n",
      "\u001b[2m\u001b[33m(raylet)\u001b[0m [2023-08-22 11:45:50,400 E 1659495 1659513] (raylet) file_system_monitor.cc:111: /tmp/ray/session_2023-08-22_09-44-45_245297_1659393 is over 95% full, available space: 13182640128; capacity: 490444898304. Object creation will fail if spilling is required.\n",
      "\u001b[2m\u001b[33m(raylet)\u001b[0m [2023-08-22 11:46:00,448 E 1659495 1659513] (raylet) file_system_monitor.cc:111: /tmp/ray/session_2023-08-22_09-44-45_245297_1659393 is over 95% full, available space: 13182636032; capacity: 490444898304. Object creation will fail if spilling is required.\n"
     ]
    },
    {
     "name": "stdout",
     "output_type": "stream",
     "text": [
      "\u001b[2m\u001b[36m(func pid=2388888)\u001b[0m [3,  2000] loss: 0.586\n"
     ]
    },
    {
     "name": "stderr",
     "output_type": "stream",
     "text": [
      "\u001b[2m\u001b[33m(raylet)\u001b[0m [2023-08-22 11:46:10,466 E 1659495 1659513] (raylet) file_system_monitor.cc:111: /tmp/ray/session_2023-08-22_09-44-45_245297_1659393 is over 95% full, available space: 13182566400; capacity: 490444898304. Object creation will fail if spilling is required.\n",
      "\u001b[2m\u001b[33m(raylet)\u001b[0m [2023-08-22 11:46:20,478 E 1659495 1659513] (raylet) file_system_monitor.cc:111: /tmp/ray/session_2023-08-22_09-44-45_245297_1659393 is over 95% full, available space: 13182533632; capacity: 490444898304. Object creation will fail if spilling is required.\n",
      "\u001b[2m\u001b[33m(raylet)\u001b[0m [2023-08-22 11:46:30,493 E 1659495 1659513] (raylet) file_system_monitor.cc:111: /tmp/ray/session_2023-08-22_09-44-45_245297_1659393 is over 95% full, available space: 13182529536; capacity: 490444898304. Object creation will fail if spilling is required.\n"
     ]
    },
    {
     "name": "stdout",
     "output_type": "stream",
     "text": [
      "\u001b[2m\u001b[36m(func pid=2144770)\u001b[0m [11,  2000] loss: 0.377\n"
     ]
    },
    {
     "name": "stderr",
     "output_type": "stream",
     "text": [
      "\u001b[2m\u001b[33m(raylet)\u001b[0m [2023-08-22 11:46:40,562 E 1659495 1659513] (raylet) file_system_monitor.cc:111: /tmp/ray/session_2023-08-22_09-44-45_245297_1659393 is over 95% full, available space: 13182492672; capacity: 490444898304. Object creation will fail if spilling is required.\n",
      "2023-08-22 11:46:44,968\tWARNING util.py:315 -- The `on_step_begin` operation took 0.771 s, which may be a performance bottleneck.\n",
      "\u001b[2m\u001b[33m(raylet)\u001b[0m [2023-08-22 11:46:50,645 E 1659495 1659513] (raylet) file_system_monitor.cc:111: /tmp/ray/session_2023-08-22_09-44-45_245297_1659393 is over 95% full, available space: 13182492672; capacity: 490444898304. Object creation will fail if spilling is required.\n",
      "\u001b[2m\u001b[33m(raylet)\u001b[0m [2023-08-22 11:47:00,665 E 1659495 1659513] (raylet) file_system_monitor.cc:111: /tmp/ray/session_2023-08-22_09-44-45_245297_1659393 is over 95% full, available space: 13182472192; capacity: 490444898304. Object creation will fail if spilling is required.\n",
      "\u001b[2m\u001b[33m(raylet)\u001b[0m [2023-08-22 11:47:10,700 E 1659495 1659513] (raylet) file_system_monitor.cc:111: /tmp/ray/session_2023-08-22_09-44-45_245297_1659393 is over 95% full, available space: 13182394368; capacity: 490444898304. Object creation will fail if spilling is required.\n",
      "\u001b[2m\u001b[33m(raylet)\u001b[0m [2023-08-22 11:47:20,700 E 1659495 1659513] (raylet) file_system_monitor.cc:111: /tmp/ray/session_2023-08-22_09-44-45_245297_1659393 is over 95% full, available space: 13182382080; capacity: 490444898304. Object creation will fail if spilling is required.\n",
      "\u001b[2m\u001b[33m(raylet)\u001b[0m [2023-08-22 11:47:30,706 E 1659495 1659513] (raylet) file_system_monitor.cc:111: /tmp/ray/session_2023-08-22_09-44-45_245297_1659393 is over 95% full, available space: 13182361600; capacity: 490444898304. Object creation will fail if spilling is required.\n",
      "\u001b[2m\u001b[33m(raylet)\u001b[0m [2023-08-22 11:47:40,709 E 1659495 1659513] (raylet) file_system_monitor.cc:111: /tmp/ray/session_2023-08-22_09-44-45_245297_1659393 is over 95% full, available space: 13182337024; capacity: 490444898304. Object creation will fail if spilling is required.\n",
      "\u001b[2m\u001b[33m(raylet)\u001b[0m [2023-08-22 11:47:50,733 E 1659495 1659513] (raylet) file_system_monitor.cc:111: /tmp/ray/session_2023-08-22_09-44-45_245297_1659393 is over 95% full, available space: 13182320640; capacity: 490444898304. Object creation will fail if spilling is required.\n",
      "\u001b[2m\u001b[33m(raylet)\u001b[0m [2023-08-22 11:48:00,759 E 1659495 1659513] (raylet) file_system_monitor.cc:111: /tmp/ray/session_2023-08-22_09-44-45_245297_1659393 is over 95% full, available space: 13182291968; capacity: 490444898304. Object creation will fail if spilling is required.\n"
     ]
    },
    {
     "name": "stdout",
     "output_type": "stream",
     "text": [
      "\u001b[2m\u001b[36m(func pid=2388888)\u001b[0m [4,  2000] loss: 0.542\n"
     ]
    },
    {
     "name": "stderr",
     "output_type": "stream",
     "text": [
      "\u001b[2m\u001b[33m(raylet)\u001b[0m [2023-08-22 11:48:10,840 E 1659495 1659513] (raylet) file_system_monitor.cc:111: /tmp/ray/session_2023-08-22_09-44-45_245297_1659393 is over 95% full, available space: 13182218240; capacity: 490444898304. Object creation will fail if spilling is required.\n",
      "\u001b[2m\u001b[33m(raylet)\u001b[0m [2023-08-22 11:48:20,885 E 1659495 1659513] (raylet) file_system_monitor.cc:111: /tmp/ray/session_2023-08-22_09-44-45_245297_1659393 is over 95% full, available space: 13182205952; capacity: 490444898304. Object creation will fail if spilling is required.\n",
      "\u001b[2m\u001b[33m(raylet)\u001b[0m [2023-08-22 11:48:30,937 E 1659495 1659513] (raylet) file_system_monitor.cc:111: /tmp/ray/session_2023-08-22_09-44-45_245297_1659393 is over 95% full, available space: 13182185472; capacity: 490444898304. Object creation will fail if spilling is required.\n",
      "\u001b[2m\u001b[33m(raylet)\u001b[0m [2023-08-22 11:48:41,027 E 1659495 1659513] (raylet) file_system_monitor.cc:111: /tmp/ray/session_2023-08-22_09-44-45_245297_1659393 is over 95% full, available space: 13182164992; capacity: 490444898304. Object creation will fail if spilling is required.\n",
      "\u001b[2m\u001b[33m(raylet)\u001b[0m [2023-08-22 11:48:51,102 E 1659495 1659513] (raylet) file_system_monitor.cc:111: /tmp/ray/session_2023-08-22_09-44-45_245297_1659393 is over 95% full, available space: 13182144512; capacity: 490444898304. Object creation will fail if spilling is required.\n"
     ]
    },
    {
     "name": "stdout",
     "output_type": "stream",
     "text": [
      "\u001b[2m\u001b[36m(func pid=2144770)\u001b[0m [12,  2000] loss: 0.370\n"
     ]
    },
    {
     "name": "stderr",
     "output_type": "stream",
     "text": [
      "\u001b[2m\u001b[33m(raylet)\u001b[0m [2023-08-22 11:49:01,150 E 1659495 1659513] (raylet) file_system_monitor.cc:111: /tmp/ray/session_2023-08-22_09-44-45_245297_1659393 is over 95% full, available space: 13182119936; capacity: 490444898304. Object creation will fail if spilling is required.\n",
      "\u001b[2m\u001b[33m(raylet)\u001b[0m [2023-08-22 11:49:11,218 E 1659495 1659513] (raylet) file_system_monitor.cc:111: /tmp/ray/session_2023-08-22_09-44-45_245297_1659393 is over 95% full, available space: 13182066688; capacity: 490444898304. Object creation will fail if spilling is required.\n"
     ]
    },
    {
     "name": "stdout",
     "output_type": "stream",
     "text": [
      "Trial 71a80_00014: Chosen l1 = 256\n"
     ]
    },
    {
     "name": "stderr",
     "output_type": "stream",
     "text": [
      "\u001b[2m\u001b[33m(raylet)\u001b[0m [2023-08-22 11:49:21,344 E 1659495 1659513] (raylet) file_system_monitor.cc:111: /tmp/ray/session_2023-08-22_09-44-45_245297_1659393 is over 95% full, available space: 13182058496; capacity: 490444898304. Object creation will fail if spilling is required.\n",
      "2023-08-22 11:49:28,365\tWARNING util.py:315 -- The `on_step_begin` operation took 1.176 s, which may be a performance bottleneck.\n",
      "\u001b[2m\u001b[33m(raylet)\u001b[0m [2023-08-22 11:49:31,363 E 1659495 1659513] (raylet) file_system_monitor.cc:111: /tmp/ray/session_2023-08-22_09-44-45_245297_1659393 is over 95% full, available space: 13182042112; capacity: 490444898304. Object creation will fail if spilling is required.\n",
      "\u001b[2m\u001b[33m(raylet)\u001b[0m [2023-08-22 11:49:41,426 E 1659495 1659513] (raylet) file_system_monitor.cc:111: /tmp/ray/session_2023-08-22_09-44-45_245297_1659393 is over 95% full, available space: 13181988864; capacity: 490444898304. Object creation will fail if spilling is required.\n",
      "\u001b[2m\u001b[33m(raylet)\u001b[0m [2023-08-22 11:49:51,499 E 1659495 1659513] (raylet) file_system_monitor.cc:111: /tmp/ray/session_2023-08-22_09-44-45_245297_1659393 is over 95% full, available space: 13181972480; capacity: 490444898304. Object creation will fail if spilling is required.\n"
     ]
    },
    {
     "name": "stdout",
     "output_type": "stream",
     "text": [
      "\u001b[2m\u001b[36m(func pid=2388888)\u001b[0m [5,  2000] loss: 0.510\n"
     ]
    },
    {
     "name": "stderr",
     "output_type": "stream",
     "text": [
      "\u001b[2m\u001b[33m(raylet)\u001b[0m [2023-08-22 11:50:01,585 E 1659495 1659513] (raylet) file_system_monitor.cc:111: /tmp/ray/session_2023-08-22_09-44-45_245297_1659393 is over 95% full, available space: 13181952000; capacity: 490444898304. Object creation will fail if spilling is required.\n",
      "\u001b[2m\u001b[33m(raylet)\u001b[0m [2023-08-22 11:50:11,685 E 1659495 1659513] (raylet) file_system_monitor.cc:111: /tmp/ray/session_2023-08-22_09-44-45_245297_1659393 is over 95% full, available space: 13181865984; capacity: 490444898304. Object creation will fail if spilling is required.\n",
      "\u001b[2m\u001b[33m(raylet)\u001b[0m [2023-08-22 11:50:21,688 E 1659495 1659513] (raylet) file_system_monitor.cc:111: /tmp/ray/session_2023-08-22_09-44-45_245297_1659393 is over 95% full, available space: 13181849600; capacity: 490444898304. Object creation will fail if spilling is required.\n",
      "\u001b[2m\u001b[33m(raylet)\u001b[0m [2023-08-22 11:50:31,736 E 1659495 1659513] (raylet) file_system_monitor.cc:111: /tmp/ray/session_2023-08-22_09-44-45_245297_1659393 is over 95% full, available space: 13181829120; capacity: 490444898304. Object creation will fail if spilling is required.\n",
      "\u001b[2m\u001b[33m(raylet)\u001b[0m [2023-08-22 11:50:41,798 E 1659495 1659513] (raylet) file_system_monitor.cc:111: /tmp/ray/session_2023-08-22_09-44-45_245297_1659393 is over 95% full, available space: 13181812736; capacity: 490444898304. Object creation will fail if spilling is required.\n",
      "\u001b[2m\u001b[33m(raylet)\u001b[0m [2023-08-22 11:50:51,835 E 1659495 1659513] (raylet) file_system_monitor.cc:111: /tmp/ray/session_2023-08-22_09-44-45_245297_1659393 is over 95% full, available space: 13181792256; capacity: 490444898304. Object creation will fail if spilling is required.\n",
      "\u001b[2m\u001b[33m(raylet)\u001b[0m [2023-08-22 11:51:01,862 E 1659495 1659513] (raylet) file_system_monitor.cc:111: /tmp/ray/session_2023-08-22_09-44-45_245297_1659393 is over 95% full, available space: 13181779968; capacity: 490444898304. Object creation will fail if spilling is required.\n",
      "\u001b[2m\u001b[33m(raylet)\u001b[0m [2023-08-22 11:51:11,958 E 1659495 1659513] (raylet) file_system_monitor.cc:111: /tmp/ray/session_2023-08-22_09-44-45_245297_1659393 is over 95% full, available space: 13181710336; capacity: 490444898304. Object creation will fail if spilling is required.\n"
     ]
    },
    {
     "name": "stdout",
     "output_type": "stream",
     "text": [
      "\u001b[2m\u001b[36m(func pid=2144770)\u001b[0m [13,  2000] loss: 0.361\n"
     ]
    },
    {
     "name": "stderr",
     "output_type": "stream",
     "text": [
      "\u001b[2m\u001b[33m(raylet)\u001b[0m [2023-08-22 11:51:22,018 E 1659495 1659513] (raylet) file_system_monitor.cc:111: /tmp/ray/session_2023-08-22_09-44-45_245297_1659393 is over 95% full, available space: 13181702144; capacity: 490444898304. Object creation will fail if spilling is required.\n",
      "\u001b[2m\u001b[33m(raylet)\u001b[0m [2023-08-22 11:51:32,070 E 1659495 1659513] (raylet) file_system_monitor.cc:111: /tmp/ray/session_2023-08-22_09-44-45_245297_1659393 is over 95% full, available space: 13181661184; capacity: 490444898304. Object creation will fail if spilling is required.\n",
      "\u001b[2m\u001b[33m(raylet)\u001b[0m [2023-08-22 11:51:42,144 E 1659495 1659513] (raylet) file_system_monitor.cc:111: /tmp/ray/session_2023-08-22_09-44-45_245297_1659393 is over 95% full, available space: 13181648896; capacity: 490444898304. Object creation will fail if spilling is required.\n",
      "\u001b[2m\u001b[33m(raylet)\u001b[0m [2023-08-22 11:51:52,202 E 1659495 1659513] (raylet) file_system_monitor.cc:111: /tmp/ray/session_2023-08-22_09-44-45_245297_1659393 is over 95% full, available space: 13181636608; capacity: 490444898304. Object creation will fail if spilling is required.\n",
      "\u001b[2m\u001b[33m(raylet)\u001b[0m [2023-08-22 11:52:02,251 E 1659495 1659513] (raylet) file_system_monitor.cc:111: /tmp/ray/session_2023-08-22_09-44-45_245297_1659393 is over 95% full, available space: 13181566976; capacity: 490444898304. Object creation will fail if spilling is required.\n",
      "\u001b[2m\u001b[33m(raylet)\u001b[0m [2023-08-22 11:52:12,301 E 1659495 1659513] (raylet) file_system_monitor.cc:111: /tmp/ray/session_2023-08-22_09-44-45_245297_1659393 is over 95% full, available space: 13181554688; capacity: 490444898304. Object creation will fail if spilling is required.\n",
      "\u001b[2m\u001b[33m(raylet)\u001b[0m [2023-08-22 11:52:22,341 E 1659495 1659513] (raylet) file_system_monitor.cc:111: /tmp/ray/session_2023-08-22_09-44-45_245297_1659393 is over 95% full, available space: 13181444096; capacity: 490444898304. Object creation will fail if spilling is required.\n"
     ]
    },
    {
     "name": "stdout",
     "output_type": "stream",
     "text": [
      "\u001b[2m\u001b[36m(func pid=2388888)\u001b[0m [6,  2000] loss: 0.484\n"
     ]
    },
    {
     "name": "stderr",
     "output_type": "stream",
     "text": [
      "\u001b[2m\u001b[33m(raylet)\u001b[0m [2023-08-22 11:52:32,392 E 1659495 1659513] (raylet) file_system_monitor.cc:111: /tmp/ray/session_2023-08-22_09-44-45_245297_1659393 is over 95% full, available space: 13181423616; capacity: 490444898304. Object creation will fail if spilling is required.\n",
      "\u001b[2m\u001b[33m(raylet)\u001b[0m [2023-08-22 11:52:42,487 E 1659495 1659513] (raylet) file_system_monitor.cc:111: /tmp/ray/session_2023-08-22_09-44-45_245297_1659393 is over 95% full, available space: 13181394944; capacity: 490444898304. Object creation will fail if spilling is required.\n",
      "\u001b[2m\u001b[33m(raylet)\u001b[0m [2023-08-22 11:52:52,551 E 1659495 1659513] (raylet) file_system_monitor.cc:111: /tmp/ray/session_2023-08-22_09-44-45_245297_1659393 is over 95% full, available space: 13181394944; capacity: 490444898304. Object creation will fail if spilling is required.\n",
      "2023-08-22 11:53:00,883\tWARNING util.py:315 -- The `on_step_begin` operation took 0.557 s, which may be a performance bottleneck.\n",
      "\u001b[2m\u001b[33m(raylet)\u001b[0m [2023-08-22 11:53:02,571 E 1659495 1659513] (raylet) file_system_monitor.cc:111: /tmp/ray/session_2023-08-22_09-44-45_245297_1659393 is over 95% full, available space: 13181333504; capacity: 490444898304. Object creation will fail if spilling is required.\n",
      "\u001b[2m\u001b[33m(raylet)\u001b[0m [2023-08-22 11:53:12,600 E 1659495 1659513] (raylet) file_system_monitor.cc:111: /tmp/ray/session_2023-08-22_09-44-45_245297_1659393 is over 95% full, available space: 13181308928; capacity: 490444898304. Object creation will fail if spilling is required.\n",
      "\u001b[2m\u001b[33m(raylet)\u001b[0m [2023-08-22 11:53:22,610 E 1659495 1659513] (raylet) file_system_monitor.cc:111: /tmp/ray/session_2023-08-22_09-44-45_245297_1659393 is over 95% full, available space: 13181284352; capacity: 490444898304. Object creation will fail if spilling is required.\n",
      "\u001b[2m\u001b[33m(raylet)\u001b[0m [2023-08-22 11:53:32,685 E 1659495 1659513] (raylet) file_system_monitor.cc:111: /tmp/ray/session_2023-08-22_09-44-45_245297_1659393 is over 95% full, available space: 13181259776; capacity: 490444898304. Object creation will fail if spilling is required.\n",
      "\u001b[2m\u001b[33m(raylet)\u001b[0m [2023-08-22 11:53:42,763 E 1659495 1659513] (raylet) file_system_monitor.cc:111: /tmp/ray/session_2023-08-22_09-44-45_245297_1659393 is over 95% full, available space: 13181239296; capacity: 490444898304. Object creation will fail if spilling is required.\n",
      "\u001b[2m\u001b[33m(raylet)\u001b[0m [2023-08-22 11:53:52,835 E 1659495 1659513] (raylet) file_system_monitor.cc:111: /tmp/ray/session_2023-08-22_09-44-45_245297_1659393 is over 95% full, available space: 13181235200; capacity: 490444898304. Object creation will fail if spilling is required.\n"
     ]
    },
    {
     "name": "stdout",
     "output_type": "stream",
     "text": [
      "\u001b[2m\u001b[36m(func pid=2144770)\u001b[0m [14,  2000] loss: 0.357\n"
     ]
    },
    {
     "name": "stderr",
     "output_type": "stream",
     "text": [
      "\u001b[2m\u001b[33m(raylet)\u001b[0m [2023-08-22 11:54:02,845 E 1659495 1659513] (raylet) file_system_monitor.cc:111: /tmp/ray/session_2023-08-22_09-44-45_245297_1659393 is over 95% full, available space: 13181177856; capacity: 490444898304. Object creation will fail if spilling is required.\n",
      "\u001b[2m\u001b[33m(raylet)\u001b[0m [2023-08-22 11:54:12,893 E 1659495 1659513] (raylet) file_system_monitor.cc:111: /tmp/ray/session_2023-08-22_09-44-45_245297_1659393 is over 95% full, available space: 13181169664; capacity: 490444898304. Object creation will fail if spilling is required.\n",
      "\u001b[2m\u001b[33m(raylet)\u001b[0m [2023-08-22 11:54:22,966 E 1659495 1659513] (raylet) file_system_monitor.cc:111: /tmp/ray/session_2023-08-22_09-44-45_245297_1659393 is over 95% full, available space: 13181140992; capacity: 490444898304. Object creation will fail if spilling is required.\n"
     ]
    },
    {
     "name": "stdout",
     "output_type": "stream",
     "text": [
      "Trial 71a80_00013: Chosen l1 = 256\n"
     ]
    },
    {
     "name": "stderr",
     "output_type": "stream",
     "text": [
      "\u001b[2m\u001b[33m(raylet)\u001b[0m [2023-08-22 11:54:32,973 E 1659495 1659513] (raylet) file_system_monitor.cc:111: /tmp/ray/session_2023-08-22_09-44-45_245297_1659393 is over 95% full, available space: 13181128704; capacity: 490444898304. Object creation will fail if spilling is required.\n"
     ]
    },
    {
     "name": "stdout",
     "output_type": "stream",
     "text": [
      "Trial 71a80_00015: Chosen l1 = 256\n",
      "\u001b[2m\u001b[36m(func pid=2388888)\u001b[0m [7,  2000] loss: 0.457\n"
     ]
    },
    {
     "name": "stderr",
     "output_type": "stream",
     "text": [
      "\u001b[2m\u001b[33m(raylet)\u001b[0m [2023-08-22 11:54:43,010 E 1659495 1659513] (raylet) file_system_monitor.cc:111: /tmp/ray/session_2023-08-22_09-44-45_245297_1659393 is over 95% full, available space: 13181120512; capacity: 490444898304. Object creation will fail if spilling is required.\n",
      "\u001b[2m\u001b[33m(raylet)\u001b[0m [2023-08-22 11:54:53,108 E 1659495 1659513] (raylet) file_system_monitor.cc:111: /tmp/ray/session_2023-08-22_09-44-45_245297_1659393 is over 95% full, available space: 13181104128; capacity: 490444898304. Object creation will fail if spilling is required.\n",
      "\u001b[2m\u001b[33m(raylet)\u001b[0m [2023-08-22 11:55:03,204 E 1659495 1659513] (raylet) file_system_monitor.cc:111: /tmp/ray/session_2023-08-22_09-44-45_245297_1659393 is over 95% full, available space: 13181042688; capacity: 490444898304. Object creation will fail if spilling is required.\n",
      "\u001b[2m\u001b[33m(raylet)\u001b[0m [2023-08-22 11:55:13,275 E 1659495 1659513] (raylet) file_system_monitor.cc:111: /tmp/ray/session_2023-08-22_09-44-45_245297_1659393 is over 95% full, available space: 13181018112; capacity: 490444898304. Object creation will fail if spilling is required.\n"
     ]
    },
    {
     "name": "stdout",
     "output_type": "stream",
     "text": [
      "\u001b[2m\u001b[36m(func pid=2144770)\u001b[0m [15,  2000] loss: 0.343\n"
     ]
    },
    {
     "name": "stderr",
     "output_type": "stream",
     "text": [
      "\u001b[2m\u001b[33m(raylet)\u001b[0m [2023-08-22 11:55:23,316 E 1659495 1659513] (raylet) file_system_monitor.cc:111: /tmp/ray/session_2023-08-22_09-44-45_245297_1659393 is over 95% full, available space: 13181018112; capacity: 490444898304. Object creation will fail if spilling is required.\n"
     ]
    },
    {
     "name": "stdout",
     "output_type": "stream",
     "text": [
      "\u001b[2m\u001b[36m(func pid=2388888)\u001b[0m [8,  2000] loss: 0.434\n"
     ]
    },
    {
     "name": "stderr",
     "output_type": "stream",
     "text": [
      "\u001b[2m\u001b[33m(raylet)\u001b[0m [2023-08-22 11:55:33,374 E 1659495 1659513] (raylet) file_system_monitor.cc:111: /tmp/ray/session_2023-08-22_09-44-45_245297_1659393 is over 95% full, available space: 13181014016; capacity: 490444898304. Object creation will fail if spilling is required.\n",
      "\u001b[2m\u001b[33m(raylet)\u001b[0m [2023-08-22 11:55:43,485 E 1659495 1659513] (raylet) file_system_monitor.cc:111: /tmp/ray/session_2023-08-22_09-44-45_245297_1659393 is over 95% full, available space: 13181005824; capacity: 490444898304. Object creation will fail if spilling is required.\n"
     ]
    },
    {
     "name": "stdout",
     "output_type": "stream",
     "text": [
      "Trial 71a80_00008: Chosen l1 = 128\n"
     ]
    },
    {
     "name": "stderr",
     "output_type": "stream",
     "text": [
      "\u001b[2m\u001b[33m(raylet)\u001b[0m [2023-08-22 11:55:53,531 E 1659495 1659513] (raylet) file_system_monitor.cc:111: /tmp/ray/session_2023-08-22_09-44-45_245297_1659393 is over 95% full, available space: 13181009920; capacity: 490444898304. Object creation will fail if spilling is required.\n",
      "\u001b[2m\u001b[33m(raylet)\u001b[0m [2023-08-22 11:56:03,627 E 1659495 1659513] (raylet) file_system_monitor.cc:111: /tmp/ray/session_2023-08-22_09-44-45_245297_1659393 is over 95% full, available space: 13180964864; capacity: 490444898304. Object creation will fail if spilling is required.\n",
      "\u001b[2m\u001b[33m(raylet)\u001b[0m [2023-08-22 11:56:13,650 E 1659495 1659513] (raylet) file_system_monitor.cc:111: /tmp/ray/session_2023-08-22_09-44-45_245297_1659393 is over 95% full, available space: 13180956672; capacity: 490444898304. Object creation will fail if spilling is required.\n",
      "\u001b[2m\u001b[33m(raylet)\u001b[0m [2023-08-22 11:56:23,659 E 1659495 1659513] (raylet) file_system_monitor.cc:111: /tmp/ray/session_2023-08-22_09-44-45_245297_1659393 is over 95% full, available space: 13180952576; capacity: 490444898304. Object creation will fail if spilling is required.\n"
     ]
    },
    {
     "name": "stdout",
     "output_type": "stream",
     "text": [
      "\u001b[2m\u001b[36m(func pid=2388888)\u001b[0m [9,  2000] loss: 0.419\n"
     ]
    },
    {
     "name": "stderr",
     "output_type": "stream",
     "text": [
      "\u001b[2m\u001b[33m(raylet)\u001b[0m [2023-08-22 11:56:33,757 E 1659495 1659513] (raylet) file_system_monitor.cc:111: /tmp/ray/session_2023-08-22_09-44-45_245297_1659393 is over 95% full, available space: 13180952576; capacity: 490444898304. Object creation will fail if spilling is required.\n",
      "\u001b[2m\u001b[33m(raylet)\u001b[0m [2023-08-22 11:56:43,816 E 1659495 1659513] (raylet) file_system_monitor.cc:111: /tmp/ray/session_2023-08-22_09-44-45_245297_1659393 is over 95% full, available space: 13180936192; capacity: 490444898304. Object creation will fail if spilling is required.\n",
      "\u001b[2m\u001b[33m(raylet)\u001b[0m [2023-08-22 11:56:53,816 E 1659495 1659513] (raylet) file_system_monitor.cc:111: /tmp/ray/session_2023-08-22_09-44-45_245297_1659393 is over 95% full, available space: 13180923904; capacity: 490444898304. Object creation will fail if spilling is required.\n",
      "\u001b[2m\u001b[33m(raylet)\u001b[0m [2023-08-22 11:57:03,843 E 1659495 1659513] (raylet) file_system_monitor.cc:111: /tmp/ray/session_2023-08-22_09-44-45_245297_1659393 is over 95% full, available space: 13180862464; capacity: 490444898304. Object creation will fail if spilling is required.\n",
      "\u001b[2m\u001b[33m(raylet)\u001b[0m [2023-08-22 11:57:13,931 E 1659495 1659513] (raylet) file_system_monitor.cc:111: /tmp/ray/session_2023-08-22_09-44-45_245297_1659393 is over 95% full, available space: 13180846080; capacity: 490444898304. Object creation will fail if spilling is required.\n"
     ]
    },
    {
     "name": "stdout",
     "output_type": "stream",
     "text": [
      "\u001b[2m\u001b[36m(func pid=2388888)\u001b[0m [10,  2000] loss: 0.405\n"
     ]
    },
    {
     "name": "stderr",
     "output_type": "stream",
     "text": [
      "\u001b[2m\u001b[33m(raylet)\u001b[0m [2023-08-22 11:57:23,937 E 1659495 1659513] (raylet) file_system_monitor.cc:111: /tmp/ray/session_2023-08-22_09-44-45_245297_1659393 is over 95% full, available space: 13180846080; capacity: 490444898304. Object creation will fail if spilling is required.\n",
      "\u001b[2m\u001b[33m(raylet)\u001b[0m [2023-08-22 11:57:34,002 E 1659495 1659513] (raylet) file_system_monitor.cc:111: /tmp/ray/session_2023-08-22_09-44-45_245297_1659393 is over 95% full, available space: 13180841984; capacity: 490444898304. Object creation will fail if spilling is required.\n",
      "\u001b[2m\u001b[33m(raylet)\u001b[0m [2023-08-22 11:57:44,100 E 1659495 1659513] (raylet) file_system_monitor.cc:111: /tmp/ray/session_2023-08-22_09-44-45_245297_1659393 is over 95% full, available space: 13180825600; capacity: 490444898304. Object creation will fail if spilling is required.\n",
      "\u001b[2m\u001b[33m(raylet)\u001b[0m [2023-08-22 11:57:54,109 E 1659495 1659513] (raylet) file_system_monitor.cc:111: /tmp/ray/session_2023-08-22_09-44-45_245297_1659393 is over 95% full, available space: 13180817408; capacity: 490444898304. Object creation will fail if spilling is required.\n",
      "\u001b[2m\u001b[33m(raylet)\u001b[0m [2023-08-22 11:58:04,165 E 1659495 1659513] (raylet) file_system_monitor.cc:111: /tmp/ray/session_2023-08-22_09-44-45_245297_1659393 is over 95% full, available space: 13180780544; capacity: 490444898304. Object creation will fail if spilling is required.\n",
      "\u001b[2m\u001b[33m(raylet)\u001b[0m [2023-08-22 11:58:14,177 E 1659495 1659513] (raylet) file_system_monitor.cc:111: /tmp/ray/session_2023-08-22_09-44-45_245297_1659393 is over 95% full, available space: 13180772352; capacity: 490444898304. Object creation will fail if spilling is required.\n"
     ]
    },
    {
     "name": "stdout",
     "output_type": "stream",
     "text": [
      "\u001b[2m\u001b[36m(func pid=2388888)\u001b[0m [11,  2000] loss: 0.396\n"
     ]
    },
    {
     "name": "stderr",
     "output_type": "stream",
     "text": [
      "\u001b[2m\u001b[33m(raylet)\u001b[0m [2023-08-22 11:58:24,269 E 1659495 1659513] (raylet) file_system_monitor.cc:111: /tmp/ray/session_2023-08-22_09-44-45_245297_1659393 is over 95% full, available space: 13180772352; capacity: 490444898304. Object creation will fail if spilling is required.\n",
      "\u001b[2m\u001b[33m(raylet)\u001b[0m [2023-08-22 11:58:34,300 E 1659495 1659513] (raylet) file_system_monitor.cc:111: /tmp/ray/session_2023-08-22_09-44-45_245297_1659393 is over 95% full, available space: 13180760064; capacity: 490444898304. Object creation will fail if spilling is required.\n",
      "\u001b[2m\u001b[33m(raylet)\u001b[0m [2023-08-22 11:58:44,319 E 1659495 1659513] (raylet) file_system_monitor.cc:111: /tmp/ray/session_2023-08-22_09-44-45_245297_1659393 is over 95% full, available space: 13180751872; capacity: 490444898304. Object creation will fail if spilling is required.\n",
      "\u001b[2m\u001b[33m(raylet)\u001b[0m [2023-08-22 11:58:54,415 E 1659495 1659513] (raylet) file_system_monitor.cc:111: /tmp/ray/session_2023-08-22_09-44-45_245297_1659393 is over 95% full, available space: 13180743680; capacity: 490444898304. Object creation will fail if spilling is required.\n",
      "\u001b[2m\u001b[33m(raylet)\u001b[0m [2023-08-22 11:59:04,511 E 1659495 1659513] (raylet) file_system_monitor.cc:111: /tmp/ray/session_2023-08-22_09-44-45_245297_1659393 is over 95% full, available space: 13180682240; capacity: 490444898304. Object creation will fail if spilling is required.\n"
     ]
    },
    {
     "name": "stdout",
     "output_type": "stream",
     "text": [
      "\u001b[2m\u001b[36m(func pid=2388888)\u001b[0m [12,  2000] loss: 0.376\n"
     ]
    },
    {
     "name": "stderr",
     "output_type": "stream",
     "text": [
      "\u001b[2m\u001b[33m(raylet)\u001b[0m [2023-08-22 11:59:14,553 E 1659495 1659513] (raylet) file_system_monitor.cc:111: /tmp/ray/session_2023-08-22_09-44-45_245297_1659393 is over 95% full, available space: 13180665856; capacity: 490444898304. Object creation will fail if spilling is required.\n",
      "\u001b[2m\u001b[33m(raylet)\u001b[0m [2023-08-22 11:59:24,648 E 1659495 1659513] (raylet) file_system_monitor.cc:111: /tmp/ray/session_2023-08-22_09-44-45_245297_1659393 is over 95% full, available space: 13180669952; capacity: 490444898304. Object creation will fail if spilling is required.\n",
      "\u001b[2m\u001b[33m(raylet)\u001b[0m [2023-08-22 11:59:34,650 E 1659495 1659513] (raylet) file_system_monitor.cc:111: /tmp/ray/session_2023-08-22_09-44-45_245297_1659393 is over 95% full, available space: 13180645376; capacity: 490444898304. Object creation will fail if spilling is required.\n",
      "\u001b[2m\u001b[33m(raylet)\u001b[0m [2023-08-22 11:59:44,751 E 1659495 1659513] (raylet) file_system_monitor.cc:111: /tmp/ray/session_2023-08-22_09-44-45_245297_1659393 is over 95% full, available space: 13180641280; capacity: 490444898304. Object creation will fail if spilling is required.\n",
      "\u001b[2m\u001b[33m(raylet)\u001b[0m [2023-08-22 11:59:54,768 E 1659495 1659513] (raylet) file_system_monitor.cc:111: /tmp/ray/session_2023-08-22_09-44-45_245297_1659393 is over 95% full, available space: 13180641280; capacity: 490444898304. Object creation will fail if spilling is required.\n"
     ]
    },
    {
     "name": "stdout",
     "output_type": "stream",
     "text": [
      "\u001b[2m\u001b[36m(func pid=2388888)\u001b[0m [13,  2000] loss: 0.366\n"
     ]
    },
    {
     "name": "stderr",
     "output_type": "stream",
     "text": [
      "\u001b[2m\u001b[33m(raylet)\u001b[0m [2023-08-22 12:00:04,781 E 1659495 1659513] (raylet) file_system_monitor.cc:111: /tmp/ray/session_2023-08-22_09-44-45_245297_1659393 is over 95% full, available space: 13180604416; capacity: 490444898304. Object creation will fail if spilling is required.\n",
      "\u001b[2m\u001b[33m(raylet)\u001b[0m [2023-08-22 12:00:14,795 E 1659495 1659513] (raylet) file_system_monitor.cc:111: /tmp/ray/session_2023-08-22_09-44-45_245297_1659393 is over 95% full, available space: 13180596224; capacity: 490444898304. Object creation will fail if spilling is required.\n",
      "\u001b[2m\u001b[33m(raylet)\u001b[0m [2023-08-22 12:00:24,882 E 1659495 1659513] (raylet) file_system_monitor.cc:111: /tmp/ray/session_2023-08-22_09-44-45_245297_1659393 is over 95% full, available space: 13180579840; capacity: 490444898304. Object creation will fail if spilling is required.\n",
      "\u001b[2m\u001b[33m(raylet)\u001b[0m [2023-08-22 12:00:34,958 E 1659495 1659513] (raylet) file_system_monitor.cc:111: /tmp/ray/session_2023-08-22_09-44-45_245297_1659393 is over 95% full, available space: 13180571648; capacity: 490444898304. Object creation will fail if spilling is required.\n",
      "\u001b[2m\u001b[33m(raylet)\u001b[0m [2023-08-22 12:00:44,980 E 1659495 1659513] (raylet) file_system_monitor.cc:111: /tmp/ray/session_2023-08-22_09-44-45_245297_1659393 is over 95% full, available space: 13180567552; capacity: 490444898304. Object creation will fail if spilling is required.\n",
      "\u001b[2m\u001b[33m(raylet)\u001b[0m [2023-08-22 12:00:54,982 E 1659495 1659513] (raylet) file_system_monitor.cc:111: /tmp/ray/session_2023-08-22_09-44-45_245297_1659393 is over 95% full, available space: 13180563456; capacity: 490444898304. Object creation will fail if spilling is required.\n"
     ]
    },
    {
     "name": "stdout",
     "output_type": "stream",
     "text": [
      "\u001b[2m\u001b[36m(func pid=2388888)\u001b[0m [14,  2000] loss: 0.357\n"
     ]
    },
    {
     "name": "stderr",
     "output_type": "stream",
     "text": [
      "\u001b[2m\u001b[33m(raylet)\u001b[0m [2023-08-22 12:01:05,077 E 1659495 1659513] (raylet) file_system_monitor.cc:111: /tmp/ray/session_2023-08-22_09-44-45_245297_1659393 is over 95% full, available space: 13180506112; capacity: 490444898304. Object creation will fail if spilling is required.\n",
      "\u001b[2m\u001b[33m(raylet)\u001b[0m [2023-08-22 12:01:15,085 E 1659495 1659513] (raylet) file_system_monitor.cc:111: /tmp/ray/session_2023-08-22_09-44-45_245297_1659393 is over 95% full, available space: 13180485632; capacity: 490444898304. Object creation will fail if spilling is required.\n",
      "\u001b[2m\u001b[33m(raylet)\u001b[0m [2023-08-22 12:01:25,162 E 1659495 1659513] (raylet) file_system_monitor.cc:111: /tmp/ray/session_2023-08-22_09-44-45_245297_1659393 is over 95% full, available space: 13180477440; capacity: 490444898304. Object creation will fail if spilling is required.\n",
      "\u001b[2m\u001b[33m(raylet)\u001b[0m [2023-08-22 12:01:35,195 E 1659495 1659513] (raylet) file_system_monitor.cc:111: /tmp/ray/session_2023-08-22_09-44-45_245297_1659393 is over 95% full, available space: 13180477440; capacity: 490444898304. Object creation will fail if spilling is required.\n",
      "\u001b[2m\u001b[33m(raylet)\u001b[0m [2023-08-22 12:01:45,209 E 1659495 1659513] (raylet) file_system_monitor.cc:111: /tmp/ray/session_2023-08-22_09-44-45_245297_1659393 is over 95% full, available space: 13180473344; capacity: 490444898304. Object creation will fail if spilling is required.\n"
     ]
    },
    {
     "name": "stdout",
     "output_type": "stream",
     "text": [
      "\u001b[2m\u001b[36m(func pid=2388888)\u001b[0m [15,  2000] loss: 0.351\n"
     ]
    },
    {
     "name": "stderr",
     "output_type": "stream",
     "text": [
      "\u001b[2m\u001b[33m(raylet)\u001b[0m [2023-08-22 12:01:55,303 E 1659495 1659513] (raylet) file_system_monitor.cc:111: /tmp/ray/session_2023-08-22_09-44-45_245297_1659393 is over 95% full, available space: 13180469248; capacity: 490444898304. Object creation will fail if spilling is required.\n",
      "\u001b[2m\u001b[33m(raylet)\u001b[0m [2023-08-22 12:02:05,304 E 1659495 1659513] (raylet) file_system_monitor.cc:111: /tmp/ray/session_2023-08-22_09-44-45_245297_1659393 is over 95% full, available space: 13180436480; capacity: 490444898304. Object creation will fail if spilling is required.\n"
     ]
    },
    {
     "name": "stdout",
     "output_type": "stream",
     "text": [
      "Trial 71a80_00012: Chosen l1 = 256\n"
     ]
    },
    {
     "name": "stderr",
     "output_type": "stream",
     "text": [
      "2023-08-22 12:02:13,437\tINFO tune.py:1148 -- Total run time: 3559.05 seconds (3558.94 seconds for the tuning loop).\n"
     ]
    },
    {
     "name": "stdout",
     "output_type": "stream",
     "text": [
      "Chosen l1: 64\n",
      "Best trial config: {'epochs': 15, 'learning_rate': 0.001, 'batch_size': 16, 'l1': 64}\n",
      "Best trial metrics: {'mean_accuracy': {'max': 0.86825, 'min': 0.7314166666666667, 'avg': 0.831161111111111, 'last': 0.8671666666666666, 'last-5-avg': 0.8638833333333334, 'last-10-avg': 0.8519083333333333}, 'mean_val_loss': {'max': 0.7711916718880335, 'min': 0.3606877371817827, 'avg': 0.4653202255232467, 'last': 0.36107098484039307, 'last-5-avg': 0.3746354199528694, 'last-10-avg': 0.4061342977002263}, 'time_this_iter_s': {'max': 142.6425280570984, 'min': 82.88266825675964, 'avg': 100.65660058657328, 'last': 111.89350271224976, 'last-5-avg': 98.82714576721192, 'last-10-avg': 106.49528141021729}, 'done': {'max': False, 'min': False, 'avg': 0.0, 'last': False, 'last-5-avg': 0.0, 'last-10-avg': 0.0}, 'training_iteration': {'max': 15, 'min': 1, 'avg': 8.0, 'last': 15, 'last-5-avg': 13.0, 'last-10-avg': 10.5}, 'time_total_s': {'max': 1509.8490087985992, 'min': 100.12897157669067, 'avg': 785.0886674245198, 'last': 1509.8490087985992, 'last-5-avg': 1315.6735130310058, 'last-10-avg': 1039.9489655971527}, 'time_since_restore': {'max': 1509.8490087985992, 'min': 100.12897157669067, 'avg': 785.0886674245198, 'last': 1509.8490087985992, 'last-5-avg': 1315.6735130310058, 'last-10-avg': 1039.9489655971527}, 'iterations_since_restore': {'max': 15, 'min': 1, 'avg': 8.0, 'last': 15, 'last-5-avg': 13.0, 'last-10-avg': 10.5}}\n"
     ]
    },
    {
     "name": "stderr",
     "output_type": "stream",
     "text": [
      "\u001b[2m\u001b[33m(raylet)\u001b[0m [2023-08-22 12:02:15,323 E 1659495 1659513] (raylet) file_system_monitor.cc:111: /tmp/ray/session_2023-08-22_09-44-45_245297_1659393 is over 95% full, available space: 13180416000; capacity: 490444898304. Object creation will fail if spilling is required.\n",
      "\u001b[2m\u001b[33m(raylet)\u001b[0m [2023-08-22 12:02:25,408 E 1659495 1659513] (raylet) file_system_monitor.cc:111: /tmp/ray/session_2023-08-22_09-44-45_245297_1659393 is over 95% full, available space: 13180416000; capacity: 490444898304. Object creation will fail if spilling is required.\n",
      "\u001b[2m\u001b[33m(raylet)\u001b[0m [2023-08-22 12:02:35,507 E 1659495 1659513] (raylet) file_system_monitor.cc:111: /tmp/ray/session_2023-08-22_09-44-45_245297_1659393 is over 95% full, available space: 13180407808; capacity: 490444898304. Object creation will fail if spilling is required.\n",
      "\u001b[2m\u001b[33m(raylet)\u001b[0m [2023-08-22 12:02:45,606 E 1659495 1659513] (raylet) file_system_monitor.cc:111: /tmp/ray/session_2023-08-22_09-44-45_245297_1659393 is over 95% full, available space: 13180407808; capacity: 490444898304. Object creation will fail if spilling is required.\n",
      "\u001b[2m\u001b[33m(raylet)\u001b[0m [2023-08-22 12:02:55,700 E 1659495 1659513] (raylet) file_system_monitor.cc:111: /tmp/ray/session_2023-08-22_09-44-45_245297_1659393 is over 95% full, available space: 13180407808; capacity: 490444898304. Object creation will fail if spilling is required.\n",
      "\u001b[2m\u001b[33m(raylet)\u001b[0m [2023-08-22 12:03:05,715 E 1659495 1659513] (raylet) file_system_monitor.cc:111: /tmp/ray/session_2023-08-22_09-44-45_245297_1659393 is over 95% full, available space: 13180338176; capacity: 490444898304. Object creation will fail if spilling is required.\n",
      "\u001b[2m\u001b[33m(raylet)\u001b[0m [2023-08-22 12:03:15,808 E 1659495 1659513] (raylet) file_system_monitor.cc:111: /tmp/ray/session_2023-08-22_09-44-45_245297_1659393 is over 95% full, available space: 13180329984; capacity: 490444898304. Object creation will fail if spilling is required.\n",
      "\u001b[2m\u001b[33m(raylet)\u001b[0m [2023-08-22 12:03:25,877 E 1659495 1659513] (raylet) file_system_monitor.cc:111: /tmp/ray/session_2023-08-22_09-44-45_245297_1659393 is over 95% full, available space: 13180325888; capacity: 490444898304. Object creation will fail if spilling is required.\n",
      "\u001b[2m\u001b[33m(raylet)\u001b[0m [2023-08-22 12:03:35,976 E 1659495 1659513] (raylet) file_system_monitor.cc:111: /tmp/ray/session_2023-08-22_09-44-45_245297_1659393 is over 95% full, available space: 13180325888; capacity: 490444898304. Object creation will fail if spilling is required.\n",
      "\u001b[2m\u001b[33m(raylet)\u001b[0m [2023-08-22 12:03:46,051 E 1659495 1659513] (raylet) file_system_monitor.cc:111: /tmp/ray/session_2023-08-22_09-44-45_245297_1659393 is over 95% full, available space: 13180321792; capacity: 490444898304. Object creation will fail if spilling is required.\n",
      "\u001b[2m\u001b[33m(raylet)\u001b[0m [2023-08-22 12:03:56,142 E 1659495 1659513] (raylet) file_system_monitor.cc:111: /tmp/ray/session_2023-08-22_09-44-45_245297_1659393 is over 95% full, available space: 13180317696; capacity: 490444898304. Object creation will fail if spilling is required.\n",
      "\u001b[2m\u001b[33m(raylet)\u001b[0m [2023-08-22 12:04:06,239 E 1659495 1659513] (raylet) file_system_monitor.cc:111: /tmp/ray/session_2023-08-22_09-44-45_245297_1659393 is over 95% full, available space: 13180289024; capacity: 490444898304. Object creation will fail if spilling is required.\n",
      "\u001b[2m\u001b[33m(raylet)\u001b[0m [2023-08-22 12:04:16,330 E 1659495 1659513] (raylet) file_system_monitor.cc:111: /tmp/ray/session_2023-08-22_09-44-45_245297_1659393 is over 95% full, available space: 13180280832; capacity: 490444898304. Object creation will fail if spilling is required.\n",
      "\u001b[2m\u001b[33m(raylet)\u001b[0m [2023-08-22 12:04:26,418 E 1659495 1659513] (raylet) file_system_monitor.cc:111: /tmp/ray/session_2023-08-22_09-44-45_245297_1659393 is over 95% full, available space: 13180276736; capacity: 490444898304. Object creation will fail if spilling is required.\n",
      "\u001b[2m\u001b[33m(raylet)\u001b[0m [2023-08-22 12:04:36,513 E 1659495 1659513] (raylet) file_system_monitor.cc:111: /tmp/ray/session_2023-08-22_09-44-45_245297_1659393 is over 95% full, available space: 13180276736; capacity: 490444898304. Object creation will fail if spilling is required.\n",
      "\u001b[2m\u001b[33m(raylet)\u001b[0m [2023-08-22 12:04:46,589 E 1659495 1659513] (raylet) file_system_monitor.cc:111: /tmp/ray/session_2023-08-22_09-44-45_245297_1659393 is over 95% full, available space: 13180272640; capacity: 490444898304. Object creation will fail if spilling is required.\n",
      "\u001b[2m\u001b[33m(raylet)\u001b[0m [2023-08-22 12:04:56,689 E 1659495 1659513] (raylet) file_system_monitor.cc:111: /tmp/ray/session_2023-08-22_09-44-45_245297_1659393 is over 95% full, available space: 13180272640; capacity: 490444898304. Object creation will fail if spilling is required.\n",
      "\u001b[2m\u001b[33m(raylet)\u001b[0m [2023-08-22 12:05:06,775 E 1659495 1659513] (raylet) file_system_monitor.cc:111: /tmp/ray/session_2023-08-22_09-44-45_245297_1659393 is over 95% full, available space: 13180207104; capacity: 490444898304. Object creation will fail if spilling is required.\n",
      "\u001b[2m\u001b[33m(raylet)\u001b[0m [2023-08-22 12:05:16,862 E 1659495 1659513] (raylet) file_system_monitor.cc:111: /tmp/ray/session_2023-08-22_09-44-45_245297_1659393 is over 95% full, available space: 13180198912; capacity: 490444898304. Object creation will fail if spilling is required.\n",
      "\u001b[2m\u001b[33m(raylet)\u001b[0m [2023-08-22 12:05:26,867 E 1659495 1659513] (raylet) file_system_monitor.cc:111: /tmp/ray/session_2023-08-22_09-44-45_245297_1659393 is over 95% full, available space: 13180198912; capacity: 490444898304. Object creation will fail if spilling is required.\n"
     ]
    }
   ],
   "source": [
    "load_data()\n",
    "\n",
    "result_l1_bs = tune.run(\n",
    "    partial(train_fashion_mnist),\n",
    "    resources_per_trial={\"cpu\": 8, \"gpu\": 2},\n",
    "    config=config,\n",
    "    num_samples=num_samples,\n",
    "    storage_path='./tune_runs/e2',\n",
    "    search_alg=BasicVariantGenerator(random_state=40),\n",
    "    #scheduler=scheduler,\n",
    "    chdir_to_trial_dir=False,\n",
    "    callbacks=[print_l1_callback]\n",
    ")\n",
    "\n",
    "best_trial = result_l1_bs.get_best_trial(\"mean_val_loss\", mode=\"min\")\n",
    "best_config = best_trial.config\n",
    "chosen_l1 = best_config[\"l1\"]\n",
    "\n",
    "print(\"Chosen l1:\", chosen_l1)\n",
    "\n",
    "best_metrics = best_trial.metric_analysis\n",
    "\n",
    "print(\"Best trial config:\", best_config)\n",
    "print(\"Best trial metrics:\", best_metrics)"
   ]
  },
  {
   "cell_type": "markdown",
   "metadata": {
    "jp-MarkdownHeadingCollapsed": true
   },
   "source": [
    "### 3rd Experiment - epochs vs. batch_size"
   ]
  },
  {
   "cell_type": "code",
   "execution_count": 13,
   "metadata": {},
   "outputs": [
    {
     "name": "stderr",
     "output_type": "stream",
     "text": [
      "\u001b[2m\u001b[33m(raylet)\u001b[0m [2023-08-22 12:05:36,955 E 1659495 1659513] (raylet) file_system_monitor.cc:111: /tmp/ray/session_2023-08-22_09-44-45_245297_1659393 is over 95% full, available space: 13180198912; capacity: 490444898304. Object creation will fail if spilling is required.\n",
      "\u001b[2m\u001b[33m(raylet)\u001b[0m [2023-08-22 12:05:47,031 E 1659495 1659513] (raylet) file_system_monitor.cc:111: /tmp/ray/session_2023-08-22_09-44-45_245297_1659393 is over 95% full, available space: 13180190720; capacity: 490444898304. Object creation will fail if spilling is required.\n",
      "\u001b[2m\u001b[33m(raylet)\u001b[0m [2023-08-22 12:05:57,123 E 1659495 1659513] (raylet) file_system_monitor.cc:111: /tmp/ray/session_2023-08-22_09-44-45_245297_1659393 is over 95% full, available space: 13180190720; capacity: 490444898304. Object creation will fail if spilling is required.\n"
     ]
    }
   ],
   "source": [
    "num_samples = 1\n",
    "\n",
    "config = {\n",
    "    \"epochs\": tune.grid_search([5, 10, 15, 20]),\n",
    "    \"learning_rate\": 1e-3, \n",
    "    \"batch_size\": tune.grid_search([16, 32, 64, 128]),\n",
    "    \"l1\": 64\n",
    "}"
   ]
  },
  {
   "cell_type": "code",
   "execution_count": 14,
   "metadata": {
    "scrolled": true
   },
   "outputs": [
    {
     "name": "stderr",
     "output_type": "stream",
     "text": [
      "2023-08-22 12:06:06,684\tINFO tune.py:657 -- [output] This uses the legacy output and progress reporter, as Jupyter notebooks are not supported by the new engine, yet. For more information, please see https://github.com/ray-project/ray/issues/36949\n"
     ]
    },
    {
     "data": {
      "text/html": [
       "<div class=\"tuneStatus\">\n",
       "  <div style=\"display: flex;flex-direction: row\">\n",
       "    <div style=\"display: flex;flex-direction: column;\">\n",
       "      <h3>Tune Status</h3>\n",
       "      <table>\n",
       "<tbody>\n",
       "<tr><td>Current time:</td><td>2023-08-22 13:01:47</td></tr>\n",
       "<tr><td>Running for: </td><td>00:55:40.74        </td></tr>\n",
       "<tr><td>Memory:      </td><td>10.8/125.5 GiB     </td></tr>\n",
       "</tbody>\n",
       "</table>\n",
       "    </div>\n",
       "    <div class=\"vDivider\"></div>\n",
       "    <div class=\"systemInfo\">\n",
       "      <h3>System Info</h3>\n",
       "      Using FIFO scheduling algorithm.<br>Logical resource usage: 8.0/40 CPUs, 2.0/8 GPUs (0.0/1.0 accelerator_type:G)\n",
       "    </div>\n",
       "    \n",
       "  </div>\n",
       "  <div class=\"hDivider\"></div>\n",
       "  <div class=\"trialStatus\">\n",
       "    <h3>Trial Status</h3>\n",
       "    <table>\n",
       "<thead>\n",
       "<tr><th>Trial name                     </th><th>status    </th><th>loc                  </th><th style=\"text-align: right;\">  batch_size</th><th style=\"text-align: right;\">  epochs</th><th style=\"text-align: right;\">     acc</th><th style=\"text-align: right;\">  iter</th><th style=\"text-align: right;\">  total time (s)</th><th style=\"text-align: right;\">  mean_val_loss</th></tr>\n",
       "</thead>\n",
       "<tbody>\n",
       "<tr><td>train_fashion_mnist_4609f_00000</td><td>TERMINATED</td><td>141.68.100.65:2671671</td><td style=\"text-align: right;\">          16</td><td style=\"text-align: right;\">       5</td><td style=\"text-align: right;\">0.83475 </td><td style=\"text-align: right;\">     5</td><td style=\"text-align: right;\">         615.883</td><td style=\"text-align: right;\">       0.460747</td></tr>\n",
       "<tr><td>train_fashion_mnist_4609f_00001</td><td>TERMINATED</td><td>141.68.100.65:2671672</td><td style=\"text-align: right;\">          32</td><td style=\"text-align: right;\">       5</td><td style=\"text-align: right;\">0.801083</td><td style=\"text-align: right;\">     5</td><td style=\"text-align: right;\">         305.227</td><td style=\"text-align: right;\">       0.560654</td></tr>\n",
       "<tr><td>train_fashion_mnist_4609f_00002</td><td>TERMINATED</td><td>141.68.100.65:2671673</td><td style=\"text-align: right;\">          64</td><td style=\"text-align: right;\">       5</td><td style=\"text-align: right;\">0.761333</td><td style=\"text-align: right;\">     5</td><td style=\"text-align: right;\">         193.563</td><td style=\"text-align: right;\">       0.668506</td></tr>\n",
       "<tr><td>train_fashion_mnist_4609f_00003</td><td>TERMINATED</td><td>141.68.100.65:2671674</td><td style=\"text-align: right;\">         128</td><td style=\"text-align: right;\">       5</td><td style=\"text-align: right;\">0.673667</td><td style=\"text-align: right;\">     5</td><td style=\"text-align: right;\">         129.138</td><td style=\"text-align: right;\">       1.12252 </td></tr>\n",
       "<tr><td>train_fashion_mnist_4609f_00004</td><td>TERMINATED</td><td>141.68.100.65:2695776</td><td style=\"text-align: right;\">          16</td><td style=\"text-align: right;\">      10</td><td style=\"text-align: right;\">0.861167</td><td style=\"text-align: right;\">    10</td><td style=\"text-align: right;\">        1273.45 </td><td style=\"text-align: right;\">       0.392781</td></tr>\n",
       "<tr><td>train_fashion_mnist_4609f_00005</td><td>TERMINATED</td><td>141.68.100.65:2713116</td><td style=\"text-align: right;\">          32</td><td style=\"text-align: right;\">      10</td><td style=\"text-align: right;\">0.831917</td><td style=\"text-align: right;\">    10</td><td style=\"text-align: right;\">         481.104</td><td style=\"text-align: right;\">       0.462848</td></tr>\n",
       "<tr><td>train_fashion_mnist_4609f_00006</td><td>TERMINATED</td><td>141.68.100.65:2752043</td><td style=\"text-align: right;\">          64</td><td style=\"text-align: right;\">      10</td><td style=\"text-align: right;\">0.783417</td><td style=\"text-align: right;\">    10</td><td style=\"text-align: right;\">         271.656</td><td style=\"text-align: right;\">       0.584845</td></tr>\n",
       "<tr><td>train_fashion_mnist_4609f_00007</td><td>TERMINATED</td><td>141.68.100.65:2832475</td><td style=\"text-align: right;\">         128</td><td style=\"text-align: right;\">      10</td><td style=\"text-align: right;\">0.76625 </td><td style=\"text-align: right;\">    10</td><td style=\"text-align: right;\">         202.856</td><td style=\"text-align: right;\">       0.661754</td></tr>\n",
       "<tr><td>train_fashion_mnist_4609f_00008</td><td>TERMINATED</td><td>141.68.100.65:2836432</td><td style=\"text-align: right;\">          16</td><td style=\"text-align: right;\">      15</td><td style=\"text-align: right;\">0.870667</td><td style=\"text-align: right;\">    15</td><td style=\"text-align: right;\">        2003.16 </td><td style=\"text-align: right;\">       0.358491</td></tr>\n",
       "<tr><td>train_fashion_mnist_4609f_00009</td><td>TERMINATED</td><td>141.68.100.65:2848490</td><td style=\"text-align: right;\">          32</td><td style=\"text-align: right;\">      15</td><td style=\"text-align: right;\">0.852667</td><td style=\"text-align: right;\">    15</td><td style=\"text-align: right;\">         793.713</td><td style=\"text-align: right;\">       0.40603 </td></tr>\n",
       "<tr><td>train_fashion_mnist_4609f_00010</td><td>TERMINATED</td><td>141.68.100.65:2882312</td><td style=\"text-align: right;\">          64</td><td style=\"text-align: right;\">      15</td><td style=\"text-align: right;\">0.824167</td><td style=\"text-align: right;\">    15</td><td style=\"text-align: right;\">         403.617</td><td style=\"text-align: right;\">       0.49319 </td></tr>\n",
       "<tr><td>train_fashion_mnist_4609f_00011</td><td>TERMINATED</td><td>141.68.100.65:2999221</td><td style=\"text-align: right;\">         128</td><td style=\"text-align: right;\">      15</td><td style=\"text-align: right;\">0.780833</td><td style=\"text-align: right;\">    15</td><td style=\"text-align: right;\">         308.98 </td><td style=\"text-align: right;\">       0.597617</td></tr>\n",
       "<tr><td>train_fashion_mnist_4609f_00012</td><td>TERMINATED</td><td>141.68.100.65:3032835</td><td style=\"text-align: right;\">          16</td><td style=\"text-align: right;\">      20</td><td style=\"text-align: right;\">0.885167</td><td style=\"text-align: right;\">    20</td><td style=\"text-align: right;\">        1863.22 </td><td style=\"text-align: right;\">       0.318992</td></tr>\n",
       "<tr><td>train_fashion_mnist_4609f_00013</td><td>TERMINATED</td><td>141.68.100.65:3050531</td><td style=\"text-align: right;\">          32</td><td style=\"text-align: right;\">      20</td><td style=\"text-align: right;\">0.86925 </td><td style=\"text-align: right;\">    20</td><td style=\"text-align: right;\">        1087.33 </td><td style=\"text-align: right;\">       0.374853</td></tr>\n",
       "<tr><td>train_fashion_mnist_4609f_00014</td><td>TERMINATED</td><td>141.68.100.65:3072864</td><td style=\"text-align: right;\">          64</td><td style=\"text-align: right;\">      20</td><td style=\"text-align: right;\">0.83325 </td><td style=\"text-align: right;\">    20</td><td style=\"text-align: right;\">         541.618</td><td style=\"text-align: right;\">       0.472281</td></tr>\n",
       "<tr><td>train_fashion_mnist_4609f_00015</td><td>TERMINATED</td><td>141.68.100.65:3227487</td><td style=\"text-align: right;\">         128</td><td style=\"text-align: right;\">      20</td><td style=\"text-align: right;\">0.80475 </td><td style=\"text-align: right;\">    20</td><td style=\"text-align: right;\">         401.095</td><td style=\"text-align: right;\">       0.548461</td></tr>\n",
       "</tbody>\n",
       "</table>\n",
       "  </div>\n",
       "</div>\n",
       "<style>\n",
       ".tuneStatus {\n",
       "  color: var(--jp-ui-font-color1);\n",
       "}\n",
       ".tuneStatus .systemInfo {\n",
       "  display: flex;\n",
       "  flex-direction: column;\n",
       "}\n",
       ".tuneStatus td {\n",
       "  white-space: nowrap;\n",
       "}\n",
       ".tuneStatus .trialStatus {\n",
       "  display: flex;\n",
       "  flex-direction: column;\n",
       "}\n",
       ".tuneStatus h3 {\n",
       "  font-weight: bold;\n",
       "}\n",
       ".tuneStatus .hDivider {\n",
       "  border-bottom-width: var(--jp-border-width);\n",
       "  border-bottom-color: var(--jp-border-color0);\n",
       "  border-bottom-style: solid;\n",
       "}\n",
       ".tuneStatus .vDivider {\n",
       "  border-left-width: var(--jp-border-width);\n",
       "  border-left-color: var(--jp-border-color0);\n",
       "  border-left-style: solid;\n",
       "  margin: 0.5em 1em 0.5em 1em;\n",
       "}\n",
       "</style>\n"
      ],
      "text/plain": [
       "<IPython.core.display.HTML object>"
      ]
     },
     "metadata": {},
     "output_type": "display_data"
    },
    {
     "name": "stderr",
     "output_type": "stream",
     "text": [
      "\u001b[2m\u001b[33m(raylet)\u001b[0m [2023-08-22 12:06:07,205 E 1659495 1659513] (raylet) file_system_monitor.cc:111: /tmp/ray/session_2023-08-22_09-44-45_245297_1659393 is over 95% full, available space: 13180059648; capacity: 490444898304. Object creation will fail if spilling is required.\n",
      "\u001b[2m\u001b[33m(raylet)\u001b[0m [2023-08-22 12:06:18,702 E 1659495 1659513] (raylet) file_system_monitor.cc:111: /tmp/ray/session_2023-08-22_09-44-45_245297_1659393 is over 95% full, available space: 13179940864; capacity: 490444898304. Object creation will fail if spilling is required.\n",
      "2023-08-22 12:06:25,503\tWARNING util.py:315 -- The `on_step_begin` operation took 8.614 s, which may be a performance bottleneck.\n",
      "\u001b[2m\u001b[33m(raylet)\u001b[0m Failed to connect to GCS. Please check `gcs_server.out` for more details.\n",
      "\u001b[2m\u001b[33m(raylet)\u001b[0m [2023-08-22 12:06:28,791 E 1659495 1659513] (raylet) file_system_monitor.cc:111: /tmp/ray/session_2023-08-22_09-44-45_245297_1659393 is over 95% full, available space: 13179932672; capacity: 490444898304. Object creation will fail if spilling is required.\n",
      "\u001b[2m\u001b[33m(raylet)\u001b[0m Failed to publish error: Traceback (most recent call last):\n",
      "\u001b[2m\u001b[33m(raylet)\u001b[0m   File \"/opt/conda/lib/python3.10/site-packages/ray/_private/worker.py\", line 2144, in connect\n",
      "\u001b[2m\u001b[33m(raylet)\u001b[0m     node.check_version_info()\n",
      "\u001b[2m\u001b[33m(raylet)\u001b[0m   File \"/opt/conda/lib/python3.10/site-packages/ray/_private/node.py\", line 339, in check_version_info\n",
      "\u001b[2m\u001b[33m(raylet)\u001b[0m     cluster_metadata = ray_usage_lib.get_cluster_metadata(self.get_gcs_client())\n",
      "\u001b[2m\u001b[33m(raylet)\u001b[0m   File \"/opt/conda/lib/python3.10/site-packages/ray/_private/usage/usage_lib.py\", line 710, in get_cluster_metadata\n",
      "\u001b[2m\u001b[33m(raylet)\u001b[0m     gcs_client.internal_kv_get(\n",
      "\u001b[2m\u001b[33m(raylet)\u001b[0m   File \"python/ray/_raylet.pyx\", line 2132, in ray._raylet._auto_reconnect.wrapper\n",
      "\u001b[2m\u001b[33m(raylet)\u001b[0m   File \"python/ray/_raylet.pyx\", line 2120, in ray._raylet._auto_reconnect.wrapper\n",
      "\u001b[2m\u001b[33m(raylet)\u001b[0m   File \"python/ray/_raylet.pyx\", line 2185, in ray._raylet.GcsClient.internal_kv_get\n",
      "\u001b[2m\u001b[33m(raylet)\u001b[0m   File \"python/ray/_raylet.pyx\", line 410, in ray._raylet.check_status\n",
      "\u001b[2m\u001b[33m(raylet)\u001b[0m ray.exceptions.RpcError: failed to connect to all addresses\n",
      "\u001b[2m\u001b[33m(raylet)\u001b[0m  [type version_mismatch]\n",
      "\u001b[2m\u001b[33m(raylet)\u001b[0m Traceback (most recent call last):\n",
      "\u001b[2m\u001b[33m(raylet)\u001b[0m   File \"/opt/conda/lib/python3.10/site-packages/ray/_private/worker.py\", line 2144, in connect\n",
      "\u001b[2m\u001b[33m(raylet)\u001b[0m     node.check_version_info()\n",
      "\u001b[2m\u001b[33m(raylet)\u001b[0m   File \"/opt/conda/lib/python3.10/site-packages/ray/_private/node.py\", line 339, in check_version_info\n",
      "\u001b[2m\u001b[33m(raylet)\u001b[0m     cluster_metadata = ray_usage_lib.get_cluster_metadata(self.get_gcs_client())\n",
      "\u001b[2m\u001b[33m(raylet)\u001b[0m   File \"/opt/conda/lib/python3.10/site-packages/ray/_private/usage/usage_lib.py\", line 710, in get_cluster_metadata\n",
      "\u001b[2m\u001b[33m(raylet)\u001b[0m     gcs_client.internal_kv_get(\n",
      "\u001b[2m\u001b[33m(raylet)\u001b[0m   File \"python/ray/_raylet.pyx\", line 2132, in ray._raylet._auto_reconnect.wrapper\n",
      "\u001b[2m\u001b[33m(raylet)\u001b[0m   File \"python/ray/_raylet.pyx\", line 2120, in ray._raylet._auto_reconnect.wrapper\n",
      "\u001b[2m\u001b[33m(raylet)\u001b[0m   File \"python/ray/_raylet.pyx\", line 2185, in ray._raylet.GcsClient.internal_kv_get\n",
      "\u001b[2m\u001b[33m(raylet)\u001b[0m   File \"python/ray/_raylet.pyx\", line 410, in ray._raylet.check_status\n",
      "\u001b[2m\u001b[33m(raylet)\u001b[0m ray.exceptions.RpcError: failed to connect to all addresses\n",
      "\u001b[2m\u001b[33m(raylet)\u001b[0m \n",
      "\u001b[2m\u001b[33m(raylet)\u001b[0m During handling of the above exception, another exception occurred:\n",
      "\u001b[2m\u001b[33m(raylet)\u001b[0m \n",
      "\u001b[2m\u001b[33m(raylet)\u001b[0m Traceback (most recent call last):\n",
      "\u001b[2m\u001b[33m(raylet)\u001b[0m   File \"/opt/conda/lib/python3.10/site-packages/ray/_private/utils.py\", line 203, in publish_error_to_driver\n",
      "\u001b[2m\u001b[33m(raylet)\u001b[0m     gcs_publisher.publish_error(\n",
      "\u001b[2m\u001b[33m(raylet)\u001b[0m   File \"python/ray/_raylet.pyx\", line 2371, in ray._raylet.GcsPublisher.publish_error\n",
      "\u001b[2m\u001b[33m(raylet)\u001b[0m   File \"python/ray/_raylet.pyx\", line 402, in ray._raylet.check_status\n",
      "\u001b[2m\u001b[33m(raylet)\u001b[0m ray.exceptions.GetTimeoutError: Failed to publish after retries: failed to connect to all addresses\n",
      "2023-08-22 12:06:38,171\tWARNING util.py:315 -- The `on_step_begin` operation took 2.584 s, which may be a performance bottleneck.\n",
      "\u001b[2m\u001b[33m(raylet)\u001b[0m [2023-08-22 12:06:38,939 E 1659495 1659513] (raylet) file_system_monitor.cc:111: /tmp/ray/session_2023-08-22_09-44-45_245297_1659393 is over 95% full, available space: 13179891712; capacity: 490444898304. Object creation will fail if spilling is required.\n",
      "\u001b[2m\u001b[33m(raylet)\u001b[0m [2023-08-22 12:06:49,258 E 1659495 1659513] (raylet) file_system_monitor.cc:111: /tmp/ray/session_2023-08-22_09-44-45_245297_1659393 is over 95% full, available space: 13179817984; capacity: 490444898304. Object creation will fail if spilling is required.\n",
      "2023-08-22 12:06:50,936\tWARNING util.py:315 -- The `on_step_begin` operation took 2.670 s, which may be a performance bottleneck.\n",
      "\u001b[2m\u001b[33m(raylet)\u001b[0m [2023-08-22 12:06:59,262 E 1659495 1659513] (raylet) file_system_monitor.cc:111: /tmp/ray/session_2023-08-22_09-44-45_245297_1659393 is over 95% full, available space: 13179744256; capacity: 490444898304. Object creation will fail if spilling is required.\n"
     ]
    },
    {
     "data": {
      "text/html": [
       "<div class=\"trialProgress\">\n",
       "  <h3>Trial Progress</h3>\n",
       "  <table>\n",
       "<thead>\n",
       "<tr><th>Trial name                     </th><th style=\"text-align: right;\">  mean_accuracy</th><th style=\"text-align: right;\">  mean_val_loss</th></tr>\n",
       "</thead>\n",
       "<tbody>\n",
       "<tr><td>train_fashion_mnist_4609f_00000</td><td style=\"text-align: right;\">       0.83475 </td><td style=\"text-align: right;\">       0.460747</td></tr>\n",
       "<tr><td>train_fashion_mnist_4609f_00001</td><td style=\"text-align: right;\">       0.801083</td><td style=\"text-align: right;\">       0.560654</td></tr>\n",
       "<tr><td>train_fashion_mnist_4609f_00002</td><td style=\"text-align: right;\">       0.761333</td><td style=\"text-align: right;\">       0.668506</td></tr>\n",
       "<tr><td>train_fashion_mnist_4609f_00003</td><td style=\"text-align: right;\">       0.673667</td><td style=\"text-align: right;\">       1.12252 </td></tr>\n",
       "<tr><td>train_fashion_mnist_4609f_00004</td><td style=\"text-align: right;\">       0.861167</td><td style=\"text-align: right;\">       0.392781</td></tr>\n",
       "<tr><td>train_fashion_mnist_4609f_00005</td><td style=\"text-align: right;\">       0.831917</td><td style=\"text-align: right;\">       0.462848</td></tr>\n",
       "<tr><td>train_fashion_mnist_4609f_00006</td><td style=\"text-align: right;\">       0.783417</td><td style=\"text-align: right;\">       0.584845</td></tr>\n",
       "<tr><td>train_fashion_mnist_4609f_00007</td><td style=\"text-align: right;\">       0.76625 </td><td style=\"text-align: right;\">       0.661754</td></tr>\n",
       "<tr><td>train_fashion_mnist_4609f_00008</td><td style=\"text-align: right;\">       0.870667</td><td style=\"text-align: right;\">       0.358491</td></tr>\n",
       "<tr><td>train_fashion_mnist_4609f_00009</td><td style=\"text-align: right;\">       0.852667</td><td style=\"text-align: right;\">       0.40603 </td></tr>\n",
       "<tr><td>train_fashion_mnist_4609f_00010</td><td style=\"text-align: right;\">       0.824167</td><td style=\"text-align: right;\">       0.49319 </td></tr>\n",
       "<tr><td>train_fashion_mnist_4609f_00011</td><td style=\"text-align: right;\">       0.780833</td><td style=\"text-align: right;\">       0.597617</td></tr>\n",
       "<tr><td>train_fashion_mnist_4609f_00012</td><td style=\"text-align: right;\">       0.885167</td><td style=\"text-align: right;\">       0.318992</td></tr>\n",
       "<tr><td>train_fashion_mnist_4609f_00013</td><td style=\"text-align: right;\">       0.86925 </td><td style=\"text-align: right;\">       0.374853</td></tr>\n",
       "<tr><td>train_fashion_mnist_4609f_00014</td><td style=\"text-align: right;\">       0.83325 </td><td style=\"text-align: right;\">       0.472281</td></tr>\n",
       "<tr><td>train_fashion_mnist_4609f_00015</td><td style=\"text-align: right;\">       0.80475 </td><td style=\"text-align: right;\">       0.548461</td></tr>\n",
       "</tbody>\n",
       "</table>\n",
       "</div>\n",
       "<style>\n",
       ".trialProgress {\n",
       "  display: flex;\n",
       "  flex-direction: column;\n",
       "  color: var(--jp-ui-font-color1);\n",
       "}\n",
       ".trialProgress h3 {\n",
       "  font-weight: bold;\n",
       "}\n",
       ".trialProgress td {\n",
       "  white-space: nowrap;\n",
       "}\n",
       "</style>\n"
      ],
      "text/plain": [
       "<IPython.core.display.HTML object>"
      ]
     },
     "metadata": {},
     "output_type": "display_data"
    },
    {
     "name": "stderr",
     "output_type": "stream",
     "text": [
      "\u001b[2m\u001b[33m(raylet)\u001b[0m [2023-08-22 12:07:09,303 E 1659495 1659513] (raylet) file_system_monitor.cc:111: /tmp/ray/session_2023-08-22_09-44-45_245297_1659393 is over 95% full, available space: 13179666432; capacity: 490444898304. Object creation will fail if spilling is required.\n",
      "\u001b[2m\u001b[33m(raylet)\u001b[0m [2023-08-22 12:07:19,355 E 1659495 1659513] (raylet) file_system_monitor.cc:111: /tmp/ray/session_2023-08-22_09-44-45_245297_1659393 is over 95% full, available space: 13179645952; capacity: 490444898304. Object creation will fail if spilling is required.\n",
      "\u001b[2m\u001b[33m(raylet)\u001b[0m [2023-08-22 12:07:29,452 E 1659495 1659513] (raylet) file_system_monitor.cc:111: /tmp/ray/session_2023-08-22_09-44-45_245297_1659393 is over 95% full, available space: 13179600896; capacity: 490444898304. Object creation will fail if spilling is required.\n",
      "\u001b[2m\u001b[33m(raylet)\u001b[0m [2023-08-22 12:07:39,454 E 1659495 1659513] (raylet) file_system_monitor.cc:111: /tmp/ray/session_2023-08-22_09-44-45_245297_1659393 is over 95% full, available space: 13179576320; capacity: 490444898304. Object creation will fail if spilling is required.\n",
      "\u001b[2m\u001b[33m(raylet)\u001b[0m [2023-08-22 12:07:49,502 E 1659495 1659513] (raylet) file_system_monitor.cc:111: /tmp/ray/session_2023-08-22_09-44-45_245297_1659393 is over 95% full, available space: 13179564032; capacity: 490444898304. Object creation will fail if spilling is required.\n",
      "\u001b[2m\u001b[33m(raylet)\u001b[0m [2023-08-22 12:07:59,545 E 1659495 1659513] (raylet) file_system_monitor.cc:111: /tmp/ray/session_2023-08-22_09-44-45_245297_1659393 is over 95% full, available space: 13179547648; capacity: 490444898304. Object creation will fail if spilling is required.\n",
      "\u001b[2m\u001b[33m(raylet)\u001b[0m [2023-08-22 12:08:09,575 E 1659495 1659513] (raylet) file_system_monitor.cc:111: /tmp/ray/session_2023-08-22_09-44-45_245297_1659393 is over 95% full, available space: 13179482112; capacity: 490444898304. Object creation will fail if spilling is required.\n"
     ]
    },
    {
     "name": "stdout",
     "output_type": "stream",
     "text": [
      "\u001b[2m\u001b[36m(func pid=2671671)\u001b[0m [1,  2000] loss: 1.750\n"
     ]
    },
    {
     "name": "stderr",
     "output_type": "stream",
     "text": [
      "\u001b[2m\u001b[33m(raylet)\u001b[0m [2023-08-22 12:08:19,642 E 1659495 1659513] (raylet) file_system_monitor.cc:111: /tmp/ray/session_2023-08-22_09-44-45_245297_1659393 is over 95% full, available space: 13179461632; capacity: 490444898304. Object creation will fail if spilling is required.\n",
      "\u001b[2m\u001b[33m(raylet)\u001b[0m [2023-08-22 12:08:29,732 E 1659495 1659513] (raylet) file_system_monitor.cc:111: /tmp/ray/session_2023-08-22_09-44-45_245297_1659393 is over 95% full, available space: 13179432960; capacity: 490444898304. Object creation will fail if spilling is required.\n",
      "\u001b[2m\u001b[33m(raylet)\u001b[0m [2023-08-22 12:08:39,792 E 1659495 1659513] (raylet) file_system_monitor.cc:111: /tmp/ray/session_2023-08-22_09-44-45_245297_1659393 is over 95% full, available space: 13179437056; capacity: 490444898304. Object creation will fail if spilling is required.\n"
     ]
    },
    {
     "name": "stdout",
     "output_type": "stream",
     "text": [
      "Trial 4609f_00003: Chosen l1 = 64\n"
     ]
    },
    {
     "name": "stderr",
     "output_type": "stream",
     "text": [
      "\u001b[2m\u001b[33m(raylet)\u001b[0m [2023-08-22 12:08:49,798 E 1659495 1659513] (raylet) file_system_monitor.cc:111: /tmp/ray/session_2023-08-22_09-44-45_245297_1659393 is over 95% full, available space: 13179412480; capacity: 490444898304. Object creation will fail if spilling is required.\n",
      "2023-08-22 12:08:55,206\tWARNING util.py:315 -- The `on_step_begin` operation took 2.376 s, which may be a performance bottleneck.\n",
      "\u001b[2m\u001b[33m(raylet)\u001b[0m [2023-08-22 12:08:59,870 E 1659495 1659513] (raylet) file_system_monitor.cc:111: /tmp/ray/session_2023-08-22_09-44-45_245297_1659393 is over 95% full, available space: 13179387904; capacity: 490444898304. Object creation will fail if spilling is required.\n",
      "2023-08-22 12:09:06,068\tWARNING util.py:315 -- The `on_step_begin` operation took 0.815 s, which may be a performance bottleneck.\n",
      "\u001b[2m\u001b[33m(raylet)\u001b[0m [2023-08-22 12:09:09,978 E 1659495 1659513] (raylet) file_system_monitor.cc:111: /tmp/ray/session_2023-08-22_09-44-45_245297_1659393 is over 95% full, available space: 13179285504; capacity: 490444898304. Object creation will fail if spilling is required.\n",
      "\u001b[2m\u001b[33m(raylet)\u001b[0m [2023-08-22 12:09:20,043 E 1659495 1659513] (raylet) file_system_monitor.cc:111: /tmp/ray/session_2023-08-22_09-44-45_245297_1659393 is over 95% full, available space: 13179224064; capacity: 490444898304. Object creation will fail if spilling is required.\n",
      "\u001b[2m\u001b[33m(raylet)\u001b[0m [2023-08-22 12:09:30,064 E 1659495 1659513] (raylet) file_system_monitor.cc:111: /tmp/ray/session_2023-08-22_09-44-45_245297_1659393 is over 95% full, available space: 13179211776; capacity: 490444898304. Object creation will fail if spilling is required.\n",
      "\u001b[2m\u001b[33m(raylet)\u001b[0m [2023-08-22 12:09:40,065 E 1659495 1659513] (raylet) file_system_monitor.cc:111: /tmp/ray/session_2023-08-22_09-44-45_245297_1659393 is over 95% full, available space: 13179199488; capacity: 490444898304. Object creation will fail if spilling is required.\n",
      "2023-08-22 12:09:47,349\tWARNING util.py:315 -- The `on_step_begin` operation took 0.658 s, which may be a performance bottleneck.\n",
      "\u001b[2m\u001b[33m(raylet)\u001b[0m [2023-08-22 12:09:50,105 E 1659495 1659513] (raylet) file_system_monitor.cc:111: /tmp/ray/session_2023-08-22_09-44-45_245297_1659393 is over 95% full, available space: 13179187200; capacity: 490444898304. Object creation will fail if spilling is required.\n"
     ]
    },
    {
     "name": "stdout",
     "output_type": "stream",
     "text": [
      "Trial 4609f_00002: Chosen l1 = 64\n"
     ]
    },
    {
     "name": "stderr",
     "output_type": "stream",
     "text": [
      "\u001b[2m\u001b[33m(raylet)\u001b[0m [2023-08-22 12:10:00,151 E 1659495 1659513] (raylet) file_system_monitor.cc:111: /tmp/ray/session_2023-08-22_09-44-45_245297_1659393 is over 95% full, available space: 13179166720; capacity: 490444898304. Object creation will fail if spilling is required.\n",
      "2023-08-22 12:10:05,286\tWARNING util.py:315 -- The `on_step_begin` operation took 7.850 s, which may be a performance bottleneck.\n"
     ]
    },
    {
     "name": "stdout",
     "output_type": "stream",
     "text": [
      "\u001b[2m\u001b[36m(func pid=2695776)\u001b[0m [1,  2000] loss: 1.847\n"
     ]
    },
    {
     "name": "stderr",
     "output_type": "stream",
     "text": [
      "\u001b[2m\u001b[33m(raylet)\u001b[0m [2023-08-22 12:10:11,529 E 1659495 1659513] (raylet) file_system_monitor.cc:111: /tmp/ray/session_2023-08-22_09-44-45_245297_1659393 is over 95% full, available space: 13179105280; capacity: 490444898304. Object creation will fail if spilling is required.\n"
     ]
    },
    {
     "name": "stdout",
     "output_type": "stream",
     "text": [
      "\u001b[2m\u001b[36m(func pid=2671671)\u001b[0m [2,  2000] loss: 0.668\n"
     ]
    },
    {
     "name": "stderr",
     "output_type": "stream",
     "text": [
      "\u001b[2m\u001b[33m(raylet)\u001b[0m [2023-08-22 12:10:21,579 E 1659495 1659513] (raylet) file_system_monitor.cc:111: /tmp/ray/session_2023-08-22_09-44-45_245297_1659393 is over 95% full, available space: 13179072512; capacity: 490444898304. Object creation will fail if spilling is required.\n",
      "\u001b[2m\u001b[33m(raylet)\u001b[0m [2023-08-22 12:10:31,640 E 1659495 1659513] (raylet) file_system_monitor.cc:111: /tmp/ray/session_2023-08-22_09-44-45_245297_1659393 is over 95% full, available space: 13179060224; capacity: 490444898304. Object creation will fail if spilling is required.\n",
      "\u001b[2m\u001b[33m(raylet)\u001b[0m [2023-08-22 12:10:41,687 E 1659495 1659513] (raylet) file_system_monitor.cc:111: /tmp/ray/session_2023-08-22_09-44-45_245297_1659393 is over 95% full, available space: 13179047936; capacity: 490444898304. Object creation will fail if spilling is required.\n",
      "2023-08-22 12:10:47,237\tWARNING util.py:315 -- The `on_step_begin` operation took 1.018 s, which may be a performance bottleneck.\n",
      "\u001b[2m\u001b[33m(raylet)\u001b[0m [2023-08-22 12:10:51,751 E 1659495 1659513] (raylet) file_system_monitor.cc:111: /tmp/ray/session_2023-08-22_09-44-45_245297_1659393 is over 95% full, available space: 13179039744; capacity: 490444898304. Object creation will fail if spilling is required.\n",
      "\u001b[2m\u001b[33m(raylet)\u001b[0m [2023-08-22 12:11:01,786 E 1659495 1659513] (raylet) file_system_monitor.cc:111: /tmp/ray/session_2023-08-22_09-44-45_245297_1659393 is over 95% full, available space: 13178945536; capacity: 490444898304. Object creation will fail if spilling is required.\n",
      "\u001b[2m\u001b[33m(raylet)\u001b[0m [2023-08-22 12:11:11,819 E 1659495 1659513] (raylet) file_system_monitor.cc:111: /tmp/ray/session_2023-08-22_09-44-45_245297_1659393 is over 95% full, available space: 13178875904; capacity: 490444898304. Object creation will fail if spilling is required.\n",
      "\u001b[2m\u001b[33m(raylet)\u001b[0m [2023-08-22 12:11:21,822 E 1659495 1659513] (raylet) file_system_monitor.cc:111: /tmp/ray/session_2023-08-22_09-44-45_245297_1659393 is over 95% full, available space: 13178814464; capacity: 490444898304. Object creation will fail if spilling is required.\n",
      "2023-08-22 12:11:28,671\tWARNING util.py:315 -- The `on_step_begin` operation took 0.565 s, which may be a performance bottleneck.\n",
      "\u001b[2m\u001b[33m(raylet)\u001b[0m [2023-08-22 12:11:31,841 E 1659495 1659513] (raylet) file_system_monitor.cc:111: /tmp/ray/session_2023-08-22_09-44-45_245297_1659393 is over 95% full, available space: 13178798080; capacity: 490444898304. Object creation will fail if spilling is required.\n"
     ]
    },
    {
     "name": "stdout",
     "output_type": "stream",
     "text": [
      "\u001b[2m\u001b[36m(func pid=2695776)\u001b[0m [2,  2000] loss: 0.665\n"
     ]
    },
    {
     "name": "stderr",
     "output_type": "stream",
     "text": [
      "\u001b[2m\u001b[33m(raylet)\u001b[0m [2023-08-22 12:11:41,935 E 1659495 1659513] (raylet) file_system_monitor.cc:111: /tmp/ray/session_2023-08-22_09-44-45_245297_1659393 is over 95% full, available space: 13178785792; capacity: 490444898304. Object creation will fail if spilling is required.\n"
     ]
    },
    {
     "name": "stdout",
     "output_type": "stream",
     "text": [
      "\u001b[2m\u001b[36m(func pid=2671671)\u001b[0m [3,  2000] loss: 0.583\n"
     ]
    },
    {
     "name": "stderr",
     "output_type": "stream",
     "text": [
      "\u001b[2m\u001b[33m(raylet)\u001b[0m [2023-08-22 12:11:51,992 E 1659495 1659513] (raylet) file_system_monitor.cc:111: /tmp/ray/session_2023-08-22_09-44-45_245297_1659393 is over 95% full, available space: 13178773504; capacity: 490444898304. Object creation will fail if spilling is required.\n"
     ]
    },
    {
     "name": "stdout",
     "output_type": "stream",
     "text": [
      "Trial 4609f_00001: Chosen l1 = 64\n"
     ]
    },
    {
     "name": "stderr",
     "output_type": "stream",
     "text": [
      "\u001b[2m\u001b[33m(raylet)\u001b[0m [2023-08-22 12:12:02,514 E 1659495 1659513] (raylet) file_system_monitor.cc:111: /tmp/ray/session_2023-08-22_09-44-45_245297_1659393 is over 95% full, available space: 13178761216; capacity: 490444898304. Object creation will fail if spilling is required.\n",
      "\u001b[2m\u001b[33m(raylet)\u001b[0m [2023-08-22 12:12:12,841 E 1659495 1659513] (raylet) file_system_monitor.cc:111: /tmp/ray/session_2023-08-22_09-44-45_245297_1659393 is over 95% full, available space: 13178703872; capacity: 490444898304. Object creation will fail if spilling is required.\n",
      "\u001b[2m\u001b[33m(raylet)\u001b[0m [2023-08-22 12:12:22,856 E 1659495 1659513] (raylet) file_system_monitor.cc:111: /tmp/ray/session_2023-08-22_09-44-45_245297_1659393 is over 95% full, available space: 13178650624; capacity: 490444898304. Object creation will fail if spilling is required.\n",
      "2023-08-22 12:12:30,321\tWARNING util.py:315 -- The `on_step_begin` operation took 0.750 s, which may be a performance bottleneck.\n",
      "\u001b[2m\u001b[33m(raylet)\u001b[0m [2023-08-22 12:12:32,913 E 1659495 1659513] (raylet) file_system_monitor.cc:111: /tmp/ray/session_2023-08-22_09-44-45_245297_1659393 is over 95% full, available space: 13178650624; capacity: 490444898304. Object creation will fail if spilling is required.\n",
      "\u001b[2m\u001b[33m(raylet)\u001b[0m [2023-08-22 12:12:42,915 E 1659495 1659513] (raylet) file_system_monitor.cc:111: /tmp/ray/session_2023-08-22_09-44-45_245297_1659393 is over 95% full, available space: 13178642432; capacity: 490444898304. Object creation will fail if spilling is required.\n",
      "\u001b[2m\u001b[33m(raylet)\u001b[0m [2023-08-22 12:12:52,994 E 1659495 1659513] (raylet) file_system_monitor.cc:111: /tmp/ray/session_2023-08-22_09-44-45_245297_1659393 is over 95% full, available space: 13178605568; capacity: 490444898304. Object creation will fail if spilling is required.\n",
      "\u001b[2m\u001b[33m(raylet)\u001b[0m [2023-08-22 12:13:03,009 E 1659495 1659513] (raylet) file_system_monitor.cc:111: /tmp/ray/session_2023-08-22_09-44-45_245297_1659393 is over 95% full, available space: 13178548224; capacity: 490444898304. Object creation will fail if spilling is required.\n",
      "\u001b[2m\u001b[33m(raylet)\u001b[0m [2023-08-22 12:13:13,091 E 1659495 1659513] (raylet) file_system_monitor.cc:111: /tmp/ray/session_2023-08-22_09-44-45_245297_1659393 is over 95% full, available space: 13178486784; capacity: 490444898304. Object creation will fail if spilling is required.\n"
     ]
    },
    {
     "name": "stdout",
     "output_type": "stream",
     "text": [
      "\u001b[2m\u001b[36m(func pid=2695776)\u001b[0m [3,  2000] loss: 0.565\n"
     ]
    },
    {
     "name": "stderr",
     "output_type": "stream",
     "text": [
      "\u001b[2m\u001b[33m(raylet)\u001b[0m [2023-08-22 12:13:23,149 E 1659495 1659513] (raylet) file_system_monitor.cc:111: /tmp/ray/session_2023-08-22_09-44-45_245297_1659393 is over 95% full, available space: 13178470400; capacity: 490444898304. Object creation will fail if spilling is required.\n",
      "\u001b[2m\u001b[33m(raylet)\u001b[0m [2023-08-22 12:13:33,197 E 1659495 1659513] (raylet) file_system_monitor.cc:111: /tmp/ray/session_2023-08-22_09-44-45_245297_1659393 is over 95% full, available space: 13178470400; capacity: 490444898304. Object creation will fail if spilling is required.\n",
      "\u001b[2m\u001b[33m(raylet)\u001b[0m [2023-08-22 12:13:43,254 E 1659495 1659513] (raylet) file_system_monitor.cc:111: /tmp/ray/session_2023-08-22_09-44-45_245297_1659393 is over 95% full, available space: 13178445824; capacity: 490444898304. Object creation will fail if spilling is required.\n"
     ]
    },
    {
     "name": "stdout",
     "output_type": "stream",
     "text": [
      "\u001b[2m\u001b[36m(func pid=2671671)\u001b[0m [4,  2000] loss: 0.534\n"
     ]
    },
    {
     "name": "stderr",
     "output_type": "stream",
     "text": [
      "\u001b[2m\u001b[33m(raylet)\u001b[0m [2023-08-22 12:13:53,285 E 1659495 1659513] (raylet) file_system_monitor.cc:111: /tmp/ray/session_2023-08-22_09-44-45_245297_1659393 is over 95% full, available space: 13178441728; capacity: 490444898304. Object creation will fail if spilling is required.\n",
      "2023-08-22 12:13:53,554\tWARNING util.py:315 -- The `on_step_begin` operation took 0.814 s, which may be a performance bottleneck.\n",
      "\u001b[2m\u001b[33m(raylet)\u001b[0m [2023-08-22 12:14:03,379 E 1659495 1659513] (raylet) file_system_monitor.cc:111: /tmp/ray/session_2023-08-22_09-44-45_245297_1659393 is over 95% full, available space: 13178376192; capacity: 490444898304. Object creation will fail if spilling is required.\n",
      "2023-08-22 12:14:04,497\tWARNING util.py:315 -- The `on_step_begin` operation took 0.824 s, which may be a performance bottleneck.\n",
      "\u001b[2m\u001b[33m(raylet)\u001b[0m [2023-08-22 12:14:13,459 E 1659495 1659513] (raylet) file_system_monitor.cc:111: /tmp/ray/session_2023-08-22_09-44-45_245297_1659393 is over 95% full, available space: 13178347520; capacity: 490444898304. Object creation will fail if spilling is required.\n",
      "\u001b[2m\u001b[33m(raylet)\u001b[0m [2023-08-22 12:14:23,502 E 1659495 1659513] (raylet) file_system_monitor.cc:111: /tmp/ray/session_2023-08-22_09-44-45_245297_1659393 is over 95% full, available space: 13178335232; capacity: 490444898304. Object creation will fail if spilling is required.\n",
      "\u001b[2m\u001b[33m(raylet)\u001b[0m [2023-08-22 12:14:33,565 E 1659495 1659513] (raylet) file_system_monitor.cc:111: /tmp/ray/session_2023-08-22_09-44-45_245297_1659393 is over 95% full, available space: 13178314752; capacity: 490444898304. Object creation will fail if spilling is required.\n",
      "2023-08-22 12:14:35,436\tWARNING util.py:315 -- The `on_step_begin` operation took 0.677 s, which may be a performance bottleneck.\n",
      "\u001b[2m\u001b[33m(raylet)\u001b[0m [2023-08-22 12:14:43,570 E 1659495 1659513] (raylet) file_system_monitor.cc:111: /tmp/ray/session_2023-08-22_09-44-45_245297_1659393 is over 95% full, available space: 13178298368; capacity: 490444898304. Object creation will fail if spilling is required.\n",
      "2023-08-22 12:14:46,062\tWARNING util.py:315 -- The `on_step_begin` operation took 0.541 s, which may be a performance bottleneck.\n",
      "\u001b[2m\u001b[33m(raylet)\u001b[0m [2023-08-22 12:14:53,670 E 1659495 1659513] (raylet) file_system_monitor.cc:111: /tmp/ray/session_2023-08-22_09-44-45_245297_1659393 is over 95% full, available space: 13178281984; capacity: 490444898304. Object creation will fail if spilling is required.\n",
      "\u001b[2m\u001b[33m(raylet)\u001b[0m [2023-08-22 12:15:03,679 E 1659495 1659513] (raylet) file_system_monitor.cc:111: /tmp/ray/session_2023-08-22_09-44-45_245297_1659393 is over 95% full, available space: 13178204160; capacity: 490444898304. Object creation will fail if spilling is required.\n",
      "2023-08-22 12:15:07,222\tWARNING util.py:315 -- The `on_step_begin` operation took 0.798 s, which may be a performance bottleneck.\n",
      "\u001b[2m\u001b[33m(raylet)\u001b[0m [2023-08-22 12:15:13,717 E 1659495 1659513] (raylet) file_system_monitor.cc:111: /tmp/ray/session_2023-08-22_09-44-45_245297_1659393 is over 95% full, available space: 13178175488; capacity: 490444898304. Object creation will fail if spilling is required.\n"
     ]
    },
    {
     "name": "stdout",
     "output_type": "stream",
     "text": [
      "\u001b[2m\u001b[36m(func pid=2695776)\u001b[0m [4,  2000] loss: 0.516\n"
     ]
    },
    {
     "name": "stderr",
     "output_type": "stream",
     "text": [
      "\u001b[2m\u001b[33m(raylet)\u001b[0m [2023-08-22 12:15:23,740 E 1659495 1659513] (raylet) file_system_monitor.cc:111: /tmp/ray/session_2023-08-22_09-44-45_245297_1659393 is over 95% full, available space: 13178171392; capacity: 490444898304. Object creation will fail if spilling is required.\n",
      "2023-08-22 12:15:28,373\tWARNING util.py:315 -- The `on_step_begin` operation took 0.664 s, which may be a performance bottleneck.\n",
      "\u001b[2m\u001b[33m(raylet)\u001b[0m [2023-08-22 12:15:33,780 E 1659495 1659513] (raylet) file_system_monitor.cc:111: /tmp/ray/session_2023-08-22_09-44-45_245297_1659393 is over 95% full, available space: 13178146816; capacity: 490444898304. Object creation will fail if spilling is required.\n",
      "\u001b[2m\u001b[33m(raylet)\u001b[0m [2023-08-22 12:15:43,837 E 1659495 1659513] (raylet) file_system_monitor.cc:111: /tmp/ray/session_2023-08-22_09-44-45_245297_1659393 is over 95% full, available space: 13178126336; capacity: 490444898304. Object creation will fail if spilling is required.\n",
      "2023-08-22 12:15:49,628\tWARNING util.py:315 -- The `on_step_begin` operation took 0.692 s, which may be a performance bottleneck.\n",
      "\u001b[2m\u001b[33m(raylet)\u001b[0m [2023-08-22 12:15:53,864 E 1659495 1659513] (raylet) file_system_monitor.cc:111: /tmp/ray/session_2023-08-22_09-44-45_245297_1659393 is over 95% full, available space: 13178118144; capacity: 490444898304. Object creation will fail if spilling is required.\n",
      "2023-08-22 12:16:00,309\tWARNING util.py:315 -- The `on_step_begin` operation took 0.635 s, which may be a performance bottleneck.\n",
      "\u001b[2m\u001b[33m(raylet)\u001b[0m [2023-08-22 12:16:03,913 E 1659495 1659513] (raylet) file_system_monitor.cc:111: /tmp/ray/session_2023-08-22_09-44-45_245297_1659393 is over 95% full, available space: 13178056704; capacity: 490444898304. Object creation will fail if spilling is required.\n"
     ]
    },
    {
     "name": "stdout",
     "output_type": "stream",
     "text": [
      "\u001b[2m\u001b[36m(func pid=2671671)\u001b[0m [5,  2000] loss: 0.502\n"
     ]
    },
    {
     "name": "stderr",
     "output_type": "stream",
     "text": [
      "\u001b[2m\u001b[33m(raylet)\u001b[0m [2023-08-22 12:16:13,918 E 1659495 1659513] (raylet) file_system_monitor.cc:111: /tmp/ray/session_2023-08-22_09-44-45_245297_1659393 is over 95% full, available space: 13178036224; capacity: 490444898304. Object creation will fail if spilling is required.\n",
      "\u001b[2m\u001b[33m(raylet)\u001b[0m [2023-08-22 12:16:23,957 E 1659495 1659513] (raylet) file_system_monitor.cc:111: /tmp/ray/session_2023-08-22_09-44-45_245297_1659393 is over 95% full, available space: 13178007552; capacity: 490444898304. Object creation will fail if spilling is required.\n",
      "2023-08-22 12:16:31,773\tWARNING util.py:315 -- The `on_step_begin` operation took 0.518 s, which may be a performance bottleneck.\n",
      "\u001b[2m\u001b[33m(raylet)\u001b[0m [2023-08-22 12:16:34,001 E 1659495 1659513] (raylet) file_system_monitor.cc:111: /tmp/ray/session_2023-08-22_09-44-45_245297_1659393 is over 95% full, available space: 13177987072; capacity: 490444898304. Object creation will fail if spilling is required.\n",
      "\u001b[2m\u001b[33m(raylet)\u001b[0m [2023-08-22 12:16:44,028 E 1659495 1659513] (raylet) file_system_monitor.cc:111: /tmp/ray/session_2023-08-22_09-44-45_245297_1659393 is over 95% full, available space: 13177978880; capacity: 490444898304. Object creation will fail if spilling is required.\n"
     ]
    },
    {
     "name": "stdout",
     "output_type": "stream",
     "text": [
      "Trial 4609f_00006: Chosen l1 = 64\n"
     ]
    },
    {
     "name": "stderr",
     "output_type": "stream",
     "text": [
      "\u001b[2m\u001b[33m(raylet)\u001b[0m [2023-08-22 12:16:54,126 E 1659495 1659513] (raylet) file_system_monitor.cc:111: /tmp/ray/session_2023-08-22_09-44-45_245297_1659393 is over 95% full, available space: 13177962496; capacity: 490444898304. Object creation will fail if spilling is required.\n",
      "2023-08-22 12:17:03,941\tWARNING util.py:315 -- The `on_step_begin` operation took 1.163 s, which may be a performance bottleneck.\n",
      "\u001b[2m\u001b[33m(raylet)\u001b[0m [2023-08-22 12:17:04,209 E 1659495 1659513] (raylet) file_system_monitor.cc:111: /tmp/ray/session_2023-08-22_09-44-45_245297_1659393 is over 95% full, available space: 13177913344; capacity: 490444898304. Object creation will fail if spilling is required.\n"
     ]
    },
    {
     "name": "stdout",
     "output_type": "stream",
     "text": [
      "Trial 4609f_00000: Chosen l1 = 64\n"
     ]
    },
    {
     "name": "stderr",
     "output_type": "stream",
     "text": [
      "\u001b[2m\u001b[33m(raylet)\u001b[0m [2023-08-22 12:17:14,346 E 1659495 1659513] (raylet) file_system_monitor.cc:111: /tmp/ray/session_2023-08-22_09-44-45_245297_1659393 is over 95% full, available space: 13177864192; capacity: 490444898304. Object creation will fail if spilling is required.\n",
      "2023-08-22 12:17:18,200\tWARNING util.py:315 -- The `on_step_begin` operation took 4.171 s, which may be a performance bottleneck.\n"
     ]
    },
    {
     "name": "stdout",
     "output_type": "stream",
     "text": [
      "\u001b[2m\u001b[36m(func pid=2695776)\u001b[0m [5,  2000] loss: 0.482\n"
     ]
    },
    {
     "name": "stderr",
     "output_type": "stream",
     "text": [
      "\u001b[2m\u001b[33m(raylet)\u001b[0m [2023-08-22 12:17:24,421 E 1659495 1659513] (raylet) file_system_monitor.cc:111: /tmp/ray/session_2023-08-22_09-44-45_245297_1659393 is over 95% full, available space: 13177831424; capacity: 490444898304. Object creation will fail if spilling is required.\n",
      "2023-08-22 12:17:29,966\tWARNING util.py:315 -- The `on_step_begin` operation took 1.682 s, which may be a performance bottleneck.\n",
      "\u001b[2m\u001b[33m(raylet)\u001b[0m [2023-08-22 12:17:34,458 E 1659495 1659513] (raylet) file_system_monitor.cc:111: /tmp/ray/session_2023-08-22_09-44-45_245297_1659393 is over 95% full, available space: 13177798656; capacity: 490444898304. Object creation will fail if spilling is required.\n",
      "\u001b[2m\u001b[33m(raylet)\u001b[0m [2023-08-22 12:17:44,546 E 1659495 1659513] (raylet) file_system_monitor.cc:111: /tmp/ray/session_2023-08-22_09-44-45_245297_1659393 is over 95% full, available space: 13177782272; capacity: 490444898304. Object creation will fail if spilling is required.\n",
      "\u001b[2m\u001b[33m(raylet)\u001b[0m [2023-08-22 12:17:54,610 E 1659495 1659513] (raylet) file_system_monitor.cc:111: /tmp/ray/session_2023-08-22_09-44-45_245297_1659393 is over 95% full, available space: 13177737216; capacity: 490444898304. Object creation will fail if spilling is required.\n",
      "\u001b[2m\u001b[33m(raylet)\u001b[0m [2023-08-22 12:18:04,644 E 1659495 1659513] (raylet) file_system_monitor.cc:111: /tmp/ray/session_2023-08-22_09-44-45_245297_1659393 is over 95% full, available space: 13177671680; capacity: 490444898304. Object creation will fail if spilling is required.\n",
      "\u001b[2m\u001b[33m(raylet)\u001b[0m [2023-08-22 12:18:14,685 E 1659495 1659513] (raylet) file_system_monitor.cc:111: /tmp/ray/session_2023-08-22_09-44-45_245297_1659393 is over 95% full, available space: 13177643008; capacity: 490444898304. Object creation will fail if spilling is required.\n"
     ]
    },
    {
     "name": "stdout",
     "output_type": "stream",
     "text": [
      "Trial 4609f_00005: Chosen l1 = 64\n"
     ]
    },
    {
     "name": "stderr",
     "output_type": "stream",
     "text": [
      "2023-08-22 12:18:22,427\tWARNING util.py:315 -- The `on_step_begin` operation took 1.712 s, which may be a performance bottleneck.\n",
      "\u001b[2m\u001b[33m(raylet)\u001b[0m [2023-08-22 12:18:26,071 E 1659495 1659513] (raylet) file_system_monitor.cc:111: /tmp/ray/session_2023-08-22_09-44-45_245297_1659393 is over 95% full, available space: 13177630720; capacity: 490444898304. Object creation will fail if spilling is required.\n",
      "2023-08-22 12:18:35,085\tWARNING util.py:315 -- The `on_step_begin` operation took 2.650 s, which may be a performance bottleneck.\n",
      "\u001b[2m\u001b[33m(raylet)\u001b[0m [2023-08-22 12:18:36,169 E 1659495 1659513] (raylet) file_system_monitor.cc:111: /tmp/ray/session_2023-08-22_09-44-45_245297_1659393 is over 95% full, available space: 13177602048; capacity: 490444898304. Object creation will fail if spilling is required.\n",
      "\u001b[2m\u001b[33m(raylet)\u001b[0m [2023-08-22 12:18:46,255 E 1659495 1659513] (raylet) file_system_monitor.cc:111: /tmp/ray/session_2023-08-22_09-44-45_245297_1659393 is over 95% full, available space: 13177552896; capacity: 490444898304. Object creation will fail if spilling is required.\n"
     ]
    },
    {
     "name": "stdout",
     "output_type": "stream",
     "text": [
      "\u001b[2m\u001b[36m(func pid=2836432)\u001b[0m [1,  2000] loss: 1.783\n"
     ]
    },
    {
     "name": "stderr",
     "output_type": "stream",
     "text": [
      "2023-08-22 12:18:56,195\tWARNING util.py:315 -- The `on_step_begin` operation took 0.875 s, which may be a performance bottleneck.\n",
      "\u001b[2m\u001b[33m(raylet)\u001b[0m [2023-08-22 12:18:56,313 E 1659495 1659513] (raylet) file_system_monitor.cc:111: /tmp/ray/session_2023-08-22_09-44-45_245297_1659393 is over 95% full, available space: 13177544704; capacity: 490444898304. Object creation will fail if spilling is required.\n",
      "\u001b[2m\u001b[33m(raylet)\u001b[0m [2023-08-22 12:19:06,362 E 1659495 1659513] (raylet) file_system_monitor.cc:111: /tmp/ray/session_2023-08-22_09-44-45_245297_1659393 is over 95% full, available space: 13177479168; capacity: 490444898304. Object creation will fail if spilling is required.\n",
      "2023-08-22 12:19:06,878\tWARNING util.py:315 -- The `on_step_begin` operation took 0.630 s, which may be a performance bottleneck.\n",
      "\u001b[2m\u001b[33m(raylet)\u001b[0m [2023-08-22 12:19:16,404 E 1659495 1659513] (raylet) file_system_monitor.cc:111: /tmp/ray/session_2023-08-22_09-44-45_245297_1659393 is over 95% full, available space: 13177462784; capacity: 490444898304. Object creation will fail if spilling is required.\n",
      "\u001b[2m\u001b[33m(raylet)\u001b[0m [2023-08-22 12:19:26,411 E 1659495 1659513] (raylet) file_system_monitor.cc:111: /tmp/ray/session_2023-08-22_09-44-45_245297_1659393 is over 95% full, available space: 13177438208; capacity: 490444898304. Object creation will fail if spilling is required.\n",
      "\u001b[2m\u001b[33m(raylet)\u001b[0m [2023-08-22 12:19:36,491 E 1659495 1659513] (raylet) file_system_monitor.cc:111: /tmp/ray/session_2023-08-22_09-44-45_245297_1659393 is over 95% full, available space: 13177413632; capacity: 490444898304. Object creation will fail if spilling is required.\n",
      "\u001b[2m\u001b[33m(raylet)\u001b[0m [2023-08-22 12:19:46,514 E 1659495 1659513] (raylet) file_system_monitor.cc:111: /tmp/ray/session_2023-08-22_09-44-45_245297_1659393 is over 95% full, available space: 13177368576; capacity: 490444898304. Object creation will fail if spilling is required.\n"
     ]
    },
    {
     "name": "stdout",
     "output_type": "stream",
     "text": [
      "\u001b[2m\u001b[36m(func pid=2695776)\u001b[0m [6,  2000] loss: 0.457\n"
     ]
    },
    {
     "name": "stderr",
     "output_type": "stream",
     "text": [
      "\u001b[2m\u001b[33m(raylet)\u001b[0m [2023-08-22 12:19:56,587 E 1659495 1659513] (raylet) file_system_monitor.cc:111: /tmp/ray/session_2023-08-22_09-44-45_245297_1659393 is over 95% full, available space: 13177344000; capacity: 490444898304. Object creation will fail if spilling is required.\n",
      "\u001b[2m\u001b[33m(raylet)\u001b[0m [2023-08-22 12:20:06,645 E 1659495 1659513] (raylet) file_system_monitor.cc:111: /tmp/ray/session_2023-08-22_09-44-45_245297_1659393 is over 95% full, available space: 13177282560; capacity: 490444898304. Object creation will fail if spilling is required.\n",
      "\u001b[2m\u001b[33m(raylet)\u001b[0m [2023-08-22 12:20:16,652 E 1659495 1659513] (raylet) file_system_monitor.cc:111: /tmp/ray/session_2023-08-22_09-44-45_245297_1659393 is over 95% full, available space: 13177270272; capacity: 490444898304. Object creation will fail if spilling is required.\n",
      "\u001b[2m\u001b[33m(raylet)\u001b[0m [2023-08-22 12:20:26,775 E 1659495 1659513] (raylet) file_system_monitor.cc:111: /tmp/ray/session_2023-08-22_09-44-45_245297_1659393 is over 95% full, available space: 13177233408; capacity: 490444898304. Object creation will fail if spilling is required.\n",
      "\u001b[2m\u001b[33m(raylet)\u001b[0m [2023-08-22 12:20:36,796 E 1659495 1659513] (raylet) file_system_monitor.cc:111: /tmp/ray/session_2023-08-22_09-44-45_245297_1659393 is over 95% full, available space: 13177225216; capacity: 490444898304. Object creation will fail if spilling is required.\n"
     ]
    },
    {
     "name": "stdout",
     "output_type": "stream",
     "text": [
      "Trial 4609f_00007: Chosen l1 = 64\n"
     ]
    },
    {
     "name": "stderr",
     "output_type": "stream",
     "text": [
      "\u001b[2m\u001b[33m(raylet)\u001b[0m [2023-08-22 12:20:46,797 E 1659495 1659513] (raylet) file_system_monitor.cc:111: /tmp/ray/session_2023-08-22_09-44-45_245297_1659393 is over 95% full, available space: 13177204736; capacity: 490444898304. Object creation will fail if spilling is required.\n",
      "\u001b[2m\u001b[33m(raylet)\u001b[0m [2023-08-22 12:20:56,930 E 1659495 1659513] (raylet) file_system_monitor.cc:111: /tmp/ray/session_2023-08-22_09-44-45_245297_1659393 is over 95% full, available space: 13177196544; capacity: 490444898304. Object creation will fail if spilling is required.\n",
      "2023-08-22 12:20:58,039\tWARNING util.py:315 -- The `on_step_begin` operation took 9.253 s, which may be a performance bottleneck.\n"
     ]
    },
    {
     "name": "stdout",
     "output_type": "stream",
     "text": [
      "\u001b[2m\u001b[36m(func pid=2836432)\u001b[0m [2,  2000] loss: 0.688\n"
     ]
    },
    {
     "name": "stderr",
     "output_type": "stream",
     "text": [
      "\u001b[2m\u001b[33m(raylet)\u001b[0m [2023-08-22 12:21:07,510 E 1659495 1659513] (raylet) file_system_monitor.cc:111: /tmp/ray/session_2023-08-22_09-44-45_245297_1659393 is over 95% full, available space: 13177118720; capacity: 490444898304. Object creation will fail if spilling is required.\n",
      "2023-08-22 12:21:09,923\tWARNING util.py:315 -- The `on_step_begin` operation took 1.840 s, which may be a performance bottleneck.\n",
      "\u001b[2m\u001b[33m(raylet)\u001b[0m [2023-08-22 12:21:17,574 E 1659495 1659513] (raylet) file_system_monitor.cc:111: /tmp/ray/session_2023-08-22_09-44-45_245297_1659393 is over 95% full, available space: 13177073664; capacity: 490444898304. Object creation will fail if spilling is required.\n",
      "\u001b[2m\u001b[33m(raylet)\u001b[0m [2023-08-22 12:21:27,634 E 1659495 1659513] (raylet) file_system_monitor.cc:111: /tmp/ray/session_2023-08-22_09-44-45_245297_1659393 is over 95% full, available space: 13177049088; capacity: 490444898304. Object creation will fail if spilling is required.\n",
      "\u001b[2m\u001b[33m(raylet)\u001b[0m [2023-08-22 12:21:37,658 E 1659495 1659513] (raylet) file_system_monitor.cc:111: /tmp/ray/session_2023-08-22_09-44-45_245297_1659393 is over 95% full, available space: 13177044992; capacity: 490444898304. Object creation will fail if spilling is required.\n",
      "\u001b[2m\u001b[33m(raylet)\u001b[0m [2023-08-22 12:21:47,725 E 1659495 1659513] (raylet) file_system_monitor.cc:111: /tmp/ray/session_2023-08-22_09-44-45_245297_1659393 is over 95% full, available space: 13177004032; capacity: 490444898304. Object creation will fail if spilling is required.\n",
      "\u001b[2m\u001b[33m(raylet)\u001b[0m [2023-08-22 12:21:57,803 E 1659495 1659513] (raylet) file_system_monitor.cc:111: /tmp/ray/session_2023-08-22_09-44-45_245297_1659393 is over 95% full, available space: 13176991744; capacity: 490444898304. Object creation will fail if spilling is required.\n",
      "\u001b[2m\u001b[33m(raylet)\u001b[0m [2023-08-22 12:22:07,805 E 1659495 1659513] (raylet) file_system_monitor.cc:111: /tmp/ray/session_2023-08-22_09-44-45_245297_1659393 is over 95% full, available space: 13176938496; capacity: 490444898304. Object creation will fail if spilling is required.\n"
     ]
    },
    {
     "name": "stdout",
     "output_type": "stream",
     "text": [
      "\u001b[2m\u001b[36m(func pid=2695776)\u001b[0m [7,  2000] loss: 0.432\n"
     ]
    },
    {
     "name": "stderr",
     "output_type": "stream",
     "text": [
      "\u001b[2m\u001b[33m(raylet)\u001b[0m [2023-08-22 12:22:17,885 E 1659495 1659513] (raylet) file_system_monitor.cc:111: /tmp/ray/session_2023-08-22_09-44-45_245297_1659393 is over 95% full, available space: 13176905728; capacity: 490444898304. Object creation will fail if spilling is required.\n",
      "\u001b[2m\u001b[33m(raylet)\u001b[0m [2023-08-22 12:22:27,927 E 1659495 1659513] (raylet) file_system_monitor.cc:111: /tmp/ray/session_2023-08-22_09-44-45_245297_1659393 is over 95% full, available space: 13176889344; capacity: 490444898304. Object creation will fail if spilling is required.\n",
      "\u001b[2m\u001b[33m(raylet)\u001b[0m [2023-08-22 12:22:37,957 E 1659495 1659513] (raylet) file_system_monitor.cc:111: /tmp/ray/session_2023-08-22_09-44-45_245297_1659393 is over 95% full, available space: 13176868864; capacity: 490444898304. Object creation will fail if spilling is required.\n",
      "\u001b[2m\u001b[33m(raylet)\u001b[0m [2023-08-22 12:22:48,008 E 1659495 1659513] (raylet) file_system_monitor.cc:111: /tmp/ray/session_2023-08-22_09-44-45_245297_1659393 is over 95% full, available space: 13176868864; capacity: 490444898304. Object creation will fail if spilling is required.\n"
     ]
    },
    {
     "name": "stdout",
     "output_type": "stream",
     "text": [
      "\u001b[2m\u001b[36m(func pid=2836432)\u001b[0m [3,  2000] loss: 0.605\n"
     ]
    },
    {
     "name": "stderr",
     "output_type": "stream",
     "text": [
      "2023-08-22 12:22:51,788\tWARNING util.py:315 -- The `on_step_begin` operation took 0.574 s, which may be a performance bottleneck.\n",
      "\u001b[2m\u001b[33m(raylet)\u001b[0m [2023-08-22 12:22:58,066 E 1659495 1659513] (raylet) file_system_monitor.cc:111: /tmp/ray/session_2023-08-22_09-44-45_245297_1659393 is over 95% full, available space: 13176840192; capacity: 490444898304. Object creation will fail if spilling is required.\n",
      "\u001b[2m\u001b[33m(raylet)\u001b[0m [2023-08-22 12:23:08,105 E 1659495 1659513] (raylet) file_system_monitor.cc:111: /tmp/ray/session_2023-08-22_09-44-45_245297_1659393 is over 95% full, available space: 13176770560; capacity: 490444898304. Object creation will fail if spilling is required.\n",
      "\u001b[2m\u001b[33m(raylet)\u001b[0m [2023-08-22 12:23:18,146 E 1659495 1659513] (raylet) file_system_monitor.cc:111: /tmp/ray/session_2023-08-22_09-44-45_245297_1659393 is over 95% full, available space: 13176770560; capacity: 490444898304. Object creation will fail if spilling is required.\n",
      "\u001b[2m\u001b[33m(raylet)\u001b[0m [2023-08-22 12:23:28,171 E 1659495 1659513] (raylet) file_system_monitor.cc:111: /tmp/ray/session_2023-08-22_09-44-45_245297_1659393 is over 95% full, available space: 13176725504; capacity: 490444898304. Object creation will fail if spilling is required.\n",
      "\u001b[2m\u001b[33m(raylet)\u001b[0m [2023-08-22 12:23:38,207 E 1659495 1659513] (raylet) file_system_monitor.cc:111: /tmp/ray/session_2023-08-22_09-44-45_245297_1659393 is over 95% full, available space: 13176717312; capacity: 490444898304. Object creation will fail if spilling is required.\n",
      "2023-08-22 12:23:43,723\tWARNING util.py:315 -- The `on_step_begin` operation took 0.659 s, which may be a performance bottleneck.\n",
      "\u001b[2m\u001b[33m(raylet)\u001b[0m [2023-08-22 12:23:48,299 E 1659495 1659513] (raylet) file_system_monitor.cc:111: /tmp/ray/session_2023-08-22_09-44-45_245297_1659393 is over 95% full, available space: 13176692736; capacity: 490444898304. Object creation will fail if spilling is required.\n",
      "2023-08-22 12:23:54,546\tWARNING util.py:315 -- The `on_step_begin` operation took 0.729 s, which may be a performance bottleneck.\n",
      "\u001b[2m\u001b[33m(raylet)\u001b[0m [2023-08-22 12:23:58,356 E 1659495 1659513] (raylet) file_system_monitor.cc:111: /tmp/ray/session_2023-08-22_09-44-45_245297_1659393 is over 95% full, available space: 13176668160; capacity: 490444898304. Object creation will fail if spilling is required.\n",
      "\u001b[2m\u001b[33m(raylet)\u001b[0m [2023-08-22 12:24:08,369 E 1659495 1659513] (raylet) file_system_monitor.cc:111: /tmp/ray/session_2023-08-22_09-44-45_245297_1659393 is over 95% full, available space: 13176614912; capacity: 490444898304. Object creation will fail if spilling is required.\n",
      "\u001b[2m\u001b[33m(raylet)\u001b[0m [2023-08-22 12:24:18,462 E 1659495 1659513] (raylet) file_system_monitor.cc:111: /tmp/ray/session_2023-08-22_09-44-45_245297_1659393 is over 95% full, available space: 13176598528; capacity: 490444898304. Object creation will fail if spilling is required.\n",
      "\u001b[2m\u001b[33m(raylet)\u001b[0m [2023-08-22 12:24:28,537 E 1659495 1659513] (raylet) file_system_monitor.cc:111: /tmp/ray/session_2023-08-22_09-44-45_245297_1659393 is over 95% full, available space: 13176586240; capacity: 490444898304. Object creation will fail if spilling is required.\n"
     ]
    },
    {
     "name": "stdout",
     "output_type": "stream",
     "text": [
      "\u001b[2m\u001b[36m(func pid=2695776)\u001b[0m [8,  2000] loss: 0.416\n"
     ]
    },
    {
     "name": "stderr",
     "output_type": "stream",
     "text": [
      "\u001b[2m\u001b[33m(raylet)\u001b[0m [2023-08-22 12:24:38,540 E 1659495 1659513] (raylet) file_system_monitor.cc:111: /tmp/ray/session_2023-08-22_09-44-45_245297_1659393 is over 95% full, available space: 13176578048; capacity: 490444898304. Object creation will fail if spilling is required.\n",
      "\u001b[2m\u001b[33m(raylet)\u001b[0m [2023-08-22 12:24:48,553 E 1659495 1659513] (raylet) file_system_monitor.cc:111: /tmp/ray/session_2023-08-22_09-44-45_245297_1659393 is over 95% full, available space: 13176541184; capacity: 490444898304. Object creation will fail if spilling is required.\n"
     ]
    },
    {
     "name": "stdout",
     "output_type": "stream",
     "text": [
      "\u001b[2m\u001b[36m(func pid=2836432)\u001b[0m [4,  2000] loss: 0.562\n"
     ]
    },
    {
     "name": "stderr",
     "output_type": "stream",
     "text": [
      "\u001b[2m\u001b[33m(raylet)\u001b[0m [2023-08-22 12:24:58,566 E 1659495 1659513] (raylet) file_system_monitor.cc:111: /tmp/ray/session_2023-08-22_09-44-45_245297_1659393 is over 95% full, available space: 13176537088; capacity: 490444898304. Object creation will fail if spilling is required.\n",
      "2023-08-22 12:25:06,861\tWARNING util.py:315 -- The `on_step_begin` operation took 0.892 s, which may be a performance bottleneck.\n",
      "\u001b[2m\u001b[33m(raylet)\u001b[0m [2023-08-22 12:25:08,606 E 1659495 1659513] (raylet) file_system_monitor.cc:111: /tmp/ray/session_2023-08-22_09-44-45_245297_1659393 is over 95% full, available space: 13176483840; capacity: 490444898304. Object creation will fail if spilling is required.\n",
      "2023-08-22 12:25:17,640\tWARNING util.py:315 -- The `on_step_begin` operation took 0.752 s, which may be a performance bottleneck.\n",
      "\u001b[2m\u001b[33m(raylet)\u001b[0m [2023-08-22 12:25:18,693 E 1659495 1659513] (raylet) file_system_monitor.cc:111: /tmp/ray/session_2023-08-22_09-44-45_245297_1659393 is over 95% full, available space: 13176463360; capacity: 490444898304. Object creation will fail if spilling is required.\n",
      "\u001b[2m\u001b[33m(raylet)\u001b[0m [2023-08-22 12:25:28,776 E 1659495 1659513] (raylet) file_system_monitor.cc:111: /tmp/ray/session_2023-08-22_09-44-45_245297_1659393 is over 95% full, available space: 13176410112; capacity: 490444898304. Object creation will fail if spilling is required.\n",
      "\u001b[2m\u001b[33m(raylet)\u001b[0m [2023-08-22 12:25:38,791 E 1659495 1659513] (raylet) file_system_monitor.cc:111: /tmp/ray/session_2023-08-22_09-44-45_245297_1659393 is over 95% full, available space: 13176397824; capacity: 490444898304. Object creation will fail if spilling is required.\n",
      "\u001b[2m\u001b[33m(raylet)\u001b[0m [2023-08-22 12:25:48,872 E 1659495 1659513] (raylet) file_system_monitor.cc:111: /tmp/ray/session_2023-08-22_09-44-45_245297_1659393 is over 95% full, available space: 13176369152; capacity: 490444898304. Object creation will fail if spilling is required.\n",
      "2023-08-22 12:25:49,557\tWARNING util.py:315 -- The `on_step_begin` operation took 1.428 s, which may be a performance bottleneck.\n",
      "\u001b[2m\u001b[33m(raylet)\u001b[0m [2023-08-22 12:25:58,943 E 1659495 1659513] (raylet) file_system_monitor.cc:111: /tmp/ray/session_2023-08-22_09-44-45_245297_1659393 is over 95% full, available space: 13176360960; capacity: 490444898304. Object creation will fail if spilling is required.\n",
      "2023-08-22 12:26:00,782\tWARNING util.py:315 -- The `on_step_begin` operation took 1.166 s, which may be a performance bottleneck.\n",
      "\u001b[2m\u001b[33m(raylet)\u001b[0m [2023-08-22 12:26:08,943 E 1659495 1659513] (raylet) file_system_monitor.cc:111: /tmp/ray/session_2023-08-22_09-44-45_245297_1659393 is over 95% full, available space: 13176315904; capacity: 490444898304. Object creation will fail if spilling is required.\n",
      "2023-08-22 12:26:11,489\tWARNING util.py:315 -- The `on_step_begin` operation took 0.614 s, which may be a performance bottleneck.\n",
      "\u001b[2m\u001b[33m(raylet)\u001b[0m [2023-08-22 12:26:18,944 E 1659495 1659513] (raylet) file_system_monitor.cc:111: /tmp/ray/session_2023-08-22_09-44-45_245297_1659393 is over 95% full, available space: 13176279040; capacity: 490444898304. Object creation will fail if spilling is required.\n",
      "\u001b[2m\u001b[33m(raylet)\u001b[0m [2023-08-22 12:26:29,006 E 1659495 1659513] (raylet) file_system_monitor.cc:111: /tmp/ray/session_2023-08-22_09-44-45_245297_1659393 is over 95% full, available space: 13176258560; capacity: 490444898304. Object creation will fail if spilling is required.\n",
      "\u001b[2m\u001b[33m(raylet)\u001b[0m [2023-08-22 12:26:39,054 E 1659495 1659513] (raylet) file_system_monitor.cc:111: /tmp/ray/session_2023-08-22_09-44-45_245297_1659393 is over 95% full, available space: 13176233984; capacity: 490444898304. Object creation will fail if spilling is required.\n"
     ]
    },
    {
     "name": "stdout",
     "output_type": "stream",
     "text": [
      "\u001b[2m\u001b[36m(func pid=2836432)\u001b[0m [5,  2000] loss: 0.524\n"
     ]
    },
    {
     "name": "stderr",
     "output_type": "stream",
     "text": [
      "\u001b[2m\u001b[33m(raylet)\u001b[0m [2023-08-22 12:26:49,080 E 1659495 1659513] (raylet) file_system_monitor.cc:111: /tmp/ray/session_2023-08-22_09-44-45_245297_1659393 is over 95% full, available space: 13176233984; capacity: 490444898304. Object creation will fail if spilling is required.\n"
     ]
    },
    {
     "name": "stdout",
     "output_type": "stream",
     "text": [
      "\u001b[2m\u001b[36m(func pid=2695776)\u001b[0m [9,  2000] loss: 0.402\n"
     ]
    },
    {
     "name": "stderr",
     "output_type": "stream",
     "text": [
      "\u001b[2m\u001b[33m(raylet)\u001b[0m [2023-08-22 12:26:59,083 E 1659495 1659513] (raylet) file_system_monitor.cc:111: /tmp/ray/session_2023-08-22_09-44-45_245297_1659393 is over 95% full, available space: 13176213504; capacity: 490444898304. Object creation will fail if spilling is required.\n",
      "2023-08-22 12:27:02,960\tWARNING util.py:315 -- The `on_step_begin` operation took 0.555 s, which may be a performance bottleneck.\n",
      "\u001b[2m\u001b[33m(raylet)\u001b[0m [2023-08-22 12:27:09,122 E 1659495 1659513] (raylet) file_system_monitor.cc:111: /tmp/ray/session_2023-08-22_09-44-45_245297_1659393 is over 95% full, available space: 13176143872; capacity: 490444898304. Object creation will fail if spilling is required.\n",
      "2023-08-22 12:27:13,796\tWARNING util.py:315 -- The `on_step_begin` operation took 0.814 s, which may be a performance bottleneck.\n",
      "\u001b[2m\u001b[33m(raylet)\u001b[0m [2023-08-22 12:27:19,163 E 1659495 1659513] (raylet) file_system_monitor.cc:111: /tmp/ray/session_2023-08-22_09-44-45_245297_1659393 is over 95% full, available space: 13176131584; capacity: 490444898304. Object creation will fail if spilling is required.\n",
      "2023-08-22 12:27:24,763\tWARNING util.py:315 -- The `on_step_begin` operation took 0.925 s, which may be a performance bottleneck.\n",
      "\u001b[2m\u001b[33m(raylet)\u001b[0m [2023-08-22 12:27:29,188 E 1659495 1659513] (raylet) file_system_monitor.cc:111: /tmp/ray/session_2023-08-22_09-44-45_245297_1659393 is over 95% full, available space: 13176086528; capacity: 490444898304. Object creation will fail if spilling is required.\n",
      "\u001b[2m\u001b[33m(raylet)\u001b[0m [2023-08-22 12:27:39,200 E 1659495 1659513] (raylet) file_system_monitor.cc:111: /tmp/ray/session_2023-08-22_09-44-45_245297_1659393 is over 95% full, available space: 13176078336; capacity: 490444898304. Object creation will fail if spilling is required.\n",
      "2023-08-22 12:27:45,731\tWARNING util.py:315 -- The `on_step_begin` operation took 0.585 s, which may be a performance bottleneck.\n",
      "\u001b[2m\u001b[33m(raylet)\u001b[0m [2023-08-22 12:27:49,248 E 1659495 1659513] (raylet) file_system_monitor.cc:111: /tmp/ray/session_2023-08-22_09-44-45_245297_1659393 is over 95% full, available space: 13176053760; capacity: 490444898304. Object creation will fail if spilling is required.\n"
     ]
    },
    {
     "name": "stdout",
     "output_type": "stream",
     "text": [
      "Trial 4609f_00010: Chosen l1 = 64\n"
     ]
    },
    {
     "name": "stderr",
     "output_type": "stream",
     "text": [
      "\u001b[2m\u001b[33m(raylet)\u001b[0m [2023-08-22 12:27:59,789 E 1659495 1659513] (raylet) file_system_monitor.cc:111: /tmp/ray/session_2023-08-22_09-44-45_245297_1659393 is over 95% full, available space: 13176061952; capacity: 490444898304. Object creation will fail if spilling is required.\n",
      "2023-08-22 12:28:01,248\tWARNING util.py:315 -- The `on_step_begin` operation took 5.474 s, which may be a performance bottleneck.\n",
      "\u001b[2m\u001b[33m(raylet)\u001b[0m [2023-08-22 12:28:09,859 E 1659495 1659513] (raylet) file_system_monitor.cc:111: /tmp/ray/session_2023-08-22_09-44-45_245297_1659393 is over 95% full, available space: 13175963648; capacity: 490444898304. Object creation will fail if spilling is required.\n",
      "\u001b[2m\u001b[33m(raylet)\u001b[0m Failed to connect to GCS. Please check `gcs_server.out` for more details.\n",
      "2023-08-22 12:28:11,958\tWARNING util.py:315 -- The `on_step_begin` operation took 0.640 s, which may be a performance bottleneck.\n",
      "\u001b[2m\u001b[33m(raylet)\u001b[0m Failed to publish error: Traceback (most recent call last):\n",
      "\u001b[2m\u001b[33m(raylet)\u001b[0m   File \"/opt/conda/lib/python3.10/site-packages/ray/_private/worker.py\", line 2144, in connect\n",
      "\u001b[2m\u001b[33m(raylet)\u001b[0m     node.check_version_info()\n",
      "\u001b[2m\u001b[33m(raylet)\u001b[0m   File \"/opt/conda/lib/python3.10/site-packages/ray/_private/node.py\", line 339, in check_version_info\n",
      "\u001b[2m\u001b[33m(raylet)\u001b[0m     cluster_metadata = ray_usage_lib.get_cluster_metadata(self.get_gcs_client())\n",
      "\u001b[2m\u001b[33m(raylet)\u001b[0m   File \"/opt/conda/lib/python3.10/site-packages/ray/_private/usage/usage_lib.py\", line 710, in get_cluster_metadata\n",
      "\u001b[2m\u001b[33m(raylet)\u001b[0m     gcs_client.internal_kv_get(\n",
      "\u001b[2m\u001b[33m(raylet)\u001b[0m   File \"python/ray/_raylet.pyx\", line 2132, in ray._raylet._auto_reconnect.wrapper\n",
      "\u001b[2m\u001b[33m(raylet)\u001b[0m   File \"python/ray/_raylet.pyx\", line 2120, in ray._raylet._auto_reconnect.wrapper\n",
      "\u001b[2m\u001b[33m(raylet)\u001b[0m   File \"python/ray/_raylet.pyx\", line 2185, in ray._raylet.GcsClient.internal_kv_get\n",
      "\u001b[2m\u001b[33m(raylet)\u001b[0m   File \"python/ray/_raylet.pyx\", line 410, in ray._raylet.check_status\n",
      "\u001b[2m\u001b[33m(raylet)\u001b[0m ray.exceptions.RpcError: failed to connect to all addresses\n",
      "\u001b[2m\u001b[33m(raylet)\u001b[0m  [type version_mismatch]\n",
      "\u001b[2m\u001b[33m(raylet)\u001b[0m Traceback (most recent call last):\n",
      "\u001b[2m\u001b[33m(raylet)\u001b[0m   File \"/opt/conda/lib/python3.10/site-packages/ray/_private/worker.py\", line 2144, in connect\n",
      "\u001b[2m\u001b[33m(raylet)\u001b[0m     node.check_version_info()\n",
      "\u001b[2m\u001b[33m(raylet)\u001b[0m   File \"/opt/conda/lib/python3.10/site-packages/ray/_private/node.py\", line 339, in check_version_info\n",
      "\u001b[2m\u001b[33m(raylet)\u001b[0m     cluster_metadata = ray_usage_lib.get_cluster_metadata(self.get_gcs_client())\n",
      "\u001b[2m\u001b[33m(raylet)\u001b[0m   File \"/opt/conda/lib/python3.10/site-packages/ray/_private/usage/usage_lib.py\", line 710, in get_cluster_metadata\n",
      "\u001b[2m\u001b[33m(raylet)\u001b[0m     gcs_client.internal_kv_get(\n",
      "\u001b[2m\u001b[33m(raylet)\u001b[0m   File \"python/ray/_raylet.pyx\", line 2132, in ray._raylet._auto_reconnect.wrapper\n",
      "\u001b[2m\u001b[33m(raylet)\u001b[0m   File \"python/ray/_raylet.pyx\", line 2120, in ray._raylet._auto_reconnect.wrapper\n",
      "\u001b[2m\u001b[33m(raylet)\u001b[0m   File \"python/ray/_raylet.pyx\", line 2185, in ray._raylet.GcsClient.internal_kv_get\n",
      "\u001b[2m\u001b[33m(raylet)\u001b[0m   File \"python/ray/_raylet.pyx\", line 410, in ray._raylet.check_status\n",
      "\u001b[2m\u001b[33m(raylet)\u001b[0m ray.exceptions.RpcError: failed to connect to all addresses\n",
      "\u001b[2m\u001b[33m(raylet)\u001b[0m \n",
      "\u001b[2m\u001b[33m(raylet)\u001b[0m During handling of the above exception, another exception occurred:\n",
      "\u001b[2m\u001b[33m(raylet)\u001b[0m \n",
      "\u001b[2m\u001b[33m(raylet)\u001b[0m Traceback (most recent call last):\n",
      "\u001b[2m\u001b[33m(raylet)\u001b[0m   File \"/opt/conda/lib/python3.10/site-packages/ray/_private/utils.py\", line 203, in publish_error_to_driver\n",
      "\u001b[2m\u001b[33m(raylet)\u001b[0m     gcs_publisher.publish_error(\n",
      "\u001b[2m\u001b[33m(raylet)\u001b[0m   File \"python/ray/_raylet.pyx\", line 2371, in ray._raylet.GcsPublisher.publish_error\n",
      "\u001b[2m\u001b[33m(raylet)\u001b[0m   File \"python/ray/_raylet.pyx\", line 402, in ray._raylet.check_status\n",
      "\u001b[2m\u001b[33m(raylet)\u001b[0m ray.exceptions.GetTimeoutError: Failed to publish after retries: failed to connect to all addresses\n",
      "\u001b[2m\u001b[33m(raylet)\u001b[0m [2023-08-22 12:28:19,895 E 1659495 1659513] (raylet) file_system_monitor.cc:111: /tmp/ray/session_2023-08-22_09-44-45_245297_1659393 is over 95% full, available space: 13175939072; capacity: 490444898304. Object creation will fail if spilling is required.\n",
      "2023-08-22 12:28:22,985\tWARNING util.py:315 -- The `on_step_begin` operation took 1.011 s, which may be a performance bottleneck.\n",
      "\u001b[2m\u001b[33m(raylet)\u001b[0m [2023-08-22 12:28:29,898 E 1659495 1659513] (raylet) file_system_monitor.cc:111: /tmp/ray/session_2023-08-22_09-44-45_245297_1659393 is over 95% full, available space: 13175902208; capacity: 490444898304. Object creation will fail if spilling is required.\n"
     ]
    },
    {
     "name": "stdout",
     "output_type": "stream",
     "text": [
      "\u001b[2m\u001b[36m(func pid=2836432)\u001b[0m [6,  2000] loss: 0.495\n"
     ]
    },
    {
     "name": "stderr",
     "output_type": "stream",
     "text": [
      "\u001b[2m\u001b[33m(raylet)\u001b[0m [2023-08-22 12:28:39,914 E 1659495 1659513] (raylet) file_system_monitor.cc:111: /tmp/ray/session_2023-08-22_09-44-45_245297_1659393 is over 95% full, available space: 13175894016; capacity: 490444898304. Object creation will fail if spilling is required.\n",
      "\u001b[2m\u001b[33m(raylet)\u001b[0m [2023-08-22 12:28:49,934 E 1659495 1659513] (raylet) file_system_monitor.cc:111: /tmp/ray/session_2023-08-22_09-44-45_245297_1659393 is over 95% full, available space: 13175873536; capacity: 490444898304. Object creation will fail if spilling is required.\n",
      "\u001b[2m\u001b[33m(raylet)\u001b[0m [2023-08-22 12:28:59,962 E 1659495 1659513] (raylet) file_system_monitor.cc:111: /tmp/ray/session_2023-08-22_09-44-45_245297_1659393 is over 95% full, available space: 13175844864; capacity: 490444898304. Object creation will fail if spilling is required.\n",
      "\u001b[2m\u001b[33m(raylet)\u001b[0m [2023-08-22 12:29:10,055 E 1659495 1659513] (raylet) file_system_monitor.cc:111: /tmp/ray/session_2023-08-22_09-44-45_245297_1659393 is over 95% full, available space: 13175808000; capacity: 490444898304. Object creation will fail if spilling is required.\n"
     ]
    },
    {
     "name": "stdout",
     "output_type": "stream",
     "text": [
      "\u001b[2m\u001b[36m(func pid=2695776)\u001b[0m [10,  2000] loss: 0.389\n"
     ]
    },
    {
     "name": "stderr",
     "output_type": "stream",
     "text": [
      "\u001b[2m\u001b[33m(raylet)\u001b[0m [2023-08-22 12:29:20,101 E 1659495 1659513] (raylet) file_system_monitor.cc:111: /tmp/ray/session_2023-08-22_09-44-45_245297_1659393 is over 95% full, available space: 13175775232; capacity: 490444898304. Object creation will fail if spilling is required.\n",
      "\u001b[2m\u001b[33m(raylet)\u001b[0m [2023-08-22 12:29:30,141 E 1659495 1659513] (raylet) file_system_monitor.cc:111: /tmp/ray/session_2023-08-22_09-44-45_245297_1659393 is over 95% full, available space: 13175742464; capacity: 490444898304. Object creation will fail if spilling is required.\n",
      "\u001b[2m\u001b[33m(raylet)\u001b[0m [2023-08-22 12:29:40,221 E 1659495 1659513] (raylet) file_system_monitor.cc:111: /tmp/ray/session_2023-08-22_09-44-45_245297_1659393 is over 95% full, available space: 13175730176; capacity: 490444898304. Object creation will fail if spilling is required.\n",
      "\u001b[2m\u001b[33m(raylet)\u001b[0m [2023-08-22 12:29:50,256 E 1659495 1659513] (raylet) file_system_monitor.cc:111: /tmp/ray/session_2023-08-22_09-44-45_245297_1659393 is over 95% full, available space: 13175709696; capacity: 490444898304. Object creation will fail if spilling is required.\n",
      "\u001b[2m\u001b[33m(raylet)\u001b[0m [2023-08-22 12:30:00,348 E 1659495 1659513] (raylet) file_system_monitor.cc:111: /tmp/ray/session_2023-08-22_09-44-45_245297_1659393 is over 95% full, available space: 13175681024; capacity: 490444898304. Object creation will fail if spilling is required.\n",
      "\u001b[2m\u001b[33m(raylet)\u001b[0m [2023-08-22 12:30:10,431 E 1659495 1659513] (raylet) file_system_monitor.cc:111: /tmp/ray/session_2023-08-22_09-44-45_245297_1659393 is over 95% full, available space: 13175603200; capacity: 490444898304. Object creation will fail if spilling is required.\n",
      "\u001b[2m\u001b[33m(raylet)\u001b[0m [2023-08-22 12:30:20,458 E 1659495 1659513] (raylet) file_system_monitor.cc:111: /tmp/ray/session_2023-08-22_09-44-45_245297_1659393 is over 95% full, available space: 13175586816; capacity: 490444898304. Object creation will fail if spilling is required.\n"
     ]
    },
    {
     "name": "stdout",
     "output_type": "stream",
     "text": [
      "Trial 4609f_00004: Chosen l1 = 64\n"
     ]
    },
    {
     "name": "stderr",
     "output_type": "stream",
     "text": [
      "\u001b[2m\u001b[33m(raylet)\u001b[0m [2023-08-22 12:30:30,528 E 1659495 1659513] (raylet) file_system_monitor.cc:111: /tmp/ray/session_2023-08-22_09-44-45_245297_1659393 is over 95% full, available space: 13175578624; capacity: 490444898304. Object creation will fail if spilling is required.\n",
      "2023-08-22 12:30:34,417\tWARNING util.py:315 -- The `on_step_begin` operation took 8.732 s, which may be a performance bottleneck.\n",
      "\u001b[2m\u001b[33m(raylet)\u001b[0m [2023-08-22 12:30:40,590 E 1659495 1659513] (raylet) file_system_monitor.cc:111: /tmp/ray/session_2023-08-22_09-44-45_245297_1659393 is over 95% full, available space: 13175541760; capacity: 490444898304. Object creation will fail if spilling is required.\n",
      "\u001b[2m\u001b[33m(raylet)\u001b[0m [2023-08-22 12:30:50,603 E 1659495 1659513] (raylet) file_system_monitor.cc:111: /tmp/ray/session_2023-08-22_09-44-45_245297_1659393 is over 95% full, available space: 13175500800; capacity: 490444898304. Object creation will fail if spilling is required.\n",
      "\u001b[2m\u001b[33m(raylet)\u001b[0m [2023-08-22 12:31:00,647 E 1659495 1659513] (raylet) file_system_monitor.cc:111: /tmp/ray/session_2023-08-22_09-44-45_245297_1659393 is over 95% full, available space: 13175488512; capacity: 490444898304. Object creation will fail if spilling is required.\n"
     ]
    },
    {
     "name": "stdout",
     "output_type": "stream",
     "text": [
      "\u001b[2m\u001b[36m(func pid=2836432)\u001b[0m [7,  2000] loss: 0.473\n"
     ]
    },
    {
     "name": "stderr",
     "output_type": "stream",
     "text": [
      "\u001b[2m\u001b[33m(raylet)\u001b[0m [2023-08-22 12:31:10,708 E 1659495 1659513] (raylet) file_system_monitor.cc:111: /tmp/ray/session_2023-08-22_09-44-45_245297_1659393 is over 95% full, available space: 13175439360; capacity: 490444898304. Object creation will fail if spilling is required.\n",
      "\u001b[2m\u001b[33m(raylet)\u001b[0m [2023-08-22 12:31:20,775 E 1659495 1659513] (raylet) file_system_monitor.cc:111: /tmp/ray/session_2023-08-22_09-44-45_245297_1659393 is over 95% full, available space: 13175427072; capacity: 490444898304. Object creation will fail if spilling is required.\n",
      "\u001b[2m\u001b[33m(raylet)\u001b[0m [2023-08-22 12:31:30,856 E 1659495 1659513] (raylet) file_system_monitor.cc:111: /tmp/ray/session_2023-08-22_09-44-45_245297_1659393 is over 95% full, available space: 13175410688; capacity: 490444898304. Object creation will fail if spilling is required.\n",
      "2023-08-22 12:31:36,735\tWARNING util.py:315 -- The `on_step_begin` operation took 0.870 s, which may be a performance bottleneck.\n",
      "\u001b[2m\u001b[33m(raylet)\u001b[0m [2023-08-22 12:31:40,912 E 1659495 1659513] (raylet) file_system_monitor.cc:111: /tmp/ray/session_2023-08-22_09-44-45_245297_1659393 is over 95% full, available space: 13175373824; capacity: 490444898304. Object creation will fail if spilling is required.\n"
     ]
    },
    {
     "name": "stdout",
     "output_type": "stream",
     "text": [
      "Trial 4609f_00009: Chosen l1 = 64\n"
     ]
    },
    {
     "name": "stderr",
     "output_type": "stream",
     "text": [
      "\u001b[2m\u001b[33m(raylet)\u001b[0m [2023-08-22 12:31:51,010 E 1659495 1659513] (raylet) file_system_monitor.cc:111: /tmp/ray/session_2023-08-22_09-44-45_245297_1659393 is over 95% full, available space: 13175377920; capacity: 490444898304. Object creation will fail if spilling is required.\n",
      "\u001b[2m\u001b[33m(raylet)\u001b[0m [2023-08-22 12:32:01,429 E 1659495 1659513] (raylet) file_system_monitor.cc:111: /tmp/ray/session_2023-08-22_09-44-45_245297_1659393 is over 95% full, available space: 13175345152; capacity: 490444898304. Object creation will fail if spilling is required.\n",
      "2023-08-22 12:32:02,282\tWARNING util.py:315 -- The `on_step_begin` operation took 5.230 s, which may be a performance bottleneck.\n"
     ]
    },
    {
     "name": "stdout",
     "output_type": "stream",
     "text": [
      "\u001b[2m\u001b[36m(func pid=3032835)\u001b[0m [1,  2000] loss: 1.797\n"
     ]
    },
    {
     "name": "stderr",
     "output_type": "stream",
     "text": [
      "\u001b[2m\u001b[33m(raylet)\u001b[0m [2023-08-22 12:32:11,456 E 1659495 1659513] (raylet) file_system_monitor.cc:111: /tmp/ray/session_2023-08-22_09-44-45_245297_1659393 is over 95% full, available space: 13175255040; capacity: 490444898304. Object creation will fail if spilling is required.\n",
      "\u001b[2m\u001b[33m(raylet)\u001b[0m [2023-08-22 12:32:21,543 E 1659495 1659513] (raylet) file_system_monitor.cc:111: /tmp/ray/session_2023-08-22_09-44-45_245297_1659393 is over 95% full, available space: 13175222272; capacity: 490444898304. Object creation will fail if spilling is required.\n",
      "\u001b[2m\u001b[33m(raylet)\u001b[0m [2023-08-22 12:32:31,584 E 1659495 1659513] (raylet) file_system_monitor.cc:111: /tmp/ray/session_2023-08-22_09-44-45_245297_1659393 is over 95% full, available space: 13175181312; capacity: 490444898304. Object creation will fail if spilling is required.\n",
      "\u001b[2m\u001b[33m(raylet)\u001b[0m [2023-08-22 12:32:41,611 E 1659495 1659513] (raylet) file_system_monitor.cc:111: /tmp/ray/session_2023-08-22_09-44-45_245297_1659393 is over 95% full, available space: 13175173120; capacity: 490444898304. Object creation will fail if spilling is required.\n",
      "\u001b[2m\u001b[33m(raylet)\u001b[0m [2023-08-22 12:32:51,711 E 1659495 1659513] (raylet) file_system_monitor.cc:111: /tmp/ray/session_2023-08-22_09-44-45_245297_1659393 is over 95% full, available space: 13175169024; capacity: 490444898304. Object creation will fail if spilling is required.\n",
      "\u001b[2m\u001b[33m(raylet)\u001b[0m [2023-08-22 12:33:01,735 E 1659495 1659513] (raylet) file_system_monitor.cc:111: /tmp/ray/session_2023-08-22_09-44-45_245297_1659393 is over 95% full, available space: 13175132160; capacity: 490444898304. Object creation will fail if spilling is required.\n",
      "2023-08-22 12:33:03,922\tWARNING util.py:315 -- The `on_step_begin` operation took 0.839 s, which may be a performance bottleneck.\n",
      "\u001b[2m\u001b[33m(raylet)\u001b[0m [2023-08-22 12:33:11,808 E 1659495 1659513] (raylet) file_system_monitor.cc:111: /tmp/ray/session_2023-08-22_09-44-45_245297_1659393 is over 95% full, available space: 13175058432; capacity: 490444898304. Object creation will fail if spilling is required.\n",
      "\u001b[2m\u001b[33m(raylet)\u001b[0m [2023-08-22 12:33:21,860 E 1659495 1659513] (raylet) file_system_monitor.cc:111: /tmp/ray/session_2023-08-22_09-44-45_245297_1659393 is over 95% full, available space: 13175025664; capacity: 490444898304. Object creation will fail if spilling is required.\n",
      "2023-08-22 12:33:24,980\tWARNING util.py:315 -- The `on_step_begin` operation took 0.522 s, which may be a performance bottleneck.\n",
      "\u001b[2m\u001b[33m(raylet)\u001b[0m [2023-08-22 12:33:31,954 E 1659495 1659513] (raylet) file_system_monitor.cc:111: /tmp/ray/session_2023-08-22_09-44-45_245297_1659393 is over 95% full, available space: 13175005184; capacity: 490444898304. Object creation will fail if spilling is required.\n"
     ]
    },
    {
     "name": "stdout",
     "output_type": "stream",
     "text": [
      "Trial 4609f_00011: Chosen l1 = 64\n"
     ]
    },
    {
     "name": "stderr",
     "output_type": "stream",
     "text": [
      "\u001b[2m\u001b[33m(raylet)\u001b[0m [2023-08-22 12:33:42,083 E 1659495 1659513] (raylet) file_system_monitor.cc:111: /tmp/ray/session_2023-08-22_09-44-45_245297_1659393 is over 95% full, available space: 13174992896; capacity: 490444898304. Object creation will fail if spilling is required.\n"
     ]
    },
    {
     "name": "stdout",
     "output_type": "stream",
     "text": [
      "\u001b[2m\u001b[36m(func pid=2836432)\u001b[0m [8,  2000] loss: 0.448\n"
     ]
    },
    {
     "name": "stderr",
     "output_type": "stream",
     "text": [
      "2023-08-22 12:33:45,202\tWARNING util.py:315 -- The `on_step_begin` operation took 10.210 s, which may be a performance bottleneck.\n",
      "2023-08-22 12:33:50,203\tWARNING worker.py:2037 -- Traceback (most recent call last):\n",
      "  File \"/opt/conda/lib/python3.10/site-packages/ray/_private/worker.py\", line 2144, in connect\n",
      "    node.check_version_info()\n",
      "  File \"/opt/conda/lib/python3.10/site-packages/ray/_private/node.py\", line 339, in check_version_info\n",
      "    cluster_metadata = ray_usage_lib.get_cluster_metadata(self.get_gcs_client())\n",
      "  File \"/opt/conda/lib/python3.10/site-packages/ray/_private/usage/usage_lib.py\", line 710, in get_cluster_metadata\n",
      "    gcs_client.internal_kv_get(\n",
      "  File \"python/ray/_raylet.pyx\", line 2132, in ray._raylet._auto_reconnect.wrapper\n",
      "  File \"python/ray/_raylet.pyx\", line 2120, in ray._raylet._auto_reconnect.wrapper\n",
      "  File \"python/ray/_raylet.pyx\", line 2185, in ray._raylet.GcsClient.internal_kv_get\n",
      "  File \"python/ray/_raylet.pyx\", line 410, in ray._raylet.check_status\n",
      "ray.exceptions.RpcError: failed to connect to all addresses\n",
      "\n",
      "\u001b[2m\u001b[33m(raylet)\u001b[0m Failed to connect to GCS. Please check `gcs_server.out` for more details.\n",
      "\u001b[2m\u001b[33m(raylet)\u001b[0m [2023-08-22 12:33:52,247 E 1659495 1659513] (raylet) file_system_monitor.cc:111: /tmp/ray/session_2023-08-22_09-44-45_245297_1659393 is over 95% full, available space: 13174976512; capacity: 490444898304. Object creation will fail if spilling is required.\n",
      "2023-08-22 12:34:00,173\tWARNING util.py:315 -- The `on_step_begin` operation took 4.937 s, which may be a performance bottleneck.\n"
     ]
    },
    {
     "name": "stdout",
     "output_type": "stream",
     "text": [
      "\u001b[2m\u001b[36m(func pid=3032835)\u001b[0m [2,  2000] loss: 0.666\n"
     ]
    },
    {
     "name": "stderr",
     "output_type": "stream",
     "text": [
      "\u001b[2m\u001b[33m(raylet)\u001b[0m [2023-08-22 12:34:02,288 E 1659495 1659513] (raylet) file_system_monitor.cc:111: /tmp/ray/session_2023-08-22_09-44-45_245297_1659393 is over 95% full, available space: 13174927360; capacity: 490444898304. Object creation will fail if spilling is required.\n",
      "\u001b[2m\u001b[33m(raylet)\u001b[0m [2023-08-22 12:34:12,315 E 1659495 1659513] (raylet) file_system_monitor.cc:111: /tmp/ray/session_2023-08-22_09-44-45_245297_1659393 is over 95% full, available space: 13174861824; capacity: 490444898304. Object creation will fail if spilling is required.\n",
      "\u001b[2m\u001b[33m(raylet)\u001b[0m [2023-08-22 12:34:22,322 E 1659495 1659513] (raylet) file_system_monitor.cc:111: /tmp/ray/session_2023-08-22_09-44-45_245297_1659393 is over 95% full, available space: 13174853632; capacity: 490444898304. Object creation will fail if spilling is required.\n",
      "\u001b[2m\u001b[33m(raylet)\u001b[0m [2023-08-22 12:34:32,394 E 1659495 1659513] (raylet) file_system_monitor.cc:111: /tmp/ray/session_2023-08-22_09-44-45_245297_1659393 is over 95% full, available space: 13174837248; capacity: 490444898304. Object creation will fail if spilling is required.\n",
      "\u001b[2m\u001b[33m(raylet)\u001b[0m [2023-08-22 12:34:42,439 E 1659495 1659513] (raylet) file_system_monitor.cc:111: /tmp/ray/session_2023-08-22_09-44-45_245297_1659393 is over 95% full, available space: 13174796288; capacity: 490444898304. Object creation will fail if spilling is required.\n",
      "\u001b[2m\u001b[33m(raylet)\u001b[0m [2023-08-22 12:34:52,487 E 1659495 1659513] (raylet) file_system_monitor.cc:111: /tmp/ray/session_2023-08-22_09-44-45_245297_1659393 is over 95% full, available space: 13174779904; capacity: 490444898304. Object creation will fail if spilling is required.\n",
      "\u001b[2m\u001b[33m(raylet)\u001b[0m [2023-08-22 12:35:02,545 E 1659495 1659513] (raylet) file_system_monitor.cc:111: /tmp/ray/session_2023-08-22_09-44-45_245297_1659393 is over 95% full, available space: 13174738944; capacity: 490444898304. Object creation will fail if spilling is required.\n",
      "\u001b[2m\u001b[33m(raylet)\u001b[0m [2023-08-22 12:35:12,606 E 1659495 1659513] (raylet) file_system_monitor.cc:111: /tmp/ray/session_2023-08-22_09-44-45_245297_1659393 is over 95% full, available space: 13174689792; capacity: 490444898304. Object creation will fail if spilling is required.\n",
      "\u001b[2m\u001b[33m(raylet)\u001b[0m [2023-08-22 12:35:22,635 E 1659495 1659513] (raylet) file_system_monitor.cc:111: /tmp/ray/session_2023-08-22_09-44-45_245297_1659393 is over 95% full, available space: 13174697984; capacity: 490444898304. Object creation will fail if spilling is required.\n",
      "\u001b[2m\u001b[33m(raylet)\u001b[0m [2023-08-22 12:35:32,725 E 1659495 1659513] (raylet) file_system_monitor.cc:111: /tmp/ray/session_2023-08-22_09-44-45_245297_1659393 is over 95% full, available space: 13174665216; capacity: 490444898304. Object creation will fail if spilling is required.\n",
      "2023-08-22 12:35:33,166\tWARNING util.py:315 -- The `on_step_begin` operation took 0.769 s, which may be a performance bottleneck.\n",
      "\u001b[2m\u001b[33m(raylet)\u001b[0m [2023-08-22 12:35:42,820 E 1659495 1659513] (raylet) file_system_monitor.cc:111: /tmp/ray/session_2023-08-22_09-44-45_245297_1659393 is over 95% full, available space: 13174644736; capacity: 490444898304. Object creation will fail if spilling is required.\n",
      "\u001b[2m\u001b[33m(raylet)\u001b[0m [2023-08-22 12:35:52,911 E 1659495 1659513] (raylet) file_system_monitor.cc:111: /tmp/ray/session_2023-08-22_09-44-45_245297_1659393 is over 95% full, available space: 13174624256; capacity: 490444898304. Object creation will fail if spilling is required.\n"
     ]
    },
    {
     "name": "stdout",
     "output_type": "stream",
     "text": [
      "\u001b[2m\u001b[36m(func pid=3032835)\u001b[0m [3,  2000] loss: 0.567\n",
      "\u001b[2m\u001b[36m(func pid=2836432)\u001b[0m [9,  2000] loss: 0.432\n"
     ]
    },
    {
     "name": "stderr",
     "output_type": "stream",
     "text": [
      "\u001b[2m\u001b[33m(raylet)\u001b[0m [2023-08-22 12:36:02,954 E 1659495 1659513] (raylet) file_system_monitor.cc:111: /tmp/ray/session_2023-08-22_09-44-45_245297_1659393 is over 95% full, available space: 13174579200; capacity: 490444898304. Object creation will fail if spilling is required.\n",
      "2023-08-22 12:36:04,553\tWARNING util.py:315 -- The `on_step_begin` operation took 0.772 s, which may be a performance bottleneck.\n",
      "\u001b[2m\u001b[33m(raylet)\u001b[0m [2023-08-22 12:36:13,044 E 1659495 1659513] (raylet) file_system_monitor.cc:111: /tmp/ray/session_2023-08-22_09-44-45_245297_1659393 is over 95% full, available space: 13174542336; capacity: 490444898304. Object creation will fail if spilling is required.\n",
      "\u001b[2m\u001b[33m(raylet)\u001b[0m [2023-08-22 12:36:23,082 E 1659495 1659513] (raylet) file_system_monitor.cc:111: /tmp/ray/session_2023-08-22_09-44-45_245297_1659393 is over 95% full, available space: 13174530048; capacity: 490444898304. Object creation will fail if spilling is required.\n",
      "\u001b[2m\u001b[33m(raylet)\u001b[0m [2023-08-22 12:36:33,100 E 1659495 1659513] (raylet) file_system_monitor.cc:111: /tmp/ray/session_2023-08-22_09-44-45_245297_1659393 is over 95% full, available space: 13174497280; capacity: 490444898304. Object creation will fail if spilling is required.\n",
      "\u001b[2m\u001b[33m(raylet)\u001b[0m [2023-08-22 12:36:43,127 E 1659495 1659513] (raylet) file_system_monitor.cc:111: /tmp/ray/session_2023-08-22_09-44-45_245297_1659393 is over 95% full, available space: 13174497280; capacity: 490444898304. Object creation will fail if spilling is required.\n",
      "\u001b[2m\u001b[33m(raylet)\u001b[0m [2023-08-22 12:36:53,208 E 1659495 1659513] (raylet) file_system_monitor.cc:111: /tmp/ray/session_2023-08-22_09-44-45_245297_1659393 is over 95% full, available space: 13174456320; capacity: 490444898304. Object creation will fail if spilling is required.\n",
      "\u001b[2m\u001b[33m(raylet)\u001b[0m [2023-08-22 12:37:03,278 E 1659495 1659513] (raylet) file_system_monitor.cc:111: /tmp/ray/session_2023-08-22_09-44-45_245297_1659393 is over 95% full, available space: 13174427648; capacity: 490444898304. Object creation will fail if spilling is required.\n",
      "\u001b[2m\u001b[33m(raylet)\u001b[0m [2023-08-22 12:37:13,366 E 1659495 1659513] (raylet) file_system_monitor.cc:111: /tmp/ray/session_2023-08-22_09-44-45_245297_1659393 is over 95% full, available space: 13174386688; capacity: 490444898304. Object creation will fail if spilling is required.\n",
      "\u001b[2m\u001b[33m(raylet)\u001b[0m [2023-08-22 12:37:23,416 E 1659495 1659513] (raylet) file_system_monitor.cc:111: /tmp/ray/session_2023-08-22_09-44-45_245297_1659393 is over 95% full, available space: 13174370304; capacity: 490444898304. Object creation will fail if spilling is required.\n",
      "\u001b[2m\u001b[33m(raylet)\u001b[0m [2023-08-22 12:37:33,495 E 1659495 1659513] (raylet) file_system_monitor.cc:111: /tmp/ray/session_2023-08-22_09-44-45_245297_1659393 is over 95% full, available space: 13174349824; capacity: 490444898304. Object creation will fail if spilling is required.\n",
      "\u001b[2m\u001b[33m(raylet)\u001b[0m [2023-08-22 12:37:43,547 E 1659495 1659513] (raylet) file_system_monitor.cc:111: /tmp/ray/session_2023-08-22_09-44-45_245297_1659393 is over 95% full, available space: 13174317056; capacity: 490444898304. Object creation will fail if spilling is required.\n",
      "\u001b[2m\u001b[33m(raylet)\u001b[0m [2023-08-22 12:37:53,636 E 1659495 1659513] (raylet) file_system_monitor.cc:111: /tmp/ray/session_2023-08-22_09-44-45_245297_1659393 is over 95% full, available space: 13174312960; capacity: 490444898304. Object creation will fail if spilling is required.\n"
     ]
    },
    {
     "name": "stdout",
     "output_type": "stream",
     "text": [
      "\u001b[2m\u001b[36m(func pid=3032835)\u001b[0m [4,  2000] loss: 0.524\n"
     ]
    },
    {
     "name": "stderr",
     "output_type": "stream",
     "text": [
      "\u001b[2m\u001b[33m(raylet)\u001b[0m [2023-08-22 12:38:03,705 E 1659495 1659513] (raylet) file_system_monitor.cc:111: /tmp/ray/session_2023-08-22_09-44-45_245297_1659393 is over 95% full, available space: 13174263808; capacity: 490444898304. Object creation will fail if spilling is required.\n",
      "\u001b[2m\u001b[33m(raylet)\u001b[0m [2023-08-22 12:38:13,755 E 1659495 1659513] (raylet) file_system_monitor.cc:111: /tmp/ray/session_2023-08-22_09-44-45_245297_1659393 is over 95% full, available space: 13174218752; capacity: 490444898304. Object creation will fail if spilling is required.\n",
      "2023-08-22 12:38:18,542\tWARNING util.py:315 -- The `on_step_begin` operation took 1.267 s, which may be a performance bottleneck.\n"
     ]
    },
    {
     "name": "stdout",
     "output_type": "stream",
     "text": [
      "\u001b[2m\u001b[36m(func pid=2836432)\u001b[0m [10,  2000] loss: 0.420\n"
     ]
    },
    {
     "name": "stderr",
     "output_type": "stream",
     "text": [
      "\u001b[2m\u001b[33m(raylet)\u001b[0m [2023-08-22 12:38:23,820 E 1659495 1659513] (raylet) file_system_monitor.cc:111: /tmp/ray/session_2023-08-22_09-44-45_245297_1659393 is over 95% full, available space: 13174202368; capacity: 490444898304. Object creation will fail if spilling is required.\n",
      "\u001b[2m\u001b[33m(raylet)\u001b[0m [2023-08-22 12:38:33,847 E 1659495 1659513] (raylet) file_system_monitor.cc:111: /tmp/ray/session_2023-08-22_09-44-45_245297_1659393 is over 95% full, available space: 13174181888; capacity: 490444898304. Object creation will fail if spilling is required.\n",
      "\u001b[2m\u001b[33m(raylet)\u001b[0m [2023-08-22 12:38:43,929 E 1659495 1659513] (raylet) file_system_monitor.cc:111: /tmp/ray/session_2023-08-22_09-44-45_245297_1659393 is over 95% full, available space: 13174169600; capacity: 490444898304. Object creation will fail if spilling is required.\n",
      "\u001b[2m\u001b[33m(raylet)\u001b[0m [2023-08-22 12:38:53,935 E 1659495 1659513] (raylet) file_system_monitor.cc:111: /tmp/ray/session_2023-08-22_09-44-45_245297_1659393 is over 95% full, available space: 13174153216; capacity: 490444898304. Object creation will fail if spilling is required.\n",
      "\u001b[2m\u001b[33m(raylet)\u001b[0m [2023-08-22 12:39:04,017 E 1659495 1659513] (raylet) file_system_monitor.cc:111: /tmp/ray/session_2023-08-22_09-44-45_245297_1659393 is over 95% full, available space: 13174112256; capacity: 490444898304. Object creation will fail if spilling is required.\n",
      "\u001b[2m\u001b[33m(raylet)\u001b[0m [2023-08-22 12:39:14,037 E 1659495 1659513] (raylet) file_system_monitor.cc:111: /tmp/ray/session_2023-08-22_09-44-45_245297_1659393 is over 95% full, available space: 13174067200; capacity: 490444898304. Object creation will fail if spilling is required.\n",
      "2023-08-22 12:39:20,525\tWARNING util.py:315 -- The `on_step_begin` operation took 0.915 s, which may be a performance bottleneck.\n",
      "\u001b[2m\u001b[33m(raylet)\u001b[0m [2023-08-22 12:39:24,148 E 1659495 1659513] (raylet) file_system_monitor.cc:111: /tmp/ray/session_2023-08-22_09-44-45_245297_1659393 is over 95% full, available space: 13174042624; capacity: 490444898304. Object creation will fail if spilling is required.\n",
      "\u001b[2m\u001b[33m(raylet)\u001b[0m [2023-08-22 12:39:34,197 E 1659495 1659513] (raylet) file_system_monitor.cc:111: /tmp/ray/session_2023-08-22_09-44-45_245297_1659393 is over 95% full, available space: 13174026240; capacity: 490444898304. Object creation will fail if spilling is required.\n",
      "\u001b[2m\u001b[33m(raylet)\u001b[0m [2023-08-22 12:39:44,270 E 1659495 1659513] (raylet) file_system_monitor.cc:111: /tmp/ray/session_2023-08-22_09-44-45_245297_1659393 is over 95% full, available space: 13174022144; capacity: 490444898304. Object creation will fail if spilling is required.\n",
      "2023-08-22 12:39:51,630\tWARNING util.py:315 -- The `on_step_begin` operation took 0.712 s, which may be a performance bottleneck.\n",
      "\u001b[2m\u001b[33m(raylet)\u001b[0m [2023-08-22 12:39:54,308 E 1659495 1659513] (raylet) file_system_monitor.cc:111: /tmp/ray/session_2023-08-22_09-44-45_245297_1659393 is over 95% full, available space: 13174001664; capacity: 490444898304. Object creation will fail if spilling is required.\n"
     ]
    },
    {
     "name": "stdout",
     "output_type": "stream",
     "text": [
      "\u001b[2m\u001b[36m(func pid=3032835)\u001b[0m [5,  2000] loss: 0.487\n"
     ]
    },
    {
     "name": "stderr",
     "output_type": "stream",
     "text": [
      "\u001b[2m\u001b[33m(raylet)\u001b[0m [2023-08-22 12:40:04,375 E 1659495 1659513] (raylet) file_system_monitor.cc:111: /tmp/ray/session_2023-08-22_09-44-45_245297_1659393 is over 95% full, available space: 13173936128; capacity: 490444898304. Object creation will fail if spilling is required.\n",
      "\u001b[2m\u001b[33m(raylet)\u001b[0m [2023-08-22 12:40:14,428 E 1659495 1659513] (raylet) file_system_monitor.cc:111: /tmp/ray/session_2023-08-22_09-44-45_245297_1659393 is over 95% full, available space: 13173899264; capacity: 490444898304. Object creation will fail if spilling is required.\n",
      "2023-08-22 12:40:23,172\tWARNING util.py:315 -- The `on_step_begin` operation took 0.713 s, which may be a performance bottleneck.\n",
      "\u001b[2m\u001b[33m(raylet)\u001b[0m [2023-08-22 12:40:24,527 E 1659495 1659513] (raylet) file_system_monitor.cc:111: /tmp/ray/session_2023-08-22_09-44-45_245297_1659393 is over 95% full, available space: 13173874688; capacity: 490444898304. Object creation will fail if spilling is required.\n",
      "\u001b[2m\u001b[33m(raylet)\u001b[0m [2023-08-22 12:40:34,584 E 1659495 1659513] (raylet) file_system_monitor.cc:111: /tmp/ray/session_2023-08-22_09-44-45_245297_1659393 is over 95% full, available space: 13173878784; capacity: 490444898304. Object creation will fail if spilling is required.\n"
     ]
    },
    {
     "name": "stdout",
     "output_type": "stream",
     "text": [
      "\u001b[2m\u001b[36m(func pid=2836432)\u001b[0m [11,  2000] loss: 0.406\n"
     ]
    },
    {
     "name": "stderr",
     "output_type": "stream",
     "text": [
      "2023-08-22 12:40:44,329\tWARNING util.py:315 -- The `on_step_begin` operation took 0.676 s, which may be a performance bottleneck.\n",
      "\u001b[2m\u001b[33m(raylet)\u001b[0m [2023-08-22 12:40:44,660 E 1659495 1659513] (raylet) file_system_monitor.cc:111: /tmp/ray/session_2023-08-22_09-44-45_245297_1659393 is over 95% full, available space: 13173841920; capacity: 490444898304. Object creation will fail if spilling is required.\n",
      "\u001b[2m\u001b[33m(raylet)\u001b[0m [2023-08-22 12:40:54,661 E 1659495 1659513] (raylet) file_system_monitor.cc:111: /tmp/ray/session_2023-08-22_09-44-45_245297_1659393 is over 95% full, available space: 13173817344; capacity: 490444898304. Object creation will fail if spilling is required.\n",
      "\u001b[2m\u001b[33m(raylet)\u001b[0m [2023-08-22 12:41:04,663 E 1659495 1659513] (raylet) file_system_monitor.cc:111: /tmp/ray/session_2023-08-22_09-44-45_245297_1659393 is over 95% full, available space: 13173796864; capacity: 490444898304. Object creation will fail if spilling is required.\n",
      "\u001b[2m\u001b[33m(raylet)\u001b[0m [2023-08-22 12:41:14,761 E 1659495 1659513] (raylet) file_system_monitor.cc:111: /tmp/ray/session_2023-08-22_09-44-45_245297_1659393 is over 95% full, available space: 13173755904; capacity: 490444898304. Object creation will fail if spilling is required.\n",
      "2023-08-22 12:41:16,189\tWARNING util.py:315 -- The `on_step_begin` operation took 1.091 s, which may be a performance bottleneck.\n",
      "\u001b[2m\u001b[33m(raylet)\u001b[0m [2023-08-22 12:41:24,814 E 1659495 1659513] (raylet) file_system_monitor.cc:111: /tmp/ray/session_2023-08-22_09-44-45_245297_1659393 is over 95% full, available space: 13173735424; capacity: 490444898304. Object creation will fail if spilling is required.\n",
      "\u001b[2m\u001b[33m(raylet)\u001b[0m [2023-08-22 12:41:34,875 E 1659495 1659513] (raylet) file_system_monitor.cc:111: /tmp/ray/session_2023-08-22_09-44-45_245297_1659393 is over 95% full, available space: 13173731328; capacity: 490444898304. Object creation will fail if spilling is required.\n",
      "\u001b[2m\u001b[33m(raylet)\u001b[0m [2023-08-22 12:41:44,890 E 1659495 1659513] (raylet) file_system_monitor.cc:111: /tmp/ray/session_2023-08-22_09-44-45_245297_1659393 is over 95% full, available space: 13173694464; capacity: 490444898304. Object creation will fail if spilling is required.\n",
      "\u001b[2m\u001b[33m(raylet)\u001b[0m [2023-08-22 12:41:54,958 E 1659495 1659513] (raylet) file_system_monitor.cc:111: /tmp/ray/session_2023-08-22_09-44-45_245297_1659393 is over 95% full, available space: 13173678080; capacity: 490444898304. Object creation will fail if spilling is required.\n"
     ]
    },
    {
     "name": "stdout",
     "output_type": "stream",
     "text": [
      "\u001b[2m\u001b[36m(func pid=3032835)\u001b[0m [6,  2000] loss: 0.461\n"
     ]
    },
    {
     "name": "stderr",
     "output_type": "stream",
     "text": [
      "\u001b[2m\u001b[33m(raylet)\u001b[0m [2023-08-22 12:42:04,977 E 1659495 1659513] (raylet) file_system_monitor.cc:111: /tmp/ray/session_2023-08-22_09-44-45_245297_1659393 is over 95% full, available space: 13173628928; capacity: 490444898304. Object creation will fail if spilling is required.\n",
      "\u001b[2m\u001b[33m(raylet)\u001b[0m [2023-08-22 12:42:15,003 E 1659495 1659513] (raylet) file_system_monitor.cc:111: /tmp/ray/session_2023-08-22_09-44-45_245297_1659393 is over 95% full, available space: 13173575680; capacity: 490444898304. Object creation will fail if spilling is required.\n",
      "\u001b[2m\u001b[33m(raylet)\u001b[0m [2023-08-22 12:42:25,023 E 1659495 1659513] (raylet) file_system_monitor.cc:111: /tmp/ray/session_2023-08-22_09-44-45_245297_1659393 is over 95% full, available space: 13173559296; capacity: 490444898304. Object creation will fail if spilling is required.\n",
      "2023-08-22 12:42:29,071\tWARNING util.py:315 -- The `on_step_begin` operation took 1.148 s, which may be a performance bottleneck.\n",
      "\u001b[2m\u001b[33m(raylet)\u001b[0m [2023-08-22 12:42:35,051 E 1659495 1659513] (raylet) file_system_monitor.cc:111: /tmp/ray/session_2023-08-22_09-44-45_245297_1659393 is over 95% full, available space: 13173547008; capacity: 490444898304. Object creation will fail if spilling is required.\n",
      "2023-08-22 12:42:39,652\tWARNING util.py:315 -- The `on_step_begin` operation took 0.575 s, which may be a performance bottleneck.\n",
      "\u001b[2m\u001b[33m(raylet)\u001b[0m [2023-08-22 12:42:45,239 E 1659495 1659513] (raylet) file_system_monitor.cc:111: /tmp/ray/session_2023-08-22_09-44-45_245297_1659393 is over 95% full, available space: 13173518336; capacity: 490444898304. Object creation will fail if spilling is required.\n",
      "\u001b[2m\u001b[33m(raylet)\u001b[0m [2023-08-22 12:42:55,301 E 1659495 1659513] (raylet) file_system_monitor.cc:111: /tmp/ray/session_2023-08-22_09-44-45_245297_1659393 is over 95% full, available space: 13173497856; capacity: 490444898304. Object creation will fail if spilling is required.\n"
     ]
    },
    {
     "name": "stdout",
     "output_type": "stream",
     "text": [
      "\u001b[2m\u001b[36m(func pid=2836432)\u001b[0m [12,  2000] loss: 0.394\n",
      "Trial 4609f_00014: Chosen l1 = 64\n"
     ]
    },
    {
     "name": "stderr",
     "output_type": "stream",
     "text": [
      "\u001b[2m\u001b[33m(raylet)\u001b[0m [2023-08-22 12:43:05,380 E 1659495 1659513] (raylet) file_system_monitor.cc:111: /tmp/ray/session_2023-08-22_09-44-45_245297_1659393 is over 95% full, available space: 13173485568; capacity: 490444898304. Object creation will fail if spilling is required.\n",
      "\u001b[2m\u001b[33m(raylet)\u001b[0m [2023-08-22 12:43:15,499 E 1659495 1659513] (raylet) file_system_monitor.cc:111: /tmp/ray/session_2023-08-22_09-44-45_245297_1659393 is over 95% full, available space: 13173448704; capacity: 490444898304. Object creation will fail if spilling is required.\n",
      "2023-08-22 12:43:16,930\tWARNING util.py:315 -- The `on_step_begin` operation took 6.791 s, which may be a performance bottleneck.\n",
      "\u001b[2m\u001b[33m(raylet)\u001b[0m [2023-08-22 12:43:25,602 E 1659495 1659513] (raylet) file_system_monitor.cc:111: /tmp/ray/session_2023-08-22_09-44-45_245297_1659393 is over 95% full, available space: 13173411840; capacity: 490444898304. Object creation will fail if spilling is required.\n",
      "2023-08-22 12:43:28,331\tWARNING util.py:315 -- The `on_step_begin` operation took 1.360 s, which may be a performance bottleneck.\n",
      "\u001b[2m\u001b[33m(raylet)\u001b[0m [2023-08-22 12:43:35,674 E 1659495 1659513] (raylet) file_system_monitor.cc:111: /tmp/ray/session_2023-08-22_09-44-45_245297_1659393 is over 95% full, available space: 13173370880; capacity: 490444898304. Object creation will fail if spilling is required.\n",
      "2023-08-22 12:43:39,466\tWARNING util.py:315 -- The `on_step_begin` operation took 1.044 s, which may be a performance bottleneck.\n",
      "\u001b[2m\u001b[33m(raylet)\u001b[0m [2023-08-22 12:43:45,764 E 1659495 1659513] (raylet) file_system_monitor.cc:111: /tmp/ray/session_2023-08-22_09-44-45_245297_1659393 is over 95% full, available space: 13173362688; capacity: 490444898304. Object creation will fail if spilling is required.\n",
      "\u001b[2m\u001b[33m(raylet)\u001b[0m [2023-08-22 12:43:55,859 E 1659495 1659513] (raylet) file_system_monitor.cc:111: /tmp/ray/session_2023-08-22_09-44-45_245297_1659393 is over 95% full, available space: 13173342208; capacity: 490444898304. Object creation will fail if spilling is required.\n"
     ]
    },
    {
     "name": "stdout",
     "output_type": "stream",
     "text": [
      "\u001b[2m\u001b[36m(func pid=3032835)\u001b[0m [7,  2000] loss: 0.435\n"
     ]
    },
    {
     "name": "stderr",
     "output_type": "stream",
     "text": [
      "\u001b[2m\u001b[33m(raylet)\u001b[0m [2023-08-22 12:44:05,938 E 1659495 1659513] (raylet) file_system_monitor.cc:111: /tmp/ray/session_2023-08-22_09-44-45_245297_1659393 is over 95% full, available space: 13173272576; capacity: 490444898304. Object creation will fail if spilling is required.\n",
      "\u001b[2m\u001b[33m(raylet)\u001b[0m [2023-08-22 12:44:16,009 E 1659495 1659513] (raylet) file_system_monitor.cc:111: /tmp/ray/session_2023-08-22_09-44-45_245297_1659393 is over 95% full, available space: 13173227520; capacity: 490444898304. Object creation will fail if spilling is required.\n",
      "\u001b[2m\u001b[33m(raylet)\u001b[0m [2023-08-22 12:44:26,041 E 1659495 1659513] (raylet) file_system_monitor.cc:111: /tmp/ray/session_2023-08-22_09-44-45_245297_1659393 is over 95% full, available space: 13173202944; capacity: 490444898304. Object creation will fail if spilling is required.\n",
      "\u001b[2m\u001b[33m(raylet)\u001b[0m [2023-08-22 12:44:36,152 E 1659495 1659513] (raylet) file_system_monitor.cc:111: /tmp/ray/session_2023-08-22_09-44-45_245297_1659393 is over 95% full, available space: 13173198848; capacity: 490444898304. Object creation will fail if spilling is required.\n",
      "\u001b[2m\u001b[33m(raylet)\u001b[0m [2023-08-22 12:44:46,154 E 1659495 1659513] (raylet) file_system_monitor.cc:111: /tmp/ray/session_2023-08-22_09-44-45_245297_1659393 is over 95% full, available space: 13173170176; capacity: 490444898304. Object creation will fail if spilling is required.\n",
      "\u001b[2m\u001b[33m(raylet)\u001b[0m [2023-08-22 12:44:56,227 E 1659495 1659513] (raylet) file_system_monitor.cc:111: /tmp/ray/session_2023-08-22_09-44-45_245297_1659393 is over 95% full, available space: 13173170176; capacity: 490444898304. Object creation will fail if spilling is required.\n",
      "\u001b[2m\u001b[33m(raylet)\u001b[0m [2023-08-22 12:45:06,327 E 1659495 1659513] (raylet) file_system_monitor.cc:111: /tmp/ray/session_2023-08-22_09-44-45_245297_1659393 is over 95% full, available space: 13173133312; capacity: 490444898304. Object creation will fail if spilling is required.\n",
      "2023-08-22 12:45:12,820\tWARNING util.py:315 -- The `on_step_begin` operation took 0.952 s, which may be a performance bottleneck.\n",
      "\u001b[2m\u001b[33m(raylet)\u001b[0m [2023-08-22 12:45:16,396 E 1659495 1659513] (raylet) file_system_monitor.cc:111: /tmp/ray/session_2023-08-22_09-44-45_245297_1659393 is over 95% full, available space: 13173084160; capacity: 490444898304. Object creation will fail if spilling is required.\n"
     ]
    },
    {
     "name": "stdout",
     "output_type": "stream",
     "text": [
      "\u001b[2m\u001b[36m(func pid=2836432)\u001b[0m [13,  2000] loss: 0.384\n"
     ]
    },
    {
     "name": "stderr",
     "output_type": "stream",
     "text": [
      "\u001b[2m\u001b[33m(raylet)\u001b[0m [2023-08-22 12:45:26,451 E 1659495 1659513] (raylet) file_system_monitor.cc:111: /tmp/ray/session_2023-08-22_09-44-45_245297_1659393 is over 95% full, available space: 13173059584; capacity: 490444898304. Object creation will fail if spilling is required.\n",
      "\u001b[2m\u001b[33m(raylet)\u001b[0m [2023-08-22 12:45:36,533 E 1659495 1659513] (raylet) file_system_monitor.cc:111: /tmp/ray/session_2023-08-22_09-44-45_245297_1659393 is over 95% full, available space: 13173051392; capacity: 490444898304. Object creation will fail if spilling is required.\n",
      "\u001b[2m\u001b[33m(raylet)\u001b[0m [2023-08-22 12:45:46,576 E 1659495 1659513] (raylet) file_system_monitor.cc:111: /tmp/ray/session_2023-08-22_09-44-45_245297_1659393 is over 95% full, available space: 13173035008; capacity: 490444898304. Object creation will fail if spilling is required.\n",
      "\u001b[2m\u001b[33m(raylet)\u001b[0m [2023-08-22 12:45:56,643 E 1659495 1659513] (raylet) file_system_monitor.cc:111: /tmp/ray/session_2023-08-22_09-44-45_245297_1659393 is over 95% full, available space: 13173010432; capacity: 490444898304. Object creation will fail if spilling is required.\n",
      "\u001b[2m\u001b[33m(raylet)\u001b[0m [2023-08-22 12:46:06,703 E 1659495 1659513] (raylet) file_system_monitor.cc:111: /tmp/ray/session_2023-08-22_09-44-45_245297_1659393 is over 95% full, available space: 13172961280; capacity: 490444898304. Object creation will fail if spilling is required.\n",
      "\u001b[2m\u001b[33m(raylet)\u001b[0m [2023-08-22 12:46:16,733 E 1659495 1659513] (raylet) file_system_monitor.cc:111: /tmp/ray/session_2023-08-22_09-44-45_245297_1659393 is over 95% full, available space: 13172903936; capacity: 490444898304. Object creation will fail if spilling is required.\n",
      "\u001b[2m\u001b[33m(raylet)\u001b[0m [2023-08-22 12:46:26,776 E 1659495 1659513] (raylet) file_system_monitor.cc:111: /tmp/ray/session_2023-08-22_09-44-45_245297_1659393 is over 95% full, available space: 13172883456; capacity: 490444898304. Object creation will fail if spilling is required.\n"
     ]
    },
    {
     "name": "stdout",
     "output_type": "stream",
     "text": [
      "\u001b[2m\u001b[36m(func pid=3032835)\u001b[0m [8,  2000] loss: 0.418\n"
     ]
    },
    {
     "name": "stderr",
     "output_type": "stream",
     "text": [
      "2023-08-22 12:46:35,787\tWARNING util.py:315 -- The `on_step_begin` operation took 0.763 s, which may be a performance bottleneck.\n",
      "\u001b[2m\u001b[33m(raylet)\u001b[0m [2023-08-22 12:46:36,842 E 1659495 1659513] (raylet) file_system_monitor.cc:111: /tmp/ray/session_2023-08-22_09-44-45_245297_1659393 is over 95% full, available space: 13172858880; capacity: 490444898304. Object creation will fail if spilling is required.\n",
      "2023-08-22 12:46:46,534\tWARNING util.py:315 -- The `on_step_begin` operation took 0.696 s, which may be a performance bottleneck.\n",
      "\u001b[2m\u001b[33m(raylet)\u001b[0m [2023-08-22 12:46:46,915 E 1659495 1659513] (raylet) file_system_monitor.cc:111: /tmp/ray/session_2023-08-22_09-44-45_245297_1659393 is over 95% full, available space: 13172850688; capacity: 490444898304. Object creation will fail if spilling is required.\n",
      "\u001b[2m\u001b[33m(raylet)\u001b[0m [2023-08-22 12:46:56,937 E 1659495 1659513] (raylet) file_system_monitor.cc:111: /tmp/ray/session_2023-08-22_09-44-45_245297_1659393 is over 95% full, available space: 13172826112; capacity: 490444898304. Object creation will fail if spilling is required.\n",
      "\u001b[2m\u001b[33m(raylet)\u001b[0m [2023-08-22 12:47:06,951 E 1659495 1659513] (raylet) file_system_monitor.cc:111: /tmp/ray/session_2023-08-22_09-44-45_245297_1659393 is over 95% full, available space: 13172809728; capacity: 490444898304. Object creation will fail if spilling is required.\n",
      "2023-08-22 12:47:07,524\tWARNING util.py:315 -- The `on_step_begin` operation took 0.747 s, which may be a performance bottleneck.\n",
      "\u001b[2m\u001b[33m(raylet)\u001b[0m [2023-08-22 12:47:16,956 E 1659495 1659513] (raylet) file_system_monitor.cc:111: /tmp/ray/session_2023-08-22_09-44-45_245297_1659393 is over 95% full, available space: 13172764672; capacity: 490444898304. Object creation will fail if spilling is required.\n",
      "2023-08-22 12:47:18,124\tWARNING util.py:315 -- The `on_step_begin` operation took 0.554 s, which may be a performance bottleneck.\n",
      "\u001b[2m\u001b[33m(raylet)\u001b[0m [2023-08-22 12:47:27,056 E 1659495 1659513] (raylet) file_system_monitor.cc:111: /tmp/ray/session_2023-08-22_09-44-45_245297_1659393 is over 95% full, available space: 13172740096; capacity: 490444898304. Object creation will fail if spilling is required.\n",
      "\u001b[2m\u001b[33m(raylet)\u001b[0m [2023-08-22 12:47:37,146 E 1659495 1659513] (raylet) file_system_monitor.cc:111: /tmp/ray/session_2023-08-22_09-44-45_245297_1659393 is over 95% full, available space: 13172707328; capacity: 490444898304. Object creation will fail if spilling is required.\n",
      "2023-08-22 12:47:38,886\tWARNING util.py:315 -- The `on_step_begin` operation took 0.663 s, which may be a performance bottleneck.\n",
      "\u001b[2m\u001b[33m(raylet)\u001b[0m [2023-08-22 12:47:47,174 E 1659495 1659513] (raylet) file_system_monitor.cc:111: /tmp/ray/session_2023-08-22_09-44-45_245297_1659393 is over 95% full, available space: 13172703232; capacity: 490444898304. Object creation will fail if spilling is required.\n",
      "2023-08-22 12:47:50,123\tWARNING util.py:315 -- The `on_step_begin` operation took 1.168 s, which may be a performance bottleneck.\n",
      "\u001b[2m\u001b[33m(raylet)\u001b[0m [2023-08-22 12:47:57,244 E 1659495 1659513] (raylet) file_system_monitor.cc:111: /tmp/ray/session_2023-08-22_09-44-45_245297_1659393 is over 95% full, available space: 13172682752; capacity: 490444898304. Object creation will fail if spilling is required.\n",
      "\u001b[2m\u001b[33m(raylet)\u001b[0m [2023-08-22 12:48:07,302 E 1659495 1659513] (raylet) file_system_monitor.cc:111: /tmp/ray/session_2023-08-22_09-44-45_245297_1659393 is over 95% full, available space: 13172637696; capacity: 490444898304. Object creation will fail if spilling is required.\n"
     ]
    },
    {
     "name": "stdout",
     "output_type": "stream",
     "text": [
      "\u001b[2m\u001b[36m(func pid=2836432)\u001b[0m [14,  2000] loss: 0.379\n"
     ]
    },
    {
     "name": "stderr",
     "output_type": "stream",
     "text": [
      "\u001b[2m\u001b[33m(raylet)\u001b[0m [2023-08-22 12:48:17,355 E 1659495 1659513] (raylet) file_system_monitor.cc:111: /tmp/ray/session_2023-08-22_09-44-45_245297_1659393 is over 95% full, available space: 13172576256; capacity: 490444898304. Object creation will fail if spilling is required.\n",
      "2023-08-22 12:48:21,827\tWARNING util.py:315 -- The `on_step_begin` operation took 0.882 s, which may be a performance bottleneck.\n",
      "\u001b[2m\u001b[33m(raylet)\u001b[0m [2023-08-22 12:48:27,406 E 1659495 1659513] (raylet) file_system_monitor.cc:111: /tmp/ray/session_2023-08-22_09-44-45_245297_1659393 is over 95% full, available space: 13172551680; capacity: 490444898304. Object creation will fail if spilling is required.\n",
      "\u001b[2m\u001b[33m(raylet)\u001b[0m [2023-08-22 12:48:37,416 E 1659495 1659513] (raylet) file_system_monitor.cc:111: /tmp/ray/session_2023-08-22_09-44-45_245297_1659393 is over 95% full, available space: 13172527104; capacity: 490444898304. Object creation will fail if spilling is required.\n",
      "2023-08-22 12:48:42,687\tWARNING util.py:315 -- The `on_step_begin` operation took 0.600 s, which may be a performance bottleneck.\n",
      "\u001b[2m\u001b[33m(raylet)\u001b[0m [2023-08-22 12:48:47,449 E 1659495 1659513] (raylet) file_system_monitor.cc:111: /tmp/ray/session_2023-08-22_09-44-45_245297_1659393 is over 95% full, available space: 13172535296; capacity: 490444898304. Object creation will fail if spilling is required.\n"
     ]
    },
    {
     "name": "stdout",
     "output_type": "stream",
     "text": [
      "\u001b[2m\u001b[36m(func pid=3032835)\u001b[0m [9,  2000] loss: 0.407\n"
     ]
    },
    {
     "name": "stderr",
     "output_type": "stream",
     "text": [
      "2023-08-22 12:48:53,701\tWARNING util.py:315 -- The `on_step_begin` operation took 0.918 s, which may be a performance bottleneck.\n",
      "\u001b[2m\u001b[33m(raylet)\u001b[0m [2023-08-22 12:48:57,450 E 1659495 1659513] (raylet) file_system_monitor.cc:111: /tmp/ray/session_2023-08-22_09-44-45_245297_1659393 is over 95% full, available space: 13172498432; capacity: 490444898304. Object creation will fail if spilling is required.\n",
      "2023-08-22 12:49:04,263\tWARNING util.py:315 -- The `on_step_begin` operation took 0.509 s, which may be a performance bottleneck.\n",
      "\u001b[2m\u001b[33m(raylet)\u001b[0m [2023-08-22 12:49:07,543 E 1659495 1659513] (raylet) file_system_monitor.cc:111: /tmp/ray/session_2023-08-22_09-44-45_245297_1659393 is over 95% full, available space: 13172502528; capacity: 490444898304. Object creation will fail if spilling is required.\n",
      "2023-08-22 12:49:15,026\tWARNING util.py:315 -- The `on_step_begin` operation took 0.676 s, which may be a performance bottleneck.\n",
      "\u001b[2m\u001b[33m(raylet)\u001b[0m [2023-08-22 12:49:17,622 E 1659495 1659513] (raylet) file_system_monitor.cc:111: /tmp/ray/session_2023-08-22_09-44-45_245297_1659393 is over 95% full, available space: 13172449280; capacity: 490444898304. Object creation will fail if spilling is required.\n",
      "2023-08-22 12:49:25,722\tWARNING util.py:315 -- The `on_step_begin` operation took 0.659 s, which may be a performance bottleneck.\n",
      "\u001b[2m\u001b[33m(raylet)\u001b[0m [2023-08-22 12:49:27,644 E 1659495 1659513] (raylet) file_system_monitor.cc:111: /tmp/ray/session_2023-08-22_09-44-45_245297_1659393 is over 95% full, available space: 13172404224; capacity: 490444898304. Object creation will fail if spilling is required.\n",
      "2023-08-22 12:49:36,532\tWARNING util.py:315 -- The `on_step_begin` operation took 0.770 s, which may be a performance bottleneck.\n",
      "\u001b[2m\u001b[33m(raylet)\u001b[0m [2023-08-22 12:49:37,723 E 1659495 1659513] (raylet) file_system_monitor.cc:111: /tmp/ray/session_2023-08-22_09-44-45_245297_1659393 is over 95% full, available space: 13172371456; capacity: 490444898304. Object creation will fail if spilling is required.\n",
      "\u001b[2m\u001b[33m(raylet)\u001b[0m [2023-08-22 12:49:47,743 E 1659495 1659513] (raylet) file_system_monitor.cc:111: /tmp/ray/session_2023-08-22_09-44-45_245297_1659393 is over 95% full, available space: 13172387840; capacity: 490444898304. Object creation will fail if spilling is required.\n",
      "\u001b[2m\u001b[33m(raylet)\u001b[0m [2023-08-22 12:49:57,835 E 1659495 1659513] (raylet) file_system_monitor.cc:111: /tmp/ray/session_2023-08-22_09-44-45_245297_1659393 is over 95% full, available space: 13172355072; capacity: 490444898304. Object creation will fail if spilling is required.\n",
      "\u001b[2m\u001b[33m(raylet)\u001b[0m [2023-08-22 12:50:07,854 E 1659495 1659513] (raylet) file_system_monitor.cc:111: /tmp/ray/session_2023-08-22_09-44-45_245297_1659393 is over 95% full, available space: 13172297728; capacity: 490444898304. Object creation will fail if spilling is required.\n"
     ]
    },
    {
     "name": "stdout",
     "output_type": "stream",
     "text": [
      "Trial 4609f_00015: Chosen l1 = 64\n"
     ]
    },
    {
     "name": "stderr",
     "output_type": "stream",
     "text": [
      "\u001b[2m\u001b[33m(raylet)\u001b[0m [2023-08-22 12:50:17,899 E 1659495 1659513] (raylet) file_system_monitor.cc:111: /tmp/ray/session_2023-08-22_09-44-45_245297_1659393 is over 95% full, available space: 13172252672; capacity: 490444898304. Object creation will fail if spilling is required.\n"
     ]
    },
    {
     "name": "stdout",
     "output_type": "stream",
     "text": [
      "Trial 4609f_00013: Chosen l1 = 64\n"
     ]
    },
    {
     "name": "stderr",
     "output_type": "stream",
     "text": [
      "\u001b[2m\u001b[33m(raylet)\u001b[0m [2023-08-22 12:50:27,966 E 1659495 1659513] (raylet) file_system_monitor.cc:111: /tmp/ray/session_2023-08-22_09-44-45_245297_1659393 is over 95% full, available space: 13172256768; capacity: 490444898304. Object creation will fail if spilling is required.\n"
     ]
    },
    {
     "name": "stdout",
     "output_type": "stream",
     "text": [
      "\u001b[2m\u001b[36m(func pid=2836432)\u001b[0m [15,  2000] loss: 0.368\n"
     ]
    },
    {
     "name": "stderr",
     "output_type": "stream",
     "text": [
      "\u001b[2m\u001b[33m(raylet)\u001b[0m [2023-08-22 12:50:38,036 E 1659495 1659513] (raylet) file_system_monitor.cc:111: /tmp/ray/session_2023-08-22_09-44-45_245297_1659393 is over 95% full, available space: 13172248576; capacity: 490444898304. Object creation will fail if spilling is required.\n"
     ]
    },
    {
     "name": "stdout",
     "output_type": "stream",
     "text": [
      "\u001b[2m\u001b[36m(func pid=3032835)\u001b[0m [10,  2000] loss: 0.388\n"
     ]
    },
    {
     "name": "stderr",
     "output_type": "stream",
     "text": [
      "\u001b[2m\u001b[33m(raylet)\u001b[0m [2023-08-22 12:50:48,063 E 1659495 1659513] (raylet) file_system_monitor.cc:111: /tmp/ray/session_2023-08-22_09-44-45_245297_1659393 is over 95% full, available space: 13172240384; capacity: 490444898304. Object creation will fail if spilling is required.\n",
      "2023-08-22 12:50:48,730\tWARNING util.py:315 -- The `on_step_begin` operation took 0.673 s, which may be a performance bottleneck.\n"
     ]
    },
    {
     "name": "stdout",
     "output_type": "stream",
     "text": [
      "Trial 4609f_00008: Chosen l1 = 64\n"
     ]
    },
    {
     "name": "stderr",
     "output_type": "stream",
     "text": [
      "\u001b[2m\u001b[33m(raylet)\u001b[0m [2023-08-22 12:50:58,148 E 1659495 1659513] (raylet) file_system_monitor.cc:111: /tmp/ray/session_2023-08-22_09-44-45_245297_1659393 is over 95% full, available space: 13172236288; capacity: 490444898304. Object creation will fail if spilling is required.\n",
      "\u001b[2m\u001b[33m(raylet)\u001b[0m [2023-08-22 12:51:08,161 E 1659495 1659513] (raylet) file_system_monitor.cc:111: /tmp/ray/session_2023-08-22_09-44-45_245297_1659393 is over 95% full, available space: 13172199424; capacity: 490444898304. Object creation will fail if spilling is required.\n",
      "\u001b[2m\u001b[33m(raylet)\u001b[0m [2023-08-22 12:51:18,198 E 1659495 1659513] (raylet) file_system_monitor.cc:111: /tmp/ray/session_2023-08-22_09-44-45_245297_1659393 is over 95% full, available space: 13172183040; capacity: 490444898304. Object creation will fail if spilling is required.\n",
      "\u001b[2m\u001b[33m(raylet)\u001b[0m [2023-08-22 12:51:28,231 E 1659495 1659513] (raylet) file_system_monitor.cc:111: /tmp/ray/session_2023-08-22_09-44-45_245297_1659393 is over 95% full, available space: 13172178944; capacity: 490444898304. Object creation will fail if spilling is required.\n",
      "\u001b[2m\u001b[33m(raylet)\u001b[0m [2023-08-22 12:51:38,288 E 1659495 1659513] (raylet) file_system_monitor.cc:111: /tmp/ray/session_2023-08-22_09-44-45_245297_1659393 is over 95% full, available space: 13172162560; capacity: 490444898304. Object creation will fail if spilling is required.\n"
     ]
    },
    {
     "name": "stdout",
     "output_type": "stream",
     "text": [
      "\u001b[2m\u001b[36m(func pid=3032835)\u001b[0m [11,  2000] loss: 0.381\n"
     ]
    },
    {
     "name": "stderr",
     "output_type": "stream",
     "text": [
      "\u001b[2m\u001b[33m(raylet)\u001b[0m [2023-08-22 12:51:48,365 E 1659495 1659513] (raylet) file_system_monitor.cc:111: /tmp/ray/session_2023-08-22_09-44-45_245297_1659393 is over 95% full, available space: 13172162560; capacity: 490444898304. Object creation will fail if spilling is required.\n",
      "\u001b[2m\u001b[33m(raylet)\u001b[0m [2023-08-22 12:51:58,464 E 1659495 1659513] (raylet) file_system_monitor.cc:111: /tmp/ray/session_2023-08-22_09-44-45_245297_1659393 is over 95% full, available space: 13172158464; capacity: 490444898304. Object creation will fail if spilling is required.\n",
      "\u001b[2m\u001b[33m(raylet)\u001b[0m [2023-08-22 12:52:08,541 E 1659495 1659513] (raylet) file_system_monitor.cc:111: /tmp/ray/session_2023-08-22_09-44-45_245297_1659393 is over 95% full, available space: 13172097024; capacity: 490444898304. Object creation will fail if spilling is required.\n",
      "\u001b[2m\u001b[33m(raylet)\u001b[0m [2023-08-22 12:52:18,608 E 1659495 1659513] (raylet) file_system_monitor.cc:111: /tmp/ray/session_2023-08-22_09-44-45_245297_1659393 is over 95% full, available space: 13172076544; capacity: 490444898304. Object creation will fail if spilling is required.\n",
      "\u001b[2m\u001b[33m(raylet)\u001b[0m [2023-08-22 12:52:28,663 E 1659495 1659513] (raylet) file_system_monitor.cc:111: /tmp/ray/session_2023-08-22_09-44-45_245297_1659393 is over 95% full, available space: 13172072448; capacity: 490444898304. Object creation will fail if spilling is required.\n",
      "\u001b[2m\u001b[33m(raylet)\u001b[0m [2023-08-22 12:52:38,716 E 1659495 1659513] (raylet) file_system_monitor.cc:111: /tmp/ray/session_2023-08-22_09-44-45_245297_1659393 is over 95% full, available space: 13172072448; capacity: 490444898304. Object creation will fail if spilling is required.\n",
      "\u001b[2m\u001b[33m(raylet)\u001b[0m [2023-08-22 12:52:48,789 E 1659495 1659513] (raylet) file_system_monitor.cc:111: /tmp/ray/session_2023-08-22_09-44-45_245297_1659393 is over 95% full, available space: 13172068352; capacity: 490444898304. Object creation will fail if spilling is required.\n"
     ]
    },
    {
     "name": "stdout",
     "output_type": "stream",
     "text": [
      "\u001b[2m\u001b[36m(func pid=3032835)\u001b[0m [12,  2000] loss: 0.370\n"
     ]
    },
    {
     "name": "stderr",
     "output_type": "stream",
     "text": [
      "\u001b[2m\u001b[33m(raylet)\u001b[0m [2023-08-22 12:52:58,808 E 1659495 1659513] (raylet) file_system_monitor.cc:111: /tmp/ray/session_2023-08-22_09-44-45_245297_1659393 is over 95% full, available space: 13172068352; capacity: 490444898304. Object creation will fail if spilling is required.\n",
      "\u001b[2m\u001b[33m(raylet)\u001b[0m [2023-08-22 12:53:08,881 E 1659495 1659513] (raylet) file_system_monitor.cc:111: /tmp/ray/session_2023-08-22_09-44-45_245297_1659393 is over 95% full, available space: 13172023296; capacity: 490444898304. Object creation will fail if spilling is required.\n",
      "\u001b[2m\u001b[33m(raylet)\u001b[0m [2023-08-22 12:53:18,954 E 1659495 1659513] (raylet) file_system_monitor.cc:111: /tmp/ray/session_2023-08-22_09-44-45_245297_1659393 is over 95% full, available space: 13172019200; capacity: 490444898304. Object creation will fail if spilling is required.\n",
      "\u001b[2m\u001b[33m(raylet)\u001b[0m [2023-08-22 12:53:28,967 E 1659495 1659513] (raylet) file_system_monitor.cc:111: /tmp/ray/session_2023-08-22_09-44-45_245297_1659393 is over 95% full, available space: 13172002816; capacity: 490444898304. Object creation will fail if spilling is required.\n",
      "\u001b[2m\u001b[33m(raylet)\u001b[0m [2023-08-22 12:53:39,003 E 1659495 1659513] (raylet) file_system_monitor.cc:111: /tmp/ray/session_2023-08-22_09-44-45_245297_1659393 is over 95% full, available space: 13171982336; capacity: 490444898304. Object creation will fail if spilling is required.\n",
      "\u001b[2m\u001b[33m(raylet)\u001b[0m [2023-08-22 12:53:49,022 E 1659495 1659513] (raylet) file_system_monitor.cc:111: /tmp/ray/session_2023-08-22_09-44-45_245297_1659393 is over 95% full, available space: 13171982336; capacity: 490444898304. Object creation will fail if spilling is required.\n"
     ]
    },
    {
     "name": "stdout",
     "output_type": "stream",
     "text": [
      "\u001b[2m\u001b[36m(func pid=3032835)\u001b[0m [13,  2000] loss: 0.363\n"
     ]
    },
    {
     "name": "stderr",
     "output_type": "stream",
     "text": [
      "\u001b[2m\u001b[33m(raylet)\u001b[0m [2023-08-22 12:53:59,093 E 1659495 1659513] (raylet) file_system_monitor.cc:111: /tmp/ray/session_2023-08-22_09-44-45_245297_1659393 is over 95% full, available space: 13171982336; capacity: 490444898304. Object creation will fail if spilling is required.\n",
      "\u001b[2m\u001b[33m(raylet)\u001b[0m [2023-08-22 12:54:09,122 E 1659495 1659513] (raylet) file_system_monitor.cc:111: /tmp/ray/session_2023-08-22_09-44-45_245297_1659393 is over 95% full, available space: 13171924992; capacity: 490444898304. Object creation will fail if spilling is required.\n",
      "\u001b[2m\u001b[33m(raylet)\u001b[0m [2023-08-22 12:54:19,160 E 1659495 1659513] (raylet) file_system_monitor.cc:111: /tmp/ray/session_2023-08-22_09-44-45_245297_1659393 is over 95% full, available space: 13171908608; capacity: 490444898304. Object creation will fail if spilling is required.\n",
      "\u001b[2m\u001b[33m(raylet)\u001b[0m [2023-08-22 12:54:29,196 E 1659495 1659513] (raylet) file_system_monitor.cc:111: /tmp/ray/session_2023-08-22_09-44-45_245297_1659393 is over 95% full, available space: 13171896320; capacity: 490444898304. Object creation will fail if spilling is required.\n",
      "\u001b[2m\u001b[33m(raylet)\u001b[0m [2023-08-22 12:54:39,258 E 1659495 1659513] (raylet) file_system_monitor.cc:111: /tmp/ray/session_2023-08-22_09-44-45_245297_1659393 is over 95% full, available space: 13171892224; capacity: 490444898304. Object creation will fail if spilling is required.\n",
      "\u001b[2m\u001b[33m(raylet)\u001b[0m [2023-08-22 12:54:49,315 E 1659495 1659513] (raylet) file_system_monitor.cc:111: /tmp/ray/session_2023-08-22_09-44-45_245297_1659393 is over 95% full, available space: 13171888128; capacity: 490444898304. Object creation will fail if spilling is required.\n"
     ]
    },
    {
     "name": "stdout",
     "output_type": "stream",
     "text": [
      "\u001b[2m\u001b[36m(func pid=3032835)\u001b[0m [14,  2000] loss: 0.358\n"
     ]
    },
    {
     "name": "stderr",
     "output_type": "stream",
     "text": [
      "\u001b[2m\u001b[33m(raylet)\u001b[0m [2023-08-22 12:54:59,388 E 1659495 1659513] (raylet) file_system_monitor.cc:111: /tmp/ray/session_2023-08-22_09-44-45_245297_1659393 is over 95% full, available space: 13171888128; capacity: 490444898304. Object creation will fail if spilling is required.\n",
      "\u001b[2m\u001b[33m(raylet)\u001b[0m [2023-08-22 12:55:09,438 E 1659495 1659513] (raylet) file_system_monitor.cc:111: /tmp/ray/session_2023-08-22_09-44-45_245297_1659393 is over 95% full, available space: 13171855360; capacity: 490444898304. Object creation will fail if spilling is required.\n",
      "\u001b[2m\u001b[33m(raylet)\u001b[0m [2023-08-22 12:55:19,536 E 1659495 1659513] (raylet) file_system_monitor.cc:111: /tmp/ray/session_2023-08-22_09-44-45_245297_1659393 is over 95% full, available space: 13171834880; capacity: 490444898304. Object creation will fail if spilling is required.\n",
      "\u001b[2m\u001b[33m(raylet)\u001b[0m [2023-08-22 12:55:29,584 E 1659495 1659513] (raylet) file_system_monitor.cc:111: /tmp/ray/session_2023-08-22_09-44-45_245297_1659393 is over 95% full, available space: 13171826688; capacity: 490444898304. Object creation will fail if spilling is required.\n",
      "\u001b[2m\u001b[33m(raylet)\u001b[0m [2023-08-22 12:55:39,657 E 1659495 1659513] (raylet) file_system_monitor.cc:111: /tmp/ray/session_2023-08-22_09-44-45_245297_1659393 is over 95% full, available space: 13171814400; capacity: 490444898304. Object creation will fail if spilling is required.\n",
      "\u001b[2m\u001b[33m(raylet)\u001b[0m [2023-08-22 12:55:49,718 E 1659495 1659513] (raylet) file_system_monitor.cc:111: /tmp/ray/session_2023-08-22_09-44-45_245297_1659393 is over 95% full, available space: 13171814400; capacity: 490444898304. Object creation will fail if spilling is required.\n",
      "\u001b[2m\u001b[33m(raylet)\u001b[0m [2023-08-22 12:55:59,785 E 1659495 1659513] (raylet) file_system_monitor.cc:111: /tmp/ray/session_2023-08-22_09-44-45_245297_1659393 is over 95% full, available space: 13171810304; capacity: 490444898304. Object creation will fail if spilling is required.\n"
     ]
    },
    {
     "name": "stdout",
     "output_type": "stream",
     "text": [
      "\u001b[2m\u001b[36m(func pid=3032835)\u001b[0m [15,  2000] loss: 0.351\n"
     ]
    },
    {
     "name": "stderr",
     "output_type": "stream",
     "text": [
      "\u001b[2m\u001b[33m(raylet)\u001b[0m [2023-08-22 12:56:09,821 E 1659495 1659513] (raylet) file_system_monitor.cc:111: /tmp/ray/session_2023-08-22_09-44-45_245297_1659393 is over 95% full, available space: 13171765248; capacity: 490444898304. Object creation will fail if spilling is required.\n",
      "\u001b[2m\u001b[33m(raylet)\u001b[0m [2023-08-22 12:56:19,885 E 1659495 1659513] (raylet) file_system_monitor.cc:111: /tmp/ray/session_2023-08-22_09-44-45_245297_1659393 is over 95% full, available space: 13171744768; capacity: 490444898304. Object creation will fail if spilling is required.\n",
      "\u001b[2m\u001b[33m(raylet)\u001b[0m [2023-08-22 12:56:29,947 E 1659495 1659513] (raylet) file_system_monitor.cc:111: /tmp/ray/session_2023-08-22_09-44-45_245297_1659393 is over 95% full, available space: 13171728384; capacity: 490444898304. Object creation will fail if spilling is required.\n",
      "\u001b[2m\u001b[33m(raylet)\u001b[0m [2023-08-22 12:56:39,981 E 1659495 1659513] (raylet) file_system_monitor.cc:111: /tmp/ray/session_2023-08-22_09-44-45_245297_1659393 is over 95% full, available space: 13171728384; capacity: 490444898304. Object creation will fail if spilling is required.\n",
      "\u001b[2m\u001b[33m(raylet)\u001b[0m [2023-08-22 12:56:50,010 E 1659495 1659513] (raylet) file_system_monitor.cc:111: /tmp/ray/session_2023-08-22_09-44-45_245297_1659393 is over 95% full, available space: 13171728384; capacity: 490444898304. Object creation will fail if spilling is required.\n",
      "\u001b[2m\u001b[33m(raylet)\u001b[0m [2023-08-22 12:57:00,063 E 1659495 1659513] (raylet) file_system_monitor.cc:111: /tmp/ray/session_2023-08-22_09-44-45_245297_1659393 is over 95% full, available space: 13171724288; capacity: 490444898304. Object creation will fail if spilling is required.\n"
     ]
    },
    {
     "name": "stdout",
     "output_type": "stream",
     "text": [
      "\u001b[2m\u001b[36m(func pid=3032835)\u001b[0m [16,  2000] loss: 0.342\n"
     ]
    },
    {
     "name": "stderr",
     "output_type": "stream",
     "text": [
      "\u001b[2m\u001b[33m(raylet)\u001b[0m [2023-08-22 12:57:10,153 E 1659495 1659513] (raylet) file_system_monitor.cc:111: /tmp/ray/session_2023-08-22_09-44-45_245297_1659393 is over 95% full, available space: 13171679232; capacity: 490444898304. Object creation will fail if spilling is required.\n",
      "\u001b[2m\u001b[33m(raylet)\u001b[0m [2023-08-22 12:57:20,227 E 1659495 1659513] (raylet) file_system_monitor.cc:111: /tmp/ray/session_2023-08-22_09-44-45_245297_1659393 is over 95% full, available space: 13171666944; capacity: 490444898304. Object creation will fail if spilling is required.\n",
      "\u001b[2m\u001b[33m(raylet)\u001b[0m [2023-08-22 12:57:30,230 E 1659495 1659513] (raylet) file_system_monitor.cc:111: /tmp/ray/session_2023-08-22_09-44-45_245297_1659393 is over 95% full, available space: 13171658752; capacity: 490444898304. Object creation will fail if spilling is required.\n",
      "\u001b[2m\u001b[33m(raylet)\u001b[0m [2023-08-22 12:57:40,278 E 1659495 1659513] (raylet) file_system_monitor.cc:111: /tmp/ray/session_2023-08-22_09-44-45_245297_1659393 is over 95% full, available space: 13171630080; capacity: 490444898304. Object creation will fail if spilling is required.\n",
      "2023-08-22 12:57:44,093\tWARNING util.py:315 -- The `on_step_begin` operation took 0.519 s, which may be a performance bottleneck.\n",
      "\u001b[2m\u001b[33m(raylet)\u001b[0m [2023-08-22 12:57:50,346 E 1659495 1659513] (raylet) file_system_monitor.cc:111: /tmp/ray/session_2023-08-22_09-44-45_245297_1659393 is over 95% full, available space: 13171625984; capacity: 490444898304. Object creation will fail if spilling is required.\n",
      "\u001b[2m\u001b[33m(raylet)\u001b[0m [2023-08-22 12:58:00,435 E 1659495 1659513] (raylet) file_system_monitor.cc:111: /tmp/ray/session_2023-08-22_09-44-45_245297_1659393 is over 95% full, available space: 13171625984; capacity: 490444898304. Object creation will fail if spilling is required.\n"
     ]
    },
    {
     "name": "stdout",
     "output_type": "stream",
     "text": [
      "\u001b[2m\u001b[36m(func pid=3032835)\u001b[0m [17,  2000] loss: 0.337\n"
     ]
    },
    {
     "name": "stderr",
     "output_type": "stream",
     "text": [
      "\u001b[2m\u001b[33m(raylet)\u001b[0m [2023-08-22 12:58:10,512 E 1659495 1659513] (raylet) file_system_monitor.cc:111: /tmp/ray/session_2023-08-22_09-44-45_245297_1659393 is over 95% full, available space: 13171580928; capacity: 490444898304. Object creation will fail if spilling is required.\n",
      "\u001b[2m\u001b[33m(raylet)\u001b[0m [2023-08-22 12:58:20,594 E 1659495 1659513] (raylet) file_system_monitor.cc:111: /tmp/ray/session_2023-08-22_09-44-45_245297_1659393 is over 95% full, available space: 13171572736; capacity: 490444898304. Object creation will fail if spilling is required.\n",
      "2023-08-22 12:58:25,051\tWARNING util.py:315 -- The `on_step_begin` operation took 0.569 s, which may be a performance bottleneck.\n",
      "\u001b[2m\u001b[33m(raylet)\u001b[0m [2023-08-22 12:58:30,634 E 1659495 1659513] (raylet) file_system_monitor.cc:111: /tmp/ray/session_2023-08-22_09-44-45_245297_1659393 is over 95% full, available space: 13171560448; capacity: 490444898304. Object creation will fail if spilling is required.\n",
      "\u001b[2m\u001b[33m(raylet)\u001b[0m [2023-08-22 12:58:40,684 E 1659495 1659513] (raylet) file_system_monitor.cc:111: /tmp/ray/session_2023-08-22_09-44-45_245297_1659393 is over 95% full, available space: 13171552256; capacity: 490444898304. Object creation will fail if spilling is required.\n",
      "\u001b[2m\u001b[33m(raylet)\u001b[0m [2023-08-22 12:58:50,741 E 1659495 1659513] (raylet) file_system_monitor.cc:111: /tmp/ray/session_2023-08-22_09-44-45_245297_1659393 is over 95% full, available space: 13171552256; capacity: 490444898304. Object creation will fail if spilling is required.\n",
      "\u001b[2m\u001b[33m(raylet)\u001b[0m [2023-08-22 12:59:00,802 E 1659495 1659513] (raylet) file_system_monitor.cc:111: /tmp/ray/session_2023-08-22_09-44-45_245297_1659393 is over 95% full, available space: 13171539968; capacity: 490444898304. Object creation will fail if spilling is required.\n",
      "\u001b[2m\u001b[33m(raylet)\u001b[0m [2023-08-22 12:59:10,819 E 1659495 1659513] (raylet) file_system_monitor.cc:111: /tmp/ray/session_2023-08-22_09-44-45_245297_1659393 is over 95% full, available space: 13171499008; capacity: 490444898304. Object creation will fail if spilling is required.\n"
     ]
    },
    {
     "name": "stdout",
     "output_type": "stream",
     "text": [
      "\u001b[2m\u001b[36m(func pid=3032835)\u001b[0m [18,  2000] loss: 0.331\n"
     ]
    },
    {
     "name": "stderr",
     "output_type": "stream",
     "text": [
      "\u001b[2m\u001b[33m(raylet)\u001b[0m [2023-08-22 12:59:20,892 E 1659495 1659513] (raylet) file_system_monitor.cc:111: /tmp/ray/session_2023-08-22_09-44-45_245297_1659393 is over 95% full, available space: 13171478528; capacity: 490444898304. Object creation will fail if spilling is required.\n",
      "\u001b[2m\u001b[33m(raylet)\u001b[0m [2023-08-22 12:59:30,979 E 1659495 1659513] (raylet) file_system_monitor.cc:111: /tmp/ray/session_2023-08-22_09-44-45_245297_1659393 is over 95% full, available space: 13171470336; capacity: 490444898304. Object creation will fail if spilling is required.\n",
      "\u001b[2m\u001b[33m(raylet)\u001b[0m [2023-08-22 12:59:41,033 E 1659495 1659513] (raylet) file_system_monitor.cc:111: /tmp/ray/session_2023-08-22_09-44-45_245297_1659393 is over 95% full, available space: 13171441664; capacity: 490444898304. Object creation will fail if spilling is required.\n",
      "\u001b[2m\u001b[33m(raylet)\u001b[0m [2023-08-22 12:59:51,099 E 1659495 1659513] (raylet) file_system_monitor.cc:111: /tmp/ray/session_2023-08-22_09-44-45_245297_1659393 is over 95% full, available space: 13171441664; capacity: 490444898304. Object creation will fail if spilling is required.\n",
      "\u001b[2m\u001b[33m(raylet)\u001b[0m [2023-08-22 13:00:01,129 E 1659495 1659513] (raylet) file_system_monitor.cc:111: /tmp/ray/session_2023-08-22_09-44-45_245297_1659393 is over 95% full, available space: 13171441664; capacity: 490444898304. Object creation will fail if spilling is required.\n",
      "\u001b[2m\u001b[33m(raylet)\u001b[0m [2023-08-22 13:00:11,207 E 1659495 1659513] (raylet) file_system_monitor.cc:111: /tmp/ray/session_2023-08-22_09-44-45_245297_1659393 is over 95% full, available space: 13171400704; capacity: 490444898304. Object creation will fail if spilling is required.\n"
     ]
    },
    {
     "name": "stdout",
     "output_type": "stream",
     "text": [
      "\u001b[2m\u001b[36m(func pid=3032835)\u001b[0m [19,  2000] loss: 0.324\n"
     ]
    },
    {
     "name": "stderr",
     "output_type": "stream",
     "text": [
      "\u001b[2m\u001b[33m(raylet)\u001b[0m [2023-08-22 13:00:21,280 E 1659495 1659513] (raylet) file_system_monitor.cc:111: /tmp/ray/session_2023-08-22_09-44-45_245297_1659393 is over 95% full, available space: 13171392512; capacity: 490444898304. Object creation will fail if spilling is required.\n",
      "\u001b[2m\u001b[33m(raylet)\u001b[0m [2023-08-22 13:00:31,326 E 1659495 1659513] (raylet) file_system_monitor.cc:111: /tmp/ray/session_2023-08-22_09-44-45_245297_1659393 is over 95% full, available space: 13171392512; capacity: 490444898304. Object creation will fail if spilling is required.\n",
      "\u001b[2m\u001b[33m(raylet)\u001b[0m [2023-08-22 13:00:41,426 E 1659495 1659513] (raylet) file_system_monitor.cc:111: /tmp/ray/session_2023-08-22_09-44-45_245297_1659393 is over 95% full, available space: 13171380224; capacity: 490444898304. Object creation will fail if spilling is required.\n",
      "\u001b[2m\u001b[33m(raylet)\u001b[0m [2023-08-22 13:00:51,474 E 1659495 1659513] (raylet) file_system_monitor.cc:111: /tmp/ray/session_2023-08-22_09-44-45_245297_1659393 is over 95% full, available space: 13171367936; capacity: 490444898304. Object creation will fail if spilling is required.\n",
      "\u001b[2m\u001b[33m(raylet)\u001b[0m [2023-08-22 13:01:01,536 E 1659495 1659513] (raylet) file_system_monitor.cc:111: /tmp/ray/session_2023-08-22_09-44-45_245297_1659393 is over 95% full, available space: 13171355648; capacity: 490444898304. Object creation will fail if spilling is required.\n",
      "\u001b[2m\u001b[33m(raylet)\u001b[0m [2023-08-22 13:01:11,607 E 1659495 1659513] (raylet) file_system_monitor.cc:111: /tmp/ray/session_2023-08-22_09-44-45_245297_1659393 is over 95% full, available space: 13171322880; capacity: 490444898304. Object creation will fail if spilling is required.\n"
     ]
    },
    {
     "name": "stdout",
     "output_type": "stream",
     "text": [
      "\u001b[2m\u001b[36m(func pid=3032835)\u001b[0m [20,  2000] loss: 0.318\n"
     ]
    },
    {
     "name": "stderr",
     "output_type": "stream",
     "text": [
      "\u001b[2m\u001b[33m(raylet)\u001b[0m [2023-08-22 13:01:21,695 E 1659495 1659513] (raylet) file_system_monitor.cc:111: /tmp/ray/session_2023-08-22_09-44-45_245297_1659393 is over 95% full, available space: 13171314688; capacity: 490444898304. Object creation will fail if spilling is required.\n",
      "\u001b[2m\u001b[33m(raylet)\u001b[0m [2023-08-22 13:01:31,741 E 1659495 1659513] (raylet) file_system_monitor.cc:111: /tmp/ray/session_2023-08-22_09-44-45_245297_1659393 is over 95% full, available space: 13171310592; capacity: 490444898304. Object creation will fail if spilling is required.\n",
      "\u001b[2m\u001b[33m(raylet)\u001b[0m [2023-08-22 13:01:41,745 E 1659495 1659513] (raylet) file_system_monitor.cc:111: /tmp/ray/session_2023-08-22_09-44-45_245297_1659393 is over 95% full, available space: 13171290112; capacity: 490444898304. Object creation will fail if spilling is required.\n"
     ]
    },
    {
     "name": "stdout",
     "output_type": "stream",
     "text": [
      "Trial 4609f_00012: Chosen l1 = 64\n"
     ]
    },
    {
     "name": "stderr",
     "output_type": "stream",
     "text": [
      "2023-08-22 13:01:47,622\tINFO tune.py:1148 -- Total run time: 3340.94 seconds (3340.74 seconds for the tuning loop).\n"
     ]
    },
    {
     "name": "stdout",
     "output_type": "stream",
     "text": [
      "Chosen l1: 64\n",
      "Best trial config: {'epochs': 20, 'learning_rate': 0.001, 'batch_size': 16, 'l1': 64}\n",
      "Best trial metrics: {'mean_accuracy': {'max': 0.8865833333333333, 'min': 0.74825, 'avg': 0.8494374999999996, 'last': 0.8851666666666667, 'last-5-avg': 0.8827666666666666, 'last-10-avg': 0.8773}, 'mean_val_loss': {'max': 0.7231627244551977, 'min': 0.31827534997463225, 'avg': 0.41839380793385206, 'last': 0.318992173401018, 'last-5-avg': 0.32919460942397516, 'last-10-avg': 0.3446958331711591}, 'time_this_iter_s': {'max': 148.1736969947815, 'min': 63.23625326156616, 'avg': 93.16104694604871, 'last': 63.93099665641785, 'last-5-avg': 63.80419611930847, 'last-10-avg': 63.76105201244354}, 'done': {'max': False, 'min': False, 'avg': 0.0, 'last': False, 'last-5-avg': 0.0, 'last-10-avg': 0.0}, 'training_iteration': {'max': 20, 'min': 1, 'avg': 10.5, 'last': 20, 'last-5-avg': 18.0, 'last-10-avg': 15.5}, 'time_total_s': {'max': 1863.2209389209747, 'min': 133.67249202728271, 'avg': 1129.8015766978262, 'last': 1863.2209389209747, 'last-5-avg': 1735.507924079895, 'last-10-avg': 1576.5360060453415}, 'time_since_restore': {'max': 1863.2209389209747, 'min': 133.67249202728271, 'avg': 1129.8015766978262, 'last': 1863.2209389209747, 'last-5-avg': 1735.507924079895, 'last-10-avg': 1576.5360060453415}, 'iterations_since_restore': {'max': 20, 'min': 1, 'avg': 10.5, 'last': 20, 'last-5-avg': 18.0, 'last-10-avg': 15.5}}\n"
     ]
    },
    {
     "name": "stderr",
     "output_type": "stream",
     "text": [
      "\u001b[2m\u001b[33m(raylet)\u001b[0m [2023-08-22 13:01:51,808 E 1659495 1659513] (raylet) file_system_monitor.cc:111: /tmp/ray/session_2023-08-22_09-44-45_245297_1659393 is over 95% full, available space: 13171286016; capacity: 490444898304. Object creation will fail if spilling is required.\n",
      "\u001b[2m\u001b[33m(raylet)\u001b[0m [2023-08-22 13:02:01,811 E 1659495 1659513] (raylet) file_system_monitor.cc:111: /tmp/ray/session_2023-08-22_09-44-45_245297_1659393 is over 95% full, available space: 13171286016; capacity: 490444898304. Object creation will fail if spilling is required.\n",
      "\u001b[2m\u001b[33m(raylet)\u001b[0m [2023-08-22 13:02:11,812 E 1659495 1659513] (raylet) file_system_monitor.cc:111: /tmp/ray/session_2023-08-22_09-44-45_245297_1659393 is over 95% full, available space: 13171257344; capacity: 490444898304. Object creation will fail if spilling is required.\n",
      "\u001b[2m\u001b[33m(raylet)\u001b[0m [2023-08-22 13:02:21,851 E 1659495 1659513] (raylet) file_system_monitor.cc:111: /tmp/ray/session_2023-08-22_09-44-45_245297_1659393 is over 95% full, available space: 13171240960; capacity: 490444898304. Object creation will fail if spilling is required.\n",
      "\u001b[2m\u001b[33m(raylet)\u001b[0m [2023-08-22 13:02:31,852 E 1659495 1659513] (raylet) file_system_monitor.cc:111: /tmp/ray/session_2023-08-22_09-44-45_245297_1659393 is over 95% full, available space: 13171236864; capacity: 490444898304. Object creation will fail if spilling is required.\n",
      "\u001b[2m\u001b[33m(raylet)\u001b[0m [2023-08-22 13:02:41,860 E 1659495 1659513] (raylet) file_system_monitor.cc:111: /tmp/ray/session_2023-08-22_09-44-45_245297_1659393 is over 95% full, available space: 13171232768; capacity: 490444898304. Object creation will fail if spilling is required.\n",
      "\u001b[2m\u001b[33m(raylet)\u001b[0m [2023-08-22 13:02:51,952 E 1659495 1659513] (raylet) file_system_monitor.cc:111: /tmp/ray/session_2023-08-22_09-44-45_245297_1659393 is over 95% full, available space: 13171232768; capacity: 490444898304. Object creation will fail if spilling is required.\n",
      "\u001b[2m\u001b[33m(raylet)\u001b[0m [2023-08-22 13:03:01,968 E 1659495 1659513] (raylet) file_system_monitor.cc:111: /tmp/ray/session_2023-08-22_09-44-45_245297_1659393 is over 95% full, available space: 13171212288; capacity: 490444898304. Object creation will fail if spilling is required.\n",
      "\u001b[2m\u001b[33m(raylet)\u001b[0m [2023-08-22 13:03:11,981 E 1659495 1659513] (raylet) file_system_monitor.cc:111: /tmp/ray/session_2023-08-22_09-44-45_245297_1659393 is over 95% full, available space: 13171183616; capacity: 490444898304. Object creation will fail if spilling is required.\n",
      "\u001b[2m\u001b[33m(raylet)\u001b[0m [2023-08-22 13:03:21,990 E 1659495 1659513] (raylet) file_system_monitor.cc:111: /tmp/ray/session_2023-08-22_09-44-45_245297_1659393 is over 95% full, available space: 13171171328; capacity: 490444898304. Object creation will fail if spilling is required.\n",
      "\u001b[2m\u001b[33m(raylet)\u001b[0m [2023-08-22 13:03:32,015 E 1659495 1659513] (raylet) file_system_monitor.cc:111: /tmp/ray/session_2023-08-22_09-44-45_245297_1659393 is over 95% full, available space: 13171171328; capacity: 490444898304. Object creation will fail if spilling is required.\n",
      "\u001b[2m\u001b[33m(raylet)\u001b[0m [2023-08-22 13:03:42,040 E 1659495 1659513] (raylet) file_system_monitor.cc:111: /tmp/ray/session_2023-08-22_09-44-45_245297_1659393 is over 95% full, available space: 13171036160; capacity: 490444898304. Object creation will fail if spilling is required.\n",
      "\u001b[2m\u001b[33m(raylet)\u001b[0m [2023-08-22 13:03:52,058 E 1659495 1659513] (raylet) file_system_monitor.cc:111: /tmp/ray/session_2023-08-22_09-44-45_245297_1659393 is over 95% full, available space: 13171032064; capacity: 490444898304. Object creation will fail if spilling is required.\n",
      "\u001b[2m\u001b[33m(raylet)\u001b[0m [2023-08-22 13:04:02,063 E 1659495 1659513] (raylet) file_system_monitor.cc:111: /tmp/ray/session_2023-08-22_09-44-45_245297_1659393 is over 95% full, available space: 13171032064; capacity: 490444898304. Object creation will fail if spilling is required.\n",
      "\u001b[2m\u001b[33m(raylet)\u001b[0m [2023-08-22 13:04:12,074 E 1659495 1659513] (raylet) file_system_monitor.cc:111: /tmp/ray/session_2023-08-22_09-44-45_245297_1659393 is over 95% full, available space: 13171003392; capacity: 490444898304. Object creation will fail if spilling is required.\n",
      "\u001b[2m\u001b[33m(raylet)\u001b[0m [2023-08-22 13:04:22,081 E 1659495 1659513] (raylet) file_system_monitor.cc:111: /tmp/ray/session_2023-08-22_09-44-45_245297_1659393 is over 95% full, available space: 13170991104; capacity: 490444898304. Object creation will fail if spilling is required.\n",
      "\u001b[2m\u001b[33m(raylet)\u001b[0m [2023-08-22 13:04:32,116 E 1659495 1659513] (raylet) file_system_monitor.cc:111: /tmp/ray/session_2023-08-22_09-44-45_245297_1659393 is over 95% full, available space: 13170987008; capacity: 490444898304. Object creation will fail if spilling is required.\n",
      "\u001b[2m\u001b[33m(raylet)\u001b[0m [2023-08-22 13:04:42,120 E 1659495 1659513] (raylet) file_system_monitor.cc:111: /tmp/ray/session_2023-08-22_09-44-45_245297_1659393 is over 95% full, available space: 13170987008; capacity: 490444898304. Object creation will fail if spilling is required.\n",
      "\u001b[2m\u001b[33m(raylet)\u001b[0m [2023-08-22 13:04:52,211 E 1659495 1659513] (raylet) file_system_monitor.cc:111: /tmp/ray/session_2023-08-22_09-44-45_245297_1659393 is over 95% full, available space: 13170987008; capacity: 490444898304. Object creation will fail if spilling is required.\n",
      "\u001b[2m\u001b[33m(raylet)\u001b[0m [2023-08-22 13:05:02,225 E 1659495 1659513] (raylet) file_system_monitor.cc:111: /tmp/ray/session_2023-08-22_09-44-45_245297_1659393 is over 95% full, available space: 13170946048; capacity: 490444898304. Object creation will fail if spilling is required.\n",
      "\u001b[2m\u001b[33m(raylet)\u001b[0m [2023-08-22 13:05:12,325 E 1659495 1659513] (raylet) file_system_monitor.cc:111: /tmp/ray/session_2023-08-22_09-44-45_245297_1659393 is over 95% full, available space: 13170921472; capacity: 490444898304. Object creation will fail if spilling is required.\n",
      "\u001b[2m\u001b[33m(raylet)\u001b[0m [2023-08-22 13:05:22,331 E 1659495 1659513] (raylet) file_system_monitor.cc:111: /tmp/ray/session_2023-08-22_09-44-45_245297_1659393 is over 95% full, available space: 13170909184; capacity: 490444898304. Object creation will fail if spilling is required.\n",
      "\u001b[2m\u001b[33m(raylet)\u001b[0m [2023-08-22 13:05:32,428 E 1659495 1659513] (raylet) file_system_monitor.cc:111: /tmp/ray/session_2023-08-22_09-44-45_245297_1659393 is over 95% full, available space: 13170905088; capacity: 490444898304. Object creation will fail if spilling is required.\n"
     ]
    }
   ],
   "source": [
    "load_data()\n",
    "\n",
    "result_ep_bs = tune.run(\n",
    "    partial(train_fashion_mnist),\n",
    "    resources_per_trial={\"cpu\": 8, \"gpu\": 2},\n",
    "    config=config,\n",
    "    num_samples=num_samples,\n",
    "    storage_path='./tune_runs/e3',\n",
    "    search_alg=BasicVariantGenerator(random_state=40),\n",
    "    chdir_to_trial_dir=False,\n",
    "    #scheduler=scheduler,\n",
    "    callbacks=[print_l1_callback]\n",
    ")\n",
    "\n",
    "best_trial = result_ep_bs.get_best_trial(\"mean_val_loss\", mode=\"min\")\n",
    "best_config = best_trial.config\n",
    "chosen_l1 = best_config[\"l1\"]\n",
    "\n",
    "print(\"Chosen l1:\", chosen_l1)\n",
    "\n",
    "best_metrics = best_trial.metric_analysis\n",
    "\n",
    "print(\"Best trial config:\", best_config)\n",
    "print(\"Best trial metrics:\", best_metrics)"
   ]
  },
  {
   "cell_type": "markdown",
   "metadata": {},
   "source": [
    "### 4th Experiment - epochs vs. lr"
   ]
  },
  {
   "cell_type": "code",
   "execution_count": 15,
   "metadata": {},
   "outputs": [
    {
     "name": "stderr",
     "output_type": "stream",
     "text": [
      "\u001b[2m\u001b[33m(raylet)\u001b[0m [2023-08-22 13:05:42,452 E 1659495 1659513] (raylet) file_system_monitor.cc:111: /tmp/ray/session_2023-08-22_09-44-45_245297_1659393 is over 95% full, available space: 13170900992; capacity: 490444898304. Object creation will fail if spilling is required.\n"
     ]
    }
   ],
   "source": [
    "num_samples = 50\n",
    "\n",
    "config = {\n",
    "    \"epochs\": tune.choice([5, 10, 15, 20]),\n",
    "    \"learning_rate\": tune.loguniform(1e-4, 1e-1), \n",
    "    \"batch_size\": 64,\n",
    "    \"l1\": 64\n",
    "}"
   ]
  },
  {
   "cell_type": "code",
   "execution_count": 16,
   "metadata": {
    "scrolled": true
   },
   "outputs": [
    {
     "name": "stderr",
     "output_type": "stream",
     "text": [
      "2023-08-22 13:05:47,962\tINFO tune.py:657 -- [output] This uses the legacy output and progress reporter, as Jupyter notebooks are not supported by the new engine, yet. For more information, please see https://github.com/ray-project/ray/issues/36949\n"
     ]
    },
    {
     "data": {
      "text/html": [
       "<div class=\"tuneStatus\">\n",
       "  <div style=\"display: flex;flex-direction: row\">\n",
       "    <div style=\"display: flex;flex-direction: column;\">\n",
       "      <h3>Tune Status</h3>\n",
       "      <table>\n",
       "<tbody>\n",
       "<tr><td>Current time:</td><td>2023-08-22 13:26:44</td></tr>\n",
       "<tr><td>Running for: </td><td>00:20:56.27        </td></tr>\n",
       "<tr><td>Memory:      </td><td>21.1/125.5 GiB     </td></tr>\n",
       "</tbody>\n",
       "</table>\n",
       "    </div>\n",
       "    <div class=\"vDivider\"></div>\n",
       "    <div class=\"systemInfo\">\n",
       "      <h3>System Info</h3>\n",
       "      Using FIFO scheduling algorithm.<br>Logical resource usage: 32.0/40 CPUs, 8.0/8 GPUs (0.0/1.0 accelerator_type:G)\n",
       "    </div>\n",
       "    \n",
       "  </div>\n",
       "  <div class=\"hDivider\"></div>\n",
       "  <div class=\"trialStatus\">\n",
       "    <h3>Trial Status</h3>\n",
       "    <table>\n",
       "<thead>\n",
       "<tr><th>Trial name                     </th><th>status    </th><th>loc                  </th><th style=\"text-align: right;\">  epochs</th><th style=\"text-align: right;\">  learning_rate</th><th style=\"text-align: right;\">     acc</th><th style=\"text-align: right;\">  iter</th><th style=\"text-align: right;\">  total time (s)</th><th style=\"text-align: right;\">  mean_val_loss</th></tr>\n",
       "</thead>\n",
       "<tbody>\n",
       "<tr><td>train_fashion_mnist_9ca59_00006</td><td>RUNNING   </td><td>141.68.100.65:3530293</td><td style=\"text-align: right;\">      20</td><td style=\"text-align: right;\">     0.00167697</td><td style=\"text-align: right;\">0.8295  </td><td style=\"text-align: right;\">    10</td><td style=\"text-align: right;\">         474.75 </td><td style=\"text-align: right;\">       0.476954</td></tr>\n",
       "<tr><td>train_fashion_mnist_9ca59_00007</td><td>RUNNING   </td><td>141.68.100.65:3534003</td><td style=\"text-align: right;\">      15</td><td style=\"text-align: right;\">     0.00164914</td><td style=\"text-align: right;\">0.8085  </td><td style=\"text-align: right;\">     9</td><td style=\"text-align: right;\">         422.682</td><td style=\"text-align: right;\">       0.535065</td></tr>\n",
       "<tr><td>train_fashion_mnist_9ca59_00008</td><td>RUNNING   </td><td>141.68.100.65:3535274</td><td style=\"text-align: right;\">      10</td><td style=\"text-align: right;\">     0.00121523</td><td style=\"text-align: right;\">0.80525 </td><td style=\"text-align: right;\">     9</td><td style=\"text-align: right;\">         404.821</td><td style=\"text-align: right;\">       0.54239 </td></tr>\n",
       "<tr><td>train_fashion_mnist_9ca59_00009</td><td>RUNNING   </td><td>141.68.100.65:3579939</td><td style=\"text-align: right;\">      15</td><td style=\"text-align: right;\">     0.00124574</td><td style=\"text-align: right;\">0.715417</td><td style=\"text-align: right;\">     3</td><td style=\"text-align: right;\">         140.828</td><td style=\"text-align: right;\">       0.813952</td></tr>\n",
       "<tr><td>train_fashion_mnist_9ca59_00010</td><td>PENDING   </td><td>                     </td><td style=\"text-align: right;\">      20</td><td style=\"text-align: right;\">     0.00264491</td><td style=\"text-align: right;\">        </td><td style=\"text-align: right;\">      </td><td style=\"text-align: right;\">                </td><td style=\"text-align: right;\">               </td></tr>\n",
       "<tr><td>train_fashion_mnist_9ca59_00011</td><td>PENDING   </td><td>                     </td><td style=\"text-align: right;\">      10</td><td style=\"text-align: right;\">     0.0356855 </td><td style=\"text-align: right;\">        </td><td style=\"text-align: right;\">      </td><td style=\"text-align: right;\">                </td><td style=\"text-align: right;\">               </td></tr>\n",
       "<tr><td>train_fashion_mnist_9ca59_00012</td><td>PENDING   </td><td>                     </td><td style=\"text-align: right;\">       5</td><td style=\"text-align: right;\">     0.00220585</td><td style=\"text-align: right;\">        </td><td style=\"text-align: right;\">      </td><td style=\"text-align: right;\">                </td><td style=\"text-align: right;\">               </td></tr>\n",
       "<tr><td>train_fashion_mnist_9ca59_00013</td><td>PENDING   </td><td>                     </td><td style=\"text-align: right;\">      20</td><td style=\"text-align: right;\">     0.00190545</td><td style=\"text-align: right;\">        </td><td style=\"text-align: right;\">      </td><td style=\"text-align: right;\">                </td><td style=\"text-align: right;\">               </td></tr>\n",
       "<tr><td>train_fashion_mnist_9ca59_00014</td><td>PENDING   </td><td>                     </td><td style=\"text-align: right;\">      10</td><td style=\"text-align: right;\">     0.0114626 </td><td style=\"text-align: right;\">        </td><td style=\"text-align: right;\">      </td><td style=\"text-align: right;\">                </td><td style=\"text-align: right;\">               </td></tr>\n",
       "<tr><td>train_fashion_mnist_9ca59_00015</td><td>PENDING   </td><td>                     </td><td style=\"text-align: right;\">      10</td><td style=\"text-align: right;\">     0.0121543 </td><td style=\"text-align: right;\">        </td><td style=\"text-align: right;\">      </td><td style=\"text-align: right;\">                </td><td style=\"text-align: right;\">               </td></tr>\n",
       "<tr><td>train_fashion_mnist_9ca59_00016</td><td>PENDING   </td><td>                     </td><td style=\"text-align: right;\">      20</td><td style=\"text-align: right;\">     0.00729985</td><td style=\"text-align: right;\">        </td><td style=\"text-align: right;\">      </td><td style=\"text-align: right;\">                </td><td style=\"text-align: right;\">               </td></tr>\n",
       "<tr><td>train_fashion_mnist_9ca59_00017</td><td>PENDING   </td><td>                     </td><td style=\"text-align: right;\">      10</td><td style=\"text-align: right;\">     0.00526409</td><td style=\"text-align: right;\">        </td><td style=\"text-align: right;\">      </td><td style=\"text-align: right;\">                </td><td style=\"text-align: right;\">               </td></tr>\n",
       "<tr><td>train_fashion_mnist_9ca59_00018</td><td>PENDING   </td><td>                     </td><td style=\"text-align: right;\">      15</td><td style=\"text-align: right;\">     0.0174335 </td><td style=\"text-align: right;\">        </td><td style=\"text-align: right;\">      </td><td style=\"text-align: right;\">                </td><td style=\"text-align: right;\">               </td></tr>\n",
       "<tr><td>train_fashion_mnist_9ca59_00019</td><td>PENDING   </td><td>                     </td><td style=\"text-align: right;\">      10</td><td style=\"text-align: right;\">     0.00345626</td><td style=\"text-align: right;\">        </td><td style=\"text-align: right;\">      </td><td style=\"text-align: right;\">                </td><td style=\"text-align: right;\">               </td></tr>\n",
       "<tr><td>train_fashion_mnist_9ca59_00020</td><td>PENDING   </td><td>                     </td><td style=\"text-align: right;\">      15</td><td style=\"text-align: right;\">     0.0105974 </td><td style=\"text-align: right;\">        </td><td style=\"text-align: right;\">      </td><td style=\"text-align: right;\">                </td><td style=\"text-align: right;\">               </td></tr>\n",
       "<tr><td>train_fashion_mnist_9ca59_00021</td><td>PENDING   </td><td>                     </td><td style=\"text-align: right;\">      10</td><td style=\"text-align: right;\">     0.00405385</td><td style=\"text-align: right;\">        </td><td style=\"text-align: right;\">      </td><td style=\"text-align: right;\">                </td><td style=\"text-align: right;\">               </td></tr>\n",
       "<tr><td>train_fashion_mnist_9ca59_00022</td><td>PENDING   </td><td>                     </td><td style=\"text-align: right;\">      20</td><td style=\"text-align: right;\">     0.00305749</td><td style=\"text-align: right;\">        </td><td style=\"text-align: right;\">      </td><td style=\"text-align: right;\">                </td><td style=\"text-align: right;\">               </td></tr>\n",
       "<tr><td>train_fashion_mnist_9ca59_00023</td><td>PENDING   </td><td>                     </td><td style=\"text-align: right;\">      10</td><td style=\"text-align: right;\">     0.00337475</td><td style=\"text-align: right;\">        </td><td style=\"text-align: right;\">      </td><td style=\"text-align: right;\">                </td><td style=\"text-align: right;\">               </td></tr>\n",
       "<tr><td>train_fashion_mnist_9ca59_00024</td><td>PENDING   </td><td>                     </td><td style=\"text-align: right;\">      20</td><td style=\"text-align: right;\">     0.00384262</td><td style=\"text-align: right;\">        </td><td style=\"text-align: right;\">      </td><td style=\"text-align: right;\">                </td><td style=\"text-align: right;\">               </td></tr>\n",
       "<tr><td>train_fashion_mnist_9ca59_00025</td><td>PENDING   </td><td>                     </td><td style=\"text-align: right;\">       5</td><td style=\"text-align: right;\">     0.0256698 </td><td style=\"text-align: right;\">        </td><td style=\"text-align: right;\">      </td><td style=\"text-align: right;\">                </td><td style=\"text-align: right;\">               </td></tr>\n",
       "<tr><td>train_fashion_mnist_9ca59_00026</td><td>PENDING   </td><td>                     </td><td style=\"text-align: right;\">       5</td><td style=\"text-align: right;\">     0.0172997 </td><td style=\"text-align: right;\">        </td><td style=\"text-align: right;\">      </td><td style=\"text-align: right;\">                </td><td style=\"text-align: right;\">               </td></tr>\n",
       "<tr><td>train_fashion_mnist_9ca59_00027</td><td>PENDING   </td><td>                     </td><td style=\"text-align: right;\">       5</td><td style=\"text-align: right;\">     0.00993359</td><td style=\"text-align: right;\">        </td><td style=\"text-align: right;\">      </td><td style=\"text-align: right;\">                </td><td style=\"text-align: right;\">               </td></tr>\n",
       "<tr><td>train_fashion_mnist_9ca59_00028</td><td>PENDING   </td><td>                     </td><td style=\"text-align: right;\">      20</td><td style=\"text-align: right;\">     0.00451885</td><td style=\"text-align: right;\">        </td><td style=\"text-align: right;\">      </td><td style=\"text-align: right;\">                </td><td style=\"text-align: right;\">               </td></tr>\n",
       "<tr><td>train_fashion_mnist_9ca59_00029</td><td>PENDING   </td><td>                     </td><td style=\"text-align: right;\">       5</td><td style=\"text-align: right;\">     0.00459598</td><td style=\"text-align: right;\">        </td><td style=\"text-align: right;\">      </td><td style=\"text-align: right;\">                </td><td style=\"text-align: right;\">               </td></tr>\n",
       "<tr><td>train_fashion_mnist_9ca59_00030</td><td>PENDING   </td><td>                     </td><td style=\"text-align: right;\">      20</td><td style=\"text-align: right;\">     0.00167574</td><td style=\"text-align: right;\">        </td><td style=\"text-align: right;\">      </td><td style=\"text-align: right;\">                </td><td style=\"text-align: right;\">               </td></tr>\n",
       "<tr><td>train_fashion_mnist_9ca59_00031</td><td>PENDING   </td><td>                     </td><td style=\"text-align: right;\">      10</td><td style=\"text-align: right;\">     0.0133169 </td><td style=\"text-align: right;\">        </td><td style=\"text-align: right;\">      </td><td style=\"text-align: right;\">                </td><td style=\"text-align: right;\">               </td></tr>\n",
       "<tr><td>train_fashion_mnist_9ca59_00032</td><td>PENDING   </td><td>                     </td><td style=\"text-align: right;\">      15</td><td style=\"text-align: right;\">     0.00211736</td><td style=\"text-align: right;\">        </td><td style=\"text-align: right;\">      </td><td style=\"text-align: right;\">                </td><td style=\"text-align: right;\">               </td></tr>\n",
       "<tr><td>train_fashion_mnist_9ca59_00033</td><td>PENDING   </td><td>                     </td><td style=\"text-align: right;\">      15</td><td style=\"text-align: right;\">     0.0012796 </td><td style=\"text-align: right;\">        </td><td style=\"text-align: right;\">      </td><td style=\"text-align: right;\">                </td><td style=\"text-align: right;\">               </td></tr>\n",
       "<tr><td>train_fashion_mnist_9ca59_00034</td><td>PENDING   </td><td>                     </td><td style=\"text-align: right;\">      15</td><td style=\"text-align: right;\">     0.00599293</td><td style=\"text-align: right;\">        </td><td style=\"text-align: right;\">      </td><td style=\"text-align: right;\">                </td><td style=\"text-align: right;\">               </td></tr>\n",
       "<tr><td>train_fashion_mnist_9ca59_00035</td><td>PENDING   </td><td>                     </td><td style=\"text-align: right;\">      10</td><td style=\"text-align: right;\">     0.00186037</td><td style=\"text-align: right;\">        </td><td style=\"text-align: right;\">      </td><td style=\"text-align: right;\">                </td><td style=\"text-align: right;\">               </td></tr>\n",
       "<tr><td>train_fashion_mnist_9ca59_00036</td><td>PENDING   </td><td>                     </td><td style=\"text-align: right;\">      10</td><td style=\"text-align: right;\">     0.0917891 </td><td style=\"text-align: right;\">        </td><td style=\"text-align: right;\">      </td><td style=\"text-align: right;\">                </td><td style=\"text-align: right;\">               </td></tr>\n",
       "<tr><td>train_fashion_mnist_9ca59_00037</td><td>PENDING   </td><td>                     </td><td style=\"text-align: right;\">       5</td><td style=\"text-align: right;\">     0.0399286 </td><td style=\"text-align: right;\">        </td><td style=\"text-align: right;\">      </td><td style=\"text-align: right;\">                </td><td style=\"text-align: right;\">               </td></tr>\n",
       "<tr><td>train_fashion_mnist_9ca59_00038</td><td>PENDING   </td><td>                     </td><td style=\"text-align: right;\">      10</td><td style=\"text-align: right;\">     0.00710023</td><td style=\"text-align: right;\">        </td><td style=\"text-align: right;\">      </td><td style=\"text-align: right;\">                </td><td style=\"text-align: right;\">               </td></tr>\n",
       "<tr><td>train_fashion_mnist_9ca59_00039</td><td>PENDING   </td><td>                     </td><td style=\"text-align: right;\">      15</td><td style=\"text-align: right;\">     0.073749  </td><td style=\"text-align: right;\">        </td><td style=\"text-align: right;\">      </td><td style=\"text-align: right;\">                </td><td style=\"text-align: right;\">               </td></tr>\n",
       "<tr><td>train_fashion_mnist_9ca59_00040</td><td>PENDING   </td><td>                     </td><td style=\"text-align: right;\">      15</td><td style=\"text-align: right;\">     0.0156688 </td><td style=\"text-align: right;\">        </td><td style=\"text-align: right;\">      </td><td style=\"text-align: right;\">                </td><td style=\"text-align: right;\">               </td></tr>\n",
       "<tr><td>train_fashion_mnist_9ca59_00041</td><td>PENDING   </td><td>                     </td><td style=\"text-align: right;\">      15</td><td style=\"text-align: right;\">     0.0035533 </td><td style=\"text-align: right;\">        </td><td style=\"text-align: right;\">      </td><td style=\"text-align: right;\">                </td><td style=\"text-align: right;\">               </td></tr>\n",
       "<tr><td>train_fashion_mnist_9ca59_00042</td><td>PENDING   </td><td>                     </td><td style=\"text-align: right;\">       5</td><td style=\"text-align: right;\">     0.0207599 </td><td style=\"text-align: right;\">        </td><td style=\"text-align: right;\">      </td><td style=\"text-align: right;\">                </td><td style=\"text-align: right;\">               </td></tr>\n",
       "<tr><td>train_fashion_mnist_9ca59_00043</td><td>PENDING   </td><td>                     </td><td style=\"text-align: right;\">      15</td><td style=\"text-align: right;\">     0.031969  </td><td style=\"text-align: right;\">        </td><td style=\"text-align: right;\">      </td><td style=\"text-align: right;\">                </td><td style=\"text-align: right;\">               </td></tr>\n",
       "<tr><td>train_fashion_mnist_9ca59_00044</td><td>PENDING   </td><td>                     </td><td style=\"text-align: right;\">       5</td><td style=\"text-align: right;\">     0.0582194 </td><td style=\"text-align: right;\">        </td><td style=\"text-align: right;\">      </td><td style=\"text-align: right;\">                </td><td style=\"text-align: right;\">               </td></tr>\n",
       "<tr><td>train_fashion_mnist_9ca59_00045</td><td>PENDING   </td><td>                     </td><td style=\"text-align: right;\">      15</td><td style=\"text-align: right;\">     0.00148064</td><td style=\"text-align: right;\">        </td><td style=\"text-align: right;\">      </td><td style=\"text-align: right;\">                </td><td style=\"text-align: right;\">               </td></tr>\n",
       "<tr><td>train_fashion_mnist_9ca59_00046</td><td>PENDING   </td><td>                     </td><td style=\"text-align: right;\">      10</td><td style=\"text-align: right;\">     0.0148183 </td><td style=\"text-align: right;\">        </td><td style=\"text-align: right;\">      </td><td style=\"text-align: right;\">                </td><td style=\"text-align: right;\">               </td></tr>\n",
       "<tr><td>train_fashion_mnist_9ca59_00047</td><td>PENDING   </td><td>                     </td><td style=\"text-align: right;\">      20</td><td style=\"text-align: right;\">     0.00425346</td><td style=\"text-align: right;\">        </td><td style=\"text-align: right;\">      </td><td style=\"text-align: right;\">                </td><td style=\"text-align: right;\">               </td></tr>\n",
       "<tr><td>train_fashion_mnist_9ca59_00048</td><td>PENDING   </td><td>                     </td><td style=\"text-align: right;\">      10</td><td style=\"text-align: right;\">     0.00176143</td><td style=\"text-align: right;\">        </td><td style=\"text-align: right;\">      </td><td style=\"text-align: right;\">                </td><td style=\"text-align: right;\">               </td></tr>\n",
       "<tr><td>train_fashion_mnist_9ca59_00049</td><td>PENDING   </td><td>                     </td><td style=\"text-align: right;\">      20</td><td style=\"text-align: right;\">     0.00191202</td><td style=\"text-align: right;\">        </td><td style=\"text-align: right;\">      </td><td style=\"text-align: right;\">                </td><td style=\"text-align: right;\">               </td></tr>\n",
       "<tr><td>train_fashion_mnist_9ca59_00000</td><td>TERMINATED</td><td>141.68.100.65:3411057</td><td style=\"text-align: right;\">      15</td><td style=\"text-align: right;\">     0.0243686 </td><td style=\"text-align: right;\">0.909417</td><td style=\"text-align: right;\">    15</td><td style=\"text-align: right;\">         716.055</td><td style=\"text-align: right;\">       0.25125 </td></tr>\n",
       "<tr><td>train_fashion_mnist_9ca59_00001</td><td>TERMINATED</td><td>141.68.100.65:3411056</td><td style=\"text-align: right;\">      15</td><td style=\"text-align: right;\">     0.0765318 </td><td style=\"text-align: right;\">0.914   </td><td style=\"text-align: right;\">    15</td><td style=\"text-align: right;\">         687.01 </td><td style=\"text-align: right;\">       0.248553</td></tr>\n",
       "<tr><td>train_fashion_mnist_9ca59_00002</td><td>TERMINATED</td><td>141.68.100.65:3411059</td><td style=\"text-align: right;\">       5</td><td style=\"text-align: right;\">     0.024046  </td><td style=\"text-align: right;\">0.883583</td><td style=\"text-align: right;\">     5</td><td style=\"text-align: right;\">         243.189</td><td style=\"text-align: right;\">       0.326328</td></tr>\n",
       "<tr><td>train_fashion_mnist_9ca59_00003</td><td>TERMINATED</td><td>141.68.100.65:3411058</td><td style=\"text-align: right;\">       5</td><td style=\"text-align: right;\">     0.0699512 </td><td style=\"text-align: right;\">0.905833</td><td style=\"text-align: right;\">     5</td><td style=\"text-align: right;\">         249.316</td><td style=\"text-align: right;\">       0.259207</td></tr>\n",
       "<tr><td>train_fashion_mnist_9ca59_00004</td><td>TERMINATED</td><td>141.68.100.65:3451665</td><td style=\"text-align: right;\">      15</td><td style=\"text-align: right;\">     0.00475096</td><td style=\"text-align: right;\">0.878833</td><td style=\"text-align: right;\">    15</td><td style=\"text-align: right;\">         740.983</td><td style=\"text-align: right;\">       0.348302</td></tr>\n",
       "<tr><td>train_fashion_mnist_9ca59_00005</td><td>TERMINATED</td><td>141.68.100.65:3454280</td><td style=\"text-align: right;\">      10</td><td style=\"text-align: right;\">     0.0159869 </td><td style=\"text-align: right;\">0.891083</td><td style=\"text-align: right;\">    10</td><td style=\"text-align: right;\">         447.149</td><td style=\"text-align: right;\">       0.294374</td></tr>\n",
       "</tbody>\n",
       "</table>\n",
       "  </div>\n",
       "</div>\n",
       "<style>\n",
       ".tuneStatus {\n",
       "  color: var(--jp-ui-font-color1);\n",
       "}\n",
       ".tuneStatus .systemInfo {\n",
       "  display: flex;\n",
       "  flex-direction: column;\n",
       "}\n",
       ".tuneStatus td {\n",
       "  white-space: nowrap;\n",
       "}\n",
       ".tuneStatus .trialStatus {\n",
       "  display: flex;\n",
       "  flex-direction: column;\n",
       "}\n",
       ".tuneStatus h3 {\n",
       "  font-weight: bold;\n",
       "}\n",
       ".tuneStatus .hDivider {\n",
       "  border-bottom-width: var(--jp-border-width);\n",
       "  border-bottom-color: var(--jp-border-color0);\n",
       "  border-bottom-style: solid;\n",
       "}\n",
       ".tuneStatus .vDivider {\n",
       "  border-left-width: var(--jp-border-width);\n",
       "  border-left-color: var(--jp-border-color0);\n",
       "  border-left-style: solid;\n",
       "  margin: 0.5em 1em 0.5em 1em;\n",
       "}\n",
       "</style>\n"
      ],
      "text/plain": [
       "<IPython.core.display.HTML object>"
      ]
     },
     "metadata": {},
     "output_type": "display_data"
    },
    {
     "name": "stderr",
     "output_type": "stream",
     "text": [
      "\u001b[2m\u001b[33m(raylet)\u001b[0m [2023-08-22 13:06:10,826 E 1659495 1659513] (raylet) file_system_monitor.cc:111: /tmp/ray/session_2023-08-22_09-44-45_245297_1659393 is over 95% full, available space: 13170388992; capacity: 490444898304. Object creation will fail if spilling is required.\n",
      "2023-08-22 13:06:15,086\tWARNING util.py:315 -- The `on_step_begin` operation took 14.376 s, which may be a performance bottleneck.\n",
      "\u001b[2m\u001b[33m(raylet)\u001b[0m Failed to connect to GCS. Please check `gcs_server.out` for more details.\n",
      "\u001b[2m\u001b[33m(raylet)\u001b[0m Failed to publish error: Traceback (most recent call last):\n",
      "\u001b[2m\u001b[33m(raylet)\u001b[0m   File \"/opt/conda/lib/python3.10/site-packages/ray/_private/worker.py\", line 2144, in connect\n",
      "\u001b[2m\u001b[33m(raylet)\u001b[0m     node.check_version_info()\n",
      "\u001b[2m\u001b[33m(raylet)\u001b[0m   File \"/opt/conda/lib/python3.10/site-packages/ray/_private/node.py\", line 339, in check_version_info\n",
      "\u001b[2m\u001b[33m(raylet)\u001b[0m     cluster_metadata = ray_usage_lib.get_cluster_metadata(self.get_gcs_client())\n",
      "\u001b[2m\u001b[33m(raylet)\u001b[0m   File \"/opt/conda/lib/python3.10/site-packages/ray/_private/usage/usage_lib.py\", line 710, in get_cluster_metadata\n",
      "\u001b[2m\u001b[33m(raylet)\u001b[0m     gcs_client.internal_kv_get(\n",
      "\u001b[2m\u001b[33m(raylet)\u001b[0m   File \"python/ray/_raylet.pyx\", line 2132, in ray._raylet._auto_reconnect.wrapper\n",
      "\u001b[2m\u001b[33m(raylet)\u001b[0m   File \"python/ray/_raylet.pyx\", line 2120, in ray._raylet._auto_reconnect.wrapper\n",
      "\u001b[2m\u001b[33m(raylet)\u001b[0m   File \"python/ray/_raylet.pyx\", line 2185, in ray._raylet.GcsClient.internal_kv_get\n",
      "\u001b[2m\u001b[33m(raylet)\u001b[0m   File \"python/ray/_raylet.pyx\", line 410, in ray._raylet.check_status\n",
      "\u001b[2m\u001b[33m(raylet)\u001b[0m ray.exceptions.RpcError: failed to connect to all addresses\n",
      "\u001b[2m\u001b[33m(raylet)\u001b[0m  [type version_mismatch]\n",
      "\u001b[2m\u001b[33m(raylet)\u001b[0m Traceback (most recent call last):\n",
      "\u001b[2m\u001b[33m(raylet)\u001b[0m   File \"/opt/conda/lib/python3.10/site-packages/ray/_private/worker.py\", line 2144, in connect\n",
      "\u001b[2m\u001b[33m(raylet)\u001b[0m     node.check_version_info()\n",
      "\u001b[2m\u001b[33m(raylet)\u001b[0m   File \"/opt/conda/lib/python3.10/site-packages/ray/_private/node.py\", line 339, in check_version_info\n",
      "\u001b[2m\u001b[33m(raylet)\u001b[0m     cluster_metadata = ray_usage_lib.get_cluster_metadata(self.get_gcs_client())\n",
      "\u001b[2m\u001b[33m(raylet)\u001b[0m   File \"/opt/conda/lib/python3.10/site-packages/ray/_private/usage/usage_lib.py\", line 710, in get_cluster_metadata\n",
      "\u001b[2m\u001b[33m(raylet)\u001b[0m     gcs_client.internal_kv_get(\n",
      "\u001b[2m\u001b[33m(raylet)\u001b[0m   File \"python/ray/_raylet.pyx\", line 2132, in ray._raylet._auto_reconnect.wrapper\n",
      "\u001b[2m\u001b[33m(raylet)\u001b[0m   File \"python/ray/_raylet.pyx\", line 2120, in ray._raylet._auto_reconnect.wrapper\n",
      "\u001b[2m\u001b[33m(raylet)\u001b[0m   File \"python/ray/_raylet.pyx\", line 2185, in ray._raylet.GcsClient.internal_kv_get\n",
      "\u001b[2m\u001b[33m(raylet)\u001b[0m   File \"python/ray/_raylet.pyx\", line 410, in ray._raylet.check_status\n",
      "\u001b[2m\u001b[33m(raylet)\u001b[0m ray.exceptions.RpcError: failed to connect to all addresses\n",
      "\u001b[2m\u001b[33m(raylet)\u001b[0m \n",
      "\u001b[2m\u001b[33m(raylet)\u001b[0m During handling of the above exception, another exception occurred:\n",
      "\u001b[2m\u001b[33m(raylet)\u001b[0m \n",
      "\u001b[2m\u001b[33m(raylet)\u001b[0m Traceback (most recent call last):\n",
      "\u001b[2m\u001b[33m(raylet)\u001b[0m   File \"/opt/conda/lib/python3.10/site-packages/ray/_private/utils.py\", line 203, in publish_error_to_driver\n",
      "\u001b[2m\u001b[33m(raylet)\u001b[0m     gcs_publisher.publish_error(\n",
      "\u001b[2m\u001b[33m(raylet)\u001b[0m   File \"python/ray/_raylet.pyx\", line 2371, in ray._raylet.GcsPublisher.publish_error\n",
      "\u001b[2m\u001b[33m(raylet)\u001b[0m   File \"python/ray/_raylet.pyx\", line 402, in ray._raylet.check_status\n",
      "\u001b[2m\u001b[33m(raylet)\u001b[0m ray.exceptions.GetTimeoutError: Failed to publish after retries: failed to connect to all addresses\n",
      "\u001b[2m\u001b[33m(raylet)\u001b[0m [2023-08-22 13:06:22,256 E 1659495 1659513] (raylet) file_system_monitor.cc:111: /tmp/ray/session_2023-08-22_09-44-45_245297_1659393 is over 95% full, available space: 13170311168; capacity: 490444898304. Object creation will fail if spilling is required.\n",
      "2023-08-22 13:06:33,465\tWARNING util.py:315 -- The `on_step_begin` operation took 8.361 s, which may be a performance bottleneck.\n",
      "\u001b[2m\u001b[33m(raylet)\u001b[0m [2023-08-22 13:06:32,270 E 1659495 1659513] (raylet) file_system_monitor.cc:111: /tmp/ray/session_2023-08-22_09-44-45_245297_1659393 is over 95% full, available space: 13170302976; capacity: 490444898304. Object creation will fail if spilling is required.\n",
      "\u001b[2m\u001b[33m(raylet)\u001b[0m [2023-08-22 13:06:42,599 E 1659495 1659513] (raylet) file_system_monitor.cc:111: /tmp/ray/session_2023-08-22_09-44-45_245297_1659393 is over 95% full, available space: 13170249728; capacity: 490444898304. Object creation will fail if spilling is required.\n",
      "2023-08-22 13:06:50,605\tWARNING util.py:315 -- The `on_step_begin` operation took 1.063 s, which may be a performance bottleneck.\n",
      "\u001b[2m\u001b[33m(raylet)\u001b[0m [2023-08-22 13:06:52,624 E 1659495 1659513] (raylet) file_system_monitor.cc:111: /tmp/ray/session_2023-08-22_09-44-45_245297_1659393 is over 95% full, available space: 13170200576; capacity: 490444898304. Object creation will fail if spilling is required.\n",
      "\u001b[2m\u001b[33m(raylet)\u001b[0m [2023-08-22 13:07:02,634 E 1659495 1659513] (raylet) file_system_monitor.cc:111: /tmp/ray/session_2023-08-22_09-44-45_245297_1659393 is over 95% full, available space: 13170102272; capacity: 490444898304. Object creation will fail if spilling is required.\n",
      "\u001b[2m\u001b[33m(raylet)\u001b[0m [2023-08-22 13:07:12,676 E 1659495 1659513] (raylet) file_system_monitor.cc:111: /tmp/ray/session_2023-08-22_09-44-45_245297_1659393 is over 95% full, available space: 13170061312; capacity: 490444898304. Object creation will fail if spilling is required.\n"
     ]
    },
    {
     "data": {
      "text/html": [
       "<div class=\"trialProgress\">\n",
       "  <h3>Trial Progress</h3>\n",
       "  <table>\n",
       "<thead>\n",
       "<tr><th>Trial name                     </th><th style=\"text-align: right;\">  mean_accuracy</th><th style=\"text-align: right;\">  mean_val_loss</th></tr>\n",
       "</thead>\n",
       "<tbody>\n",
       "<tr><td>train_fashion_mnist_9ca59_00000</td><td style=\"text-align: right;\">       0.909417</td><td style=\"text-align: right;\">       0.25125 </td></tr>\n",
       "<tr><td>train_fashion_mnist_9ca59_00001</td><td style=\"text-align: right;\">       0.914   </td><td style=\"text-align: right;\">       0.248553</td></tr>\n",
       "<tr><td>train_fashion_mnist_9ca59_00002</td><td style=\"text-align: right;\">       0.883583</td><td style=\"text-align: right;\">       0.326328</td></tr>\n",
       "<tr><td>train_fashion_mnist_9ca59_00003</td><td style=\"text-align: right;\">       0.905833</td><td style=\"text-align: right;\">       0.259207</td></tr>\n",
       "<tr><td>train_fashion_mnist_9ca59_00004</td><td style=\"text-align: right;\">       0.878833</td><td style=\"text-align: right;\">       0.348302</td></tr>\n",
       "<tr><td>train_fashion_mnist_9ca59_00005</td><td style=\"text-align: right;\">       0.891083</td><td style=\"text-align: right;\">       0.294374</td></tr>\n",
       "<tr><td>train_fashion_mnist_9ca59_00006</td><td style=\"text-align: right;\">       0.8295  </td><td style=\"text-align: right;\">       0.476954</td></tr>\n",
       "<tr><td>train_fashion_mnist_9ca59_00007</td><td style=\"text-align: right;\">       0.8085  </td><td style=\"text-align: right;\">       0.535065</td></tr>\n",
       "<tr><td>train_fashion_mnist_9ca59_00008</td><td style=\"text-align: right;\">       0.80525 </td><td style=\"text-align: right;\">       0.54239 </td></tr>\n",
       "<tr><td>train_fashion_mnist_9ca59_00009</td><td style=\"text-align: right;\">       0.715417</td><td style=\"text-align: right;\">       0.813952</td></tr>\n",
       "</tbody>\n",
       "</table>\n",
       "</div>\n",
       "<style>\n",
       ".trialProgress {\n",
       "  display: flex;\n",
       "  flex-direction: column;\n",
       "  color: var(--jp-ui-font-color1);\n",
       "}\n",
       ".trialProgress h3 {\n",
       "  font-weight: bold;\n",
       "}\n",
       ".trialProgress td {\n",
       "  white-space: nowrap;\n",
       "}\n",
       "</style>\n"
      ],
      "text/plain": [
       "<IPython.core.display.HTML object>"
      ]
     },
     "metadata": {},
     "output_type": "display_data"
    },
    {
     "name": "stderr",
     "output_type": "stream",
     "text": [
      "\u001b[2m\u001b[33m(raylet)\u001b[0m [2023-08-22 13:07:22,744 E 1659495 1659513] (raylet) file_system_monitor.cc:111: /tmp/ray/session_2023-08-22_09-44-45_245297_1659393 is over 95% full, available space: 13170012160; capacity: 490444898304. Object creation will fail if spilling is required.\n",
      "\u001b[2m\u001b[33m(raylet)\u001b[0m [2023-08-22 13:07:32,758 E 1659495 1659513] (raylet) file_system_monitor.cc:111: /tmp/ray/session_2023-08-22_09-44-45_245297_1659393 is over 95% full, available space: 13170008064; capacity: 490444898304. Object creation will fail if spilling is required.\n",
      "2023-08-22 13:07:41,951\tWARNING util.py:315 -- The `on_step_begin` operation took 0.679 s, which may be a performance bottleneck.\n",
      "\u001b[2m\u001b[33m(raylet)\u001b[0m [2023-08-22 13:07:42,762 E 1659495 1659513] (raylet) file_system_monitor.cc:111: /tmp/ray/session_2023-08-22_09-44-45_245297_1659393 is over 95% full, available space: 13169905664; capacity: 490444898304. Object creation will fail if spilling is required.\n",
      "\u001b[2m\u001b[33m(raylet)\u001b[0m [2023-08-22 13:07:52,826 E 1659495 1659513] (raylet) file_system_monitor.cc:111: /tmp/ray/session_2023-08-22_09-44-45_245297_1659393 is over 95% full, available space: 13169864704; capacity: 490444898304. Object creation will fail if spilling is required.\n",
      "\u001b[2m\u001b[33m(raylet)\u001b[0m [2023-08-22 13:08:02,914 E 1659495 1659513] (raylet) file_system_monitor.cc:111: /tmp/ray/session_2023-08-22_09-44-45_245297_1659393 is over 95% full, available space: 13169844224; capacity: 490444898304. Object creation will fail if spilling is required.\n",
      "2023-08-22 13:08:12,788\tWARNING util.py:315 -- The `on_step_begin` operation took 0.527 s, which may be a performance bottleneck.\n",
      "\u001b[2m\u001b[33m(raylet)\u001b[0m [2023-08-22 13:08:12,936 E 1659495 1659513] (raylet) file_system_monitor.cc:111: /tmp/ray/session_2023-08-22_09-44-45_245297_1659393 is over 95% full, available space: 13169819648; capacity: 490444898304. Object creation will fail if spilling is required.\n",
      "\u001b[2m\u001b[33m(raylet)\u001b[0m [2023-08-22 13:08:23,003 E 1659495 1659513] (raylet) file_system_monitor.cc:111: /tmp/ray/session_2023-08-22_09-44-45_245297_1659393 is over 95% full, available space: 13169790976; capacity: 490444898304. Object creation will fail if spilling is required.\n",
      "\u001b[2m\u001b[33m(raylet)\u001b[0m [2023-08-22 13:08:33,067 E 1659495 1659513] (raylet) file_system_monitor.cc:111: /tmp/ray/session_2023-08-22_09-44-45_245297_1659393 is over 95% full, available space: 13169762304; capacity: 490444898304. Object creation will fail if spilling is required.\n",
      "\u001b[2m\u001b[33m(raylet)\u001b[0m [2023-08-22 13:08:43,105 E 1659495 1659513] (raylet) file_system_monitor.cc:111: /tmp/ray/session_2023-08-22_09-44-45_245297_1659393 is over 95% full, available space: 13169745920; capacity: 490444898304. Object creation will fail if spilling is required.\n",
      "\u001b[2m\u001b[33m(raylet)\u001b[0m [2023-08-22 13:08:53,112 E 1659495 1659513] (raylet) file_system_monitor.cc:111: /tmp/ray/session_2023-08-22_09-44-45_245297_1659393 is over 95% full, available space: 13169729536; capacity: 490444898304. Object creation will fail if spilling is required.\n",
      "\u001b[2m\u001b[33m(raylet)\u001b[0m [2023-08-22 13:09:03,157 E 1659495 1659513] (raylet) file_system_monitor.cc:111: /tmp/ray/session_2023-08-22_09-44-45_245297_1659393 is over 95% full, available space: 13169680384; capacity: 490444898304. Object creation will fail if spilling is required.\n",
      "\u001b[2m\u001b[33m(raylet)\u001b[0m [2023-08-22 13:09:13,210 E 1659495 1659513] (raylet) file_system_monitor.cc:111: /tmp/ray/session_2023-08-22_09-44-45_245297_1659393 is over 95% full, available space: 13169647616; capacity: 490444898304. Object creation will fail if spilling is required.\n",
      "\u001b[2m\u001b[33m(raylet)\u001b[0m [2023-08-22 13:09:23,305 E 1659495 1659513] (raylet) file_system_monitor.cc:111: /tmp/ray/session_2023-08-22_09-44-45_245297_1659393 is over 95% full, available space: 13169598464; capacity: 490444898304. Object creation will fail if spilling is required.\n",
      "\u001b[2m\u001b[33m(raylet)\u001b[0m [2023-08-22 13:09:33,325 E 1659495 1659513] (raylet) file_system_monitor.cc:111: /tmp/ray/session_2023-08-22_09-44-45_245297_1659393 is over 95% full, available space: 13169598464; capacity: 490444898304. Object creation will fail if spilling is required.\n",
      "\u001b[2m\u001b[33m(raylet)\u001b[0m [2023-08-22 13:09:43,608 E 1659495 1659513] (raylet) file_system_monitor.cc:111: /tmp/ray/session_2023-08-22_09-44-45_245297_1659393 is over 95% full, available space: 13169569792; capacity: 490444898304. Object creation will fail if spilling is required.\n",
      "2023-08-22 13:09:44,977\tWARNING util.py:315 -- The `on_step_begin` operation took 0.574 s, which may be a performance bottleneck.\n",
      "\u001b[2m\u001b[33m(raylet)\u001b[0m [2023-08-22 13:09:53,781 E 1659495 1659513] (raylet) file_system_monitor.cc:111: /tmp/ray/session_2023-08-22_09-44-45_245297_1659393 is over 95% full, available space: 13169561600; capacity: 490444898304. Object creation will fail if spilling is required.\n",
      "2023-08-22 13:09:55,891\tWARNING util.py:315 -- The `on_step_begin` operation took 0.813 s, which may be a performance bottleneck.\n",
      "\u001b[2m\u001b[33m(raylet)\u001b[0m [2023-08-22 13:10:03,940 E 1659495 1659513] (raylet) file_system_monitor.cc:111: /tmp/ray/session_2023-08-22_09-44-45_245297_1659393 is over 95% full, available space: 13169516544; capacity: 490444898304. Object creation will fail if spilling is required.\n",
      "\u001b[2m\u001b[33m(raylet)\u001b[0m [2023-08-22 13:10:14,014 E 1659495 1659513] (raylet) file_system_monitor.cc:111: /tmp/ray/session_2023-08-22_09-44-45_245297_1659393 is over 95% full, available space: 13169483776; capacity: 490444898304. Object creation will fail if spilling is required.\n",
      "\u001b[2m\u001b[33m(raylet)\u001b[0m [2023-08-22 13:10:24,089 E 1659495 1659513] (raylet) file_system_monitor.cc:111: /tmp/ray/session_2023-08-22_09-44-45_245297_1659393 is over 95% full, available space: 13169467392; capacity: 490444898304. Object creation will fail if spilling is required.\n",
      "\u001b[2m\u001b[33m(raylet)\u001b[0m [2023-08-22 13:10:34,168 E 1659495 1659513] (raylet) file_system_monitor.cc:111: /tmp/ray/session_2023-08-22_09-44-45_245297_1659393 is over 95% full, available space: 13169442816; capacity: 490444898304. Object creation will fail if spilling is required.\n"
     ]
    },
    {
     "name": "stdout",
     "output_type": "stream",
     "text": [
      "Trial 9ca59_00002: Chosen l1 = 64\n"
     ]
    },
    {
     "name": "stderr",
     "output_type": "stream",
     "text": [
      "\u001b[2m\u001b[33m(raylet)\u001b[0m [2023-08-22 13:10:44,181 E 1659495 1659513] (raylet) file_system_monitor.cc:111: /tmp/ray/session_2023-08-22_09-44-45_245297_1659393 is over 95% full, available space: 13169418240; capacity: 490444898304. Object creation will fail if spilling is required.\n",
      "2023-08-22 13:10:50,339\tWARNING util.py:315 -- The `on_step_begin` operation took 3.022 s, which may be a performance bottleneck.\n",
      "\u001b[2m\u001b[33m(raylet)\u001b[0m [2023-08-22 13:10:54,211 E 1659495 1659513] (raylet) file_system_monitor.cc:111: /tmp/ray/session_2023-08-22_09-44-45_245297_1659393 is over 95% full, available space: 13169389568; capacity: 490444898304. Object creation will fail if spilling is required.\n"
     ]
    },
    {
     "name": "stdout",
     "output_type": "stream",
     "text": [
      "Trial 9ca59_00003: Chosen l1 = 64\n"
     ]
    },
    {
     "name": "stderr",
     "output_type": "stream",
     "text": [
      "2023-08-22 13:11:02,586\tWARNING util.py:315 -- The `on_step_begin` operation took 2.157 s, which may be a performance bottleneck.\n",
      "\u001b[2m\u001b[33m(raylet)\u001b[0m [2023-08-22 13:11:04,530 E 1659495 1659513] (raylet) file_system_monitor.cc:111: /tmp/ray/session_2023-08-22_09-44-45_245297_1659393 is over 95% full, available space: 13169352704; capacity: 490444898304. Object creation will fail if spilling is required.\n",
      "2023-08-22 13:11:16,245\tWARNING util.py:315 -- The `on_step_begin` operation took 3.575 s, which may be a performance bottleneck.\n",
      "\u001b[2m\u001b[33m(raylet)\u001b[0m [2023-08-22 13:11:14,596 E 1659495 1659513] (raylet) file_system_monitor.cc:111: /tmp/ray/session_2023-08-22_09-44-45_245297_1659393 is over 95% full, available space: 13169270784; capacity: 490444898304. Object creation will fail if spilling is required.\n",
      "\u001b[2m\u001b[33m(raylet)\u001b[0m [2023-08-22 13:11:24,691 E 1659495 1659513] (raylet) file_system_monitor.cc:111: /tmp/ray/session_2023-08-22_09-44-45_245297_1659393 is over 95% full, available space: 13169217536; capacity: 490444898304. Object creation will fail if spilling is required.\n",
      "\u001b[2m\u001b[33m(raylet)\u001b[0m [2023-08-22 13:11:34,747 E 1659495 1659513] (raylet) file_system_monitor.cc:111: /tmp/ray/session_2023-08-22_09-44-45_245297_1659393 is over 95% full, available space: 13169184768; capacity: 490444898304. Object creation will fail if spilling is required.\n",
      "2023-08-22 13:11:37,124\tWARNING util.py:315 -- The `on_step_begin` operation took 0.693 s, which may be a performance bottleneck.\n",
      "\u001b[2m\u001b[33m(raylet)\u001b[0m [2023-08-22 13:11:44,780 E 1659495 1659513] (raylet) file_system_monitor.cc:111: /tmp/ray/session_2023-08-22_09-44-45_245297_1659393 is over 95% full, available space: 13169172480; capacity: 490444898304. Object creation will fail if spilling is required.\n",
      "\u001b[2m\u001b[33m(raylet)\u001b[0m [2023-08-22 13:11:54,871 E 1659495 1659513] (raylet) file_system_monitor.cc:111: /tmp/ray/session_2023-08-22_09-44-45_245297_1659393 is over 95% full, available space: 13169147904; capacity: 490444898304. Object creation will fail if spilling is required.\n",
      "\u001b[2m\u001b[33m(raylet)\u001b[0m [2023-08-22 13:12:04,895 E 1659495 1659513] (raylet) file_system_monitor.cc:111: /tmp/ray/session_2023-08-22_09-44-45_245297_1659393 is over 95% full, available space: 13169102848; capacity: 490444898304. Object creation will fail if spilling is required.\n",
      "\u001b[2m\u001b[33m(raylet)\u001b[0m [2023-08-22 13:12:14,895 E 1659495 1659513] (raylet) file_system_monitor.cc:111: /tmp/ray/session_2023-08-22_09-44-45_245297_1659393 is over 95% full, available space: 13169025024; capacity: 490444898304. Object creation will fail if spilling is required.\n",
      "\u001b[2m\u001b[33m(raylet)\u001b[0m [2023-08-22 13:12:24,984 E 1659495 1659513] (raylet) file_system_monitor.cc:111: /tmp/ray/session_2023-08-22_09-44-45_245297_1659393 is over 95% full, available space: 13169008640; capacity: 490444898304. Object creation will fail if spilling is required.\n",
      "\u001b[2m\u001b[33m(raylet)\u001b[0m [2023-08-22 13:12:35,059 E 1659495 1659513] (raylet) file_system_monitor.cc:111: /tmp/ray/session_2023-08-22_09-44-45_245297_1659393 is over 95% full, available space: 13169008640; capacity: 490444898304. Object creation will fail if spilling is required.\n",
      "\u001b[2m\u001b[33m(raylet)\u001b[0m [2023-08-22 13:12:45,124 E 1659495 1659513] (raylet) file_system_monitor.cc:111: /tmp/ray/session_2023-08-22_09-44-45_245297_1659393 is over 95% full, available space: 13168984064; capacity: 490444898304. Object creation will fail if spilling is required.\n",
      "\u001b[2m\u001b[33m(raylet)\u001b[0m [2023-08-22 13:12:55,178 E 1659495 1659513] (raylet) file_system_monitor.cc:111: /tmp/ray/session_2023-08-22_09-44-45_245297_1659393 is over 95% full, available space: 13168943104; capacity: 490444898304. Object creation will fail if spilling is required.\n",
      "\u001b[2m\u001b[33m(raylet)\u001b[0m [2023-08-22 13:13:05,246 E 1659495 1659513] (raylet) file_system_monitor.cc:111: /tmp/ray/session_2023-08-22_09-44-45_245297_1659393 is over 95% full, available space: 13168898048; capacity: 490444898304. Object creation will fail if spilling is required.\n",
      "\u001b[2m\u001b[33m(raylet)\u001b[0m [2023-08-22 13:13:15,270 E 1659495 1659513] (raylet) file_system_monitor.cc:111: /tmp/ray/session_2023-08-22_09-44-45_245297_1659393 is over 95% full, available space: 13168865280; capacity: 490444898304. Object creation will fail if spilling is required.\n",
      "\u001b[2m\u001b[33m(raylet)\u001b[0m [2023-08-22 13:13:25,349 E 1659495 1659513] (raylet) file_system_monitor.cc:111: /tmp/ray/session_2023-08-22_09-44-45_245297_1659393 is over 95% full, available space: 13168844800; capacity: 490444898304. Object creation will fail if spilling is required.\n",
      "\u001b[2m\u001b[33m(raylet)\u001b[0m [2023-08-22 13:13:35,421 E 1659495 1659513] (raylet) file_system_monitor.cc:111: /tmp/ray/session_2023-08-22_09-44-45_245297_1659393 is over 95% full, available space: 13168812032; capacity: 490444898304. Object creation will fail if spilling is required.\n",
      "\u001b[2m\u001b[33m(raylet)\u001b[0m [2023-08-22 13:13:45,459 E 1659495 1659513] (raylet) file_system_monitor.cc:111: /tmp/ray/session_2023-08-22_09-44-45_245297_1659393 is over 95% full, available space: 13168766976; capacity: 490444898304. Object creation will fail if spilling is required.\n",
      "\u001b[2m\u001b[33m(raylet)\u001b[0m [2023-08-22 13:13:55,469 E 1659495 1659513] (raylet) file_system_monitor.cc:111: /tmp/ray/session_2023-08-22_09-44-45_245297_1659393 is over 95% full, available space: 13168746496; capacity: 490444898304. Object creation will fail if spilling is required.\n",
      "\u001b[2m\u001b[33m(raylet)\u001b[0m [2023-08-22 13:14:05,558 E 1659495 1659513] (raylet) file_system_monitor.cc:111: /tmp/ray/session_2023-08-22_09-44-45_245297_1659393 is over 95% full, available space: 13168738304; capacity: 490444898304. Object creation will fail if spilling is required.\n",
      "\u001b[2m\u001b[33m(raylet)\u001b[0m [2023-08-22 13:14:15,597 E 1659495 1659513] (raylet) file_system_monitor.cc:111: /tmp/ray/session_2023-08-22_09-44-45_245297_1659393 is over 95% full, available space: 13168701440; capacity: 490444898304. Object creation will fail if spilling is required.\n",
      "\u001b[2m\u001b[33m(raylet)\u001b[0m [2023-08-22 13:14:25,686 E 1659495 1659513] (raylet) file_system_monitor.cc:111: /tmp/ray/session_2023-08-22_09-44-45_245297_1659393 is over 95% full, available space: 13168672768; capacity: 490444898304. Object creation will fail if spilling is required.\n",
      "\u001b[2m\u001b[33m(raylet)\u001b[0m [2023-08-22 13:14:35,711 E 1659495 1659513] (raylet) file_system_monitor.cc:111: /tmp/ray/session_2023-08-22_09-44-45_245297_1659393 is over 95% full, available space: 13168640000; capacity: 490444898304. Object creation will fail if spilling is required.\n",
      "2023-08-22 13:14:41,209\tWARNING util.py:315 -- The `on_step_begin` operation took 0.652 s, which may be a performance bottleneck.\n",
      "\u001b[2m\u001b[33m(raylet)\u001b[0m [2023-08-22 13:14:45,972 E 1659495 1659513] (raylet) file_system_monitor.cc:111: /tmp/ray/session_2023-08-22_09-44-45_245297_1659393 is over 95% full, available space: 13168627712; capacity: 490444898304. Object creation will fail if spilling is required.\n",
      "\u001b[2m\u001b[33m(raylet)\u001b[0m [2023-08-22 13:14:56,038 E 1659495 1659513] (raylet) file_system_monitor.cc:111: /tmp/ray/session_2023-08-22_09-44-45_245297_1659393 is over 95% full, available space: 13168627712; capacity: 490444898304. Object creation will fail if spilling is required.\n",
      "\u001b[2m\u001b[33m(raylet)\u001b[0m [2023-08-22 13:15:06,122 E 1659495 1659513] (raylet) file_system_monitor.cc:111: /tmp/ray/session_2023-08-22_09-44-45_245297_1659393 is over 95% full, available space: 13168566272; capacity: 490444898304. Object creation will fail if spilling is required.\n",
      "\u001b[2m\u001b[33m(raylet)\u001b[0m [2023-08-22 13:15:16,172 E 1659495 1659513] (raylet) file_system_monitor.cc:111: /tmp/ray/session_2023-08-22_09-44-45_245297_1659393 is over 95% full, available space: 13168517120; capacity: 490444898304. Object creation will fail if spilling is required.\n",
      "\u001b[2m\u001b[33m(raylet)\u001b[0m [2023-08-22 13:15:26,196 E 1659495 1659513] (raylet) file_system_monitor.cc:111: /tmp/ray/session_2023-08-22_09-44-45_245297_1659393 is over 95% full, available space: 13168476160; capacity: 490444898304. Object creation will fail if spilling is required.\n",
      "2023-08-22 13:15:33,531\tWARNING util.py:315 -- The `on_step_begin` operation took 0.518 s, which may be a performance bottleneck.\n",
      "\u001b[2m\u001b[33m(raylet)\u001b[0m [2023-08-22 13:15:36,254 E 1659495 1659513] (raylet) file_system_monitor.cc:111: /tmp/ray/session_2023-08-22_09-44-45_245297_1659393 is over 95% full, available space: 13168467968; capacity: 490444898304. Object creation will fail if spilling is required.\n",
      "\u001b[2m\u001b[33m(raylet)\u001b[0m [2023-08-22 13:15:46,283 E 1659495 1659513] (raylet) file_system_monitor.cc:111: /tmp/ray/session_2023-08-22_09-44-45_245297_1659393 is over 95% full, available space: 13168459776; capacity: 490444898304. Object creation will fail if spilling is required.\n",
      "\u001b[2m\u001b[33m(raylet)\u001b[0m [2023-08-22 13:15:56,299 E 1659495 1659513] (raylet) file_system_monitor.cc:111: /tmp/ray/session_2023-08-22_09-44-45_245297_1659393 is over 95% full, available space: 13168427008; capacity: 490444898304. Object creation will fail if spilling is required.\n",
      "2023-08-22 13:16:05,293\tWARNING util.py:315 -- The `on_step_begin` operation took 0.731 s, which may be a performance bottleneck.\n",
      "\u001b[2m\u001b[33m(raylet)\u001b[0m [2023-08-22 13:16:06,324 E 1659495 1659513] (raylet) file_system_monitor.cc:111: /tmp/ray/session_2023-08-22_09-44-45_245297_1659393 is over 95% full, available space: 13168381952; capacity: 490444898304. Object creation will fail if spilling is required.\n",
      "2023-08-22 13:16:15,938\tWARNING util.py:315 -- The `on_step_begin` operation took 0.638 s, which may be a performance bottleneck.\n",
      "\u001b[2m\u001b[33m(raylet)\u001b[0m [2023-08-22 13:16:16,338 E 1659495 1659513] (raylet) file_system_monitor.cc:111: /tmp/ray/session_2023-08-22_09-44-45_245297_1659393 is over 95% full, available space: 13168340992; capacity: 490444898304. Object creation will fail if spilling is required.\n",
      "\u001b[2m\u001b[33m(raylet)\u001b[0m [2023-08-22 13:16:26,348 E 1659495 1659513] (raylet) file_system_monitor.cc:111: /tmp/ray/session_2023-08-22_09-44-45_245297_1659393 is over 95% full, available space: 13168320512; capacity: 490444898304. Object creation will fail if spilling is required.\n",
      "\u001b[2m\u001b[33m(raylet)\u001b[0m [2023-08-22 13:16:36,519 E 1659495 1659513] (raylet) file_system_monitor.cc:111: /tmp/ray/session_2023-08-22_09-44-45_245297_1659393 is over 95% full, available space: 13168304128; capacity: 490444898304. Object creation will fail if spilling is required.\n",
      "\u001b[2m\u001b[33m(raylet)\u001b[0m [2023-08-22 13:16:46,620 E 1659495 1659513] (raylet) file_system_monitor.cc:111: /tmp/ray/session_2023-08-22_09-44-45_245297_1659393 is over 95% full, available space: 13168259072; capacity: 490444898304. Object creation will fail if spilling is required.\n",
      "2023-08-22 13:16:48,244\tWARNING util.py:315 -- The `on_step_begin` operation took 1.325 s, which may be a performance bottleneck.\n",
      "\u001b[2m\u001b[33m(raylet)\u001b[0m [2023-08-22 13:16:56,688 E 1659495 1659513] (raylet) file_system_monitor.cc:111: /tmp/ray/session_2023-08-22_09-44-45_245297_1659393 is over 95% full, available space: 13168238592; capacity: 490444898304. Object creation will fail if spilling is required.\n",
      "\u001b[2m\u001b[33m(raylet)\u001b[0m [2023-08-22 13:17:06,823 E 1659495 1659513] (raylet) file_system_monitor.cc:111: /tmp/ray/session_2023-08-22_09-44-45_245297_1659393 is over 95% full, available space: 13168197632; capacity: 490444898304. Object creation will fail if spilling is required.\n",
      "\u001b[2m\u001b[33m(raylet)\u001b[0m [2023-08-22 13:17:16,932 E 1659495 1659513] (raylet) file_system_monitor.cc:111: /tmp/ray/session_2023-08-22_09-44-45_245297_1659393 is over 95% full, available space: 13168164864; capacity: 490444898304. Object creation will fail if spilling is required.\n",
      "\u001b[2m\u001b[33m(raylet)\u001b[0m [2023-08-22 13:17:27,020 E 1659495 1659513] (raylet) file_system_monitor.cc:111: /tmp/ray/session_2023-08-22_09-44-45_245297_1659393 is over 95% full, available space: 13168119808; capacity: 490444898304. Object creation will fail if spilling is required.\n",
      "\u001b[2m\u001b[33m(raylet)\u001b[0m [2023-08-22 13:17:37,048 E 1659495 1659513] (raylet) file_system_monitor.cc:111: /tmp/ray/session_2023-08-22_09-44-45_245297_1659393 is over 95% full, available space: 13168095232; capacity: 490444898304. Object creation will fail if spilling is required.\n",
      "\u001b[2m\u001b[33m(raylet)\u001b[0m [2023-08-22 13:17:47,072 E 1659495 1659513] (raylet) file_system_monitor.cc:111: /tmp/ray/session_2023-08-22_09-44-45_245297_1659393 is over 95% full, available space: 13168087040; capacity: 490444898304. Object creation will fail if spilling is required.\n",
      "\u001b[2m\u001b[33m(raylet)\u001b[0m [2023-08-22 13:17:57,128 E 1659495 1659513] (raylet) file_system_monitor.cc:111: /tmp/ray/session_2023-08-22_09-44-45_245297_1659393 is over 95% full, available space: 13168078848; capacity: 490444898304. Object creation will fail if spilling is required.\n",
      "\u001b[2m\u001b[33m(raylet)\u001b[0m [2023-08-22 13:18:07,162 E 1659495 1659513] (raylet) file_system_monitor.cc:111: /tmp/ray/session_2023-08-22_09-44-45_245297_1659393 is over 95% full, available space: 13168054272; capacity: 490444898304. Object creation will fail if spilling is required.\n",
      "\u001b[2m\u001b[33m(raylet)\u001b[0m [2023-08-22 13:18:17,178 E 1659495 1659513] (raylet) file_system_monitor.cc:111: /tmp/ray/session_2023-08-22_09-44-45_245297_1659393 is over 95% full, available space: 13167996928; capacity: 490444898304. Object creation will fail if spilling is required.\n"
     ]
    },
    {
     "name": "stdout",
     "output_type": "stream",
     "text": [
      "Trial 9ca59_00001: Chosen l1 = 64\n"
     ]
    },
    {
     "name": "stderr",
     "output_type": "stream",
     "text": [
      "2023-08-22 13:18:21,199\tWARNING util.py:315 -- The `on_step_begin` operation took 0.738 s, which may be a performance bottleneck.\n",
      "\u001b[2m\u001b[33m(raylet)\u001b[0m [2023-08-22 13:18:27,180 E 1659495 1659513] (raylet) file_system_monitor.cc:111: /tmp/ray/session_2023-08-22_09-44-45_245297_1659393 is over 95% full, available space: 13167980544; capacity: 490444898304. Object creation will fail if spilling is required.\n",
      "2023-08-22 13:18:33,875\tWARNING util.py:315 -- The `on_step_begin` operation took 1.702 s, which may be a performance bottleneck.\n",
      "\u001b[2m\u001b[33m(raylet)\u001b[0m [2023-08-22 13:18:37,211 E 1659495 1659513] (raylet) file_system_monitor.cc:111: /tmp/ray/session_2023-08-22_09-44-45_245297_1659393 is over 95% full, available space: 13167955968; capacity: 490444898304. Object creation will fail if spilling is required.\n",
      "2023-08-22 13:18:45,704\tWARNING util.py:315 -- The `on_step_begin` operation took 1.784 s, which may be a performance bottleneck.\n"
     ]
    },
    {
     "name": "stdout",
     "output_type": "stream",
     "text": [
      "Trial 9ca59_00000: Chosen l1 = 64\n"
     ]
    },
    {
     "name": "stderr",
     "output_type": "stream",
     "text": [
      "\u001b[2m\u001b[33m(raylet)\u001b[0m [2023-08-22 13:18:47,263 E 1659495 1659513] (raylet) file_system_monitor.cc:111: /tmp/ray/session_2023-08-22_09-44-45_245297_1659393 is over 95% full, available space: 13167939584; capacity: 490444898304. Object creation will fail if spilling is required.\n"
     ]
    },
    {
     "name": "stdout",
     "output_type": "stream",
     "text": [
      "Trial 9ca59_00005: Chosen l1 = 64\n"
     ]
    },
    {
     "name": "stderr",
     "output_type": "stream",
     "text": [
      "\u001b[2m\u001b[33m(raylet)\u001b[0m [2023-08-22 13:18:57,323 E 1659495 1659513] (raylet) file_system_monitor.cc:111: /tmp/ray/session_2023-08-22_09-44-45_245297_1659393 is over 95% full, available space: 13167906816; capacity: 490444898304. Object creation will fail if spilling is required.\n",
      "\u001b[2m\u001b[33m(raylet)\u001b[0m [2023-08-22 13:19:07,392 E 1659495 1659513] (raylet) file_system_monitor.cc:111: /tmp/ray/session_2023-08-22_09-44-45_245297_1659393 is over 95% full, available space: 13167833088; capacity: 490444898304. Object creation will fail if spilling is required.\n",
      "\u001b[2m\u001b[33m(raylet)\u001b[0m [2023-08-22 13:19:17,502 E 1659495 1659513] (raylet) file_system_monitor.cc:111: /tmp/ray/session_2023-08-22_09-44-45_245297_1659393 is over 95% full, available space: 13167828992; capacity: 490444898304. Object creation will fail if spilling is required.\n",
      "2023-08-22 13:19:20,396\tWARNING util.py:315 -- The `on_step_begin` operation took 7.119 s, which may be a performance bottleneck.\n",
      "\u001b[2m\u001b[33m(raylet)\u001b[0m [2023-08-22 13:19:27,533 E 1659495 1659513] (raylet) file_system_monitor.cc:111: /tmp/ray/session_2023-08-22_09-44-45_245297_1659393 is over 95% full, available space: 13167759360; capacity: 490444898304. Object creation will fail if spilling is required.\n",
      "2023-08-22 13:19:33,190\tWARNING util.py:315 -- The `on_step_begin` operation took 2.735 s, which may be a performance bottleneck.\n",
      "\u001b[2m\u001b[33m(raylet)\u001b[0m [2023-08-22 13:19:37,623 E 1659495 1659513] (raylet) file_system_monitor.cc:111: /tmp/ray/session_2023-08-22_09-44-45_245297_1659393 is over 95% full, available space: 13167693824; capacity: 490444898304. Object creation will fail if spilling is required.\n",
      "2023-08-22 13:19:44,068\tWARNING util.py:315 -- The `on_step_begin` operation took 0.855 s, which may be a performance bottleneck.\n",
      "\u001b[2m\u001b[33m(raylet)\u001b[0m [2023-08-22 13:19:47,653 E 1659495 1659513] (raylet) file_system_monitor.cc:111: /tmp/ray/session_2023-08-22_09-44-45_245297_1659393 is over 95% full, available space: 13167673344; capacity: 490444898304. Object creation will fail if spilling is required.\n",
      "\u001b[2m\u001b[33m(raylet)\u001b[0m [2023-08-22 13:19:57,725 E 1659495 1659513] (raylet) file_system_monitor.cc:111: /tmp/ray/session_2023-08-22_09-44-45_245297_1659393 is over 95% full, available space: 13167665152; capacity: 490444898304. Object creation will fail if spilling is required.\n",
      "2023-08-22 13:20:05,108\tWARNING util.py:315 -- The `on_step_begin` operation took 0.836 s, which may be a performance bottleneck.\n",
      "\u001b[2m\u001b[33m(raylet)\u001b[0m [2023-08-22 13:20:07,790 E 1659495 1659513] (raylet) file_system_monitor.cc:111: /tmp/ray/session_2023-08-22_09-44-45_245297_1659393 is over 95% full, available space: 13167636480; capacity: 490444898304. Object creation will fail if spilling is required.\n",
      "2023-08-22 13:20:15,864\tWARNING util.py:315 -- The `on_step_begin` operation took 0.690 s, which may be a performance bottleneck.\n",
      "\u001b[2m\u001b[33m(raylet)\u001b[0m [2023-08-22 13:20:17,809 E 1659495 1659513] (raylet) file_system_monitor.cc:111: /tmp/ray/session_2023-08-22_09-44-45_245297_1659393 is over 95% full, available space: 13167591424; capacity: 490444898304. Object creation will fail if spilling is required.\n",
      "2023-08-22 13:20:26,634\tWARNING util.py:315 -- The `on_step_begin` operation took 0.699 s, which may be a performance bottleneck.\n",
      "\u001b[2m\u001b[33m(raylet)\u001b[0m [2023-08-22 13:20:27,899 E 1659495 1659513] (raylet) file_system_monitor.cc:111: /tmp/ray/session_2023-08-22_09-44-45_245297_1659393 is over 95% full, available space: 13167521792; capacity: 490444898304. Object creation will fail if spilling is required.\n",
      "2023-08-22 13:20:37,325\tWARNING util.py:315 -- The `on_step_begin` operation took 0.605 s, which may be a performance bottleneck.\n",
      "\u001b[2m\u001b[33m(raylet)\u001b[0m [2023-08-22 13:20:37,968 E 1659495 1659513] (raylet) file_system_monitor.cc:111: /tmp/ray/session_2023-08-22_09-44-45_245297_1659393 is over 95% full, available space: 13167517696; capacity: 490444898304. Object creation will fail if spilling is required.\n",
      "\u001b[2m\u001b[33m(raylet)\u001b[0m [2023-08-22 13:20:48,018 E 1659495 1659513] (raylet) file_system_monitor.cc:111: /tmp/ray/session_2023-08-22_09-44-45_245297_1659393 is over 95% full, available space: 13167501312; capacity: 490444898304. Object creation will fail if spilling is required.\n",
      "\u001b[2m\u001b[33m(raylet)\u001b[0m [2023-08-22 13:20:58,041 E 1659495 1659513] (raylet) file_system_monitor.cc:111: /tmp/ray/session_2023-08-22_09-44-45_245297_1659393 is over 95% full, available space: 13167468544; capacity: 490444898304. Object creation will fail if spilling is required.\n",
      "2023-08-22 13:20:58,671\tWARNING util.py:315 -- The `on_step_begin` operation took 0.788 s, which may be a performance bottleneck.\n",
      "\u001b[2m\u001b[33m(raylet)\u001b[0m [2023-08-22 13:21:08,114 E 1659495 1659513] (raylet) file_system_monitor.cc:111: /tmp/ray/session_2023-08-22_09-44-45_245297_1659393 is over 95% full, available space: 13167415296; capacity: 490444898304. Object creation will fail if spilling is required.\n",
      "2023-08-22 13:21:09,619\tWARNING util.py:315 -- The `on_step_begin` operation took 0.930 s, which may be a performance bottleneck.\n",
      "\u001b[2m\u001b[33m(raylet)\u001b[0m [2023-08-22 13:21:18,214 E 1659495 1659513] (raylet) file_system_monitor.cc:111: /tmp/ray/session_2023-08-22_09-44-45_245297_1659393 is over 95% full, available space: 13167398912; capacity: 490444898304. Object creation will fail if spilling is required.\n",
      "\u001b[2m\u001b[33m(raylet)\u001b[0m [2023-08-22 13:21:28,282 E 1659495 1659513] (raylet) file_system_monitor.cc:111: /tmp/ray/session_2023-08-22_09-44-45_245297_1659393 is over 95% full, available space: 13167366144; capacity: 490444898304. Object creation will fail if spilling is required.\n",
      "\u001b[2m\u001b[33m(raylet)\u001b[0m [2023-08-22 13:21:38,312 E 1659495 1659513] (raylet) file_system_monitor.cc:111: /tmp/ray/session_2023-08-22_09-44-45_245297_1659393 is over 95% full, available space: 13167337472; capacity: 490444898304. Object creation will fail if spilling is required.\n",
      "2023-08-22 13:21:41,125\tWARNING util.py:315 -- The `on_step_begin` operation took 1.029 s, which may be a performance bottleneck.\n",
      "\u001b[2m\u001b[33m(raylet)\u001b[0m [2023-08-22 13:21:48,349 E 1659495 1659513] (raylet) file_system_monitor.cc:111: /tmp/ray/session_2023-08-22_09-44-45_245297_1659393 is over 95% full, available space: 13167308800; capacity: 490444898304. Object creation will fail if spilling is required.\n",
      "\u001b[2m\u001b[33m(raylet)\u001b[0m [2023-08-22 13:21:58,431 E 1659495 1659513] (raylet) file_system_monitor.cc:111: /tmp/ray/session_2023-08-22_09-44-45_245297_1659393 is over 95% full, available space: 13167280128; capacity: 490444898304. Object creation will fail if spilling is required.\n",
      "\u001b[2m\u001b[33m(raylet)\u001b[0m [2023-08-22 13:22:08,433 E 1659495 1659513] (raylet) file_system_monitor.cc:111: /tmp/ray/session_2023-08-22_09-44-45_245297_1659393 is over 95% full, available space: 13167263744; capacity: 490444898304. Object creation will fail if spilling is required.\n",
      "2023-08-22 13:22:12,844\tWARNING util.py:315 -- The `on_step_begin` operation took 0.833 s, which may be a performance bottleneck.\n",
      "\u001b[2m\u001b[33m(raylet)\u001b[0m [2023-08-22 13:22:18,457 E 1659495 1659513] (raylet) file_system_monitor.cc:111: /tmp/ray/session_2023-08-22_09-44-45_245297_1659393 is over 95% full, available space: 13167267840; capacity: 490444898304. Object creation will fail if spilling is required.\n",
      "\u001b[2m\u001b[33m(raylet)\u001b[0m [2023-08-22 13:22:28,476 E 1659495 1659513] (raylet) file_system_monitor.cc:111: /tmp/ray/session_2023-08-22_09-44-45_245297_1659393 is over 95% full, available space: 13167194112; capacity: 490444898304. Object creation will fail if spilling is required.\n",
      "2023-08-22 13:22:33,991\tWARNING util.py:315 -- The `on_step_begin` operation took 0.772 s, which may be a performance bottleneck.\n",
      "\u001b[2m\u001b[33m(raylet)\u001b[0m [2023-08-22 13:22:38,539 E 1659495 1659513] (raylet) file_system_monitor.cc:111: /tmp/ray/session_2023-08-22_09-44-45_245297_1659393 is over 95% full, available space: 13167157248; capacity: 490444898304. Object creation will fail if spilling is required.\n",
      "\u001b[2m\u001b[33m(raylet)\u001b[0m [2023-08-22 13:22:48,588 E 1659495 1659513] (raylet) file_system_monitor.cc:111: /tmp/ray/session_2023-08-22_09-44-45_245297_1659393 is over 95% full, available space: 13167144960; capacity: 490444898304. Object creation will fail if spilling is required.\n",
      "\u001b[2m\u001b[33m(raylet)\u001b[0m [2023-08-22 13:22:58,681 E 1659495 1659513] (raylet) file_system_monitor.cc:111: /tmp/ray/session_2023-08-22_09-44-45_245297_1659393 is over 95% full, available space: 13167136768; capacity: 490444898304. Object creation will fail if spilling is required.\n",
      "2023-08-22 13:23:04,896\tWARNING util.py:315 -- The `on_step_begin` operation took 0.580 s, which may be a performance bottleneck.\n",
      "\u001b[2m\u001b[33m(raylet)\u001b[0m [2023-08-22 13:23:08,718 E 1659495 1659513] (raylet) file_system_monitor.cc:111: /tmp/ray/session_2023-08-22_09-44-45_245297_1659393 is over 95% full, available space: 13167095808; capacity: 490444898304. Object creation will fail if spilling is required.\n",
      "\u001b[2m\u001b[33m(raylet)\u001b[0m [2023-08-22 13:23:18,721 E 1659495 1659513] (raylet) file_system_monitor.cc:111: /tmp/ray/session_2023-08-22_09-44-45_245297_1659393 is over 95% full, available space: 13167071232; capacity: 490444898304. Object creation will fail if spilling is required.\n",
      "\u001b[2m\u001b[33m(raylet)\u001b[0m [2023-08-22 13:23:28,746 E 1659495 1659513] (raylet) file_system_monitor.cc:111: /tmp/ray/session_2023-08-22_09-44-45_245297_1659393 is over 95% full, available space: 13167009792; capacity: 490444898304. Object creation will fail if spilling is required.\n"
     ]
    },
    {
     "name": "stdout",
     "output_type": "stream",
     "text": [
      "Trial 9ca59_00004: Chosen l1 = 64\n"
     ]
    },
    {
     "name": "stderr",
     "output_type": "stream",
     "text": [
      "\u001b[2m\u001b[33m(raylet)\u001b[0m [2023-08-22 13:23:39,510 E 1659495 1659513] (raylet) file_system_monitor.cc:111: /tmp/ray/session_2023-08-22_09-44-45_245297_1659393 is over 95% full, available space: 13167005696; capacity: 490444898304. Object creation will fail if spilling is required.\n",
      "2023-08-22 13:23:46,380\tWARNING util.py:315 -- The `on_step_begin` operation took 11.085 s, which may be a performance bottleneck.\n",
      "\u001b[2m\u001b[33m(raylet)\u001b[0m [2023-08-22 13:23:49,556 E 1659495 1659513] (raylet) file_system_monitor.cc:111: /tmp/ray/session_2023-08-22_09-44-45_245297_1659393 is over 95% full, available space: 13167005696; capacity: 490444898304. Object creation will fail if spilling is required.\n",
      "2023-08-22 13:23:58,898\tWARNING util.py:315 -- The `on_step_begin` operation took 2.477 s, which may be a performance bottleneck.\n",
      "\u001b[2m\u001b[33m(raylet)\u001b[0m [2023-08-22 13:23:59,645 E 1659495 1659513] (raylet) file_system_monitor.cc:111: /tmp/ray/session_2023-08-22_09-44-45_245297_1659393 is over 95% full, available space: 13166977024; capacity: 490444898304. Object creation will fail if spilling is required.\n",
      "\u001b[2m\u001b[33m(raylet)\u001b[0m [2023-08-22 13:24:09,672 E 1659495 1659513] (raylet) file_system_monitor.cc:111: /tmp/ray/session_2023-08-22_09-44-45_245297_1659393 is over 95% full, available space: 13166911488; capacity: 490444898304. Object creation will fail if spilling is required.\n",
      "\u001b[2m\u001b[33m(raylet)\u001b[0m [2023-08-22 13:24:19,768 E 1659495 1659513] (raylet) file_system_monitor.cc:111: /tmp/ray/session_2023-08-22_09-44-45_245297_1659393 is over 95% full, available space: 13166899200; capacity: 490444898304. Object creation will fail if spilling is required.\n",
      "2023-08-22 13:24:20,213\tWARNING util.py:315 -- The `on_step_begin` operation took 0.895 s, which may be a performance bottleneck.\n",
      "\u001b[2m\u001b[33m(raylet)\u001b[0m [2023-08-22 13:24:29,830 E 1659495 1659513] (raylet) file_system_monitor.cc:111: /tmp/ray/session_2023-08-22_09-44-45_245297_1659393 is over 95% full, available space: 13166854144; capacity: 490444898304. Object creation will fail if spilling is required.\n",
      "\u001b[2m\u001b[33m(raylet)\u001b[0m [2023-08-22 13:24:39,920 E 1659495 1659513] (raylet) file_system_monitor.cc:111: /tmp/ray/session_2023-08-22_09-44-45_245297_1659393 is over 95% full, available space: 13166845952; capacity: 490444898304. Object creation will fail if spilling is required.\n",
      "\u001b[2m\u001b[33m(raylet)\u001b[0m [2023-08-22 13:24:49,977 E 1659495 1659513] (raylet) file_system_monitor.cc:111: /tmp/ray/session_2023-08-22_09-44-45_245297_1659393 is over 95% full, available space: 13166792704; capacity: 490444898304. Object creation will fail if spilling is required.\n",
      "2023-08-22 13:24:51,448\tWARNING util.py:315 -- The `on_step_begin` operation took 0.719 s, which may be a performance bottleneck.\n",
      "\u001b[2m\u001b[33m(raylet)\u001b[0m [2023-08-22 13:25:00,027 E 1659495 1659513] (raylet) file_system_monitor.cc:111: /tmp/ray/session_2023-08-22_09-44-45_245297_1659393 is over 95% full, available space: 13166768128; capacity: 490444898304. Object creation will fail if spilling is required.\n",
      "2023-08-22 13:25:02,706\tWARNING util.py:315 -- The `on_step_begin` operation took 1.191 s, which may be a performance bottleneck.\n",
      "\u001b[2m\u001b[33m(raylet)\u001b[0m [2023-08-22 13:25:10,030 E 1659495 1659513] (raylet) file_system_monitor.cc:111: /tmp/ray/session_2023-08-22_09-44-45_245297_1659393 is over 95% full, available space: 13166723072; capacity: 490444898304. Object creation will fail if spilling is required.\n",
      "\u001b[2m\u001b[33m(raylet)\u001b[0m [2023-08-22 13:25:20,087 E 1659495 1659513] (raylet) file_system_monitor.cc:111: /tmp/ray/session_2023-08-22_09-44-45_245297_1659393 is over 95% full, available space: 13166718976; capacity: 490444898304. Object creation will fail if spilling is required.\n",
      "2023-08-22 13:25:23,508\tWARNING util.py:315 -- The `on_step_begin` operation took 0.679 s, which may be a performance bottleneck.\n",
      "\u001b[2m\u001b[33m(raylet)\u001b[0m [2023-08-22 13:25:30,102 E 1659495 1659513] (raylet) file_system_monitor.cc:111: /tmp/ray/session_2023-08-22_09-44-45_245297_1659393 is over 95% full, available space: 13166661632; capacity: 490444898304. Object creation will fail if spilling is required.\n",
      "\u001b[2m\u001b[33m(raylet)\u001b[0m [2023-08-22 13:25:40,106 E 1659495 1659513] (raylet) file_system_monitor.cc:111: /tmp/ray/session_2023-08-22_09-44-45_245297_1659393 is over 95% full, available space: 13166628864; capacity: 490444898304. Object creation will fail if spilling is required.\n",
      "\u001b[2m\u001b[33m(raylet)\u001b[0m [2023-08-22 13:25:50,197 E 1659495 1659513] (raylet) file_system_monitor.cc:111: /tmp/ray/session_2023-08-22_09-44-45_245297_1659393 is over 95% full, available space: 13166604288; capacity: 490444898304. Object creation will fail if spilling is required.\n",
      "\u001b[2m\u001b[33m(raylet)\u001b[0m [2023-08-22 13:26:00,272 E 1659495 1659513] (raylet) file_system_monitor.cc:111: /tmp/ray/session_2023-08-22_09-44-45_245297_1659393 is over 95% full, available space: 13166592000; capacity: 490444898304. Object creation will fail if spilling is required.\n",
      "\u001b[2m\u001b[33m(raylet)\u001b[0m [2023-08-22 13:26:10,303 E 1659495 1659513] (raylet) file_system_monitor.cc:111: /tmp/ray/session_2023-08-22_09-44-45_245297_1659393 is over 95% full, available space: 13166567424; capacity: 490444898304. Object creation will fail if spilling is required.\n",
      "\u001b[2m\u001b[33m(raylet)\u001b[0m [2023-08-22 13:26:20,347 E 1659495 1659513] (raylet) file_system_monitor.cc:111: /tmp/ray/session_2023-08-22_09-44-45_245297_1659393 is over 95% full, available space: 13166534656; capacity: 490444898304. Object creation will fail if spilling is required.\n",
      "2023-08-22 13:26:25,681\tWARNING util.py:315 -- The `on_step_begin` operation took 1.096 s, which may be a performance bottleneck.\n",
      "\u001b[2m\u001b[33m(raylet)\u001b[0m [2023-08-22 13:26:30,423 E 1659495 1659513] (raylet) file_system_monitor.cc:111: /tmp/ray/session_2023-08-22_09-44-45_245297_1659393 is over 95% full, available space: 13166473216; capacity: 490444898304. Object creation will fail if spilling is required.\n",
      "2023-08-22 13:26:36,442\tWARNING util.py:315 -- The `on_step_begin` operation took 0.725 s, which may be a performance bottleneck.\n",
      "\u001b[2m\u001b[33m(raylet)\u001b[0m [2023-08-22 13:26:40,425 E 1659495 1659513] (raylet) file_system_monitor.cc:111: /tmp/ray/session_2023-08-22_09-44-45_245297_1659393 is over 95% full, available space: 13166465024; capacity: 490444898304. Object creation will fail if spilling is required.\n",
      "2023-08-22 13:26:44,333\tWARNING tune.py:192 -- Stop signal received (e.g. via SIGINT/Ctrl+C), ending Ray Tune run. This will try to checkpoint the experiment state one last time. Press CTRL+C (or send SIGINT/SIGKILL/SIGTERM) to skip. \n",
      "\u001b[2m\u001b[33m(raylet)\u001b[0m [2023-08-22 13:26:50,451 E 1659495 1659513] (raylet) file_system_monitor.cc:111: /tmp/ray/session_2023-08-22_09-44-45_245297_1659393 is over 95% full, available space: 13166403584; capacity: 490444898304. Object creation will fail if spilling is required.\n",
      "\u001b[2m\u001b[36m(func pid=3530293)\u001b[0m Traceback (most recent call last):\n",
      "\u001b[2m\u001b[36m(func pid=3530293)\u001b[0m   File \"python/ray/_raylet.pyx\", line 1364, in ray._raylet.execute_task.function_executor\n",
      "\u001b[2m\u001b[36m(func pid=3530293)\u001b[0m   File \"/opt/conda/lib/python3.10/site-packages/ray/_private/function_manager.py\", line 726, in actor_method_executor\n",
      "\u001b[2m\u001b[36m(func pid=3530293)\u001b[0m     return method(__ray_actor, *args, **kwargs)\n",
      "\u001b[2m\u001b[36m(func pid=3530293)\u001b[0m   File \"/opt/conda/lib/python3.10/site-packages/ray/util/tracing/tracing_helper.py\", line 464, in _resume_span\n",
      "\u001b[2m\u001b[36m(func pid=3530293)\u001b[0m     return method(self, *_args, **_kwargs)\n",
      "\u001b[2m\u001b[36m(func pid=3530293)\u001b[0m   File \"/opt/conda/lib/python3.10/site-packages/ray/tune/trainable/trainable.py\", line 372, in train\n",
      "\u001b[2m\u001b[36m(func pid=3530293)\u001b[0m     result = self.step()\n",
      "\u001b[2m\u001b[36m(func pid=3530293)\u001b[0m   File \"/opt/conda/lib/python3.10/site-packages/ray/util/tracing/tracing_helper.py\", line 464, in _resume_span\n",
      "\u001b[2m\u001b[36m(func pid=3530293)\u001b[0m     return method(self, *_args, **_kwargs)\n",
      "\u001b[2m\u001b[36m(func pid=3530293)\u001b[0m   File \"/opt/conda/lib/python3.10/site-packages/ray/tune/trainable/function_trainable.py\", line 389, in step\n",
      "\u001b[2m\u001b[36m(func pid=3530293)\u001b[0m     result = self._results_queue.get(\n",
      "\u001b[2m\u001b[36m(func pid=3530293)\u001b[0m   File \"/opt/conda/lib/python3.10/queue.py\", line 180, in get\n",
      "\u001b[2m\u001b[36m(func pid=3530293)\u001b[0m     self.not_empty.wait(remaining)\n",
      "\u001b[2m\u001b[36m(func pid=3530293)\u001b[0m   File \"/opt/conda/lib/python3.10/threading.py\", line 324, in wait\n",
      "\u001b[2m\u001b[36m(func pid=3530293)\u001b[0m     gotit = waiter.acquire(True, timeout)\n",
      "\u001b[2m\u001b[36m(func pid=3530293)\u001b[0m   File \"/opt/conda/lib/python3.10/site-packages/ray/_private/worker.py\", line 776, in sigterm_handler\n",
      "\u001b[2m\u001b[36m(func pid=3530293)\u001b[0m     sys.exit(1)\n",
      "\u001b[2m\u001b[36m(func pid=3530293)\u001b[0m SystemExit: 1\n",
      "\u001b[2m\u001b[36m(func pid=3530293)\u001b[0m \n",
      "\u001b[2m\u001b[36m(func pid=3530293)\u001b[0m During handling of the above exception, another exception occurred:\n",
      "\u001b[2m\u001b[36m(func pid=3530293)\u001b[0m \n",
      "\u001b[2m\u001b[36m(func pid=3530293)\u001b[0m Traceback (most recent call last):\n",
      "\u001b[2m\u001b[36m(func pid=3530293)\u001b[0m   File \"python/ray/_raylet.pyx\", line 1418, in ray._raylet.execute_task\n",
      "\u001b[2m\u001b[36m(func pid=3530293)\u001b[0m   File \"python/ray/_raylet.pyx\", line 1501, in ray._raylet.execute_task\n",
      "\u001b[2m\u001b[36m(func pid=3530293)\u001b[0m   File \"/opt/conda/lib/python3.10/site-packages/ray/_private/worker.py\", line 569, in record_task_log_end\n",
      "\u001b[2m\u001b[36m(func pid=3530293)\u001b[0m     self.core_worker.record_task_log_end(\n",
      "\u001b[2m\u001b[36m(func pid=3530293)\u001b[0m AttributeError: 'Worker' object has no attribute 'core_worker'\n",
      "\u001b[2m\u001b[36m(func pid=3530293)\u001b[0m \n",
      "\u001b[2m\u001b[36m(func pid=3530293)\u001b[0m During handling of the above exception, another exception occurred:\n",
      "\u001b[2m\u001b[36m(func pid=3530293)\u001b[0m \n",
      "\u001b[2m\u001b[36m(func pid=3530293)\u001b[0m Traceback (most recent call last):\n",
      "\u001b[2m\u001b[36m(func pid=3530293)\u001b[0m   File \"python/ray/_raylet.pyx\", line 1787, in ray._raylet.task_execution_handler\n",
      "\u001b[2m\u001b[36m(func pid=3530293)\u001b[0m   File \"python/ray/_raylet.pyx\", line 1684, in ray._raylet.execute_task_with_cancellation_handler\n",
      "\u001b[2m\u001b[36m(func pid=3530293)\u001b[0m   File \"python/ray/_raylet.pyx\", line 1366, in ray._raylet.execute_task\n",
      "\u001b[2m\u001b[36m(func pid=3530293)\u001b[0m   File \"python/ray/_raylet.pyx\", line 1367, in ray._raylet.execute_task\n",
      "\u001b[2m\u001b[36m(func pid=3535274)\u001b[0m   File \"python/ray/_raylet.pyx\", line 813, in ray._raylet.store_task_errors\n",
      "\u001b[2m\u001b[36m(func pid=3535274)\u001b[0m   File \"/opt/conda/lib/python3.10/site-packages/ray/_private/utils.py\", line 174, in push_error_to_driver\n",
      "\u001b[2m\u001b[36m(func pid=3535274)\u001b[0m     worker.core_worker.push_error(job_id, error_type, message, time.time())\n",
      "\u001b[2m\u001b[36m(func pid=3535274)\u001b[0m Exception ignored in: 'ray._raylet.task_execution_handler'\n",
      "\u001b[2m\u001b[36m(func pid=3535274)\u001b[0m   File \"/opt/conda/lib/python3.10/site-packages/ray/_private/utils.py\", line 174, in push_error_to_driver\n",
      "\u001b[2m\u001b[36m(func pid=3535274)\u001b[0m     worker.core_worker.push_error(job_id, error_type, message, time.time())\n",
      "\u001b[2m\u001b[36m(func pid=3535274)\u001b[0m [2023-08-22 13:26:57,268 C 3535274 3535274] direct_actor_transport.cc:201:  Check failed: objects_valid \n",
      "\u001b[2m\u001b[36m(func pid=3535274)\u001b[0m *** StackTrace Information ***\n",
      "\u001b[2m\u001b[36m(func pid=3535274)\u001b[0m /opt/conda/lib/python3.10/site-packages/ray/_raylet.so(+0xe4bc3a) [0x7f5164a76c3a] ray::operator<<()\n",
      "\u001b[2m\u001b[36m(func pid=3535274)\u001b[0m /opt/conda/lib/python3.10/site-packages/ray/_raylet.so(+0xe4d722) [0x7f5164a78722] ray::SpdLogMessage::Flush()\n",
      "\u001b[2m\u001b[36m(func pid=3535274)\u001b[0m /opt/conda/lib/python3.10/site-packages/ray/_raylet.so(_ZN3ray6RayLogD1Ev+0x37) [0x7f5164a78a37] ray::RayLog::~RayLog()\n",
      "\u001b[2m\u001b[36m(func pid=3535274)\u001b[0m /opt/conda/lib/python3.10/site-packages/ray/_raylet.so(+0x7201ba) [0x7f516434b1ba] std::_Function_handler<>::_M_invoke()\n",
      "\u001b[2m\u001b[36m(func pid=3535274)\u001b[0m /opt/conda/lib/python3.10/site-packages/ray/_raylet.so(+0x73302e) [0x7f516435e02e] ray::core::InboundRequest::Accept()\n",
      "\u001b[2m\u001b[36m(func pid=3535274)\u001b[0m /opt/conda/lib/python3.10/site-packages/ray/_raylet.so(+0x737828) [0x7f5164362828] ray::core::ActorSchedulingQueue::ScheduleRequests()\n",
      "\u001b[2m\u001b[36m(func pid=3535274)\u001b[0m /opt/conda/lib/python3.10/site-packages/ray/_raylet.so(_ZN3ray4core20ActorSchedulingQueue3AddEllSt8functionIFvS2_IFvNS_6StatusES2_IFvvEES5_EEEES9_S7_RKSsRKSt10shared_ptrINS_27FunctionDescriptorInterfaceEENS_6TaskIDERKSt6vectorINS_3rpc15ObjectReferenceESaISK_EE+0x596) [0x7f51643645d6] ray::core::ActorSchedulingQueue::Add()\n",
      "\u001b[2m\u001b[36m(func pid=3535274)\u001b[0m /opt/conda/lib/python3.10/site-packages/ray/_raylet.so(_ZN3ray4core28CoreWorkerDirectTaskReceiver10HandleTaskERKNS_3rpc15PushTaskRequestEPNS2_13PushTaskReplyESt8functionIFvNS_6StatusES8_IFvvEESB_EE+0x124c) [0x7f516434993c] ray::core::CoreWorkerDirectTaskReceiver::HandleTask()\n",
      "\u001b[2m\u001b[36m(func pid=3535274)\u001b[0m /opt/conda/lib/python3.10/site-packages/ray/_raylet.so(+0x6c35e5) [0x7f51642ee5e5] std::_Function_handler<>::_M_invoke()\n",
      "\u001b[2m\u001b[36m(func pid=3535274)\u001b[0m /opt/conda/lib/python3.10/site-packages/ray/_raylet.so(+0x9e9706) [0x7f5164614706] EventTracker::RecordExecution()\n",
      "\u001b[2m\u001b[36m(func pid=3535274)\u001b[0m /opt/conda/lib/python3.10/site-packages/ray/_raylet.so(+0x98661e) [0x7f51645b161e] std::_Function_handler<>::_M_invoke()\n",
      "\u001b[2m\u001b[36m(func pid=3535274)\u001b[0m /opt/conda/lib/python3.10/site-packages/ray/_raylet.so(+0x986b76) [0x7f51645b1b76] boost::asio::detail::completion_handler<>::do_complete()\n",
      "\u001b[2m\u001b[36m(func pid=3535274)\u001b[0m /opt/conda/lib/python3.10/site-packages/ray/_raylet.so(+0xf383db) [0x7f5164b633db] boost::asio::detail::scheduler::do_run_one()\n",
      "\u001b[2m\u001b[36m(func pid=3535274)\u001b[0m /opt/conda/lib/python3.10/site-packages/ray/_raylet.so(+0xf39ea9) [0x7f5164b64ea9] boost::asio::detail::scheduler::run()\n",
      "\u001b[2m\u001b[36m(func pid=3535274)\u001b[0m /opt/conda/lib/python3.10/site-packages/ray/_raylet.so(+0xf3a362) [0x7f5164b65362] boost::asio::io_context::run()\n",
      "\u001b[2m\u001b[36m(func pid=3535274)\u001b[0m /opt/conda/lib/python3.10/site-packages/ray/_raylet.so(_ZN3ray4core10CoreWorker20RunTaskExecutionLoopEv+0x1c) [0x7f51642ed0cc] ray::core::CoreWorker::RunTaskExecutionLoop()\n",
      "\u001b[2m\u001b[36m(func pid=3535274)\u001b[0m /opt/conda/lib/python3.10/site-packages/ray/_raylet.so(_ZN3ray4core21CoreWorkerProcessImpl26RunWorkerTaskExecutionLoopEv+0x8c) [0x7f516432d01c] ray::core::CoreWorkerProcessImpl::RunWorkerTaskExecutionLoop()\n",
      "\u001b[2m\u001b[36m(func pid=3535274)\u001b[0m /opt/conda/lib/python3.10/site-packages/ray/_raylet.so(_ZN3ray4core17CoreWorkerProcess20RunTaskExecutionLoopEv+0x1d) [0x7f516432d1cd] ray::core::CoreWorkerProcess::RunTaskExecutionLoop()\n",
      "\u001b[2m\u001b[36m(func pid=3535274)\u001b[0m ray::ImplicitFunc() [0x4ff524] method_vectorcall_NOARGS\n",
      "\u001b[2m\u001b[36m(func pid=3535274)\u001b[0m ray::ImplicitFunc(_PyEval_EvalFrameDefault+0x731) [0x4ed8b1] _PyEval_EvalFrameDefault\n",
      "\u001b[2m\u001b[36m(func pid=3535274)\u001b[0m ray::ImplicitFunc(_PyFunction_Vectorcall+0x6f) [0x4fcccf] _PyFunction_Vectorcall\n",
      "\u001b[2m\u001b[36m(func pid=3535274)\u001b[0m ray::ImplicitFunc(_PyEval_EvalFrameDefault+0x731) [0x4ed8b1] _PyEval_EvalFrameDefault\n",
      "\u001b[2m\u001b[36m(func pid=3535274)\u001b[0m ray::ImplicitFunc() [0x592592] _PyEval_Vector\n",
      "\u001b[2m\u001b[36m(func pid=3535274)\u001b[0m ray::ImplicitFunc(PyEval_EvalCode+0x87) [0x5924d7] PyEval_EvalCode\n",
      "\u001b[2m\u001b[36m(func pid=3535274)\u001b[0m ray::ImplicitFunc() [0x5c32c7] run_eval_code_obj\n",
      "\u001b[2m\u001b[36m(func pid=3535274)\u001b[0m ray::ImplicitFunc() [0x5be400] run_mod\n",
      "\u001b[2m\u001b[36m(func pid=3535274)\u001b[0m ray::ImplicitFunc() [0x4598ca] pyrun_file.cold\n",
      "\u001b[2m\u001b[36m(func pid=3535274)\u001b[0m ray::ImplicitFunc(_PyRun_SimpleFileObject+0x19f) [0x5b898f] _PyRun_SimpleFileObject\n",
      "\u001b[2m\u001b[36m(func pid=3535274)\u001b[0m ray::ImplicitFunc(_PyRun_AnyFileObject+0x43) [0x5b86f3] _PyRun_AnyFileObject\n",
      "\u001b[2m\u001b[36m(func pid=3535274)\u001b[0m ray::ImplicitFunc(Py_RunMain+0x38d) [0x5b54ad] Py_RunMain\n",
      "\u001b[2m\u001b[36m(func pid=3535274)\u001b[0m ray::ImplicitFunc(Py_BytesMain+0x39) [0x585639] Py_BytesMain\n",
      "\u001b[2m\u001b[36m(func pid=3535274)\u001b[0m /lib/x86_64-linux-gnu/libc.so.6(__libc_start_main+0xf3) [0x7f516569f083] __libc_start_main\n",
      "\u001b[2m\u001b[36m(func pid=3535274)\u001b[0m ray::ImplicitFunc() [0x5854ee]\n",
      "2023-08-22 13:26:58,002\tINFO tune.py:1148 -- Total run time: 1270.04 seconds (1256.25 seconds for the tuning loop).\n",
      "2023-08-22 13:26:58,005\tWARNING tune.py:1163 -- Experiment has been interrupted, but the most recent state was saved.\n",
      "Resume experiment with: tune.run(..., resume=True)\n",
      "2023-08-22 13:26:58,279\tWARNING experiment_analysis.py:916 -- Failed to read the results for 40 trials:\n",
      "- /home/hammerer@ab.ba.ba-ravensburg.de/fashion-tuning/tune_runs/e4/train_fashion_mnist_2023-08-22_13-05-48/train_fashion_mnist_9ca59_00010_10_epochs=20,learning_rate=0.0026_2023-08-22_13-05-48\n",
      "- /home/hammerer@ab.ba.ba-ravensburg.de/fashion-tuning/tune_runs/e4/train_fashion_mnist_2023-08-22_13-05-48/train_fashion_mnist_9ca59_00011_11_epochs=10,learning_rate=0.0357_2023-08-22_13-05-48\n",
      "- /home/hammerer@ab.ba.ba-ravensburg.de/fashion-tuning/tune_runs/e4/train_fashion_mnist_2023-08-22_13-05-48/train_fashion_mnist_9ca59_00012_12_epochs=5,learning_rate=0.0022_2023-08-22_13-05-48\n",
      "- /home/hammerer@ab.ba.ba-ravensburg.de/fashion-tuning/tune_runs/e4/train_fashion_mnist_2023-08-22_13-05-48/train_fashion_mnist_9ca59_00013_13_epochs=20,learning_rate=0.0019_2023-08-22_13-05-48\n",
      "- /home/hammerer@ab.ba.ba-ravensburg.de/fashion-tuning/tune_runs/e4/train_fashion_mnist_2023-08-22_13-05-48/train_fashion_mnist_9ca59_00014_14_epochs=10,learning_rate=0.0115_2023-08-22_13-05-48\n",
      "- /home/hammerer@ab.ba.ba-ravensburg.de/fashion-tuning/tune_runs/e4/train_fashion_mnist_2023-08-22_13-05-48/train_fashion_mnist_9ca59_00015_15_epochs=10,learning_rate=0.0122_2023-08-22_13-05-48\n",
      "- /home/hammerer@ab.ba.ba-ravensburg.de/fashion-tuning/tune_runs/e4/train_fashion_mnist_2023-08-22_13-05-48/train_fashion_mnist_9ca59_00016_16_epochs=20,learning_rate=0.0073_2023-08-22_13-05-48\n",
      "- /home/hammerer@ab.ba.ba-ravensburg.de/fashion-tuning/tune_runs/e4/train_fashion_mnist_2023-08-22_13-05-48/train_fashion_mnist_9ca59_00017_17_epochs=10,learning_rate=0.0053_2023-08-22_13-05-48\n",
      "- /home/hammerer@ab.ba.ba-ravensburg.de/fashion-tuning/tune_runs/e4/train_fashion_mnist_2023-08-22_13-05-48/train_fashion_mnist_9ca59_00018_18_epochs=15,learning_rate=0.0174_2023-08-22_13-05-48\n",
      "- /home/hammerer@ab.ba.ba-ravensburg.de/fashion-tuning/tune_runs/e4/train_fashion_mnist_2023-08-22_13-05-48/train_fashion_mnist_9ca59_00019_19_epochs=10,learning_rate=0.0035_2023-08-22_13-05-48\n",
      "- /home/hammerer@ab.ba.ba-ravensburg.de/fashion-tuning/tune_runs/e4/train_fashion_mnist_2023-08-22_13-05-48/train_fashion_mnist_9ca59_00020_20_epochs=15,learning_rate=0.0106_2023-08-22_13-05-48\n",
      "- /home/hammerer@ab.ba.ba-ravensburg.de/fashion-tuning/tune_runs/e4/train_fashion_mnist_2023-08-22_13-05-48/train_fashion_mnist_9ca59_00021_21_epochs=10,learning_rate=0.0041_2023-08-22_13-05-48\n",
      "- /home/hammerer@ab.ba.ba-ravensburg.de/fashion-tuning/tune_runs/e4/train_fashion_mnist_2023-08-22_13-05-48/train_fashion_mnist_9ca59_00022_22_epochs=20,learning_rate=0.0031_2023-08-22_13-05-48\n",
      "- /home/hammerer@ab.ba.ba-ravensburg.de/fashion-tuning/tune_runs/e4/train_fashion_mnist_2023-08-22_13-05-48/train_fashion_mnist_9ca59_00023_23_epochs=10,learning_rate=0.0034_2023-08-22_13-05-48\n",
      "- /home/hammerer@ab.ba.ba-ravensburg.de/fashion-tuning/tune_runs/e4/train_fashion_mnist_2023-08-22_13-05-48/train_fashion_mnist_9ca59_00024_24_epochs=20,learning_rate=0.0038_2023-08-22_13-05-48\n",
      "- /home/hammerer@ab.ba.ba-ravensburg.de/fashion-tuning/tune_runs/e4/train_fashion_mnist_2023-08-22_13-05-48/train_fashion_mnist_9ca59_00025_25_epochs=5,learning_rate=0.0257_2023-08-22_13-05-48\n",
      "- /home/hammerer@ab.ba.ba-ravensburg.de/fashion-tuning/tune_runs/e4/train_fashion_mnist_2023-08-22_13-05-48/train_fashion_mnist_9ca59_00026_26_epochs=5,learning_rate=0.0173_2023-08-22_13-05-48\n",
      "- /home/hammerer@ab.ba.ba-ravensburg.de/fashion-tuning/tune_runs/e4/train_fashion_mnist_2023-08-22_13-05-48/train_fashion_mnist_9ca59_00027_27_epochs=5,learning_rate=0.0099_2023-08-22_13-05-49\n",
      "- /home/hammerer@ab.ba.ba-ravensburg.de/fashion-tuning/tune_runs/e4/train_fashion_mnist_2023-08-22_13-05-48/train_fashion_mnist_9ca59_00028_28_epochs=20,learning_rate=0.0045_2023-08-22_13-05-49\n",
      "- /home/hammerer@ab.ba.ba-ravensburg.de/fashion-tuning/tune_runs/e4/train_fashion_mnist_2023-08-22_13-05-48/train_fashion_mnist_9ca59_00029_29_epochs=5,learning_rate=0.0046_2023-08-22_13-05-49\n",
      "- /home/hammerer@ab.ba.ba-ravensburg.de/fashion-tuning/tune_runs/e4/train_fashion_mnist_2023-08-22_13-05-48/train_fashion_mnist_9ca59_00030_30_epochs=20,learning_rate=0.0017_2023-08-22_13-05-49\n",
      "- /home/hammerer@ab.ba.ba-ravensburg.de/fashion-tuning/tune_runs/e4/train_fashion_mnist_2023-08-22_13-05-48/train_fashion_mnist_9ca59_00031_31_epochs=10,learning_rate=0.0133_2023-08-22_13-05-49\n",
      "- /home/hammerer@ab.ba.ba-ravensburg.de/fashion-tuning/tune_runs/e4/train_fashion_mnist_2023-08-22_13-05-48/train_fashion_mnist_9ca59_00032_32_epochs=15,learning_rate=0.0021_2023-08-22_13-05-49\n",
      "- /home/hammerer@ab.ba.ba-ravensburg.de/fashion-tuning/tune_runs/e4/train_fashion_mnist_2023-08-22_13-05-48/train_fashion_mnist_9ca59_00033_33_epochs=15,learning_rate=0.0013_2023-08-22_13-05-49\n",
      "- /home/hammerer@ab.ba.ba-ravensburg.de/fashion-tuning/tune_runs/e4/train_fashion_mnist_2023-08-22_13-05-48/train_fashion_mnist_9ca59_00034_34_epochs=15,learning_rate=0.0060_2023-08-22_13-05-49\n",
      "- /home/hammerer@ab.ba.ba-ravensburg.de/fashion-tuning/tune_runs/e4/train_fashion_mnist_2023-08-22_13-05-48/train_fashion_mnist_9ca59_00035_35_epochs=10,learning_rate=0.0019_2023-08-22_13-05-49\n",
      "- /home/hammerer@ab.ba.ba-ravensburg.de/fashion-tuning/tune_runs/e4/train_fashion_mnist_2023-08-22_13-05-48/train_fashion_mnist_9ca59_00036_36_epochs=10,learning_rate=0.0918_2023-08-22_13-05-49\n",
      "- /home/hammerer@ab.ba.ba-ravensburg.de/fashion-tuning/tune_runs/e4/train_fashion_mnist_2023-08-22_13-05-48/train_fashion_mnist_9ca59_00037_37_epochs=5,learning_rate=0.0399_2023-08-22_13-05-49\n",
      "- /home/hammerer@ab.ba.ba-ravensburg.de/fashion-tuning/tune_runs/e4/train_fashion_mnist_2023-08-22_13-05-48/train_fashion_mnist_9ca59_00038_38_epochs=10,learning_rate=0.0071_2023-08-22_13-05-49\n",
      "- /home/hammerer@ab.ba.ba-ravensburg.de/fashion-tuning/tune_runs/e4/train_fashion_mnist_2023-08-22_13-05-48/train_fashion_mnist_9ca59_00039_39_epochs=15,learning_rate=0.0737_2023-08-22_13-05-49\n",
      "- /home/hammerer@ab.ba.ba-ravensburg.de/fashion-tuning/tune_runs/e4/train_fashion_mnist_2023-08-22_13-05-48/train_fashion_mnist_9ca59_00040_40_epochs=15,learning_rate=0.0157_2023-08-22_13-05-49\n",
      "- /home/hammerer@ab.ba.ba-ravensburg.de/fashion-tuning/tune_runs/e4/train_fashion_mnist_2023-08-22_13-05-48/train_fashion_mnist_9ca59_00041_41_epochs=15,learning_rate=0.0036_2023-08-22_13-05-49\n",
      "- /home/hammerer@ab.ba.ba-ravensburg.de/fashion-tuning/tune_runs/e4/train_fashion_mnist_2023-08-22_13-05-48/train_fashion_mnist_9ca59_00042_42_epochs=5,learning_rate=0.0208_2023-08-22_13-05-49\n",
      "- /home/hammerer@ab.ba.ba-ravensburg.de/fashion-tuning/tune_runs/e4/train_fashion_mnist_2023-08-22_13-05-48/train_fashion_mnist_9ca59_00043_43_epochs=15,learning_rate=0.0320_2023-08-22_13-05-49\n",
      "- /home/hammerer@ab.ba.ba-ravensburg.de/fashion-tuning/tune_runs/e4/train_fashion_mnist_2023-08-22_13-05-48/train_fashion_mnist_9ca59_00044_44_epochs=5,learning_rate=0.0582_2023-08-22_13-06-36\n",
      "- /home/hammerer@ab.ba.ba-ravensburg.de/fashion-tuning/tune_runs/e4/train_fashion_mnist_2023-08-22_13-05-48/train_fashion_mnist_9ca59_00045_45_epochs=15,learning_rate=0.0015_2023-08-22_13-06-50\n",
      "- /home/hammerer@ab.ba.ba-ravensburg.de/fashion-tuning/tune_runs/e4/train_fashion_mnist_2023-08-22_13-05-48/train_fashion_mnist_9ca59_00046_46_epochs=10,learning_rate=0.0148_2023-08-22_13-06-50\n",
      "- /home/hammerer@ab.ba.ba-ravensburg.de/fashion-tuning/tune_runs/e4/train_fashion_mnist_2023-08-22_13-05-48/train_fashion_mnist_9ca59_00047_47_epochs=20,learning_rate=0.0043_2023-08-22_13-06-54\n",
      "- /home/hammerer@ab.ba.ba-ravensburg.de/fashion-tuning/tune_runs/e4/train_fashion_mnist_2023-08-22_13-05-48/train_fashion_mnist_9ca59_00048_48_epochs=10,learning_rate=0.0018_2023-08-22_13-11-11\n",
      "- /home/hammerer@ab.ba.ba-ravensburg.de/fashion-tuning/tune_runs/e4/train_fashion_mnist_2023-08-22_13-05-48/train_fashion_mnist_9ca59_00049_49_epochs=20,learning_rate=0.0019_2023-08-22_13-11-23\n"
     ]
    },
    {
     "name": "stdout",
     "output_type": "stream",
     "text": [
      "Chosen l1: 64\n",
      "Best trial config: {'epochs': 15, 'learning_rate': 0.076531818780208, 'batch_size': 64, 'l1': 64}\n",
      "Best trial metrics: {'mean_accuracy': {'max': 0.9173333333333333, 'min': 0.8428333333333333, 'avg': 0.9010499999999998, 'last': 0.914, 'last-5-avg': 0.9154333333333333, 'last-10-avg': 0.9118166666666667}, 'mean_val_loss': {'max': 0.42279110920239005, 'min': 0.2346625860701216, 'avg': 0.27293688767979324, 'last': 0.24855331085780832, 'last-5-avg': 0.23969115179745443, 'last-10-avg': 0.24600376854947906}, 'time_this_iter_s': {'max': 51.808491945266724, 'min': 40.41565012931824, 'avg': 45.80063452720641, 'last': 45.41266918182373, 'last-5-avg': 46.70826668739319, 'last-10-avg': 46.305001449584964}, 'done': {'max': False, 'min': False, 'avg': 0.0, 'last': False, 'last-5-avg': 0.0, 'last-10-avg': 0.0}, 'training_iteration': {'max': 15, 'min': 1, 'avg': 8.0, 'last': 15, 'last-5-avg': 13.0, 'last-10-avg': 10.5}, 'time_total_s': {'max': 687.0095179080963, 'min': 46.11673069000244, 'avg': 362.25282368659975, 'last': 687.0095179080963, 'last-5-avg': 592.3825254917144, 'last-10-avg': 475.34836730957034}, 'time_since_restore': {'max': 687.0095179080963, 'min': 46.11673069000244, 'avg': 362.25282368659975, 'last': 687.0095179080963, 'last-5-avg': 592.3825254917144, 'last-10-avg': 475.34836730957034}, 'iterations_since_restore': {'max': 15, 'min': 1, 'avg': 8.0, 'last': 15, 'last-5-avg': 13.0, 'last-10-avg': 10.5}}\n"
     ]
    },
    {
     "name": "stderr",
     "output_type": "stream",
     "text": [
      "\u001b[2m\u001b[33m(raylet)\u001b[0m [2023-08-22 13:27:00,453 E 1659495 1659513] (raylet) file_system_monitor.cc:111: /tmp/ray/session_2023-08-22_09-44-45_245297_1659393 is over 95% full, available space: 13166247936; capacity: 490444898304. Object creation will fail if spilling is required.\n"
     ]
    }
   ],
   "source": [
    "load_data()\n",
    "\n",
    "result_ep_lr = tune.run(\n",
    "    partial(train_fashion_mnist),\n",
    "    resources_per_trial={\"cpu\": 8, \"gpu\": 2},\n",
    "    config=config,\n",
    "    num_samples=num_samples,\n",
    "    storage_path='./tune_runs/e4',\n",
    "    search_alg=BasicVariantGenerator(random_state=40),\n",
    "    #scheduler=scheduler,\n",
    "    chdir_to_trial_dir=False,\n",
    "    callbacks=[print_l1_callback]\n",
    ")\n",
    "\n",
    "best_trial = result_ep_lr.get_best_trial(\"mean_val_loss\", mode=\"min\")\n",
    "best_config = best_trial.config\n",
    "chosen_l1 = best_config[\"l1\"]\n",
    "\n",
    "print(\"Chosen l1:\", chosen_l1)\n",
    "\n",
    "best_metrics = best_trial.metric_analysis\n",
    "\n",
    "print(\"Best trial config:\", best_config)\n",
    "print(\"Best trial metrics:\", best_metrics)"
   ]
  },
  {
   "cell_type": "markdown",
   "metadata": {},
   "source": [
    "### 5th Experiment - batch_size vs. lr"
   ]
  },
  {
   "cell_type": "code",
   "execution_count": null,
   "metadata": {},
   "outputs": [],
   "source": [
    "num_samples = 50\n",
    "\n",
    "config = {\n",
    "    \"epochs\": 15,\n",
    "    \"learning_rate\": tune.loguniform(1e-4, 1e-1), \n",
    "    \"batch_size\": tune.choice([16, 32, 64, 128]),\n",
    "    \"l1\": 64\n",
    "}"
   ]
  },
  {
   "cell_type": "code",
   "execution_count": null,
   "metadata": {},
   "outputs": [],
   "source": [
    "load_data()\n",
    "\n",
    "result_bs_lr = tune.run(\n",
    "    partial(train_fashion_mnist),\n",
    "    resources_per_trial={\"cpu\": 8, \"gpu\": 2},\n",
    "    config=config,\n",
    "    num_samples=num_samples,\n",
    "    storage_path='./tune_runs/e5',\n",
    "    search_alg=BasicVariantGenerator(random_state=40),\n",
    "    #scheduler=scheduler,\n",
    "    chdir_to_trial_dir=False,\n",
    "    callbacks=[print_l1_callback]\n",
    ")\n",
    "\n",
    "best_trial = result_bs_lr.get_best_trial(\"mean_val_loss\", mode=\"min\")\n",
    "best_config = best_trial.config\n",
    "chosen_l1 = best_config[\"l1\"]\n",
    "\n",
    "print(\"Chosen l1:\", chosen_l1)\n",
    "\n",
    "best_metrics = best_trial.metric_analysis\n",
    "\n",
    "print(\"Best trial config:\", best_config)\n",
    "print(\"Best trial metrics:\", best_metrics)"
   ]
  },
  {
   "cell_type": "markdown",
   "metadata": {},
   "source": [
    "## 6th Experiment - l1, batch_size, lr, epochs - 6h"
   ]
  },
  {
   "cell_type": "code",
   "execution_count": null,
   "metadata": {},
   "outputs": [],
   "source": [
    "config = {\n",
    "    \"epochs\": tune.choice([5, 10, 15, 20]),\n",
    "    \"learning_rate\": tune.loguniform(1e-4, 1e-1), \n",
    "    \"batch_size\": tune.choice([16, 32, 64, 128]),\n",
    "    \"l1\": tune.choice([32, 64, 128, 256])\n",
    "}"
   ]
  },
  {
   "cell_type": "code",
   "execution_count": null,
   "metadata": {},
   "outputs": [],
   "source": [
    "load_data()\n",
    "\n",
    "scheduler = ASHAScheduler(\n",
    "    metric=\"mean_val_loss\",\n",
    "    mode=\"min\",\n",
    "    max_t=20,\n",
    "    grace_period=1,\n",
    "    reduction_factor=2,\n",
    ")\n",
    "\n",
    "result_bs_lr = tune.run(\n",
    "    partial(train_fashion_mnist),\n",
    "    resources_per_trial={\"cpu\": 8, \"gpu\": 2},\n",
    "    config=config,\n",
    "    #num_samples=num_samples,\n",
    "    storage_path='./tune_runs/e6',\n",
    "    search_alg=BasicVariantGenerator(random_state=40),\n",
    "    scheduler=scheduler,\n",
    "    time_budget_s=300, #21600\n",
    "    chdir_to_trial_dir=False,\n",
    "    callbacks=[print_l1_callback]\n",
    ")\n",
    "\n",
    "best_trial = result_bs_lr.get_best_trial(\"mean_val_loss\", mode=\"min\")\n",
    "best_config = best_trial.config\n",
    "chosen_l1 = best_config[\"l1\"]\n",
    "\n",
    "print(\"Chosen l1:\", chosen_l1)\n",
    "\n",
    "best_metrics = best_trial.metric_analysis\n",
    "\n",
    "print(\"Best trial config:\", best_config)\n",
    "print(\"Best trial metrics:\", best_metrics)"
   ]
  }
 ],
 "metadata": {
  "kernelspec": {
   "display_name": "Python 3 (ipykernel)",
   "language": "python",
   "name": "python3"
  },
  "language_info": {
   "codemirror_mode": {
    "name": "ipython",
    "version": 3
   },
   "file_extension": ".py",
   "mimetype": "text/x-python",
   "name": "python",
   "nbconvert_exporter": "python",
   "pygments_lexer": "ipython3",
   "version": "3.10.11"
  }
 },
 "nbformat": 4,
 "nbformat_minor": 4
}
