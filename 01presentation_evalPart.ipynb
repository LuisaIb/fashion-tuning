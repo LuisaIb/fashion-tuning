{
 "cells": [
  {
   "cell_type": "code",
   "execution_count": 64,
   "metadata": {
    "slideshow": {
     "slide_type": "skip"
    }
   },
   "outputs": [
    {
     "name": "stdout",
     "output_type": "stream",
     "text": [
      "The autoreload extension is already loaded. To reload it, use:\n",
      "  %reload_ext autoreload\n"
     ]
    }
   ],
   "source": [
    "%load_ext autoreload\n",
    "%autoreload 2\n",
    "\n",
    "import pandas as pd\n",
    "from matplotlib import pyplot as plt\n",
    "\n",
    "import plotly\n",
    "import plotly.express as px\n",
    "import plotly.graph_objects as go\n",
    "from plotly.subplots import make_subplots\n",
    "import plotly.io as pio\n",
    "import numpy as np\n",
    "\n",
    "import json\n",
    "import glob\n",
    "import random\n",
    "import pickle\n",
    "from tqdm import tqdm\n",
    "\n",
    "import torch\n",
    "import torchvision\n",
    "import torchvision.transforms as transforms\n",
    "\n",
    "import torch.nn as nn\n",
    "import torch.nn.functional as F\n",
    "import torch.optim as optim\n",
    "\n",
    "from torch import nn\n",
    "import torch.nn.functional as F\n",
    "import spotPython.torch.netcore as netcore\n",
    "from numpy import meshgrid, array, ravel\n",
    "\n",
    "from src.eda import EDA\n",
    "eda = EDA()"
   ]
  },
  {
   "cell_type": "code",
   "execution_count": 2,
   "metadata": {},
   "outputs": [],
   "source": [
    "torch.manual_seed(40)\n",
    "random.seed(40)\n",
    "np.random.seed(40)"
   ]
  },
  {
   "cell_type": "code",
   "execution_count": 65,
   "metadata": {},
   "outputs": [
    {
     "data": {
      "text/html": [
       "        <script type=\"text/javascript\">\n",
       "        window.PlotlyConfig = {MathJaxConfig: 'local'};\n",
       "        if (window.MathJax && window.MathJax.Hub && window.MathJax.Hub.Config) {window.MathJax.Hub.Config({SVG: {font: \"STIX-Web\"}});}\n",
       "        if (typeof require !== 'undefined') {\n",
       "        require.undef(\"plotly\");\n",
       "        requirejs.config({\n",
       "            paths: {\n",
       "                'plotly': ['https://cdn.plot.ly/plotly-2.24.1.min']\n",
       "            }\n",
       "        });\n",
       "        require(['plotly'], function(Plotly) {\n",
       "            window._Plotly = Plotly;\n",
       "        });\n",
       "        }\n",
       "        </script>\n",
       "        "
      ]
     },
     "metadata": {},
     "output_type": "display_data"
    }
   ],
   "source": [
    "pio.templates.default = \"plotly_white\"\n",
    "plotly.offline.init_notebook_mode(connected=True)"
   ]
  },
  {
   "cell_type": "code",
   "execution_count": 4,
   "metadata": {},
   "outputs": [],
   "source": [
    "class FashionCNN(nn.Module):\n",
    "    def __init__(self, l1=64):\n",
    "        super(FashionCNN, self).__init__()\n",
    "        self.conv1 = nn.Conv2d(1, 32, 3, padding=1)\n",
    "        self.conv2 = nn.Conv2d(32, 64, 3, padding=1)\n",
    "        self.pool = nn.MaxPool2d(2, 2)\n",
    "        self.fc1 = nn.Linear(64 * 7 * 7, l1)\n",
    "        self.fc2 = nn.Linear(l1, 10)\n",
    "\n",
    "    def forward(self, x):\n",
    "        x = self.pool(nn.functional.relu(self.conv1(x)))\n",
    "        x = self.pool(nn.functional.relu(self.conv2(x)))\n",
    "        x = x.view(-1, 64 * 7 * 7)\n",
    "        x = nn.functional.relu(self.fc1(x))\n",
    "        x = self.fc2(x)\n",
    "        return x\n",
    "    \n",
    "class Net_FashionMNIST(netcore.Net_Core):\n",
    "    def __init__(self, l1, lr_mult, batch_size, epochs, k_folds, patience,\n",
    "    optimizer, sgd_momentum):\n",
    "        super(Net_FashionMNIST, self).__init__(\n",
    "            lr_mult=lr_mult,\n",
    "            batch_size=batch_size,\n",
    "            epochs=epochs,\n",
    "            k_folds=k_folds,\n",
    "            patience=patience,\n",
    "            optimizer=optimizer,\n",
    "            sgd_momentum=sgd_momentum,\n",
    "        )\n",
    "\n",
    "        self.conv1 = nn.Conv2d(1, 32, 3, padding=1)\n",
    "        self.conv2 = nn.Conv2d(32, 64, 3, padding=1)\n",
    "        self.pool = nn.MaxPool2d(2, 2)\n",
    "        self.fc1 = nn.Linear(64 * 7 * 7, l1)\n",
    "        self.fc2 = nn.Linear(l1, 10)\n",
    "\n",
    "    def forward(self, x):\n",
    "        x = self.pool(F.relu(self.conv1(x)))\n",
    "        x = self.pool(F.relu(self.conv2(x)))\n",
    "        x = x.view(-1, 64 * 7 * 7)\n",
    "        x = F.relu(self.fc1(x))\n",
    "        x = self.fc2(x)\n",
    "        return x\n",
    "\n",
    "class_names = ['T-shirt/top', 'Trouser', 'Pullover', 'Dress', 'Coat', 'Sandal', 'Shirt', 'Sneaker', 'Bag', 'Ankle boot']\n",
    "\n",
    "def load_data(data_dir=\"./data\"):\n",
    "    transform = transforms.Compose(\n",
    "        [transforms.ToTensor(),\n",
    "        transforms.Normalize((0.5,), (0.5,))])\n",
    "\n",
    "    trainset = torchvision.datasets.FashionMNIST(data_dir,\n",
    "        download=True,\n",
    "        train=True,\n",
    "        transform=transform)\n",
    "    testset = torchvision.datasets.FashionMNIST(data_dir,\n",
    "        download=True,\n",
    "        train=False,\n",
    "        transform=transform)\n",
    "\n",
    "    return trainset, testset\n",
    "\n",
    "def train_fashion_mnist(config):\n",
    "    net = FashionCNN(config[\"config.l1\"]) \n",
    "\n",
    "    device = \"cpu\"\n",
    "    if torch.cuda.is_available():\n",
    "        device = \"cuda:0\"\n",
    "        if torch.cuda.device_count() > 1:\n",
    "            net = nn.DataParallel(net)\n",
    "    net.to(device)\n",
    "\n",
    "    # # loading data\n",
    "    trainset, testset = load_data()\n",
    "    \n",
    "    trainloader = torch.utils.data.DataLoader(\n",
    "        trainset, batch_size=config[\"config.batch_size\"], shuffle=True, num_workers=2\n",
    "    )\n",
    "\n",
    "    # defining the loss function and optimizer\n",
    "    criterion = nn.CrossEntropyLoss()\n",
    "    optimizer = optim.SGD(net.parameters(), lr=config[\"config.learning_rate\"])\n",
    "\n",
    "    for epoch in range(config[\"config.epochs\"]):\n",
    "        running_loss = 0.0\n",
    "        epoch_steps = 0\n",
    "        with tqdm(enumerate(trainloader, 0), total=len(trainloader), unit=\"batch\") as epoch_iterator:\n",
    "            for i, data in epoch_iterator:\n",
    "                inputs, labels = data\n",
    "                inputs, labels = inputs.to(device), labels.to(device)\n",
    "\n",
    "                optimizer.zero_grad()\n",
    "\n",
    "                outputs = net(inputs)\n",
    "                loss = criterion(outputs, labels)\n",
    "                loss.backward()\n",
    "                optimizer.step()\n",
    "\n",
    "                running_loss += loss.item()\n",
    "                epoch_steps += 1\n",
    "\n",
    "                if i % 1000 == 999:\n",
    "                    average_loss = running_loss / epoch_steps\n",
    "                    epoch_iterator.set_description(f\"Epoch {epoch+1}, Loss: {average_loss:.3f}\")\n",
    "                    running_loss = 0.0\n",
    "            \n",
    "\n",
    "    print(\"Training finished.\")\n",
    "    return net\n",
    "\n",
    "def test_accuracy(net):\n",
    "    device = \"cpu\"\n",
    "    if torch.cuda.is_available():\n",
    "        device = \"cuda:0\"\n",
    "        if torch.cuda.device_count() > 1:\n",
    "            net = nn.DataParallel(net)\n",
    "    net.to(device)\n",
    "\n",
    "    trainset, testset = load_data()\n",
    "\n",
    "    testloader = torch.utils.data.DataLoader(\n",
    "        testset, batch_size=4, shuffle=False, num_workers=2\n",
    "    )\n",
    "\n",
    "    correct = 0\n",
    "    total = 0\n",
    "    with torch.no_grad():\n",
    "        for data in testloader:\n",
    "            images, labels = data\n",
    "            images, labels = images.to(device), labels.to(device)\n",
    "            outputs = net(images)\n",
    "            _, predicted = torch.max(outputs.data, 1)\n",
    "            total += labels.size(0)\n",
    "            correct += (predicted == labels).sum().item()\n",
    "\n",
    "    return correct / total\n",
    "\n",
    "def test_class_accuracy(net):\n",
    "    device = \"cpu\"\n",
    "    if torch.cuda.is_available():\n",
    "        device = \"cuda:0\"\n",
    "        if torch.cuda.device_count() > 1:\n",
    "            net = nn.DataParallel(net)\n",
    "    net.to(device)\n",
    "\n",
    "    trainset, testset = load_data()\n",
    "\n",
    "    testloader = torch.utils.data.DataLoader(\n",
    "        testset, batch_size=4, shuffle=False, num_workers=2\n",
    "    )\n",
    "\n",
    "    correct_per_class = [0] * len(class_names)\n",
    "    total_per_class = [0] * len(class_names)\n",
    "    correct = 0\n",
    "    total = 0\n",
    "\n",
    "    with torch.no_grad():\n",
    "        for data in testloader:\n",
    "            images, labels = data\n",
    "            images, labels = images.to(device), labels.to(device)\n",
    "            outputs = net(images)\n",
    "            _, predicted = torch.max(outputs.data, 1)\n",
    "            \n",
    "            for i in range(len(labels)):\n",
    "                label = labels[i]\n",
    "                prediction = predicted[i]\n",
    "                if label == prediction:\n",
    "                    correct_per_class[label] += 1\n",
    "                total_per_class[label] += 1\n",
    "            total += labels.size(0)\n",
    "            correct += (predicted == labels).sum().item()\n",
    "\n",
    "    accuracy_per_class = [correct / total * 100 if total > 0 else 0 for correct, total in zip(correct_per_class, total_per_class)]\n",
    "\n",
    "    for i, accuracy in enumerate(accuracy_per_class):\n",
    "        print('Accuracy of {}: {:.2f}%'.format(class_names[i], accuracy))\n",
    "        \n",
    "    accuracy = correct / total\n",
    "    print('Overall Accuracy: {:.2f}%'.format(accuracy * 100))\n",
    "    return accuracy_per_class, accuracy\n",
    "\n",
    "eval_data_path = './evaluation_data/'\n",
    "\n",
    "def experimentPathToDataframe(experiment_path):\n",
    "    df_results = pd.DataFrame()\n",
    "    for file in glob.iglob(experiment_path + '/**/result.json', recursive=True):\n",
    "        print(f\"Loading results from {experiment_path}...\")\n",
    "\n",
    "        df = pd.read_json(file,lines=True)\n",
    "        data = json.loads(df.to_json(orient='records'))\n",
    "        df = pd.json_normalize(data, max_level=1)\n",
    "        df_results = pd.concat([df_results, df], ignore_index=True)\n",
    "\n",
    "    print(f\"----------------------------\\nFound {len(df_results.trial_id.unique())} trials.\")\n",
    "    return df_results\n",
    "\n",
    "def experimentPathToSpotTuner(experiment_path):\n",
    "    with open(experiment_path, 'rb') as f:\n",
    "        spot_tuner =  pickle.load(f)\n",
    "    return spot_tuner\n",
    "\n",
    "def spotTunerToDataFrame(spotTuner):\n",
    "    df = pd.DataFrame(np.concatenate((spotTuner.X, spotTuner.y.reshape(-1, 1)), axis=1), columns=spotTuner.var_name + [\"y\"])\n",
    "    df['l1'] = df['l1'].apply(lambda x: int(2**x))\n",
    "    df['lr_mult'] = df['lr_mult'].apply(lambda x: x*1e-3)\n",
    "    df['batch_size'] = df['batch_size'].apply(lambda x: int(2**x))\n",
    "    df['epochs'] = df['epochs'].apply(lambda x: [5, 10, 15, 20][int(x)])\n",
    "    df = df.rename(columns={'l1': 'config.l1', \n",
    "                            'lr_mult': 'config.learning_rate',\n",
    "                            'batch_size': 'config.batch_size',\n",
    "                            'epochs': 'config.epochs',\n",
    "                            'y': 'mean_val_loss'})\n",
    "    print(f\"----------------------------\\nFound {len(df)} trials.\")\n",
    "    return df\n",
    "\n",
    "def bestConfig(df):\n",
    "    df_tmp = df.groupby('trial_id').max('training_iteration').reset_index()\n",
    "    df_tmp = df_tmp[df_tmp['mean_val_loss'] == df_tmp['mean_val_loss'].min()]\n",
    "    best_config = df_tmp[['mean_val_loss', 'mean_accuracy', 'config.l1', 'config.batch_size', 'config.epochs', 'config.learning_rate']].to_dict(orient='records')[0]\n",
    "    # for key, value in best_config.items():\n",
    "    #     print(f'{key}: {value}') \n",
    "    return best_config\n",
    "\n",
    "def bestConfigSpot(spotTuner):\n",
    "    results = spotTuner.print_results(print_screen=False)\n",
    "    best_config = {\n",
    "        'mean_val_loss': None,\n",
    "        'mean_accuracy': None,\n",
    "        'config.l1': None,\n",
    "        'config.batch_size': None,\n",
    "        'config.epochs': None,\n",
    "        'config.learning_rate': None,\n",
    "    }\n",
    "    for conf in results:\n",
    "        if conf[0] == 'l1':\n",
    "            best_config['config.l1'] = int(2**conf[1])\n",
    "        elif conf[0] == 'batch_size':\n",
    "            best_config['config.batch_size'] = int(2**conf[1])\n",
    "        elif conf[0] == 'epochs':\n",
    "            best_config['config.epochs'] = [5, 10, 15, 20][int(conf[1])]\n",
    "        elif conf[0] == 'lr_mult':\n",
    "            best_config['config.learning_rate'] = conf[1] * 1e-3\n",
    "    return best_config\n",
    "\n",
    "def repeatedTraining(config, iter, file_name):\n",
    "    res = []\n",
    "    for i in range(iter):\n",
    "        torch.manual_seed(i)\n",
    "        random.seed(i)\n",
    "        np.random.seed(i)\n",
    "        score = {'name': file_name}\n",
    "        net = train_fashion_mnist(config)\n",
    "        class_acc, acc = test_class_accuracy(net)\n",
    "        for val, name in zip(class_acc,class_names):\n",
    "            score[name] = val\n",
    "        score['overall'] = acc\n",
    "        res.append(score)\n",
    "        df = pd.DataFrame(res)\n",
    "        df.to_csv(f'./results/evaluation_data/{file_name}.csv')\n",
    "    return df"
   ]
  },
  {
   "cell_type": "code",
   "execution_count": 14,
   "metadata": {},
   "outputs": [],
   "source": [
    "## Load Data\n",
    "df_e6 = pd.read_csv(f'{eval_data_path}/tuning_logs/e6-1.csv', index_col=0)\n",
    "df_e6[['config.learning_rate']] = df_e6[['config.learning_rate']].astype(float)\n",
    "idx = df_e6.groupby('trial_id')['training_iteration'].idxmax()\n",
    "df_flat_e6 = df_e6.loc[idx,]\n",
    "\n",
    "df_e7 = pd.read_csv(f'{eval_data_path}/tuning_logs/e7-1.csv', index_col=0)\n",
    "df_e7[['config.learning_rate']] = df_e7[['config.learning_rate']].astype(float)\n",
    "idx = df_e7.groupby('trial_id')['training_iteration'].idxmax()\n",
    "df_flat_e7 = df_e7.loc[idx,]\n",
    "\n",
    "spotTuner_e8 = experimentPathToSpotTuner(\"experiment_data/e8_spotPython/spot_runs_30-08-2023.pkl\")\n",
    "df_flat_e8 = pd.read_csv(f'{eval_data_path}/tuning_logs/e8.csv', index_col=0)"
   ]
  },
  {
   "cell_type": "code",
   "execution_count": 15,
   "metadata": {},
   "outputs": [],
   "source": [
    "default_config = {\n",
    "    'mean_val_loss': None,\n",
    "    'mean_accuracy': None,\n",
    "    'config.l1': 64,\n",
    "    'config.batch_size': 64,\n",
    "    'config.epochs': 15,\n",
    "    'config.learning_rate': 0.001,\n",
    "}\n",
    "\n",
    "configs = [default_config,\n",
    "           bestConfig(df_e6),\n",
    "           bestConfig(df_e7),\n",
    "           bestConfigSpot(spotTuner_e8)]\n",
    "\n",
    "df = pd.DataFrame(configs)[['config.l1', 'config.batch_size', 'config.epochs', 'config.learning_rate']]\n",
    "df.index = ['Default', 'Hyperband', 'Random Search', 'SMBO']\n",
    "df['trials'] = ['-', f'{len(df_flat_e6)} (~6h)', f'{len(df_flat_e7)} (~6h)', f'{len(df_flat_e8)} (~6h)']\n",
    "df = df.sort_values(by=['config.l1','config.learning_rate'])\n",
    "df.columns = ['L1 Units', 'Batch Size', 'Epochs', 'Learning Rate', '# Trials']\n",
    "df.to_csv(f'{eval_data_path}/best_config.csv', index=True)"
   ]
  },
  {
   "cell_type": "markdown",
   "metadata": {
    "slideshow": {
     "slide_type": "slide"
    }
   },
   "source": [
    "<span style=\"color: #ff6900; font-size: 48px; font-weight: bold;\">Evaluation</span>\n",
    "<p style=\"font-size: 16px;\"><i>Verification of Predictive Accuracy and Coverage of the Use Case</i></p>"
   ]
  },
  {
   "cell_type": "markdown",
   "metadata": {
    "slideshow": {
     "slide_type": "subslide"
    }
   },
   "source": [
    "<header>\n",
    "    <span style=\"color: #ff6900; font-size: 30px; font-weight: bold;\">Tuning Results</span>\n",
    "</header>\n",
    "\n",
    "**🏆Best Configurations**\n",
    "- more _Units_,\n",
    "- smaller _Batch Size_,\n",
    "- not a lot of _Epochs_ needed since ...\n",
    "- ... fairly high _Learning Rate_!"
   ]
  },
  {
   "cell_type": "code",
   "execution_count": 17,
   "metadata": {
    "tags": [
     "hide_code"
    ]
   },
   "outputs": [
    {
     "data": {
      "text/html": [
       "<div>\n",
       "<style scoped>\n",
       "    .dataframe tbody tr th:only-of-type {\n",
       "        vertical-align: middle;\n",
       "    }\n",
       "\n",
       "    .dataframe tbody tr th {\n",
       "        vertical-align: top;\n",
       "    }\n",
       "\n",
       "    .dataframe thead th {\n",
       "        text-align: right;\n",
       "    }\n",
       "</style>\n",
       "<table border=\"1\" class=\"dataframe\">\n",
       "  <thead>\n",
       "    <tr style=\"text-align: right;\">\n",
       "      <th></th>\n",
       "      <th>L1 Units</th>\n",
       "      <th>Batch Size</th>\n",
       "      <th>Epochs</th>\n",
       "      <th>Learning Rate</th>\n",
       "      <th># Trials</th>\n",
       "    </tr>\n",
       "  </thead>\n",
       "  <tbody>\n",
       "    <tr>\n",
       "      <th>Default</th>\n",
       "      <td>64</td>\n",
       "      <td>64</td>\n",
       "      <td>15</td>\n",
       "      <td>0.001000</td>\n",
       "      <td>-</td>\n",
       "    </tr>\n",
       "    <tr>\n",
       "      <th>Random Search</th>\n",
       "      <td>128</td>\n",
       "      <td>16</td>\n",
       "      <td>10</td>\n",
       "      <td>0.054035</td>\n",
       "      <td>87 (~6h)</td>\n",
       "    </tr>\n",
       "    <tr>\n",
       "      <th>Hyperband</th>\n",
       "      <td>128</td>\n",
       "      <td>16</td>\n",
       "      <td>15</td>\n",
       "      <td>0.098538</td>\n",
       "      <td>340 (~6h)</td>\n",
       "    </tr>\n",
       "    <tr>\n",
       "      <th>SMBO</th>\n",
       "      <td>256</td>\n",
       "      <td>32</td>\n",
       "      <td>10</td>\n",
       "      <td>0.091179</td>\n",
       "      <td>68 (~6h)</td>\n",
       "    </tr>\n",
       "  </tbody>\n",
       "</table>\n",
       "</div>"
      ],
      "text/plain": [
       "               L1 Units  Batch Size  Epochs  Learning Rate   # Trials\n",
       "Default              64          64      15       0.001000          -\n",
       "Random Search       128          16      10       0.054035   87 (~6h)\n",
       "Hyperband           128          16      15       0.098538  340 (~6h)\n",
       "SMBO                256          32      10       0.091179   68 (~6h)"
      ]
     },
     "execution_count": 17,
     "metadata": {},
     "output_type": "execute_result"
    }
   ],
   "source": [
    "pd.read_csv(f'{eval_data_path}/best_config.csv', index_col=0)"
   ]
  },
  {
   "cell_type": "markdown",
   "metadata": {
    "slideshow": {
     "slide_type": "subslide"
    }
   },
   "source": [
    "**#️⃣of Trials - Why is that so different?**\n",
    "- Hyperband focuses resources on promising configurations by combining random sampling and early elimination of poor configurations "
   ]
  },
  {
   "cell_type": "code",
   "execution_count": 70,
   "metadata": {},
   "outputs": [
    {
     "data": {
      "application/vnd.plotly.v1+json": {
       "config": {
        "plotlyServerURL": "https://plot.ly"
       },
       "data": [
        {
         "mode": "lines",
         "type": "scatter",
         "x": [
          1,
          2,
          3,
          4,
          5,
          6,
          7,
          8,
          9,
          10,
          11,
          12,
          13,
          14,
          15,
          16,
          17,
          18,
          19,
          20
         ],
         "xaxis": "x",
         "y": [
          1.9979039266,
          1.0366093516,
          0.7360471842,
          0.6452989623,
          0.5923545527,
          0.5654049638,
          0.5429277166,
          0.5143497518,
          0.505309203,
          0.4849206501,
          0.4700089478,
          0.4641882497,
          0.448500238,
          0.4378474912,
          0.4283597,
          0.4219799752,
          0.415602261,
          0.4054566425,
          0.4007532861,
          0.3991427207
         ],
         "yaxis": "y"
        },
        {
         "mode": "lines",
         "type": "scatter",
         "x": [
          1,
          2,
          3,
          4,
          5,
          6,
          7,
          8,
          9,
          10,
          11,
          12,
          13,
          14,
          15,
          16,
          17,
          18,
          19,
          20
         ],
         "xaxis": "x",
         "y": [
          0.3550318291,
          0.3304352799,
          0.2836186944,
          0.2700989382,
          0.2509259927,
          0.2363184473,
          0.2267519316,
          0.2227707995,
          0.2224123558,
          0.2293897204,
          0.2105191899,
          0.2114499799,
          0.250908287,
          0.2118271744,
          0.2213783219,
          0.2216783537,
          0.239277179,
          0.2355630566,
          0.2604692929,
          0.2455811508
         ],
         "yaxis": "y"
        },
        {
         "mode": "lines",
         "type": "scatter",
         "x": [
          1,
          2,
          3,
          4,
          5,
          6,
          7,
          8,
          9,
          10,
          11,
          12,
          13,
          14,
          15,
          16,
          17,
          18,
          19,
          20
         ],
         "xaxis": "x",
         "y": [
          0.3198633499,
          0.2689331637,
          0.2796291503,
          0.2539445315,
          0.247512761,
          0.2540217313,
          0.2637807525,
          0.2627080959,
          0.3152436863,
          0.3314287889,
          0.3718457064,
          0.3276203931,
          0.3711800552,
          0.3686501307,
          0.4130556419,
          0.4040900405,
          0.4162117711,
          0.5001489264,
          0.4701026349,
          0.4885663756
         ],
         "yaxis": "y"
        },
        {
         "mode": "lines",
         "type": "scatter",
         "x": [
          1,
          2,
          3,
          4,
          5,
          6,
          7,
          8,
          9,
          10,
          11,
          12,
          13,
          14,
          15,
          16,
          17,
          18,
          19,
          20
         ],
         "xaxis": "x",
         "y": [
          0.4389458635,
          0.3732218997,
          0.3362558427,
          0.3069369698,
          0.2895105763,
          0.2910393747,
          0.2772757753,
          0.2822146896,
          0.2750518112,
          0.2669425472,
          0.2573670935,
          0.2570595504,
          0.2458868829,
          0.2525247853,
          0.2404534111,
          0.2462880337,
          0.2558737844,
          0.2378787804,
          0.2526862356,
          0.2465574028
         ],
         "yaxis": "y"
        },
        {
         "mode": "lines",
         "type": "scatter",
         "x": [
          1,
          2,
          3,
          4,
          5,
          6,
          7,
          8,
          9,
          10,
          11,
          12,
          13,
          14,
          15,
          16,
          17,
          18,
          19,
          20
         ],
         "xaxis": "x",
         "y": [
          0.4022451337,
          0.2850638378,
          0.2559962733,
          0.2265708846,
          0.2364401095,
          0.2422566136,
          0.2328167166,
          0.2233146633,
          0.2394302811,
          0.2444914395,
          0.2637438861,
          0.2635231858,
          0.2810055975,
          0.3215117588,
          0.3069775891,
          0.3331044818,
          0.3662219921,
          0.3775050465,
          0.4048061166,
          0.3958461923
         ],
         "yaxis": "y"
        },
        {
         "mode": "lines",
         "type": "scatter",
         "x": [
          1,
          2,
          3,
          4,
          5,
          6,
          7,
          8,
          9,
          10,
          11,
          12,
          13,
          14,
          15,
          16,
          17,
          18,
          19,
          20
         ],
         "xaxis": "x",
         "y": [
          0.3574068223,
          0.3238387051,
          0.3150534453,
          0.2514687429,
          0.2355476561,
          0.2399737871,
          0.2468574851,
          0.2529845494,
          0.2333386557,
          0.248770767,
          0.2605686526,
          0.2524408368,
          0.2565581605,
          0.2966319637,
          0.2923385961,
          0.2936915092,
          0.2860391298,
          0.3270527622,
          0.3319919993,
          0.3586679301
         ],
         "yaxis": "y"
        },
        {
         "mode": "lines",
         "type": "scatter",
         "x": [
          1,
          2,
          3,
          4,
          5,
          6,
          7,
          8,
          9,
          10,
          11,
          12,
          13,
          14,
          15,
          16,
          17,
          18,
          19,
          20
         ],
         "xaxis": "x",
         "y": [
          0.4028762654,
          0.3433330961,
          0.3104708459,
          0.3422080884,
          0.2734637084,
          0.2717352761,
          0.248704106,
          0.2568083683,
          0.252265347,
          0.247002071,
          0.2293082065,
          0.2199899423,
          0.2362678008,
          0.2194104825,
          0.2177034869,
          0.2239157635,
          0.23587434,
          0.2278939874,
          0.2319154355,
          0.226527695
         ],
         "yaxis": "y"
        },
        {
         "mode": "lines",
         "type": "scatter",
         "x": [
          1,
          2,
          3,
          4,
          5,
          6,
          7,
          8,
          9,
          10,
          11,
          12,
          13,
          14,
          15,
          16,
          17,
          18,
          19,
          20
         ],
         "xaxis": "x",
         "y": [
          0.49658695,
          0.4020830275,
          0.3791575483,
          0.3480185873,
          0.3319971817,
          0.3171070287,
          0.3023841227,
          0.292699404,
          0.2772982382,
          0.2731205439,
          0.2681514893,
          0.283198112,
          0.2607418489,
          0.2689332898,
          0.2513324607,
          0.2444666568,
          0.2455903516,
          0.2483187921,
          0.23912123,
          0.2419646544
         ],
         "yaxis": "y"
        },
        {
         "mode": "lines",
         "type": "scatter",
         "x": [
          1,
          2,
          3,
          4,
          5,
          6,
          7,
          8,
          9,
          10,
          11,
          12,
          13,
          14,
          15,
          16,
          17,
          18,
          19,
          20
         ],
         "xaxis": "x",
         "y": [
          0.7021867588,
          0.5679334345,
          0.4945848445,
          0.479543607,
          0.420343867,
          0.3821596351,
          0.3740944568,
          0.3653683601,
          0.3440645125,
          0.3401263957,
          0.3296388969,
          0.3247137816,
          0.3198332855,
          0.3015230647,
          0.2994940332,
          0.3068998913,
          0.2846898058,
          0.2878318757,
          0.2825699964,
          0.2856846309
         ],
         "yaxis": "y"
        },
        {
         "mode": "lines",
         "type": "scatter",
         "x": [
          1,
          2,
          3,
          4,
          5,
          6,
          7,
          8,
          9,
          10,
          11,
          12,
          13,
          14,
          15,
          16,
          17,
          18,
          19,
          20
         ],
         "xaxis": "x",
         "y": [
          0.3586196867,
          0.3082086422,
          0.273529284,
          0.2602749469,
          0.2557956467,
          0.2676514328,
          0.2453806486,
          0.2512313955,
          0.2394210813,
          0.2676522789,
          0.2690530309,
          0.2765002484,
          0.3025717252,
          0.3372495422,
          0.3545502482,
          0.3558018423,
          0.3803232761,
          0.3767705166,
          0.4016750973,
          0.4110255312
         ],
         "yaxis": "y"
        },
        {
         "mode": "lines",
         "type": "scatter",
         "x": [
          1,
          2,
          3,
          4,
          5,
          6,
          7,
          8,
          9,
          10,
          11,
          12,
          13,
          14,
          15,
          16,
          17,
          18,
          19,
          20
         ],
         "xaxis": "x",
         "y": [
          0.4134671715,
          0.3527093373,
          0.3091693799,
          0.2924491802,
          0.3194499456,
          0.2602650369,
          0.2578734123,
          0.2382220363,
          0.2377724366,
          0.2597876595,
          0.2289879004,
          0.2428251575,
          0.23493286,
          0.232042303,
          0.2261287636,
          0.2321526571,
          0.2112984878,
          0.2211734726,
          0.2298156853,
          0.2336389252
         ],
         "yaxis": "y"
        },
        {
         "mode": "lines",
         "type": "scatter",
         "x": [
          1,
          2,
          3,
          4,
          5,
          6,
          7,
          8,
          9,
          10,
          11,
          12,
          13,
          14,
          15,
          16,
          17,
          18,
          19,
          20
         ],
         "xaxis": "x",
         "y": [
          0.414720791,
          0.3779554808,
          0.3187180056,
          0.2878210548,
          0.2650653917,
          0.2532148348,
          0.2481263467,
          0.2570830137,
          0.226644425,
          0.2346918542,
          0.2431248952,
          0.2451132447,
          0.2173084043,
          0.2149958256,
          0.220778492,
          0.2184691616,
          0.2271634256,
          0.2226905039,
          0.2194709048,
          0.227512134
         ],
         "yaxis": "y"
        },
        {
         "mode": "lines",
         "type": "scatter",
         "x": [
          1,
          2,
          3,
          4,
          5,
          6,
          7,
          8,
          9,
          10,
          11,
          12,
          13,
          14,
          15,
          16,
          17,
          18,
          19,
          20
         ],
         "xaxis": "x",
         "y": [
          0.5425158482,
          0.4376058631,
          0.4349495055,
          0.3491658288,
          0.3587401351,
          0.3216217581,
          0.3021841766,
          0.3073742336,
          0.2978212713,
          0.2814503004,
          0.2746278248,
          0.2661568986,
          0.2744440022,
          0.2611863789,
          0.2917170013,
          0.2738731868,
          0.2434414745,
          0.2450538331,
          0.2472945959,
          0.2425356355
         ],
         "yaxis": "y"
        },
        {
         "mode": "lines",
         "type": "scatter",
         "x": [
          1,
          2,
          3,
          4,
          5,
          6,
          7,
          8,
          9,
          10,
          11,
          12,
          13,
          14,
          15,
          16,
          17,
          18,
          19,
          20
         ],
         "xaxis": "x",
         "y": [
          0.401626793,
          0.323449649,
          0.2916687886,
          0.2738133204,
          0.2469356909,
          0.2419021121,
          0.2717930074,
          0.2412539137,
          0.2309685414,
          0.2417010262,
          0.2563214428,
          0.2361674787,
          0.2244875835,
          0.2303051004,
          0.2347688881,
          0.2406580583,
          0.2492530472,
          0.2606192218,
          0.2716003255,
          0.2665122904
         ],
         "yaxis": "y"
        },
        {
         "mode": "lines",
         "type": "scatter",
         "x": [
          1,
          2,
          3,
          4,
          5,
          6,
          7,
          8,
          9,
          10,
          11,
          12,
          13,
          14,
          15,
          16,
          17,
          18,
          19,
          20
         ],
         "xaxis": "x",
         "y": [
          0.766304493,
          0.607065125,
          0.4781271885,
          0.4315760697,
          0.3897950296,
          0.3669830886,
          0.3606797733,
          0.340422916,
          0.3370315873,
          0.3255828226,
          0.3119561704,
          0.3135862752,
          0.3043978313,
          0.2939015611,
          0.2883694441,
          0.2849205794,
          0.3462611329,
          0.2776161026,
          0.2768289827,
          0.2724394064
         ],
         "yaxis": "y"
        },
        {
         "mode": "lines",
         "type": "scatter",
         "x": [
          1,
          2,
          3,
          4,
          5,
          6,
          7,
          8,
          9,
          10,
          11,
          12,
          13,
          14,
          15,
          16,
          17,
          18,
          19
         ],
         "xaxis": "x",
         "y": [
          0.6644632071,
          0.5484708751,
          0.4674085632,
          0.449345913,
          0.3977405302,
          0.3868741017,
          0.3862375506,
          0.3541156775,
          0.3421333968,
          0.3514263861,
          0.3274314774,
          0.3126464229,
          0.3052254487,
          0.3083416915,
          0.303140957,
          0.301290445,
          0.2908285303,
          0.294127714,
          0.2819558355
         ],
         "yaxis": "y"
        },
        {
         "mode": "lines",
         "type": "scatter",
         "x": [
          1,
          2,
          3,
          4,
          5,
          6,
          7,
          8,
          9
         ],
         "xaxis": "x",
         "y": [
          0.5434461741,
          0.4684863403,
          0.4057795017,
          0.3884184808,
          0.3931736933,
          0.3406060515,
          0.3332231157,
          0.3202171041,
          0.3055115026
         ],
         "yaxis": "y"
        },
        {
         "mode": "lines",
         "type": "scatter",
         "x": [
          1,
          2,
          3,
          4,
          5
         ],
         "xaxis": "x",
         "y": [
          0.3361577802,
          0.2829977581,
          0.2483966941,
          0.2412634442,
          0.2348843061
         ],
         "yaxis": "y"
        },
        {
         "mode": "lines",
         "type": "scatter",
         "x": [
          1,
          2,
          3,
          4,
          5,
          6,
          7,
          8,
          9,
          10,
          11,
          12,
          13,
          14,
          15,
          16,
          17,
          18,
          19,
          20
         ],
         "xaxis": "x",
         "y": [
          0.366240002,
          0.297327315,
          0.2677521812,
          0.2564229589,
          0.2549679206,
          0.2397158873,
          0.2727451324,
          0.276374907,
          0.2648777565,
          0.2828855816,
          0.3062121465,
          0.29099368,
          0.3046049698,
          0.3548810873,
          0.3441406022,
          0.3827110051,
          0.3965552668,
          0.4244478709,
          0.4189825508,
          0.4890880503
         ],
         "yaxis": "y"
        },
        {
         "mode": "lines",
         "type": "scatter",
         "x": [
          1,
          2,
          3,
          4,
          5,
          6,
          7,
          8,
          9,
          10,
          11,
          12,
          13,
          14,
          15,
          16,
          17,
          18,
          19,
          20
         ],
         "xaxis": "x",
         "y": [
          0.3776196611,
          0.3047591801,
          0.2800400301,
          0.2656868733,
          0.2502872008,
          0.2590877614,
          0.2333842313,
          0.2462658345,
          0.2582560552,
          0.2479074212,
          0.252467342,
          0.2680604563,
          0.2649453513,
          0.3106845629,
          0.3027163054,
          0.3250163642,
          0.3223970122,
          0.3130097279,
          0.353769155,
          0.3817148453
         ],
         "yaxis": "y"
        },
        {
         "mode": "lines",
         "type": "scatter",
         "x": [
          1,
          2,
          3,
          4,
          5,
          6,
          7,
          8,
          9,
          10,
          11,
          12,
          13,
          14,
          15,
          16,
          17,
          18,
          19,
          20
         ],
         "xaxis": "x",
         "y": [
          0.3837588406,
          0.3332601868,
          0.3220407465,
          0.2676642867,
          0.2728847125,
          0.3104003043,
          0.2525376331,
          0.2381320024,
          0.2285481451,
          0.2245744844,
          0.2515765776,
          0.2342760802,
          0.246044753,
          0.229203101,
          0.2595959192,
          0.2688932103,
          0.2452519738,
          0.2628664728,
          0.2790187125,
          0.3060270447
         ],
         "yaxis": "y"
        },
        {
         "mode": "lines",
         "type": "scatter",
         "x": [
          1,
          2,
          3,
          4,
          5,
          6,
          7,
          8,
          9,
          10,
          11,
          12,
          13,
          14,
          15,
          16,
          17,
          18,
          19,
          20
         ],
         "xaxis": "x",
         "y": [
          0.5237265674,
          0.4115668837,
          0.3904967825,
          0.3471875133,
          0.3334004629,
          0.3295244977,
          0.3140605325,
          0.2923173938,
          0.2964401124,
          0.2793777245,
          0.2762172269,
          0.27657545,
          0.2552179619,
          0.2575557853,
          0.2457172928,
          0.2571737281,
          0.2398864633,
          0.2412254754,
          0.2358050242,
          0.2451195181
         ],
         "yaxis": "y"
        },
        {
         "mode": "lines",
         "type": "scatter",
         "x": [
          1,
          2,
          3,
          4,
          5,
          6,
          7,
          8,
          9,
          10,
          11,
          12,
          13,
          14,
          15,
          16,
          17,
          18,
          19,
          20
         ],
         "xaxis": "x",
         "y": [
          0.4472353057,
          0.3455327325,
          0.3130179242,
          0.3070695584,
          0.2795662089,
          0.2808719914,
          0.2709991476,
          0.2625915458,
          0.250878249,
          0.2384061178,
          0.2567871887,
          0.2443057298,
          0.2418392742,
          0.2398875894,
          0.2397340689,
          0.2429194286,
          0.2303940086,
          0.2455746138,
          0.2341781766,
          0.2421068221
         ],
         "yaxis": "y"
        },
        {
         "mode": "lines",
         "type": "scatter",
         "x": [
          1,
          2,
          3,
          4,
          5,
          6,
          7,
          8,
          9,
          10,
          11,
          12,
          13,
          14,
          15,
          16,
          17,
          18,
          19,
          20
         ],
         "xaxis": "x",
         "y": [
          0.4813270366,
          0.3839089978,
          0.3583065941,
          0.3261584731,
          0.317226581,
          0.2939136719,
          0.2883870127,
          0.2734542623,
          0.2762055867,
          0.2675651833,
          0.2566989732,
          0.2486639693,
          0.2367061864,
          0.2314560198,
          0.2302354326,
          0.2226841321,
          0.2284784266,
          0.2363387358,
          0.2300621518,
          0.2246138516
         ],
         "yaxis": "y"
        },
        {
         "mode": "lines",
         "type": "scatter",
         "x": [
          1,
          2,
          3,
          4,
          5,
          6,
          7,
          8,
          9,
          10,
          11,
          12,
          13,
          14,
          15,
          16,
          17,
          18,
          19,
          20
         ],
         "xaxis": "x",
         "y": [
          0.388158115,
          0.2898094365,
          0.2542338668,
          0.25880849,
          0.2563254064,
          0.2700103103,
          0.254041255,
          0.2786086835,
          0.2902043307,
          0.2972164052,
          0.316584053,
          0.3162506746,
          0.3506417301,
          0.3473531646,
          0.4244749837,
          0.4103632419,
          0.4424157498,
          0.4359482096,
          0.454157533,
          0.4740976276
         ],
         "yaxis": "y"
        },
        {
         "mode": "lines",
         "type": "scatter",
         "x": [
          1,
          2,
          3,
          4,
          5,
          6,
          7,
          8,
          9,
          10,
          11,
          12,
          13,
          14,
          15,
          16,
          17,
          18,
          19,
          20
         ],
         "xaxis": "x",
         "y": [
          0.3405124091,
          0.2826540071,
          0.2694886336,
          0.2544602656,
          0.2532018046,
          0.2370437021,
          0.2253737976,
          0.257541363,
          0.2532639208,
          0.2528823186,
          0.2632655072,
          0.2831791704,
          0.2625888748,
          0.2935812256,
          0.3362076813,
          0.3949844363,
          0.3351265507,
          0.3727289896,
          0.3951836159,
          0.394354029
         ],
         "yaxis": "y"
        },
        {
         "mode": "lines",
         "type": "scatter",
         "x": [
          1,
          2,
          3,
          4,
          5,
          6,
          7,
          8,
          9,
          10,
          11,
          12,
          13,
          14,
          15,
          16,
          17,
          18,
          19,
          20
         ],
         "xaxis": "x",
         "y": [
          0.563569659,
          0.5057681601,
          0.4199288432,
          0.3862885991,
          0.3740612148,
          0.3673577302,
          0.3569905776,
          0.3283187338,
          0.3153558012,
          0.3265880637,
          0.2977612932,
          0.28765931,
          0.2796801728,
          0.2782048699,
          0.2766752403,
          0.276918919,
          0.2697631991,
          0.2721265561,
          0.268134767,
          0.2607122025
         ],
         "yaxis": "y"
        },
        {
         "mode": "lines",
         "type": "scatter",
         "x": [
          1,
          2,
          3,
          4,
          5,
          6,
          7,
          8,
          9,
          10,
          11,
          12,
          13,
          14,
          15,
          16,
          17,
          18,
          19,
          20
         ],
         "xaxis": "x",
         "y": [
          0.5675396,
          0.41169134,
          0.3773035551,
          0.3399791407,
          0.3101763603,
          0.3077324299,
          0.2902204229,
          0.297860358,
          0.2677808323,
          0.2824771117,
          0.2879667937,
          0.2616678697,
          0.2556956398,
          0.2533491462,
          0.2416438404,
          0.2532063876,
          0.2370364928,
          0.2374963171,
          0.2375927743,
          0.2416789834
         ],
         "yaxis": "y"
        },
        {
         "mode": "lines",
         "type": "scatter",
         "x": [
          1,
          2,
          3,
          4,
          5,
          6,
          7,
          8,
          9,
          10,
          11,
          12,
          13,
          14,
          15,
          16,
          17,
          18,
          19,
          20
         ],
         "xaxis": "x",
         "y": [
          0.3500331872,
          0.266957815,
          0.2473379366,
          0.254130335,
          0.233038153,
          0.2333097579,
          0.2412792846,
          0.2626496461,
          0.2661802232,
          0.3372049338,
          0.2849315193,
          0.304333371,
          0.3278403392,
          0.335187275,
          0.396626079,
          0.3746717155,
          0.4080585631,
          0.4153780946,
          0.446453706,
          0.4677130834
         ],
         "yaxis": "y"
        },
        {
         "mode": "lines",
         "type": "scatter",
         "x": [
          1,
          2,
          3,
          4,
          5,
          6,
          7,
          8,
          9,
          10,
          11,
          12,
          13,
          14,
          15,
          16,
          17,
          18,
          19,
          20
         ],
         "xaxis": "x",
         "y": [
          0.3601795164,
          0.3112214262,
          0.2935914492,
          0.2553667124,
          0.2550599703,
          0.2640887534,
          0.2516490715,
          0.2317512317,
          0.251104636,
          0.2407077673,
          0.2435442263,
          0.2543136938,
          0.2992574718,
          0.2683678086,
          0.292584643,
          0.3019945477,
          0.3290416335,
          0.3246342603,
          0.3517056375,
          0.3917784642
         ],
         "yaxis": "y"
        },
        {
         "mode": "lines",
         "type": "scatter",
         "x": [
          1,
          2,
          3,
          4,
          5,
          6,
          7,
          8,
          9,
          10,
          11,
          12,
          13,
          14,
          15,
          16,
          17,
          18,
          19,
          20
         ],
         "xaxis": "x",
         "y": [
          0.4288119011,
          0.3303086395,
          0.3033371537,
          0.27820012,
          0.2709693684,
          0.2564627253,
          0.24157228,
          0.248983768,
          0.232160969,
          0.2352522877,
          0.2302848212,
          0.2291720593,
          0.235410135,
          0.2237579978,
          0.2614131391,
          0.2403942717,
          0.295977333,
          0.2487615997,
          0.2734936633,
          0.2555521592
         ],
         "yaxis": "y"
        },
        {
         "mode": "lines",
         "type": "scatter",
         "x": [
          1,
          2,
          3,
          4,
          5,
          6,
          7,
          8,
          9,
          10,
          11,
          12,
          13,
          14,
          15,
          16
         ],
         "xaxis": "x2",
         "y": [
          0.3336021979,
          0.2770404779,
          0.2378123129,
          0.2579335237,
          0.2387574012,
          0.2290143994,
          0.2264829543,
          0.2269173216,
          0.2312023821,
          0.2535682498,
          0.2425252468,
          0.2616346399,
          0.2924339954,
          0.3010581652,
          0.3296564789,
          0.3581483989
         ],
         "yaxis": "y2"
        },
        {
         "mode": "lines",
         "type": "scatter",
         "x": [
          1
         ],
         "xaxis": "x2",
         "y": [
          0.6607890215
         ],
         "yaxis": "y2"
        },
        {
         "mode": "lines",
         "type": "scatter",
         "x": [
          1,
          2
         ],
         "xaxis": "x2",
         "y": [
          0.3903985503,
          0.3270757602
         ],
         "yaxis": "y2"
        },
        {
         "mode": "lines",
         "type": "scatter",
         "x": [
          1
         ],
         "xaxis": "x2",
         "y": [
          0.8505935143
         ],
         "yaxis": "y2"
        },
        {
         "mode": "lines",
         "type": "scatter",
         "x": [
          1,
          2
         ],
         "xaxis": "x2",
         "y": [
          0.4236320701,
          0.3341165724
         ],
         "yaxis": "y2"
        },
        {
         "mode": "lines",
         "type": "scatter",
         "x": [
          1
         ],
         "xaxis": "x2",
         "y": [
          0.507448801
         ],
         "yaxis": "y2"
        },
        {
         "mode": "lines",
         "type": "scatter",
         "x": [
          1
         ],
         "xaxis": "x2",
         "y": [
          0.4438175055
         ],
         "yaxis": "y2"
        },
        {
         "mode": "lines",
         "type": "scatter",
         "x": [
          1,
          2,
          3,
          4,
          5,
          6,
          7,
          8,
          9,
          10,
          11,
          12,
          13,
          14,
          15,
          16,
          17,
          18,
          19,
          20
         ],
         "xaxis": "x2",
         "y": [
          0.3823135968,
          0.3074238859,
          0.306863384,
          0.2640407448,
          0.258646796,
          0.2578213558,
          0.2352264012,
          0.2378485741,
          0.2240427831,
          0.2381148128,
          0.2237017476,
          0.2407647603,
          0.2337284325,
          0.2245252628,
          0.2746278301,
          0.2203303295,
          0.2464836199,
          0.2457790015,
          0.2497394121,
          0.2501408349
         ],
         "yaxis": "y2"
        },
        {
         "mode": "lines",
         "type": "scatter",
         "x": [
          1,
          2,
          3,
          4,
          5,
          6,
          7,
          8,
          9,
          10,
          11
         ],
         "xaxis": "x2",
         "y": [
          0.3506305707,
          0.2852501571,
          0.2613717695,
          0.2424438925,
          0.2278603707,
          0.224968943,
          0.2295031135,
          0.2362469246,
          0.2411343222,
          0.2478352217,
          0.2610499871
         ],
         "yaxis": "y2"
        },
        {
         "mode": "lines",
         "type": "scatter",
         "x": [
          1
         ],
         "xaxis": "x2",
         "y": [
          2.0429932868
         ],
         "yaxis": "y2"
        },
        {
         "mode": "lines",
         "type": "scatter",
         "x": [
          1,
          2
         ],
         "xaxis": "x2",
         "y": [
          0.3896363353,
          0.3352020451
         ],
         "yaxis": "y2"
        },
        {
         "mode": "lines",
         "type": "scatter",
         "x": [
          1,
          2,
          3,
          4
         ],
         "xaxis": "x2",
         "y": [
          0.3934196742,
          0.2935973983,
          0.2788946734,
          0.2691256002
         ],
         "yaxis": "y2"
        },
        {
         "mode": "lines",
         "type": "scatter",
         "x": [
          1
         ],
         "xaxis": "x2",
         "y": [
          0.5520592592
         ],
         "yaxis": "y2"
        },
        {
         "mode": "lines",
         "type": "scatter",
         "x": [
          1,
          2,
          3,
          4
         ],
         "xaxis": "x2",
         "y": [
          0.3097681391,
          0.2948691493,
          0.2448476469,
          0.2550846124
         ],
         "yaxis": "y2"
        },
        {
         "mode": "lines",
         "type": "scatter",
         "x": [
          1
         ],
         "xaxis": "x2",
         "y": [
          0.4173216022
         ],
         "yaxis": "y2"
        },
        {
         "mode": "lines",
         "type": "scatter",
         "x": [
          1,
          2,
          3,
          4,
          5,
          6,
          7,
          8,
          9,
          10,
          11,
          12,
          13,
          14,
          15,
          16
         ],
         "xaxis": "x2",
         "y": [
          0.3257773841,
          0.2743896729,
          0.2393293888,
          0.2431444459,
          0.2313553628,
          0.2339301095,
          0.2459832529,
          0.2443985152,
          0.2876829252,
          0.2640635548,
          0.2793705963,
          0.3170523174,
          0.3441872911,
          0.3328266682,
          0.3745250236,
          0.4122324081
         ],
         "yaxis": "y2"
        },
        {
         "mode": "lines",
         "type": "scatter",
         "x": [
          1
         ],
         "xaxis": "x2",
         "y": [
          0.5860550447
         ],
         "yaxis": "y2"
        },
        {
         "mode": "lines",
         "type": "scatter",
         "x": [
          1,
          2,
          3,
          4
         ],
         "xaxis": "x2",
         "y": [
          0.3200745327,
          0.2844855993,
          0.279370993,
          0.2757947868
         ],
         "yaxis": "y2"
        },
        {
         "mode": "lines",
         "type": "scatter",
         "x": [
          1,
          2,
          3,
          4
         ],
         "xaxis": "x2",
         "y": [
          0.3650635429,
          0.2953147091,
          0.28600131,
          0.2500332832
         ],
         "yaxis": "y2"
        },
        {
         "mode": "lines",
         "type": "scatter",
         "x": [
          1
         ],
         "xaxis": "x2",
         "y": [
          0.5629406353
         ],
         "yaxis": "y2"
        },
        {
         "mode": "lines",
         "type": "scatter",
         "x": [
          1
         ],
         "xaxis": "x2",
         "y": [
          0.6291669724
         ],
         "yaxis": "y2"
        },
        {
         "mode": "lines",
         "type": "scatter",
         "x": [
          1,
          2
         ],
         "xaxis": "x2",
         "y": [
          0.3791150406,
          0.3230813208
         ],
         "yaxis": "y2"
        },
        {
         "mode": "lines",
         "type": "scatter",
         "x": [
          1,
          2
         ],
         "xaxis": "x2",
         "y": [
          0.4167995335,
          0.3108917644
         ],
         "yaxis": "y2"
        },
        {
         "mode": "lines",
         "type": "scatter",
         "x": [
          1,
          2,
          3,
          4,
          5,
          6,
          7,
          8
         ],
         "xaxis": "x2",
         "y": [
          0.3398012978,
          0.2874252463,
          0.2615361019,
          0.2569067211,
          0.2432147828,
          0.2414918573,
          0.2466529496,
          0.2577569724
         ],
         "yaxis": "y2"
        },
        {
         "mode": "lines",
         "type": "scatter",
         "x": [
          1,
          2,
          3,
          4,
          5,
          6,
          7,
          8
         ],
         "xaxis": "x2",
         "y": [
          0.3368149596,
          0.2870015836,
          0.249944014,
          0.2782449104,
          0.2527738861,
          0.2712608201,
          0.2608751388,
          0.3108393714
         ],
         "yaxis": "y2"
        },
        {
         "mode": "lines",
         "type": "scatter",
         "x": [
          1,
          2,
          3,
          4,
          5,
          6,
          7,
          8,
          9,
          10,
          11,
          12,
          13,
          14,
          15,
          16
         ],
         "xaxis": "x2",
         "y": [
          0.3327266216,
          0.2584545508,
          0.2497159421,
          0.2404831319,
          0.2736721118,
          0.231708698,
          0.2397758301,
          0.2413127283,
          0.2816862979,
          0.2863348064,
          0.3203895977,
          0.3391017699,
          0.3567333632,
          0.4014383692,
          0.3935006818,
          0.3915117157
         ],
         "yaxis": "y2"
        },
        {
         "mode": "lines",
         "type": "scatter",
         "x": [
          1,
          2
         ],
         "xaxis": "x2",
         "y": [
          0.4281061971,
          0.3916878893
         ],
         "yaxis": "y2"
        },
        {
         "mode": "lines",
         "type": "scatter",
         "x": [
          1,
          2
         ],
         "xaxis": "x2",
         "y": [
          0.4194982019,
          0.3960009348
         ],
         "yaxis": "y2"
        },
        {
         "mode": "lines",
         "type": "scatter",
         "x": [
          1
         ],
         "xaxis": "x2",
         "y": [
          0.4296531226
         ],
         "yaxis": "y2"
        },
        {
         "mode": "lines",
         "type": "scatter",
         "x": [
          1
         ],
         "xaxis": "x2",
         "y": [
          0.6155214023
         ],
         "yaxis": "y2"
        },
        {
         "mode": "lines",
         "type": "scatter",
         "x": [
          1,
          2,
          3,
          4,
          5,
          6,
          7,
          8,
          9,
          10,
          11,
          12,
          13,
          14,
          15,
          16
         ],
         "xaxis": "x2",
         "y": [
          0.3410026224,
          0.2755413413,
          0.2633991225,
          0.2507422198,
          0.2479720471,
          0.2366584078,
          0.2358458657,
          0.2329669316,
          0.2530878444,
          0.2693425549,
          0.243732263,
          0.2894779374,
          0.2833793063,
          0.321119127,
          0.3415808141,
          0.3325134385
         ],
         "yaxis": "y2"
        },
        {
         "mode": "lines",
         "type": "scatter",
         "x": [
          1
         ],
         "xaxis": "x2",
         "y": [
          0.6846204419
         ],
         "yaxis": "y2"
        },
        {
         "mode": "lines",
         "type": "scatter",
         "x": [
          1,
          2
         ],
         "xaxis": "x2",
         "y": [
          0.3099954011,
          0.3158085502
         ],
         "yaxis": "y2"
        },
        {
         "mode": "lines",
         "type": "scatter",
         "x": [
          1
         ],
         "xaxis": "x2",
         "y": [
          0.7276186632
         ],
         "yaxis": "y2"
        },
        {
         "mode": "lines",
         "type": "scatter",
         "x": [
          1,
          2
         ],
         "xaxis": "x2",
         "y": [
          0.4160984398,
          0.3340673595
         ],
         "yaxis": "y2"
        },
        {
         "mode": "lines",
         "type": "scatter",
         "x": [
          1
         ],
         "xaxis": "x2",
         "y": [
          0.4494249957
         ],
         "yaxis": "y2"
        },
        {
         "mode": "lines",
         "type": "scatter",
         "x": [
          1,
          2,
          3,
          4,
          5,
          6,
          7,
          8,
          9,
          10,
          11,
          12,
          13,
          14,
          15,
          16,
          17,
          18,
          19,
          20
         ],
         "xaxis": "x2",
         "y": [
          0.4047890011,
          0.2981177013,
          0.2644248176,
          0.2468892826,
          0.329287911,
          0.2229483823,
          0.2375500279,
          0.2226932131,
          0.2268377862,
          0.2373024455,
          0.2429716727,
          0.2265206125,
          0.2519168591,
          0.2593828082,
          0.2719932965,
          0.2754646746,
          0.2927799095,
          0.3092922836,
          0.3355018155,
          0.319234373
         ],
         "yaxis": "y2"
        },
        {
         "mode": "lines",
         "type": "scatter",
         "x": [
          1,
          2
         ],
         "xaxis": "x2",
         "y": [
          0.3662682049,
          0.3151445485
         ],
         "yaxis": "y2"
        },
        {
         "mode": "lines",
         "type": "scatter",
         "x": [
          1,
          2
         ],
         "xaxis": "x2",
         "y": [
          0.3680369104,
          0.3255842794
         ],
         "yaxis": "y2"
        },
        {
         "mode": "lines",
         "type": "scatter",
         "x": [
          1
         ],
         "xaxis": "x2",
         "y": [
          0.6552709664
         ],
         "yaxis": "y2"
        },
        {
         "mode": "lines",
         "type": "scatter",
         "x": [
          1
         ],
         "xaxis": "x2",
         "y": [
          0.70699566
         ],
         "yaxis": "y2"
        },
        {
         "mode": "lines",
         "type": "scatter",
         "x": [
          1,
          2,
          3,
          4,
          5,
          6,
          7,
          8
         ],
         "xaxis": "x2",
         "y": [
          0.3246657064,
          0.2808264588,
          0.2863244871,
          0.2314647507,
          0.2434196361,
          0.2353273486,
          0.2388960304,
          0.2606001031
         ],
         "yaxis": "y2"
        },
        {
         "mode": "lines",
         "type": "scatter",
         "x": [
          1
         ],
         "xaxis": "x2",
         "y": [
          0.7079785783
         ],
         "yaxis": "y2"
        },
        {
         "mode": "lines",
         "type": "scatter",
         "x": [
          1
         ],
         "xaxis": "x2",
         "y": [
          0.5111870705
         ],
         "yaxis": "y2"
        },
        {
         "mode": "lines",
         "type": "scatter",
         "x": [
          1,
          2
         ],
         "xaxis": "x2",
         "y": [
          0.4799146158,
          0.3747630358
         ],
         "yaxis": "y2"
        },
        {
         "mode": "lines",
         "type": "scatter",
         "x": [
          1,
          2
         ],
         "xaxis": "x2",
         "y": [
          0.363444396,
          0.3344922605
         ],
         "yaxis": "y2"
        },
        {
         "mode": "lines",
         "type": "scatter",
         "x": [
          1
         ],
         "xaxis": "x2",
         "y": [
          0.762082339
         ],
         "yaxis": "y2"
        },
        {
         "mode": "lines",
         "type": "scatter",
         "x": [
          1,
          2
         ],
         "xaxis": "x2",
         "y": [
          0.3670512676,
          0.317019417
         ],
         "yaxis": "y2"
        },
        {
         "mode": "lines",
         "type": "scatter",
         "x": [
          1,
          2
         ],
         "xaxis": "x2",
         "y": [
          0.4097438421,
          0.3348477645
         ],
         "yaxis": "y2"
        },
        {
         "mode": "lines",
         "type": "scatter",
         "x": [
          1,
          2
         ],
         "xaxis": "x2",
         "y": [
          0.4165303236,
          0.3402291913
         ],
         "yaxis": "y2"
        },
        {
         "mode": "lines",
         "type": "scatter",
         "x": [
          1
         ],
         "xaxis": "x2",
         "y": [
          0.4327318328
         ],
         "yaxis": "y2"
        },
        {
         "mode": "lines",
         "type": "scatter",
         "x": [
          1
         ],
         "xaxis": "x2",
         "y": [
          0.5345477263
         ],
         "yaxis": "y2"
        },
        {
         "mode": "lines",
         "type": "scatter",
         "x": [
          1,
          2,
          3,
          4
         ],
         "xaxis": "x2",
         "y": [
          0.4058469665,
          0.2857848758,
          0.3065976613,
          0.257600151
         ],
         "yaxis": "y2"
        },
        {
         "mode": "lines",
         "type": "scatter",
         "x": [
          1
         ],
         "xaxis": "x2",
         "y": [
          0.4599858706
         ],
         "yaxis": "y2"
        },
        {
         "mode": "lines",
         "type": "scatter",
         "x": [
          1,
          2,
          3,
          4,
          5,
          6,
          7,
          8,
          9,
          10,
          11,
          12,
          13,
          14,
          15,
          16
         ],
         "xaxis": "x2",
         "y": [
          0.3398810438,
          0.2822557421,
          0.2985726299,
          0.2442927639,
          0.2379881081,
          0.237086033,
          0.2349918104,
          0.2364742248,
          0.232720269,
          0.2739743751,
          0.2540829384,
          0.2785535507,
          0.308681978,
          0.3406969621,
          0.3323042403,
          0.3333239577
         ],
         "yaxis": "y2"
        },
        {
         "mode": "lines",
         "type": "scatter",
         "x": [
          1
         ],
         "xaxis": "x2",
         "y": [
          0.6438075237
         ],
         "yaxis": "y2"
        },
        {
         "mode": "lines",
         "type": "scatter",
         "x": [
          1
         ],
         "xaxis": "x2",
         "y": [
          0.7396836439
         ],
         "yaxis": "y2"
        },
        {
         "mode": "lines",
         "type": "scatter",
         "x": [
          1,
          2
         ],
         "xaxis": "x2",
         "y": [
          0.4308497143,
          0.365208136
         ],
         "yaxis": "y2"
        },
        {
         "mode": "lines",
         "type": "scatter",
         "x": [
          1
         ],
         "xaxis": "x2",
         "y": [
          2.2283713926
         ],
         "yaxis": "y2"
        },
        {
         "mode": "lines",
         "type": "scatter",
         "x": [
          1
         ],
         "xaxis": "x2",
         "y": [
          0.4990625686
         ],
         "yaxis": "y2"
        },
        {
         "mode": "lines",
         "type": "scatter",
         "x": [
          1,
          2
         ],
         "xaxis": "x2",
         "y": [
          0.3495245487,
          0.3202361987
         ],
         "yaxis": "y2"
        },
        {
         "mode": "lines",
         "type": "scatter",
         "x": [
          1,
          2
         ],
         "xaxis": "x2",
         "y": [
          0.3956066701,
          0.3234209471
         ],
         "yaxis": "y2"
        },
        {
         "mode": "lines",
         "type": "scatter",
         "x": [
          1,
          2,
          3,
          4
         ],
         "xaxis": "x2",
         "y": [
          0.3283128468,
          0.2882934733,
          0.2669604088,
          0.2607588692
         ],
         "yaxis": "y2"
        },
        {
         "mode": "lines",
         "type": "scatter",
         "x": [
          1,
          2,
          3,
          4,
          5,
          6,
          7,
          8,
          9,
          10,
          11,
          12,
          13,
          14,
          15,
          16,
          17,
          18,
          19,
          20
         ],
         "xaxis": "x2",
         "y": [
          0.3366855931,
          0.3025765058,
          0.2748504917,
          0.250593437,
          0.2427688536,
          0.2485500303,
          0.2312258156,
          0.2482344005,
          0.2317481348,
          0.2520245222,
          0.2520298085,
          0.2865581571,
          0.2694829443,
          0.2857191128,
          0.3083276606,
          0.3099555001,
          0.3356962196,
          0.3560018282,
          0.385873649,
          0.3794523617
         ],
         "yaxis": "y2"
        },
        {
         "mode": "lines",
         "type": "scatter",
         "x": [
          1
         ],
         "xaxis": "x2",
         "y": [
          0.6089501089
         ],
         "yaxis": "y2"
        },
        {
         "mode": "lines",
         "type": "scatter",
         "x": [
          1
         ],
         "xaxis": "x2",
         "y": [
          1.4531184194
         ],
         "yaxis": "y2"
        },
        {
         "mode": "lines",
         "type": "scatter",
         "x": [
          1,
          2,
          3,
          4,
          5,
          6,
          7,
          8,
          9,
          10,
          11,
          12,
          13,
          14,
          15,
          16
         ],
         "xaxis": "x2",
         "y": [
          0.3513643158,
          0.3034653245,
          0.2617334225,
          0.2457839082,
          0.2456464805,
          0.2658085582,
          0.2321173896,
          0.2450111097,
          0.2797316354,
          0.2395161942,
          0.2546036936,
          0.2723817533,
          0.2613344472,
          0.2863362114,
          0.2958167656,
          0.3146362772
         ],
         "yaxis": "y2"
        },
        {
         "mode": "lines",
         "type": "scatter",
         "x": [
          1
         ],
         "xaxis": "x2",
         "y": [
          0.6116902999
         ],
         "yaxis": "y2"
        },
        {
         "mode": "lines",
         "type": "scatter",
         "x": [
          1
         ],
         "xaxis": "x2",
         "y": [
          0.5196089267
         ],
         "yaxis": "y2"
        },
        {
         "mode": "lines",
         "type": "scatter",
         "x": [
          1
         ],
         "xaxis": "x2",
         "y": [
          0.6404730852
         ],
         "yaxis": "y2"
        },
        {
         "mode": "lines",
         "type": "scatter",
         "x": [
          1
         ],
         "xaxis": "x2",
         "y": [
          0.554696021
         ],
         "yaxis": "y2"
        },
        {
         "mode": "lines",
         "type": "scatter",
         "x": [
          1
         ],
         "xaxis": "x2",
         "y": [
          0.4461624751
         ],
         "yaxis": "y2"
        },
        {
         "mode": "lines",
         "type": "scatter",
         "x": [
          1
         ],
         "xaxis": "x2",
         "y": [
          0.5061861386
         ],
         "yaxis": "y2"
        },
        {
         "mode": "lines",
         "type": "scatter",
         "x": [
          1
         ],
         "xaxis": "x2",
         "y": [
          0.5449745915
         ],
         "yaxis": "y2"
        },
        {
         "mode": "lines",
         "type": "scatter",
         "x": [
          1,
          2,
          3,
          4,
          5,
          6,
          7,
          8,
          9,
          10,
          11,
          12,
          13,
          14,
          15,
          16
         ],
         "xaxis": "x2",
         "y": [
          0.3301054025,
          0.2867805614,
          0.2515204221,
          0.2483076514,
          0.2254805399,
          0.2456047011,
          0.2851998248,
          0.2243943406,
          0.2453555067,
          0.2345448395,
          0.2566758609,
          0.2617933712,
          0.293750396,
          0.2905143568,
          0.3481512522,
          0.3238384784
         ],
         "yaxis": "y2"
        },
        {
         "mode": "lines",
         "type": "scatter",
         "x": [
          1
         ],
         "xaxis": "x2",
         "y": [
          0.6395724543
         ],
         "yaxis": "y2"
        },
        {
         "mode": "lines",
         "type": "scatter",
         "x": [
          1,
          2,
          3,
          4,
          5,
          6,
          7,
          8
         ],
         "xaxis": "x2",
         "y": [
          0.3521749007,
          0.2664607831,
          0.2551740971,
          0.2435463497,
          0.2740370692,
          0.2574474311,
          0.2482697579,
          0.2886539426
         ],
         "yaxis": "y2"
        },
        {
         "mode": "lines",
         "type": "scatter",
         "x": [
          1
         ],
         "xaxis": "x2",
         "y": [
          0.4697744732
         ],
         "yaxis": "y2"
        },
        {
         "mode": "lines",
         "type": "scatter",
         "x": [
          1
         ],
         "xaxis": "x2",
         "y": [
          0.5270011217
         ],
         "yaxis": "y2"
        },
        {
         "mode": "lines",
         "type": "scatter",
         "x": [
          1,
          2
         ],
         "xaxis": "x2",
         "y": [
          0.4035931968,
          0.3594707157
         ],
         "yaxis": "y2"
        },
        {
         "mode": "lines",
         "type": "scatter",
         "x": [
          1,
          2,
          3,
          4
         ],
         "xaxis": "x2",
         "y": [
          0.3404423814,
          0.2818147618,
          0.2577044852,
          0.2578586989
         ],
         "yaxis": "y2"
        },
        {
         "mode": "lines",
         "type": "scatter",
         "x": [
          1
         ],
         "xaxis": "x2",
         "y": [
          0.5029062495
         ],
         "yaxis": "y2"
        },
        {
         "mode": "lines",
         "type": "scatter",
         "x": [
          1,
          2,
          3,
          4
         ],
         "xaxis": "x2",
         "y": [
          0.3807455064,
          0.3116531085,
          0.275184771,
          0.2559368209
         ],
         "yaxis": "y2"
        },
        {
         "mode": "lines",
         "type": "scatter",
         "x": [
          1
         ],
         "xaxis": "x2",
         "y": [
          0.5226763548
         ],
         "yaxis": "y2"
        },
        {
         "mode": "lines",
         "type": "scatter",
         "x": [
          1,
          2
         ],
         "xaxis": "x2",
         "y": [
          0.4122780759,
          0.3218554575
         ],
         "yaxis": "y2"
        },
        {
         "mode": "lines",
         "type": "scatter",
         "x": [
          1
         ],
         "xaxis": "x2",
         "y": [
          0.510888553
         ],
         "yaxis": "y2"
        },
        {
         "mode": "lines",
         "type": "scatter",
         "x": [
          1
         ],
         "xaxis": "x2",
         "y": [
          0.6754892858
         ],
         "yaxis": "y2"
        },
        {
         "mode": "lines",
         "type": "scatter",
         "x": [
          1
         ],
         "xaxis": "x2",
         "y": [
          0.4406978604
         ],
         "yaxis": "y2"
        },
        {
         "mode": "lines",
         "type": "scatter",
         "x": [
          1,
          2,
          3,
          4
         ],
         "xaxis": "x2",
         "y": [
          0.3408781839,
          0.297568497,
          0.2615255118,
          0.2618917699
         ],
         "yaxis": "y2"
        }
       ],
       "layout": {
        "annotations": [
         {
          "font": {
           "size": 16
          },
          "showarrow": false,
          "text": "Random Search",
          "x": 0.225,
          "xanchor": "center",
          "xref": "paper",
          "y": 1,
          "yanchor": "bottom",
          "yref": "paper"
         },
         {
          "font": {
           "size": 16
          },
          "showarrow": false,
          "text": "Hyperband",
          "x": 0.775,
          "xanchor": "center",
          "xref": "paper",
          "y": 1,
          "yanchor": "bottom",
          "yref": "paper"
         }
        ],
        "showlegend": false,
        "template": {
         "data": {
          "bar": [
           {
            "error_x": {
             "color": "#2a3f5f"
            },
            "error_y": {
             "color": "#2a3f5f"
            },
            "marker": {
             "line": {
              "color": "white",
              "width": 0.5
             },
             "pattern": {
              "fillmode": "overlay",
              "size": 10,
              "solidity": 0.2
             }
            },
            "type": "bar"
           }
          ],
          "barpolar": [
           {
            "marker": {
             "line": {
              "color": "white",
              "width": 0.5
             },
             "pattern": {
              "fillmode": "overlay",
              "size": 10,
              "solidity": 0.2
             }
            },
            "type": "barpolar"
           }
          ],
          "carpet": [
           {
            "aaxis": {
             "endlinecolor": "#2a3f5f",
             "gridcolor": "#C8D4E3",
             "linecolor": "#C8D4E3",
             "minorgridcolor": "#C8D4E3",
             "startlinecolor": "#2a3f5f"
            },
            "baxis": {
             "endlinecolor": "#2a3f5f",
             "gridcolor": "#C8D4E3",
             "linecolor": "#C8D4E3",
             "minorgridcolor": "#C8D4E3",
             "startlinecolor": "#2a3f5f"
            },
            "type": "carpet"
           }
          ],
          "choropleth": [
           {
            "colorbar": {
             "outlinewidth": 0,
             "ticks": ""
            },
            "type": "choropleth"
           }
          ],
          "contour": [
           {
            "colorbar": {
             "outlinewidth": 0,
             "ticks": ""
            },
            "colorscale": [
             [
              0,
              "#0d0887"
             ],
             [
              0.1111111111111111,
              "#46039f"
             ],
             [
              0.2222222222222222,
              "#7201a8"
             ],
             [
              0.3333333333333333,
              "#9c179e"
             ],
             [
              0.4444444444444444,
              "#bd3786"
             ],
             [
              0.5555555555555556,
              "#d8576b"
             ],
             [
              0.6666666666666666,
              "#ed7953"
             ],
             [
              0.7777777777777778,
              "#fb9f3a"
             ],
             [
              0.8888888888888888,
              "#fdca26"
             ],
             [
              1,
              "#f0f921"
             ]
            ],
            "type": "contour"
           }
          ],
          "contourcarpet": [
           {
            "colorbar": {
             "outlinewidth": 0,
             "ticks": ""
            },
            "type": "contourcarpet"
           }
          ],
          "heatmap": [
           {
            "colorbar": {
             "outlinewidth": 0,
             "ticks": ""
            },
            "colorscale": [
             [
              0,
              "#0d0887"
             ],
             [
              0.1111111111111111,
              "#46039f"
             ],
             [
              0.2222222222222222,
              "#7201a8"
             ],
             [
              0.3333333333333333,
              "#9c179e"
             ],
             [
              0.4444444444444444,
              "#bd3786"
             ],
             [
              0.5555555555555556,
              "#d8576b"
             ],
             [
              0.6666666666666666,
              "#ed7953"
             ],
             [
              0.7777777777777778,
              "#fb9f3a"
             ],
             [
              0.8888888888888888,
              "#fdca26"
             ],
             [
              1,
              "#f0f921"
             ]
            ],
            "type": "heatmap"
           }
          ],
          "heatmapgl": [
           {
            "colorbar": {
             "outlinewidth": 0,
             "ticks": ""
            },
            "colorscale": [
             [
              0,
              "#0d0887"
             ],
             [
              0.1111111111111111,
              "#46039f"
             ],
             [
              0.2222222222222222,
              "#7201a8"
             ],
             [
              0.3333333333333333,
              "#9c179e"
             ],
             [
              0.4444444444444444,
              "#bd3786"
             ],
             [
              0.5555555555555556,
              "#d8576b"
             ],
             [
              0.6666666666666666,
              "#ed7953"
             ],
             [
              0.7777777777777778,
              "#fb9f3a"
             ],
             [
              0.8888888888888888,
              "#fdca26"
             ],
             [
              1,
              "#f0f921"
             ]
            ],
            "type": "heatmapgl"
           }
          ],
          "histogram": [
           {
            "marker": {
             "pattern": {
              "fillmode": "overlay",
              "size": 10,
              "solidity": 0.2
             }
            },
            "type": "histogram"
           }
          ],
          "histogram2d": [
           {
            "colorbar": {
             "outlinewidth": 0,
             "ticks": ""
            },
            "colorscale": [
             [
              0,
              "#0d0887"
             ],
             [
              0.1111111111111111,
              "#46039f"
             ],
             [
              0.2222222222222222,
              "#7201a8"
             ],
             [
              0.3333333333333333,
              "#9c179e"
             ],
             [
              0.4444444444444444,
              "#bd3786"
             ],
             [
              0.5555555555555556,
              "#d8576b"
             ],
             [
              0.6666666666666666,
              "#ed7953"
             ],
             [
              0.7777777777777778,
              "#fb9f3a"
             ],
             [
              0.8888888888888888,
              "#fdca26"
             ],
             [
              1,
              "#f0f921"
             ]
            ],
            "type": "histogram2d"
           }
          ],
          "histogram2dcontour": [
           {
            "colorbar": {
             "outlinewidth": 0,
             "ticks": ""
            },
            "colorscale": [
             [
              0,
              "#0d0887"
             ],
             [
              0.1111111111111111,
              "#46039f"
             ],
             [
              0.2222222222222222,
              "#7201a8"
             ],
             [
              0.3333333333333333,
              "#9c179e"
             ],
             [
              0.4444444444444444,
              "#bd3786"
             ],
             [
              0.5555555555555556,
              "#d8576b"
             ],
             [
              0.6666666666666666,
              "#ed7953"
             ],
             [
              0.7777777777777778,
              "#fb9f3a"
             ],
             [
              0.8888888888888888,
              "#fdca26"
             ],
             [
              1,
              "#f0f921"
             ]
            ],
            "type": "histogram2dcontour"
           }
          ],
          "mesh3d": [
           {
            "colorbar": {
             "outlinewidth": 0,
             "ticks": ""
            },
            "type": "mesh3d"
           }
          ],
          "parcoords": [
           {
            "line": {
             "colorbar": {
              "outlinewidth": 0,
              "ticks": ""
             }
            },
            "type": "parcoords"
           }
          ],
          "pie": [
           {
            "automargin": true,
            "type": "pie"
           }
          ],
          "scatter": [
           {
            "fillpattern": {
             "fillmode": "overlay",
             "size": 10,
             "solidity": 0.2
            },
            "type": "scatter"
           }
          ],
          "scatter3d": [
           {
            "line": {
             "colorbar": {
              "outlinewidth": 0,
              "ticks": ""
             }
            },
            "marker": {
             "colorbar": {
              "outlinewidth": 0,
              "ticks": ""
             }
            },
            "type": "scatter3d"
           }
          ],
          "scattercarpet": [
           {
            "marker": {
             "colorbar": {
              "outlinewidth": 0,
              "ticks": ""
             }
            },
            "type": "scattercarpet"
           }
          ],
          "scattergeo": [
           {
            "marker": {
             "colorbar": {
              "outlinewidth": 0,
              "ticks": ""
             }
            },
            "type": "scattergeo"
           }
          ],
          "scattergl": [
           {
            "marker": {
             "colorbar": {
              "outlinewidth": 0,
              "ticks": ""
             }
            },
            "type": "scattergl"
           }
          ],
          "scattermapbox": [
           {
            "marker": {
             "colorbar": {
              "outlinewidth": 0,
              "ticks": ""
             }
            },
            "type": "scattermapbox"
           }
          ],
          "scatterpolar": [
           {
            "marker": {
             "colorbar": {
              "outlinewidth": 0,
              "ticks": ""
             }
            },
            "type": "scatterpolar"
           }
          ],
          "scatterpolargl": [
           {
            "marker": {
             "colorbar": {
              "outlinewidth": 0,
              "ticks": ""
             }
            },
            "type": "scatterpolargl"
           }
          ],
          "scatterternary": [
           {
            "marker": {
             "colorbar": {
              "outlinewidth": 0,
              "ticks": ""
             }
            },
            "type": "scatterternary"
           }
          ],
          "surface": [
           {
            "colorbar": {
             "outlinewidth": 0,
             "ticks": ""
            },
            "colorscale": [
             [
              0,
              "#0d0887"
             ],
             [
              0.1111111111111111,
              "#46039f"
             ],
             [
              0.2222222222222222,
              "#7201a8"
             ],
             [
              0.3333333333333333,
              "#9c179e"
             ],
             [
              0.4444444444444444,
              "#bd3786"
             ],
             [
              0.5555555555555556,
              "#d8576b"
             ],
             [
              0.6666666666666666,
              "#ed7953"
             ],
             [
              0.7777777777777778,
              "#fb9f3a"
             ],
             [
              0.8888888888888888,
              "#fdca26"
             ],
             [
              1,
              "#f0f921"
             ]
            ],
            "type": "surface"
           }
          ],
          "table": [
           {
            "cells": {
             "fill": {
              "color": "#EBF0F8"
             },
             "line": {
              "color": "white"
             }
            },
            "header": {
             "fill": {
              "color": "#C8D4E3"
             },
             "line": {
              "color": "white"
             }
            },
            "type": "table"
           }
          ]
         },
         "layout": {
          "annotationdefaults": {
           "arrowcolor": "#2a3f5f",
           "arrowhead": 0,
           "arrowwidth": 1
          },
          "autotypenumbers": "strict",
          "coloraxis": {
           "colorbar": {
            "outlinewidth": 0,
            "ticks": ""
           }
          },
          "colorscale": {
           "diverging": [
            [
             0,
             "#8e0152"
            ],
            [
             0.1,
             "#c51b7d"
            ],
            [
             0.2,
             "#de77ae"
            ],
            [
             0.3,
             "#f1b6da"
            ],
            [
             0.4,
             "#fde0ef"
            ],
            [
             0.5,
             "#f7f7f7"
            ],
            [
             0.6,
             "#e6f5d0"
            ],
            [
             0.7,
             "#b8e186"
            ],
            [
             0.8,
             "#7fbc41"
            ],
            [
             0.9,
             "#4d9221"
            ],
            [
             1,
             "#276419"
            ]
           ],
           "sequential": [
            [
             0,
             "#0d0887"
            ],
            [
             0.1111111111111111,
             "#46039f"
            ],
            [
             0.2222222222222222,
             "#7201a8"
            ],
            [
             0.3333333333333333,
             "#9c179e"
            ],
            [
             0.4444444444444444,
             "#bd3786"
            ],
            [
             0.5555555555555556,
             "#d8576b"
            ],
            [
             0.6666666666666666,
             "#ed7953"
            ],
            [
             0.7777777777777778,
             "#fb9f3a"
            ],
            [
             0.8888888888888888,
             "#fdca26"
            ],
            [
             1,
             "#f0f921"
            ]
           ],
           "sequentialminus": [
            [
             0,
             "#0d0887"
            ],
            [
             0.1111111111111111,
             "#46039f"
            ],
            [
             0.2222222222222222,
             "#7201a8"
            ],
            [
             0.3333333333333333,
             "#9c179e"
            ],
            [
             0.4444444444444444,
             "#bd3786"
            ],
            [
             0.5555555555555556,
             "#d8576b"
            ],
            [
             0.6666666666666666,
             "#ed7953"
            ],
            [
             0.7777777777777778,
             "#fb9f3a"
            ],
            [
             0.8888888888888888,
             "#fdca26"
            ],
            [
             1,
             "#f0f921"
            ]
           ]
          },
          "colorway": [
           "#636efa",
           "#EF553B",
           "#00cc96",
           "#ab63fa",
           "#FFA15A",
           "#19d3f3",
           "#FF6692",
           "#B6E880",
           "#FF97FF",
           "#FECB52"
          ],
          "font": {
           "color": "#2a3f5f"
          },
          "geo": {
           "bgcolor": "white",
           "lakecolor": "white",
           "landcolor": "white",
           "showlakes": true,
           "showland": true,
           "subunitcolor": "#C8D4E3"
          },
          "hoverlabel": {
           "align": "left"
          },
          "hovermode": "closest",
          "mapbox": {
           "style": "light"
          },
          "paper_bgcolor": "white",
          "plot_bgcolor": "white",
          "polar": {
           "angularaxis": {
            "gridcolor": "#EBF0F8",
            "linecolor": "#EBF0F8",
            "ticks": ""
           },
           "bgcolor": "white",
           "radialaxis": {
            "gridcolor": "#EBF0F8",
            "linecolor": "#EBF0F8",
            "ticks": ""
           }
          },
          "scene": {
           "xaxis": {
            "backgroundcolor": "white",
            "gridcolor": "#DFE8F3",
            "gridwidth": 2,
            "linecolor": "#EBF0F8",
            "showbackground": true,
            "ticks": "",
            "zerolinecolor": "#EBF0F8"
           },
           "yaxis": {
            "backgroundcolor": "white",
            "gridcolor": "#DFE8F3",
            "gridwidth": 2,
            "linecolor": "#EBF0F8",
            "showbackground": true,
            "ticks": "",
            "zerolinecolor": "#EBF0F8"
           },
           "zaxis": {
            "backgroundcolor": "white",
            "gridcolor": "#DFE8F3",
            "gridwidth": 2,
            "linecolor": "#EBF0F8",
            "showbackground": true,
            "ticks": "",
            "zerolinecolor": "#EBF0F8"
           }
          },
          "shapedefaults": {
           "line": {
            "color": "#2a3f5f"
           }
          },
          "ternary": {
           "aaxis": {
            "gridcolor": "#DFE8F3",
            "linecolor": "#A2B1C6",
            "ticks": ""
           },
           "baxis": {
            "gridcolor": "#DFE8F3",
            "linecolor": "#A2B1C6",
            "ticks": ""
           },
           "bgcolor": "white",
           "caxis": {
            "gridcolor": "#DFE8F3",
            "linecolor": "#A2B1C6",
            "ticks": ""
           }
          },
          "title": {
           "x": 0.05
          },
          "xaxis": {
           "automargin": true,
           "gridcolor": "#EBF0F8",
           "linecolor": "#EBF0F8",
           "ticks": "",
           "title": {
            "standoff": 15
           },
           "zerolinecolor": "#EBF0F8",
           "zerolinewidth": 2
          },
          "yaxis": {
           "automargin": true,
           "gridcolor": "#EBF0F8",
           "linecolor": "#EBF0F8",
           "ticks": "",
           "title": {
            "standoff": 15
           },
           "zerolinecolor": "#EBF0F8",
           "zerolinewidth": 2
          }
         }
        },
        "title": {
         "text": "Training Loss Comparison"
        },
        "xaxis": {
         "anchor": "y",
         "domain": [
          0,
          0.45
         ],
         "title": {
          "text": "Epoch"
         }
        },
        "xaxis2": {
         "anchor": "y2",
         "domain": [
          0.55,
          1
         ],
         "title": {
          "text": "Epoch"
         }
        },
        "yaxis": {
         "anchor": "x",
         "domain": [
          0,
          1
         ],
         "title": {
          "text": "Loss"
         }
        },
        "yaxis2": {
         "anchor": "x2",
         "domain": [
          0,
          1
         ],
         "title": {
          "text": "Loss"
         }
        }
       }
      },
      "text/html": [
       "<div>                            <div id=\"4a4e44e4-a1f7-47d3-be36-85235f134e80\" class=\"plotly-graph-div\" style=\"height:525px; width:100%;\"></div>            <script type=\"text/javascript\">                require([\"plotly\"], function(Plotly) {                    window.PLOTLYENV=window.PLOTLYENV || {};                                    if (document.getElementById(\"4a4e44e4-a1f7-47d3-be36-85235f134e80\")) {                    Plotly.newPlot(                        \"4a4e44e4-a1f7-47d3-be36-85235f134e80\",                        [{\"mode\":\"lines\",\"x\":[1,2,3,4,5,6,7,8,9,10,11,12,13,14,15,16,17,18,19,20],\"y\":[1.9979039266,1.0366093516,0.7360471842,0.6452989623,0.5923545527,0.5654049638,0.5429277166,0.5143497518,0.505309203,0.4849206501,0.4700089478,0.4641882497,0.448500238,0.4378474912,0.4283597,0.4219799752,0.415602261,0.4054566425,0.4007532861,0.3991427207],\"type\":\"scatter\",\"xaxis\":\"x\",\"yaxis\":\"y\"},{\"mode\":\"lines\",\"x\":[1,2,3,4,5,6,7,8,9,10,11,12,13,14,15,16,17,18,19,20],\"y\":[0.3550318291,0.3304352799,0.2836186944,0.2700989382,0.2509259927,0.2363184473,0.2267519316,0.2227707995,0.2224123558,0.2293897204,0.2105191899,0.2114499799,0.250908287,0.2118271744,0.2213783219,0.2216783537,0.239277179,0.2355630566,0.2604692929,0.2455811508],\"type\":\"scatter\",\"xaxis\":\"x\",\"yaxis\":\"y\"},{\"mode\":\"lines\",\"x\":[1,2,3,4,5,6,7,8,9,10,11,12,13,14,15,16,17,18,19,20],\"y\":[0.3198633499,0.2689331637,0.2796291503,0.2539445315,0.247512761,0.2540217313,0.2637807525,0.2627080959,0.3152436863,0.3314287889,0.3718457064,0.3276203931,0.3711800552,0.3686501307,0.4130556419,0.4040900405,0.4162117711,0.5001489264,0.4701026349,0.4885663756],\"type\":\"scatter\",\"xaxis\":\"x\",\"yaxis\":\"y\"},{\"mode\":\"lines\",\"x\":[1,2,3,4,5,6,7,8,9,10,11,12,13,14,15,16,17,18,19,20],\"y\":[0.4389458635,0.3732218997,0.3362558427,0.3069369698,0.2895105763,0.2910393747,0.2772757753,0.2822146896,0.2750518112,0.2669425472,0.2573670935,0.2570595504,0.2458868829,0.2525247853,0.2404534111,0.2462880337,0.2558737844,0.2378787804,0.2526862356,0.2465574028],\"type\":\"scatter\",\"xaxis\":\"x\",\"yaxis\":\"y\"},{\"mode\":\"lines\",\"x\":[1,2,3,4,5,6,7,8,9,10,11,12,13,14,15,16,17,18,19,20],\"y\":[0.4022451337,0.2850638378,0.2559962733,0.2265708846,0.2364401095,0.2422566136,0.2328167166,0.2233146633,0.2394302811,0.2444914395,0.2637438861,0.2635231858,0.2810055975,0.3215117588,0.3069775891,0.3331044818,0.3662219921,0.3775050465,0.4048061166,0.3958461923],\"type\":\"scatter\",\"xaxis\":\"x\",\"yaxis\":\"y\"},{\"mode\":\"lines\",\"x\":[1,2,3,4,5,6,7,8,9,10,11,12,13,14,15,16,17,18,19,20],\"y\":[0.3574068223,0.3238387051,0.3150534453,0.2514687429,0.2355476561,0.2399737871,0.2468574851,0.2529845494,0.2333386557,0.248770767,0.2605686526,0.2524408368,0.2565581605,0.2966319637,0.2923385961,0.2936915092,0.2860391298,0.3270527622,0.3319919993,0.3586679301],\"type\":\"scatter\",\"xaxis\":\"x\",\"yaxis\":\"y\"},{\"mode\":\"lines\",\"x\":[1,2,3,4,5,6,7,8,9,10,11,12,13,14,15,16,17,18,19,20],\"y\":[0.4028762654,0.3433330961,0.3104708459,0.3422080884,0.2734637084,0.2717352761,0.248704106,0.2568083683,0.252265347,0.247002071,0.2293082065,0.2199899423,0.2362678008,0.2194104825,0.2177034869,0.2239157635,0.23587434,0.2278939874,0.2319154355,0.226527695],\"type\":\"scatter\",\"xaxis\":\"x\",\"yaxis\":\"y\"},{\"mode\":\"lines\",\"x\":[1,2,3,4,5,6,7,8,9,10,11,12,13,14,15,16,17,18,19,20],\"y\":[0.49658695,0.4020830275,0.3791575483,0.3480185873,0.3319971817,0.3171070287,0.3023841227,0.292699404,0.2772982382,0.2731205439,0.2681514893,0.283198112,0.2607418489,0.2689332898,0.2513324607,0.2444666568,0.2455903516,0.2483187921,0.23912123,0.2419646544],\"type\":\"scatter\",\"xaxis\":\"x\",\"yaxis\":\"y\"},{\"mode\":\"lines\",\"x\":[1,2,3,4,5,6,7,8,9,10,11,12,13,14,15,16,17,18,19,20],\"y\":[0.7021867588,0.5679334345,0.4945848445,0.479543607,0.420343867,0.3821596351,0.3740944568,0.3653683601,0.3440645125,0.3401263957,0.3296388969,0.3247137816,0.3198332855,0.3015230647,0.2994940332,0.3068998913,0.2846898058,0.2878318757,0.2825699964,0.2856846309],\"type\":\"scatter\",\"xaxis\":\"x\",\"yaxis\":\"y\"},{\"mode\":\"lines\",\"x\":[1,2,3,4,5,6,7,8,9,10,11,12,13,14,15,16,17,18,19,20],\"y\":[0.3586196867,0.3082086422,0.273529284,0.2602749469,0.2557956467,0.2676514328,0.2453806486,0.2512313955,0.2394210813,0.2676522789,0.2690530309,0.2765002484,0.3025717252,0.3372495422,0.3545502482,0.3558018423,0.3803232761,0.3767705166,0.4016750973,0.4110255312],\"type\":\"scatter\",\"xaxis\":\"x\",\"yaxis\":\"y\"},{\"mode\":\"lines\",\"x\":[1,2,3,4,5,6,7,8,9,10,11,12,13,14,15,16,17,18,19,20],\"y\":[0.4134671715,0.3527093373,0.3091693799,0.2924491802,0.3194499456,0.2602650369,0.2578734123,0.2382220363,0.2377724366,0.2597876595,0.2289879004,0.2428251575,0.23493286,0.232042303,0.2261287636,0.2321526571,0.2112984878,0.2211734726,0.2298156853,0.2336389252],\"type\":\"scatter\",\"xaxis\":\"x\",\"yaxis\":\"y\"},{\"mode\":\"lines\",\"x\":[1,2,3,4,5,6,7,8,9,10,11,12,13,14,15,16,17,18,19,20],\"y\":[0.414720791,0.3779554808,0.3187180056,0.2878210548,0.2650653917,0.2532148348,0.2481263467,0.2570830137,0.226644425,0.2346918542,0.2431248952,0.2451132447,0.2173084043,0.2149958256,0.220778492,0.2184691616,0.2271634256,0.2226905039,0.2194709048,0.227512134],\"type\":\"scatter\",\"xaxis\":\"x\",\"yaxis\":\"y\"},{\"mode\":\"lines\",\"x\":[1,2,3,4,5,6,7,8,9,10,11,12,13,14,15,16,17,18,19,20],\"y\":[0.5425158482,0.4376058631,0.4349495055,0.3491658288,0.3587401351,0.3216217581,0.3021841766,0.3073742336,0.2978212713,0.2814503004,0.2746278248,0.2661568986,0.2744440022,0.2611863789,0.2917170013,0.2738731868,0.2434414745,0.2450538331,0.2472945959,0.2425356355],\"type\":\"scatter\",\"xaxis\":\"x\",\"yaxis\":\"y\"},{\"mode\":\"lines\",\"x\":[1,2,3,4,5,6,7,8,9,10,11,12,13,14,15,16,17,18,19,20],\"y\":[0.401626793,0.323449649,0.2916687886,0.2738133204,0.2469356909,0.2419021121,0.2717930074,0.2412539137,0.2309685414,0.2417010262,0.2563214428,0.2361674787,0.2244875835,0.2303051004,0.2347688881,0.2406580583,0.2492530472,0.2606192218,0.2716003255,0.2665122904],\"type\":\"scatter\",\"xaxis\":\"x\",\"yaxis\":\"y\"},{\"mode\":\"lines\",\"x\":[1,2,3,4,5,6,7,8,9,10,11,12,13,14,15,16,17,18,19,20],\"y\":[0.766304493,0.607065125,0.4781271885,0.4315760697,0.3897950296,0.3669830886,0.3606797733,0.340422916,0.3370315873,0.3255828226,0.3119561704,0.3135862752,0.3043978313,0.2939015611,0.2883694441,0.2849205794,0.3462611329,0.2776161026,0.2768289827,0.2724394064],\"type\":\"scatter\",\"xaxis\":\"x\",\"yaxis\":\"y\"},{\"mode\":\"lines\",\"x\":[1,2,3,4,5,6,7,8,9,10,11,12,13,14,15,16,17,18,19],\"y\":[0.6644632071,0.5484708751,0.4674085632,0.449345913,0.3977405302,0.3868741017,0.3862375506,0.3541156775,0.3421333968,0.3514263861,0.3274314774,0.3126464229,0.3052254487,0.3083416915,0.303140957,0.301290445,0.2908285303,0.294127714,0.2819558355],\"type\":\"scatter\",\"xaxis\":\"x\",\"yaxis\":\"y\"},{\"mode\":\"lines\",\"x\":[1,2,3,4,5,6,7,8,9],\"y\":[0.5434461741,0.4684863403,0.4057795017,0.3884184808,0.3931736933,0.3406060515,0.3332231157,0.3202171041,0.3055115026],\"type\":\"scatter\",\"xaxis\":\"x\",\"yaxis\":\"y\"},{\"mode\":\"lines\",\"x\":[1,2,3,4,5],\"y\":[0.3361577802,0.2829977581,0.2483966941,0.2412634442,0.2348843061],\"type\":\"scatter\",\"xaxis\":\"x\",\"yaxis\":\"y\"},{\"mode\":\"lines\",\"x\":[1,2,3,4,5,6,7,8,9,10,11,12,13,14,15,16,17,18,19,20],\"y\":[0.366240002,0.297327315,0.2677521812,0.2564229589,0.2549679206,0.2397158873,0.2727451324,0.276374907,0.2648777565,0.2828855816,0.3062121465,0.29099368,0.3046049698,0.3548810873,0.3441406022,0.3827110051,0.3965552668,0.4244478709,0.4189825508,0.4890880503],\"type\":\"scatter\",\"xaxis\":\"x\",\"yaxis\":\"y\"},{\"mode\":\"lines\",\"x\":[1,2,3,4,5,6,7,8,9,10,11,12,13,14,15,16,17,18,19,20],\"y\":[0.3776196611,0.3047591801,0.2800400301,0.2656868733,0.2502872008,0.2590877614,0.2333842313,0.2462658345,0.2582560552,0.2479074212,0.252467342,0.2680604563,0.2649453513,0.3106845629,0.3027163054,0.3250163642,0.3223970122,0.3130097279,0.353769155,0.3817148453],\"type\":\"scatter\",\"xaxis\":\"x\",\"yaxis\":\"y\"},{\"mode\":\"lines\",\"x\":[1,2,3,4,5,6,7,8,9,10,11,12,13,14,15,16,17,18,19,20],\"y\":[0.3837588406,0.3332601868,0.3220407465,0.2676642867,0.2728847125,0.3104003043,0.2525376331,0.2381320024,0.2285481451,0.2245744844,0.2515765776,0.2342760802,0.246044753,0.229203101,0.2595959192,0.2688932103,0.2452519738,0.2628664728,0.2790187125,0.3060270447],\"type\":\"scatter\",\"xaxis\":\"x\",\"yaxis\":\"y\"},{\"mode\":\"lines\",\"x\":[1,2,3,4,5,6,7,8,9,10,11,12,13,14,15,16,17,18,19,20],\"y\":[0.5237265674,0.4115668837,0.3904967825,0.3471875133,0.3334004629,0.3295244977,0.3140605325,0.2923173938,0.2964401124,0.2793777245,0.2762172269,0.27657545,0.2552179619,0.2575557853,0.2457172928,0.2571737281,0.2398864633,0.2412254754,0.2358050242,0.2451195181],\"type\":\"scatter\",\"xaxis\":\"x\",\"yaxis\":\"y\"},{\"mode\":\"lines\",\"x\":[1,2,3,4,5,6,7,8,9,10,11,12,13,14,15,16,17,18,19,20],\"y\":[0.4472353057,0.3455327325,0.3130179242,0.3070695584,0.2795662089,0.2808719914,0.2709991476,0.2625915458,0.250878249,0.2384061178,0.2567871887,0.2443057298,0.2418392742,0.2398875894,0.2397340689,0.2429194286,0.2303940086,0.2455746138,0.2341781766,0.2421068221],\"type\":\"scatter\",\"xaxis\":\"x\",\"yaxis\":\"y\"},{\"mode\":\"lines\",\"x\":[1,2,3,4,5,6,7,8,9,10,11,12,13,14,15,16,17,18,19,20],\"y\":[0.4813270366,0.3839089978,0.3583065941,0.3261584731,0.317226581,0.2939136719,0.2883870127,0.2734542623,0.2762055867,0.2675651833,0.2566989732,0.2486639693,0.2367061864,0.2314560198,0.2302354326,0.2226841321,0.2284784266,0.2363387358,0.2300621518,0.2246138516],\"type\":\"scatter\",\"xaxis\":\"x\",\"yaxis\":\"y\"},{\"mode\":\"lines\",\"x\":[1,2,3,4,5,6,7,8,9,10,11,12,13,14,15,16,17,18,19,20],\"y\":[0.388158115,0.2898094365,0.2542338668,0.25880849,0.2563254064,0.2700103103,0.254041255,0.2786086835,0.2902043307,0.2972164052,0.316584053,0.3162506746,0.3506417301,0.3473531646,0.4244749837,0.4103632419,0.4424157498,0.4359482096,0.454157533,0.4740976276],\"type\":\"scatter\",\"xaxis\":\"x\",\"yaxis\":\"y\"},{\"mode\":\"lines\",\"x\":[1,2,3,4,5,6,7,8,9,10,11,12,13,14,15,16,17,18,19,20],\"y\":[0.3405124091,0.2826540071,0.2694886336,0.2544602656,0.2532018046,0.2370437021,0.2253737976,0.257541363,0.2532639208,0.2528823186,0.2632655072,0.2831791704,0.2625888748,0.2935812256,0.3362076813,0.3949844363,0.3351265507,0.3727289896,0.3951836159,0.394354029],\"type\":\"scatter\",\"xaxis\":\"x\",\"yaxis\":\"y\"},{\"mode\":\"lines\",\"x\":[1,2,3,4,5,6,7,8,9,10,11,12,13,14,15,16,17,18,19,20],\"y\":[0.563569659,0.5057681601,0.4199288432,0.3862885991,0.3740612148,0.3673577302,0.3569905776,0.3283187338,0.3153558012,0.3265880637,0.2977612932,0.28765931,0.2796801728,0.2782048699,0.2766752403,0.276918919,0.2697631991,0.2721265561,0.268134767,0.2607122025],\"type\":\"scatter\",\"xaxis\":\"x\",\"yaxis\":\"y\"},{\"mode\":\"lines\",\"x\":[1,2,3,4,5,6,7,8,9,10,11,12,13,14,15,16,17,18,19,20],\"y\":[0.5675396,0.41169134,0.3773035551,0.3399791407,0.3101763603,0.3077324299,0.2902204229,0.297860358,0.2677808323,0.2824771117,0.2879667937,0.2616678697,0.2556956398,0.2533491462,0.2416438404,0.2532063876,0.2370364928,0.2374963171,0.2375927743,0.2416789834],\"type\":\"scatter\",\"xaxis\":\"x\",\"yaxis\":\"y\"},{\"mode\":\"lines\",\"x\":[1,2,3,4,5,6,7,8,9,10,11,12,13,14,15,16,17,18,19,20],\"y\":[0.3500331872,0.266957815,0.2473379366,0.254130335,0.233038153,0.2333097579,0.2412792846,0.2626496461,0.2661802232,0.3372049338,0.2849315193,0.304333371,0.3278403392,0.335187275,0.396626079,0.3746717155,0.4080585631,0.4153780946,0.446453706,0.4677130834],\"type\":\"scatter\",\"xaxis\":\"x\",\"yaxis\":\"y\"},{\"mode\":\"lines\",\"x\":[1,2,3,4,5,6,7,8,9,10,11,12,13,14,15,16,17,18,19,20],\"y\":[0.3601795164,0.3112214262,0.2935914492,0.2553667124,0.2550599703,0.2640887534,0.2516490715,0.2317512317,0.251104636,0.2407077673,0.2435442263,0.2543136938,0.2992574718,0.2683678086,0.292584643,0.3019945477,0.3290416335,0.3246342603,0.3517056375,0.3917784642],\"type\":\"scatter\",\"xaxis\":\"x\",\"yaxis\":\"y\"},{\"mode\":\"lines\",\"x\":[1,2,3,4,5,6,7,8,9,10,11,12,13,14,15,16,17,18,19,20],\"y\":[0.4288119011,0.3303086395,0.3033371537,0.27820012,0.2709693684,0.2564627253,0.24157228,0.248983768,0.232160969,0.2352522877,0.2302848212,0.2291720593,0.235410135,0.2237579978,0.2614131391,0.2403942717,0.295977333,0.2487615997,0.2734936633,0.2555521592],\"type\":\"scatter\",\"xaxis\":\"x\",\"yaxis\":\"y\"},{\"mode\":\"lines\",\"x\":[1,2,3,4,5,6,7,8,9,10,11,12,13,14,15,16],\"y\":[0.3336021979,0.2770404779,0.2378123129,0.2579335237,0.2387574012,0.2290143994,0.2264829543,0.2269173216,0.2312023821,0.2535682498,0.2425252468,0.2616346399,0.2924339954,0.3010581652,0.3296564789,0.3581483989],\"type\":\"scatter\",\"xaxis\":\"x2\",\"yaxis\":\"y2\"},{\"mode\":\"lines\",\"x\":[1],\"y\":[0.6607890215],\"type\":\"scatter\",\"xaxis\":\"x2\",\"yaxis\":\"y2\"},{\"mode\":\"lines\",\"x\":[1,2],\"y\":[0.3903985503,0.3270757602],\"type\":\"scatter\",\"xaxis\":\"x2\",\"yaxis\":\"y2\"},{\"mode\":\"lines\",\"x\":[1],\"y\":[0.8505935143],\"type\":\"scatter\",\"xaxis\":\"x2\",\"yaxis\":\"y2\"},{\"mode\":\"lines\",\"x\":[1,2],\"y\":[0.4236320701,0.3341165724],\"type\":\"scatter\",\"xaxis\":\"x2\",\"yaxis\":\"y2\"},{\"mode\":\"lines\",\"x\":[1],\"y\":[0.507448801],\"type\":\"scatter\",\"xaxis\":\"x2\",\"yaxis\":\"y2\"},{\"mode\":\"lines\",\"x\":[1],\"y\":[0.4438175055],\"type\":\"scatter\",\"xaxis\":\"x2\",\"yaxis\":\"y2\"},{\"mode\":\"lines\",\"x\":[1,2,3,4,5,6,7,8,9,10,11,12,13,14,15,16,17,18,19,20],\"y\":[0.3823135968,0.3074238859,0.306863384,0.2640407448,0.258646796,0.2578213558,0.2352264012,0.2378485741,0.2240427831,0.2381148128,0.2237017476,0.2407647603,0.2337284325,0.2245252628,0.2746278301,0.2203303295,0.2464836199,0.2457790015,0.2497394121,0.2501408349],\"type\":\"scatter\",\"xaxis\":\"x2\",\"yaxis\":\"y2\"},{\"mode\":\"lines\",\"x\":[1,2,3,4,5,6,7,8,9,10,11],\"y\":[0.3506305707,0.2852501571,0.2613717695,0.2424438925,0.2278603707,0.224968943,0.2295031135,0.2362469246,0.2411343222,0.2478352217,0.2610499871],\"type\":\"scatter\",\"xaxis\":\"x2\",\"yaxis\":\"y2\"},{\"mode\":\"lines\",\"x\":[1],\"y\":[2.0429932868],\"type\":\"scatter\",\"xaxis\":\"x2\",\"yaxis\":\"y2\"},{\"mode\":\"lines\",\"x\":[1,2],\"y\":[0.3896363353,0.3352020451],\"type\":\"scatter\",\"xaxis\":\"x2\",\"yaxis\":\"y2\"},{\"mode\":\"lines\",\"x\":[1,2,3,4],\"y\":[0.3934196742,0.2935973983,0.2788946734,0.2691256002],\"type\":\"scatter\",\"xaxis\":\"x2\",\"yaxis\":\"y2\"},{\"mode\":\"lines\",\"x\":[1],\"y\":[0.5520592592],\"type\":\"scatter\",\"xaxis\":\"x2\",\"yaxis\":\"y2\"},{\"mode\":\"lines\",\"x\":[1,2,3,4],\"y\":[0.3097681391,0.2948691493,0.2448476469,0.2550846124],\"type\":\"scatter\",\"xaxis\":\"x2\",\"yaxis\":\"y2\"},{\"mode\":\"lines\",\"x\":[1],\"y\":[0.4173216022],\"type\":\"scatter\",\"xaxis\":\"x2\",\"yaxis\":\"y2\"},{\"mode\":\"lines\",\"x\":[1,2,3,4,5,6,7,8,9,10,11,12,13,14,15,16],\"y\":[0.3257773841,0.2743896729,0.2393293888,0.2431444459,0.2313553628,0.2339301095,0.2459832529,0.2443985152,0.2876829252,0.2640635548,0.2793705963,0.3170523174,0.3441872911,0.3328266682,0.3745250236,0.4122324081],\"type\":\"scatter\",\"xaxis\":\"x2\",\"yaxis\":\"y2\"},{\"mode\":\"lines\",\"x\":[1],\"y\":[0.5860550447],\"type\":\"scatter\",\"xaxis\":\"x2\",\"yaxis\":\"y2\"},{\"mode\":\"lines\",\"x\":[1,2,3,4],\"y\":[0.3200745327,0.2844855993,0.279370993,0.2757947868],\"type\":\"scatter\",\"xaxis\":\"x2\",\"yaxis\":\"y2\"},{\"mode\":\"lines\",\"x\":[1,2,3,4],\"y\":[0.3650635429,0.2953147091,0.28600131,0.2500332832],\"type\":\"scatter\",\"xaxis\":\"x2\",\"yaxis\":\"y2\"},{\"mode\":\"lines\",\"x\":[1],\"y\":[0.5629406353],\"type\":\"scatter\",\"xaxis\":\"x2\",\"yaxis\":\"y2\"},{\"mode\":\"lines\",\"x\":[1],\"y\":[0.6291669724],\"type\":\"scatter\",\"xaxis\":\"x2\",\"yaxis\":\"y2\"},{\"mode\":\"lines\",\"x\":[1,2],\"y\":[0.3791150406,0.3230813208],\"type\":\"scatter\",\"xaxis\":\"x2\",\"yaxis\":\"y2\"},{\"mode\":\"lines\",\"x\":[1,2],\"y\":[0.4167995335,0.3108917644],\"type\":\"scatter\",\"xaxis\":\"x2\",\"yaxis\":\"y2\"},{\"mode\":\"lines\",\"x\":[1,2,3,4,5,6,7,8],\"y\":[0.3398012978,0.2874252463,0.2615361019,0.2569067211,0.2432147828,0.2414918573,0.2466529496,0.2577569724],\"type\":\"scatter\",\"xaxis\":\"x2\",\"yaxis\":\"y2\"},{\"mode\":\"lines\",\"x\":[1,2,3,4,5,6,7,8],\"y\":[0.3368149596,0.2870015836,0.249944014,0.2782449104,0.2527738861,0.2712608201,0.2608751388,0.3108393714],\"type\":\"scatter\",\"xaxis\":\"x2\",\"yaxis\":\"y2\"},{\"mode\":\"lines\",\"x\":[1,2,3,4,5,6,7,8,9,10,11,12,13,14,15,16],\"y\":[0.3327266216,0.2584545508,0.2497159421,0.2404831319,0.2736721118,0.231708698,0.2397758301,0.2413127283,0.2816862979,0.2863348064,0.3203895977,0.3391017699,0.3567333632,0.4014383692,0.3935006818,0.3915117157],\"type\":\"scatter\",\"xaxis\":\"x2\",\"yaxis\":\"y2\"},{\"mode\":\"lines\",\"x\":[1,2],\"y\":[0.4281061971,0.3916878893],\"type\":\"scatter\",\"xaxis\":\"x2\",\"yaxis\":\"y2\"},{\"mode\":\"lines\",\"x\":[1,2],\"y\":[0.4194982019,0.3960009348],\"type\":\"scatter\",\"xaxis\":\"x2\",\"yaxis\":\"y2\"},{\"mode\":\"lines\",\"x\":[1],\"y\":[0.4296531226],\"type\":\"scatter\",\"xaxis\":\"x2\",\"yaxis\":\"y2\"},{\"mode\":\"lines\",\"x\":[1],\"y\":[0.6155214023],\"type\":\"scatter\",\"xaxis\":\"x2\",\"yaxis\":\"y2\"},{\"mode\":\"lines\",\"x\":[1,2,3,4,5,6,7,8,9,10,11,12,13,14,15,16],\"y\":[0.3410026224,0.2755413413,0.2633991225,0.2507422198,0.2479720471,0.2366584078,0.2358458657,0.2329669316,0.2530878444,0.2693425549,0.243732263,0.2894779374,0.2833793063,0.321119127,0.3415808141,0.3325134385],\"type\":\"scatter\",\"xaxis\":\"x2\",\"yaxis\":\"y2\"},{\"mode\":\"lines\",\"x\":[1],\"y\":[0.6846204419],\"type\":\"scatter\",\"xaxis\":\"x2\",\"yaxis\":\"y2\"},{\"mode\":\"lines\",\"x\":[1,2],\"y\":[0.3099954011,0.3158085502],\"type\":\"scatter\",\"xaxis\":\"x2\",\"yaxis\":\"y2\"},{\"mode\":\"lines\",\"x\":[1],\"y\":[0.7276186632],\"type\":\"scatter\",\"xaxis\":\"x2\",\"yaxis\":\"y2\"},{\"mode\":\"lines\",\"x\":[1,2],\"y\":[0.4160984398,0.3340673595],\"type\":\"scatter\",\"xaxis\":\"x2\",\"yaxis\":\"y2\"},{\"mode\":\"lines\",\"x\":[1],\"y\":[0.4494249957],\"type\":\"scatter\",\"xaxis\":\"x2\",\"yaxis\":\"y2\"},{\"mode\":\"lines\",\"x\":[1,2,3,4,5,6,7,8,9,10,11,12,13,14,15,16,17,18,19,20],\"y\":[0.4047890011,0.2981177013,0.2644248176,0.2468892826,0.329287911,0.2229483823,0.2375500279,0.2226932131,0.2268377862,0.2373024455,0.2429716727,0.2265206125,0.2519168591,0.2593828082,0.2719932965,0.2754646746,0.2927799095,0.3092922836,0.3355018155,0.319234373],\"type\":\"scatter\",\"xaxis\":\"x2\",\"yaxis\":\"y2\"},{\"mode\":\"lines\",\"x\":[1,2],\"y\":[0.3662682049,0.3151445485],\"type\":\"scatter\",\"xaxis\":\"x2\",\"yaxis\":\"y2\"},{\"mode\":\"lines\",\"x\":[1,2],\"y\":[0.3680369104,0.3255842794],\"type\":\"scatter\",\"xaxis\":\"x2\",\"yaxis\":\"y2\"},{\"mode\":\"lines\",\"x\":[1],\"y\":[0.6552709664],\"type\":\"scatter\",\"xaxis\":\"x2\",\"yaxis\":\"y2\"},{\"mode\":\"lines\",\"x\":[1],\"y\":[0.70699566],\"type\":\"scatter\",\"xaxis\":\"x2\",\"yaxis\":\"y2\"},{\"mode\":\"lines\",\"x\":[1,2,3,4,5,6,7,8],\"y\":[0.3246657064,0.2808264588,0.2863244871,0.2314647507,0.2434196361,0.2353273486,0.2388960304,0.2606001031],\"type\":\"scatter\",\"xaxis\":\"x2\",\"yaxis\":\"y2\"},{\"mode\":\"lines\",\"x\":[1],\"y\":[0.7079785783],\"type\":\"scatter\",\"xaxis\":\"x2\",\"yaxis\":\"y2\"},{\"mode\":\"lines\",\"x\":[1],\"y\":[0.5111870705],\"type\":\"scatter\",\"xaxis\":\"x2\",\"yaxis\":\"y2\"},{\"mode\":\"lines\",\"x\":[1,2],\"y\":[0.4799146158,0.3747630358],\"type\":\"scatter\",\"xaxis\":\"x2\",\"yaxis\":\"y2\"},{\"mode\":\"lines\",\"x\":[1,2],\"y\":[0.363444396,0.3344922605],\"type\":\"scatter\",\"xaxis\":\"x2\",\"yaxis\":\"y2\"},{\"mode\":\"lines\",\"x\":[1],\"y\":[0.762082339],\"type\":\"scatter\",\"xaxis\":\"x2\",\"yaxis\":\"y2\"},{\"mode\":\"lines\",\"x\":[1,2],\"y\":[0.3670512676,0.317019417],\"type\":\"scatter\",\"xaxis\":\"x2\",\"yaxis\":\"y2\"},{\"mode\":\"lines\",\"x\":[1,2],\"y\":[0.4097438421,0.3348477645],\"type\":\"scatter\",\"xaxis\":\"x2\",\"yaxis\":\"y2\"},{\"mode\":\"lines\",\"x\":[1,2],\"y\":[0.4165303236,0.3402291913],\"type\":\"scatter\",\"xaxis\":\"x2\",\"yaxis\":\"y2\"},{\"mode\":\"lines\",\"x\":[1],\"y\":[0.4327318328],\"type\":\"scatter\",\"xaxis\":\"x2\",\"yaxis\":\"y2\"},{\"mode\":\"lines\",\"x\":[1],\"y\":[0.5345477263],\"type\":\"scatter\",\"xaxis\":\"x2\",\"yaxis\":\"y2\"},{\"mode\":\"lines\",\"x\":[1,2,3,4],\"y\":[0.4058469665,0.2857848758,0.3065976613,0.257600151],\"type\":\"scatter\",\"xaxis\":\"x2\",\"yaxis\":\"y2\"},{\"mode\":\"lines\",\"x\":[1],\"y\":[0.4599858706],\"type\":\"scatter\",\"xaxis\":\"x2\",\"yaxis\":\"y2\"},{\"mode\":\"lines\",\"x\":[1,2,3,4,5,6,7,8,9,10,11,12,13,14,15,16],\"y\":[0.3398810438,0.2822557421,0.2985726299,0.2442927639,0.2379881081,0.237086033,0.2349918104,0.2364742248,0.232720269,0.2739743751,0.2540829384,0.2785535507,0.308681978,0.3406969621,0.3323042403,0.3333239577],\"type\":\"scatter\",\"xaxis\":\"x2\",\"yaxis\":\"y2\"},{\"mode\":\"lines\",\"x\":[1],\"y\":[0.6438075237],\"type\":\"scatter\",\"xaxis\":\"x2\",\"yaxis\":\"y2\"},{\"mode\":\"lines\",\"x\":[1],\"y\":[0.7396836439],\"type\":\"scatter\",\"xaxis\":\"x2\",\"yaxis\":\"y2\"},{\"mode\":\"lines\",\"x\":[1,2],\"y\":[0.4308497143,0.365208136],\"type\":\"scatter\",\"xaxis\":\"x2\",\"yaxis\":\"y2\"},{\"mode\":\"lines\",\"x\":[1],\"y\":[2.2283713926],\"type\":\"scatter\",\"xaxis\":\"x2\",\"yaxis\":\"y2\"},{\"mode\":\"lines\",\"x\":[1],\"y\":[0.4990625686],\"type\":\"scatter\",\"xaxis\":\"x2\",\"yaxis\":\"y2\"},{\"mode\":\"lines\",\"x\":[1,2],\"y\":[0.3495245487,0.3202361987],\"type\":\"scatter\",\"xaxis\":\"x2\",\"yaxis\":\"y2\"},{\"mode\":\"lines\",\"x\":[1,2],\"y\":[0.3956066701,0.3234209471],\"type\":\"scatter\",\"xaxis\":\"x2\",\"yaxis\":\"y2\"},{\"mode\":\"lines\",\"x\":[1,2,3,4],\"y\":[0.3283128468,0.2882934733,0.2669604088,0.2607588692],\"type\":\"scatter\",\"xaxis\":\"x2\",\"yaxis\":\"y2\"},{\"mode\":\"lines\",\"x\":[1,2,3,4,5,6,7,8,9,10,11,12,13,14,15,16,17,18,19,20],\"y\":[0.3366855931,0.3025765058,0.2748504917,0.250593437,0.2427688536,0.2485500303,0.2312258156,0.2482344005,0.2317481348,0.2520245222,0.2520298085,0.2865581571,0.2694829443,0.2857191128,0.3083276606,0.3099555001,0.3356962196,0.3560018282,0.385873649,0.3794523617],\"type\":\"scatter\",\"xaxis\":\"x2\",\"yaxis\":\"y2\"},{\"mode\":\"lines\",\"x\":[1],\"y\":[0.6089501089],\"type\":\"scatter\",\"xaxis\":\"x2\",\"yaxis\":\"y2\"},{\"mode\":\"lines\",\"x\":[1],\"y\":[1.4531184194],\"type\":\"scatter\",\"xaxis\":\"x2\",\"yaxis\":\"y2\"},{\"mode\":\"lines\",\"x\":[1,2,3,4,5,6,7,8,9,10,11,12,13,14,15,16],\"y\":[0.3513643158,0.3034653245,0.2617334225,0.2457839082,0.2456464805,0.2658085582,0.2321173896,0.2450111097,0.2797316354,0.2395161942,0.2546036936,0.2723817533,0.2613344472,0.2863362114,0.2958167656,0.3146362772],\"type\":\"scatter\",\"xaxis\":\"x2\",\"yaxis\":\"y2\"},{\"mode\":\"lines\",\"x\":[1],\"y\":[0.6116902999],\"type\":\"scatter\",\"xaxis\":\"x2\",\"yaxis\":\"y2\"},{\"mode\":\"lines\",\"x\":[1],\"y\":[0.5196089267],\"type\":\"scatter\",\"xaxis\":\"x2\",\"yaxis\":\"y2\"},{\"mode\":\"lines\",\"x\":[1],\"y\":[0.6404730852],\"type\":\"scatter\",\"xaxis\":\"x2\",\"yaxis\":\"y2\"},{\"mode\":\"lines\",\"x\":[1],\"y\":[0.554696021],\"type\":\"scatter\",\"xaxis\":\"x2\",\"yaxis\":\"y2\"},{\"mode\":\"lines\",\"x\":[1],\"y\":[0.4461624751],\"type\":\"scatter\",\"xaxis\":\"x2\",\"yaxis\":\"y2\"},{\"mode\":\"lines\",\"x\":[1],\"y\":[0.5061861386],\"type\":\"scatter\",\"xaxis\":\"x2\",\"yaxis\":\"y2\"},{\"mode\":\"lines\",\"x\":[1],\"y\":[0.5449745915],\"type\":\"scatter\",\"xaxis\":\"x2\",\"yaxis\":\"y2\"},{\"mode\":\"lines\",\"x\":[1,2,3,4,5,6,7,8,9,10,11,12,13,14,15,16],\"y\":[0.3301054025,0.2867805614,0.2515204221,0.2483076514,0.2254805399,0.2456047011,0.2851998248,0.2243943406,0.2453555067,0.2345448395,0.2566758609,0.2617933712,0.293750396,0.2905143568,0.3481512522,0.3238384784],\"type\":\"scatter\",\"xaxis\":\"x2\",\"yaxis\":\"y2\"},{\"mode\":\"lines\",\"x\":[1],\"y\":[0.6395724543],\"type\":\"scatter\",\"xaxis\":\"x2\",\"yaxis\":\"y2\"},{\"mode\":\"lines\",\"x\":[1,2,3,4,5,6,7,8],\"y\":[0.3521749007,0.2664607831,0.2551740971,0.2435463497,0.2740370692,0.2574474311,0.2482697579,0.2886539426],\"type\":\"scatter\",\"xaxis\":\"x2\",\"yaxis\":\"y2\"},{\"mode\":\"lines\",\"x\":[1],\"y\":[0.4697744732],\"type\":\"scatter\",\"xaxis\":\"x2\",\"yaxis\":\"y2\"},{\"mode\":\"lines\",\"x\":[1],\"y\":[0.5270011217],\"type\":\"scatter\",\"xaxis\":\"x2\",\"yaxis\":\"y2\"},{\"mode\":\"lines\",\"x\":[1,2],\"y\":[0.4035931968,0.3594707157],\"type\":\"scatter\",\"xaxis\":\"x2\",\"yaxis\":\"y2\"},{\"mode\":\"lines\",\"x\":[1,2,3,4],\"y\":[0.3404423814,0.2818147618,0.2577044852,0.2578586989],\"type\":\"scatter\",\"xaxis\":\"x2\",\"yaxis\":\"y2\"},{\"mode\":\"lines\",\"x\":[1],\"y\":[0.5029062495],\"type\":\"scatter\",\"xaxis\":\"x2\",\"yaxis\":\"y2\"},{\"mode\":\"lines\",\"x\":[1,2,3,4],\"y\":[0.3807455064,0.3116531085,0.275184771,0.2559368209],\"type\":\"scatter\",\"xaxis\":\"x2\",\"yaxis\":\"y2\"},{\"mode\":\"lines\",\"x\":[1],\"y\":[0.5226763548],\"type\":\"scatter\",\"xaxis\":\"x2\",\"yaxis\":\"y2\"},{\"mode\":\"lines\",\"x\":[1,2],\"y\":[0.4122780759,0.3218554575],\"type\":\"scatter\",\"xaxis\":\"x2\",\"yaxis\":\"y2\"},{\"mode\":\"lines\",\"x\":[1],\"y\":[0.510888553],\"type\":\"scatter\",\"xaxis\":\"x2\",\"yaxis\":\"y2\"},{\"mode\":\"lines\",\"x\":[1],\"y\":[0.6754892858],\"type\":\"scatter\",\"xaxis\":\"x2\",\"yaxis\":\"y2\"},{\"mode\":\"lines\",\"x\":[1],\"y\":[0.4406978604],\"type\":\"scatter\",\"xaxis\":\"x2\",\"yaxis\":\"y2\"},{\"mode\":\"lines\",\"x\":[1,2,3,4],\"y\":[0.3408781839,0.297568497,0.2615255118,0.2618917699],\"type\":\"scatter\",\"xaxis\":\"x2\",\"yaxis\":\"y2\"}],                        {\"template\":{\"data\":{\"histogram2dcontour\":[{\"type\":\"histogram2dcontour\",\"colorbar\":{\"outlinewidth\":0,\"ticks\":\"\"},\"colorscale\":[[0.0,\"#0d0887\"],[0.1111111111111111,\"#46039f\"],[0.2222222222222222,\"#7201a8\"],[0.3333333333333333,\"#9c179e\"],[0.4444444444444444,\"#bd3786\"],[0.5555555555555556,\"#d8576b\"],[0.6666666666666666,\"#ed7953\"],[0.7777777777777778,\"#fb9f3a\"],[0.8888888888888888,\"#fdca26\"],[1.0,\"#f0f921\"]]}],\"choropleth\":[{\"type\":\"choropleth\",\"colorbar\":{\"outlinewidth\":0,\"ticks\":\"\"}}],\"histogram2d\":[{\"type\":\"histogram2d\",\"colorbar\":{\"outlinewidth\":0,\"ticks\":\"\"},\"colorscale\":[[0.0,\"#0d0887\"],[0.1111111111111111,\"#46039f\"],[0.2222222222222222,\"#7201a8\"],[0.3333333333333333,\"#9c179e\"],[0.4444444444444444,\"#bd3786\"],[0.5555555555555556,\"#d8576b\"],[0.6666666666666666,\"#ed7953\"],[0.7777777777777778,\"#fb9f3a\"],[0.8888888888888888,\"#fdca26\"],[1.0,\"#f0f921\"]]}],\"heatmap\":[{\"type\":\"heatmap\",\"colorbar\":{\"outlinewidth\":0,\"ticks\":\"\"},\"colorscale\":[[0.0,\"#0d0887\"],[0.1111111111111111,\"#46039f\"],[0.2222222222222222,\"#7201a8\"],[0.3333333333333333,\"#9c179e\"],[0.4444444444444444,\"#bd3786\"],[0.5555555555555556,\"#d8576b\"],[0.6666666666666666,\"#ed7953\"],[0.7777777777777778,\"#fb9f3a\"],[0.8888888888888888,\"#fdca26\"],[1.0,\"#f0f921\"]]}],\"heatmapgl\":[{\"type\":\"heatmapgl\",\"colorbar\":{\"outlinewidth\":0,\"ticks\":\"\"},\"colorscale\":[[0.0,\"#0d0887\"],[0.1111111111111111,\"#46039f\"],[0.2222222222222222,\"#7201a8\"],[0.3333333333333333,\"#9c179e\"],[0.4444444444444444,\"#bd3786\"],[0.5555555555555556,\"#d8576b\"],[0.6666666666666666,\"#ed7953\"],[0.7777777777777778,\"#fb9f3a\"],[0.8888888888888888,\"#fdca26\"],[1.0,\"#f0f921\"]]}],\"contourcarpet\":[{\"type\":\"contourcarpet\",\"colorbar\":{\"outlinewidth\":0,\"ticks\":\"\"}}],\"contour\":[{\"type\":\"contour\",\"colorbar\":{\"outlinewidth\":0,\"ticks\":\"\"},\"colorscale\":[[0.0,\"#0d0887\"],[0.1111111111111111,\"#46039f\"],[0.2222222222222222,\"#7201a8\"],[0.3333333333333333,\"#9c179e\"],[0.4444444444444444,\"#bd3786\"],[0.5555555555555556,\"#d8576b\"],[0.6666666666666666,\"#ed7953\"],[0.7777777777777778,\"#fb9f3a\"],[0.8888888888888888,\"#fdca26\"],[1.0,\"#f0f921\"]]}],\"surface\":[{\"type\":\"surface\",\"colorbar\":{\"outlinewidth\":0,\"ticks\":\"\"},\"colorscale\":[[0.0,\"#0d0887\"],[0.1111111111111111,\"#46039f\"],[0.2222222222222222,\"#7201a8\"],[0.3333333333333333,\"#9c179e\"],[0.4444444444444444,\"#bd3786\"],[0.5555555555555556,\"#d8576b\"],[0.6666666666666666,\"#ed7953\"],[0.7777777777777778,\"#fb9f3a\"],[0.8888888888888888,\"#fdca26\"],[1.0,\"#f0f921\"]]}],\"mesh3d\":[{\"type\":\"mesh3d\",\"colorbar\":{\"outlinewidth\":0,\"ticks\":\"\"}}],\"scatter\":[{\"fillpattern\":{\"fillmode\":\"overlay\",\"size\":10,\"solidity\":0.2},\"type\":\"scatter\"}],\"parcoords\":[{\"type\":\"parcoords\",\"line\":{\"colorbar\":{\"outlinewidth\":0,\"ticks\":\"\"}}}],\"scatterpolargl\":[{\"type\":\"scatterpolargl\",\"marker\":{\"colorbar\":{\"outlinewidth\":0,\"ticks\":\"\"}}}],\"bar\":[{\"error_x\":{\"color\":\"#2a3f5f\"},\"error_y\":{\"color\":\"#2a3f5f\"},\"marker\":{\"line\":{\"color\":\"white\",\"width\":0.5},\"pattern\":{\"fillmode\":\"overlay\",\"size\":10,\"solidity\":0.2}},\"type\":\"bar\"}],\"scattergeo\":[{\"type\":\"scattergeo\",\"marker\":{\"colorbar\":{\"outlinewidth\":0,\"ticks\":\"\"}}}],\"scatterpolar\":[{\"type\":\"scatterpolar\",\"marker\":{\"colorbar\":{\"outlinewidth\":0,\"ticks\":\"\"}}}],\"histogram\":[{\"marker\":{\"pattern\":{\"fillmode\":\"overlay\",\"size\":10,\"solidity\":0.2}},\"type\":\"histogram\"}],\"scattergl\":[{\"type\":\"scattergl\",\"marker\":{\"colorbar\":{\"outlinewidth\":0,\"ticks\":\"\"}}}],\"scatter3d\":[{\"type\":\"scatter3d\",\"line\":{\"colorbar\":{\"outlinewidth\":0,\"ticks\":\"\"}},\"marker\":{\"colorbar\":{\"outlinewidth\":0,\"ticks\":\"\"}}}],\"scattermapbox\":[{\"type\":\"scattermapbox\",\"marker\":{\"colorbar\":{\"outlinewidth\":0,\"ticks\":\"\"}}}],\"scatterternary\":[{\"type\":\"scatterternary\",\"marker\":{\"colorbar\":{\"outlinewidth\":0,\"ticks\":\"\"}}}],\"scattercarpet\":[{\"type\":\"scattercarpet\",\"marker\":{\"colorbar\":{\"outlinewidth\":0,\"ticks\":\"\"}}}],\"carpet\":[{\"aaxis\":{\"endlinecolor\":\"#2a3f5f\",\"gridcolor\":\"#C8D4E3\",\"linecolor\":\"#C8D4E3\",\"minorgridcolor\":\"#C8D4E3\",\"startlinecolor\":\"#2a3f5f\"},\"baxis\":{\"endlinecolor\":\"#2a3f5f\",\"gridcolor\":\"#C8D4E3\",\"linecolor\":\"#C8D4E3\",\"minorgridcolor\":\"#C8D4E3\",\"startlinecolor\":\"#2a3f5f\"},\"type\":\"carpet\"}],\"table\":[{\"cells\":{\"fill\":{\"color\":\"#EBF0F8\"},\"line\":{\"color\":\"white\"}},\"header\":{\"fill\":{\"color\":\"#C8D4E3\"},\"line\":{\"color\":\"white\"}},\"type\":\"table\"}],\"barpolar\":[{\"marker\":{\"line\":{\"color\":\"white\",\"width\":0.5},\"pattern\":{\"fillmode\":\"overlay\",\"size\":10,\"solidity\":0.2}},\"type\":\"barpolar\"}],\"pie\":[{\"automargin\":true,\"type\":\"pie\"}]},\"layout\":{\"autotypenumbers\":\"strict\",\"colorway\":[\"#636efa\",\"#EF553B\",\"#00cc96\",\"#ab63fa\",\"#FFA15A\",\"#19d3f3\",\"#FF6692\",\"#B6E880\",\"#FF97FF\",\"#FECB52\"],\"font\":{\"color\":\"#2a3f5f\"},\"hovermode\":\"closest\",\"hoverlabel\":{\"align\":\"left\"},\"paper_bgcolor\":\"white\",\"plot_bgcolor\":\"white\",\"polar\":{\"bgcolor\":\"white\",\"angularaxis\":{\"gridcolor\":\"#EBF0F8\",\"linecolor\":\"#EBF0F8\",\"ticks\":\"\"},\"radialaxis\":{\"gridcolor\":\"#EBF0F8\",\"linecolor\":\"#EBF0F8\",\"ticks\":\"\"}},\"ternary\":{\"bgcolor\":\"white\",\"aaxis\":{\"gridcolor\":\"#DFE8F3\",\"linecolor\":\"#A2B1C6\",\"ticks\":\"\"},\"baxis\":{\"gridcolor\":\"#DFE8F3\",\"linecolor\":\"#A2B1C6\",\"ticks\":\"\"},\"caxis\":{\"gridcolor\":\"#DFE8F3\",\"linecolor\":\"#A2B1C6\",\"ticks\":\"\"}},\"coloraxis\":{\"colorbar\":{\"outlinewidth\":0,\"ticks\":\"\"}},\"colorscale\":{\"sequential\":[[0.0,\"#0d0887\"],[0.1111111111111111,\"#46039f\"],[0.2222222222222222,\"#7201a8\"],[0.3333333333333333,\"#9c179e\"],[0.4444444444444444,\"#bd3786\"],[0.5555555555555556,\"#d8576b\"],[0.6666666666666666,\"#ed7953\"],[0.7777777777777778,\"#fb9f3a\"],[0.8888888888888888,\"#fdca26\"],[1.0,\"#f0f921\"]],\"sequentialminus\":[[0.0,\"#0d0887\"],[0.1111111111111111,\"#46039f\"],[0.2222222222222222,\"#7201a8\"],[0.3333333333333333,\"#9c179e\"],[0.4444444444444444,\"#bd3786\"],[0.5555555555555556,\"#d8576b\"],[0.6666666666666666,\"#ed7953\"],[0.7777777777777778,\"#fb9f3a\"],[0.8888888888888888,\"#fdca26\"],[1.0,\"#f0f921\"]],\"diverging\":[[0,\"#8e0152\"],[0.1,\"#c51b7d\"],[0.2,\"#de77ae\"],[0.3,\"#f1b6da\"],[0.4,\"#fde0ef\"],[0.5,\"#f7f7f7\"],[0.6,\"#e6f5d0\"],[0.7,\"#b8e186\"],[0.8,\"#7fbc41\"],[0.9,\"#4d9221\"],[1,\"#276419\"]]},\"xaxis\":{\"gridcolor\":\"#EBF0F8\",\"linecolor\":\"#EBF0F8\",\"ticks\":\"\",\"title\":{\"standoff\":15},\"zerolinecolor\":\"#EBF0F8\",\"automargin\":true,\"zerolinewidth\":2},\"yaxis\":{\"gridcolor\":\"#EBF0F8\",\"linecolor\":\"#EBF0F8\",\"ticks\":\"\",\"title\":{\"standoff\":15},\"zerolinecolor\":\"#EBF0F8\",\"automargin\":true,\"zerolinewidth\":2},\"scene\":{\"xaxis\":{\"backgroundcolor\":\"white\",\"gridcolor\":\"#DFE8F3\",\"linecolor\":\"#EBF0F8\",\"showbackground\":true,\"ticks\":\"\",\"zerolinecolor\":\"#EBF0F8\",\"gridwidth\":2},\"yaxis\":{\"backgroundcolor\":\"white\",\"gridcolor\":\"#DFE8F3\",\"linecolor\":\"#EBF0F8\",\"showbackground\":true,\"ticks\":\"\",\"zerolinecolor\":\"#EBF0F8\",\"gridwidth\":2},\"zaxis\":{\"backgroundcolor\":\"white\",\"gridcolor\":\"#DFE8F3\",\"linecolor\":\"#EBF0F8\",\"showbackground\":true,\"ticks\":\"\",\"zerolinecolor\":\"#EBF0F8\",\"gridwidth\":2}},\"shapedefaults\":{\"line\":{\"color\":\"#2a3f5f\"}},\"annotationdefaults\":{\"arrowcolor\":\"#2a3f5f\",\"arrowhead\":0,\"arrowwidth\":1},\"geo\":{\"bgcolor\":\"white\",\"landcolor\":\"white\",\"subunitcolor\":\"#C8D4E3\",\"showland\":true,\"showlakes\":true,\"lakecolor\":\"white\"},\"title\":{\"x\":0.05},\"mapbox\":{\"style\":\"light\"}}},\"xaxis\":{\"anchor\":\"y\",\"domain\":[0.0,0.45],\"title\":{\"text\":\"Epoch\"}},\"yaxis\":{\"anchor\":\"x\",\"domain\":[0.0,1.0],\"title\":{\"text\":\"Loss\"}},\"xaxis2\":{\"anchor\":\"y2\",\"domain\":[0.55,1.0],\"title\":{\"text\":\"Epoch\"}},\"yaxis2\":{\"anchor\":\"x2\",\"domain\":[0.0,1.0],\"title\":{\"text\":\"Loss\"}},\"annotations\":[{\"font\":{\"size\":16},\"showarrow\":false,\"text\":\"Random Search\",\"x\":0.225,\"xanchor\":\"center\",\"xref\":\"paper\",\"y\":1.0,\"yanchor\":\"bottom\",\"yref\":\"paper\"},{\"font\":{\"size\":16},\"showarrow\":false,\"text\":\"Hyperband\",\"x\":0.775,\"xanchor\":\"center\",\"xref\":\"paper\",\"y\":1.0,\"yanchor\":\"bottom\",\"yref\":\"paper\"}],\"title\":{\"text\":\"Training Loss Comparison\"},\"showlegend\":false},                        {\"responsive\": true}                    ).then(function(){\n",
       "                            \n",
       "var gd = document.getElementById('4a4e44e4-a1f7-47d3-be36-85235f134e80');\n",
       "var x = new MutationObserver(function (mutations, observer) {{\n",
       "        var display = window.getComputedStyle(gd).display;\n",
       "        if (!display || display === 'none') {{\n",
       "            console.log([gd, 'removed!']);\n",
       "            Plotly.purge(gd);\n",
       "            observer.disconnect();\n",
       "        }}\n",
       "}});\n",
       "\n",
       "// Listen for the removal of the full notebook cells\n",
       "var notebookContainer = gd.closest('#notebook-container');\n",
       "if (notebookContainer) {{\n",
       "    x.observe(notebookContainer, {childList: true});\n",
       "}}\n",
       "\n",
       "// Listen for the clearing of the current output cell\n",
       "var outputEl = gd.closest('.output');\n",
       "if (outputEl) {{\n",
       "    x.observe(outputEl, {childList: true});\n",
       "}}\n",
       "\n",
       "                        })                };                });            </script>        </div>"
      ]
     },
     "metadata": {},
     "output_type": "display_data"
    }
   ],
   "source": [
    "e7_grouped = df_e7.groupby('config.epochs')\n",
    "df7 = e7_grouped.get_group(20)\n",
    "\n",
    "e6_grouped = df_e6.groupby('config.epochs')\n",
    "df6 = e6_grouped.get_group(20)\n",
    "\n",
    "fig = make_subplots(rows=1, cols=2, subplot_titles=[\"Random Search\", \"Hyperband\"])\n",
    "\n",
    "for trial in df7['trial_id'].unique().tolist():\n",
    "    df = df7[df7['trial_id'] == trial]\n",
    "    fig.add_trace(go.Scatter(x=df['training_iteration'], y=df['mean_val_loss'], mode='lines'), row=1, col=1)\n",
    "fig.update_xaxes(title_text=\"Epoch\", row=1, col=1)\n",
    "fig.update_yaxes(title_text=\"Loss\", row=1, col=1)\n",
    "\n",
    "for trial in df6['trial_id'].unique().tolist():\n",
    "    df = df6[df6['trial_id'] == trial]\n",
    "    fig.add_trace(go.Scatter(x=df['training_iteration'], y=df['mean_val_loss'], mode='lines'), row=1, col=2)\n",
    "fig.update_xaxes(title_text=\"Epoch\", row=1, col=2)\n",
    "fig.update_yaxes(title_text=\"Loss\", row=1, col=2)\n",
    "\n",
    "fig.update_layout(title_text=\"Training Loss Comparison\", showlegend=False)\n",
    "\n",
    "fig.show()"
   ]
  },
  {
   "cell_type": "markdown",
   "metadata": {
    "slideshow": {
     "slide_type": "subslide"
    }
   },
   "source": [
    "<header>\n",
    "    <span style=\"color: #ff6900; font-size: 30px; font-weight: bold;\">Hyperparameter Interdependencies</span>\n",
    "</header>\n",
    "\n",
    "**🧪Tested Configurations Overview**"
   ]
  },
  {
   "cell_type": "markdown",
   "metadata": {
    "slideshow": {
     "slide_type": "subslide"
    }
   },
   "source": [
    "**🧪Tested Configurations Overview**"
   ]
  },
  {
   "cell_type": "code",
   "execution_count": 84,
   "metadata": {},
   "outputs": [
    {
     "data": {
      "application/vnd.plotly.v1+json": {
       "config": {
        "plotlyServerURL": "https://plot.ly"
       },
       "data": [
        {
         "dimensions": [
          {
           "label": "config.l1",
           "values": [
            64,
            128,
            32,
            128,
            64,
            32,
            32,
            32,
            64,
            64,
            128,
            64,
            256,
            32,
            64,
            32,
            256,
            64,
            32,
            32,
            128,
            32,
            64,
            256,
            256,
            128,
            256,
            256,
            64,
            32,
            128,
            64,
            128,
            32,
            128,
            256,
            128,
            64,
            64,
            64,
            32,
            256,
            256,
            256,
            128,
            64,
            32,
            64,
            64,
            256,
            32,
            128,
            32,
            256,
            256,
            256,
            128,
            256,
            256,
            64,
            256,
            32,
            32,
            256,
            128,
            64,
            256,
            64,
            64,
            256,
            128,
            128,
            64,
            256,
            256,
            256,
            128,
            128,
            64,
            64,
            128,
            128,
            64,
            64,
            256,
            32,
            256
           ]
          },
          {
           "label": "config.batch_size",
           "values": [
            64,
            32,
            128,
            128,
            16,
            64,
            32,
            16,
            16,
            128,
            32,
            32,
            32,
            128,
            32,
            16,
            64,
            32,
            32,
            32,
            16,
            32,
            128,
            64,
            64,
            32,
            128,
            32,
            64,
            16,
            128,
            32,
            32,
            32,
            16,
            64,
            16,
            32,
            32,
            16,
            64,
            128,
            32,
            32,
            32,
            32,
            32,
            128,
            128,
            64,
            16,
            64,
            128,
            64,
            32,
            128,
            32,
            128,
            16,
            128,
            64,
            32,
            32,
            128,
            128,
            128,
            16,
            16,
            128,
            32,
            128,
            16,
            32,
            16,
            64,
            16,
            64,
            16,
            128,
            32,
            64,
            64,
            128,
            128,
            32,
            32,
            32
           ]
          },
          {
           "label": "config.learning_rate",
           "values": [
            0.0693721542,
            0.0060592408,
            0.0476207494,
            0.0602280922,
            0.0109519651,
            0.0043286393,
            0.0211994306,
            0.0797444083,
            0.0370673125,
            0.0542822667,
            0.0361301079,
            0.06210721,
            0.0513087884,
            0.0334911728,
            0.022804938,
            0.0705006436,
            0.0499054511,
            0.0328186399,
            0.0112990664,
            0.0612282409,
            0.0480825946,
            0.0135664708,
            0.0800841512,
            0.0426210618,
            0.0597920465,
            0.0566414358,
            0.0698817719,
            0.0086139206,
            0.0315056973,
            0.0123809432,
            0.0820514343,
            0.0264883721,
            0.0942731742,
            0.0782145634,
            0.069657905,
            0.0100238121,
            0.0096174231,
            0.0230641179,
            0.0443671141,
            0.083396573,
            0.0729814763,
            0.0121403233,
            0.0908279987,
            0.0662746163,
            0.0246313747,
            0.0862023136,
            0.0217689672,
            0.0345343548,
            0.0336503019,
            0.0518148807,
            0.0239938806,
            0.0646933251,
            0.0170949813,
            0.0281668134,
            0.0101410277,
            0.0945795805,
            0.0887451669,
            0.0208320886,
            0.0068516947,
            0.0308245818,
            0.0578930373,
            0.0938488849,
            0.0097008906,
            0.0513798357,
            0.0723234548,
            0.0680512252,
            0.0711051137,
            0.0209127911,
            0.0485967697,
            0.0663755957,
            0.0351130071,
            0.0310472183,
            0.0983246304,
            0.0959513987,
            0.0111513549,
            0.0707817057,
            0.0657083466,
            0.0540345965,
            0.0575658938,
            0.0096741148,
            0.0736719613,
            0.0015714021,
            0.0167426123,
            0.0167576071,
            0.0837469056,
            0.0090421207,
            0.0796910137
           ]
          },
          {
           "label": "config.epochs",
           "values": [
            15,
            20,
            5,
            10,
            20,
            15,
            20,
            20,
            20,
            15,
            20,
            10,
            15,
            10,
            5,
            10,
            20,
            5,
            20,
            15,
            10,
            10,
            10,
            15,
            15,
            10,
            10,
            20,
            15,
            20,
            10,
            20,
            20,
            20,
            20,
            10,
            15,
            15,
            20,
            15,
            20,
            10,
            20,
            10,
            5,
            20,
            15,
            5,
            10,
            15,
            15,
            5,
            10,
            20,
            5,
            15,
            5,
            20,
            15,
            5,
            5,
            15,
            15,
            10,
            15,
            15,
            20,
            5,
            10,
            20,
            10,
            20,
            5,
            15,
            5,
            15,
            5,
            10,
            20,
            20,
            20,
            20,
            20,
            20,
            10,
            20,
            20
           ]
          }
         ],
         "domain": {
          "x": [
           0,
           1
          ],
          "y": [
           0,
           1
          ]
         },
         "line": {
          "color": [
           0.2403744779,
           0.2607122025,
           0.3245915553,
           0.2654715226,
           0.2421068221,
           0.3923928683,
           0.2465574028,
           0.4740976276,
           0.3917784642,
           0.2641277618,
           0.3060270447,
           0.265395887,
           0.2544579878,
           0.3103154769,
           0.2786972329,
           0.2713678539,
           0.226527695,
           0.2745608744,
           0.2419646544,
           0.267498869,
           0.25823417,
           0.2686685099,
           0.2709628226,
           0.2372384451,
           0.2358037447,
           0.2455275163,
           0.2492551225,
           0.2425356355,
           0.2696644673,
           0.227512134,
           0.309731907,
           0.2336389252,
           0.3958461923,
           0.3586679301,
           0.4677130834,
           0.3128421003,
           0.2485843985,
           0.2578522872,
           0.2455811508,
           0.37492458,
           0.2555521592,
           0.3451706041,
           0.4890880503,
           0.2307003641,
           0.2729083297,
           0.394354029,
           0.2442986843,
           0.3507471937,
           0.3053924395,
           0.2410493982,
           0.2488839829,
           0.2781051293,
           0.3491774778,
           0.2246138516,
           0.3285512181,
           0.2397478843,
           0.2287137,
           0.2724394064,
           0.2338046337,
           0.3736548048,
           0.2607533613,
           0.3134006482,
           0.2497125177,
           0.2591184011,
           0.2839751816,
           0.2521625465,
           0.4885663756,
           0.2675006828,
           0.2790501032,
           0.4110255312,
           0.2948504561,
           0.3817148453,
           0.2515178651,
           0.5067463026,
           0.3923281174,
           0.4554125676,
           0.2577539437,
           0.2691995306,
           0.2416789834,
           0.2451195181,
           0.2665122904,
           0.3991427207,
           0.2856846309,
           0.2819558355,
           0.2420077132,
           0.3055115026,
           0.2348843061
          ],
          "coloraxis": "coloraxis"
         },
         "name": "",
         "type": "parcoords"
        }
       ],
       "layout": {
        "coloraxis": {
         "colorbar": {
          "title": {
           "text": "mean_val_loss"
          }
         },
         "colorscale": [
          [
           0,
           "#0d0887"
          ],
          [
           0.1111111111111111,
           "#46039f"
          ],
          [
           0.2222222222222222,
           "#7201a8"
          ],
          [
           0.3333333333333333,
           "#9c179e"
          ],
          [
           0.4444444444444444,
           "#bd3786"
          ],
          [
           0.5555555555555556,
           "#d8576b"
          ],
          [
           0.6666666666666666,
           "#ed7953"
          ],
          [
           0.7777777777777778,
           "#fb9f3a"
          ],
          [
           0.8888888888888888,
           "#fdca26"
          ],
          [
           1,
           "#f0f921"
          ]
         ]
        },
        "legend": {
         "tracegroupgap": 0
        },
        "template": {
         "data": {
          "bar": [
           {
            "error_x": {
             "color": "#2a3f5f"
            },
            "error_y": {
             "color": "#2a3f5f"
            },
            "marker": {
             "line": {
              "color": "white",
              "width": 0.5
             },
             "pattern": {
              "fillmode": "overlay",
              "size": 10,
              "solidity": 0.2
             }
            },
            "type": "bar"
           }
          ],
          "barpolar": [
           {
            "marker": {
             "line": {
              "color": "white",
              "width": 0.5
             },
             "pattern": {
              "fillmode": "overlay",
              "size": 10,
              "solidity": 0.2
             }
            },
            "type": "barpolar"
           }
          ],
          "carpet": [
           {
            "aaxis": {
             "endlinecolor": "#2a3f5f",
             "gridcolor": "#C8D4E3",
             "linecolor": "#C8D4E3",
             "minorgridcolor": "#C8D4E3",
             "startlinecolor": "#2a3f5f"
            },
            "baxis": {
             "endlinecolor": "#2a3f5f",
             "gridcolor": "#C8D4E3",
             "linecolor": "#C8D4E3",
             "minorgridcolor": "#C8D4E3",
             "startlinecolor": "#2a3f5f"
            },
            "type": "carpet"
           }
          ],
          "choropleth": [
           {
            "colorbar": {
             "outlinewidth": 0,
             "ticks": ""
            },
            "type": "choropleth"
           }
          ],
          "contour": [
           {
            "colorbar": {
             "outlinewidth": 0,
             "ticks": ""
            },
            "colorscale": [
             [
              0,
              "#0d0887"
             ],
             [
              0.1111111111111111,
              "#46039f"
             ],
             [
              0.2222222222222222,
              "#7201a8"
             ],
             [
              0.3333333333333333,
              "#9c179e"
             ],
             [
              0.4444444444444444,
              "#bd3786"
             ],
             [
              0.5555555555555556,
              "#d8576b"
             ],
             [
              0.6666666666666666,
              "#ed7953"
             ],
             [
              0.7777777777777778,
              "#fb9f3a"
             ],
             [
              0.8888888888888888,
              "#fdca26"
             ],
             [
              1,
              "#f0f921"
             ]
            ],
            "type": "contour"
           }
          ],
          "contourcarpet": [
           {
            "colorbar": {
             "outlinewidth": 0,
             "ticks": ""
            },
            "type": "contourcarpet"
           }
          ],
          "heatmap": [
           {
            "colorbar": {
             "outlinewidth": 0,
             "ticks": ""
            },
            "colorscale": [
             [
              0,
              "#0d0887"
             ],
             [
              0.1111111111111111,
              "#46039f"
             ],
             [
              0.2222222222222222,
              "#7201a8"
             ],
             [
              0.3333333333333333,
              "#9c179e"
             ],
             [
              0.4444444444444444,
              "#bd3786"
             ],
             [
              0.5555555555555556,
              "#d8576b"
             ],
             [
              0.6666666666666666,
              "#ed7953"
             ],
             [
              0.7777777777777778,
              "#fb9f3a"
             ],
             [
              0.8888888888888888,
              "#fdca26"
             ],
             [
              1,
              "#f0f921"
             ]
            ],
            "type": "heatmap"
           }
          ],
          "heatmapgl": [
           {
            "colorbar": {
             "outlinewidth": 0,
             "ticks": ""
            },
            "colorscale": [
             [
              0,
              "#0d0887"
             ],
             [
              0.1111111111111111,
              "#46039f"
             ],
             [
              0.2222222222222222,
              "#7201a8"
             ],
             [
              0.3333333333333333,
              "#9c179e"
             ],
             [
              0.4444444444444444,
              "#bd3786"
             ],
             [
              0.5555555555555556,
              "#d8576b"
             ],
             [
              0.6666666666666666,
              "#ed7953"
             ],
             [
              0.7777777777777778,
              "#fb9f3a"
             ],
             [
              0.8888888888888888,
              "#fdca26"
             ],
             [
              1,
              "#f0f921"
             ]
            ],
            "type": "heatmapgl"
           }
          ],
          "histogram": [
           {
            "marker": {
             "pattern": {
              "fillmode": "overlay",
              "size": 10,
              "solidity": 0.2
             }
            },
            "type": "histogram"
           }
          ],
          "histogram2d": [
           {
            "colorbar": {
             "outlinewidth": 0,
             "ticks": ""
            },
            "colorscale": [
             [
              0,
              "#0d0887"
             ],
             [
              0.1111111111111111,
              "#46039f"
             ],
             [
              0.2222222222222222,
              "#7201a8"
             ],
             [
              0.3333333333333333,
              "#9c179e"
             ],
             [
              0.4444444444444444,
              "#bd3786"
             ],
             [
              0.5555555555555556,
              "#d8576b"
             ],
             [
              0.6666666666666666,
              "#ed7953"
             ],
             [
              0.7777777777777778,
              "#fb9f3a"
             ],
             [
              0.8888888888888888,
              "#fdca26"
             ],
             [
              1,
              "#f0f921"
             ]
            ],
            "type": "histogram2d"
           }
          ],
          "histogram2dcontour": [
           {
            "colorbar": {
             "outlinewidth": 0,
             "ticks": ""
            },
            "colorscale": [
             [
              0,
              "#0d0887"
             ],
             [
              0.1111111111111111,
              "#46039f"
             ],
             [
              0.2222222222222222,
              "#7201a8"
             ],
             [
              0.3333333333333333,
              "#9c179e"
             ],
             [
              0.4444444444444444,
              "#bd3786"
             ],
             [
              0.5555555555555556,
              "#d8576b"
             ],
             [
              0.6666666666666666,
              "#ed7953"
             ],
             [
              0.7777777777777778,
              "#fb9f3a"
             ],
             [
              0.8888888888888888,
              "#fdca26"
             ],
             [
              1,
              "#f0f921"
             ]
            ],
            "type": "histogram2dcontour"
           }
          ],
          "mesh3d": [
           {
            "colorbar": {
             "outlinewidth": 0,
             "ticks": ""
            },
            "type": "mesh3d"
           }
          ],
          "parcoords": [
           {
            "line": {
             "colorbar": {
              "outlinewidth": 0,
              "ticks": ""
             }
            },
            "type": "parcoords"
           }
          ],
          "pie": [
           {
            "automargin": true,
            "type": "pie"
           }
          ],
          "scatter": [
           {
            "fillpattern": {
             "fillmode": "overlay",
             "size": 10,
             "solidity": 0.2
            },
            "type": "scatter"
           }
          ],
          "scatter3d": [
           {
            "line": {
             "colorbar": {
              "outlinewidth": 0,
              "ticks": ""
             }
            },
            "marker": {
             "colorbar": {
              "outlinewidth": 0,
              "ticks": ""
             }
            },
            "type": "scatter3d"
           }
          ],
          "scattercarpet": [
           {
            "marker": {
             "colorbar": {
              "outlinewidth": 0,
              "ticks": ""
             }
            },
            "type": "scattercarpet"
           }
          ],
          "scattergeo": [
           {
            "marker": {
             "colorbar": {
              "outlinewidth": 0,
              "ticks": ""
             }
            },
            "type": "scattergeo"
           }
          ],
          "scattergl": [
           {
            "marker": {
             "colorbar": {
              "outlinewidth": 0,
              "ticks": ""
             }
            },
            "type": "scattergl"
           }
          ],
          "scattermapbox": [
           {
            "marker": {
             "colorbar": {
              "outlinewidth": 0,
              "ticks": ""
             }
            },
            "type": "scattermapbox"
           }
          ],
          "scatterpolar": [
           {
            "marker": {
             "colorbar": {
              "outlinewidth": 0,
              "ticks": ""
             }
            },
            "type": "scatterpolar"
           }
          ],
          "scatterpolargl": [
           {
            "marker": {
             "colorbar": {
              "outlinewidth": 0,
              "ticks": ""
             }
            },
            "type": "scatterpolargl"
           }
          ],
          "scatterternary": [
           {
            "marker": {
             "colorbar": {
              "outlinewidth": 0,
              "ticks": ""
             }
            },
            "type": "scatterternary"
           }
          ],
          "surface": [
           {
            "colorbar": {
             "outlinewidth": 0,
             "ticks": ""
            },
            "colorscale": [
             [
              0,
              "#0d0887"
             ],
             [
              0.1111111111111111,
              "#46039f"
             ],
             [
              0.2222222222222222,
              "#7201a8"
             ],
             [
              0.3333333333333333,
              "#9c179e"
             ],
             [
              0.4444444444444444,
              "#bd3786"
             ],
             [
              0.5555555555555556,
              "#d8576b"
             ],
             [
              0.6666666666666666,
              "#ed7953"
             ],
             [
              0.7777777777777778,
              "#fb9f3a"
             ],
             [
              0.8888888888888888,
              "#fdca26"
             ],
             [
              1,
              "#f0f921"
             ]
            ],
            "type": "surface"
           }
          ],
          "table": [
           {
            "cells": {
             "fill": {
              "color": "#EBF0F8"
             },
             "line": {
              "color": "white"
             }
            },
            "header": {
             "fill": {
              "color": "#C8D4E3"
             },
             "line": {
              "color": "white"
             }
            },
            "type": "table"
           }
          ]
         },
         "layout": {
          "annotationdefaults": {
           "arrowcolor": "#2a3f5f",
           "arrowhead": 0,
           "arrowwidth": 1
          },
          "autotypenumbers": "strict",
          "coloraxis": {
           "colorbar": {
            "outlinewidth": 0,
            "ticks": ""
           }
          },
          "colorscale": {
           "diverging": [
            [
             0,
             "#8e0152"
            ],
            [
             0.1,
             "#c51b7d"
            ],
            [
             0.2,
             "#de77ae"
            ],
            [
             0.3,
             "#f1b6da"
            ],
            [
             0.4,
             "#fde0ef"
            ],
            [
             0.5,
             "#f7f7f7"
            ],
            [
             0.6,
             "#e6f5d0"
            ],
            [
             0.7,
             "#b8e186"
            ],
            [
             0.8,
             "#7fbc41"
            ],
            [
             0.9,
             "#4d9221"
            ],
            [
             1,
             "#276419"
            ]
           ],
           "sequential": [
            [
             0,
             "#0d0887"
            ],
            [
             0.1111111111111111,
             "#46039f"
            ],
            [
             0.2222222222222222,
             "#7201a8"
            ],
            [
             0.3333333333333333,
             "#9c179e"
            ],
            [
             0.4444444444444444,
             "#bd3786"
            ],
            [
             0.5555555555555556,
             "#d8576b"
            ],
            [
             0.6666666666666666,
             "#ed7953"
            ],
            [
             0.7777777777777778,
             "#fb9f3a"
            ],
            [
             0.8888888888888888,
             "#fdca26"
            ],
            [
             1,
             "#f0f921"
            ]
           ],
           "sequentialminus": [
            [
             0,
             "#0d0887"
            ],
            [
             0.1111111111111111,
             "#46039f"
            ],
            [
             0.2222222222222222,
             "#7201a8"
            ],
            [
             0.3333333333333333,
             "#9c179e"
            ],
            [
             0.4444444444444444,
             "#bd3786"
            ],
            [
             0.5555555555555556,
             "#d8576b"
            ],
            [
             0.6666666666666666,
             "#ed7953"
            ],
            [
             0.7777777777777778,
             "#fb9f3a"
            ],
            [
             0.8888888888888888,
             "#fdca26"
            ],
            [
             1,
             "#f0f921"
            ]
           ]
          },
          "colorway": [
           "#636efa",
           "#EF553B",
           "#00cc96",
           "#ab63fa",
           "#FFA15A",
           "#19d3f3",
           "#FF6692",
           "#B6E880",
           "#FF97FF",
           "#FECB52"
          ],
          "font": {
           "color": "#2a3f5f"
          },
          "geo": {
           "bgcolor": "white",
           "lakecolor": "white",
           "landcolor": "white",
           "showlakes": true,
           "showland": true,
           "subunitcolor": "#C8D4E3"
          },
          "hoverlabel": {
           "align": "left"
          },
          "hovermode": "closest",
          "mapbox": {
           "style": "light"
          },
          "paper_bgcolor": "white",
          "plot_bgcolor": "white",
          "polar": {
           "angularaxis": {
            "gridcolor": "#EBF0F8",
            "linecolor": "#EBF0F8",
            "ticks": ""
           },
           "bgcolor": "white",
           "radialaxis": {
            "gridcolor": "#EBF0F8",
            "linecolor": "#EBF0F8",
            "ticks": ""
           }
          },
          "scene": {
           "xaxis": {
            "backgroundcolor": "white",
            "gridcolor": "#DFE8F3",
            "gridwidth": 2,
            "linecolor": "#EBF0F8",
            "showbackground": true,
            "ticks": "",
            "zerolinecolor": "#EBF0F8"
           },
           "yaxis": {
            "backgroundcolor": "white",
            "gridcolor": "#DFE8F3",
            "gridwidth": 2,
            "linecolor": "#EBF0F8",
            "showbackground": true,
            "ticks": "",
            "zerolinecolor": "#EBF0F8"
           },
           "zaxis": {
            "backgroundcolor": "white",
            "gridcolor": "#DFE8F3",
            "gridwidth": 2,
            "linecolor": "#EBF0F8",
            "showbackground": true,
            "ticks": "",
            "zerolinecolor": "#EBF0F8"
           }
          },
          "shapedefaults": {
           "line": {
            "color": "#2a3f5f"
           }
          },
          "ternary": {
           "aaxis": {
            "gridcolor": "#DFE8F3",
            "linecolor": "#A2B1C6",
            "ticks": ""
           },
           "baxis": {
            "gridcolor": "#DFE8F3",
            "linecolor": "#A2B1C6",
            "ticks": ""
           },
           "bgcolor": "white",
           "caxis": {
            "gridcolor": "#DFE8F3",
            "linecolor": "#A2B1C6",
            "ticks": ""
           }
          },
          "title": {
           "x": 0.05
          },
          "xaxis": {
           "automargin": true,
           "gridcolor": "#EBF0F8",
           "linecolor": "#EBF0F8",
           "ticks": "",
           "title": {
            "standoff": 15
           },
           "zerolinecolor": "#EBF0F8",
           "zerolinewidth": 2
          },
          "yaxis": {
           "automargin": true,
           "gridcolor": "#EBF0F8",
           "linecolor": "#EBF0F8",
           "ticks": "",
           "title": {
            "standoff": 15
           },
           "zerolinecolor": "#EBF0F8",
           "zerolinewidth": 2
          }
         }
        },
        "title": {
         "text": "Random Search Trial Configurations"
        },
        "width": 900
       }
      },
      "text/html": [
       "<div>                            <div id=\"70e3a1d1-edf6-4e2c-bc87-8184c9a2141d\" class=\"plotly-graph-div\" style=\"height:525px; width:900px;\"></div>            <script type=\"text/javascript\">                require([\"plotly\"], function(Plotly) {                    window.PLOTLYENV=window.PLOTLYENV || {};                                    if (document.getElementById(\"70e3a1d1-edf6-4e2c-bc87-8184c9a2141d\")) {                    Plotly.newPlot(                        \"70e3a1d1-edf6-4e2c-bc87-8184c9a2141d\",                        [{\"dimensions\":[{\"label\":\"config.l1\",\"values\":[64,128,32,128,64,32,32,32,64,64,128,64,256,32,64,32,256,64,32,32,128,32,64,256,256,128,256,256,64,32,128,64,128,32,128,256,128,64,64,64,32,256,256,256,128,64,32,64,64,256,32,128,32,256,256,256,128,256,256,64,256,32,32,256,128,64,256,64,64,256,128,128,64,256,256,256,128,128,64,64,128,128,64,64,256,32,256]},{\"label\":\"config.batch_size\",\"values\":[64,32,128,128,16,64,32,16,16,128,32,32,32,128,32,16,64,32,32,32,16,32,128,64,64,32,128,32,64,16,128,32,32,32,16,64,16,32,32,16,64,128,32,32,32,32,32,128,128,64,16,64,128,64,32,128,32,128,16,128,64,32,32,128,128,128,16,16,128,32,128,16,32,16,64,16,64,16,128,32,64,64,128,128,32,32,32]},{\"label\":\"config.learning_rate\",\"values\":[0.0693721542,0.0060592408,0.0476207494,0.0602280922,0.0109519651,0.0043286393,0.0211994306,0.0797444083,0.0370673125,0.0542822667,0.0361301079,0.06210721,0.0513087884,0.0334911728,0.022804938,0.0705006436,0.0499054511,0.0328186399,0.0112990664,0.0612282409,0.0480825946,0.0135664708,0.0800841512,0.0426210618,0.0597920465,0.0566414358,0.0698817719,0.0086139206,0.0315056973,0.0123809432,0.0820514343,0.0264883721,0.0942731742,0.0782145634,0.069657905,0.0100238121,0.0096174231,0.0230641179,0.0443671141,0.083396573,0.0729814763,0.0121403233,0.0908279987,0.0662746163,0.0246313747,0.0862023136,0.0217689672,0.0345343548,0.0336503019,0.0518148807,0.0239938806,0.0646933251,0.0170949813,0.0281668134,0.0101410277,0.0945795805,0.0887451669,0.0208320886,0.0068516947,0.0308245818,0.0578930373,0.0938488849,0.0097008906,0.0513798357,0.0723234548,0.0680512252,0.0711051137,0.0209127911,0.0485967697,0.0663755957,0.0351130071,0.0310472183,0.0983246304,0.0959513987,0.0111513549,0.0707817057,0.0657083466,0.0540345965,0.0575658938,0.0096741148,0.0736719613,0.0015714021,0.0167426123,0.0167576071,0.0837469056,0.0090421207,0.0796910137]},{\"label\":\"config.epochs\",\"values\":[15,20,5,10,20,15,20,20,20,15,20,10,15,10,5,10,20,5,20,15,10,10,10,15,15,10,10,20,15,20,10,20,20,20,20,10,15,15,20,15,20,10,20,10,5,20,15,5,10,15,15,5,10,20,5,15,5,20,15,5,5,15,15,10,15,15,20,5,10,20,10,20,5,15,5,15,5,10,20,20,20,20,20,20,10,20,20]}],\"domain\":{\"x\":[0.0,1.0],\"y\":[0.0,1.0]},\"line\":{\"color\":[0.2403744779,0.2607122025,0.3245915553,0.2654715226,0.2421068221,0.3923928683,0.2465574028,0.4740976276,0.3917784642,0.2641277618,0.3060270447,0.265395887,0.2544579878,0.3103154769,0.2786972329,0.2713678539,0.226527695,0.2745608744,0.2419646544,0.267498869,0.25823417,0.2686685099,0.2709628226,0.2372384451,0.2358037447,0.2455275163,0.2492551225,0.2425356355,0.2696644673,0.227512134,0.309731907,0.2336389252,0.3958461923,0.3586679301,0.4677130834,0.3128421003,0.2485843985,0.2578522872,0.2455811508,0.37492458,0.2555521592,0.3451706041,0.4890880503,0.2307003641,0.2729083297,0.394354029,0.2442986843,0.3507471937,0.3053924395,0.2410493982,0.2488839829,0.2781051293,0.3491774778,0.2246138516,0.3285512181,0.2397478843,0.2287137,0.2724394064,0.2338046337,0.3736548048,0.2607533613,0.3134006482,0.2497125177,0.2591184011,0.2839751816,0.2521625465,0.4885663756,0.2675006828,0.2790501032,0.4110255312,0.2948504561,0.3817148453,0.2515178651,0.5067463026,0.3923281174,0.4554125676,0.2577539437,0.2691995306,0.2416789834,0.2451195181,0.2665122904,0.3991427207,0.2856846309,0.2819558355,0.2420077132,0.3055115026,0.2348843061],\"coloraxis\":\"coloraxis\"},\"name\":\"\",\"type\":\"parcoords\"}],                        {\"template\":{\"data\":{\"histogram2dcontour\":[{\"type\":\"histogram2dcontour\",\"colorbar\":{\"outlinewidth\":0,\"ticks\":\"\"},\"colorscale\":[[0.0,\"#0d0887\"],[0.1111111111111111,\"#46039f\"],[0.2222222222222222,\"#7201a8\"],[0.3333333333333333,\"#9c179e\"],[0.4444444444444444,\"#bd3786\"],[0.5555555555555556,\"#d8576b\"],[0.6666666666666666,\"#ed7953\"],[0.7777777777777778,\"#fb9f3a\"],[0.8888888888888888,\"#fdca26\"],[1.0,\"#f0f921\"]]}],\"choropleth\":[{\"type\":\"choropleth\",\"colorbar\":{\"outlinewidth\":0,\"ticks\":\"\"}}],\"histogram2d\":[{\"type\":\"histogram2d\",\"colorbar\":{\"outlinewidth\":0,\"ticks\":\"\"},\"colorscale\":[[0.0,\"#0d0887\"],[0.1111111111111111,\"#46039f\"],[0.2222222222222222,\"#7201a8\"],[0.3333333333333333,\"#9c179e\"],[0.4444444444444444,\"#bd3786\"],[0.5555555555555556,\"#d8576b\"],[0.6666666666666666,\"#ed7953\"],[0.7777777777777778,\"#fb9f3a\"],[0.8888888888888888,\"#fdca26\"],[1.0,\"#f0f921\"]]}],\"heatmap\":[{\"type\":\"heatmap\",\"colorbar\":{\"outlinewidth\":0,\"ticks\":\"\"},\"colorscale\":[[0.0,\"#0d0887\"],[0.1111111111111111,\"#46039f\"],[0.2222222222222222,\"#7201a8\"],[0.3333333333333333,\"#9c179e\"],[0.4444444444444444,\"#bd3786\"],[0.5555555555555556,\"#d8576b\"],[0.6666666666666666,\"#ed7953\"],[0.7777777777777778,\"#fb9f3a\"],[0.8888888888888888,\"#fdca26\"],[1.0,\"#f0f921\"]]}],\"heatmapgl\":[{\"type\":\"heatmapgl\",\"colorbar\":{\"outlinewidth\":0,\"ticks\":\"\"},\"colorscale\":[[0.0,\"#0d0887\"],[0.1111111111111111,\"#46039f\"],[0.2222222222222222,\"#7201a8\"],[0.3333333333333333,\"#9c179e\"],[0.4444444444444444,\"#bd3786\"],[0.5555555555555556,\"#d8576b\"],[0.6666666666666666,\"#ed7953\"],[0.7777777777777778,\"#fb9f3a\"],[0.8888888888888888,\"#fdca26\"],[1.0,\"#f0f921\"]]}],\"contourcarpet\":[{\"type\":\"contourcarpet\",\"colorbar\":{\"outlinewidth\":0,\"ticks\":\"\"}}],\"contour\":[{\"type\":\"contour\",\"colorbar\":{\"outlinewidth\":0,\"ticks\":\"\"},\"colorscale\":[[0.0,\"#0d0887\"],[0.1111111111111111,\"#46039f\"],[0.2222222222222222,\"#7201a8\"],[0.3333333333333333,\"#9c179e\"],[0.4444444444444444,\"#bd3786\"],[0.5555555555555556,\"#d8576b\"],[0.6666666666666666,\"#ed7953\"],[0.7777777777777778,\"#fb9f3a\"],[0.8888888888888888,\"#fdca26\"],[1.0,\"#f0f921\"]]}],\"surface\":[{\"type\":\"surface\",\"colorbar\":{\"outlinewidth\":0,\"ticks\":\"\"},\"colorscale\":[[0.0,\"#0d0887\"],[0.1111111111111111,\"#46039f\"],[0.2222222222222222,\"#7201a8\"],[0.3333333333333333,\"#9c179e\"],[0.4444444444444444,\"#bd3786\"],[0.5555555555555556,\"#d8576b\"],[0.6666666666666666,\"#ed7953\"],[0.7777777777777778,\"#fb9f3a\"],[0.8888888888888888,\"#fdca26\"],[1.0,\"#f0f921\"]]}],\"mesh3d\":[{\"type\":\"mesh3d\",\"colorbar\":{\"outlinewidth\":0,\"ticks\":\"\"}}],\"scatter\":[{\"fillpattern\":{\"fillmode\":\"overlay\",\"size\":10,\"solidity\":0.2},\"type\":\"scatter\"}],\"parcoords\":[{\"type\":\"parcoords\",\"line\":{\"colorbar\":{\"outlinewidth\":0,\"ticks\":\"\"}}}],\"scatterpolargl\":[{\"type\":\"scatterpolargl\",\"marker\":{\"colorbar\":{\"outlinewidth\":0,\"ticks\":\"\"}}}],\"bar\":[{\"error_x\":{\"color\":\"#2a3f5f\"},\"error_y\":{\"color\":\"#2a3f5f\"},\"marker\":{\"line\":{\"color\":\"white\",\"width\":0.5},\"pattern\":{\"fillmode\":\"overlay\",\"size\":10,\"solidity\":0.2}},\"type\":\"bar\"}],\"scattergeo\":[{\"type\":\"scattergeo\",\"marker\":{\"colorbar\":{\"outlinewidth\":0,\"ticks\":\"\"}}}],\"scatterpolar\":[{\"type\":\"scatterpolar\",\"marker\":{\"colorbar\":{\"outlinewidth\":0,\"ticks\":\"\"}}}],\"histogram\":[{\"marker\":{\"pattern\":{\"fillmode\":\"overlay\",\"size\":10,\"solidity\":0.2}},\"type\":\"histogram\"}],\"scattergl\":[{\"type\":\"scattergl\",\"marker\":{\"colorbar\":{\"outlinewidth\":0,\"ticks\":\"\"}}}],\"scatter3d\":[{\"type\":\"scatter3d\",\"line\":{\"colorbar\":{\"outlinewidth\":0,\"ticks\":\"\"}},\"marker\":{\"colorbar\":{\"outlinewidth\":0,\"ticks\":\"\"}}}],\"scattermapbox\":[{\"type\":\"scattermapbox\",\"marker\":{\"colorbar\":{\"outlinewidth\":0,\"ticks\":\"\"}}}],\"scatterternary\":[{\"type\":\"scatterternary\",\"marker\":{\"colorbar\":{\"outlinewidth\":0,\"ticks\":\"\"}}}],\"scattercarpet\":[{\"type\":\"scattercarpet\",\"marker\":{\"colorbar\":{\"outlinewidth\":0,\"ticks\":\"\"}}}],\"carpet\":[{\"aaxis\":{\"endlinecolor\":\"#2a3f5f\",\"gridcolor\":\"#C8D4E3\",\"linecolor\":\"#C8D4E3\",\"minorgridcolor\":\"#C8D4E3\",\"startlinecolor\":\"#2a3f5f\"},\"baxis\":{\"endlinecolor\":\"#2a3f5f\",\"gridcolor\":\"#C8D4E3\",\"linecolor\":\"#C8D4E3\",\"minorgridcolor\":\"#C8D4E3\",\"startlinecolor\":\"#2a3f5f\"},\"type\":\"carpet\"}],\"table\":[{\"cells\":{\"fill\":{\"color\":\"#EBF0F8\"},\"line\":{\"color\":\"white\"}},\"header\":{\"fill\":{\"color\":\"#C8D4E3\"},\"line\":{\"color\":\"white\"}},\"type\":\"table\"}],\"barpolar\":[{\"marker\":{\"line\":{\"color\":\"white\",\"width\":0.5},\"pattern\":{\"fillmode\":\"overlay\",\"size\":10,\"solidity\":0.2}},\"type\":\"barpolar\"}],\"pie\":[{\"automargin\":true,\"type\":\"pie\"}]},\"layout\":{\"autotypenumbers\":\"strict\",\"colorway\":[\"#636efa\",\"#EF553B\",\"#00cc96\",\"#ab63fa\",\"#FFA15A\",\"#19d3f3\",\"#FF6692\",\"#B6E880\",\"#FF97FF\",\"#FECB52\"],\"font\":{\"color\":\"#2a3f5f\"},\"hovermode\":\"closest\",\"hoverlabel\":{\"align\":\"left\"},\"paper_bgcolor\":\"white\",\"plot_bgcolor\":\"white\",\"polar\":{\"bgcolor\":\"white\",\"angularaxis\":{\"gridcolor\":\"#EBF0F8\",\"linecolor\":\"#EBF0F8\",\"ticks\":\"\"},\"radialaxis\":{\"gridcolor\":\"#EBF0F8\",\"linecolor\":\"#EBF0F8\",\"ticks\":\"\"}},\"ternary\":{\"bgcolor\":\"white\",\"aaxis\":{\"gridcolor\":\"#DFE8F3\",\"linecolor\":\"#A2B1C6\",\"ticks\":\"\"},\"baxis\":{\"gridcolor\":\"#DFE8F3\",\"linecolor\":\"#A2B1C6\",\"ticks\":\"\"},\"caxis\":{\"gridcolor\":\"#DFE8F3\",\"linecolor\":\"#A2B1C6\",\"ticks\":\"\"}},\"coloraxis\":{\"colorbar\":{\"outlinewidth\":0,\"ticks\":\"\"}},\"colorscale\":{\"sequential\":[[0.0,\"#0d0887\"],[0.1111111111111111,\"#46039f\"],[0.2222222222222222,\"#7201a8\"],[0.3333333333333333,\"#9c179e\"],[0.4444444444444444,\"#bd3786\"],[0.5555555555555556,\"#d8576b\"],[0.6666666666666666,\"#ed7953\"],[0.7777777777777778,\"#fb9f3a\"],[0.8888888888888888,\"#fdca26\"],[1.0,\"#f0f921\"]],\"sequentialminus\":[[0.0,\"#0d0887\"],[0.1111111111111111,\"#46039f\"],[0.2222222222222222,\"#7201a8\"],[0.3333333333333333,\"#9c179e\"],[0.4444444444444444,\"#bd3786\"],[0.5555555555555556,\"#d8576b\"],[0.6666666666666666,\"#ed7953\"],[0.7777777777777778,\"#fb9f3a\"],[0.8888888888888888,\"#fdca26\"],[1.0,\"#f0f921\"]],\"diverging\":[[0,\"#8e0152\"],[0.1,\"#c51b7d\"],[0.2,\"#de77ae\"],[0.3,\"#f1b6da\"],[0.4,\"#fde0ef\"],[0.5,\"#f7f7f7\"],[0.6,\"#e6f5d0\"],[0.7,\"#b8e186\"],[0.8,\"#7fbc41\"],[0.9,\"#4d9221\"],[1,\"#276419\"]]},\"xaxis\":{\"gridcolor\":\"#EBF0F8\",\"linecolor\":\"#EBF0F8\",\"ticks\":\"\",\"title\":{\"standoff\":15},\"zerolinecolor\":\"#EBF0F8\",\"automargin\":true,\"zerolinewidth\":2},\"yaxis\":{\"gridcolor\":\"#EBF0F8\",\"linecolor\":\"#EBF0F8\",\"ticks\":\"\",\"title\":{\"standoff\":15},\"zerolinecolor\":\"#EBF0F8\",\"automargin\":true,\"zerolinewidth\":2},\"scene\":{\"xaxis\":{\"backgroundcolor\":\"white\",\"gridcolor\":\"#DFE8F3\",\"linecolor\":\"#EBF0F8\",\"showbackground\":true,\"ticks\":\"\",\"zerolinecolor\":\"#EBF0F8\",\"gridwidth\":2},\"yaxis\":{\"backgroundcolor\":\"white\",\"gridcolor\":\"#DFE8F3\",\"linecolor\":\"#EBF0F8\",\"showbackground\":true,\"ticks\":\"\",\"zerolinecolor\":\"#EBF0F8\",\"gridwidth\":2},\"zaxis\":{\"backgroundcolor\":\"white\",\"gridcolor\":\"#DFE8F3\",\"linecolor\":\"#EBF0F8\",\"showbackground\":true,\"ticks\":\"\",\"zerolinecolor\":\"#EBF0F8\",\"gridwidth\":2}},\"shapedefaults\":{\"line\":{\"color\":\"#2a3f5f\"}},\"annotationdefaults\":{\"arrowcolor\":\"#2a3f5f\",\"arrowhead\":0,\"arrowwidth\":1},\"geo\":{\"bgcolor\":\"white\",\"landcolor\":\"white\",\"subunitcolor\":\"#C8D4E3\",\"showland\":true,\"showlakes\":true,\"lakecolor\":\"white\"},\"title\":{\"x\":0.05},\"mapbox\":{\"style\":\"light\"}}},\"coloraxis\":{\"colorbar\":{\"title\":{\"text\":\"mean_val_loss\"}},\"colorscale\":[[0.0,\"#0d0887\"],[0.1111111111111111,\"#46039f\"],[0.2222222222222222,\"#7201a8\"],[0.3333333333333333,\"#9c179e\"],[0.4444444444444444,\"#bd3786\"],[0.5555555555555556,\"#d8576b\"],[0.6666666666666666,\"#ed7953\"],[0.7777777777777778,\"#fb9f3a\"],[0.8888888888888888,\"#fdca26\"],[1.0,\"#f0f921\"]]},\"legend\":{\"tracegroupgap\":0},\"title\":{\"text\":\"Random Search Trial Configurations\"},\"width\":900},                        {\"responsive\": true}                    ).then(function(){\n",
       "                            \n",
       "var gd = document.getElementById('70e3a1d1-edf6-4e2c-bc87-8184c9a2141d');\n",
       "var x = new MutationObserver(function (mutations, observer) {{\n",
       "        var display = window.getComputedStyle(gd).display;\n",
       "        if (!display || display === 'none') {{\n",
       "            console.log([gd, 'removed!']);\n",
       "            Plotly.purge(gd);\n",
       "            observer.disconnect();\n",
       "        }}\n",
       "}});\n",
       "\n",
       "// Listen for the removal of the full notebook cells\n",
       "var notebookContainer = gd.closest('#notebook-container');\n",
       "if (notebookContainer) {{\n",
       "    x.observe(notebookContainer, {childList: true});\n",
       "}}\n",
       "\n",
       "// Listen for the clearing of the current output cell\n",
       "var outputEl = gd.closest('.output');\n",
       "if (outputEl) {{\n",
       "    x.observe(outputEl, {childList: true});\n",
       "}}\n",
       "\n",
       "                        })                };                });            </script>        </div>"
      ]
     },
     "metadata": {},
     "output_type": "display_data"
    }
   ],
   "source": [
    "fig = px.parallel_coordinates(df_flat_e7, color=\"mean_val_loss\",\n",
    "                              title='Random Search Trial Configurations',\n",
    "                              dimensions=['config.l1', 'config.batch_size', 'config.learning_rate',\n",
    "                                          'config.epochs'], width=900)\n",
    "fig.show()"
   ]
  },
  {
   "cell_type": "markdown",
   "metadata": {
    "slideshow": {
     "slide_type": "subslide"
    }
   },
   "source": [
    "**🧪Tested Configurations Overview**"
   ]
  },
  {
   "cell_type": "code",
   "execution_count": 85,
   "metadata": {},
   "outputs": [
    {
     "data": {
      "application/vnd.plotly.v1+json": {
       "config": {
        "plotlyServerURL": "https://plot.ly"
       },
       "data": [
        {
         "dimensions": [
          {
           "label": "config.l1",
           "values": [
            64,
            128,
            32,
            128,
            64,
            32,
            32,
            32,
            64,
            64,
            128,
            64,
            256,
            32,
            64,
            32,
            256,
            64,
            32,
            32,
            128,
            32,
            64,
            256,
            256,
            128,
            256,
            256,
            64,
            32,
            128,
            64,
            128,
            32,
            128,
            256,
            128,
            64,
            64,
            64,
            32,
            256,
            256,
            256,
            128,
            64,
            32,
            64,
            64,
            256,
            32,
            128,
            32,
            256,
            256,
            256,
            128,
            256,
            256,
            64,
            256,
            32,
            32,
            256,
            128,
            64,
            256,
            64,
            64,
            256,
            128,
            128,
            64,
            256,
            256,
            256,
            128,
            128,
            64,
            64,
            128,
            128,
            64,
            64,
            256,
            32,
            256,
            64,
            128,
            128,
            128,
            256,
            128,
            32,
            64,
            64,
            256,
            128,
            256,
            128,
            256,
            128,
            256,
            32,
            32,
            256,
            256,
            256,
            128,
            64,
            256,
            256,
            32,
            256,
            64,
            64,
            128,
            32,
            64,
            32,
            32,
            128,
            32,
            32,
            32,
            64,
            32,
            256,
            256,
            64,
            256,
            128,
            256,
            128,
            32,
            128,
            64,
            32,
            128,
            256,
            256,
            128,
            256,
            256,
            64,
            64,
            64,
            128,
            64,
            32,
            64,
            32,
            256,
            64,
            32,
            64,
            128,
            64,
            128,
            128,
            32,
            32,
            32,
            64,
            64,
            64,
            256,
            64,
            32,
            32,
            256,
            128,
            128,
            128,
            32,
            256,
            128,
            256,
            128,
            256,
            128,
            64,
            32,
            64,
            32,
            128,
            64,
            128,
            32,
            64,
            32,
            64,
            32,
            256,
            256,
            64,
            32,
            64,
            256,
            64,
            64,
            128,
            32,
            64,
            32,
            32,
            256,
            128,
            256,
            256,
            256,
            64,
            32,
            256,
            128,
            128,
            32,
            64,
            32,
            256,
            256,
            256,
            128,
            64,
            32,
            64,
            128,
            256,
            64,
            32,
            32,
            64,
            64,
            64,
            64,
            256,
            64,
            32,
            32,
            256,
            64,
            256,
            64,
            128,
            256,
            128,
            64,
            64,
            128,
            32,
            128,
            128,
            32,
            256,
            128,
            64,
            256,
            32,
            64,
            128,
            128,
            256,
            256,
            64,
            64,
            32,
            128,
            32,
            128,
            128,
            128,
            128,
            64,
            32,
            32,
            256,
            256,
            128,
            32,
            256,
            256,
            32,
            256,
            32,
            32,
            256,
            256,
            32,
            256,
            128,
            128,
            128,
            64,
            64,
            256,
            32,
            32,
            128,
            256,
            256,
            256,
            64,
            128,
            64,
            256,
            32,
            256,
            128,
            128,
            32,
            64,
            32,
            128,
            256,
            32,
            32,
            256,
            128,
            128,
            64,
            256,
            256,
            32,
            64,
            64,
            128,
            256,
            64,
            128,
            64,
            64,
            64,
            64,
            32,
            64,
            32,
            128,
            32,
            128,
            128
           ]
          },
          {
           "label": "config.batch_size",
           "values": [
            64,
            32,
            128,
            128,
            16,
            64,
            32,
            16,
            16,
            128,
            32,
            32,
            32,
            128,
            32,
            16,
            64,
            32,
            32,
            32,
            16,
            32,
            128,
            64,
            64,
            32,
            128,
            32,
            64,
            16,
            128,
            32,
            32,
            32,
            16,
            64,
            16,
            32,
            32,
            16,
            64,
            128,
            32,
            32,
            32,
            32,
            32,
            128,
            128,
            64,
            16,
            64,
            128,
            64,
            32,
            128,
            32,
            128,
            16,
            128,
            64,
            32,
            32,
            128,
            128,
            128,
            16,
            16,
            128,
            32,
            128,
            16,
            32,
            16,
            64,
            16,
            64,
            16,
            128,
            32,
            64,
            64,
            128,
            128,
            32,
            32,
            32,
            128,
            16,
            32,
            16,
            16,
            32,
            128,
            32,
            32,
            128,
            64,
            32,
            16,
            64,
            64,
            64,
            32,
            32,
            16,
            64,
            64,
            32,
            16,
            64,
            128,
            128,
            32,
            64,
            64,
            32,
            16,
            64,
            64,
            64,
            128,
            16,
            64,
            128,
            16,
            32,
            16,
            16,
            128,
            32,
            32,
            16,
            32,
            32,
            64,
            128,
            128,
            64,
            64,
            64,
            32,
            128,
            32,
            32,
            64,
            64,
            64,
            32,
            64,
            32,
            128,
            32,
            16,
            16,
            16,
            16,
            128,
            16,
            16,
            64,
            32,
            32,
            32,
            64,
            32,
            128,
            128,
            16,
            16,
            16,
            16,
            128,
            16,
            32,
            64,
            32,
            64,
            128,
            32,
            32,
            32,
            128,
            64,
            128,
            128,
            128,
            32,
            128,
            32,
            64,
            128,
            64,
            128,
            32,
            64,
            128,
            16,
            32,
            64,
            128,
            32,
            128,
            16,
            128,
            64,
            64,
            16,
            128,
            128,
            16,
            32,
            32,
            128,
            128,
            16,
            64,
            64,
            64,
            32,
            64,
            16,
            16,
            32,
            128,
            32,
            16,
            128,
            64,
            16,
            128,
            64,
            64,
            32,
            32,
            64,
            64,
            128,
            16,
            32,
            32,
            128,
            128,
            64,
            32,
            128,
            16,
            32,
            32,
            32,
            16,
            32,
            128,
            16,
            16,
            32,
            32,
            128,
            128,
            16,
            128,
            64,
            64,
            64,
            128,
            64,
            16,
            32,
            128,
            32,
            32,
            128,
            16,
            64,
            128,
            128,
            16,
            16,
            64,
            64,
            64,
            64,
            16,
            64,
            128,
            16,
            16,
            128,
            32,
            16,
            128,
            16,
            16,
            128,
            32,
            64,
            128,
            32,
            128,
            128,
            32,
            128,
            64,
            128,
            64,
            16,
            16,
            32,
            16,
            64,
            128,
            32,
            16,
            32,
            32,
            128,
            128,
            16,
            128,
            64,
            16,
            64,
            128,
            16,
            32,
            16,
            64,
            64,
            128,
            16,
            32,
            32,
            32,
            16,
            16,
            64,
            32,
            32,
            32,
            64
           ]
          },
          {
           "label": "config.learning_rate",
           "values": [
            0.0693721542,
            0.0060592408,
            0.0476207494,
            0.0602280922,
            0.0109519651,
            0.0043286393,
            0.0211994306,
            0.0797444083,
            0.0370673125,
            0.0542822667,
            0.0361301079,
            0.06210721,
            0.0513087884,
            0.0334911728,
            0.022804938,
            0.0705006436,
            0.0499054511,
            0.0328186399,
            0.0112990664,
            0.0612282409,
            0.0480825946,
            0.0135664708,
            0.0800841512,
            0.0426210618,
            0.0597920465,
            0.0566414358,
            0.0698817719,
            0.0086139206,
            0.0315056973,
            0.0123809432,
            0.0820514343,
            0.0264883721,
            0.0942731742,
            0.0782145634,
            0.069657905,
            0.0100238121,
            0.0096174231,
            0.0230641179,
            0.0443671141,
            0.083396573,
            0.0729814763,
            0.0121403233,
            0.0908279987,
            0.0662746163,
            0.0246313747,
            0.0862023136,
            0.0217689672,
            0.0345343548,
            0.0336503019,
            0.0518148807,
            0.0239938806,
            0.0646933251,
            0.0170949813,
            0.0281668134,
            0.0101410277,
            0.0945795805,
            0.0887451669,
            0.0208320886,
            0.0068516947,
            0.0308245818,
            0.0578930373,
            0.0938488849,
            0.0097008906,
            0.0513798357,
            0.0723234548,
            0.0680512252,
            0.0711051137,
            0.0209127911,
            0.0485967697,
            0.0663755957,
            0.0351130071,
            0.0310472183,
            0.0983246304,
            0.0959513987,
            0.0111513549,
            0.0707817057,
            0.0657083466,
            0.0540345965,
            0.0575658938,
            0.0096741148,
            0.0736719613,
            0.0015714021,
            0.0167426123,
            0.0167576071,
            0.0837469056,
            0.0090421207,
            0.0796910137,
            0.0776743889,
            0.0398167945,
            0.0175620527,
            0.0015881216,
            0.0220700627,
            0.00688387,
            0.0171404176,
            0.0763351124,
            0.0237143593,
            0.0487958751,
            0.0969564294,
            0.0591417116,
            0.0081748516,
            0.0142420735,
            0.0598892505,
            0.0952351757,
            0.0336608323,
            0.0005149659,
            0.0105475427,
            0.0954997953,
            0.0065307017,
            0.0313527382,
            0.0853349177,
            0.037844103,
            0.0108263325,
            0.0031309975,
            0.0978225309,
            0.0659817621,
            0.035603234,
            0.082959405,
            0.0458686441,
            0.0004254021,
            0.0659115019,
            0.0786390037,
            0.0127859011,
            0.0692510118,
            0.0642353157,
            0.0846936589,
            0.0761912343,
            0.0147371713,
            0.0216939027,
            0.056348648,
            0.0534538677,
            0.0756323779,
            0.0551124446,
            0.0113566502,
            0.0737849967,
            0.0536731486,
            0.0121269279,
            0.0681704708,
            0.0981308308,
            0.0691473747,
            0.0712684881,
            0.0435621217,
            0.0346105697,
            0.0070645902,
            0.0972551026,
            0.0173419474,
            0.0871677955,
            0.0896856358,
            0.0887459302,
            0.048073879,
            0.0845699789,
            0.012991294,
            0.0263198186,
            0.0253774509,
            0.0141917607,
            0.0641306608,
            0.0822819335,
            0.078902933,
            0.0927474788,
            0.0194434235,
            0.0134114383,
            0.0002898114,
            0.0430449509,
            0.0542409517,
            0.0152676075,
            0.0404477591,
            0.0230350298,
            0.0187538537,
            0.0409254466,
            0.0267018446,
            0.0626118376,
            0.0105957667,
            0.0862970303,
            0.0471737795,
            0.0734848987,
            0.0615451766,
            0.0424828632,
            0.0846033362,
            0.0095060518,
            0.0917806987,
            0.0982740258,
            0.0271863182,
            0.090671088,
            0.0181379056,
            0.0309138186,
            0.0333952365,
            0.0701399041,
            0.075884054,
            0.0853118712,
            0.0846892992,
            0.0277914769,
            0.0641779281,
            0.023970084,
            0.0899158564,
            0.013783192,
            0.0843757865,
            0.0557999341,
            0.0168960669,
            0.0731632692,
            0.0229750424,
            0.0597243914,
            0.0367170651,
            0.0002910296,
            0.0622825374,
            0.0637270228,
            0.0234455166,
            0.0029940554,
            0.0034875356,
            0.0524759326,
            0.0077044028,
            0.0429254401,
            0.0638435041,
            0.0343714717,
            0.0782910807,
            0.0714252812,
            0.010911872,
            0.0123295543,
            0.0613925585,
            0.0102429512,
            0.0812717655,
            0.0130144966,
            0.0343929793,
            0.0793305146,
            0.0413230063,
            0.0387841002,
            0.0803446222,
            0.0082088789,
            0.0985379226,
            0.008831333,
            0.0655187887,
            0.0852802154,
            0.012083408,
            0.0829455714,
            0.0395148658,
            0.0512193299,
            0.0662600213,
            0.0470373625,
            0.0850663416,
            0.0196632527,
            0.049350228,
            0.0016719041,
            0.0006504515,
            0.0042909027,
            0.0243317073,
            0.0285201449,
            0.0784352962,
            0.069738289,
            0.0808311905,
            0.07958026,
            0.0506104806,
            0.0276264383,
            0.0452044542,
            0.0201598385,
            0.0116919964,
            0.0044323243,
            0.0783632756,
            0.0931618016,
            0.0640912305,
            0.0015863965,
            0.0556393468,
            0.0686213789,
            0.0939195744,
            0.0337251021,
            0.0960586108,
            0.0991157382,
            0.0261750375,
            0.0564736121,
            0.0366705507,
            0.0136281365,
            0.0649091244,
            0.0791939963,
            0.0971713255,
            0.0544748635,
            0.071030801,
            0.0913200817,
            0.0721484654,
            0.0071963544,
            0.0091071804,
            0.0896394658,
            0.0076399363,
            0.0337983337,
            0.0257653609,
            0.0246999881,
            0.0880119104,
            0.0780056476,
            0.0403329376,
            0.047147874,
            0.0250288838,
            0.0333107804,
            0.0928908907,
            0.0381552948,
            0.0382285158,
            0.0598850057,
            0.0682622369,
            0.0208260711,
            0.0747387795,
            0.0813188467,
            0.0583222949,
            0.0757494864,
            0.0157428949,
            0.0727399152,
            0.0699457654,
            0.0533921796,
            0.0753966234,
            0.0119400425,
            0.0826953665,
            0.0563737122,
            0.006347749,
            0.0149035979,
            0.0215069794,
            0.0324082788,
            0.0301702616,
            0.0339928242,
            0.0113602682,
            0.0709059381,
            0.0102958324,
            0.0176628567,
            0.058619626,
            0.0080978223,
            0.0382358331,
            0.0429176414,
            0.0141587546,
            0.0961002469,
            0.036154158,
            0.0557060225,
            0.0098862283,
            0.0135944381,
            0.0716485445,
            0.0975833971,
            0.0124080245,
            0.0457271818,
            0.0800691509,
            0.0801026356,
            0.0441762738,
            0.0083720424,
            0.0242661205,
            0.0172237888,
            0.067644411,
            0.0130263953,
            0.0118370525,
            0.0553315028
           ]
          },
          {
           "label": "config.epochs",
           "values": [
            15,
            20,
            5,
            10,
            20,
            15,
            20,
            20,
            20,
            15,
            20,
            10,
            15,
            10,
            5,
            10,
            20,
            5,
            20,
            15,
            10,
            10,
            10,
            15,
            15,
            10,
            10,
            20,
            15,
            20,
            10,
            20,
            20,
            20,
            20,
            10,
            15,
            15,
            20,
            15,
            20,
            10,
            20,
            10,
            5,
            20,
            15,
            5,
            10,
            15,
            15,
            5,
            10,
            20,
            5,
            15,
            5,
            20,
            15,
            5,
            5,
            15,
            15,
            10,
            15,
            15,
            20,
            5,
            10,
            20,
            10,
            20,
            5,
            15,
            5,
            15,
            5,
            10,
            20,
            20,
            20,
            20,
            20,
            20,
            10,
            20,
            20,
            15,
            10,
            10,
            5,
            15,
            15,
            5,
            10,
            15,
            15,
            15,
            15,
            10,
            5,
            20,
            10,
            15,
            10,
            5,
            20,
            20,
            20,
            15,
            10,
            15,
            15,
            10,
            5,
            5,
            5,
            5,
            15,
            15,
            10,
            15,
            20,
            15,
            15,
            10,
            15,
            20,
            15,
            15,
            20,
            5,
            20,
            5,
            5,
            10,
            10,
            5,
            15,
            5,
            10,
            5,
            5,
            10,
            5,
            5,
            20,
            15,
            20,
            5,
            10,
            5,
            5,
            5,
            10,
            15,
            10,
            5,
            20,
            5,
            10,
            15,
            10,
            10,
            10,
            10,
            20,
            10,
            20,
            15,
            10,
            10,
            15,
            20,
            10,
            5,
            10,
            10,
            15,
            10,
            5,
            10,
            5,
            15,
            20,
            5,
            20,
            10,
            10,
            20,
            15,
            5,
            10,
            20,
            20,
            5,
            5,
            15,
            20,
            5,
            15,
            20,
            5,
            15,
            5,
            10,
            20,
            15,
            5,
            20,
            15,
            5,
            5,
            15,
            20,
            10,
            15,
            5,
            15,
            15,
            5,
            10,
            5,
            15,
            5,
            5,
            15,
            20,
            5,
            20,
            20,
            10,
            5,
            15,
            10,
            5,
            10,
            20,
            5,
            5,
            20,
            10,
            5,
            20,
            20,
            5,
            20,
            20,
            20,
            5,
            10,
            15,
            10,
            15,
            15,
            20,
            10,
            15,
            10,
            5,
            15,
            20,
            20,
            5,
            20,
            10,
            10,
            10,
            20,
            10,
            10,
            5,
            10,
            10,
            15,
            20,
            15,
            5,
            15,
            5,
            15,
            15,
            5,
            10,
            10,
            15,
            20,
            15,
            10,
            5,
            5,
            20,
            5,
            15,
            20,
            15,
            10,
            5,
            20,
            20,
            20,
            20,
            5,
            20,
            15,
            10,
            15,
            10,
            10,
            20,
            5,
            20,
            10,
            5,
            10,
            10,
            15,
            15,
            20,
            15,
            10,
            20,
            5,
            20,
            10,
            5,
            5,
            15,
            20,
            20,
            15,
            10,
            10,
            5,
            15,
            5,
            10,
            20,
            20,
            20
           ]
          }
         ],
         "domain": {
          "x": [
           0,
           1
          ],
          "y": [
           0,
           1
          ]
         },
         "line": {
          "color": [
           0.2498369386,
           0.6155214023,
           0.6114081614,
           0.4827170591,
           0.554696021,
           0.7411672424,
           0.3747630358,
           0.3108393714,
           0.3146362772,
           0.4877750151,
           0.2501408349,
           0.3101683189,
           0.2742970716,
           0.5994133534,
           0.3474555963,
           0.2577759315,
           0.3960009348,
           0.3442655908,
           0.5061861386,
           0.3141679752,
           0.2646015465,
           0.4982508245,
           0.4801554433,
           0.4971465183,
           0.3308548346,
           0.2263564047,
           0.4751141319,
           0.5226763548,
           0.5068682456,
           0.365208136,
           0.5051363015,
           0.3348477645,
           0.2577569724,
           0.3151445485,
           0.2886539426,
           0.6037164212,
           0.5028456908,
           0.4435044584,
           0.3255842794,
           0.2821407013,
           0.4296531226,
           0.6413760921,
           0.3581483989,
           0.2689920153,
           0.4347557145,
           0.3238384784,
           0.4799425648,
           0.5983101516,
           0.5586705389,
           0.337165571,
           0.4389041142,
           0.3251692092,
           0.7372673959,
           0.4461624751,
           0.5917213107,
           0.4493845505,
           0.2430362317,
           0.6089501089,
           0.4901772038,
           0.5888287615,
           0.3489099814,
           0.295765732,
           0.5232366607,
           0.4933864471,
           0.4458365713,
           0.475752042,
           0.2606001031,
           0.3412193453,
           0.5109790126,
           0.317019417,
           0.5804716415,
           0.319234373,
           0.2765985867,
           0.2922716627,
           0.6250242478,
           0.2652283615,
           0.338098329,
           0.25752859,
           0.4990625686,
           0.5196089267,
           0.3218554575,
           1.4531184194,
           0.6404730852,
           0.6395724543,
           0.3088793536,
           0.5860550447,
           0.3325134385,
           0.5260363944,
           0.282818434,
           0.4831364956,
           0.6433547161,
           0.3196738269,
           0.5606486744,
           0.7254336292,
           0.3320492937,
           0.3592997955,
           0.4909008817,
           0.4443006454,
           0.2880628745,
           0.4643087137,
           0.5644963828,
           0.3402291913,
           0.4665471868,
           0.34813978,
           1.9241322104,
           0.3767293902,
           0.3108917644,
           0.6754892858,
           0.3341165724,
           0.2572587168,
           0.3706540637,
           0.7331645241,
           1.4460582137,
           0.2669374882,
           0.3302461801,
           0.4833807834,
           0.2783803124,
           0.2691105643,
           2.2212340426,
           0.3498824134,
           0.4725829484,
           0.694810731,
           0.2607588692,
           0.3404027877,
           0.5292851941,
           0.2702383686,
           0.486690707,
           0.3234209471,
           0.3752566171,
           0.521361494,
           0.257600151,
           0.3333414949,
           0.3916878893,
           0.2353501861,
           0.3376935267,
           0.55773538,
           0.4960229086,
           0.4737171715,
           0.3438950888,
           0.3469154731,
           0.4375935008,
           0.3165008246,
           0.7555703673,
           0.2591737017,
           0.4612769628,
           0.3482811017,
           0.3594707157,
           0.324589261,
           0.3270757602,
           0.3368775654,
           0.4756990911,
           0.572921161,
           0.3496308014,
           0.3490438859,
           0.2589385712,
           0.2757877433,
           0.2989608955,
           0.4553630336,
           0.4438175055,
           0.3382892446,
           2.2776072621,
           0.3276979072,
           0.379479776,
           0.4605731314,
           0.441655158,
           0.5197569165,
           0.6607890215,
           0.5167200603,
           0.3340673595,
           0.3741778614,
           0.3727855846,
           0.2858665886,
           0.5971973114,
           0.3915117157,
           0.3395925679,
           0.4347459192,
           0.2542883968,
           0.5710809469,
           0.3688999275,
           0.2736708321,
           0.3308078264,
           0.2519657143,
           0.6225985374,
           0.4551009163,
           0.6291669724,
           0.503530535,
           0.4599858706,
           0.2558158652,
           0.530252275,
           0.4327318328,
           0.4660043715,
           0.5880279211,
           0.3285452383,
           0.6552709664,
           0.3333239577,
           0.3532557974,
           0.6517385695,
           0.2688104167,
           0.4406978604,
           0.3428199155,
           0.5368850865,
           2.2283713926,
           0.4842461316,
           0.2622696364,
           0.7494841668,
           1.0215914427,
           0.7276186632,
           0.3288204479,
           0.8058546414,
           0.5520592592,
           0.2613172156,
           0.3266422066,
           0.2631504637,
           0.4739747441,
           0.7079785783,
           0.3370866448,
           0.4539705309,
           0.5909099099,
           0.4692774746,
           0.5487076425,
           0.4620394464,
           0.2683263145,
           0.2316272067,
           0.3258403464,
           0.4596963547,
           0.512986301,
           0.2529085813,
           0.7396836439,
           0.4498311552,
           0.3158085502,
           0.6846204419,
           0.3284097142,
           0.4535838994,
           0.3272506857,
           0.2712720947,
           0.3513938342,
           0.3298397203,
           0.6438075237,
           0.2717982235,
           0.7646447733,
           2.0429932868,
           1.2180417814,
           0.6004514393,
           0.5270011217,
           0.2500332832,
           0.4949156433,
           0.2550846124,
           0.2578586989,
           0.2559368209,
           0.435923685,
           0.2485566276,
           0.4689972211,
           0.6707628677,
           0.4863741037,
           0.2516709582,
           0.2618917699,
           0.3199178379,
           2.1928622621,
           0.5395254743,
           0.2297835445,
           0.4988232309,
           0.4494249957,
           0.3344922605,
           0.3188772895,
           0.5629406353,
           0.3820262795,
           0.258026062,
           0.4767590444,
           0.507448801,
           0.2623938658,
           0.2995673538,
           0.5028717987,
           0.2619576461,
           0.3184958268,
           0.4805042842,
           0.8505935143,
           0.4617026454,
           0.2441117544,
           0.6585537138,
           0.4438108678,
           0.4989964937,
           0.4735005625,
           0.2673975868,
           0.3293138787,
           0.5701337897,
           0.2512607243,
           0.2691256002,
           0.5204681228,
           0.298470031,
           0.2278262347,
           0.622913242,
           0.4122324081,
           0.2483824697,
           0.5661094208,
           0.3202361987,
           0.3572810673,
           0.5494978266,
           0.252661928,
           0.6116902999,
           0.5111870705,
           0.3794523617,
           0.510888553,
           0.3285151133,
           0.70699566,
           0.3110241257,
           0.2541009091,
           0.4857519571,
           0.4823642517,
           0.3262157386,
           0.4697744732,
           0.5628953345,
           0.3352020451,
           0.4465731798,
           0.2534802941,
           0.5245571367,
           0.6100307804,
           0.4786703079,
           0.4532040587,
           0.5449745915,
           0.46504841,
           0.3723730016,
           0.3230813208,
           0.5419965152,
           0.2610499871,
           0.5362070281,
           0.3509236788,
           0.3520101857,
           0.4545950198,
           0.762082339,
           0.2757947868,
           0.2605955612,
           0.2384372858,
           0.3141233085,
           0.4441258938,
           0.3390369977,
           0.5335545044,
           0.2610768552,
           0.5345477263,
           0.5029062495,
           0.4173216022
          ],
          "coloraxis": "coloraxis"
         },
         "name": "",
         "type": "parcoords"
        }
       ],
       "layout": {
        "coloraxis": {
         "colorbar": {
          "title": {
           "text": "mean_val_loss"
          }
         },
         "colorscale": [
          [
           0,
           "#0d0887"
          ],
          [
           0.1111111111111111,
           "#46039f"
          ],
          [
           0.2222222222222222,
           "#7201a8"
          ],
          [
           0.3333333333333333,
           "#9c179e"
          ],
          [
           0.4444444444444444,
           "#bd3786"
          ],
          [
           0.5555555555555556,
           "#d8576b"
          ],
          [
           0.6666666666666666,
           "#ed7953"
          ],
          [
           0.7777777777777778,
           "#fb9f3a"
          ],
          [
           0.8888888888888888,
           "#fdca26"
          ],
          [
           1,
           "#f0f921"
          ]
         ]
        },
        "legend": {
         "tracegroupgap": 0
        },
        "template": {
         "data": {
          "bar": [
           {
            "error_x": {
             "color": "#2a3f5f"
            },
            "error_y": {
             "color": "#2a3f5f"
            },
            "marker": {
             "line": {
              "color": "white",
              "width": 0.5
             },
             "pattern": {
              "fillmode": "overlay",
              "size": 10,
              "solidity": 0.2
             }
            },
            "type": "bar"
           }
          ],
          "barpolar": [
           {
            "marker": {
             "line": {
              "color": "white",
              "width": 0.5
             },
             "pattern": {
              "fillmode": "overlay",
              "size": 10,
              "solidity": 0.2
             }
            },
            "type": "barpolar"
           }
          ],
          "carpet": [
           {
            "aaxis": {
             "endlinecolor": "#2a3f5f",
             "gridcolor": "#C8D4E3",
             "linecolor": "#C8D4E3",
             "minorgridcolor": "#C8D4E3",
             "startlinecolor": "#2a3f5f"
            },
            "baxis": {
             "endlinecolor": "#2a3f5f",
             "gridcolor": "#C8D4E3",
             "linecolor": "#C8D4E3",
             "minorgridcolor": "#C8D4E3",
             "startlinecolor": "#2a3f5f"
            },
            "type": "carpet"
           }
          ],
          "choropleth": [
           {
            "colorbar": {
             "outlinewidth": 0,
             "ticks": ""
            },
            "type": "choropleth"
           }
          ],
          "contour": [
           {
            "colorbar": {
             "outlinewidth": 0,
             "ticks": ""
            },
            "colorscale": [
             [
              0,
              "#0d0887"
             ],
             [
              0.1111111111111111,
              "#46039f"
             ],
             [
              0.2222222222222222,
              "#7201a8"
             ],
             [
              0.3333333333333333,
              "#9c179e"
             ],
             [
              0.4444444444444444,
              "#bd3786"
             ],
             [
              0.5555555555555556,
              "#d8576b"
             ],
             [
              0.6666666666666666,
              "#ed7953"
             ],
             [
              0.7777777777777778,
              "#fb9f3a"
             ],
             [
              0.8888888888888888,
              "#fdca26"
             ],
             [
              1,
              "#f0f921"
             ]
            ],
            "type": "contour"
           }
          ],
          "contourcarpet": [
           {
            "colorbar": {
             "outlinewidth": 0,
             "ticks": ""
            },
            "type": "contourcarpet"
           }
          ],
          "heatmap": [
           {
            "colorbar": {
             "outlinewidth": 0,
             "ticks": ""
            },
            "colorscale": [
             [
              0,
              "#0d0887"
             ],
             [
              0.1111111111111111,
              "#46039f"
             ],
             [
              0.2222222222222222,
              "#7201a8"
             ],
             [
              0.3333333333333333,
              "#9c179e"
             ],
             [
              0.4444444444444444,
              "#bd3786"
             ],
             [
              0.5555555555555556,
              "#d8576b"
             ],
             [
              0.6666666666666666,
              "#ed7953"
             ],
             [
              0.7777777777777778,
              "#fb9f3a"
             ],
             [
              0.8888888888888888,
              "#fdca26"
             ],
             [
              1,
              "#f0f921"
             ]
            ],
            "type": "heatmap"
           }
          ],
          "heatmapgl": [
           {
            "colorbar": {
             "outlinewidth": 0,
             "ticks": ""
            },
            "colorscale": [
             [
              0,
              "#0d0887"
             ],
             [
              0.1111111111111111,
              "#46039f"
             ],
             [
              0.2222222222222222,
              "#7201a8"
             ],
             [
              0.3333333333333333,
              "#9c179e"
             ],
             [
              0.4444444444444444,
              "#bd3786"
             ],
             [
              0.5555555555555556,
              "#d8576b"
             ],
             [
              0.6666666666666666,
              "#ed7953"
             ],
             [
              0.7777777777777778,
              "#fb9f3a"
             ],
             [
              0.8888888888888888,
              "#fdca26"
             ],
             [
              1,
              "#f0f921"
             ]
            ],
            "type": "heatmapgl"
           }
          ],
          "histogram": [
           {
            "marker": {
             "pattern": {
              "fillmode": "overlay",
              "size": 10,
              "solidity": 0.2
             }
            },
            "type": "histogram"
           }
          ],
          "histogram2d": [
           {
            "colorbar": {
             "outlinewidth": 0,
             "ticks": ""
            },
            "colorscale": [
             [
              0,
              "#0d0887"
             ],
             [
              0.1111111111111111,
              "#46039f"
             ],
             [
              0.2222222222222222,
              "#7201a8"
             ],
             [
              0.3333333333333333,
              "#9c179e"
             ],
             [
              0.4444444444444444,
              "#bd3786"
             ],
             [
              0.5555555555555556,
              "#d8576b"
             ],
             [
              0.6666666666666666,
              "#ed7953"
             ],
             [
              0.7777777777777778,
              "#fb9f3a"
             ],
             [
              0.8888888888888888,
              "#fdca26"
             ],
             [
              1,
              "#f0f921"
             ]
            ],
            "type": "histogram2d"
           }
          ],
          "histogram2dcontour": [
           {
            "colorbar": {
             "outlinewidth": 0,
             "ticks": ""
            },
            "colorscale": [
             [
              0,
              "#0d0887"
             ],
             [
              0.1111111111111111,
              "#46039f"
             ],
             [
              0.2222222222222222,
              "#7201a8"
             ],
             [
              0.3333333333333333,
              "#9c179e"
             ],
             [
              0.4444444444444444,
              "#bd3786"
             ],
             [
              0.5555555555555556,
              "#d8576b"
             ],
             [
              0.6666666666666666,
              "#ed7953"
             ],
             [
              0.7777777777777778,
              "#fb9f3a"
             ],
             [
              0.8888888888888888,
              "#fdca26"
             ],
             [
              1,
              "#f0f921"
             ]
            ],
            "type": "histogram2dcontour"
           }
          ],
          "mesh3d": [
           {
            "colorbar": {
             "outlinewidth": 0,
             "ticks": ""
            },
            "type": "mesh3d"
           }
          ],
          "parcoords": [
           {
            "line": {
             "colorbar": {
              "outlinewidth": 0,
              "ticks": ""
             }
            },
            "type": "parcoords"
           }
          ],
          "pie": [
           {
            "automargin": true,
            "type": "pie"
           }
          ],
          "scatter": [
           {
            "fillpattern": {
             "fillmode": "overlay",
             "size": 10,
             "solidity": 0.2
            },
            "type": "scatter"
           }
          ],
          "scatter3d": [
           {
            "line": {
             "colorbar": {
              "outlinewidth": 0,
              "ticks": ""
             }
            },
            "marker": {
             "colorbar": {
              "outlinewidth": 0,
              "ticks": ""
             }
            },
            "type": "scatter3d"
           }
          ],
          "scattercarpet": [
           {
            "marker": {
             "colorbar": {
              "outlinewidth": 0,
              "ticks": ""
             }
            },
            "type": "scattercarpet"
           }
          ],
          "scattergeo": [
           {
            "marker": {
             "colorbar": {
              "outlinewidth": 0,
              "ticks": ""
             }
            },
            "type": "scattergeo"
           }
          ],
          "scattergl": [
           {
            "marker": {
             "colorbar": {
              "outlinewidth": 0,
              "ticks": ""
             }
            },
            "type": "scattergl"
           }
          ],
          "scattermapbox": [
           {
            "marker": {
             "colorbar": {
              "outlinewidth": 0,
              "ticks": ""
             }
            },
            "type": "scattermapbox"
           }
          ],
          "scatterpolar": [
           {
            "marker": {
             "colorbar": {
              "outlinewidth": 0,
              "ticks": ""
             }
            },
            "type": "scatterpolar"
           }
          ],
          "scatterpolargl": [
           {
            "marker": {
             "colorbar": {
              "outlinewidth": 0,
              "ticks": ""
             }
            },
            "type": "scatterpolargl"
           }
          ],
          "scatterternary": [
           {
            "marker": {
             "colorbar": {
              "outlinewidth": 0,
              "ticks": ""
             }
            },
            "type": "scatterternary"
           }
          ],
          "surface": [
           {
            "colorbar": {
             "outlinewidth": 0,
             "ticks": ""
            },
            "colorscale": [
             [
              0,
              "#0d0887"
             ],
             [
              0.1111111111111111,
              "#46039f"
             ],
             [
              0.2222222222222222,
              "#7201a8"
             ],
             [
              0.3333333333333333,
              "#9c179e"
             ],
             [
              0.4444444444444444,
              "#bd3786"
             ],
             [
              0.5555555555555556,
              "#d8576b"
             ],
             [
              0.6666666666666666,
              "#ed7953"
             ],
             [
              0.7777777777777778,
              "#fb9f3a"
             ],
             [
              0.8888888888888888,
              "#fdca26"
             ],
             [
              1,
              "#f0f921"
             ]
            ],
            "type": "surface"
           }
          ],
          "table": [
           {
            "cells": {
             "fill": {
              "color": "#EBF0F8"
             },
             "line": {
              "color": "white"
             }
            },
            "header": {
             "fill": {
              "color": "#C8D4E3"
             },
             "line": {
              "color": "white"
             }
            },
            "type": "table"
           }
          ]
         },
         "layout": {
          "annotationdefaults": {
           "arrowcolor": "#2a3f5f",
           "arrowhead": 0,
           "arrowwidth": 1
          },
          "autotypenumbers": "strict",
          "coloraxis": {
           "colorbar": {
            "outlinewidth": 0,
            "ticks": ""
           }
          },
          "colorscale": {
           "diverging": [
            [
             0,
             "#8e0152"
            ],
            [
             0.1,
             "#c51b7d"
            ],
            [
             0.2,
             "#de77ae"
            ],
            [
             0.3,
             "#f1b6da"
            ],
            [
             0.4,
             "#fde0ef"
            ],
            [
             0.5,
             "#f7f7f7"
            ],
            [
             0.6,
             "#e6f5d0"
            ],
            [
             0.7,
             "#b8e186"
            ],
            [
             0.8,
             "#7fbc41"
            ],
            [
             0.9,
             "#4d9221"
            ],
            [
             1,
             "#276419"
            ]
           ],
           "sequential": [
            [
             0,
             "#0d0887"
            ],
            [
             0.1111111111111111,
             "#46039f"
            ],
            [
             0.2222222222222222,
             "#7201a8"
            ],
            [
             0.3333333333333333,
             "#9c179e"
            ],
            [
             0.4444444444444444,
             "#bd3786"
            ],
            [
             0.5555555555555556,
             "#d8576b"
            ],
            [
             0.6666666666666666,
             "#ed7953"
            ],
            [
             0.7777777777777778,
             "#fb9f3a"
            ],
            [
             0.8888888888888888,
             "#fdca26"
            ],
            [
             1,
             "#f0f921"
            ]
           ],
           "sequentialminus": [
            [
             0,
             "#0d0887"
            ],
            [
             0.1111111111111111,
             "#46039f"
            ],
            [
             0.2222222222222222,
             "#7201a8"
            ],
            [
             0.3333333333333333,
             "#9c179e"
            ],
            [
             0.4444444444444444,
             "#bd3786"
            ],
            [
             0.5555555555555556,
             "#d8576b"
            ],
            [
             0.6666666666666666,
             "#ed7953"
            ],
            [
             0.7777777777777778,
             "#fb9f3a"
            ],
            [
             0.8888888888888888,
             "#fdca26"
            ],
            [
             1,
             "#f0f921"
            ]
           ]
          },
          "colorway": [
           "#636efa",
           "#EF553B",
           "#00cc96",
           "#ab63fa",
           "#FFA15A",
           "#19d3f3",
           "#FF6692",
           "#B6E880",
           "#FF97FF",
           "#FECB52"
          ],
          "font": {
           "color": "#2a3f5f"
          },
          "geo": {
           "bgcolor": "white",
           "lakecolor": "white",
           "landcolor": "white",
           "showlakes": true,
           "showland": true,
           "subunitcolor": "#C8D4E3"
          },
          "hoverlabel": {
           "align": "left"
          },
          "hovermode": "closest",
          "mapbox": {
           "style": "light"
          },
          "paper_bgcolor": "white",
          "plot_bgcolor": "white",
          "polar": {
           "angularaxis": {
            "gridcolor": "#EBF0F8",
            "linecolor": "#EBF0F8",
            "ticks": ""
           },
           "bgcolor": "white",
           "radialaxis": {
            "gridcolor": "#EBF0F8",
            "linecolor": "#EBF0F8",
            "ticks": ""
           }
          },
          "scene": {
           "xaxis": {
            "backgroundcolor": "white",
            "gridcolor": "#DFE8F3",
            "gridwidth": 2,
            "linecolor": "#EBF0F8",
            "showbackground": true,
            "ticks": "",
            "zerolinecolor": "#EBF0F8"
           },
           "yaxis": {
            "backgroundcolor": "white",
            "gridcolor": "#DFE8F3",
            "gridwidth": 2,
            "linecolor": "#EBF0F8",
            "showbackground": true,
            "ticks": "",
            "zerolinecolor": "#EBF0F8"
           },
           "zaxis": {
            "backgroundcolor": "white",
            "gridcolor": "#DFE8F3",
            "gridwidth": 2,
            "linecolor": "#EBF0F8",
            "showbackground": true,
            "ticks": "",
            "zerolinecolor": "#EBF0F8"
           }
          },
          "shapedefaults": {
           "line": {
            "color": "#2a3f5f"
           }
          },
          "ternary": {
           "aaxis": {
            "gridcolor": "#DFE8F3",
            "linecolor": "#A2B1C6",
            "ticks": ""
           },
           "baxis": {
            "gridcolor": "#DFE8F3",
            "linecolor": "#A2B1C6",
            "ticks": ""
           },
           "bgcolor": "white",
           "caxis": {
            "gridcolor": "#DFE8F3",
            "linecolor": "#A2B1C6",
            "ticks": ""
           }
          },
          "title": {
           "x": 0.05
          },
          "xaxis": {
           "automargin": true,
           "gridcolor": "#EBF0F8",
           "linecolor": "#EBF0F8",
           "ticks": "",
           "title": {
            "standoff": 15
           },
           "zerolinecolor": "#EBF0F8",
           "zerolinewidth": 2
          },
          "yaxis": {
           "automargin": true,
           "gridcolor": "#EBF0F8",
           "linecolor": "#EBF0F8",
           "ticks": "",
           "title": {
            "standoff": 15
           },
           "zerolinecolor": "#EBF0F8",
           "zerolinewidth": 2
          }
         }
        },
        "title": {
         "text": "Hyperband Trial Configurations"
        },
        "width": 900
       }
      },
      "text/html": [
       "<div>                            <div id=\"cd92d1e5-d092-4420-b09b-0b3cdf1a3fc7\" class=\"plotly-graph-div\" style=\"height:525px; width:900px;\"></div>            <script type=\"text/javascript\">                require([\"plotly\"], function(Plotly) {                    window.PLOTLYENV=window.PLOTLYENV || {};                                    if (document.getElementById(\"cd92d1e5-d092-4420-b09b-0b3cdf1a3fc7\")) {                    Plotly.newPlot(                        \"cd92d1e5-d092-4420-b09b-0b3cdf1a3fc7\",                        [{\"dimensions\":[{\"label\":\"config.l1\",\"values\":[64,128,32,128,64,32,32,32,64,64,128,64,256,32,64,32,256,64,32,32,128,32,64,256,256,128,256,256,64,32,128,64,128,32,128,256,128,64,64,64,32,256,256,256,128,64,32,64,64,256,32,128,32,256,256,256,128,256,256,64,256,32,32,256,128,64,256,64,64,256,128,128,64,256,256,256,128,128,64,64,128,128,64,64,256,32,256,64,128,128,128,256,128,32,64,64,256,128,256,128,256,128,256,32,32,256,256,256,128,64,256,256,32,256,64,64,128,32,64,32,32,128,32,32,32,64,32,256,256,64,256,128,256,128,32,128,64,32,128,256,256,128,256,256,64,64,64,128,64,32,64,32,256,64,32,64,128,64,128,128,32,32,32,64,64,64,256,64,32,32,256,128,128,128,32,256,128,256,128,256,128,64,32,64,32,128,64,128,32,64,32,64,32,256,256,64,32,64,256,64,64,128,32,64,32,32,256,128,256,256,256,64,32,256,128,128,32,64,32,256,256,256,128,64,32,64,128,256,64,32,32,64,64,64,64,256,64,32,32,256,64,256,64,128,256,128,64,64,128,32,128,128,32,256,128,64,256,32,64,128,128,256,256,64,64,32,128,32,128,128,128,128,64,32,32,256,256,128,32,256,256,32,256,32,32,256,256,32,256,128,128,128,64,64,256,32,32,128,256,256,256,64,128,64,256,32,256,128,128,32,64,32,128,256,32,32,256,128,128,64,256,256,32,64,64,128,256,64,128,64,64,64,64,32,64,32,128,32,128,128]},{\"label\":\"config.batch_size\",\"values\":[64,32,128,128,16,64,32,16,16,128,32,32,32,128,32,16,64,32,32,32,16,32,128,64,64,32,128,32,64,16,128,32,32,32,16,64,16,32,32,16,64,128,32,32,32,32,32,128,128,64,16,64,128,64,32,128,32,128,16,128,64,32,32,128,128,128,16,16,128,32,128,16,32,16,64,16,64,16,128,32,64,64,128,128,32,32,32,128,16,32,16,16,32,128,32,32,128,64,32,16,64,64,64,32,32,16,64,64,32,16,64,128,128,32,64,64,32,16,64,64,64,128,16,64,128,16,32,16,16,128,32,32,16,32,32,64,128,128,64,64,64,32,128,32,32,64,64,64,32,64,32,128,32,16,16,16,16,128,16,16,64,32,32,32,64,32,128,128,16,16,16,16,128,16,32,64,32,64,128,32,32,32,128,64,128,128,128,32,128,32,64,128,64,128,32,64,128,16,32,64,128,32,128,16,128,64,64,16,128,128,16,32,32,128,128,16,64,64,64,32,64,16,16,32,128,32,16,128,64,16,128,64,64,32,32,64,64,128,16,32,32,128,128,64,32,128,16,32,32,32,16,32,128,16,16,32,32,128,128,16,128,64,64,64,128,64,16,32,128,32,32,128,16,64,128,128,16,16,64,64,64,64,16,64,128,16,16,128,32,16,128,16,16,128,32,64,128,32,128,128,32,128,64,128,64,16,16,32,16,64,128,32,16,32,32,128,128,16,128,64,16,64,128,16,32,16,64,64,128,16,32,32,32,16,16,64,32,32,32,64]},{\"label\":\"config.learning_rate\",\"values\":[0.0693721542,0.0060592408,0.0476207494,0.0602280922,0.0109519651,0.0043286393,0.0211994306,0.0797444083,0.0370673125,0.0542822667,0.0361301079,0.06210721,0.0513087884,0.0334911728,0.022804938,0.0705006436,0.0499054511,0.0328186399,0.0112990664,0.0612282409,0.0480825946,0.0135664708,0.0800841512,0.0426210618,0.0597920465,0.0566414358,0.0698817719,0.0086139206,0.0315056973,0.0123809432,0.0820514343,0.0264883721,0.0942731742,0.0782145634,0.069657905,0.0100238121,0.0096174231,0.0230641179,0.0443671141,0.083396573,0.0729814763,0.0121403233,0.0908279987,0.0662746163,0.0246313747,0.0862023136,0.0217689672,0.0345343548,0.0336503019,0.0518148807,0.0239938806,0.0646933251,0.0170949813,0.0281668134,0.0101410277,0.0945795805,0.0887451669,0.0208320886,0.0068516947,0.0308245818,0.0578930373,0.0938488849,0.0097008906,0.0513798357,0.0723234548,0.0680512252,0.0711051137,0.0209127911,0.0485967697,0.0663755957,0.0351130071,0.0310472183,0.0983246304,0.0959513987,0.0111513549,0.0707817057,0.0657083466,0.0540345965,0.0575658938,0.0096741148,0.0736719613,0.0015714021,0.0167426123,0.0167576071,0.0837469056,0.0090421207,0.0796910137,0.0776743889,0.0398167945,0.0175620527,0.0015881216,0.0220700627,0.00688387,0.0171404176,0.0763351124,0.0237143593,0.0487958751,0.0969564294,0.0591417116,0.0081748516,0.0142420735,0.0598892505,0.0952351757,0.0336608323,0.0005149659,0.0105475427,0.0954997953,0.0065307017,0.0313527382,0.0853349177,0.037844103,0.0108263325,0.0031309975,0.0978225309,0.0659817621,0.035603234,0.082959405,0.0458686441,0.0004254021,0.0659115019,0.0786390037,0.0127859011,0.0692510118,0.0642353157,0.0846936589,0.0761912343,0.0147371713,0.0216939027,0.056348648,0.0534538677,0.0756323779,0.0551124446,0.0113566502,0.0737849967,0.0536731486,0.0121269279,0.0681704708,0.0981308308,0.0691473747,0.0712684881,0.0435621217,0.0346105697,0.0070645902,0.0972551026,0.0173419474,0.0871677955,0.0896856358,0.0887459302,0.048073879,0.0845699789,0.012991294,0.0263198186,0.0253774509,0.0141917607,0.0641306608,0.0822819335,0.078902933,0.0927474788,0.0194434235,0.0134114383,0.0002898114,0.0430449509,0.0542409517,0.0152676075,0.0404477591,0.0230350298,0.0187538537,0.0409254466,0.0267018446,0.0626118376,0.0105957667,0.0862970303,0.0471737795,0.0734848987,0.0615451766,0.0424828632,0.0846033362,0.0095060518,0.0917806987,0.0982740258,0.0271863182,0.090671088,0.0181379056,0.0309138186,0.0333952365,0.0701399041,0.075884054,0.0853118712,0.0846892992,0.0277914769,0.0641779281,0.023970084,0.0899158564,0.013783192,0.0843757865,0.0557999341,0.0168960669,0.0731632692,0.0229750424,0.0597243914,0.0367170651,0.0002910296,0.0622825374,0.0637270228,0.0234455166,0.0029940554,0.0034875356,0.0524759326,0.0077044028,0.0429254401,0.0638435041,0.0343714717,0.0782910807,0.0714252812,0.010911872,0.0123295543,0.0613925585,0.0102429512,0.0812717655,0.0130144966,0.0343929793,0.0793305146,0.0413230063,0.0387841002,0.0803446222,0.0082088789,0.0985379226,0.008831333,0.0655187887,0.0852802154,0.012083408,0.0829455714,0.0395148658,0.0512193299,0.0662600213,0.0470373625,0.0850663416,0.0196632527,0.049350228,0.0016719041,0.0006504515,0.0042909027,0.0243317073,0.0285201449,0.0784352962,0.069738289,0.0808311905,0.07958026,0.0506104806,0.0276264383,0.0452044542,0.0201598385,0.0116919964,0.0044323243,0.0783632756,0.0931618016,0.0640912305,0.0015863965,0.0556393468,0.0686213789,0.0939195744,0.0337251021,0.0960586108,0.0991157382,0.0261750375,0.0564736121,0.0366705507,0.0136281365,0.0649091244,0.0791939963,0.0971713255,0.0544748635,0.071030801,0.0913200817,0.0721484654,0.0071963544,0.0091071804,0.0896394658,0.0076399363,0.0337983337,0.0257653609,0.0246999881,0.0880119104,0.0780056476,0.0403329376,0.047147874,0.0250288838,0.0333107804,0.0928908907,0.0381552948,0.0382285158,0.0598850057,0.0682622369,0.0208260711,0.0747387795,0.0813188467,0.0583222949,0.0757494864,0.0157428949,0.0727399152,0.0699457654,0.0533921796,0.0753966234,0.0119400425,0.0826953665,0.0563737122,0.006347749,0.0149035979,0.0215069794,0.0324082788,0.0301702616,0.0339928242,0.0113602682,0.0709059381,0.0102958324,0.0176628567,0.058619626,0.0080978223,0.0382358331,0.0429176414,0.0141587546,0.0961002469,0.036154158,0.0557060225,0.0098862283,0.0135944381,0.0716485445,0.0975833971,0.0124080245,0.0457271818,0.0800691509,0.0801026356,0.0441762738,0.0083720424,0.0242661205,0.0172237888,0.067644411,0.0130263953,0.0118370525,0.0553315028]},{\"label\":\"config.epochs\",\"values\":[15,20,5,10,20,15,20,20,20,15,20,10,15,10,5,10,20,5,20,15,10,10,10,15,15,10,10,20,15,20,10,20,20,20,20,10,15,15,20,15,20,10,20,10,5,20,15,5,10,15,15,5,10,20,5,15,5,20,15,5,5,15,15,10,15,15,20,5,10,20,10,20,5,15,5,15,5,10,20,20,20,20,20,20,10,20,20,15,10,10,5,15,15,5,10,15,15,15,15,10,5,20,10,15,10,5,20,20,20,15,10,15,15,10,5,5,5,5,15,15,10,15,20,15,15,10,15,20,15,15,20,5,20,5,5,10,10,5,15,5,10,5,5,10,5,5,20,15,20,5,10,5,5,5,10,15,10,5,20,5,10,15,10,10,10,10,20,10,20,15,10,10,15,20,10,5,10,10,15,10,5,10,5,15,20,5,20,10,10,20,15,5,10,20,20,5,5,15,20,5,15,20,5,15,5,10,20,15,5,20,15,5,5,15,20,10,15,5,15,15,5,10,5,15,5,5,15,20,5,20,20,10,5,15,10,5,10,20,5,5,20,10,5,20,20,5,20,20,20,5,10,15,10,15,15,20,10,15,10,5,15,20,20,5,20,10,10,10,20,10,10,5,10,10,15,20,15,5,15,5,15,15,5,10,10,15,20,15,10,5,5,20,5,15,20,15,10,5,20,20,20,20,5,20,15,10,15,10,10,20,5,20,10,5,10,10,15,15,20,15,10,20,5,20,10,5,5,15,20,20,15,10,10,5,15,5,10,20,20,20]}],\"domain\":{\"x\":[0.0,1.0],\"y\":[0.0,1.0]},\"line\":{\"color\":[0.2498369386,0.6155214023,0.6114081614,0.4827170591,0.554696021,0.7411672424,0.3747630358,0.3108393714,0.3146362772,0.4877750151,0.2501408349,0.3101683189,0.2742970716,0.5994133534,0.3474555963,0.2577759315,0.3960009348,0.3442655908,0.5061861386,0.3141679752,0.2646015465,0.4982508245,0.4801554433,0.4971465183,0.3308548346,0.2263564047,0.4751141319,0.5226763548,0.5068682456,0.365208136,0.5051363015,0.3348477645,0.2577569724,0.3151445485,0.2886539426,0.6037164212,0.5028456908,0.4435044584,0.3255842794,0.2821407013,0.4296531226,0.6413760921,0.3581483989,0.2689920153,0.4347557145,0.3238384784,0.4799425648,0.5983101516,0.5586705389,0.337165571,0.4389041142,0.3251692092,0.7372673959,0.4461624751,0.5917213107,0.4493845505,0.2430362317,0.6089501089,0.4901772038,0.5888287615,0.3489099814,0.295765732,0.5232366607,0.4933864471,0.4458365713,0.475752042,0.2606001031,0.3412193453,0.5109790126,0.317019417,0.5804716415,0.319234373,0.2765985867,0.2922716627,0.6250242478,0.2652283615,0.338098329,0.25752859,0.4990625686,0.5196089267,0.3218554575,1.4531184194,0.6404730852,0.6395724543,0.3088793536,0.5860550447,0.3325134385,0.5260363944,0.282818434,0.4831364956,0.6433547161,0.3196738269,0.5606486744,0.7254336292,0.3320492937,0.3592997955,0.4909008817,0.4443006454,0.2880628745,0.4643087137,0.5644963828,0.3402291913,0.4665471868,0.34813978,1.9241322104,0.3767293902,0.3108917644,0.6754892858,0.3341165724,0.2572587168,0.3706540637,0.7331645241,1.4460582137,0.2669374882,0.3302461801,0.4833807834,0.2783803124,0.2691105643,2.2212340426,0.3498824134,0.4725829484,0.694810731,0.2607588692,0.3404027877,0.5292851941,0.2702383686,0.486690707,0.3234209471,0.3752566171,0.521361494,0.257600151,0.3333414949,0.3916878893,0.2353501861,0.3376935267,0.55773538,0.4960229086,0.4737171715,0.3438950888,0.3469154731,0.4375935008,0.3165008246,0.7555703673,0.2591737017,0.4612769628,0.3482811017,0.3594707157,0.324589261,0.3270757602,0.3368775654,0.4756990911,0.572921161,0.3496308014,0.3490438859,0.2589385712,0.2757877433,0.2989608955,0.4553630336,0.4438175055,0.3382892446,2.2776072621,0.3276979072,0.379479776,0.4605731314,0.441655158,0.5197569165,0.6607890215,0.5167200603,0.3340673595,0.3741778614,0.3727855846,0.2858665886,0.5971973114,0.3915117157,0.3395925679,0.4347459192,0.2542883968,0.5710809469,0.3688999275,0.2736708321,0.3308078264,0.2519657143,0.6225985374,0.4551009163,0.6291669724,0.503530535,0.4599858706,0.2558158652,0.530252275,0.4327318328,0.4660043715,0.5880279211,0.3285452383,0.6552709664,0.3333239577,0.3532557974,0.6517385695,0.2688104167,0.4406978604,0.3428199155,0.5368850865,2.2283713926,0.4842461316,0.2622696364,0.7494841668,1.0215914427,0.7276186632,0.3288204479,0.8058546414,0.5520592592,0.2613172156,0.3266422066,0.2631504637,0.4739747441,0.7079785783,0.3370866448,0.4539705309,0.5909099099,0.4692774746,0.5487076425,0.4620394464,0.2683263145,0.2316272067,0.3258403464,0.4596963547,0.512986301,0.2529085813,0.7396836439,0.4498311552,0.3158085502,0.6846204419,0.3284097142,0.4535838994,0.3272506857,0.2712720947,0.3513938342,0.3298397203,0.6438075237,0.2717982235,0.7646447733,2.0429932868,1.2180417814,0.6004514393,0.5270011217,0.2500332832,0.4949156433,0.2550846124,0.2578586989,0.2559368209,0.435923685,0.2485566276,0.4689972211,0.6707628677,0.4863741037,0.2516709582,0.2618917699,0.3199178379,2.1928622621,0.5395254743,0.2297835445,0.4988232309,0.4494249957,0.3344922605,0.3188772895,0.5629406353,0.3820262795,0.258026062,0.4767590444,0.507448801,0.2623938658,0.2995673538,0.5028717987,0.2619576461,0.3184958268,0.4805042842,0.8505935143,0.4617026454,0.2441117544,0.6585537138,0.4438108678,0.4989964937,0.4735005625,0.2673975868,0.3293138787,0.5701337897,0.2512607243,0.2691256002,0.5204681228,0.298470031,0.2278262347,0.622913242,0.4122324081,0.2483824697,0.5661094208,0.3202361987,0.3572810673,0.5494978266,0.252661928,0.6116902999,0.5111870705,0.3794523617,0.510888553,0.3285151133,0.70699566,0.3110241257,0.2541009091,0.4857519571,0.4823642517,0.3262157386,0.4697744732,0.5628953345,0.3352020451,0.4465731798,0.2534802941,0.5245571367,0.6100307804,0.4786703079,0.4532040587,0.5449745915,0.46504841,0.3723730016,0.3230813208,0.5419965152,0.2610499871,0.5362070281,0.3509236788,0.3520101857,0.4545950198,0.762082339,0.2757947868,0.2605955612,0.2384372858,0.3141233085,0.4441258938,0.3390369977,0.5335545044,0.2610768552,0.5345477263,0.5029062495,0.4173216022],\"coloraxis\":\"coloraxis\"},\"name\":\"\",\"type\":\"parcoords\"}],                        {\"template\":{\"data\":{\"histogram2dcontour\":[{\"type\":\"histogram2dcontour\",\"colorbar\":{\"outlinewidth\":0,\"ticks\":\"\"},\"colorscale\":[[0.0,\"#0d0887\"],[0.1111111111111111,\"#46039f\"],[0.2222222222222222,\"#7201a8\"],[0.3333333333333333,\"#9c179e\"],[0.4444444444444444,\"#bd3786\"],[0.5555555555555556,\"#d8576b\"],[0.6666666666666666,\"#ed7953\"],[0.7777777777777778,\"#fb9f3a\"],[0.8888888888888888,\"#fdca26\"],[1.0,\"#f0f921\"]]}],\"choropleth\":[{\"type\":\"choropleth\",\"colorbar\":{\"outlinewidth\":0,\"ticks\":\"\"}}],\"histogram2d\":[{\"type\":\"histogram2d\",\"colorbar\":{\"outlinewidth\":0,\"ticks\":\"\"},\"colorscale\":[[0.0,\"#0d0887\"],[0.1111111111111111,\"#46039f\"],[0.2222222222222222,\"#7201a8\"],[0.3333333333333333,\"#9c179e\"],[0.4444444444444444,\"#bd3786\"],[0.5555555555555556,\"#d8576b\"],[0.6666666666666666,\"#ed7953\"],[0.7777777777777778,\"#fb9f3a\"],[0.8888888888888888,\"#fdca26\"],[1.0,\"#f0f921\"]]}],\"heatmap\":[{\"type\":\"heatmap\",\"colorbar\":{\"outlinewidth\":0,\"ticks\":\"\"},\"colorscale\":[[0.0,\"#0d0887\"],[0.1111111111111111,\"#46039f\"],[0.2222222222222222,\"#7201a8\"],[0.3333333333333333,\"#9c179e\"],[0.4444444444444444,\"#bd3786\"],[0.5555555555555556,\"#d8576b\"],[0.6666666666666666,\"#ed7953\"],[0.7777777777777778,\"#fb9f3a\"],[0.8888888888888888,\"#fdca26\"],[1.0,\"#f0f921\"]]}],\"heatmapgl\":[{\"type\":\"heatmapgl\",\"colorbar\":{\"outlinewidth\":0,\"ticks\":\"\"},\"colorscale\":[[0.0,\"#0d0887\"],[0.1111111111111111,\"#46039f\"],[0.2222222222222222,\"#7201a8\"],[0.3333333333333333,\"#9c179e\"],[0.4444444444444444,\"#bd3786\"],[0.5555555555555556,\"#d8576b\"],[0.6666666666666666,\"#ed7953\"],[0.7777777777777778,\"#fb9f3a\"],[0.8888888888888888,\"#fdca26\"],[1.0,\"#f0f921\"]]}],\"contourcarpet\":[{\"type\":\"contourcarpet\",\"colorbar\":{\"outlinewidth\":0,\"ticks\":\"\"}}],\"contour\":[{\"type\":\"contour\",\"colorbar\":{\"outlinewidth\":0,\"ticks\":\"\"},\"colorscale\":[[0.0,\"#0d0887\"],[0.1111111111111111,\"#46039f\"],[0.2222222222222222,\"#7201a8\"],[0.3333333333333333,\"#9c179e\"],[0.4444444444444444,\"#bd3786\"],[0.5555555555555556,\"#d8576b\"],[0.6666666666666666,\"#ed7953\"],[0.7777777777777778,\"#fb9f3a\"],[0.8888888888888888,\"#fdca26\"],[1.0,\"#f0f921\"]]}],\"surface\":[{\"type\":\"surface\",\"colorbar\":{\"outlinewidth\":0,\"ticks\":\"\"},\"colorscale\":[[0.0,\"#0d0887\"],[0.1111111111111111,\"#46039f\"],[0.2222222222222222,\"#7201a8\"],[0.3333333333333333,\"#9c179e\"],[0.4444444444444444,\"#bd3786\"],[0.5555555555555556,\"#d8576b\"],[0.6666666666666666,\"#ed7953\"],[0.7777777777777778,\"#fb9f3a\"],[0.8888888888888888,\"#fdca26\"],[1.0,\"#f0f921\"]]}],\"mesh3d\":[{\"type\":\"mesh3d\",\"colorbar\":{\"outlinewidth\":0,\"ticks\":\"\"}}],\"scatter\":[{\"fillpattern\":{\"fillmode\":\"overlay\",\"size\":10,\"solidity\":0.2},\"type\":\"scatter\"}],\"parcoords\":[{\"type\":\"parcoords\",\"line\":{\"colorbar\":{\"outlinewidth\":0,\"ticks\":\"\"}}}],\"scatterpolargl\":[{\"type\":\"scatterpolargl\",\"marker\":{\"colorbar\":{\"outlinewidth\":0,\"ticks\":\"\"}}}],\"bar\":[{\"error_x\":{\"color\":\"#2a3f5f\"},\"error_y\":{\"color\":\"#2a3f5f\"},\"marker\":{\"line\":{\"color\":\"white\",\"width\":0.5},\"pattern\":{\"fillmode\":\"overlay\",\"size\":10,\"solidity\":0.2}},\"type\":\"bar\"}],\"scattergeo\":[{\"type\":\"scattergeo\",\"marker\":{\"colorbar\":{\"outlinewidth\":0,\"ticks\":\"\"}}}],\"scatterpolar\":[{\"type\":\"scatterpolar\",\"marker\":{\"colorbar\":{\"outlinewidth\":0,\"ticks\":\"\"}}}],\"histogram\":[{\"marker\":{\"pattern\":{\"fillmode\":\"overlay\",\"size\":10,\"solidity\":0.2}},\"type\":\"histogram\"}],\"scattergl\":[{\"type\":\"scattergl\",\"marker\":{\"colorbar\":{\"outlinewidth\":0,\"ticks\":\"\"}}}],\"scatter3d\":[{\"type\":\"scatter3d\",\"line\":{\"colorbar\":{\"outlinewidth\":0,\"ticks\":\"\"}},\"marker\":{\"colorbar\":{\"outlinewidth\":0,\"ticks\":\"\"}}}],\"scattermapbox\":[{\"type\":\"scattermapbox\",\"marker\":{\"colorbar\":{\"outlinewidth\":0,\"ticks\":\"\"}}}],\"scatterternary\":[{\"type\":\"scatterternary\",\"marker\":{\"colorbar\":{\"outlinewidth\":0,\"ticks\":\"\"}}}],\"scattercarpet\":[{\"type\":\"scattercarpet\",\"marker\":{\"colorbar\":{\"outlinewidth\":0,\"ticks\":\"\"}}}],\"carpet\":[{\"aaxis\":{\"endlinecolor\":\"#2a3f5f\",\"gridcolor\":\"#C8D4E3\",\"linecolor\":\"#C8D4E3\",\"minorgridcolor\":\"#C8D4E3\",\"startlinecolor\":\"#2a3f5f\"},\"baxis\":{\"endlinecolor\":\"#2a3f5f\",\"gridcolor\":\"#C8D4E3\",\"linecolor\":\"#C8D4E3\",\"minorgridcolor\":\"#C8D4E3\",\"startlinecolor\":\"#2a3f5f\"},\"type\":\"carpet\"}],\"table\":[{\"cells\":{\"fill\":{\"color\":\"#EBF0F8\"},\"line\":{\"color\":\"white\"}},\"header\":{\"fill\":{\"color\":\"#C8D4E3\"},\"line\":{\"color\":\"white\"}},\"type\":\"table\"}],\"barpolar\":[{\"marker\":{\"line\":{\"color\":\"white\",\"width\":0.5},\"pattern\":{\"fillmode\":\"overlay\",\"size\":10,\"solidity\":0.2}},\"type\":\"barpolar\"}],\"pie\":[{\"automargin\":true,\"type\":\"pie\"}]},\"layout\":{\"autotypenumbers\":\"strict\",\"colorway\":[\"#636efa\",\"#EF553B\",\"#00cc96\",\"#ab63fa\",\"#FFA15A\",\"#19d3f3\",\"#FF6692\",\"#B6E880\",\"#FF97FF\",\"#FECB52\"],\"font\":{\"color\":\"#2a3f5f\"},\"hovermode\":\"closest\",\"hoverlabel\":{\"align\":\"left\"},\"paper_bgcolor\":\"white\",\"plot_bgcolor\":\"white\",\"polar\":{\"bgcolor\":\"white\",\"angularaxis\":{\"gridcolor\":\"#EBF0F8\",\"linecolor\":\"#EBF0F8\",\"ticks\":\"\"},\"radialaxis\":{\"gridcolor\":\"#EBF0F8\",\"linecolor\":\"#EBF0F8\",\"ticks\":\"\"}},\"ternary\":{\"bgcolor\":\"white\",\"aaxis\":{\"gridcolor\":\"#DFE8F3\",\"linecolor\":\"#A2B1C6\",\"ticks\":\"\"},\"baxis\":{\"gridcolor\":\"#DFE8F3\",\"linecolor\":\"#A2B1C6\",\"ticks\":\"\"},\"caxis\":{\"gridcolor\":\"#DFE8F3\",\"linecolor\":\"#A2B1C6\",\"ticks\":\"\"}},\"coloraxis\":{\"colorbar\":{\"outlinewidth\":0,\"ticks\":\"\"}},\"colorscale\":{\"sequential\":[[0.0,\"#0d0887\"],[0.1111111111111111,\"#46039f\"],[0.2222222222222222,\"#7201a8\"],[0.3333333333333333,\"#9c179e\"],[0.4444444444444444,\"#bd3786\"],[0.5555555555555556,\"#d8576b\"],[0.6666666666666666,\"#ed7953\"],[0.7777777777777778,\"#fb9f3a\"],[0.8888888888888888,\"#fdca26\"],[1.0,\"#f0f921\"]],\"sequentialminus\":[[0.0,\"#0d0887\"],[0.1111111111111111,\"#46039f\"],[0.2222222222222222,\"#7201a8\"],[0.3333333333333333,\"#9c179e\"],[0.4444444444444444,\"#bd3786\"],[0.5555555555555556,\"#d8576b\"],[0.6666666666666666,\"#ed7953\"],[0.7777777777777778,\"#fb9f3a\"],[0.8888888888888888,\"#fdca26\"],[1.0,\"#f0f921\"]],\"diverging\":[[0,\"#8e0152\"],[0.1,\"#c51b7d\"],[0.2,\"#de77ae\"],[0.3,\"#f1b6da\"],[0.4,\"#fde0ef\"],[0.5,\"#f7f7f7\"],[0.6,\"#e6f5d0\"],[0.7,\"#b8e186\"],[0.8,\"#7fbc41\"],[0.9,\"#4d9221\"],[1,\"#276419\"]]},\"xaxis\":{\"gridcolor\":\"#EBF0F8\",\"linecolor\":\"#EBF0F8\",\"ticks\":\"\",\"title\":{\"standoff\":15},\"zerolinecolor\":\"#EBF0F8\",\"automargin\":true,\"zerolinewidth\":2},\"yaxis\":{\"gridcolor\":\"#EBF0F8\",\"linecolor\":\"#EBF0F8\",\"ticks\":\"\",\"title\":{\"standoff\":15},\"zerolinecolor\":\"#EBF0F8\",\"automargin\":true,\"zerolinewidth\":2},\"scene\":{\"xaxis\":{\"backgroundcolor\":\"white\",\"gridcolor\":\"#DFE8F3\",\"linecolor\":\"#EBF0F8\",\"showbackground\":true,\"ticks\":\"\",\"zerolinecolor\":\"#EBF0F8\",\"gridwidth\":2},\"yaxis\":{\"backgroundcolor\":\"white\",\"gridcolor\":\"#DFE8F3\",\"linecolor\":\"#EBF0F8\",\"showbackground\":true,\"ticks\":\"\",\"zerolinecolor\":\"#EBF0F8\",\"gridwidth\":2},\"zaxis\":{\"backgroundcolor\":\"white\",\"gridcolor\":\"#DFE8F3\",\"linecolor\":\"#EBF0F8\",\"showbackground\":true,\"ticks\":\"\",\"zerolinecolor\":\"#EBF0F8\",\"gridwidth\":2}},\"shapedefaults\":{\"line\":{\"color\":\"#2a3f5f\"}},\"annotationdefaults\":{\"arrowcolor\":\"#2a3f5f\",\"arrowhead\":0,\"arrowwidth\":1},\"geo\":{\"bgcolor\":\"white\",\"landcolor\":\"white\",\"subunitcolor\":\"#C8D4E3\",\"showland\":true,\"showlakes\":true,\"lakecolor\":\"white\"},\"title\":{\"x\":0.05},\"mapbox\":{\"style\":\"light\"}}},\"coloraxis\":{\"colorbar\":{\"title\":{\"text\":\"mean_val_loss\"}},\"colorscale\":[[0.0,\"#0d0887\"],[0.1111111111111111,\"#46039f\"],[0.2222222222222222,\"#7201a8\"],[0.3333333333333333,\"#9c179e\"],[0.4444444444444444,\"#bd3786\"],[0.5555555555555556,\"#d8576b\"],[0.6666666666666666,\"#ed7953\"],[0.7777777777777778,\"#fb9f3a\"],[0.8888888888888888,\"#fdca26\"],[1.0,\"#f0f921\"]]},\"legend\":{\"tracegroupgap\":0},\"title\":{\"text\":\"Hyperband Trial Configurations\"},\"width\":900},                        {\"responsive\": true}                    ).then(function(){\n",
       "                            \n",
       "var gd = document.getElementById('cd92d1e5-d092-4420-b09b-0b3cdf1a3fc7');\n",
       "var x = new MutationObserver(function (mutations, observer) {{\n",
       "        var display = window.getComputedStyle(gd).display;\n",
       "        if (!display || display === 'none') {{\n",
       "            console.log([gd, 'removed!']);\n",
       "            Plotly.purge(gd);\n",
       "            observer.disconnect();\n",
       "        }}\n",
       "}});\n",
       "\n",
       "// Listen for the removal of the full notebook cells\n",
       "var notebookContainer = gd.closest('#notebook-container');\n",
       "if (notebookContainer) {{\n",
       "    x.observe(notebookContainer, {childList: true});\n",
       "}}\n",
       "\n",
       "// Listen for the clearing of the current output cell\n",
       "var outputEl = gd.closest('.output');\n",
       "if (outputEl) {{\n",
       "    x.observe(outputEl, {childList: true});\n",
       "}}\n",
       "\n",
       "                        })                };                });            </script>        </div>"
      ]
     },
     "metadata": {},
     "output_type": "display_data"
    }
   ],
   "source": [
    "fig = px.parallel_coordinates(df_flat_e6, color=\"mean_val_loss\",\n",
    "                              title='Hyperband Trial Configurations',\n",
    "                              dimensions=['config.l1', 'config.batch_size', 'config.learning_rate',\n",
    "                                          'config.epochs'], width=900)\n",
    "fig.show()"
   ]
  },
  {
   "cell_type": "markdown",
   "metadata": {
    "slideshow": {
     "slide_type": "subslide"
    }
   },
   "source": [
    "**🧪Tested Configurations Overview**"
   ]
  },
  {
   "cell_type": "code",
   "execution_count": 86,
   "metadata": {},
   "outputs": [
    {
     "data": {
      "application/vnd.plotly.v1+json": {
       "config": {
        "plotlyServerURL": "https://plot.ly"
       },
       "data": [
        {
         "dimensions": [
          {
           "label": "config.l1",
           "values": [
            64,
            128,
            64,
            32,
            64,
            128,
            128,
            32,
            256,
            256,
            32,
            64,
            32,
            256,
            128,
            128,
            128,
            128,
            128,
            128,
            128,
            256,
            256,
            256,
            256,
            256,
            128,
            256,
            256,
            128,
            128,
            128,
            128,
            128,
            128,
            128,
            128,
            128,
            128,
            128,
            128,
            128,
            128,
            128,
            128,
            128,
            128,
            128,
            128,
            128,
            128,
            128,
            128,
            128,
            128,
            128,
            128,
            128,
            128,
            128,
            128,
            128,
            128,
            128,
            128,
            128,
            128,
            128
           ]
          },
          {
           "label": "config.batch_size",
           "values": [
            32,
            32,
            64,
            64,
            32,
            16,
            128,
            16,
            64,
            64,
            16,
            16,
            16,
            16,
            16,
            16,
            16,
            128,
            32,
            16,
            16,
            16,
            16,
            16,
            16,
            16,
            16,
            16,
            16,
            16,
            16,
            16,
            16,
            16,
            16,
            16,
            16,
            16,
            16,
            16,
            16,
            16,
            16,
            16,
            16,
            16,
            16,
            16,
            16,
            16,
            16,
            16,
            16,
            16,
            16,
            16,
            16,
            16,
            16,
            16,
            16,
            16,
            16,
            16,
            16,
            16,
            16,
            16
           ]
          },
          {
           "label": "config.learning_rate",
           "values": [
            0.0020267171913858,
            0.0042460264384107,
            0.0091190062338199,
            0.0087983746662586,
            0.0008604108932796,
            0.0058757550466916,
            0.0040452540324073,
            0.0074007213343218,
            0.0061725338435691,
            0.0022134305042847,
            0.0060245991488993,
            0.0070052699990416,
            0.0069340930443224,
            0.007053827130753,
            0.0052518328813461,
            0.0054444114985384,
            0.0046952327632715,
            0.0060187344770787,
            0.0060355496924363,
            0.0059207986836482,
            0.0055452492620175,
            0.0056093590115913,
            0.0056195455522566,
            0.0056279377918646,
            0.0056128458389919,
            0.0056136746251648,
            0.0055934751037174,
            0.0054685794161857,
            0.0054472144498442,
            0.0056183852057298,
            0.0056211445189121,
            0.0056086972002862,
            0.0056148225451044,
            0.0056168746427438,
            0.0055885724520805,
            0.0055886155287341,
            0.0055861166034488,
            0.0055810378608471,
            0.0055806796150877,
            0.0055806424559228,
            0.0055761264078075,
            0.0055736641129982,
            0.0055733815936447,
            0.005572328722712,
            0.0055721113750478,
            0.0055728024501086,
            0.0055749351839437,
            0.0055736203975948,
            0.0055758238141744,
            0.005576156629759,
            0.0055762155630217,
            0.0055692248579641,
            0.0055692342171442,
            0.0055692419054387,
            0.0055692501488447,
            0.005569260718168,
            0.0055745424085367,
            0.0055692577205658,
            0.0055724295224687,
            0.0055738716970605,
            0.0055730102652497,
            0.0055692612066661,
            0.0055724993213994,
            0.0055751900452327,
            0.005569224613715,
            0.0055693327193554,
            0.0055703568234373,
            0.0055719304950645
           ]
          },
          {
           "label": "config.epochs",
           "values": [
            15,
            20,
            10,
            10,
            15,
            15,
            5,
            15,
            10,
            10,
            20,
            15,
            15,
            15,
            20,
            20,
            20,
            20,
            20,
            20,
            20,
            20,
            20,
            20,
            20,
            20,
            20,
            20,
            20,
            20,
            20,
            20,
            20,
            20,
            20,
            20,
            20,
            20,
            20,
            20,
            20,
            20,
            20,
            20,
            20,
            20,
            20,
            20,
            20,
            20,
            20,
            20,
            20,
            20,
            20,
            20,
            20,
            20,
            20,
            20,
            20,
            20,
            20,
            20,
            20,
            20,
            20,
            20
           ]
          }
         ],
         "domain": {
          "x": [
           0,
           1
          ],
          "y": [
           0,
           1
          ]
         },
         "line": {
          "color": [
           0.5759122911492983,
           0.4060308618545532,
           0.5229699221452078,
           0.5139238899548848,
           0.6359753155708313,
           0.4059592525015275,
           0.7053824060774864,
           0.3962488727072875,
           0.508835744857788,
           0.6216636574268342,
           0.4073153241773446,
           0.396612810747077,
           0.397765070968618,
           0.4451770160446564,
           0.3822743198287984,
           0.3862112162917231,
           0.4027728214996556,
           0.5119527916007853,
           0.3930018369555473,
           0.3950286384100715,
           0.3629153377525508,
           0.3796329382223387,
           0.3784919671577711,
           0.3848528179302811,
           0.3813221715303759,
           0.4073553856089711,
           0.4213594609598319,
           0.3739684657690426,
           0.445630607051154,
           0.3829503740171591,
           0.3920247434924046,
           0.3807626577305297,
           0.3868233561863501,
           0.4212082803597053,
           0.3765010030294458,
           0.3919338686689734,
           0.3893654526720444,
           0.3870789432426293,
           0.4073000556528568,
           0.3897155545577407,
           0.3832026854753494,
           0.3833843208750089,
           0.3954179812831183,
           0.3733893982047836,
           0.384747428988417,
           0.365604064549009,
           0.3960490073685844,
           0.3867649559999506,
           0.391050850464652,
           0.3933003727433582,
           0.4109195106979459,
           0.3929389761102696,
           0.3992615298107266,
           0.3854302634236713,
           0.3936081617673238,
           0.3849343272137145,
           0.3988044996435443,
           0.4003712669610977,
           0.3611888510261973,
           0.3949066662788391,
           0.4008976735323667,
           0.3894583213900526,
           0.380981311969459,
           0.411746653497219,
           0.3753407923492292,
           0.382813313168784,
           0.3808969973735511,
           0.3775207393839955
          ],
          "coloraxis": "coloraxis"
         },
         "name": "",
         "type": "parcoords"
        }
       ],
       "layout": {
        "coloraxis": {
         "colorbar": {
          "title": {
           "text": "mean_val_loss"
          }
         },
         "colorscale": [
          [
           0,
           "#0d0887"
          ],
          [
           0.1111111111111111,
           "#46039f"
          ],
          [
           0.2222222222222222,
           "#7201a8"
          ],
          [
           0.3333333333333333,
           "#9c179e"
          ],
          [
           0.4444444444444444,
           "#bd3786"
          ],
          [
           0.5555555555555556,
           "#d8576b"
          ],
          [
           0.6666666666666666,
           "#ed7953"
          ],
          [
           0.7777777777777778,
           "#fb9f3a"
          ],
          [
           0.8888888888888888,
           "#fdca26"
          ],
          [
           1,
           "#f0f921"
          ]
         ]
        },
        "legend": {
         "tracegroupgap": 0
        },
        "template": {
         "data": {
          "bar": [
           {
            "error_x": {
             "color": "#2a3f5f"
            },
            "error_y": {
             "color": "#2a3f5f"
            },
            "marker": {
             "line": {
              "color": "white",
              "width": 0.5
             },
             "pattern": {
              "fillmode": "overlay",
              "size": 10,
              "solidity": 0.2
             }
            },
            "type": "bar"
           }
          ],
          "barpolar": [
           {
            "marker": {
             "line": {
              "color": "white",
              "width": 0.5
             },
             "pattern": {
              "fillmode": "overlay",
              "size": 10,
              "solidity": 0.2
             }
            },
            "type": "barpolar"
           }
          ],
          "carpet": [
           {
            "aaxis": {
             "endlinecolor": "#2a3f5f",
             "gridcolor": "#C8D4E3",
             "linecolor": "#C8D4E3",
             "minorgridcolor": "#C8D4E3",
             "startlinecolor": "#2a3f5f"
            },
            "baxis": {
             "endlinecolor": "#2a3f5f",
             "gridcolor": "#C8D4E3",
             "linecolor": "#C8D4E3",
             "minorgridcolor": "#C8D4E3",
             "startlinecolor": "#2a3f5f"
            },
            "type": "carpet"
           }
          ],
          "choropleth": [
           {
            "colorbar": {
             "outlinewidth": 0,
             "ticks": ""
            },
            "type": "choropleth"
           }
          ],
          "contour": [
           {
            "colorbar": {
             "outlinewidth": 0,
             "ticks": ""
            },
            "colorscale": [
             [
              0,
              "#0d0887"
             ],
             [
              0.1111111111111111,
              "#46039f"
             ],
             [
              0.2222222222222222,
              "#7201a8"
             ],
             [
              0.3333333333333333,
              "#9c179e"
             ],
             [
              0.4444444444444444,
              "#bd3786"
             ],
             [
              0.5555555555555556,
              "#d8576b"
             ],
             [
              0.6666666666666666,
              "#ed7953"
             ],
             [
              0.7777777777777778,
              "#fb9f3a"
             ],
             [
              0.8888888888888888,
              "#fdca26"
             ],
             [
              1,
              "#f0f921"
             ]
            ],
            "type": "contour"
           }
          ],
          "contourcarpet": [
           {
            "colorbar": {
             "outlinewidth": 0,
             "ticks": ""
            },
            "type": "contourcarpet"
           }
          ],
          "heatmap": [
           {
            "colorbar": {
             "outlinewidth": 0,
             "ticks": ""
            },
            "colorscale": [
             [
              0,
              "#0d0887"
             ],
             [
              0.1111111111111111,
              "#46039f"
             ],
             [
              0.2222222222222222,
              "#7201a8"
             ],
             [
              0.3333333333333333,
              "#9c179e"
             ],
             [
              0.4444444444444444,
              "#bd3786"
             ],
             [
              0.5555555555555556,
              "#d8576b"
             ],
             [
              0.6666666666666666,
              "#ed7953"
             ],
             [
              0.7777777777777778,
              "#fb9f3a"
             ],
             [
              0.8888888888888888,
              "#fdca26"
             ],
             [
              1,
              "#f0f921"
             ]
            ],
            "type": "heatmap"
           }
          ],
          "heatmapgl": [
           {
            "colorbar": {
             "outlinewidth": 0,
             "ticks": ""
            },
            "colorscale": [
             [
              0,
              "#0d0887"
             ],
             [
              0.1111111111111111,
              "#46039f"
             ],
             [
              0.2222222222222222,
              "#7201a8"
             ],
             [
              0.3333333333333333,
              "#9c179e"
             ],
             [
              0.4444444444444444,
              "#bd3786"
             ],
             [
              0.5555555555555556,
              "#d8576b"
             ],
             [
              0.6666666666666666,
              "#ed7953"
             ],
             [
              0.7777777777777778,
              "#fb9f3a"
             ],
             [
              0.8888888888888888,
              "#fdca26"
             ],
             [
              1,
              "#f0f921"
             ]
            ],
            "type": "heatmapgl"
           }
          ],
          "histogram": [
           {
            "marker": {
             "pattern": {
              "fillmode": "overlay",
              "size": 10,
              "solidity": 0.2
             }
            },
            "type": "histogram"
           }
          ],
          "histogram2d": [
           {
            "colorbar": {
             "outlinewidth": 0,
             "ticks": ""
            },
            "colorscale": [
             [
              0,
              "#0d0887"
             ],
             [
              0.1111111111111111,
              "#46039f"
             ],
             [
              0.2222222222222222,
              "#7201a8"
             ],
             [
              0.3333333333333333,
              "#9c179e"
             ],
             [
              0.4444444444444444,
              "#bd3786"
             ],
             [
              0.5555555555555556,
              "#d8576b"
             ],
             [
              0.6666666666666666,
              "#ed7953"
             ],
             [
              0.7777777777777778,
              "#fb9f3a"
             ],
             [
              0.8888888888888888,
              "#fdca26"
             ],
             [
              1,
              "#f0f921"
             ]
            ],
            "type": "histogram2d"
           }
          ],
          "histogram2dcontour": [
           {
            "colorbar": {
             "outlinewidth": 0,
             "ticks": ""
            },
            "colorscale": [
             [
              0,
              "#0d0887"
             ],
             [
              0.1111111111111111,
              "#46039f"
             ],
             [
              0.2222222222222222,
              "#7201a8"
             ],
             [
              0.3333333333333333,
              "#9c179e"
             ],
             [
              0.4444444444444444,
              "#bd3786"
             ],
             [
              0.5555555555555556,
              "#d8576b"
             ],
             [
              0.6666666666666666,
              "#ed7953"
             ],
             [
              0.7777777777777778,
              "#fb9f3a"
             ],
             [
              0.8888888888888888,
              "#fdca26"
             ],
             [
              1,
              "#f0f921"
             ]
            ],
            "type": "histogram2dcontour"
           }
          ],
          "mesh3d": [
           {
            "colorbar": {
             "outlinewidth": 0,
             "ticks": ""
            },
            "type": "mesh3d"
           }
          ],
          "parcoords": [
           {
            "line": {
             "colorbar": {
              "outlinewidth": 0,
              "ticks": ""
             }
            },
            "type": "parcoords"
           }
          ],
          "pie": [
           {
            "automargin": true,
            "type": "pie"
           }
          ],
          "scatter": [
           {
            "fillpattern": {
             "fillmode": "overlay",
             "size": 10,
             "solidity": 0.2
            },
            "type": "scatter"
           }
          ],
          "scatter3d": [
           {
            "line": {
             "colorbar": {
              "outlinewidth": 0,
              "ticks": ""
             }
            },
            "marker": {
             "colorbar": {
              "outlinewidth": 0,
              "ticks": ""
             }
            },
            "type": "scatter3d"
           }
          ],
          "scattercarpet": [
           {
            "marker": {
             "colorbar": {
              "outlinewidth": 0,
              "ticks": ""
             }
            },
            "type": "scattercarpet"
           }
          ],
          "scattergeo": [
           {
            "marker": {
             "colorbar": {
              "outlinewidth": 0,
              "ticks": ""
             }
            },
            "type": "scattergeo"
           }
          ],
          "scattergl": [
           {
            "marker": {
             "colorbar": {
              "outlinewidth": 0,
              "ticks": ""
             }
            },
            "type": "scattergl"
           }
          ],
          "scattermapbox": [
           {
            "marker": {
             "colorbar": {
              "outlinewidth": 0,
              "ticks": ""
             }
            },
            "type": "scattermapbox"
           }
          ],
          "scatterpolar": [
           {
            "marker": {
             "colorbar": {
              "outlinewidth": 0,
              "ticks": ""
             }
            },
            "type": "scatterpolar"
           }
          ],
          "scatterpolargl": [
           {
            "marker": {
             "colorbar": {
              "outlinewidth": 0,
              "ticks": ""
             }
            },
            "type": "scatterpolargl"
           }
          ],
          "scatterternary": [
           {
            "marker": {
             "colorbar": {
              "outlinewidth": 0,
              "ticks": ""
             }
            },
            "type": "scatterternary"
           }
          ],
          "surface": [
           {
            "colorbar": {
             "outlinewidth": 0,
             "ticks": ""
            },
            "colorscale": [
             [
              0,
              "#0d0887"
             ],
             [
              0.1111111111111111,
              "#46039f"
             ],
             [
              0.2222222222222222,
              "#7201a8"
             ],
             [
              0.3333333333333333,
              "#9c179e"
             ],
             [
              0.4444444444444444,
              "#bd3786"
             ],
             [
              0.5555555555555556,
              "#d8576b"
             ],
             [
              0.6666666666666666,
              "#ed7953"
             ],
             [
              0.7777777777777778,
              "#fb9f3a"
             ],
             [
              0.8888888888888888,
              "#fdca26"
             ],
             [
              1,
              "#f0f921"
             ]
            ],
            "type": "surface"
           }
          ],
          "table": [
           {
            "cells": {
             "fill": {
              "color": "#EBF0F8"
             },
             "line": {
              "color": "white"
             }
            },
            "header": {
             "fill": {
              "color": "#C8D4E3"
             },
             "line": {
              "color": "white"
             }
            },
            "type": "table"
           }
          ]
         },
         "layout": {
          "annotationdefaults": {
           "arrowcolor": "#2a3f5f",
           "arrowhead": 0,
           "arrowwidth": 1
          },
          "autotypenumbers": "strict",
          "coloraxis": {
           "colorbar": {
            "outlinewidth": 0,
            "ticks": ""
           }
          },
          "colorscale": {
           "diverging": [
            [
             0,
             "#8e0152"
            ],
            [
             0.1,
             "#c51b7d"
            ],
            [
             0.2,
             "#de77ae"
            ],
            [
             0.3,
             "#f1b6da"
            ],
            [
             0.4,
             "#fde0ef"
            ],
            [
             0.5,
             "#f7f7f7"
            ],
            [
             0.6,
             "#e6f5d0"
            ],
            [
             0.7,
             "#b8e186"
            ],
            [
             0.8,
             "#7fbc41"
            ],
            [
             0.9,
             "#4d9221"
            ],
            [
             1,
             "#276419"
            ]
           ],
           "sequential": [
            [
             0,
             "#0d0887"
            ],
            [
             0.1111111111111111,
             "#46039f"
            ],
            [
             0.2222222222222222,
             "#7201a8"
            ],
            [
             0.3333333333333333,
             "#9c179e"
            ],
            [
             0.4444444444444444,
             "#bd3786"
            ],
            [
             0.5555555555555556,
             "#d8576b"
            ],
            [
             0.6666666666666666,
             "#ed7953"
            ],
            [
             0.7777777777777778,
             "#fb9f3a"
            ],
            [
             0.8888888888888888,
             "#fdca26"
            ],
            [
             1,
             "#f0f921"
            ]
           ],
           "sequentialminus": [
            [
             0,
             "#0d0887"
            ],
            [
             0.1111111111111111,
             "#46039f"
            ],
            [
             0.2222222222222222,
             "#7201a8"
            ],
            [
             0.3333333333333333,
             "#9c179e"
            ],
            [
             0.4444444444444444,
             "#bd3786"
            ],
            [
             0.5555555555555556,
             "#d8576b"
            ],
            [
             0.6666666666666666,
             "#ed7953"
            ],
            [
             0.7777777777777778,
             "#fb9f3a"
            ],
            [
             0.8888888888888888,
             "#fdca26"
            ],
            [
             1,
             "#f0f921"
            ]
           ]
          },
          "colorway": [
           "#636efa",
           "#EF553B",
           "#00cc96",
           "#ab63fa",
           "#FFA15A",
           "#19d3f3",
           "#FF6692",
           "#B6E880",
           "#FF97FF",
           "#FECB52"
          ],
          "font": {
           "color": "#2a3f5f"
          },
          "geo": {
           "bgcolor": "white",
           "lakecolor": "white",
           "landcolor": "white",
           "showlakes": true,
           "showland": true,
           "subunitcolor": "#C8D4E3"
          },
          "hoverlabel": {
           "align": "left"
          },
          "hovermode": "closest",
          "mapbox": {
           "style": "light"
          },
          "paper_bgcolor": "white",
          "plot_bgcolor": "white",
          "polar": {
           "angularaxis": {
            "gridcolor": "#EBF0F8",
            "linecolor": "#EBF0F8",
            "ticks": ""
           },
           "bgcolor": "white",
           "radialaxis": {
            "gridcolor": "#EBF0F8",
            "linecolor": "#EBF0F8",
            "ticks": ""
           }
          },
          "scene": {
           "xaxis": {
            "backgroundcolor": "white",
            "gridcolor": "#DFE8F3",
            "gridwidth": 2,
            "linecolor": "#EBF0F8",
            "showbackground": true,
            "ticks": "",
            "zerolinecolor": "#EBF0F8"
           },
           "yaxis": {
            "backgroundcolor": "white",
            "gridcolor": "#DFE8F3",
            "gridwidth": 2,
            "linecolor": "#EBF0F8",
            "showbackground": true,
            "ticks": "",
            "zerolinecolor": "#EBF0F8"
           },
           "zaxis": {
            "backgroundcolor": "white",
            "gridcolor": "#DFE8F3",
            "gridwidth": 2,
            "linecolor": "#EBF0F8",
            "showbackground": true,
            "ticks": "",
            "zerolinecolor": "#EBF0F8"
           }
          },
          "shapedefaults": {
           "line": {
            "color": "#2a3f5f"
           }
          },
          "ternary": {
           "aaxis": {
            "gridcolor": "#DFE8F3",
            "linecolor": "#A2B1C6",
            "ticks": ""
           },
           "baxis": {
            "gridcolor": "#DFE8F3",
            "linecolor": "#A2B1C6",
            "ticks": ""
           },
           "bgcolor": "white",
           "caxis": {
            "gridcolor": "#DFE8F3",
            "linecolor": "#A2B1C6",
            "ticks": ""
           }
          },
          "title": {
           "x": 0.05
          },
          "xaxis": {
           "automargin": true,
           "gridcolor": "#EBF0F8",
           "linecolor": "#EBF0F8",
           "ticks": "",
           "title": {
            "standoff": 15
           },
           "zerolinecolor": "#EBF0F8",
           "zerolinewidth": 2
          },
          "yaxis": {
           "automargin": true,
           "gridcolor": "#EBF0F8",
           "linecolor": "#EBF0F8",
           "ticks": "",
           "title": {
            "standoff": 15
           },
           "zerolinecolor": "#EBF0F8",
           "zerolinewidth": 2
          }
         }
        },
        "title": {
         "text": "SMBO Trial Configurations"
        },
        "width": 900
       }
      },
      "text/html": [
       "<div>                            <div id=\"622421a3-8598-435a-adb2-51cdc2e4f038\" class=\"plotly-graph-div\" style=\"height:525px; width:900px;\"></div>            <script type=\"text/javascript\">                require([\"plotly\"], function(Plotly) {                    window.PLOTLYENV=window.PLOTLYENV || {};                                    if (document.getElementById(\"622421a3-8598-435a-adb2-51cdc2e4f038\")) {                    Plotly.newPlot(                        \"622421a3-8598-435a-adb2-51cdc2e4f038\",                        [{\"dimensions\":[{\"label\":\"config.l1\",\"values\":[64,128,64,32,64,128,128,32,256,256,32,64,32,256,128,128,128,128,128,128,128,256,256,256,256,256,128,256,256,128,128,128,128,128,128,128,128,128,128,128,128,128,128,128,128,128,128,128,128,128,128,128,128,128,128,128,128,128,128,128,128,128,128,128,128,128,128,128]},{\"label\":\"config.batch_size\",\"values\":[32,32,64,64,32,16,128,16,64,64,16,16,16,16,16,16,16,128,32,16,16,16,16,16,16,16,16,16,16,16,16,16,16,16,16,16,16,16,16,16,16,16,16,16,16,16,16,16,16,16,16,16,16,16,16,16,16,16,16,16,16,16,16,16,16,16,16,16]},{\"label\":\"config.learning_rate\",\"values\":[0.0020267171913858,0.0042460264384107,0.0091190062338199,0.0087983746662586,0.0008604108932796,0.0058757550466916,0.0040452540324073,0.0074007213343218,0.0061725338435691,0.0022134305042847,0.0060245991488993,0.0070052699990416,0.0069340930443224,0.007053827130753,0.0052518328813461,0.0054444114985384,0.0046952327632715,0.0060187344770787,0.0060355496924363,0.0059207986836482,0.0055452492620175,0.0056093590115913,0.0056195455522566,0.0056279377918646,0.0056128458389919,0.0056136746251648,0.0055934751037174,0.0054685794161857,0.0054472144498442,0.0056183852057298,0.0056211445189121,0.0056086972002862,0.0056148225451044,0.0056168746427438,0.0055885724520805,0.0055886155287341,0.0055861166034488,0.0055810378608471,0.0055806796150877,0.0055806424559228,0.0055761264078075,0.0055736641129982,0.0055733815936447,0.005572328722712,0.0055721113750478,0.0055728024501086,0.0055749351839437,0.0055736203975948,0.0055758238141744,0.005576156629759,0.0055762155630217,0.0055692248579641,0.0055692342171442,0.0055692419054387,0.0055692501488447,0.005569260718168,0.0055745424085367,0.0055692577205658,0.0055724295224687,0.0055738716970605,0.0055730102652497,0.0055692612066661,0.0055724993213994,0.0055751900452327,0.005569224613715,0.0055693327193554,0.0055703568234373,0.0055719304950645]},{\"label\":\"config.epochs\",\"values\":[15,20,10,10,15,15,5,15,10,10,20,15,15,15,20,20,20,20,20,20,20,20,20,20,20,20,20,20,20,20,20,20,20,20,20,20,20,20,20,20,20,20,20,20,20,20,20,20,20,20,20,20,20,20,20,20,20,20,20,20,20,20,20,20,20,20,20,20]}],\"domain\":{\"x\":[0.0,1.0],\"y\":[0.0,1.0]},\"line\":{\"color\":[0.5759122911492983,0.4060308618545532,0.5229699221452078,0.5139238899548848,0.6359753155708313,0.4059592525015275,0.7053824060774864,0.3962488727072875,0.508835744857788,0.6216636574268342,0.4073153241773446,0.396612810747077,0.397765070968618,0.4451770160446564,0.3822743198287984,0.3862112162917231,0.4027728214996556,0.5119527916007853,0.3930018369555473,0.3950286384100715,0.3629153377525508,0.3796329382223387,0.3784919671577711,0.3848528179302811,0.3813221715303759,0.4073553856089711,0.4213594609598319,0.3739684657690426,0.445630607051154,0.3829503740171591,0.3920247434924046,0.3807626577305297,0.3868233561863501,0.4212082803597053,0.3765010030294458,0.3919338686689734,0.3893654526720444,0.3870789432426293,0.4073000556528568,0.3897155545577407,0.3832026854753494,0.3833843208750089,0.3954179812831183,0.3733893982047836,0.384747428988417,0.365604064549009,0.3960490073685844,0.3867649559999506,0.391050850464652,0.3933003727433582,0.4109195106979459,0.3929389761102696,0.3992615298107266,0.3854302634236713,0.3936081617673238,0.3849343272137145,0.3988044996435443,0.4003712669610977,0.3611888510261973,0.3949066662788391,0.4008976735323667,0.3894583213900526,0.380981311969459,0.411746653497219,0.3753407923492292,0.382813313168784,0.3808969973735511,0.3775207393839955],\"coloraxis\":\"coloraxis\"},\"name\":\"\",\"type\":\"parcoords\"}],                        {\"template\":{\"data\":{\"histogram2dcontour\":[{\"type\":\"histogram2dcontour\",\"colorbar\":{\"outlinewidth\":0,\"ticks\":\"\"},\"colorscale\":[[0.0,\"#0d0887\"],[0.1111111111111111,\"#46039f\"],[0.2222222222222222,\"#7201a8\"],[0.3333333333333333,\"#9c179e\"],[0.4444444444444444,\"#bd3786\"],[0.5555555555555556,\"#d8576b\"],[0.6666666666666666,\"#ed7953\"],[0.7777777777777778,\"#fb9f3a\"],[0.8888888888888888,\"#fdca26\"],[1.0,\"#f0f921\"]]}],\"choropleth\":[{\"type\":\"choropleth\",\"colorbar\":{\"outlinewidth\":0,\"ticks\":\"\"}}],\"histogram2d\":[{\"type\":\"histogram2d\",\"colorbar\":{\"outlinewidth\":0,\"ticks\":\"\"},\"colorscale\":[[0.0,\"#0d0887\"],[0.1111111111111111,\"#46039f\"],[0.2222222222222222,\"#7201a8\"],[0.3333333333333333,\"#9c179e\"],[0.4444444444444444,\"#bd3786\"],[0.5555555555555556,\"#d8576b\"],[0.6666666666666666,\"#ed7953\"],[0.7777777777777778,\"#fb9f3a\"],[0.8888888888888888,\"#fdca26\"],[1.0,\"#f0f921\"]]}],\"heatmap\":[{\"type\":\"heatmap\",\"colorbar\":{\"outlinewidth\":0,\"ticks\":\"\"},\"colorscale\":[[0.0,\"#0d0887\"],[0.1111111111111111,\"#46039f\"],[0.2222222222222222,\"#7201a8\"],[0.3333333333333333,\"#9c179e\"],[0.4444444444444444,\"#bd3786\"],[0.5555555555555556,\"#d8576b\"],[0.6666666666666666,\"#ed7953\"],[0.7777777777777778,\"#fb9f3a\"],[0.8888888888888888,\"#fdca26\"],[1.0,\"#f0f921\"]]}],\"heatmapgl\":[{\"type\":\"heatmapgl\",\"colorbar\":{\"outlinewidth\":0,\"ticks\":\"\"},\"colorscale\":[[0.0,\"#0d0887\"],[0.1111111111111111,\"#46039f\"],[0.2222222222222222,\"#7201a8\"],[0.3333333333333333,\"#9c179e\"],[0.4444444444444444,\"#bd3786\"],[0.5555555555555556,\"#d8576b\"],[0.6666666666666666,\"#ed7953\"],[0.7777777777777778,\"#fb9f3a\"],[0.8888888888888888,\"#fdca26\"],[1.0,\"#f0f921\"]]}],\"contourcarpet\":[{\"type\":\"contourcarpet\",\"colorbar\":{\"outlinewidth\":0,\"ticks\":\"\"}}],\"contour\":[{\"type\":\"contour\",\"colorbar\":{\"outlinewidth\":0,\"ticks\":\"\"},\"colorscale\":[[0.0,\"#0d0887\"],[0.1111111111111111,\"#46039f\"],[0.2222222222222222,\"#7201a8\"],[0.3333333333333333,\"#9c179e\"],[0.4444444444444444,\"#bd3786\"],[0.5555555555555556,\"#d8576b\"],[0.6666666666666666,\"#ed7953\"],[0.7777777777777778,\"#fb9f3a\"],[0.8888888888888888,\"#fdca26\"],[1.0,\"#f0f921\"]]}],\"surface\":[{\"type\":\"surface\",\"colorbar\":{\"outlinewidth\":0,\"ticks\":\"\"},\"colorscale\":[[0.0,\"#0d0887\"],[0.1111111111111111,\"#46039f\"],[0.2222222222222222,\"#7201a8\"],[0.3333333333333333,\"#9c179e\"],[0.4444444444444444,\"#bd3786\"],[0.5555555555555556,\"#d8576b\"],[0.6666666666666666,\"#ed7953\"],[0.7777777777777778,\"#fb9f3a\"],[0.8888888888888888,\"#fdca26\"],[1.0,\"#f0f921\"]]}],\"mesh3d\":[{\"type\":\"mesh3d\",\"colorbar\":{\"outlinewidth\":0,\"ticks\":\"\"}}],\"scatter\":[{\"fillpattern\":{\"fillmode\":\"overlay\",\"size\":10,\"solidity\":0.2},\"type\":\"scatter\"}],\"parcoords\":[{\"type\":\"parcoords\",\"line\":{\"colorbar\":{\"outlinewidth\":0,\"ticks\":\"\"}}}],\"scatterpolargl\":[{\"type\":\"scatterpolargl\",\"marker\":{\"colorbar\":{\"outlinewidth\":0,\"ticks\":\"\"}}}],\"bar\":[{\"error_x\":{\"color\":\"#2a3f5f\"},\"error_y\":{\"color\":\"#2a3f5f\"},\"marker\":{\"line\":{\"color\":\"white\",\"width\":0.5},\"pattern\":{\"fillmode\":\"overlay\",\"size\":10,\"solidity\":0.2}},\"type\":\"bar\"}],\"scattergeo\":[{\"type\":\"scattergeo\",\"marker\":{\"colorbar\":{\"outlinewidth\":0,\"ticks\":\"\"}}}],\"scatterpolar\":[{\"type\":\"scatterpolar\",\"marker\":{\"colorbar\":{\"outlinewidth\":0,\"ticks\":\"\"}}}],\"histogram\":[{\"marker\":{\"pattern\":{\"fillmode\":\"overlay\",\"size\":10,\"solidity\":0.2}},\"type\":\"histogram\"}],\"scattergl\":[{\"type\":\"scattergl\",\"marker\":{\"colorbar\":{\"outlinewidth\":0,\"ticks\":\"\"}}}],\"scatter3d\":[{\"type\":\"scatter3d\",\"line\":{\"colorbar\":{\"outlinewidth\":0,\"ticks\":\"\"}},\"marker\":{\"colorbar\":{\"outlinewidth\":0,\"ticks\":\"\"}}}],\"scattermapbox\":[{\"type\":\"scattermapbox\",\"marker\":{\"colorbar\":{\"outlinewidth\":0,\"ticks\":\"\"}}}],\"scatterternary\":[{\"type\":\"scatterternary\",\"marker\":{\"colorbar\":{\"outlinewidth\":0,\"ticks\":\"\"}}}],\"scattercarpet\":[{\"type\":\"scattercarpet\",\"marker\":{\"colorbar\":{\"outlinewidth\":0,\"ticks\":\"\"}}}],\"carpet\":[{\"aaxis\":{\"endlinecolor\":\"#2a3f5f\",\"gridcolor\":\"#C8D4E3\",\"linecolor\":\"#C8D4E3\",\"minorgridcolor\":\"#C8D4E3\",\"startlinecolor\":\"#2a3f5f\"},\"baxis\":{\"endlinecolor\":\"#2a3f5f\",\"gridcolor\":\"#C8D4E3\",\"linecolor\":\"#C8D4E3\",\"minorgridcolor\":\"#C8D4E3\",\"startlinecolor\":\"#2a3f5f\"},\"type\":\"carpet\"}],\"table\":[{\"cells\":{\"fill\":{\"color\":\"#EBF0F8\"},\"line\":{\"color\":\"white\"}},\"header\":{\"fill\":{\"color\":\"#C8D4E3\"},\"line\":{\"color\":\"white\"}},\"type\":\"table\"}],\"barpolar\":[{\"marker\":{\"line\":{\"color\":\"white\",\"width\":0.5},\"pattern\":{\"fillmode\":\"overlay\",\"size\":10,\"solidity\":0.2}},\"type\":\"barpolar\"}],\"pie\":[{\"automargin\":true,\"type\":\"pie\"}]},\"layout\":{\"autotypenumbers\":\"strict\",\"colorway\":[\"#636efa\",\"#EF553B\",\"#00cc96\",\"#ab63fa\",\"#FFA15A\",\"#19d3f3\",\"#FF6692\",\"#B6E880\",\"#FF97FF\",\"#FECB52\"],\"font\":{\"color\":\"#2a3f5f\"},\"hovermode\":\"closest\",\"hoverlabel\":{\"align\":\"left\"},\"paper_bgcolor\":\"white\",\"plot_bgcolor\":\"white\",\"polar\":{\"bgcolor\":\"white\",\"angularaxis\":{\"gridcolor\":\"#EBF0F8\",\"linecolor\":\"#EBF0F8\",\"ticks\":\"\"},\"radialaxis\":{\"gridcolor\":\"#EBF0F8\",\"linecolor\":\"#EBF0F8\",\"ticks\":\"\"}},\"ternary\":{\"bgcolor\":\"white\",\"aaxis\":{\"gridcolor\":\"#DFE8F3\",\"linecolor\":\"#A2B1C6\",\"ticks\":\"\"},\"baxis\":{\"gridcolor\":\"#DFE8F3\",\"linecolor\":\"#A2B1C6\",\"ticks\":\"\"},\"caxis\":{\"gridcolor\":\"#DFE8F3\",\"linecolor\":\"#A2B1C6\",\"ticks\":\"\"}},\"coloraxis\":{\"colorbar\":{\"outlinewidth\":0,\"ticks\":\"\"}},\"colorscale\":{\"sequential\":[[0.0,\"#0d0887\"],[0.1111111111111111,\"#46039f\"],[0.2222222222222222,\"#7201a8\"],[0.3333333333333333,\"#9c179e\"],[0.4444444444444444,\"#bd3786\"],[0.5555555555555556,\"#d8576b\"],[0.6666666666666666,\"#ed7953\"],[0.7777777777777778,\"#fb9f3a\"],[0.8888888888888888,\"#fdca26\"],[1.0,\"#f0f921\"]],\"sequentialminus\":[[0.0,\"#0d0887\"],[0.1111111111111111,\"#46039f\"],[0.2222222222222222,\"#7201a8\"],[0.3333333333333333,\"#9c179e\"],[0.4444444444444444,\"#bd3786\"],[0.5555555555555556,\"#d8576b\"],[0.6666666666666666,\"#ed7953\"],[0.7777777777777778,\"#fb9f3a\"],[0.8888888888888888,\"#fdca26\"],[1.0,\"#f0f921\"]],\"diverging\":[[0,\"#8e0152\"],[0.1,\"#c51b7d\"],[0.2,\"#de77ae\"],[0.3,\"#f1b6da\"],[0.4,\"#fde0ef\"],[0.5,\"#f7f7f7\"],[0.6,\"#e6f5d0\"],[0.7,\"#b8e186\"],[0.8,\"#7fbc41\"],[0.9,\"#4d9221\"],[1,\"#276419\"]]},\"xaxis\":{\"gridcolor\":\"#EBF0F8\",\"linecolor\":\"#EBF0F8\",\"ticks\":\"\",\"title\":{\"standoff\":15},\"zerolinecolor\":\"#EBF0F8\",\"automargin\":true,\"zerolinewidth\":2},\"yaxis\":{\"gridcolor\":\"#EBF0F8\",\"linecolor\":\"#EBF0F8\",\"ticks\":\"\",\"title\":{\"standoff\":15},\"zerolinecolor\":\"#EBF0F8\",\"automargin\":true,\"zerolinewidth\":2},\"scene\":{\"xaxis\":{\"backgroundcolor\":\"white\",\"gridcolor\":\"#DFE8F3\",\"linecolor\":\"#EBF0F8\",\"showbackground\":true,\"ticks\":\"\",\"zerolinecolor\":\"#EBF0F8\",\"gridwidth\":2},\"yaxis\":{\"backgroundcolor\":\"white\",\"gridcolor\":\"#DFE8F3\",\"linecolor\":\"#EBF0F8\",\"showbackground\":true,\"ticks\":\"\",\"zerolinecolor\":\"#EBF0F8\",\"gridwidth\":2},\"zaxis\":{\"backgroundcolor\":\"white\",\"gridcolor\":\"#DFE8F3\",\"linecolor\":\"#EBF0F8\",\"showbackground\":true,\"ticks\":\"\",\"zerolinecolor\":\"#EBF0F8\",\"gridwidth\":2}},\"shapedefaults\":{\"line\":{\"color\":\"#2a3f5f\"}},\"annotationdefaults\":{\"arrowcolor\":\"#2a3f5f\",\"arrowhead\":0,\"arrowwidth\":1},\"geo\":{\"bgcolor\":\"white\",\"landcolor\":\"white\",\"subunitcolor\":\"#C8D4E3\",\"showland\":true,\"showlakes\":true,\"lakecolor\":\"white\"},\"title\":{\"x\":0.05},\"mapbox\":{\"style\":\"light\"}}},\"coloraxis\":{\"colorbar\":{\"title\":{\"text\":\"mean_val_loss\"}},\"colorscale\":[[0.0,\"#0d0887\"],[0.1111111111111111,\"#46039f\"],[0.2222222222222222,\"#7201a8\"],[0.3333333333333333,\"#9c179e\"],[0.4444444444444444,\"#bd3786\"],[0.5555555555555556,\"#d8576b\"],[0.6666666666666666,\"#ed7953\"],[0.7777777777777778,\"#fb9f3a\"],[0.8888888888888888,\"#fdca26\"],[1.0,\"#f0f921\"]]},\"legend\":{\"tracegroupgap\":0},\"title\":{\"text\":\"SMBO Trial Configurations\"},\"width\":900},                        {\"responsive\": true}                    ).then(function(){\n",
       "                            \n",
       "var gd = document.getElementById('622421a3-8598-435a-adb2-51cdc2e4f038');\n",
       "var x = new MutationObserver(function (mutations, observer) {{\n",
       "        var display = window.getComputedStyle(gd).display;\n",
       "        if (!display || display === 'none') {{\n",
       "            console.log([gd, 'removed!']);\n",
       "            Plotly.purge(gd);\n",
       "            observer.disconnect();\n",
       "        }}\n",
       "}});\n",
       "\n",
       "// Listen for the removal of the full notebook cells\n",
       "var notebookContainer = gd.closest('#notebook-container');\n",
       "if (notebookContainer) {{\n",
       "    x.observe(notebookContainer, {childList: true});\n",
       "}}\n",
       "\n",
       "// Listen for the clearing of the current output cell\n",
       "var outputEl = gd.closest('.output');\n",
       "if (outputEl) {{\n",
       "    x.observe(outputEl, {childList: true});\n",
       "}}\n",
       "\n",
       "                        })                };                });            </script>        </div>"
      ]
     },
     "metadata": {},
     "output_type": "display_data"
    }
   ],
   "source": [
    "fig = px.parallel_coordinates(df_flat_e8, color=\"mean_val_loss\",\n",
    "                              title='SMBO Trial Configurations',\n",
    "                              dimensions=['config.l1', 'config.batch_size', 'config.learning_rate',\n",
    "                                          'config.epochs'], width=900)\n",
    "fig.show()"
   ]
  }
 ],
 "metadata": {
  "kernelspec": {
   "display_name": ".env",
   "language": "python",
   "name": "python3"
  },
  "language_info": {
   "codemirror_mode": {
    "name": "ipython",
    "version": 3
   },
   "file_extension": ".py",
   "mimetype": "text/x-python",
   "name": "python",
   "nbconvert_exporter": "python",
   "pygments_lexer": "ipython3",
   "version": "3.10.10"
  },
  "orig_nbformat": 4
 },
 "nbformat": 4,
 "nbformat_minor": 2
}
