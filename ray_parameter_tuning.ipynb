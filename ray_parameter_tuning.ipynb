{
 "cells": [
  {
   "cell_type": "markdown",
   "metadata": {},
   "source": [
    "# RayTune - Epochs, Learning Rate, Batch Size Tuning"
   ]
  },
  {
   "cell_type": "markdown",
   "metadata": {},
   "source": [
    "## Imports"
   ]
  },
  {
   "cell_type": "code",
   "execution_count": 2,
   "metadata": {},
   "outputs": [],
   "source": [
    "from functools import partial\n",
    "import os\n",
    "import random \n",
    "\n",
    "import matplotlib.pyplot as plt\n",
    "import numpy as np\n",
    "\n",
    "import torch\n",
    "import torchvision\n",
    "import torchvision.transforms as transforms\n",
    "\n",
    "import torch.nn as nn\n",
    "import torch.nn.functional as F\n",
    "import torch.optim as optim\n",
    "\n",
    "from torch.utils.tensorboard import SummaryWriter\n",
    "from torch.utils.data import random_split\n",
    "\n",
    "from ray import tune\n",
    "from ray.air import Checkpoint, session\n",
    "from ray.tune.schedulers import ASHAScheduler\n",
    "from ray.tune.search.basic_variant import BasicVariantGenerator"
   ]
  },
  {
   "cell_type": "code",
   "execution_count": 3,
   "metadata": {},
   "outputs": [],
   "source": [
    "torch.manual_seed(40)\n",
    "random.seed(40)\n",
    "np.random.seed(40)"
   ]
  },
  {
   "cell_type": "markdown",
   "metadata": {},
   "source": [
    "## Run Tensorboard"
   ]
  },
  {
   "cell_type": "code",
   "execution_count": 4,
   "metadata": {},
   "outputs": [
    {
     "data": {
      "text/plain": [
       "Reusing TensorBoard on port 6006 (pid 39724), started 1 day, 10:44:02 ago. (Use '!kill 39724' to kill it.)"
      ]
     },
     "metadata": {},
     "output_type": "display_data"
    },
    {
     "data": {
      "text/html": [
       "\n",
       "      <iframe id=\"tensorboard-frame-94594d8b75673fca\" width=\"100%\" height=\"800\" frameborder=\"0\">\n",
       "      </iframe>\n",
       "      <script>\n",
       "        (function() {\n",
       "          const frame = document.getElementById(\"tensorboard-frame-94594d8b75673fca\");\n",
       "          const url = new URL(\"http://localhost\");\n",
       "          const port = 6006;\n",
       "          if (port) {\n",
       "            url.port = port;\n",
       "          }\n",
       "          frame.src = url;\n",
       "        })();\n",
       "      </script>\n",
       "    "
      ],
      "text/plain": [
       "<IPython.core.display.HTML object>"
      ]
     },
     "metadata": {},
     "output_type": "display_data"
    }
   ],
   "source": [
    "%load_ext tensorboard\n",
    "%tensorboard --logdir runs\n",
    "\n",
    "# !tensorboard --logdir=runs"
   ]
  },
  {
   "cell_type": "markdown",
   "metadata": {},
   "source": [
    "## Load Fashion MNIST Dataset"
   ]
  },
  {
   "cell_type": "code",
   "execution_count": 5,
   "metadata": {},
   "outputs": [],
   "source": [
    "def load_data(data_dir=\"./data\"):\n",
    "    # transforms\n",
    "    transform = transforms.Compose(\n",
    "        [transforms.ToTensor(),\n",
    "        transforms.Normalize((0.5,), (0.5,))])\n",
    "\n",
    "    # datasets\n",
    "    trainset = torchvision.datasets.FashionMNIST(data_dir,\n",
    "        download=True,\n",
    "        train=True,\n",
    "        transform=transform)\n",
    "    testset = torchvision.datasets.FashionMNIST(data_dir,\n",
    "        download=True,\n",
    "        train=False,\n",
    "        transform=transform)\n",
    "    return trainset, testset"
   ]
  },
  {
   "cell_type": "code",
   "execution_count": 6,
   "metadata": {},
   "outputs": [],
   "source": [
    "# Load the data outside the training function\n",
    "data_dir = \"./data\"\n",
    "trainset, testset = load_data(data_dir)\n",
    "\n",
    "# Split the training set into subsets\n",
    "test_abs = int(len(trainset) * 0.8)\n",
    "train_subset, val_subset = random_split(trainset, [test_abs, len(trainset) - test_abs])\n",
    "\n",
    "# Create data loaders for subsets\n",
    "trainloader = torch.utils.data.DataLoader(\n",
    "    train_subset, batch_size=64, shuffle=True, num_workers=2\n",
    ")\n",
    "valloader = torch.utils.data.DataLoader(\n",
    "    val_subset, batch_size=64, shuffle=True, num_workers=2\n",
    ")"
   ]
  },
  {
   "cell_type": "markdown",
   "metadata": {},
   "source": [
    "## CNN Model Setup"
   ]
  },
  {
   "cell_type": "code",
   "execution_count": 7,
   "metadata": {},
   "outputs": [],
   "source": [
    "class FashionCNN(nn.Module):\n",
    "    def __init__(self):\n",
    "        super(FashionCNN, self).__init__()\n",
    "        self.conv1 = nn.Conv2d(1, 32, 3, padding=1)\n",
    "        self.conv2 = nn.Conv2d(32, 64, 3, padding=1)\n",
    "        self.pool = nn.MaxPool2d(2, 2)\n",
    "        self.fc1 = nn.Linear(64 * 7 * 7, 128)\n",
    "        self.fc2 = nn.Linear(128, 10)\n",
    "\n",
    "    def forward(self, x):\n",
    "        x = self.pool(nn.functional.relu(self.conv1(x)))\n",
    "        x = self.pool(nn.functional.relu(self.conv2(x)))\n",
    "        x = x.view(-1, 64 * 7 * 7)\n",
    "        x = nn.functional.relu(self.fc1(x))\n",
    "        x = self.fc2(x)\n",
    "        return x"
   ]
  },
  {
   "cell_type": "markdown",
   "metadata": {},
   "source": [
    "## Training"
   ]
  },
  {
   "cell_type": "markdown",
   "metadata": {},
   "source": [
    "### Defining training function"
   ]
  },
  {
   "cell_type": "code",
   "execution_count": 8,
   "metadata": {},
   "outputs": [],
   "source": [
    "def train_fashion_mnist(config, trainloader, valloader):\n",
    "    net = FashionCNN() \n",
    "\n",
    "    device = \"cpu\"\n",
    "    if torch.cuda.is_available():\n",
    "        device = \"cuda:0\"\n",
    "        if torch.cuda.device_count() > 1:\n",
    "            net = nn.DataParallel(net)\n",
    "    net.to(device)\n",
    "\n",
    "    criterion = nn.CrossEntropyLoss()\n",
    "    optimizer = optim.SGD(net.parameters(), lr=config[\"learning_rate\"])\n",
    "\n",
    "    for epoch in range(config[\"epochs\"]):\n",
    "        running_loss = 0.0\n",
    "        epoch_steps = 0\n",
    "        for i, data in enumerate(trainloader, 0):\n",
    "            inputs, labels = data\n",
    "            inputs, labels = inputs.to(device), labels.to(device)\n",
    "\n",
    "            optimizer.zero_grad()\n",
    "\n",
    "            outputs = net(inputs)\n",
    "            loss = criterion(outputs, labels)\n",
    "            loss.backward()\n",
    "            optimizer.step()\n",
    "\n",
    "            running_loss += loss.item()\n",
    "            epoch_steps += 1\n",
    "\n",
    "            if i % 2000 == 1999:\n",
    "                print(\"[%d, %5d] loss: %.3f\" % (epoch + 1, i + 1, running_loss / epoch_steps))\n",
    "                running_loss = 0.0\n",
    "\n",
    "        val_loss = 0.0\n",
    "        val_steps = 0\n",
    "        total = 0\n",
    "        correct = 0\n",
    "        with torch.no_grad():\n",
    "            for data in valloader:\n",
    "                inputs, labels = data\n",
    "                inputs, labels = inputs.to(device), labels.to(device)\n",
    "\n",
    "                outputs = net(inputs)\n",
    "                _, predicted = torch.max(outputs.data, 1)\n",
    "                total += labels.size(0)\n",
    "                correct += (predicted == labels).sum().item()\n",
    "\n",
    "                loss = criterion(outputs, labels)\n",
    "                val_loss += loss.item()\n",
    "                val_steps += 1\n",
    "\n",
    "        tune.report(\n",
    "            mean_accuracy=correct / total,\n",
    "            mean_val_loss=val_loss / val_steps\n",
    "        )"
   ]
  },
  {
   "cell_type": "markdown",
   "metadata": {},
   "source": [
    "### Config for hyperparameter tuning"
   ]
  },
  {
   "cell_type": "code",
   "execution_count": 9,
   "metadata": {},
   "outputs": [],
   "source": [
    "# configuration for hyperparameter tuning \n",
    "config = {\n",
    "    \"epochs\": tune.choice([5, 10, 15]),\n",
    "    \"learning_rate\": tune.loguniform(1e-4, 1e-2), \n",
    "    \"batch_size\": tune.choice([16, 32, 64, 128])\n",
    "}"
   ]
  },
  {
   "cell_type": "markdown",
   "metadata": {},
   "source": [
    "### Defining basic experiment parameters"
   ]
  },
  {
   "cell_type": "code",
   "execution_count": 10,
   "metadata": {},
   "outputs": [],
   "source": [
    "max_num_epochs = 15\n",
    "num_samples = 20"
   ]
  },
  {
   "cell_type": "markdown",
   "metadata": {},
   "source": [
    "### Defining ASHA scheduler"
   ]
  },
  {
   "cell_type": "code",
   "execution_count": 11,
   "metadata": {},
   "outputs": [],
   "source": [
    "# scheduler for early stopping\n",
    "scheduler = ASHAScheduler(\n",
    "    metric=\"mean_val_loss\",\n",
    "    mode=\"min\",\n",
    "    max_t=max_num_epochs,\n",
    "    grace_period=1,\n",
    "    reduction_factor=2,\n",
    ")"
   ]
  },
  {
   "cell_type": "markdown",
   "metadata": {},
   "source": [
    "### Running Hyperparameter Tuning - Basic Version"
   ]
  },
  {
   "cell_type": "code",
   "execution_count": 8,
   "metadata": {},
   "outputs": [
    {
     "name": "stderr",
     "output_type": "stream",
     "text": [
      "2023-08-15 23:05:15,415\tINFO worker.py:1621 -- Started a local Ray instance.\n",
      "2023-08-15 23:05:19,540\tINFO tune.py:226 -- Initializing Ray automatically. For cluster usage or custom Ray initialization, call `ray.init(...)` before `tune.run(...)`.\n",
      "2023-08-15 23:05:19,544\tINFO tune.py:657 -- [output] This uses the legacy output and progress reporter, as Jupyter notebooks are not supported by the new engine, yet. For more information, please see https://github.com/ray-project/ray/issues/36949\n",
      "2023-08-15 23:05:19,546\tWARNING syncer.py:260 -- You are using remote storage, but you don't have `fsspec` installed. This can lead to inefficient syncing behavior. To avoid this, install fsspec with `pip install fsspec`. Depending on your remote storage provider, consider installing the respective fsspec-package (see https://github.com/fsspec).\n"
     ]
    },
    {
     "data": {
      "text/html": [
       "<div class=\"tuneStatus\">\n",
       "  <div style=\"display: flex;flex-direction: row\">\n",
       "    <div style=\"display: flex;flex-direction: column;\">\n",
       "      <h3>Tune Status</h3>\n",
       "      <table>\n",
       "<tbody>\n",
       "<tr><td>Current time:</td><td>2023-08-16 15:55:34</td></tr>\n",
       "<tr><td>Running for: </td><td>16:50:14.91        </td></tr>\n",
       "<tr><td>Memory:      </td><td>11.4/15.7 GiB      </td></tr>\n",
       "</tbody>\n",
       "</table>\n",
       "    </div>\n",
       "    <div class=\"vDivider\"></div>\n",
       "    <div class=\"systemInfo\">\n",
       "      <h3>System Info</h3>\n",
       "      Using FIFO scheduling algorithm.<br>Logical resource usage: 8.0/12 CPUs, 0/0 GPUs\n",
       "    </div>\n",
       "    \n",
       "  </div>\n",
       "  <div class=\"hDivider\"></div>\n",
       "  <div class=\"trialStatus\">\n",
       "    <h3>Trial Status</h3>\n",
       "    <table>\n",
       "<thead>\n",
       "<tr><th>Trial name                     </th><th>status    </th><th>loc           </th><th style=\"text-align: right;\">  batch_size</th><th style=\"text-align: right;\">  epochs</th><th style=\"text-align: right;\">  learning_rate</th><th style=\"text-align: right;\">     acc</th><th style=\"text-align: right;\">  iter</th><th style=\"text-align: right;\">  total time (s)</th><th style=\"text-align: right;\">  mean_val_loss</th></tr>\n",
       "</thead>\n",
       "<tbody>\n",
       "<tr><td>train_fashion_mnist_6bd66_00000</td><td>TERMINATED</td><td>127.0.0.1:9436</td><td style=\"text-align: right;\">          64</td><td style=\"text-align: right;\">      10</td><td style=\"text-align: right;\">    0.00243686 </td><td style=\"text-align: right;\">0.837833</td><td style=\"text-align: right;\">    10</td><td style=\"text-align: right;\">         693.586</td><td style=\"text-align: right;\">       0.453342</td></tr>\n",
       "<tr><td>train_fashion_mnist_6bd66_00001</td><td>TERMINATED</td><td>127.0.0.1:9436</td><td style=\"text-align: right;\">         128</td><td style=\"text-align: right;\">      10</td><td style=\"text-align: right;\">    0.000131615</td><td style=\"text-align: right;\">0.510083</td><td style=\"text-align: right;\">    10</td><td style=\"text-align: right;\">         886.625</td><td style=\"text-align: right;\">       2.17948 </td></tr>\n",
       "<tr><td>train_fashion_mnist_6bd66_00002</td><td>TERMINATED</td><td>127.0.0.1:9436</td><td style=\"text-align: right;\">          64</td><td style=\"text-align: right;\">      10</td><td style=\"text-align: right;\">    0.00699512 </td><td style=\"text-align: right;\">0.865917</td><td style=\"text-align: right;\">    10</td><td style=\"text-align: right;\">       31628.8  </td><td style=\"text-align: right;\">       0.367655</td></tr>\n",
       "<tr><td>train_fashion_mnist_6bd66_00003</td><td>TERMINATED</td><td>127.0.0.1:9436</td><td style=\"text-align: right;\">          32</td><td style=\"text-align: right;\">      15</td><td style=\"text-align: right;\">    0.000475096</td><td style=\"text-align: right;\">0.7825  </td><td style=\"text-align: right;\">    15</td><td style=\"text-align: right;\">        1606.65 </td><td style=\"text-align: right;\">       0.605706</td></tr>\n",
       "<tr><td>train_fashion_mnist_6bd66_00004</td><td>TERMINATED</td><td>127.0.0.1:9436</td><td style=\"text-align: right;\">          64</td><td style=\"text-align: right;\">      10</td><td style=\"text-align: right;\">    0.00289238 </td><td style=\"text-align: right;\">0.833667</td><td style=\"text-align: right;\">    10</td><td style=\"text-align: right;\">        1397.83 </td><td style=\"text-align: right;\">       0.448237</td></tr>\n",
       "<tr><td>train_fashion_mnist_6bd66_00005</td><td>TERMINATED</td><td>127.0.0.1:9436</td><td style=\"text-align: right;\">          16</td><td style=\"text-align: right;\">      15</td><td style=\"text-align: right;\">    0.000164914</td><td style=\"text-align: right;\">0.6705  </td><td style=\"text-align: right;\">    15</td><td style=\"text-align: right;\">        2196.61 </td><td style=\"text-align: right;\">       1.16143 </td></tr>\n",
       "<tr><td>train_fashion_mnist_6bd66_00006</td><td>TERMINATED</td><td>127.0.0.1:9436</td><td style=\"text-align: right;\">          64</td><td style=\"text-align: right;\">      10</td><td style=\"text-align: right;\">    0.000121523</td><td style=\"text-align: right;\">0.477167</td><td style=\"text-align: right;\">    10</td><td style=\"text-align: right;\">        1471.25 </td><td style=\"text-align: right;\">       2.16276 </td></tr>\n",
       "<tr><td>train_fashion_mnist_6bd66_00007</td><td>TERMINATED</td><td>127.0.0.1:9436</td><td style=\"text-align: right;\">          16</td><td style=\"text-align: right;\">      10</td><td style=\"text-align: right;\">    0.000435055</td><td style=\"text-align: right;\">0.756333</td><td style=\"text-align: right;\">    10</td><td style=\"text-align: right;\">        1376.24 </td><td style=\"text-align: right;\">       0.697447</td></tr>\n",
       "<tr><td>train_fashion_mnist_6bd66_00008</td><td>TERMINATED</td><td>127.0.0.1:9436</td><td style=\"text-align: right;\">          16</td><td style=\"text-align: right;\">      10</td><td style=\"text-align: right;\">    0.00356855 </td><td style=\"text-align: right;\">0.84175 </td><td style=\"text-align: right;\">    10</td><td style=\"text-align: right;\">        1409.65 </td><td style=\"text-align: right;\">       0.434199</td></tr>\n",
       "<tr><td>train_fashion_mnist_6bd66_00009</td><td>TERMINATED</td><td>127.0.0.1:9436</td><td style=\"text-align: right;\">         128</td><td style=\"text-align: right;\">       5</td><td style=\"text-align: right;\">    0.000220585</td><td style=\"text-align: right;\">0.563833</td><td style=\"text-align: right;\">     5</td><td style=\"text-align: right;\">         724.526</td><td style=\"text-align: right;\">       1.98157 </td></tr>\n",
       "<tr><td>train_fashion_mnist_6bd66_00010</td><td>TERMINATED</td><td>127.0.0.1:9436</td><td style=\"text-align: right;\">          16</td><td style=\"text-align: right;\">      15</td><td style=\"text-align: right;\">    0.00054965 </td><td style=\"text-align: right;\">0.794417</td><td style=\"text-align: right;\">    15</td><td style=\"text-align: right;\">        1505.07 </td><td style=\"text-align: right;\">       0.584014</td></tr>\n",
       "<tr><td>train_fashion_mnist_6bd66_00011</td><td>TERMINATED</td><td>127.0.0.1:9436</td><td style=\"text-align: right;\">          64</td><td style=\"text-align: right;\">      10</td><td style=\"text-align: right;\">    0.00121543 </td><td style=\"text-align: right;\">0.810667</td><td style=\"text-align: right;\">    10</td><td style=\"text-align: right;\">        1303.03 </td><td style=\"text-align: right;\">       0.528327</td></tr>\n",
       "<tr><td>train_fashion_mnist_6bd66_00012</td><td>TERMINATED</td><td>127.0.0.1:9436</td><td style=\"text-align: right;\">          32</td><td style=\"text-align: right;\">      15</td><td style=\"text-align: right;\">    0.000729985</td><td style=\"text-align: right;\">0.808833</td><td style=\"text-align: right;\">    15</td><td style=\"text-align: right;\">        6172.45 </td><td style=\"text-align: right;\">       0.542108</td></tr>\n",
       "<tr><td>train_fashion_mnist_6bd66_00013</td><td>TERMINATED</td><td>127.0.0.1:9436</td><td style=\"text-align: right;\">          32</td><td style=\"text-align: right;\">      15</td><td style=\"text-align: right;\">    0.000354025</td><td style=\"text-align: right;\">0.76575 </td><td style=\"text-align: right;\">    15</td><td style=\"text-align: right;\">        1159.62 </td><td style=\"text-align: right;\">       0.665732</td></tr>\n",
       "<tr><td>train_fashion_mnist_6bd66_00014</td><td>TERMINATED</td><td>127.0.0.1:9436</td><td style=\"text-align: right;\">          64</td><td style=\"text-align: right;\">       5</td><td style=\"text-align: right;\">    0.000345626</td><td style=\"text-align: right;\">0.588167</td><td style=\"text-align: right;\">     5</td><td style=\"text-align: right;\">         380.299</td><td style=\"text-align: right;\">       1.53201 </td></tr>\n",
       "<tr><td>train_fashion_mnist_6bd66_00015</td><td>TERMINATED</td><td>127.0.0.1:9436</td><td style=\"text-align: right;\">          32</td><td style=\"text-align: right;\">      15</td><td style=\"text-align: right;\">    0.00105974 </td><td style=\"text-align: right;\">0.820167</td><td style=\"text-align: right;\">    15</td><td style=\"text-align: right;\">        2258.01 </td><td style=\"text-align: right;\">       0.501873</td></tr>\n",
       "<tr><td>train_fashion_mnist_6bd66_00016</td><td>TERMINATED</td><td>127.0.0.1:9436</td><td style=\"text-align: right;\">          32</td><td style=\"text-align: right;\">      15</td><td style=\"text-align: right;\">    0.000466114</td><td style=\"text-align: right;\">0.782583</td><td style=\"text-align: right;\">    15</td><td style=\"text-align: right;\">        1104.42 </td><td style=\"text-align: right;\">       0.615545</td></tr>\n",
       "<tr><td>train_fashion_mnist_6bd66_00017</td><td>TERMINATED</td><td>127.0.0.1:9436</td><td style=\"text-align: right;\">          16</td><td style=\"text-align: right;\">      15</td><td style=\"text-align: right;\">    0.000337475</td><td style=\"text-align: right;\">0.752667</td><td style=\"text-align: right;\">    15</td><td style=\"text-align: right;\">        1147.93 </td><td style=\"text-align: right;\">       0.704589</td></tr>\n",
       "<tr><td>train_fashion_mnist_6bd66_00018</td><td>TERMINATED</td><td>127.0.0.1:9436</td><td style=\"text-align: right;\">          16</td><td style=\"text-align: right;\">      15</td><td style=\"text-align: right;\">    0.000384262</td><td style=\"text-align: right;\">0.764167</td><td style=\"text-align: right;\">    15</td><td style=\"text-align: right;\">        1420.54 </td><td style=\"text-align: right;\">       0.656178</td></tr>\n",
       "<tr><td>train_fashion_mnist_6bd66_00019</td><td>TERMINATED</td><td>127.0.0.1:9436</td><td style=\"text-align: right;\">          64</td><td style=\"text-align: right;\">      10</td><td style=\"text-align: right;\">    0.00019456 </td><td style=\"text-align: right;\">0.662167</td><td style=\"text-align: right;\">    10</td><td style=\"text-align: right;\">         750.519</td><td style=\"text-align: right;\">       1.33568 </td></tr>\n",
       "</tbody>\n",
       "</table>\n",
       "  </div>\n",
       "</div>\n",
       "<style>\n",
       ".tuneStatus {\n",
       "  color: var(--jp-ui-font-color1);\n",
       "}\n",
       ".tuneStatus .systemInfo {\n",
       "  display: flex;\n",
       "  flex-direction: column;\n",
       "}\n",
       ".tuneStatus td {\n",
       "  white-space: nowrap;\n",
       "}\n",
       ".tuneStatus .trialStatus {\n",
       "  display: flex;\n",
       "  flex-direction: column;\n",
       "}\n",
       ".tuneStatus h3 {\n",
       "  font-weight: bold;\n",
       "}\n",
       ".tuneStatus .hDivider {\n",
       "  border-bottom-width: var(--jp-border-width);\n",
       "  border-bottom-color: var(--jp-border-color0);\n",
       "  border-bottom-style: solid;\n",
       "}\n",
       ".tuneStatus .vDivider {\n",
       "  border-left-width: var(--jp-border-width);\n",
       "  border-left-color: var(--jp-border-color0);\n",
       "  border-left-style: solid;\n",
       "  margin: 0.5em 1em 0.5em 1em;\n",
       "}\n",
       "</style>\n"
      ],
      "text/plain": [
       "<IPython.core.display.HTML object>"
      ]
     },
     "metadata": {},
     "output_type": "display_data"
    },
    {
     "name": "stderr",
     "output_type": "stream",
     "text": [
      "2023-08-15 23:05:34,708\tWARNING worker.py:2006 -- Warning: The actor ImplicitFunc is very large (91 MiB). Check that its definition is not implicitly capturing a large array or other object in scope. Tip: use ray.put() to put large objects in the Ray object store.\n"
     ]
    },
    {
     "data": {
      "text/html": [
       "<div class=\"trialProgress\">\n",
       "  <h3>Trial Progress</h3>\n",
       "  <table>\n",
       "<thead>\n",
       "<tr><th>Trial name                     </th><th style=\"text-align: right;\">  mean_accuracy</th><th style=\"text-align: right;\">  mean_val_loss</th></tr>\n",
       "</thead>\n",
       "<tbody>\n",
       "<tr><td>train_fashion_mnist_6bd66_00000</td><td style=\"text-align: right;\">       0.837833</td><td style=\"text-align: right;\">       0.453342</td></tr>\n",
       "<tr><td>train_fashion_mnist_6bd66_00001</td><td style=\"text-align: right;\">       0.510083</td><td style=\"text-align: right;\">       2.17948 </td></tr>\n",
       "<tr><td>train_fashion_mnist_6bd66_00002</td><td style=\"text-align: right;\">       0.865917</td><td style=\"text-align: right;\">       0.367655</td></tr>\n",
       "<tr><td>train_fashion_mnist_6bd66_00003</td><td style=\"text-align: right;\">       0.7825  </td><td style=\"text-align: right;\">       0.605706</td></tr>\n",
       "<tr><td>train_fashion_mnist_6bd66_00004</td><td style=\"text-align: right;\">       0.833667</td><td style=\"text-align: right;\">       0.448237</td></tr>\n",
       "<tr><td>train_fashion_mnist_6bd66_00005</td><td style=\"text-align: right;\">       0.6705  </td><td style=\"text-align: right;\">       1.16143 </td></tr>\n",
       "<tr><td>train_fashion_mnist_6bd66_00006</td><td style=\"text-align: right;\">       0.477167</td><td style=\"text-align: right;\">       2.16276 </td></tr>\n",
       "<tr><td>train_fashion_mnist_6bd66_00007</td><td style=\"text-align: right;\">       0.756333</td><td style=\"text-align: right;\">       0.697447</td></tr>\n",
       "<tr><td>train_fashion_mnist_6bd66_00008</td><td style=\"text-align: right;\">       0.84175 </td><td style=\"text-align: right;\">       0.434199</td></tr>\n",
       "<tr><td>train_fashion_mnist_6bd66_00009</td><td style=\"text-align: right;\">       0.563833</td><td style=\"text-align: right;\">       1.98157 </td></tr>\n",
       "<tr><td>train_fashion_mnist_6bd66_00010</td><td style=\"text-align: right;\">       0.794417</td><td style=\"text-align: right;\">       0.584014</td></tr>\n",
       "<tr><td>train_fashion_mnist_6bd66_00011</td><td style=\"text-align: right;\">       0.810667</td><td style=\"text-align: right;\">       0.528327</td></tr>\n",
       "<tr><td>train_fashion_mnist_6bd66_00012</td><td style=\"text-align: right;\">       0.808833</td><td style=\"text-align: right;\">       0.542108</td></tr>\n",
       "<tr><td>train_fashion_mnist_6bd66_00013</td><td style=\"text-align: right;\">       0.76575 </td><td style=\"text-align: right;\">       0.665732</td></tr>\n",
       "<tr><td>train_fashion_mnist_6bd66_00014</td><td style=\"text-align: right;\">       0.588167</td><td style=\"text-align: right;\">       1.53201 </td></tr>\n",
       "<tr><td>train_fashion_mnist_6bd66_00015</td><td style=\"text-align: right;\">       0.820167</td><td style=\"text-align: right;\">       0.501873</td></tr>\n",
       "<tr><td>train_fashion_mnist_6bd66_00016</td><td style=\"text-align: right;\">       0.782583</td><td style=\"text-align: right;\">       0.615545</td></tr>\n",
       "<tr><td>train_fashion_mnist_6bd66_00017</td><td style=\"text-align: right;\">       0.752667</td><td style=\"text-align: right;\">       0.704589</td></tr>\n",
       "<tr><td>train_fashion_mnist_6bd66_00018</td><td style=\"text-align: right;\">       0.764167</td><td style=\"text-align: right;\">       0.656178</td></tr>\n",
       "<tr><td>train_fashion_mnist_6bd66_00019</td><td style=\"text-align: right;\">       0.662167</td><td style=\"text-align: right;\">       1.33568 </td></tr>\n",
       "</tbody>\n",
       "</table>\n",
       "</div>\n",
       "<style>\n",
       ".trialProgress {\n",
       "  display: flex;\n",
       "  flex-direction: column;\n",
       "  color: var(--jp-ui-font-color1);\n",
       "}\n",
       ".trialProgress h3 {\n",
       "  font-weight: bold;\n",
       "}\n",
       ".trialProgress td {\n",
       "  white-space: nowrap;\n",
       "}\n",
       "</style>\n"
      ],
      "text/plain": [
       "<IPython.core.display.HTML object>"
      ]
     },
     "metadata": {},
     "output_type": "display_data"
    },
    {
     "name": "stderr",
     "output_type": "stream",
     "text": [
      "2023-08-16 15:55:34,724\tINFO tune.py:1148 -- Total run time: 60615.18 seconds (60614.73 seconds for the tuning loop).\n"
     ]
    },
    {
     "name": "stdout",
     "output_type": "stream",
     "text": [
      "Best trial config: {'epochs': 10, 'learning_rate': 0.006995117888270908, 'batch_size': 64}\n",
      "Best trial metrics: {'mean_accuracy': {'max': 0.8659166666666667, 'min': 0.7673333333333333, 'avg': 0.8328249999999999, 'last': 0.8659166666666667, 'last-5-avg': 0.8576333333333335, 'last-10-avg': 0.832825}, 'mean_val_loss': {'max': 0.6570790953775669, 'min': 0.367654533858629, 'avg': 0.46445752327587997, 'last': 0.367654533858629, 'last-5-avg': 0.3921157313471145, 'last-10-avg': 0.46445752327588}, 'time_this_iter_s': {'max': 30485.775593280792, 'min': 82.62707567214966, 'avg': 3162.8791247129443, 'last': 30485.775593280792, 'last-5-avg': 6165.350281667709, 'last-10-avg': 3162.879124712944}, 'done': {'max': False, 'min': False, 'avg': 0.0, 'last': False, 'last-5-avg': 0.0, 'last-10-avg': 0.0}, 'training_iteration': {'max': 10, 'min': 1, 'avg': 5.5, 'last': 10, 'last-5-avg': 8.0, 'last-10-avg': 5.5}, 'time_total_s': {'max': 31628.79124712944, 'min': 92.33721613883972, 'avg': 3847.8442382335666, 'last': 31628.79124712944, 'last-5-avg': 7136.766574621201, 'last-10-avg': 3847.844238233566}, 'time_since_restore': {'max': 31628.79124712944, 'min': 92.33721613883972, 'avg': 3847.8442382335666, 'last': 31628.79124712944, 'last-5-avg': 7136.766574621201, 'last-10-avg': 3847.844238233566}, 'iterations_since_restore': {'max': 10, 'min': 1, 'avg': 5.5, 'last': 10, 'last-5-avg': 8.0, 'last-10-avg': 5.5}}\n"
     ]
    }
   ],
   "source": [
    "# run hyperparameter tuning\n",
    "result = tune.run(\n",
    "    partial(train_fashion_mnist, trainloader=trainloader, valloader=valloader),\n",
    "    resources_per_trial={\"cpu\": 8, \"gpu\": 0},\n",
    "    config=config,\n",
    "    num_samples=num_samples,\n",
    "    storage_path='./tune_runs/',\n",
    "    search_alg=BasicVariantGenerator(random_state=40))\n",
    "\n",
    "# Get the best trial\n",
    "best_trial = result.get_best_trial(\"mean_val_loss\", mode=\"min\")\n",
    "\n",
    "# Get the best configuration and other relevant information\n",
    "best_config = best_trial.config\n",
    "best_metrics = best_trial.metric_analysis\n",
    "\n",
    "print(\"Best trial config:\", best_config)\n",
    "print(\"Best trial metrics:\", best_metrics)"
   ]
  },
  {
   "cell_type": "markdown",
   "metadata": {},
   "source": [
    "### Training with 20 trials and ASHA scheduler"
   ]
  },
  {
   "cell_type": "code",
   "execution_count": null,
   "metadata": {},
   "outputs": [],
   "source": [
    "result2 = tune.run(\n",
    "    partial(train_fashion_mnist, trainloader=trainloader, valloader=valloader),\n",
    "    resources_per_trial={\"cpu\": 8, \"gpu\": 0},\n",
    "    config=config,\n",
    "    num_samples=num_samples,\n",
    "    storage_path='./tune_runs/',\n",
    "    search_alg=BasicVariantGenerator(random_state=40),\n",
    "    scheduler=scheduler\n",
    ")\n",
    "\n",
    "best_trial = result2.get_best_trial(\"mean_val_loss\", mode=\"min\")\n",
    "best_config = best_trial.config\n",
    "best_metrics = best_trial.metric_analysis\n",
    "\n",
    "print(\"Best trial config:\", best_config)\n",
    "print(\"Best trial metrics:\", best_metrics)"
   ]
  },
  {
   "cell_type": "markdown",
   "metadata": {},
   "source": [
    "### Training with 20 trials, ASHA scheduler and time stopper"
   ]
  },
  {
   "cell_type": "code",
   "execution_count": 11,
   "metadata": {},
   "outputs": [
    {
     "name": "stderr",
     "output_type": "stream",
     "text": [
      "2023-08-17 09:11:10,566\tINFO worker.py:1621 -- Started a local Ray instance.\n",
      "2023-08-17 09:11:15,078\tINFO tune.py:226 -- Initializing Ray automatically. For cluster usage or custom Ray initialization, call `ray.init(...)` before `tune.run(...)`.\n",
      "2023-08-17 09:11:15,081\tINFO tune.py:657 -- [output] This uses the legacy output and progress reporter, as Jupyter notebooks are not supported by the new engine, yet. For more information, please see https://github.com/ray-project/ray/issues/36949\n",
      "2023-08-17 09:11:15,081\tWARNING syncer.py:260 -- You are using remote storage, but you don't have `fsspec` installed. This can lead to inefficient syncing behavior. To avoid this, install fsspec with `pip install fsspec`. Depending on your remote storage provider, consider installing the respective fsspec-package (see https://github.com/fsspec).\n"
     ]
    },
    {
     "data": {
      "text/html": [
       "<div class=\"tuneStatus\">\n",
       "  <div style=\"display: flex;flex-direction: row\">\n",
       "    <div style=\"display: flex;flex-direction: column;\">\n",
       "      <h3>Tune Status</h3>\n",
       "      <table>\n",
       "<tbody>\n",
       "<tr><td>Current time:</td><td>2023-08-17 09:12:52</td></tr>\n",
       "<tr><td>Running for: </td><td>00:01:36.65        </td></tr>\n",
       "<tr><td>Memory:      </td><td>14.0/15.7 GiB      </td></tr>\n",
       "</tbody>\n",
       "</table>\n",
       "    </div>\n",
       "    <div class=\"vDivider\"></div>\n",
       "    <div class=\"systemInfo\">\n",
       "      <h3>System Info</h3>\n",
       "      Using AsyncHyperBand: num_stopped=0<br>Bracket: Iter 8.000: None | Iter 4.000: None | Iter 2.000: None | Iter 1.000: -1.039784792572894<br>Logical resource usage: 8.0/12 CPUs, 0/0 GPUs\n",
       "    </div>\n",
       "    \n",
       "  </div>\n",
       "  <div class=\"hDivider\"></div>\n",
       "  <div class=\"trialStatus\">\n",
       "    <h3>Trial Status</h3>\n",
       "    <table>\n",
       "<thead>\n",
       "<tr><th>Trial name                     </th><th>status  </th><th>loc            </th><th style=\"text-align: right;\">  batch_size</th><th style=\"text-align: right;\">  epochs</th><th style=\"text-align: right;\">  learning_rate</th><th style=\"text-align: right;\">   acc</th><th style=\"text-align: right;\">  iter</th><th style=\"text-align: right;\">  total time (s)</th><th style=\"text-align: right;\">  mean_val_loss</th></tr>\n",
       "</thead>\n",
       "<tbody>\n",
       "<tr><td>train_fashion_mnist_3b7e0_00000</td><td>RUNNING </td><td>127.0.0.1:41776</td><td style=\"text-align: right;\">          64</td><td style=\"text-align: right;\">      10</td><td style=\"text-align: right;\">    0.00243686 </td><td style=\"text-align: right;\">0.7015</td><td style=\"text-align: right;\">     1</td><td style=\"text-align: right;\">         65.9708</td><td style=\"text-align: right;\">        1.03978</td></tr>\n",
       "<tr><td>train_fashion_mnist_3b7e0_00001</td><td>PENDING </td><td>               </td><td style=\"text-align: right;\">         128</td><td style=\"text-align: right;\">      10</td><td style=\"text-align: right;\">    0.000131615</td><td style=\"text-align: right;\">      </td><td style=\"text-align: right;\">      </td><td style=\"text-align: right;\">                </td><td style=\"text-align: right;\">               </td></tr>\n",
       "<tr><td>train_fashion_mnist_3b7e0_00002</td><td>PENDING </td><td>               </td><td style=\"text-align: right;\">          64</td><td style=\"text-align: right;\">      10</td><td style=\"text-align: right;\">    0.00699512 </td><td style=\"text-align: right;\">      </td><td style=\"text-align: right;\">      </td><td style=\"text-align: right;\">                </td><td style=\"text-align: right;\">               </td></tr>\n",
       "<tr><td>train_fashion_mnist_3b7e0_00003</td><td>PENDING </td><td>               </td><td style=\"text-align: right;\">          32</td><td style=\"text-align: right;\">      15</td><td style=\"text-align: right;\">    0.000475096</td><td style=\"text-align: right;\">      </td><td style=\"text-align: right;\">      </td><td style=\"text-align: right;\">                </td><td style=\"text-align: right;\">               </td></tr>\n",
       "<tr><td>train_fashion_mnist_3b7e0_00004</td><td>PENDING </td><td>               </td><td style=\"text-align: right;\">          64</td><td style=\"text-align: right;\">      10</td><td style=\"text-align: right;\">    0.00289238 </td><td style=\"text-align: right;\">      </td><td style=\"text-align: right;\">      </td><td style=\"text-align: right;\">                </td><td style=\"text-align: right;\">               </td></tr>\n",
       "<tr><td>train_fashion_mnist_3b7e0_00005</td><td>PENDING </td><td>               </td><td style=\"text-align: right;\">          16</td><td style=\"text-align: right;\">      15</td><td style=\"text-align: right;\">    0.000164914</td><td style=\"text-align: right;\">      </td><td style=\"text-align: right;\">      </td><td style=\"text-align: right;\">                </td><td style=\"text-align: right;\">               </td></tr>\n",
       "<tr><td>train_fashion_mnist_3b7e0_00006</td><td>PENDING </td><td>               </td><td style=\"text-align: right;\">          64</td><td style=\"text-align: right;\">      10</td><td style=\"text-align: right;\">    0.000121523</td><td style=\"text-align: right;\">      </td><td style=\"text-align: right;\">      </td><td style=\"text-align: right;\">                </td><td style=\"text-align: right;\">               </td></tr>\n",
       "<tr><td>train_fashion_mnist_3b7e0_00007</td><td>PENDING </td><td>               </td><td style=\"text-align: right;\">          16</td><td style=\"text-align: right;\">      10</td><td style=\"text-align: right;\">    0.000435055</td><td style=\"text-align: right;\">      </td><td style=\"text-align: right;\">      </td><td style=\"text-align: right;\">                </td><td style=\"text-align: right;\">               </td></tr>\n",
       "<tr><td>train_fashion_mnist_3b7e0_00008</td><td>PENDING </td><td>               </td><td style=\"text-align: right;\">          16</td><td style=\"text-align: right;\">      10</td><td style=\"text-align: right;\">    0.00356855 </td><td style=\"text-align: right;\">      </td><td style=\"text-align: right;\">      </td><td style=\"text-align: right;\">                </td><td style=\"text-align: right;\">               </td></tr>\n",
       "<tr><td>train_fashion_mnist_3b7e0_00009</td><td>PENDING </td><td>               </td><td style=\"text-align: right;\">         128</td><td style=\"text-align: right;\">       5</td><td style=\"text-align: right;\">    0.000220585</td><td style=\"text-align: right;\">      </td><td style=\"text-align: right;\">      </td><td style=\"text-align: right;\">                </td><td style=\"text-align: right;\">               </td></tr>\n",
       "<tr><td>train_fashion_mnist_3b7e0_00010</td><td>PENDING </td><td>               </td><td style=\"text-align: right;\">          16</td><td style=\"text-align: right;\">      15</td><td style=\"text-align: right;\">    0.00054965 </td><td style=\"text-align: right;\">      </td><td style=\"text-align: right;\">      </td><td style=\"text-align: right;\">                </td><td style=\"text-align: right;\">               </td></tr>\n",
       "<tr><td>train_fashion_mnist_3b7e0_00011</td><td>PENDING </td><td>               </td><td style=\"text-align: right;\">          64</td><td style=\"text-align: right;\">      10</td><td style=\"text-align: right;\">    0.00121543 </td><td style=\"text-align: right;\">      </td><td style=\"text-align: right;\">      </td><td style=\"text-align: right;\">                </td><td style=\"text-align: right;\">               </td></tr>\n",
       "<tr><td>train_fashion_mnist_3b7e0_00012</td><td>PENDING </td><td>               </td><td style=\"text-align: right;\">          32</td><td style=\"text-align: right;\">      15</td><td style=\"text-align: right;\">    0.000729985</td><td style=\"text-align: right;\">      </td><td style=\"text-align: right;\">      </td><td style=\"text-align: right;\">                </td><td style=\"text-align: right;\">               </td></tr>\n",
       "<tr><td>train_fashion_mnist_3b7e0_00013</td><td>PENDING </td><td>               </td><td style=\"text-align: right;\">          32</td><td style=\"text-align: right;\">      15</td><td style=\"text-align: right;\">    0.000354025</td><td style=\"text-align: right;\">      </td><td style=\"text-align: right;\">      </td><td style=\"text-align: right;\">                </td><td style=\"text-align: right;\">               </td></tr>\n",
       "<tr><td>train_fashion_mnist_3b7e0_00014</td><td>PENDING </td><td>               </td><td style=\"text-align: right;\">          64</td><td style=\"text-align: right;\">       5</td><td style=\"text-align: right;\">    0.000345626</td><td style=\"text-align: right;\">      </td><td style=\"text-align: right;\">      </td><td style=\"text-align: right;\">                </td><td style=\"text-align: right;\">               </td></tr>\n",
       "<tr><td>train_fashion_mnist_3b7e0_00015</td><td>PENDING </td><td>               </td><td style=\"text-align: right;\">          32</td><td style=\"text-align: right;\">      15</td><td style=\"text-align: right;\">    0.00105974 </td><td style=\"text-align: right;\">      </td><td style=\"text-align: right;\">      </td><td style=\"text-align: right;\">                </td><td style=\"text-align: right;\">               </td></tr>\n",
       "<tr><td>train_fashion_mnist_3b7e0_00016</td><td>PENDING </td><td>               </td><td style=\"text-align: right;\">          32</td><td style=\"text-align: right;\">      15</td><td style=\"text-align: right;\">    0.000466114</td><td style=\"text-align: right;\">      </td><td style=\"text-align: right;\">      </td><td style=\"text-align: right;\">                </td><td style=\"text-align: right;\">               </td></tr>\n",
       "</tbody>\n",
       "</table>\n",
       "  </div>\n",
       "</div>\n",
       "<style>\n",
       ".tuneStatus {\n",
       "  color: var(--jp-ui-font-color1);\n",
       "}\n",
       ".tuneStatus .systemInfo {\n",
       "  display: flex;\n",
       "  flex-direction: column;\n",
       "}\n",
       ".tuneStatus td {\n",
       "  white-space: nowrap;\n",
       "}\n",
       ".tuneStatus .trialStatus {\n",
       "  display: flex;\n",
       "  flex-direction: column;\n",
       "}\n",
       ".tuneStatus h3 {\n",
       "  font-weight: bold;\n",
       "}\n",
       ".tuneStatus .hDivider {\n",
       "  border-bottom-width: var(--jp-border-width);\n",
       "  border-bottom-color: var(--jp-border-color0);\n",
       "  border-bottom-style: solid;\n",
       "}\n",
       ".tuneStatus .vDivider {\n",
       "  border-left-width: var(--jp-border-width);\n",
       "  border-left-color: var(--jp-border-color0);\n",
       "  border-left-style: solid;\n",
       "  margin: 0.5em 1em 0.5em 1em;\n",
       "}\n",
       "</style>\n"
      ],
      "text/plain": [
       "<IPython.core.display.HTML object>"
      ]
     },
     "metadata": {},
     "output_type": "display_data"
    },
    {
     "name": "stderr",
     "output_type": "stream",
     "text": [
      "2023-08-17 09:11:30,081\tWARNING worker.py:2006 -- Warning: The actor ImplicitFunc is very large (91 MiB). Check that its definition is not implicitly capturing a large array or other object in scope. Tip: use ray.put() to put large objects in the Ray object store.\n"
     ]
    },
    {
     "data": {
      "text/html": [
       "<div class=\"trialProgress\">\n",
       "  <h3>Trial Progress</h3>\n",
       "  <table>\n",
       "<thead>\n",
       "<tr><th>Trial name                     </th><th style=\"text-align: right;\">  mean_accuracy</th><th style=\"text-align: right;\">  mean_val_loss</th></tr>\n",
       "</thead>\n",
       "<tbody>\n",
       "<tr><td>train_fashion_mnist_3b7e0_00000</td><td style=\"text-align: right;\">         0.7015</td><td style=\"text-align: right;\">        1.03978</td></tr>\n",
       "</tbody>\n",
       "</table>\n",
       "</div>\n",
       "<style>\n",
       ".trialProgress {\n",
       "  display: flex;\n",
       "  flex-direction: column;\n",
       "  color: var(--jp-ui-font-color1);\n",
       "}\n",
       ".trialProgress h3 {\n",
       "  font-weight: bold;\n",
       "}\n",
       ".trialProgress td {\n",
       "  white-space: nowrap;\n",
       "}\n",
       "</style>\n"
      ],
      "text/plain": [
       "<IPython.core.display.HTML object>"
      ]
     },
     "metadata": {},
     "output_type": "display_data"
    },
    {
     "name": "stderr",
     "output_type": "stream",
     "text": [
      "2023-08-17 09:12:52,006\tWARNING tune.py:192 -- Stop signal received (e.g. via SIGINT/Ctrl+C), ending Ray Tune run. This will try to checkpoint the experiment state one last time. Press CTRL+C (or send SIGINT/SIGKILL/SIGTERM) to skip. \n",
      "2023-08-17 09:13:02,159\tINFO tune.py:1148 -- Total run time: 107.08 seconds (96.63 seconds for the tuning loop).\n",
      "2023-08-17 09:13:02,160\tWARNING tune.py:1163 -- Experiment has been interrupted, but the most recent state was saved.\n",
      "Resume experiment with: tune.run(..., resume=True)\n",
      "2023-08-17 09:13:02,389\tWARNING experiment_analysis.py:916 -- Failed to read the results for 16 trials:\n",
      "- C:\\Users\\ibele\\ray_results\\train_fashion_mnist_2023-08-17_09-11-15\\train_fashion_mnist_3b7e0_00001_1_batch_size=128,epochs=10,learning_rate=0.0001_2023-08-17_09-11-24\n",
      "- C:\\Users\\ibele\\ray_results\\train_fashion_mnist_2023-08-17_09-11-15\\train_fashion_mnist_3b7e0_00002_2_batch_size=64,epochs=10,learning_rate=0.0070_2023-08-17_09-11-24\n",
      "- C:\\Users\\ibele\\ray_results\\train_fashion_mnist_2023-08-17_09-11-15\\train_fashion_mnist_3b7e0_00003_3_batch_size=32,epochs=15,learning_rate=0.0005_2023-08-17_09-11-25\n",
      "- C:\\Users\\ibele\\ray_results\\train_fashion_mnist_2023-08-17_09-11-15\\train_fashion_mnist_3b7e0_00004_4_batch_size=64,epochs=10,learning_rate=0.0029_2023-08-17_09-11-25\n",
      "- C:\\Users\\ibele\\ray_results\\train_fashion_mnist_2023-08-17_09-11-15\\train_fashion_mnist_3b7e0_00005_5_batch_size=16,epochs=15,learning_rate=0.0002_2023-08-17_09-11-26\n",
      "- C:\\Users\\ibele\\ray_results\\train_fashion_mnist_2023-08-17_09-11-15\\train_fashion_mnist_3b7e0_00006_6_batch_size=64,epochs=10,learning_rate=0.0001_2023-08-17_09-11-26\n",
      "- C:\\Users\\ibele\\ray_results\\train_fashion_mnist_2023-08-17_09-11-15\\train_fashion_mnist_3b7e0_00007_7_batch_size=16,epochs=10,learning_rate=0.0004_2023-08-17_09-11-26\n",
      "- C:\\Users\\ibele\\ray_results\\train_fashion_mnist_2023-08-17_09-11-15\\train_fashion_mnist_3b7e0_00008_8_batch_size=16,epochs=10,learning_rate=0.0036_2023-08-17_09-11-27\n",
      "- C:\\Users\\ibele\\ray_results\\train_fashion_mnist_2023-08-17_09-11-15\\train_fashion_mnist_3b7e0_00009_9_batch_size=128,epochs=5,learning_rate=0.0002_2023-08-17_09-11-27\n",
      "- C:\\Users\\ibele\\ray_results\\train_fashion_mnist_2023-08-17_09-11-15\\train_fashion_mnist_3b7e0_00010_10_batch_size=16,epochs=15,learning_rate=0.0005_2023-08-17_09-11-27\n",
      "- C:\\Users\\ibele\\ray_results\\train_fashion_mnist_2023-08-17_09-11-15\\train_fashion_mnist_3b7e0_00011_11_batch_size=64,epochs=10,learning_rate=0.0012_2023-08-17_09-11-28\n",
      "- C:\\Users\\ibele\\ray_results\\train_fashion_mnist_2023-08-17_09-11-15\\train_fashion_mnist_3b7e0_00012_12_batch_size=32,epochs=15,learning_rate=0.0007_2023-08-17_09-11-28\n",
      "- C:\\Users\\ibele\\ray_results\\train_fashion_mnist_2023-08-17_09-11-15\\train_fashion_mnist_3b7e0_00013_13_batch_size=32,epochs=15,learning_rate=0.0004_2023-08-17_09-11-28\n",
      "- C:\\Users\\ibele\\ray_results\\train_fashion_mnist_2023-08-17_09-11-15\\train_fashion_mnist_3b7e0_00014_14_batch_size=64,epochs=5,learning_rate=0.0003_2023-08-17_09-11-29\n",
      "- C:\\Users\\ibele\\ray_results\\train_fashion_mnist_2023-08-17_09-11-15\\train_fashion_mnist_3b7e0_00015_15_batch_size=32,epochs=15,learning_rate=0.0011_2023-08-17_09-11-29\n",
      "- C:\\Users\\ibele\\ray_results\\train_fashion_mnist_2023-08-17_09-11-15\\train_fashion_mnist_3b7e0_00016_16_batch_size=32,epochs=15,learning_rate=0.0005_2023-08-17_09-11-35\n"
     ]
    },
    {
     "name": "stdout",
     "output_type": "stream",
     "text": [
      "Best trial config: {'epochs': 10, 'learning_rate': 0.002436856264971207, 'batch_size': 64}\n",
      "Best trial metrics: {'mean_accuracy': {'max': 0.7015, 'min': 0.7015, 'avg': 0.7015, 'last': 0.7015, 'last-5-avg': 0.7015, 'last-10-avg': 0.7015}, 'mean_val_loss': {'max': 1.039784792572894, 'min': 1.039784792572894, 'avg': 1.039784792572894, 'last': 1.039784792572894, 'last-5-avg': 1.039784792572894, 'last-10-avg': 1.039784792572894}, 'time_this_iter_s': {'max': 65.97083377838135, 'min': 65.97083377838135, 'avg': 65.97083377838135, 'last': 65.97083377838135, 'last-5-avg': 65.97083377838135, 'last-10-avg': 65.97083377838135}, 'done': {'max': False, 'min': False, 'avg': False, 'last': False, 'last-5-avg': False, 'last-10-avg': False}, 'training_iteration': {'max': 1, 'min': 1, 'avg': 1, 'last': 1, 'last-5-avg': 1, 'last-10-avg': 1}, 'time_total_s': {'max': 65.97083377838135, 'min': 65.97083377838135, 'avg': 65.97083377838135, 'last': 65.97083377838135, 'last-5-avg': 65.97083377838135, 'last-10-avg': 65.97083377838135}, 'time_since_restore': {'max': 65.97083377838135, 'min': 65.97083377838135, 'avg': 65.97083377838135, 'last': 65.97083377838135, 'last-5-avg': 65.97083377838135, 'last-10-avg': 65.97083377838135}, 'iterations_since_restore': {'max': 1, 'min': 1, 'avg': 1, 'last': 1, 'last-5-avg': 1, 'last-10-avg': 1}}\n"
     ]
    }
   ],
   "source": [
    "result3 = tune.run(\n",
    "    partial(train_fashion_mnist, trainloader=trainloader, valloader=valloader),\n",
    "    resources_per_trial={\"cpu\": 8, \"gpu\": 0},\n",
    "    config=config,\n",
    "    num_samples=num_samples,\n",
    "    storage_path='./tune_runs/',\n",
    "    search_alg=BasicVariantGenerator(random_state=40),\n",
    "    scheduler=scheduler,\n",
    "    time_budget_s=21600 # Total time budget in seconds (6 hours)\n",
    ")\n",
    "\n",
    "best_trial = result3.get_best_trial(\"mean_val_loss\", mode=\"min\")\n",
    "best_config = best_trial.config\n",
    "best_metrics = best_trial.metric_analysis\n",
    "\n",
    "print(\"Best trial config:\", best_config)\n",
    "print(\"Best trial metrics:\", best_metrics)"
   ]
  },
  {
   "cell_type": "markdown",
   "metadata": {},
   "source": [
    "### Training with ASHA scheduler and time stopper"
   ]
  },
  {
   "cell_type": "code",
   "execution_count": 12,
   "metadata": {},
   "outputs": [
    {
     "name": "stderr",
     "output_type": "stream",
     "text": [
      "2023-08-17 09:13:42,084\tINFO worker.py:1621 -- Started a local Ray instance.\n",
      "2023-08-17 09:13:46,219\tINFO tune.py:226 -- Initializing Ray automatically. For cluster usage or custom Ray initialization, call `ray.init(...)` before `tune.run(...)`.\n",
      "2023-08-17 09:13:46,221\tINFO tune.py:657 -- [output] This uses the legacy output and progress reporter, as Jupyter notebooks are not supported by the new engine, yet. For more information, please see https://github.com/ray-project/ray/issues/36949\n",
      "2023-08-17 09:13:46,222\tWARNING syncer.py:260 -- You are using remote storage, but you don't have `fsspec` installed. This can lead to inefficient syncing behavior. To avoid this, install fsspec with `pip install fsspec`. Depending on your remote storage provider, consider installing the respective fsspec-package (see https://github.com/fsspec).\n"
     ]
    },
    {
     "data": {
      "text/html": [
       "<div class=\"tuneStatus\">\n",
       "  <div style=\"display: flex;flex-direction: row\">\n",
       "    <div style=\"display: flex;flex-direction: column;\">\n",
       "      <h3>Tune Status</h3>\n",
       "      <table>\n",
       "<tbody>\n",
       "<tr><td>Current time:</td><td>2023-08-17 09:23:47</td></tr>\n",
       "<tr><td>Running for: </td><td>00:10:01.43        </td></tr>\n",
       "<tr><td>Memory:      </td><td>13.2/15.7 GiB      </td></tr>\n",
       "</tbody>\n",
       "</table>\n",
       "    </div>\n",
       "    <div class=\"vDivider\"></div>\n",
       "    <div class=\"systemInfo\">\n",
       "      <h3>System Info</h3>\n",
       "      Using AsyncHyperBand: num_stopped=0<br>Bracket: Iter 8.000: None | Iter 4.000: -0.586319439430186 | Iter 2.000: -0.6911022016342651 | Iter 1.000: -1.00255689754131<br>Logical resource usage: 8.0/12 CPUs, 0/0 GPUs\n",
       "    </div>\n",
       "    \n",
       "  </div>\n",
       "  <div class=\"hDivider\"></div>\n",
       "  <div class=\"trialStatus\">\n",
       "    <h3>Trial Status</h3>\n",
       "    <table>\n",
       "<thead>\n",
       "<tr><th>Trial name                     </th><th>status    </th><th>loc            </th><th style=\"text-align: right;\">  batch_size</th><th style=\"text-align: right;\">  epochs</th><th style=\"text-align: right;\">  learning_rate</th><th style=\"text-align: right;\">    acc</th><th style=\"text-align: right;\">  iter</th><th style=\"text-align: right;\">  total time (s)</th><th style=\"text-align: right;\">  mean_val_loss</th></tr>\n",
       "</thead>\n",
       "<tbody>\n",
       "<tr><td>train_fashion_mnist_963da_00000</td><td>TERMINATED</td><td>127.0.0.1:40032</td><td style=\"text-align: right;\">          64</td><td style=\"text-align: right;\">      10</td><td style=\"text-align: right;\">     0.00243686</td><td style=\"text-align: right;\">0.81425</td><td style=\"text-align: right;\">     7</td><td style=\"text-align: right;\">         514.925</td><td style=\"text-align: right;\">       0.512289</td></tr>\n",
       "</tbody>\n",
       "</table>\n",
       "  </div>\n",
       "</div>\n",
       "<style>\n",
       ".tuneStatus {\n",
       "  color: var(--jp-ui-font-color1);\n",
       "}\n",
       ".tuneStatus .systemInfo {\n",
       "  display: flex;\n",
       "  flex-direction: column;\n",
       "}\n",
       ".tuneStatus td {\n",
       "  white-space: nowrap;\n",
       "}\n",
       ".tuneStatus .trialStatus {\n",
       "  display: flex;\n",
       "  flex-direction: column;\n",
       "}\n",
       ".tuneStatus h3 {\n",
       "  font-weight: bold;\n",
       "}\n",
       ".tuneStatus .hDivider {\n",
       "  border-bottom-width: var(--jp-border-width);\n",
       "  border-bottom-color: var(--jp-border-color0);\n",
       "  border-bottom-style: solid;\n",
       "}\n",
       ".tuneStatus .vDivider {\n",
       "  border-left-width: var(--jp-border-width);\n",
       "  border-left-color: var(--jp-border-color0);\n",
       "  border-left-style: solid;\n",
       "  margin: 0.5em 1em 0.5em 1em;\n",
       "}\n",
       "</style>\n"
      ],
      "text/plain": [
       "<IPython.core.display.HTML object>"
      ]
     },
     "metadata": {},
     "output_type": "display_data"
    },
    {
     "name": "stderr",
     "output_type": "stream",
     "text": [
      "2023-08-17 09:13:47,668\tWARNING worker.py:2006 -- Warning: The actor ImplicitFunc is very large (45 MiB). Check that its definition is not implicitly capturing a large array or other object in scope. Tip: use ray.put() to put large objects in the Ray object store.\n"
     ]
    },
    {
     "data": {
      "text/html": [
       "<div class=\"trialProgress\">\n",
       "  <h3>Trial Progress</h3>\n",
       "  <table>\n",
       "<thead>\n",
       "<tr><th>Trial name                     </th><th style=\"text-align: right;\">  mean_accuracy</th><th style=\"text-align: right;\">  mean_val_loss</th></tr>\n",
       "</thead>\n",
       "<tbody>\n",
       "<tr><td>train_fashion_mnist_963da_00000</td><td style=\"text-align: right;\">        0.81425</td><td style=\"text-align: right;\">       0.512289</td></tr>\n",
       "</tbody>\n",
       "</table>\n",
       "</div>\n",
       "<style>\n",
       ".trialProgress {\n",
       "  display: flex;\n",
       "  flex-direction: column;\n",
       "  color: var(--jp-ui-font-color1);\n",
       "}\n",
       ".trialProgress h3 {\n",
       "  font-weight: bold;\n",
       "}\n",
       ".trialProgress td {\n",
       "  white-space: nowrap;\n",
       "}\n",
       "</style>\n"
      ],
      "text/plain": [
       "<IPython.core.display.HTML object>"
      ]
     },
     "metadata": {},
     "output_type": "display_data"
    },
    {
     "name": "stderr",
     "output_type": "stream",
     "text": [
      "2023-08-17 09:23:47,915\tINFO timeout.py:54 -- Reached timeout of 600 seconds. Stopping all trials.\n",
      "2023-08-17 09:23:51,447\tINFO tune.py:1148 -- Total run time: 605.23 seconds (601.41 seconds for the tuning loop).\n"
     ]
    },
    {
     "name": "stdout",
     "output_type": "stream",
     "text": [
      "Best trial config: {'epochs': 10, 'learning_rate': 0.002436856264971207, 'batch_size': 64}\n",
      "Best trial metrics: {'mean_accuracy': {'max': 0.81425, 'min': 0.7018333333333333, 'avg': 0.7789880952380953, 'last': 0.81425, 'last-5-avg': 0.7995666666666668, 'last-10-avg': 0.7789880952380954}, 'mean_val_loss': {'max': 1.00255689754131, 'min': 0.5122888692198916, 'avg': 0.6415388885104186, 'last': 0.5122888692198916, 'last-5-avg': 0.559422624079471, 'last-10-avg': 0.6415388885104186}, 'time_this_iter_s': {'max': 84.08389258384705, 'min': 61.38485527038574, 'avg': 73.56075232369558, 'last': 79.46110844612122, 'last-5-avg': 76.68750743865967, 'last-10-avg': 73.5607523236956}, 'done': {'max': False, 'min': False, 'avg': 0.0, 'last': False, 'last-5-avg': 0.0, 'last-10-avg': 0.0}, 'training_iteration': {'max': 7, 'min': 1, 'avg': 4.0, 'last': 7, 'last-5-avg': 5.0, 'last-10-avg': 4.0}, 'time_total_s': {'max': 514.9252662658691, 'min': 69.07238030433655, 'avg': 281.4378817762647, 'last': 514.9252662658691, 'last-5-avg': 353.90101261138915, 'last-10-avg': 281.43788177626476}, 'time_since_restore': {'max': 514.9252662658691, 'min': 69.07238030433655, 'avg': 281.4378817762647, 'last': 514.9252662658691, 'last-5-avg': 353.90101261138915, 'last-10-avg': 281.43788177626476}, 'iterations_since_restore': {'max': 7, 'min': 1, 'avg': 4.0, 'last': 7, 'last-5-avg': 5.0, 'last-10-avg': 4.0}}\n"
     ]
    }
   ],
   "source": [
    "result4 = tune.run(\n",
    "    partial(train_fashion_mnist, trainloader=trainloader, valloader=valloader),\n",
    "    resources_per_trial={\"cpu\": 8, \"gpu\": 0},\n",
    "    config=config,\n",
    "    storage_path='./tune_runs/',\n",
    "    search_alg=BasicVariantGenerator(random_state=40),\n",
    "    scheduler=scheduler,\n",
    "    time_budget_s=21600\n",
    ")\n",
    "\n",
    "best_trial = result4.get_best_trial(\"mean_val_loss\", mode=\"min\")\n",
    "best_config = best_trial.config\n",
    "best_metrics = best_trial.metric_analysis\n",
    "\n",
    "print(\"Best trial config:\", best_config)\n",
    "print(\"Best trial metrics:\", best_metrics)"
   ]
  },
  {
   "cell_type": "code",
   "execution_count": null,
   "metadata": {},
   "outputs": [],
   "source": []
  }
 ],
 "metadata": {
  "kernelspec": {
   "display_name": "tuning",
   "language": "python",
   "name": "python3"
  },
  "language_info": {
   "codemirror_mode": {
    "name": "ipython",
    "version": 3
   },
   "file_extension": ".py",
   "mimetype": "text/x-python",
   "name": "python",
   "nbconvert_exporter": "python",
   "pygments_lexer": "ipython3",
   "version": "3.8.17"
  },
  "orig_nbformat": 4
 },
 "nbformat": 4,
 "nbformat_minor": 2
}
